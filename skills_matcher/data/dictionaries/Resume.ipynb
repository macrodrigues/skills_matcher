{
 "cells": [
  {
   "cell_type": "code",
   "execution_count": 295,
   "id": "ef71c252-e426-42ad-b5d6-ca2e067c484f",
   "metadata": {},
   "outputs": [
    {
     "name": "stderr",
     "output_type": "stream",
     "text": [
      "[nltk_data] Downloading package stopwords to\n",
      "[nltk_data]     /home/lewagonlew/nltk_data...\n",
      "[nltk_data]   Package stopwords is already up-to-date!\n",
      "[nltk_data] Downloading package wordnet to\n",
      "[nltk_data]     /home/lewagonlew/nltk_data...\n",
      "[nltk_data]   Package wordnet is already up-to-date!\n"
     ]
    }
   ],
   "source": [
    "#spacy\n",
    "import spacy\n",
    "import en_core_web_lg\n",
    "from spacy.pipeline import EntityRuler\n",
    "from spacy.lang.en import English\n",
    "from spacy.tokens import Doc, Span\n",
    "from spacy.matcher import Matcher, PhraseMatcher \n",
    "from scripts.spacy_model import load_results_auto, load_results_manual\n",
    "\n",
    "#gensim\n",
    "import gensim\n",
    "from gensim import corpora\n",
    "\n",
    "#Visualization\n",
    "from spacy import displacy\n",
    "#import pyLDAvis.gensim_models\n",
    "from wordcloud import WordCloud\n",
    "import plotly.express as px\n",
    "import matplotlib.pyplot as plt\n",
    "import seaborn as sns\n",
    "\n",
    "#Data loading/ Data manipulation\n",
    "import pandas as pd\n",
    "import numpy as np\n",
    "import jsonlines\n",
    "import json\n",
    "import os\n",
    "import csv\n",
    "\n",
    "#nltk\n",
    "import re\n",
    "import nltk\n",
    "from nltk.corpus import stopwords\n",
    "from nltk.stem import WordNetLemmatizer\n",
    "nltk.download(['stopwords','wordnet'])\n",
    "\n",
    "import time\n",
    "#warning\n",
    "import warnings \n",
    "warnings.filterwarnings('ignore')"
   ]
  },
  {
   "cell_type": "code",
   "execution_count": 175,
   "id": "4b361940-4875-4817-8d1e-b082ac458f99",
   "metadata": {},
   "outputs": [
    {
     "data": {
      "text/plain": [
       "'/home/lewagonlew/code/marcorodrigues/skills_matcher/skills_matcher'"
      ]
     },
     "execution_count": 175,
     "metadata": {},
     "output_type": "execute_result"
    }
   ],
   "source": [
    "PATH = os.path.dirname(os.path.dirname(os.getcwd()))\n",
    "PATH"
   ]
  },
  {
   "cell_type": "code",
   "execution_count": 245,
   "id": "6554d3df-6ba4-4fa0-9c48-d41d5d497122",
   "metadata": {},
   "outputs": [
    {
     "data": {
      "text/plain": [
       "['entity_ruler']"
      ]
     },
     "execution_count": 245,
     "metadata": {},
     "output_type": "execute_result"
    }
   ],
   "source": [
    "nlp_ms = spacy.blank(\"en\")\n",
    "skill_pattern_path = PATH + \"/data/dictionaries/complete_dict.jsonl\"\n",
    "\n",
    "ruler = nlp_ms.add_pipe(\"entity_ruler\")\n",
    "ruler.from_disk(skill_pattern_path)\n",
    "nlp_ms.pipe_names"
   ]
  },
  {
   "cell_type": "code",
   "execution_count": 212,
   "id": "7ec749e9-6cc6-463b-bc31-95353e961447",
   "metadata": {},
   "outputs": [
    {
     "data": {
      "text/html": [
       "<div>\n",
       "<style scoped>\n",
       "    .dataframe tbody tr th:only-of-type {\n",
       "        vertical-align: middle;\n",
       "    }\n",
       "\n",
       "    .dataframe tbody tr th {\n",
       "        vertical-align: top;\n",
       "    }\n",
       "\n",
       "    .dataframe thead th {\n",
       "        text-align: right;\n",
       "    }\n",
       "</style>\n",
       "<table border=\"1\" class=\"dataframe\">\n",
       "  <thead>\n",
       "    <tr style=\"text-align: right;\">\n",
       "      <th></th>\n",
       "      <th>ID</th>\n",
       "      <th>Resume_str</th>\n",
       "      <th>Resume_html</th>\n",
       "      <th>Category</th>\n",
       "    </tr>\n",
       "  </thead>\n",
       "  <tbody>\n",
       "    <tr>\n",
       "      <th>0</th>\n",
       "      <td>16852973</td>\n",
       "      <td>HR ADMINISTRATOR/MARKETING ASSOCIATE\\...</td>\n",
       "      <td>&lt;div class=\"fontsize fontface vmargins hmargin...</td>\n",
       "      <td>HR</td>\n",
       "    </tr>\n",
       "    <tr>\n",
       "      <th>1</th>\n",
       "      <td>22323967</td>\n",
       "      <td>HR SPECIALIST, US HR OPERATIONS      ...</td>\n",
       "      <td>&lt;div class=\"fontsize fontface vmargins hmargin...</td>\n",
       "      <td>HR</td>\n",
       "    </tr>\n",
       "    <tr>\n",
       "      <th>2</th>\n",
       "      <td>33176873</td>\n",
       "      <td>HR DIRECTOR       Summary      Over 2...</td>\n",
       "      <td>&lt;div class=\"fontsize fontface vmargins hmargin...</td>\n",
       "      <td>HR</td>\n",
       "    </tr>\n",
       "    <tr>\n",
       "      <th>3</th>\n",
       "      <td>27018550</td>\n",
       "      <td>HR SPECIALIST       Summary    Dedica...</td>\n",
       "      <td>&lt;div class=\"fontsize fontface vmargins hmargin...</td>\n",
       "      <td>HR</td>\n",
       "    </tr>\n",
       "    <tr>\n",
       "      <th>4</th>\n",
       "      <td>17812897</td>\n",
       "      <td>HR MANAGER         Skill Highlights  ...</td>\n",
       "      <td>&lt;div class=\"fontsize fontface vmargins hmargin...</td>\n",
       "      <td>HR</td>\n",
       "    </tr>\n",
       "  </tbody>\n",
       "</table>\n",
       "</div>"
      ],
      "text/plain": [
       "         ID                                         Resume_str  \\\n",
       "0  16852973           HR ADMINISTRATOR/MARKETING ASSOCIATE\\...   \n",
       "1  22323967           HR SPECIALIST, US HR OPERATIONS      ...   \n",
       "2  33176873           HR DIRECTOR       Summary      Over 2...   \n",
       "3  27018550           HR SPECIALIST       Summary    Dedica...   \n",
       "4  17812897           HR MANAGER         Skill Highlights  ...   \n",
       "\n",
       "                                         Resume_html Category  \n",
       "0  <div class=\"fontsize fontface vmargins hmargin...       HR  \n",
       "1  <div class=\"fontsize fontface vmargins hmargin...       HR  \n",
       "2  <div class=\"fontsize fontface vmargins hmargin...       HR  \n",
       "3  <div class=\"fontsize fontface vmargins hmargin...       HR  \n",
       "4  <div class=\"fontsize fontface vmargins hmargin...       HR  "
      ]
     },
     "execution_count": 212,
     "metadata": {},
     "output_type": "execute_result"
    }
   ],
   "source": [
    "#resume data from kaggle - for tryout\n",
    "df = pd.read_csv(PATH + \"/data/Resume/Resume.csv\")\n"
   ]
  },
  {
   "cell_type": "code",
   "execution_count": 298,
   "id": "304d529e-2400-496d-9ba5-7a7271cbfb50",
   "metadata": {},
   "outputs": [
    {
     "data": {
      "text/plain": [
       "(400, 8)"
      ]
     },
     "execution_count": 298,
     "metadata": {},
     "output_type": "execute_result"
    }
   ],
   "source": [
    "df.shape"
   ]
  },
  {
   "cell_type": "code",
   "execution_count": 213,
   "id": "a043c39f-aa3d-460e-b266-094b59b30cf1",
   "metadata": {},
   "outputs": [
    {
     "data": {
      "application/vnd.plotly.v1+json": {
       "config": {
        "plotlyServerURL": "https://plot.ly"
       },
       "data": [
        {
         "alignmentgroup": "True",
         "bingroup": "x",
         "hovertemplate": "Category=%{x}<br>count=%{y}<extra></extra>",
         "legendgroup": "",
         "marker": {
          "color": "#636efa",
          "pattern": {
           "shape": ""
          }
         },
         "name": "",
         "offsetgroup": "",
         "orientation": "v",
         "showlegend": false,
         "type": "histogram",
         "x": [
          "HR",
          "HR",
          "HR",
          "HR",
          "HR",
          "HR",
          "HR",
          "HR",
          "HR",
          "HR",
          "HR",
          "HR",
          "HR",
          "HR",
          "HR",
          "HR",
          "HR",
          "HR",
          "HR",
          "HR",
          "HR",
          "HR",
          "HR",
          "HR",
          "HR",
          "HR",
          "HR",
          "HR",
          "HR",
          "HR",
          "HR",
          "HR",
          "HR",
          "HR",
          "HR",
          "HR",
          "HR",
          "HR",
          "HR",
          "HR",
          "HR",
          "HR",
          "HR",
          "HR",
          "HR",
          "HR",
          "HR",
          "HR",
          "HR",
          "HR",
          "HR",
          "HR",
          "HR",
          "HR",
          "HR",
          "HR",
          "HR",
          "HR",
          "HR",
          "HR",
          "HR",
          "HR",
          "HR",
          "HR",
          "HR",
          "HR",
          "HR",
          "HR",
          "HR",
          "HR",
          "HR",
          "HR",
          "HR",
          "HR",
          "HR",
          "HR",
          "HR",
          "HR",
          "HR",
          "HR",
          "HR",
          "HR",
          "HR",
          "HR",
          "HR",
          "HR",
          "HR",
          "HR",
          "HR",
          "HR",
          "HR",
          "HR",
          "HR",
          "HR",
          "HR",
          "HR",
          "HR",
          "HR",
          "HR",
          "HR",
          "HR",
          "HR",
          "HR",
          "HR",
          "HR",
          "HR",
          "HR",
          "HR",
          "HR",
          "HR",
          "DESIGNER",
          "DESIGNER",
          "DESIGNER",
          "DESIGNER",
          "DESIGNER",
          "DESIGNER",
          "DESIGNER",
          "DESIGNER",
          "DESIGNER",
          "DESIGNER",
          "DESIGNER",
          "DESIGNER",
          "DESIGNER",
          "DESIGNER",
          "DESIGNER",
          "DESIGNER",
          "DESIGNER",
          "DESIGNER",
          "DESIGNER",
          "DESIGNER",
          "DESIGNER",
          "DESIGNER",
          "DESIGNER",
          "DESIGNER",
          "DESIGNER",
          "DESIGNER",
          "DESIGNER",
          "DESIGNER",
          "DESIGNER",
          "DESIGNER",
          "DESIGNER",
          "DESIGNER",
          "DESIGNER",
          "DESIGNER",
          "DESIGNER",
          "DESIGNER",
          "DESIGNER",
          "DESIGNER",
          "DESIGNER",
          "DESIGNER",
          "DESIGNER",
          "DESIGNER",
          "DESIGNER",
          "DESIGNER",
          "DESIGNER",
          "DESIGNER",
          "DESIGNER",
          "DESIGNER",
          "DESIGNER",
          "DESIGNER",
          "DESIGNER",
          "DESIGNER",
          "DESIGNER",
          "DESIGNER",
          "DESIGNER",
          "DESIGNER",
          "DESIGNER",
          "DESIGNER",
          "DESIGNER",
          "DESIGNER",
          "DESIGNER",
          "DESIGNER",
          "DESIGNER",
          "DESIGNER",
          "DESIGNER",
          "DESIGNER",
          "DESIGNER",
          "DESIGNER",
          "DESIGNER",
          "DESIGNER",
          "DESIGNER",
          "DESIGNER",
          "DESIGNER",
          "DESIGNER",
          "DESIGNER",
          "DESIGNER",
          "DESIGNER",
          "DESIGNER",
          "DESIGNER",
          "DESIGNER",
          "DESIGNER",
          "DESIGNER",
          "DESIGNER",
          "DESIGNER",
          "DESIGNER",
          "DESIGNER",
          "DESIGNER",
          "DESIGNER",
          "DESIGNER",
          "DESIGNER",
          "DESIGNER",
          "DESIGNER",
          "DESIGNER",
          "DESIGNER",
          "DESIGNER",
          "DESIGNER",
          "DESIGNER",
          "DESIGNER",
          "DESIGNER",
          "DESIGNER",
          "DESIGNER",
          "DESIGNER",
          "DESIGNER",
          "DESIGNER",
          "DESIGNER",
          "DESIGNER",
          "DESIGNER",
          "INFORMATION-TECHNOLOGY",
          "INFORMATION-TECHNOLOGY",
          "INFORMATION-TECHNOLOGY",
          "INFORMATION-TECHNOLOGY",
          "INFORMATION-TECHNOLOGY",
          "INFORMATION-TECHNOLOGY",
          "INFORMATION-TECHNOLOGY",
          "INFORMATION-TECHNOLOGY",
          "INFORMATION-TECHNOLOGY",
          "INFORMATION-TECHNOLOGY",
          "INFORMATION-TECHNOLOGY",
          "INFORMATION-TECHNOLOGY",
          "INFORMATION-TECHNOLOGY",
          "INFORMATION-TECHNOLOGY",
          "INFORMATION-TECHNOLOGY",
          "INFORMATION-TECHNOLOGY",
          "INFORMATION-TECHNOLOGY",
          "INFORMATION-TECHNOLOGY",
          "INFORMATION-TECHNOLOGY",
          "INFORMATION-TECHNOLOGY",
          "INFORMATION-TECHNOLOGY",
          "INFORMATION-TECHNOLOGY",
          "INFORMATION-TECHNOLOGY",
          "INFORMATION-TECHNOLOGY",
          "INFORMATION-TECHNOLOGY",
          "INFORMATION-TECHNOLOGY",
          "INFORMATION-TECHNOLOGY",
          "INFORMATION-TECHNOLOGY",
          "INFORMATION-TECHNOLOGY",
          "INFORMATION-TECHNOLOGY",
          "INFORMATION-TECHNOLOGY",
          "INFORMATION-TECHNOLOGY",
          "INFORMATION-TECHNOLOGY",
          "INFORMATION-TECHNOLOGY",
          "INFORMATION-TECHNOLOGY",
          "INFORMATION-TECHNOLOGY",
          "INFORMATION-TECHNOLOGY",
          "INFORMATION-TECHNOLOGY",
          "INFORMATION-TECHNOLOGY",
          "INFORMATION-TECHNOLOGY",
          "INFORMATION-TECHNOLOGY",
          "INFORMATION-TECHNOLOGY",
          "INFORMATION-TECHNOLOGY",
          "INFORMATION-TECHNOLOGY",
          "INFORMATION-TECHNOLOGY",
          "INFORMATION-TECHNOLOGY",
          "INFORMATION-TECHNOLOGY",
          "INFORMATION-TECHNOLOGY",
          "INFORMATION-TECHNOLOGY",
          "INFORMATION-TECHNOLOGY",
          "INFORMATION-TECHNOLOGY",
          "INFORMATION-TECHNOLOGY",
          "INFORMATION-TECHNOLOGY",
          "INFORMATION-TECHNOLOGY",
          "INFORMATION-TECHNOLOGY",
          "INFORMATION-TECHNOLOGY",
          "INFORMATION-TECHNOLOGY",
          "INFORMATION-TECHNOLOGY",
          "INFORMATION-TECHNOLOGY",
          "INFORMATION-TECHNOLOGY",
          "INFORMATION-TECHNOLOGY",
          "INFORMATION-TECHNOLOGY",
          "INFORMATION-TECHNOLOGY",
          "INFORMATION-TECHNOLOGY",
          "INFORMATION-TECHNOLOGY",
          "INFORMATION-TECHNOLOGY",
          "INFORMATION-TECHNOLOGY",
          "INFORMATION-TECHNOLOGY",
          "INFORMATION-TECHNOLOGY",
          "INFORMATION-TECHNOLOGY",
          "INFORMATION-TECHNOLOGY",
          "INFORMATION-TECHNOLOGY",
          "INFORMATION-TECHNOLOGY",
          "INFORMATION-TECHNOLOGY",
          "INFORMATION-TECHNOLOGY",
          "INFORMATION-TECHNOLOGY",
          "INFORMATION-TECHNOLOGY",
          "INFORMATION-TECHNOLOGY",
          "INFORMATION-TECHNOLOGY",
          "INFORMATION-TECHNOLOGY",
          "INFORMATION-TECHNOLOGY",
          "INFORMATION-TECHNOLOGY",
          "INFORMATION-TECHNOLOGY",
          "INFORMATION-TECHNOLOGY",
          "INFORMATION-TECHNOLOGY",
          "INFORMATION-TECHNOLOGY",
          "INFORMATION-TECHNOLOGY",
          "INFORMATION-TECHNOLOGY",
          "INFORMATION-TECHNOLOGY",
          "INFORMATION-TECHNOLOGY",
          "INFORMATION-TECHNOLOGY",
          "INFORMATION-TECHNOLOGY",
          "INFORMATION-TECHNOLOGY",
          "INFORMATION-TECHNOLOGY",
          "INFORMATION-TECHNOLOGY",
          "INFORMATION-TECHNOLOGY",
          "INFORMATION-TECHNOLOGY",
          "INFORMATION-TECHNOLOGY",
          "INFORMATION-TECHNOLOGY",
          "INFORMATION-TECHNOLOGY",
          "INFORMATION-TECHNOLOGY",
          "INFORMATION-TECHNOLOGY",
          "INFORMATION-TECHNOLOGY",
          "INFORMATION-TECHNOLOGY",
          "INFORMATION-TECHNOLOGY",
          "INFORMATION-TECHNOLOGY",
          "INFORMATION-TECHNOLOGY",
          "INFORMATION-TECHNOLOGY",
          "INFORMATION-TECHNOLOGY",
          "INFORMATION-TECHNOLOGY",
          "INFORMATION-TECHNOLOGY",
          "INFORMATION-TECHNOLOGY",
          "INFORMATION-TECHNOLOGY",
          "INFORMATION-TECHNOLOGY",
          "INFORMATION-TECHNOLOGY",
          "INFORMATION-TECHNOLOGY",
          "INFORMATION-TECHNOLOGY",
          "INFORMATION-TECHNOLOGY",
          "INFORMATION-TECHNOLOGY",
          "INFORMATION-TECHNOLOGY",
          "TEACHER",
          "TEACHER",
          "TEACHER",
          "TEACHER",
          "TEACHER",
          "TEACHER",
          "TEACHER",
          "TEACHER",
          "TEACHER",
          "TEACHER",
          "TEACHER",
          "TEACHER",
          "TEACHER",
          "TEACHER",
          "TEACHER",
          "TEACHER",
          "TEACHER",
          "TEACHER",
          "TEACHER",
          "TEACHER",
          "TEACHER",
          "TEACHER",
          "TEACHER",
          "TEACHER",
          "TEACHER",
          "TEACHER",
          "TEACHER",
          "TEACHER",
          "TEACHER",
          "TEACHER",
          "TEACHER",
          "TEACHER",
          "TEACHER",
          "TEACHER",
          "TEACHER",
          "TEACHER",
          "TEACHER",
          "TEACHER",
          "TEACHER",
          "TEACHER",
          "TEACHER",
          "TEACHER",
          "TEACHER",
          "TEACHER",
          "TEACHER",
          "TEACHER",
          "TEACHER",
          "TEACHER",
          "TEACHER",
          "TEACHER",
          "TEACHER",
          "TEACHER",
          "TEACHER",
          "TEACHER",
          "TEACHER",
          "TEACHER",
          "TEACHER",
          "TEACHER",
          "TEACHER",
          "TEACHER",
          "TEACHER",
          "TEACHER",
          "TEACHER",
          "TEACHER",
          "TEACHER",
          "TEACHER",
          "TEACHER",
          "TEACHER",
          "TEACHER",
          "TEACHER",
          "TEACHER",
          "TEACHER",
          "TEACHER",
          "TEACHER",
          "TEACHER",
          "TEACHER",
          "TEACHER",
          "TEACHER",
          "TEACHER",
          "TEACHER",
          "TEACHER",
          "TEACHER",
          "TEACHER",
          "TEACHER",
          "TEACHER",
          "TEACHER",
          "TEACHER",
          "TEACHER",
          "TEACHER",
          "TEACHER",
          "TEACHER",
          "TEACHER",
          "TEACHER",
          "TEACHER",
          "TEACHER",
          "TEACHER",
          "TEACHER",
          "TEACHER",
          "TEACHER",
          "TEACHER",
          "TEACHER",
          "TEACHER",
          "ADVOCATE",
          "ADVOCATE",
          "ADVOCATE",
          "ADVOCATE",
          "ADVOCATE",
          "ADVOCATE",
          "ADVOCATE",
          "ADVOCATE",
          "ADVOCATE",
          "ADVOCATE",
          "ADVOCATE",
          "ADVOCATE",
          "ADVOCATE",
          "ADVOCATE",
          "ADVOCATE",
          "ADVOCATE",
          "ADVOCATE",
          "ADVOCATE",
          "ADVOCATE",
          "ADVOCATE",
          "ADVOCATE",
          "ADVOCATE",
          "ADVOCATE",
          "ADVOCATE",
          "ADVOCATE",
          "ADVOCATE",
          "ADVOCATE",
          "ADVOCATE",
          "ADVOCATE",
          "ADVOCATE",
          "ADVOCATE",
          "ADVOCATE",
          "ADVOCATE",
          "ADVOCATE",
          "ADVOCATE",
          "ADVOCATE",
          "ADVOCATE",
          "ADVOCATE",
          "ADVOCATE",
          "ADVOCATE",
          "ADVOCATE",
          "ADVOCATE",
          "ADVOCATE",
          "ADVOCATE",
          "ADVOCATE",
          "ADVOCATE",
          "ADVOCATE",
          "ADVOCATE",
          "ADVOCATE",
          "ADVOCATE",
          "ADVOCATE",
          "ADVOCATE",
          "ADVOCATE",
          "ADVOCATE",
          "ADVOCATE",
          "ADVOCATE",
          "ADVOCATE",
          "ADVOCATE",
          "ADVOCATE",
          "ADVOCATE",
          "ADVOCATE",
          "ADVOCATE",
          "ADVOCATE",
          "ADVOCATE",
          "ADVOCATE",
          "ADVOCATE",
          "ADVOCATE",
          "ADVOCATE",
          "ADVOCATE",
          "ADVOCATE",
          "ADVOCATE",
          "ADVOCATE",
          "ADVOCATE",
          "ADVOCATE",
          "ADVOCATE",
          "ADVOCATE",
          "ADVOCATE",
          "ADVOCATE",
          "ADVOCATE",
          "ADVOCATE",
          "ADVOCATE",
          "ADVOCATE",
          "ADVOCATE",
          "ADVOCATE",
          "ADVOCATE",
          "ADVOCATE",
          "ADVOCATE",
          "ADVOCATE",
          "ADVOCATE",
          "ADVOCATE",
          "ADVOCATE",
          "ADVOCATE",
          "ADVOCATE",
          "ADVOCATE",
          "ADVOCATE",
          "ADVOCATE",
          "ADVOCATE",
          "ADVOCATE",
          "ADVOCATE",
          "ADVOCATE",
          "ADVOCATE",
          "ADVOCATE",
          "ADVOCATE",
          "ADVOCATE",
          "ADVOCATE",
          "ADVOCATE",
          "ADVOCATE",
          "ADVOCATE",
          "ADVOCATE",
          "ADVOCATE",
          "ADVOCATE",
          "ADVOCATE",
          "ADVOCATE",
          "ADVOCATE",
          "ADVOCATE",
          "ADVOCATE",
          "ADVOCATE",
          "ADVOCATE",
          "BUSINESS-DEVELOPMENT",
          "BUSINESS-DEVELOPMENT",
          "BUSINESS-DEVELOPMENT",
          "BUSINESS-DEVELOPMENT",
          "BUSINESS-DEVELOPMENT",
          "BUSINESS-DEVELOPMENT",
          "BUSINESS-DEVELOPMENT",
          "BUSINESS-DEVELOPMENT",
          "BUSINESS-DEVELOPMENT",
          "BUSINESS-DEVELOPMENT",
          "BUSINESS-DEVELOPMENT",
          "BUSINESS-DEVELOPMENT",
          "BUSINESS-DEVELOPMENT",
          "BUSINESS-DEVELOPMENT",
          "BUSINESS-DEVELOPMENT",
          "BUSINESS-DEVELOPMENT",
          "BUSINESS-DEVELOPMENT",
          "BUSINESS-DEVELOPMENT",
          "BUSINESS-DEVELOPMENT",
          "BUSINESS-DEVELOPMENT",
          "BUSINESS-DEVELOPMENT",
          "BUSINESS-DEVELOPMENT",
          "BUSINESS-DEVELOPMENT",
          "BUSINESS-DEVELOPMENT",
          "BUSINESS-DEVELOPMENT",
          "BUSINESS-DEVELOPMENT",
          "BUSINESS-DEVELOPMENT",
          "BUSINESS-DEVELOPMENT",
          "BUSINESS-DEVELOPMENT",
          "BUSINESS-DEVELOPMENT",
          "BUSINESS-DEVELOPMENT",
          "BUSINESS-DEVELOPMENT",
          "BUSINESS-DEVELOPMENT",
          "BUSINESS-DEVELOPMENT",
          "BUSINESS-DEVELOPMENT",
          "BUSINESS-DEVELOPMENT",
          "BUSINESS-DEVELOPMENT",
          "BUSINESS-DEVELOPMENT",
          "BUSINESS-DEVELOPMENT",
          "BUSINESS-DEVELOPMENT",
          "BUSINESS-DEVELOPMENT",
          "BUSINESS-DEVELOPMENT",
          "BUSINESS-DEVELOPMENT",
          "BUSINESS-DEVELOPMENT",
          "BUSINESS-DEVELOPMENT",
          "BUSINESS-DEVELOPMENT",
          "BUSINESS-DEVELOPMENT",
          "BUSINESS-DEVELOPMENT",
          "BUSINESS-DEVELOPMENT",
          "BUSINESS-DEVELOPMENT",
          "BUSINESS-DEVELOPMENT",
          "BUSINESS-DEVELOPMENT",
          "BUSINESS-DEVELOPMENT",
          "BUSINESS-DEVELOPMENT",
          "BUSINESS-DEVELOPMENT",
          "BUSINESS-DEVELOPMENT",
          "BUSINESS-DEVELOPMENT",
          "BUSINESS-DEVELOPMENT",
          "BUSINESS-DEVELOPMENT",
          "BUSINESS-DEVELOPMENT",
          "BUSINESS-DEVELOPMENT",
          "BUSINESS-DEVELOPMENT",
          "BUSINESS-DEVELOPMENT",
          "BUSINESS-DEVELOPMENT",
          "BUSINESS-DEVELOPMENT",
          "BUSINESS-DEVELOPMENT",
          "BUSINESS-DEVELOPMENT",
          "BUSINESS-DEVELOPMENT",
          "BUSINESS-DEVELOPMENT",
          "BUSINESS-DEVELOPMENT",
          "BUSINESS-DEVELOPMENT",
          "BUSINESS-DEVELOPMENT",
          "BUSINESS-DEVELOPMENT",
          "BUSINESS-DEVELOPMENT",
          "BUSINESS-DEVELOPMENT",
          "BUSINESS-DEVELOPMENT",
          "BUSINESS-DEVELOPMENT",
          "BUSINESS-DEVELOPMENT",
          "BUSINESS-DEVELOPMENT",
          "BUSINESS-DEVELOPMENT",
          "BUSINESS-DEVELOPMENT",
          "BUSINESS-DEVELOPMENT",
          "BUSINESS-DEVELOPMENT",
          "BUSINESS-DEVELOPMENT",
          "BUSINESS-DEVELOPMENT",
          "BUSINESS-DEVELOPMENT",
          "BUSINESS-DEVELOPMENT",
          "BUSINESS-DEVELOPMENT",
          "BUSINESS-DEVELOPMENT",
          "BUSINESS-DEVELOPMENT",
          "BUSINESS-DEVELOPMENT",
          "BUSINESS-DEVELOPMENT",
          "BUSINESS-DEVELOPMENT",
          "BUSINESS-DEVELOPMENT",
          "BUSINESS-DEVELOPMENT",
          "BUSINESS-DEVELOPMENT",
          "BUSINESS-DEVELOPMENT",
          "BUSINESS-DEVELOPMENT",
          "BUSINESS-DEVELOPMENT",
          "BUSINESS-DEVELOPMENT",
          "BUSINESS-DEVELOPMENT",
          "BUSINESS-DEVELOPMENT",
          "BUSINESS-DEVELOPMENT",
          "BUSINESS-DEVELOPMENT",
          "BUSINESS-DEVELOPMENT",
          "BUSINESS-DEVELOPMENT",
          "BUSINESS-DEVELOPMENT",
          "BUSINESS-DEVELOPMENT",
          "BUSINESS-DEVELOPMENT",
          "BUSINESS-DEVELOPMENT",
          "BUSINESS-DEVELOPMENT",
          "BUSINESS-DEVELOPMENT",
          "BUSINESS-DEVELOPMENT",
          "BUSINESS-DEVELOPMENT",
          "BUSINESS-DEVELOPMENT",
          "BUSINESS-DEVELOPMENT",
          "BUSINESS-DEVELOPMENT",
          "BUSINESS-DEVELOPMENT",
          "BUSINESS-DEVELOPMENT",
          "BUSINESS-DEVELOPMENT",
          "HEALTHCARE",
          "HEALTHCARE",
          "HEALTHCARE",
          "HEALTHCARE",
          "HEALTHCARE",
          "HEALTHCARE",
          "HEALTHCARE",
          "HEALTHCARE",
          "HEALTHCARE",
          "HEALTHCARE",
          "HEALTHCARE",
          "HEALTHCARE",
          "HEALTHCARE",
          "HEALTHCARE",
          "HEALTHCARE",
          "HEALTHCARE",
          "HEALTHCARE",
          "HEALTHCARE",
          "HEALTHCARE",
          "HEALTHCARE",
          "HEALTHCARE",
          "HEALTHCARE",
          "HEALTHCARE",
          "HEALTHCARE",
          "HEALTHCARE",
          "HEALTHCARE",
          "HEALTHCARE",
          "HEALTHCARE",
          "HEALTHCARE",
          "HEALTHCARE",
          "HEALTHCARE",
          "HEALTHCARE",
          "HEALTHCARE",
          "HEALTHCARE",
          "HEALTHCARE",
          "HEALTHCARE",
          "HEALTHCARE",
          "HEALTHCARE",
          "HEALTHCARE",
          "HEALTHCARE",
          "HEALTHCARE",
          "HEALTHCARE",
          "HEALTHCARE",
          "HEALTHCARE",
          "HEALTHCARE",
          "HEALTHCARE",
          "HEALTHCARE",
          "HEALTHCARE",
          "HEALTHCARE",
          "HEALTHCARE",
          "HEALTHCARE",
          "HEALTHCARE",
          "HEALTHCARE",
          "HEALTHCARE",
          "HEALTHCARE",
          "HEALTHCARE",
          "HEALTHCARE",
          "HEALTHCARE",
          "HEALTHCARE",
          "HEALTHCARE",
          "HEALTHCARE",
          "HEALTHCARE",
          "HEALTHCARE",
          "HEALTHCARE",
          "HEALTHCARE",
          "HEALTHCARE",
          "HEALTHCARE",
          "HEALTHCARE",
          "HEALTHCARE",
          "HEALTHCARE",
          "HEALTHCARE",
          "HEALTHCARE",
          "HEALTHCARE",
          "HEALTHCARE",
          "HEALTHCARE",
          "HEALTHCARE",
          "HEALTHCARE",
          "HEALTHCARE",
          "HEALTHCARE",
          "HEALTHCARE",
          "HEALTHCARE",
          "HEALTHCARE",
          "HEALTHCARE",
          "HEALTHCARE",
          "HEALTHCARE",
          "HEALTHCARE",
          "HEALTHCARE",
          "HEALTHCARE",
          "HEALTHCARE",
          "HEALTHCARE",
          "HEALTHCARE",
          "HEALTHCARE",
          "HEALTHCARE",
          "HEALTHCARE",
          "HEALTHCARE",
          "HEALTHCARE",
          "HEALTHCARE",
          "HEALTHCARE",
          "HEALTHCARE",
          "HEALTHCARE",
          "HEALTHCARE",
          "HEALTHCARE",
          "HEALTHCARE",
          "HEALTHCARE",
          "HEALTHCARE",
          "HEALTHCARE",
          "HEALTHCARE",
          "HEALTHCARE",
          "HEALTHCARE",
          "HEALTHCARE",
          "HEALTHCARE",
          "HEALTHCARE",
          "HEALTHCARE",
          "HEALTHCARE",
          "HEALTHCARE",
          "FITNESS",
          "FITNESS",
          "FITNESS",
          "FITNESS",
          "FITNESS",
          "FITNESS",
          "FITNESS",
          "FITNESS",
          "FITNESS",
          "FITNESS",
          "FITNESS",
          "FITNESS",
          "FITNESS",
          "FITNESS",
          "FITNESS",
          "FITNESS",
          "FITNESS",
          "FITNESS",
          "FITNESS",
          "FITNESS",
          "FITNESS",
          "FITNESS",
          "FITNESS",
          "FITNESS",
          "FITNESS",
          "FITNESS",
          "FITNESS",
          "FITNESS",
          "FITNESS",
          "FITNESS",
          "FITNESS",
          "FITNESS",
          "FITNESS",
          "FITNESS",
          "FITNESS",
          "FITNESS",
          "FITNESS",
          "FITNESS",
          "FITNESS",
          "FITNESS",
          "FITNESS",
          "FITNESS",
          "FITNESS",
          "FITNESS",
          "FITNESS",
          "FITNESS",
          "FITNESS",
          "FITNESS",
          "FITNESS",
          "FITNESS",
          "FITNESS",
          "FITNESS",
          "FITNESS",
          "FITNESS",
          "FITNESS",
          "FITNESS",
          "FITNESS",
          "FITNESS",
          "FITNESS",
          "FITNESS",
          "FITNESS",
          "FITNESS",
          "FITNESS",
          "FITNESS",
          "FITNESS",
          "FITNESS",
          "FITNESS",
          "FITNESS",
          "FITNESS",
          "FITNESS",
          "FITNESS",
          "FITNESS",
          "FITNESS",
          "FITNESS",
          "FITNESS",
          "FITNESS",
          "FITNESS",
          "FITNESS",
          "FITNESS",
          "FITNESS",
          "FITNESS",
          "FITNESS",
          "FITNESS",
          "FITNESS",
          "FITNESS",
          "FITNESS",
          "FITNESS",
          "FITNESS",
          "FITNESS",
          "FITNESS",
          "FITNESS",
          "FITNESS",
          "FITNESS",
          "FITNESS",
          "FITNESS",
          "FITNESS",
          "FITNESS",
          "FITNESS",
          "FITNESS",
          "FITNESS",
          "FITNESS",
          "FITNESS",
          "FITNESS",
          "FITNESS",
          "FITNESS",
          "FITNESS",
          "FITNESS",
          "FITNESS",
          "FITNESS",
          "FITNESS",
          "FITNESS",
          "FITNESS",
          "FITNESS",
          "FITNESS",
          "FITNESS",
          "FITNESS",
          "FITNESS",
          "AGRICULTURE",
          "AGRICULTURE",
          "AGRICULTURE",
          "AGRICULTURE",
          "AGRICULTURE",
          "AGRICULTURE",
          "AGRICULTURE",
          "AGRICULTURE",
          "AGRICULTURE",
          "AGRICULTURE",
          "AGRICULTURE",
          "AGRICULTURE",
          "AGRICULTURE",
          "AGRICULTURE",
          "AGRICULTURE",
          "AGRICULTURE",
          "AGRICULTURE",
          "AGRICULTURE",
          "AGRICULTURE",
          "AGRICULTURE",
          "AGRICULTURE",
          "AGRICULTURE",
          "AGRICULTURE",
          "AGRICULTURE",
          "AGRICULTURE",
          "AGRICULTURE",
          "AGRICULTURE",
          "AGRICULTURE",
          "AGRICULTURE",
          "AGRICULTURE",
          "AGRICULTURE",
          "AGRICULTURE",
          "AGRICULTURE",
          "AGRICULTURE",
          "AGRICULTURE",
          "AGRICULTURE",
          "AGRICULTURE",
          "AGRICULTURE",
          "AGRICULTURE",
          "AGRICULTURE",
          "AGRICULTURE",
          "AGRICULTURE",
          "AGRICULTURE",
          "AGRICULTURE",
          "AGRICULTURE",
          "AGRICULTURE",
          "AGRICULTURE",
          "AGRICULTURE",
          "AGRICULTURE",
          "AGRICULTURE",
          "AGRICULTURE",
          "AGRICULTURE",
          "AGRICULTURE",
          "AGRICULTURE",
          "AGRICULTURE",
          "AGRICULTURE",
          "AGRICULTURE",
          "AGRICULTURE",
          "AGRICULTURE",
          "AGRICULTURE",
          "AGRICULTURE",
          "AGRICULTURE",
          "AGRICULTURE",
          "BPO",
          "BPO",
          "BPO",
          "BPO",
          "BPO",
          "BPO",
          "BPO",
          "BPO",
          "BPO",
          "BPO",
          "BPO",
          "BPO",
          "BPO",
          "BPO",
          "BPO",
          "BPO",
          "BPO",
          "BPO",
          "BPO",
          "BPO",
          "BPO",
          "BPO",
          "SALES",
          "SALES",
          "SALES",
          "SALES",
          "SALES",
          "SALES",
          "SALES",
          "SALES",
          "SALES",
          "SALES",
          "SALES",
          "SALES",
          "SALES",
          "SALES",
          "SALES",
          "SALES",
          "SALES",
          "SALES",
          "SALES",
          "SALES",
          "SALES",
          "SALES",
          "SALES",
          "SALES",
          "SALES",
          "SALES",
          "SALES",
          "SALES",
          "SALES",
          "SALES",
          "SALES",
          "SALES",
          "SALES",
          "SALES",
          "SALES",
          "SALES",
          "SALES",
          "SALES",
          "SALES",
          "SALES",
          "SALES",
          "SALES",
          "SALES",
          "SALES",
          "SALES",
          "SALES",
          "SALES",
          "SALES",
          "SALES",
          "SALES",
          "SALES",
          "SALES",
          "SALES",
          "SALES",
          "SALES",
          "SALES",
          "SALES",
          "SALES",
          "SALES",
          "SALES",
          "SALES",
          "SALES",
          "SALES",
          "SALES",
          "SALES",
          "SALES",
          "SALES",
          "SALES",
          "SALES",
          "SALES",
          "SALES",
          "SALES",
          "SALES",
          "SALES",
          "SALES",
          "SALES",
          "SALES",
          "SALES",
          "SALES",
          "SALES",
          "SALES",
          "SALES",
          "SALES",
          "SALES",
          "SALES",
          "SALES",
          "SALES",
          "SALES",
          "SALES",
          "SALES",
          "SALES",
          "SALES",
          "SALES",
          "SALES",
          "SALES",
          "SALES",
          "SALES",
          "SALES",
          "SALES",
          "SALES",
          "SALES",
          "SALES",
          "SALES",
          "SALES",
          "SALES",
          "SALES",
          "SALES",
          "SALES",
          "SALES",
          "SALES",
          "SALES",
          "SALES",
          "SALES",
          "SALES",
          "SALES",
          "SALES",
          "CONSULTANT",
          "CONSULTANT",
          "CONSULTANT",
          "CONSULTANT",
          "CONSULTANT",
          "CONSULTANT",
          "CONSULTANT",
          "CONSULTANT",
          "CONSULTANT",
          "CONSULTANT",
          "CONSULTANT",
          "CONSULTANT",
          "CONSULTANT",
          "CONSULTANT",
          "CONSULTANT",
          "CONSULTANT",
          "CONSULTANT",
          "CONSULTANT",
          "CONSULTANT",
          "CONSULTANT",
          "CONSULTANT",
          "CONSULTANT",
          "CONSULTANT",
          "CONSULTANT",
          "CONSULTANT",
          "CONSULTANT",
          "CONSULTANT",
          "CONSULTANT",
          "CONSULTANT",
          "CONSULTANT",
          "CONSULTANT",
          "CONSULTANT",
          "CONSULTANT",
          "CONSULTANT",
          "CONSULTANT",
          "CONSULTANT",
          "CONSULTANT",
          "CONSULTANT",
          "CONSULTANT",
          "CONSULTANT",
          "CONSULTANT",
          "CONSULTANT",
          "CONSULTANT",
          "CONSULTANT",
          "CONSULTANT",
          "CONSULTANT",
          "CONSULTANT",
          "CONSULTANT",
          "CONSULTANT",
          "CONSULTANT",
          "CONSULTANT",
          "CONSULTANT",
          "CONSULTANT",
          "CONSULTANT",
          "CONSULTANT",
          "CONSULTANT",
          "CONSULTANT",
          "CONSULTANT",
          "CONSULTANT",
          "CONSULTANT",
          "CONSULTANT",
          "CONSULTANT",
          "CONSULTANT",
          "CONSULTANT",
          "CONSULTANT",
          "CONSULTANT",
          "CONSULTANT",
          "CONSULTANT",
          "CONSULTANT",
          "CONSULTANT",
          "CONSULTANT",
          "CONSULTANT",
          "CONSULTANT",
          "CONSULTANT",
          "CONSULTANT",
          "CONSULTANT",
          "CONSULTANT",
          "CONSULTANT",
          "CONSULTANT",
          "CONSULTANT",
          "CONSULTANT",
          "CONSULTANT",
          "CONSULTANT",
          "CONSULTANT",
          "CONSULTANT",
          "CONSULTANT",
          "CONSULTANT",
          "CONSULTANT",
          "CONSULTANT",
          "CONSULTANT",
          "CONSULTANT",
          "CONSULTANT",
          "CONSULTANT",
          "CONSULTANT",
          "CONSULTANT",
          "CONSULTANT",
          "CONSULTANT",
          "CONSULTANT",
          "CONSULTANT",
          "CONSULTANT",
          "CONSULTANT",
          "CONSULTANT",
          "CONSULTANT",
          "CONSULTANT",
          "CONSULTANT",
          "CONSULTANT",
          "CONSULTANT",
          "CONSULTANT",
          "CONSULTANT",
          "CONSULTANT",
          "CONSULTANT",
          "CONSULTANT",
          "CONSULTANT",
          "CONSULTANT",
          "CONSULTANT",
          "DIGITAL-MEDIA",
          "DIGITAL-MEDIA",
          "DIGITAL-MEDIA",
          "DIGITAL-MEDIA",
          "DIGITAL-MEDIA",
          "DIGITAL-MEDIA",
          "DIGITAL-MEDIA",
          "DIGITAL-MEDIA",
          "DIGITAL-MEDIA",
          "DIGITAL-MEDIA",
          "DIGITAL-MEDIA",
          "DIGITAL-MEDIA",
          "DIGITAL-MEDIA",
          "DIGITAL-MEDIA",
          "DIGITAL-MEDIA",
          "DIGITAL-MEDIA",
          "DIGITAL-MEDIA",
          "DIGITAL-MEDIA",
          "DIGITAL-MEDIA",
          "DIGITAL-MEDIA",
          "DIGITAL-MEDIA",
          "DIGITAL-MEDIA",
          "DIGITAL-MEDIA",
          "DIGITAL-MEDIA",
          "DIGITAL-MEDIA",
          "DIGITAL-MEDIA",
          "DIGITAL-MEDIA",
          "DIGITAL-MEDIA",
          "DIGITAL-MEDIA",
          "DIGITAL-MEDIA",
          "DIGITAL-MEDIA",
          "DIGITAL-MEDIA",
          "DIGITAL-MEDIA",
          "DIGITAL-MEDIA",
          "DIGITAL-MEDIA",
          "DIGITAL-MEDIA",
          "DIGITAL-MEDIA",
          "DIGITAL-MEDIA",
          "DIGITAL-MEDIA",
          "DIGITAL-MEDIA",
          "DIGITAL-MEDIA",
          "DIGITAL-MEDIA",
          "DIGITAL-MEDIA",
          "DIGITAL-MEDIA",
          "DIGITAL-MEDIA",
          "DIGITAL-MEDIA",
          "DIGITAL-MEDIA",
          "DIGITAL-MEDIA",
          "DIGITAL-MEDIA",
          "DIGITAL-MEDIA",
          "DIGITAL-MEDIA",
          "DIGITAL-MEDIA",
          "DIGITAL-MEDIA",
          "DIGITAL-MEDIA",
          "DIGITAL-MEDIA",
          "DIGITAL-MEDIA",
          "DIGITAL-MEDIA",
          "DIGITAL-MEDIA",
          "DIGITAL-MEDIA",
          "DIGITAL-MEDIA",
          "DIGITAL-MEDIA",
          "DIGITAL-MEDIA",
          "DIGITAL-MEDIA",
          "DIGITAL-MEDIA",
          "DIGITAL-MEDIA",
          "DIGITAL-MEDIA",
          "DIGITAL-MEDIA",
          "DIGITAL-MEDIA",
          "DIGITAL-MEDIA",
          "DIGITAL-MEDIA",
          "DIGITAL-MEDIA",
          "DIGITAL-MEDIA",
          "DIGITAL-MEDIA",
          "DIGITAL-MEDIA",
          "DIGITAL-MEDIA",
          "DIGITAL-MEDIA",
          "DIGITAL-MEDIA",
          "DIGITAL-MEDIA",
          "DIGITAL-MEDIA",
          "DIGITAL-MEDIA",
          "DIGITAL-MEDIA",
          "DIGITAL-MEDIA",
          "DIGITAL-MEDIA",
          "DIGITAL-MEDIA",
          "DIGITAL-MEDIA",
          "DIGITAL-MEDIA",
          "DIGITAL-MEDIA",
          "DIGITAL-MEDIA",
          "DIGITAL-MEDIA",
          "DIGITAL-MEDIA",
          "DIGITAL-MEDIA",
          "DIGITAL-MEDIA",
          "DIGITAL-MEDIA",
          "DIGITAL-MEDIA",
          "DIGITAL-MEDIA",
          "DIGITAL-MEDIA",
          "AUTOMOBILE",
          "AUTOMOBILE",
          "AUTOMOBILE",
          "AUTOMOBILE",
          "AUTOMOBILE",
          "AUTOMOBILE",
          "AUTOMOBILE",
          "AUTOMOBILE",
          "AUTOMOBILE",
          "AUTOMOBILE",
          "AUTOMOBILE",
          "AUTOMOBILE",
          "AUTOMOBILE",
          "AUTOMOBILE",
          "AUTOMOBILE",
          "AUTOMOBILE",
          "AUTOMOBILE",
          "AUTOMOBILE",
          "AUTOMOBILE",
          "AUTOMOBILE",
          "AUTOMOBILE",
          "AUTOMOBILE",
          "AUTOMOBILE",
          "AUTOMOBILE",
          "AUTOMOBILE",
          "AUTOMOBILE",
          "AUTOMOBILE",
          "AUTOMOBILE",
          "AUTOMOBILE",
          "AUTOMOBILE",
          "AUTOMOBILE",
          "AUTOMOBILE",
          "AUTOMOBILE",
          "AUTOMOBILE",
          "AUTOMOBILE",
          "AUTOMOBILE",
          "CHEF",
          "CHEF",
          "CHEF",
          "CHEF",
          "CHEF",
          "CHEF",
          "CHEF",
          "CHEF",
          "CHEF",
          "CHEF",
          "CHEF",
          "CHEF",
          "CHEF",
          "CHEF",
          "CHEF",
          "CHEF",
          "CHEF",
          "CHEF",
          "CHEF",
          "CHEF",
          "CHEF",
          "CHEF",
          "CHEF",
          "CHEF",
          "CHEF",
          "CHEF",
          "CHEF",
          "CHEF",
          "CHEF",
          "CHEF",
          "CHEF",
          "CHEF",
          "CHEF",
          "CHEF",
          "CHEF",
          "CHEF",
          "CHEF",
          "CHEF",
          "CHEF",
          "CHEF",
          "CHEF",
          "CHEF",
          "CHEF",
          "CHEF",
          "CHEF",
          "CHEF",
          "CHEF",
          "CHEF",
          "CHEF",
          "CHEF",
          "CHEF",
          "CHEF",
          "CHEF",
          "CHEF",
          "CHEF",
          "CHEF",
          "CHEF",
          "CHEF",
          "CHEF",
          "CHEF",
          "CHEF",
          "CHEF",
          "CHEF",
          "CHEF",
          "CHEF",
          "CHEF",
          "CHEF",
          "CHEF",
          "CHEF",
          "CHEF",
          "CHEF",
          "CHEF",
          "CHEF",
          "CHEF",
          "CHEF",
          "CHEF",
          "CHEF",
          "CHEF",
          "CHEF",
          "CHEF",
          "CHEF",
          "CHEF",
          "CHEF",
          "CHEF",
          "CHEF",
          "CHEF",
          "CHEF",
          "CHEF",
          "CHEF",
          "CHEF",
          "CHEF",
          "CHEF",
          "CHEF",
          "CHEF",
          "CHEF",
          "CHEF",
          "CHEF",
          "CHEF",
          "CHEF",
          "CHEF",
          "CHEF",
          "CHEF",
          "CHEF",
          "CHEF",
          "CHEF",
          "CHEF",
          "CHEF",
          "CHEF",
          "CHEF",
          "CHEF",
          "CHEF",
          "CHEF",
          "CHEF",
          "CHEF",
          "CHEF",
          "CHEF",
          "CHEF",
          "CHEF",
          "FINANCE",
          "FINANCE",
          "FINANCE",
          "FINANCE",
          "FINANCE",
          "FINANCE",
          "FINANCE",
          "FINANCE",
          "FINANCE",
          "FINANCE",
          "FINANCE",
          "FINANCE",
          "FINANCE",
          "FINANCE",
          "FINANCE",
          "FINANCE",
          "FINANCE",
          "FINANCE",
          "FINANCE",
          "FINANCE",
          "FINANCE",
          "FINANCE",
          "FINANCE",
          "FINANCE",
          "FINANCE",
          "FINANCE",
          "FINANCE",
          "FINANCE",
          "FINANCE",
          "FINANCE",
          "FINANCE",
          "FINANCE",
          "FINANCE",
          "FINANCE",
          "FINANCE",
          "FINANCE",
          "FINANCE",
          "FINANCE",
          "FINANCE",
          "FINANCE",
          "FINANCE",
          "FINANCE",
          "FINANCE",
          "FINANCE",
          "FINANCE",
          "FINANCE",
          "FINANCE",
          "FINANCE",
          "FINANCE",
          "FINANCE",
          "FINANCE",
          "FINANCE",
          "FINANCE",
          "FINANCE",
          "FINANCE",
          "FINANCE",
          "FINANCE",
          "FINANCE",
          "FINANCE",
          "FINANCE",
          "FINANCE",
          "FINANCE",
          "FINANCE",
          "FINANCE",
          "FINANCE",
          "FINANCE",
          "FINANCE",
          "FINANCE",
          "FINANCE",
          "FINANCE",
          "FINANCE",
          "FINANCE",
          "FINANCE",
          "FINANCE",
          "FINANCE",
          "FINANCE",
          "FINANCE",
          "FINANCE",
          "FINANCE",
          "FINANCE",
          "FINANCE",
          "FINANCE",
          "FINANCE",
          "FINANCE",
          "FINANCE",
          "FINANCE",
          "FINANCE",
          "FINANCE",
          "FINANCE",
          "FINANCE",
          "FINANCE",
          "FINANCE",
          "FINANCE",
          "FINANCE",
          "FINANCE",
          "FINANCE",
          "FINANCE",
          "FINANCE",
          "FINANCE",
          "FINANCE",
          "FINANCE",
          "FINANCE",
          "FINANCE",
          "FINANCE",
          "FINANCE",
          "FINANCE",
          "FINANCE",
          "FINANCE",
          "FINANCE",
          "FINANCE",
          "FINANCE",
          "FINANCE",
          "FINANCE",
          "FINANCE",
          "FINANCE",
          "FINANCE",
          "FINANCE",
          "FINANCE",
          "APPAREL",
          "APPAREL",
          "APPAREL",
          "APPAREL",
          "APPAREL",
          "APPAREL",
          "APPAREL",
          "APPAREL",
          "APPAREL",
          "APPAREL",
          "APPAREL",
          "APPAREL",
          "APPAREL",
          "APPAREL",
          "APPAREL",
          "APPAREL",
          "APPAREL",
          "APPAREL",
          "APPAREL",
          "APPAREL",
          "APPAREL",
          "APPAREL",
          "APPAREL",
          "APPAREL",
          "APPAREL",
          "APPAREL",
          "APPAREL",
          "APPAREL",
          "APPAREL",
          "APPAREL",
          "APPAREL",
          "APPAREL",
          "APPAREL",
          "APPAREL",
          "APPAREL",
          "APPAREL",
          "APPAREL",
          "APPAREL",
          "APPAREL",
          "APPAREL",
          "APPAREL",
          "APPAREL",
          "APPAREL",
          "APPAREL",
          "APPAREL",
          "APPAREL",
          "APPAREL",
          "APPAREL",
          "APPAREL",
          "APPAREL",
          "APPAREL",
          "APPAREL",
          "APPAREL",
          "APPAREL",
          "APPAREL",
          "APPAREL",
          "APPAREL",
          "APPAREL",
          "APPAREL",
          "APPAREL",
          "APPAREL",
          "APPAREL",
          "APPAREL",
          "APPAREL",
          "APPAREL",
          "APPAREL",
          "APPAREL",
          "APPAREL",
          "APPAREL",
          "APPAREL",
          "APPAREL",
          "APPAREL",
          "APPAREL",
          "APPAREL",
          "APPAREL",
          "APPAREL",
          "APPAREL",
          "APPAREL",
          "APPAREL",
          "APPAREL",
          "APPAREL",
          "APPAREL",
          "APPAREL",
          "APPAREL",
          "APPAREL",
          "APPAREL",
          "APPAREL",
          "APPAREL",
          "APPAREL",
          "APPAREL",
          "APPAREL",
          "APPAREL",
          "APPAREL",
          "APPAREL",
          "APPAREL",
          "APPAREL",
          "APPAREL",
          "ENGINEERING",
          "ENGINEERING",
          "ENGINEERING",
          "ENGINEERING",
          "ENGINEERING",
          "ENGINEERING",
          "ENGINEERING",
          "ENGINEERING",
          "ENGINEERING",
          "ENGINEERING",
          "ENGINEERING",
          "ENGINEERING",
          "ENGINEERING",
          "ENGINEERING",
          "ENGINEERING",
          "ENGINEERING",
          "ENGINEERING",
          "ENGINEERING",
          "ENGINEERING",
          "ENGINEERING",
          "ENGINEERING",
          "ENGINEERING",
          "ENGINEERING",
          "ENGINEERING",
          "ENGINEERING",
          "ENGINEERING",
          "ENGINEERING",
          "ENGINEERING",
          "ENGINEERING",
          "ENGINEERING",
          "ENGINEERING",
          "ENGINEERING",
          "ENGINEERING",
          "ENGINEERING",
          "ENGINEERING",
          "ENGINEERING",
          "ENGINEERING",
          "ENGINEERING",
          "ENGINEERING",
          "ENGINEERING",
          "ENGINEERING",
          "ENGINEERING",
          "ENGINEERING",
          "ENGINEERING",
          "ENGINEERING",
          "ENGINEERING",
          "ENGINEERING",
          "ENGINEERING",
          "ENGINEERING",
          "ENGINEERING",
          "ENGINEERING",
          "ENGINEERING",
          "ENGINEERING",
          "ENGINEERING",
          "ENGINEERING",
          "ENGINEERING",
          "ENGINEERING",
          "ENGINEERING",
          "ENGINEERING",
          "ENGINEERING",
          "ENGINEERING",
          "ENGINEERING",
          "ENGINEERING",
          "ENGINEERING",
          "ENGINEERING",
          "ENGINEERING",
          "ENGINEERING",
          "ENGINEERING",
          "ENGINEERING",
          "ENGINEERING",
          "ENGINEERING",
          "ENGINEERING",
          "ENGINEERING",
          "ENGINEERING",
          "ENGINEERING",
          "ENGINEERING",
          "ENGINEERING",
          "ENGINEERING",
          "ENGINEERING",
          "ENGINEERING",
          "ENGINEERING",
          "ENGINEERING",
          "ENGINEERING",
          "ENGINEERING",
          "ENGINEERING",
          "ENGINEERING",
          "ENGINEERING",
          "ENGINEERING",
          "ENGINEERING",
          "ENGINEERING",
          "ENGINEERING",
          "ENGINEERING",
          "ENGINEERING",
          "ENGINEERING",
          "ENGINEERING",
          "ENGINEERING",
          "ENGINEERING",
          "ENGINEERING",
          "ENGINEERING",
          "ENGINEERING",
          "ENGINEERING",
          "ENGINEERING",
          "ENGINEERING",
          "ENGINEERING",
          "ENGINEERING",
          "ENGINEERING",
          "ENGINEERING",
          "ENGINEERING",
          "ENGINEERING",
          "ENGINEERING",
          "ENGINEERING",
          "ENGINEERING",
          "ENGINEERING",
          "ENGINEERING",
          "ENGINEERING",
          "ENGINEERING",
          "ENGINEERING",
          "ENGINEERING",
          "ACCOUNTANT",
          "ACCOUNTANT",
          "ACCOUNTANT",
          "ACCOUNTANT",
          "ACCOUNTANT",
          "ACCOUNTANT",
          "ACCOUNTANT",
          "ACCOUNTANT",
          "ACCOUNTANT",
          "ACCOUNTANT",
          "ACCOUNTANT",
          "ACCOUNTANT",
          "ACCOUNTANT",
          "ACCOUNTANT",
          "ACCOUNTANT",
          "ACCOUNTANT",
          "ACCOUNTANT",
          "ACCOUNTANT",
          "ACCOUNTANT",
          "ACCOUNTANT",
          "ACCOUNTANT",
          "ACCOUNTANT",
          "ACCOUNTANT",
          "ACCOUNTANT",
          "ACCOUNTANT",
          "ACCOUNTANT",
          "ACCOUNTANT",
          "ACCOUNTANT",
          "ACCOUNTANT",
          "ACCOUNTANT",
          "ACCOUNTANT",
          "ACCOUNTANT",
          "ACCOUNTANT",
          "ACCOUNTANT",
          "ACCOUNTANT",
          "ACCOUNTANT",
          "ACCOUNTANT",
          "ACCOUNTANT",
          "ACCOUNTANT",
          "ACCOUNTANT",
          "ACCOUNTANT",
          "ACCOUNTANT",
          "ACCOUNTANT",
          "ACCOUNTANT",
          "ACCOUNTANT",
          "ACCOUNTANT",
          "ACCOUNTANT",
          "ACCOUNTANT",
          "ACCOUNTANT",
          "ACCOUNTANT",
          "ACCOUNTANT",
          "ACCOUNTANT",
          "ACCOUNTANT",
          "ACCOUNTANT",
          "ACCOUNTANT",
          "ACCOUNTANT",
          "ACCOUNTANT",
          "ACCOUNTANT",
          "ACCOUNTANT",
          "ACCOUNTANT",
          "ACCOUNTANT",
          "ACCOUNTANT",
          "ACCOUNTANT",
          "ACCOUNTANT",
          "ACCOUNTANT",
          "ACCOUNTANT",
          "ACCOUNTANT",
          "ACCOUNTANT",
          "ACCOUNTANT",
          "ACCOUNTANT",
          "ACCOUNTANT",
          "ACCOUNTANT",
          "ACCOUNTANT",
          "ACCOUNTANT",
          "ACCOUNTANT",
          "ACCOUNTANT",
          "ACCOUNTANT",
          "ACCOUNTANT",
          "ACCOUNTANT",
          "ACCOUNTANT",
          "ACCOUNTANT",
          "ACCOUNTANT",
          "ACCOUNTANT",
          "ACCOUNTANT",
          "ACCOUNTANT",
          "ACCOUNTANT",
          "ACCOUNTANT",
          "ACCOUNTANT",
          "ACCOUNTANT",
          "ACCOUNTANT",
          "ACCOUNTANT",
          "ACCOUNTANT",
          "ACCOUNTANT",
          "ACCOUNTANT",
          "ACCOUNTANT",
          "ACCOUNTANT",
          "ACCOUNTANT",
          "ACCOUNTANT",
          "ACCOUNTANT",
          "ACCOUNTANT",
          "ACCOUNTANT",
          "ACCOUNTANT",
          "ACCOUNTANT",
          "ACCOUNTANT",
          "ACCOUNTANT",
          "ACCOUNTANT",
          "ACCOUNTANT",
          "ACCOUNTANT",
          "ACCOUNTANT",
          "ACCOUNTANT",
          "ACCOUNTANT",
          "ACCOUNTANT",
          "ACCOUNTANT",
          "ACCOUNTANT",
          "ACCOUNTANT",
          "ACCOUNTANT",
          "ACCOUNTANT",
          "ACCOUNTANT",
          "CONSTRUCTION",
          "CONSTRUCTION",
          "CONSTRUCTION",
          "CONSTRUCTION",
          "CONSTRUCTION",
          "CONSTRUCTION",
          "CONSTRUCTION",
          "CONSTRUCTION",
          "CONSTRUCTION",
          "CONSTRUCTION",
          "CONSTRUCTION",
          "CONSTRUCTION",
          "CONSTRUCTION",
          "CONSTRUCTION",
          "CONSTRUCTION",
          "CONSTRUCTION",
          "CONSTRUCTION",
          "CONSTRUCTION",
          "CONSTRUCTION",
          "CONSTRUCTION",
          "CONSTRUCTION",
          "CONSTRUCTION",
          "CONSTRUCTION",
          "CONSTRUCTION",
          "CONSTRUCTION",
          "CONSTRUCTION",
          "CONSTRUCTION",
          "CONSTRUCTION",
          "CONSTRUCTION",
          "CONSTRUCTION",
          "CONSTRUCTION",
          "CONSTRUCTION",
          "CONSTRUCTION",
          "CONSTRUCTION",
          "CONSTRUCTION",
          "CONSTRUCTION",
          "CONSTRUCTION",
          "CONSTRUCTION",
          "CONSTRUCTION",
          "CONSTRUCTION",
          "CONSTRUCTION",
          "CONSTRUCTION",
          "CONSTRUCTION",
          "CONSTRUCTION",
          "CONSTRUCTION",
          "CONSTRUCTION",
          "CONSTRUCTION",
          "CONSTRUCTION",
          "CONSTRUCTION",
          "CONSTRUCTION",
          "CONSTRUCTION",
          "CONSTRUCTION",
          "CONSTRUCTION",
          "CONSTRUCTION",
          "CONSTRUCTION",
          "CONSTRUCTION",
          "CONSTRUCTION",
          "CONSTRUCTION",
          "CONSTRUCTION",
          "CONSTRUCTION",
          "CONSTRUCTION",
          "CONSTRUCTION",
          "CONSTRUCTION",
          "CONSTRUCTION",
          "CONSTRUCTION",
          "CONSTRUCTION",
          "CONSTRUCTION",
          "CONSTRUCTION",
          "CONSTRUCTION",
          "CONSTRUCTION",
          "CONSTRUCTION",
          "CONSTRUCTION",
          "CONSTRUCTION",
          "CONSTRUCTION",
          "CONSTRUCTION",
          "CONSTRUCTION",
          "CONSTRUCTION",
          "CONSTRUCTION",
          "CONSTRUCTION",
          "CONSTRUCTION",
          "CONSTRUCTION",
          "CONSTRUCTION",
          "CONSTRUCTION",
          "CONSTRUCTION",
          "CONSTRUCTION",
          "CONSTRUCTION",
          "CONSTRUCTION",
          "CONSTRUCTION",
          "CONSTRUCTION",
          "CONSTRUCTION",
          "CONSTRUCTION",
          "CONSTRUCTION",
          "CONSTRUCTION",
          "CONSTRUCTION",
          "CONSTRUCTION",
          "CONSTRUCTION",
          "CONSTRUCTION",
          "CONSTRUCTION",
          "CONSTRUCTION",
          "CONSTRUCTION",
          "CONSTRUCTION",
          "CONSTRUCTION",
          "CONSTRUCTION",
          "CONSTRUCTION",
          "CONSTRUCTION",
          "CONSTRUCTION",
          "CONSTRUCTION",
          "CONSTRUCTION",
          "CONSTRUCTION",
          "CONSTRUCTION",
          "CONSTRUCTION",
          "CONSTRUCTION",
          "PUBLIC-RELATIONS",
          "PUBLIC-RELATIONS",
          "PUBLIC-RELATIONS",
          "PUBLIC-RELATIONS",
          "PUBLIC-RELATIONS",
          "PUBLIC-RELATIONS",
          "PUBLIC-RELATIONS",
          "PUBLIC-RELATIONS",
          "PUBLIC-RELATIONS",
          "PUBLIC-RELATIONS",
          "PUBLIC-RELATIONS",
          "PUBLIC-RELATIONS",
          "PUBLIC-RELATIONS",
          "PUBLIC-RELATIONS",
          "PUBLIC-RELATIONS",
          "PUBLIC-RELATIONS",
          "PUBLIC-RELATIONS",
          "PUBLIC-RELATIONS",
          "PUBLIC-RELATIONS",
          "PUBLIC-RELATIONS",
          "PUBLIC-RELATIONS",
          "PUBLIC-RELATIONS",
          "PUBLIC-RELATIONS",
          "PUBLIC-RELATIONS",
          "PUBLIC-RELATIONS",
          "PUBLIC-RELATIONS",
          "PUBLIC-RELATIONS",
          "PUBLIC-RELATIONS",
          "PUBLIC-RELATIONS",
          "PUBLIC-RELATIONS",
          "PUBLIC-RELATIONS",
          "PUBLIC-RELATIONS",
          "PUBLIC-RELATIONS",
          "PUBLIC-RELATIONS",
          "PUBLIC-RELATIONS",
          "PUBLIC-RELATIONS",
          "PUBLIC-RELATIONS",
          "PUBLIC-RELATIONS",
          "PUBLIC-RELATIONS",
          "PUBLIC-RELATIONS",
          "PUBLIC-RELATIONS",
          "PUBLIC-RELATIONS",
          "PUBLIC-RELATIONS",
          "PUBLIC-RELATIONS",
          "PUBLIC-RELATIONS",
          "PUBLIC-RELATIONS",
          "PUBLIC-RELATIONS",
          "PUBLIC-RELATIONS",
          "PUBLIC-RELATIONS",
          "PUBLIC-RELATIONS",
          "PUBLIC-RELATIONS",
          "PUBLIC-RELATIONS",
          "PUBLIC-RELATIONS",
          "PUBLIC-RELATIONS",
          "PUBLIC-RELATIONS",
          "PUBLIC-RELATIONS",
          "PUBLIC-RELATIONS",
          "PUBLIC-RELATIONS",
          "PUBLIC-RELATIONS",
          "PUBLIC-RELATIONS",
          "PUBLIC-RELATIONS",
          "PUBLIC-RELATIONS",
          "PUBLIC-RELATIONS",
          "PUBLIC-RELATIONS",
          "PUBLIC-RELATIONS",
          "PUBLIC-RELATIONS",
          "PUBLIC-RELATIONS",
          "PUBLIC-RELATIONS",
          "PUBLIC-RELATIONS",
          "PUBLIC-RELATIONS",
          "PUBLIC-RELATIONS",
          "PUBLIC-RELATIONS",
          "PUBLIC-RELATIONS",
          "PUBLIC-RELATIONS",
          "PUBLIC-RELATIONS",
          "PUBLIC-RELATIONS",
          "PUBLIC-RELATIONS",
          "PUBLIC-RELATIONS",
          "PUBLIC-RELATIONS",
          "PUBLIC-RELATIONS",
          "PUBLIC-RELATIONS",
          "PUBLIC-RELATIONS",
          "PUBLIC-RELATIONS",
          "PUBLIC-RELATIONS",
          "PUBLIC-RELATIONS",
          "PUBLIC-RELATIONS",
          "PUBLIC-RELATIONS",
          "PUBLIC-RELATIONS",
          "PUBLIC-RELATIONS",
          "PUBLIC-RELATIONS",
          "PUBLIC-RELATIONS",
          "PUBLIC-RELATIONS",
          "PUBLIC-RELATIONS",
          "PUBLIC-RELATIONS",
          "PUBLIC-RELATIONS",
          "PUBLIC-RELATIONS",
          "PUBLIC-RELATIONS",
          "PUBLIC-RELATIONS",
          "PUBLIC-RELATIONS",
          "PUBLIC-RELATIONS",
          "PUBLIC-RELATIONS",
          "PUBLIC-RELATIONS",
          "PUBLIC-RELATIONS",
          "PUBLIC-RELATIONS",
          "PUBLIC-RELATIONS",
          "PUBLIC-RELATIONS",
          "PUBLIC-RELATIONS",
          "PUBLIC-RELATIONS",
          "PUBLIC-RELATIONS",
          "PUBLIC-RELATIONS",
          "PUBLIC-RELATIONS",
          "BANKING",
          "BANKING",
          "BANKING",
          "BANKING",
          "BANKING",
          "BANKING",
          "BANKING",
          "BANKING",
          "BANKING",
          "BANKING",
          "BANKING",
          "BANKING",
          "BANKING",
          "BANKING",
          "BANKING",
          "BANKING",
          "BANKING",
          "BANKING",
          "BANKING",
          "BANKING",
          "BANKING",
          "BANKING",
          "BANKING",
          "BANKING",
          "BANKING",
          "BANKING",
          "BANKING",
          "BANKING",
          "BANKING",
          "BANKING",
          "BANKING",
          "BANKING",
          "BANKING",
          "BANKING",
          "BANKING",
          "BANKING",
          "BANKING",
          "BANKING",
          "BANKING",
          "BANKING",
          "BANKING",
          "BANKING",
          "BANKING",
          "BANKING",
          "BANKING",
          "BANKING",
          "BANKING",
          "BANKING",
          "BANKING",
          "BANKING",
          "BANKING",
          "BANKING",
          "BANKING",
          "BANKING",
          "BANKING",
          "BANKING",
          "BANKING",
          "BANKING",
          "BANKING",
          "BANKING",
          "BANKING",
          "BANKING",
          "BANKING",
          "BANKING",
          "BANKING",
          "BANKING",
          "BANKING",
          "BANKING",
          "BANKING",
          "BANKING",
          "BANKING",
          "BANKING",
          "BANKING",
          "BANKING",
          "BANKING",
          "BANKING",
          "BANKING",
          "BANKING",
          "BANKING",
          "BANKING",
          "BANKING",
          "BANKING",
          "BANKING",
          "BANKING",
          "BANKING",
          "BANKING",
          "BANKING",
          "BANKING",
          "BANKING",
          "BANKING",
          "BANKING",
          "BANKING",
          "BANKING",
          "BANKING",
          "BANKING",
          "BANKING",
          "BANKING",
          "BANKING",
          "BANKING",
          "BANKING",
          "BANKING",
          "BANKING",
          "BANKING",
          "BANKING",
          "BANKING",
          "BANKING",
          "BANKING",
          "BANKING",
          "BANKING",
          "BANKING",
          "BANKING",
          "BANKING",
          "BANKING",
          "BANKING",
          "BANKING",
          "ARTS",
          "ARTS",
          "ARTS",
          "ARTS",
          "ARTS",
          "ARTS",
          "ARTS",
          "ARTS",
          "ARTS",
          "ARTS",
          "ARTS",
          "ARTS",
          "ARTS",
          "ARTS",
          "ARTS",
          "ARTS",
          "ARTS",
          "ARTS",
          "ARTS",
          "ARTS",
          "ARTS",
          "ARTS",
          "ARTS",
          "ARTS",
          "ARTS",
          "ARTS",
          "ARTS",
          "ARTS",
          "ARTS",
          "ARTS",
          "ARTS",
          "ARTS",
          "ARTS",
          "ARTS",
          "ARTS",
          "ARTS",
          "ARTS",
          "ARTS",
          "ARTS",
          "ARTS",
          "ARTS",
          "ARTS",
          "ARTS",
          "ARTS",
          "ARTS",
          "ARTS",
          "ARTS",
          "ARTS",
          "ARTS",
          "ARTS",
          "ARTS",
          "ARTS",
          "ARTS",
          "ARTS",
          "ARTS",
          "ARTS",
          "ARTS",
          "ARTS",
          "ARTS",
          "ARTS",
          "ARTS",
          "ARTS",
          "ARTS",
          "ARTS",
          "ARTS",
          "ARTS",
          "ARTS",
          "ARTS",
          "ARTS",
          "ARTS",
          "ARTS",
          "ARTS",
          "ARTS",
          "ARTS",
          "ARTS",
          "ARTS",
          "ARTS",
          "ARTS",
          "ARTS",
          "ARTS",
          "ARTS",
          "ARTS",
          "ARTS",
          "ARTS",
          "ARTS",
          "ARTS",
          "ARTS",
          "ARTS",
          "ARTS",
          "ARTS",
          "ARTS",
          "ARTS",
          "ARTS",
          "ARTS",
          "ARTS",
          "ARTS",
          "ARTS",
          "ARTS",
          "ARTS",
          "ARTS",
          "ARTS",
          "ARTS",
          "ARTS",
          "AVIATION",
          "AVIATION",
          "AVIATION",
          "AVIATION",
          "AVIATION",
          "AVIATION",
          "AVIATION",
          "AVIATION",
          "AVIATION",
          "AVIATION",
          "AVIATION",
          "AVIATION",
          "AVIATION",
          "AVIATION",
          "AVIATION",
          "AVIATION",
          "AVIATION",
          "AVIATION",
          "AVIATION",
          "AVIATION",
          "AVIATION",
          "AVIATION",
          "AVIATION",
          "AVIATION",
          "AVIATION",
          "AVIATION",
          "AVIATION",
          "AVIATION",
          "AVIATION",
          "AVIATION",
          "AVIATION",
          "AVIATION",
          "AVIATION",
          "AVIATION",
          "AVIATION",
          "AVIATION",
          "AVIATION",
          "AVIATION",
          "AVIATION",
          "AVIATION",
          "AVIATION",
          "AVIATION",
          "AVIATION",
          "AVIATION",
          "AVIATION",
          "AVIATION",
          "AVIATION",
          "AVIATION",
          "AVIATION",
          "AVIATION",
          "AVIATION",
          "AVIATION",
          "AVIATION",
          "AVIATION",
          "AVIATION",
          "AVIATION",
          "AVIATION",
          "AVIATION",
          "AVIATION",
          "AVIATION",
          "AVIATION",
          "AVIATION",
          "AVIATION",
          "AVIATION",
          "AVIATION",
          "AVIATION",
          "AVIATION",
          "AVIATION",
          "AVIATION",
          "AVIATION",
          "AVIATION",
          "AVIATION",
          "AVIATION",
          "AVIATION",
          "AVIATION",
          "AVIATION",
          "AVIATION",
          "AVIATION",
          "AVIATION",
          "AVIATION",
          "AVIATION",
          "AVIATION",
          "AVIATION",
          "AVIATION",
          "AVIATION",
          "AVIATION",
          "AVIATION",
          "AVIATION",
          "AVIATION",
          "AVIATION",
          "AVIATION",
          "AVIATION",
          "AVIATION",
          "AVIATION",
          "AVIATION",
          "AVIATION",
          "AVIATION",
          "AVIATION",
          "AVIATION",
          "AVIATION",
          "AVIATION",
          "AVIATION",
          "AVIATION",
          "AVIATION",
          "AVIATION",
          "AVIATION",
          "AVIATION",
          "AVIATION",
          "AVIATION",
          "AVIATION",
          "AVIATION",
          "AVIATION",
          "AVIATION",
          "AVIATION",
          "AVIATION",
          "AVIATION",
          "AVIATION"
         ],
         "xaxis": "x",
         "yaxis": "y"
        }
       ],
       "layout": {
        "autosize": true,
        "barmode": "relative",
        "legend": {
         "tracegroupgap": 0
        },
        "template": {
         "data": {
          "bar": [
           {
            "error_x": {
             "color": "#2a3f5f"
            },
            "error_y": {
             "color": "#2a3f5f"
            },
            "marker": {
             "line": {
              "color": "#E5ECF6",
              "width": 0.5
             },
             "pattern": {
              "fillmode": "overlay",
              "size": 10,
              "solidity": 0.2
             }
            },
            "type": "bar"
           }
          ],
          "barpolar": [
           {
            "marker": {
             "line": {
              "color": "#E5ECF6",
              "width": 0.5
             },
             "pattern": {
              "fillmode": "overlay",
              "size": 10,
              "solidity": 0.2
             }
            },
            "type": "barpolar"
           }
          ],
          "carpet": [
           {
            "aaxis": {
             "endlinecolor": "#2a3f5f",
             "gridcolor": "white",
             "linecolor": "white",
             "minorgridcolor": "white",
             "startlinecolor": "#2a3f5f"
            },
            "baxis": {
             "endlinecolor": "#2a3f5f",
             "gridcolor": "white",
             "linecolor": "white",
             "minorgridcolor": "white",
             "startlinecolor": "#2a3f5f"
            },
            "type": "carpet"
           }
          ],
          "choropleth": [
           {
            "colorbar": {
             "outlinewidth": 0,
             "ticks": ""
            },
            "type": "choropleth"
           }
          ],
          "contour": [
           {
            "colorbar": {
             "outlinewidth": 0,
             "ticks": ""
            },
            "colorscale": [
             [
              0,
              "#0d0887"
             ],
             [
              0.1111111111111111,
              "#46039f"
             ],
             [
              0.2222222222222222,
              "#7201a8"
             ],
             [
              0.3333333333333333,
              "#9c179e"
             ],
             [
              0.4444444444444444,
              "#bd3786"
             ],
             [
              0.5555555555555556,
              "#d8576b"
             ],
             [
              0.6666666666666666,
              "#ed7953"
             ],
             [
              0.7777777777777778,
              "#fb9f3a"
             ],
             [
              0.8888888888888888,
              "#fdca26"
             ],
             [
              1,
              "#f0f921"
             ]
            ],
            "type": "contour"
           }
          ],
          "contourcarpet": [
           {
            "colorbar": {
             "outlinewidth": 0,
             "ticks": ""
            },
            "type": "contourcarpet"
           }
          ],
          "heatmap": [
           {
            "colorbar": {
             "outlinewidth": 0,
             "ticks": ""
            },
            "colorscale": [
             [
              0,
              "#0d0887"
             ],
             [
              0.1111111111111111,
              "#46039f"
             ],
             [
              0.2222222222222222,
              "#7201a8"
             ],
             [
              0.3333333333333333,
              "#9c179e"
             ],
             [
              0.4444444444444444,
              "#bd3786"
             ],
             [
              0.5555555555555556,
              "#d8576b"
             ],
             [
              0.6666666666666666,
              "#ed7953"
             ],
             [
              0.7777777777777778,
              "#fb9f3a"
             ],
             [
              0.8888888888888888,
              "#fdca26"
             ],
             [
              1,
              "#f0f921"
             ]
            ],
            "type": "heatmap"
           }
          ],
          "heatmapgl": [
           {
            "colorbar": {
             "outlinewidth": 0,
             "ticks": ""
            },
            "colorscale": [
             [
              0,
              "#0d0887"
             ],
             [
              0.1111111111111111,
              "#46039f"
             ],
             [
              0.2222222222222222,
              "#7201a8"
             ],
             [
              0.3333333333333333,
              "#9c179e"
             ],
             [
              0.4444444444444444,
              "#bd3786"
             ],
             [
              0.5555555555555556,
              "#d8576b"
             ],
             [
              0.6666666666666666,
              "#ed7953"
             ],
             [
              0.7777777777777778,
              "#fb9f3a"
             ],
             [
              0.8888888888888888,
              "#fdca26"
             ],
             [
              1,
              "#f0f921"
             ]
            ],
            "type": "heatmapgl"
           }
          ],
          "histogram": [
           {
            "marker": {
             "pattern": {
              "fillmode": "overlay",
              "size": 10,
              "solidity": 0.2
             }
            },
            "type": "histogram"
           }
          ],
          "histogram2d": [
           {
            "colorbar": {
             "outlinewidth": 0,
             "ticks": ""
            },
            "colorscale": [
             [
              0,
              "#0d0887"
             ],
             [
              0.1111111111111111,
              "#46039f"
             ],
             [
              0.2222222222222222,
              "#7201a8"
             ],
             [
              0.3333333333333333,
              "#9c179e"
             ],
             [
              0.4444444444444444,
              "#bd3786"
             ],
             [
              0.5555555555555556,
              "#d8576b"
             ],
             [
              0.6666666666666666,
              "#ed7953"
             ],
             [
              0.7777777777777778,
              "#fb9f3a"
             ],
             [
              0.8888888888888888,
              "#fdca26"
             ],
             [
              1,
              "#f0f921"
             ]
            ],
            "type": "histogram2d"
           }
          ],
          "histogram2dcontour": [
           {
            "colorbar": {
             "outlinewidth": 0,
             "ticks": ""
            },
            "colorscale": [
             [
              0,
              "#0d0887"
             ],
             [
              0.1111111111111111,
              "#46039f"
             ],
             [
              0.2222222222222222,
              "#7201a8"
             ],
             [
              0.3333333333333333,
              "#9c179e"
             ],
             [
              0.4444444444444444,
              "#bd3786"
             ],
             [
              0.5555555555555556,
              "#d8576b"
             ],
             [
              0.6666666666666666,
              "#ed7953"
             ],
             [
              0.7777777777777778,
              "#fb9f3a"
             ],
             [
              0.8888888888888888,
              "#fdca26"
             ],
             [
              1,
              "#f0f921"
             ]
            ],
            "type": "histogram2dcontour"
           }
          ],
          "mesh3d": [
           {
            "colorbar": {
             "outlinewidth": 0,
             "ticks": ""
            },
            "type": "mesh3d"
           }
          ],
          "parcoords": [
           {
            "line": {
             "colorbar": {
              "outlinewidth": 0,
              "ticks": ""
             }
            },
            "type": "parcoords"
           }
          ],
          "pie": [
           {
            "automargin": true,
            "type": "pie"
           }
          ],
          "scatter": [
           {
            "marker": {
             "colorbar": {
              "outlinewidth": 0,
              "ticks": ""
             }
            },
            "type": "scatter"
           }
          ],
          "scatter3d": [
           {
            "line": {
             "colorbar": {
              "outlinewidth": 0,
              "ticks": ""
             }
            },
            "marker": {
             "colorbar": {
              "outlinewidth": 0,
              "ticks": ""
             }
            },
            "type": "scatter3d"
           }
          ],
          "scattercarpet": [
           {
            "marker": {
             "colorbar": {
              "outlinewidth": 0,
              "ticks": ""
             }
            },
            "type": "scattercarpet"
           }
          ],
          "scattergeo": [
           {
            "marker": {
             "colorbar": {
              "outlinewidth": 0,
              "ticks": ""
             }
            },
            "type": "scattergeo"
           }
          ],
          "scattergl": [
           {
            "marker": {
             "colorbar": {
              "outlinewidth": 0,
              "ticks": ""
             }
            },
            "type": "scattergl"
           }
          ],
          "scattermapbox": [
           {
            "marker": {
             "colorbar": {
              "outlinewidth": 0,
              "ticks": ""
             }
            },
            "type": "scattermapbox"
           }
          ],
          "scatterpolar": [
           {
            "marker": {
             "colorbar": {
              "outlinewidth": 0,
              "ticks": ""
             }
            },
            "type": "scatterpolar"
           }
          ],
          "scatterpolargl": [
           {
            "marker": {
             "colorbar": {
              "outlinewidth": 0,
              "ticks": ""
             }
            },
            "type": "scatterpolargl"
           }
          ],
          "scatterternary": [
           {
            "marker": {
             "colorbar": {
              "outlinewidth": 0,
              "ticks": ""
             }
            },
            "type": "scatterternary"
           }
          ],
          "surface": [
           {
            "colorbar": {
             "outlinewidth": 0,
             "ticks": ""
            },
            "colorscale": [
             [
              0,
              "#0d0887"
             ],
             [
              0.1111111111111111,
              "#46039f"
             ],
             [
              0.2222222222222222,
              "#7201a8"
             ],
             [
              0.3333333333333333,
              "#9c179e"
             ],
             [
              0.4444444444444444,
              "#bd3786"
             ],
             [
              0.5555555555555556,
              "#d8576b"
             ],
             [
              0.6666666666666666,
              "#ed7953"
             ],
             [
              0.7777777777777778,
              "#fb9f3a"
             ],
             [
              0.8888888888888888,
              "#fdca26"
             ],
             [
              1,
              "#f0f921"
             ]
            ],
            "type": "surface"
           }
          ],
          "table": [
           {
            "cells": {
             "fill": {
              "color": "#EBF0F8"
             },
             "line": {
              "color": "white"
             }
            },
            "header": {
             "fill": {
              "color": "#C8D4E3"
             },
             "line": {
              "color": "white"
             }
            },
            "type": "table"
           }
          ]
         },
         "layout": {
          "annotationdefaults": {
           "arrowcolor": "#2a3f5f",
           "arrowhead": 0,
           "arrowwidth": 1
          },
          "autotypenumbers": "strict",
          "coloraxis": {
           "colorbar": {
            "outlinewidth": 0,
            "ticks": ""
           }
          },
          "colorscale": {
           "diverging": [
            [
             0,
             "#8e0152"
            ],
            [
             0.1,
             "#c51b7d"
            ],
            [
             0.2,
             "#de77ae"
            ],
            [
             0.3,
             "#f1b6da"
            ],
            [
             0.4,
             "#fde0ef"
            ],
            [
             0.5,
             "#f7f7f7"
            ],
            [
             0.6,
             "#e6f5d0"
            ],
            [
             0.7,
             "#b8e186"
            ],
            [
             0.8,
             "#7fbc41"
            ],
            [
             0.9,
             "#4d9221"
            ],
            [
             1,
             "#276419"
            ]
           ],
           "sequential": [
            [
             0,
             "#0d0887"
            ],
            [
             0.1111111111111111,
             "#46039f"
            ],
            [
             0.2222222222222222,
             "#7201a8"
            ],
            [
             0.3333333333333333,
             "#9c179e"
            ],
            [
             0.4444444444444444,
             "#bd3786"
            ],
            [
             0.5555555555555556,
             "#d8576b"
            ],
            [
             0.6666666666666666,
             "#ed7953"
            ],
            [
             0.7777777777777778,
             "#fb9f3a"
            ],
            [
             0.8888888888888888,
             "#fdca26"
            ],
            [
             1,
             "#f0f921"
            ]
           ],
           "sequentialminus": [
            [
             0,
             "#0d0887"
            ],
            [
             0.1111111111111111,
             "#46039f"
            ],
            [
             0.2222222222222222,
             "#7201a8"
            ],
            [
             0.3333333333333333,
             "#9c179e"
            ],
            [
             0.4444444444444444,
             "#bd3786"
            ],
            [
             0.5555555555555556,
             "#d8576b"
            ],
            [
             0.6666666666666666,
             "#ed7953"
            ],
            [
             0.7777777777777778,
             "#fb9f3a"
            ],
            [
             0.8888888888888888,
             "#fdca26"
            ],
            [
             1,
             "#f0f921"
            ]
           ]
          },
          "colorway": [
           "#636efa",
           "#EF553B",
           "#00cc96",
           "#ab63fa",
           "#FFA15A",
           "#19d3f3",
           "#FF6692",
           "#B6E880",
           "#FF97FF",
           "#FECB52"
          ],
          "font": {
           "color": "#2a3f5f"
          },
          "geo": {
           "bgcolor": "white",
           "lakecolor": "white",
           "landcolor": "#E5ECF6",
           "showlakes": true,
           "showland": true,
           "subunitcolor": "white"
          },
          "hoverlabel": {
           "align": "left"
          },
          "hovermode": "closest",
          "mapbox": {
           "style": "light"
          },
          "paper_bgcolor": "white",
          "plot_bgcolor": "#E5ECF6",
          "polar": {
           "angularaxis": {
            "gridcolor": "white",
            "linecolor": "white",
            "ticks": ""
           },
           "bgcolor": "#E5ECF6",
           "radialaxis": {
            "gridcolor": "white",
            "linecolor": "white",
            "ticks": ""
           }
          },
          "scene": {
           "xaxis": {
            "backgroundcolor": "#E5ECF6",
            "gridcolor": "white",
            "gridwidth": 2,
            "linecolor": "white",
            "showbackground": true,
            "ticks": "",
            "zerolinecolor": "white"
           },
           "yaxis": {
            "backgroundcolor": "#E5ECF6",
            "gridcolor": "white",
            "gridwidth": 2,
            "linecolor": "white",
            "showbackground": true,
            "ticks": "",
            "zerolinecolor": "white"
           },
           "zaxis": {
            "backgroundcolor": "#E5ECF6",
            "gridcolor": "white",
            "gridwidth": 2,
            "linecolor": "white",
            "showbackground": true,
            "ticks": "",
            "zerolinecolor": "white"
           }
          },
          "shapedefaults": {
           "line": {
            "color": "#2a3f5f"
           }
          },
          "ternary": {
           "aaxis": {
            "gridcolor": "white",
            "linecolor": "white",
            "ticks": ""
           },
           "baxis": {
            "gridcolor": "white",
            "linecolor": "white",
            "ticks": ""
           },
           "bgcolor": "#E5ECF6",
           "caxis": {
            "gridcolor": "white",
            "linecolor": "white",
            "ticks": ""
           }
          },
          "title": {
           "x": 0.05
          },
          "xaxis": {
           "automargin": true,
           "gridcolor": "white",
           "linecolor": "white",
           "ticks": "",
           "title": {
            "standoff": 15
           },
           "zerolinecolor": "white",
           "zerolinewidth": 2
          },
          "yaxis": {
           "automargin": true,
           "gridcolor": "white",
           "linecolor": "white",
           "ticks": "",
           "title": {
            "standoff": 15
           },
           "zerolinecolor": "white",
           "zerolinewidth": 2
          }
         }
        },
        "title": {
         "text": "Distribution of Jobs Categories"
        },
        "xaxis": {
         "anchor": "y",
         "autorange": true,
         "categoryorder": "total descending",
         "domain": [
          0,
          1
         ],
         "range": [
          -0.5,
          23.5
         ],
         "title": {
          "text": "Category"
         },
         "type": "category"
        },
        "yaxis": {
         "anchor": "x",
         "autorange": true,
         "domain": [
          0,
          1
         ],
         "range": [
          0,
          126.3157894736842
         ],
         "title": {
          "text": "count"
         }
        }
       }
      },
      "image/png": "[encoded data removed]",
      "text/html": [
       "<div>                            <div id=\"58661e46-93b1-45e8-9805-31c3dfdc6edd\" class=\"plotly-graph-div\" style=\"height:525px; width:100%;\"></div>            <script type=\"text/javascript\">                require([\"plotly\"], function(Plotly) {                    window.PLOTLYENV=window.PLOTLYENV || {};                                    if (document.getElementById(\"58661e46-93b1-45e8-9805-31c3dfdc6edd\")) {                    Plotly.newPlot(                        \"58661e46-93b1-45e8-9805-31c3dfdc6edd\",                        [{\"alignmentgroup\":\"True\",\"bingroup\":\"x\",\"hovertemplate\":\"Category=%{x}<br>count=%{y}<extra></extra>\",\"legendgroup\":\"\",\"marker\":{\"color\":\"#636efa\",\"pattern\":{\"shape\":\"\"}},\"name\":\"\",\"offsetgroup\":\"\",\"orientation\":\"v\",\"showlegend\":false,\"type\":\"histogram\",\"x\":[\"HR\",\"HR\",\"HR\",\"HR\",\"HR\",\"HR\",\"HR\",\"HR\",\"HR\",\"HR\",\"HR\",\"HR\",\"HR\",\"HR\",\"HR\",\"HR\",\"HR\",\"HR\",\"HR\",\"HR\",\"HR\",\"HR\",\"HR\",\"HR\",\"HR\",\"HR\",\"HR\",\"HR\",\"HR\",\"HR\",\"HR\",\"HR\",\"HR\",\"HR\",\"HR\",\"HR\",\"HR\",\"HR\",\"HR\",\"HR\",\"HR\",\"HR\",\"HR\",\"HR\",\"HR\",\"HR\",\"HR\",\"HR\",\"HR\",\"HR\",\"HR\",\"HR\",\"HR\",\"HR\",\"HR\",\"HR\",\"HR\",\"HR\",\"HR\",\"HR\",\"HR\",\"HR\",\"HR\",\"HR\",\"HR\",\"HR\",\"HR\",\"HR\",\"HR\",\"HR\",\"HR\",\"HR\",\"HR\",\"HR\",\"HR\",\"HR\",\"HR\",\"HR\",\"HR\",\"HR\",\"HR\",\"HR\",\"HR\",\"HR\",\"HR\",\"HR\",\"HR\",\"HR\",\"HR\",\"HR\",\"HR\",\"HR\",\"HR\",\"HR\",\"HR\",\"HR\",\"HR\",\"HR\",\"HR\",\"HR\",\"HR\",\"HR\",\"HR\",\"HR\",\"HR\",\"HR\",\"HR\",\"HR\",\"HR\",\"HR\",\"DESIGNER\",\"DESIGNER\",\"DESIGNER\",\"DESIGNER\",\"DESIGNER\",\"DESIGNER\",\"DESIGNER\",\"DESIGNER\",\"DESIGNER\",\"DESIGNER\",\"DESIGNER\",\"DESIGNER\",\"DESIGNER\",\"DESIGNER\",\"DESIGNER\",\"DESIGNER\",\"DESIGNER\",\"DESIGNER\",\"DESIGNER\",\"DESIGNER\",\"DESIGNER\",\"DESIGNER\",\"DESIGNER\",\"DESIGNER\",\"DESIGNER\",\"DESIGNER\",\"DESIGNER\",\"DESIGNER\",\"DESIGNER\",\"DESIGNER\",\"DESIGNER\",\"DESIGNER\",\"DESIGNER\",\"DESIGNER\",\"DESIGNER\",\"DESIGNER\",\"DESIGNER\",\"DESIGNER\",\"DESIGNER\",\"DESIGNER\",\"DESIGNER\",\"DESIGNER\",\"DESIGNER\",\"DESIGNER\",\"DESIGNER\",\"DESIGNER\",\"DESIGNER\",\"DESIGNER\",\"DESIGNER\",\"DESIGNER\",\"DESIGNER\",\"DESIGNER\",\"DESIGNER\",\"DESIGNER\",\"DESIGNER\",\"DESIGNER\",\"DESIGNER\",\"DESIGNER\",\"DESIGNER\",\"DESIGNER\",\"DESIGNER\",\"DESIGNER\",\"DESIGNER\",\"DESIGNER\",\"DESIGNER\",\"DESIGNER\",\"DESIGNER\",\"DESIGNER\",\"DESIGNER\",\"DESIGNER\",\"DESIGNER\",\"DESIGNER\",\"DESIGNER\",\"DESIGNER\",\"DESIGNER\",\"DESIGNER\",\"DESIGNER\",\"DESIGNER\",\"DESIGNER\",\"DESIGNER\",\"DESIGNER\",\"DESIGNER\",\"DESIGNER\",\"DESIGNER\",\"DESIGNER\",\"DESIGNER\",\"DESIGNER\",\"DESIGNER\",\"DESIGNER\",\"DESIGNER\",\"DESIGNER\",\"DESIGNER\",\"DESIGNER\",\"DESIGNER\",\"DESIGNER\",\"DESIGNER\",\"DESIGNER\",\"DESIGNER\",\"DESIGNER\",\"DESIGNER\",\"DESIGNER\",\"DESIGNER\",\"DESIGNER\",\"DESIGNER\",\"DESIGNER\",\"DESIGNER\",\"DESIGNER\",\"INFORMATION-TECHNOLOGY\",\"INFORMATION-TECHNOLOGY\",\"INFORMATION-TECHNOLOGY\",\"INFORMATION-TECHNOLOGY\",\"INFORMATION-TECHNOLOGY\",\"INFORMATION-TECHNOLOGY\",\"INFORMATION-TECHNOLOGY\",\"INFORMATION-TECHNOLOGY\",\"INFORMATION-TECHNOLOGY\",\"INFORMATION-TECHNOLOGY\",\"INFORMATION-TECHNOLOGY\",\"INFORMATION-TECHNOLOGY\",\"INFORMATION-TECHNOLOGY\",\"INFORMATION-TECHNOLOGY\",\"INFORMATION-TECHNOLOGY\",\"INFORMATION-TECHNOLOGY\",\"INFORMATION-TECHNOLOGY\",\"INFORMATION-TECHNOLOGY\",\"INFORMATION-TECHNOLOGY\",\"INFORMATION-TECHNOLOGY\",\"INFORMATION-TECHNOLOGY\",\"INFORMATION-TECHNOLOGY\",\"INFORMATION-TECHNOLOGY\",\"INFORMATION-TECHNOLOGY\",\"INFORMATION-TECHNOLOGY\",\"INFORMATION-TECHNOLOGY\",\"INFORMATION-TECHNOLOGY\",\"INFORMATION-TECHNOLOGY\",\"INFORMATION-TECHNOLOGY\",\"INFORMATION-TECHNOLOGY\",\"INFORMATION-TECHNOLOGY\",\"INFORMATION-TECHNOLOGY\",\"INFORMATION-TECHNOLOGY\",\"INFORMATION-TECHNOLOGY\",\"INFORMATION-TECHNOLOGY\",\"INFORMATION-TECHNOLOGY\",\"INFORMATION-TECHNOLOGY\",\"INFORMATION-TECHNOLOGY\",\"INFORMATION-TECHNOLOGY\",\"INFORMATION-TECHNOLOGY\",\"INFORMATION-TECHNOLOGY\",\"INFORMATION-TECHNOLOGY\",\"INFORMATION-TECHNOLOGY\",\"INFORMATION-TECHNOLOGY\",\"INFORMATION-TECHNOLOGY\",\"INFORMATION-TECHNOLOGY\",\"INFORMATION-TECHNOLOGY\",\"INFORMATION-TECHNOLOGY\",\"INFORMATION-TECHNOLOGY\",\"INFORMATION-TECHNOLOGY\",\"INFORMATION-TECHNOLOGY\",\"INFORMATION-TECHNOLOGY\",\"INFORMATION-TECHNOLOGY\",\"INFORMATION-TECHNOLOGY\",\"INFORMATION-TECHNOLOGY\",\"INFORMATION-TECHNOLOGY\",\"INFORMATION-TECHNOLOGY\",\"INFORMATION-TECHNOLOGY\",\"INFORMATION-TECHNOLOGY\",\"INFORMATION-TECHNOLOGY\",\"INFORMATION-TECHNOLOGY\",\"INFORMATION-TECHNOLOGY\",\"INFORMATION-TECHNOLOGY\",\"INFORMATION-TECHNOLOGY\",\"INFORMATION-TECHNOLOGY\",\"INFORMATION-TECHNOLOGY\",\"INFORMATION-TECHNOLOGY\",\"INFORMATION-TECHNOLOGY\",\"INFORMATION-TECHNOLOGY\",\"INFORMATION-TECHNOLOGY\",\"INFORMATION-TECHNOLOGY\",\"INFORMATION-TECHNOLOGY\",\"INFORMATION-TECHNOLOGY\",\"INFORMATION-TECHNOLOGY\",\"INFORMATION-TECHNOLOGY\",\"INFORMATION-TECHNOLOGY\",\"INFORMATION-TECHNOLOGY\",\"INFORMATION-TECHNOLOGY\",\"INFORMATION-TECHNOLOGY\",\"INFORMATION-TECHNOLOGY\",\"INFORMATION-TECHNOLOGY\",\"INFORMATION-TECHNOLOGY\",\"INFORMATION-TECHNOLOGY\",\"INFORMATION-TECHNOLOGY\",\"INFORMATION-TECHNOLOGY\",\"INFORMATION-TECHNOLOGY\",\"INFORMATION-TECHNOLOGY\",\"INFORMATION-TECHNOLOGY\",\"INFORMATION-TECHNOLOGY\",\"INFORMATION-TECHNOLOGY\",\"INFORMATION-TECHNOLOGY\",\"INFORMATION-TECHNOLOGY\",\"INFORMATION-TECHNOLOGY\",\"INFORMATION-TECHNOLOGY\",\"INFORMATION-TECHNOLOGY\",\"INFORMATION-TECHNOLOGY\",\"INFORMATION-TECHNOLOGY\",\"INFORMATION-TECHNOLOGY\",\"INFORMATION-TECHNOLOGY\",\"INFORMATION-TECHNOLOGY\",\"INFORMATION-TECHNOLOGY\",\"INFORMATION-TECHNOLOGY\",\"INFORMATION-TECHNOLOGY\",\"INFORMATION-TECHNOLOGY\",\"INFORMATION-TECHNOLOGY\",\"INFORMATION-TECHNOLOGY\",\"INFORMATION-TECHNOLOGY\",\"INFORMATION-TECHNOLOGY\",\"INFORMATION-TECHNOLOGY\",\"INFORMATION-TECHNOLOGY\",\"INFORMATION-TECHNOLOGY\",\"INFORMATION-TECHNOLOGY\",\"INFORMATION-TECHNOLOGY\",\"INFORMATION-TECHNOLOGY\",\"INFORMATION-TECHNOLOGY\",\"INFORMATION-TECHNOLOGY\",\"INFORMATION-TECHNOLOGY\",\"INFORMATION-TECHNOLOGY\",\"INFORMATION-TECHNOLOGY\",\"INFORMATION-TECHNOLOGY\",\"TEACHER\",\"TEACHER\",\"TEACHER\",\"TEACHER\",\"TEACHER\",\"TEACHER\",\"TEACHER\",\"TEACHER\",\"TEACHER\",\"TEACHER\",\"TEACHER\",\"TEACHER\",\"TEACHER\",\"TEACHER\",\"TEACHER\",\"TEACHER\",\"TEACHER\",\"TEACHER\",\"TEACHER\",\"TEACHER\",\"TEACHER\",\"TEACHER\",\"TEACHER\",\"TEACHER\",\"TEACHER\",\"TEACHER\",\"TEACHER\",\"TEACHER\",\"TEACHER\",\"TEACHER\",\"TEACHER\",\"TEACHER\",\"TEACHER\",\"TEACHER\",\"TEACHER\",\"TEACHER\",\"TEACHER\",\"TEACHER\",\"TEACHER\",\"TEACHER\",\"TEACHER\",\"TEACHER\",\"TEACHER\",\"TEACHER\",\"TEACHER\",\"TEACHER\",\"TEACHER\",\"TEACHER\",\"TEACHER\",\"TEACHER\",\"TEACHER\",\"TEACHER\",\"TEACHER\",\"TEACHER\",\"TEACHER\",\"TEACHER\",\"TEACHER\",\"TEACHER\",\"TEACHER\",\"TEACHER\",\"TEACHER\",\"TEACHER\",\"TEACHER\",\"TEACHER\",\"TEACHER\",\"TEACHER\",\"TEACHER\",\"TEACHER\",\"TEACHER\",\"TEACHER\",\"TEACHER\",\"TEACHER\",\"TEACHER\",\"TEACHER\",\"TEACHER\",\"TEACHER\",\"TEACHER\",\"TEACHER\",\"TEACHER\",\"TEACHER\",\"TEACHER\",\"TEACHER\",\"TEACHER\",\"TEACHER\",\"TEACHER\",\"TEACHER\",\"TEACHER\",\"TEACHER\",\"TEACHER\",\"TEACHER\",\"TEACHER\",\"TEACHER\",\"TEACHER\",\"TEACHER\",\"TEACHER\",\"TEACHER\",\"TEACHER\",\"TEACHER\",\"TEACHER\",\"TEACHER\",\"TEACHER\",\"TEACHER\",\"ADVOCATE\",\"ADVOCATE\",\"ADVOCATE\",\"ADVOCATE\",\"ADVOCATE\",\"ADVOCATE\",\"ADVOCATE\",\"ADVOCATE\",\"ADVOCATE\",\"ADVOCATE\",\"ADVOCATE\",\"ADVOCATE\",\"ADVOCATE\",\"ADVOCATE\",\"ADVOCATE\",\"ADVOCATE\",\"ADVOCATE\",\"ADVOCATE\",\"ADVOCATE\",\"ADVOCATE\",\"ADVOCATE\",\"ADVOCATE\",\"ADVOCATE\",\"ADVOCATE\",\"ADVOCATE\",\"ADVOCATE\",\"ADVOCATE\",\"ADVOCATE\",\"ADVOCATE\",\"ADVOCATE\",\"ADVOCATE\",\"ADVOCATE\",\"ADVOCATE\",\"ADVOCATE\",\"ADVOCATE\",\"ADVOCATE\",\"ADVOCATE\",\"ADVOCATE\",\"ADVOCATE\",\"ADVOCATE\",\"ADVOCATE\",\"ADVOCATE\",\"ADVOCATE\",\"ADVOCATE\",\"ADVOCATE\",\"ADVOCATE\",\"ADVOCATE\",\"ADVOCATE\",\"ADVOCATE\",\"ADVOCATE\",\"ADVOCATE\",\"ADVOCATE\",\"ADVOCATE\",\"ADVOCATE\",\"ADVOCATE\",\"ADVOCATE\",\"ADVOCATE\",\"ADVOCATE\",\"ADVOCATE\",\"ADVOCATE\",\"ADVOCATE\",\"ADVOCATE\",\"ADVOCATE\",\"ADVOCATE\",\"ADVOCATE\",\"ADVOCATE\",\"ADVOCATE\",\"ADVOCATE\",\"ADVOCATE\",\"ADVOCATE\",\"ADVOCATE\",\"ADVOCATE\",\"ADVOCATE\",\"ADVOCATE\",\"ADVOCATE\",\"ADVOCATE\",\"ADVOCATE\",\"ADVOCATE\",\"ADVOCATE\",\"ADVOCATE\",\"ADVOCATE\",\"ADVOCATE\",\"ADVOCATE\",\"ADVOCATE\",\"ADVOCATE\",\"ADVOCATE\",\"ADVOCATE\",\"ADVOCATE\",\"ADVOCATE\",\"ADVOCATE\",\"ADVOCATE\",\"ADVOCATE\",\"ADVOCATE\",\"ADVOCATE\",\"ADVOCATE\",\"ADVOCATE\",\"ADVOCATE\",\"ADVOCATE\",\"ADVOCATE\",\"ADVOCATE\",\"ADVOCATE\",\"ADVOCATE\",\"ADVOCATE\",\"ADVOCATE\",\"ADVOCATE\",\"ADVOCATE\",\"ADVOCATE\",\"ADVOCATE\",\"ADVOCATE\",\"ADVOCATE\",\"ADVOCATE\",\"ADVOCATE\",\"ADVOCATE\",\"ADVOCATE\",\"ADVOCATE\",\"ADVOCATE\",\"ADVOCATE\",\"ADVOCATE\",\"BUSINESS-DEVELOPMENT\",\"BUSINESS-DEVELOPMENT\",\"BUSINESS-DEVELOPMENT\",\"BUSINESS-DEVELOPMENT\",\"BUSINESS-DEVELOPMENT\",\"BUSINESS-DEVELOPMENT\",\"BUSINESS-DEVELOPMENT\",\"BUSINESS-DEVELOPMENT\",\"BUSINESS-DEVELOPMENT\",\"BUSINESS-DEVELOPMENT\",\"BUSINESS-DEVELOPMENT\",\"BUSINESS-DEVELOPMENT\",\"BUSINESS-DEVELOPMENT\",\"BUSINESS-DEVELOPMENT\",\"BUSINESS-DEVELOPMENT\",\"BUSINESS-DEVELOPMENT\",\"BUSINESS-DEVELOPMENT\",\"BUSINESS-DEVELOPMENT\",\"BUSINESS-DEVELOPMENT\",\"BUSINESS-DEVELOPMENT\",\"BUSINESS-DEVELOPMENT\",\"BUSINESS-DEVELOPMENT\",\"BUSINESS-DEVELOPMENT\",\"BUSINESS-DEVELOPMENT\",\"BUSINESS-DEVELOPMENT\",\"BUSINESS-DEVELOPMENT\",\"BUSINESS-DEVELOPMENT\",\"BUSINESS-DEVELOPMENT\",\"BUSINESS-DEVELOPMENT\",\"BUSINESS-DEVELOPMENT\",\"BUSINESS-DEVELOPMENT\",\"BUSINESS-DEVELOPMENT\",\"BUSINESS-DEVELOPMENT\",\"BUSINESS-DEVELOPMENT\",\"BUSINESS-DEVELOPMENT\",\"BUSINESS-DEVELOPMENT\",\"BUSINESS-DEVELOPMENT\",\"BUSINESS-DEVELOPMENT\",\"BUSINESS-DEVELOPMENT\",\"BUSINESS-DEVELOPMENT\",\"BUSINESS-DEVELOPMENT\",\"BUSINESS-DEVELOPMENT\",\"BUSINESS-DEVELOPMENT\",\"BUSINESS-DEVELOPMENT\",\"BUSINESS-DEVELOPMENT\",\"BUSINESS-DEVELOPMENT\",\"BUSINESS-DEVELOPMENT\",\"BUSINESS-DEVELOPMENT\",\"BUSINESS-DEVELOPMENT\",\"BUSINESS-DEVELOPMENT\",\"BUSINESS-DEVELOPMENT\",\"BUSINESS-DEVELOPMENT\",\"BUSINESS-DEVELOPMENT\",\"BUSINESS-DEVELOPMENT\",\"BUSINESS-DEVELOPMENT\",\"BUSINESS-DEVELOPMENT\",\"BUSINESS-DEVELOPMENT\",\"BUSINESS-DEVELOPMENT\",\"BUSINESS-DEVELOPMENT\",\"BUSINESS-DEVELOPMENT\",\"BUSINESS-DEVELOPMENT\",\"BUSINESS-DEVELOPMENT\",\"BUSINESS-DEVELOPMENT\",\"BUSINESS-DEVELOPMENT\",\"BUSINESS-DEVELOPMENT\",\"BUSINESS-DEVELOPMENT\",\"BUSINESS-DEVELOPMENT\",\"BUSINESS-DEVELOPMENT\",\"BUSINESS-DEVELOPMENT\",\"BUSINESS-DEVELOPMENT\",\"BUSINESS-DEVELOPMENT\",\"BUSINESS-DEVELOPMENT\",\"BUSINESS-DEVELOPMENT\",\"BUSINESS-DEVELOPMENT\",\"BUSINESS-DEVELOPMENT\",\"BUSINESS-DEVELOPMENT\",\"BUSINESS-DEVELOPMENT\",\"BUSINESS-DEVELOPMENT\",\"BUSINESS-DEVELOPMENT\",\"BUSINESS-DEVELOPMENT\",\"BUSINESS-DEVELOPMENT\",\"BUSINESS-DEVELOPMENT\",\"BUSINESS-DEVELOPMENT\",\"BUSINESS-DEVELOPMENT\",\"BUSINESS-DEVELOPMENT\",\"BUSINESS-DEVELOPMENT\",\"BUSINESS-DEVELOPMENT\",\"BUSINESS-DEVELOPMENT\",\"BUSINESS-DEVELOPMENT\",\"BUSINESS-DEVELOPMENT\",\"BUSINESS-DEVELOPMENT\",\"BUSINESS-DEVELOPMENT\",\"BUSINESS-DEVELOPMENT\",\"BUSINESS-DEVELOPMENT\",\"BUSINESS-DEVELOPMENT\",\"BUSINESS-DEVELOPMENT\",\"BUSINESS-DEVELOPMENT\",\"BUSINESS-DEVELOPMENT\",\"BUSINESS-DEVELOPMENT\",\"BUSINESS-DEVELOPMENT\",\"BUSINESS-DEVELOPMENT\",\"BUSINESS-DEVELOPMENT\",\"BUSINESS-DEVELOPMENT\",\"BUSINESS-DEVELOPMENT\",\"BUSINESS-DEVELOPMENT\",\"BUSINESS-DEVELOPMENT\",\"BUSINESS-DEVELOPMENT\",\"BUSINESS-DEVELOPMENT\",\"BUSINESS-DEVELOPMENT\",\"BUSINESS-DEVELOPMENT\",\"BUSINESS-DEVELOPMENT\",\"BUSINESS-DEVELOPMENT\",\"BUSINESS-DEVELOPMENT\",\"BUSINESS-DEVELOPMENT\",\"BUSINESS-DEVELOPMENT\",\"BUSINESS-DEVELOPMENT\",\"BUSINESS-DEVELOPMENT\",\"BUSINESS-DEVELOPMENT\",\"BUSINESS-DEVELOPMENT\",\"BUSINESS-DEVELOPMENT\",\"HEALTHCARE\",\"HEALTHCARE\",\"HEALTHCARE\",\"HEALTHCARE\",\"HEALTHCARE\",\"HEALTHCARE\",\"HEALTHCARE\",\"HEALTHCARE\",\"HEALTHCARE\",\"HEALTHCARE\",\"HEALTHCARE\",\"HEALTHCARE\",\"HEALTHCARE\",\"HEALTHCARE\",\"HEALTHCARE\",\"HEALTHCARE\",\"HEALTHCARE\",\"HEALTHCARE\",\"HEALTHCARE\",\"HEALTHCARE\",\"HEALTHCARE\",\"HEALTHCARE\",\"HEALTHCARE\",\"HEALTHCARE\",\"HEALTHCARE\",\"HEALTHCARE\",\"HEALTHCARE\",\"HEALTHCARE\",\"HEALTHCARE\",\"HEALTHCARE\",\"HEALTHCARE\",\"HEALTHCARE\",\"HEALTHCARE\",\"HEALTHCARE\",\"HEALTHCARE\",\"HEALTHCARE\",\"HEALTHCARE\",\"HEALTHCARE\",\"HEALTHCARE\",\"HEALTHCARE\",\"HEALTHCARE\",\"HEALTHCARE\",\"HEALTHCARE\",\"HEALTHCARE\",\"HEALTHCARE\",\"HEALTHCARE\",\"HEALTHCARE\",\"HEALTHCARE\",\"HEALTHCARE\",\"HEALTHCARE\",\"HEALTHCARE\",\"HEALTHCARE\",\"HEALTHCARE\",\"HEALTHCARE\",\"HEALTHCARE\",\"HEALTHCARE\",\"HEALTHCARE\",\"HEALTHCARE\",\"HEALTHCARE\",\"HEALTHCARE\",\"HEALTHCARE\",\"HEALTHCARE\",\"HEALTHCARE\",\"HEALTHCARE\",\"HEALTHCARE\",\"HEALTHCARE\",\"HEALTHCARE\",\"HEALTHCARE\",\"HEALTHCARE\",\"HEALTHCARE\",\"HEALTHCARE\",\"HEALTHCARE\",\"HEALTHCARE\",\"HEALTHCARE\",\"HEALTHCARE\",\"HEALTHCARE\",\"HEALTHCARE\",\"HEALTHCARE\",\"HEALTHCARE\",\"HEALTHCARE\",\"HEALTHCARE\",\"HEALTHCARE\",\"HEALTHCARE\",\"HEALTHCARE\",\"HEALTHCARE\",\"HEALTHCARE\",\"HEALTHCARE\",\"HEALTHCARE\",\"HEALTHCARE\",\"HEALTHCARE\",\"HEALTHCARE\",\"HEALTHCARE\",\"HEALTHCARE\",\"HEALTHCARE\",\"HEALTHCARE\",\"HEALTHCARE\",\"HEALTHCARE\",\"HEALTHCARE\",\"HEALTHCARE\",\"HEALTHCARE\",\"HEALTHCARE\",\"HEALTHCARE\",\"HEALTHCARE\",\"HEALTHCARE\",\"HEALTHCARE\",\"HEALTHCARE\",\"HEALTHCARE\",\"HEALTHCARE\",\"HEALTHCARE\",\"HEALTHCARE\",\"HEALTHCARE\",\"HEALTHCARE\",\"HEALTHCARE\",\"HEALTHCARE\",\"HEALTHCARE\",\"FITNESS\",\"FITNESS\",\"FITNESS\",\"FITNESS\",\"FITNESS\",\"FITNESS\",\"FITNESS\",\"FITNESS\",\"FITNESS\",\"FITNESS\",\"FITNESS\",\"FITNESS\",\"FITNESS\",\"FITNESS\",\"FITNESS\",\"FITNESS\",\"FITNESS\",\"FITNESS\",\"FITNESS\",\"FITNESS\",\"FITNESS\",\"FITNESS\",\"FITNESS\",\"FITNESS\",\"FITNESS\",\"FITNESS\",\"FITNESS\",\"FITNESS\",\"FITNESS\",\"FITNESS\",\"FITNESS\",\"FITNESS\",\"FITNESS\",\"FITNESS\",\"FITNESS\",\"FITNESS\",\"FITNESS\",\"FITNESS\",\"FITNESS\",\"FITNESS\",\"FITNESS\",\"FITNESS\",\"FITNESS\",\"FITNESS\",\"FITNESS\",\"FITNESS\",\"FITNESS\",\"FITNESS\",\"FITNESS\",\"FITNESS\",\"FITNESS\",\"FITNESS\",\"FITNESS\",\"FITNESS\",\"FITNESS\",\"FITNESS\",\"FITNESS\",\"FITNESS\",\"FITNESS\",\"FITNESS\",\"FITNESS\",\"FITNESS\",\"FITNESS\",\"FITNESS\",\"FITNESS\",\"FITNESS\",\"FITNESS\",\"FITNESS\",\"FITNESS\",\"FITNESS\",\"FITNESS\",\"FITNESS\",\"FITNESS\",\"FITNESS\",\"FITNESS\",\"FITNESS\",\"FITNESS\",\"FITNESS\",\"FITNESS\",\"FITNESS\",\"FITNESS\",\"FITNESS\",\"FITNESS\",\"FITNESS\",\"FITNESS\",\"FITNESS\",\"FITNESS\",\"FITNESS\",\"FITNESS\",\"FITNESS\",\"FITNESS\",\"FITNESS\",\"FITNESS\",\"FITNESS\",\"FITNESS\",\"FITNESS\",\"FITNESS\",\"FITNESS\",\"FITNESS\",\"FITNESS\",\"FITNESS\",\"FITNESS\",\"FITNESS\",\"FITNESS\",\"FITNESS\",\"FITNESS\",\"FITNESS\",\"FITNESS\",\"FITNESS\",\"FITNESS\",\"FITNESS\",\"FITNESS\",\"FITNESS\",\"FITNESS\",\"FITNESS\",\"FITNESS\",\"FITNESS\",\"AGRICULTURE\",\"AGRICULTURE\",\"AGRICULTURE\",\"AGRICULTURE\",\"AGRICULTURE\",\"AGRICULTURE\",\"AGRICULTURE\",\"AGRICULTURE\",\"AGRICULTURE\",\"AGRICULTURE\",\"AGRICULTURE\",\"AGRICULTURE\",\"AGRICULTURE\",\"AGRICULTURE\",\"AGRICULTURE\",\"AGRICULTURE\",\"AGRICULTURE\",\"AGRICULTURE\",\"AGRICULTURE\",\"AGRICULTURE\",\"AGRICULTURE\",\"AGRICULTURE\",\"AGRICULTURE\",\"AGRICULTURE\",\"AGRICULTURE\",\"AGRICULTURE\",\"AGRICULTURE\",\"AGRICULTURE\",\"AGRICULTURE\",\"AGRICULTURE\",\"AGRICULTURE\",\"AGRICULTURE\",\"AGRICULTURE\",\"AGRICULTURE\",\"AGRICULTURE\",\"AGRICULTURE\",\"AGRICULTURE\",\"AGRICULTURE\",\"AGRICULTURE\",\"AGRICULTURE\",\"AGRICULTURE\",\"AGRICULTURE\",\"AGRICULTURE\",\"AGRICULTURE\",\"AGRICULTURE\",\"AGRICULTURE\",\"AGRICULTURE\",\"AGRICULTURE\",\"AGRICULTURE\",\"AGRICULTURE\",\"AGRICULTURE\",\"AGRICULTURE\",\"AGRICULTURE\",\"AGRICULTURE\",\"AGRICULTURE\",\"AGRICULTURE\",\"AGRICULTURE\",\"AGRICULTURE\",\"AGRICULTURE\",\"AGRICULTURE\",\"AGRICULTURE\",\"AGRICULTURE\",\"AGRICULTURE\",\"BPO\",\"BPO\",\"BPO\",\"BPO\",\"BPO\",\"BPO\",\"BPO\",\"BPO\",\"BPO\",\"BPO\",\"BPO\",\"BPO\",\"BPO\",\"BPO\",\"BPO\",\"BPO\",\"BPO\",\"BPO\",\"BPO\",\"BPO\",\"BPO\",\"BPO\",\"SALES\",\"SALES\",\"SALES\",\"SALES\",\"SALES\",\"SALES\",\"SALES\",\"SALES\",\"SALES\",\"SALES\",\"SALES\",\"SALES\",\"SALES\",\"SALES\",\"SALES\",\"SALES\",\"SALES\",\"SALES\",\"SALES\",\"SALES\",\"SALES\",\"SALES\",\"SALES\",\"SALES\",\"SALES\",\"SALES\",\"SALES\",\"SALES\",\"SALES\",\"SALES\",\"SALES\",\"SALES\",\"SALES\",\"SALES\",\"SALES\",\"SALES\",\"SALES\",\"SALES\",\"SALES\",\"SALES\",\"SALES\",\"SALES\",\"SALES\",\"SALES\",\"SALES\",\"SALES\",\"SALES\",\"SALES\",\"SALES\",\"SALES\",\"SALES\",\"SALES\",\"SALES\",\"SALES\",\"SALES\",\"SALES\",\"SALES\",\"SALES\",\"SALES\",\"SALES\",\"SALES\",\"SALES\",\"SALES\",\"SALES\",\"SALES\",\"SALES\",\"SALES\",\"SALES\",\"SALES\",\"SALES\",\"SALES\",\"SALES\",\"SALES\",\"SALES\",\"SALES\",\"SALES\",\"SALES\",\"SALES\",\"SALES\",\"SALES\",\"SALES\",\"SALES\",\"SALES\",\"SALES\",\"SALES\",\"SALES\",\"SALES\",\"SALES\",\"SALES\",\"SALES\",\"SALES\",\"SALES\",\"SALES\",\"SALES\",\"SALES\",\"SALES\",\"SALES\",\"SALES\",\"SALES\",\"SALES\",\"SALES\",\"SALES\",\"SALES\",\"SALES\",\"SALES\",\"SALES\",\"SALES\",\"SALES\",\"SALES\",\"SALES\",\"SALES\",\"SALES\",\"SALES\",\"SALES\",\"SALES\",\"SALES\",\"CONSULTANT\",\"CONSULTANT\",\"CONSULTANT\",\"CONSULTANT\",\"CONSULTANT\",\"CONSULTANT\",\"CONSULTANT\",\"CONSULTANT\",\"CONSULTANT\",\"CONSULTANT\",\"CONSULTANT\",\"CONSULTANT\",\"CONSULTANT\",\"CONSULTANT\",\"CONSULTANT\",\"CONSULTANT\",\"CONSULTANT\",\"CONSULTANT\",\"CONSULTANT\",\"CONSULTANT\",\"CONSULTANT\",\"CONSULTANT\",\"CONSULTANT\",\"CONSULTANT\",\"CONSULTANT\",\"CONSULTANT\",\"CONSULTANT\",\"CONSULTANT\",\"CONSULTANT\",\"CONSULTANT\",\"CONSULTANT\",\"CONSULTANT\",\"CONSULTANT\",\"CONSULTANT\",\"CONSULTANT\",\"CONSULTANT\",\"CONSULTANT\",\"CONSULTANT\",\"CONSULTANT\",\"CONSULTANT\",\"CONSULTANT\",\"CONSULTANT\",\"CONSULTANT\",\"CONSULTANT\",\"CONSULTANT\",\"CONSULTANT\",\"CONSULTANT\",\"CONSULTANT\",\"CONSULTANT\",\"CONSULTANT\",\"CONSULTANT\",\"CONSULTANT\",\"CONSULTANT\",\"CONSULTANT\",\"CONSULTANT\",\"CONSULTANT\",\"CONSULTANT\",\"CONSULTANT\",\"CONSULTANT\",\"CONSULTANT\",\"CONSULTANT\",\"CONSULTANT\",\"CONSULTANT\",\"CONSULTANT\",\"CONSULTANT\",\"CONSULTANT\",\"CONSULTANT\",\"CONSULTANT\",\"CONSULTANT\",\"CONSULTANT\",\"CONSULTANT\",\"CONSULTANT\",\"CONSULTANT\",\"CONSULTANT\",\"CONSULTANT\",\"CONSULTANT\",\"CONSULTANT\",\"CONSULTANT\",\"CONSULTANT\",\"CONSULTANT\",\"CONSULTANT\",\"CONSULTANT\",\"CONSULTANT\",\"CONSULTANT\",\"CONSULTANT\",\"CONSULTANT\",\"CONSULTANT\",\"CONSULTANT\",\"CONSULTANT\",\"CONSULTANT\",\"CONSULTANT\",\"CONSULTANT\",\"CONSULTANT\",\"CONSULTANT\",\"CONSULTANT\",\"CONSULTANT\",\"CONSULTANT\",\"CONSULTANT\",\"CONSULTANT\",\"CONSULTANT\",\"CONSULTANT\",\"CONSULTANT\",\"CONSULTANT\",\"CONSULTANT\",\"CONSULTANT\",\"CONSULTANT\",\"CONSULTANT\",\"CONSULTANT\",\"CONSULTANT\",\"CONSULTANT\",\"CONSULTANT\",\"CONSULTANT\",\"CONSULTANT\",\"CONSULTANT\",\"CONSULTANT\",\"DIGITAL-MEDIA\",\"DIGITAL-MEDIA\",\"DIGITAL-MEDIA\",\"DIGITAL-MEDIA\",\"DIGITAL-MEDIA\",\"DIGITAL-MEDIA\",\"DIGITAL-MEDIA\",\"DIGITAL-MEDIA\",\"DIGITAL-MEDIA\",\"DIGITAL-MEDIA\",\"DIGITAL-MEDIA\",\"DIGITAL-MEDIA\",\"DIGITAL-MEDIA\",\"DIGITAL-MEDIA\",\"DIGITAL-MEDIA\",\"DIGITAL-MEDIA\",\"DIGITAL-MEDIA\",\"DIGITAL-MEDIA\",\"DIGITAL-MEDIA\",\"DIGITAL-MEDIA\",\"DIGITAL-MEDIA\",\"DIGITAL-MEDIA\",\"DIGITAL-MEDIA\",\"DIGITAL-MEDIA\",\"DIGITAL-MEDIA\",\"DIGITAL-MEDIA\",\"DIGITAL-MEDIA\",\"DIGITAL-MEDIA\",\"DIGITAL-MEDIA\",\"DIGITAL-MEDIA\",\"DIGITAL-MEDIA\",\"DIGITAL-MEDIA\",\"DIGITAL-MEDIA\",\"DIGITAL-MEDIA\",\"DIGITAL-MEDIA\",\"DIGITAL-MEDIA\",\"DIGITAL-MEDIA\",\"DIGITAL-MEDIA\",\"DIGITAL-MEDIA\",\"DIGITAL-MEDIA\",\"DIGITAL-MEDIA\",\"DIGITAL-MEDIA\",\"DIGITAL-MEDIA\",\"DIGITAL-MEDIA\",\"DIGITAL-MEDIA\",\"DIGITAL-MEDIA\",\"DIGITAL-MEDIA\",\"DIGITAL-MEDIA\",\"DIGITAL-MEDIA\",\"DIGITAL-MEDIA\",\"DIGITAL-MEDIA\",\"DIGITAL-MEDIA\",\"DIGITAL-MEDIA\",\"DIGITAL-MEDIA\",\"DIGITAL-MEDIA\",\"DIGITAL-MEDIA\",\"DIGITAL-MEDIA\",\"DIGITAL-MEDIA\",\"DIGITAL-MEDIA\",\"DIGITAL-MEDIA\",\"DIGITAL-MEDIA\",\"DIGITAL-MEDIA\",\"DIGITAL-MEDIA\",\"DIGITAL-MEDIA\",\"DIGITAL-MEDIA\",\"DIGITAL-MEDIA\",\"DIGITAL-MEDIA\",\"DIGITAL-MEDIA\",\"DIGITAL-MEDIA\",\"DIGITAL-MEDIA\",\"DIGITAL-MEDIA\",\"DIGITAL-MEDIA\",\"DIGITAL-MEDIA\",\"DIGITAL-MEDIA\",\"DIGITAL-MEDIA\",\"DIGITAL-MEDIA\",\"DIGITAL-MEDIA\",\"DIGITAL-MEDIA\",\"DIGITAL-MEDIA\",\"DIGITAL-MEDIA\",\"DIGITAL-MEDIA\",\"DIGITAL-MEDIA\",\"DIGITAL-MEDIA\",\"DIGITAL-MEDIA\",\"DIGITAL-MEDIA\",\"DIGITAL-MEDIA\",\"DIGITAL-MEDIA\",\"DIGITAL-MEDIA\",\"DIGITAL-MEDIA\",\"DIGITAL-MEDIA\",\"DIGITAL-MEDIA\",\"DIGITAL-MEDIA\",\"DIGITAL-MEDIA\",\"DIGITAL-MEDIA\",\"DIGITAL-MEDIA\",\"DIGITAL-MEDIA\",\"AUTOMOBILE\",\"AUTOMOBILE\",\"AUTOMOBILE\",\"AUTOMOBILE\",\"AUTOMOBILE\",\"AUTOMOBILE\",\"AUTOMOBILE\",\"AUTOMOBILE\",\"AUTOMOBILE\",\"AUTOMOBILE\",\"AUTOMOBILE\",\"AUTOMOBILE\",\"AUTOMOBILE\",\"AUTOMOBILE\",\"AUTOMOBILE\",\"AUTOMOBILE\",\"AUTOMOBILE\",\"AUTOMOBILE\",\"AUTOMOBILE\",\"AUTOMOBILE\",\"AUTOMOBILE\",\"AUTOMOBILE\",\"AUTOMOBILE\",\"AUTOMOBILE\",\"AUTOMOBILE\",\"AUTOMOBILE\",\"AUTOMOBILE\",\"AUTOMOBILE\",\"AUTOMOBILE\",\"AUTOMOBILE\",\"AUTOMOBILE\",\"AUTOMOBILE\",\"AUTOMOBILE\",\"AUTOMOBILE\",\"AUTOMOBILE\",\"AUTOMOBILE\",\"CHEF\",\"CHEF\",\"CHEF\",\"CHEF\",\"CHEF\",\"CHEF\",\"CHEF\",\"CHEF\",\"CHEF\",\"CHEF\",\"CHEF\",\"CHEF\",\"CHEF\",\"CHEF\",\"CHEF\",\"CHEF\",\"CHEF\",\"CHEF\",\"CHEF\",\"CHEF\",\"CHEF\",\"CHEF\",\"CHEF\",\"CHEF\",\"CHEF\",\"CHEF\",\"CHEF\",\"CHEF\",\"CHEF\",\"CHEF\",\"CHEF\",\"CHEF\",\"CHEF\",\"CHEF\",\"CHEF\",\"CHEF\",\"CHEF\",\"CHEF\",\"CHEF\",\"CHEF\",\"CHEF\",\"CHEF\",\"CHEF\",\"CHEF\",\"CHEF\",\"CHEF\",\"CHEF\",\"CHEF\",\"CHEF\",\"CHEF\",\"CHEF\",\"CHEF\",\"CHEF\",\"CHEF\",\"CHEF\",\"CHEF\",\"CHEF\",\"CHEF\",\"CHEF\",\"CHEF\",\"CHEF\",\"CHEF\",\"CHEF\",\"CHEF\",\"CHEF\",\"CHEF\",\"CHEF\",\"CHEF\",\"CHEF\",\"CHEF\",\"CHEF\",\"CHEF\",\"CHEF\",\"CHEF\",\"CHEF\",\"CHEF\",\"CHEF\",\"CHEF\",\"CHEF\",\"CHEF\",\"CHEF\",\"CHEF\",\"CHEF\",\"CHEF\",\"CHEF\",\"CHEF\",\"CHEF\",\"CHEF\",\"CHEF\",\"CHEF\",\"CHEF\",\"CHEF\",\"CHEF\",\"CHEF\",\"CHEF\",\"CHEF\",\"CHEF\",\"CHEF\",\"CHEF\",\"CHEF\",\"CHEF\",\"CHEF\",\"CHEF\",\"CHEF\",\"CHEF\",\"CHEF\",\"CHEF\",\"CHEF\",\"CHEF\",\"CHEF\",\"CHEF\",\"CHEF\",\"CHEF\",\"CHEF\",\"CHEF\",\"CHEF\",\"CHEF\",\"CHEF\",\"FINANCE\",\"FINANCE\",\"FINANCE\",\"FINANCE\",\"FINANCE\",\"FINANCE\",\"FINANCE\",\"FINANCE\",\"FINANCE\",\"FINANCE\",\"FINANCE\",\"FINANCE\",\"FINANCE\",\"FINANCE\",\"FINANCE\",\"FINANCE\",\"FINANCE\",\"FINANCE\",\"FINANCE\",\"FINANCE\",\"FINANCE\",\"FINANCE\",\"FINANCE\",\"FINANCE\",\"FINANCE\",\"FINANCE\",\"FINANCE\",\"FINANCE\",\"FINANCE\",\"FINANCE\",\"FINANCE\",\"FINANCE\",\"FINANCE\",\"FINANCE\",\"FINANCE\",\"FINANCE\",\"FINANCE\",\"FINANCE\",\"FINANCE\",\"FINANCE\",\"FINANCE\",\"FINANCE\",\"FINANCE\",\"FINANCE\",\"FINANCE\",\"FINANCE\",\"FINANCE\",\"FINANCE\",\"FINANCE\",\"FINANCE\",\"FINANCE\",\"FINANCE\",\"FINANCE\",\"FINANCE\",\"FINANCE\",\"FINANCE\",\"FINANCE\",\"FINANCE\",\"FINANCE\",\"FINANCE\",\"FINANCE\",\"FINANCE\",\"FINANCE\",\"FINANCE\",\"FINANCE\",\"FINANCE\",\"FINANCE\",\"FINANCE\",\"FINANCE\",\"FINANCE\",\"FINANCE\",\"FINANCE\",\"FINANCE\",\"FINANCE\",\"FINANCE\",\"FINANCE\",\"FINANCE\",\"FINANCE\",\"FINANCE\",\"FINANCE\",\"FINANCE\",\"FINANCE\",\"FINANCE\",\"FINANCE\",\"FINANCE\",\"FINANCE\",\"FINANCE\",\"FINANCE\",\"FINANCE\",\"FINANCE\",\"FINANCE\",\"FINANCE\",\"FINANCE\",\"FINANCE\",\"FINANCE\",\"FINANCE\",\"FINANCE\",\"FINANCE\",\"FINANCE\",\"FINANCE\",\"FINANCE\",\"FINANCE\",\"FINANCE\",\"FINANCE\",\"FINANCE\",\"FINANCE\",\"FINANCE\",\"FINANCE\",\"FINANCE\",\"FINANCE\",\"FINANCE\",\"FINANCE\",\"FINANCE\",\"FINANCE\",\"FINANCE\",\"FINANCE\",\"FINANCE\",\"FINANCE\",\"APPAREL\",\"APPAREL\",\"APPAREL\",\"APPAREL\",\"APPAREL\",\"APPAREL\",\"APPAREL\",\"APPAREL\",\"APPAREL\",\"APPAREL\",\"APPAREL\",\"APPAREL\",\"APPAREL\",\"APPAREL\",\"APPAREL\",\"APPAREL\",\"APPAREL\",\"APPAREL\",\"APPAREL\",\"APPAREL\",\"APPAREL\",\"APPAREL\",\"APPAREL\",\"APPAREL\",\"APPAREL\",\"APPAREL\",\"APPAREL\",\"APPAREL\",\"APPAREL\",\"APPAREL\",\"APPAREL\",\"APPAREL\",\"APPAREL\",\"APPAREL\",\"APPAREL\",\"APPAREL\",\"APPAREL\",\"APPAREL\",\"APPAREL\",\"APPAREL\",\"APPAREL\",\"APPAREL\",\"APPAREL\",\"APPAREL\",\"APPAREL\",\"APPAREL\",\"APPAREL\",\"APPAREL\",\"APPAREL\",\"APPAREL\",\"APPAREL\",\"APPAREL\",\"APPAREL\",\"APPAREL\",\"APPAREL\",\"APPAREL\",\"APPAREL\",\"APPAREL\",\"APPAREL\",\"APPAREL\",\"APPAREL\",\"APPAREL\",\"APPAREL\",\"APPAREL\",\"APPAREL\",\"APPAREL\",\"APPAREL\",\"APPAREL\",\"APPAREL\",\"APPAREL\",\"APPAREL\",\"APPAREL\",\"APPAREL\",\"APPAREL\",\"APPAREL\",\"APPAREL\",\"APPAREL\",\"APPAREL\",\"APPAREL\",\"APPAREL\",\"APPAREL\",\"APPAREL\",\"APPAREL\",\"APPAREL\",\"APPAREL\",\"APPAREL\",\"APPAREL\",\"APPAREL\",\"APPAREL\",\"APPAREL\",\"APPAREL\",\"APPAREL\",\"APPAREL\",\"APPAREL\",\"APPAREL\",\"APPAREL\",\"APPAREL\",\"ENGINEERING\",\"ENGINEERING\",\"ENGINEERING\",\"ENGINEERING\",\"ENGINEERING\",\"ENGINEERING\",\"ENGINEERING\",\"ENGINEERING\",\"ENGINEERING\",\"ENGINEERING\",\"ENGINEERING\",\"ENGINEERING\",\"ENGINEERING\",\"ENGINEERING\",\"ENGINEERING\",\"ENGINEERING\",\"ENGINEERING\",\"ENGINEERING\",\"ENGINEERING\",\"ENGINEERING\",\"ENGINEERING\",\"ENGINEERING\",\"ENGINEERING\",\"ENGINEERING\",\"ENGINEERING\",\"ENGINEERING\",\"ENGINEERING\",\"ENGINEERING\",\"ENGINEERING\",\"ENGINEERING\",\"ENGINEERING\",\"ENGINEERING\",\"ENGINEERING\",\"ENGINEERING\",\"ENGINEERING\",\"ENGINEERING\",\"ENGINEERING\",\"ENGINEERING\",\"ENGINEERING\",\"ENGINEERING\",\"ENGINEERING\",\"ENGINEERING\",\"ENGINEERING\",\"ENGINEERING\",\"ENGINEERING\",\"ENGINEERING\",\"ENGINEERING\",\"ENGINEERING\",\"ENGINEERING\",\"ENGINEERING\",\"ENGINEERING\",\"ENGINEERING\",\"ENGINEERING\",\"ENGINEERING\",\"ENGINEERING\",\"ENGINEERING\",\"ENGINEERING\",\"ENGINEERING\",\"ENGINEERING\",\"ENGINEERING\",\"ENGINEERING\",\"ENGINEERING\",\"ENGINEERING\",\"ENGINEERING\",\"ENGINEERING\",\"ENGINEERING\",\"ENGINEERING\",\"ENGINEERING\",\"ENGINEERING\",\"ENGINEERING\",\"ENGINEERING\",\"ENGINEERING\",\"ENGINEERING\",\"ENGINEERING\",\"ENGINEERING\",\"ENGINEERING\",\"ENGINEERING\",\"ENGINEERING\",\"ENGINEERING\",\"ENGINEERING\",\"ENGINEERING\",\"ENGINEERING\",\"ENGINEERING\",\"ENGINEERING\",\"ENGINEERING\",\"ENGINEERING\",\"ENGINEERING\",\"ENGINEERING\",\"ENGINEERING\",\"ENGINEERING\",\"ENGINEERING\",\"ENGINEERING\",\"ENGINEERING\",\"ENGINEERING\",\"ENGINEERING\",\"ENGINEERING\",\"ENGINEERING\",\"ENGINEERING\",\"ENGINEERING\",\"ENGINEERING\",\"ENGINEERING\",\"ENGINEERING\",\"ENGINEERING\",\"ENGINEERING\",\"ENGINEERING\",\"ENGINEERING\",\"ENGINEERING\",\"ENGINEERING\",\"ENGINEERING\",\"ENGINEERING\",\"ENGINEERING\",\"ENGINEERING\",\"ENGINEERING\",\"ENGINEERING\",\"ENGINEERING\",\"ENGINEERING\",\"ENGINEERING\",\"ENGINEERING\",\"ACCOUNTANT\",\"ACCOUNTANT\",\"ACCOUNTANT\",\"ACCOUNTANT\",\"ACCOUNTANT\",\"ACCOUNTANT\",\"ACCOUNTANT\",\"ACCOUNTANT\",\"ACCOUNTANT\",\"ACCOUNTANT\",\"ACCOUNTANT\",\"ACCOUNTANT\",\"ACCOUNTANT\",\"ACCOUNTANT\",\"ACCOUNTANT\",\"ACCOUNTANT\",\"ACCOUNTANT\",\"ACCOUNTANT\",\"ACCOUNTANT\",\"ACCOUNTANT\",\"ACCOUNTANT\",\"ACCOUNTANT\",\"ACCOUNTANT\",\"ACCOUNTANT\",\"ACCOUNTANT\",\"ACCOUNTANT\",\"ACCOUNTANT\",\"ACCOUNTANT\",\"ACCOUNTANT\",\"ACCOUNTANT\",\"ACCOUNTANT\",\"ACCOUNTANT\",\"ACCOUNTANT\",\"ACCOUNTANT\",\"ACCOUNTANT\",\"ACCOUNTANT\",\"ACCOUNTANT\",\"ACCOUNTANT\",\"ACCOUNTANT\",\"ACCOUNTANT\",\"ACCOUNTANT\",\"ACCOUNTANT\",\"ACCOUNTANT\",\"ACCOUNTANT\",\"ACCOUNTANT\",\"ACCOUNTANT\",\"ACCOUNTANT\",\"ACCOUNTANT\",\"ACCOUNTANT\",\"ACCOUNTANT\",\"ACCOUNTANT\",\"ACCOUNTANT\",\"ACCOUNTANT\",\"ACCOUNTANT\",\"ACCOUNTANT\",\"ACCOUNTANT\",\"ACCOUNTANT\",\"ACCOUNTANT\",\"ACCOUNTANT\",\"ACCOUNTANT\",\"ACCOUNTANT\",\"ACCOUNTANT\",\"ACCOUNTANT\",\"ACCOUNTANT\",\"ACCOUNTANT\",\"ACCOUNTANT\",\"ACCOUNTANT\",\"ACCOUNTANT\",\"ACCOUNTANT\",\"ACCOUNTANT\",\"ACCOUNTANT\",\"ACCOUNTANT\",\"ACCOUNTANT\",\"ACCOUNTANT\",\"ACCOUNTANT\",\"ACCOUNTANT\",\"ACCOUNTANT\",\"ACCOUNTANT\",\"ACCOUNTANT\",\"ACCOUNTANT\",\"ACCOUNTANT\",\"ACCOUNTANT\",\"ACCOUNTANT\",\"ACCOUNTANT\",\"ACCOUNTANT\",\"ACCOUNTANT\",\"ACCOUNTANT\",\"ACCOUNTANT\",\"ACCOUNTANT\",\"ACCOUNTANT\",\"ACCOUNTANT\",\"ACCOUNTANT\",\"ACCOUNTANT\",\"ACCOUNTANT\",\"ACCOUNTANT\",\"ACCOUNTANT\",\"ACCOUNTANT\",\"ACCOUNTANT\",\"ACCOUNTANT\",\"ACCOUNTANT\",\"ACCOUNTANT\",\"ACCOUNTANT\",\"ACCOUNTANT\",\"ACCOUNTANT\",\"ACCOUNTANT\",\"ACCOUNTANT\",\"ACCOUNTANT\",\"ACCOUNTANT\",\"ACCOUNTANT\",\"ACCOUNTANT\",\"ACCOUNTANT\",\"ACCOUNTANT\",\"ACCOUNTANT\",\"ACCOUNTANT\",\"ACCOUNTANT\",\"ACCOUNTANT\",\"ACCOUNTANT\",\"ACCOUNTANT\",\"CONSTRUCTION\",\"CONSTRUCTION\",\"CONSTRUCTION\",\"CONSTRUCTION\",\"CONSTRUCTION\",\"CONSTRUCTION\",\"CONSTRUCTION\",\"CONSTRUCTION\",\"CONSTRUCTION\",\"CONSTRUCTION\",\"CONSTRUCTION\",\"CONSTRUCTION\",\"CONSTRUCTION\",\"CONSTRUCTION\",\"CONSTRUCTION\",\"CONSTRUCTION\",\"CONSTRUCTION\",\"CONSTRUCTION\",\"CONSTRUCTION\",\"CONSTRUCTION\",\"CONSTRUCTION\",\"CONSTRUCTION\",\"CONSTRUCTION\",\"CONSTRUCTION\",\"CONSTRUCTION\",\"CONSTRUCTION\",\"CONSTRUCTION\",\"CONSTRUCTION\",\"CONSTRUCTION\",\"CONSTRUCTION\",\"CONSTRUCTION\",\"CONSTRUCTION\",\"CONSTRUCTION\",\"CONSTRUCTION\",\"CONSTRUCTION\",\"CONSTRUCTION\",\"CONSTRUCTION\",\"CONSTRUCTION\",\"CONSTRUCTION\",\"CONSTRUCTION\",\"CONSTRUCTION\",\"CONSTRUCTION\",\"CONSTRUCTION\",\"CONSTRUCTION\",\"CONSTRUCTION\",\"CONSTRUCTION\",\"CONSTRUCTION\",\"CONSTRUCTION\",\"CONSTRUCTION\",\"CONSTRUCTION\",\"CONSTRUCTION\",\"CONSTRUCTION\",\"CONSTRUCTION\",\"CONSTRUCTION\",\"CONSTRUCTION\",\"CONSTRUCTION\",\"CONSTRUCTION\",\"CONSTRUCTION\",\"CONSTRUCTION\",\"CONSTRUCTION\",\"CONSTRUCTION\",\"CONSTRUCTION\",\"CONSTRUCTION\",\"CONSTRUCTION\",\"CONSTRUCTION\",\"CONSTRUCTION\",\"CONSTRUCTION\",\"CONSTRUCTION\",\"CONSTRUCTION\",\"CONSTRUCTION\",\"CONSTRUCTION\",\"CONSTRUCTION\",\"CONSTRUCTION\",\"CONSTRUCTION\",\"CONSTRUCTION\",\"CONSTRUCTION\",\"CONSTRUCTION\",\"CONSTRUCTION\",\"CONSTRUCTION\",\"CONSTRUCTION\",\"CONSTRUCTION\",\"CONSTRUCTION\",\"CONSTRUCTION\",\"CONSTRUCTION\",\"CONSTRUCTION\",\"CONSTRUCTION\",\"CONSTRUCTION\",\"CONSTRUCTION\",\"CONSTRUCTION\",\"CONSTRUCTION\",\"CONSTRUCTION\",\"CONSTRUCTION\",\"CONSTRUCTION\",\"CONSTRUCTION\",\"CONSTRUCTION\",\"CONSTRUCTION\",\"CONSTRUCTION\",\"CONSTRUCTION\",\"CONSTRUCTION\",\"CONSTRUCTION\",\"CONSTRUCTION\",\"CONSTRUCTION\",\"CONSTRUCTION\",\"CONSTRUCTION\",\"CONSTRUCTION\",\"CONSTRUCTION\",\"CONSTRUCTION\",\"CONSTRUCTION\",\"CONSTRUCTION\",\"CONSTRUCTION\",\"CONSTRUCTION\",\"CONSTRUCTION\",\"PUBLIC-RELATIONS\",\"PUBLIC-RELATIONS\",\"PUBLIC-RELATIONS\",\"PUBLIC-RELATIONS\",\"PUBLIC-RELATIONS\",\"PUBLIC-RELATIONS\",\"PUBLIC-RELATIONS\",\"PUBLIC-RELATIONS\",\"PUBLIC-RELATIONS\",\"PUBLIC-RELATIONS\",\"PUBLIC-RELATIONS\",\"PUBLIC-RELATIONS\",\"PUBLIC-RELATIONS\",\"PUBLIC-RELATIONS\",\"PUBLIC-RELATIONS\",\"PUBLIC-RELATIONS\",\"PUBLIC-RELATIONS\",\"PUBLIC-RELATIONS\",\"PUBLIC-RELATIONS\",\"PUBLIC-RELATIONS\",\"PUBLIC-RELATIONS\",\"PUBLIC-RELATIONS\",\"PUBLIC-RELATIONS\",\"PUBLIC-RELATIONS\",\"PUBLIC-RELATIONS\",\"PUBLIC-RELATIONS\",\"PUBLIC-RELATIONS\",\"PUBLIC-RELATIONS\",\"PUBLIC-RELATIONS\",\"PUBLIC-RELATIONS\",\"PUBLIC-RELATIONS\",\"PUBLIC-RELATIONS\",\"PUBLIC-RELATIONS\",\"PUBLIC-RELATIONS\",\"PUBLIC-RELATIONS\",\"PUBLIC-RELATIONS\",\"PUBLIC-RELATIONS\",\"PUBLIC-RELATIONS\",\"PUBLIC-RELATIONS\",\"PUBLIC-RELATIONS\",\"PUBLIC-RELATIONS\",\"PUBLIC-RELATIONS\",\"PUBLIC-RELATIONS\",\"PUBLIC-RELATIONS\",\"PUBLIC-RELATIONS\",\"PUBLIC-RELATIONS\",\"PUBLIC-RELATIONS\",\"PUBLIC-RELATIONS\",\"PUBLIC-RELATIONS\",\"PUBLIC-RELATIONS\",\"PUBLIC-RELATIONS\",\"PUBLIC-RELATIONS\",\"PUBLIC-RELATIONS\",\"PUBLIC-RELATIONS\",\"PUBLIC-RELATIONS\",\"PUBLIC-RELATIONS\",\"PUBLIC-RELATIONS\",\"PUBLIC-RELATIONS\",\"PUBLIC-RELATIONS\",\"PUBLIC-RELATIONS\",\"PUBLIC-RELATIONS\",\"PUBLIC-RELATIONS\",\"PUBLIC-RELATIONS\",\"PUBLIC-RELATIONS\",\"PUBLIC-RELATIONS\",\"PUBLIC-RELATIONS\",\"PUBLIC-RELATIONS\",\"PUBLIC-RELATIONS\",\"PUBLIC-RELATIONS\",\"PUBLIC-RELATIONS\",\"PUBLIC-RELATIONS\",\"PUBLIC-RELATIONS\",\"PUBLIC-RELATIONS\",\"PUBLIC-RELATIONS\",\"PUBLIC-RELATIONS\",\"PUBLIC-RELATIONS\",\"PUBLIC-RELATIONS\",\"PUBLIC-RELATIONS\",\"PUBLIC-RELATIONS\",\"PUBLIC-RELATIONS\",\"PUBLIC-RELATIONS\",\"PUBLIC-RELATIONS\",\"PUBLIC-RELATIONS\",\"PUBLIC-RELATIONS\",\"PUBLIC-RELATIONS\",\"PUBLIC-RELATIONS\",\"PUBLIC-RELATIONS\",\"PUBLIC-RELATIONS\",\"PUBLIC-RELATIONS\",\"PUBLIC-RELATIONS\",\"PUBLIC-RELATIONS\",\"PUBLIC-RELATIONS\",\"PUBLIC-RELATIONS\",\"PUBLIC-RELATIONS\",\"PUBLIC-RELATIONS\",\"PUBLIC-RELATIONS\",\"PUBLIC-RELATIONS\",\"PUBLIC-RELATIONS\",\"PUBLIC-RELATIONS\",\"PUBLIC-RELATIONS\",\"PUBLIC-RELATIONS\",\"PUBLIC-RELATIONS\",\"PUBLIC-RELATIONS\",\"PUBLIC-RELATIONS\",\"PUBLIC-RELATIONS\",\"PUBLIC-RELATIONS\",\"PUBLIC-RELATIONS\",\"PUBLIC-RELATIONS\",\"PUBLIC-RELATIONS\",\"PUBLIC-RELATIONS\",\"PUBLIC-RELATIONS\",\"BANKING\",\"BANKING\",\"BANKING\",\"BANKING\",\"BANKING\",\"BANKING\",\"BANKING\",\"BANKING\",\"BANKING\",\"BANKING\",\"BANKING\",\"BANKING\",\"BANKING\",\"BANKING\",\"BANKING\",\"BANKING\",\"BANKING\",\"BANKING\",\"BANKING\",\"BANKING\",\"BANKING\",\"BANKING\",\"BANKING\",\"BANKING\",\"BANKING\",\"BANKING\",\"BANKING\",\"BANKING\",\"BANKING\",\"BANKING\",\"BANKING\",\"BANKING\",\"BANKING\",\"BANKING\",\"BANKING\",\"BANKING\",\"BANKING\",\"BANKING\",\"BANKING\",\"BANKING\",\"BANKING\",\"BANKING\",\"BANKING\",\"BANKING\",\"BANKING\",\"BANKING\",\"BANKING\",\"BANKING\",\"BANKING\",\"BANKING\",\"BANKING\",\"BANKING\",\"BANKING\",\"BANKING\",\"BANKING\",\"BANKING\",\"BANKING\",\"BANKING\",\"BANKING\",\"BANKING\",\"BANKING\",\"BANKING\",\"BANKING\",\"BANKING\",\"BANKING\",\"BANKING\",\"BANKING\",\"BANKING\",\"BANKING\",\"BANKING\",\"BANKING\",\"BANKING\",\"BANKING\",\"BANKING\",\"BANKING\",\"BANKING\",\"BANKING\",\"BANKING\",\"BANKING\",\"BANKING\",\"BANKING\",\"BANKING\",\"BANKING\",\"BANKING\",\"BANKING\",\"BANKING\",\"BANKING\",\"BANKING\",\"BANKING\",\"BANKING\",\"BANKING\",\"BANKING\",\"BANKING\",\"BANKING\",\"BANKING\",\"BANKING\",\"BANKING\",\"BANKING\",\"BANKING\",\"BANKING\",\"BANKING\",\"BANKING\",\"BANKING\",\"BANKING\",\"BANKING\",\"BANKING\",\"BANKING\",\"BANKING\",\"BANKING\",\"BANKING\",\"BANKING\",\"BANKING\",\"BANKING\",\"BANKING\",\"BANKING\",\"ARTS\",\"ARTS\",\"ARTS\",\"ARTS\",\"ARTS\",\"ARTS\",\"ARTS\",\"ARTS\",\"ARTS\",\"ARTS\",\"ARTS\",\"ARTS\",\"ARTS\",\"ARTS\",\"ARTS\",\"ARTS\",\"ARTS\",\"ARTS\",\"ARTS\",\"ARTS\",\"ARTS\",\"ARTS\",\"ARTS\",\"ARTS\",\"ARTS\",\"ARTS\",\"ARTS\",\"ARTS\",\"ARTS\",\"ARTS\",\"ARTS\",\"ARTS\",\"ARTS\",\"ARTS\",\"ARTS\",\"ARTS\",\"ARTS\",\"ARTS\",\"ARTS\",\"ARTS\",\"ARTS\",\"ARTS\",\"ARTS\",\"ARTS\",\"ARTS\",\"ARTS\",\"ARTS\",\"ARTS\",\"ARTS\",\"ARTS\",\"ARTS\",\"ARTS\",\"ARTS\",\"ARTS\",\"ARTS\",\"ARTS\",\"ARTS\",\"ARTS\",\"ARTS\",\"ARTS\",\"ARTS\",\"ARTS\",\"ARTS\",\"ARTS\",\"ARTS\",\"ARTS\",\"ARTS\",\"ARTS\",\"ARTS\",\"ARTS\",\"ARTS\",\"ARTS\",\"ARTS\",\"ARTS\",\"ARTS\",\"ARTS\",\"ARTS\",\"ARTS\",\"ARTS\",\"ARTS\",\"ARTS\",\"ARTS\",\"ARTS\",\"ARTS\",\"ARTS\",\"ARTS\",\"ARTS\",\"ARTS\",\"ARTS\",\"ARTS\",\"ARTS\",\"ARTS\",\"ARTS\",\"ARTS\",\"ARTS\",\"ARTS\",\"ARTS\",\"ARTS\",\"ARTS\",\"ARTS\",\"ARTS\",\"ARTS\",\"ARTS\",\"AVIATION\",\"AVIATION\",\"AVIATION\",\"AVIATION\",\"AVIATION\",\"AVIATION\",\"AVIATION\",\"AVIATION\",\"AVIATION\",\"AVIATION\",\"AVIATION\",\"AVIATION\",\"AVIATION\",\"AVIATION\",\"AVIATION\",\"AVIATION\",\"AVIATION\",\"AVIATION\",\"AVIATION\",\"AVIATION\",\"AVIATION\",\"AVIATION\",\"AVIATION\",\"AVIATION\",\"AVIATION\",\"AVIATION\",\"AVIATION\",\"AVIATION\",\"AVIATION\",\"AVIATION\",\"AVIATION\",\"AVIATION\",\"AVIATION\",\"AVIATION\",\"AVIATION\",\"AVIATION\",\"AVIATION\",\"AVIATION\",\"AVIATION\",\"AVIATION\",\"AVIATION\",\"AVIATION\",\"AVIATION\",\"AVIATION\",\"AVIATION\",\"AVIATION\",\"AVIATION\",\"AVIATION\",\"AVIATION\",\"AVIATION\",\"AVIATION\",\"AVIATION\",\"AVIATION\",\"AVIATION\",\"AVIATION\",\"AVIATION\",\"AVIATION\",\"AVIATION\",\"AVIATION\",\"AVIATION\",\"AVIATION\",\"AVIATION\",\"AVIATION\",\"AVIATION\",\"AVIATION\",\"AVIATION\",\"AVIATION\",\"AVIATION\",\"AVIATION\",\"AVIATION\",\"AVIATION\",\"AVIATION\",\"AVIATION\",\"AVIATION\",\"AVIATION\",\"AVIATION\",\"AVIATION\",\"AVIATION\",\"AVIATION\",\"AVIATION\",\"AVIATION\",\"AVIATION\",\"AVIATION\",\"AVIATION\",\"AVIATION\",\"AVIATION\",\"AVIATION\",\"AVIATION\",\"AVIATION\",\"AVIATION\",\"AVIATION\",\"AVIATION\",\"AVIATION\",\"AVIATION\",\"AVIATION\",\"AVIATION\",\"AVIATION\",\"AVIATION\",\"AVIATION\",\"AVIATION\",\"AVIATION\",\"AVIATION\",\"AVIATION\",\"AVIATION\",\"AVIATION\",\"AVIATION\",\"AVIATION\",\"AVIATION\",\"AVIATION\",\"AVIATION\",\"AVIATION\",\"AVIATION\",\"AVIATION\",\"AVIATION\",\"AVIATION\",\"AVIATION\",\"AVIATION\"],\"xaxis\":\"x\",\"yaxis\":\"y\"}],                        {\"barmode\":\"relative\",\"legend\":{\"tracegroupgap\":0},\"template\":{\"data\":{\"bar\":[{\"error_x\":{\"color\":\"#2a3f5f\"},\"error_y\":{\"color\":\"#2a3f5f\"},\"marker\":{\"line\":{\"color\":\"#E5ECF6\",\"width\":0.5},\"pattern\":{\"fillmode\":\"overlay\",\"size\":10,\"solidity\":0.2}},\"type\":\"bar\"}],\"barpolar\":[{\"marker\":{\"line\":{\"color\":\"#E5ECF6\",\"width\":0.5},\"pattern\":{\"fillmode\":\"overlay\",\"size\":10,\"solidity\":0.2}},\"type\":\"barpolar\"}],\"carpet\":[{\"aaxis\":{\"endlinecolor\":\"#2a3f5f\",\"gridcolor\":\"white\",\"linecolor\":\"white\",\"minorgridcolor\":\"white\",\"startlinecolor\":\"#2a3f5f\"},\"baxis\":{\"endlinecolor\":\"#2a3f5f\",\"gridcolor\":\"white\",\"linecolor\":\"white\",\"minorgridcolor\":\"white\",\"startlinecolor\":\"#2a3f5f\"},\"type\":\"carpet\"}],\"choropleth\":[{\"colorbar\":{\"outlinewidth\":0,\"ticks\":\"\"},\"type\":\"choropleth\"}],\"contour\":[{\"colorbar\":{\"outlinewidth\":0,\"ticks\":\"\"},\"colorscale\":[[0.0,\"#0d0887\"],[0.1111111111111111,\"#46039f\"],[0.2222222222222222,\"#7201a8\"],[0.3333333333333333,\"#9c179e\"],[0.4444444444444444,\"#bd3786\"],[0.5555555555555556,\"#d8576b\"],[0.6666666666666666,\"#ed7953\"],[0.7777777777777778,\"#fb9f3a\"],[0.8888888888888888,\"#fdca26\"],[1.0,\"#f0f921\"]],\"type\":\"contour\"}],\"contourcarpet\":[{\"colorbar\":{\"outlinewidth\":0,\"ticks\":\"\"},\"type\":\"contourcarpet\"}],\"heatmap\":[{\"colorbar\":{\"outlinewidth\":0,\"ticks\":\"\"},\"colorscale\":[[0.0,\"#0d0887\"],[0.1111111111111111,\"#46039f\"],[0.2222222222222222,\"#7201a8\"],[0.3333333333333333,\"#9c179e\"],[0.4444444444444444,\"#bd3786\"],[0.5555555555555556,\"#d8576b\"],[0.6666666666666666,\"#ed7953\"],[0.7777777777777778,\"#fb9f3a\"],[0.8888888888888888,\"#fdca26\"],[1.0,\"#f0f921\"]],\"type\":\"heatmap\"}],\"heatmapgl\":[{\"colorbar\":{\"outlinewidth\":0,\"ticks\":\"\"},\"colorscale\":[[0.0,\"#0d0887\"],[0.1111111111111111,\"#46039f\"],[0.2222222222222222,\"#7201a8\"],[0.3333333333333333,\"#9c179e\"],[0.4444444444444444,\"#bd3786\"],[0.5555555555555556,\"#d8576b\"],[0.6666666666666666,\"#ed7953\"],[0.7777777777777778,\"#fb9f3a\"],[0.8888888888888888,\"#fdca26\"],[1.0,\"#f0f921\"]],\"type\":\"heatmapgl\"}],\"histogram\":[{\"marker\":{\"pattern\":{\"fillmode\":\"overlay\",\"size\":10,\"solidity\":0.2}},\"type\":\"histogram\"}],\"histogram2d\":[{\"colorbar\":{\"outlinewidth\":0,\"ticks\":\"\"},\"colorscale\":[[0.0,\"#0d0887\"],[0.1111111111111111,\"#46039f\"],[0.2222222222222222,\"#7201a8\"],[0.3333333333333333,\"#9c179e\"],[0.4444444444444444,\"#bd3786\"],[0.5555555555555556,\"#d8576b\"],[0.6666666666666666,\"#ed7953\"],[0.7777777777777778,\"#fb9f3a\"],[0.8888888888888888,\"#fdca26\"],[1.0,\"#f0f921\"]],\"type\":\"histogram2d\"}],\"histogram2dcontour\":[{\"colorbar\":{\"outlinewidth\":0,\"ticks\":\"\"},\"colorscale\":[[0.0,\"#0d0887\"],[0.1111111111111111,\"#46039f\"],[0.2222222222222222,\"#7201a8\"],[0.3333333333333333,\"#9c179e\"],[0.4444444444444444,\"#bd3786\"],[0.5555555555555556,\"#d8576b\"],[0.6666666666666666,\"#ed7953\"],[0.7777777777777778,\"#fb9f3a\"],[0.8888888888888888,\"#fdca26\"],[1.0,\"#f0f921\"]],\"type\":\"histogram2dcontour\"}],\"mesh3d\":[{\"colorbar\":{\"outlinewidth\":0,\"ticks\":\"\"},\"type\":\"mesh3d\"}],\"parcoords\":[{\"line\":{\"colorbar\":{\"outlinewidth\":0,\"ticks\":\"\"}},\"type\":\"parcoords\"}],\"pie\":[{\"automargin\":true,\"type\":\"pie\"}],\"scatter\":[{\"marker\":{\"colorbar\":{\"outlinewidth\":0,\"ticks\":\"\"}},\"type\":\"scatter\"}],\"scatter3d\":[{\"line\":{\"colorbar\":{\"outlinewidth\":0,\"ticks\":\"\"}},\"marker\":{\"colorbar\":{\"outlinewidth\":0,\"ticks\":\"\"}},\"type\":\"scatter3d\"}],\"scattercarpet\":[{\"marker\":{\"colorbar\":{\"outlinewidth\":0,\"ticks\":\"\"}},\"type\":\"scattercarpet\"}],\"scattergeo\":[{\"marker\":{\"colorbar\":{\"outlinewidth\":0,\"ticks\":\"\"}},\"type\":\"scattergeo\"}],\"scattergl\":[{\"marker\":{\"colorbar\":{\"outlinewidth\":0,\"ticks\":\"\"}},\"type\":\"scattergl\"}],\"scattermapbox\":[{\"marker\":{\"colorbar\":{\"outlinewidth\":0,\"ticks\":\"\"}},\"type\":\"scattermapbox\"}],\"scatterpolar\":[{\"marker\":{\"colorbar\":{\"outlinewidth\":0,\"ticks\":\"\"}},\"type\":\"scatterpolar\"}],\"scatterpolargl\":[{\"marker\":{\"colorbar\":{\"outlinewidth\":0,\"ticks\":\"\"}},\"type\":\"scatterpolargl\"}],\"scatterternary\":[{\"marker\":{\"colorbar\":{\"outlinewidth\":0,\"ticks\":\"\"}},\"type\":\"scatterternary\"}],\"surface\":[{\"colorbar\":{\"outlinewidth\":0,\"ticks\":\"\"},\"colorscale\":[[0.0,\"#0d0887\"],[0.1111111111111111,\"#46039f\"],[0.2222222222222222,\"#7201a8\"],[0.3333333333333333,\"#9c179e\"],[0.4444444444444444,\"#bd3786\"],[0.5555555555555556,\"#d8576b\"],[0.6666666666666666,\"#ed7953\"],[0.7777777777777778,\"#fb9f3a\"],[0.8888888888888888,\"#fdca26\"],[1.0,\"#f0f921\"]],\"type\":\"surface\"}],\"table\":[{\"cells\":{\"fill\":{\"color\":\"#EBF0F8\"},\"line\":{\"color\":\"white\"}},\"header\":{\"fill\":{\"color\":\"#C8D4E3\"},\"line\":{\"color\":\"white\"}},\"type\":\"table\"}]},\"layout\":{\"annotationdefaults\":{\"arrowcolor\":\"#2a3f5f\",\"arrowhead\":0,\"arrowwidth\":1},\"autotypenumbers\":\"strict\",\"coloraxis\":{\"colorbar\":{\"outlinewidth\":0,\"ticks\":\"\"}},\"colorscale\":{\"diverging\":[[0,\"#8e0152\"],[0.1,\"#c51b7d\"],[0.2,\"#de77ae\"],[0.3,\"#f1b6da\"],[0.4,\"#fde0ef\"],[0.5,\"#f7f7f7\"],[0.6,\"#e6f5d0\"],[0.7,\"#b8e186\"],[0.8,\"#7fbc41\"],[0.9,\"#4d9221\"],[1,\"#276419\"]],\"sequential\":[[0.0,\"#0d0887\"],[0.1111111111111111,\"#46039f\"],[0.2222222222222222,\"#7201a8\"],[0.3333333333333333,\"#9c179e\"],[0.4444444444444444,\"#bd3786\"],[0.5555555555555556,\"#d8576b\"],[0.6666666666666666,\"#ed7953\"],[0.7777777777777778,\"#fb9f3a\"],[0.8888888888888888,\"#fdca26\"],[1.0,\"#f0f921\"]],\"sequentialminus\":[[0.0,\"#0d0887\"],[0.1111111111111111,\"#46039f\"],[0.2222222222222222,\"#7201a8\"],[0.3333333333333333,\"#9c179e\"],[0.4444444444444444,\"#bd3786\"],[0.5555555555555556,\"#d8576b\"],[0.6666666666666666,\"#ed7953\"],[0.7777777777777778,\"#fb9f3a\"],[0.8888888888888888,\"#fdca26\"],[1.0,\"#f0f921\"]]},\"colorway\":[\"#636efa\",\"#EF553B\",\"#00cc96\",\"#ab63fa\",\"#FFA15A\",\"#19d3f3\",\"#FF6692\",\"#B6E880\",\"#FF97FF\",\"#FECB52\"],\"font\":{\"color\":\"#2a3f5f\"},\"geo\":{\"bgcolor\":\"white\",\"lakecolor\":\"white\",\"landcolor\":\"#E5ECF6\",\"showlakes\":true,\"showland\":true,\"subunitcolor\":\"white\"},\"hoverlabel\":{\"align\":\"left\"},\"hovermode\":\"closest\",\"mapbox\":{\"style\":\"light\"},\"paper_bgcolor\":\"white\",\"plot_bgcolor\":\"#E5ECF6\",\"polar\":{\"angularaxis\":{\"gridcolor\":\"white\",\"linecolor\":\"white\",\"ticks\":\"\"},\"bgcolor\":\"#E5ECF6\",\"radialaxis\":{\"gridcolor\":\"white\",\"linecolor\":\"white\",\"ticks\":\"\"}},\"scene\":{\"xaxis\":{\"backgroundcolor\":\"#E5ECF6\",\"gridcolor\":\"white\",\"gridwidth\":2,\"linecolor\":\"white\",\"showbackground\":true,\"ticks\":\"\",\"zerolinecolor\":\"white\"},\"yaxis\":{\"backgroundcolor\":\"#E5ECF6\",\"gridcolor\":\"white\",\"gridwidth\":2,\"linecolor\":\"white\",\"showbackground\":true,\"ticks\":\"\",\"zerolinecolor\":\"white\"},\"zaxis\":{\"backgroundcolor\":\"#E5ECF6\",\"gridcolor\":\"white\",\"gridwidth\":2,\"linecolor\":\"white\",\"showbackground\":true,\"ticks\":\"\",\"zerolinecolor\":\"white\"}},\"shapedefaults\":{\"line\":{\"color\":\"#2a3f5f\"}},\"ternary\":{\"aaxis\":{\"gridcolor\":\"white\",\"linecolor\":\"white\",\"ticks\":\"\"},\"baxis\":{\"gridcolor\":\"white\",\"linecolor\":\"white\",\"ticks\":\"\"},\"bgcolor\":\"#E5ECF6\",\"caxis\":{\"gridcolor\":\"white\",\"linecolor\":\"white\",\"ticks\":\"\"}},\"title\":{\"x\":0.05},\"xaxis\":{\"automargin\":true,\"gridcolor\":\"white\",\"linecolor\":\"white\",\"ticks\":\"\",\"title\":{\"standoff\":15},\"zerolinecolor\":\"white\",\"zerolinewidth\":2},\"yaxis\":{\"automargin\":true,\"gridcolor\":\"white\",\"linecolor\":\"white\",\"ticks\":\"\",\"title\":{\"standoff\":15},\"zerolinecolor\":\"white\",\"zerolinewidth\":2}}},\"title\":{\"text\":\"Distribution of Jobs Categories\"},\"xaxis\":{\"anchor\":\"y\",\"categoryorder\":\"total descending\",\"domain\":[0.0,1.0],\"title\":{\"text\":\"Category\"}},\"yaxis\":{\"anchor\":\"x\",\"domain\":[0.0,1.0],\"title\":{\"text\":\"count\"}}},                        {\"responsive\": true}                    ).then(function(){\n",
       "                            \n",
       "var gd = document.getElementById('58661e46-93b1-45e8-9805-31c3dfdc6edd');\n",
       "var x = new MutationObserver(function (mutations, observer) {{\n",
       "        var display = window.getComputedStyle(gd).display;\n",
       "        if (!display || display === 'none') {{\n",
       "            console.log([gd, 'removed!']);\n",
       "            Plotly.purge(gd);\n",
       "            observer.disconnect();\n",
       "        }}\n",
       "}});\n",
       "\n",
       "// Listen for the removal of the full notebook cells\n",
       "var notebookContainer = gd.closest('#notebook-container');\n",
       "if (notebookContainer) {{\n",
       "    x.observe(notebookContainer, {childList: true});\n",
       "}}\n",
       "\n",
       "// Listen for the clearing of the current output cell\n",
       "var outputEl = gd.closest('.output');\n",
       "if (outputEl) {{\n",
       "    x.observe(outputEl, {childList: true});\n",
       "}}\n",
       "\n",
       "                        })                };                });            </script>        </div>"
      ]
     },
     "metadata": {},
     "output_type": "display_data"
    }
   ],
   "source": [
    "fig = px.histogram(\n",
    "    df, x=\"Category\", title=\"Distribution of Jobs Categories\"\n",
    ").update_xaxes(categoryorder=\"total descending\")\n",
    "fig.show()"
   ]
  },
  {
   "cell_type": "code",
   "execution_count": 214,
   "id": "c8a222e5-a733-4c61-b3b2-a6ef063175a1",
   "metadata": {},
   "outputs": [
    {
     "data": {
      "text/html": [
       "<div>\n",
       "<style scoped>\n",
       "    .dataframe tbody tr th:only-of-type {\n",
       "        vertical-align: middle;\n",
       "    }\n",
       "\n",
       "    .dataframe tbody tr th {\n",
       "        vertical-align: top;\n",
       "    }\n",
       "\n",
       "    .dataframe thead th {\n",
       "        text-align: right;\n",
       "    }\n",
       "</style>\n",
       "<table border=\"1\" class=\"dataframe\">\n",
       "  <thead>\n",
       "    <tr style=\"text-align: right;\">\n",
       "      <th></th>\n",
       "      <th>ID</th>\n",
       "      <th>Resume_str</th>\n",
       "      <th>Resume_html</th>\n",
       "      <th>Category</th>\n",
       "    </tr>\n",
       "  </thead>\n",
       "  <tbody>\n",
       "    <tr>\n",
       "      <th>1561</th>\n",
       "      <td>66741193</td>\n",
       "      <td>DIRECTOR OF FINANCE         Executive...</td>\n",
       "      <td>&lt;div class=\"fontsize fontface vmargins hmargin...</td>\n",
       "      <td>FINANCE</td>\n",
       "    </tr>\n",
       "    <tr>\n",
       "      <th>1636</th>\n",
       "      <td>29764492</td>\n",
       "      <td>DESIGN DIRECTOR / SENIOR DESIGNER  ...</td>\n",
       "      <td>&lt;div class=\"skn-cbg1 fontsize fontface vmargin...</td>\n",
       "      <td>APPAREL</td>\n",
       "    </tr>\n",
       "    <tr>\n",
       "      <th>254</th>\n",
       "      <td>46260230</td>\n",
       "      <td>INFORMATION TECHNOLOGY SPECIALIST(DIS...</td>\n",
       "      <td>&lt;div class=\"RNA skn-hdr3 fontsize fontface vma...</td>\n",
       "      <td>INFORMATION-TECHNOLOGY</td>\n",
       "    </tr>\n",
       "    <tr>\n",
       "      <th>868</th>\n",
       "      <td>12092347</td>\n",
       "      <td>SALES ASSOCIATE           Professiona...</td>\n",
       "      <td>&lt;div class=\"fontsize fontface vmargins hmargin...</td>\n",
       "      <td>FITNESS</td>\n",
       "    </tr>\n",
       "    <tr>\n",
       "      <th>1628</th>\n",
       "      <td>23719943</td>\n",
       "      <td>SR. FREELANCE DESIGNER/PRODUCT DEVELO...</td>\n",
       "      <td>&lt;div class=\"fontsize fontface vmargins hmargin...</td>\n",
       "      <td>APPAREL</td>\n",
       "    </tr>\n",
       "  </tbody>\n",
       "</table>\n",
       "</div>"
      ],
      "text/plain": [
       "            ID                                         Resume_str  \\\n",
       "1561  66741193           DIRECTOR OF FINANCE         Executive...   \n",
       "1636  29764492             DESIGN DIRECTOR / SENIOR DESIGNER  ...   \n",
       "254   46260230           INFORMATION TECHNOLOGY SPECIALIST(DIS...   \n",
       "868   12092347           SALES ASSOCIATE           Professiona...   \n",
       "1628  23719943           SR. FREELANCE DESIGNER/PRODUCT DEVELO...   \n",
       "\n",
       "                                            Resume_html  \\\n",
       "1561  <div class=\"fontsize fontface vmargins hmargin...   \n",
       "1636  <div class=\"skn-cbg1 fontsize fontface vmargin...   \n",
       "254   <div class=\"RNA skn-hdr3 fontsize fontface vma...   \n",
       "868   <div class=\"fontsize fontface vmargins hmargin...   \n",
       "1628  <div class=\"fontsize fontface vmargins hmargin...   \n",
       "\n",
       "                    Category  \n",
       "1561                 FINANCE  \n",
       "1636                 APPAREL  \n",
       "254   INFORMATION-TECHNOLOGY  \n",
       "868                  FITNESS  \n",
       "1628                 APPAREL  "
      ]
     },
     "execution_count": 214,
     "metadata": {},
     "output_type": "execute_result"
    }
   ],
   "source": [
    "df = df.reindex(np.random.permutation(df.index))\n",
    "df = df.copy().iloc[\n",
    "    0:400,\n",
    "]\n",
    "df.head()"
   ]
  },
  {
   "cell_type": "code",
   "execution_count": 199,
   "id": "b97cf6aa-ab16-43f3-8ebf-17ea1d5de449",
   "metadata": {},
   "outputs": [],
   "source": [
    "#different cleaning function\n",
    "def clean_resume(df):\n",
    "    clean = []\n",
    "    for i in range(df.shape[0]):\n",
    "        review = re.sub(\n",
    "            '(@[A-Za-z0-9]+)|([^0-9A-Za-z \\t])|(\\w+:\\/\\/\\S+)|^rt|http.+?\"',\n",
    "            \" \",\n",
    "            df[\"Resume_str\"].iloc[i],\n",
    "        )\n",
    "        review = review.lower()\n",
    "        review = review.split()\n",
    "        lm = WordNetLemmatizer()\n",
    "        review = [\n",
    "            lm.lemmatize(word)\n",
    "            for word in review\n",
    "            if not word in set(stopwords.words(\"english\"))\n",
    "        ]\n",
    "        review = \" \".join(review)\n",
    "        clean.append(review)\n",
    "    return clean"
   ]
  },
  {
   "cell_type": "code",
   "execution_count": 216,
   "id": "c7572ae9-1f69-4ad5-80dc-6163074c34d0",
   "metadata": {},
   "outputs": [
    {
     "data": {
      "text/html": [
       "<div>\n",
       "<style scoped>\n",
       "    .dataframe tbody tr th:only-of-type {\n",
       "        vertical-align: middle;\n",
       "    }\n",
       "\n",
       "    .dataframe tbody tr th {\n",
       "        vertical-align: top;\n",
       "    }\n",
       "\n",
       "    .dataframe thead th {\n",
       "        text-align: right;\n",
       "    }\n",
       "</style>\n",
       "<table border=\"1\" class=\"dataframe\">\n",
       "  <thead>\n",
       "    <tr style=\"text-align: right;\">\n",
       "      <th></th>\n",
       "      <th>ID</th>\n",
       "      <th>Resume_str</th>\n",
       "      <th>Resume_html</th>\n",
       "      <th>Category</th>\n",
       "      <th>Clean_Resume</th>\n",
       "      <th>marked_text</th>\n",
       "    </tr>\n",
       "  </thead>\n",
       "  <tbody>\n",
       "    <tr>\n",
       "      <th>1561</th>\n",
       "      <td>66741193</td>\n",
       "      <td>DIRECTOR OF FINANCE         Executive...</td>\n",
       "      <td>&lt;div class=\"fontsize fontface vmargins hmargin...</td>\n",
       "      <td>FINANCE</td>\n",
       "      <td>director finance executive profile ambitious f...</td>\n",
       "      <td>(director, finance, executive, profile, ambiti...</td>\n",
       "    </tr>\n",
       "    <tr>\n",
       "      <th>1636</th>\n",
       "      <td>29764492</td>\n",
       "      <td>DESIGN DIRECTOR / SENIOR DESIGNER  ...</td>\n",
       "      <td>&lt;div class=\"skn-cbg1 fontsize fontface vmargin...</td>\n",
       "      <td>APPAREL</td>\n",
       "      <td>design director senior designer professional s...</td>\n",
       "      <td>(design, director, senior, designer, professio...</td>\n",
       "    </tr>\n",
       "    <tr>\n",
       "      <th>254</th>\n",
       "      <td>46260230</td>\n",
       "      <td>INFORMATION TECHNOLOGY SPECIALIST(DIS...</td>\n",
       "      <td>&lt;div class=\"RNA skn-hdr3 fontsize fontface vma...</td>\n",
       "      <td>INFORMATION-TECHNOLOGY</td>\n",
       "      <td>information technology specialist discountpcfi...</td>\n",
       "      <td>(information, technology, specialist, discount...</td>\n",
       "    </tr>\n",
       "    <tr>\n",
       "      <th>868</th>\n",
       "      <td>12092347</td>\n",
       "      <td>SALES ASSOCIATE           Professiona...</td>\n",
       "      <td>&lt;div class=\"fontsize fontface vmargins hmargin...</td>\n",
       "      <td>FITNESS</td>\n",
       "      <td>sale associate professional summary jack trade...</td>\n",
       "      <td>(sale, associate, professional, summary, jack,...</td>\n",
       "    </tr>\n",
       "    <tr>\n",
       "      <th>1628</th>\n",
       "      <td>23719943</td>\n",
       "      <td>SR. FREELANCE DESIGNER/PRODUCT DEVELO...</td>\n",
       "      <td>&lt;div class=\"fontsize fontface vmargins hmargin...</td>\n",
       "      <td>APPAREL</td>\n",
       "      <td>sr freelance designer product development mana...</td>\n",
       "      <td>(sr, freelance, designer, product, development...</td>\n",
       "    </tr>\n",
       "  </tbody>\n",
       "</table>\n",
       "</div>"
      ],
      "text/plain": [
       "            ID                                         Resume_str  \\\n",
       "1561  66741193           DIRECTOR OF FINANCE         Executive...   \n",
       "1636  29764492             DESIGN DIRECTOR / SENIOR DESIGNER  ...   \n",
       "254   46260230           INFORMATION TECHNOLOGY SPECIALIST(DIS...   \n",
       "868   12092347           SALES ASSOCIATE           Professiona...   \n",
       "1628  23719943           SR. FREELANCE DESIGNER/PRODUCT DEVELO...   \n",
       "\n",
       "                                            Resume_html  \\\n",
       "1561  <div class=\"fontsize fontface vmargins hmargin...   \n",
       "1636  <div class=\"skn-cbg1 fontsize fontface vmargin...   \n",
       "254   <div class=\"RNA skn-hdr3 fontsize fontface vma...   \n",
       "868   <div class=\"fontsize fontface vmargins hmargin...   \n",
       "1628  <div class=\"fontsize fontface vmargins hmargin...   \n",
       "\n",
       "                    Category  \\\n",
       "1561                 FINANCE   \n",
       "1636                 APPAREL   \n",
       "254   INFORMATION-TECHNOLOGY   \n",
       "868                  FITNESS   \n",
       "1628                 APPAREL   \n",
       "\n",
       "                                           Clean_Resume  \\\n",
       "1561  director finance executive profile ambitious f...   \n",
       "1636  design director senior designer professional s...   \n",
       "254   information technology specialist discountpcfi...   \n",
       "868   sale associate professional summary jack trade...   \n",
       "1628  sr freelance designer product development mana...   \n",
       "\n",
       "                                            marked_text  \n",
       "1561  (director, finance, executive, profile, ambiti...  \n",
       "1636  (design, director, senior, designer, professio...  \n",
       "254   (information, technology, specialist, discount...  \n",
       "868   (sale, associate, professional, summary, jack,...  \n",
       "1628  (sr, freelance, designer, product, development...  "
      ]
     },
     "execution_count": 216,
     "metadata": {},
     "output_type": "execute_result"
    }
   ],
   "source": [
    "df[\"Clean_Resume\"] = clean_resume(df)\n",
    "df[\"marked_text\"] = df[\"Clean_Resume\"].str.lower().apply(nlp_ms)\n",
    "df[\"skills\"] = df[\"marked_text\"].apply(create_skill_list)\n",
    "df.reset_index(inplace = True)\n",
    "df.head()"
   ]
  },
  {
   "cell_type": "code",
   "execution_count": 38,
   "id": "11726310-090c-4cde-8a18-8c4f566f804b",
   "metadata": {},
   "outputs": [
    {
     "data": {
      "text/plain": [
       "{'accounting',\n",
       " 'advertising',\n",
       " 'business',\n",
       " 'business administration',\n",
       " 'commerce',\n",
       " 'data analysis',\n",
       " 'design',\n",
       " 'documentation',\n",
       " 'front end',\n",
       " 'interaction',\n",
       " 'marketing',\n",
       " 'medium',\n",
       " 'segment',\n",
       " 'server',\n",
       " 'support',\n",
       " 'swift'}"
      ]
     },
     "execution_count": 38,
     "metadata": {},
     "output_type": "execute_result"
    }
   ],
   "source": [
    "set(flat_list)"
   ]
  },
  {
   "cell_type": "code",
   "execution_count": null,
   "id": "cf45e79e-66ab-4167-b661-721a8dc18378",
   "metadata": {},
   "outputs": [],
   "source": [
    "test_resume = nlp_ms(df[\"Resume_str\"].iloc[0])\n",
    "resume_ents = [(ent.text, ent.label_) for ent in test_resume.ents]\n",
    "displacy.render(test_resume, style=\"ent\", jupyter=True)\n",
    "print(resume_ents)"
   ]
  },
  {
   "cell_type": "code",
   "execution_count": 253,
   "id": "9670af1d-3ca9-4024-bf01-923e77894145",
   "metadata": {},
   "outputs": [],
   "source": [
    "#functions for getting entities text, label, start and end of character position\n",
    "def create_skill_set(text, model = False):\n",
    "    '''Apply basic spacy model and Create a set of the extracted skill entities'''\n",
    "    \n",
    "    if model == True:\n",
    "        nlp_ms = spacy.blank(\"en\")\n",
    "        skill_pattern_path = PATH + \"/data/dictionaries/complete_dict.jsonl\"\n",
    "        ruler = nlp_ms.add_pipe(\"entity_ruler\")\n",
    "        ruler.from_disk(skill_pattern_path)\n",
    "        doc = nlp(text)\n",
    "        \n",
    "    return set([ent.label_.upper()[6:] for ent in doc.ents if 'skill' or 'knowledge' in ent.label_.lower()])\n",
    "\n",
    "def create_skill_position(doc):\n",
    "    '''Create a set of the extracted skill entities of a doc'''\n",
    "    #nlp_doc = nlp_ms(doc)\n",
    "    #[(ent.text, ent.start_char, ent.end_char, ent.label_) for ent in sent.ents]\n",
    "    return list([ent.start_char, ent.end_char, ent.label_] for ent in doc.ents )\n",
    "\n",
    "#def create_skillset_dict(resume_texts):\n",
    "#    '''Create a dictionary containing a set of the extracted skills. Name is key, matching skillset is value'''\n",
    "#    skillsets = [create_skill_set(resume_text) for resume_text in resume_texts]\n",
    "#   return skillsets\n",
    "\n",
    "def create_skill_list(text, model = False):\n",
    "    \n",
    "    if model == True:\n",
    "        nlp_ms = spacy.blank(\"en\")\n",
    "        skill_pattern_path = PATH + \"/data/dictionaries/complete_dict.jsonl\"\n",
    "        ruler = nlp_ms.add_pipe(\"entity_ruler\")\n",
    "        ruler.from_disk(skill_pattern_path)\n",
    "        doc = nlp_ms(text)\n",
    "    \n",
    "    t = list([ent.text] for ent in doc.ents )\n",
    "    flat_list = [item for sublist in t for item in sublist]\n",
    "    return set(flat_list)\n",
    "\n",
    "def match_skills(JD_data_set, cv_set):\n",
    "    '''Get intersection of resume skills and job offer skills and return match percentage'''\n",
    "    pct_list = []\n",
    "    \n",
    "    if len(cv_set) < 1:\n",
    "        print('could not extract skills from resume text')   \n",
    "    else:\n",
    "        #implement function comparing with a list of job_descriptions\n",
    "        for i in range(0, len(JD_set)):\n",
    "            match = cv_set & JD_set[i] \n",
    "            qu = len(cv_set & JD_set[i])\n",
    "            di = len(JD_set[i])\n",
    "            pct_match = round((qu/di) * 100, 2)\n",
    "            pct_list.append([i, pct_match])\n",
    "            \n",
    "        pct_list.sort(key=lambda x: x[1], reverse = True)s\n",
    "    \n",
    "        #print(\"Resume has a {}% skill match on job offer\".format(pct_match))\n",
    "        #print('Required skills: {} '.format(JD_set))\n",
    "        #print('Matched skills: {} \\n'.format(JD_set.intersection(skillset_dict[resume_name])))\n",
    "        \n",
    "    return pct_list[0:9]"
   ]
  },
  {
   "cell_type": "code",
   "execution_count": 73,
   "id": "17c18401-8541-4c35-92af-81b19a11cd72",
   "metadata": {},
   "outputs": [],
   "source": [
    "# compare df.skills with test_list\n",
    "cv_set = test_list\n",
    "JD_set = df.skills\n",
    "pct_list = match_skills(JD_set, cv_set)"
   ]
  },
  {
   "cell_type": "code",
   "execution_count": 397,
   "id": "477bf616-286b-4f45-9748-e1fd5b874f1c",
   "metadata": {},
   "outputs": [
    {
     "data": {
      "text/plain": [
       "(400, 5)"
      ]
     },
     "execution_count": 398,
     "metadata": {},
     "output_type": "execute_result"
    }
   ],
   "source": [
    "df.shape()"
   ]
  },
  {
   "cell_type": "code",
   "execution_count": 138,
   "id": "7a8e5a12-3f51-4a1f-9370-6a8451255304",
   "metadata": {},
   "outputs": [],
   "source": [
    "pct_list = match_skills(JD_set, cv_set)"
   ]
  },
  {
   "cell_type": "code",
   "execution_count": 461,
   "id": "fb02fe20-7c31-486c-b520-1e9d22488e04",
   "metadata": {},
   "outputs": [
    {
     "name": "stdout",
     "output_type": "stream",
     "text": [
      "Job #96 in Sector SALES has a 100.0% match\n",
      "Job #111 in Sector AGRICULTURE has a 66.67% match\n",
      "Job #169 in Sector AGRICULTURE has a 66.67% match\n",
      "Job #95 in Sector ENGINEERING has a 60.0% match\n",
      "Job #0 in Sector FINANCE has a 50.0% match\n",
      "Job #19 in Sector AVIATION has a 50.0% match\n",
      "Job #20 in Sector ENGINEERING has a 50.0% match\n",
      "Job #37 in Sector BUSINESS-DEVELOPMENT has a 50.0% match\n",
      "Job #52 in Sector ACCOUNTANT has a 50.0% match\n"
     ]
    }
   ],
   "source": [
    "job_number, matching_score, job_cat = [], [], []\n",
    "frame = pd.DataFrame\n",
    "\n",
    "for i in pct_list:\n",
    "    cat = df[\"Category\"][i[0]]\n",
    "    print('Job #{} in Sector {} has a {}% match'.format(i[0], df[\"Category\"][i[0]], i[1]))\n",
    "    job_number.append(i[0])\n",
    "    matching_score.append(i[1])\n",
    "    \n",
    "    if cat in job_cat:\n",
    "        job_cat.append(str(cat) + str(i[0]))\n",
    "    else:\n",
    "        job_cat.append(cat)\n",
    "    \n",
    "frame = pd.DataFrame(job_number, columns=['job_number'])\n",
    "frame[\"matching_score\"] = matching_score\n",
    "frame[\"Category\"] = job_cat"
   ]
  },
  {
   "cell_type": "code",
   "execution_count": 462,
   "id": "2d126526-6e5c-4e8e-9e66-74813ee71acb",
   "metadata": {},
   "outputs": [
    {
     "data": {
      "text/html": [
       "<div>\n",
       "<style scoped>\n",
       "    .dataframe tbody tr th:only-of-type {\n",
       "        vertical-align: middle;\n",
       "    }\n",
       "\n",
       "    .dataframe tbody tr th {\n",
       "        vertical-align: top;\n",
       "    }\n",
       "\n",
       "    .dataframe thead th {\n",
       "        text-align: right;\n",
       "    }\n",
       "</style>\n",
       "<table border=\"1\" class=\"dataframe\">\n",
       "  <thead>\n",
       "    <tr style=\"text-align: right;\">\n",
       "      <th></th>\n",
       "      <th>job_number</th>\n",
       "      <th>matching_score</th>\n",
       "      <th>Category</th>\n",
       "    </tr>\n",
       "  </thead>\n",
       "  <tbody>\n",
       "    <tr>\n",
       "      <th>0</th>\n",
       "      <td>96</td>\n",
       "      <td>100.00</td>\n",
       "      <td>SALES</td>\n",
       "    </tr>\n",
       "    <tr>\n",
       "      <th>1</th>\n",
       "      <td>111</td>\n",
       "      <td>66.67</td>\n",
       "      <td>AGRICULTURE</td>\n",
       "    </tr>\n",
       "    <tr>\n",
       "      <th>2</th>\n",
       "      <td>169</td>\n",
       "      <td>66.67</td>\n",
       "      <td>AGRICULTURE169</td>\n",
       "    </tr>\n",
       "    <tr>\n",
       "      <th>3</th>\n",
       "      <td>95</td>\n",
       "      <td>60.00</td>\n",
       "      <td>ENGINEERING</td>\n",
       "    </tr>\n",
       "    <tr>\n",
       "      <th>4</th>\n",
       "      <td>0</td>\n",
       "      <td>50.00</td>\n",
       "      <td>FINANCE</td>\n",
       "    </tr>\n",
       "    <tr>\n",
       "      <th>5</th>\n",
       "      <td>19</td>\n",
       "      <td>50.00</td>\n",
       "      <td>AVIATION</td>\n",
       "    </tr>\n",
       "    <tr>\n",
       "      <th>6</th>\n",
       "      <td>20</td>\n",
       "      <td>50.00</td>\n",
       "      <td>ENGINEERING20</td>\n",
       "    </tr>\n",
       "    <tr>\n",
       "      <th>7</th>\n",
       "      <td>37</td>\n",
       "      <td>50.00</td>\n",
       "      <td>BUSINESS-DEVELOPMENT</td>\n",
       "    </tr>\n",
       "    <tr>\n",
       "      <th>8</th>\n",
       "      <td>52</td>\n",
       "      <td>50.00</td>\n",
       "      <td>ACCOUNTANT</td>\n",
       "    </tr>\n",
       "  </tbody>\n",
       "</table>\n",
       "</div>"
      ],
      "text/plain": [
       "   job_number  matching_score              Category\n",
       "0          96          100.00                 SALES\n",
       "1         111           66.67           AGRICULTURE\n",
       "2         169           66.67        AGRICULTURE169\n",
       "3          95           60.00           ENGINEERING\n",
       "4           0           50.00               FINANCE\n",
       "5          19           50.00              AVIATION\n",
       "6          20           50.00         ENGINEERING20\n",
       "7          37           50.00  BUSINESS-DEVELOPMENT\n",
       "8          52           50.00            ACCOUNTANT"
      ]
     },
     "execution_count": 462,
     "metadata": {},
     "output_type": "execute_result"
    }
   ],
   "source": [
    "frame"
   ]
  },
  {
   "cell_type": "code",
   "execution_count": 434,
   "id": "685ebbe1-b396-46e5-bff7-cbf4c9d8b90e",
   "metadata": {},
   "outputs": [
    {
     "data": {
      "text/plain": [
       "Templates configuration\n",
       "-----------------------\n",
       "    Default template: 'plotly'\n",
       "    Available templates:\n",
       "        ['ggplot2', 'seaborn', 'simple_white', 'plotly',\n",
       "         'plotly_white', 'plotly_dark', 'presentation', 'xgridoff',\n",
       "         'ygridoff', 'gridon', 'none']"
      ]
     },
     "execution_count": 434,
     "metadata": {},
     "output_type": "execute_result"
    }
   ],
   "source": [
    "import plotly.io as pio\n",
    "pio.templates"
   ]
  },
  {
   "cell_type": "code",
   "execution_count": 465,
   "id": "99220456-0827-4565-92f5-c45398b881f2",
   "metadata": {},
   "outputs": [],
   "source": [
    "frame[\"color\"] = '0'"
   ]
  },
  {
   "cell_type": "code",
   "execution_count": 479,
   "id": "b7b46c1c-b768-4625-8e5e-b88e292a8080",
   "metadata": {},
   "outputs": [
    {
     "data": {
      "text/plain": [
       "100.0"
      ]
     },
     "execution_count": 479,
     "metadata": {},
     "output_type": "execute_result"
    }
   ],
   "source": [
    "frame.matching_score[0]"
   ]
  },
  {
   "cell_type": "code",
   "execution_count": 481,
   "id": "e9c07a9e-fcbc-4c75-868b-675a14305d1c",
   "metadata": {},
   "outputs": [
    {
     "ename": "UFuncTypeError",
     "evalue": "ufunc 'multiply' did not contain a loop with signature matching types (dtype('<U32'), dtype('<U32')) -> dtype('<U32')",
     "output_type": "error",
     "traceback": [
      "\u001b[0;31m---------------------------------------------------------------------------\u001b[0m",
      "\u001b[0;31mUFuncTypeError\u001b[0m                            Traceback (most recent call last)",
      "\u001b[0;32m/tmp/ipykernel_520/1362839201.py\u001b[0m in \u001b[0;36m<module>\u001b[0;34m\u001b[0m\n\u001b[1;32m      1\u001b[0m \u001b[0;32mfor\u001b[0m \u001b[0mi\u001b[0m \u001b[0;32min\u001b[0m \u001b[0mrange\u001b[0m\u001b[0;34m(\u001b[0m\u001b[0;36m0\u001b[0m\u001b[0;34m,\u001b[0m \u001b[0mlen\u001b[0m\u001b[0;34m(\u001b[0m\u001b[0mframe\u001b[0m\u001b[0;34m)\u001b[0m\u001b[0;34m)\u001b[0m\u001b[0;34m:\u001b[0m\u001b[0;34m\u001b[0m\u001b[0;34m\u001b[0m\u001b[0m\n\u001b[0;32m----> 2\u001b[0;31m     \u001b[0mframe\u001b[0m\u001b[0;34m[\u001b[0m\u001b[0;34m\"color\"\u001b[0m\u001b[0;34m]\u001b[0m\u001b[0;34m=\u001b[0m\u001b[0mnp\u001b[0m\u001b[0;34m.\u001b[0m\u001b[0marray\u001b[0m\u001b[0;34m(\u001b[0m\u001b[0;34m[\u001b[0m\u001b[0;34m'rgb(255,255,255)'\u001b[0m\u001b[0;34m]\u001b[0m\u001b[0;34m*\u001b[0m\u001b[0mnp\u001b[0m\u001b[0;34m.\u001b[0m\u001b[0marray\u001b[0m\u001b[0;34m(\u001b[0m\u001b[0mframe\u001b[0m\u001b[0;34m.\u001b[0m\u001b[0mmatching_score\u001b[0m\u001b[0;34m[\u001b[0m\u001b[0mi\u001b[0m\u001b[0;34m]\u001b[0m\u001b[0;34m)\u001b[0m\u001b[0;34m)\u001b[0m\u001b[0;34m\u001b[0m\u001b[0;34m\u001b[0m\u001b[0m\n\u001b[0m",
      "\u001b[0;31mUFuncTypeError\u001b[0m: ufunc 'multiply' did not contain a loop with signature matching types (dtype('<U32'), dtype('<U32')) -> dtype('<U32')"
     ]
    }
   ],
   "source": [
    "for i in range(0, len(frame)):\n",
    "    frame[\"color\"]=np.array(['rgb(255,255,255)']*np.array(frame.matching_score[i]))"
   ]
  },
  {
   "cell_type": "code",
   "execution_count": 482,
   "id": "330f30c8-5b3d-4170-a46a-b58ccf9890d9",
   "metadata": {},
   "outputs": [],
   "source": [
    "frame[\"color\"][0:2] = 'rgb(240,150,255)'\n",
    "frame[\"color\"][2:5] = 'blue'\n",
    "frame[\"color\"][5:8] = 'yellow'\n",
    "frame[\"color\"][8:] = 'red'"
   ]
  },
  {
   "cell_type": "code",
   "execution_count": 476,
   "id": "47e32fe2-74dc-4604-ae0f-76feed24ac5c",
   "metadata": {},
   "outputs": [
    {
     "data": {
      "text/html": [
       "<div>\n",
       "<style scoped>\n",
       "    .dataframe tbody tr th:only-of-type {\n",
       "        vertical-align: middle;\n",
       "    }\n",
       "\n",
       "    .dataframe tbody tr th {\n",
       "        vertical-align: top;\n",
       "    }\n",
       "\n",
       "    .dataframe thead th {\n",
       "        text-align: right;\n",
       "    }\n",
       "</style>\n",
       "<table border=\"1\" class=\"dataframe\">\n",
       "  <thead>\n",
       "    <tr style=\"text-align: right;\">\n",
       "      <th></th>\n",
       "      <th>job_number</th>\n",
       "      <th>matching_score</th>\n",
       "      <th>Category</th>\n",
       "      <th>color</th>\n",
       "    </tr>\n",
       "  </thead>\n",
       "  <tbody>\n",
       "    <tr>\n",
       "      <th>0</th>\n",
       "      <td>96</td>\n",
       "      <td>100.00</td>\n",
       "      <td>SALES</td>\n",
       "      <td>green</td>\n",
       "    </tr>\n",
       "    <tr>\n",
       "      <th>1</th>\n",
       "      <td>111</td>\n",
       "      <td>66.67</td>\n",
       "      <td>AGRICULTURE</td>\n",
       "      <td>green</td>\n",
       "    </tr>\n",
       "    <tr>\n",
       "      <th>2</th>\n",
       "      <td>169</td>\n",
       "      <td>66.67</td>\n",
       "      <td>AGRICULTURE169</td>\n",
       "      <td>blue</td>\n",
       "    </tr>\n",
       "    <tr>\n",
       "      <th>3</th>\n",
       "      <td>95</td>\n",
       "      <td>60.00</td>\n",
       "      <td>ENGINEERING</td>\n",
       "      <td>blue</td>\n",
       "    </tr>\n",
       "    <tr>\n",
       "      <th>4</th>\n",
       "      <td>0</td>\n",
       "      <td>50.00</td>\n",
       "      <td>FINANCE</td>\n",
       "      <td>blue</td>\n",
       "    </tr>\n",
       "    <tr>\n",
       "      <th>5</th>\n",
       "      <td>19</td>\n",
       "      <td>50.00</td>\n",
       "      <td>AVIATION</td>\n",
       "      <td>yellow</td>\n",
       "    </tr>\n",
       "    <tr>\n",
       "      <th>6</th>\n",
       "      <td>20</td>\n",
       "      <td>50.00</td>\n",
       "      <td>ENGINEERING20</td>\n",
       "      <td>yellow</td>\n",
       "    </tr>\n",
       "    <tr>\n",
       "      <th>7</th>\n",
       "      <td>37</td>\n",
       "      <td>50.00</td>\n",
       "      <td>BUSINESS-DEVELOPMENT</td>\n",
       "      <td>yellow</td>\n",
       "    </tr>\n",
       "    <tr>\n",
       "      <th>8</th>\n",
       "      <td>52</td>\n",
       "      <td>50.00</td>\n",
       "      <td>ACCOUNTANT</td>\n",
       "      <td>red</td>\n",
       "    </tr>\n",
       "  </tbody>\n",
       "</table>\n",
       "</div>"
      ],
      "text/plain": [
       "   job_number  matching_score              Category   color\n",
       "0          96          100.00                 SALES   green\n",
       "1         111           66.67           AGRICULTURE   green\n",
       "2         169           66.67        AGRICULTURE169    blue\n",
       "3          95           60.00           ENGINEERING    blue\n",
       "4           0           50.00               FINANCE    blue\n",
       "5          19           50.00              AVIATION  yellow\n",
       "6          20           50.00         ENGINEERING20  yellow\n",
       "7          37           50.00  BUSINESS-DEVELOPMENT  yellow\n",
       "8          52           50.00            ACCOUNTANT     red"
      ]
     },
     "execution_count": 476,
     "metadata": {},
     "output_type": "execute_result"
    }
   ],
   "source": [
    "frame"
   ]
  },
  {
   "cell_type": "code",
   "execution_count": 483,
   "id": "db629390-6e1a-4c4f-a271-b266d4d9f4ad",
   "metadata": {},
   "outputs": [
    {
     "data": {
      "application/vnd.plotly.v1+json": {
       "config": {
        "plotlyServerURL": "https://plot.ly"
       },
       "data": [
        {
         "alignmentgroup": "True",
         "hovertemplate": "color=rgb(240,150,255)<br>job position=%{x}<br>Matching %=%{y}<extra></extra>",
         "legendgroup": "rgb(240,150,255)",
         "marker": {
          "color": "rgb(76,114,176)",
          "pattern": {
           "shape": ""
          }
         },
         "name": "rgb(240,150,255)",
         "offsetgroup": "rgb(240,150,255)",
         "orientation": "v",
         "showlegend": true,
         "textposition": "auto",
         "type": "bar",
         "x": [
          "SALES",
          "AGRICULTURE"
         ],
         "xaxis": "x",
         "y": [
          100,
          66.67
         ],
         "yaxis": "y"
        },
        {
         "alignmentgroup": "True",
         "hovertemplate": "color=blue<br>job position=%{x}<br>Matching %=%{y}<extra></extra>",
         "legendgroup": "blue",
         "marker": {
          "color": "rgb(221,132,82)",
          "pattern": {
           "shape": ""
          }
         },
         "name": "blue",
         "offsetgroup": "blue",
         "orientation": "v",
         "showlegend": true,
         "textposition": "auto",
         "type": "bar",
         "x": [
          "AGRICULTURE169",
          "ENGINEERING",
          "FINANCE"
         ],
         "xaxis": "x",
         "y": [
          66.67,
          60,
          50
         ],
         "yaxis": "y"
        },
        {
         "alignmentgroup": "True",
         "hovertemplate": "color=yellow<br>job position=%{x}<br>Matching %=%{y}<extra></extra>",
         "legendgroup": "yellow",
         "marker": {
          "color": "rgb(85,168,104)",
          "pattern": {
           "shape": ""
          }
         },
         "name": "yellow",
         "offsetgroup": "yellow",
         "orientation": "v",
         "showlegend": true,
         "textposition": "auto",
         "type": "bar",
         "x": [
          "AVIATION",
          "ENGINEERING20",
          "BUSINESS-DEVELOPMENT"
         ],
         "xaxis": "x",
         "y": [
          50,
          50,
          50
         ],
         "yaxis": "y"
        },
        {
         "alignmentgroup": "True",
         "hovertemplate": "color=red<br>job position=%{x}<br>Matching %=%{y}<extra></extra>",
         "legendgroup": "red",
         "marker": {
          "color": "rgb(196,78,82)",
          "pattern": {
           "shape": ""
          }
         },
         "name": "red",
         "offsetgroup": "red",
         "orientation": "v",
         "showlegend": true,
         "textposition": "auto",
         "type": "bar",
         "x": [
          "ACCOUNTANT"
         ],
         "xaxis": "x",
         "y": [
          50
         ],
         "yaxis": "y"
        }
       ],
       "layout": {
        "barmode": "relative",
        "height": 800,
        "legend": {
         "title": {
          "text": "color"
         },
         "tracegroupgap": 0
        },
        "paper_bgcolor": "lightblue",
        "template": {
         "data": {
          "bar": [
           {
            "error_x": {
             "color": "rgb(36,36,36)"
            },
            "error_y": {
             "color": "rgb(36,36,36)"
            },
            "marker": {
             "line": {
              "color": "rgb(234,234,242)",
              "width": 0.5
             },
             "pattern": {
              "fillmode": "overlay",
              "size": 10,
              "solidity": 0.2
             }
            },
            "type": "bar"
           }
          ],
          "barpolar": [
           {
            "marker": {
             "line": {
              "color": "rgb(234,234,242)",
              "width": 0.5
             },
             "pattern": {
              "fillmode": "overlay",
              "size": 10,
              "solidity": 0.2
             }
            },
            "type": "barpolar"
           }
          ],
          "carpet": [
           {
            "aaxis": {
             "endlinecolor": "rgb(36,36,36)",
             "gridcolor": "white",
             "linecolor": "white",
             "minorgridcolor": "white",
             "startlinecolor": "rgb(36,36,36)"
            },
            "baxis": {
             "endlinecolor": "rgb(36,36,36)",
             "gridcolor": "white",
             "linecolor": "white",
             "minorgridcolor": "white",
             "startlinecolor": "rgb(36,36,36)"
            },
            "type": "carpet"
           }
          ],
          "choropleth": [
           {
            "colorbar": {
             "outlinewidth": 0,
             "tickcolor": "rgb(36,36,36)",
             "ticklen": 8,
             "ticks": "outside",
             "tickwidth": 2
            },
            "type": "choropleth"
           }
          ],
          "contour": [
           {
            "colorbar": {
             "outlinewidth": 0,
             "tickcolor": "rgb(36,36,36)",
             "ticklen": 8,
             "ticks": "outside",
             "tickwidth": 2
            },
            "colorscale": [
             [
              0,
              "rgb(2,4,25)"
             ],
             [
              0.06274509803921569,
              "rgb(24,15,41)"
             ],
             [
              0.12549019607843137,
              "rgb(47,23,57)"
             ],
             [
              0.18823529411764706,
              "rgb(71,28,72)"
             ],
             [
              0.25098039215686274,
              "rgb(97,30,82)"
             ],
             [
              0.3137254901960784,
              "rgb(123,30,89)"
             ],
             [
              0.3764705882352941,
              "rgb(150,27,91)"
             ],
             [
              0.4392156862745098,
              "rgb(177,22,88)"
             ],
             [
              0.5019607843137255,
              "rgb(203,26,79)"
             ],
             [
              0.5647058823529412,
              "rgb(223,47,67)"
             ],
             [
              0.6274509803921569,
              "rgb(236,76,61)"
             ],
             [
              0.6901960784313725,
              "rgb(242,107,73)"
             ],
             [
              0.7529411764705882,
              "rgb(244,135,95)"
             ],
             [
              0.8156862745098039,
              "rgb(245,162,122)"
             ],
             [
              0.8784313725490196,
              "rgb(246,188,153)"
             ],
             [
              0.9411764705882353,
              "rgb(247,212,187)"
             ],
             [
              1,
              "rgb(250,234,220)"
             ]
            ],
            "type": "contour"
           }
          ],
          "contourcarpet": [
           {
            "colorbar": {
             "outlinewidth": 0,
             "tickcolor": "rgb(36,36,36)",
             "ticklen": 8,
             "ticks": "outside",
             "tickwidth": 2
            },
            "type": "contourcarpet"
           }
          ],
          "heatmap": [
           {
            "colorbar": {
             "outlinewidth": 0,
             "tickcolor": "rgb(36,36,36)",
             "ticklen": 8,
             "ticks": "outside",
             "tickwidth": 2
            },
            "colorscale": [
             [
              0,
              "rgb(2,4,25)"
             ],
             [
              0.06274509803921569,
              "rgb(24,15,41)"
             ],
             [
              0.12549019607843137,
              "rgb(47,23,57)"
             ],
             [
              0.18823529411764706,
              "rgb(71,28,72)"
             ],
             [
              0.25098039215686274,
              "rgb(97,30,82)"
             ],
             [
              0.3137254901960784,
              "rgb(123,30,89)"
             ],
             [
              0.3764705882352941,
              "rgb(150,27,91)"
             ],
             [
              0.4392156862745098,
              "rgb(177,22,88)"
             ],
             [
              0.5019607843137255,
              "rgb(203,26,79)"
             ],
             [
              0.5647058823529412,
              "rgb(223,47,67)"
             ],
             [
              0.6274509803921569,
              "rgb(236,76,61)"
             ],
             [
              0.6901960784313725,
              "rgb(242,107,73)"
             ],
             [
              0.7529411764705882,
              "rgb(244,135,95)"
             ],
             [
              0.8156862745098039,
              "rgb(245,162,122)"
             ],
             [
              0.8784313725490196,
              "rgb(246,188,153)"
             ],
             [
              0.9411764705882353,
              "rgb(247,212,187)"
             ],
             [
              1,
              "rgb(250,234,220)"
             ]
            ],
            "type": "heatmap"
           }
          ],
          "heatmapgl": [
           {
            "colorbar": {
             "outlinewidth": 0,
             "tickcolor": "rgb(36,36,36)",
             "ticklen": 8,
             "ticks": "outside",
             "tickwidth": 2
            },
            "colorscale": [
             [
              0,
              "rgb(2,4,25)"
             ],
             [
              0.06274509803921569,
              "rgb(24,15,41)"
             ],
             [
              0.12549019607843137,
              "rgb(47,23,57)"
             ],
             [
              0.18823529411764706,
              "rgb(71,28,72)"
             ],
             [
              0.25098039215686274,
              "rgb(97,30,82)"
             ],
             [
              0.3137254901960784,
              "rgb(123,30,89)"
             ],
             [
              0.3764705882352941,
              "rgb(150,27,91)"
             ],
             [
              0.4392156862745098,
              "rgb(177,22,88)"
             ],
             [
              0.5019607843137255,
              "rgb(203,26,79)"
             ],
             [
              0.5647058823529412,
              "rgb(223,47,67)"
             ],
             [
              0.6274509803921569,
              "rgb(236,76,61)"
             ],
             [
              0.6901960784313725,
              "rgb(242,107,73)"
             ],
             [
              0.7529411764705882,
              "rgb(244,135,95)"
             ],
             [
              0.8156862745098039,
              "rgb(245,162,122)"
             ],
             [
              0.8784313725490196,
              "rgb(246,188,153)"
             ],
             [
              0.9411764705882353,
              "rgb(247,212,187)"
             ],
             [
              1,
              "rgb(250,234,220)"
             ]
            ],
            "type": "heatmapgl"
           }
          ],
          "histogram": [
           {
            "marker": {
             "pattern": {
              "fillmode": "overlay",
              "size": 10,
              "solidity": 0.2
             }
            },
            "type": "histogram"
           }
          ],
          "histogram2d": [
           {
            "colorbar": {
             "outlinewidth": 0,
             "tickcolor": "rgb(36,36,36)",
             "ticklen": 8,
             "ticks": "outside",
             "tickwidth": 2
            },
            "colorscale": [
             [
              0,
              "rgb(2,4,25)"
             ],
             [
              0.06274509803921569,
              "rgb(24,15,41)"
             ],
             [
              0.12549019607843137,
              "rgb(47,23,57)"
             ],
             [
              0.18823529411764706,
              "rgb(71,28,72)"
             ],
             [
              0.25098039215686274,
              "rgb(97,30,82)"
             ],
             [
              0.3137254901960784,
              "rgb(123,30,89)"
             ],
             [
              0.3764705882352941,
              "rgb(150,27,91)"
             ],
             [
              0.4392156862745098,
              "rgb(177,22,88)"
             ],
             [
              0.5019607843137255,
              "rgb(203,26,79)"
             ],
             [
              0.5647058823529412,
              "rgb(223,47,67)"
             ],
             [
              0.6274509803921569,
              "rgb(236,76,61)"
             ],
             [
              0.6901960784313725,
              "rgb(242,107,73)"
             ],
             [
              0.7529411764705882,
              "rgb(244,135,95)"
             ],
             [
              0.8156862745098039,
              "rgb(245,162,122)"
             ],
             [
              0.8784313725490196,
              "rgb(246,188,153)"
             ],
             [
              0.9411764705882353,
              "rgb(247,212,187)"
             ],
             [
              1,
              "rgb(250,234,220)"
             ]
            ],
            "type": "histogram2d"
           }
          ],
          "histogram2dcontour": [
           {
            "colorbar": {
             "outlinewidth": 0,
             "tickcolor": "rgb(36,36,36)",
             "ticklen": 8,
             "ticks": "outside",
             "tickwidth": 2
            },
            "colorscale": [
             [
              0,
              "rgb(2,4,25)"
             ],
             [
              0.06274509803921569,
              "rgb(24,15,41)"
             ],
             [
              0.12549019607843137,
              "rgb(47,23,57)"
             ],
             [
              0.18823529411764706,
              "rgb(71,28,72)"
             ],
             [
              0.25098039215686274,
              "rgb(97,30,82)"
             ],
             [
              0.3137254901960784,
              "rgb(123,30,89)"
             ],
             [
              0.3764705882352941,
              "rgb(150,27,91)"
             ],
             [
              0.4392156862745098,
              "rgb(177,22,88)"
             ],
             [
              0.5019607843137255,
              "rgb(203,26,79)"
             ],
             [
              0.5647058823529412,
              "rgb(223,47,67)"
             ],
             [
              0.6274509803921569,
              "rgb(236,76,61)"
             ],
             [
              0.6901960784313725,
              "rgb(242,107,73)"
             ],
             [
              0.7529411764705882,
              "rgb(244,135,95)"
             ],
             [
              0.8156862745098039,
              "rgb(245,162,122)"
             ],
             [
              0.8784313725490196,
              "rgb(246,188,153)"
             ],
             [
              0.9411764705882353,
              "rgb(247,212,187)"
             ],
             [
              1,
              "rgb(250,234,220)"
             ]
            ],
            "type": "histogram2dcontour"
           }
          ],
          "mesh3d": [
           {
            "colorbar": {
             "outlinewidth": 0,
             "tickcolor": "rgb(36,36,36)",
             "ticklen": 8,
             "ticks": "outside",
             "tickwidth": 2
            },
            "type": "mesh3d"
           }
          ],
          "parcoords": [
           {
            "line": {
             "colorbar": {
              "outlinewidth": 0,
              "tickcolor": "rgb(36,36,36)",
              "ticklen": 8,
              "ticks": "outside",
              "tickwidth": 2
             }
            },
            "type": "parcoords"
           }
          ],
          "pie": [
           {
            "automargin": true,
            "type": "pie"
           }
          ],
          "scatter": [
           {
            "marker": {
             "colorbar": {
              "outlinewidth": 0,
              "tickcolor": "rgb(36,36,36)",
              "ticklen": 8,
              "ticks": "outside",
              "tickwidth": 2
             }
            },
            "type": "scatter"
           }
          ],
          "scatter3d": [
           {
            "line": {
             "colorbar": {
              "outlinewidth": 0,
              "tickcolor": "rgb(36,36,36)",
              "ticklen": 8,
              "ticks": "outside",
              "tickwidth": 2
             }
            },
            "marker": {
             "colorbar": {
              "outlinewidth": 0,
              "tickcolor": "rgb(36,36,36)",
              "ticklen": 8,
              "ticks": "outside",
              "tickwidth": 2
             }
            },
            "type": "scatter3d"
           }
          ],
          "scattercarpet": [
           {
            "marker": {
             "colorbar": {
              "outlinewidth": 0,
              "tickcolor": "rgb(36,36,36)",
              "ticklen": 8,
              "ticks": "outside",
              "tickwidth": 2
             }
            },
            "type": "scattercarpet"
           }
          ],
          "scattergeo": [
           {
            "marker": {
             "colorbar": {
              "outlinewidth": 0,
              "tickcolor": "rgb(36,36,36)",
              "ticklen": 8,
              "ticks": "outside",
              "tickwidth": 2
             }
            },
            "type": "scattergeo"
           }
          ],
          "scattergl": [
           {
            "marker": {
             "colorbar": {
              "outlinewidth": 0,
              "tickcolor": "rgb(36,36,36)",
              "ticklen": 8,
              "ticks": "outside",
              "tickwidth": 2
             }
            },
            "type": "scattergl"
           }
          ],
          "scattermapbox": [
           {
            "marker": {
             "colorbar": {
              "outlinewidth": 0,
              "tickcolor": "rgb(36,36,36)",
              "ticklen": 8,
              "ticks": "outside",
              "tickwidth": 2
             }
            },
            "type": "scattermapbox"
           }
          ],
          "scatterpolar": [
           {
            "marker": {
             "colorbar": {
              "outlinewidth": 0,
              "tickcolor": "rgb(36,36,36)",
              "ticklen": 8,
              "ticks": "outside",
              "tickwidth": 2
             }
            },
            "type": "scatterpolar"
           }
          ],
          "scatterpolargl": [
           {
            "marker": {
             "colorbar": {
              "outlinewidth": 0,
              "tickcolor": "rgb(36,36,36)",
              "ticklen": 8,
              "ticks": "outside",
              "tickwidth": 2
             }
            },
            "type": "scatterpolargl"
           }
          ],
          "scatterternary": [
           {
            "marker": {
             "colorbar": {
              "outlinewidth": 0,
              "tickcolor": "rgb(36,36,36)",
              "ticklen": 8,
              "ticks": "outside",
              "tickwidth": 2
             }
            },
            "type": "scatterternary"
           }
          ],
          "surface": [
           {
            "colorbar": {
             "outlinewidth": 0,
             "tickcolor": "rgb(36,36,36)",
             "ticklen": 8,
             "ticks": "outside",
             "tickwidth": 2
            },
            "colorscale": [
             [
              0,
              "rgb(2,4,25)"
             ],
             [
              0.06274509803921569,
              "rgb(24,15,41)"
             ],
             [
              0.12549019607843137,
              "rgb(47,23,57)"
             ],
             [
              0.18823529411764706,
              "rgb(71,28,72)"
             ],
             [
              0.25098039215686274,
              "rgb(97,30,82)"
             ],
             [
              0.3137254901960784,
              "rgb(123,30,89)"
             ],
             [
              0.3764705882352941,
              "rgb(150,27,91)"
             ],
             [
              0.4392156862745098,
              "rgb(177,22,88)"
             ],
             [
              0.5019607843137255,
              "rgb(203,26,79)"
             ],
             [
              0.5647058823529412,
              "rgb(223,47,67)"
             ],
             [
              0.6274509803921569,
              "rgb(236,76,61)"
             ],
             [
              0.6901960784313725,
              "rgb(242,107,73)"
             ],
             [
              0.7529411764705882,
              "rgb(244,135,95)"
             ],
             [
              0.8156862745098039,
              "rgb(245,162,122)"
             ],
             [
              0.8784313725490196,
              "rgb(246,188,153)"
             ],
             [
              0.9411764705882353,
              "rgb(247,212,187)"
             ],
             [
              1,
              "rgb(250,234,220)"
             ]
            ],
            "type": "surface"
           }
          ],
          "table": [
           {
            "cells": {
             "fill": {
              "color": "rgb(231,231,240)"
             },
             "line": {
              "color": "white"
             }
            },
            "header": {
             "fill": {
              "color": "rgb(183,183,191)"
             },
             "line": {
              "color": "white"
             }
            },
            "type": "table"
           }
          ]
         },
         "layout": {
          "annotationdefaults": {
           "arrowcolor": "rgb(67,103,167)"
          },
          "autotypenumbers": "strict",
          "coloraxis": {
           "colorbar": {
            "outlinewidth": 0,
            "tickcolor": "rgb(36,36,36)",
            "ticklen": 8,
            "ticks": "outside",
            "tickwidth": 2
           }
          },
          "colorscale": {
           "sequential": [
            [
             0,
             "rgb(2,4,25)"
            ],
            [
             0.06274509803921569,
             "rgb(24,15,41)"
            ],
            [
             0.12549019607843137,
             "rgb(47,23,57)"
            ],
            [
             0.18823529411764706,
             "rgb(71,28,72)"
            ],
            [
             0.25098039215686274,
             "rgb(97,30,82)"
            ],
            [
             0.3137254901960784,
             "rgb(123,30,89)"
            ],
            [
             0.3764705882352941,
             "rgb(150,27,91)"
            ],
            [
             0.4392156862745098,
             "rgb(177,22,88)"
            ],
            [
             0.5019607843137255,
             "rgb(203,26,79)"
            ],
            [
             0.5647058823529412,
             "rgb(223,47,67)"
            ],
            [
             0.6274509803921569,
             "rgb(236,76,61)"
            ],
            [
             0.6901960784313725,
             "rgb(242,107,73)"
            ],
            [
             0.7529411764705882,
             "rgb(244,135,95)"
            ],
            [
             0.8156862745098039,
             "rgb(245,162,122)"
            ],
            [
             0.8784313725490196,
             "rgb(246,188,153)"
            ],
            [
             0.9411764705882353,
             "rgb(247,212,187)"
            ],
            [
             1,
             "rgb(250,234,220)"
            ]
           ],
           "sequentialminus": [
            [
             0,
             "rgb(2,4,25)"
            ],
            [
             0.06274509803921569,
             "rgb(24,15,41)"
            ],
            [
             0.12549019607843137,
             "rgb(47,23,57)"
            ],
            [
             0.18823529411764706,
             "rgb(71,28,72)"
            ],
            [
             0.25098039215686274,
             "rgb(97,30,82)"
            ],
            [
             0.3137254901960784,
             "rgb(123,30,89)"
            ],
            [
             0.3764705882352941,
             "rgb(150,27,91)"
            ],
            [
             0.4392156862745098,
             "rgb(177,22,88)"
            ],
            [
             0.5019607843137255,
             "rgb(203,26,79)"
            ],
            [
             0.5647058823529412,
             "rgb(223,47,67)"
            ],
            [
             0.6274509803921569,
             "rgb(236,76,61)"
            ],
            [
             0.6901960784313725,
             "rgb(242,107,73)"
            ],
            [
             0.7529411764705882,
             "rgb(244,135,95)"
            ],
            [
             0.8156862745098039,
             "rgb(245,162,122)"
            ],
            [
             0.8784313725490196,
             "rgb(246,188,153)"
            ],
            [
             0.9411764705882353,
             "rgb(247,212,187)"
            ],
            [
             1,
             "rgb(250,234,220)"
            ]
           ]
          },
          "colorway": [
           "rgb(76,114,176)",
           "rgb(221,132,82)",
           "rgb(85,168,104)",
           "rgb(196,78,82)",
           "rgb(129,114,179)",
           "rgb(147,120,96)",
           "rgb(218,139,195)",
           "rgb(140,140,140)",
           "rgb(204,185,116)",
           "rgb(100,181,205)"
          ],
          "font": {
           "color": "rgb(36,36,36)"
          },
          "geo": {
           "bgcolor": "white",
           "lakecolor": "white",
           "landcolor": "rgb(234,234,242)",
           "showlakes": true,
           "showland": true,
           "subunitcolor": "white"
          },
          "hoverlabel": {
           "align": "left"
          },
          "hovermode": "closest",
          "paper_bgcolor": "white",
          "plot_bgcolor": "rgb(234,234,242)",
          "polar": {
           "angularaxis": {
            "gridcolor": "white",
            "linecolor": "white",
            "showgrid": true,
            "ticks": ""
           },
           "bgcolor": "rgb(234,234,242)",
           "radialaxis": {
            "gridcolor": "white",
            "linecolor": "white",
            "showgrid": true,
            "ticks": ""
           }
          },
          "scene": {
           "xaxis": {
            "backgroundcolor": "rgb(234,234,242)",
            "gridcolor": "white",
            "gridwidth": 2,
            "linecolor": "white",
            "showbackground": true,
            "showgrid": true,
            "ticks": "",
            "zerolinecolor": "white"
           },
           "yaxis": {
            "backgroundcolor": "rgb(234,234,242)",
            "gridcolor": "white",
            "gridwidth": 2,
            "linecolor": "white",
            "showbackground": true,
            "showgrid": true,
            "ticks": "",
            "zerolinecolor": "white"
           },
           "zaxis": {
            "backgroundcolor": "rgb(234,234,242)",
            "gridcolor": "white",
            "gridwidth": 2,
            "linecolor": "white",
            "showbackground": true,
            "showgrid": true,
            "ticks": "",
            "zerolinecolor": "white"
           }
          },
          "shapedefaults": {
           "fillcolor": "rgb(67,103,167)",
           "line": {
            "width": 0
           },
           "opacity": 0.5
          },
          "ternary": {
           "aaxis": {
            "gridcolor": "white",
            "linecolor": "white",
            "showgrid": true,
            "ticks": ""
           },
           "baxis": {
            "gridcolor": "white",
            "linecolor": "white",
            "showgrid": true,
            "ticks": ""
           },
           "bgcolor": "rgb(234,234,242)",
           "caxis": {
            "gridcolor": "white",
            "linecolor": "white",
            "showgrid": true,
            "ticks": ""
           }
          },
          "xaxis": {
           "automargin": true,
           "gridcolor": "white",
           "linecolor": "white",
           "showgrid": true,
           "ticks": "",
           "title": {
            "standoff": 15
           },
           "zerolinecolor": "white"
          },
          "yaxis": {
           "automargin": true,
           "gridcolor": "white",
           "linecolor": "white",
           "showgrid": true,
           "ticks": "",
           "title": {
            "standoff": 15
           },
           "zerolinecolor": "white"
          }
         }
        },
        "title": {
         "text": "Job offers matching with resume"
        },
        "width": 1200,
        "xaxis": {
         "anchor": "y",
         "autorange": true,
         "domain": [
          0,
          1
         ],
         "range": [
          -0.5,
          8.5
         ],
         "title": {
          "text": "job position"
         },
         "type": "category"
        },
        "yaxis": {
         "anchor": "x",
         "autorange": true,
         "domain": [
          0,
          1
         ],
         "range": [
          0,
          105.26315789473685
         ],
         "title": {
          "text": "Matching %"
         },
         "type": "linear"
        }
       }
      },
      "image/png": "[encoded data removed]",
      "text/html": [
       "<div>                            <div id=\"3daf14a4-3218-47b8-aaee-0e6895335a73\" class=\"plotly-graph-div\" style=\"height:800px; width:1200px;\"></div>            <script type=\"text/javascript\">                require([\"plotly\"], function(Plotly) {                    window.PLOTLYENV=window.PLOTLYENV || {};                                    if (document.getElementById(\"3daf14a4-3218-47b8-aaee-0e6895335a73\")) {                    Plotly.newPlot(                        \"3daf14a4-3218-47b8-aaee-0e6895335a73\",                        [{\"alignmentgroup\":\"True\",\"hovertemplate\":\"color=rgb(240,150,255)<br>job position=%{x}<br>Matching %=%{y}<extra></extra>\",\"legendgroup\":\"rgb(240,150,255)\",\"marker\":{\"color\":\"rgb(76,114,176)\",\"pattern\":{\"shape\":\"\"}},\"name\":\"rgb(240,150,255)\",\"offsetgroup\":\"rgb(240,150,255)\",\"orientation\":\"v\",\"showlegend\":true,\"textposition\":\"auto\",\"type\":\"bar\",\"x\":[\"SALES\",\"AGRICULTURE\"],\"xaxis\":\"x\",\"y\":[100.0,66.67],\"yaxis\":\"y\"},{\"alignmentgroup\":\"True\",\"hovertemplate\":\"color=blue<br>job position=%{x}<br>Matching %=%{y}<extra></extra>\",\"legendgroup\":\"blue\",\"marker\":{\"color\":\"rgb(221,132,82)\",\"pattern\":{\"shape\":\"\"}},\"name\":\"blue\",\"offsetgroup\":\"blue\",\"orientation\":\"v\",\"showlegend\":true,\"textposition\":\"auto\",\"type\":\"bar\",\"x\":[\"AGRICULTURE169\",\"ENGINEERING\",\"FINANCE\"],\"xaxis\":\"x\",\"y\":[66.67,60.0,50.0],\"yaxis\":\"y\"},{\"alignmentgroup\":\"True\",\"hovertemplate\":\"color=yellow<br>job position=%{x}<br>Matching %=%{y}<extra></extra>\",\"legendgroup\":\"yellow\",\"marker\":{\"color\":\"rgb(85,168,104)\",\"pattern\":{\"shape\":\"\"}},\"name\":\"yellow\",\"offsetgroup\":\"yellow\",\"orientation\":\"v\",\"showlegend\":true,\"textposition\":\"auto\",\"type\":\"bar\",\"x\":[\"AVIATION\",\"ENGINEERING20\",\"BUSINESS-DEVELOPMENT\"],\"xaxis\":\"x\",\"y\":[50.0,50.0,50.0],\"yaxis\":\"y\"},{\"alignmentgroup\":\"True\",\"hovertemplate\":\"color=red<br>job position=%{x}<br>Matching %=%{y}<extra></extra>\",\"legendgroup\":\"red\",\"marker\":{\"color\":\"rgb(196,78,82)\",\"pattern\":{\"shape\":\"\"}},\"name\":\"red\",\"offsetgroup\":\"red\",\"orientation\":\"v\",\"showlegend\":true,\"textposition\":\"auto\",\"type\":\"bar\",\"x\":[\"ACCOUNTANT\"],\"xaxis\":\"x\",\"y\":[50.0],\"yaxis\":\"y\"}],                        {\"barmode\":\"relative\",\"height\":800,\"legend\":{\"title\":{\"text\":\"color\"},\"tracegroupgap\":0},\"paper_bgcolor\":\"lightblue\",\"template\":{\"data\":{\"bar\":[{\"error_x\":{\"color\":\"rgb(36,36,36)\"},\"error_y\":{\"color\":\"rgb(36,36,36)\"},\"marker\":{\"line\":{\"color\":\"rgb(234,234,242)\",\"width\":0.5},\"pattern\":{\"fillmode\":\"overlay\",\"size\":10,\"solidity\":0.2}},\"type\":\"bar\"}],\"barpolar\":[{\"marker\":{\"line\":{\"color\":\"rgb(234,234,242)\",\"width\":0.5},\"pattern\":{\"fillmode\":\"overlay\",\"size\":10,\"solidity\":0.2}},\"type\":\"barpolar\"}],\"carpet\":[{\"aaxis\":{\"endlinecolor\":\"rgb(36,36,36)\",\"gridcolor\":\"white\",\"linecolor\":\"white\",\"minorgridcolor\":\"white\",\"startlinecolor\":\"rgb(36,36,36)\"},\"baxis\":{\"endlinecolor\":\"rgb(36,36,36)\",\"gridcolor\":\"white\",\"linecolor\":\"white\",\"minorgridcolor\":\"white\",\"startlinecolor\":\"rgb(36,36,36)\"},\"type\":\"carpet\"}],\"choropleth\":[{\"colorbar\":{\"outlinewidth\":0,\"tickcolor\":\"rgb(36,36,36)\",\"ticklen\":8,\"ticks\":\"outside\",\"tickwidth\":2},\"type\":\"choropleth\"}],\"contour\":[{\"colorbar\":{\"outlinewidth\":0,\"tickcolor\":\"rgb(36,36,36)\",\"ticklen\":8,\"ticks\":\"outside\",\"tickwidth\":2},\"colorscale\":[[0.0,\"rgb(2,4,25)\"],[0.06274509803921569,\"rgb(24,15,41)\"],[0.12549019607843137,\"rgb(47,23,57)\"],[0.18823529411764706,\"rgb(71,28,72)\"],[0.25098039215686274,\"rgb(97,30,82)\"],[0.3137254901960784,\"rgb(123,30,89)\"],[0.3764705882352941,\"rgb(150,27,91)\"],[0.4392156862745098,\"rgb(177,22,88)\"],[0.5019607843137255,\"rgb(203,26,79)\"],[0.5647058823529412,\"rgb(223,47,67)\"],[0.6274509803921569,\"rgb(236,76,61)\"],[0.6901960784313725,\"rgb(242,107,73)\"],[0.7529411764705882,\"rgb(244,135,95)\"],[0.8156862745098039,\"rgb(245,162,122)\"],[0.8784313725490196,\"rgb(246,188,153)\"],[0.9411764705882353,\"rgb(247,212,187)\"],[1.0,\"rgb(250,234,220)\"]],\"type\":\"contour\"}],\"contourcarpet\":[{\"colorbar\":{\"outlinewidth\":0,\"tickcolor\":\"rgb(36,36,36)\",\"ticklen\":8,\"ticks\":\"outside\",\"tickwidth\":2},\"type\":\"contourcarpet\"}],\"heatmap\":[{\"colorbar\":{\"outlinewidth\":0,\"tickcolor\":\"rgb(36,36,36)\",\"ticklen\":8,\"ticks\":\"outside\",\"tickwidth\":2},\"colorscale\":[[0.0,\"rgb(2,4,25)\"],[0.06274509803921569,\"rgb(24,15,41)\"],[0.12549019607843137,\"rgb(47,23,57)\"],[0.18823529411764706,\"rgb(71,28,72)\"],[0.25098039215686274,\"rgb(97,30,82)\"],[0.3137254901960784,\"rgb(123,30,89)\"],[0.3764705882352941,\"rgb(150,27,91)\"],[0.4392156862745098,\"rgb(177,22,88)\"],[0.5019607843137255,\"rgb(203,26,79)\"],[0.5647058823529412,\"rgb(223,47,67)\"],[0.6274509803921569,\"rgb(236,76,61)\"],[0.6901960784313725,\"rgb(242,107,73)\"],[0.7529411764705882,\"rgb(244,135,95)\"],[0.8156862745098039,\"rgb(245,162,122)\"],[0.8784313725490196,\"rgb(246,188,153)\"],[0.9411764705882353,\"rgb(247,212,187)\"],[1.0,\"rgb(250,234,220)\"]],\"type\":\"heatmap\"}],\"heatmapgl\":[{\"colorbar\":{\"outlinewidth\":0,\"tickcolor\":\"rgb(36,36,36)\",\"ticklen\":8,\"ticks\":\"outside\",\"tickwidth\":2},\"colorscale\":[[0.0,\"rgb(2,4,25)\"],[0.06274509803921569,\"rgb(24,15,41)\"],[0.12549019607843137,\"rgb(47,23,57)\"],[0.18823529411764706,\"rgb(71,28,72)\"],[0.25098039215686274,\"rgb(97,30,82)\"],[0.3137254901960784,\"rgb(123,30,89)\"],[0.3764705882352941,\"rgb(150,27,91)\"],[0.4392156862745098,\"rgb(177,22,88)\"],[0.5019607843137255,\"rgb(203,26,79)\"],[0.5647058823529412,\"rgb(223,47,67)\"],[0.6274509803921569,\"rgb(236,76,61)\"],[0.6901960784313725,\"rgb(242,107,73)\"],[0.7529411764705882,\"rgb(244,135,95)\"],[0.8156862745098039,\"rgb(245,162,122)\"],[0.8784313725490196,\"rgb(246,188,153)\"],[0.9411764705882353,\"rgb(247,212,187)\"],[1.0,\"rgb(250,234,220)\"]],\"type\":\"heatmapgl\"}],\"histogram\":[{\"marker\":{\"pattern\":{\"fillmode\":\"overlay\",\"size\":10,\"solidity\":0.2}},\"type\":\"histogram\"}],\"histogram2d\":[{\"colorbar\":{\"outlinewidth\":0,\"tickcolor\":\"rgb(36,36,36)\",\"ticklen\":8,\"ticks\":\"outside\",\"tickwidth\":2},\"colorscale\":[[0.0,\"rgb(2,4,25)\"],[0.06274509803921569,\"rgb(24,15,41)\"],[0.12549019607843137,\"rgb(47,23,57)\"],[0.18823529411764706,\"rgb(71,28,72)\"],[0.25098039215686274,\"rgb(97,30,82)\"],[0.3137254901960784,\"rgb(123,30,89)\"],[0.3764705882352941,\"rgb(150,27,91)\"],[0.4392156862745098,\"rgb(177,22,88)\"],[0.5019607843137255,\"rgb(203,26,79)\"],[0.5647058823529412,\"rgb(223,47,67)\"],[0.6274509803921569,\"rgb(236,76,61)\"],[0.6901960784313725,\"rgb(242,107,73)\"],[0.7529411764705882,\"rgb(244,135,95)\"],[0.8156862745098039,\"rgb(245,162,122)\"],[0.8784313725490196,\"rgb(246,188,153)\"],[0.9411764705882353,\"rgb(247,212,187)\"],[1.0,\"rgb(250,234,220)\"]],\"type\":\"histogram2d\"}],\"histogram2dcontour\":[{\"colorbar\":{\"outlinewidth\":0,\"tickcolor\":\"rgb(36,36,36)\",\"ticklen\":8,\"ticks\":\"outside\",\"tickwidth\":2},\"colorscale\":[[0.0,\"rgb(2,4,25)\"],[0.06274509803921569,\"rgb(24,15,41)\"],[0.12549019607843137,\"rgb(47,23,57)\"],[0.18823529411764706,\"rgb(71,28,72)\"],[0.25098039215686274,\"rgb(97,30,82)\"],[0.3137254901960784,\"rgb(123,30,89)\"],[0.3764705882352941,\"rgb(150,27,91)\"],[0.4392156862745098,\"rgb(177,22,88)\"],[0.5019607843137255,\"rgb(203,26,79)\"],[0.5647058823529412,\"rgb(223,47,67)\"],[0.6274509803921569,\"rgb(236,76,61)\"],[0.6901960784313725,\"rgb(242,107,73)\"],[0.7529411764705882,\"rgb(244,135,95)\"],[0.8156862745098039,\"rgb(245,162,122)\"],[0.8784313725490196,\"rgb(246,188,153)\"],[0.9411764705882353,\"rgb(247,212,187)\"],[1.0,\"rgb(250,234,220)\"]],\"type\":\"histogram2dcontour\"}],\"mesh3d\":[{\"colorbar\":{\"outlinewidth\":0,\"tickcolor\":\"rgb(36,36,36)\",\"ticklen\":8,\"ticks\":\"outside\",\"tickwidth\":2},\"type\":\"mesh3d\"}],\"parcoords\":[{\"line\":{\"colorbar\":{\"outlinewidth\":0,\"tickcolor\":\"rgb(36,36,36)\",\"ticklen\":8,\"ticks\":\"outside\",\"tickwidth\":2}},\"type\":\"parcoords\"}],\"pie\":[{\"automargin\":true,\"type\":\"pie\"}],\"scatter\":[{\"marker\":{\"colorbar\":{\"outlinewidth\":0,\"tickcolor\":\"rgb(36,36,36)\",\"ticklen\":8,\"ticks\":\"outside\",\"tickwidth\":2}},\"type\":\"scatter\"}],\"scatter3d\":[{\"line\":{\"colorbar\":{\"outlinewidth\":0,\"tickcolor\":\"rgb(36,36,36)\",\"ticklen\":8,\"ticks\":\"outside\",\"tickwidth\":2}},\"marker\":{\"colorbar\":{\"outlinewidth\":0,\"tickcolor\":\"rgb(36,36,36)\",\"ticklen\":8,\"ticks\":\"outside\",\"tickwidth\":2}},\"type\":\"scatter3d\"}],\"scattercarpet\":[{\"marker\":{\"colorbar\":{\"outlinewidth\":0,\"tickcolor\":\"rgb(36,36,36)\",\"ticklen\":8,\"ticks\":\"outside\",\"tickwidth\":2}},\"type\":\"scattercarpet\"}],\"scattergeo\":[{\"marker\":{\"colorbar\":{\"outlinewidth\":0,\"tickcolor\":\"rgb(36,36,36)\",\"ticklen\":8,\"ticks\":\"outside\",\"tickwidth\":2}},\"type\":\"scattergeo\"}],\"scattergl\":[{\"marker\":{\"colorbar\":{\"outlinewidth\":0,\"tickcolor\":\"rgb(36,36,36)\",\"ticklen\":8,\"ticks\":\"outside\",\"tickwidth\":2}},\"type\":\"scattergl\"}],\"scattermapbox\":[{\"marker\":{\"colorbar\":{\"outlinewidth\":0,\"tickcolor\":\"rgb(36,36,36)\",\"ticklen\":8,\"ticks\":\"outside\",\"tickwidth\":2}},\"type\":\"scattermapbox\"}],\"scatterpolar\":[{\"marker\":{\"colorbar\":{\"outlinewidth\":0,\"tickcolor\":\"rgb(36,36,36)\",\"ticklen\":8,\"ticks\":\"outside\",\"tickwidth\":2}},\"type\":\"scatterpolar\"}],\"scatterpolargl\":[{\"marker\":{\"colorbar\":{\"outlinewidth\":0,\"tickcolor\":\"rgb(36,36,36)\",\"ticklen\":8,\"ticks\":\"outside\",\"tickwidth\":2}},\"type\":\"scatterpolargl\"}],\"scatterternary\":[{\"marker\":{\"colorbar\":{\"outlinewidth\":0,\"tickcolor\":\"rgb(36,36,36)\",\"ticklen\":8,\"ticks\":\"outside\",\"tickwidth\":2}},\"type\":\"scatterternary\"}],\"surface\":[{\"colorbar\":{\"outlinewidth\":0,\"tickcolor\":\"rgb(36,36,36)\",\"ticklen\":8,\"ticks\":\"outside\",\"tickwidth\":2},\"colorscale\":[[0.0,\"rgb(2,4,25)\"],[0.06274509803921569,\"rgb(24,15,41)\"],[0.12549019607843137,\"rgb(47,23,57)\"],[0.18823529411764706,\"rgb(71,28,72)\"],[0.25098039215686274,\"rgb(97,30,82)\"],[0.3137254901960784,\"rgb(123,30,89)\"],[0.3764705882352941,\"rgb(150,27,91)\"],[0.4392156862745098,\"rgb(177,22,88)\"],[0.5019607843137255,\"rgb(203,26,79)\"],[0.5647058823529412,\"rgb(223,47,67)\"],[0.6274509803921569,\"rgb(236,76,61)\"],[0.6901960784313725,\"rgb(242,107,73)\"],[0.7529411764705882,\"rgb(244,135,95)\"],[0.8156862745098039,\"rgb(245,162,122)\"],[0.8784313725490196,\"rgb(246,188,153)\"],[0.9411764705882353,\"rgb(247,212,187)\"],[1.0,\"rgb(250,234,220)\"]],\"type\":\"surface\"}],\"table\":[{\"cells\":{\"fill\":{\"color\":\"rgb(231,231,240)\"},\"line\":{\"color\":\"white\"}},\"header\":{\"fill\":{\"color\":\"rgb(183,183,191)\"},\"line\":{\"color\":\"white\"}},\"type\":\"table\"}]},\"layout\":{\"annotationdefaults\":{\"arrowcolor\":\"rgb(67,103,167)\"},\"autotypenumbers\":\"strict\",\"coloraxis\":{\"colorbar\":{\"outlinewidth\":0,\"tickcolor\":\"rgb(36,36,36)\",\"ticklen\":8,\"ticks\":\"outside\",\"tickwidth\":2}},\"colorscale\":{\"sequential\":[[0.0,\"rgb(2,4,25)\"],[0.06274509803921569,\"rgb(24,15,41)\"],[0.12549019607843137,\"rgb(47,23,57)\"],[0.18823529411764706,\"rgb(71,28,72)\"],[0.25098039215686274,\"rgb(97,30,82)\"],[0.3137254901960784,\"rgb(123,30,89)\"],[0.3764705882352941,\"rgb(150,27,91)\"],[0.4392156862745098,\"rgb(177,22,88)\"],[0.5019607843137255,\"rgb(203,26,79)\"],[0.5647058823529412,\"rgb(223,47,67)\"],[0.6274509803921569,\"rgb(236,76,61)\"],[0.6901960784313725,\"rgb(242,107,73)\"],[0.7529411764705882,\"rgb(244,135,95)\"],[0.8156862745098039,\"rgb(245,162,122)\"],[0.8784313725490196,\"rgb(246,188,153)\"],[0.9411764705882353,\"rgb(247,212,187)\"],[1.0,\"rgb(250,234,220)\"]],\"sequentialminus\":[[0.0,\"rgb(2,4,25)\"],[0.06274509803921569,\"rgb(24,15,41)\"],[0.12549019607843137,\"rgb(47,23,57)\"],[0.18823529411764706,\"rgb(71,28,72)\"],[0.25098039215686274,\"rgb(97,30,82)\"],[0.3137254901960784,\"rgb(123,30,89)\"],[0.3764705882352941,\"rgb(150,27,91)\"],[0.4392156862745098,\"rgb(177,22,88)\"],[0.5019607843137255,\"rgb(203,26,79)\"],[0.5647058823529412,\"rgb(223,47,67)\"],[0.6274509803921569,\"rgb(236,76,61)\"],[0.6901960784313725,\"rgb(242,107,73)\"],[0.7529411764705882,\"rgb(244,135,95)\"],[0.8156862745098039,\"rgb(245,162,122)\"],[0.8784313725490196,\"rgb(246,188,153)\"],[0.9411764705882353,\"rgb(247,212,187)\"],[1.0,\"rgb(250,234,220)\"]]},\"colorway\":[\"rgb(76,114,176)\",\"rgb(221,132,82)\",\"rgb(85,168,104)\",\"rgb(196,78,82)\",\"rgb(129,114,179)\",\"rgb(147,120,96)\",\"rgb(218,139,195)\",\"rgb(140,140,140)\",\"rgb(204,185,116)\",\"rgb(100,181,205)\"],\"font\":{\"color\":\"rgb(36,36,36)\"},\"geo\":{\"bgcolor\":\"white\",\"lakecolor\":\"white\",\"landcolor\":\"rgb(234,234,242)\",\"showlakes\":true,\"showland\":true,\"subunitcolor\":\"white\"},\"hoverlabel\":{\"align\":\"left\"},\"hovermode\":\"closest\",\"paper_bgcolor\":\"white\",\"plot_bgcolor\":\"rgb(234,234,242)\",\"polar\":{\"angularaxis\":{\"gridcolor\":\"white\",\"linecolor\":\"white\",\"showgrid\":true,\"ticks\":\"\"},\"bgcolor\":\"rgb(234,234,242)\",\"radialaxis\":{\"gridcolor\":\"white\",\"linecolor\":\"white\",\"showgrid\":true,\"ticks\":\"\"}},\"scene\":{\"xaxis\":{\"backgroundcolor\":\"rgb(234,234,242)\",\"gridcolor\":\"white\",\"gridwidth\":2,\"linecolor\":\"white\",\"showbackground\":true,\"showgrid\":true,\"ticks\":\"\",\"zerolinecolor\":\"white\"},\"yaxis\":{\"backgroundcolor\":\"rgb(234,234,242)\",\"gridcolor\":\"white\",\"gridwidth\":2,\"linecolor\":\"white\",\"showbackground\":true,\"showgrid\":true,\"ticks\":\"\",\"zerolinecolor\":\"white\"},\"zaxis\":{\"backgroundcolor\":\"rgb(234,234,242)\",\"gridcolor\":\"white\",\"gridwidth\":2,\"linecolor\":\"white\",\"showbackground\":true,\"showgrid\":true,\"ticks\":\"\",\"zerolinecolor\":\"white\"}},\"shapedefaults\":{\"fillcolor\":\"rgb(67,103,167)\",\"line\":{\"width\":0},\"opacity\":0.5},\"ternary\":{\"aaxis\":{\"gridcolor\":\"white\",\"linecolor\":\"white\",\"showgrid\":true,\"ticks\":\"\"},\"baxis\":{\"gridcolor\":\"white\",\"linecolor\":\"white\",\"showgrid\":true,\"ticks\":\"\"},\"bgcolor\":\"rgb(234,234,242)\",\"caxis\":{\"gridcolor\":\"white\",\"linecolor\":\"white\",\"showgrid\":true,\"ticks\":\"\"}},\"xaxis\":{\"automargin\":true,\"gridcolor\":\"white\",\"linecolor\":\"white\",\"showgrid\":true,\"ticks\":\"\",\"title\":{\"standoff\":15},\"zerolinecolor\":\"white\"},\"yaxis\":{\"automargin\":true,\"gridcolor\":\"white\",\"linecolor\":\"white\",\"showgrid\":true,\"ticks\":\"\",\"title\":{\"standoff\":15},\"zerolinecolor\":\"white\"}}},\"title\":{\"text\":\"Job offers matching with resume\"},\"width\":1200,\"xaxis\":{\"anchor\":\"y\",\"domain\":[0.0,1.0],\"title\":{\"text\":\"job position\"}},\"yaxis\":{\"anchor\":\"x\",\"domain\":[0.0,1.0],\"title\":{\"text\":\"Matching %\"}}},                        {\"responsive\": true}                    ).then(function(){\n",
       "                            \n",
       "var gd = document.getElementById('3daf14a4-3218-47b8-aaee-0e6895335a73');\n",
       "var x = new MutationObserver(function (mutations, observer) {{\n",
       "        var display = window.getComputedStyle(gd).display;\n",
       "        if (!display || display === 'none') {{\n",
       "            console.log([gd, 'removed!']);\n",
       "            Plotly.purge(gd);\n",
       "            observer.disconnect();\n",
       "        }}\n",
       "}});\n",
       "\n",
       "// Listen for the removal of the full notebook cells\n",
       "var notebookContainer = gd.closest('#notebook-container');\n",
       "if (notebookContainer) {{\n",
       "    x.observe(notebookContainer, {childList: true});\n",
       "}}\n",
       "\n",
       "// Listen for the clearing of the current output cell\n",
       "var outputEl = gd.closest('.output');\n",
       "if (outputEl) {{\n",
       "    x.observe(outputEl, {childList: true});\n",
       "}}\n",
       "\n",
       "                        })                };                });            </script>        </div>"
      ]
     },
     "metadata": {},
     "output_type": "display_data"
    }
   ],
   "source": [
    "## compare list with data_set, visualize highest matching jobs\n",
    "\n",
    "#for template in [\"ggplot2\", \"seaborn\"]:\n",
    "import plotly.graph_objects as go\n",
    "\n",
    "fig = px.bar(\n",
    "    x=frame['Category'], \n",
    "    y=frame[\"matching_score\"],\n",
    "    labels={\"x\": \"job position\", \"y\": \"Matching %\"},\n",
    "    title=f\"Job offers matching with resume\",\n",
    "    width=1200, height=800,\n",
    "    template=\"seaborn\",\n",
    "    color = frame[\"color\"])\n",
    "fig.update_layout(\n",
    "        #margin=dict(l=20, r=20, t=20, b=20),\n",
    "    paper_bgcolor=\"lightblue\",\n",
    ")\n",
    "fig.show()"
   ]
  },
  {
   "cell_type": "code",
   "execution_count": null,
   "id": "8e9559bf-143f-42eb-bec7-aaa041b5cda3",
   "metadata": {},
   "outputs": [],
   "source": [
    "## comparison of test_resume with automated_annotated_JD data"
   ]
  },
  {
   "cell_type": "code",
   "execution_count": null,
   "id": "b2366ce9-0f9a-41b9-80f4-0b8ed0b423da",
   "metadata": {},
   "outputs": [],
   "source": [
    "print(\"Resume has a {}% skill match on job offer\".format(pct_match))\n",
    "print('Required skills: {} '.format(JD_set))\n",
    "print('Matched skills: {} \\n'.format(JD_set.intersection(skillset_dict[resume_name])))"
   ]
  },
  {
   "cell_type": "markdown",
   "id": "9bce191c-6193-4286-aaa9-8cd30c644ae9",
   "metadata": {},
   "source": [
    "## Loading Data with pre-trained Spacy Model (Auto/Manual)"
   ]
  },
  {
   "cell_type": "code",
   "execution_count": 170,
   "id": "8d943b3b-802e-4c7c-9ed4-46f2878bf790",
   "metadata": {},
   "outputs": [
    {
     "name": "stdout",
     "output_type": "stream",
     "text": [
      "The autoreload extension is already loaded. To reload it, use:\n",
      "  %reload_ext autoreload\n"
     ]
    }
   ],
   "source": [
    "%load_ext autoreload\n",
    "%autoreload 2\n",
    "from scripts.spacy_model import load_results_auto, load_results_manual"
   ]
  },
  {
   "cell_type": "code",
   "execution_count": 171,
   "id": "3514a075-259d-4801-8663-1be9f2e75ce0",
   "metadata": {},
   "outputs": [],
   "source": [
    "def load_paths(data_name, dictionary_name, train_spacy_name, val_spacy_name):\n",
    "    PATH_TRAIN_DATA  = f\"{PATH}/skills_matcher/models/{train_spacy_name}.spacy\"\n",
    "    PATH_VAL_DATA  = f\"{PATH}/skills_matcher/models/{val_spacy_name}.spacy\"\n",
    "    PATH_DICT = f\"{PATH}/skills_matcher/data/dictionaries/{dictionary_name}.jsonl\"\n",
    "    PATH_DATA = f\"{PATH}/skills_matcher/data/{data_name}.csv\"\n",
    "    return PATH_DATA, PATH_DICT, PATH_TRAIN_DATA, PATH_VAL_DATA"
   ]
  },
  {
   "cell_type": "code",
   "execution_count": 176,
   "id": "560390a6-bf7f-4133-adee-40deea70775f",
   "metadata": {},
   "outputs": [],
   "source": [
    "PATH_DATA, PATH_DICT, PATH_TRAIN_DATA, PATH_VAL_DATA = load_paths('cleaned_data', 'doccano_dictionary', 'train', 'val')"
   ]
  },
  {
   "cell_type": "code",
   "execution_count": 401,
   "id": "4a4d1c2b-c89d-4b0d-9b93-e9d23f3994c9",
   "metadata": {},
   "outputs": [
    {
     "data": {
      "text/html": [
       "<div>\n",
       "<style scoped>\n",
       "    .dataframe tbody tr th:only-of-type {\n",
       "        vertical-align: middle;\n",
       "    }\n",
       "\n",
       "    .dataframe tbody tr th {\n",
       "        vertical-align: top;\n",
       "    }\n",
       "\n",
       "    .dataframe thead th {\n",
       "        text-align: right;\n",
       "    }\n",
       "</style>\n",
       "<table border=\"1\" class=\"dataframe\">\n",
       "  <thead>\n",
       "    <tr style=\"text-align: right;\">\n",
       "      <th></th>\n",
       "      <th>Unnamed: 0</th>\n",
       "      <th>ISCO</th>\n",
       "      <th>major_job</th>\n",
       "      <th>job</th>\n",
       "      <th>position</th>\n",
       "      <th>location</th>\n",
       "      <th>description</th>\n",
       "      <th>entities_auto_label</th>\n",
       "      <th>entities_manual_label</th>\n",
       "    </tr>\n",
       "  </thead>\n",
       "  <tbody>\n",
       "    <tr>\n",
       "      <th>0</th>\n",
       "      <td>0</td>\n",
       "      <td>21</td>\n",
       "      <td>SCIENCE AND ENGINEERING PROFESSIONALS</td>\n",
       "      <td>physicist</td>\n",
       "      <td>Accelerator Physicist id54315</td>\n",
       "      <td>Villigen PSI, Aargau</td>\n",
       "      <td>[' You have an academic degree in physics or e...</td>\n",
       "      <td>()</td>\n",
       "      <td>[{'entity': physics, 'label': 'KNOWLEDGE'}, {'...</td>\n",
       "    </tr>\n",
       "    <tr>\n",
       "      <th>1</th>\n",
       "      <td>1</td>\n",
       "      <td>21</td>\n",
       "      <td>SCIENCE AND ENGINEERING PROFESSIONALS</td>\n",
       "      <td>physicist</td>\n",
       "      <td>Accelerator Physicist id54315</td>\n",
       "      <td>Villigen PSI, Aargau</td>\n",
       "      <td>[' You have an academic degree in physics or e...</td>\n",
       "      <td>()</td>\n",
       "      <td>[{'entity': RICS, 'label': 'SKILL'}, {'entity'...</td>\n",
       "    </tr>\n",
       "    <tr>\n",
       "      <th>2</th>\n",
       "      <td>2</td>\n",
       "      <td>21</td>\n",
       "      <td>SCIENCE AND ENGINEERING PROFESSIONALS</td>\n",
       "      <td>physicist</td>\n",
       "      <td>Accelerator Physicist id54315</td>\n",
       "      <td>Villigen PSI, Aargau</td>\n",
       "      <td>[' You have an academic degree in physics or e...</td>\n",
       "      <td>()</td>\n",
       "      <td>[{'entity': CIS, 'label': 'SKILL'}, {'entity':...</td>\n",
       "    </tr>\n",
       "    <tr>\n",
       "      <th>3</th>\n",
       "      <td>3</td>\n",
       "      <td>21</td>\n",
       "      <td>SCIENCE AND ENGINEERING PROFESSIONALS</td>\n",
       "      <td>physicist</td>\n",
       "      <td>Applied Physicist (Computing) (EP-LBC-2021-125...</td>\n",
       "      <td>Geneva</td>\n",
       "      <td>[' Be in charge of the development of applicat...</td>\n",
       "      <td>(Python, Python)</td>\n",
       "      <td>[{'entity': Python, 'label': 'SKILL'}, {'entit...</td>\n",
       "    </tr>\n",
       "    <tr>\n",
       "      <th>4</th>\n",
       "      <td>4</td>\n",
       "      <td>21</td>\n",
       "      <td>SCIENCE AND ENGINEERING PROFESSIONALS</td>\n",
       "      <td>physicist</td>\n",
       "      <td>Applied Physicist (Computing) (EP-LBC-2021-125...</td>\n",
       "      <td>Geneva</td>\n",
       "      <td>[' Be in charge of the development of applicat...</td>\n",
       "      <td>(Python, Python)</td>\n",
       "      <td>[]</td>\n",
       "    </tr>\n",
       "  </tbody>\n",
       "</table>\n",
       "</div>"
      ],
      "text/plain": [
       "   Unnamed: 0  ISCO                              major_job        job  \\\n",
       "0           0    21  SCIENCE AND ENGINEERING PROFESSIONALS  physicist   \n",
       "1           1    21  SCIENCE AND ENGINEERING PROFESSIONALS  physicist   \n",
       "2           2    21  SCIENCE AND ENGINEERING PROFESSIONALS  physicist   \n",
       "3           3    21  SCIENCE AND ENGINEERING PROFESSIONALS  physicist   \n",
       "4           4    21  SCIENCE AND ENGINEERING PROFESSIONALS  physicist   \n",
       "\n",
       "                                            position              location  \\\n",
       "0                      Accelerator Physicist id54315  Villigen PSI, Aargau   \n",
       "1                      Accelerator Physicist id54315  Villigen PSI, Aargau   \n",
       "2                      Accelerator Physicist id54315  Villigen PSI, Aargau   \n",
       "3  Applied Physicist (Computing) (EP-LBC-2021-125...                Geneva   \n",
       "4  Applied Physicist (Computing) (EP-LBC-2021-125...                Geneva   \n",
       "\n",
       "                                         description entities_auto_label  \\\n",
       "0  [' You have an academic degree in physics or e...                  ()   \n",
       "1  [' You have an academic degree in physics or e...                  ()   \n",
       "2  [' You have an academic degree in physics or e...                  ()   \n",
       "3  [' Be in charge of the development of applicat...    (Python, Python)   \n",
       "4  [' Be in charge of the development of applicat...    (Python, Python)   \n",
       "\n",
       "                               entities_manual_label  \n",
       "0  [{'entity': physics, 'label': 'KNOWLEDGE'}, {'...  \n",
       "1  [{'entity': RICS, 'label': 'SKILL'}, {'entity'...  \n",
       "2  [{'entity': CIS, 'label': 'SKILL'}, {'entity':...  \n",
       "3  [{'entity': Python, 'label': 'SKILL'}, {'entit...  \n",
       "4                                                 []  "
      ]
     },
     "execution_count": 401,
     "metadata": {},
     "output_type": "execute_result"
    }
   ],
   "source": [
    "df_JD = pd.read_csv('../data_final_raw.csv')\n",
    "df_JD.head()"
   ]
  },
  {
   "cell_type": "code",
   "execution_count": 399,
   "id": "e01a268c-c977-4ea5-b0d6-3dc615c1150d",
   "metadata": {},
   "outputs": [
    {
     "data": {
      "text/plain": [
       "(3507, 9)"
      ]
     },
     "execution_count": 399,
     "metadata": {},
     "output_type": "execute_result"
    }
   ],
   "source": [
    "df_JD.shape"
   ]
  },
  {
   "cell_type": "code",
   "execution_count": 403,
   "id": "4a857e26-cea5-4a8e-bd43-9f326039eea0",
   "metadata": {},
   "outputs": [],
   "source": [
    "df_JD.drop(columns = [\"major_job\", \"ISCO\", \"location\"], inplace = True)"
   ]
  },
  {
   "cell_type": "code",
   "execution_count": 453,
   "id": "d66c72e6-83fc-4f6a-9412-4ceccb53cb12",
   "metadata": {},
   "outputs": [
    {
     "data": {
      "text/html": [
       "<div>\n",
       "<style scoped>\n",
       "    .dataframe tbody tr th:only-of-type {\n",
       "        vertical-align: middle;\n",
       "    }\n",
       "\n",
       "    .dataframe tbody tr th {\n",
       "        vertical-align: top;\n",
       "    }\n",
       "\n",
       "    .dataframe thead th {\n",
       "        text-align: right;\n",
       "    }\n",
       "</style>\n",
       "<table border=\"1\" class=\"dataframe\">\n",
       "  <thead>\n",
       "    <tr style=\"text-align: right;\">\n",
       "      <th></th>\n",
       "      <th>Unnamed: 0</th>\n",
       "      <th>job</th>\n",
       "      <th>position</th>\n",
       "      <th>description</th>\n",
       "      <th>entities_auto_label</th>\n",
       "      <th>entities_manual_label</th>\n",
       "    </tr>\n",
       "  </thead>\n",
       "  <tbody>\n",
       "    <tr>\n",
       "      <th>0</th>\n",
       "      <td>0</td>\n",
       "      <td>physicist</td>\n",
       "      <td>Accelerator Physicist id54315</td>\n",
       "      <td>[' You have an academic degree in physics or e...</td>\n",
       "      <td>()</td>\n",
       "      <td>[{'entity': physics, 'label': 'KNOWLEDGE'}, {'...</td>\n",
       "    </tr>\n",
       "    <tr>\n",
       "      <th>1</th>\n",
       "      <td>1</td>\n",
       "      <td>physicist</td>\n",
       "      <td>Accelerator Physicist id54315</td>\n",
       "      <td>[' You have an academic degree in physics or e...</td>\n",
       "      <td>()</td>\n",
       "      <td>[{'entity': RICS, 'label': 'SKILL'}, {'entity'...</td>\n",
       "    </tr>\n",
       "    <tr>\n",
       "      <th>2</th>\n",
       "      <td>2</td>\n",
       "      <td>physicist</td>\n",
       "      <td>Accelerator Physicist id54315</td>\n",
       "      <td>[' You have an academic degree in physics or e...</td>\n",
       "      <td>()</td>\n",
       "      <td>[{'entity': CIS, 'label': 'SKILL'}, {'entity':...</td>\n",
       "    </tr>\n",
       "    <tr>\n",
       "      <th>3</th>\n",
       "      <td>3</td>\n",
       "      <td>physicist</td>\n",
       "      <td>Applied Physicist (Computing) (EP-LBC-2021-125...</td>\n",
       "      <td>[' Be in charge of the development of applicat...</td>\n",
       "      <td>(Python, Python)</td>\n",
       "      <td>[{'entity': Python, 'label': 'SKILL'}, {'entit...</td>\n",
       "    </tr>\n",
       "    <tr>\n",
       "      <th>4</th>\n",
       "      <td>4</td>\n",
       "      <td>physicist</td>\n",
       "      <td>Applied Physicist (Computing) (EP-LBC-2021-125...</td>\n",
       "      <td>[' Be in charge of the development of applicat...</td>\n",
       "      <td>(Python, Python)</td>\n",
       "      <td>[]</td>\n",
       "    </tr>\n",
       "    <tr>\n",
       "      <th>...</th>\n",
       "      <td>...</td>\n",
       "      <td>...</td>\n",
       "      <td>...</td>\n",
       "      <td>...</td>\n",
       "      <td>...</td>\n",
       "      <td>...</td>\n",
       "    </tr>\n",
       "    <tr>\n",
       "      <th>3502</th>\n",
       "      <td>3502</td>\n",
       "      <td>veterinary surgeon</td>\n",
       "      <td>Veterinary Surgeon</td>\n",
       "      <td>[' Allocated CPD funding of 37.5 hours Excelle...</td>\n",
       "      <td>()</td>\n",
       "      <td>[{'entity': driving licence, 'label': 'KNOWLED...</td>\n",
       "    </tr>\n",
       "    <tr>\n",
       "      <th>3503</th>\n",
       "      <td>3503</td>\n",
       "      <td>veterinary surgeon</td>\n",
       "      <td>Permanent Veterinary Surgeon</td>\n",
       "      <td>[' Type: Small Animal Hours: Monday - Friday 4...</td>\n",
       "      <td>()</td>\n",
       "      <td>[{'entity': driver's license, 'label': 'KNOWLE...</td>\n",
       "    </tr>\n",
       "    <tr>\n",
       "      <th>3504</th>\n",
       "      <td>3504</td>\n",
       "      <td>veterinary surgeon</td>\n",
       "      <td>Veterinary Surgeon</td>\n",
       "      <td>[' Allocated CPD funding of 37.5 hours ', ' 5 ...</td>\n",
       "      <td>()</td>\n",
       "      <td>[{'entity': driver's license, 'label': 'KNOWLE...</td>\n",
       "    </tr>\n",
       "    <tr>\n",
       "      <th>3505</th>\n",
       "      <td>3505</td>\n",
       "      <td>veterinary surgeon</td>\n",
       "      <td>Permanent Veterinary Surgeon</td>\n",
       "      <td>[\" Experienced required: New Graduate level to...</td>\n",
       "      <td>()</td>\n",
       "      <td>[{'entity': driver's license, 'label': 'KNOWLE...</td>\n",
       "    </tr>\n",
       "    <tr>\n",
       "      <th>3506</th>\n",
       "      <td>3506</td>\n",
       "      <td>veterinary surgeon</td>\n",
       "      <td>Locum Veterinary Surgeon</td>\n",
       "      <td>[' Type: Small Animal Start Date: 6th January ...</td>\n",
       "      <td>()</td>\n",
       "      <td>[{'entity': driver's license, 'label': 'KNOWLE...</td>\n",
       "    </tr>\n",
       "  </tbody>\n",
       "</table>\n",
       "<p>3507 rows × 6 columns</p>\n",
       "</div>"
      ],
      "text/plain": [
       "      Unnamed: 0                 job  \\\n",
       "0              0           physicist   \n",
       "1              1           physicist   \n",
       "2              2           physicist   \n",
       "3              3           physicist   \n",
       "4              4           physicist   \n",
       "...          ...                 ...   \n",
       "3502        3502  veterinary surgeon   \n",
       "3503        3503  veterinary surgeon   \n",
       "3504        3504  veterinary surgeon   \n",
       "3505        3505  veterinary surgeon   \n",
       "3506        3506  veterinary surgeon   \n",
       "\n",
       "                                               position  \\\n",
       "0                         Accelerator Physicist id54315   \n",
       "1                         Accelerator Physicist id54315   \n",
       "2                         Accelerator Physicist id54315   \n",
       "3     Applied Physicist (Computing) (EP-LBC-2021-125...   \n",
       "4     Applied Physicist (Computing) (EP-LBC-2021-125...   \n",
       "...                                                 ...   \n",
       "3502                                 Veterinary Surgeon   \n",
       "3503                       Permanent Veterinary Surgeon   \n",
       "3504                                 Veterinary Surgeon   \n",
       "3505                       Permanent Veterinary Surgeon   \n",
       "3506                           Locum Veterinary Surgeon   \n",
       "\n",
       "                                            description entities_auto_label  \\\n",
       "0     [' You have an academic degree in physics or e...                  ()   \n",
       "1     [' You have an academic degree in physics or e...                  ()   \n",
       "2     [' You have an academic degree in physics or e...                  ()   \n",
       "3     [' Be in charge of the development of applicat...    (Python, Python)   \n",
       "4     [' Be in charge of the development of applicat...    (Python, Python)   \n",
       "...                                                 ...                 ...   \n",
       "3502  [' Allocated CPD funding of 37.5 hours Excelle...                  ()   \n",
       "3503  [' Type: Small Animal Hours: Monday - Friday 4...                  ()   \n",
       "3504  [' Allocated CPD funding of 37.5 hours ', ' 5 ...                  ()   \n",
       "3505  [\" Experienced required: New Graduate level to...                  ()   \n",
       "3506  [' Type: Small Animal Start Date: 6th January ...                  ()   \n",
       "\n",
       "                                  entities_manual_label  \n",
       "0     [{'entity': physics, 'label': 'KNOWLEDGE'}, {'...  \n",
       "1     [{'entity': RICS, 'label': 'SKILL'}, {'entity'...  \n",
       "2     [{'entity': CIS, 'label': 'SKILL'}, {'entity':...  \n",
       "3     [{'entity': Python, 'label': 'SKILL'}, {'entit...  \n",
       "4                                                    []  \n",
       "...                                                 ...  \n",
       "3502  [{'entity': driving licence, 'label': 'KNOWLED...  \n",
       "3503  [{'entity': driver's license, 'label': 'KNOWLE...  \n",
       "3504  [{'entity': driver's license, 'label': 'KNOWLE...  \n",
       "3505  [{'entity': driver's license, 'label': 'KNOWLE...  \n",
       "3506  [{'entity': driver's license, 'label': 'KNOWLE...  \n",
       "\n",
       "[3507 rows x 6 columns]"
      ]
     },
     "execution_count": 453,
     "metadata": {},
     "output_type": "execute_result"
    }
   ],
   "source": [
    "df_JD"
   ]
  },
  {
   "cell_type": "code",
   "execution_count": null,
   "id": "c725713c-d6c5-4abe-bba3-ae1f32214f86",
   "metadata": {},
   "outputs": [],
   "source": [
    "data_cleaned = data.apply(get_dict, axis=1)"
   ]
  },
  {
   "cell_type": "markdown",
   "id": "2f1da3de-fb67-43f6-b2fe-4095d2209987",
   "metadata": {},
   "source": [
    "# Resume data"
   ]
  },
  {
   "cell_type": "code",
   "execution_count": null,
   "id": "d5c7659a-0e8e-424b-906e-8937ff792cd4",
   "metadata": {},
   "outputs": [],
   "source": [
    "df_Resume = pd.read_csv(PATH + \"/data/Resume.csv\")\n",
    "df_Resume.head()"
   ]
  },
  {
   "cell_type": "code",
   "execution_count": 202,
   "id": "62c1ee32-0541-4124-ac9b-a27fa7f71a63",
   "metadata": {},
   "outputs": [
    {
     "data": {
      "text/html": [
       "<div>\n",
       "<style scoped>\n",
       "    .dataframe tbody tr th:only-of-type {\n",
       "        vertical-align: middle;\n",
       "    }\n",
       "\n",
       "    .dataframe tbody tr th {\n",
       "        vertical-align: top;\n",
       "    }\n",
       "\n",
       "    .dataframe thead th {\n",
       "        text-align: right;\n",
       "    }\n",
       "</style>\n",
       "<table border=\"1\" class=\"dataframe\">\n",
       "  <thead>\n",
       "    <tr style=\"text-align: right;\">\n",
       "      <th></th>\n",
       "      <th>ID</th>\n",
       "      <th>Resume_str</th>\n",
       "      <th>Resume_html</th>\n",
       "      <th>Category</th>\n",
       "      <th>Clean_Resume</th>\n",
       "    </tr>\n",
       "  </thead>\n",
       "  <tbody>\n",
       "    <tr>\n",
       "      <th>0</th>\n",
       "      <td>16852973</td>\n",
       "      <td>HR ADMINISTRATOR/MARKETING ASSOCIATE\\...</td>\n",
       "      <td>&lt;div class=\"fontsize fontface vmargins hmargin...</td>\n",
       "      <td>HR</td>\n",
       "      <td>hr administrator marketing associate hr admini...</td>\n",
       "    </tr>\n",
       "    <tr>\n",
       "      <th>1</th>\n",
       "      <td>22323967</td>\n",
       "      <td>HR SPECIALIST, US HR OPERATIONS      ...</td>\n",
       "      <td>&lt;div class=\"fontsize fontface vmargins hmargin...</td>\n",
       "      <td>HR</td>\n",
       "      <td>hr specialist u hr operation summary versatile...</td>\n",
       "    </tr>\n",
       "    <tr>\n",
       "      <th>2</th>\n",
       "      <td>33176873</td>\n",
       "      <td>HR DIRECTOR       Summary      Over 2...</td>\n",
       "      <td>&lt;div class=\"fontsize fontface vmargins hmargin...</td>\n",
       "      <td>HR</td>\n",
       "      <td>hr director summary 20 year experience recruit...</td>\n",
       "    </tr>\n",
       "    <tr>\n",
       "      <th>3</th>\n",
       "      <td>27018550</td>\n",
       "      <td>HR SPECIALIST       Summary    Dedica...</td>\n",
       "      <td>&lt;div class=\"fontsize fontface vmargins hmargin...</td>\n",
       "      <td>HR</td>\n",
       "      <td>hr specialist summary dedicated driven dynamic...</td>\n",
       "    </tr>\n",
       "    <tr>\n",
       "      <th>4</th>\n",
       "      <td>17812897</td>\n",
       "      <td>HR MANAGER         Skill Highlights  ...</td>\n",
       "      <td>&lt;div class=\"fontsize fontface vmargins hmargin...</td>\n",
       "      <td>HR</td>\n",
       "      <td>hr manager skill highlight hr skill hr departm...</td>\n",
       "    </tr>\n",
       "  </tbody>\n",
       "</table>\n",
       "</div>"
      ],
      "text/plain": [
       "         ID                                         Resume_str  \\\n",
       "0  16852973           HR ADMINISTRATOR/MARKETING ASSOCIATE\\...   \n",
       "1  22323967           HR SPECIALIST, US HR OPERATIONS      ...   \n",
       "2  33176873           HR DIRECTOR       Summary      Over 2...   \n",
       "3  27018550           HR SPECIALIST       Summary    Dedica...   \n",
       "4  17812897           HR MANAGER         Skill Highlights  ...   \n",
       "\n",
       "                                         Resume_html Category  \\\n",
       "0  <div class=\"fontsize fontface vmargins hmargin...       HR   \n",
       "1  <div class=\"fontsize fontface vmargins hmargin...       HR   \n",
       "2  <div class=\"fontsize fontface vmargins hmargin...       HR   \n",
       "3  <div class=\"fontsize fontface vmargins hmargin...       HR   \n",
       "4  <div class=\"fontsize fontface vmargins hmargin...       HR   \n",
       "\n",
       "                                        Clean_Resume  \n",
       "0  hr administrator marketing associate hr admini...  \n",
       "1  hr specialist u hr operation summary versatile...  \n",
       "2  hr director summary 20 year experience recruit...  \n",
       "3  hr specialist summary dedicated driven dynamic...  \n",
       "4  hr manager skill highlight hr skill hr departm...  "
      ]
     },
     "execution_count": 202,
     "metadata": {},
     "output_type": "execute_result"
    }
   ],
   "source": [
    "df_Resume[\"Clean_Resume\"] = clean_resume(df_Resume)\n",
    "df_Resume.head()"
   ]
  },
  {
   "cell_type": "code",
   "execution_count": 204,
   "id": "31bbedf6-6200-406d-a334-72328518d0b1",
   "metadata": {},
   "outputs": [
    {
     "data": {
      "text/html": [
       "<div>\n",
       "<style scoped>\n",
       "    .dataframe tbody tr th:only-of-type {\n",
       "        vertical-align: middle;\n",
       "    }\n",
       "\n",
       "    .dataframe tbody tr th {\n",
       "        vertical-align: top;\n",
       "    }\n",
       "\n",
       "    .dataframe thead th {\n",
       "        text-align: right;\n",
       "    }\n",
       "</style>\n",
       "<table border=\"1\" class=\"dataframe\">\n",
       "  <thead>\n",
       "    <tr style=\"text-align: right;\">\n",
       "      <th></th>\n",
       "      <th>ID</th>\n",
       "      <th>Resume_str</th>\n",
       "      <th>Resume_html</th>\n",
       "      <th>Category</th>\n",
       "      <th>Clean_Resume</th>\n",
       "    </tr>\n",
       "  </thead>\n",
       "  <tbody>\n",
       "    <tr>\n",
       "      <th>1933</th>\n",
       "      <td>26509539</td>\n",
       "      <td>CONSTRUCTION INSTALLER       Summary ...</td>\n",
       "      <td>&lt;div class=\"fontsize fontface vmargins hmargin...</td>\n",
       "      <td>CONSTRUCTION</td>\n",
       "      <td>construction installer summary detail oriented...</td>\n",
       "    </tr>\n",
       "    <tr>\n",
       "      <th>310</th>\n",
       "      <td>29975124</td>\n",
       "      <td>CONSULTANT         Experience      Co...</td>\n",
       "      <td>&lt;div class=\"fontsize fontface vmargins hmargin...</td>\n",
       "      <td>INFORMATION-TECHNOLOGY</td>\n",
       "      <td>consultant experience consultant 05 2017 curre...</td>\n",
       "    </tr>\n",
       "    <tr>\n",
       "      <th>1615</th>\n",
       "      <td>12668625</td>\n",
       "      <td>BOOKSELLER         Professional Profi...</td>\n",
       "      <td>&lt;div class=\"fontsize fontface vmargins hmargin...</td>\n",
       "      <td>APPAREL</td>\n",
       "      <td>bookseller professional profile ever since abl...</td>\n",
       "    </tr>\n",
       "    <tr>\n",
       "      <th>619</th>\n",
       "      <td>25370801</td>\n",
       "      <td>BUSINESS DEVELOPMENT CONSULTANT      ...</td>\n",
       "      <td>&lt;div class=\"fontsize fontface vmargins hmargin...</td>\n",
       "      <td>BUSINESS-DEVELOPMENT</td>\n",
       "      <td>business development consultant summary experi...</td>\n",
       "    </tr>\n",
       "    <tr>\n",
       "      <th>1393</th>\n",
       "      <td>28424982</td>\n",
       "      <td>EXECUTIVE CHEF       Executive Profil...</td>\n",
       "      <td>&lt;div class=\"fontsize fontface vmargins hmargin...</td>\n",
       "      <td>CHEF</td>\n",
       "      <td>executive chef executive profile twenty year p...</td>\n",
       "    </tr>\n",
       "  </tbody>\n",
       "</table>\n",
       "</div>"
      ],
      "text/plain": [
       "            ID                                         Resume_str  \\\n",
       "1933  26509539           CONSTRUCTION INSTALLER       Summary ...   \n",
       "310   29975124           CONSULTANT         Experience      Co...   \n",
       "1615  12668625           BOOKSELLER         Professional Profi...   \n",
       "619   25370801           BUSINESS DEVELOPMENT CONSULTANT      ...   \n",
       "1393  28424982           EXECUTIVE CHEF       Executive Profil...   \n",
       "\n",
       "                                            Resume_html  \\\n",
       "1933  <div class=\"fontsize fontface vmargins hmargin...   \n",
       "310   <div class=\"fontsize fontface vmargins hmargin...   \n",
       "1615  <div class=\"fontsize fontface vmargins hmargin...   \n",
       "619   <div class=\"fontsize fontface vmargins hmargin...   \n",
       "1393  <div class=\"fontsize fontface vmargins hmargin...   \n",
       "\n",
       "                    Category  \\\n",
       "1933            CONSTRUCTION   \n",
       "310   INFORMATION-TECHNOLOGY   \n",
       "1615                 APPAREL   \n",
       "619     BUSINESS-DEVELOPMENT   \n",
       "1393                    CHEF   \n",
       "\n",
       "                                           Clean_Resume  \n",
       "1933  construction installer summary detail oriented...  \n",
       "310   consultant experience consultant 05 2017 curre...  \n",
       "1615  bookseller professional profile ever since abl...  \n",
       "619   business development consultant summary experi...  \n",
       "1393  executive chef executive profile twenty year p...  "
      ]
     },
     "execution_count": 204,
     "metadata": {},
     "output_type": "execute_result"
    }
   ],
   "source": [
    "# talking smaller, randomized subsample\n",
    "df_Resume = df_Resume.reindex(np.random.permutation(df_Resume.index))\n",
    "df_Resume_small = df_Resume.copy().iloc[\n",
    "    0:600,\n",
    "]\n",
    "df_Resume_small.head()"
   ]
  },
  {
   "cell_type": "code",
   "execution_count": null,
   "id": "e4cde0cd-c1da-4f74-81a8-aaf45c62ce42",
   "metadata": {},
   "outputs": [],
   "source": [
    "df_Resume_small['entities_auto_label'] = df_Resume_small.Clean_Resume.apply(load_results_auto)\n",
    "df_Resume_small"
   ]
  },
  {
   "cell_type": "code",
   "execution_count": null,
   "id": "e26fbc42-88a0-4124-9974-9334ef5b618e",
   "metadata": {},
   "outputs": [],
   "source": [
    "%%time\n",
    "df_Resume_small['entities_manual_label'] = df_Resume_small.Clean_Resume.apply(load_results_manual)\n",
    "df_Resume_small"
   ]
  },
  {
   "cell_type": "code",
   "execution_count": null,
   "id": "f545628c-20d0-475f-8d67-38b942858c1e",
   "metadata": {},
   "outputs": [],
   "source": [
    "df_Resume_small[\"marked_text\"] = df_Resume_small[\"Clean_Resume\"].str.lower().apply(nlp_ms)\n",
    "df_Resume_small[\"skills\"] = df_Resume_small[\"marked_text\"].apply(create_skill_list)\n",
    "df_Resume_small.reset_index(inplace = True)"
   ]
  },
  {
   "cell_type": "code",
   "execution_count": null,
   "id": "c322c2cb-6607-4bb9-8079-67de8cc5436e",
   "metadata": {},
   "outputs": [],
   "source": [
    "df_Resume_small.drop(columns = [\"index\", \"ID\", \"marked_text\"], inplace = True)\n",
    "df_Resume_small.reset_index(inplace = True)\n",
    "df_Resume_small.head()"
   ]
  },
  {
   "cell_type": "code",
   "execution_count": 238,
   "id": "a875d353-d5ac-49f3-bc52-702f7221449f",
   "metadata": {},
   "outputs": [
    {
     "data": {
      "text/html": [
       "<div>\n",
       "<style scoped>\n",
       "    .dataframe tbody tr th:only-of-type {\n",
       "        vertical-align: middle;\n",
       "    }\n",
       "\n",
       "    .dataframe tbody tr th {\n",
       "        vertical-align: top;\n",
       "    }\n",
       "\n",
       "    .dataframe thead th {\n",
       "        text-align: right;\n",
       "    }\n",
       "</style>\n",
       "<table border=\"1\" class=\"dataframe\">\n",
       "  <thead>\n",
       "    <tr style=\"text-align: right;\">\n",
       "      <th></th>\n",
       "      <th>index</th>\n",
       "      <th>Resume_str</th>\n",
       "      <th>Resume_html</th>\n",
       "      <th>Category</th>\n",
       "      <th>Clean_Resume</th>\n",
       "      <th>entities_auto_label</th>\n",
       "      <th>entities_manual_label</th>\n",
       "      <th>entity_ruler</th>\n",
       "    </tr>\n",
       "  </thead>\n",
       "  <tbody>\n",
       "    <tr>\n",
       "      <th>0</th>\n",
       "      <td>0</td>\n",
       "      <td>CONSTRUCTION INSTALLER       Summary ...</td>\n",
       "      <td>&lt;div class=\"fontsize fontface vmargins hmargin...</td>\n",
       "      <td>CONSTRUCTION</td>\n",
       "      <td>construction installer summary detail oriented...</td>\n",
       "      <td>((go),)</td>\n",
       "      <td>[]</td>\n",
       "      <td>{project management, material, box, go, schedu...</td>\n",
       "    </tr>\n",
       "    <tr>\n",
       "      <th>1</th>\n",
       "      <td>1</td>\n",
       "      <td>CONSULTANT         Experience      Co...</td>\n",
       "      <td>&lt;div class=\"fontsize fontface vmargins hmargin...</td>\n",
       "      <td>INFORMATION-TECHNOLOGY</td>\n",
       "      <td>consultant experience consultant 05 2017 curre...</td>\n",
       "      <td>((deployment), (c), (c), (shell), (shell), (c)...</td>\n",
       "      <td>[{'entity': (5, 2, o), 'label': 'MIN_EXP'}, {'...</td>\n",
       "      <td>{database, business, computer science, c, soft...</td>\n",
       "    </tr>\n",
       "    <tr>\n",
       "      <th>2</th>\n",
       "      <td>2</td>\n",
       "      <td>BOOKSELLER         Professional Profi...</td>\n",
       "      <td>&lt;div class=\"fontsize fontface vmargins hmargin...</td>\n",
       "      <td>APPAREL</td>\n",
       "      <td>bookseller professional profile ever since abl...</td>\n",
       "      <td>()</td>\n",
       "      <td>[{'entity': (english, learning), 'label': 'KNO...</td>\n",
       "      <td>{play, schedule, security, material}</td>\n",
       "    </tr>\n",
       "    <tr>\n",
       "      <th>3</th>\n",
       "      <td>3</td>\n",
       "      <td>BUSINESS DEVELOPMENT CONSULTANT      ...</td>\n",
       "      <td>&lt;div class=\"fontsize fontface vmargins hmargin...</td>\n",
       "      <td>BUSINESS-DEVELOPMENT</td>\n",
       "      <td>business development consultant summary experi...</td>\n",
       "      <td>((c),)</td>\n",
       "      <td>[]</td>\n",
       "      <td>{c, business, material}</td>\n",
       "    </tr>\n",
       "    <tr>\n",
       "      <th>4</th>\n",
       "      <td>4</td>\n",
       "      <td>EXECUTIVE CHEF       Executive Profil...</td>\n",
       "      <td>&lt;div class=\"fontsize fontface vmargins hmargin...</td>\n",
       "      <td>CHEF</td>\n",
       "      <td>executive chef executive profile twenty year p...</td>\n",
       "      <td>((dietary),)</td>\n",
       "      <td>[]</td>\n",
       "      <td>{support, chef, business, marketing}</td>\n",
       "    </tr>\n",
       "    <tr>\n",
       "      <th>...</th>\n",
       "      <td>...</td>\n",
       "      <td>...</td>\n",
       "      <td>...</td>\n",
       "      <td>...</td>\n",
       "      <td>...</td>\n",
       "      <td>...</td>\n",
       "      <td>...</td>\n",
       "      <td>...</td>\n",
       "    </tr>\n",
       "    <tr>\n",
       "      <th>595</th>\n",
       "      <td>595</td>\n",
       "      <td>MARKETING &amp; SALES ANALYST         Sum...</td>\n",
       "      <td>&lt;div class=\"fontsize fontface vmargins hmargin...</td>\n",
       "      <td>BANKING</td>\n",
       "      <td>marketing sale analyst summary result oriented...</td>\n",
       "      <td>((medium), (publishing))</td>\n",
       "      <td>[]</td>\n",
       "      <td>{documentation, medium, publishing, business, ...</td>\n",
       "    </tr>\n",
       "    <tr>\n",
       "      <th>596</th>\n",
       "      <td>596</td>\n",
       "      <td>LEAD UX/UI DESIGNER       Executive P...</td>\n",
       "      <td>&lt;div class=\"fontsize fontface vmargins hmargin...</td>\n",
       "      <td>DESIGNER</td>\n",
       "      <td>lead ux ui designer executive profile insightf...</td>\n",
       "      <td>((lpl), (logo), (medium), (medium), (medium), ...</td>\n",
       "      <td>[{'entity': (1, 6, million), 'label': 'MIN_EXP'}]</td>\n",
       "      <td>{advertising, medium, logo, business, marketin...</td>\n",
       "    </tr>\n",
       "    <tr>\n",
       "      <th>597</th>\n",
       "      <td>597</td>\n",
       "      <td>ELECTRONIC TECHNICIAN II         Prof...</td>\n",
       "      <td>&lt;div class=\"fontsize fontface vmargins hmargin...</td>\n",
       "      <td>CONSTRUCTION</td>\n",
       "      <td>electronic technician ii profile acquire elect...</td>\n",
       "      <td>((c), (fusion), (florida), (go), (c))</td>\n",
       "      <td>[{'entity': (frc753, ps213), 'label': 'KNOWLED...</td>\n",
       "      <td>{documentation, material, visual inspection, c...</td>\n",
       "    </tr>\n",
       "    <tr>\n",
       "      <th>598</th>\n",
       "      <td>598</td>\n",
       "      <td>PERSONAL STYLIST- WOMEN'S DESIGNER   ...</td>\n",
       "      <td>&lt;div class=\"fontsize fontface vmargins hmargin...</td>\n",
       "      <td>DESIGNER</td>\n",
       "      <td>personal stylist woman designer summary eager ...</td>\n",
       "      <td>((c),)</td>\n",
       "      <td>[]</td>\n",
       "      <td>{business administration, business, marketing,...</td>\n",
       "    </tr>\n",
       "    <tr>\n",
       "      <th>599</th>\n",
       "      <td>599</td>\n",
       "      <td>INFORMATION TECHNOLOGY AUDITOR       ...</td>\n",
       "      <td>&lt;div class=\"fontsize fontface vmargins hmargin...</td>\n",
       "      <td>INFORMATION-TECHNOLOGY</td>\n",
       "      <td>information technology auditor skill peoplesof...</td>\n",
       "      <td>()</td>\n",
       "      <td>[{'entity': (8, 8, 9, x), 'label': 'MIN_EXP'},...</td>\n",
       "      <td>{database, business, framework, software, citr...</td>\n",
       "    </tr>\n",
       "  </tbody>\n",
       "</table>\n",
       "<p>600 rows × 8 columns</p>\n",
       "</div>"
      ],
      "text/plain": [
       "     index                                         Resume_str  \\\n",
       "0        0           CONSTRUCTION INSTALLER       Summary ...   \n",
       "1        1           CONSULTANT         Experience      Co...   \n",
       "2        2           BOOKSELLER         Professional Profi...   \n",
       "3        3           BUSINESS DEVELOPMENT CONSULTANT      ...   \n",
       "4        4           EXECUTIVE CHEF       Executive Profil...   \n",
       "..     ...                                                ...   \n",
       "595    595           MARKETING & SALES ANALYST         Sum...   \n",
       "596    596           LEAD UX/UI DESIGNER       Executive P...   \n",
       "597    597           ELECTRONIC TECHNICIAN II         Prof...   \n",
       "598    598           PERSONAL STYLIST- WOMEN'S DESIGNER   ...   \n",
       "599    599           INFORMATION TECHNOLOGY AUDITOR       ...   \n",
       "\n",
       "                                           Resume_html  \\\n",
       "0    <div class=\"fontsize fontface vmargins hmargin...   \n",
       "1    <div class=\"fontsize fontface vmargins hmargin...   \n",
       "2    <div class=\"fontsize fontface vmargins hmargin...   \n",
       "3    <div class=\"fontsize fontface vmargins hmargin...   \n",
       "4    <div class=\"fontsize fontface vmargins hmargin...   \n",
       "..                                                 ...   \n",
       "595  <div class=\"fontsize fontface vmargins hmargin...   \n",
       "596  <div class=\"fontsize fontface vmargins hmargin...   \n",
       "597  <div class=\"fontsize fontface vmargins hmargin...   \n",
       "598  <div class=\"fontsize fontface vmargins hmargin...   \n",
       "599  <div class=\"fontsize fontface vmargins hmargin...   \n",
       "\n",
       "                   Category  \\\n",
       "0              CONSTRUCTION   \n",
       "1    INFORMATION-TECHNOLOGY   \n",
       "2                   APPAREL   \n",
       "3      BUSINESS-DEVELOPMENT   \n",
       "4                      CHEF   \n",
       "..                      ...   \n",
       "595                 BANKING   \n",
       "596                DESIGNER   \n",
       "597            CONSTRUCTION   \n",
       "598                DESIGNER   \n",
       "599  INFORMATION-TECHNOLOGY   \n",
       "\n",
       "                                          Clean_Resume  \\\n",
       "0    construction installer summary detail oriented...   \n",
       "1    consultant experience consultant 05 2017 curre...   \n",
       "2    bookseller professional profile ever since abl...   \n",
       "3    business development consultant summary experi...   \n",
       "4    executive chef executive profile twenty year p...   \n",
       "..                                                 ...   \n",
       "595  marketing sale analyst summary result oriented...   \n",
       "596  lead ux ui designer executive profile insightf...   \n",
       "597  electronic technician ii profile acquire elect...   \n",
       "598  personal stylist woman designer summary eager ...   \n",
       "599  information technology auditor skill peoplesof...   \n",
       "\n",
       "                                   entities_auto_label  \\\n",
       "0                                              ((go),)   \n",
       "1    ((deployment), (c), (c), (shell), (shell), (c)...   \n",
       "2                                                   ()   \n",
       "3                                               ((c),)   \n",
       "4                                         ((dietary),)   \n",
       "..                                                 ...   \n",
       "595                           ((medium), (publishing))   \n",
       "596  ((lpl), (logo), (medium), (medium), (medium), ...   \n",
       "597              ((c), (fusion), (florida), (go), (c))   \n",
       "598                                             ((c),)   \n",
       "599                                                 ()   \n",
       "\n",
       "                                 entities_manual_label  \\\n",
       "0                                                   []   \n",
       "1    [{'entity': (5, 2, o), 'label': 'MIN_EXP'}, {'...   \n",
       "2    [{'entity': (english, learning), 'label': 'KNO...   \n",
       "3                                                   []   \n",
       "4                                                   []   \n",
       "..                                                 ...   \n",
       "595                                                 []   \n",
       "596  [{'entity': (1, 6, million), 'label': 'MIN_EXP'}]   \n",
       "597  [{'entity': (frc753, ps213), 'label': 'KNOWLED...   \n",
       "598                                                 []   \n",
       "599  [{'entity': (8, 8, 9, x), 'label': 'MIN_EXP'},...   \n",
       "\n",
       "                                          entity_ruler  \n",
       "0    {project management, material, box, go, schedu...  \n",
       "1    {database, business, computer science, c, soft...  \n",
       "2                 {play, schedule, security, material}  \n",
       "3                              {c, business, material}  \n",
       "4                 {support, chef, business, marketing}  \n",
       "..                                                 ...  \n",
       "595  {documentation, medium, publishing, business, ...  \n",
       "596  {advertising, medium, logo, business, marketin...  \n",
       "597  {documentation, material, visual inspection, c...  \n",
       "598  {business administration, business, marketing,...  \n",
       "599  {database, business, framework, software, citr...  \n",
       "\n",
       "[600 rows x 8 columns]"
      ]
     },
     "execution_count": 238,
     "metadata": {},
     "output_type": "execute_result"
    }
   ],
   "source": [
    "df_Resume_small.rename(columns = {\"skills\":\"entity_ruler\"})"
   ]
  },
  {
   "cell_type": "code",
   "execution_count": 230,
   "id": "9c81d416-dfed-4c47-a6be-ba4770ff0e0f",
   "metadata": {},
   "outputs": [
    {
     "data": {
      "text/plain": [
       "(c, fusion, florida, go, c)"
      ]
     },
     "execution_count": 230,
     "metadata": {},
     "output_type": "execute_result"
    }
   ],
   "source": [
    "df_Resume_small[\"entities_auto_label\"][597]"
   ]
  },
  {
   "cell_type": "code",
   "execution_count": 231,
   "id": "f43a0838-b6f3-4551-ac77-d26cb0f242b7",
   "metadata": {},
   "outputs": [
    {
     "data": {
      "text/plain": [
       "[{'entity': frc753 ps213, 'label': 'KNOWLEDGE'}]"
      ]
     },
     "execution_count": 231,
     "metadata": {},
     "output_type": "execute_result"
    }
   ],
   "source": [
    "df_Resume_small[\"entities_manual_label\"][597]"
   ]
  },
  {
   "cell_type": "code",
   "execution_count": 233,
   "id": "03fc207a-facd-41a0-95d0-2e911e26a3f1",
   "metadata": {},
   "outputs": [
    {
     "data": {
      "text/plain": [
       "{'c',\n",
       " 'component',\n",
       " 'design',\n",
       " 'documentation',\n",
       " 'electronic engineering',\n",
       " 'fusion',\n",
       " 'go',\n",
       " 'material',\n",
       " 'monitoring',\n",
       " 'residual',\n",
       " 'security',\n",
       " 'specification',\n",
       " 'terminal',\n",
       " 'vault',\n",
       " 'visual inspection'}"
      ]
     },
     "execution_count": 233,
     "metadata": {},
     "output_type": "execute_result"
    }
   ],
   "source": [
    "df_Resume_small[\"skills\"][597]"
   ]
  },
  {
   "cell_type": "code",
   "execution_count": 390,
   "id": "00654de0-2d3f-4a71-8515-a0c23793e9b4",
   "metadata": {},
   "outputs": [],
   "source": [
    "def extract_resume_skills(text):\n",
    "    #test_resume = df[\"Clean_Resume\"]\n",
    "    test_list = create_skill_list(text, model = True)\n",
    "    test_list_2 = load_results_manual(test_resume)\n",
    "    \n",
    "    set_list = []\n",
    "    for i in range(0, len(test_list_2)):\n",
    "        set_list.append(str(test_list_2[i][\"entity\"]).lower().strip())\n",
    "        \n",
    "    ext = set.union(test_list, set(set_list))\n",
    "    \n",
    "    return ext"
   ]
  },
  {
   "cell_type": "code",
   "execution_count": 452,
   "id": "aebcd348-36e6-419d-acc6-dafddc66e6b8",
   "metadata": {},
   "outputs": [],
   "source": [
    "def get_dict(x):\n",
    "    dict_ = {}\n",
    "    entities = extract_entities_2(x['entities_manual_label'])\n",
    "    labels = extract_lables(x['entities_manual_label'])\n",
    "    for index, key in enumerate(entities):\n",
    "        if key not in dict_.keys():\n",
    "            dict_[key] = labels[index]\n",
    "    skills_auto =extract_skills_auto(x['entities_auto_label'])\n",
    "    for index, value in enumerate(skills_auto):\n",
    "        if value not in dict_.keys():\n",
    "            dict_[value] = 'SKILL'\n",
    "    skills_list = []\n",
    "    knowledge_list = []\n",
    "    min_exp_list = []\n",
    "    level_list = []\n",
    "    for entity, label in dict_.items():\n",
    "        if label == 'SKILL':\n",
    "            skills_list.append(entity)\n",
    "        if label == 'KNOWLEDGE':\n",
    "            knowledge_list.append(entity)\n",
    "        if label == 'MIN_EXP':\n",
    "             min_exp_list.append(entity)\n",
    "        if label == 'LEVEL':\n",
    "            level_list.append(entity)\n",
    "    x[\"SKILL\"] = skills_list\n",
    "    x[\"KNOWLEDGE\"] = knowledge_list\n",
    "    x[\"MIN_EXP\"] = min_exp_list\n",
    "    x[\"LEVEL\"] = level_list\n",
    "    return x"
   ]
  },
  {
   "cell_type": "code",
   "execution_count": 386,
   "id": "3559ad36-81e1-4498-bf05-b4ca39cb9f51",
   "metadata": {},
   "outputs": [],
   "source": [
    "test_resume = df_Resume_small[\"Clean_Resume\"][400]"
   ]
  },
  {
   "cell_type": "code",
   "execution_count": 391,
   "id": "62d2f967-1911-4c47-8843-e57f23b41878",
   "metadata": {},
   "outputs": [],
   "source": [
    "skill_list = extract_resume_skills(test_resume)"
   ]
  },
  {
   "cell_type": "code",
   "execution_count": 392,
   "id": "81f7f5cf-06fb-4bf5-aa69-0f55893f5cf1",
   "metadata": {},
   "outputs": [
    {
     "data": {
      "text/plain": [
       "{'azure',\n",
       " 'business',\n",
       " 'component',\n",
       " 'computer network',\n",
       " 'computer science',\n",
       " 'desktop server',\n",
       " 'emc networker',\n",
       " 'fedora',\n",
       " 'financial system',\n",
       " 'geographic information system',\n",
       " 'go',\n",
       " 'help desk',\n",
       " 'linux',\n",
       " 'microsoft system center',\n",
       " 'mobile',\n",
       " 'monitoring',\n",
       " 'network interface',\n",
       " 'network security',\n",
       " 'operating system',\n",
       " 'router',\n",
       " 'security',\n",
       " 'server',\n",
       " 'skype',\n",
       " 'software',\n",
       " 'support',\n",
       " 'unix',\n",
       " 'visual basic'}"
      ]
     },
     "execution_count": 392,
     "metadata": {},
     "output_type": "execute_result"
    }
   ],
   "source": [
    "skill_list"
   ]
  },
  {
   "cell_type": "code",
   "execution_count": 395,
   "id": "26a276b1-089d-4601-bb38-cb73fd15e67a",
   "metadata": {},
   "outputs": [
    {
     "data": {
      "text/html": [
       "<div>\n",
       "<style scoped>\n",
       "    .dataframe tbody tr th:only-of-type {\n",
       "        vertical-align: middle;\n",
       "    }\n",
       "\n",
       "    .dataframe tbody tr th {\n",
       "        vertical-align: top;\n",
       "    }\n",
       "\n",
       "    .dataframe thead th {\n",
       "        text-align: right;\n",
       "    }\n",
       "</style>\n",
       "<table border=\"1\" class=\"dataframe\">\n",
       "  <thead>\n",
       "    <tr style=\"text-align: right;\">\n",
       "      <th></th>\n",
       "      <th>Unnamed: 0</th>\n",
       "      <th>ISCO</th>\n",
       "      <th>major_job</th>\n",
       "      <th>job</th>\n",
       "      <th>position</th>\n",
       "      <th>location</th>\n",
       "      <th>description</th>\n",
       "      <th>entities_auto_label</th>\n",
       "      <th>entities_manual_label</th>\n",
       "    </tr>\n",
       "  </thead>\n",
       "  <tbody>\n",
       "    <tr>\n",
       "      <th>0</th>\n",
       "      <td>0</td>\n",
       "      <td>21</td>\n",
       "      <td>SCIENCE AND ENGINEERING PROFESSIONALS</td>\n",
       "      <td>physicist</td>\n",
       "      <td>Accelerator Physicist id54315</td>\n",
       "      <td>Villigen PSI, Aargau</td>\n",
       "      <td>[' You have an academic degree in physics or e...</td>\n",
       "      <td>()</td>\n",
       "      <td>[{'entity': physics, 'label': 'KNOWLEDGE'}, {'...</td>\n",
       "    </tr>\n",
       "    <tr>\n",
       "      <th>1</th>\n",
       "      <td>1</td>\n",
       "      <td>21</td>\n",
       "      <td>SCIENCE AND ENGINEERING PROFESSIONALS</td>\n",
       "      <td>physicist</td>\n",
       "      <td>Accelerator Physicist id54315</td>\n",
       "      <td>Villigen PSI, Aargau</td>\n",
       "      <td>[' You have an academic degree in physics or e...</td>\n",
       "      <td>()</td>\n",
       "      <td>[{'entity': RICS, 'label': 'SKILL'}, {'entity'...</td>\n",
       "    </tr>\n",
       "    <tr>\n",
       "      <th>2</th>\n",
       "      <td>2</td>\n",
       "      <td>21</td>\n",
       "      <td>SCIENCE AND ENGINEERING PROFESSIONALS</td>\n",
       "      <td>physicist</td>\n",
       "      <td>Accelerator Physicist id54315</td>\n",
       "      <td>Villigen PSI, Aargau</td>\n",
       "      <td>[' You have an academic degree in physics or e...</td>\n",
       "      <td>()</td>\n",
       "      <td>[{'entity': CIS, 'label': 'SKILL'}, {'entity':...</td>\n",
       "    </tr>\n",
       "    <tr>\n",
       "      <th>3</th>\n",
       "      <td>3</td>\n",
       "      <td>21</td>\n",
       "      <td>SCIENCE AND ENGINEERING PROFESSIONALS</td>\n",
       "      <td>physicist</td>\n",
       "      <td>Applied Physicist (Computing) (EP-LBC-2021-125...</td>\n",
       "      <td>Geneva</td>\n",
       "      <td>[' Be in charge of the development of applicat...</td>\n",
       "      <td>(Python, Python)</td>\n",
       "      <td>[{'entity': Python, 'label': 'SKILL'}, {'entit...</td>\n",
       "    </tr>\n",
       "    <tr>\n",
       "      <th>4</th>\n",
       "      <td>4</td>\n",
       "      <td>21</td>\n",
       "      <td>SCIENCE AND ENGINEERING PROFESSIONALS</td>\n",
       "      <td>physicist</td>\n",
       "      <td>Applied Physicist (Computing) (EP-LBC-2021-125...</td>\n",
       "      <td>Geneva</td>\n",
       "      <td>[' Be in charge of the development of applicat...</td>\n",
       "      <td>(Python, Python)</td>\n",
       "      <td>[]</td>\n",
       "    </tr>\n",
       "    <tr>\n",
       "      <th>...</th>\n",
       "      <td>...</td>\n",
       "      <td>...</td>\n",
       "      <td>...</td>\n",
       "      <td>...</td>\n",
       "      <td>...</td>\n",
       "      <td>...</td>\n",
       "      <td>...</td>\n",
       "      <td>...</td>\n",
       "      <td>...</td>\n",
       "    </tr>\n",
       "    <tr>\n",
       "      <th>3502</th>\n",
       "      <td>3502</td>\n",
       "      <td>22</td>\n",
       "      <td>HEALTH PROFESSIONALS</td>\n",
       "      <td>veterinary surgeon</td>\n",
       "      <td>Veterinary Surgeon</td>\n",
       "      <td>England</td>\n",
       "      <td>[' Allocated CPD funding of 37.5 hours Excelle...</td>\n",
       "      <td>()</td>\n",
       "      <td>[{'entity': driving licence, 'label': 'KNOWLED...</td>\n",
       "    </tr>\n",
       "    <tr>\n",
       "      <th>3503</th>\n",
       "      <td>3503</td>\n",
       "      <td>22</td>\n",
       "      <td>HEALTH PROFESSIONALS</td>\n",
       "      <td>veterinary surgeon</td>\n",
       "      <td>Permanent Veterinary Surgeon</td>\n",
       "      <td>Cricklewood, North West London</td>\n",
       "      <td>[' Type: Small Animal Hours: Monday - Friday 4...</td>\n",
       "      <td>()</td>\n",
       "      <td>[{'entity': driver's license, 'label': 'KNOWLE...</td>\n",
       "    </tr>\n",
       "    <tr>\n",
       "      <th>3504</th>\n",
       "      <td>3504</td>\n",
       "      <td>22</td>\n",
       "      <td>HEALTH PROFESSIONALS</td>\n",
       "      <td>veterinary surgeon</td>\n",
       "      <td>Veterinary Surgeon</td>\n",
       "      <td>Middlesbrough, North Yorkshire</td>\n",
       "      <td>[' Allocated CPD funding of 37.5 hours ', ' 5 ...</td>\n",
       "      <td>()</td>\n",
       "      <td>[{'entity': driver's license, 'label': 'KNOWLE...</td>\n",
       "    </tr>\n",
       "    <tr>\n",
       "      <th>3505</th>\n",
       "      <td>3505</td>\n",
       "      <td>22</td>\n",
       "      <td>HEALTH PROFESSIONALS</td>\n",
       "      <td>veterinary surgeon</td>\n",
       "      <td>Permanent Veterinary Surgeon</td>\n",
       "      <td>Harrogate, North Yorkshire</td>\n",
       "      <td>[\" Experienced required: New Graduate level to...</td>\n",
       "      <td>()</td>\n",
       "      <td>[{'entity': driver's license, 'label': 'KNOWLE...</td>\n",
       "    </tr>\n",
       "    <tr>\n",
       "      <th>3506</th>\n",
       "      <td>3506</td>\n",
       "      <td>22</td>\n",
       "      <td>HEALTH PROFESSIONALS</td>\n",
       "      <td>veterinary surgeon</td>\n",
       "      <td>Locum Veterinary Surgeon</td>\n",
       "      <td>Lancaster</td>\n",
       "      <td>[' Type: Small Animal Start Date: 6th January ...</td>\n",
       "      <td>()</td>\n",
       "      <td>[{'entity': driver's license, 'label': 'KNOWLE...</td>\n",
       "    </tr>\n",
       "  </tbody>\n",
       "</table>\n",
       "<p>3507 rows × 9 columns</p>\n",
       "</div>"
      ],
      "text/plain": [
       "      Unnamed: 0  ISCO                              major_job  \\\n",
       "0              0    21  SCIENCE AND ENGINEERING PROFESSIONALS   \n",
       "1              1    21  SCIENCE AND ENGINEERING PROFESSIONALS   \n",
       "2              2    21  SCIENCE AND ENGINEERING PROFESSIONALS   \n",
       "3              3    21  SCIENCE AND ENGINEERING PROFESSIONALS   \n",
       "4              4    21  SCIENCE AND ENGINEERING PROFESSIONALS   \n",
       "...          ...   ...                                    ...   \n",
       "3502        3502    22                   HEALTH PROFESSIONALS   \n",
       "3503        3503    22                   HEALTH PROFESSIONALS   \n",
       "3504        3504    22                   HEALTH PROFESSIONALS   \n",
       "3505        3505    22                   HEALTH PROFESSIONALS   \n",
       "3506        3506    22                   HEALTH PROFESSIONALS   \n",
       "\n",
       "                     job                                           position  \\\n",
       "0              physicist                      Accelerator Physicist id54315   \n",
       "1              physicist                      Accelerator Physicist id54315   \n",
       "2              physicist                      Accelerator Physicist id54315   \n",
       "3              physicist  Applied Physicist (Computing) (EP-LBC-2021-125...   \n",
       "4              physicist  Applied Physicist (Computing) (EP-LBC-2021-125...   \n",
       "...                  ...                                                ...   \n",
       "3502  veterinary surgeon                                 Veterinary Surgeon   \n",
       "3503  veterinary surgeon                       Permanent Veterinary Surgeon   \n",
       "3504  veterinary surgeon                                 Veterinary Surgeon   \n",
       "3505  veterinary surgeon                       Permanent Veterinary Surgeon   \n",
       "3506  veterinary surgeon                           Locum Veterinary Surgeon   \n",
       "\n",
       "                            location  \\\n",
       "0               Villigen PSI, Aargau   \n",
       "1               Villigen PSI, Aargau   \n",
       "2               Villigen PSI, Aargau   \n",
       "3                             Geneva   \n",
       "4                             Geneva   \n",
       "...                              ...   \n",
       "3502                         England   \n",
       "3503  Cricklewood, North West London   \n",
       "3504  Middlesbrough, North Yorkshire   \n",
       "3505      Harrogate, North Yorkshire   \n",
       "3506                       Lancaster   \n",
       "\n",
       "                                            description entities_auto_label  \\\n",
       "0     [' You have an academic degree in physics or e...                  ()   \n",
       "1     [' You have an academic degree in physics or e...                  ()   \n",
       "2     [' You have an academic degree in physics or e...                  ()   \n",
       "3     [' Be in charge of the development of applicat...    (Python, Python)   \n",
       "4     [' Be in charge of the development of applicat...    (Python, Python)   \n",
       "...                                                 ...                 ...   \n",
       "3502  [' Allocated CPD funding of 37.5 hours Excelle...                  ()   \n",
       "3503  [' Type: Small Animal Hours: Monday - Friday 4...                  ()   \n",
       "3504  [' Allocated CPD funding of 37.5 hours ', ' 5 ...                  ()   \n",
       "3505  [\" Experienced required: New Graduate level to...                  ()   \n",
       "3506  [' Type: Small Animal Start Date: 6th January ...                  ()   \n",
       "\n",
       "                                  entities_manual_label  \n",
       "0     [{'entity': physics, 'label': 'KNOWLEDGE'}, {'...  \n",
       "1     [{'entity': RICS, 'label': 'SKILL'}, {'entity'...  \n",
       "2     [{'entity': CIS, 'label': 'SKILL'}, {'entity':...  \n",
       "3     [{'entity': Python, 'label': 'SKILL'}, {'entit...  \n",
       "4                                                    []  \n",
       "...                                                 ...  \n",
       "3502  [{'entity': driving licence, 'label': 'KNOWLED...  \n",
       "3503  [{'entity': driver's license, 'label': 'KNOWLE...  \n",
       "3504  [{'entity': driver's license, 'label': 'KNOWLE...  \n",
       "3505  [{'entity': driver's license, 'label': 'KNOWLE...  \n",
       "3506  [{'entity': driver's license, 'label': 'KNOWLE...  \n",
       "\n",
       "[3507 rows x 9 columns]"
      ]
     },
     "execution_count": 395,
     "metadata": {},
     "output_type": "execute_result"
    }
   ],
   "source": [
    "df_JD"
   ]
  },
  {
   "cell_type": "code",
   "execution_count": null,
   "id": "a0fcc22f-5f8e-4c71-8002-d83bb96082af",
   "metadata": {},
   "outputs": [],
   "source": [
    "data_cleaned = df_JD.apply(get_dict, axis=1)"
   ]
  },
  {
   "cell_type": "code",
   "execution_count": 337,
   "id": "f23e95e6-15b8-4610-b5f8-388992ca95f4",
   "metadata": {},
   "outputs": [],
   "source": [
    "cv_set = skill_list\n",
    "JD_set = df.skills\n",
    "pct_list = match_skills(JD_set, cv_set)"
   ]
  },
  {
   "cell_type": "code",
   "execution_count": 331,
   "id": "1452a7df-1770-4351-a84c-c7a40de714a4",
   "metadata": {},
   "outputs": [],
   "source": [
    "#functions for getting entities text, label, start and end of character position\n",
    "def create_skill_set(text, model = False):\n",
    "    '''Apply basic spacy model and Create a set of the extracted skill entities'''\n",
    "    \n",
    "    if model == True:\n",
    "        nlp_ms = spacy.blank(\"en\")\n",
    "        skill_pattern_path = PATH + \"/data/dictionaries/complete_dict.jsonl\"\n",
    "        ruler = nlp_ms.add_pipe(\"entity_ruler\")\n",
    "        ruler.from_disk(skill_pattern_path)\n",
    "        doc = nlp(text)\n",
    "        \n",
    "    return set([ent.label_.upper()[6:] for ent in doc.ents if 'skill' or 'knowledge' in ent.label_.lower()])\n",
    "\n",
    "\n",
    "def create_skill_list(text, model = False):\n",
    "    \n",
    "    if model == True:\n",
    "        nlp_ms = spacy.blank(\"en\")\n",
    "        skill_pattern_path = PATH + \"/data/dictionaries/complete_dict.jsonl\"\n",
    "        ruler = nlp_ms.add_pipe(\"entity_ruler\")\n",
    "        ruler.from_disk(skill_pattern_path)\n",
    "        doc = nlp_ms(text)\n",
    "    \n",
    "    t = list([ent.text] for ent in doc.ents )\n",
    "    flat_list = [item for sublist in t for item in sublist]\n",
    "    return set(flat_list)\n",
    "\n"
   ]
  },
  {
   "cell_type": "code",
   "execution_count": 394,
   "id": "dfa8d15e-3083-4a91-9bdc-df9a2911664a",
   "metadata": {},
   "outputs": [],
   "source": [
    "def match_skills(JD_data_set, cv_set):\n",
    "    '''Get intersection of resume skills and job offer skills and return match percentage'''\n",
    "    pct_list = []\n",
    "    \n",
    "    if len(cv_set) < 1:\n",
    "        print('could not extract skills from resume text')   \n",
    "    else:\n",
    "        #implement function comparing with a list of job_descriptions\n",
    "        for i in range(0, len(JD_set)):\n",
    "            match = cv_set & JD_set[i] \n",
    "            qu = len(cv_set & JD_set[i])\n",
    "            di = len(JD_set[i])\n",
    "            pct_match = round((qu/di) * 100, 2)\n",
    "            pct_list.append([i, pct_match])\n",
    "            \n",
    "        pct_list.sort(key=lambda x: x[1], reverse = True)\n",
    "    \n",
    "        \n",
    "    return pct_list[0:9]"
   ]
  },
  {
   "cell_type": "code",
   "execution_count": null,
   "id": "27da2bbb-1158-410f-8ac0-38601a051532",
   "metadata": {},
   "outputs": [],
   "source": [
    "job_number, matching_score, job_cat = [], [], []\n",
    "\n",
    "for i in pct_list:\n",
    "    cat = df[\"Category\"][i[0]]\n",
    "    print('Job #{} in Sector {} has a {}% match'.format(i[0], df[\"Category\"][i[0]], i[1]))\n",
    "    job_number.append(i[0])\n",
    "    matching_score.append(i[1])\n",
    "    \n",
    "    if cat in job_cat:\n",
    "        job_cat.append(str(cat) + str(i[0]))\n",
    "    \n",
    "frame = pd.DataFrame(job_number, columns=['job_number'])\n",
    "frame[\"matching_score\"] = matching_score\n",
    "frame[\"Category\"] = df[\"Category\"][i[0]]"
   ]
  }
 ],
 "metadata": {
  "kernelspec": {
   "display_name": "Python 3 (ipykernel)",
   "language": "python",
   "name": "python3"
  },
  "language_info": {
   "codemirror_mode": {
    "name": "ipython",
    "version": 3
   },
   "file_extension": ".py",
   "mimetype": "text/x-python",
   "name": "python",
   "nbconvert_exporter": "python",
   "pygments_lexer": "ipython3",
   "version": "3.8.12"
  }
 },
 "nbformat": 4,
 "nbformat_minor": 5
}
