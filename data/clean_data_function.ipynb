{
 "cells": [
  {
   "cell_type": "code",
   "execution_count": null,
   "id": "ae6f4917-9d11-4e84-9332-a42b67bc3fb3",
   "metadata": {},
   "outputs": [],
   "source": [
    "import pandas as pd\n",
    "import numpy as np\n",
    "import os\n",
    "import string\n",
    "import nltk\n",
    "from nltk.corpus import stopwords\n",
    "\n",
    "def clean_data(data):\n",
    "    data = data.dropna()\n",
    "    data = data.drop(columns = [\"ISCO\", \"major_job\", \"location\"])\n",
    "    ## Lower case\n",
    "    data['description'] = data['description'].apply(lambda x: \" \".join(x.lower()for x in x.split()))\n",
    "    ## remove tabulation and punctuation\n",
    "    data['description'] = data['description'].str.replace('[^\\w\\s]',' ')\n",
    "    ## digits\n",
    "    data['description'] = data['description'].str.replace('\\d+', '')\n",
    "    ## stopwords\n",
    "    stop = stopwords.words('english')\n",
    "    data['description'] = data['description'].apply(lambda x: \" \".join(x for x in x.split() if x not in stop))\n",
    "    ## lemmatizing\n",
    "    clean_data['description'] = data['description'].apply(lambda x: \" \".join([Word(word).lemmatize() for word in x.split()]))\n",
    "\n",
    "    ##depending on data frame, drop more columns, re-index\n",
    "    ##clean_data.drop(columns = \"position\")\n",
    "    \n",
    "    return clean_data\n",
    "    "
   ]
  }
 ],
 "metadata": {
  "kernelspec": {
   "display_name": "Python 3 (ipykernel)",
   "language": "python",
   "name": "python3"
  },
  "language_info": {
   "codemirror_mode": {
    "name": "ipython",
    "version": 3
   },
   "file_extension": ".py",
   "mimetype": "text/x-python",
   "name": "python",
   "nbconvert_exporter": "python",
   "pygments_lexer": "ipython3",
   "version": "3.8.12"
  }
 },
 "nbformat": 4,
 "nbformat_minor": 5
}
