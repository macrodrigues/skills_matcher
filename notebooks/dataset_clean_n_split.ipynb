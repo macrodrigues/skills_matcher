{
 "cells": [
  {
   "cell_type": "code",
   "execution_count": 142,
   "id": "cfbbf31c-5a4f-40ae-8635-2e80e3f5bb69",
   "metadata": {},
   "outputs": [],
   "source": [
    "import pandas as pd\n",
    "import numpy as np\n",
    "import os"
   ]
  },
  {
   "cell_type": "code",
   "execution_count": 143,
   "id": "27e14e43-79f2-445b-ae86-26c3d47d3c51",
   "metadata": {},
   "outputs": [],
   "source": [
    "df = pd.read_csv('/home/macrodrigues/code/macrodrigues/skills_matcher/data/raw_data/raw_data_3.csv')\n",
    "df = df.drop(['Unnamed: 0'], axis = 1)\n",
    "df = df.dropna()"
   ]
  },
  {
   "cell_type": "markdown",
   "id": "3f6d97c7-b32c-435e-9dee-039cc1621732",
   "metadata": {},
   "source": [
    "## Cleaning and remove few counts of Job Positions"
   ]
  },
  {
   "cell_type": "code",
   "execution_count": 144,
   "id": "a5260c73-0211-4307-9eb2-7f86bb76a61d",
   "metadata": {},
   "outputs": [
    {
     "data": {
      "text/plain": [
       "90"
      ]
     },
     "execution_count": 144,
     "metadata": {},
     "output_type": "execute_result"
    }
   ],
   "source": [
    "list_of_small_counts = list(df.groupby('careers').count()['ISCO'].loc[df.groupby('careers').count()['ISCO'] < 7].index)\n",
    "len(list_of_small_counts)"
   ]
  },
  {
   "cell_type": "code",
   "execution_count": 145,
   "id": "255963dd-e84b-4e35-a10b-f031a8cc1b3d",
   "metadata": {},
   "outputs": [],
   "source": [
    "def filter_careers(val):\n",
    "        if val not in list_of_small_counts:\n",
    "            return val"
   ]
  },
  {
   "cell_type": "code",
   "execution_count": 146,
   "id": "c0bc2ce8-7b60-410f-923f-ccf16980acce",
   "metadata": {},
   "outputs": [],
   "source": [
    "df.careers = df.careers.apply(filter_careers)\n",
    "df = df.dropna()"
   ]
  },
  {
   "cell_type": "markdown",
   "id": "224d3a11-37b1-404a-a77b-f4764773587f",
   "metadata": {
    "tags": []
   },
   "source": [
    "## Separate by ISCO codes"
   ]
  },
  {
   "cell_type": "code",
   "execution_count": 147,
   "id": "9cca49df-e44f-484e-afd7-e525f45e47f7",
   "metadata": {},
   "outputs": [],
   "source": [
    "iscos = pd.read_csv('/home/macrodrigues/code/macrodrigues/skills_matcher/data/raw_data/raw_data_0.csv')"
   ]
  },
  {
   "cell_type": "code",
   "execution_count": 148,
   "id": "84287d9f-2133-4dc8-9842-840b6a0e71c7",
   "metadata": {},
   "outputs": [],
   "source": [
    "iscos = iscos.rename({'major_ISCO': 'ISCO'}, axis = 1)\n",
    "iscos = iscos[['ISCO', 'major_jobs']]"
   ]
  },
  {
   "cell_type": "code",
   "execution_count": 149,
   "id": "ec7dd096-0424-4268-96fc-9972c3252545",
   "metadata": {},
   "outputs": [],
   "source": [
    "df = df.merge(iscos, on='ISCO', how = 'inner')\n",
    "df = df[['ISCO', 'major_jobs', 'careers', 'career_scraped', 'location_scraped', 'info']]"
   ]
  },
  {
   "cell_type": "code",
   "execution_count": 150,
   "id": "4a8280c6-b8d1-4cd8-8445-603ec8ddf8d4",
   "metadata": {},
   "outputs": [],
   "source": [
    "df = df.rename({'major_jobs': 'major_job', 'careers': 'job', 'career_scraped': 'position', 'location_scraped':'location', 'info': 'description'}, axis = 1)"
   ]
  },
  {
   "cell_type": "code",
   "execution_count": 153,
   "id": "3af27fb8-2554-4c55-be07-4bba4a46eb42",
   "metadata": {},
   "outputs": [
    {
     "data": {
      "text/html": [
       "<div>\n",
       "<style scoped>\n",
       "    .dataframe tbody tr th:only-of-type {\n",
       "        vertical-align: middle;\n",
       "    }\n",
       "\n",
       "    .dataframe tbody tr th {\n",
       "        vertical-align: top;\n",
       "    }\n",
       "\n",
       "    .dataframe thead th {\n",
       "        text-align: right;\n",
       "    }\n",
       "</style>\n",
       "<table border=\"1\" class=\"dataframe\">\n",
       "  <thead>\n",
       "    <tr style=\"text-align: right;\">\n",
       "      <th></th>\n",
       "      <th></th>\n",
       "      <th>position</th>\n",
       "    </tr>\n",
       "    <tr>\n",
       "      <th>ISCO</th>\n",
       "      <th>major_job</th>\n",
       "      <th></th>\n",
       "    </tr>\n",
       "  </thead>\n",
       "  <tbody>\n",
       "    <tr>\n",
       "      <th>12</th>\n",
       "      <th>ADMINISTRATIVE AND COMMERCIAL MANAGERS</th>\n",
       "      <td>372</td>\n",
       "    </tr>\n",
       "    <tr>\n",
       "      <th>21</th>\n",
       "      <th>SCIENCE AND ENGINEERING PROFESSIONALS</th>\n",
       "      <td>970</td>\n",
       "    </tr>\n",
       "    <tr>\n",
       "      <th>22</th>\n",
       "      <th>HEALTH PROFESSIONALS</th>\n",
       "      <td>719</td>\n",
       "    </tr>\n",
       "    <tr>\n",
       "      <th>23</th>\n",
       "      <th>TEACHING PROFESSIONALS</th>\n",
       "      <td>279</td>\n",
       "    </tr>\n",
       "    <tr>\n",
       "      <th>24</th>\n",
       "      <th>BUSINESS AND ADMINISTRATION PROFESSIONALS</th>\n",
       "      <td>311</td>\n",
       "    </tr>\n",
       "    <tr>\n",
       "      <th>25</th>\n",
       "      <th>INFORMATION AND COMMUNICATIONS TECHNOLOGY PROFESSIONALS</th>\n",
       "      <td>476</td>\n",
       "    </tr>\n",
       "    <tr>\n",
       "      <th>31</th>\n",
       "      <th>SCIENCE AND ENGINEERING ASSOCIATE PROFESSIONALS</th>\n",
       "      <td>109</td>\n",
       "    </tr>\n",
       "    <tr>\n",
       "      <th>32</th>\n",
       "      <th>HEALTH ASSOCIATE PROFESSIONALS</th>\n",
       "      <td>105</td>\n",
       "    </tr>\n",
       "    <tr>\n",
       "      <th>33</th>\n",
       "      <th>BUSINESS AND ADMINISTRATION ASSOCIATE PROFESSIONALS</th>\n",
       "      <td>320</td>\n",
       "    </tr>\n",
       "    <tr>\n",
       "      <th>35</th>\n",
       "      <th>INFORMATION AND COMMUNICATIONS TECHNICIANS</th>\n",
       "      <td>113</td>\n",
       "    </tr>\n",
       "    <tr>\n",
       "      <th>42</th>\n",
       "      <th>CUSTOMER SERVICES CLERKS</th>\n",
       "      <td>262</td>\n",
       "    </tr>\n",
       "    <tr>\n",
       "      <th>52</th>\n",
       "      <th>SALES WORKERS</th>\n",
       "      <td>203</td>\n",
       "    </tr>\n",
       "    <tr>\n",
       "      <th>54</th>\n",
       "      <th>PROTECTIVE SERVICES WORKERS</th>\n",
       "      <td>126</td>\n",
       "    </tr>\n",
       "    <tr>\n",
       "      <th>61</th>\n",
       "      <th>MARKET-ORIENTED SKILLED AGRICULTURAL WORKERS</th>\n",
       "      <td>134</td>\n",
       "    </tr>\n",
       "    <tr>\n",
       "      <th>83</th>\n",
       "      <th>DRIVERS AND MOBILE PLANT OPERATORS</th>\n",
       "      <td>222</td>\n",
       "    </tr>\n",
       "    <tr>\n",
       "      <th>91</th>\n",
       "      <th>CLEANERS AND HELPERS</th>\n",
       "      <td>215</td>\n",
       "    </tr>\n",
       "  </tbody>\n",
       "</table>\n",
       "</div>"
      ],
      "text/plain": [
       "                                                         position\n",
       "ISCO major_job                                                   \n",
       "12   ADMINISTRATIVE AND COMMERCIAL MANAGERS                   372\n",
       "21   SCIENCE AND ENGINEERING PROFESSIONALS                    970\n",
       "22   HEALTH PROFESSIONALS                                     719\n",
       "23   TEACHING PROFESSIONALS                                   279\n",
       "24   BUSINESS AND ADMINISTRATION PROFESSIONALS                311\n",
       "25   INFORMATION AND COMMUNICATIONS TECHNOLOGY PROFE...       476\n",
       "31   SCIENCE AND ENGINEERING ASSOCIATE PROFESSIONALS          109\n",
       "32   HEALTH ASSOCIATE PROFESSIONALS                           105\n",
       "33   BUSINESS AND ADMINISTRATION ASSOCIATE PROFESSIO...       320\n",
       "35   INFORMATION AND COMMUNICATIONS TECHNICIANS               113\n",
       "42   CUSTOMER SERVICES CLERKS                                 262\n",
       "52   SALES WORKERS                                            203\n",
       "54   PROTECTIVE SERVICES WORKERS                              126\n",
       "61   MARKET-ORIENTED SKILLED AGRICULTURAL WORKERS             134\n",
       "83   DRIVERS AND MOBILE PLANT OPERATORS                       222\n",
       "91   CLEANERS AND HELPERS                                     215"
      ]
     },
     "execution_count": 153,
     "metadata": {},
     "output_type": "execute_result"
    }
   ],
   "source": [
    "df.groupby(['ISCO', 'major_job']).agg({'position': 'count'})"
   ]
  },
  {
   "cell_type": "code",
   "execution_count": null,
   "id": "1f059c33-baf9-4851-adf1-276032eed425",
   "metadata": {},
   "outputs": [],
   "source": []
  }
 ],
 "metadata": {
  "kernelspec": {
   "display_name": "Python 3 (ipykernel)",
   "language": "python",
   "name": "python3"
  },
  "language_info": {
   "codemirror_mode": {
    "name": "ipython",
    "version": 3
   },
   "file_extension": ".py",
   "mimetype": "text/x-python",
   "name": "python",
   "nbconvert_exporter": "python",
   "pygments_lexer": "ipython3",
   "version": "3.8.12"
  }
 },
 "nbformat": 4,
 "nbformat_minor": 5
}
