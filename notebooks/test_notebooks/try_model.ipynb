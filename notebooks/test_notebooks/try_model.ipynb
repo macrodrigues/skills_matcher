{
 "cells": [
  {
   "cell_type": "code",
   "execution_count": 1,
   "id": "7c8fb2ae-c89f-4c8d-9e99-72eb91473526",
   "metadata": {},
   "outputs": [],
   "source": [
    "import pandas as pd\n",
    "import numpy as np\n",
    "\n",
    "df = pd.read_csv('/home/macrodrigues/code/macrodrigues/skills_matcher/data/dictionaries/all_skills.csv')\n",
    "df = df.drop_duplicates()"
   ]
  },
  {
   "cell_type": "code",
   "execution_count": 2,
   "id": "48c8a5a0-8f2b-4bc1-9f90-f91756e9f1b3",
   "metadata": {},
   "outputs": [],
   "source": [
    "df = df.reset_index().drop(['index'], axis = 1)"
   ]
  },
  {
   "cell_type": "code",
   "execution_count": 3,
   "id": "97099e43-c040-41ef-9949-02440a32380f",
   "metadata": {},
   "outputs": [],
   "source": [
    "l1 = []\n",
    "l2 = []\n",
    "for i in range(0, len(df['Skill'])):\n",
    "    l1.append(df['Skill'][i])\n",
    "    l2.append({'entities': [(0, len(df['Skill'][i]), df['Label'][i])]})\n",
    "    \n",
    "train_data = list(zip(l1, l2))"
   ]
  },
  {
   "cell_type": "code",
   "execution_count": 4,
   "id": "17aac3da-fb57-484e-8726-ee8c8022627e",
   "metadata": {},
   "outputs": [
    {
     "data": {
      "text/plain": [
       "[('Access software', {'entities': [(0, 15, 'SKILL')]}),\n",
       " ('Cisco AnyConnect', {'entities': [(0, 16, 'SKILL')]}),\n",
       " ('Calendar and scheduling software', {'entities': [(0, 32, 'SKILL')]})]"
      ]
     },
     "execution_count": 4,
     "metadata": {},
     "output_type": "execute_result"
    }
   ],
   "source": [
    "train_data[0:3]"
   ]
  },
  {
   "cell_type": "code",
   "execution_count": 5,
   "id": "a15850da-d977-46ee-9772-0a9cbd97480a",
   "metadata": {},
   "outputs": [
    {
     "name": "stderr",
     "output_type": "stream",
     "text": [
      "2021-12-01 16:36:25.682142: W tensorflow/stream_executor/platform/default/dso_loader.cc:64] Could not load dynamic library 'libcudart.so.11.0'; dlerror: libcudart.so.11.0: cannot open shared object file: No such file or directory\n",
      "2021-12-01 16:36:25.682221: I tensorflow/stream_executor/cuda/cudart_stub.cc:29] Ignore above cudart dlerror if you do not have a GPU set up on your machine.\n"
     ]
    },
    {
     "name": "stdout",
     "output_type": "stream",
     "text": [
      "CPU times: user 2min 2s, sys: 682 ms, total: 2min 3s\n",
      "Wall time: 2min 3s\n"
     ]
    }
   ],
   "source": [
    "%%time\n",
    "import spacy\n",
    "from spacy import displacy\n",
    "from spacy.tokens import DocBin\n",
    "from spacy.training.example import Example\n",
    "from tqdm import tqdm\n",
    "\n",
    "np.random.seed(42)\n",
    "\n",
    "# set blank 'en' model \n",
    "nlp = spacy.blank('en')\n",
    "\n",
    "# set pipeline\n",
    "# ner = nlp.create_pipe(\"ner\")\n",
    "nlp.add_pipe('ner')\n",
    "\n",
    "# for _, annotations in train_data:\n",
    "#     for ent in annotations.get('entities'):\n",
    "#         ner.add_label(ent[2])\n",
    "        \n",
    "# other_pipes = [pipe for pipe in nlp.pipe_names if pipe != 'ner']\n",
    "# with nlp.disable_pipes(*other_pipes):  # only train NER\n",
    "optimizer = nlp.begin_training()\n",
    "epoch = 0\n",
    "all_losses = []\n",
    "for batch in spacy.util.minibatch(train_data, size=1):\n",
    "    np.random.shuffle(train_data)\n",
    "    losses = {}\n",
    "    for text, annotations in batch:\n",
    "            doc = nlp.make_doc(text)\n",
    "            example = Example.from_dict(doc, annotations)\n",
    "            # Update the model\n",
    "            nlp.update([example], sgd = optimizer, losses=losses, drop=0.81)\n",
    "            epoch += 1\n",
    "            all_losses.append(losses)"
   ]
  },
  {
   "cell_type": "code",
   "execution_count": 6,
   "id": "bc032d1d-9d03-4d6e-b107-354c48fdc858",
   "metadata": {},
   "outputs": [],
   "source": [
    "all_losses = [all_losses[i]['ner'] for i in range(len(all_losses))]"
   ]
  },
  {
   "cell_type": "code",
   "execution_count": 7,
   "id": "90c81010-242c-47d2-a17a-dc65a584c5f2",
   "metadata": {},
   "outputs": [
    {
     "data": {
      "text/plain": [
       "[<matplotlib.lines.Line2D at 0x7f1bd9f31250>]"
      ]
     },
     "execution_count": 7,
     "metadata": {},
     "output_type": "execute_result"
    },
    {
     "data": {
      "image/png": "[encoded data removed]",
      "text/plain": [
       "<Figure size 432x288 with 1 Axes>"
      ]
     },
     "metadata": {
      "needs_background": "light"
     },
     "output_type": "display_data"
    }
   ],
   "source": [
    "import matplotlib.pyplot as plt\n",
    "\n",
    "x = list(range(len(all_losses)))\n",
    "y = all_losses\n",
    "\n",
    "plt.plot(x, y)"
   ]
  },
  {
   "cell_type": "code",
   "execution_count": 8,
   "id": "97348835-fb1f-4eb7-88bf-c5a7819a1f9c",
   "metadata": {},
   "outputs": [
    {
     "ename": "FileExistsError",
     "evalue": "[Errno 17] File exists: '/home/macrodrigues/code/macrodrigues/skills_matcher/data/model_1'",
     "output_type": "error",
     "traceback": [
      "\u001b[0;31m---------------------------------------------------------------------------\u001b[0m",
      "\u001b[0;31mFileExistsError\u001b[0m                           Traceback (most recent call last)",
      "\u001b[0;32m/tmp/ipykernel_14169/385250235.py\u001b[0m in \u001b[0;36m<module>\u001b[0;34m\u001b[0m\n\u001b[1;32m      2\u001b[0m \u001b[0;34m\u001b[0m\u001b[0m\n\u001b[1;32m      3\u001b[0m \u001b[0moutput_dir\u001b[0m \u001b[0;34m=\u001b[0m \u001b[0mPath\u001b[0m\u001b[0;34m(\u001b[0m\u001b[0;34m'/home/macrodrigues/code/macrodrigues/skills_matcher/data/model_1'\u001b[0m\u001b[0;34m)\u001b[0m\u001b[0;34m\u001b[0m\u001b[0;34m\u001b[0m\u001b[0m\n\u001b[0;32m----> 4\u001b[0;31m \u001b[0moutput_dir\u001b[0m\u001b[0;34m.\u001b[0m\u001b[0mmkdir\u001b[0m\u001b[0;34m(\u001b[0m\u001b[0;34m)\u001b[0m\u001b[0;34m\u001b[0m\u001b[0;34m\u001b[0m\u001b[0m\n\u001b[0m\u001b[1;32m      5\u001b[0m \u001b[0mnlp\u001b[0m\u001b[0;34m.\u001b[0m\u001b[0mto_disk\u001b[0m\u001b[0;34m(\u001b[0m\u001b[0moutput_dir\u001b[0m\u001b[0;34m)\u001b[0m\u001b[0;34m\u001b[0m\u001b[0;34m\u001b[0m\u001b[0m\n",
      "\u001b[0;32m~/.pyenv/versions/3.8.12/lib/python3.8/pathlib.py\u001b[0m in \u001b[0;36mmkdir\u001b[0;34m(self, mode, parents, exist_ok)\u001b[0m\n\u001b[1;32m   1286\u001b[0m             \u001b[0mself\u001b[0m\u001b[0;34m.\u001b[0m\u001b[0m_raise_closed\u001b[0m\u001b[0;34m(\u001b[0m\u001b[0;34m)\u001b[0m\u001b[0;34m\u001b[0m\u001b[0;34m\u001b[0m\u001b[0m\n\u001b[1;32m   1287\u001b[0m         \u001b[0;32mtry\u001b[0m\u001b[0;34m:\u001b[0m\u001b[0;34m\u001b[0m\u001b[0;34m\u001b[0m\u001b[0m\n\u001b[0;32m-> 1288\u001b[0;31m             \u001b[0mself\u001b[0m\u001b[0;34m.\u001b[0m\u001b[0m_accessor\u001b[0m\u001b[0;34m.\u001b[0m\u001b[0mmkdir\u001b[0m\u001b[0;34m(\u001b[0m\u001b[0mself\u001b[0m\u001b[0;34m,\u001b[0m \u001b[0mmode\u001b[0m\u001b[0;34m)\u001b[0m\u001b[0;34m\u001b[0m\u001b[0;34m\u001b[0m\u001b[0m\n\u001b[0m\u001b[1;32m   1289\u001b[0m         \u001b[0;32mexcept\u001b[0m \u001b[0mFileNotFoundError\u001b[0m\u001b[0;34m:\u001b[0m\u001b[0;34m\u001b[0m\u001b[0;34m\u001b[0m\u001b[0m\n\u001b[1;32m   1290\u001b[0m             \u001b[0;32mif\u001b[0m \u001b[0;32mnot\u001b[0m \u001b[0mparents\u001b[0m \u001b[0;32mor\u001b[0m \u001b[0mself\u001b[0m\u001b[0;34m.\u001b[0m\u001b[0mparent\u001b[0m \u001b[0;34m==\u001b[0m \u001b[0mself\u001b[0m\u001b[0;34m:\u001b[0m\u001b[0;34m\u001b[0m\u001b[0;34m\u001b[0m\u001b[0m\n",
      "\u001b[0;31mFileExistsError\u001b[0m: [Errno 17] File exists: '/home/macrodrigues/code/macrodrigues/skills_matcher/data/model_1'"
     ]
    }
   ],
   "source": [
    "from pathlib import Path\n",
    "\n",
    "output_dir = Path('/home/macrodrigues/code/macrodrigues/skills_matcher/data/model_1')\n",
    "output_dir.mkdir()\n",
    "nlp.to_disk(output_dir)"
   ]
  },
  {
   "cell_type": "code",
   "execution_count": null,
   "id": "27328d76-5112-418f-b9ed-a2a769c43dcf",
   "metadata": {},
   "outputs": [],
   "source": [
    "df = pd.read_csv('/home/macrodrigues/code/macrodrigues/skills_matcher/data/cleaned_data.csv')\n",
    "df = df.dropna()"
   ]
  },
  {
   "cell_type": "code",
   "execution_count": null,
   "id": "6d7cf212-959b-4cbc-be17-7c2389183d9a",
   "metadata": {},
   "outputs": [],
   "source": [
    "raw_text= df.description[460]\n",
    "\n",
    "nlp2 = spacy.load('/home/macrodrigues/code/macrodrigues/skills_matcher/data/model_1')\n",
    "doc = nlp(raw_text)\n",
    "doc2 = nlp2(raw_text)\n",
    "\n",
    "ents = [(e.text, e.start, e.end, e.label_) for e in doc.ents]\n",
    "ents2 = [(e.text, e.start, e.end, e.label_) for e in doc2.ents]\n",
    "#print(ents)\n",
    "displacy.render(doc, style=\"ent\")\n",
    "#displacy.render(doc2, style=\"ent\")\n",
    "\n",
    "ents"
   ]
  },
  {
   "cell_type": "code",
   "execution_count": null,
   "id": "4cad755d-2d67-45f8-96e8-b0404e2984ee",
   "metadata": {},
   "outputs": [],
   "source": [
    "#nlp_skills = spacy.load('/home/macrodrigues/code/macrodrigues/skills_matcher/data/model')\n",
    "nlp_en = spacy.load(\"en_core_web_sm\")\n",
    "doc3 = nlp_en(raw_text)\n",
    "ents3 = [(e.text, e.start, e.end, e.label_) for e in doc3.ents]\n",
    "displacy.render(doc3, style=\"ent\")"
   ]
  },
  {
   "cell_type": "markdown",
   "id": "93d4973e-9613-47de-8171-b6f0b5b88845",
   "metadata": {},
   "source": [
    "## Try model "
   ]
  },
  {
   "cell_type": "code",
   "execution_count": 41,
   "id": "9e010456-ed14-4d6c-b3cb-0e01670820c1",
   "metadata": {},
   "outputs": [],
   "source": [
    "#DATA FOR MODEL\n",
    "\n",
    "data = pd.read_csv('/home/macrodrigues/code/macrodrigues/skills_matcher/data/dictionaries/all_skills.csv')\n",
    "data = data.drop_duplicates()\n",
    "data = data.reset_index().drop(['index'], axis = 1)\n",
    "\n",
    "df = pd.read_csv('/home/macrodrigues/code/macrodrigues/skills_matcher/data/cleaned_data.csv')\n",
    "df = df.dropna()"
   ]
  },
  {
   "cell_type": "code",
   "execution_count": 44,
   "id": "598d3783-26e6-429b-bd6f-d755cf7714ab",
   "metadata": {},
   "outputs": [
    {
     "ename": "FileExistsError",
     "evalue": "[Errno 17] File exists: '/home/macrodrigues/code/macrodrigues/skills_matcher/data/new_model'",
     "output_type": "error",
     "traceback": [
      "\u001b[0;31m---------------------------------------------------------------------------\u001b[0m",
      "\u001b[0;31mFileExistsError\u001b[0m                           Traceback (most recent call last)",
      "\u001b[0;32m/tmp/ipykernel_14169/1198674214.py\u001b[0m in \u001b[0;36m<module>\u001b[0;34m\u001b[0m\n\u001b[1;32m      6\u001b[0m \u001b[0mtrain_data\u001b[0m \u001b[0;34m=\u001b[0m \u001b[0mget_train_data\u001b[0m\u001b[0;34m(\u001b[0m\u001b[0mdata\u001b[0m\u001b[0;34m[\u001b[0m\u001b[0;34m:\u001b[0m\u001b[0;36m100\u001b[0m\u001b[0;34m]\u001b[0m\u001b[0;34m)\u001b[0m\u001b[0;34m\u001b[0m\u001b[0;34m\u001b[0m\u001b[0m\n\u001b[1;32m      7\u001b[0m \u001b[0;34m\u001b[0m\u001b[0m\n\u001b[0;32m----> 8\u001b[0;31m \u001b[0mgenerate_n_save_model\u001b[0m\u001b[0;34m(\u001b[0m\u001b[0mtrain_data\u001b[0m\u001b[0;34m,\u001b[0m \u001b[0;34m'new_model'\u001b[0m\u001b[0;34m,\u001b[0m \u001b[0mlang\u001b[0m\u001b[0;34m=\u001b[0m\u001b[0;34m'en'\u001b[0m\u001b[0;34m,\u001b[0m \u001b[0mpipe\u001b[0m\u001b[0;34m=\u001b[0m\u001b[0;34m'ner'\u001b[0m\u001b[0;34m,\u001b[0m \u001b[0mbatch_size\u001b[0m\u001b[0;34m=\u001b[0m\u001b[0;36m1\u001b[0m\u001b[0;34m,\u001b[0m \u001b[0mdrop\u001b[0m\u001b[0;34m=\u001b[0m\u001b[0;36m0.83\u001b[0m\u001b[0;34m)\u001b[0m\u001b[0;34m\u001b[0m\u001b[0;34m\u001b[0m\u001b[0m\n\u001b[0m",
      "\u001b[0;32m~/code/macrodrigues/skills_matcher/notebooks/model_script.py\u001b[0m in \u001b[0;36mgenerate_n_save_model\u001b[0;34m(train_data, model_name, lang, pipe, batch_size, drop)\u001b[0m\n\u001b[1;32m     55\u001b[0m \u001b[0;34m\u001b[0m\u001b[0m\n\u001b[1;32m     56\u001b[0m     \u001b[0;31m# save model\u001b[0m\u001b[0;34m\u001b[0m\u001b[0;34m\u001b[0m\u001b[0;34m\u001b[0m\u001b[0m\n\u001b[0;32m---> 57\u001b[0;31m     \u001b[0;31m# if os.path.isfile(f\"{PATH}/data/{model_name}\"):\u001b[0m\u001b[0;34m\u001b[0m\u001b[0;34m\u001b[0m\u001b[0;34m\u001b[0m\u001b[0m\n\u001b[0m\u001b[1;32m     58\u001b[0m     \u001b[0;31m#     os.remove(f\"{PATH}/data/{model_name}\")\u001b[0m\u001b[0;34m\u001b[0m\u001b[0;34m\u001b[0m\u001b[0;34m\u001b[0m\u001b[0m\n\u001b[1;32m     59\u001b[0m     \u001b[0;31m# output_dir = f\"{PATH}/data/{model_name}\"\u001b[0m\u001b[0;34m\u001b[0m\u001b[0;34m\u001b[0m\u001b[0;34m\u001b[0m\u001b[0m\n",
      "\u001b[0;32m~/.pyenv/versions/3.8.12/lib/python3.8/pathlib.py\u001b[0m in \u001b[0;36mmkdir\u001b[0;34m(self, mode, parents, exist_ok)\u001b[0m\n\u001b[1;32m   1286\u001b[0m             \u001b[0mself\u001b[0m\u001b[0;34m.\u001b[0m\u001b[0m_raise_closed\u001b[0m\u001b[0;34m(\u001b[0m\u001b[0;34m)\u001b[0m\u001b[0;34m\u001b[0m\u001b[0;34m\u001b[0m\u001b[0m\n\u001b[1;32m   1287\u001b[0m         \u001b[0;32mtry\u001b[0m\u001b[0;34m:\u001b[0m\u001b[0;34m\u001b[0m\u001b[0;34m\u001b[0m\u001b[0m\n\u001b[0;32m-> 1288\u001b[0;31m             \u001b[0mself\u001b[0m\u001b[0;34m.\u001b[0m\u001b[0m_accessor\u001b[0m\u001b[0;34m.\u001b[0m\u001b[0mmkdir\u001b[0m\u001b[0;34m(\u001b[0m\u001b[0mself\u001b[0m\u001b[0;34m,\u001b[0m \u001b[0mmode\u001b[0m\u001b[0;34m)\u001b[0m\u001b[0;34m\u001b[0m\u001b[0;34m\u001b[0m\u001b[0m\n\u001b[0m\u001b[1;32m   1289\u001b[0m         \u001b[0;32mexcept\u001b[0m \u001b[0mFileNotFoundError\u001b[0m\u001b[0;34m:\u001b[0m\u001b[0;34m\u001b[0m\u001b[0;34m\u001b[0m\u001b[0m\n\u001b[1;32m   1290\u001b[0m             \u001b[0;32mif\u001b[0m \u001b[0;32mnot\u001b[0m \u001b[0mparents\u001b[0m \u001b[0;32mor\u001b[0m \u001b[0mself\u001b[0m\u001b[0;34m.\u001b[0m\u001b[0mparent\u001b[0m \u001b[0;34m==\u001b[0m \u001b[0mself\u001b[0m\u001b[0;34m:\u001b[0m\u001b[0;34m\u001b[0m\u001b[0;34m\u001b[0m\u001b[0m\n",
      "\u001b[0;31mFileExistsError\u001b[0m: [Errno 17] File exists: '/home/macrodrigues/code/macrodrigues/skills_matcher/data/new_model'"
     ]
    }
   ],
   "source": [
    "from model_script import get_train_data, generate_n_save_model, get_skills \n",
    "\n",
    "train_data = get_train_data(data[:100])\n",
    "\n",
    "generate_n_save_model(train_data, 'new_model', lang='en', pipe='ner', batch_size=1, drop=0.83)"
   ]
  },
  {
   "cell_type": "code",
   "execution_count": null,
   "id": "b8cfa424-a345-4890-b4dc-365493b3c36e",
   "metadata": {},
   "outputs": [],
   "source": [
    "res = get_skills('new_model', df.description[150])"
   ]
  },
  {
   "cell_type": "code",
   "execution_count": 47,
   "id": "50aae603-11dc-476e-bd73-4775bf2b0755",
   "metadata": {},
   "outputs": [
    {
     "data": {
      "text/plain": [
       "'/home/macrodrigues/code/macrodrigues/skills_matcher'"
      ]
     },
     "execution_count": 47,
     "metadata": {},
     "output_type": "execute_result"
    }
   ],
   "source": [
    "PATH = os.path.dirname(os.getcwd())\n",
    "\n",
    "PATH"
   ]
  },
  {
   "cell_type": "code",
   "execution_count": null,
   "id": "385fa2f8-deb6-4562-8931-4fa04c074a0c",
   "metadata": {},
   "outputs": [],
   "source": []
  }
 ],
 "metadata": {
  "kernelspec": {
   "display_name": "Python 3 (ipykernel)",
   "language": "python",
   "name": "python3"
  },
  "language_info": {
   "codemirror_mode": {
    "name": "ipython",
    "version": 3
   },
   "file_extension": ".py",
   "mimetype": "text/x-python",
   "name": "python",
   "nbconvert_exporter": "python",
   "pygments_lexer": "ipython3",
   "version": "3.8.12"
  }
 },
 "nbformat": 4,
 "nbformat_minor": 5
}
