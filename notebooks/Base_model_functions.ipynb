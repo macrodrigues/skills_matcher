{
 "cells": [
  {
   "cell_type": "code",
   "execution_count": null,
   "id": "1290e5f8-3c67-4cf0-a4ae-350d7a85d6ab",
   "metadata": {},
   "outputs": [],
   "source": [
    "#functions for getting entities text, label, start and end of character position\n",
    "def create_skill_set(text, model = False):\n",
    "    '''Apply basic spacy model and Create a set of the extracted skill entities'''\n",
    "    \n",
    "    if model == True:\n",
    "        nlp_ms = spacy.blank(\"en\")\n",
    "        skill_pattern_path = PATH + \"/data/dictionaries/complete_dict.jsonl\"\n",
    "        ruler = nlp_ms.add_pipe(\"entity_ruler\")\n",
    "        ruler.from_disk(skill_pattern_path)\n",
    "        doc = nlp(text)\n",
    "        \n",
    "    return set([ent.label_.upper()[6:] for ent in doc.ents if 'skill' or 'knowledge' in ent.label_.lower()])\n",
    "\n",
    "def create_skill_position(doc):\n",
    "    '''Create a set of the extracted skill entities of a doc'''\n",
    "    #nlp_doc = nlp_ms(doc)\n",
    "    #[(ent.text, ent.start_char, ent.end_char, ent.label_) for ent in sent.ents]\n",
    "    return list([ent.start_char, ent.end_char, ent.label_] for ent in doc.ents )\n",
    "\n",
    "def create_skill_list(text, model = False):\n",
    "    \n",
    "    if model == True:\n",
    "        nlp_ms = spacy.blank(\"en\")\n",
    "        skill_pattern_path = PATH + \"/data/dictionaries/complete_dict.jsonl\"\n",
    "        ruler = nlp_ms.add_pipe(\"entity_ruler\")\n",
    "        ruler.from_disk(skill_pattern_path)\n",
    "        doc = nlp_ms(text)\n",
    "    \n",
    "    t = list([ent.text] for ent in doc.ents )\n",
    "    flat_list = [item for sublist in t for item in sublist]\n",
    "    return set(flat_list)\n",
    "\n",
    "def match_skills(JD_data_set, cv_set):\n",
    "    '''Get intersection of resume skills and job offer skills and return match percentage'''\n",
    "    pct_list = []\n",
    "    \n",
    "    if len(cv_set) < 1:\n",
    "        print('could not extract skills from resume text')   \n",
    "    else:\n",
    "        #implement function comparing with a list of job_descriptions\n",
    "        for i in range(0, len(JD_set)):\n",
    "            match = cv_set & JD_set[i] \n",
    "            qu = len(cv_set & JD_set[i])\n",
    "            di = len(JD_set[i])\n",
    "            pct_match = round((qu/di) * 100, 2)\n",
    "            pct_list.append([i, pct_match])\n",
    "            \n",
    "        pct_list.sort(key=lambda x: x[1], reverse = True)\n",
    "    \n",
    "        #print(\"Resume has a {}% skill match on job offer\".format(pct_match))\n",
    "        #print('Required skills: {} '.format(JD_set))\n",
    "        #print('Matched skills: {} \\n'.format(JD_set.intersection(skillset_dict[resume_name])))\n",
    "        \n",
    "    return pct_list[0:9]"
   ]
  },
  {
   "cell_type": "code",
   "execution_count": null,
   "id": "3a5db259-67fe-4c5a-b21a-13dfef24726f",
   "metadata": {},
   "outputs": [],
   "source": [
    "df = df.reindex(np.random.permutation(df.index))\n",
    "df = df.copy().iloc[\n",
    "    0:400,\n",
    "]\n",
    "df.head()"
   ]
  },
  {
   "cell_type": "code",
   "execution_count": null,
   "id": "153c4240-2cec-4881-883b-67bccba751a2",
   "metadata": {},
   "outputs": [],
   "source": [
    "fig = px.histogram(\n",
    "    data_cleaned, x=\"job\", title=\"Distribution of Jobs Categories\"\n",
    ").update_xaxes(categoryorder=\"total descending\")\n",
    "fig.show()"
   ]
  }
 ],
 "metadata": {
  "kernelspec": {
   "display_name": "Python 3 (ipykernel)",
   "language": "python",
   "name": "python3"
  },
  "language_info": {
   "codemirror_mode": {
    "name": "ipython",
    "version": 3
   },
   "file_extension": ".py",
   "mimetype": "text/x-python",
   "name": "python",
   "nbconvert_exporter": "python",
   "pygments_lexer": "ipython3",
   "version": "3.8.12"
  }
 },
 "nbformat": 4,
 "nbformat_minor": 5
}
