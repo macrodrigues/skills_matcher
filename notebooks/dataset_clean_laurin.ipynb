{
 "cells": [
  {
   "cell_type": "code",
   "execution_count": 20,
   "id": "cfbbf31c-5a4f-40ae-8635-2e80e3f5bb69",
   "metadata": {},
   "outputs": [],
   "source": [
    "import pandas as pd\n",
    "import numpy as np\n",
    "import os\n",
    "import matplotlib.pyplot as plt\n",
    "import seaborn as sns"
   ]
  },
  {
   "cell_type": "code",
   "execution_count": 21,
   "id": "7a4f8410-b59e-4bb2-b93e-4460ca845d00",
   "metadata": {},
   "outputs": [],
   "source": [
    "import string\n",
    "import nltk\n",
    "from nltk.corpus import stopwords\n",
    "from nltk.corpus import stopwords \n",
    "from nltk.tokenize import word_tokenize\n",
    "from nltk.stem import WordNetLemmatizer\n",
    "from sklearn.naive_bayes import MultinomialNB\n",
    "from sklearn.feature_extraction.text import TfidfVectorizer\n",
    "from sklearn.model_selection import train_test_split\n",
    "from sklearn.metrics import accuracy_score, classification_report, confusion_matrix\n",
    "\n",
    "from textblob import Word\n",
    "from wordcloud import WordCloud"
   ]
  },
  {
   "cell_type": "code",
   "execution_count": null,
   "id": "d8d54b26-aa39-4eb3-9446-0588d333ac11",
   "metadata": {},
   "outputs": [],
   "source": []
  },
  {
   "cell_type": "code",
   "execution_count": 24,
   "id": "27e14e43-79f2-445b-ae86-26c3d47d3c51",
   "metadata": {},
   "outputs": [],
   "source": [
    "df = pd.read_csv('../data/cleaned_data.csv')\n",
    "df = df.drop(['Unnamed: 0'], axis = 1)\n",
    "df = df.dropna()"
   ]
  },
  {
   "cell_type": "code",
   "execution_count": 25,
   "id": "7d2b9331-5a5d-43a7-a43e-85f54e7fb9ee",
   "metadata": {},
   "outputs": [
    {
     "data": {
      "text/plain": [
       "4412"
      ]
     },
     "execution_count": 25,
     "metadata": {},
     "output_type": "execute_result"
    }
   ],
   "source": [
    "len(df)"
   ]
  },
  {
   "cell_type": "code",
   "execution_count": 26,
   "id": "1ccb1b89-a87b-4eb8-b290-67b40b865e2e",
   "metadata": {},
   "outputs": [
    {
     "data": {
      "text/html": [
       "<div>\n",
       "<style scoped>\n",
       "    .dataframe tbody tr th:only-of-type {\n",
       "        vertical-align: middle;\n",
       "    }\n",
       "\n",
       "    .dataframe tbody tr th {\n",
       "        vertical-align: top;\n",
       "    }\n",
       "\n",
       "    .dataframe thead th {\n",
       "        text-align: right;\n",
       "    }\n",
       "</style>\n",
       "<table border=\"1\" class=\"dataframe\">\n",
       "  <thead>\n",
       "    <tr style=\"text-align: right;\">\n",
       "      <th></th>\n",
       "      <th>ISCO</th>\n",
       "      <th>major_job</th>\n",
       "      <th>job</th>\n",
       "      <th>position</th>\n",
       "      <th>location</th>\n",
       "      <th>description</th>\n",
       "    </tr>\n",
       "  </thead>\n",
       "  <tbody>\n",
       "    <tr>\n",
       "      <th>0</th>\n",
       "      <td>21</td>\n",
       "      <td>SCIENCE AND ENGINEERING PROFESSIONALS</td>\n",
       "      <td>physicist</td>\n",
       "      <td>Accelerator Physicist id54315</td>\n",
       "      <td>Villigen PSI, Aargau</td>\n",
       "      <td>[' You have an academic degree in physics or e...</td>\n",
       "    </tr>\n",
       "    <tr>\n",
       "      <th>1</th>\n",
       "      <td>21</td>\n",
       "      <td>SCIENCE AND ENGINEERING PROFESSIONALS</td>\n",
       "      <td>physicist</td>\n",
       "      <td>Applied Physicist (Computing) (EP-LBC-2021-125...</td>\n",
       "      <td>Geneva</td>\n",
       "      <td>[' Be in charge of the development of applicat...</td>\n",
       "    </tr>\n",
       "    <tr>\n",
       "      <th>2</th>\n",
       "      <td>21</td>\n",
       "      <td>SCIENCE AND ENGINEERING PROFESSIONALS</td>\n",
       "      <td>physicist</td>\n",
       "      <td>Accelerator Physicist (BE-ABP-LNO-2021-122-LD)...</td>\n",
       "      <td>Geneva</td>\n",
       "      <td>[' Contribute to the maintenance and developme...</td>\n",
       "    </tr>\n",
       "    <tr>\n",
       "      <th>3</th>\n",
       "      <td>21</td>\n",
       "      <td>SCIENCE AND ENGINEERING PROFESSIONALS</td>\n",
       "      <td>physicist</td>\n",
       "      <td>Medical Devices Physicist</td>\n",
       "      <td>Newton, Cambridgeshire</td>\n",
       "      <td>[' Agency: Newton Colmore Consulting Reference...</td>\n",
       "    </tr>\n",
       "    <tr>\n",
       "      <th>4</th>\n",
       "      <td>21</td>\n",
       "      <td>SCIENCE AND ENGINEERING PROFESSIONALS</td>\n",
       "      <td>physicist</td>\n",
       "      <td>Fluidics Physicist</td>\n",
       "      <td>Cambridge</td>\n",
       "      <td>[' Agency: Newton Colmore Consulting Reference...</td>\n",
       "    </tr>\n",
       "  </tbody>\n",
       "</table>\n",
       "</div>"
      ],
      "text/plain": [
       "   ISCO                              major_job        job  \\\n",
       "0    21  SCIENCE AND ENGINEERING PROFESSIONALS  physicist   \n",
       "1    21  SCIENCE AND ENGINEERING PROFESSIONALS  physicist   \n",
       "2    21  SCIENCE AND ENGINEERING PROFESSIONALS  physicist   \n",
       "3    21  SCIENCE AND ENGINEERING PROFESSIONALS  physicist   \n",
       "4    21  SCIENCE AND ENGINEERING PROFESSIONALS  physicist   \n",
       "\n",
       "                                            position                location  \\\n",
       "0                      Accelerator Physicist id54315    Villigen PSI, Aargau   \n",
       "1  Applied Physicist (Computing) (EP-LBC-2021-125...                  Geneva   \n",
       "2  Accelerator Physicist (BE-ABP-LNO-2021-122-LD)...                  Geneva   \n",
       "3                          Medical Devices Physicist  Newton, Cambridgeshire   \n",
       "4                                 Fluidics Physicist               Cambridge   \n",
       "\n",
       "                                         description  \n",
       "0  [' You have an academic degree in physics or e...  \n",
       "1  [' Be in charge of the development of applicat...  \n",
       "2  [' Contribute to the maintenance and developme...  \n",
       "3  [' Agency: Newton Colmore Consulting Reference...  \n",
       "4  [' Agency: Newton Colmore Consulting Reference...  "
      ]
     },
     "execution_count": 26,
     "metadata": {},
     "output_type": "execute_result"
    }
   ],
   "source": [
    "df.head()"
   ]
  },
  {
   "cell_type": "code",
   "execution_count": 27,
   "id": "a1ffc323-96f4-4946-b341-ccf3fefc8466",
   "metadata": {},
   "outputs": [
    {
     "data": {
      "text/plain": [
       "'[\\' Be in charge of the development of application software, in the context of the needs of the LHCb core and distributed computing groups. Be able to act as liaison between the requirements of LHCb data analysts interfacing with LHCb distributed computing infrastructure. Be using, possibly refactoring, testing, diagnosing, optimizing and integrating existing software, and while doing so you are expected to know about software life-cycle tools and procedures. Be in charge of creating new software solutions, or fully replace existing ones. Work within a small team of applied physicists and software developers. \\', \\' Demonstrated working experience in software development using the Python programming language. Extensive hands-on experience of software and techniques for High Energy Physics data analysis. Experience with the DIRAC software is a plus. \\', \\' Development of application software: in particular for distributed computing. Knowledge of programming techniques and languages: (mainly Python). Re-use, refactoring, integration and porting of existing software. Knowledge and application of software life-cycle tools and procedures. Testing, diagnosing and optimization of software. \\', \" Achieving results: having a structured and organised approach towards work; being able to set priorities and plan tasks with results in mind. Solving problems: being open to original ideas and creative options by which to address issues; continually driving change by seeking new ways to improve outcomes; addressing complex problems by breaking them down into manageable components. Demonstrating flexibility: readily absorbing new techniques and working practices; proposing new or improved ways of working; demonstrating openness to new ideas and situations. Working in teams: cooperating constructively with others in the pursuit of team goals; balancing personal goals with team goals. Learning and sharing knowledge: proposing ways to improve or streamline existing procedures, processes and methodologies; being receptive to others\\' ideas and building on them. \", \\' Ability to draw-up technical specifications and/or scientific reports and to make oral presentations in English. Ability to understand and speak French in professional contexts, or the willingness to acquire it. \\', \\' Work in Radiation Areas. Interventions in underground installations. Work during nights, Sundays and official holidays, when required by the needs of the Organization. \\']'"
      ]
     },
     "execution_count": 27,
     "metadata": {},
     "output_type": "execute_result"
    }
   ],
   "source": [
    "df.description[1]"
   ]
  },
  {
   "cell_type": "code",
   "execution_count": 28,
   "id": "f0a690b7-3d1b-43c8-926c-62f2dc1616b2",
   "metadata": {},
   "outputs": [
    {
     "data": {
      "text/plain": [
       "str"
      ]
     },
     "execution_count": 28,
     "metadata": {},
     "output_type": "execute_result"
    }
   ],
   "source": [
    "type(df.description[0])"
   ]
  },
  {
   "cell_type": "code",
   "execution_count": 29,
   "id": "6bb7f359-cb9e-4ec3-9464-faeec2acfa06",
   "metadata": {},
   "outputs": [],
   "source": [
    "data = df.copy()"
   ]
  },
  {
   "cell_type": "code",
   "execution_count": 30,
   "id": "1dc6e79c-c978-4482-b90e-b512cbd7f8d6",
   "metadata": {},
   "outputs": [],
   "source": [
    "data = data.drop(columns = [\"ISCO\", \"major_job\", \"location\"])"
   ]
  },
  {
   "cell_type": "code",
   "execution_count": 31,
   "id": "8185f600-6e57-4458-9a43-5fffe770c8cc",
   "metadata": {},
   "outputs": [
    {
     "data": {
      "text/html": [
       "<div>\n",
       "<style scoped>\n",
       "    .dataframe tbody tr th:only-of-type {\n",
       "        vertical-align: middle;\n",
       "    }\n",
       "\n",
       "    .dataframe tbody tr th {\n",
       "        vertical-align: top;\n",
       "    }\n",
       "\n",
       "    .dataframe thead th {\n",
       "        text-align: right;\n",
       "    }\n",
       "</style>\n",
       "<table border=\"1\" class=\"dataframe\">\n",
       "  <thead>\n",
       "    <tr style=\"text-align: right;\">\n",
       "      <th></th>\n",
       "      <th>job</th>\n",
       "      <th>position</th>\n",
       "      <th>description</th>\n",
       "    </tr>\n",
       "  </thead>\n",
       "  <tbody>\n",
       "    <tr>\n",
       "      <th>0</th>\n",
       "      <td>physicist</td>\n",
       "      <td>Accelerator Physicist id54315</td>\n",
       "      <td>[' You have an academic degree in physics or e...</td>\n",
       "    </tr>\n",
       "    <tr>\n",
       "      <th>1</th>\n",
       "      <td>physicist</td>\n",
       "      <td>Applied Physicist (Computing) (EP-LBC-2021-125...</td>\n",
       "      <td>[' Be in charge of the development of applicat...</td>\n",
       "    </tr>\n",
       "    <tr>\n",
       "      <th>2</th>\n",
       "      <td>physicist</td>\n",
       "      <td>Accelerator Physicist (BE-ABP-LNO-2021-122-LD)...</td>\n",
       "      <td>[' Contribute to the maintenance and developme...</td>\n",
       "    </tr>\n",
       "    <tr>\n",
       "      <th>3</th>\n",
       "      <td>physicist</td>\n",
       "      <td>Medical Devices Physicist</td>\n",
       "      <td>[' Agency: Newton Colmore Consulting Reference...</td>\n",
       "    </tr>\n",
       "    <tr>\n",
       "      <th>4</th>\n",
       "      <td>physicist</td>\n",
       "      <td>Fluidics Physicist</td>\n",
       "      <td>[' Agency: Newton Colmore Consulting Reference...</td>\n",
       "    </tr>\n",
       "    <tr>\n",
       "      <th>...</th>\n",
       "      <td>...</td>\n",
       "      <td>...</td>\n",
       "      <td>...</td>\n",
       "    </tr>\n",
       "    <tr>\n",
       "      <th>4407</th>\n",
       "      <td>washer</td>\n",
       "      <td>Dishwasher employee</td>\n",
       "      <td>[' Eye for detail and through! You have a real...</td>\n",
       "    </tr>\n",
       "    <tr>\n",
       "      <th>4408</th>\n",
       "      <td>washer</td>\n",
       "      <td>Detail Technician/Fleet Washer/Truck Washer/Au...</td>\n",
       "      <td>[' Paid Training Direct Care (health) Paid Vac...</td>\n",
       "    </tr>\n",
       "    <tr>\n",
       "      <th>4409</th>\n",
       "      <td>washer</td>\n",
       "      <td>Detail Technician/Fleet Washer/Truck Washer/Au...</td>\n",
       "      <td>[' Paid Training Direct Care (health) Paid Vac...</td>\n",
       "    </tr>\n",
       "    <tr>\n",
       "      <th>4410</th>\n",
       "      <td>washer</td>\n",
       "      <td>Detail Technician/Fleet Washer/Truck Washer/Au...</td>\n",
       "      <td>[' Paid Training Direct Care (health) Paid Vac...</td>\n",
       "    </tr>\n",
       "    <tr>\n",
       "      <th>4411</th>\n",
       "      <td>washer</td>\n",
       "      <td>Horeca Medewerker Afwas/Stewarding / Hospitali...</td>\n",
       "      <td>[' Enthousiast en energiek Eerlijk Flexibel in...</td>\n",
       "    </tr>\n",
       "  </tbody>\n",
       "</table>\n",
       "<p>4412 rows × 3 columns</p>\n",
       "</div>"
      ],
      "text/plain": [
       "            job                                           position  \\\n",
       "0     physicist                      Accelerator Physicist id54315   \n",
       "1     physicist  Applied Physicist (Computing) (EP-LBC-2021-125...   \n",
       "2     physicist  Accelerator Physicist (BE-ABP-LNO-2021-122-LD)...   \n",
       "3     physicist                          Medical Devices Physicist   \n",
       "4     physicist                                 Fluidics Physicist   \n",
       "...         ...                                                ...   \n",
       "4407     washer                                Dishwasher employee   \n",
       "4408     washer  Detail Technician/Fleet Washer/Truck Washer/Au...   \n",
       "4409     washer  Detail Technician/Fleet Washer/Truck Washer/Au...   \n",
       "4410     washer  Detail Technician/Fleet Washer/Truck Washer/Au...   \n",
       "4411     washer  Horeca Medewerker Afwas/Stewarding / Hospitali...   \n",
       "\n",
       "                                            description  \n",
       "0     [' You have an academic degree in physics or e...  \n",
       "1     [' Be in charge of the development of applicat...  \n",
       "2     [' Contribute to the maintenance and developme...  \n",
       "3     [' Agency: Newton Colmore Consulting Reference...  \n",
       "4     [' Agency: Newton Colmore Consulting Reference...  \n",
       "...                                                 ...  \n",
       "4407  [' Eye for detail and through! You have a real...  \n",
       "4408  [' Paid Training Direct Care (health) Paid Vac...  \n",
       "4409  [' Paid Training Direct Care (health) Paid Vac...  \n",
       "4410  [' Paid Training Direct Care (health) Paid Vac...  \n",
       "4411  [' Enthousiast en energiek Eerlijk Flexibel in...  \n",
       "\n",
       "[4412 rows x 3 columns]"
      ]
     },
     "execution_count": 31,
     "metadata": {},
     "output_type": "execute_result"
    }
   ],
   "source": [
    "data"
   ]
  },
  {
   "cell_type": "code",
   "execution_count": 32,
   "id": "8039528b-7cae-4992-affb-65217c6be945",
   "metadata": {},
   "outputs": [
    {
     "data": {
      "text/html": [
       "<div>\n",
       "<style scoped>\n",
       "    .dataframe tbody tr th:only-of-type {\n",
       "        vertical-align: middle;\n",
       "    }\n",
       "\n",
       "    .dataframe tbody tr th {\n",
       "        vertical-align: top;\n",
       "    }\n",
       "\n",
       "    .dataframe thead th {\n",
       "        text-align: right;\n",
       "    }\n",
       "</style>\n",
       "<table border=\"1\" class=\"dataframe\">\n",
       "  <thead>\n",
       "    <tr style=\"text-align: right;\">\n",
       "      <th></th>\n",
       "      <th>position</th>\n",
       "      <th>description</th>\n",
       "    </tr>\n",
       "    <tr>\n",
       "      <th>job</th>\n",
       "      <th></th>\n",
       "      <th></th>\n",
       "    </tr>\n",
       "  </thead>\n",
       "  <tbody>\n",
       "    <tr>\n",
       "      <th>accountant</th>\n",
       "      <td>45</td>\n",
       "      <td>45</td>\n",
       "    </tr>\n",
       "    <tr>\n",
       "      <th>administrative assistant</th>\n",
       "      <td>20</td>\n",
       "      <td>20</td>\n",
       "    </tr>\n",
       "    <tr>\n",
       "      <th>administrative manager</th>\n",
       "      <td>14</td>\n",
       "      <td>14</td>\n",
       "    </tr>\n",
       "    <tr>\n",
       "      <th>adviser</th>\n",
       "      <td>17</td>\n",
       "      <td>17</td>\n",
       "    </tr>\n",
       "    <tr>\n",
       "      <th>application developer</th>\n",
       "      <td>25</td>\n",
       "      <td>25</td>\n",
       "    </tr>\n",
       "    <tr>\n",
       "      <th>...</th>\n",
       "      <td>...</td>\n",
       "      <td>...</td>\n",
       "    </tr>\n",
       "    <tr>\n",
       "      <th>verification engineer</th>\n",
       "      <td>52</td>\n",
       "      <td>52</td>\n",
       "    </tr>\n",
       "    <tr>\n",
       "      <th>veterinary surgeon</th>\n",
       "      <td>57</td>\n",
       "      <td>57</td>\n",
       "    </tr>\n",
       "    <tr>\n",
       "      <th>video editor</th>\n",
       "      <td>45</td>\n",
       "      <td>45</td>\n",
       "    </tr>\n",
       "    <tr>\n",
       "      <th>washer</th>\n",
       "      <td>29</td>\n",
       "      <td>29</td>\n",
       "    </tr>\n",
       "    <tr>\n",
       "      <th>web developer</th>\n",
       "      <td>30</td>\n",
       "      <td>30</td>\n",
       "    </tr>\n",
       "  </tbody>\n",
       "</table>\n",
       "<p>159 rows × 2 columns</p>\n",
       "</div>"
      ],
      "text/plain": [
       "                          position  description\n",
       "job                                            \n",
       "accountant                      45           45\n",
       "administrative assistant        20           20\n",
       "administrative manager          14           14\n",
       "adviser                         17           17\n",
       "application developer           25           25\n",
       "...                            ...          ...\n",
       "verification engineer           52           52\n",
       "veterinary surgeon              57           57\n",
       "video editor                    45           45\n",
       "washer                          29           29\n",
       "web developer                   30           30\n",
       "\n",
       "[159 rows x 2 columns]"
      ]
     },
     "execution_count": 32,
     "metadata": {},
     "output_type": "execute_result"
    }
   ],
   "source": [
    "data.groupby(\"job\").count()"
   ]
  },
  {
   "cell_type": "code",
   "execution_count": 33,
   "id": "bf9ad2ef-2781-4331-bdd8-0411ca1ec94d",
   "metadata": {},
   "outputs": [
    {
     "data": {
      "text/plain": [
       "<AxesSubplot:>"
      ]
     },
     "execution_count": 33,
     "metadata": {},
     "output_type": "execute_result"
    },
    {
     "data": {
      "image/png": "[encoded data removed]",
      "text/plain": [
       "<Figure size 2400x800 with 1 Axes>"
      ]
     },
     "metadata": {},
     "output_type": "display_data"
    }
   ],
   "source": [
    "fig=plt.figure(figsize=(30, 10), dpi= 80, facecolor='w', edgecolor='k')\n",
    "data.job.hist()"
   ]
  },
  {
   "cell_type": "code",
   "execution_count": 34,
   "id": "4136d1a4-59b1-4c24-b71f-882d190eb3dc",
   "metadata": {},
   "outputs": [
    {
     "ename": "KeyError",
     "evalue": "'info'",
     "output_type": "error",
     "traceback": [
      "\u001b[0;31m---------------------------------------------------------------------------\u001b[0m",
      "\u001b[0;31mKeyError\u001b[0m                                  Traceback (most recent call last)",
      "\u001b[0;32m~/.pyenv/versions/3.8.12/envs/lewagon/lib/python3.8/site-packages/pandas/core/indexes/base.py\u001b[0m in \u001b[0;36mget_loc\u001b[0;34m(self, key, method, tolerance)\u001b[0m\n\u001b[1;32m   3360\u001b[0m             \u001b[0;32mtry\u001b[0m\u001b[0;34m:\u001b[0m\u001b[0;34m\u001b[0m\u001b[0;34m\u001b[0m\u001b[0m\n\u001b[0;32m-> 3361\u001b[0;31m                 \u001b[0;32mreturn\u001b[0m \u001b[0mself\u001b[0m\u001b[0;34m.\u001b[0m\u001b[0m_engine\u001b[0m\u001b[0;34m.\u001b[0m\u001b[0mget_loc\u001b[0m\u001b[0;34m(\u001b[0m\u001b[0mcasted_key\u001b[0m\u001b[0;34m)\u001b[0m\u001b[0;34m\u001b[0m\u001b[0;34m\u001b[0m\u001b[0m\n\u001b[0m\u001b[1;32m   3362\u001b[0m             \u001b[0;32mexcept\u001b[0m \u001b[0mKeyError\u001b[0m \u001b[0;32mas\u001b[0m \u001b[0merr\u001b[0m\u001b[0;34m:\u001b[0m\u001b[0;34m\u001b[0m\u001b[0;34m\u001b[0m\u001b[0m\n",
      "\u001b[0;32m~/.pyenv/versions/3.8.12/envs/lewagon/lib/python3.8/site-packages/pandas/_libs/index.pyx\u001b[0m in \u001b[0;36mpandas._libs.index.IndexEngine.get_loc\u001b[0;34m()\u001b[0m\n",
      "\u001b[0;32m~/.pyenv/versions/3.8.12/envs/lewagon/lib/python3.8/site-packages/pandas/_libs/index.pyx\u001b[0m in \u001b[0;36mpandas._libs.index.IndexEngine.get_loc\u001b[0;34m()\u001b[0m\n",
      "\u001b[0;32mpandas/_libs/hashtable_class_helper.pxi\u001b[0m in \u001b[0;36mpandas._libs.hashtable.PyObjectHashTable.get_item\u001b[0;34m()\u001b[0m\n",
      "\u001b[0;32mpandas/_libs/hashtable_class_helper.pxi\u001b[0m in \u001b[0;36mpandas._libs.hashtable.PyObjectHashTable.get_item\u001b[0;34m()\u001b[0m\n",
      "\u001b[0;31mKeyError\u001b[0m: 'info'",
      "\nThe above exception was the direct cause of the following exception:\n",
      "\u001b[0;31mKeyError\u001b[0m                                  Traceback (most recent call last)",
      "\u001b[0;32m/tmp/ipykernel_1348/2652663414.py\u001b[0m in \u001b[0;36m<module>\u001b[0;34m\u001b[0m\n\u001b[1;32m      1\u001b[0m \u001b[0;32mfrom\u001b[0m \u001b[0mast\u001b[0m \u001b[0;32mimport\u001b[0m \u001b[0mliteral_eval\u001b[0m\u001b[0;34m\u001b[0m\u001b[0;34m\u001b[0m\u001b[0m\n\u001b[0;32m----> 2\u001b[0;31m \u001b[0mdf\u001b[0m\u001b[0;34m[\u001b[0m\u001b[0;34m'info'\u001b[0m\u001b[0;34m]\u001b[0m \u001b[0;34m=\u001b[0m \u001b[0mdf\u001b[0m\u001b[0;34m[\u001b[0m\u001b[0;34m'info'\u001b[0m\u001b[0;34m]\u001b[0m\u001b[0;34m.\u001b[0m\u001b[0mapply\u001b[0m\u001b[0;34m(\u001b[0m\u001b[0mliteral_eval\u001b[0m\u001b[0;34m)\u001b[0m\u001b[0;34m\u001b[0m\u001b[0;34m\u001b[0m\u001b[0m\n\u001b[0m",
      "\u001b[0;32m~/.pyenv/versions/3.8.12/envs/lewagon/lib/python3.8/site-packages/pandas/core/frame.py\u001b[0m in \u001b[0;36m__getitem__\u001b[0;34m(self, key)\u001b[0m\n\u001b[1;32m   3456\u001b[0m             \u001b[0;32mif\u001b[0m \u001b[0mself\u001b[0m\u001b[0;34m.\u001b[0m\u001b[0mcolumns\u001b[0m\u001b[0;34m.\u001b[0m\u001b[0mnlevels\u001b[0m \u001b[0;34m>\u001b[0m \u001b[0;36m1\u001b[0m\u001b[0;34m:\u001b[0m\u001b[0;34m\u001b[0m\u001b[0;34m\u001b[0m\u001b[0m\n\u001b[1;32m   3457\u001b[0m                 \u001b[0;32mreturn\u001b[0m \u001b[0mself\u001b[0m\u001b[0;34m.\u001b[0m\u001b[0m_getitem_multilevel\u001b[0m\u001b[0;34m(\u001b[0m\u001b[0mkey\u001b[0m\u001b[0;34m)\u001b[0m\u001b[0;34m\u001b[0m\u001b[0;34m\u001b[0m\u001b[0m\n\u001b[0;32m-> 3458\u001b[0;31m             \u001b[0mindexer\u001b[0m \u001b[0;34m=\u001b[0m \u001b[0mself\u001b[0m\u001b[0;34m.\u001b[0m\u001b[0mcolumns\u001b[0m\u001b[0;34m.\u001b[0m\u001b[0mget_loc\u001b[0m\u001b[0;34m(\u001b[0m\u001b[0mkey\u001b[0m\u001b[0;34m)\u001b[0m\u001b[0;34m\u001b[0m\u001b[0;34m\u001b[0m\u001b[0m\n\u001b[0m\u001b[1;32m   3459\u001b[0m             \u001b[0;32mif\u001b[0m \u001b[0mis_integer\u001b[0m\u001b[0;34m(\u001b[0m\u001b[0mindexer\u001b[0m\u001b[0;34m)\u001b[0m\u001b[0;34m:\u001b[0m\u001b[0;34m\u001b[0m\u001b[0;34m\u001b[0m\u001b[0m\n\u001b[1;32m   3460\u001b[0m                 \u001b[0mindexer\u001b[0m \u001b[0;34m=\u001b[0m \u001b[0;34m[\u001b[0m\u001b[0mindexer\u001b[0m\u001b[0;34m]\u001b[0m\u001b[0;34m\u001b[0m\u001b[0;34m\u001b[0m\u001b[0m\n",
      "\u001b[0;32m~/.pyenv/versions/3.8.12/envs/lewagon/lib/python3.8/site-packages/pandas/core/indexes/base.py\u001b[0m in \u001b[0;36mget_loc\u001b[0;34m(self, key, method, tolerance)\u001b[0m\n\u001b[1;32m   3361\u001b[0m                 \u001b[0;32mreturn\u001b[0m \u001b[0mself\u001b[0m\u001b[0;34m.\u001b[0m\u001b[0m_engine\u001b[0m\u001b[0;34m.\u001b[0m\u001b[0mget_loc\u001b[0m\u001b[0;34m(\u001b[0m\u001b[0mcasted_key\u001b[0m\u001b[0;34m)\u001b[0m\u001b[0;34m\u001b[0m\u001b[0;34m\u001b[0m\u001b[0m\n\u001b[1;32m   3362\u001b[0m             \u001b[0;32mexcept\u001b[0m \u001b[0mKeyError\u001b[0m \u001b[0;32mas\u001b[0m \u001b[0merr\u001b[0m\u001b[0;34m:\u001b[0m\u001b[0;34m\u001b[0m\u001b[0;34m\u001b[0m\u001b[0m\n\u001b[0;32m-> 3363\u001b[0;31m                 \u001b[0;32mraise\u001b[0m \u001b[0mKeyError\u001b[0m\u001b[0;34m(\u001b[0m\u001b[0mkey\u001b[0m\u001b[0;34m)\u001b[0m \u001b[0;32mfrom\u001b[0m \u001b[0merr\u001b[0m\u001b[0;34m\u001b[0m\u001b[0;34m\u001b[0m\u001b[0m\n\u001b[0m\u001b[1;32m   3364\u001b[0m \u001b[0;34m\u001b[0m\u001b[0m\n\u001b[1;32m   3365\u001b[0m         \u001b[0;32mif\u001b[0m \u001b[0mis_scalar\u001b[0m\u001b[0;34m(\u001b[0m\u001b[0mkey\u001b[0m\u001b[0;34m)\u001b[0m \u001b[0;32mand\u001b[0m \u001b[0misna\u001b[0m\u001b[0;34m(\u001b[0m\u001b[0mkey\u001b[0m\u001b[0;34m)\u001b[0m \u001b[0;32mand\u001b[0m \u001b[0;32mnot\u001b[0m \u001b[0mself\u001b[0m\u001b[0;34m.\u001b[0m\u001b[0mhasnans\u001b[0m\u001b[0;34m:\u001b[0m\u001b[0;34m\u001b[0m\u001b[0;34m\u001b[0m\u001b[0m\n",
      "\u001b[0;31mKeyError\u001b[0m: 'info'"
     ]
    }
   ],
   "source": [
    "from ast import literal_eval\n",
    "df['info'] = df['info'].apply(literal_eval)"
   ]
  },
  {
   "cell_type": "code",
   "execution_count": 35,
   "id": "b4254ba9-1c87-41a5-902f-a591dd62e49a",
   "metadata": {},
   "outputs": [
    {
     "ename": "KeyError",
     "evalue": "'info'",
     "output_type": "error",
     "traceback": [
      "\u001b[0;31m---------------------------------------------------------------------------\u001b[0m",
      "\u001b[0;31mKeyError\u001b[0m                                  Traceback (most recent call last)",
      "\u001b[0;32m~/.pyenv/versions/3.8.12/envs/lewagon/lib/python3.8/site-packages/pandas/core/indexes/base.py\u001b[0m in \u001b[0;36mget_loc\u001b[0;34m(self, key, method, tolerance)\u001b[0m\n\u001b[1;32m   3360\u001b[0m             \u001b[0;32mtry\u001b[0m\u001b[0;34m:\u001b[0m\u001b[0;34m\u001b[0m\u001b[0;34m\u001b[0m\u001b[0m\n\u001b[0;32m-> 3361\u001b[0;31m                 \u001b[0;32mreturn\u001b[0m \u001b[0mself\u001b[0m\u001b[0;34m.\u001b[0m\u001b[0m_engine\u001b[0m\u001b[0;34m.\u001b[0m\u001b[0mget_loc\u001b[0m\u001b[0;34m(\u001b[0m\u001b[0mcasted_key\u001b[0m\u001b[0;34m)\u001b[0m\u001b[0;34m\u001b[0m\u001b[0;34m\u001b[0m\u001b[0m\n\u001b[0m\u001b[1;32m   3362\u001b[0m             \u001b[0;32mexcept\u001b[0m \u001b[0mKeyError\u001b[0m \u001b[0;32mas\u001b[0m \u001b[0merr\u001b[0m\u001b[0;34m:\u001b[0m\u001b[0;34m\u001b[0m\u001b[0;34m\u001b[0m\u001b[0m\n",
      "\u001b[0;32m~/.pyenv/versions/3.8.12/envs/lewagon/lib/python3.8/site-packages/pandas/_libs/index.pyx\u001b[0m in \u001b[0;36mpandas._libs.index.IndexEngine.get_loc\u001b[0;34m()\u001b[0m\n",
      "\u001b[0;32m~/.pyenv/versions/3.8.12/envs/lewagon/lib/python3.8/site-packages/pandas/_libs/index.pyx\u001b[0m in \u001b[0;36mpandas._libs.index.IndexEngine.get_loc\u001b[0;34m()\u001b[0m\n",
      "\u001b[0;32mpandas/_libs/hashtable_class_helper.pxi\u001b[0m in \u001b[0;36mpandas._libs.hashtable.PyObjectHashTable.get_item\u001b[0;34m()\u001b[0m\n",
      "\u001b[0;32mpandas/_libs/hashtable_class_helper.pxi\u001b[0m in \u001b[0;36mpandas._libs.hashtable.PyObjectHashTable.get_item\u001b[0;34m()\u001b[0m\n",
      "\u001b[0;31mKeyError\u001b[0m: 'info'",
      "\nThe above exception was the direct cause of the following exception:\n",
      "\u001b[0;31mKeyError\u001b[0m                                  Traceback (most recent call last)",
      "\u001b[0;32m/tmp/ipykernel_1348/1904732335.py\u001b[0m in \u001b[0;36m<module>\u001b[0;34m\u001b[0m\n\u001b[0;32m----> 1\u001b[0;31m \u001b[0mdf\u001b[0m\u001b[0;34m[\u001b[0m\u001b[0;34m'info'\u001b[0m\u001b[0;34m]\u001b[0m \u001b[0;34m=\u001b[0m \u001b[0mdf\u001b[0m\u001b[0;34m[\u001b[0m\u001b[0;34m'info'\u001b[0m\u001b[0;34m]\u001b[0m\u001b[0;34m.\u001b[0m\u001b[0mapply\u001b[0m\u001b[0;34m(\u001b[0m\u001b[0mfilter_lists\u001b[0m\u001b[0;34m)\u001b[0m\u001b[0;34m\u001b[0m\u001b[0;34m\u001b[0m\u001b[0m\n\u001b[0m\u001b[1;32m      2\u001b[0m \u001b[0mdf\u001b[0m \u001b[0;34m=\u001b[0m \u001b[0mdf\u001b[0m\u001b[0;34m.\u001b[0m\u001b[0mdropna\u001b[0m\u001b[0;34m(\u001b[0m\u001b[0;34m)\u001b[0m\u001b[0;34m\u001b[0m\u001b[0;34m\u001b[0m\u001b[0m\n",
      "\u001b[0;32m~/.pyenv/versions/3.8.12/envs/lewagon/lib/python3.8/site-packages/pandas/core/frame.py\u001b[0m in \u001b[0;36m__getitem__\u001b[0;34m(self, key)\u001b[0m\n\u001b[1;32m   3456\u001b[0m             \u001b[0;32mif\u001b[0m \u001b[0mself\u001b[0m\u001b[0;34m.\u001b[0m\u001b[0mcolumns\u001b[0m\u001b[0;34m.\u001b[0m\u001b[0mnlevels\u001b[0m \u001b[0;34m>\u001b[0m \u001b[0;36m1\u001b[0m\u001b[0;34m:\u001b[0m\u001b[0;34m\u001b[0m\u001b[0;34m\u001b[0m\u001b[0m\n\u001b[1;32m   3457\u001b[0m                 \u001b[0;32mreturn\u001b[0m \u001b[0mself\u001b[0m\u001b[0;34m.\u001b[0m\u001b[0m_getitem_multilevel\u001b[0m\u001b[0;34m(\u001b[0m\u001b[0mkey\u001b[0m\u001b[0;34m)\u001b[0m\u001b[0;34m\u001b[0m\u001b[0;34m\u001b[0m\u001b[0m\n\u001b[0;32m-> 3458\u001b[0;31m             \u001b[0mindexer\u001b[0m \u001b[0;34m=\u001b[0m \u001b[0mself\u001b[0m\u001b[0;34m.\u001b[0m\u001b[0mcolumns\u001b[0m\u001b[0;34m.\u001b[0m\u001b[0mget_loc\u001b[0m\u001b[0;34m(\u001b[0m\u001b[0mkey\u001b[0m\u001b[0;34m)\u001b[0m\u001b[0;34m\u001b[0m\u001b[0;34m\u001b[0m\u001b[0m\n\u001b[0m\u001b[1;32m   3459\u001b[0m             \u001b[0;32mif\u001b[0m \u001b[0mis_integer\u001b[0m\u001b[0;34m(\u001b[0m\u001b[0mindexer\u001b[0m\u001b[0;34m)\u001b[0m\u001b[0;34m:\u001b[0m\u001b[0;34m\u001b[0m\u001b[0;34m\u001b[0m\u001b[0m\n\u001b[1;32m   3460\u001b[0m                 \u001b[0mindexer\u001b[0m \u001b[0;34m=\u001b[0m \u001b[0;34m[\u001b[0m\u001b[0mindexer\u001b[0m\u001b[0;34m]\u001b[0m\u001b[0;34m\u001b[0m\u001b[0;34m\u001b[0m\u001b[0m\n",
      "\u001b[0;32m~/.pyenv/versions/3.8.12/envs/lewagon/lib/python3.8/site-packages/pandas/core/indexes/base.py\u001b[0m in \u001b[0;36mget_loc\u001b[0;34m(self, key, method, tolerance)\u001b[0m\n\u001b[1;32m   3361\u001b[0m                 \u001b[0;32mreturn\u001b[0m \u001b[0mself\u001b[0m\u001b[0;34m.\u001b[0m\u001b[0m_engine\u001b[0m\u001b[0;34m.\u001b[0m\u001b[0mget_loc\u001b[0m\u001b[0;34m(\u001b[0m\u001b[0mcasted_key\u001b[0m\u001b[0;34m)\u001b[0m\u001b[0;34m\u001b[0m\u001b[0;34m\u001b[0m\u001b[0m\n\u001b[1;32m   3362\u001b[0m             \u001b[0;32mexcept\u001b[0m \u001b[0mKeyError\u001b[0m \u001b[0;32mas\u001b[0m \u001b[0merr\u001b[0m\u001b[0;34m:\u001b[0m\u001b[0;34m\u001b[0m\u001b[0;34m\u001b[0m\u001b[0m\n\u001b[0;32m-> 3363\u001b[0;31m                 \u001b[0;32mraise\u001b[0m \u001b[0mKeyError\u001b[0m\u001b[0;34m(\u001b[0m\u001b[0mkey\u001b[0m\u001b[0;34m)\u001b[0m \u001b[0;32mfrom\u001b[0m \u001b[0merr\u001b[0m\u001b[0;34m\u001b[0m\u001b[0;34m\u001b[0m\u001b[0m\n\u001b[0m\u001b[1;32m   3364\u001b[0m \u001b[0;34m\u001b[0m\u001b[0m\n\u001b[1;32m   3365\u001b[0m         \u001b[0;32mif\u001b[0m \u001b[0mis_scalar\u001b[0m\u001b[0;34m(\u001b[0m\u001b[0mkey\u001b[0m\u001b[0;34m)\u001b[0m \u001b[0;32mand\u001b[0m \u001b[0misna\u001b[0m\u001b[0;34m(\u001b[0m\u001b[0mkey\u001b[0m\u001b[0;34m)\u001b[0m \u001b[0;32mand\u001b[0m \u001b[0;32mnot\u001b[0m \u001b[0mself\u001b[0m\u001b[0;34m.\u001b[0m\u001b[0mhasnans\u001b[0m\u001b[0;34m:\u001b[0m\u001b[0;34m\u001b[0m\u001b[0;34m\u001b[0m\u001b[0m\n",
      "\u001b[0;31mKeyError\u001b[0m: 'info'"
     ]
    }
   ],
   "source": [
    "df['info'] = df['info'].apply(filter_lists)\n",
    "df = df.dropna()"
   ]
  },
  {
   "cell_type": "markdown",
   "id": "3f6d97c7-b32c-435e-9dee-039cc1621732",
   "metadata": {},
   "source": [
    "## Cleaning and remove few counts of Job Positions"
   ]
  },
  {
   "cell_type": "code",
   "execution_count": null,
   "id": "9cca49df-e44f-484e-afd7-e525f45e47f7",
   "metadata": {
    "jupyter": {
     "source_hidden": true
    },
    "tags": []
   },
   "outputs": [],
   "source": [
    "iscos = pd.read_csv('/home/macrodrigues/code/macrodrigues/skills_matcher/data/raw_data/raw_data_0.csv')"
   ]
  },
  {
   "cell_type": "code",
   "execution_count": 36,
   "id": "84287d9f-2133-4dc8-9842-840b6a0e71c7",
   "metadata": {},
   "outputs": [
    {
     "ename": "NameError",
     "evalue": "name 'iscos' is not defined",
     "output_type": "error",
     "traceback": [
      "\u001b[0;31m---------------------------------------------------------------------------\u001b[0m",
      "\u001b[0;31mNameError\u001b[0m                                 Traceback (most recent call last)",
      "\u001b[0;32m/tmp/ipykernel_1348/2639044600.py\u001b[0m in \u001b[0;36m<module>\u001b[0;34m\u001b[0m\n\u001b[0;32m----> 1\u001b[0;31m \u001b[0miscos\u001b[0m \u001b[0;34m=\u001b[0m \u001b[0miscos\u001b[0m\u001b[0;34m.\u001b[0m\u001b[0mrename\u001b[0m\u001b[0;34m(\u001b[0m\u001b[0;34m{\u001b[0m\u001b[0;34m'major_ISCO'\u001b[0m\u001b[0;34m:\u001b[0m \u001b[0;34m'ISCO'\u001b[0m\u001b[0;34m}\u001b[0m\u001b[0;34m,\u001b[0m \u001b[0maxis\u001b[0m \u001b[0;34m=\u001b[0m \u001b[0;36m1\u001b[0m\u001b[0;34m)\u001b[0m\u001b[0;34m\u001b[0m\u001b[0;34m\u001b[0m\u001b[0m\n\u001b[0m\u001b[1;32m      2\u001b[0m \u001b[0miscos\u001b[0m \u001b[0;34m=\u001b[0m \u001b[0miscos\u001b[0m\u001b[0;34m[\u001b[0m\u001b[0;34m[\u001b[0m\u001b[0;34m'ISCO'\u001b[0m\u001b[0;34m,\u001b[0m \u001b[0;34m'major_jobs'\u001b[0m\u001b[0;34m]\u001b[0m\u001b[0;34m]\u001b[0m\u001b[0;34m\u001b[0m\u001b[0;34m\u001b[0m\u001b[0m\n",
      "\u001b[0;31mNameError\u001b[0m: name 'iscos' is not defined"
     ]
    }
   ],
   "source": [
    "iscos = iscos.rename({'major_ISCO': 'ISCO'}, axis = 1)\n",
    "iscos = iscos[['ISCO', 'major_jobs']]"
   ]
  },
  {
   "cell_type": "code",
   "execution_count": 37,
   "id": "ec7dd096-0424-4268-96fc-9972c3252545",
   "metadata": {},
   "outputs": [
    {
     "ename": "NameError",
     "evalue": "name 'iscos' is not defined",
     "output_type": "error",
     "traceback": [
      "\u001b[0;31m---------------------------------------------------------------------------\u001b[0m",
      "\u001b[0;31mNameError\u001b[0m                                 Traceback (most recent call last)",
      "\u001b[0;32m/tmp/ipykernel_1348/3276564550.py\u001b[0m in \u001b[0;36m<module>\u001b[0;34m\u001b[0m\n\u001b[0;32m----> 1\u001b[0;31m \u001b[0mdf\u001b[0m \u001b[0;34m=\u001b[0m \u001b[0mdf\u001b[0m\u001b[0;34m.\u001b[0m\u001b[0mmerge\u001b[0m\u001b[0;34m(\u001b[0m\u001b[0miscos\u001b[0m\u001b[0;34m,\u001b[0m \u001b[0mon\u001b[0m\u001b[0;34m=\u001b[0m\u001b[0;34m'ISCO'\u001b[0m\u001b[0;34m,\u001b[0m \u001b[0mhow\u001b[0m \u001b[0;34m=\u001b[0m \u001b[0;34m'inner'\u001b[0m\u001b[0;34m)\u001b[0m\u001b[0;34m\u001b[0m\u001b[0;34m\u001b[0m\u001b[0m\n\u001b[0m\u001b[1;32m      2\u001b[0m \u001b[0mdf\u001b[0m \u001b[0;34m=\u001b[0m \u001b[0mdf\u001b[0m\u001b[0;34m[\u001b[0m\u001b[0;34m[\u001b[0m\u001b[0;34m'ISCO'\u001b[0m\u001b[0;34m,\u001b[0m \u001b[0;34m'major_jobs'\u001b[0m\u001b[0;34m,\u001b[0m \u001b[0;34m'careers'\u001b[0m\u001b[0;34m,\u001b[0m \u001b[0;34m'career_scraped'\u001b[0m\u001b[0;34m,\u001b[0m \u001b[0;34m'location_scraped'\u001b[0m\u001b[0;34m,\u001b[0m \u001b[0;34m'info'\u001b[0m\u001b[0;34m]\u001b[0m\u001b[0;34m]\u001b[0m\u001b[0;34m\u001b[0m\u001b[0;34m\u001b[0m\u001b[0m\n",
      "\u001b[0;31mNameError\u001b[0m: name 'iscos' is not defined"
     ]
    }
   ],
   "source": [
    "df = df.merge(iscos, on='ISCO', how = 'inner')\n",
    "df = df[['ISCO', 'major_jobs', 'careers', 'career_scraped', 'location_scraped', 'info']]"
   ]
  },
  {
   "cell_type": "code",
   "execution_count": 38,
   "id": "4a8280c6-b8d1-4cd8-8445-603ec8ddf8d4",
   "metadata": {},
   "outputs": [],
   "source": [
    "df = df.rename({'major_jobs': 'major_job', 'careers': 'job', 'career_scraped': 'position', 'location_scraped':'location', 'info': 'description'}, axis = 1)"
   ]
  },
  {
   "cell_type": "code",
   "execution_count": 39,
   "id": "3af27fb8-2554-4c55-be07-4bba4a46eb42",
   "metadata": {},
   "outputs": [
    {
     "data": {
      "text/html": [
       "<div>\n",
       "<style scoped>\n",
       "    .dataframe tbody tr th:only-of-type {\n",
       "        vertical-align: middle;\n",
       "    }\n",
       "\n",
       "    .dataframe tbody tr th {\n",
       "        vertical-align: top;\n",
       "    }\n",
       "\n",
       "    .dataframe thead th {\n",
       "        text-align: right;\n",
       "    }\n",
       "</style>\n",
       "<table border=\"1\" class=\"dataframe\">\n",
       "  <thead>\n",
       "    <tr style=\"text-align: right;\">\n",
       "      <th></th>\n",
       "      <th></th>\n",
       "      <th>position</th>\n",
       "    </tr>\n",
       "    <tr>\n",
       "      <th>ISCO</th>\n",
       "      <th>major_job</th>\n",
       "      <th></th>\n",
       "    </tr>\n",
       "  </thead>\n",
       "  <tbody>\n",
       "    <tr>\n",
       "      <th>12</th>\n",
       "      <th>ADMINISTRATIVE AND COMMERCIAL MANAGERS</th>\n",
       "      <td>321</td>\n",
       "    </tr>\n",
       "    <tr>\n",
       "      <th>21</th>\n",
       "      <th>SCIENCE AND ENGINEERING PROFESSIONALS</th>\n",
       "      <td>885</td>\n",
       "    </tr>\n",
       "    <tr>\n",
       "      <th>22</th>\n",
       "      <th>HEALTH PROFESSIONALS</th>\n",
       "      <td>626</td>\n",
       "    </tr>\n",
       "    <tr>\n",
       "      <th>23</th>\n",
       "      <th>TEACHING PROFESSIONALS</th>\n",
       "      <td>252</td>\n",
       "    </tr>\n",
       "    <tr>\n",
       "      <th>24</th>\n",
       "      <th>BUSINESS AND ADMINISTRATION PROFESSIONALS</th>\n",
       "      <td>288</td>\n",
       "    </tr>\n",
       "    <tr>\n",
       "      <th>25</th>\n",
       "      <th>INFORMATION AND COMMUNICATIONS TECHNOLOGY PROFESSIONALS</th>\n",
       "      <td>447</td>\n",
       "    </tr>\n",
       "    <tr>\n",
       "      <th>31</th>\n",
       "      <th>SCIENCE AND ENGINEERING ASSOCIATE PROFESSIONALS</th>\n",
       "      <td>104</td>\n",
       "    </tr>\n",
       "    <tr>\n",
       "      <th>32</th>\n",
       "      <th>HEALTH ASSOCIATE PROFESSIONALS</th>\n",
       "      <td>73</td>\n",
       "    </tr>\n",
       "    <tr>\n",
       "      <th>33</th>\n",
       "      <th>BUSINESS AND ADMINISTRATION ASSOCIATE PROFESSIONALS</th>\n",
       "      <td>253</td>\n",
       "    </tr>\n",
       "    <tr>\n",
       "      <th>35</th>\n",
       "      <th>INFORMATION AND COMMUNICATIONS TECHNICIANS</th>\n",
       "      <td>94</td>\n",
       "    </tr>\n",
       "    <tr>\n",
       "      <th>42</th>\n",
       "      <th>CUSTOMER SERVICES CLERKS</th>\n",
       "      <td>239</td>\n",
       "    </tr>\n",
       "    <tr>\n",
       "      <th>52</th>\n",
       "      <th>SALES WORKERS</th>\n",
       "      <td>185</td>\n",
       "    </tr>\n",
       "    <tr>\n",
       "      <th>54</th>\n",
       "      <th>PROTECTIVE SERVICES WORKERS</th>\n",
       "      <td>111</td>\n",
       "    </tr>\n",
       "    <tr>\n",
       "      <th>61</th>\n",
       "      <th>MARKET-ORIENTED SKILLED AGRICULTURAL WORKERS</th>\n",
       "      <td>121</td>\n",
       "    </tr>\n",
       "    <tr>\n",
       "      <th>83</th>\n",
       "      <th>DRIVERS AND MOBILE PLANT OPERATORS</th>\n",
       "      <td>211</td>\n",
       "    </tr>\n",
       "    <tr>\n",
       "      <th>91</th>\n",
       "      <th>CLEANERS AND HELPERS</th>\n",
       "      <td>202</td>\n",
       "    </tr>\n",
       "  </tbody>\n",
       "</table>\n",
       "</div>"
      ],
      "text/plain": [
       "                                                         position\n",
       "ISCO major_job                                                   \n",
       "12   ADMINISTRATIVE AND COMMERCIAL MANAGERS                   321\n",
       "21   SCIENCE AND ENGINEERING PROFESSIONALS                    885\n",
       "22   HEALTH PROFESSIONALS                                     626\n",
       "23   TEACHING PROFESSIONALS                                   252\n",
       "24   BUSINESS AND ADMINISTRATION PROFESSIONALS                288\n",
       "25   INFORMATION AND COMMUNICATIONS TECHNOLOGY PROFE...       447\n",
       "31   SCIENCE AND ENGINEERING ASSOCIATE PROFESSIONALS          104\n",
       "32   HEALTH ASSOCIATE PROFESSIONALS                            73\n",
       "33   BUSINESS AND ADMINISTRATION ASSOCIATE PROFESSIO...       253\n",
       "35   INFORMATION AND COMMUNICATIONS TECHNICIANS                94\n",
       "42   CUSTOMER SERVICES CLERKS                                 239\n",
       "52   SALES WORKERS                                            185\n",
       "54   PROTECTIVE SERVICES WORKERS                              111\n",
       "61   MARKET-ORIENTED SKILLED AGRICULTURAL WORKERS             121\n",
       "83   DRIVERS AND MOBILE PLANT OPERATORS                       211\n",
       "91   CLEANERS AND HELPERS                                     202"
      ]
     },
     "execution_count": 39,
     "metadata": {},
     "output_type": "execute_result"
    }
   ],
   "source": [
    "df.groupby(['ISCO', 'major_job']).agg({'position': 'count'})"
   ]
  },
  {
   "cell_type": "markdown",
   "id": "0b57fc51-4291-47b6-9454-4cc8ae3e8f5a",
   "metadata": {},
   "source": [
    "## Data Cleaning"
   ]
  },
  {
   "cell_type": "markdown",
   "id": "a10a6880-a1da-45b5-b814-f40b2fac70b2",
   "metadata": {},
   "source": [
    "# lower case, tabulation/spaces/lines, digits"
   ]
  },
  {
   "cell_type": "code",
   "execution_count": 40,
   "id": "ecb2a22e-c223-43fe-8b66-272adc2447eb",
   "metadata": {},
   "outputs": [
    {
     "name": "stderr",
     "output_type": "stream",
     "text": [
      "/tmp/ipykernel_1348/2207432771.py:5: FutureWarning: The default value of regex will change from True to False in a future version.\n",
      "  data['description'] = data['description'].str.replace('[^\\w\\s]',' ')\n",
      "/tmp/ipykernel_1348/2207432771.py:8: FutureWarning: The default value of regex will change from True to False in a future version.\n",
      "  data['description'] = data['description'].str.replace('\\d+', '')\n"
     ]
    }
   ],
   "source": [
    "## Lower case\n",
    "data['description'] = data['description'].apply(lambda x: \" \".join(x.lower()for x in x.split()))\n",
    "\n",
    "## remove tabulation and punctuation\n",
    "data['description'] = data['description'].str.replace('[^\\w\\s]',' ')\n",
    "\n",
    "## digits\n",
    "data['description'] = data['description'].str.replace('\\d+', '')"
   ]
  },
  {
   "cell_type": "code",
   "execution_count": 41,
   "id": "5d93adaa-de80-40e1-b550-df3398f2fafa",
   "metadata": {},
   "outputs": [
    {
     "data": {
      "text/html": [
       "<div>\n",
       "<style scoped>\n",
       "    .dataframe tbody tr th:only-of-type {\n",
       "        vertical-align: middle;\n",
       "    }\n",
       "\n",
       "    .dataframe tbody tr th {\n",
       "        vertical-align: top;\n",
       "    }\n",
       "\n",
       "    .dataframe thead th {\n",
       "        text-align: right;\n",
       "    }\n",
       "</style>\n",
       "<table border=\"1\" class=\"dataframe\">\n",
       "  <thead>\n",
       "    <tr style=\"text-align: right;\">\n",
       "      <th></th>\n",
       "      <th>job</th>\n",
       "      <th>position</th>\n",
       "      <th>description</th>\n",
       "    </tr>\n",
       "  </thead>\n",
       "  <tbody>\n",
       "    <tr>\n",
       "      <th>0</th>\n",
       "      <td>physicist</td>\n",
       "      <td>Accelerator Physicist id54315</td>\n",
       "      <td>you have an academic degree in physics or e...</td>\n",
       "    </tr>\n",
       "    <tr>\n",
       "      <th>1</th>\n",
       "      <td>physicist</td>\n",
       "      <td>Applied Physicist (Computing) (EP-LBC-2021-125...</td>\n",
       "      <td>be in charge of the development of applicat...</td>\n",
       "    </tr>\n",
       "    <tr>\n",
       "      <th>2</th>\n",
       "      <td>physicist</td>\n",
       "      <td>Accelerator Physicist (BE-ABP-LNO-2021-122-LD)...</td>\n",
       "      <td>contribute to the maintenance and developme...</td>\n",
       "    </tr>\n",
       "    <tr>\n",
       "      <th>3</th>\n",
       "      <td>physicist</td>\n",
       "      <td>Medical Devices Physicist</td>\n",
       "      <td>agency  newton colmore consulting reference...</td>\n",
       "    </tr>\n",
       "    <tr>\n",
       "      <th>4</th>\n",
       "      <td>physicist</td>\n",
       "      <td>Fluidics Physicist</td>\n",
       "      <td>agency  newton colmore consulting reference...</td>\n",
       "    </tr>\n",
       "  </tbody>\n",
       "</table>\n",
       "</div>"
      ],
      "text/plain": [
       "         job                                           position  \\\n",
       "0  physicist                      Accelerator Physicist id54315   \n",
       "1  physicist  Applied Physicist (Computing) (EP-LBC-2021-125...   \n",
       "2  physicist  Accelerator Physicist (BE-ABP-LNO-2021-122-LD)...   \n",
       "3  physicist                          Medical Devices Physicist   \n",
       "4  physicist                                 Fluidics Physicist   \n",
       "\n",
       "                                         description  \n",
       "0     you have an academic degree in physics or e...  \n",
       "1     be in charge of the development of applicat...  \n",
       "2     contribute to the maintenance and developme...  \n",
       "3     agency  newton colmore consulting reference...  \n",
       "4     agency  newton colmore consulting reference...  "
      ]
     },
     "execution_count": 41,
     "metadata": {},
     "output_type": "execute_result"
    }
   ],
   "source": [
    "data.head()"
   ]
  },
  {
   "cell_type": "code",
   "execution_count": 42,
   "id": "48c28a78-a8f0-4e2e-b2f2-9cde6af94b5f",
   "metadata": {},
   "outputs": [
    {
     "data": {
      "text/plain": [
       "'   be in charge of the development of application software  in the context of the needs of the lhcb core and distributed computing groups  be able to act as liaison between the requirements of lhcb data analysts interfacing with lhcb distributed computing infrastructure  be using  possibly refactoring  testing  diagnosing  optimizing and integrating existing software  and while doing so you are expected to know about software life cycle tools and procedures  be in charge of creating new software solutions  or fully replace existing ones  work within a small team of applied physicists and software developers       demonstrated working experience in software development using the python programming language  extensive hands on experience of software and techniques for high energy physics data analysis  experience with the dirac software is a plus       development of application software  in particular for distributed computing  knowledge of programming techniques and languages   mainly python   re use  refactoring  integration and porting of existing software  knowledge and application of software life cycle tools and procedures  testing  diagnosing and optimization of software       achieving results  having a structured and organised approach towards work  being able to set priorities and plan tasks with results in mind  solving problems  being open to original ideas and creative options by which to address issues  continually driving change by seeking new ways to improve outcomes  addressing complex problems by breaking them down into manageable components  demonstrating flexibility  readily absorbing new techniques and working practices  proposing new or improved ways of working  demonstrating openness to new ideas and situations  working in teams  cooperating constructively with others in the pursuit of team goals  balancing personal goals with team goals  learning and sharing knowledge  proposing ways to improve or streamline existing procedures  processes and methodologies  being receptive to others  ideas and building on them       ability to draw up technical specifications and or scientific reports and to make oral presentations in english  ability to understand and speak french in professional contexts  or the willingness to acquire it       work in radiation areas  interventions in underground installations  work during nights  sundays and official holidays  when required by the needs of the organization    '"
      ]
     },
     "execution_count": 42,
     "metadata": {},
     "output_type": "execute_result"
    }
   ],
   "source": [
    "data.description[1]"
   ]
  },
  {
   "cell_type": "markdown",
   "id": "4d6a5b3c-5f2f-44c8-91c4-ef75de9a910d",
   "metadata": {},
   "source": [
    "# -Delete nltk's defined stop words"
   ]
  },
  {
   "cell_type": "code",
   "execution_count": 43,
   "id": "2e12c29a-faa6-418f-b59a-93526d070809",
   "metadata": {},
   "outputs": [],
   "source": [
    "stop = stopwords.words('english')\n",
    "data['description'] = data['description'].apply(lambda x: \" \".join(x for x in x.split() if x not in stop))"
   ]
  },
  {
   "cell_type": "code",
   "execution_count": 44,
   "id": "8e621ef2-85ac-4622-96f3-2a3fc14783c7",
   "metadata": {},
   "outputs": [
    {
     "data": {
      "text/plain": [
       "'charge development application software context needs lhcb core distributed computing groups able act liaison requirements lhcb data analysts interfacing lhcb distributed computing infrastructure using possibly refactoring testing diagnosing optimizing integrating existing software expected know software life cycle tools procedures charge creating new software solutions fully replace existing ones work within small team applied physicists software developers demonstrated working experience software development using python programming language extensive hands experience software techniques high energy physics data analysis experience dirac software plus development application software particular distributed computing knowledge programming techniques languages mainly python use refactoring integration porting existing software knowledge application software life cycle tools procedures testing diagnosing optimization software achieving results structured organised approach towards work able set priorities plan tasks results mind solving problems open original ideas creative options address issues continually driving change seeking new ways improve outcomes addressing complex problems breaking manageable components demonstrating flexibility readily absorbing new techniques working practices proposing new improved ways working demonstrating openness new ideas situations working teams cooperating constructively others pursuit team goals balancing personal goals team goals learning sharing knowledge proposing ways improve streamline existing procedures processes methodologies receptive others ideas building ability draw technical specifications scientific reports make oral presentations english ability understand speak french professional contexts willingness acquire work radiation areas interventions underground installations work nights sundays official holidays required needs organization'"
      ]
     },
     "execution_count": 44,
     "metadata": {},
     "output_type": "execute_result"
    }
   ],
   "source": [
    "data.description[1]"
   ]
  },
  {
   "cell_type": "markdown",
   "id": "e44cebb6-60f3-48ae-88aa-ddadf608dda3",
   "metadata": {},
   "source": [
    "# -Lemmatize text"
   ]
  },
  {
   "cell_type": "code",
   "execution_count": 45,
   "id": "8cd9e884-a296-471d-8add-f6880e578915",
   "metadata": {},
   "outputs": [],
   "source": [
    "#nltk lemmatizer\n",
    "\n",
    "lemmatizer = WordNetLemmatizer()"
   ]
  },
  {
   "cell_type": "code",
   "execution_count": 47,
   "id": "5cf56e25-975d-4ad8-abf7-1faeac80ba35",
   "metadata": {
    "tags": []
   },
   "outputs": [],
   "source": [
    "data['description'] = data['description'].apply(lambda x: \" \".join([lemmatizer.lemmatize(word) for word in x.split()]))"
   ]
  },
  {
   "cell_type": "code",
   "execution_count": 107,
   "id": "789f4ca5-7ed7-4fc2-b972-60d5f408f5bc",
   "metadata": {},
   "outputs": [
    {
     "data": {
      "text/plain": [
       "'charge development application software context need lhcb core distributed computing group able act liaison requirement lhcb data analyst interfacing lhcb distributed computing infrastructure using possibly refactoring testing diagnosing optimizing integrating existing software expected know software life cycle tool procedure charge creating new software solution fully replace existing one work within small team applied physicist software developer demonstrated working experience software development using python programming language extensive hand experience software technique high energy physic data analysis experience dirac software plus development application software particular distributed computing knowledge programming technique language mainly python use refactoring integration porting existing software knowledge application software life cycle tool procedure testing diagnosing optimization software achieving result structured organised approach towards work able set priority plan task result mind solving problem open original idea creative option address issue continually driving change seeking new way improve outcome addressing complex problem breaking manageable component demonstrating flexibility readily absorbing new technique working practice proposing new improved way working demonstrating openness new idea situation working team cooperating constructively others pursuit team goal balancing personal goal team goal learning sharing knowledge proposing way improve streamline existing procedure process methodology receptive others idea building ability draw technical specification scientific report make oral presentation english ability understand speak french professional context willingness acquire work radiation area intervention underground installation work night sunday official holiday required need organization'"
      ]
     },
     "execution_count": 107,
     "metadata": {},
     "output_type": "execute_result"
    }
   ],
   "source": [
    "data_lemma.description[1]"
   ]
  },
  {
   "cell_type": "code",
   "execution_count": 51,
   "id": "3a274752-80fa-4997-99d9-e09fe41b59bc",
   "metadata": {
    "tags": []
   },
   "outputs": [],
   "source": [
    "data_wo_pos = data_lemma.drop(columns = \"position\")"
   ]
  },
  {
   "cell_type": "code",
   "execution_count": 52,
   "id": "e5502ab6-c6ff-46b7-a05b-a47cc08e9b16",
   "metadata": {},
   "outputs": [
    {
     "data": {
      "text/html": [
       "<div>\n",
       "<style scoped>\n",
       "    .dataframe tbody tr th:only-of-type {\n",
       "        vertical-align: middle;\n",
       "    }\n",
       "\n",
       "    .dataframe tbody tr th {\n",
       "        vertical-align: top;\n",
       "    }\n",
       "\n",
       "    .dataframe thead th {\n",
       "        text-align: right;\n",
       "    }\n",
       "</style>\n",
       "<table border=\"1\" class=\"dataframe\">\n",
       "  <thead>\n",
       "    <tr style=\"text-align: right;\">\n",
       "      <th></th>\n",
       "      <th>job</th>\n",
       "      <th>description</th>\n",
       "    </tr>\n",
       "  </thead>\n",
       "  <tbody>\n",
       "    <tr>\n",
       "      <th>0</th>\n",
       "      <td>physicist</td>\n",
       "      <td>academic degree physic engineering profound kn...</td>\n",
       "    </tr>\n",
       "    <tr>\n",
       "      <th>1</th>\n",
       "      <td>physicist</td>\n",
       "      <td>charge development application software contex...</td>\n",
       "    </tr>\n",
       "    <tr>\n",
       "      <th>2</th>\n",
       "      <td>physicist</td>\n",
       "      <td>contribute maintenance development optic model...</td>\n",
       "    </tr>\n",
       "    <tr>\n",
       "      <th>3</th>\n",
       "      <td>physicist</td>\n",
       "      <td>agency newton colmore consulting reference mdp...</td>\n",
       "    </tr>\n",
       "    <tr>\n",
       "      <th>4</th>\n",
       "      <td>physicist</td>\n",
       "      <td>agency newton colmore consulting reference fpc...</td>\n",
       "    </tr>\n",
       "  </tbody>\n",
       "</table>\n",
       "</div>"
      ],
      "text/plain": [
       "         job                                        description\n",
       "0  physicist  academic degree physic engineering profound kn...\n",
       "1  physicist  charge development application software contex...\n",
       "2  physicist  contribute maintenance development optic model...\n",
       "3  physicist  agency newton colmore consulting reference mdp...\n",
       "4  physicist  agency newton colmore consulting reference fpc..."
      ]
     },
     "execution_count": 52,
     "metadata": {},
     "output_type": "execute_result"
    }
   ],
   "source": [
    "data_wo_pos.head()"
   ]
  },
  {
   "cell_type": "code",
   "execution_count": 53,
   "id": "d9bd55ab-e32b-4966-a67c-176bdeede527",
   "metadata": {},
   "outputs": [
    {
     "name": "stdout",
     "output_type": "stream",
     "text": [
      "Aggregated job descriptions: \n",
      "\n",
      "                          job  \\\n",
      "0                  accountant   \n",
      "1    administrative assistant   \n",
      "2      administrative manager   \n",
      "3                     adviser   \n",
      "4       application developer   \n",
      "..                        ...   \n",
      "154     verification engineer   \n",
      "155        veterinary surgeon   \n",
      "156              video editor   \n",
      "157                    washer   \n",
      "158             web developer   \n",
      "\n",
      "                                           description  \n",
      "0    supporting cross functional team reach functio...  \n",
      "1    support manager employee variety task related ...  \n",
      "2    manage branch administration including branch ...  \n",
      "3    customer service advisor operational hour mon ...  \n",
      "4    profound knowledge visual studio c blazor asp ...  \n",
      "..                                                 ...  \n",
      "154  take full responsibility verification design b...  \n",
      "155  hour week including weekend ooh varied caseloa...  \n",
      "156  creating content fulfill company social medium...  \n",
      "157  preparing vehicle readiness returned customer ...  \n",
      "158  develop user journey enhancing engagement pers...  \n",
      "\n",
      "[159 rows x 2 columns]\n"
     ]
    }
   ],
   "source": [
    "## jda stands for job description aggregated\n",
    "jda = data_wo_pos.groupby(['job']).sum().reset_index()\n",
    "print(\"Aggregated job descriptions: \\n\")\n",
    "print(jda)"
   ]
  },
  {
   "cell_type": "code",
   "execution_count": null,
   "id": "17dc422c-5c6f-4410-8b9e-551815a74f88",
   "metadata": {},
   "outputs": [],
   "source": [
    "## Visualize data\n",
    "jobs_list = jda.job.unique().tolist()\n",
    "for job in jobs_list:\n",
    "\n",
    "    # Start with one review:\n",
    "    text = jda[jda.job == job].iloc[0].description\n",
    "    # Create and generate a word cloud image:\n",
    "    wordcloud = WordCloud().generate(text)\n",
    "    print(\"\\n***\",job,\"***\\n\")\n",
    "    # Display the generated image:\n",
    "    plt.imshow(wordcloud, interpolation='bilinear')\n",
    "    plt.axis(\"off\")\n",
    "    plt.show()"
   ]
  },
  {
   "cell_type": "code",
   "execution_count": null,
   "id": "2e0d9254-7c93-4a59-93f9-886208c84d57",
   "metadata": {},
   "outputs": [],
   "source": [
    "### Delete sentences of job description with (for skill description) unnecessary words, f.e. describing benefits (meals) "
   ]
  },
  {
   "cell_type": "code",
   "execution_count": 63,
   "id": "b0a35c7b-ebba-41be-bde4-07430f6c9230",
   "metadata": {},
   "outputs": [
    {
     "data": {
      "text/html": [
       "<div>\n",
       "<style scoped>\n",
       "    .dataframe tbody tr th:only-of-type {\n",
       "        vertical-align: middle;\n",
       "    }\n",
       "\n",
       "    .dataframe tbody tr th {\n",
       "        vertical-align: top;\n",
       "    }\n",
       "\n",
       "    .dataframe thead th {\n",
       "        text-align: right;\n",
       "    }\n",
       "</style>\n",
       "<table border=\"1\" class=\"dataframe\">\n",
       "  <thead>\n",
       "    <tr style=\"text-align: right;\">\n",
       "      <th></th>\n",
       "      <th>job</th>\n",
       "      <th>description</th>\n",
       "    </tr>\n",
       "  </thead>\n",
       "  <tbody>\n",
       "    <tr>\n",
       "      <th>0</th>\n",
       "      <td>accountant</td>\n",
       "      <td>supporting cross functional team reach functio...</td>\n",
       "    </tr>\n",
       "    <tr>\n",
       "      <th>1</th>\n",
       "      <td>administrative assistant</td>\n",
       "      <td>support manager employee variety task related ...</td>\n",
       "    </tr>\n",
       "    <tr>\n",
       "      <th>2</th>\n",
       "      <td>administrative manager</td>\n",
       "      <td>manage branch administration including branch ...</td>\n",
       "    </tr>\n",
       "    <tr>\n",
       "      <th>3</th>\n",
       "      <td>adviser</td>\n",
       "      <td>customer service advisor operational hour mon ...</td>\n",
       "    </tr>\n",
       "    <tr>\n",
       "      <th>4</th>\n",
       "      <td>application developer</td>\n",
       "      <td>profound knowledge visual studio c blazor asp ...</td>\n",
       "    </tr>\n",
       "  </tbody>\n",
       "</table>\n",
       "</div>"
      ],
      "text/plain": [
       "                        job                                        description\n",
       "0                accountant  supporting cross functional team reach functio...\n",
       "1  administrative assistant  support manager employee variety task related ...\n",
       "2    administrative manager  manage branch administration including branch ...\n",
       "3                   adviser  customer service advisor operational hour mon ...\n",
       "4     application developer  profound knowledge visual studio c blazor asp ..."
      ]
     },
     "execution_count": 63,
     "metadata": {},
     "output_type": "execute_result"
    }
   ],
   "source": [
    "jda.head(5)"
   ]
  },
  {
   "cell_type": "code",
   "execution_count": 64,
   "id": "0c3bdc6b-ca99-402f-8c61-b6cbd825c68d",
   "metadata": {},
   "outputs": [
    {
     "name": "stdout",
     "output_type": "stream",
     "text": [
      "train data shape:  (127, 19630)\n",
      "test data shape:  (32, 19630)\n"
     ]
    }
   ],
   "source": [
    "#converting features to vectorizer\n",
    "vectorizer = TfidfVectorizer()\n",
    "\n",
    "X = vectorizer.fit_transform(jda.description)\n",
    "\n",
    "y = jda.job\n",
    "\n",
    "#train-test-split\n",
    "X_train, X_test, y_train, y_test = train_test_split(X, y, test_size=0.2,random_state=42) \n",
    "print(\"train data shape: \",X_train.shape)\n",
    "print(\"test data shape: \",X_test.shape)\n"
   ]
  },
  {
   "cell_type": "code",
   "execution_count": 65,
   "id": "06a171ba-5da0-4208-8b91-71ae9f154fe2",
   "metadata": {},
   "outputs": [
    {
     "data": {
      "text/plain": [
       "<AxesSubplot:>"
      ]
     },
     "execution_count": 65,
     "metadata": {},
     "output_type": "execute_result"
    },
    {
     "data": {
      "image/png": "[encoded data removed]",
      "text/plain": [
       "<Figure size 432x288 with 1 Axes>"
      ]
     },
     "metadata": {
      "needs_background": "light"
     },
     "output_type": "display_data"
    }
   ],
   "source": [
    "y_train.hist()\n",
    "y_test.hist()"
   ]
  },
  {
   "cell_type": "code",
   "execution_count": 85,
   "id": "be3e95d3-a1a4-4b12-96d4-5ff913263280",
   "metadata": {},
   "outputs": [
    {
     "data": {
      "text/plain": [
       "(127,)"
      ]
     },
     "execution_count": 85,
     "metadata": {},
     "output_type": "execute_result"
    }
   ],
   "source": [
    "y_train.shape"
   ]
  },
  {
   "cell_type": "code",
   "execution_count": 84,
   "id": "d931ebd3-199a-43d7-9253-60d17cc7b03e",
   "metadata": {},
   "outputs": [
    {
     "data": {
      "text/plain": [
       "78                       marketer\n",
       "155            veterinary surgeon\n",
       "128                security guard\n",
       "55     field sales representative\n",
       "94             night receptionist\n",
       "29              computing teacher\n",
       "147              testing engineer\n",
       "51          environmental manager\n",
       "98            operations engineer\n",
       "141          switchboard operator\n",
       "19                   cardiologist\n",
       "60              geography teacher\n",
       "15                     bookkeeper\n",
       "65                 hydrogeologist\n",
       "24        chief financial officer\n",
       "30             conference manager\n",
       "126                   salesperson\n",
       "101               organic chemist\n",
       "96                   nutritionist\n",
       "16                     bus driver\n",
       "Name: job, dtype: object"
      ]
     },
     "execution_count": 84,
     "metadata": {},
     "output_type": "execute_result"
    }
   ],
   "source": [
    "y_test.head(20)"
   ]
  },
  {
   "cell_type": "code",
   "execution_count": null,
   "id": "de7460fd-0cb9-485e-82b1-958b3f7400c0",
   "metadata": {},
   "outputs": [],
   "source": [
    "nb_model = MultinomialNB()import pandas as pd\n",
    "\n",
    "nb_model.fit(X_train, y_train)\n",
    "\n",
    "y_predict = nb_model.predict(X_test)"
   ]
  },
  {
   "cell_type": "code",
   "execution_count": 92,
   "id": "c7c2f532-69e7-4ee9-8984-c07abb94ab8e",
   "metadata": {},
   "outputs": [
    {
     "data": {
      "text/plain": [
       "0.0"
      ]
     },
     "execution_count": 92,
     "metadata": {},
     "output_type": "execute_result"
    }
   ],
   "source": [
    "nb_model.score(X_test,y_test)"
   ]
  },
  {
   "cell_type": "code",
   "execution_count": 93,
   "id": "dcb13623-38ee-4f87-aaa6-753cd5b35d83",
   "metadata": {},
   "outputs": [
    {
     "name": "stdout",
     "output_type": "stream",
     "text": [
      "Accuracy score is:  0.0\n",
      "Classes: (to help read Confusion Matrix)\n",
      " ['accountant' 'administrative assistant' 'administrative manager'\n",
      " 'adviser' 'application developer' 'application engineer' 'art teacher'\n",
      " 'attendant' 'audiologist' 'auditor' 'biochemist' 'biostatistician'\n",
      " 'blockchain developer' 'buyer' 'cash manager' 'cashier' 'chemist'\n",
      " 'chief accountant' 'civil engineer' 'cleaner' 'cleaning manager'\n",
      " 'clinical physiologist' 'copywriter' 'customer adviser' 'cybersecurity'\n",
      " 'data analyst' 'data engineer' 'data scientist' 'database developer'\n",
      " 'database engineer' 'dealer' 'dental nurse' 'dentist'\n",
      " 'development engineer' 'dietitian' 'distributor' 'doorman'\n",
      " 'drama teacher' 'dumper driver' 'ecologist' 'environmental engineer'\n",
      " 'epidemiologist' 'excavator operator' 'export sales manager' 'florist'\n",
      " 'gardener' 'geneticist' 'geologist' 'group leader' 'hotel receptionist'\n",
      " 'housekeeper' 'immunologist' 'inspection engineer' 'inspector'\n",
      " 'instrument engineer' 'laboratory manager' 'language teacher' 'lender'\n",
      " 'lifeguard' 'machine learning engineer' 'maintenance engineer' 'manager'\n",
      " 'marketing director' 'marketing manager' 'mathematician'\n",
      " 'mechanical designer' 'mechanical engineer' 'mechatronics engineer'\n",
      " 'media consultant' 'media planner' 'medical officer' 'microbiologist'\n",
      " 'model' 'molecular biologist' 'music teacher' 'nanny' 'neurophysiologist'\n",
      " 'oncologist' 'operations technician' 'ophthalmologist' 'orthodontist'\n",
      " 'pathologist' 'pharmacist' 'pharmacy technician' 'physicist'\n",
      " 'physiologist' 'physiotherapist' 'planning director' 'plant engineer'\n",
      " 'primary school teacher' 'process chemist' 'process engineer'\n",
      " 'product developer' 'product manager' 'project engineer' 'psychiatrist'\n",
      " 'radiologist' 'receptionist' 'recruitment officer'\n",
      " 'recruitment researcher' 'research manager' 'sales director'\n",
      " 'sales manager' 'security analyst' 'shop assistant' 'shop supervisor'\n",
      " 'shunter' 'shunter driver' 'software designer' 'special needs teacher'\n",
      " 'staff officer' 'statistician' 'supervisor' 'supply teacher' 'surgeon'\n",
      " 'system designer' 'system developer' 'system engineer' 'telemarketer'\n",
      " 'therapist' 'toxicologist' 'traffic engineer' 'ux designer'\n",
      " 'verification engineer' 'video editor' 'washer' 'web developer']\n",
      "Confusion Matrix: \n",
      "[[0 0 0 ... 0 0 0]\n",
      " [0 0 0 ... 0 0 0]\n",
      " [0 0 0 ... 0 0 0]\n",
      " ...\n",
      " [0 0 0 ... 0 1 0]\n",
      " [0 0 0 ... 0 0 0]\n",
      " [0 0 0 ... 0 0 0]]\n",
      "Classification Report: \n",
      "                            precision    recall  f1-score   support\n",
      "\n",
      "                accountant       0.00      0.00      0.00       0.0\n",
      "               art teacher       0.00      0.00      0.00       0.0\n",
      "           audit assistant       0.00      0.00      0.00       1.0\n",
      "                   auditor       0.00      0.00      0.00       0.0\n",
      "                 biologist       0.00      0.00      0.00       1.0\n",
      "                bookkeeper       0.00      0.00      0.00       1.0\n",
      "                bus driver       0.00      0.00      0.00       1.0\n",
      "                car driver       0.00      0.00      0.00       1.0\n",
      "              cardiologist       0.00      0.00      0.00       1.0\n",
      "                   chemist       0.00      0.00      0.00       0.0\n",
      "          chief accountant       0.00      0.00      0.00       0.0\n",
      "   chief financial officer       0.00      0.00      0.00       1.0\n",
      "         computing teacher       0.00      0.00      0.00       1.0\n",
      "        conference manager       0.00      0.00      0.00       1.0\n",
      "      construction planner       0.00      0.00      0.00       1.0\n",
      "              dental nurse       0.00      0.00      0.00       0.0\n",
      "      development engineer       0.00      0.00      0.00       0.0\n",
      "             drama teacher       0.00      0.00      0.00       0.0\n",
      "    environmental engineer       0.00      0.00      0.00       0.0\n",
      "     environmental manager       0.00      0.00      0.00       1.0\n",
      "field sales representative       0.00      0.00      0.00       1.0\n",
      "         financial analyst       0.00      0.00      0.00       1.0\n",
      "                  gardener       0.00      0.00      0.00       0.0\n",
      "         geography teacher       0.00      0.00      0.00       1.0\n",
      "                 geologist       0.00      0.00      0.00       0.0\n",
      "        hotel receptionist       0.00      0.00      0.00       0.0\n",
      "            hydrogeologist       0.00      0.00      0.00       1.0\n",
      "     maintenance operative       0.00      0.00      0.00       1.0\n",
      "                   manager       0.00      0.00      0.00       0.0\n",
      "                  marketer       0.00      0.00      0.00       1.0\n",
      "         marketing manager       0.00      0.00      0.00       0.0\n",
      "       molecular biologist       0.00      0.00      0.00       0.0\n",
      "        night receptionist       0.00      0.00      0.00       1.0\n",
      "                     nurse       0.00      0.00      0.00       1.0\n",
      "              nutritionist       0.00      0.00      0.00       1.0\n",
      "                oncologist       0.00      0.00      0.00       0.0\n",
      "       operations engineer       0.00      0.00      0.00       1.0\n",
      "           organic chemist       0.00      0.00      0.00       1.0\n",
      "               pathologist       0.00      0.00      0.00       0.0\n",
      "          project engineer       0.00      0.00      0.00       0.0\n",
      "              receptionist       0.00      0.00      0.00       0.0\n",
      "            sales director       0.00      0.00      0.00       0.0\n",
      "             sales manager       0.00      0.00      0.00       0.0\n",
      "          sales supervisor       0.00      0.00      0.00       1.0\n",
      "               salesperson       0.00      0.00      0.00       1.0\n",
      "            security guard       0.00      0.00      0.00       1.0\n",
      "                   shunter       0.00      0.00      0.00       0.0\n",
      "          speech therapist       0.00      0.00      0.00       1.0\n",
      "                   surgeon       0.00      0.00      0.00       0.0\n",
      "      switchboard operator       0.00      0.00      0.00       1.0\n",
      "           system engineer       0.00      0.00      0.00       0.0\n",
      "         system programmer       0.00      0.00      0.00       1.0\n",
      "          testing engineer       0.00      0.00      0.00       1.0\n",
      "                 therapist       0.00      0.00      0.00       0.0\n",
      "              travel agent       0.00      0.00      0.00       1.0\n",
      "               ui designer       0.00      0.00      0.00       1.0\n",
      "               ux designer       0.00      0.00      0.00       0.0\n",
      "        veterinary surgeon       0.00      0.00      0.00       1.0\n",
      "\n",
      "                  accuracy                           0.00      32.0\n",
      "                 macro avg       0.00      0.00      0.00      32.0\n",
      "              weighted avg       0.00      0.00      0.00      32.0\n",
      "\n"
     ]
    }
   ],
   "source": [
    "print(\"Accuracy score is: \",accuracy_score(y_test, y_predict))\n",
    "print(\"Classes: (to help read Confusion Matrix)\\n\", nb_model.classes_)\n",
    "print(\"Confusion Matrix: \")\n",
    "\n",
    "print(confusion_matrix(y_test, y_predict))\n",
    "print(\"Classification Report: \")\n",
    "print(classification_report(y_test, y_predict))"
   ]
  },
  {
   "cell_type": "markdown",
   "id": "03271980-17c3-4677-bfa0-d1227fcc4cd3",
   "metadata": {},
   "source": [
    "## Name Entity Recognition"
   ]
  },
  {
   "cell_type": "code",
   "execution_count": 102,
   "id": "89661e36-7ac7-4e68-a51e-3afdf22ac2b7",
   "metadata": {},
   "outputs": [
    {
     "data": {
      "text/html": [
       "<div>\n",
       "<style scoped>\n",
       "    .dataframe tbody tr th:only-of-type {\n",
       "        vertical-align: middle;\n",
       "    }\n",
       "\n",
       "    .dataframe tbody tr th {\n",
       "        vertical-align: top;\n",
       "    }\n",
       "\n",
       "    .dataframe thead th {\n",
       "        text-align: right;\n",
       "    }\n",
       "</style>\n",
       "<table border=\"1\" class=\"dataframe\">\n",
       "  <thead>\n",
       "    <tr style=\"text-align: right;\">\n",
       "      <th></th>\n",
       "      <th>ISCO</th>\n",
       "      <th>major_job</th>\n",
       "      <th>job</th>\n",
       "      <th>position</th>\n",
       "      <th>location</th>\n",
       "      <th>description</th>\n",
       "    </tr>\n",
       "  </thead>\n",
       "  <tbody>\n",
       "    <tr>\n",
       "      <th>0</th>\n",
       "      <td>21</td>\n",
       "      <td>SCIENCE AND ENGINEERING PROFESSIONALS</td>\n",
       "      <td>physicist</td>\n",
       "      <td>Accelerator Physicist id54315</td>\n",
       "      <td>Villigen PSI, Aargau</td>\n",
       "      <td>[' You have an academic degree in physics or e...</td>\n",
       "    </tr>\n",
       "    <tr>\n",
       "      <th>1</th>\n",
       "      <td>21</td>\n",
       "      <td>SCIENCE AND ENGINEERING PROFESSIONALS</td>\n",
       "      <td>physicist</td>\n",
       "      <td>Applied Physicist (Computing) (EP-LBC-2021-125...</td>\n",
       "      <td>Geneva</td>\n",
       "      <td>[' Be in charge of the development of applicat...</td>\n",
       "    </tr>\n",
       "    <tr>\n",
       "      <th>2</th>\n",
       "      <td>21</td>\n",
       "      <td>SCIENCE AND ENGINEERING PROFESSIONALS</td>\n",
       "      <td>physicist</td>\n",
       "      <td>Accelerator Physicist (BE-ABP-LNO-2021-122-LD)...</td>\n",
       "      <td>Geneva</td>\n",
       "      <td>[' Contribute to the maintenance and developme...</td>\n",
       "    </tr>\n",
       "    <tr>\n",
       "      <th>3</th>\n",
       "      <td>21</td>\n",
       "      <td>SCIENCE AND ENGINEERING PROFESSIONALS</td>\n",
       "      <td>physicist</td>\n",
       "      <td>Medical Devices Physicist</td>\n",
       "      <td>Newton, Cambridgeshire</td>\n",
       "      <td>[' Agency: Newton Colmore Consulting Reference...</td>\n",
       "    </tr>\n",
       "    <tr>\n",
       "      <th>4</th>\n",
       "      <td>21</td>\n",
       "      <td>SCIENCE AND ENGINEERING PROFESSIONALS</td>\n",
       "      <td>physicist</td>\n",
       "      <td>Fluidics Physicist</td>\n",
       "      <td>Cambridge</td>\n",
       "      <td>[' Agency: Newton Colmore Consulting Reference...</td>\n",
       "    </tr>\n",
       "  </tbody>\n",
       "</table>\n",
       "</div>"
      ],
      "text/plain": [
       "   ISCO                              major_job        job  \\\n",
       "0    21  SCIENCE AND ENGINEERING PROFESSIONALS  physicist   \n",
       "1    21  SCIENCE AND ENGINEERING PROFESSIONALS  physicist   \n",
       "2    21  SCIENCE AND ENGINEERING PROFESSIONALS  physicist   \n",
       "3    21  SCIENCE AND ENGINEERING PROFESSIONALS  physicist   \n",
       "4    21  SCIENCE AND ENGINEERING PROFESSIONALS  physicist   \n",
       "\n",
       "                                            position                location  \\\n",
       "0                      Accelerator Physicist id54315    Villigen PSI, Aargau   \n",
       "1  Applied Physicist (Computing) (EP-LBC-2021-125...                  Geneva   \n",
       "2  Accelerator Physicist (BE-ABP-LNO-2021-122-LD)...                  Geneva   \n",
       "3                          Medical Devices Physicist  Newton, Cambridgeshire   \n",
       "4                                 Fluidics Physicist               Cambridge   \n",
       "\n",
       "                                         description  \n",
       "0  [' You have an academic degree in physics or e...  \n",
       "1  [' Be in charge of the development of applicat...  \n",
       "2  [' Contribute to the maintenance and developme...  \n",
       "3  [' Agency: Newton Colmore Consulting Reference...  \n",
       "4  [' Agency: Newton Colmore Consulting Reference...  "
      ]
     },
     "execution_count": 102,
     "metadata": {},
     "output_type": "execute_result"
    }
   ],
   "source": [
    "df.head()"
   ]
  },
  {
   "cell_type": "markdown",
   "id": "8678f5dc-78d8-443e-90f8-f26add5be0e1",
   "metadata": {},
   "source": [
    "## Spacy model implementation"
   ]
  },
  {
   "cell_type": "markdown",
   "id": "6c208701-444f-47a2-aedc-99559a581daf",
   "metadata": {},
   "source": [
    "https://spacy.io/models/en\n",
    "English pipeline optimized for CPU. Components: tok2vec, tagger, parser, senter, ner, attribute_ruler, lemmatizer."
   ]
  },
  {
   "cell_type": "code",
   "execution_count": null,
   "id": "1b4963b8-2188-4ef2-81b9-b6af78b29101",
   "metadata": {},
   "outputs": [],
   "source": []
  },
  {
   "cell_type": "code",
   "execution_count": null,
   "id": "4568fd25-6d9b-4ce4-8a8c-8c7ff492b96a",
   "metadata": {},
   "outputs": [],
   "source": []
  },
  {
   "cell_type": "code",
   "execution_count": null,
   "id": "b42da05a-dade-417c-bbfa-f4afe01035af",
   "metadata": {},
   "outputs": [],
   "source": []
  },
  {
   "cell_type": "code",
   "execution_count": null,
   "id": "957128f1-f354-4b1f-b620-c77088a2e538",
   "metadata": {},
   "outputs": [],
   "source": []
  }
 ],
 "metadata": {
  "kernelspec": {
   "display_name": "Python 3 (ipykernel)",
   "language": "python",
   "name": "python3"
  },
  "language_info": {
   "codemirror_mode": {
    "name": "ipython",
    "version": 3
   },
   "file_extension": ".py",
   "mimetype": "text/x-python",
   "name": "python",
   "nbconvert_exporter": "python",
   "pygments_lexer": "ipython3",
   "version": "3.8.12"
  }
 },
 "nbformat": 4,
 "nbformat_minor": 5
}
