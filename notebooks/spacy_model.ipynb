{
 "cells": [
  {
   "cell_type": "code",
   "execution_count": 15,
   "id": "24173d36-dd05-4a64-b8e1-592f9f213396",
   "metadata": {},
   "outputs": [
    {
     "name": "stdout",
     "output_type": "stream",
     "text": [
      "The autoreload extension is already loaded. To reload it, use:\n",
      "  %reload_ext autoreload\n"
     ]
    }
   ],
   "source": [
    "%load_ext autoreload\n",
    "%autoreload 2\n",
    "PATH = os.path.dirname(os.getcwd())\n",
    "import pandas as pd\n",
    "import sys\n",
    "sys.path.append(PATH)\n",
    "import os\n",
    "from skills_matcher.scripts.spacy_model import split_data, make_spacy_model, load_results\n",
    "PATH_TRAIN_DATA  = f\"{PATH}/skills_matcher/models/train.spacy\"\n",
    "PATH_VAL_DATA  = f\"{PATH}/skills_matcher/models/val.spacy\"\n",
    "PATH_DICT = f\"{PATH}/skills_matcher/data/dictionaries/docanno_dictionary.jsonl\"\n",
    "PATH_DATA = f\"{PATH}/skills_matcher/data/cleaned_data.csv\""
   ]
  },
  {
   "cell_type": "markdown",
   "id": "09e69833-3dda-477d-85d0-62e777dfa503",
   "metadata": {
    "tags": []
   },
   "source": [
    "# Load spacy_model.py"
   ]
  },
  {
   "cell_type": "code",
   "execution_count": null,
   "id": "79246376-9f44-4201-ad89-984890739844",
   "metadata": {},
   "outputs": [],
   "source": [
    "X_train, X_val = split_data(PATH_DICT, val_split=0.3)\n",
    "spacy_train = make_spacy_model(X_train)\n",
    "spacy_train.to_disk(PATH_TRAIN_DATA)\n",
    "spacy_val = make_spacy_model(X_val)\n",
    "spacy_val.to_disk(PATH_VAL_DATA)"
   ]
  },
  {
   "cell_type": "markdown",
   "id": "88075717-3383-45f1-a6a1-e350f35f89c5",
   "metadata": {},
   "source": [
    "Run the following command in the \"models folder\" to create a config file. If it is already created, no need to run again.\n",
    "\n",
    "`python -m spacy init fill-config base_config.cfg config.cfg`"
   ]
  },
  {
   "cell_type": "markdown",
   "id": "829b5e9e-104e-4b60-86a9-fd22d09da9b3",
   "metadata": {},
   "source": [
    "Run the following command in the \"models\" folder to train the model\n",
    "\n",
    "`python -m spacy train config.cfg --output ./output_model`"
   ]
  },
  {
   "cell_type": "markdown",
   "id": "78a163d2-74a2-4d91-a113-d31923224119",
   "metadata": {},
   "source": [
    "## Training Test"
   ]
  },
  {
   "cell_type": "code",
   "execution_count": 83,
   "id": "f6054f49-6238-4c11-8795-54ae958ad524",
   "metadata": {},
   "outputs": [],
   "source": [
    "df = pd.read_csv(PATH_DATA)\n",
    "text = df.description[878]"
   ]
  },
  {
   "cell_type": "code",
   "execution_count": 84,
   "id": "3ad14c47-8570-425e-9656-6bddebf79538",
   "metadata": {},
   "outputs": [
    {
     "data": {
      "text/html": [
       "<span class=\"tex2jax_ignore\"><div class=\"entities\" style=\"line-height: 2.5; direction: ltr\">[' \n",
       "<mark class=\"entity\" style=\"background: #e06666; padding: 0.45em 0.6em; margin: 0 0.25em; line-height: 1; border-radius: 0.35em;\">\n",
       "    Perl\n",
       "    <span style=\"font-size: 0.8em; font-weight: bold; line-height: 1; border-radius: 0.35em; vertical-align: middle; margin-left: 0.5rem\">SKILL</span>\n",
       "</mark>\n",
       ", Bash, \n",
       "<mark class=\"entity\" style=\"background: #e06666; padding: 0.45em 0.6em; margin: 0 0.25em; line-height: 1; border-radius: 0.35em;\">\n",
       "    Python\n",
       "    <span style=\"font-size: 0.8em; font-weight: bold; line-height: 1; border-radius: 0.35em; vertical-align: middle; margin-left: 0.5rem\">SKILL</span>\n",
       "</mark>\n",
       " telecommunication systems 2G/3G/4G/5G IP networks \n",
       "<mark class=\"entity\" style=\"background: #e06666; padding: 0.45em 0.6em; margin: 0 0.25em; line-height: 1; border-radius: 0.35em;\">\n",
       "    UNIX\n",
       "    <span style=\"font-size: 0.8em; font-weight: bold; line-height: 1; border-radius: 0.35em; vertical-align: middle; margin-left: 0.5rem\">SKILL</span>\n",
       "</mark>\n",
       " or/and Linux advanced measurement equipment cloud computing ', &quot; \n",
       "<mark class=\"entity\" style=\"background: #c27ba0; padding: 0.45em 0.6em; margin: 0 0.25em; line-height: 1; border-radius: 0.35em;\">\n",
       "    Master's\n",
       "    <span style=\"font-size: 0.8em; font-weight: bold; line-height: 1; border-radius: 0.35em; vertical-align: middle; margin-left: 0.5rem\">LEVEL</span>\n",
       "</mark>\n",
       " or \n",
       "<mark class=\"entity\" style=\"background: #c27ba0; padding: 0.45em 0.6em; margin: 0 0.25em; line-height: 1; border-radius: 0.35em;\">\n",
       "    Bachelor's\n",
       "    <span style=\"font-size: 0.8em; font-weight: bold; line-height: 1; border-radius: 0.35em; vertical-align: middle; margin-left: 0.5rem\">LEVEL</span>\n",
       "</mark>\n",
       " degree in \n",
       "<mark class=\"entity\" style=\"background: #9fc5e8; padding: 0.45em 0.6em; margin: 0 0.25em; line-height: 1; border-radius: 0.35em;\">\n",
       "    Engineering\n",
       "    <span style=\"font-size: 0.8em; font-weight: bold; line-height: 1; border-radius: 0.35em; vertical-align: middle; margin-left: 0.5rem\">KNOWLEDGE</span>\n",
       "</mark>\n",
       ", \n",
       "<mark class=\"entity\" style=\"background: #e06666; padding: 0.45em 0.6em; margin: 0 0.25em; line-height: 1; border-radius: 0.35em;\">\n",
       "    Telecommunications\n",
       "    <span style=\"font-size: 0.8em; font-weight: bold; line-height: 1; border-radius: 0.35em; vertical-align: middle; margin-left: 0.5rem\">SKILL</span>\n",
       "</mark>\n",
       ", \n",
       "<mark class=\"entity\" style=\"background: #9fc5e8; padding: 0.45em 0.6em; margin: 0 0.25em; line-height: 1; border-radius: 0.35em;\">\n",
       "    Computer Science\n",
       "    <span style=\"font-size: 0.8em; font-weight: bold; line-height: 1; border-radius: 0.35em; vertical-align: middle; margin-left: 0.5rem\">KNOWLEDGE</span>\n",
       "</mark>\n",
       ", \n",
       "<mark class=\"entity\" style=\"background: #9fc5e8; padding: 0.45em 0.6em; margin: 0 0.25em; line-height: 1; border-radius: 0.35em;\">\n",
       "    Software Technology\n",
       "    <span style=\"font-size: 0.8em; font-weight: bold; line-height: 1; border-radius: 0.35em; vertical-align: middle; margin-left: 0.5rem\">KNOWLEDGE</span>\n",
       "</mark>\n",
       " or equivalent education · extensive knowledge of \n",
       "<mark class=\"entity\" style=\"background: #9fc5e8; padding: 0.45em 0.6em; margin: 0 0.25em; line-height: 1; border-radius: 0.35em;\">\n",
       "    software\n",
       "    <span style=\"font-size: 0.8em; font-weight: bold; line-height: 1; border-radius: 0.35em; vertical-align: middle; margin-left: 0.5rem\">KNOWLEDGE</span>\n",
       "</mark>\n",
       " and/or hardware testing processes and tools \n",
       "<mark class=\"entity\" style=\"background: #ffd966; padding: 0.45em 0.6em; margin: 0 0.25em; line-height: 1; border-radius: 0.35em;\">\n",
       "    3+ years\n",
       "    <span style=\"font-size: 0.8em; font-weight: bold; line-height: 1; border-radius: 0.35em; vertical-align: middle; margin-left: 0.5rem\">MIN_EXP</span>\n",
       "</mark>\n",
       " of proven experience in \n",
       "<mark class=\"entity\" style=\"background: #9fc5e8; padding: 0.45em 0.6em; margin: 0 0.25em; line-height: 1; border-radius: 0.35em;\">\n",
       "    software\n",
       "    <span style=\"font-size: 0.8em; font-weight: bold; line-height: 1; border-radius: 0.35em; vertical-align: middle; margin-left: 0.5rem\">KNOWLEDGE</span>\n",
       "</mark>\n",
       " and/or hardware testing expertise in at least three of following areas: Linux, IP networks, telecommunication systems, radio frequency technologies and measurements proven advanced testing scripts applications will be a bonus experience in test optimization (including automation) proven contribution to \n",
       "<mark class=\"entity\" style=\"background: #9fc5e8; padding: 0.45em 0.6em; margin: 0 0.25em; line-height: 1; border-radius: 0.35em;\">\n",
       "    SW\n",
       "    <span style=\"font-size: 0.8em; font-weight: bold; line-height: 1; border-radius: 0.35em; vertical-align: middle; margin-left: 0.5rem\">KNOWLEDGE</span>\n",
       "</mark>\n",
       " and/or HW specification process teamwork skills analytical thinking problem solving skills good communication in English (both written and spoken) ready to relocate to Wroclaw, living in or nearby &quot;]</div></span>"
      ],
      "text/plain": [
       "<IPython.core.display.HTML object>"
      ]
     },
     "metadata": {},
     "output_type": "display_data"
    }
   ],
   "source": [
    "entities = load_results(PATH + '/skills_matcher/models/output_model/model-best', text)"
   ]
  },
  {
   "cell_type": "code",
   "execution_count": 18,
   "id": "197b4c94-3107-4cda-b4b1-a0547e334d18",
   "metadata": {},
   "outputs": [
    {
     "data": {
      "text/plain": [
       "[{'entity': artificial intelligence,\n",
       "  'label': 'KNOWLEDGE',\n",
       "  'mean_vector': -0.019305477},\n",
       " {'entity': Educated, 'label': 'LEVEL', 'mean_vector': -0.014470006},\n",
       " {'entity': SAO, 'label': 'SKILL', 'mean_vector': -0.012311985},\n",
       " {'entity': Scrade reading, 'label': 'SKILL', 'mean_vector': -0.017220551},\n",
       " {'entity': Advanced data analytics,\n",
       "  'label': 'KNOWLEDGE',\n",
       "  'mean_vector': -0.016679198},\n",
       " {'entity': machine learning,\n",
       "  'label': 'KNOWLEDGE',\n",
       "  'mean_vector': -0.014416799},\n",
       " {'entity': artificial intelligence,\n",
       "  'label': 'KNOWLEDGE',\n",
       "  'mean_vector': -0.018578857},\n",
       " {'entity': Project management,\n",
       "  'label': 'KNOWLEDGE',\n",
       "  'mean_vector': -0.017137358},\n",
       " {'entity': English, 'label': 'SKILL', 'mean_vector': -0.01115491},\n",
       " {'entity': French, 'label': 'SKILL', 'mean_vector': -0.011650692}]"
      ]
     },
     "execution_count": 18,
     "metadata": {},
     "output_type": "execute_result"
    }
   ],
   "source": [
    "entities"
   ]
  },
  {
   "cell_type": "code",
   "execution_count": null,
   "id": "d9c059c8",
   "metadata": {},
   "outputs": [],
   "source": []
  }
 ],
 "metadata": {
  "kernelspec": {
   "display_name": "Python 3 (ipykernel)",
   "language": "python",
   "name": "python3"
  },
  "language_info": {
   "codemirror_mode": {
    "name": "ipython",
    "version": 3
   },
   "file_extension": ".py",
   "mimetype": "text/x-python",
   "name": "python",
   "nbconvert_exporter": "python",
   "pygments_lexer": "ipython3",
   "version": "3.8.12"
  }
 },
 "nbformat": 4,
 "nbformat_minor": 5
}
