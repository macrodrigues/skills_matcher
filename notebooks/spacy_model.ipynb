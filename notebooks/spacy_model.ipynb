{
 "cells": [
  {
   "cell_type": "code",
   "execution_count": 5,
   "id": "24173d36-dd05-4a64-b8e1-592f9f213396",
   "metadata": {},
   "outputs": [
    {
     "name": "stdout",
     "output_type": "stream",
     "text": [
      "The autoreload extension is already loaded. To reload it, use:\n",
      "  %reload_ext autoreload\n"
     ]
    },
    {
     "name": "stderr",
     "output_type": "stream",
     "text": [
      "2021-12-04 20:25:21.686081: W tensorflow/stream_executor/platform/default/dso_loader.cc:64] Could not load dynamic library 'libcudart.so.11.0'; dlerror: libcudart.so.11.0: cannot open shared object file: No such file or directory\n",
      "2021-12-04 20:25:21.686216: I tensorflow/stream_executor/cuda/cudart_stub.cc:29] Ignore above cudart dlerror if you do not have a GPU set up on your machine.\n"
     ]
    }
   ],
   "source": [
    "%load_ext autoreload\n",
    "%autoreload 2\n",
    "from skills_matcher.scripts.spacy_model import split_data, make_spacy_model, load_results\n",
    "import pandas as pd\n",
    "import sys\n",
    "import os\n",
    "PATH = os.path.dirname(os.getcwd())\n",
    "sys.path.append(PATH)\n",
    "PATH_TRAIN_DATA  = PATH + '/skills_matcher/models/train.spacy'\n",
    "PATH_VAL_DATA  = PATH + '/skills_matcher/models/val.spacy'\n",
    "PATH_DICTIONARY = PATH + '/data/dictionaries/docanno_dictionary.jsonl'"
   ]
  },
  {
   "cell_type": "markdown",
   "id": "09e69833-3dda-477d-85d0-62e777dfa503",
   "metadata": {
    "tags": []
   },
   "source": [
    "# Load spacy_model.py"
   ]
  },
  {
   "cell_type": "code",
   "execution_count": null,
   "id": "79246376-9f44-4201-ad89-984890739844",
   "metadata": {},
   "outputs": [],
   "source": [
    "X_train, X_val = split_data(PATH_DICTIONARY, val_split=0.3)\n",
    "spacy_train = make_spacy_model(X_train)\n",
    "spacy_train.to_disk(PATH_TRAIN_DATA)\n",
    "spacy_val = make_spacy_model(X_val)\n",
    "spacy_val.to_disk(PATH_VAL_DATA)"
   ]
  },
  {
   "cell_type": "markdown",
   "id": "88075717-3383-45f1-a6a1-e350f35f89c5",
   "metadata": {},
   "source": [
    "Run the following command in the \"models folder\" to create a config file. If it is already created, no need to run again.\n",
    "\n",
    "`python -m spacy init fill-config base_config.cfg config.cfg`"
   ]
  },
  {
   "cell_type": "markdown",
   "id": "829b5e9e-104e-4b60-86a9-fd22d09da9b3",
   "metadata": {},
   "source": [
    "Run the following command in the \"models\" folder to train the model\n",
    "\n",
    "`python -m spacy train config.cfg --output ./output_model`"
   ]
  },
  {
   "cell_type": "markdown",
   "id": "78a163d2-74a2-4d91-a113-d31923224119",
   "metadata": {},
   "source": [
    "## Training Test"
   ]
  },
  {
   "cell_type": "code",
   "execution_count": 10,
   "id": "f6054f49-6238-4c11-8795-54ae958ad524",
   "metadata": {},
   "outputs": [],
   "source": [
    "df = pd.read_csv(PATH + '/data/cleaned_data.csv')\n",
    "text = df.description[880]"
   ]
  },
  {
   "cell_type": "code",
   "execution_count": 11,
   "id": "3ad14c47-8570-425e-9656-6bddebf79538",
   "metadata": {},
   "outputs": [
    {
     "data": {
      "text/html": [
       "<span class=\"tex2jax_ignore\"><div class=\"entities\" style=\"line-height: 2.5; direction: ltr\"> Learning the airline operational procedures in order to build fully representative test scenarii Testing the system beyond standard procedures in order to demonstrate the robustness and the safety of the system in any conditions Being trained on new digital solution and advanced data analytics methods (machine learning, \n",
       "<mark class=\"entity\" style=\"background: #ddd; padding: 0.45em 0.6em; margin: 0 0.25em; line-height: 1; border-radius: 0.35em;\">\n",
       "    artificial intelligence\n",
       "    <span style=\"font-size: 0.8em; font-weight: bold; line-height: 1; border-radius: 0.35em; vertical-align: middle; margin-left: 0.5rem\">KNOWLEDGE</span>\n",
       "</mark>\n",
       ") since the team is leading some key projects, in this field in order to prepare the next Airbus challenges on autonomous vehicle. , Educated to degree level (or equivalent) in Engineering or a related discipline. Experience in Flight physics or System logics (\n",
       "<mark class=\"entity\" style=\"background: #ddd; padding: 0.45em 0.6em; margin: 0 0.25em; line-height: 1; border-radius: 0.35em;\">\n",
       "    SAO\n",
       "    <span style=\"font-size: 0.8em; font-weight: bold; line-height: 1; border-radius: 0.35em; vertical-align: middle; margin-left: 0.5rem\">SKILL</span>\n",
       "</mark>\n",
       ", \n",
       "<mark class=\"entity\" style=\"background: #ddd; padding: 0.45em 0.6em; margin: 0 0.25em; line-height: 1; border-radius: 0.35em;\">\n",
       "    Scrade reading\n",
       "    <span style=\"font-size: 0.8em; font-weight: bold; line-height: 1; border-radius: 0.35em; vertical-align: middle; margin-left: 0.5rem\">SKILL</span>\n",
       "</mark>\n",
       ") or Tests activities (benches, tools, ...) A good knowledge of airline operating procedures and environment is a real added value \n",
       "<mark class=\"entity\" style=\"background: #ddd; padding: 0.45em 0.6em; margin: 0 0.25em; line-height: 1; border-radius: 0.35em;\">\n",
       "    Advanced data analytics\n",
       "    <span style=\"font-size: 0.8em; font-weight: bold; line-height: 1; border-radius: 0.35em; vertical-align: middle; margin-left: 0.5rem\">KNOWLEDGE</span>\n",
       "</mark>\n",
       " method (\n",
       "<mark class=\"entity\" style=\"background: #ddd; padding: 0.45em 0.6em; margin: 0 0.25em; line-height: 1; border-radius: 0.35em;\">\n",
       "    machine learning\n",
       "    <span style=\"font-size: 0.8em; font-weight: bold; line-height: 1; border-radius: 0.35em; vertical-align: middle; margin-left: 0.5rem\">KNOWLEDGE</span>\n",
       "</mark>\n",
       ", \n",
       "<mark class=\"entity\" style=\"background: #ddd; padding: 0.45em 0.6em; margin: 0 0.25em; line-height: 1; border-radius: 0.35em;\">\n",
       "    artificial intelligence\n",
       "    <span style=\"font-size: 0.8em; font-weight: bold; line-height: 1; border-radius: 0.35em; vertical-align: middle; margin-left: 0.5rem\">KNOWLEDGE</span>\n",
       "</mark>\n",
       ") is also a key asset Good communication skills and a pro-active approach to drive innovation , Project management experience is also an added value Ability to work to strict timescales as part of an integrated, multidisciplined team Advanced level of \n",
       "<mark class=\"entity\" style=\"background: #ddd; padding: 0.45em 0.6em; margin: 0 0.25em; line-height: 1; border-radius: 0.35em;\">\n",
       "    English\n",
       "    <span style=\"font-size: 0.8em; font-weight: bold; line-height: 1; border-radius: 0.35em; vertical-align: middle; margin-left: 0.5rem\">SKILL</span>\n",
       "</mark>\n",
       " and \n",
       "<mark class=\"entity\" style=\"background: #ddd; padding: 0.45em 0.6em; margin: 0 0.25em; line-height: 1; border-radius: 0.35em;\">\n",
       "    French\n",
       "    <span style=\"font-size: 0.8em; font-weight: bold; line-height: 1; border-radius: 0.35em; vertical-align: middle; margin-left: 0.5rem\">SKILL</span>\n",
       "</mark>\n",
       ". </div></span>"
      ],
      "text/plain": [
       "<IPython.core.display.HTML object>"
      ]
     },
     "metadata": {},
     "output_type": "display_data"
    }
   ],
   "source": [
    "entities = load_results(PATH + '/skills_matcher/models/output_model/model-best', text)"
   ]
  },
  {
   "cell_type": "code",
   "execution_count": null,
   "id": "197b4c94-3107-4cda-b4b1-a0547e334d18",
   "metadata": {},
   "outputs": [],
   "source": [
    "entities"
   ]
  },
  {
   "cell_type": "code",
   "execution_count": null,
   "id": "3302d779-5ef5-4255-8009-218f09918552",
   "metadata": {},
   "outputs": [],
   "source": [
    "df"
   ]
  },
  {
   "cell_type": "code",
   "execution_count": null,
   "id": "4c8e54fb-2351-4686-98ab-14765374d503",
   "metadata": {},
   "outputs": [],
   "source": []
  }
 ],
 "metadata": {
  "kernelspec": {
   "display_name": "Python 3 (ipykernel)",
   "language": "python",
   "name": "python3"
  },
  "language_info": {
   "codemirror_mode": {
    "name": "ipython",
    "version": 3
   },
   "file_extension": ".py",
   "mimetype": "text/x-python",
   "name": "python",
   "nbconvert_exporter": "python",
   "pygments_lexer": "ipython3",
   "version": "3.8.12"
  }
 },
 "nbformat": 4,
 "nbformat_minor": 5
}
