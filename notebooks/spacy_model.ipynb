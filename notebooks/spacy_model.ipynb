{
 "cells": [
  {
   "cell_type": "code",
   "execution_count": 2,
   "id": "24173d36-dd05-4a64-b8e1-592f9f213396",
   "metadata": {},
   "outputs": [
    {
     "name": "stdout",
     "output_type": "stream",
     "text": [
      "The autoreload extension is already loaded. To reload it, use:\n",
      "  %reload_ext autoreload\n"
     ]
    }
   ],
   "source": [
    "%load_ext autoreload\n",
    "%autoreload 2\n",
    "import os\n",
    "PATH = os.path.dirname(os.getcwd())\n",
    "import pandas as pd\n",
    "import tqdm\n",
    "import sys\n",
    "sys.path.append(PATH)\n",
    "from skills_matcher.scripts.spacy_model import split_data, make_spacy_model\n",
    "from skills_matcher.scripts.spacy_model import load_results_auto, load_results_manual"
   ]
  },
  {
   "cell_type": "code",
   "execution_count": 3,
   "id": "fef0d51b-b00f-407f-bf4d-38f7525abd8c",
   "metadata": {},
   "outputs": [],
   "source": [
    "def load_paths(data_name, dictionary_name, train_spacy_name, val_spacy_name):\n",
    "    PATH_TRAIN_DATA  = f\"{PATH}/skills_matcher/models/{train_spacy_name}.spacy\"\n",
    "    PATH_VAL_DATA  = f\"{PATH}/skills_matcher/models/{val_spacy_name}.spacy\"\n",
    "    PATH_DICT = f\"{PATH}/skills_matcher/data/dictionaries/{dictionary_name}.jsonl\"\n",
    "    PATH_DATA = f\"{PATH}/skills_matcher/data/{data_name}.csv\"\n",
    "    return PATH_DATA, PATH_DICT, PATH_TRAIN_DATA, PATH_VAL_DATA"
   ]
  },
  {
   "cell_type": "code",
   "execution_count": 4,
   "id": "5d8d527c-b73d-4a74-ab4a-8c8c7f5f97a0",
   "metadata": {},
   "outputs": [],
   "source": [
    "PATH_DATA, PATH_DICT, PATH_TRAIN_DATA, PATH_VAL_DATA = load_paths('final_data', 'doccano_dictionary', 'train', 'val')"
   ]
  },
  {
   "cell_type": "code",
   "execution_count": 6,
   "id": "ba80f7e8-1758-4fd6-9eb4-5693121d6f7f",
   "metadata": {},
   "outputs": [
    {
     "data": {
      "text/plain": [
       "'/home/macrodrigues/code/macrodrigues/skills_matcher/skills_matcher/data/final_data.csv'"
      ]
     },
     "execution_count": 6,
     "metadata": {},
     "output_type": "execute_result"
    }
   ],
   "source": [
    "PATH_DATA"
   ]
  },
  {
   "cell_type": "code",
   "execution_count": null,
   "id": "a0e4dee2-3023-4ce3-ac62-a74bbe961b72",
   "metadata": {},
   "outputs": [],
   "source": [
    "df = "
   ]
  },
  {
   "cell_type": "code",
   "execution_count": null,
   "id": "c4cbcdc9-1fdd-4cc6-9dd4-250e89fa4e82",
   "metadata": {},
   "outputs": [],
   "source": []
  },
  {
   "cell_type": "code",
   "execution_count": null,
   "id": "484bcd6c-3584-4f11-9fda-ba81f17da385",
   "metadata": {},
   "outputs": [],
   "source": []
  },
  {
   "cell_type": "code",
   "execution_count": null,
   "id": "7fadaed0-b35a-43ca-b10a-d07e471161c6",
   "metadata": {},
   "outputs": [],
   "source": []
  },
  {
   "cell_type": "markdown",
   "id": "09e69833-3dda-477d-85d0-62e777dfa503",
   "metadata": {
    "tags": []
   },
   "source": [
    "# Load spacy_model.py"
   ]
  },
  {
   "cell_type": "code",
   "execution_count": 7,
   "id": "0f504f5e-0333-4fc8-b27b-aede338fd651",
   "metadata": {},
   "outputs": [],
   "source": [
    "PATH_DATA, PATH_DICT, PATH_TRAIN_DATA, PATH_VAL_DATA = load_paths('cleaned_data', 'doccano_dictionary', 'train', 'val')"
   ]
  },
  {
   "cell_type": "code",
   "execution_count": null,
   "id": "79246376-9f44-4201-ad89-984890739844",
   "metadata": {},
   "outputs": [],
   "source": [
    "X_train, X_val = split_data(PATH_DICT, val_split=0.3)\n",
    "spacy_train = make_spacy_model(X_train)\n",
    "spacy_train.to_disk(PATH_TRAIN_DATA)\n",
    "spacy_val = make_spacy_model(X_val)\n",
    "spacy_val.to_disk(PATH_VAL_DATA)"
   ]
  },
  {
   "cell_type": "markdown",
   "id": "88075717-3383-45f1-a6a1-e350f35f89c5",
   "metadata": {},
   "source": [
    "Run the following command in the \"models folder\" to create a config file. If it is already created, no need to run again.\n",
    "\n",
    "`python -m spacy init fill-config base_config.cfg config.cfg`"
   ]
  },
  {
   "cell_type": "markdown",
   "id": "829b5e9e-104e-4b60-86a9-fd22d09da9b3",
   "metadata": {},
   "source": [
    "Run the following command in the \"models\" folder to train the model\n",
    "\n",
    "`python -m spacy train config.cfg --output ./output_model`"
   ]
  },
  {
   "cell_type": "markdown",
   "id": "78a163d2-74a2-4d91-a113-d31923224119",
   "metadata": {},
   "source": [
    "## Training Test"
   ]
  },
  {
   "cell_type": "code",
   "execution_count": 8,
   "id": "83b3815b-077c-44b2-b7a8-025d8cc3a300",
   "metadata": {},
   "outputs": [],
   "source": [
    "df = pd.read_csv(PATH_DATA)\n",
    "text = df.description[845]"
   ]
  },
  {
   "cell_type": "code",
   "execution_count": 9,
   "id": "ee32048d-9f82-44a7-b046-ed8f9883d02e",
   "metadata": {
    "tags": []
   },
   "outputs": [
    {
     "ename": "KeyError",
     "evalue": "3423",
     "output_type": "error",
     "traceback": [
      "\u001b[0;31m---------------------------------------------------------------------------\u001b[0m",
      "\u001b[0;31mValueError\u001b[0m                                Traceback (most recent call last)",
      "\u001b[0;32m~/.pyenv/versions/3.8.12/envs/lewagon/lib/python3.8/site-packages/pandas/core/indexes/range.py\u001b[0m in \u001b[0;36mget_loc\u001b[0;34m(self, key, method, tolerance)\u001b[0m\n\u001b[1;32m    384\u001b[0m                 \u001b[0;32mtry\u001b[0m\u001b[0;34m:\u001b[0m\u001b[0;34m\u001b[0m\u001b[0;34m\u001b[0m\u001b[0m\n\u001b[0;32m--> 385\u001b[0;31m                     \u001b[0;32mreturn\u001b[0m \u001b[0mself\u001b[0m\u001b[0;34m.\u001b[0m\u001b[0m_range\u001b[0m\u001b[0;34m.\u001b[0m\u001b[0mindex\u001b[0m\u001b[0;34m(\u001b[0m\u001b[0mnew_key\u001b[0m\u001b[0;34m)\u001b[0m\u001b[0;34m\u001b[0m\u001b[0;34m\u001b[0m\u001b[0m\n\u001b[0m\u001b[1;32m    386\u001b[0m                 \u001b[0;32mexcept\u001b[0m \u001b[0mValueError\u001b[0m \u001b[0;32mas\u001b[0m \u001b[0merr\u001b[0m\u001b[0;34m:\u001b[0m\u001b[0;34m\u001b[0m\u001b[0;34m\u001b[0m\u001b[0m\n",
      "\u001b[0;31mValueError\u001b[0m: 3423 is not in range",
      "\nThe above exception was the direct cause of the following exception:\n",
      "\u001b[0;31mKeyError\u001b[0m                                  Traceback (most recent call last)",
      "\u001b[0;32m/tmp/ipykernel_417/1074775240.py\u001b[0m in \u001b[0;36m<module>\u001b[0;34m\u001b[0m\n\u001b[0;32m----> 1\u001b[0;31m \u001b[0mentities\u001b[0m \u001b[0;34m=\u001b[0m \u001b[0mload_results_manual\u001b[0m\u001b[0;34m(\u001b[0m\u001b[0mdf\u001b[0m\u001b[0;34m.\u001b[0m\u001b[0mdescription\u001b[0m\u001b[0;34m[\u001b[0m\u001b[0;36m3423\u001b[0m\u001b[0;34m]\u001b[0m\u001b[0;34m,\u001b[0m \u001b[0mvisualize\u001b[0m\u001b[0;34m=\u001b[0m\u001b[0;32mTrue\u001b[0m\u001b[0;34m)\u001b[0m\u001b[0;34m\u001b[0m\u001b[0;34m\u001b[0m\u001b[0m\n\u001b[0m",
      "\u001b[0;32m~/.pyenv/versions/3.8.12/envs/lewagon/lib/python3.8/site-packages/pandas/core/series.py\u001b[0m in \u001b[0;36m__getitem__\u001b[0;34m(self, key)\u001b[0m\n\u001b[1;32m    940\u001b[0m \u001b[0;34m\u001b[0m\u001b[0m\n\u001b[1;32m    941\u001b[0m         \u001b[0;32melif\u001b[0m \u001b[0mkey_is_scalar\u001b[0m\u001b[0;34m:\u001b[0m\u001b[0;34m\u001b[0m\u001b[0;34m\u001b[0m\u001b[0m\n\u001b[0;32m--> 942\u001b[0;31m             \u001b[0;32mreturn\u001b[0m \u001b[0mself\u001b[0m\u001b[0;34m.\u001b[0m\u001b[0m_get_value\u001b[0m\u001b[0;34m(\u001b[0m\u001b[0mkey\u001b[0m\u001b[0;34m)\u001b[0m\u001b[0;34m\u001b[0m\u001b[0;34m\u001b[0m\u001b[0m\n\u001b[0m\u001b[1;32m    943\u001b[0m \u001b[0;34m\u001b[0m\u001b[0m\n\u001b[1;32m    944\u001b[0m         \u001b[0;32mif\u001b[0m \u001b[0mis_hashable\u001b[0m\u001b[0;34m(\u001b[0m\u001b[0mkey\u001b[0m\u001b[0;34m)\u001b[0m\u001b[0;34m:\u001b[0m\u001b[0;34m\u001b[0m\u001b[0;34m\u001b[0m\u001b[0m\n",
      "\u001b[0;32m~/.pyenv/versions/3.8.12/envs/lewagon/lib/python3.8/site-packages/pandas/core/series.py\u001b[0m in \u001b[0;36m_get_value\u001b[0;34m(self, label, takeable)\u001b[0m\n\u001b[1;32m   1049\u001b[0m \u001b[0;34m\u001b[0m\u001b[0m\n\u001b[1;32m   1050\u001b[0m         \u001b[0;31m# Similar to Index.get_value, but we do not fall back to positional\u001b[0m\u001b[0;34m\u001b[0m\u001b[0;34m\u001b[0m\u001b[0;34m\u001b[0m\u001b[0m\n\u001b[0;32m-> 1051\u001b[0;31m         \u001b[0mloc\u001b[0m \u001b[0;34m=\u001b[0m \u001b[0mself\u001b[0m\u001b[0;34m.\u001b[0m\u001b[0mindex\u001b[0m\u001b[0;34m.\u001b[0m\u001b[0mget_loc\u001b[0m\u001b[0;34m(\u001b[0m\u001b[0mlabel\u001b[0m\u001b[0;34m)\u001b[0m\u001b[0;34m\u001b[0m\u001b[0;34m\u001b[0m\u001b[0m\n\u001b[0m\u001b[1;32m   1052\u001b[0m         \u001b[0;32mreturn\u001b[0m \u001b[0mself\u001b[0m\u001b[0;34m.\u001b[0m\u001b[0mindex\u001b[0m\u001b[0;34m.\u001b[0m\u001b[0m_get_values_for_loc\u001b[0m\u001b[0;34m(\u001b[0m\u001b[0mself\u001b[0m\u001b[0;34m,\u001b[0m \u001b[0mloc\u001b[0m\u001b[0;34m,\u001b[0m \u001b[0mlabel\u001b[0m\u001b[0;34m)\u001b[0m\u001b[0;34m\u001b[0m\u001b[0;34m\u001b[0m\u001b[0m\n\u001b[1;32m   1053\u001b[0m \u001b[0;34m\u001b[0m\u001b[0m\n",
      "\u001b[0;32m~/.pyenv/versions/3.8.12/envs/lewagon/lib/python3.8/site-packages/pandas/core/indexes/range.py\u001b[0m in \u001b[0;36mget_loc\u001b[0;34m(self, key, method, tolerance)\u001b[0m\n\u001b[1;32m    385\u001b[0m                     \u001b[0;32mreturn\u001b[0m \u001b[0mself\u001b[0m\u001b[0;34m.\u001b[0m\u001b[0m_range\u001b[0m\u001b[0;34m.\u001b[0m\u001b[0mindex\u001b[0m\u001b[0;34m(\u001b[0m\u001b[0mnew_key\u001b[0m\u001b[0;34m)\u001b[0m\u001b[0;34m\u001b[0m\u001b[0;34m\u001b[0m\u001b[0m\n\u001b[1;32m    386\u001b[0m                 \u001b[0;32mexcept\u001b[0m \u001b[0mValueError\u001b[0m \u001b[0;32mas\u001b[0m \u001b[0merr\u001b[0m\u001b[0;34m:\u001b[0m\u001b[0;34m\u001b[0m\u001b[0;34m\u001b[0m\u001b[0m\n\u001b[0;32m--> 387\u001b[0;31m                     \u001b[0;32mraise\u001b[0m \u001b[0mKeyError\u001b[0m\u001b[0;34m(\u001b[0m\u001b[0mkey\u001b[0m\u001b[0;34m)\u001b[0m \u001b[0;32mfrom\u001b[0m \u001b[0merr\u001b[0m\u001b[0;34m\u001b[0m\u001b[0;34m\u001b[0m\u001b[0m\n\u001b[0m\u001b[1;32m    388\u001b[0m             \u001b[0;32mraise\u001b[0m \u001b[0mKeyError\u001b[0m\u001b[0;34m(\u001b[0m\u001b[0mkey\u001b[0m\u001b[0;34m)\u001b[0m\u001b[0;34m\u001b[0m\u001b[0;34m\u001b[0m\u001b[0m\n\u001b[1;32m    389\u001b[0m         \u001b[0;32mreturn\u001b[0m \u001b[0msuper\u001b[0m\u001b[0;34m(\u001b[0m\u001b[0;34m)\u001b[0m\u001b[0;34m.\u001b[0m\u001b[0mget_loc\u001b[0m\u001b[0;34m(\u001b[0m\u001b[0mkey\u001b[0m\u001b[0;34m,\u001b[0m \u001b[0mmethod\u001b[0m\u001b[0;34m=\u001b[0m\u001b[0mmethod\u001b[0m\u001b[0;34m,\u001b[0m \u001b[0mtolerance\u001b[0m\u001b[0;34m=\u001b[0m\u001b[0mtolerance\u001b[0m\u001b[0;34m)\u001b[0m\u001b[0;34m\u001b[0m\u001b[0;34m\u001b[0m\u001b[0m\n",
      "\u001b[0;31mKeyError\u001b[0m: 3423"
     ]
    }
   ],
   "source": [
    "entities = load_results_manual(df.description[3423], visualize=True)"
   ]
  },
  {
   "cell_type": "code",
   "execution_count": 6,
   "id": "f6054f49-6238-4c11-8795-54ae958ad524",
   "metadata": {
    "tags": []
   },
   "outputs": [
    {
     "ename": "NameError",
     "evalue": "name 'entities' is not defined",
     "output_type": "error",
     "traceback": [
      "\u001b[0;31m---------------------------------------------------------------------------\u001b[0m",
      "\u001b[0;31mNameError\u001b[0m                                 Traceback (most recent call last)",
      "\u001b[0;32m/tmp/ipykernel_417/2729001196.py\u001b[0m in \u001b[0;36m<module>\u001b[0;34m\u001b[0m\n\u001b[0;32m----> 1\u001b[0;31m \u001b[0mentities\u001b[0m\u001b[0;34m\u001b[0m\u001b[0;34m\u001b[0m\u001b[0m\n\u001b[0m",
      "\u001b[0;31mNameError\u001b[0m: name 'entities' is not defined"
     ]
    }
   ],
   "source": [
    "entities"
   ]
  },
  {
   "cell_type": "markdown",
   "id": "adeef8eb-59e0-4af3-8c12-cd4940832460",
   "metadata": {},
   "source": [
    "# Try Spacy model with both annotations"
   ]
  },
  {
   "cell_type": "code",
   "execution_count": 5,
   "id": "dc46cfca-adbc-449d-a947-b405084c72c2",
   "metadata": {},
   "outputs": [],
   "source": [
    "PATH_DATA_ALL, PATH_DICT_ALL, PATH_TRAIN_DATA_ALL, PATH_VAL_DATA_ALL = load_paths('cleaned_data', 'auto_label', 'train_auto', 'val_auto')"
   ]
  },
  {
   "cell_type": "code",
   "execution_count": null,
   "id": "4e1a4b09-03f6-428a-ab95-2706a315f598",
   "metadata": {},
   "outputs": [],
   "source": [
    "X_train_all, X_val_all = split_data(PATH_DICT_ALL, val_split=0.3)"
   ]
  },
  {
   "cell_type": "code",
   "execution_count": null,
   "id": "aed23e84-8f6f-4cd7-9477-c7a271d2c667",
   "metadata": {
    "tags": []
   },
   "outputs": [],
   "source": [
    "spacy_train_all = make_spacy_model(X_train_all)\n",
    "spacy_train_all.to_disk(PATH_TRAIN_DATA_ALL)\n",
    "spacy_val_all = make_spacy_model(X_val_all)\n",
    "spacy_val_all.to_disk(PATH_VAL_DATA_ALL)"
   ]
  },
  {
   "cell_type": "code",
   "execution_count": null,
   "id": "bcef693e-6d06-4712-a8fb-92d8f1d7a4c5",
   "metadata": {
    "tags": []
   },
   "outputs": [],
   "source": [
    "entities_auto = load_results_auto(df.description[3402])"
   ]
  },
  {
   "cell_type": "markdown",
   "id": "49a3d560-6b80-406e-b06e-c6c5df718509",
   "metadata": {},
   "source": [
    "## Add entities to Data Frame"
   ]
  },
  {
   "cell_type": "code",
   "execution_count": null,
   "id": "654cd764-68bf-49b7-814d-682ea77c411d",
   "metadata": {},
   "outputs": [],
   "source": [
    "df = df.drop(['Unnamed: 0'], axis = 1)"
   ]
  },
  {
   "cell_type": "code",
   "execution_count": null,
   "id": "1ec48502-1708-48da-9c6d-cf5df1c5c3e3",
   "metadata": {},
   "outputs": [],
   "source": [
    "%%time\n",
    "df['entities_auto_label'] = df.description.apply(load_results_auto)"
   ]
  },
  {
   "cell_type": "code",
   "execution_count": null,
   "id": "0222d82c-217f-4e71-ad56-53dc1104abd7",
   "metadata": {},
   "outputs": [],
   "source": [
    "df_only_auto = df.copy()"
   ]
  },
  {
   "cell_type": "code",
   "execution_count": null,
   "id": "37ae28b9-6146-41de-b0a8-1f805f7e3c27",
   "metadata": {},
   "outputs": [],
   "source": [
    "df_only_auto.to_csv('data_only_auto.csv')"
   ]
  },
  {
   "cell_type": "code",
   "execution_count": 3,
   "id": "81b890a9-8592-4d94-b51d-4f32a771e7a9",
   "metadata": {},
   "outputs": [],
   "source": [
    "df2 = pd.read_csv('data_only_auto.csv')"
   ]
  },
  {
   "cell_type": "code",
   "execution_count": null,
   "id": "cece81ac-c5bc-4370-9a2f-0983e228c14f",
   "metadata": {},
   "outputs": [],
   "source": [
    "%%time\n",
    "df2['entities_manual_label'] = df2.description.apply(load_results_manual)"
   ]
  },
  {
   "cell_type": "code",
   "execution_count": null,
   "id": "415116c3-7e61-4e83-ae4b-9d891b463dd5",
   "metadata": {},
   "outputs": [],
   "source": []
  }
 ],
 "metadata": {
  "kernelspec": {
   "display_name": "Python 3 (ipykernel)",
   "language": "python",
   "name": "python3"
  },
  "language_info": {
   "codemirror_mode": {
    "name": "ipython",
    "version": 3
   },
   "file_extension": ".py",
   "mimetype": "text/x-python",
   "name": "python",
   "nbconvert_exporter": "python",
   "pygments_lexer": "ipython3",
   "version": "3.8.12"
  }
 },
 "nbformat": 4,
 "nbformat_minor": 5
}
