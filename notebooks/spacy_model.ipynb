{
 "cells": [
  {
   "cell_type": "code",
   "execution_count": null,
   "id": "24173d36-dd05-4a64-b8e1-592f9f213396",
   "metadata": {},
   "outputs": [],
   "source": [
    "import json\n",
    "from IPython import get_ipython\n",
    "import pandas as pd\n",
    "import numpy as np\n",
    "from spacy import displacy\n",
    "from spacy.training import Example\n",
    "from pathlib import Path\n",
    "from tqdm import tqdm\n",
    "import numpy as np\n",
    "import shutil\n",
    "import spacy\n",
    "import os\n",
    "import re"
   ]
  },
  {
   "cell_type": "code",
   "execution_count": null,
   "id": "9b5d7a45-ff4d-4c2f-9983-70a299b86089",
   "metadata": {},
   "outputs": [],
   "source": [
    "with open('annotation_data.json') as json_file:\n",
    "    data = json.load(json_file)"
   ]
  },
  {
   "cell_type": "markdown",
   "id": "661c8270-46fe-443e-bbdd-252c12ca5310",
   "metadata": {},
   "source": [
    "# First Format"
   ]
  },
  {
   "cell_type": "code",
   "execution_count": null,
   "id": "2143b5f5-c795-4b2e-bd41-263fead61845",
   "metadata": {},
   "outputs": [],
   "source": [
    "train_format = []\n",
    "for i in range(len(data)):\n",
    "    jd = data[i]['data']\n",
    "    label = data[i]['label']\n",
    "    label = [tuple(j) for j in label] \n",
    "    label = {'entities': label}\n",
    "    row = (jd, label)\n",
    "    train_format.append(row)\n",
    "    "
   ]
  },
  {
   "cell_type": "code",
   "execution_count": null,
   "id": "62780e85-b0be-4540-9a4d-83fc18eb195a",
   "metadata": {},
   "outputs": [],
   "source": [
    "def trim_entity_spans(data: list) -> list:\n",
    "    \"\"\"Removes leading and trailing white spaces from entity spans.\n",
    "\n",
    "    Args:\n",
    "        data (list): The data to be cleaned in spaCy JSON format.\n",
    "\n",
    "    Returns:\n",
    "        list: The cleaned data.\n",
    "    \"\"\"\n",
    "    invalid_span_tokens = re.compile(r'\\s')\n",
    "    cleaned_data = []\n",
    "    for text, annotations in data:\n",
    "        entities = annotations['entities']\n",
    "        valid_entities = []\n",
    "        for start, end, label in entities:\n",
    "            valid_start = start\n",
    "            valid_end = end\n",
    "            while valid_start < len(text) and invalid_span_tokens.match(\n",
    "                    text[valid_start]):\n",
    "                valid_start += 1\n",
    "            while valid_end > 1 and invalid_span_tokens.match(\n",
    "                    text[valid_end - 1]):\n",
    "                valid_end -= 1\n",
    "            valid_entities.append([valid_start, valid_end, label])\n",
    "        cleaned_data.append([text, {'entities': valid_entities}])\n",
    "\n",
    "    return cleaned_data"
   ]
  },
  {
   "cell_type": "code",
   "execution_count": null,
   "id": "528b0b6e-b5e1-473c-9186-93b90ee3e8cb",
   "metadata": {},
   "outputs": [],
   "source": [
    "cleaned_data = trim_entity_spans(train_format)"
   ]
  },
  {
   "cell_type": "code",
   "execution_count": null,
   "id": "dbe92bd0-47c2-4e95-8a20-fc8f06f9af7d",
   "metadata": {},
   "outputs": [],
   "source": [
    "len(cleaned_data) - round(len(cleaned_data)*0.8)"
   ]
  },
  {
   "cell_type": "code",
   "execution_count": null,
   "id": "65c40f17-cf1f-4543-8301-d4992467db8d",
   "metadata": {},
   "outputs": [],
   "source": [
    "X_train = cleaned_data[:51]\n",
    "X_val = cleaned_data[51:]"
   ]
  },
  {
   "cell_type": "markdown",
   "id": "831ba5cd-99ae-4e59-8b1e-c415d80192c1",
   "metadata": {},
   "source": [
    "# Final Format"
   ]
  },
  {
   "cell_type": "code",
   "execution_count": null,
   "id": "169dd1c0-b4c6-46e5-b91d-c2bdd85e7768",
   "metadata": {},
   "outputs": [],
   "source": [
    "import spacy\n",
    "from spacy.tokens import DocBin\n",
    "\n",
    "\n",
    "def create_spacy_model(data):\n",
    "    nlp = spacy.load(\"en_core_web_sm\") # load a new spacy model\n",
    "    db = DocBin() # create a DocBin object\n",
    "    all_ents = []\n",
    "    for text, annot in tqdm(data): # data in previous format\n",
    "        doc = nlp.make_doc(text) # create doc object from text\n",
    "        ents = []\n",
    "        for element in annot[\"entities\"]:\n",
    "            for start, end, label in [element]: # add character indexes\n",
    "                span = doc.char_span(start, end, label=label, alignment_mode=\"contract\")\n",
    "                if span is None:\n",
    "                    print(\"Skipping entity\")\n",
    "                else:\n",
    "                    ents.append(span)        \n",
    "        doc.ents = ents # label the text with the ents\n",
    "        db.add(doc)                \n",
    "    #all_ents.append(ents)               \n",
    "    #doc.ents = [val for ent in all_ents for val in ent]\n",
    "    return db"
   ]
  },
  {
   "cell_type": "code",
   "execution_count": null,
   "id": "c412d679-f764-4adc-aa20-f05f09c4d1ad",
   "metadata": {},
   "outputs": [],
   "source": [
    "train_spacy = create_spacy_model(X_train)\n",
    "train_spacy.to_disk('train.spacy')\n",
    "valid_spacy = create_spacy_model(X_val)\n",
    "valid_spacy.to_disk('valid.spacy')"
   ]
  },
  {
   "cell_type": "code",
   "execution_count": null,
   "id": "5524b025-ae67-4ed7-a001-8a04f21f1e0e",
   "metadata": {},
   "outputs": [],
   "source": [
    "! python -m spacy init fill-config base_config.cfg config.cfg"
   ]
  },
  {
   "cell_type": "code",
   "execution_count": null,
   "id": "266515dc-9c65-4c3e-9c66-1cb1f4285e38",
   "metadata": {},
   "outputs": [],
   "source": [
    "! python -m spacy train config.cfg --output ./output --paths.train ./train.spacy --paths.dev ./train.spacy "
   ]
  },
  {
   "cell_type": "code",
   "execution_count": null,
   "id": "c5370f14-1ba4-4f3a-affb-bd34f1e1095b",
   "metadata": {},
   "outputs": [],
   "source": [
    "text = \"Address scientific issues within drug discovery using existing and new innovative statistical methods through collaborating closely with internal and external partners. Designing experiments to address scientific questions clearly and accurately. Deliver statistical methodology training. Communicating statistical concepts, design recommendations, and the results of statistical analyses clearly and accurately to others. Validate the statistical aspects of Specific Pharmacology Reports written by scientists for the Dossier for all programs. Lead statistician on multiple complex projects regarding Non-Clinical Efficacy and Safety (NCES) related Research activities with minimal direction from group head. Working with other statisticians on internal department initiatives, e.g. to develop specific technical or consulting skills, new processes, etc. Reviewing literature and writing simulations to evaluate statistical methods for application to drug discovery problems. Representing our statistics team in collaborations with other internal statistics teams and scientists. Contribute to the implementation of end-user statistical applications for routine analyses within labs. Represents statistics in regulatory meetings Represent statistics in cross function working groups. , Master’s degree or PhD in Biostatistics or related field. Experience with developing new statistical methods to improve the design, analysis, and interpretation of scientific studies. Ability to collaborate well with statisticians and scientists from other disciplines. Strong user of SAS/R (R-Shiny). Explain novel and standard statistical methods clearly to scientific and non-scientific colleagues. To evaluate, recommend, and implement statistical tools for addressing scientific problems. Experience in Pre-Clinical & Research Development. Experience with some of the following techniques; Bayesian Statistics, Mixed Models, Machine Learning Algorithms, Experimental Design, Analysis of high-dimensional Data, Linear and non-Linear Regression.\""
   ]
  },
  {
   "cell_type": "code",
   "execution_count": null,
   "id": "fcc3ab18-e223-4fdc-b6b2-bf7824a26a48",
   "metadata": {},
   "outputs": [],
   "source": [
    "nlp = spacy.load(os.getcwd() + \"/output/model-best\") #load the best model"
   ]
  },
  {
   "cell_type": "code",
   "execution_count": null,
   "id": "9fcbbf7a-28c6-461e-b6a0-c655f452fac3",
   "metadata": {},
   "outputs": [],
   "source": [
    "#doc = nlp(\"s. You develop machine learning solutions and translate them into mircoservices. At the same time, you guarantee a high quality of service including the corresponding monitoring. You are responsible for the implementation of our MLOps approach and bring in your experience in the context of software delivery processes. You build data flows with relational and non-relational data using appropriate technologies in a hybrid cloud environment. In close cooperation with our IT department, you will support the development and improvement of our data science service landscape and thus help shape the future data architecture of MYTOYS Group. , Degree with a scientific/technical focus or equivalent working experience 2 - 3 years of practical experience in the development/ live provisioning of data science services (ideally in the e-commerce sector) incl. profound experience with at least one of the following languages: Python, R, Java Very good knowledge of SQL/NoSQL Databases and confident handling of software development tools (e.g. Git, GitHub, IDEs, ...) Understanding of container technologies (such as Docker), and microservice architectures in the context of Big Data and experience in building CI/CD pipelines and Infrastructure as Code processes for cloud platforms (AWS or GC) is desirable Very good analytical and conceptual skills and high willingness to learn and enjoy an iterative, experimental approach You have a hands-on mentality, high degree of initiative and a structured way of working and very good language skills in German or English , A demanding and interesting role with a lot of autonomy, responsibility, and individual training opportunities Truly flexible working hours and self-reliant work for an optimal compatibility of family and job A \")\n",
    "\n",
    "\n",
    "doc  = nlp(text)\n",
    "spacy.displacy.render(doc, style=\"ent\", jupyter=True)\n",
    "\n",
    "doc.ents"
   ]
  },
  {
   "cell_type": "markdown",
   "id": "09e69833-3dda-477d-85d0-62e777dfa503",
   "metadata": {
    "tags": []
   },
   "source": [
    "# Import from function"
   ]
  },
  {
   "cell_type": "code",
   "execution_count": null,
   "id": "91468724-60db-44a8-ac74-4f604947dd36",
   "metadata": {},
   "outputs": [],
   "source": []
  }
 ],
 "metadata": {
  "kernelspec": {
   "display_name": "Python 3 (ipykernel)",
   "language": "python",
   "name": "python3"
  },
  "language_info": {
   "codemirror_mode": {
    "name": "ipython",
    "version": 3
   },
   "file_extension": ".py",
   "mimetype": "text/x-python",
   "name": "python",
   "nbconvert_exporter": "python",
   "pygments_lexer": "ipython3",
   "version": "3.8.12"
  }
 },
 "nbformat": 4,
 "nbformat_minor": 5
}
