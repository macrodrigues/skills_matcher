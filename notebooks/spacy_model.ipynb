{
 "cells": [
  {
   "cell_type": "code",
   "execution_count": 32,
   "id": "24173d36-dd05-4a64-b8e1-592f9f213396",
   "metadata": {},
   "outputs": [
    {
     "name": "stdout",
     "output_type": "stream",
     "text": [
      "The autoreload extension is already loaded. To reload it, use:\n",
      "  %reload_ext autoreload\n"
     ]
    }
   ],
   "source": [
    "%load_ext autoreload\n",
    "%autoreload 2\n",
    "import pandas as pd\n",
    "import numpy as np\n",
    "import sys\n",
    "import os"
   ]
  },
  {
   "cell_type": "markdown",
   "id": "09e69833-3dda-477d-85d0-62e777dfa503",
   "metadata": {
    "tags": []
   },
   "source": [
    "# Import from function"
   ]
  },
  {
   "cell_type": "code",
   "execution_count": 33,
   "id": "91468724-60db-44a8-ac74-4f604947dd36",
   "metadata": {},
   "outputs": [
    {
     "name": "stdout",
     "output_type": "stream",
     "text": [
      "The autoreload extension is already loaded. To reload it, use:\n",
      "  %reload_ext autoreload\n"
     ]
    }
   ],
   "source": [
    "%load_ext autoreload\n",
    "%autoreload 2\n",
    "PATH = os.path.dirname(os.getcwd()) \n",
    "sys.path.append(PATH)\n",
    "df = pd.read_csv(PATH + '/data/cleaned_data.csv')"
   ]
  },
  {
   "cell_type": "code",
   "execution_count": 5,
   "id": "79246376-9f44-4201-ad89-984890739844",
   "metadata": {},
   "outputs": [
    {
     "name": "stderr",
     "output_type": "stream",
     "text": [
      " 88%|████████████████████████████████████████████████████████████████████████████████████▍           | 51/58 [00:00<00:00, 98.79it/s]"
     ]
    },
    {
     "name": "stdout",
     "output_type": "stream",
     "text": [
      "Skipping entity\n",
      "Skipping entity\n",
      "Skipping entity\n",
      "Skipping entity\n",
      "Skipping entity\n",
      "Skipping entity\n",
      "Skipping entity\n"
     ]
    },
    {
     "name": "stderr",
     "output_type": "stream",
     "text": [
      "100%|████████████████████████████████████████████████████████████████████████████████████████████████| 58/58 [00:00<00:00, 97.03it/s]\n",
      "100%|████████████████████████████████████████████████████████████████████████████████████████████████| 15/15 [00:00<00:00, 67.37it/s]"
     ]
    },
    {
     "name": "stdout",
     "output_type": "stream",
     "text": [
      "Skipping entity\n",
      "Skipping entity\n"
     ]
    },
    {
     "name": "stderr",
     "output_type": "stream",
     "text": [
      "\n"
     ]
    }
   ],
   "source": [
    "from skills_matcher.scripts.spacy_model import json_to_train_data, split_data, make_spacy_model, load_results\n",
    "training_data = json_to_train_data(PATH + '/notebooks/annotation_data.json')\n",
    "X_train, X_val = split_data(training_data, val_split=0.2)\n",
    "spacy_train = make_spacy_model(X_train)\n",
    "spacy_train.to_disk('train.spacy')\n",
    "spacy_val = make_spacy_model(X_val)\n",
    "spacy_val.to_disk('val.spacy')"
   ]
  },
  {
   "cell_type": "code",
   "execution_count": 6,
   "id": "ec1c5657-b7c4-4bba-83be-a75149b28f25",
   "metadata": {},
   "outputs": [
    {
     "name": "stdout",
     "output_type": "stream",
     "text": [
      "2021-12-03 14:58:52.285589: W tensorflow/stream_executor/platform/default/dso_loader.cc:64] Could not load dynamic library 'libcudart.so.11.0'; dlerror: libcudart.so.11.0: cannot open shared object file: No such file or directory\n",
      "2021-12-03 14:58:52.286641: I tensorflow/stream_executor/cuda/cudart_stub.cc:29] Ignore above cudart dlerror if you do not have a GPU set up on your machine.\n",
      "\u001b[38;5;2m✔ Auto-filled config with all values\u001b[0m\n",
      "\u001b[38;5;2m✔ Saved config\u001b[0m\n",
      "config.cfg\n",
      "You can now add your data and train your pipeline:\n",
      "python -m spacy train config.cfg --paths.train ./train.spacy --paths.dev ./dev.spacy\n"
     ]
    }
   ],
   "source": [
    "! python -m spacy init fill-config base_config.cfg config.cfg"
   ]
  },
  {
   "cell_type": "code",
   "execution_count": 7,
   "id": "6c607776-042c-41e2-ae8f-6a6c70bf0330",
   "metadata": {},
   "outputs": [
    {
     "name": "stdout",
     "output_type": "stream",
     "text": [
      "2021-12-03 14:59:19.199775: W tensorflow/stream_executor/platform/default/dso_loader.cc:64] Could not load dynamic library 'libcudart.so.11.0'; dlerror: libcudart.so.11.0: cannot open shared object file: No such file or directory\n",
      "2021-12-03 14:59:19.199845: I tensorflow/stream_executor/cuda/cudart_stub.cc:29] Ignore above cudart dlerror if you do not have a GPU set up on your machine.\n",
      "\u001b[38;5;2m✔ Created output directory: output\u001b[0m\n",
      "\u001b[38;5;4mℹ Saving to output directory: output\u001b[0m\n",
      "\u001b[38;5;4mℹ Using CPU\u001b[0m\n",
      "\u001b[1m\n",
      "=========================== Initializing pipeline ===========================\u001b[0m\n",
      "[2021-12-03 14:59:22,505] [INFO] Set up nlp object from config\n",
      "[2021-12-03 14:59:22,531] [INFO] Pipeline: ['tok2vec', 'ner']\n",
      "[2021-12-03 14:59:22,540] [INFO] Created vocabulary\n",
      "[2021-12-03 14:59:22,542] [INFO] Finished initializing nlp object\n",
      "[2021-12-03 14:59:25,719] [INFO] Initialized pipeline components: ['tok2vec', 'ner']\n",
      "\u001b[38;5;2m✔ Initialized pipeline\u001b[0m\n",
      "\u001b[1m\n",
      "============================= Training pipeline =============================\u001b[0m\n",
      "\u001b[38;5;4mℹ Pipeline: ['tok2vec', 'ner']\u001b[0m\n",
      "\u001b[38;5;4mℹ Initial learn rate: 0.001\u001b[0m\n",
      "E    #       LOSS TOK2VEC  LOSS NER  ENTS_F  ENTS_P  ENTS_R  SCORE \n",
      "---  ------  ------------  --------  ------  ------  ------  ------\n",
      "  0       0          0.00     66.89    0.00    0.00    0.00    0.00\n",
      "  3     200       9399.67   3644.83   23.66   24.90   22.54    0.24\n",
      "  7     400       1896.32   1540.51   71.56   72.73   70.42    0.72\n",
      " 10     600       4495.10    937.61   83.89   84.34   83.45    0.84\n",
      " 14     800       4296.67    534.44   93.71   93.06   94.37    0.94\n",
      " 18    1000       2620.90    327.30   97.01   96.84   97.18    0.97\n",
      " 22    1200        301.71    203.62   97.74   96.56   98.94    0.98\n",
      " 26    1400        449.08    219.23   97.36   97.19   97.54    0.97\n",
      " 30    1600        229.75    134.26   98.76   99.64   97.89    0.99\n",
      " 34    1800        187.97    107.39   98.42   97.91   98.94    0.98\n",
      " 39    2000        705.36    134.59   97.22   95.89   98.59    0.97\n",
      " 44    2200      10073.41    238.35   98.08   97.23   98.94    0.98\n",
      " 50    2400        282.92    141.15   98.59   98.59   98.59    0.99\n",
      " 57    2600      43115.47    193.67   99.12   98.95   99.30    0.99\n",
      " 65    2800        733.39    160.51   99.12   99.29   98.94    0.99\n",
      " 76    3000       5194.50    229.47   99.12   98.61   99.65    0.99\n",
      " 89    3200        215.93    148.97   99.11  100.00   98.24    0.99\n",
      "103    3400        437.00    172.89   98.76   99.29   98.24    0.99\n",
      "117    3600        181.58    157.79   99.12   99.29   98.94    0.99\n",
      "131    3800       4101.25    182.57   99.12   98.95   99.30    0.99\n",
      "145    4000        120.89    117.25   99.13   98.27  100.00    0.99\n",
      "159    4200        339.03    114.19   99.13   98.27  100.00    0.99\n",
      "173    4400        382.97    118.11   99.30   98.95   99.65    0.99\n",
      "186    4600        173.49     93.68   99.47   99.65   99.30    0.99\n",
      "200    4800        413.26     85.39   99.47   98.95  100.00    0.99\n",
      "214    5000        358.76    110.70   99.47   99.30   99.65    0.99\n",
      "229    5200       1832.70    131.13   99.47  100.00   98.94    0.99\n",
      "242    5400        190.59     84.02   99.47   98.95  100.00    0.99\n",
      "256    5600        138.00     71.27   99.47   98.95  100.00    0.99\n",
      "270    5800        512.18    107.87   99.47  100.00   98.94    0.99\n",
      "284    6000        197.28     81.69   99.47   98.95  100.00    0.99\n",
      "298    6200        165.74     76.72   99.47   99.65   99.30    0.99\n",
      "313    6400        636.70     97.26   99.47   98.95  100.00    0.99\n",
      "\u001b[38;5;2m✔ Saved pipeline to output directory\u001b[0m\n",
      "output/model-last\n"
     ]
    }
   ],
   "source": [
    "! python -m spacy train config.cfg --output ./output --paths.train ./train.spacy --paths.dev ./train.spacy"
   ]
  },
  {
   "cell_type": "code",
   "execution_count": 35,
   "id": "3ad14c47-8570-425e-9656-6bddebf79538",
   "metadata": {},
   "outputs": [
    {
     "data": {
      "text/html": [
       "<span class=\"tex2jax_ignore\"><div class=\"entities\" style=\"line-height: 2.5; direction: ltr\"> Manage and develop the coatings development team. Manage relationship with coating manufacturer for both current products and R&amp;D activities. Provide expertise in the science of the coatings' technology. Schedule in batch testing of manufactured coatings in a timely manner to minimise disruption to global production sites. Manage and participate in the day to day activities of approved product developments. Identify and implement cost saving opportunities. Implement and maintain good laboratory practice in the laboratory area. Proactively implement improvements to products and processes. Identify and progress collaborations with Universities and other Technology Centres for applicable projects. Identification of \n",
       "<mark class=\"entity\" style=\"background: #ddd; padding: 0.45em 0.6em; margin: 0 0.25em; line-height: 1; border-radius: 0.35em;\">\n",
       "    innovative technologies\n",
       "    <span style=\"font-size: 0.8em; font-weight: bold; line-height: 1; border-radius: 0.35em; vertical-align: middle; margin-left: 0.5rem\">KNOWLEDGE</span>\n",
       "</mark>\n",
       ". Project documentation for approved and proposed projects. Identify and implement improvements to data capture and storage. Be aware of potential patent infringements with new product developments. Identify technologies that could be patented. Travel to global manufacturing sites to support implementation of new products and product improvements. , Graduate with a Degree in a chemistry or materials related subject. Experience of working with manufacturing departments within cross functional project teams is desired. Experience in \n",
       "<mark class=\"entity\" style=\"background: #ddd; padding: 0.45em 0.6em; margin: 0 0.25em; line-height: 1; border-radius: 0.35em;\">\n",
       "    leading\n",
       "    <span style=\"font-size: 0.8em; font-weight: bold; line-height: 1; border-radius: 0.35em; vertical-align: middle; margin-left: 0.5rem\">SKILL</span>\n",
       "</mark>\n",
       " a team </div></span>"
      ],
      "text/plain": [
       "<IPython.core.display.HTML object>"
      ]
     },
     "metadata": {},
     "output_type": "display_data"
    }
   ],
   "source": [
    "text = df.description[124]\n",
    "entities = load_results(PATH + '/notebooks/output/model-best', text)"
   ]
  },
  {
   "cell_type": "code",
   "execution_count": null,
   "id": "197b4c94-3107-4cda-b4b1-a0547e334d18",
   "metadata": {},
   "outputs": [],
   "source": []
  }
 ],
 "metadata": {
  "kernelspec": {
   "display_name": "Python 3 (ipykernel)",
   "language": "python",
   "name": "python3"
  },
  "language_info": {
   "codemirror_mode": {
    "name": "ipython",
    "version": 3
   },
   "file_extension": ".py",
   "mimetype": "text/x-python",
   "name": "python",
   "nbconvert_exporter": "python",
   "pygments_lexer": "ipython3",
   "version": "3.8.12"
  }
 },
 "nbformat": 4,
 "nbformat_minor": 5
}
