{
 "cells": [
  {
   "cell_type": "code",
   "execution_count": 48,
   "id": "cfbbf31c-5a4f-40ae-8635-2e80e3f5bb69",
   "metadata": {},
   "outputs": [],
   "source": [
    "import pandas as pd\n",
    "import numpy as np\n",
    "import os"
   ]
  },
  {
   "cell_type": "code",
   "execution_count": 49,
   "id": "27e14e43-79f2-445b-ae86-26c3d47d3c51",
   "metadata": {},
   "outputs": [],
   "source": [
    "df = pd.read_csv('/home/macrodrigues/code/macrodrigues/skills_matcher/data/raw_data/raw_data_3.csv')\n",
    "df = df.drop(['Unnamed: 0'], axis = 1)\n",
    "df = df.dropna()"
   ]
  },
  {
   "cell_type": "markdown",
   "id": "dce7f363-0b7b-4460-884c-cc1ab2713a5c",
   "metadata": {},
   "source": [
    "## Clean empty lists"
   ]
  },
  {
   "cell_type": "code",
   "execution_count": 50,
   "id": "99b44e14-f160-4c51-a868-42533d8a1ff5",
   "metadata": {},
   "outputs": [],
   "source": [
    "def filter_lists(x):\n",
    "    if x:\n",
    "        return x\n",
    "    return None"
   ]
  },
  {
   "cell_type": "code",
   "execution_count": 51,
   "id": "4136d1a4-59b1-4c24-b71f-882d190eb3dc",
   "metadata": {},
   "outputs": [],
   "source": [
    "from ast import literal_eval\n",
    "df['info'] = df['info'].apply(literal_eval)"
   ]
  },
  {
   "cell_type": "code",
   "execution_count": 52,
   "id": "b4254ba9-1c87-41a5-902f-a591dd62e49a",
   "metadata": {},
   "outputs": [],
   "source": [
    "df['info'] = df['info'].apply(filter_lists)\n",
    "df = df.dropna()"
   ]
  },
  {
   "cell_type": "markdown",
   "id": "3f6d97c7-b32c-435e-9dee-039cc1621732",
   "metadata": {},
   "source": [
    "## Cleaning and remove few counts of Job Positions"
   ]
  },
  {
   "cell_type": "code",
   "execution_count": 53,
   "id": "a5260c73-0211-4307-9eb2-7f86bb76a61d",
   "metadata": {},
   "outputs": [
    {
     "data": {
      "text/plain": [
       "115"
      ]
     },
     "execution_count": 53,
     "metadata": {},
     "output_type": "execute_result"
    }
   ],
   "source": [
    "list_of_small_counts = list(df.groupby('careers').count()['ISCO'].loc[df.groupby('careers').count()['ISCO'] < 10].index)\n",
    "len(list_of_small_counts)"
   ]
  },
  {
   "cell_type": "code",
   "execution_count": 54,
   "id": "255963dd-e84b-4e35-a10b-f031a8cc1b3d",
   "metadata": {},
   "outputs": [],
   "source": [
    "def filter_careers(val):\n",
    "        if val not in list_of_small_counts:\n",
    "            return val"
   ]
  },
  {
   "cell_type": "code",
   "execution_count": 55,
   "id": "c0bc2ce8-7b60-410f-923f-ccf16980acce",
   "metadata": {},
   "outputs": [],
   "source": [
    "df.careers = df.careers.apply(filter_careers)\n",
    "df = df.dropna()"
   ]
  },
  {
   "cell_type": "markdown",
   "id": "224d3a11-37b1-404a-a77b-f4764773587f",
   "metadata": {
    "tags": []
   },
   "source": [
    "## Separate by ISCO codes"
   ]
  },
  {
   "cell_type": "code",
   "execution_count": 56,
   "id": "9cca49df-e44f-484e-afd7-e525f45e47f7",
   "metadata": {},
   "outputs": [],
   "source": [
    "iscos = pd.read_csv('/home/macrodrigues/code/macrodrigues/skills_matcher/data/raw_data/raw_data_0.csv')"
   ]
  },
  {
   "cell_type": "code",
   "execution_count": 57,
   "id": "84287d9f-2133-4dc8-9842-840b6a0e71c7",
   "metadata": {},
   "outputs": [],
   "source": [
    "iscos = iscos.rename({'major_ISCO': 'ISCO'}, axis = 1)\n",
    "iscos = iscos[['ISCO', 'major_jobs']]"
   ]
  },
  {
   "cell_type": "code",
   "execution_count": 58,
   "id": "ec7dd096-0424-4268-96fc-9972c3252545",
   "metadata": {},
   "outputs": [],
   "source": [
    "df = df.merge(iscos, on='ISCO', how = 'inner')\n",
    "df = df[['ISCO', 'major_jobs', 'careers', 'career_scraped', 'location_scraped', 'info']]"
   ]
  },
  {
   "cell_type": "code",
   "execution_count": 59,
   "id": "4a8280c6-b8d1-4cd8-8445-603ec8ddf8d4",
   "metadata": {},
   "outputs": [],
   "source": [
    "df = df.rename({'major_jobs': 'major_job', 'careers': 'job', 'career_scraped': 'position', 'location_scraped':'location', 'info': 'description'}, axis = 1)"
   ]
  },
  {
   "cell_type": "code",
   "execution_count": 60,
   "id": "3af27fb8-2554-4c55-be07-4bba4a46eb42",
   "metadata": {},
   "outputs": [
    {
     "data": {
      "text/html": [
       "<div>\n",
       "<style scoped>\n",
       "    .dataframe tbody tr th:only-of-type {\n",
       "        vertical-align: middle;\n",
       "    }\n",
       "\n",
       "    .dataframe tbody tr th {\n",
       "        vertical-align: top;\n",
       "    }\n",
       "\n",
       "    .dataframe thead th {\n",
       "        text-align: right;\n",
       "    }\n",
       "</style>\n",
       "<table border=\"1\" class=\"dataframe\">\n",
       "  <thead>\n",
       "    <tr style=\"text-align: right;\">\n",
       "      <th></th>\n",
       "      <th></th>\n",
       "      <th>position</th>\n",
       "    </tr>\n",
       "    <tr>\n",
       "      <th>ISCO</th>\n",
       "      <th>major_job</th>\n",
       "      <th></th>\n",
       "    </tr>\n",
       "  </thead>\n",
       "  <tbody>\n",
       "    <tr>\n",
       "      <th>12</th>\n",
       "      <th>ADMINISTRATIVE AND COMMERCIAL MANAGERS</th>\n",
       "      <td>321</td>\n",
       "    </tr>\n",
       "    <tr>\n",
       "      <th>21</th>\n",
       "      <th>SCIENCE AND ENGINEERING PROFESSIONALS</th>\n",
       "      <td>885</td>\n",
       "    </tr>\n",
       "    <tr>\n",
       "      <th>22</th>\n",
       "      <th>HEALTH PROFESSIONALS</th>\n",
       "      <td>626</td>\n",
       "    </tr>\n",
       "    <tr>\n",
       "      <th>23</th>\n",
       "      <th>TEACHING PROFESSIONALS</th>\n",
       "      <td>252</td>\n",
       "    </tr>\n",
       "    <tr>\n",
       "      <th>24</th>\n",
       "      <th>BUSINESS AND ADMINISTRATION PROFESSIONALS</th>\n",
       "      <td>288</td>\n",
       "    </tr>\n",
       "    <tr>\n",
       "      <th>25</th>\n",
       "      <th>INFORMATION AND COMMUNICATIONS TECHNOLOGY PROFESSIONALS</th>\n",
       "      <td>447</td>\n",
       "    </tr>\n",
       "    <tr>\n",
       "      <th>31</th>\n",
       "      <th>SCIENCE AND ENGINEERING ASSOCIATE PROFESSIONALS</th>\n",
       "      <td>104</td>\n",
       "    </tr>\n",
       "    <tr>\n",
       "      <th>32</th>\n",
       "      <th>HEALTH ASSOCIATE PROFESSIONALS</th>\n",
       "      <td>73</td>\n",
       "    </tr>\n",
       "    <tr>\n",
       "      <th>33</th>\n",
       "      <th>BUSINESS AND ADMINISTRATION ASSOCIATE PROFESSIONALS</th>\n",
       "      <td>253</td>\n",
       "    </tr>\n",
       "    <tr>\n",
       "      <th>35</th>\n",
       "      <th>INFORMATION AND COMMUNICATIONS TECHNICIANS</th>\n",
       "      <td>94</td>\n",
       "    </tr>\n",
       "    <tr>\n",
       "      <th>42</th>\n",
       "      <th>CUSTOMER SERVICES CLERKS</th>\n",
       "      <td>239</td>\n",
       "    </tr>\n",
       "    <tr>\n",
       "      <th>52</th>\n",
       "      <th>SALES WORKERS</th>\n",
       "      <td>185</td>\n",
       "    </tr>\n",
       "    <tr>\n",
       "      <th>54</th>\n",
       "      <th>PROTECTIVE SERVICES WORKERS</th>\n",
       "      <td>111</td>\n",
       "    </tr>\n",
       "    <tr>\n",
       "      <th>61</th>\n",
       "      <th>MARKET-ORIENTED SKILLED AGRICULTURAL WORKERS</th>\n",
       "      <td>121</td>\n",
       "    </tr>\n",
       "    <tr>\n",
       "      <th>83</th>\n",
       "      <th>DRIVERS AND MOBILE PLANT OPERATORS</th>\n",
       "      <td>211</td>\n",
       "    </tr>\n",
       "    <tr>\n",
       "      <th>91</th>\n",
       "      <th>CLEANERS AND HELPERS</th>\n",
       "      <td>202</td>\n",
       "    </tr>\n",
       "  </tbody>\n",
       "</table>\n",
       "</div>"
      ],
      "text/plain": [
       "                                                         position\n",
       "ISCO major_job                                                   \n",
       "12   ADMINISTRATIVE AND COMMERCIAL MANAGERS                   321\n",
       "21   SCIENCE AND ENGINEERING PROFESSIONALS                    885\n",
       "22   HEALTH PROFESSIONALS                                     626\n",
       "23   TEACHING PROFESSIONALS                                   252\n",
       "24   BUSINESS AND ADMINISTRATION PROFESSIONALS                288\n",
       "25   INFORMATION AND COMMUNICATIONS TECHNOLOGY PROFE...       447\n",
       "31   SCIENCE AND ENGINEERING ASSOCIATE PROFESSIONALS          104\n",
       "32   HEALTH ASSOCIATE PROFESSIONALS                            73\n",
       "33   BUSINESS AND ADMINISTRATION ASSOCIATE PROFESSIO...       253\n",
       "35   INFORMATION AND COMMUNICATIONS TECHNICIANS                94\n",
       "42   CUSTOMER SERVICES CLERKS                                 239\n",
       "52   SALES WORKERS                                            185\n",
       "54   PROTECTIVE SERVICES WORKERS                              111\n",
       "61   MARKET-ORIENTED SKILLED AGRICULTURAL WORKERS             121\n",
       "83   DRIVERS AND MOBILE PLANT OPERATORS                       211\n",
       "91   CLEANERS AND HELPERS                                     202"
      ]
     },
     "execution_count": 60,
     "metadata": {},
     "output_type": "execute_result"
    }
   ],
   "source": [
    "df.groupby(['ISCO', 'major_job']).agg({'position': 'count'})"
   ]
  },
  {
   "cell_type": "code",
   "execution_count": 61,
   "id": "2468cafd-e877-4db3-8fa0-9cf6e023ecd8",
   "metadata": {},
   "outputs": [
    {
     "data": {
      "text/html": [
       "<div>\n",
       "<style scoped>\n",
       "    .dataframe tbody tr th:only-of-type {\n",
       "        vertical-align: middle;\n",
       "    }\n",
       "\n",
       "    .dataframe tbody tr th {\n",
       "        vertical-align: top;\n",
       "    }\n",
       "\n",
       "    .dataframe thead th {\n",
       "        text-align: right;\n",
       "    }\n",
       "</style>\n",
       "<table border=\"1\" class=\"dataframe\">\n",
       "  <thead>\n",
       "    <tr style=\"text-align: right;\">\n",
       "      <th></th>\n",
       "      <th>ISCO</th>\n",
       "      <th>major_job</th>\n",
       "      <th>job</th>\n",
       "      <th>position</th>\n",
       "      <th>location</th>\n",
       "      <th>description</th>\n",
       "    </tr>\n",
       "  </thead>\n",
       "  <tbody>\n",
       "    <tr>\n",
       "      <th>0</th>\n",
       "      <td>21</td>\n",
       "      <td>SCIENCE AND ENGINEERING PROFESSIONALS</td>\n",
       "      <td>physicist</td>\n",
       "      <td>Accelerator Physicist id54315</td>\n",
       "      <td>Villigen PSI, Aargau</td>\n",
       "      <td>You have an academic degree in physics or eng...</td>\n",
       "    </tr>\n",
       "    <tr>\n",
       "      <th>1</th>\n",
       "      <td>21</td>\n",
       "      <td>SCIENCE AND ENGINEERING PROFESSIONALS</td>\n",
       "      <td>physicist</td>\n",
       "      <td>Applied Physicist (Computing) (EP-LBC-2021-125...</td>\n",
       "      <td>Geneva</td>\n",
       "      <td>Be in charge of the development of applicatio...</td>\n",
       "    </tr>\n",
       "    <tr>\n",
       "      <th>2</th>\n",
       "      <td>21</td>\n",
       "      <td>SCIENCE AND ENGINEERING PROFESSIONALS</td>\n",
       "      <td>physicist</td>\n",
       "      <td>Accelerator Physicist (BE-ABP-LNO-2021-122-LD)...</td>\n",
       "      <td>Geneva</td>\n",
       "      <td>Contribute to the maintenance and development...</td>\n",
       "    </tr>\n",
       "    <tr>\n",
       "      <th>3</th>\n",
       "      <td>21</td>\n",
       "      <td>SCIENCE AND ENGINEERING PROFESSIONALS</td>\n",
       "      <td>physicist</td>\n",
       "      <td>Medical Devices Physicist</td>\n",
       "      <td>Newton, Cambridgeshire</td>\n",
       "      <td>Agency: Newton Colmore Consulting Reference: ...</td>\n",
       "    </tr>\n",
       "    <tr>\n",
       "      <th>4</th>\n",
       "      <td>21</td>\n",
       "      <td>SCIENCE AND ENGINEERING PROFESSIONALS</td>\n",
       "      <td>physicist</td>\n",
       "      <td>Fluidics Physicist</td>\n",
       "      <td>Cambridge</td>\n",
       "      <td>Agency: Newton Colmore Consulting Reference: ...</td>\n",
       "    </tr>\n",
       "    <tr>\n",
       "      <th>...</th>\n",
       "      <td>...</td>\n",
       "      <td>...</td>\n",
       "      <td>...</td>\n",
       "      <td>...</td>\n",
       "      <td>...</td>\n",
       "      <td>...</td>\n",
       "    </tr>\n",
       "    <tr>\n",
       "      <th>4407</th>\n",
       "      <td>91</td>\n",
       "      <td>CLEANERS AND HELPERS</td>\n",
       "      <td>washer</td>\n",
       "      <td>Dishwasher employee</td>\n",
       "      <td>Amsterdam, Noord-Holland</td>\n",
       "      <td>Eye for detail and through! You have a real h...</td>\n",
       "    </tr>\n",
       "    <tr>\n",
       "      <th>4408</th>\n",
       "      <td>91</td>\n",
       "      <td>CLEANERS AND HELPERS</td>\n",
       "      <td>washer</td>\n",
       "      <td>Detail Technician/Fleet Washer/Truck Washer/Au...</td>\n",
       "      <td>Michigan</td>\n",
       "      <td>Paid Training Direct Care (health) Paid Vacat...</td>\n",
       "    </tr>\n",
       "    <tr>\n",
       "      <th>4409</th>\n",
       "      <td>91</td>\n",
       "      <td>CLEANERS AND HELPERS</td>\n",
       "      <td>washer</td>\n",
       "      <td>Detail Technician/Fleet Washer/Truck Washer/Au...</td>\n",
       "      <td>Warszawa, Mazowieckie</td>\n",
       "      <td>Paid Training Direct Care (health) Paid Vacat...</td>\n",
       "    </tr>\n",
       "    <tr>\n",
       "      <th>4410</th>\n",
       "      <td>91</td>\n",
       "      <td>CLEANERS AND HELPERS</td>\n",
       "      <td>washer</td>\n",
       "      <td>Detail Technician/Fleet Washer/Truck Washer/Au...</td>\n",
       "      <td>Michigan</td>\n",
       "      <td>Paid Training Direct Care (health) Paid Vacat...</td>\n",
       "    </tr>\n",
       "    <tr>\n",
       "      <th>4411</th>\n",
       "      <td>91</td>\n",
       "      <td>CLEANERS AND HELPERS</td>\n",
       "      <td>washer</td>\n",
       "      <td>Horeca Medewerker Afwas/Stewarding / Hospitali...</td>\n",
       "      <td>Eindhoven, Noord-Brabant</td>\n",
       "      <td>Enthousiast en energiek Eerlijk Flexibel inze...</td>\n",
       "    </tr>\n",
       "  </tbody>\n",
       "</table>\n",
       "<p>4412 rows × 6 columns</p>\n",
       "</div>"
      ],
      "text/plain": [
       "      ISCO                              major_job        job  \\\n",
       "0       21  SCIENCE AND ENGINEERING PROFESSIONALS  physicist   \n",
       "1       21  SCIENCE AND ENGINEERING PROFESSIONALS  physicist   \n",
       "2       21  SCIENCE AND ENGINEERING PROFESSIONALS  physicist   \n",
       "3       21  SCIENCE AND ENGINEERING PROFESSIONALS  physicist   \n",
       "4       21  SCIENCE AND ENGINEERING PROFESSIONALS  physicist   \n",
       "...    ...                                    ...        ...   \n",
       "4407    91                   CLEANERS AND HELPERS     washer   \n",
       "4408    91                   CLEANERS AND HELPERS     washer   \n",
       "4409    91                   CLEANERS AND HELPERS     washer   \n",
       "4410    91                   CLEANERS AND HELPERS     washer   \n",
       "4411    91                   CLEANERS AND HELPERS     washer   \n",
       "\n",
       "                                               position  \\\n",
       "0                         Accelerator Physicist id54315   \n",
       "1     Applied Physicist (Computing) (EP-LBC-2021-125...   \n",
       "2     Accelerator Physicist (BE-ABP-LNO-2021-122-LD)...   \n",
       "3                             Medical Devices Physicist   \n",
       "4                                    Fluidics Physicist   \n",
       "...                                                 ...   \n",
       "4407                                Dishwasher employee   \n",
       "4408  Detail Technician/Fleet Washer/Truck Washer/Au...   \n",
       "4409  Detail Technician/Fleet Washer/Truck Washer/Au...   \n",
       "4410  Detail Technician/Fleet Washer/Truck Washer/Au...   \n",
       "4411  Horeca Medewerker Afwas/Stewarding / Hospitali...   \n",
       "\n",
       "                      location  \\\n",
       "0         Villigen PSI, Aargau   \n",
       "1                       Geneva   \n",
       "2                       Geneva   \n",
       "3       Newton, Cambridgeshire   \n",
       "4                    Cambridge   \n",
       "...                        ...   \n",
       "4407  Amsterdam, Noord-Holland   \n",
       "4408                  Michigan   \n",
       "4409     Warszawa, Mazowieckie   \n",
       "4410                  Michigan   \n",
       "4411  Eindhoven, Noord-Brabant   \n",
       "\n",
       "                                            description  \n",
       "0      You have an academic degree in physics or eng...  \n",
       "1      Be in charge of the development of applicatio...  \n",
       "2      Contribute to the maintenance and development...  \n",
       "3      Agency: Newton Colmore Consulting Reference: ...  \n",
       "4      Agency: Newton Colmore Consulting Reference: ...  \n",
       "...                                                 ...  \n",
       "4407   Eye for detail and through! You have a real h...  \n",
       "4408   Paid Training Direct Care (health) Paid Vacat...  \n",
       "4409   Paid Training Direct Care (health) Paid Vacat...  \n",
       "4410   Paid Training Direct Care (health) Paid Vacat...  \n",
       "4411   Enthousiast en energiek Eerlijk Flexibel inze...  \n",
       "\n",
       "[4412 rows x 6 columns]"
      ]
     },
     "execution_count": 61,
     "metadata": {},
     "output_type": "execute_result"
    }
   ],
   "source": [
    "def join_list(x):\n",
    "    return ','.join(x)\n",
    "\n",
    "df.description = df.description.apply(join_list)\n",
    "df"
   ]
  },
  {
   "cell_type": "code",
   "execution_count": 62,
   "id": "7888df45-0a75-4bda-8d36-f9a359cf1e1f",
   "metadata": {},
   "outputs": [],
   "source": [
    "df.to_csv('cleaned_data.csv')"
   ]
  },
  {
   "cell_type": "code",
   "execution_count": null,
   "id": "c81c089a-8309-4e68-ac3f-b9e3c69f1824",
   "metadata": {},
   "outputs": [],
   "source": []
  },
  {
   "cell_type": "code",
   "execution_count": null,
   "id": "3386190b-2fb9-4e70-bfa0-d56106d30983",
   "metadata": {},
   "outputs": [],
   "source": []
  }
 ],
 "metadata": {
  "kernelspec": {
   "display_name": "Python 3 (ipykernel)",
   "language": "python",
   "name": "python3"
  },
  "language_info": {
   "codemirror_mode": {
    "name": "ipython",
    "version": 3
   },
   "file_extension": ".py",
   "mimetype": "text/x-python",
   "name": "python",
   "nbconvert_exporter": "python",
   "pygments_lexer": "ipython3",
   "version": "3.8.12"
  }
 },
 "nbformat": 4,
 "nbformat_minor": 5
}
