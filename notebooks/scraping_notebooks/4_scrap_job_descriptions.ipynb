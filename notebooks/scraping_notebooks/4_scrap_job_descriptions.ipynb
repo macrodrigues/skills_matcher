{
 "cells": [
  {
   "cell_type": "code",
   "execution_count": 6,
   "id": "d10126df-36db-4c26-9d6f-f8a937459ab6",
   "metadata": {},
   "outputs": [],
   "source": [
    "import pandas as pd\n",
    "\n",
    "data = pd.read_csv('raw_data_2.csv')\n",
    "data = data.drop(['Unnamed: 0'], axis = 1)\n",
    "data = data.iloc[5:, :]\n",
    "data = data.reset_index().drop(['index'], axis = 1)\n",
    "data = data.dropna()"
   ]
  },
  {
   "cell_type": "code",
   "execution_count": 7,
   "id": "833f9394-5f73-4c50-ad33-e510f434ce9a",
   "metadata": {},
   "outputs": [],
   "source": [
    "import requests\n",
    "import numpy as np\n",
    "import pandas as pd\n",
    "from bs4 import BeautifulSoup\n",
    "\n",
    "\n",
    "def make_soup(url):\n",
    "    \"\"\"Comment on this\"\"\" \n",
    "    # proxies = {\n",
    "            # 'http': 'http://119.28.155.202:9999',\n",
    "            # 'https': 'http://119.28.155.202:9999'\n",
    "    # }\n",
    "    response = requests.get(url)\n",
    "    html = response.content\n",
    "    return BeautifulSoup(html, \"html.parser\", from_encoding=\"utf-8\")"
   ]
  },
  {
   "cell_type": "code",
   "execution_count": 8,
   "id": "bfe17408-04bc-404d-89df-c87c5f3311bc",
   "metadata": {},
   "outputs": [],
   "source": [
    "def scrap_link(url):\n",
    "    info = []\n",
    "    raw = make_soup(url).find_all('section', class_= 'content')\n",
    "    #print(f\"soup: {url}\")\n",
    "    for element in raw:\n",
    "        if element.find_all('ul'):\n",
    "            for topic in element.find_all('ul'):\n",
    "                info.append(topic.text)\n",
    "        else:    \n",
    "            return None\n",
    "        \n",
    "    return info"
   ]
  },
  {
   "cell_type": "code",
   "execution_count": 19,
   "id": "b2763c02-c7f9-4b35-a8c0-92d1c6f70bd6",
   "metadata": {},
   "outputs": [],
   "source": [
    "sample_1 = data[:100]"
   ]
  },
  {
   "cell_type": "code",
   "execution_count": 20,
   "id": "5abe5883-9742-430d-a7c2-98a751feba35",
   "metadata": {},
   "outputs": [
    {
     "name": "stdout",
     "output_type": "stream",
     "text": [
      "soup: http://jobviewtrack.com/en-gb/job-1f1d412c1c5d5e5d1f40/bd0cb46234a05dd0d52691a25217801c.html?affid=4a493be19ab2aa17a1afbeaa9866ce6b\n",
      "soup: http://jobviewtrack.com/en-gb/job-181e412c19555f5b10/534d35d45cfa4794b06e6a42e5ffdf3e.html?affid=4a493be19ab2aa17a1afbeaa9866ce6b\n",
      "soup: http://jobviewtrack.com/en-gb/job-181e412c19555f5b10/8d6853621c1f7120ff07bdc1c5743357.html?affid=4a493be19ab2aa17a1afbeaa9866ce6b\n",
      "soup: http://jobviewtrack.com/en-gb/job-181d416948120a0248044d0606154e370d5907010a1a595f3f7e480a0601555464061e040208154d11061d716e4e4b48410b1f03421a5461380917140c431d1b1d71794e534442166e5f134312545d/706d9414f1fc7017c702103c43b518a2.html?affid=4a493be19ab2aa17a1afbeaa9866ce6b\n",
      "soup: http://jobviewtrack.com/en-gb/job-131941604800060d461800270d170704005376250c1743485c410d340717541d430a1b156c2a00441d0b081f287b55545e0d0c07540022270d170704005375595a451f130d/e583635b8c085e8e690a50452c9037f0.html?affid=4a493be19ab2aa17a1afbeaa9866ce6b\n",
      "soup: http://jobviewtrack.com/en-gb/job-1f4d41604800060d461800270d170704005376250c1743485c410d340717541d430a1b156c2a00441d0b081f0a6e534a440a0a0b551d4e046a2400000c4e110d1b1a444c1d7d451d1c07441d53176a2400000c4e110d1b1a444c3c1c1e525b5e12/10941560b11fad2a132443f9aeb70a1e.html?affid=4a493be19ab2aa17a1afbeaa9866ce6b\n",
      "soup: http://jobviewtrack.com/en-gb/job-1a48416a5f050b1b460045432d0f090e0b45111a001d4d2978434a0d010b4206490d0f413e0f1c531d0b00005e297a5f4c001a0f5311222606060709004506010714287b55545e0d0c07540021525b575a5750/2dcf5e59228628314b1d2f15ab564a02.html?affid=4a493be19ab2aa17a1afbeaa9866ce6b\n",
      "soup: http://jobviewtrack.com/en-gb/job-4949417e480a06015554650d0f0800020052762d0714434558485f663f065e07490001121a6536451a01060128665c4a43011b6f164017535c57/a0029d23214374e662f972338e05fd5b.html?affid=4a493be19ab2aa17a1afbeaa9866ce6b\n",
      "soup: http://jobviewtrack.com/en-gb/job-484f417e480a06015554650d0f0800020052762d0714434558485f663f065e07490001121a6536451a01060128665c4a43011b6f1240/1db8909ef0e2280df63f505139f2836b.html?affid=4a493be19ab2aa17a1afbeaa9866ce6b\n",
      "soup: http://jobviewtrack.com/en-gb/job-1818417e480a06015554650d0f0800020052762d0714434558485f663f065e07490001121a6536451a01060128665c4a43011b6f164017535c576c5651164c505f/9e4c0da49095c57e9202e0a9c8087ae3.html?affid=4a493be19ab2aa17a1afbeaa9866ce6b\n",
      "soup: http://jobviewtrack.com/en-gb/job-1c48416a5f050b1b46004561380917140c431d1b1d721b1f041f1d53/d4c008b0ac73b028c416191979e3200e.html?affid=4a493be19ab2aa17a1afbeaa9866ce6b\n",
      "soup: http://jobviewtrack.com/en-gb/job-4c49412c1e5c5d5f16/d6c93a4c3e749d208030c686ce04cef5.html?affid=4a493be19ab2aa17a1afbeaa9866ce6b\n",
      "soup: http://jobviewtrack.com/en-gb/job-4e1c417d451d1c07441d53176a24161700521d050c1d5e4a512c1c505c561143/bf547126f3afbdb45c8ed85320a393bf.html?affid=4a493be19ab2aa17a1afbeaa9866ce6b\n",
      "soup: http://jobviewtrack.com/en-gb/job-481b412c1e5c5b5f11/6fd98af5aa4215979c069f56d31d13f3.html?affid=4a493be19ab2aa17a1afbeaa9866ce6b\n",
      "soup: http://jobviewtrack.com/en-gb/job-1813416855140a1c4e19450d1c000247214507010e1d286f585e4403016c771c591001020714112237000003286e455d48160603421a540204605f545314445d/44d6cd9a29b31a40d7bdcb6ed046168f.html?affid=4a493be19ab2aa17a1afbeaa9866ce6b\n",
      "soup: http://jobviewtrack.com/en-gb/job-1813416855140a1c4e19450d1c000247214507010e1d286f585e4403016c771c591001020714112237000003286e455d48160603421a540204605f545314445d/2d0c9e9a4906f9156ca40898e965f1b9.html?affid=4a493be19ab2aa17a1afbeaa9866ce6b\n",
      "soup: http://jobviewtrack.com/en-gb/job-4b1c417d451d1c07441d53176a3217141145191b6b3e43484f424b081a07431d43106a24161700521d050c1d5e4a512c1c57595a1741/56292e241d68cb5a13b866e77045acb7.html?affid=4a493be19ab2aa17a1afbeaa9866ce6b\n",
      "soup: http://jobviewtrack.com/en-gb/job-481a417945011d0f570d223300181d0e0649071c68421812041914/087545fcf4bf1b07ca7ae66e04442911.html?affid=4a493be19ab2aa17a1afbeaa9866ce6b\n",
      "soup: http://jobviewtrack.com/en-gb/job-491f41604c100a1c491d541a482201110052763a0c004f4a4f4e4544290b4b184f146a31061e164917011a070a79585e48051d0d4f766d3121413c021645151a0a1b2879585e48051d0d4f75115151585a5e/8d8372e0b99f52008a2e175831e77290.html?affid=4a493be19ab2aa17a1afbeaa9866ce6b\n",
      "soup: http://jobviewtrack.com/en-gb/job-1c1d412c1c555e591f4d/1e3894f076010dde72240915e8e6c964.html?affid=4a493be19ab2aa17a1afbeaa9866ce6b\n",
      "soup: http://jobviewtrack.com/en-gb/job-4b1c417d451d1c07441d53176a3217141145191b6b3e43484f424b081a07431d43106a24161700521d050c1d5e4a512c1c57595a1741/bb9fee8f74b76c48faeb654907efcc05.html?affid=4a493be19ab2aa17a1afbeaa9866ce6b\n",
      "soup: http://jobviewtrack.com/en-gb/job-1c1d412c1c555e591f4d/b9307f09ce5e44003fb08ebe14e177a1.html?affid=4a493be19ab2aa17a1afbeaa9866ce6b\n",
      "soup: http://jobviewtrack.com/en-gb/job-1f1d412c1c5d5e5d1f40/dd37d0033fc1f1e2035c8988c6024c76.html?affid=4a493be19ab2aa17a1afbeaa9866ce6b\n",
      "soup: http://jobviewtrack.com/en-gb/job-181e412c19555f5b10/1ddf7950b9756d70abe3f68ab1c3d917.html?affid=4a493be19ab2aa17a1afbeaa9866ce6b\n",
      "soup: http://jobviewtrack.com/en-gb/job-181e412c19555f5b10/d122622cf7616dc9be576be474ed2faa.html?affid=4a493be19ab2aa17a1afbeaa9866ce6b\n",
      "soup: http://jobviewtrack.com/en-gb/job-181e412c19555f5b10/8d67e98d2be758f106ccb5cd878318af.html?affid=4a493be19ab2aa17a1afbeaa9866ce6b\n",
      "soup: http://jobviewtrack.com/en-gb/job-1c1f416a5f050b1b46004561380917140c431d1b1d721b1d08/9e7e0b4d47f75649097a219248fec90c.html?affid=4a493be19ab2aa17a1afbeaa9866ce6b\n",
      "soup: http://jobviewtrack.com/en-gb/job-1e4f417d451d1c07441d53176a22010a155500010714287a484c43101a03264514545a565b/4c984477b4fc80e662a72ade1ca6aafd.html?affid=4a493be19ab2aa17a1afbeaa9866ce6b\n",
      "soup: http://jobviewtrack.com/en-gb/job-4c1941684303060042115261250e000e114f0601071428644d5944071c6f124d19535c/6f2d6f87c3cada59590cc0520cdfe105.html?affid=4a493be19ab2aa17a1afbeaa9866ce6b\n",
      "soup: http://jobviewtrack.com/en-gb/job-49484168430306004211526127111a0e0653755d504a1a1f/4eab28dd6fa72a65ce604a11e4423b1d.html?affid=4a493be19ab2aa17a1afbeaa9866ce6b\n",
      "soup: http://jobviewtrack.com/en-gb/job-1e1c417d451d1c07441d53176a2c0f130d4519091d1a494a512c1c505c561143/98afd95133d8c771bca80932c4a0dfdd.html?affid=4a493be19ab2aa17a1afbeaa9866ce6b\n",
      "soup: http://jobviewtrack.com/en-gb/job-181e412c19555f5b10/5c69a2786cc9c70cab37d514431a19fb.html?affid=4a493be19ab2aa17a1afbeaa9866ce6b\n",
      "soup: http://jobviewtrack.com/en-gb/job-181e412c19555f5b10/d0bbf22a92e63298024e9aee2970ce84.html?affid=4a493be19ab2aa17a1afbeaa9866ce6b\n",
      "soup: http://jobviewtrack.com/en-gb/job-481941694812060d4207002604040d13174f1a010a716f47584e591600004e17222e09150b150c41181b6b2342524e444e0d1c1a2530451501020b146411475e5c411f/d4932e72af43dd8d3baeb9589dbf43a8.html?affid=4a493be19ab2aa17a1afbeaa9866ce6b\n",
      "soup: http://jobviewtrack.com/en-gb/job-181e412c19555f5b10/dad77be6574a53f17b82c9e582074b3c.html?affid=4a493be19ab2aa17a1afbeaa9866ce6b\n",
      "soup: http://jobviewtrack.com/en-gb/job-4948416e42090d1b5400490c06632709114506066b3e454f5841440a086c6a1b440604126f515c164751/118692c4e50a07137ca55a48db9ddb87.html?affid=4a493be19ab2aa17a1afbeaa9866ce6b\n",
      "soup: http://jobviewtrack.com/en-gb/job-181e412c19555f5b10/99d3692729acea376ef3d83bb6323ecb.html?affid=4a493be19ab2aa17a1afbeaa9866ce6b\n",
      "soup: http://jobviewtrack.com/en-gb/job-491b412c1e5d57581576115a5955575f/21e39b4f8e558811b96052c3609b3af2.html?affid=4a493be19ab2aa17a1afbeaa9866ce6b\n",
      "soup: http://jobviewtrack.com/en-gb/job-1b1f41654805031a4f5473061a170704005376200c12465f552f7d0c161d4e1749101c633d0217561d0b0c0028644d485f051b07481a410f69505b57521743/e7ddefbfe0d7f00dd3ebd0b115d60cb6.html?affid=4a493be19ab2aa17a1afbeaa9866ce6b\n",
      "soup: http://jobviewtrack.com/en-gb/job-134f41625d10060d4618003300181d0e0649071c6b3c5a5f544e4c086d3e4f0d530a0b081d136769100d08002b1a0e1b19545a/579ea382efa185e3ca91335fc606af55.html?affid=4a493be19ab2aa17a1afbeaa9866ce6b\n",
      "soup: http://jobviewtrack.com/en-gb/job-181e412c19555f5b10/dd788f76b8d4e10e8a4a2cc50938b164.html?affid=4a493be19ab2aa17a1afbeaa9866ce6b\n",
      "soup: http://jobviewtrack.com/en-gb/job-134f41625d10060d4618003300181d0e0649071c6b3c5a5f544e4c086d3e4f0d530a0b081d136769100d08002b1a0e1b19545a/602068d652231019a5fc02fc8769ef9a.html?affid=4a493be19ab2aa17a1afbeaa9866ce6b\n",
      "soup: http://jobviewtrack.com/en-gb/job-181e412c19555f5b10/5e9b7044441f5238a76c652de137d231.html?affid=4a493be19ab2aa17a1afbeaa9866ce6b\n",
      "soup: http://jobviewtrack.com/en-gb/job-181e412c19555f5b10/261ec26ae60206e37827223dabd042ed.html?affid=4a493be19ab2aa17a1afbeaa9866ce6b\n",
      "soup: http://jobviewtrack.com/en-gb/job-4e1c416855140a1c4e114e000d605f5556184d5a/8e97dd79ab5efac9f5839fbf2896453a.html?affid=4a493be19ab2aa17a1afbeaa9866ce6b\n",
      "soup: http://jobviewtrack.com/en-gb/job-181e412c19555f5b10/bbbd7edf2d221fe516f0c1ae4a5b4fd0.html?affid=4a493be19ab2aa17a1afbeaa9866ce6b\n",
      "soup: http://jobviewtrack.com/en-gb/job-4e1c416855140a1c4e114e000d605f5556184d5a/bc4107dc310f36b0ed0c8ba795595f8b.html?affid=4a493be19ab2aa17a1afbeaa9866ce6b\n",
      "soup: http://jobviewtrack.com/en-gb/job-181e412c19555f5b10/e7e1f20ca1d1503f10025f9ee6100d59.html?affid=4a493be19ab2aa17a1afbeaa9866ce6b\n",
      "soup: http://jobviewtrack.com/en-gb/job-181e412c19555f5b10/03e6fc0b055ea3c20a5f31df6480c481.html?affid=4a493be19ab2aa17a1afbeaa9866ce6b\n",
      "soup: http://jobviewtrack.com/en-gb/job-181e412c19555f5b10/b9a998726e4fdc4cfeb7bb97af9b382f.html?affid=4a493be19ab2aa17a1afbeaa9866ce6b\n",
      "soup: http://jobviewtrack.com/en-gb/job-1f4d41604800060d461800270d170704005376250c1743485c410d340717541d430a1b156c2a00441d0b081f0a6e534a440a0a0b551d4e046a2400000c4e110d1b1a444c1d7d451d1c07441d53176a2400000c4e110d1b1a444c3c1c1e525b5e12/5c0175e39da309f83ca3b3729dc7d59f.html?affid=4a493be19ab2aa17a1afbeaa9866ce6b\n",
      "soup: http://jobviewtrack.com/en-gb/job-1848416f580d030a4e1a47433b041c110c43111b6b315f425149440a086c771c5910010207141122270d1b054348585e2c555b561e4717/f24c0fff2144ebfda1a01a562945011d.html?affid=4a493be19ab2aa17a1afbeaa9866ce6b\n",
      "soup: http://jobviewtrack.com/en-gb/job-1c12416a5f050b1b46004561380917140c431d1b1d721b180b191d51/30d0d5c3dfb64b276957bf22a6073542.html?affid=4a493be19ab2aa17a1afbeaa9866ce6b\n",
      "soup: http://jobviewtrack.com/en-gb/job-1812416948120a0248044d0606154e220b471d060c16582978434a0d010b4206222c181507041622300d1f1646444d40480a1b6f124d19535b/844711094d39aa50619c7b9bdec55e48.html?affid=4a493be19ab2aa17a1afbeaa9866ce6b\n",
      "soup: http://jobviewtrack.com/en-gb/job-1918412c1c5d5e5c1f47/f33ed00a9ac148bd92d9da759db508e4.html?affid=4a493be19ab2aa17a1afbeaa9866ce6b\n",
      "soup: http://jobviewtrack.com/en-gb/job-4f1c417d451d1c07441d53176a3506020a52111c00104b473c1c1950575714/4130795d5bb2e3a6c1023465039fd900.html?affid=4a493be19ab2aa17a1afbeaa9866ce6b\n",
      "soup: http://jobviewtrack.com/en-gb/job-1d4a412c1b545d5f12/d07a2b39b6f090bb8e60b979fa12f33f.html?affid=4a493be19ab2aa17a1afbeaa9866ce6b\n",
      "soup: http://jobviewtrack.com/en-gb/job-191d412c1f565c571547/e97cd8adba0adaa1a97a09afc7876e31.html?affid=4a493be19ab2aa17a1afbeaa9866ce6b\n",
      "soup: http://jobviewtrack.com/en-gb/job-191d412c1f565c571547/a879eee4913250f8b183cce2cf7b5ff1.html?affid=4a493be19ab2aa17a1afbeaa9866ce6b\n",
      "soup: http://jobviewtrack.com/en-gb/job-4f1e417d451d1c07441d531769505d51511041/9a11246e56bd74d095cfaa6812e4aedf.html?affid=4a493be19ab2aa17a1afbeaa9866ce6b\n",
      "soup: http://jobviewtrack.com/en-gb/job-4e1c416855140a1c4e114e000d605f5556184d5a/8e97dd79ab5efac9f5839fbf2896453a.html?affid=4a493be19ab2aa17a1afbeaa9866ce6b\n",
      "soup: http://jobviewtrack.com/en-gb/job-4e1c416855140a1c4e114e000d605f5556184d5a/bc4107dc310f36b0ed0c8ba795595f8b.html?affid=4a493be19ab2aa17a1afbeaa9866ce6b\n",
      "soup: http://jobviewtrack.com/en-gb/job-4f19416c5b0d0e1a4e1b4e6129081c051053763b08074f47514459016d264e13486259555a5f5c13/6f704a492a13ad8814e2e057d68dadba.html?affid=4a493be19ab2aa17a1afbeaa9866ce6b\n",
      "soup: http://jobviewtrack.com/en-gb/job-1a1a417d451d1c07441d53176954585e5c15/7605131f0c332a30b4c9260b3d7fdf81.html?affid=4a493be19ab2aa17a1afbeaa9866ce6b\n",
      "soup: http://jobviewtrack.com/en-gb/job-4f12417f48170a0f551748433b0207020b541d1b1d717a595259480d014e74174906061507141122260d1a164b595e450d341d015311490d6a330b140041060b0171794854484310061d537511575c505754/2e68aa3c3cab7ebe3a152477664ee577.html?affid=4a493be19ab2aa17a1afbeaa9866ce6b\n",
      "soup: http://jobviewtrack.com/en-gb/job-1e1d417e480a06015554701107150b0e0b00270b0016445f545e59663c0b491d4f1148320d0e004e00011a07287b4f42590106000727430a0d0f1a0e1654763b0a1a4f4549445e106d3e551b5406010f6f56511445515a/0274e0f1eb60c8c70eea925fed8ea7be.html?affid=4a493be19ab2aa17a1afbeaa9866ce6b\n",
      "soup: http://jobviewtrack.com/en-gb/job-4c18417d5f0b1b0b4e1a2221010e0d0f004d1d1b1d721b1f091c1457/595248fe00e77387e8008664e78a4579.html?affid=4a493be19ab2aa17a1afbeaa9866ce6b\n",
      "soup: http://jobviewtrack.com/en-gb/job-1349417e4e0d0a00531d460a0b632d080b5301041d1a444c3f6f440b0c06421949101c633e150c4e17011912462a0c1e1b505f5b/467d0d9ffcdd64b57174b009afe08e4f.html?affid=4a493be19ab2aa17a1afbeaa9866ce6b\n",
      "soup: http://jobviewtrack.com/en-gb/job-1349417e4e0d0a00531d460a0b632d080b5301041d1a444c3f6f440b0c06421949101c633e150c4e17011912462a0c1e1b505f5b/77aef9d89e7f48b591fe76fd21306ef3.html?affid=4a493be19ab2aa17a1afbeaa9866ce6b\n",
      "soup: http://jobviewtrack.com/en-gb/job-1b4e417d5f0b1b0b4e1a2221010e0d0f004d1d1b1d721b1805/624416ce1f64ad6527e59fe34807acad.html?affid=4a493be19ab2aa17a1afbeaa9866ce6b\n",
      "soup: http://jobviewtrack.com/en-gb/job-1f4d41604800060d461800270d170704005376250c1743485c412f260601441c450e01121a6536451a1b0601592979485b0d0c0b547511575f535952/240c659ff60406cb180835097e077c7a.html?affid=4a493be19ab2aa17a1afbeaa9866ce6b\n",
      "soup: http://jobviewtrack.com/en-gb/job-4949417d42171b0a4817540c1a0002473745070d080149431d6b48080301507672061b040f150648542e0c1f46444a2f7d0b1c1a431b431707130f0b4572111b0c125848552f7d0b1c1a431b431707130f0b45661104051c5d297e4841084f2c4e1b4c0c0f081d136411405050401d/ab79700bbc57339ecce51d6d50dd2665.html?affid=4a493be19ab2aa17a1afbeaa9866ce6b\n",
      "soup: http://jobviewtrack.com/en-gb/job-1b4e417d5f0b1b0b4e1a2221010e0d0f004d1d1b1d721b1805/aa20d0b4aabc8ef7655fe0389f9cab51.html?affid=4a493be19ab2aa17a1afbeaa9866ce6b\n",
      "soup: http://jobviewtrack.com/en-gb/job-1b4e417d5f0b1b0b4e1a2221010e0d0f004d1d1b1d721b1805/5ab9127b293d2402f8dd38fff285777c.html?affid=4a493be19ab2aa17a1afbeaa9866ce6b\n",
      "soup: http://jobviewtrack.com/en-gb/job-1d19416e420a1c1b4b00410d1c632c0e0a431c0d041a595f3c1c1b51/ef65d0098c6b3c3b50f52d23ba21f9a4.html?affid=4a493be19ab2aa17a1afbeaa9866ce6b\n",
      "soup: http://jobviewtrack.com/en-gb/job-121a416e420a1c1b4b00410d1c632c0e0a431c0d041a595f3c1c1e525b5e12/3c0e29eeb2cc0af2416fda56ec8d809d.html?affid=4a493be19ab2aa17a1afbeaa9866ce6b\n",
      "soup: http://jobviewtrack.com/en-gb/job-121a416e420a1c1b4b00410d1c632c0e0a431c0d041a595f3c1c1e525b5e12/f2a1ffd1bd752f73bb18ff11ce051510.html?affid=4a493be19ab2aa17a1afbeaa9866ce6b\n",
      "soup: http://jobviewtrack.com/en-gb/job-4949417d42171b0a4817540c1a0002473745070d080149431d6b48080301507672061b040f150648542e0c1f46444a2f7d0b1c1a431b431707130f0b4572111b0c125848552f7d0b1c1a431b431707130f0b45661104051c5d297e4841084f2c4e1b4c0c0f081d136411405050401d/f0e00224e0348a889ccfdad5fd76df83.html?affid=4a493be19ab2aa17a1afbeaa9866ce6b\n",
      "soup: http://jobviewtrack.com/en-gb/job-1f18417e59161a0d5301520204413e150a5411010771795f4f584e101a1c461822331a0e1a020c4e762a001c46445a445e106d2c4e1b430b0d0c07141121455c5e411d1e/f84c4819193c5948bc638e083d00bc1a.html?affid=4a493be19ab2aa17a1afbeaa9866ce6b\n",
      "soup: http://jobviewtrack.com/en-gb/job-181a417e480a06015554701107150b0e0b00270b0016445f545e59663c0b491d4f1148320d0e004e00011a07287b4f42590106000727430a0d0f1a0e1654763b0a1a4f4549445e106d3e551b5406010f6f5154/a82d9eecca537716c602499debad1b68.html?affid=4a493be19ab2aa17a1afbeaa9866ce6b\n",
      "soup: http://jobviewtrack.com/en-gb/job-1918417f48170a0f5517484329121d080649151c0c71674451484e11030f5554620a070d01000c53006a3b16594e5c5f4e0c4f23481845001d0d0f156772111b0c125848552f6f0d0002481349101c605f545314445d/622f03a32cbd8c2c07bc306aa0fd9cd7.html?affid=4a493be19ab2aa17a1afbeaa9866ce6b\n",
      "soup: http://jobviewtrack.com/en-gb/job-1a1841604800060d461800270d170704005376250c1743485c412f370a00541b52106a250b110c43111b68421e1c0f1a18/b53bf8baa4a4289d812cbea39d45f7ce.html?affid=4a493be19ab2aa17a1afbeaa9866ce6b\n",
      "soup: http://jobviewtrack.com/en-gb/job-4e1e416042080a0d5218411148230708094f13011a07286a4e5e4207060f531100300b080b091149071c6b2049425843590d1c1a2536490c040e090e165476291a004548544c59016e5f144214535d/16a06b03da15ccb532d4f276a87c1047.html?affid=4a493be19ab2aa17a1afbeaa9866ce6b\n",
      "soup: http://jobviewtrack.com/en-gb/job-4f1c416042080a0d5218411148230708094f13011a0728785e44480a1b0754002221010e02080249071c6b3e4547584e58080e1c264513555c515b/0adf5e76c2245525be02e7c48b2776ce.html?affid=4a493be19ab2aa17a1afbeaa9866ce6b\n",
      "soup: http://jobviewtrack.com/en-gb/job-1c1a416548050b4e4812002e090f0f00004d11061d71624e5c490d0b096c631150021a1503020b5454200c124e29704c4305080b4a114e176a2206020849071c68461c1f0c18/1bdc7a45825c145a349ffea9f34742f7.html?affid=4a493be19ab2aa17a1afbeaa9866ce6b\n",
      "soup: http://jobviewtrack.com/en-gb/job-4b1e416c5e170e17073045150d0d011708451a1c6b374f5d58414214020b490022221b120f1e64114651504713/692d0a247f0fe558976aea3676b848df.html?affid=4a493be19ab2aa17a1afbeaa9866ce6b\n",
      "soup: http://jobviewtrack.com/en-gb/job-4b1e416c5e170e17073045150d0d011708451a1c6b374f5d58414214020b490022221b120f1e64114651504713/8960913c012b53d32aaa5852aa665ccc.html?affid=4a493be19ab2aa17a1afbeaa9866ce6b\n",
      "soup: http://jobviewtrack.com/en-gb/job-1f1e417e59161a0d5301520204413e150a5411010771795f4f584e101a1c461822331a0e1a020c4e762a001c46445a445e106d2342194211090f0b665414435a5e46/8c773677700cea8fcf02032b93a4aabe.html?affid=4a493be19ab2aa17a1afbeaa9866ce6b\n",
      "soup: http://jobviewtrack.com/en-gb/job-134e416e420a1c1b4b00410d1c605f545314445d/1df22b3aaa20eefd4efd69d23b88d8b2.html?affid=4a493be19ab2aa17a1afbeaa9866ce6b\n",
      "soup: http://jobviewtrack.com/en-gb/job-4b48417f48170a0f55174843090f0a472145020d051c5a465843596622014b11431604001c4727491b0406144358492f7f011c0b4606430b482c010b0043010408012879585e48051d0d4f7664061e040208154d11061d721d1b3f1c1f5d565a1e/dca238da7a4701012a8bc6f871dd7b2a.html?affid=4a493be19ab2aa17a1afbeaa9866ce6b\n",
      "soup: http://jobviewtrack.com/en-gb/job-1b1c417e48161907441122331a0e1a020c4e755e59421a18/40690f587934ff33f3d602a02009c3bf.html?affid=4a493be19ab2aa17a1afbeaa9866ce6b\n",
      "soup: http://jobviewtrack.com/en-gb/job-1f4a417e48161907441122331a0e1a020c4e755e59421a183f18145d5f5a/8532276953e5266530614019a2852b4d.html?affid=4a493be19ab2aa17a1afbeaa9866ce6b\n",
      "soup: http://jobviewtrack.com/en-gb/job-4c4f417e48161907441122331a0e1a020c4e755d504a1a1f3f1b1d555f5d/577356f5288ce025ad0d3ee0523fa19a.html?affid=4a493be19ab2aa17a1afbeaa9866ce6b\n",
      "soup: http://jobviewtrack.com/en-gb/job-4818417f48170a0f551748061a605f555c194051/773e21c867cc9805d1aa537d3b6b3ca1.html?affid=4a493be19ab2aa17a1afbeaa9866ce6b\n",
      "soup: http://jobviewtrack.com/en-gb/job-4e4e412c185c5f5d1376125b59545854/75b6511b36f5a308a35e4a68d0fe0a5e.html?affid=4a493be19ab2aa17a1afbeaa9866ce6b\n",
      "soup: http://jobviewtrack.com/en-gb/job-4f19412c1e53585812/6973c6f6c8f3b7e6fc48879ba9e3389f.html?affid=4a493be19ab2aa17a1afbeaa9866ce6b\n",
      "soup: http://jobviewtrack.com/en-gb/job-1a4f417d5f0b1b0b4e1a222e0d0c0c15044e116958471d190a18/64ca8f366e550752a855cc77643e2fc9.html?affid=4a493be19ab2aa17a1afbeaa9866ce6b\n",
      "soup: http://jobviewtrack.com/en-gb/job-1e1d417e480a06015554701107150b0e0b00270b0016445f545e59663c0b491d4f1148320d0e004e00011a07287b4f42590106000727430a0d0f1a0e1654763b0a1a4f4549445e106d3e551b5406010f6f56511445515a/838076e25edd622fee6375d5f3f229c8.html?affid=4a493be19ab2aa17a1afbeaa9866ce6b\n",
      "soup: http://jobviewtrack.com/en-gb/job-4e1b417e4e0d0a00531d531748310623677317010c1d5e424e592f2606014b1b470a1b156f525216435d/ebd2067f2f0f0fb15f9a652730d2c587.html?affid=4a493be19ab2aa17a1afbeaa9866ce6b\n",
      "soup: http://jobviewtrack.com/en-gb/job-121d417d5f0b1b0b4e1a21525c555f5e56/bfc87b7e077e0b25fb81466c91d1298e.html?affid=4a493be19ab2aa17a1afbeaa9866ce6b\n",
      "CPU times: user 15.1 s, sys: 487 ms, total: 15.6 s\n",
      "Wall time: 2min 14s\n"
     ]
    },
    {
     "name": "stderr",
     "output_type": "stream",
     "text": [
      "<timed exec>:1: SettingWithCopyWarning: \n",
      "A value is trying to be set on a copy of a slice from a DataFrame.\n",
      "Try using .loc[row_indexer,col_indexer] = value instead\n",
      "\n",
      "See the caveats in the documentation: https://pandas.pydata.org/pandas-docs/stable/user_guide/indexing.html#returning-a-view-versus-a-copy\n"
     ]
    }
   ],
   "source": [
    "%%time\n",
    "sample_1['info'] = sample_1.link_for_skills.apply(scrap_link) "
   ]
  },
  {
   "cell_type": "code",
   "execution_count": 25,
   "id": "51f8507a-7959-4ca0-9da7-8657a62def88",
   "metadata": {},
   "outputs": [],
   "source": [
    "sample_2 = data[101:500]"
   ]
  },
  {
   "cell_type": "code",
   "execution_count": 26,
   "id": "5daea65f-04c1-4653-b6d5-ec4a52f2da59",
   "metadata": {},
   "outputs": [
    {
     "name": "stdout",
     "output_type": "stream",
     "text": [
      "CPU times: user 53.3 s, sys: 1.31 s, total: 54.6 s\n",
      "Wall time: 9min 40s\n"
     ]
    },
    {
     "name": "stderr",
     "output_type": "stream",
     "text": [
      "<timed exec>:1: SettingWithCopyWarning: \n",
      "A value is trying to be set on a copy of a slice from a DataFrame.\n",
      "Try using .loc[row_indexer,col_indexer] = value instead\n",
      "\n",
      "See the caveats in the documentation: https://pandas.pydata.org/pandas-docs/stable/user_guide/indexing.html#returning-a-view-versus-a-copy\n"
     ]
    }
   ],
   "source": [
    "%%time\n",
    "sample_2['info'] = sample_2.link_for_skills.apply(scrap_link) "
   ]
  },
  {
   "cell_type": "code",
   "execution_count": 57,
   "id": "d2e740e6-c8fb-42c8-ae13-d5e61bfd48aa",
   "metadata": {},
   "outputs": [],
   "source": [
    "sample_2 = sample_2[:251]"
   ]
  },
  {
   "cell_type": "code",
   "execution_count": 60,
   "id": "05ff0abe-23c8-48c6-b46b-88ee82e5ce4d",
   "metadata": {},
   "outputs": [],
   "source": [
    "sample_3 = data[351:600]"
   ]
  },
  {
   "cell_type": "code",
   "execution_count": 61,
   "id": "2254573e-4092-48d8-ac62-0d9fbfe25269",
   "metadata": {},
   "outputs": [
    {
     "name": "stdout",
     "output_type": "stream",
     "text": [
      "CPU times: user 39.1 s, sys: 1.32 s, total: 40.4 s\n",
      "Wall time: 6min 19s\n"
     ]
    },
    {
     "name": "stderr",
     "output_type": "stream",
     "text": [
      "<timed exec>:1: SettingWithCopyWarning: \n",
      "A value is trying to be set on a copy of a slice from a DataFrame.\n",
      "Try using .loc[row_indexer,col_indexer] = value instead\n",
      "\n",
      "See the caveats in the documentation: https://pandas.pydata.org/pandas-docs/stable/user_guide/indexing.html#returning-a-view-versus-a-copy\n"
     ]
    }
   ],
   "source": [
    "%%time\n",
    "sample_3['info'] = sample_3.link_for_skills.apply(scrap_link) "
   ]
  },
  {
   "cell_type": "code",
   "execution_count": 66,
   "id": "a115e229-d436-40f3-bc13-ede74dc22f81",
   "metadata": {},
   "outputs": [],
   "source": [
    "sample_4 = data[602:1000]"
   ]
  },
  {
   "cell_type": "code",
   "execution_count": 67,
   "id": "bf4ae1a3-b573-4f33-b35c-f94487a4e1f6",
   "metadata": {},
   "outputs": [
    {
     "name": "stdout",
     "output_type": "stream",
     "text": [
      "CPU times: user 48 s, sys: 1.47 s, total: 49.5 s\n",
      "Wall time: 9min 30s\n"
     ]
    },
    {
     "name": "stderr",
     "output_type": "stream",
     "text": [
      "<timed exec>:1: SettingWithCopyWarning: \n",
      "A value is trying to be set on a copy of a slice from a DataFrame.\n",
      "Try using .loc[row_indexer,col_indexer] = value instead\n",
      "\n",
      "See the caveats in the documentation: https://pandas.pydata.org/pandas-docs/stable/user_guide/indexing.html#returning-a-view-versus-a-copy\n"
     ]
    }
   ],
   "source": [
    "%%time\n",
    "sample_4['info'] = sample_4.link_for_skills.apply(scrap_link) "
   ]
  },
  {
   "cell_type": "code",
   "execution_count": 85,
   "id": "09acee9a-b53a-42a1-a089-80169875d245",
   "metadata": {},
   "outputs": [],
   "source": [
    "sample_4 = sample_4[:-148]"
   ]
  },
  {
   "cell_type": "code",
   "execution_count": 88,
   "id": "e4981467-32d2-406d-8551-815dac7add41",
   "metadata": {},
   "outputs": [],
   "source": [
    "sample_5 = data[855:1100]"
   ]
  },
  {
   "cell_type": "code",
   "execution_count": 90,
   "id": "04645ffd-0a1f-46f6-9efd-d7b41a724c83",
   "metadata": {},
   "outputs": [
    {
     "name": "stdout",
     "output_type": "stream",
     "text": [
      "CPU times: user 38.7 s, sys: 1.16 s, total: 39.9 s\n",
      "Wall time: 4min 8s\n"
     ]
    },
    {
     "name": "stderr",
     "output_type": "stream",
     "text": [
      "<timed exec>:1: SettingWithCopyWarning: \n",
      "A value is trying to be set on a copy of a slice from a DataFrame.\n",
      "Try using .loc[row_indexer,col_indexer] = value instead\n",
      "\n",
      "See the caveats in the documentation: https://pandas.pydata.org/pandas-docs/stable/user_guide/indexing.html#returning-a-view-versus-a-copy\n"
     ]
    }
   ],
   "source": [
    "%%time\n",
    "sample_5['info'] = sample_5.link_for_skills.apply(scrap_link) "
   ]
  },
  {
   "cell_type": "code",
   "execution_count": 96,
   "id": "acb4fe20-34f1-4584-a5ca-6f01fdc4d99a",
   "metadata": {},
   "outputs": [],
   "source": [
    "sample_6 = data[1103:1300]"
   ]
  },
  {
   "cell_type": "code",
   "execution_count": 97,
   "id": "41e24cc6-af5e-4147-817e-3f31cc7c1f57",
   "metadata": {},
   "outputs": [
    {
     "name": "stdout",
     "output_type": "stream",
     "text": [
      "CPU times: user 46.1 s, sys: 1.3 s, total: 47.4 s\n",
      "Wall time: 4min 31s\n"
     ]
    },
    {
     "name": "stderr",
     "output_type": "stream",
     "text": [
      "<timed exec>:1: SettingWithCopyWarning: \n",
      "A value is trying to be set on a copy of a slice from a DataFrame.\n",
      "Try using .loc[row_indexer,col_indexer] = value instead\n",
      "\n",
      "See the caveats in the documentation: https://pandas.pydata.org/pandas-docs/stable/user_guide/indexing.html#returning-a-view-versus-a-copy\n"
     ]
    }
   ],
   "source": [
    "%%time\n",
    "sample_6['info'] = sample_6.link_for_skills.apply(scrap_link) "
   ]
  },
  {
   "cell_type": "code",
   "execution_count": 104,
   "id": "af28e650-66b6-47cf-a73c-88e392a0b7a0",
   "metadata": {},
   "outputs": [],
   "source": [
    "sample_7 = data[1303:1500]"
   ]
  },
  {
   "cell_type": "code",
   "execution_count": 105,
   "id": "b117539a-253d-422a-8e64-8a58234ae078",
   "metadata": {},
   "outputs": [
    {
     "name": "stdout",
     "output_type": "stream",
     "text": [
      "CPU times: user 47.1 s, sys: 1.42 s, total: 48.5 s\n",
      "Wall time: 3min 28s\n"
     ]
    },
    {
     "name": "stderr",
     "output_type": "stream",
     "text": [
      "<timed exec>:1: SettingWithCopyWarning: \n",
      "A value is trying to be set on a copy of a slice from a DataFrame.\n",
      "Try using .loc[row_indexer,col_indexer] = value instead\n",
      "\n",
      "See the caveats in the documentation: https://pandas.pydata.org/pandas-docs/stable/user_guide/indexing.html#returning-a-view-versus-a-copy\n"
     ]
    }
   ],
   "source": [
    "%%time\n",
    "sample_7['info'] = sample_7.link_for_skills.apply(scrap_link) "
   ]
  },
  {
   "cell_type": "code",
   "execution_count": 117,
   "id": "9ec3eef8-68ac-4a8b-82e8-a91a0fd87831",
   "metadata": {},
   "outputs": [],
   "source": [
    "sample_8 = data[1503:1800]"
   ]
  },
  {
   "cell_type": "code",
   "execution_count": 118,
   "id": "f3e82887-832d-4ed1-b943-05965c5f0980",
   "metadata": {},
   "outputs": [
    {
     "name": "stdout",
     "output_type": "stream",
     "text": [
      "CPU times: user 1min 6s, sys: 1.89 s, total: 1min 8s\n",
      "Wall time: 9min 26s\n"
     ]
    },
    {
     "name": "stderr",
     "output_type": "stream",
     "text": [
      "<timed exec>:1: SettingWithCopyWarning: \n",
      "A value is trying to be set on a copy of a slice from a DataFrame.\n",
      "Try using .loc[row_indexer,col_indexer] = value instead\n",
      "\n",
      "See the caveats in the documentation: https://pandas.pydata.org/pandas-docs/stable/user_guide/indexing.html#returning-a-view-versus-a-copy\n"
     ]
    }
   ],
   "source": [
    "%%time\n",
    "sample_8['info'] = sample_8.link_for_skills.apply(scrap_link) "
   ]
  },
  {
   "cell_type": "code",
   "execution_count": 136,
   "id": "527f87d7-4f9e-41ed-af85-fef2ff11abde",
   "metadata": {},
   "outputs": [],
   "source": [
    "sample_8 = sample_8[:250]"
   ]
  },
  {
   "cell_type": "code",
   "execution_count": 141,
   "id": "db518033-d6ad-490a-a123-63551d93d503",
   "metadata": {},
   "outputs": [],
   "source": [
    "partial_data = sample_1.append(sample_2).append(sample_3).append(sample_4).append(sample_5).append(sample_6).append(sample_7).append(sample_8)"
   ]
  },
  {
   "cell_type": "code",
   "execution_count": 143,
   "id": "121c9bc8-b46f-4ed6-b43f-eb420af37420",
   "metadata": {},
   "outputs": [],
   "source": [
    "partial_data.to_csv('1_partial_data.csv')"
   ]
  },
  {
   "cell_type": "code",
   "execution_count": 151,
   "id": "b09700df-92a2-4cdb-8bc3-ffd828bfffef",
   "metadata": {},
   "outputs": [],
   "source": [
    "sample_9 = data[1753:2000]"
   ]
  },
  {
   "cell_type": "code",
   "execution_count": 152,
   "id": "59ab157f-cbf5-4e05-894c-613116016e63",
   "metadata": {},
   "outputs": [
    {
     "name": "stdout",
     "output_type": "stream",
     "text": [
      "CPU times: user 1min 5s, sys: 2.16 s, total: 1min 7s\n",
      "Wall time: 11min 4s\n"
     ]
    },
    {
     "name": "stderr",
     "output_type": "stream",
     "text": [
      "<timed exec>:1: SettingWithCopyWarning: \n",
      "A value is trying to be set on a copy of a slice from a DataFrame.\n",
      "Try using .loc[row_indexer,col_indexer] = value instead\n",
      "\n",
      "See the caveats in the documentation: https://pandas.pydata.org/pandas-docs/stable/user_guide/indexing.html#returning-a-view-versus-a-copy\n"
     ]
    }
   ],
   "source": [
    "%%time\n",
    "sample_9['info'] = sample_9.link_for_skills.apply(scrap_link) "
   ]
  },
  {
   "cell_type": "code",
   "execution_count": 156,
   "id": "29c6e192-795d-4b8e-84fb-2ace9e491441",
   "metadata": {},
   "outputs": [],
   "source": [
    "sample_10 = data[2000:2250]"
   ]
  },
  {
   "cell_type": "code",
   "execution_count": 157,
   "id": "d6a7ae57-2054-412a-b4ad-3d9e2dab8ade",
   "metadata": {},
   "outputs": [
    {
     "name": "stdout",
     "output_type": "stream",
     "text": [
      "CPU times: user 42.4 s, sys: 1.22 s, total: 43.6 s\n",
      "Wall time: 22min 1s\n"
     ]
    },
    {
     "name": "stderr",
     "output_type": "stream",
     "text": [
      "<timed exec>:1: SettingWithCopyWarning: \n",
      "A value is trying to be set on a copy of a slice from a DataFrame.\n",
      "Try using .loc[row_indexer,col_indexer] = value instead\n",
      "\n",
      "See the caveats in the documentation: https://pandas.pydata.org/pandas-docs/stable/user_guide/indexing.html#returning-a-view-versus-a-copy\n"
     ]
    }
   ],
   "source": [
    "%%time\n",
    "sample_10['info'] = sample_10.link_for_skills.apply(scrap_link) "
   ]
  },
  {
   "cell_type": "code",
   "execution_count": 160,
   "id": "44f30283-fae9-4f82-89c6-dae93a52c7fc",
   "metadata": {},
   "outputs": [],
   "source": [
    "sample_11 = data[2250:2500]"
   ]
  },
  {
   "cell_type": "code",
   "execution_count": 161,
   "id": "e6dacbc9-6035-4b1e-9582-fb16b5812acf",
   "metadata": {},
   "outputs": [
    {
     "name": "stdout",
     "output_type": "stream",
     "text": [
      "CPU times: user 35.4 s, sys: 975 ms, total: 36.4 s\n",
      "Wall time: 4min 6s\n"
     ]
    },
    {
     "name": "stderr",
     "output_type": "stream",
     "text": [
      "<timed exec>:1: SettingWithCopyWarning: \n",
      "A value is trying to be set on a copy of a slice from a DataFrame.\n",
      "Try using .loc[row_indexer,col_indexer] = value instead\n",
      "\n",
      "See the caveats in the documentation: https://pandas.pydata.org/pandas-docs/stable/user_guide/indexing.html#returning-a-view-versus-a-copy\n"
     ]
    }
   ],
   "source": [
    "%%time\n",
    "sample_11['info'] = sample_11.link_for_skills.apply(scrap_link) "
   ]
  },
  {
   "cell_type": "code",
   "execution_count": 170,
   "id": "1341f035-f0e1-444b-abf3-05aa922b81ab",
   "metadata": {},
   "outputs": [],
   "source": [
    "sample_12 = data[2550:2800]"
   ]
  },
  {
   "cell_type": "code",
   "execution_count": 171,
   "id": "f0c4db2e-d754-4546-bf97-d5e148f2db08",
   "metadata": {},
   "outputs": [
    {
     "name": "stdout",
     "output_type": "stream",
     "text": [
      "CPU times: user 37.3 s, sys: 1.12 s, total: 38.4 s\n",
      "Wall time: 5min 42s\n"
     ]
    },
    {
     "name": "stderr",
     "output_type": "stream",
     "text": [
      "<timed exec>:1: SettingWithCopyWarning: \n",
      "A value is trying to be set on a copy of a slice from a DataFrame.\n",
      "Try using .loc[row_indexer,col_indexer] = value instead\n",
      "\n",
      "See the caveats in the documentation: https://pandas.pydata.org/pandas-docs/stable/user_guide/indexing.html#returning-a-view-versus-a-copy\n"
     ]
    }
   ],
   "source": [
    "%%time\n",
    "sample_12['info'] = sample_12.link_for_skills.apply(scrap_link) "
   ]
  },
  {
   "cell_type": "code",
   "execution_count": 176,
   "id": "c5df573e-3c2a-4452-8b1e-a9ab7cdbedae",
   "metadata": {},
   "outputs": [],
   "source": [
    "sample_13 = data[2800:3050]"
   ]
  },
  {
   "cell_type": "code",
   "execution_count": 177,
   "id": "7c41f4c7-e6fe-47f2-935d-2fbaab5ba793",
   "metadata": {},
   "outputs": [
    {
     "name": "stdout",
     "output_type": "stream",
     "text": [
      "CPU times: user 42.9 s, sys: 1.42 s, total: 44.4 s\n",
      "Wall time: 5min 47s\n"
     ]
    },
    {
     "name": "stderr",
     "output_type": "stream",
     "text": [
      "<timed exec>:1: SettingWithCopyWarning: \n",
      "A value is trying to be set on a copy of a slice from a DataFrame.\n",
      "Try using .loc[row_indexer,col_indexer] = value instead\n",
      "\n",
      "See the caveats in the documentation: https://pandas.pydata.org/pandas-docs/stable/user_guide/indexing.html#returning-a-view-versus-a-copy\n"
     ]
    }
   ],
   "source": [
    "%%time\n",
    "sample_13['info'] = sample_13.link_for_skills.apply(scrap_link) "
   ]
  },
  {
   "cell_type": "code",
   "execution_count": 188,
   "id": "0483637f-5648-4991-8099-0eb6304217d8",
   "metadata": {},
   "outputs": [],
   "source": [
    "sample_14 = data[3050:3300]"
   ]
  },
  {
   "cell_type": "code",
   "execution_count": 189,
   "id": "2261667b-28d3-4eb1-9ab0-2240fb9308fd",
   "metadata": {},
   "outputs": [
    {
     "name": "stdout",
     "output_type": "stream",
     "text": [
      "CPU times: user 35.8 s, sys: 1.06 s, total: 36.9 s\n",
      "Wall time: 9min 43s\n"
     ]
    },
    {
     "name": "stderr",
     "output_type": "stream",
     "text": [
      "<timed exec>:1: SettingWithCopyWarning: \n",
      "A value is trying to be set on a copy of a slice from a DataFrame.\n",
      "Try using .loc[row_indexer,col_indexer] = value instead\n",
      "\n",
      "See the caveats in the documentation: https://pandas.pydata.org/pandas-docs/stable/user_guide/indexing.html#returning-a-view-versus-a-copy\n"
     ]
    }
   ],
   "source": [
    "%%time\n",
    "sample_14['info'] = sample_14.link_for_skills.apply(scrap_link) "
   ]
  },
  {
   "cell_type": "code",
   "execution_count": 196,
   "id": "c1047fbc-e579-4d79-85c8-89abf9b13bba",
   "metadata": {},
   "outputs": [],
   "source": [
    "sample_15 = data[3300:3550]"
   ]
  },
  {
   "cell_type": "code",
   "execution_count": 197,
   "id": "2eb546e9-98c0-4e77-a381-af20995c6bb3",
   "metadata": {},
   "outputs": [
    {
     "name": "stdout",
     "output_type": "stream",
     "text": [
      "CPU times: user 36.4 s, sys: 1.12 s, total: 37.5 s\n",
      "Wall time: 4min 18s\n"
     ]
    },
    {
     "name": "stderr",
     "output_type": "stream",
     "text": [
      "<timed exec>:1: SettingWithCopyWarning: \n",
      "A value is trying to be set on a copy of a slice from a DataFrame.\n",
      "Try using .loc[row_indexer,col_indexer] = value instead\n",
      "\n",
      "See the caveats in the documentation: https://pandas.pydata.org/pandas-docs/stable/user_guide/indexing.html#returning-a-view-versus-a-copy\n"
     ]
    }
   ],
   "source": [
    "%%time\n",
    "sample_15['info'] = sample_15.link_for_skills.apply(scrap_link) "
   ]
  },
  {
   "cell_type": "code",
   "execution_count": 203,
   "id": "8a801fee-b688-4ba1-9ab8-a153e0140e01",
   "metadata": {},
   "outputs": [],
   "source": [
    "sample_16 = data[3550:3750]"
   ]
  },
  {
   "cell_type": "code",
   "execution_count": 204,
   "id": "38ef931c-ae7e-4df3-918c-78670142b85f",
   "metadata": {},
   "outputs": [
    {
     "name": "stdout",
     "output_type": "stream",
     "text": [
      "CPU times: user 30.6 s, sys: 795 ms, total: 31.4 s\n",
      "Wall time: 4min 53s\n"
     ]
    },
    {
     "name": "stderr",
     "output_type": "stream",
     "text": [
      "<timed exec>:1: SettingWithCopyWarning: \n",
      "A value is trying to be set on a copy of a slice from a DataFrame.\n",
      "Try using .loc[row_indexer,col_indexer] = value instead\n",
      "\n",
      "See the caveats in the documentation: https://pandas.pydata.org/pandas-docs/stable/user_guide/indexing.html#returning-a-view-versus-a-copy\n"
     ]
    }
   ],
   "source": [
    "%%time\n",
    "sample_16['info'] = sample_16.link_for_skills.apply(scrap_link) "
   ]
  },
  {
   "cell_type": "code",
   "execution_count": 206,
   "id": "6af97722-a3cc-4871-9069-b32bb63ba287",
   "metadata": {},
   "outputs": [],
   "source": [
    "partial_data_2 = sample_9.append(sample_10).append(sample_11).append(sample_12).append(sample_13).append(sample_14).append(sample_15).append(sample_16)"
   ]
  },
  {
   "cell_type": "code",
   "execution_count": 208,
   "id": "d91dce05-3a89-4f9f-a4d0-fe20ee95cd62",
   "metadata": {},
   "outputs": [],
   "source": [
    "partial_data_2.to_csv('2_partial_data.csv')"
   ]
  },
  {
   "cell_type": "code",
   "execution_count": 9,
   "id": "d1a833f5-f9f4-48de-800d-9973e7c2468d",
   "metadata": {},
   "outputs": [],
   "source": [
    "sample_17 = data[3750:4000]"
   ]
  },
  {
   "cell_type": "code",
   "execution_count": 10,
   "id": "52565cb5-69b2-46aa-8b97-7cdc588116f5",
   "metadata": {},
   "outputs": [
    {
     "name": "stdout",
     "output_type": "stream",
     "text": [
      "CPU times: user 44.8 s, sys: 1.38 s, total: 46.1 s\n",
      "Wall time: 12min 24s\n"
     ]
    },
    {
     "name": "stderr",
     "output_type": "stream",
     "text": [
      "<timed exec>:1: SettingWithCopyWarning: \n",
      "A value is trying to be set on a copy of a slice from a DataFrame.\n",
      "Try using .loc[row_indexer,col_indexer] = value instead\n",
      "\n",
      "See the caveats in the documentation: https://pandas.pydata.org/pandas-docs/stable/user_guide/indexing.html#returning-a-view-versus-a-copy\n"
     ]
    }
   ],
   "source": [
    "%%time\n",
    "sample_17['info'] = sample_17.link_for_skills.apply(scrap_link) "
   ]
  },
  {
   "cell_type": "code",
   "execution_count": 18,
   "id": "7b09bbff-6cb3-4098-927b-43fc85827ad4",
   "metadata": {},
   "outputs": [],
   "source": [
    "sample_18 = data[4000:4250]"
   ]
  },
  {
   "cell_type": "code",
   "execution_count": 19,
   "id": "7b26954f-f8ad-4d03-b2e1-308e5081ab2d",
   "metadata": {},
   "outputs": [
    {
     "name": "stdout",
     "output_type": "stream",
     "text": [
      "CPU times: user 47.3 s, sys: 1.69 s, total: 49 s\n",
      "Wall time: 22min 37s\n"
     ]
    },
    {
     "name": "stderr",
     "output_type": "stream",
     "text": [
      "<timed exec>:1: SettingWithCopyWarning: \n",
      "A value is trying to be set on a copy of a slice from a DataFrame.\n",
      "Try using .loc[row_indexer,col_indexer] = value instead\n",
      "\n",
      "See the caveats in the documentation: https://pandas.pydata.org/pandas-docs/stable/user_guide/indexing.html#returning-a-view-versus-a-copy\n"
     ]
    }
   ],
   "source": [
    "%%time\n",
    "sample_18['info'] = sample_18.link_for_skills.apply(scrap_link) "
   ]
  },
  {
   "cell_type": "code",
   "execution_count": 29,
   "id": "9326f1cf-c725-4cf9-961b-ae50c1be5a57",
   "metadata": {},
   "outputs": [],
   "source": [
    "sample_19 = data[4250:4500]"
   ]
  },
  {
   "cell_type": "code",
   "execution_count": 30,
   "id": "0d4404b7-45bd-441c-8dd3-73a197b4dd75",
   "metadata": {},
   "outputs": [
    {
     "name": "stdout",
     "output_type": "stream",
     "text": [
      "CPU times: user 41.6 s, sys: 1.35 s, total: 42.9 s\n",
      "Wall time: 9min 16s\n"
     ]
    },
    {
     "name": "stderr",
     "output_type": "stream",
     "text": [
      "<timed exec>:1: SettingWithCopyWarning: \n",
      "A value is trying to be set on a copy of a slice from a DataFrame.\n",
      "Try using .loc[row_indexer,col_indexer] = value instead\n",
      "\n",
      "See the caveats in the documentation: https://pandas.pydata.org/pandas-docs/stable/user_guide/indexing.html#returning-a-view-versus-a-copy\n"
     ]
    }
   ],
   "source": [
    "%%time\n",
    "sample_19['info'] = sample_19.link_for_skills.apply(scrap_link) "
   ]
  },
  {
   "cell_type": "code",
   "execution_count": 34,
   "id": "80a2e538-4fe9-4db3-87f3-46efd149c443",
   "metadata": {},
   "outputs": [],
   "source": [
    "sample_20 = data[4500:4750]"
   ]
  },
  {
   "cell_type": "code",
   "execution_count": 35,
   "id": "b6261bd7-710c-4db7-bbaf-eda2b9a69543",
   "metadata": {},
   "outputs": [
    {
     "name": "stdout",
     "output_type": "stream",
     "text": [
      "CPU times: user 38.3 s, sys: 1.13 s, total: 39.5 s\n",
      "Wall time: 7min 34s\n"
     ]
    },
    {
     "name": "stderr",
     "output_type": "stream",
     "text": [
      "<timed exec>:1: SettingWithCopyWarning: \n",
      "A value is trying to be set on a copy of a slice from a DataFrame.\n",
      "Try using .loc[row_indexer,col_indexer] = value instead\n",
      "\n",
      "See the caveats in the documentation: https://pandas.pydata.org/pandas-docs/stable/user_guide/indexing.html#returning-a-view-versus-a-copy\n"
     ]
    }
   ],
   "source": [
    "%%time\n",
    "sample_20['info'] = sample_20.link_for_skills.apply(scrap_link) "
   ]
  },
  {
   "cell_type": "code",
   "execution_count": 38,
   "id": "b18189b1-269c-44a7-a49f-57009e102572",
   "metadata": {},
   "outputs": [],
   "source": [
    "sample_21 = data[4750:5000]"
   ]
  },
  {
   "cell_type": "code",
   "execution_count": 39,
   "id": "01f675d0-e03b-4be4-b62a-77a58f155052",
   "metadata": {},
   "outputs": [
    {
     "name": "stdout",
     "output_type": "stream",
     "text": [
      "CPU times: user 43.2 s, sys: 1.37 s, total: 44.6 s\n",
      "Wall time: 18min 15s\n"
     ]
    },
    {
     "name": "stderr",
     "output_type": "stream",
     "text": [
      "<timed exec>:1: SettingWithCopyWarning: \n",
      "A value is trying to be set on a copy of a slice from a DataFrame.\n",
      "Try using .loc[row_indexer,col_indexer] = value instead\n",
      "\n",
      "See the caveats in the documentation: https://pandas.pydata.org/pandas-docs/stable/user_guide/indexing.html#returning-a-view-versus-a-copy\n"
     ]
    }
   ],
   "source": [
    "%%time\n",
    "sample_21['info'] = sample_21.link_for_skills.apply(scrap_link) "
   ]
  },
  {
   "cell_type": "code",
   "execution_count": 42,
   "id": "bf94a95e-0aba-4d42-b5fb-1bd693eee3d4",
   "metadata": {},
   "outputs": [],
   "source": [
    "partial_data_3 = sample_17.append(sample_18).append(sample_19).append(sample_20).append(sample_21)"
   ]
  },
  {
   "cell_type": "code",
   "execution_count": 43,
   "id": "efd2092f-1856-4427-a937-fd3c2849e344",
   "metadata": {},
   "outputs": [],
   "source": [
    "partial_data_3.to_csv('3_partial_data.csv')"
   ]
  },
  {
   "cell_type": "code",
   "execution_count": 4,
   "id": "246faa9e-06da-4c5e-a19f-5232ec4e334c",
   "metadata": {},
   "outputs": [],
   "source": [
    "#partial_data_3[500:1000]"
   ]
  },
  {
   "cell_type": "code",
   "execution_count": 9,
   "id": "1cb11115-ac2f-490a-9fe0-2b24ead8cdd8",
   "metadata": {},
   "outputs": [],
   "source": [
    "sample_22 = data[5000:5250]"
   ]
  },
  {
   "cell_type": "code",
   "execution_count": 10,
   "id": "780060ca-df63-4976-a284-33ef80b239f7",
   "metadata": {},
   "outputs": [
    {
     "name": "stdout",
     "output_type": "stream",
     "text": [
      "CPU times: user 1min 5s, sys: 1.99 s, total: 1min 7s\n",
      "Wall time: 5min 15s\n"
     ]
    },
    {
     "name": "stderr",
     "output_type": "stream",
     "text": [
      "<timed exec>:1: SettingWithCopyWarning: \n",
      "A value is trying to be set on a copy of a slice from a DataFrame.\n",
      "Try using .loc[row_indexer,col_indexer] = value instead\n",
      "\n",
      "See the caveats in the documentation: https://pandas.pydata.org/pandas-docs/stable/user_guide/indexing.html#returning-a-view-versus-a-copy\n"
     ]
    }
   ],
   "source": [
    "%%time\n",
    "sample_22['info'] = sample_22.link_for_skills.apply(scrap_link) "
   ]
  },
  {
   "cell_type": "code",
   "execution_count": 12,
   "id": "1825403a-af04-4df7-a31d-c52f90346654",
   "metadata": {},
   "outputs": [],
   "source": [
    "sample_23 = data[5250:5500]"
   ]
  },
  {
   "cell_type": "code",
   "execution_count": 13,
   "id": "f6b69356-f002-4b6f-94f6-8e365fdb3e2c",
   "metadata": {},
   "outputs": [
    {
     "name": "stdout",
     "output_type": "stream",
     "text": [
      "CPU times: user 1min 5s, sys: 1.94 s, total: 1min 7s\n",
      "Wall time: 7min 24s\n"
     ]
    },
    {
     "name": "stderr",
     "output_type": "stream",
     "text": [
      "<timed exec>:1: SettingWithCopyWarning: \n",
      "A value is trying to be set on a copy of a slice from a DataFrame.\n",
      "Try using .loc[row_indexer,col_indexer] = value instead\n",
      "\n",
      "See the caveats in the documentation: https://pandas.pydata.org/pandas-docs/stable/user_guide/indexing.html#returning-a-view-versus-a-copy\n"
     ]
    }
   ],
   "source": [
    "%%time\n",
    "sample_23['info'] = sample_23.link_for_skills.apply(scrap_link) "
   ]
  },
  {
   "cell_type": "code",
   "execution_count": 15,
   "id": "f5547176-9e04-4a81-99fa-e4a431187804",
   "metadata": {},
   "outputs": [],
   "source": [
    "sample_24 = data[5500:5750]"
   ]
  },
  {
   "cell_type": "code",
   "execution_count": 16,
   "id": "2be6290c-7a6a-4113-9851-b62a43c6c2b4",
   "metadata": {},
   "outputs": [
    {
     "name": "stdout",
     "output_type": "stream",
     "text": [
      "CPU times: user 1min 7s, sys: 2.19 s, total: 1min 9s\n",
      "Wall time: 6min 55s\n"
     ]
    },
    {
     "name": "stderr",
     "output_type": "stream",
     "text": [
      "<timed exec>:1: SettingWithCopyWarning: \n",
      "A value is trying to be set on a copy of a slice from a DataFrame.\n",
      "Try using .loc[row_indexer,col_indexer] = value instead\n",
      "\n",
      "See the caveats in the documentation: https://pandas.pydata.org/pandas-docs/stable/user_guide/indexing.html#returning-a-view-versus-a-copy\n"
     ]
    }
   ],
   "source": [
    "%%time\n",
    "sample_24['info'] = sample_24.link_for_skills.apply(scrap_link) "
   ]
  },
  {
   "cell_type": "code",
   "execution_count": 28,
   "id": "2bfeb7f4-d85e-4971-a9ab-82c10c36a209",
   "metadata": {},
   "outputs": [],
   "source": [
    "sample_25 = data[5750:6000]"
   ]
  },
  {
   "cell_type": "code",
   "execution_count": 29,
   "id": "01e7adcf-2ace-4398-ae78-411cb26cf53c",
   "metadata": {},
   "outputs": [
    {
     "name": "stdout",
     "output_type": "stream",
     "text": [
      "CPU times: user 1min 3s, sys: 1.72 s, total: 1min 4s\n",
      "Wall time: 11min 15s\n"
     ]
    },
    {
     "name": "stderr",
     "output_type": "stream",
     "text": [
      "<timed exec>:1: SettingWithCopyWarning: \n",
      "A value is trying to be set on a copy of a slice from a DataFrame.\n",
      "Try using .loc[row_indexer,col_indexer] = value instead\n",
      "\n",
      "See the caveats in the documentation: https://pandas.pydata.org/pandas-docs/stable/user_guide/indexing.html#returning-a-view-versus-a-copy\n"
     ]
    }
   ],
   "source": [
    "%%time\n",
    "sample_25['info'] = sample_25.link_for_skills.apply(scrap_link) "
   ]
  },
  {
   "cell_type": "code",
   "execution_count": 35,
   "id": "b8320dbc-a86b-4b1d-ae19-79ae88752f04",
   "metadata": {},
   "outputs": [],
   "source": [
    "sample_26 = data[6000:6250]"
   ]
  },
  {
   "cell_type": "code",
   "execution_count": 36,
   "id": "f73be44b-11a1-43be-a709-78066545bdb8",
   "metadata": {},
   "outputs": [
    {
     "name": "stdout",
     "output_type": "stream",
     "text": [
      "CPU times: user 1min 10s, sys: 2.16 s, total: 1min 12s\n",
      "Wall time: 9min 36s\n"
     ]
    },
    {
     "name": "stderr",
     "output_type": "stream",
     "text": [
      "<timed exec>:1: SettingWithCopyWarning: \n",
      "A value is trying to be set on a copy of a slice from a DataFrame.\n",
      "Try using .loc[row_indexer,col_indexer] = value instead\n",
      "\n",
      "See the caveats in the documentation: https://pandas.pydata.org/pandas-docs/stable/user_guide/indexing.html#returning-a-view-versus-a-copy\n"
     ]
    }
   ],
   "source": [
    "%%time\n",
    "sample_26['info'] = sample_26.link_for_skills.apply(scrap_link) "
   ]
  },
  {
   "cell_type": "code",
   "execution_count": 40,
   "id": "83c5c5ca-8ede-4bc1-a348-1d3e1bb5fa8d",
   "metadata": {},
   "outputs": [],
   "source": [
    "sample_27 = data[6250:6500]"
   ]
  },
  {
   "cell_type": "code",
   "execution_count": 41,
   "id": "13a0ddab-7adb-46b9-8537-5d3a8dcae7af",
   "metadata": {},
   "outputs": [
    {
     "name": "stdout",
     "output_type": "stream",
     "text": [
      "CPU times: user 1min 6s, sys: 1.71 s, total: 1min 8s\n",
      "Wall time: 4min 35s\n"
     ]
    },
    {
     "name": "stderr",
     "output_type": "stream",
     "text": [
      "<timed exec>:1: SettingWithCopyWarning: \n",
      "A value is trying to be set on a copy of a slice from a DataFrame.\n",
      "Try using .loc[row_indexer,col_indexer] = value instead\n",
      "\n",
      "See the caveats in the documentation: https://pandas.pydata.org/pandas-docs/stable/user_guide/indexing.html#returning-a-view-versus-a-copy\n"
     ]
    }
   ],
   "source": [
    "%%time\n",
    "sample_27['info'] = sample_27.link_for_skills.apply(scrap_link) "
   ]
  },
  {
   "cell_type": "code",
   "execution_count": 43,
   "id": "fcfa6b1b-f659-4ef9-b4f0-c38effadec58",
   "metadata": {},
   "outputs": [],
   "source": [
    "sample_28 = data[6500:6750]"
   ]
  },
  {
   "cell_type": "code",
   "execution_count": 44,
   "id": "1518d917-fc78-4650-ba1c-de67b521195f",
   "metadata": {},
   "outputs": [
    {
     "name": "stdout",
     "output_type": "stream",
     "text": [
      "CPU times: user 1min 5s, sys: 1.83 s, total: 1min 7s\n",
      "Wall time: 4min 27s\n"
     ]
    },
    {
     "name": "stderr",
     "output_type": "stream",
     "text": [
      "<timed exec>:1: SettingWithCopyWarning: \n",
      "A value is trying to be set on a copy of a slice from a DataFrame.\n",
      "Try using .loc[row_indexer,col_indexer] = value instead\n",
      "\n",
      "See the caveats in the documentation: https://pandas.pydata.org/pandas-docs/stable/user_guide/indexing.html#returning-a-view-versus-a-copy\n"
     ]
    }
   ],
   "source": [
    "%%time\n",
    "sample_28['info'] = sample_28.link_for_skills.apply(scrap_link)"
   ]
  },
  {
   "cell_type": "code",
   "execution_count": 52,
   "id": "4ac25c86-d2f8-4a54-b0bc-bece5d1cde73",
   "metadata": {},
   "outputs": [],
   "source": [
    "sample_29 = data[6750:7000]"
   ]
  },
  {
   "cell_type": "code",
   "execution_count": 53,
   "id": "e3f7af47-993f-4cdc-8099-9bd5939d02b2",
   "metadata": {},
   "outputs": [
    {
     "name": "stdout",
     "output_type": "stream",
     "text": [
      "CPU times: user 1min 7s, sys: 1.87 s, total: 1min 9s\n",
      "Wall time: 11min 6s\n"
     ]
    },
    {
     "name": "stderr",
     "output_type": "stream",
     "text": [
      "<timed exec>:1: SettingWithCopyWarning: \n",
      "A value is trying to be set on a copy of a slice from a DataFrame.\n",
      "Try using .loc[row_indexer,col_indexer] = value instead\n",
      "\n",
      "See the caveats in the documentation: https://pandas.pydata.org/pandas-docs/stable/user_guide/indexing.html#returning-a-view-versus-a-copy\n"
     ]
    }
   ],
   "source": [
    "%%time\n",
    "sample_29['info'] = sample_29.link_for_skills.apply(scrap_link)"
   ]
  },
  {
   "cell_type": "code",
   "execution_count": 60,
   "id": "042d2e46-d76a-47f8-86ea-81e195142648",
   "metadata": {},
   "outputs": [],
   "source": [
    "sample_30 = data[7000:7250]"
   ]
  },
  {
   "cell_type": "code",
   "execution_count": 61,
   "id": "dc76e171-a736-4c5b-8a13-b707bc91294a",
   "metadata": {},
   "outputs": [
    {
     "name": "stdout",
     "output_type": "stream",
     "text": [
      "CPU times: user 1min 9s, sys: 1.86 s, total: 1min 11s\n",
      "Wall time: 10min 44s\n"
     ]
    },
    {
     "name": "stderr",
     "output_type": "stream",
     "text": [
      "<timed exec>:1: SettingWithCopyWarning: \n",
      "A value is trying to be set on a copy of a slice from a DataFrame.\n",
      "Try using .loc[row_indexer,col_indexer] = value instead\n",
      "\n",
      "See the caveats in the documentation: https://pandas.pydata.org/pandas-docs/stable/user_guide/indexing.html#returning-a-view-versus-a-copy\n"
     ]
    }
   ],
   "source": [
    "%%time\n",
    "sample_30['info'] = sample_30.link_for_skills.apply(scrap_link)"
   ]
  },
  {
   "cell_type": "code",
   "execution_count": 63,
   "id": "cabedf55-c69f-4286-be2f-2d2962a00346",
   "metadata": {},
   "outputs": [],
   "source": [
    "sample_31 = data[7250:7500]"
   ]
  },
  {
   "cell_type": "code",
   "execution_count": 64,
   "id": "4c484320-f230-4715-8d53-1a2d70ee8e8e",
   "metadata": {},
   "outputs": [
    {
     "name": "stdout",
     "output_type": "stream",
     "text": [
      "CPU times: user 1min 1s, sys: 1.98 s, total: 1min 3s\n",
      "Wall time: 7min 54s\n"
     ]
    },
    {
     "name": "stderr",
     "output_type": "stream",
     "text": [
      "<timed exec>:1: SettingWithCopyWarning: \n",
      "A value is trying to be set on a copy of a slice from a DataFrame.\n",
      "Try using .loc[row_indexer,col_indexer] = value instead\n",
      "\n",
      "See the caveats in the documentation: https://pandas.pydata.org/pandas-docs/stable/user_guide/indexing.html#returning-a-view-versus-a-copy\n"
     ]
    }
   ],
   "source": [
    "%%time\n",
    "sample_31['info'] = sample_31.link_for_skills.apply(scrap_link)"
   ]
  },
  {
   "cell_type": "code",
   "execution_count": 69,
   "id": "d2a5a94a-d16c-4c2b-87fe-043b24972abf",
   "metadata": {},
   "outputs": [],
   "source": [
    "sample_32 = data[7500:7750]"
   ]
  },
  {
   "cell_type": "code",
   "execution_count": 70,
   "id": "f86cf6d9-91d7-4062-a688-5451a53f1c1b",
   "metadata": {},
   "outputs": [
    {
     "name": "stdout",
     "output_type": "stream",
     "text": [
      "CPU times: user 42.9 s, sys: 1.18 s, total: 44.1 s\n",
      "Wall time: 6min 5s\n"
     ]
    },
    {
     "name": "stderr",
     "output_type": "stream",
     "text": [
      "<timed exec>:1: SettingWithCopyWarning: \n",
      "A value is trying to be set on a copy of a slice from a DataFrame.\n",
      "Try using .loc[row_indexer,col_indexer] = value instead\n",
      "\n",
      "See the caveats in the documentation: https://pandas.pydata.org/pandas-docs/stable/user_guide/indexing.html#returning-a-view-versus-a-copy\n"
     ]
    }
   ],
   "source": [
    "%%time\n",
    "sample_32['info'] = sample_32.link_for_skills.apply(scrap_link)"
   ]
  },
  {
   "cell_type": "code",
   "execution_count": 73,
   "id": "c2d39bab-d3ad-4701-9ce3-9932a56d3380",
   "metadata": {},
   "outputs": [],
   "source": [
    "sample_33 = data[7750:]"
   ]
  },
  {
   "cell_type": "code",
   "execution_count": 74,
   "id": "afee3b2d-57a7-4b04-9f07-1a94502018f5",
   "metadata": {},
   "outputs": [
    {
     "name": "stdout",
     "output_type": "stream",
     "text": [
      "CPU times: user 12.4 s, sys: 390 ms, total: 12.8 s\n",
      "Wall time: 2min 54s\n"
     ]
    },
    {
     "name": "stderr",
     "output_type": "stream",
     "text": [
      "<timed exec>:1: SettingWithCopyWarning: \n",
      "A value is trying to be set on a copy of a slice from a DataFrame.\n",
      "Try using .loc[row_indexer,col_indexer] = value instead\n",
      "\n",
      "See the caveats in the documentation: https://pandas.pydata.org/pandas-docs/stable/user_guide/indexing.html#returning-a-view-versus-a-copy\n"
     ]
    }
   ],
   "source": [
    "%%time\n",
    "sample_33['info'] = sample_33.link_for_skills.apply(scrap_link)"
   ]
  },
  {
   "cell_type": "code",
   "execution_count": 75,
   "id": "83d7e881-2afd-4093-a2f0-aed895ec84d6",
   "metadata": {},
   "outputs": [
    {
     "data": {
      "text/html": [
       "<div>\n",
       "<style scoped>\n",
       "    .dataframe tbody tr th:only-of-type {\n",
       "        vertical-align: middle;\n",
       "    }\n",
       "\n",
       "    .dataframe tbody tr th {\n",
       "        vertical-align: top;\n",
       "    }\n",
       "\n",
       "    .dataframe thead th {\n",
       "        text-align: right;\n",
       "    }\n",
       "</style>\n",
       "<table border=\"1\" class=\"dataframe\">\n",
       "  <thead>\n",
       "    <tr style=\"text-align: right;\">\n",
       "      <th></th>\n",
       "      <th>ISCO</th>\n",
       "      <th>careers</th>\n",
       "      <th>careers_scrap_format</th>\n",
       "      <th>career_scraped</th>\n",
       "      <th>location_scraped</th>\n",
       "      <th>link_for_skills</th>\n",
       "      <th>info</th>\n",
       "    </tr>\n",
       "  </thead>\n",
       "  <tbody>\n",
       "    <tr>\n",
       "      <th>7754</th>\n",
       "      <td>91</td>\n",
       "      <td>washer</td>\n",
       "      <td>washer</td>\n",
       "      <td>Service Washer</td>\n",
       "      <td>Portsmouth</td>\n",
       "      <td>http://jobviewtrack.com/en-gb/job-4b1d417e4816...</td>\n",
       "      <td>[ Preparing vehicles in readiness for being re...</td>\n",
       "    </tr>\n",
       "    <tr>\n",
       "      <th>7755</th>\n",
       "      <td>91</td>\n",
       "      <td>washer</td>\n",
       "      <td>washer</td>\n",
       "      <td>DISH WASHER</td>\n",
       "      <td>Saint Paul's Bay, Malta Island</td>\n",
       "      <td>http://jobviewtrack.com/en-gb/job-181d41694417...</td>\n",
       "      <td>[ Maintain and clean work station and kitchen ...</td>\n",
       "    </tr>\n",
       "    <tr>\n",
       "      <th>7756</th>\n",
       "      <td>91</td>\n",
       "      <td>washer</td>\n",
       "      <td>washer</td>\n",
       "      <td>Service Washer</td>\n",
       "      <td>Eastleigh, Hampshire</td>\n",
       "      <td>http://jobviewtrack.com/en-gb/job-494e417e4816...</td>\n",
       "      <td>[ Preparing vehicles in readiness for being re...</td>\n",
       "    </tr>\n",
       "    <tr>\n",
       "      <th>7757</th>\n",
       "      <td>91</td>\n",
       "      <td>washer</td>\n",
       "      <td>washer</td>\n",
       "      <td>Service Washer</td>\n",
       "      <td>Acton, West London</td>\n",
       "      <td>http://jobviewtrack.com/en-gb/job-4c48417e4816...</td>\n",
       "      <td>None</td>\n",
       "    </tr>\n",
       "    <tr>\n",
       "      <th>7758</th>\n",
       "      <td>91</td>\n",
       "      <td>washer</td>\n",
       "      <td>washer</td>\n",
       "      <td>Tunnel Washer</td>\n",
       "      <td>Beckenham, Greater London</td>\n",
       "      <td>http://jobviewtrack.com/en-gb/job-1f494179580a...</td>\n",
       "      <td>None</td>\n",
       "    </tr>\n",
       "    <tr>\n",
       "      <th>...</th>\n",
       "      <td>...</td>\n",
       "      <td>...</td>\n",
       "      <td>...</td>\n",
       "      <td>...</td>\n",
       "      <td>...</td>\n",
       "      <td>...</td>\n",
       "      <td>...</td>\n",
       "    </tr>\n",
       "    <tr>\n",
       "      <th>7822</th>\n",
       "      <td>91</td>\n",
       "      <td>window cleaner</td>\n",
       "      <td>window%20cleaner</td>\n",
       "      <td>Window Cleaner</td>\n",
       "      <td>Guernsey</td>\n",
       "      <td>http://jobviewtrack.com/en-gb/job-4c12417a440a...</td>\n",
       "      <td>None</td>\n",
       "    </tr>\n",
       "    <tr>\n",
       "      <th>7823</th>\n",
       "      <td>91</td>\n",
       "      <td>window cleaner</td>\n",
       "      <td>window%20cleaner</td>\n",
       "      <td>Fönsterputsare / Window cleaners</td>\n",
       "      <td>Gothenburg</td>\n",
       "      <td>http://jobviewtrack.com/en-gb/job-1b48417f480f...</td>\n",
       "      <td>[ Gillar att jobba med service Älskar att puts...</td>\n",
       "    </tr>\n",
       "    <tr>\n",
       "      <th>7824</th>\n",
       "      <td>91</td>\n",
       "      <td>window cleaner</td>\n",
       "      <td>window%20cleaner</td>\n",
       "      <td>Fönsterputsare / Window cleaners</td>\n",
       "      <td>Gothenburg</td>\n",
       "      <td>http://jobviewtrack.com/en-gb/job-1b1341644302...</td>\n",
       "      <td>[ Gillar att jobba med service Älskar att puts...</td>\n",
       "    </tr>\n",
       "    <tr>\n",
       "      <th>7825</th>\n",
       "      <td>91</td>\n",
       "      <td>window cleaner</td>\n",
       "      <td>window%20cleaner</td>\n",
       "      <td>Fönsterputsare / Window cleaners</td>\n",
       "      <td>Stockholm</td>\n",
       "      <td>http://jobviewtrack.com/en-gb/job-1912412c1f55...</td>\n",
       "      <td>[ Gillar att jobba med service Älskar att puts...</td>\n",
       "    </tr>\n",
       "    <tr>\n",
       "      <th>7826</th>\n",
       "      <td>91</td>\n",
       "      <td>window cleaner</td>\n",
       "      <td>window%20cleaner</td>\n",
       "      <td>Weekend Window Cleaner &amp; Weekday Delivery Driver</td>\n",
       "      <td>Leicester</td>\n",
       "      <td>http://jobviewtrack.com/en-gb/job-4b4f417b480c...</td>\n",
       "      <td>None</td>\n",
       "    </tr>\n",
       "  </tbody>\n",
       "</table>\n",
       "<p>73 rows × 7 columns</p>\n",
       "</div>"
      ],
      "text/plain": [
       "      ISCO         careers careers_scrap_format  \\\n",
       "7754    91          washer               washer   \n",
       "7755    91          washer               washer   \n",
       "7756    91          washer               washer   \n",
       "7757    91          washer               washer   \n",
       "7758    91          washer               washer   \n",
       "...    ...             ...                  ...   \n",
       "7822    91  window cleaner     window%20cleaner   \n",
       "7823    91  window cleaner     window%20cleaner   \n",
       "7824    91  window cleaner     window%20cleaner   \n",
       "7825    91  window cleaner     window%20cleaner   \n",
       "7826    91  window cleaner     window%20cleaner   \n",
       "\n",
       "                                        career_scraped  \\\n",
       "7754                                    Service Washer   \n",
       "7755                                       DISH WASHER   \n",
       "7756                                    Service Washer   \n",
       "7757                                    Service Washer   \n",
       "7758                                     Tunnel Washer   \n",
       "...                                                ...   \n",
       "7822                                    Window Cleaner   \n",
       "7823                  Fönsterputsare / Window cleaners   \n",
       "7824                  Fönsterputsare / Window cleaners   \n",
       "7825                  Fönsterputsare / Window cleaners   \n",
       "7826  Weekend Window Cleaner & Weekday Delivery Driver   \n",
       "\n",
       "                    location_scraped  \\\n",
       "7754                      Portsmouth   \n",
       "7755  Saint Paul's Bay, Malta Island   \n",
       "7756            Eastleigh, Hampshire   \n",
       "7757              Acton, West London   \n",
       "7758       Beckenham, Greater London   \n",
       "...                              ...   \n",
       "7822                        Guernsey   \n",
       "7823                      Gothenburg   \n",
       "7824                      Gothenburg   \n",
       "7825                       Stockholm   \n",
       "7826                       Leicester   \n",
       "\n",
       "                                        link_for_skills  \\\n",
       "7754  http://jobviewtrack.com/en-gb/job-4b1d417e4816...   \n",
       "7755  http://jobviewtrack.com/en-gb/job-181d41694417...   \n",
       "7756  http://jobviewtrack.com/en-gb/job-494e417e4816...   \n",
       "7757  http://jobviewtrack.com/en-gb/job-4c48417e4816...   \n",
       "7758  http://jobviewtrack.com/en-gb/job-1f494179580a...   \n",
       "...                                                 ...   \n",
       "7822  http://jobviewtrack.com/en-gb/job-4c12417a440a...   \n",
       "7823  http://jobviewtrack.com/en-gb/job-1b48417f480f...   \n",
       "7824  http://jobviewtrack.com/en-gb/job-1b1341644302...   \n",
       "7825  http://jobviewtrack.com/en-gb/job-1912412c1f55...   \n",
       "7826  http://jobviewtrack.com/en-gb/job-4b4f417b480c...   \n",
       "\n",
       "                                                   info  \n",
       "7754  [ Preparing vehicles in readiness for being re...  \n",
       "7755  [ Maintain and clean work station and kitchen ...  \n",
       "7756  [ Preparing vehicles in readiness for being re...  \n",
       "7757                                               None  \n",
       "7758                                               None  \n",
       "...                                                 ...  \n",
       "7822                                               None  \n",
       "7823  [ Gillar att jobba med service Älskar att puts...  \n",
       "7824  [ Gillar att jobba med service Älskar att puts...  \n",
       "7825  [ Gillar att jobba med service Älskar att puts...  \n",
       "7826                                               None  \n",
       "\n",
       "[73 rows x 7 columns]"
      ]
     },
     "execution_count": 75,
     "metadata": {},
     "output_type": "execute_result"
    }
   ],
   "source": [
    "sample_33"
   ]
  },
  {
   "cell_type": "code",
   "execution_count": 76,
   "id": "93bf9dfd-3350-4b7d-a00d-b77715fc6a52",
   "metadata": {},
   "outputs": [],
   "source": [
    "partial_data_4 = sample_22.append(sample_23).append(sample_24).append(sample_25).append(sample_26).append(sample_27).append(sample_28).append(sample_29).append(sample_30).append(sample_31).append(sample_32).append(sample_33)"
   ]
  },
  {
   "cell_type": "code",
   "execution_count": 77,
   "id": "8643457e-534e-4d41-97b8-43557da84900",
   "metadata": {},
   "outputs": [],
   "source": [
    "partial_data_4.to_csv('4_partial_data.csv')"
   ]
  },
  {
   "cell_type": "code",
   "execution_count": 78,
   "id": "202bde70-b110-41c0-a919-8e408d6b33e9",
   "metadata": {},
   "outputs": [],
   "source": [
    "final_data = pd.read_csv('1_partial_data.csv').append(pd.read_csv('2_partial_data.csv')).append(pd.read_csv('3_partial_data.csv')).append(pd.read_csv('4_partial_data.csv'))"
   ]
  },
  {
   "cell_type": "code",
   "execution_count": 81,
   "id": "55a9a9c5-c1f1-41a1-9091-9c86a8a55a16",
   "metadata": {},
   "outputs": [
    {
     "ename": "KeyError",
     "evalue": "\"['Unnamed: 0'] not found in axis\"",
     "output_type": "error",
     "traceback": [
      "\u001b[0;31m---------------------------------------------------------------------------\u001b[0m",
      "\u001b[0;31mKeyError\u001b[0m                                  Traceback (most recent call last)",
      "\u001b[0;32m/tmp/ipykernel_828/4000043800.py\u001b[0m in \u001b[0;36m<module>\u001b[0;34m\u001b[0m\n\u001b[0;32m----> 1\u001b[0;31m \u001b[0mfinal_data\u001b[0m \u001b[0;34m=\u001b[0m \u001b[0mfinal_data\u001b[0m\u001b[0;34m.\u001b[0m\u001b[0mdrop\u001b[0m\u001b[0;34m(\u001b[0m\u001b[0;34m[\u001b[0m\u001b[0;34m'Unnamed: 0'\u001b[0m\u001b[0;34m]\u001b[0m\u001b[0;34m,\u001b[0m \u001b[0maxis\u001b[0m \u001b[0;34m=\u001b[0m \u001b[0;36m1\u001b[0m\u001b[0;34m)\u001b[0m\u001b[0;34m\u001b[0m\u001b[0;34m\u001b[0m\u001b[0m\n\u001b[0m",
      "\u001b[0;32m~/.pyenv/versions/3.8.12/envs/lewagon/lib/python3.8/site-packages/pandas/util/_decorators.py\u001b[0m in \u001b[0;36mwrapper\u001b[0;34m(*args, **kwargs)\u001b[0m\n\u001b[1;32m    309\u001b[0m                     \u001b[0mstacklevel\u001b[0m\u001b[0;34m=\u001b[0m\u001b[0mstacklevel\u001b[0m\u001b[0;34m,\u001b[0m\u001b[0;34m\u001b[0m\u001b[0;34m\u001b[0m\u001b[0m\n\u001b[1;32m    310\u001b[0m                 )\n\u001b[0;32m--> 311\u001b[0;31m             \u001b[0;32mreturn\u001b[0m \u001b[0mfunc\u001b[0m\u001b[0;34m(\u001b[0m\u001b[0;34m*\u001b[0m\u001b[0margs\u001b[0m\u001b[0;34m,\u001b[0m \u001b[0;34m**\u001b[0m\u001b[0mkwargs\u001b[0m\u001b[0;34m)\u001b[0m\u001b[0;34m\u001b[0m\u001b[0;34m\u001b[0m\u001b[0m\n\u001b[0m\u001b[1;32m    312\u001b[0m \u001b[0;34m\u001b[0m\u001b[0m\n\u001b[1;32m    313\u001b[0m         \u001b[0;32mreturn\u001b[0m \u001b[0mwrapper\u001b[0m\u001b[0;34m\u001b[0m\u001b[0;34m\u001b[0m\u001b[0m\n",
      "\u001b[0;32m~/.pyenv/versions/3.8.12/envs/lewagon/lib/python3.8/site-packages/pandas/core/frame.py\u001b[0m in \u001b[0;36mdrop\u001b[0;34m(self, labels, axis, index, columns, level, inplace, errors)\u001b[0m\n\u001b[1;32m   4904\u001b[0m                 \u001b[0mweight\u001b[0m  \u001b[0;36m1.0\u001b[0m     \u001b[0;36m0.8\u001b[0m\u001b[0;34m\u001b[0m\u001b[0;34m\u001b[0m\u001b[0m\n\u001b[1;32m   4905\u001b[0m         \"\"\"\n\u001b[0;32m-> 4906\u001b[0;31m         return super().drop(\n\u001b[0m\u001b[1;32m   4907\u001b[0m             \u001b[0mlabels\u001b[0m\u001b[0;34m=\u001b[0m\u001b[0mlabels\u001b[0m\u001b[0;34m,\u001b[0m\u001b[0;34m\u001b[0m\u001b[0;34m\u001b[0m\u001b[0m\n\u001b[1;32m   4908\u001b[0m             \u001b[0maxis\u001b[0m\u001b[0;34m=\u001b[0m\u001b[0maxis\u001b[0m\u001b[0;34m,\u001b[0m\u001b[0;34m\u001b[0m\u001b[0;34m\u001b[0m\u001b[0m\n",
      "\u001b[0;32m~/.pyenv/versions/3.8.12/envs/lewagon/lib/python3.8/site-packages/pandas/core/generic.py\u001b[0m in \u001b[0;36mdrop\u001b[0;34m(self, labels, axis, index, columns, level, inplace, errors)\u001b[0m\n\u001b[1;32m   4148\u001b[0m         \u001b[0;32mfor\u001b[0m \u001b[0maxis\u001b[0m\u001b[0;34m,\u001b[0m \u001b[0mlabels\u001b[0m \u001b[0;32min\u001b[0m \u001b[0maxes\u001b[0m\u001b[0;34m.\u001b[0m\u001b[0mitems\u001b[0m\u001b[0;34m(\u001b[0m\u001b[0;34m)\u001b[0m\u001b[0;34m:\u001b[0m\u001b[0;34m\u001b[0m\u001b[0;34m\u001b[0m\u001b[0m\n\u001b[1;32m   4149\u001b[0m             \u001b[0;32mif\u001b[0m \u001b[0mlabels\u001b[0m \u001b[0;32mis\u001b[0m \u001b[0;32mnot\u001b[0m \u001b[0;32mNone\u001b[0m\u001b[0;34m:\u001b[0m\u001b[0;34m\u001b[0m\u001b[0;34m\u001b[0m\u001b[0m\n\u001b[0;32m-> 4150\u001b[0;31m                 \u001b[0mobj\u001b[0m \u001b[0;34m=\u001b[0m \u001b[0mobj\u001b[0m\u001b[0;34m.\u001b[0m\u001b[0m_drop_axis\u001b[0m\u001b[0;34m(\u001b[0m\u001b[0mlabels\u001b[0m\u001b[0;34m,\u001b[0m \u001b[0maxis\u001b[0m\u001b[0;34m,\u001b[0m \u001b[0mlevel\u001b[0m\u001b[0;34m=\u001b[0m\u001b[0mlevel\u001b[0m\u001b[0;34m,\u001b[0m \u001b[0merrors\u001b[0m\u001b[0;34m=\u001b[0m\u001b[0merrors\u001b[0m\u001b[0;34m)\u001b[0m\u001b[0;34m\u001b[0m\u001b[0;34m\u001b[0m\u001b[0m\n\u001b[0m\u001b[1;32m   4151\u001b[0m \u001b[0;34m\u001b[0m\u001b[0m\n\u001b[1;32m   4152\u001b[0m         \u001b[0;32mif\u001b[0m \u001b[0minplace\u001b[0m\u001b[0;34m:\u001b[0m\u001b[0;34m\u001b[0m\u001b[0;34m\u001b[0m\u001b[0m\n",
      "\u001b[0;32m~/.pyenv/versions/3.8.12/envs/lewagon/lib/python3.8/site-packages/pandas/core/generic.py\u001b[0m in \u001b[0;36m_drop_axis\u001b[0;34m(self, labels, axis, level, errors)\u001b[0m\n\u001b[1;32m   4183\u001b[0m                 \u001b[0mnew_axis\u001b[0m \u001b[0;34m=\u001b[0m \u001b[0maxis\u001b[0m\u001b[0;34m.\u001b[0m\u001b[0mdrop\u001b[0m\u001b[0;34m(\u001b[0m\u001b[0mlabels\u001b[0m\u001b[0;34m,\u001b[0m \u001b[0mlevel\u001b[0m\u001b[0;34m=\u001b[0m\u001b[0mlevel\u001b[0m\u001b[0;34m,\u001b[0m \u001b[0merrors\u001b[0m\u001b[0;34m=\u001b[0m\u001b[0merrors\u001b[0m\u001b[0;34m)\u001b[0m\u001b[0;34m\u001b[0m\u001b[0;34m\u001b[0m\u001b[0m\n\u001b[1;32m   4184\u001b[0m             \u001b[0;32melse\u001b[0m\u001b[0;34m:\u001b[0m\u001b[0;34m\u001b[0m\u001b[0;34m\u001b[0m\u001b[0m\n\u001b[0;32m-> 4185\u001b[0;31m                 \u001b[0mnew_axis\u001b[0m \u001b[0;34m=\u001b[0m \u001b[0maxis\u001b[0m\u001b[0;34m.\u001b[0m\u001b[0mdrop\u001b[0m\u001b[0;34m(\u001b[0m\u001b[0mlabels\u001b[0m\u001b[0;34m,\u001b[0m \u001b[0merrors\u001b[0m\u001b[0;34m=\u001b[0m\u001b[0merrors\u001b[0m\u001b[0;34m)\u001b[0m\u001b[0;34m\u001b[0m\u001b[0;34m\u001b[0m\u001b[0m\n\u001b[0m\u001b[1;32m   4186\u001b[0m             \u001b[0mresult\u001b[0m \u001b[0;34m=\u001b[0m \u001b[0mself\u001b[0m\u001b[0;34m.\u001b[0m\u001b[0mreindex\u001b[0m\u001b[0;34m(\u001b[0m\u001b[0;34m**\u001b[0m\u001b[0;34m{\u001b[0m\u001b[0maxis_name\u001b[0m\u001b[0;34m:\u001b[0m \u001b[0mnew_axis\u001b[0m\u001b[0;34m}\u001b[0m\u001b[0;34m)\u001b[0m\u001b[0;34m\u001b[0m\u001b[0;34m\u001b[0m\u001b[0m\n\u001b[1;32m   4187\u001b[0m \u001b[0;34m\u001b[0m\u001b[0m\n",
      "\u001b[0;32m~/.pyenv/versions/3.8.12/envs/lewagon/lib/python3.8/site-packages/pandas/core/indexes/base.py\u001b[0m in \u001b[0;36mdrop\u001b[0;34m(self, labels, errors)\u001b[0m\n\u001b[1;32m   6015\u001b[0m         \u001b[0;32mif\u001b[0m \u001b[0mmask\u001b[0m\u001b[0;34m.\u001b[0m\u001b[0many\u001b[0m\u001b[0;34m(\u001b[0m\u001b[0;34m)\u001b[0m\u001b[0;34m:\u001b[0m\u001b[0;34m\u001b[0m\u001b[0;34m\u001b[0m\u001b[0m\n\u001b[1;32m   6016\u001b[0m             \u001b[0;32mif\u001b[0m \u001b[0merrors\u001b[0m \u001b[0;34m!=\u001b[0m \u001b[0;34m\"ignore\"\u001b[0m\u001b[0;34m:\u001b[0m\u001b[0;34m\u001b[0m\u001b[0;34m\u001b[0m\u001b[0m\n\u001b[0;32m-> 6017\u001b[0;31m                 \u001b[0;32mraise\u001b[0m \u001b[0mKeyError\u001b[0m\u001b[0;34m(\u001b[0m\u001b[0;34mf\"{labels[mask]} not found in axis\"\u001b[0m\u001b[0;34m)\u001b[0m\u001b[0;34m\u001b[0m\u001b[0;34m\u001b[0m\u001b[0m\n\u001b[0m\u001b[1;32m   6018\u001b[0m             \u001b[0mindexer\u001b[0m \u001b[0;34m=\u001b[0m \u001b[0mindexer\u001b[0m\u001b[0;34m[\u001b[0m\u001b[0;34m~\u001b[0m\u001b[0mmask\u001b[0m\u001b[0;34m]\u001b[0m\u001b[0;34m\u001b[0m\u001b[0;34m\u001b[0m\u001b[0m\n\u001b[1;32m   6019\u001b[0m         \u001b[0;32mreturn\u001b[0m \u001b[0mself\u001b[0m\u001b[0;34m.\u001b[0m\u001b[0mdelete\u001b[0m\u001b[0;34m(\u001b[0m\u001b[0mindexer\u001b[0m\u001b[0;34m)\u001b[0m\u001b[0;34m\u001b[0m\u001b[0;34m\u001b[0m\u001b[0m\n",
      "\u001b[0;31mKeyError\u001b[0m: \"['Unnamed: 0'] not found in axis\""
     ]
    }
   ],
   "source": [
    "final_data = final_data.drop(['Unnamed: 0'], axis = 1)"
   ]
  },
  {
   "cell_type": "code",
   "execution_count": 83,
   "id": "e28edc2f-07f9-40cd-bf69-1f89a479af8d",
   "metadata": {},
   "outputs": [
    {
     "data": {
      "text/html": [
       "<div>\n",
       "<style scoped>\n",
       "    .dataframe tbody tr th:only-of-type {\n",
       "        vertical-align: middle;\n",
       "    }\n",
       "\n",
       "    .dataframe tbody tr th {\n",
       "        vertical-align: top;\n",
       "    }\n",
       "\n",
       "    .dataframe thead th {\n",
       "        text-align: right;\n",
       "    }\n",
       "</style>\n",
       "<table border=\"1\" class=\"dataframe\">\n",
       "  <thead>\n",
       "    <tr style=\"text-align: right;\">\n",
       "      <th></th>\n",
       "      <th>ISCO</th>\n",
       "      <th>careers</th>\n",
       "      <th>careers_scrap_format</th>\n",
       "      <th>career_scraped</th>\n",
       "      <th>location_scraped</th>\n",
       "      <th>link_for_skills</th>\n",
       "      <th>info</th>\n",
       "    </tr>\n",
       "  </thead>\n",
       "  <tbody>\n",
       "    <tr>\n",
       "      <th>0</th>\n",
       "      <td>21</td>\n",
       "      <td>physicist</td>\n",
       "      <td>physicist</td>\n",
       "      <td>Accelerator Physicist id54315</td>\n",
       "      <td>Villigen PSI, Aargau</td>\n",
       "      <td>http://jobviewtrack.com/en-gb/job-1f1d412c1c5d...</td>\n",
       "      <td>[' You have an academic degree in physics or e...</td>\n",
       "    </tr>\n",
       "    <tr>\n",
       "      <th>1</th>\n",
       "      <td>21</td>\n",
       "      <td>physicist</td>\n",
       "      <td>physicist</td>\n",
       "      <td>Applied Physicist (Computing) (EP-LBC-2021-125...</td>\n",
       "      <td>Geneva</td>\n",
       "      <td>http://jobviewtrack.com/en-gb/job-181e412c1955...</td>\n",
       "      <td>[' Be in charge of the development of applicat...</td>\n",
       "    </tr>\n",
       "    <tr>\n",
       "      <th>2</th>\n",
       "      <td>21</td>\n",
       "      <td>physicist</td>\n",
       "      <td>physicist</td>\n",
       "      <td>Accelerator Physicist (BE-ABP-LNO-2021-122-LD)...</td>\n",
       "      <td>Geneva</td>\n",
       "      <td>http://jobviewtrack.com/en-gb/job-181e412c1955...</td>\n",
       "      <td>[' Contribute to the maintenance and developme...</td>\n",
       "    </tr>\n",
       "    <tr>\n",
       "      <th>3</th>\n",
       "      <td>21</td>\n",
       "      <td>physicist</td>\n",
       "      <td>physicist</td>\n",
       "      <td>Senior Development Physicist</td>\n",
       "      <td>Oxford</td>\n",
       "      <td>http://jobviewtrack.com/en-gb/job-181d41694812...</td>\n",
       "      <td>NaN</td>\n",
       "    </tr>\n",
       "    <tr>\n",
       "      <th>4</th>\n",
       "      <td>21</td>\n",
       "      <td>physicist</td>\n",
       "      <td>physicist</td>\n",
       "      <td>Medical Devices Physicist</td>\n",
       "      <td>Newton, Cambridgeshire</td>\n",
       "      <td>http://jobviewtrack.com/en-gb/job-131941604800...</td>\n",
       "      <td>[' Agency: Newton Colmore Consulting Reference...</td>\n",
       "    </tr>\n",
       "    <tr>\n",
       "      <th>...</th>\n",
       "      <td>...</td>\n",
       "      <td>...</td>\n",
       "      <td>...</td>\n",
       "      <td>...</td>\n",
       "      <td>...</td>\n",
       "      <td>...</td>\n",
       "      <td>...</td>\n",
       "    </tr>\n",
       "    <tr>\n",
       "      <th>2818</th>\n",
       "      <td>91</td>\n",
       "      <td>window cleaner</td>\n",
       "      <td>window%20cleaner</td>\n",
       "      <td>Window Cleaner</td>\n",
       "      <td>Guernsey</td>\n",
       "      <td>http://jobviewtrack.com/en-gb/job-4c12417a440a...</td>\n",
       "      <td>NaN</td>\n",
       "    </tr>\n",
       "    <tr>\n",
       "      <th>2819</th>\n",
       "      <td>91</td>\n",
       "      <td>window cleaner</td>\n",
       "      <td>window%20cleaner</td>\n",
       "      <td>Fönsterputsare / Window cleaners</td>\n",
       "      <td>Gothenburg</td>\n",
       "      <td>http://jobviewtrack.com/en-gb/job-1b48417f480f...</td>\n",
       "      <td>[' Gillar att jobba med service Älskar att put...</td>\n",
       "    </tr>\n",
       "    <tr>\n",
       "      <th>2820</th>\n",
       "      <td>91</td>\n",
       "      <td>window cleaner</td>\n",
       "      <td>window%20cleaner</td>\n",
       "      <td>Fönsterputsare / Window cleaners</td>\n",
       "      <td>Gothenburg</td>\n",
       "      <td>http://jobviewtrack.com/en-gb/job-1b1341644302...</td>\n",
       "      <td>[' Gillar att jobba med service Älskar att put...</td>\n",
       "    </tr>\n",
       "    <tr>\n",
       "      <th>2821</th>\n",
       "      <td>91</td>\n",
       "      <td>window cleaner</td>\n",
       "      <td>window%20cleaner</td>\n",
       "      <td>Fönsterputsare / Window cleaners</td>\n",
       "      <td>Stockholm</td>\n",
       "      <td>http://jobviewtrack.com/en-gb/job-1912412c1f55...</td>\n",
       "      <td>[' Gillar att jobba med service Älskar att put...</td>\n",
       "    </tr>\n",
       "    <tr>\n",
       "      <th>2822</th>\n",
       "      <td>91</td>\n",
       "      <td>window cleaner</td>\n",
       "      <td>window%20cleaner</td>\n",
       "      <td>Weekend Window Cleaner &amp; Weekday Delivery Driver</td>\n",
       "      <td>Leicester</td>\n",
       "      <td>http://jobviewtrack.com/en-gb/job-4b4f417b480c...</td>\n",
       "      <td>NaN</td>\n",
       "    </tr>\n",
       "  </tbody>\n",
       "</table>\n",
       "<p>7758 rows × 7 columns</p>\n",
       "</div>"
      ],
      "text/plain": [
       "      ISCO         careers careers_scrap_format  \\\n",
       "0       21       physicist            physicist   \n",
       "1       21       physicist            physicist   \n",
       "2       21       physicist            physicist   \n",
       "3       21       physicist            physicist   \n",
       "4       21       physicist            physicist   \n",
       "...    ...             ...                  ...   \n",
       "2818    91  window cleaner     window%20cleaner   \n",
       "2819    91  window cleaner     window%20cleaner   \n",
       "2820    91  window cleaner     window%20cleaner   \n",
       "2821    91  window cleaner     window%20cleaner   \n",
       "2822    91  window cleaner     window%20cleaner   \n",
       "\n",
       "                                         career_scraped  \\\n",
       "0                         Accelerator Physicist id54315   \n",
       "1     Applied Physicist (Computing) (EP-LBC-2021-125...   \n",
       "2     Accelerator Physicist (BE-ABP-LNO-2021-122-LD)...   \n",
       "3                          Senior Development Physicist   \n",
       "4                             Medical Devices Physicist   \n",
       "...                                                 ...   \n",
       "2818                                     Window Cleaner   \n",
       "2819                   Fönsterputsare / Window cleaners   \n",
       "2820                   Fönsterputsare / Window cleaners   \n",
       "2821                   Fönsterputsare / Window cleaners   \n",
       "2822   Weekend Window Cleaner & Weekday Delivery Driver   \n",
       "\n",
       "            location_scraped  \\\n",
       "0       Villigen PSI, Aargau   \n",
       "1                     Geneva   \n",
       "2                     Geneva   \n",
       "3                     Oxford   \n",
       "4     Newton, Cambridgeshire   \n",
       "...                      ...   \n",
       "2818                Guernsey   \n",
       "2819              Gothenburg   \n",
       "2820              Gothenburg   \n",
       "2821               Stockholm   \n",
       "2822               Leicester   \n",
       "\n",
       "                                        link_for_skills  \\\n",
       "0     http://jobviewtrack.com/en-gb/job-1f1d412c1c5d...   \n",
       "1     http://jobviewtrack.com/en-gb/job-181e412c1955...   \n",
       "2     http://jobviewtrack.com/en-gb/job-181e412c1955...   \n",
       "3     http://jobviewtrack.com/en-gb/job-181d41694812...   \n",
       "4     http://jobviewtrack.com/en-gb/job-131941604800...   \n",
       "...                                                 ...   \n",
       "2818  http://jobviewtrack.com/en-gb/job-4c12417a440a...   \n",
       "2819  http://jobviewtrack.com/en-gb/job-1b48417f480f...   \n",
       "2820  http://jobviewtrack.com/en-gb/job-1b1341644302...   \n",
       "2821  http://jobviewtrack.com/en-gb/job-1912412c1f55...   \n",
       "2822  http://jobviewtrack.com/en-gb/job-4b4f417b480c...   \n",
       "\n",
       "                                                   info  \n",
       "0     [' You have an academic degree in physics or e...  \n",
       "1     [' Be in charge of the development of applicat...  \n",
       "2     [' Contribute to the maintenance and developme...  \n",
       "3                                                   NaN  \n",
       "4     [' Agency: Newton Colmore Consulting Reference...  \n",
       "...                                                 ...  \n",
       "2818                                                NaN  \n",
       "2819  [' Gillar att jobba med service Älskar att put...  \n",
       "2820  [' Gillar att jobba med service Älskar att put...  \n",
       "2821  [' Gillar att jobba med service Älskar att put...  \n",
       "2822                                                NaN  \n",
       "\n",
       "[7758 rows x 7 columns]"
      ]
     },
     "execution_count": 83,
     "metadata": {},
     "output_type": "execute_result"
    }
   ],
   "source": [
    "final_data.drop_duplicates()"
   ]
  },
  {
   "cell_type": "code",
   "execution_count": 88,
   "id": "9e0b99a9-4385-47d3-a141-400c86fca9a4",
   "metadata": {},
   "outputs": [],
   "source": [
    "final_data = final_data.reset_index().drop(['index'], axis = 1)"
   ]
  },
  {
   "cell_type": "code",
   "execution_count": 90,
   "id": "c891bbe8-e203-4b95-ac42-4ae8bafd6e33",
   "metadata": {},
   "outputs": [],
   "source": [
    "final_data.to_csv('raw_data_3.csv')"
   ]
  },
  {
   "cell_type": "code",
   "execution_count": null,
   "id": "101789fb-6269-443a-83c8-3c3a0a0cbda2",
   "metadata": {},
   "outputs": [],
   "source": []
  }
 ],
 "metadata": {
  "kernelspec": {
   "display_name": "Python 3 (ipykernel)",
   "language": "python",
   "name": "python3"
  },
  "language_info": {
   "codemirror_mode": {
    "name": "ipython",
    "version": 3
   },
   "file_extension": ".py",
   "mimetype": "text/x-python",
   "name": "python",
   "nbconvert_exporter": "python",
   "pygments_lexer": "ipython3",
   "version": "3.8.12"
  }
 },
 "nbformat": 4,
 "nbformat_minor": 5
}
