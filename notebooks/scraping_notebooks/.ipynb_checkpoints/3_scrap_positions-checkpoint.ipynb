{
 "cells": [
  {
   "cell_type": "markdown",
   "id": "efd18e7e-febd-4d76-a4d8-c1f2657f9aa1",
   "metadata": {
    "tags": []
   },
   "source": [
    "## <center>Scrap Countries, Positions, Salary and Skills</center>"
   ]
  },
  {
   "cell_type": "code",
   "execution_count": 1,
   "id": "76928667-b8ee-46a4-90c9-1c835d8b8224",
   "metadata": {},
   "outputs": [],
   "source": [
    "import requests\n",
    "import numpy as np\n",
    "import pandas as pd\n",
    "from bs4 import BeautifulSoup"
   ]
  },
  {
   "cell_type": "markdown",
   "id": "96a3afd9-932d-4207-bccf-a4ccbef69b5e",
   "metadata": {},
   "source": [
    "## On Tucareers"
   ]
  },
  {
   "cell_type": "code",
   "execution_count": 4,
   "id": "5640ea82-4bb0-4300-ac9b-59f3b40ce79c",
   "metadata": {},
   "outputs": [],
   "source": [
    "def scrap_careers(career, num_pages = 10, soup = 'Tucareers'):\n",
    "    job_titles = []\n",
    "    for i in range(1, num_pages + 1):\n",
    "        raw = make_soup(career, i).find_all('div', class_ = 'row')\n",
    "        for element in raw:\n",
    "            if element.find_all('h2'):\n",
    "                for job in element.find_all('h2'):\n",
    "                    job_titles.append(job.text)\n",
    "                    \n",
    "    job_titles = [i for i in job_titles if 'Jobs & Internships' not in i]\n",
    "    job_titles = [i for i in job_titles if career.replace('%20', ' ') in i.lower()]\n",
    "    job_titles = [i.split(' – ')[0] for i in job_titles]\n",
    "    job_titles = [i.split(' - ')[0] for i in job_titles]                \n",
    "    return job_titles            "
   ]
  },
  {
   "cell_type": "code",
   "execution_count": 53,
   "id": "8ccf8143-7c3a-4e97-98e6-d32b624a546d",
   "metadata": {},
   "outputs": [],
   "source": [
    "def scrap_locations(career, num_pages = 10, soup = 'Tucareers'):\n",
    "    locations = []\n",
    "    for i in range(1, num_pages + 1):\n",
    "        raw = make_soup(career, i).find_all('div', class_ = 'row')\n",
    "        for element in raw:\n",
    "            if element.find_all('div', class_ = 'col-lg-12 col-md-12 col-sm-12'):\n",
    "                 for location in element.find_all('div', class_ = 'col-lg-12 col-md-12 col-sm-12'):\n",
    "                        if location.find_all('h2'):\n",
    "                            location = location.text.split('\\n')\n",
    "                            print(location[0])\n",
    "                        #locations.append(location.text.split(' - ')[-1])\n",
    "    return locations"
   ]
  },
  {
   "cell_type": "code",
   "execution_count": 6,
   "id": "ed54de2d-2d11-4d39-9380-5bf28bbcc57d",
   "metadata": {},
   "outputs": [],
   "source": [
    "def scrap_salary(career, num_pages = 1, soup = 'Tucareers'):\n",
    "    pass"
   ]
  },
  {
   "cell_type": "code",
   "execution_count": 276,
   "id": "3b49a31d-aa19-4c7d-9403-6d384e2e0a35",
   "metadata": {},
   "outputs": [],
   "source": [
    "def scrap_job_links(career, num_pages = 1, soup = 'Tucareers'):\n",
    "    job_links = []\n",
    "    for i in range(1, num_pages + 1):\n",
    "        raw = make_soup(career, i).find_all('div', class_ = 'row')\n",
    "        for element in raw:\n",
    "            if element.find_all('div', class_ = 'col-lg-12 col-md-12 col-sm-12'):\n",
    "                for link in element.find_all('div', class_ = 'col-lg-12 col-md-12 col-sm-12'):\n",
    "                    link = str(link).split('href=\"')\n",
    "                    link = link[1].split('\" target=')\n",
    "                    job_links.append(link[0])\n",
    "    return job_links"
   ]
  },
  {
   "cell_type": "code",
   "execution_count": 72,
   "id": "7f2126fa-d228-46f0-ab4a-e9efbddb6a74",
   "metadata": {},
   "outputs": [],
   "source": [
    "def scrap_all(career, num_pages = 3, soup = 'Tucareers'):\n",
    "    job_titles = []\n",
    "    locations = []\n",
    "    job_links = []\n",
    "    for i in range(1, num_pages + 1):\n",
    "        raw = make_soup(career, i).find_all('div', class_ = 'row')\n",
    "        career_clean = career.replace('%20', ' ')\n",
    "        for element in raw:\n",
    "             for i in element.find_all('div', class_ = 'col-lg-12 col-md-12 col-sm-12'):\n",
    "                    if career_clean in i.text.split('\\n')[0].lower():\n",
    "                        job_titles.append(i.text.split('\\n')[0])\n",
    "                        locations.append(i.text.split(' - ')[-1])\n",
    "                        link = str(i).split('href=\"')\n",
    "                        link = link[1].split('\" target=')\n",
    "                        job_links.append(link[0])\n",
    "                        \n",
    "    job_titles = [i.split(' – ')[0] for i in job_titles]\n",
    "    job_titles = [i.split(' - ')[0] for i in job_titles]\n",
    "    return job_titles, locations, job_links    "
   ]
  },
  {
   "cell_type": "code",
   "execution_count": 73,
   "id": "dbebb7ae-2cf3-4dc0-a156-a8915e0f81cf",
   "metadata": {},
   "outputs": [
    {
     "data": {
      "text/html": [
       "<div>\n",
       "<style scoped>\n",
       "    .dataframe tbody tr th:only-of-type {\n",
       "        vertical-align: middle;\n",
       "    }\n",
       "\n",
       "    .dataframe tbody tr th {\n",
       "        vertical-align: top;\n",
       "    }\n",
       "\n",
       "    .dataframe thead th {\n",
       "        text-align: right;\n",
       "    }\n",
       "</style>\n",
       "<table border=\"1\" class=\"dataframe\">\n",
       "  <thead>\n",
       "    <tr style=\"text-align: right;\">\n",
       "      <th></th>\n",
       "      <th>ISCO</th>\n",
       "      <th>careers</th>\n",
       "      <th>careers_scrap_format</th>\n",
       "    </tr>\n",
       "  </thead>\n",
       "  <tbody>\n",
       "    <tr>\n",
       "      <th>0</th>\n",
       "      <td>21</td>\n",
       "      <td>astronomer</td>\n",
       "      <td>astronomer</td>\n",
       "    </tr>\n",
       "    <tr>\n",
       "      <th>1</th>\n",
       "      <td>21</td>\n",
       "      <td>physicist</td>\n",
       "      <td>physicist</td>\n",
       "    </tr>\n",
       "    <tr>\n",
       "      <th>2</th>\n",
       "      <td>21</td>\n",
       "      <td>plasma physicist</td>\n",
       "      <td>plasma%20physicist</td>\n",
       "    </tr>\n",
       "    <tr>\n",
       "      <th>3</th>\n",
       "      <td>21</td>\n",
       "      <td>meteorologist</td>\n",
       "      <td>meteorologist</td>\n",
       "    </tr>\n",
       "    <tr>\n",
       "      <th>4</th>\n",
       "      <td>21</td>\n",
       "      <td>biochemist</td>\n",
       "      <td>biochemist</td>\n",
       "    </tr>\n",
       "  </tbody>\n",
       "</table>\n",
       "</div>"
      ],
      "text/plain": [
       "   ISCO           careers careers_scrap_format\n",
       "0    21        astronomer           astronomer\n",
       "1    21         physicist            physicist\n",
       "2    21  plasma physicist   plasma%20physicist\n",
       "3    21     meteorologist        meteorologist\n",
       "4    21        biochemist           biochemist"
      ]
     },
     "execution_count": 73,
     "metadata": {},
     "output_type": "execute_result"
    }
   ],
   "source": [
    "jobs_final = pd.read_csv('raw_data_3.csv').drop(['Unnamed: 0'], axis=1)\n",
    "jobs_final.head()"
   ]
  },
  {
   "cell_type": "code",
   "execution_count": 2,
   "id": "214dea45-fb49-482a-92a6-76e952ea80ac",
   "metadata": {},
   "outputs": [],
   "source": [
    "jobs_final['all_scraped'] = jobs_final.careers_scrap_format.apply(scrap_all)"
   ]
  },
  {
   "cell_type": "code",
   "execution_count": 83,
   "id": "15cdea19-a2fb-42aa-bafa-41a959287665",
   "metadata": {},
   "outputs": [],
   "source": [
    "data = jobs_final.copy()\n",
    "data[['career_scraped','location_scraped', 'link_for_skills']] = pd.DataFrame(data.all_scraped.tolist(), index= data.index)"
   ]
  },
  {
   "cell_type": "code",
   "execution_count": 84,
   "id": "e83aa65b-4935-4e04-9f21-01ddb2986c34",
   "metadata": {},
   "outputs": [
    {
     "data": {
      "text/html": [
       "<div>\n",
       "<style scoped>\n",
       "    .dataframe tbody tr th:only-of-type {\n",
       "        vertical-align: middle;\n",
       "    }\n",
       "\n",
       "    .dataframe tbody tr th {\n",
       "        vertical-align: top;\n",
       "    }\n",
       "\n",
       "    .dataframe thead th {\n",
       "        text-align: right;\n",
       "    }\n",
       "</style>\n",
       "<table border=\"1\" class=\"dataframe\">\n",
       "  <thead>\n",
       "    <tr style=\"text-align: right;\">\n",
       "      <th></th>\n",
       "      <th>ISCO</th>\n",
       "      <th>careers</th>\n",
       "      <th>careers_scrap_format</th>\n",
       "      <th>all_scraped</th>\n",
       "      <th>career_scraped</th>\n",
       "      <th>location_scraped</th>\n",
       "      <th>link_for_skills</th>\n",
       "    </tr>\n",
       "  </thead>\n",
       "  <tbody>\n",
       "    <tr>\n",
       "      <th>0</th>\n",
       "      <td>21</td>\n",
       "      <td>astronomer</td>\n",
       "      <td>astronomer</td>\n",
       "      <td>([Astronomer (Post-Doctoral Research Fellow), ...</td>\n",
       "      <td>[Astronomer (Post-Doctoral Research Fellow), B...</td>\n",
       "      <td>[Cambridge, London, Bavaria, London, London, C...</td>\n",
       "      <td>[http://jobviewtrack.com/en-gb/job-1f4f417d421...</td>\n",
       "    </tr>\n",
       "    <tr>\n",
       "      <th>1</th>\n",
       "      <td>21</td>\n",
       "      <td>physicist</td>\n",
       "      <td>physicist</td>\n",
       "      <td>([Accelerator Physicist id54315, Applied Physi...</td>\n",
       "      <td>[Accelerator Physicist id54315, Applied Physic...</td>\n",
       "      <td>[Villigen PSI, Aargau, Geneva, Geneva, Oxford,...</td>\n",
       "      <td>[http://jobviewtrack.com/en-gb/job-1f1d412c1c5...</td>\n",
       "    </tr>\n",
       "    <tr>\n",
       "      <th>2</th>\n",
       "      <td>21</td>\n",
       "      <td>plasma physicist</td>\n",
       "      <td>plasma%20physicist</td>\n",
       "      <td>([Plasma physicist with experience of numerica...</td>\n",
       "      <td>[Plasma physicist with experience of numerical...</td>\n",
       "      <td>[Czech Republic, Czech Republic, Czech Republi...</td>\n",
       "      <td>[http://jobviewtrack.com/en-gb/job-4e1c4168551...</td>\n",
       "    </tr>\n",
       "    <tr>\n",
       "      <th>3</th>\n",
       "      <td>21</td>\n",
       "      <td>meteorologist</td>\n",
       "      <td>meteorologist</td>\n",
       "      <td>([Aviation Meteorologist, Physicist, Geophysic...</td>\n",
       "      <td>[Aviation Meteorologist, Physicist, Geophysici...</td>\n",
       "      <td>[Farnborough, Hampshire, Neustrelitz, Mecklenb...</td>\n",
       "      <td>[http://jobviewtrack.com/en-gb/job-4f19416c5b0...</td>\n",
       "    </tr>\n",
       "    <tr>\n",
       "      <th>4</th>\n",
       "      <td>21</td>\n",
       "      <td>biochemist</td>\n",
       "      <td>biochemist</td>\n",
       "      <td>([Research Scientist, Senior Scientist, Protei...</td>\n",
       "      <td>[Research Scientist, Senior Scientist, Protein...</td>\n",
       "      <td>[Slough, Berkshire, Slough, Berkshire, Slough,...</td>\n",
       "      <td>[http://jobviewtrack.com/en-gb/job-4f12417f481...</td>\n",
       "    </tr>\n",
       "  </tbody>\n",
       "</table>\n",
       "</div>"
      ],
      "text/plain": [
       "   ISCO           careers careers_scrap_format  \\\n",
       "0    21        astronomer           astronomer   \n",
       "1    21         physicist            physicist   \n",
       "2    21  plasma physicist   plasma%20physicist   \n",
       "3    21     meteorologist        meteorologist   \n",
       "4    21        biochemist           biochemist   \n",
       "\n",
       "                                         all_scraped  \\\n",
       "0  ([Astronomer (Post-Doctoral Research Fellow), ...   \n",
       "1  ([Accelerator Physicist id54315, Applied Physi...   \n",
       "2  ([Plasma physicist with experience of numerica...   \n",
       "3  ([Aviation Meteorologist, Physicist, Geophysic...   \n",
       "4  ([Research Scientist, Senior Scientist, Protei...   \n",
       "\n",
       "                                      career_scraped  \\\n",
       "0  [Astronomer (Post-Doctoral Research Fellow), B...   \n",
       "1  [Accelerator Physicist id54315, Applied Physic...   \n",
       "2  [Plasma physicist with experience of numerical...   \n",
       "3  [Aviation Meteorologist, Physicist, Geophysici...   \n",
       "4  [Research Scientist, Senior Scientist, Protein...   \n",
       "\n",
       "                                    location_scraped  \\\n",
       "0  [Cambridge, London, Bavaria, London, London, C...   \n",
       "1  [Villigen PSI, Aargau, Geneva, Geneva, Oxford,...   \n",
       "2  [Czech Republic, Czech Republic, Czech Republi...   \n",
       "3  [Farnborough, Hampshire, Neustrelitz, Mecklenb...   \n",
       "4  [Slough, Berkshire, Slough, Berkshire, Slough,...   \n",
       "\n",
       "                                     link_for_skills  \n",
       "0  [http://jobviewtrack.com/en-gb/job-1f4f417d421...  \n",
       "1  [http://jobviewtrack.com/en-gb/job-1f1d412c1c5...  \n",
       "2  [http://jobviewtrack.com/en-gb/job-4e1c4168551...  \n",
       "3  [http://jobviewtrack.com/en-gb/job-4f19416c5b0...  \n",
       "4  [http://jobviewtrack.com/en-gb/job-4f12417f481...  "
      ]
     },
     "execution_count": 84,
     "metadata": {},
     "output_type": "execute_result"
    }
   ],
   "source": [
    "data.head()"
   ]
  },
  {
   "cell_type": "code",
   "execution_count": 85,
   "id": "c90e6e15-ee51-4541-b0b2-3ff1cb861e82",
   "metadata": {},
   "outputs": [],
   "source": [
    "data = data.explode(['career_scraped','location_scraped', 'link_for_skills'])"
   ]
  },
  {
   "cell_type": "code",
   "execution_count": 87,
   "id": "a4b8c9bf-d7fe-4b35-932f-3c2fc33774f6",
   "metadata": {},
   "outputs": [],
   "source": [
    "data = data.drop(['all_scraped'], axis = 1)\n",
    "data = data.drop_duplicates()"
   ]
  },
  {
   "cell_type": "code",
   "execution_count": 90,
   "id": "e42c486c-9257-4949-a812-aadc537887db",
   "metadata": {},
   "outputs": [],
   "source": [
    "data.to_csv('raw_data_2.csv')"
   ]
  }
 ],
 "metadata": {
  "kernelspec": {
   "display_name": "Python 3 (ipykernel)",
   "language": "python",
   "name": "python3"
  },
  "language_info": {
   "codemirror_mode": {
    "name": "ipython",
    "version": 3
   },
   "file_extension": ".py",
   "mimetype": "text/x-python",
   "name": "python",
   "nbconvert_exporter": "python",
   "pygments_lexer": "ipython3",
   "version": "3.8.12"
  }
 },
 "nbformat": 4,
 "nbformat_minor": 5
}
