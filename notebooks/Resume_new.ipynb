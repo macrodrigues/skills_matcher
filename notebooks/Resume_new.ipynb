{
 "cells": [
  {
   "cell_type": "code",
   "execution_count": 1,
   "id": "ef71c252-e426-42ad-b5d6-ca2e067c484f",
   "metadata": {},
   "outputs": [
    {
     "name": "stderr",
     "output_type": "stream",
     "text": [
      "2021-12-09 10:18:53.004763: W tensorflow/stream_executor/platform/default/dso_loader.cc:64] Could not load dynamic library 'libcudart.so.11.0'; dlerror: libcudart.so.11.0: cannot open shared object file: No such file or directory\n",
      "2021-12-09 10:18:53.004819: I tensorflow/stream_executor/cuda/cudart_stub.cc:29] Ignore above cudart dlerror if you do not have a GPU set up on your machine.\n",
      "[nltk_data] Downloading package stopwords to\n",
      "[nltk_data]     /home/lewagonlew/nltk_data...\n",
      "[nltk_data]   Package stopwords is already up-to-date!\n",
      "[nltk_data] Downloading package wordnet to\n",
      "[nltk_data]     /home/lewagonlew/nltk_data...\n",
      "[nltk_data]   Package wordnet is already up-to-date!\n"
     ]
    }
   ],
   "source": [
    "#spacy\n",
    "import spacy\n",
    "import en_core_web_lg\n",
    "from spacy.pipeline import EntityRuler\n",
    "from spacy.lang.en import English\n",
    "from spacy.tokens import Doc, Span\n",
    "from spacy.matcher import Matcher, PhraseMatcher \n",
    "#from scripts.spacy_model import load_results_auto, load_results_manual\n",
    "\n",
    "#Visualization\n",
    "from spacy import displacy\n",
    "#import pyLDAvis.gensim_models\n",
    "from wordcloud import WordCloud\n",
    "import plotly.express as px\n",
    "import matplotlib.pyplot as plt\n",
    "import seaborn as sns\n",
    "\n",
    "#Data loading/ Data manipulation\n",
    "import pandas as pd\n",
    "import numpy as np\n",
    "import jsonlines\n",
    "import json\n",
    "import os\n",
    "import csv\n",
    "import re\n",
    "import sys\n",
    "\n",
    "#nltk\n",
    "import re\n",
    "import nltk\n",
    "from nltk.corpus import stopwords\n",
    "from nltk.stem import WordNetLemmatizer\n",
    "nltk.download(['stopwords','wordnet'])\n",
    "\n",
    "import time\n",
    "#warning\n",
    "import warnings \n",
    "warnings.filterwarnings('ignore')"
   ]
  },
  {
   "cell_type": "code",
   "execution_count": null,
   "id": "4b361940-4875-4817-8d1e-b082ac458f99",
   "metadata": {},
   "outputs": [],
   "source": [
    "PATH = os.path.dirname((os.getcwd()))\n",
    "PATH"
   ]
  },
  {
   "cell_type": "code",
   "execution_count": 7,
   "id": "60070914-aa3c-4d04-a263-e7aa6a151ead",
   "metadata": {},
   "outputs": [
    {
     "data": {
      "text/plain": [
       "'/home/lewagonlew/code/marcorodrigues/skills_matcher'"
      ]
     },
     "execution_count": 7,
     "metadata": {},
     "output_type": "execute_result"
    }
   ],
   "source": [
    "os.chdir('/home/lewagonlew/code/marcorodrigues/skills_matcher')\n",
    "os.getcwd()"
   ]
  },
  {
   "cell_type": "code",
   "execution_count": 9,
   "id": "e9e2df3c-6e7a-4a42-b3ea-da9735bc0111",
   "metadata": {},
   "outputs": [
    {
     "name": "stdout",
     "output_type": "stream",
     "text": [
      "The autoreload extension is already loaded. To reload it, use:\n",
      "  %reload_ext autoreload\n"
     ]
    }
   ],
   "source": [
    "%load_ext autoreload\n",
    "%autoreload 2\n",
    "from skills_matcher.scripts.spacy_model import load_results_auto, load_results_manual\n",
    "from skills_matcher.scripts.utils.clean_skills import extract_skills_auto, extract_entities_2, extract_lables, get_dict, get_dict_cv\n",
    "from skills_matcher.scripts.utils.paths import load_paths\n",
    "from skills_matcher.scripts.utils.matcher import create_skill_list, clean_resume, match_skills, extract_jd, extract_resume_skills, extract_CV, extract_jd_position"
   ]
  },
  {
   "cell_type": "code",
   "execution_count": null,
   "id": "7a8e5a12-3f51-4a1f-9370-6a8451255304",
   "metadata": {},
   "outputs": [],
   "source": [
    "pct_list = match_skills(JD_set, cv_set)"
   ]
  },
  {
   "cell_type": "code",
   "execution_count": null,
   "id": "db629390-6e1a-4c4f-a271-b266d4d9f4ad",
   "metadata": {},
   "outputs": [],
   "source": [
    "## compare list with data_set, visualize highest matching jobs\n",
    "job_number, matching_score, job_cat = [], [], []\n",
    "frame = pd.DataFrame\n",
    "\n",
    "for i in pct_list:\n",
    "    cat = df[\"Category\"][i[0]]\n",
    "    print('Job #{} in Sector {} has a {}% match'.format(i[0], df[\"Category\"][i[0]], i[1]))\n",
    "    job_number.append(i[0])\n",
    "    matching_score.append(i[1])\n",
    "    \n",
    "    if cat in job_cat:\n",
    "        job_cat.append(str(cat) + str(i[0]))\n",
    "    else:\n",
    "        job_cat.append(cat)\n",
    "    \n",
    "frame = pd.DataFrame(job_number, columns=['job_number'])\n",
    "frame[\"matching_score\"] = matching_score\n",
    "frame[\"Category\"] = job_cat\n",
    "\n",
    "\n",
    "#for template in [\"ggplot2\", \"seaborn\"]:\n",
    "import plotly.graph_objects as go\n",
    "\n",
    "fig = px.bar(\n",
    "    x=frame['Category'], \n",
    "    y=frame[\"matching_score\"],\n",
    "    labels={\"x\": \"job position\", \"y\": \"Matching %\"},\n",
    "    title=f\"Job offers matching with resume\",\n",
    "    width=1200, height=800,\n",
    "    template=\"seaborn\",\n",
    "    color = frame[\"matching_score\"])\n",
    "fig.update_layout(\n",
    "        #margin=dict(l=20, r=20, t=20, b=20),\n",
    "    paper_bgcolor=\"lightblue\",\n",
    ")\n",
    "fig.show()"
   ]
  },
  {
   "cell_type": "markdown",
   "id": "9bce191c-6193-4286-aaa9-8cd30c644ae9",
   "metadata": {},
   "source": [
    "## Loading Data with pre-trained Spacy Model (Auto/Manual)"
   ]
  },
  {
   "cell_type": "code",
   "execution_count": 10,
   "id": "3f7cce60-2774-4946-8617-1f59295b2d85",
   "metadata": {},
   "outputs": [
    {
     "data": {
      "text/html": [
       "<div>\n",
       "<style scoped>\n",
       "    .dataframe tbody tr th:only-of-type {\n",
       "        vertical-align: middle;\n",
       "    }\n",
       "\n",
       "    .dataframe tbody tr th {\n",
       "        vertical-align: top;\n",
       "    }\n",
       "\n",
       "    .dataframe thead th {\n",
       "        text-align: right;\n",
       "    }\n",
       "</style>\n",
       "<table border=\"1\" class=\"dataframe\">\n",
       "  <thead>\n",
       "    <tr style=\"text-align: right;\">\n",
       "      <th></th>\n",
       "      <th>Resume_str</th>\n",
       "      <th>Category</th>\n",
       "      <th>Clean_Resume</th>\n",
       "      <th>entity_ruler</th>\n",
       "      <th>SKILL</th>\n",
       "    </tr>\n",
       "  </thead>\n",
       "  <tbody>\n",
       "    <tr>\n",
       "      <th>0</th>\n",
       "      <td>HR ADMINISTRATOR/MARKETING ASSOCIATE\\...</td>\n",
       "      <td>HR</td>\n",
       "      <td>hr administrator marketing associate hr admini...</td>\n",
       "      <td>{'front end', 'data analysis', 'marketing', 'a...</td>\n",
       "      <td>[front, end, data, analysis, marketing, accoun...</td>\n",
       "    </tr>\n",
       "    <tr>\n",
       "      <th>1</th>\n",
       "      <td>HR SPECIALIST, US HR OPERATIONS      ...</td>\n",
       "      <td>HR</td>\n",
       "      <td>hr specialist u hr operation summary versatile...</td>\n",
       "      <td>{'marketing', 'software', 'material', 'project...</td>\n",
       "      <td>[marketing, software, material, project, manag...</td>\n",
       "    </tr>\n",
       "    <tr>\n",
       "      <th>2</th>\n",
       "      <td>HR DIRECTOR       Summary      Over 2...</td>\n",
       "      <td>HR</td>\n",
       "      <td>hr director summary 20 year experience recruit...</td>\n",
       "      <td>{'monitoring', 'publishing', 'marketing', 'dat...</td>\n",
       "      <td>[monitoring, publishing, marketing, database, ...</td>\n",
       "    </tr>\n",
       "    <tr>\n",
       "      <th>3</th>\n",
       "      <td>HR SPECIALIST       Summary    Dedica...</td>\n",
       "      <td>HR</td>\n",
       "      <td>hr specialist summary dedicated driven dynamic...</td>\n",
       "      <td>{'monitoring', 'database', 'business administr...</td>\n",
       "      <td>[monitoring, database, business, administratio...</td>\n",
       "    </tr>\n",
       "    <tr>\n",
       "      <th>4</th>\n",
       "      <td>HR MANAGER         Skill Highlights  ...</td>\n",
       "      <td>HR</td>\n",
       "      <td>hr manager skill highlight hr skill hr departm...</td>\n",
       "      <td>{'business administration', 'impact', 'project...</td>\n",
       "      <td>[business, administration, impact, project, ma...</td>\n",
       "    </tr>\n",
       "    <tr>\n",
       "      <th>...</th>\n",
       "      <td>...</td>\n",
       "      <td>...</td>\n",
       "      <td>...</td>\n",
       "      <td>...</td>\n",
       "      <td>...</td>\n",
       "    </tr>\n",
       "    <tr>\n",
       "      <th>2479</th>\n",
       "      <td>RANK: SGT/E-5 NON- COMMISSIONED OFFIC...</td>\n",
       "      <td>AVIATION</td>\n",
       "      <td>rank sgt e 5 non commissioned officer charge b...</td>\n",
       "      <td>{'engineering', 'accounting', 'material'}</td>\n",
       "      <td>[engineering, accounting, material]</td>\n",
       "    </tr>\n",
       "    <tr>\n",
       "      <th>2480</th>\n",
       "      <td>GOVERNMENT RELATIONS, COMMUNICATIONS ...</td>\n",
       "      <td>AVIATION</td>\n",
       "      <td>government relation communication organization...</td>\n",
       "      <td>{'engineering', 'support', 'business', 'accoun...</td>\n",
       "      <td>[engineering, support, business, accounting, s...</td>\n",
       "    </tr>\n",
       "    <tr>\n",
       "      <th>2481</th>\n",
       "      <td>GEEK SQUAD AGENT         Professional...</td>\n",
       "      <td>AVIATION</td>\n",
       "      <td>geek squad agent professional profile support ...</td>\n",
       "      <td>{'android', 'specification', 'software', 'supp...</td>\n",
       "      <td>[android, specification, software, support]</td>\n",
       "    </tr>\n",
       "    <tr>\n",
       "      <th>2482</th>\n",
       "      <td>PROGRAM DIRECTOR / OFFICE MANAGER    ...</td>\n",
       "      <td>AVIATION</td>\n",
       "      <td>program director office manager summary highly...</td>\n",
       "      <td>{'twitter', 'youtube', 'marketing', 'security'...</td>\n",
       "      <td>[twitter, youtube, marketing, security, design...</td>\n",
       "    </tr>\n",
       "    <tr>\n",
       "      <th>2483</th>\n",
       "      <td>STOREKEEPER II       Professional Sum...</td>\n",
       "      <td>AVIATION</td>\n",
       "      <td>storekeeper ii professional summary purpose do...</td>\n",
       "      <td>{'component', 'certificate', 'material', 'box'...</td>\n",
       "      <td>[component, certificate, material, box, busine...</td>\n",
       "    </tr>\n",
       "  </tbody>\n",
       "</table>\n",
       "<p>2484 rows × 5 columns</p>\n",
       "</div>"
      ],
      "text/plain": [
       "                                             Resume_str  Category  \\\n",
       "0              HR ADMINISTRATOR/MARKETING ASSOCIATE\\...        HR   \n",
       "1              HR SPECIALIST, US HR OPERATIONS      ...        HR   \n",
       "2              HR DIRECTOR       Summary      Over 2...        HR   \n",
       "3              HR SPECIALIST       Summary    Dedica...        HR   \n",
       "4              HR MANAGER         Skill Highlights  ...        HR   \n",
       "...                                                 ...       ...   \n",
       "2479           RANK: SGT/E-5 NON- COMMISSIONED OFFIC...  AVIATION   \n",
       "2480           GOVERNMENT RELATIONS, COMMUNICATIONS ...  AVIATION   \n",
       "2481           GEEK SQUAD AGENT         Professional...  AVIATION   \n",
       "2482           PROGRAM DIRECTOR / OFFICE MANAGER    ...  AVIATION   \n",
       "2483           STOREKEEPER II       Professional Sum...  AVIATION   \n",
       "\n",
       "                                           Clean_Resume  \\\n",
       "0     hr administrator marketing associate hr admini...   \n",
       "1     hr specialist u hr operation summary versatile...   \n",
       "2     hr director summary 20 year experience recruit...   \n",
       "3     hr specialist summary dedicated driven dynamic...   \n",
       "4     hr manager skill highlight hr skill hr departm...   \n",
       "...                                                 ...   \n",
       "2479  rank sgt e 5 non commissioned officer charge b...   \n",
       "2480  government relation communication organization...   \n",
       "2481  geek squad agent professional profile support ...   \n",
       "2482  program director office manager summary highly...   \n",
       "2483  storekeeper ii professional summary purpose do...   \n",
       "\n",
       "                                           entity_ruler  \\\n",
       "0     {'front end', 'data analysis', 'marketing', 'a...   \n",
       "1     {'marketing', 'software', 'material', 'project...   \n",
       "2     {'monitoring', 'publishing', 'marketing', 'dat...   \n",
       "3     {'monitoring', 'database', 'business administr...   \n",
       "4     {'business administration', 'impact', 'project...   \n",
       "...                                                 ...   \n",
       "2479          {'engineering', 'accounting', 'material'}   \n",
       "2480  {'engineering', 'support', 'business', 'accoun...   \n",
       "2481  {'android', 'specification', 'software', 'supp...   \n",
       "2482  {'twitter', 'youtube', 'marketing', 'security'...   \n",
       "2483  {'component', 'certificate', 'material', 'box'...   \n",
       "\n",
       "                                                  SKILL  \n",
       "0     [front, end, data, analysis, marketing, accoun...  \n",
       "1     [marketing, software, material, project, manag...  \n",
       "2     [monitoring, publishing, marketing, database, ...  \n",
       "3     [monitoring, database, business, administratio...  \n",
       "4     [business, administration, impact, project, ma...  \n",
       "...                                                 ...  \n",
       "2479                [engineering, accounting, material]  \n",
       "2480  [engineering, support, business, accounting, s...  \n",
       "2481        [android, specification, software, support]  \n",
       "2482  [twitter, youtube, marketing, security, design...  \n",
       "2483  [component, certificate, material, box, busine...  \n",
       "\n",
       "[2484 rows x 5 columns]"
      ]
     },
     "execution_count": 10,
     "metadata": {},
     "output_type": "execute_result"
    }
   ],
   "source": [
    "extract_CV()"
   ]
  },
  {
   "cell_type": "code",
   "execution_count": 92,
   "id": "4a4d1c2b-c89d-4b0d-9b93-e9d23f3994c9",
   "metadata": {},
   "outputs": [
    {
     "ename": "NameError",
     "evalue": "name 'PATH_DATA' is not defined",
     "output_type": "error",
     "traceback": [
      "\u001b[0;31m---------------------------------------------------------------------------\u001b[0m",
      "\u001b[0;31mNameError\u001b[0m                                 Traceback (most recent call last)",
      "\u001b[0;32m/tmp/ipykernel_1794/2470578780.py\u001b[0m in \u001b[0;36m<module>\u001b[0;34m\u001b[0m\n\u001b[0;32m----> 1\u001b[0;31m \u001b[0mdf_JD\u001b[0m \u001b[0;34m=\u001b[0m \u001b[0mpd\u001b[0m\u001b[0;34m.\u001b[0m\u001b[0mread_csv\u001b[0m\u001b[0;34m(\u001b[0m\u001b[0mPATH_DATA\u001b[0m\u001b[0;34m)\u001b[0m\u001b[0;34m\u001b[0m\u001b[0;34m\u001b[0m\u001b[0m\n\u001b[0m\u001b[1;32m      2\u001b[0m \u001b[0mdf_JD\u001b[0m\u001b[0;34m.\u001b[0m\u001b[0mhead\u001b[0m\u001b[0;34m(\u001b[0m\u001b[0;34m)\u001b[0m\u001b[0;34m\u001b[0m\u001b[0;34m\u001b[0m\u001b[0m\n",
      "\u001b[0;31mNameError\u001b[0m: name 'PATH_DATA' is not defined"
     ]
    }
   ],
   "source": [
    "df_JD = pd.read_csv(PATH_DATA)\n",
    "df_JD.head()"
   ]
  },
  {
   "cell_type": "code",
   "execution_count": 91,
   "id": "e01a268c-c977-4ea5-b0d6-3dc615c1150d",
   "metadata": {},
   "outputs": [
    {
     "ename": "NameError",
     "evalue": "name 'df_JD' is not defined",
     "output_type": "error",
     "traceback": [
      "\u001b[0;31m---------------------------------------------------------------------------\u001b[0m",
      "\u001b[0;31mNameError\u001b[0m                                 Traceback (most recent call last)",
      "\u001b[0;32m/tmp/ipykernel_1794/3189414898.py\u001b[0m in \u001b[0;36m<module>\u001b[0;34m\u001b[0m\n\u001b[0;32m----> 1\u001b[0;31m \u001b[0mdf_JD\u001b[0m\u001b[0;34m\u001b[0m\u001b[0;34m\u001b[0m\u001b[0m\n\u001b[0m",
      "\u001b[0;31mNameError\u001b[0m: name 'df_JD' is not defined"
     ]
    }
   ],
   "source": [
    "df_JD"
   ]
  },
  {
   "cell_type": "code",
   "execution_count": 101,
   "id": "031d4d31-7ac3-4e27-8f56-5a2566a074b6",
   "metadata": {},
   "outputs": [
    {
     "data": {
      "text/html": [
       "<div>\n",
       "<style scoped>\n",
       "    .dataframe tbody tr th:only-of-type {\n",
       "        vertical-align: middle;\n",
       "    }\n",
       "\n",
       "    .dataframe tbody tr th {\n",
       "        vertical-align: top;\n",
       "    }\n",
       "\n",
       "    .dataframe thead th {\n",
       "        text-align: right;\n",
       "    }\n",
       "</style>\n",
       "<table border=\"1\" class=\"dataframe\">\n",
       "  <thead>\n",
       "    <tr style=\"text-align: right;\">\n",
       "      <th></th>\n",
       "      <th>job</th>\n",
       "      <th>position</th>\n",
       "      <th>location</th>\n",
       "      <th>description</th>\n",
       "      <th>SKILL</th>\n",
       "      <th>KNOWLEDGE</th>\n",
       "      <th>MIN_EXP</th>\n",
       "      <th>LEVEL</th>\n",
       "    </tr>\n",
       "  </thead>\n",
       "  <tbody>\n",
       "    <tr>\n",
       "      <th>200</th>\n",
       "      <td>mathematician</td>\n",
       "      <td>Computer scientist, mathematician, physicist, ...</td>\n",
       "      <td>Ulm, Baden-Württemberg</td>\n",
       "      <td>[' development processes and methods for safet...</td>\n",
       "      <td>[]</td>\n",
       "      <td>[AI-based]</td>\n",
       "      <td>[]</td>\n",
       "      <td>[]</td>\n",
       "    </tr>\n",
       "    <tr>\n",
       "      <th>201</th>\n",
       "      <td>mathematician</td>\n",
       "      <td>Mathematician (m/f/d)</td>\n",
       "      <td>Dresden, Sachsen</td>\n",
       "      <td>[' We develop software solutions for the semic...</td>\n",
       "      <td>[WPF, ASP.NET Core, Entity Framework Core, MS-...</td>\n",
       "      <td>[English]</td>\n",
       "      <td>[]</td>\n",
       "      <td>[]</td>\n",
       "    </tr>\n",
       "    <tr>\n",
       "      <th>202</th>\n",
       "      <td>mathematician</td>\n",
       "      <td>Mathematician as Project Manager (m/f/x)</td>\n",
       "      <td>Germany</td>\n",
       "      <td>[' Entwicklung, Programmierung und Bedienung v...</td>\n",
       "      <td>[Betriebs-, Excel]</td>\n",
       "      <td>[]</td>\n",
       "      <td>[]</td>\n",
       "      <td>[]</td>\n",
       "    </tr>\n",
       "    <tr>\n",
       "      <th>203</th>\n",
       "      <td>statistician</td>\n",
       "      <td>Project Lead Statistician</td>\n",
       "      <td>Slough, Berkshire</td>\n",
       "      <td>[' Statistical lead across all Clinical Pharma...</td>\n",
       "      <td>[CESI, ASA, EFSPI, SAS/R, SAS, R]</td>\n",
       "      <td>[QTc studies, Biostatistics, Statistics]</td>\n",
       "      <td>[]</td>\n",
       "      <td>[Master’s, PhD]</td>\n",
       "    </tr>\n",
       "    <tr>\n",
       "      <th>204</th>\n",
       "      <td>statistician</td>\n",
       "      <td>Project Lead Statistician</td>\n",
       "      <td>France</td>\n",
       "      <td>[' Perform as lead statistician on complex stu...</td>\n",
       "      <td>[]</td>\n",
       "      <td>[quality, Biostatistics]</td>\n",
       "      <td>[]</td>\n",
       "      <td>[BSc, MSc]</td>\n",
       "    </tr>\n",
       "    <tr>\n",
       "      <th>205</th>\n",
       "      <td>statistician</td>\n",
       "      <td>Senior Statistician / Project Lead</td>\n",
       "      <td>Germany</td>\n",
       "      <td>[\" Lead all biostatistics activities related t...</td>\n",
       "      <td>[SAS analysis, SAS, SAS software, EMA, ICH, En...</td>\n",
       "      <td>[statistical analysis, Statistics, clinical re...</td>\n",
       "      <td>[]</td>\n",
       "      <td>[MSc]</td>\n",
       "    </tr>\n",
       "    <tr>\n",
       "      <th>206</th>\n",
       "      <td>statistician</td>\n",
       "      <td>Register your interest for a Statistician role</td>\n",
       "      <td>Cambridge</td>\n",
       "      <td>[' Contribute to or lead the statistical think...</td>\n",
       "      <td>[Doctorate degree]</td>\n",
       "      <td>[Statistics, Biostatistics, Mathematics]</td>\n",
       "      <td>[]</td>\n",
       "      <td>[Master's]</td>\n",
       "    </tr>\n",
       "    <tr>\n",
       "      <th>207</th>\n",
       "      <td>statistician</td>\n",
       "      <td>Researcher/(bio-)statistician</td>\n",
       "      <td>Oslo</td>\n",
       "      <td>[' Take part, and possibly also lead, the deve...</td>\n",
       "      <td>[English]</td>\n",
       "      <td>[statistics, pidemiology, planning]</td>\n",
       "      <td>[]</td>\n",
       "      <td>[Master, PhD]</td>\n",
       "    </tr>\n",
       "    <tr>\n",
       "      <th>208</th>\n",
       "      <td>statistician</td>\n",
       "      <td>Senior Statistician</td>\n",
       "      <td>Germany</td>\n",
       "      <td>[' Perform technical and consistency review of...</td>\n",
       "      <td>[SAP, SAS, ICH, R]</td>\n",
       "      <td>[programming practice, Statistics/Biostatistic...</td>\n",
       "      <td>[]</td>\n",
       "      <td>[MSc, PhD]</td>\n",
       "    </tr>\n",
       "    <tr>\n",
       "      <th>209</th>\n",
       "      <td>statistician</td>\n",
       "      <td>Principal Statistician</td>\n",
       "      <td>Germany</td>\n",
       "      <td>[' Performs and leads the statistical analysis...</td>\n",
       "      <td>[communication, SAP, SAS]</td>\n",
       "      <td>[Statistics, SAS software]</td>\n",
       "      <td>[life science]</td>\n",
       "      <td>[MSc, BSc]</td>\n",
       "    </tr>\n",
       "    <tr>\n",
       "      <th>210</th>\n",
       "      <td>statistician</td>\n",
       "      <td>Principal Statistician</td>\n",
       "      <td>Germany</td>\n",
       "      <td>[' Address scientific issues within drug disco...</td>\n",
       "      <td>[SAS/R, SAS, R]</td>\n",
       "      <td>[Reviewing literature, Biostatistics, Mixed Mo...</td>\n",
       "      <td>[]</td>\n",
       "      <td>[Master’s, PhD]</td>\n",
       "    </tr>\n",
       "    <tr>\n",
       "      <th>211</th>\n",
       "      <td>statistician</td>\n",
       "      <td>Principal Statistician</td>\n",
       "      <td>Belgium</td>\n",
       "      <td>[' participating in the development of study p...</td>\n",
       "      <td>[ISE, SAP, programming, Efficacy/Safety, ICH, ...</td>\n",
       "      <td>[statistics]</td>\n",
       "      <td>[]</td>\n",
       "      <td>[Master’s]</td>\n",
       "    </tr>\n",
       "    <tr>\n",
       "      <th>212</th>\n",
       "      <td>statistician</td>\n",
       "      <td>Senior Statistician</td>\n",
       "      <td>Ghent, East Flanders</td>\n",
       "      <td>[' Works in a team of two to four data scienti...</td>\n",
       "      <td>[SPSS, R, Python, SAS, SQL, Dutch, English, Fr...</td>\n",
       "      <td>[modelling, market research, Economics, Market...</td>\n",
       "      <td>[]</td>\n",
       "      <td>[Master]</td>\n",
       "    </tr>\n",
       "    <tr>\n",
       "      <th>213</th>\n",
       "      <td>statistician</td>\n",
       "      <td>Principal Biostatistician</td>\n",
       "      <td>Belgium</td>\n",
       "      <td>[' Able to serve as a senior or principal stat...</td>\n",
       "      <td>[SAS, R, English]</td>\n",
       "      <td>[Mathematics, Statistics, Computer Science]</td>\n",
       "      <td>[]</td>\n",
       "      <td>[BSc]</td>\n",
       "    </tr>\n",
       "    <tr>\n",
       "      <th>214</th>\n",
       "      <td>statistician</td>\n",
       "      <td>Senior Principal Statistician</td>\n",
       "      <td>Waterford</td>\n",
       "      <td>[' Responsible and accountable for the statist...</td>\n",
       "      <td>[ICH]</td>\n",
       "      <td>[clinical trial, data architecture]</td>\n",
       "      <td>[]</td>\n",
       "      <td>[]</td>\n",
       "    </tr>\n",
       "    <tr>\n",
       "      <th>215</th>\n",
       "      <td>statistician</td>\n",
       "      <td>Register your interest for a Statistician role...</td>\n",
       "      <td>Cambridge</td>\n",
       "      <td>[' Contribute to or lead the statistical think...</td>\n",
       "      <td>[Doctorate degree]</td>\n",
       "      <td>[Statistics, Biostatistics, Mathematics]</td>\n",
       "      <td>[]</td>\n",
       "      <td>[Master’s]</td>\n",
       "    </tr>\n",
       "    <tr>\n",
       "      <th>216</th>\n",
       "      <td>statistician</td>\n",
       "      <td>Clinical Statistician</td>\n",
       "      <td>Netherlands</td>\n",
       "      <td>[' A PhD (with at least 5 years of experience ...</td>\n",
       "      <td>[ICH, R]</td>\n",
       "      <td>[]</td>\n",
       "      <td>[Master’s, SAS]</td>\n",
       "      <td>[pharmaceutical industry]</td>\n",
       "    </tr>\n",
       "    <tr>\n",
       "      <th>217</th>\n",
       "      <td>statistician</td>\n",
       "      <td>Senior Statistician</td>\n",
       "      <td>Lausanne</td>\n",
       "      <td>[' Provide statistical input to the design, an...</td>\n",
       "      <td>[GCP, English, SAS, R]</td>\n",
       "      <td>[statistical analysis, statistics, Clinical De...</td>\n",
       "      <td>[]</td>\n",
       "      <td>[MSc, PhD]</td>\n",
       "    </tr>\n",
       "    <tr>\n",
       "      <th>218</th>\n",
       "      <td>statistician</td>\n",
       "      <td>Senior Statistician</td>\n",
       "      <td>Cambridge</td>\n",
       "      <td>[' Provide statistical expertise for complex d...</td>\n",
       "      <td>[SAS, R]</td>\n",
       "      <td>[Statistics, design]</td>\n",
       "      <td>[]</td>\n",
       "      <td>[MSc, PhD]</td>\n",
       "    </tr>\n",
       "    <tr>\n",
       "      <th>219</th>\n",
       "      <td>statistician</td>\n",
       "      <td>Senior Statistician</td>\n",
       "      <td>Cambridge</td>\n",
       "      <td>[' Lead the strategic, statistical thinking an...</td>\n",
       "      <td>[SAS]</td>\n",
       "      <td>[Health Technology Assessment, pharma, healthc...</td>\n",
       "      <td>[]</td>\n",
       "      <td>[MSc/, PhD]</td>\n",
       "    </tr>\n",
       "    <tr>\n",
       "      <th>220</th>\n",
       "      <td>statistician</td>\n",
       "      <td>Principal Biostatistician</td>\n",
       "      <td>Austria</td>\n",
       "      <td>[' Serves as a statistical department resource...</td>\n",
       "      <td>[SAP, DMC, DSMBs, ICH, English, SAS]</td>\n",
       "      <td>[Data Monitoring Committee, Statistics, progra...</td>\n",
       "      <td>[Minimum Master of]</td>\n",
       "      <td>[]</td>\n",
       "    </tr>\n",
       "    <tr>\n",
       "      <th>221</th>\n",
       "      <td>biologist</td>\n",
       "      <td>Field biologist (all genders welcome) (Prof. D...</td>\n",
       "      <td>Göttingen, Niedersachsen</td>\n",
       "      <td>[' Pay grade 11 TV-L - ', ' collection of data...</td>\n",
       "      <td>[Chemie -]</td>\n",
       "      <td>[physiology, habitat management, coding of vid...</td>\n",
       "      <td>[]</td>\n",
       "      <td>[]</td>\n",
       "    </tr>\n",
       "    <tr>\n",
       "      <th>222</th>\n",
       "      <td>biologist</td>\n",
       "      <td>Computational Biologist / Bioinformatician</td>\n",
       "      <td>Lausanne</td>\n",
       "      <td>[' Guide the experimental efforts of our R&amp;D t...</td>\n",
       "      <td>[English, RNA-seq]</td>\n",
       "      <td>[bioinformatic analysis]</td>\n",
       "      <td>[]</td>\n",
       "      <td>[]</td>\n",
       "    </tr>\n",
       "    <tr>\n",
       "      <th>223</th>\n",
       "      <td>biologist</td>\n",
       "      <td>Associate/Research Scientist Cell Biologist</td>\n",
       "      <td>Slough, Berkshire</td>\n",
       "      <td>[' Provide cell culture support and develop ex...</td>\n",
       "      <td>[ELISA, MSD]</td>\n",
       "      <td>[agile, molecular biology techniques]</td>\n",
       "      <td>[]</td>\n",
       "      <td>[]</td>\n",
       "    </tr>\n",
       "    <tr>\n",
       "      <th>224</th>\n",
       "      <td>biologist</td>\n",
       "      <td>Senior Computational Biologist</td>\n",
       "      <td>Oxford</td>\n",
       "      <td>[' Excellent RNA seq data, computational exper...</td>\n",
       "      <td>[]</td>\n",
       "      <td>[sequencing]</td>\n",
       "      <td>[]</td>\n",
       "      <td>[PhD]</td>\n",
       "    </tr>\n",
       "    <tr>\n",
       "      <th>225</th>\n",
       "      <td>biologist</td>\n",
       "      <td>Senior / Principal Experimental Biologist</td>\n",
       "      <td>Oxford</td>\n",
       "      <td>[' Educated to PhD level with several years po...</td>\n",
       "      <td>[]</td>\n",
       "      <td>[sequencing, molecular biology]</td>\n",
       "      <td>[]</td>\n",
       "      <td>[]</td>\n",
       "    </tr>\n",
       "    <tr>\n",
       "      <th>226</th>\n",
       "      <td>biologist</td>\n",
       "      <td>Computational Biologist</td>\n",
       "      <td>Oxfordshire</td>\n",
       "      <td>[' Contributing to the data analysis workflows...</td>\n",
       "      <td>[Python, R, Linux, Unix]</td>\n",
       "      <td>[Computer Science, Statistics, molecular biology]</td>\n",
       "      <td>[]</td>\n",
       "      <td>[MSc, PhD]</td>\n",
       "    </tr>\n",
       "    <tr>\n",
       "      <th>227</th>\n",
       "      <td>biologist</td>\n",
       "      <td>Computational Structural Biologist</td>\n",
       "      <td>Oxford</td>\n",
       "      <td>[' PhD in Computational Biology/Structural Bio...</td>\n",
       "      <td>[]</td>\n",
       "      <td>[molecular docking Energy]</td>\n",
       "      <td>[]</td>\n",
       "      <td>[PhD]</td>\n",
       "    </tr>\n",
       "    <tr>\n",
       "      <th>228</th>\n",
       "      <td>biologist</td>\n",
       "      <td>HNCDI Computational Biologist/Bioinformatician</td>\n",
       "      <td>Warrington, Cheshire</td>\n",
       "      <td>[' A Ph.D. degree (or equivalent experience) i...</td>\n",
       "      <td>[Python, R, Perl, Fortran, C++, C, Unix, Linux]</td>\n",
       "      <td>[programming such, Unix/Linux]</td>\n",
       "      <td>[]</td>\n",
       "      <td>[Ph.D]</td>\n",
       "    </tr>\n",
       "    <tr>\n",
       "      <th>229</th>\n",
       "      <td>biologist</td>\n",
       "      <td>Quality Control</td>\n",
       "      <td>Amsterdam, Noord-Holland</td>\n",
       "      <td>[' Participate in equipment validation, method...</td>\n",
       "      <td>[qPCR, TCID]</td>\n",
       "      <td>[ddPCR, Cell Passaging, Quality Control, molec...</td>\n",
       "      <td>[pharma]</td>\n",
       "      <td>[Bachelor's]</td>\n",
       "    </tr>\n",
       "    <tr>\n",
       "      <th>230</th>\n",
       "      <td>biologist</td>\n",
       "      <td>Senior Research Biologist</td>\n",
       "      <td>Hatfield, Hertfordshire</td>\n",
       "      <td>[' Designing/carrying out experiments and inde...</td>\n",
       "      <td>[]</td>\n",
       "      <td>[Biological/Biochemistry, Molecular Biology, m...</td>\n",
       "      <td>[]</td>\n",
       "      <td>[PhD, BSc / MSc]</td>\n",
       "    </tr>\n",
       "    <tr>\n",
       "      <th>231</th>\n",
       "      <td>biologist</td>\n",
       "      <td>Evolutionary Biologist/Ecotoxicologist/Bioinfo...</td>\n",
       "      <td>Frankfurt am Main, Hessen</td>\n",
       "      <td>[' Developing, maintaining and running high-th...</td>\n",
       "      <td>[scripting]</td>\n",
       "      <td>[cological /]</td>\n",
       "      <td>[]</td>\n",
       "      <td>[PhD]</td>\n",
       "    </tr>\n",
       "    <tr>\n",
       "      <th>232</th>\n",
       "      <td>biologist</td>\n",
       "      <td>Molecular Biologist</td>\n",
       "      <td>Bracknell, Berkshire</td>\n",
       "      <td>[' Working closely with other colleagues in th...</td>\n",
       "      <td>[PCR]</td>\n",
       "      <td>[molecular biology tools, sequencing]</td>\n",
       "      <td>[]</td>\n",
       "      <td>[]</td>\n",
       "    </tr>\n",
       "    <tr>\n",
       "      <th>233</th>\n",
       "      <td>biologist</td>\n",
       "      <td>Molecular Biologist</td>\n",
       "      <td>Bracknell, Berkshire</td>\n",
       "      <td>[' Working closely with other colleagues in th...</td>\n",
       "      <td>[PCR]</td>\n",
       "      <td>[molecular biology tools, sequencing]</td>\n",
       "      <td>[]</td>\n",
       "      <td>[]</td>\n",
       "    </tr>\n",
       "    <tr>\n",
       "      <th>234</th>\n",
       "      <td>biologist</td>\n",
       "      <td>Senior Scientist, in vivo/ex vivo biologist, N...</td>\n",
       "      <td>Stevenage, Hertfordshire</td>\n",
       "      <td>[' Identifying relevant models to support targ...</td>\n",
       "      <td>[]</td>\n",
       "      <td>[PK-PD, ssue perfusion]</td>\n",
       "      <td>[]</td>\n",
       "      <td>[BSc, MSc]</td>\n",
       "    </tr>\n",
       "    <tr>\n",
       "      <th>235</th>\n",
       "      <td>biologist</td>\n",
       "      <td>Senior Scientist, Plant Biologist, Phenotyping...</td>\n",
       "      <td>Oxford</td>\n",
       "      <td>[' A PhD or equivalent in a relevant field suc...</td>\n",
       "      <td>[]</td>\n",
       "      <td>[]</td>\n",
       "      <td>[]</td>\n",
       "      <td>[PhD]</td>\n",
       "    </tr>\n",
       "    <tr>\n",
       "      <th>236</th>\n",
       "      <td>biologist</td>\n",
       "      <td>Postdoctoral Position for Computational Biolog...</td>\n",
       "      <td>Heidelberg, Baden-Württemberg</td>\n",
       "      <td>[' A PhD or equivalent in computer science, bi...</td>\n",
       "      <td>[Python, R, English]</td>\n",
       "      <td>[computer science, biotechnology, biology anal...</td>\n",
       "      <td>[]</td>\n",
       "      <td>[PhD]</td>\n",
       "    </tr>\n",
       "    <tr>\n",
       "      <th>237</th>\n",
       "      <td>biologist</td>\n",
       "      <td>Molecular Biologist (Agriculture)</td>\n",
       "      <td>Dublin</td>\n",
       "      <td>[' Applying gene editing technique to develop ...</td>\n",
       "      <td>[]</td>\n",
       "      <td>[laboratory management, molecular biology, syn...</td>\n",
       "      <td>[]</td>\n",
       "      <td>[Ph.D]</td>\n",
       "    </tr>\n",
       "    <tr>\n",
       "      <th>238</th>\n",
       "      <td>biologist</td>\n",
       "      <td>Structural Biologist</td>\n",
       "      <td>Bracknell, Berkshire</td>\n",
       "      <td>[' Structure solution (by crystallography or c...</td>\n",
       "      <td>[]</td>\n",
       "      <td>[structural biology]</td>\n",
       "      <td>[]</td>\n",
       "      <td>[PhD, MSc]</td>\n",
       "    </tr>\n",
       "    <tr>\n",
       "      <th>239</th>\n",
       "      <td>biologist</td>\n",
       "      <td>Senior Cell Biologist</td>\n",
       "      <td>Cambridge</td>\n",
       "      <td>[' Lab-based scientist, delivering expertise i...</td>\n",
       "      <td>[]</td>\n",
       "      <td>[Biology, Molecular, Cell biology]</td>\n",
       "      <td>[]</td>\n",
       "      <td>[D, BSc/, MSc]</td>\n",
       "    </tr>\n",
       "    <tr>\n",
       "      <th>240</th>\n",
       "      <td>biologist</td>\n",
       "      <td>Structural Biologist</td>\n",
       "      <td>Bracknell, Berkshire</td>\n",
       "      <td>[' Structure solution (by crystallography or c...</td>\n",
       "      <td>[]</td>\n",
       "      <td>[structural biology]</td>\n",
       "      <td>[]</td>\n",
       "      <td>[PhD, MSc]</td>\n",
       "    </tr>\n",
       "    <tr>\n",
       "      <th>241</th>\n",
       "      <td>biologist</td>\n",
       "      <td>Postdoctoral Computational Biologist for iMM L...</td>\n",
       "      <td>Lisbon</td>\n",
       "      <td>[' Performing the bioinformatics analyses and ...</td>\n",
       "      <td>[Bioinformatics, programming, R, English]</td>\n",
       "      <td>[Biological Sciences, Biomedical Sciences, Sta...</td>\n",
       "      <td>[]</td>\n",
       "      <td>[MSc, PhD]</td>\n",
       "    </tr>\n",
       "    <tr>\n",
       "      <th>242</th>\n",
       "      <td>biologist</td>\n",
       "      <td>Cell Biologist</td>\n",
       "      <td>Cambridge</td>\n",
       "      <td>[' Agency: CK Group Contact: James Horne Phone...</td>\n",
       "      <td>[October]</td>\n",
       "      <td>[]</td>\n",
       "      <td>[]</td>\n",
       "      <td>[]</td>\n",
       "    </tr>\n",
       "    <tr>\n",
       "      <th>243</th>\n",
       "      <td>biologist</td>\n",
       "      <td>Computational Biologist</td>\n",
       "      <td>London</td>\n",
       "      <td>[\" Deliver high quality research and engineeri...</td>\n",
       "      <td>[Machine Learning, EVOF, CASP, CAFA, CAPRI, En...</td>\n",
       "      <td>[computer science, machine learning, Rosetta]</td>\n",
       "      <td>[]</td>\n",
       "      <td>[Master's, PhD]</td>\n",
       "    </tr>\n",
       "    <tr>\n",
       "      <th>244</th>\n",
       "      <td>biologist</td>\n",
       "      <td>LSC-Project: Cell Biologist/Chemical Biologist...</td>\n",
       "      <td>RS</td>\n",
       "      <td>[\" Establish and characterize disease-relevant...</td>\n",
       "      <td>[English, publishing]</td>\n",
       "      <td>[bioactive molecules, biology, molecular biolo...</td>\n",
       "      <td>[]</td>\n",
       "      <td>[PhD]</td>\n",
       "    </tr>\n",
       "    <tr>\n",
       "      <th>245</th>\n",
       "      <td>biologist</td>\n",
       "      <td>LSC-Project: Cell Biologist/Scientist NGS Tech...</td>\n",
       "      <td>RS</td>\n",
       "      <td>[' Establish and evaluate next generation tran...</td>\n",
       "      <td>[English, publishing]</td>\n",
       "      <td>[bioactive molecules, biology, molecular biolo...</td>\n",
       "      <td>[]</td>\n",
       "      <td>[PhD]</td>\n",
       "    </tr>\n",
       "    <tr>\n",
       "      <th>246</th>\n",
       "      <td>biologist</td>\n",
       "      <td>LSC-Project: Bioinformatician/Computational Bi...</td>\n",
       "      <td>RS</td>\n",
       "      <td>[' Implement and apply state-of-the-art bioinf...</td>\n",
       "      <td>[RNA-seq, R, Python, MS, English, publishing, ...</td>\n",
       "      <td>[bioactive molecules, life sciences, large-, p...</td>\n",
       "      <td>[]</td>\n",
       "      <td>[PhD]</td>\n",
       "    </tr>\n",
       "    <tr>\n",
       "      <th>247</th>\n",
       "      <td>geneticist</td>\n",
       "      <td>Senior Geneticist- Remote</td>\n",
       "      <td>London</td>\n",
       "      <td>[' Build relationships across numerous clinica...</td>\n",
       "      <td>[GWAS, R, python, HPC, ENA-]</td>\n",
       "      <td>[Industry, statistical genetics]</td>\n",
       "      <td>[]</td>\n",
       "      <td>[]</td>\n",
       "    </tr>\n",
       "    <tr>\n",
       "      <th>248</th>\n",
       "      <td>geneticist</td>\n",
       "      <td>Statistical Geneticist</td>\n",
       "      <td>Midlothian</td>\n",
       "      <td>[' Enthusiasm coupled to strong statistical, a...</td>\n",
       "      <td>[UNIX / LINUX, UNIX, LINUX]</td>\n",
       "      <td>[ME]</td>\n",
       "      <td>[]</td>\n",
       "      <td>[]</td>\n",
       "    </tr>\n",
       "    <tr>\n",
       "      <th>249</th>\n",
       "      <td>geneticist</td>\n",
       "      <td>Statistical Geneticist- Cancer</td>\n",
       "      <td>Oxford</td>\n",
       "      <td>[' Contribute critically to the asap design te...</td>\n",
       "      <td>[python, R]</td>\n",
       "      <td>[design and, sequencing]</td>\n",
       "      <td>[]</td>\n",
       "      <td>[PhD, Preferred- industry experience in the ge...</td>\n",
       "    </tr>\n",
       "    <tr>\n",
       "      <th>250</th>\n",
       "      <td>geneticist</td>\n",
       "      <td>Statistical Geneticist</td>\n",
       "      <td>Oxford</td>\n",
       "      <td>[' Contribute critically to the asap design te...</td>\n",
       "      <td>[python, R, Preferred- industry]</td>\n",
       "      <td>[design and, sequencing]</td>\n",
       "      <td>[]</td>\n",
       "      <td>[PhD]</td>\n",
       "    </tr>\n",
       "  </tbody>\n",
       "</table>\n",
       "</div>"
      ],
      "text/plain": [
       "               job                                           position  \\\n",
       "200  mathematician  Computer scientist, mathematician, physicist, ...   \n",
       "201  mathematician                              Mathematician (m/f/d)   \n",
       "202  mathematician           Mathematician as Project Manager (m/f/x)   \n",
       "203   statistician                          Project Lead Statistician   \n",
       "204   statistician                          Project Lead Statistician   \n",
       "205   statistician                 Senior Statistician / Project Lead   \n",
       "206   statistician     Register your interest for a Statistician role   \n",
       "207   statistician                      Researcher/(bio-)statistician   \n",
       "208   statistician                                Senior Statistician   \n",
       "209   statistician                             Principal Statistician   \n",
       "210   statistician                             Principal Statistician   \n",
       "211   statistician                             Principal Statistician   \n",
       "212   statistician                                Senior Statistician   \n",
       "213   statistician                          Principal Biostatistician   \n",
       "214   statistician                      Senior Principal Statistician   \n",
       "215   statistician  Register your interest for a Statistician role...   \n",
       "216   statistician                              Clinical Statistician   \n",
       "217   statistician                                Senior Statistician   \n",
       "218   statistician                                Senior Statistician   \n",
       "219   statistician                                Senior Statistician   \n",
       "220   statistician                          Principal Biostatistician   \n",
       "221      biologist  Field biologist (all genders welcome) (Prof. D...   \n",
       "222      biologist         Computational Biologist / Bioinformatician   \n",
       "223      biologist        Associate/Research Scientist Cell Biologist   \n",
       "224      biologist                     Senior Computational Biologist   \n",
       "225      biologist          Senior / Principal Experimental Biologist   \n",
       "226      biologist                            Computational Biologist   \n",
       "227      biologist                 Computational Structural Biologist   \n",
       "228      biologist     HNCDI Computational Biologist/Bioinformatician   \n",
       "229      biologist                                    Quality Control   \n",
       "230      biologist                          Senior Research Biologist   \n",
       "231      biologist  Evolutionary Biologist/Ecotoxicologist/Bioinfo...   \n",
       "232      biologist                                Molecular Biologist   \n",
       "233      biologist                                Molecular Biologist   \n",
       "234      biologist  Senior Scientist, in vivo/ex vivo biologist, N...   \n",
       "235      biologist  Senior Scientist, Plant Biologist, Phenotyping...   \n",
       "236      biologist  Postdoctoral Position for Computational Biolog...   \n",
       "237      biologist                  Molecular Biologist (Agriculture)   \n",
       "238      biologist                               Structural Biologist   \n",
       "239      biologist                              Senior Cell Biologist   \n",
       "240      biologist                               Structural Biologist   \n",
       "241      biologist  Postdoctoral Computational Biologist for iMM L...   \n",
       "242      biologist                                     Cell Biologist   \n",
       "243      biologist                            Computational Biologist   \n",
       "244      biologist  LSC-Project: Cell Biologist/Chemical Biologist...   \n",
       "245      biologist  LSC-Project: Cell Biologist/Scientist NGS Tech...   \n",
       "246      biologist  LSC-Project: Bioinformatician/Computational Bi...   \n",
       "247     geneticist                          Senior Geneticist- Remote   \n",
       "248     geneticist                             Statistical Geneticist   \n",
       "249     geneticist                     Statistical Geneticist- Cancer   \n",
       "250     geneticist                             Statistical Geneticist   \n",
       "\n",
       "                          location  \\\n",
       "200         Ulm, Baden-Württemberg   \n",
       "201               Dresden, Sachsen   \n",
       "202                        Germany   \n",
       "203              Slough, Berkshire   \n",
       "204                         France   \n",
       "205                        Germany   \n",
       "206                      Cambridge   \n",
       "207                           Oslo   \n",
       "208                        Germany   \n",
       "209                        Germany   \n",
       "210                        Germany   \n",
       "211                        Belgium   \n",
       "212           Ghent, East Flanders   \n",
       "213                        Belgium   \n",
       "214                      Waterford   \n",
       "215                      Cambridge   \n",
       "216                    Netherlands   \n",
       "217                       Lausanne   \n",
       "218                      Cambridge   \n",
       "219                      Cambridge   \n",
       "220                        Austria   \n",
       "221       Göttingen, Niedersachsen   \n",
       "222                       Lausanne   \n",
       "223              Slough, Berkshire   \n",
       "224                         Oxford   \n",
       "225                         Oxford   \n",
       "226                    Oxfordshire   \n",
       "227                         Oxford   \n",
       "228           Warrington, Cheshire   \n",
       "229       Amsterdam, Noord-Holland   \n",
       "230        Hatfield, Hertfordshire   \n",
       "231      Frankfurt am Main, Hessen   \n",
       "232           Bracknell, Berkshire   \n",
       "233           Bracknell, Berkshire   \n",
       "234       Stevenage, Hertfordshire   \n",
       "235                         Oxford   \n",
       "236  Heidelberg, Baden-Württemberg   \n",
       "237                         Dublin   \n",
       "238           Bracknell, Berkshire   \n",
       "239                      Cambridge   \n",
       "240           Bracknell, Berkshire   \n",
       "241                         Lisbon   \n",
       "242                      Cambridge   \n",
       "243                         London   \n",
       "244                             RS   \n",
       "245                             RS   \n",
       "246                             RS   \n",
       "247                         London   \n",
       "248                     Midlothian   \n",
       "249                         Oxford   \n",
       "250                         Oxford   \n",
       "\n",
       "                                           description  \\\n",
       "200  [' development processes and methods for safet...   \n",
       "201  [' We develop software solutions for the semic...   \n",
       "202  [' Entwicklung, Programmierung und Bedienung v...   \n",
       "203  [' Statistical lead across all Clinical Pharma...   \n",
       "204  [' Perform as lead statistician on complex stu...   \n",
       "205  [\" Lead all biostatistics activities related t...   \n",
       "206  [' Contribute to or lead the statistical think...   \n",
       "207  [' Take part, and possibly also lead, the deve...   \n",
       "208  [' Perform technical and consistency review of...   \n",
       "209  [' Performs and leads the statistical analysis...   \n",
       "210  [' Address scientific issues within drug disco...   \n",
       "211  [' participating in the development of study p...   \n",
       "212  [' Works in a team of two to four data scienti...   \n",
       "213  [' Able to serve as a senior or principal stat...   \n",
       "214  [' Responsible and accountable for the statist...   \n",
       "215  [' Contribute to or lead the statistical think...   \n",
       "216  [' A PhD (with at least 5 years of experience ...   \n",
       "217  [' Provide statistical input to the design, an...   \n",
       "218  [' Provide statistical expertise for complex d...   \n",
       "219  [' Lead the strategic, statistical thinking an...   \n",
       "220  [' Serves as a statistical department resource...   \n",
       "221  [' Pay grade 11 TV-L - ', ' collection of data...   \n",
       "222  [' Guide the experimental efforts of our R&D t...   \n",
       "223  [' Provide cell culture support and develop ex...   \n",
       "224  [' Excellent RNA seq data, computational exper...   \n",
       "225  [' Educated to PhD level with several years po...   \n",
       "226  [' Contributing to the data analysis workflows...   \n",
       "227  [' PhD in Computational Biology/Structural Bio...   \n",
       "228  [' A Ph.D. degree (or equivalent experience) i...   \n",
       "229  [' Participate in equipment validation, method...   \n",
       "230  [' Designing/carrying out experiments and inde...   \n",
       "231  [' Developing, maintaining and running high-th...   \n",
       "232  [' Working closely with other colleagues in th...   \n",
       "233  [' Working closely with other colleagues in th...   \n",
       "234  [' Identifying relevant models to support targ...   \n",
       "235  [' A PhD or equivalent in a relevant field suc...   \n",
       "236  [' A PhD or equivalent in computer science, bi...   \n",
       "237  [' Applying gene editing technique to develop ...   \n",
       "238  [' Structure solution (by crystallography or c...   \n",
       "239  [' Lab-based scientist, delivering expertise i...   \n",
       "240  [' Structure solution (by crystallography or c...   \n",
       "241  [' Performing the bioinformatics analyses and ...   \n",
       "242  [' Agency: CK Group Contact: James Horne Phone...   \n",
       "243  [\" Deliver high quality research and engineeri...   \n",
       "244  [\" Establish and characterize disease-relevant...   \n",
       "245  [' Establish and evaluate next generation tran...   \n",
       "246  [' Implement and apply state-of-the-art bioinf...   \n",
       "247  [' Build relationships across numerous clinica...   \n",
       "248  [' Enthusiasm coupled to strong statistical, a...   \n",
       "249  [' Contribute critically to the asap design te...   \n",
       "250  [' Contribute critically to the asap design te...   \n",
       "\n",
       "                                                 SKILL  \\\n",
       "200                                                 []   \n",
       "201  [WPF, ASP.NET Core, Entity Framework Core, MS-...   \n",
       "202                                 [Betriebs-, Excel]   \n",
       "203                  [CESI, ASA, EFSPI, SAS/R, SAS, R]   \n",
       "204                                                 []   \n",
       "205  [SAS analysis, SAS, SAS software, EMA, ICH, En...   \n",
       "206                                 [Doctorate degree]   \n",
       "207                                          [English]   \n",
       "208                                 [SAP, SAS, ICH, R]   \n",
       "209                          [communication, SAP, SAS]   \n",
       "210                                    [SAS/R, SAS, R]   \n",
       "211  [ISE, SAP, programming, Efficacy/Safety, ICH, ...   \n",
       "212  [SPSS, R, Python, SAS, SQL, Dutch, English, Fr...   \n",
       "213                                  [SAS, R, English]   \n",
       "214                                              [ICH]   \n",
       "215                                 [Doctorate degree]   \n",
       "216                                           [ICH, R]   \n",
       "217                             [GCP, English, SAS, R]   \n",
       "218                                           [SAS, R]   \n",
       "219                                              [SAS]   \n",
       "220               [SAP, DMC, DSMBs, ICH, English, SAS]   \n",
       "221                                         [Chemie -]   \n",
       "222                                 [English, RNA-seq]   \n",
       "223                                       [ELISA, MSD]   \n",
       "224                                                 []   \n",
       "225                                                 []   \n",
       "226                           [Python, R, Linux, Unix]   \n",
       "227                                                 []   \n",
       "228    [Python, R, Perl, Fortran, C++, C, Unix, Linux]   \n",
       "229                                       [qPCR, TCID]   \n",
       "230                                                 []   \n",
       "231                                        [scripting]   \n",
       "232                                              [PCR]   \n",
       "233                                              [PCR]   \n",
       "234                                                 []   \n",
       "235                                                 []   \n",
       "236                               [Python, R, English]   \n",
       "237                                                 []   \n",
       "238                                                 []   \n",
       "239                                                 []   \n",
       "240                                                 []   \n",
       "241          [Bioinformatics, programming, R, English]   \n",
       "242                                          [October]   \n",
       "243  [Machine Learning, EVOF, CASP, CAFA, CAPRI, En...   \n",
       "244                              [English, publishing]   \n",
       "245                              [English, publishing]   \n",
       "246  [RNA-seq, R, Python, MS, English, publishing, ...   \n",
       "247                       [GWAS, R, python, HPC, ENA-]   \n",
       "248                        [UNIX / LINUX, UNIX, LINUX]   \n",
       "249                                        [python, R]   \n",
       "250                   [python, R, Preferred- industry]   \n",
       "\n",
       "                                             KNOWLEDGE              MIN_EXP  \\\n",
       "200                                         [AI-based]                   []   \n",
       "201                                          [English]                   []   \n",
       "202                                                 []                   []   \n",
       "203           [QTc studies, Biostatistics, Statistics]                   []   \n",
       "204                           [quality, Biostatistics]                   []   \n",
       "205  [statistical analysis, Statistics, clinical re...                   []   \n",
       "206           [Statistics, Biostatistics, Mathematics]                   []   \n",
       "207                [statistics, pidemiology, planning]                   []   \n",
       "208  [programming practice, Statistics/Biostatistic...                   []   \n",
       "209                         [Statistics, SAS software]       [life science]   \n",
       "210  [Reviewing literature, Biostatistics, Mixed Mo...                   []   \n",
       "211                                       [statistics]                   []   \n",
       "212  [modelling, market research, Economics, Market...                   []   \n",
       "213        [Mathematics, Statistics, Computer Science]                   []   \n",
       "214                [clinical trial, data architecture]                   []   \n",
       "215           [Statistics, Biostatistics, Mathematics]                   []   \n",
       "216                                                 []      [Master’s, SAS]   \n",
       "217  [statistical analysis, statistics, Clinical De...                   []   \n",
       "218                               [Statistics, design]                   []   \n",
       "219  [Health Technology Assessment, pharma, healthc...                   []   \n",
       "220  [Data Monitoring Committee, Statistics, progra...  [Minimum Master of]   \n",
       "221  [physiology, habitat management, coding of vid...                   []   \n",
       "222                           [bioinformatic analysis]                   []   \n",
       "223              [agile, molecular biology techniques]                   []   \n",
       "224                                       [sequencing]                   []   \n",
       "225                    [sequencing, molecular biology]                   []   \n",
       "226  [Computer Science, Statistics, molecular biology]                   []   \n",
       "227                         [molecular docking Energy]                   []   \n",
       "228                     [programming such, Unix/Linux]                   []   \n",
       "229  [ddPCR, Cell Passaging, Quality Control, molec...             [pharma]   \n",
       "230  [Biological/Biochemistry, Molecular Biology, m...                   []   \n",
       "231                                      [cological /]                   []   \n",
       "232              [molecular biology tools, sequencing]                   []   \n",
       "233              [molecular biology tools, sequencing]                   []   \n",
       "234                            [PK-PD, ssue perfusion]                   []   \n",
       "235                                                 []                   []   \n",
       "236  [computer science, biotechnology, biology anal...                   []   \n",
       "237  [laboratory management, molecular biology, syn...                   []   \n",
       "238                               [structural biology]                   []   \n",
       "239                 [Biology, Molecular, Cell biology]                   []   \n",
       "240                               [structural biology]                   []   \n",
       "241  [Biological Sciences, Biomedical Sciences, Sta...                   []   \n",
       "242                                                 []                   []   \n",
       "243      [computer science, machine learning, Rosetta]                   []   \n",
       "244  [bioactive molecules, biology, molecular biolo...                   []   \n",
       "245  [bioactive molecules, biology, molecular biolo...                   []   \n",
       "246  [bioactive molecules, life sciences, large-, p...                   []   \n",
       "247                   [Industry, statistical genetics]                   []   \n",
       "248                                               [ME]                   []   \n",
       "249                           [design and, sequencing]                   []   \n",
       "250                           [design and, sequencing]                   []   \n",
       "\n",
       "                                                 LEVEL  \n",
       "200                                                 []  \n",
       "201                                                 []  \n",
       "202                                                 []  \n",
       "203                                    [Master’s, PhD]  \n",
       "204                                         [BSc, MSc]  \n",
       "205                                              [MSc]  \n",
       "206                                         [Master's]  \n",
       "207                                      [Master, PhD]  \n",
       "208                                         [MSc, PhD]  \n",
       "209                                         [MSc, BSc]  \n",
       "210                                    [Master’s, PhD]  \n",
       "211                                         [Master’s]  \n",
       "212                                           [Master]  \n",
       "213                                              [BSc]  \n",
       "214                                                 []  \n",
       "215                                         [Master’s]  \n",
       "216                          [pharmaceutical industry]  \n",
       "217                                         [MSc, PhD]  \n",
       "218                                         [MSc, PhD]  \n",
       "219                                        [MSc/, PhD]  \n",
       "220                                                 []  \n",
       "221                                                 []  \n",
       "222                                                 []  \n",
       "223                                                 []  \n",
       "224                                              [PhD]  \n",
       "225                                                 []  \n",
       "226                                         [MSc, PhD]  \n",
       "227                                              [PhD]  \n",
       "228                                             [Ph.D]  \n",
       "229                                       [Bachelor's]  \n",
       "230                                   [PhD, BSc / MSc]  \n",
       "231                                              [PhD]  \n",
       "232                                                 []  \n",
       "233                                                 []  \n",
       "234                                         [BSc, MSc]  \n",
       "235                                              [PhD]  \n",
       "236                                              [PhD]  \n",
       "237                                             [Ph.D]  \n",
       "238                                         [PhD, MSc]  \n",
       "239                                     [D, BSc/, MSc]  \n",
       "240                                         [PhD, MSc]  \n",
       "241                                         [MSc, PhD]  \n",
       "242                                                 []  \n",
       "243                                    [Master's, PhD]  \n",
       "244                                              [PhD]  \n",
       "245                                              [PhD]  \n",
       "246                                              [PhD]  \n",
       "247                                                 []  \n",
       "248                                                 []  \n",
       "249  [PhD, Preferred- industry experience in the ge...  \n",
       "250                                              [PhD]  "
      ]
     },
     "execution_count": 101,
     "metadata": {},
     "output_type": "execute_result"
    }
   ],
   "source": [
    "extract_jd().loc[200:250]"
   ]
  },
  {
   "cell_type": "code",
   "execution_count": 84,
   "id": "52439856-ce73-405b-a55c-ec9e85540492",
   "metadata": {},
   "outputs": [],
   "source": [
    "def get_JD(inp):\n",
    "    data = extract_jd_position(inp)\n",
    "    \n",
    "    lengths = data[\"SKILL\"].map(lambda x: len(x))\n",
    "    position = data[lengths == lengths.max()].reset_index().drop(columns = \"index\")\n",
    "    position_skills = position.loc[0][[\"SKILL\", \"KNOWLEDGE\", \"MIN_EXP\", \"LEVEL\"]]\n",
    "\n",
    "    position_list = []\n",
    "    for column in position_skills:\n",
    "        position_list.append(column)\n",
    "    \n",
    "    position_list = [item.lower() for sublist in position_list for item in sublist]\n",
    "    \n",
    "    return(set(position_list))"
   ]
  },
  {
   "cell_type": "code",
   "execution_count": 106,
   "id": "f9788b2e-670a-4532-9f26-4e35c2b344f4",
   "metadata": {},
   "outputs": [],
   "source": [
    "def match_position_skills(JD_set):\n",
    "    '''Get intersection of resume skills and job offer skills and return match percentage'''\n",
    "    cv_data = extract_CV()\n",
    "    CV_list = cv_data[\"SKILL\"].apply(set)\n",
    "\n",
    "    percent_list = []\n",
    "    if len(JD_set) < 1:\n",
    "        print('could not extract skills from job description')\n",
    "    else:\n",
    "        #implement function comparing with a list of job_descriptions\n",
    "        for i in range(0, len(CV_list)):\n",
    "            if len(CV_list[i]) < 1:\n",
    "                continue\n",
    "            else:\n",
    "                quotient = len(set(JD_set) & CV_list[i])\n",
    "                divisor = len(CV_list[i])\n",
    "                percent_match = round((quotient/divisor) * 100, 2)\n",
    "                percent_list.append([i, percent_match])\n",
    "\n",
    "        percent_list.sort(key=lambda x: x[1], reverse = True)\n",
    "        percent_list = percent_list[0:4]\n",
    "        \n",
    "        for person in percent_list:\n",
    "            print(\"Candidate # {} has a {} % skill match with your job description\".format(person[0], person[1]))\n",
    "        \n",
    "    return"
   ]
  },
  {
   "cell_type": "code",
   "execution_count": 102,
   "id": "70bab3ce-c202-4d5d-b329-0b59f872d4ee",
   "metadata": {},
   "outputs": [
    {
     "data": {
      "text/plain": [
       "{'conjoint',\n",
       " 'data sciences',\n",
       " 'dutch',\n",
       " 'economics',\n",
       " 'english',\n",
       " 'factor analysis',\n",
       " 'french',\n",
       " 'fusion',\n",
       " 'market research',\n",
       " 'marketing',\n",
       " 'master',\n",
       " 'mathematics',\n",
       " 'modelling',\n",
       " 'physics',\n",
       " 'python',\n",
       " 'r',\n",
       " 'sas',\n",
       " 'social sciences',\n",
       " 'spss',\n",
       " 'sql'}"
      ]
     },
     "execution_count": 102,
     "metadata": {},
     "output_type": "execute_result"
    }
   ],
   "source": [
    "pos_list = get_JD('Senior Statistician')\n",
    "pos_list"
   ]
  },
  {
   "cell_type": "code",
   "execution_count": 107,
   "id": "7e0372de-ffd2-4690-8fa0-d3350c2d4865",
   "metadata": {},
   "outputs": [
    {
     "name": "stdout",
     "output_type": "stream",
     "text": [
      "Candidate # 704 has a 100.0 % skill match with your job description\n",
      "Candidate # 608 has a 66.67 % skill match with your job description\n",
      "Candidate # 121 has a 50.0 % skill match with your job description\n",
      "Candidate # 620 has a 50.0 % skill match with your job description\n"
     ]
    }
   ],
   "source": [
    "match_position_skills(pos_list)"
   ]
  },
  {
   "cell_type": "code",
   "execution_count": null,
   "id": "12452450-ed25-4a45-85a9-9a4e0bf33b50",
   "metadata": {},
   "outputs": [],
   "source": []
  },
  {
   "cell_type": "code",
   "execution_count": null,
   "id": "844eaf5b-b9b0-4749-9339-feba6c9a66b5",
   "metadata": {},
   "outputs": [],
   "source": []
  },
  {
   "cell_type": "code",
   "execution_count": 24,
   "id": "2f44a960-eab8-4114-9038-c647891ff0ce",
   "metadata": {},
   "outputs": [],
   "source": [
    "position = data.loc[data[\"SKILL\"] == (data[\"SKILL\"].apply(len)).max()]"
   ]
  },
  {
   "cell_type": "code",
   "execution_count": 525,
   "id": "dcd9b5d3-e89f-42a8-9862-11c4e164bca4",
   "metadata": {},
   "outputs": [],
   "source": [
    "pct_list = match_skills(skill_list, data)"
   ]
  },
  {
   "cell_type": "code",
   "execution_count": null,
   "id": "cbb57b47-db1f-4f08-98d8-108a35f6151d",
   "metadata": {},
   "outputs": [],
   "source": [
    "def get_cvs():\n",
    "            #loading the cvs\n",
    "            #loading the entities\n",
    "            data_csv_entities = r'skills_matcher/data/data_final_raw_new.csv'\n",
    "            data_ = pd.read_csv(data_csv_entities)\n",
    "            data_entities = data_.apply(get_dict, axis=1)\n",
    "            data_entities\n",
    "            data_csv_resume = r'cleaned_Resume.csv'\n",
    "            data_resume = pd.read_csv(data_csv_resume)\n",
    "            data_cleaned_cv = data_resume.apply(get_dict_cv, axis=1)\n",
    "            return data_cleaned_cv"
   ]
  },
  {
   "cell_type": "code",
   "execution_count": 542,
   "id": "b052851c-1390-4ea1-ba4a-df5f06e5ed97",
   "metadata": {},
   "outputs": [
    {
     "data": {
      "text/html": [
       "<div>\n",
       "<style scoped>\n",
       "    .dataframe tbody tr th:only-of-type {\n",
       "        vertical-align: middle;\n",
       "    }\n",
       "\n",
       "    .dataframe tbody tr th {\n",
       "        vertical-align: top;\n",
       "    }\n",
       "\n",
       "    .dataframe thead th {\n",
       "        text-align: right;\n",
       "    }\n",
       "</style>\n",
       "<table border=\"1\" class=\"dataframe\">\n",
       "  <thead>\n",
       "    <tr style=\"text-align: right;\">\n",
       "      <th></th>\n",
       "      <th>index</th>\n",
       "      <th>job</th>\n",
       "      <th>position</th>\n",
       "      <th>location</th>\n",
       "      <th>description</th>\n",
       "      <th>entities_auto_label</th>\n",
       "      <th>entities_manual_label</th>\n",
       "      <th>SKILL</th>\n",
       "      <th>KNOWLEDGE</th>\n",
       "      <th>MIN_EXP</th>\n",
       "      <th>LEVEL</th>\n",
       "    </tr>\n",
       "  </thead>\n",
       "  <tbody>\n",
       "    <tr>\n",
       "      <th>0</th>\n",
       "      <td>13</td>\n",
       "      <td>physicist</td>\n",
       "      <td>Mathematical Physicist</td>\n",
       "      <td>Aldermaston, Berkshire</td>\n",
       "      <td>[' Market leading contributory pension scheme ...</td>\n",
       "      <td>['C++', 'Python', 'Unix', 'Linux']</td>\n",
       "      <td>[{'entity': Degree, 'label': 'LEVEL'}, {'entit...</td>\n",
       "      <td>[Fortran, C++, Python, C, Unix, Linux]</td>\n",
       "      <td>[Physics, Unix/Linux]</td>\n",
       "      <td>[]</td>\n",
       "      <td>[Degree]</td>\n",
       "    </tr>\n",
       "  </tbody>\n",
       "</table>\n",
       "</div>"
      ],
      "text/plain": [
       "   index        job                position                location  \\\n",
       "0     13  physicist  Mathematical Physicist  Aldermaston, Berkshire   \n",
       "\n",
       "                                         description  \\\n",
       "0  [' Market leading contributory pension scheme ...   \n",
       "\n",
       "                  entities_auto_label  \\\n",
       "0  ['C++', 'Python', 'Unix', 'Linux']   \n",
       "\n",
       "                               entities_manual_label  \\\n",
       "0  [{'entity': Degree, 'label': 'LEVEL'}, {'entit...   \n",
       "\n",
       "                                    SKILL              KNOWLEDGE MIN_EXP  \\\n",
       "0  [Fortran, C++, Python, C, Unix, Linux]  [Physics, Unix/Linux]      []   \n",
       "\n",
       "      LEVEL  \n",
       "0  [Degree]  "
      ]
     },
     "execution_count": 542,
     "metadata": {},
     "output_type": "execute_result"
    }
   ],
   "source": [
    "inp = 'Mathematical Physicist'\n",
    "JD = extract_jd_position(inp)\n",
    "JD"
   ]
  },
  {
   "cell_type": "code",
   "execution_count": 534,
   "id": "16eabf83-1e1d-4332-b161-76e3aba94506",
   "metadata": {},
   "outputs": [],
   "source": [
    "df_CV = extract_CV()"
   ]
  },
  {
   "cell_type": "code",
   "execution_count": 540,
   "id": "c05eff9f-0480-484d-8a2c-4647e9e57e62",
   "metadata": {},
   "outputs": [
    {
     "data": {
      "text/plain": [
       "0    [Fortran, C++, Python, C, Unix, Linux]\n",
       "Name: SKILL, dtype: object"
      ]
     },
     "execution_count": 540,
     "metadata": {},
     "output_type": "execute_result"
    }
   ],
   "source": [
    "JD"
   ]
  },
  {
   "cell_type": "code",
   "execution_count": 530,
   "id": "e557a50a-da1b-4722-849d-c9dbcea6a221",
   "metadata": {},
   "outputs": [
    {
     "data": {
      "text/html": [
       "<div>\n",
       "<style scoped>\n",
       "    .dataframe tbody tr th:only-of-type {\n",
       "        vertical-align: middle;\n",
       "    }\n",
       "\n",
       "    .dataframe tbody tr th {\n",
       "        vertical-align: top;\n",
       "    }\n",
       "\n",
       "    .dataframe thead th {\n",
       "        text-align: right;\n",
       "    }\n",
       "</style>\n",
       "<table border=\"1\" class=\"dataframe\">\n",
       "  <thead>\n",
       "    <tr style=\"text-align: right;\">\n",
       "      <th></th>\n",
       "      <th>job</th>\n",
       "      <th>position</th>\n",
       "      <th>location</th>\n",
       "      <th>description</th>\n",
       "      <th>entities_auto_label</th>\n",
       "      <th>entities_manual_label</th>\n",
       "      <th>SKILL</th>\n",
       "      <th>KNOWLEDGE</th>\n",
       "      <th>MIN_EXP</th>\n",
       "      <th>LEVEL</th>\n",
       "    </tr>\n",
       "  </thead>\n",
       "  <tbody>\n",
       "    <tr>\n",
       "      <th>52</th>\n",
       "      <td>physicist</td>\n",
       "      <td>Mathematical Physicist</td>\n",
       "      <td>Aldermaston, Berkshire</td>\n",
       "      <td>[' Market leading contributory pension scheme ...</td>\n",
       "      <td>(C++, Python, Unix, Linux)</td>\n",
       "      <td>[{'entity': Degree, 'label': 'LEVEL'}, {'entit...</td>\n",
       "      <td>[Fortran, C++, Python, C, Unix, Linux]</td>\n",
       "      <td>[Physics, Unix/Linux]</td>\n",
       "      <td>[]</td>\n",
       "      <td>[Degree]</td>\n",
       "    </tr>\n",
       "    <tr>\n",
       "      <th>53</th>\n",
       "      <td>physicist</td>\n",
       "      <td>Mathematical Physicist</td>\n",
       "      <td>Aldermaston, Berkshire</td>\n",
       "      <td>[' Market leading contributory pension scheme ...</td>\n",
       "      <td>(C++, Python, Unix, Linux)</td>\n",
       "      <td>[{'entity': 5 years, 'label': 'MIN_EXP'}, {'en...</td>\n",
       "      <td>[C, Python, Unix, Linux]</td>\n",
       "      <td>[]</td>\n",
       "      <td>[English]</td>\n",
       "      <td>[]</td>\n",
       "    </tr>\n",
       "    <tr>\n",
       "      <th>54</th>\n",
       "      <td>physicist</td>\n",
       "      <td>Mathematical Physicist</td>\n",
       "      <td>Aldermaston, Berkshire</td>\n",
       "      <td>[' Market leading contributory pension scheme ...</td>\n",
       "      <td>(C++, Python, Unix, Linux)</td>\n",
       "      <td>[]</td>\n",
       "      <td>[C, Python, Unix, Linux]</td>\n",
       "      <td>[]</td>\n",
       "      <td>[]</td>\n",
       "      <td>[]</td>\n",
       "    </tr>\n",
       "  </tbody>\n",
       "</table>\n",
       "</div>"
      ],
      "text/plain": [
       "          job                position                location  \\\n",
       "52  physicist  Mathematical Physicist  Aldermaston, Berkshire   \n",
       "53  physicist  Mathematical Physicist  Aldermaston, Berkshire   \n",
       "54  physicist  Mathematical Physicist  Aldermaston, Berkshire   \n",
       "\n",
       "                                          description  \\\n",
       "52  [' Market leading contributory pension scheme ...   \n",
       "53  [' Market leading contributory pension scheme ...   \n",
       "54  [' Market leading contributory pension scheme ...   \n",
       "\n",
       "           entities_auto_label  \\\n",
       "52  (C++, Python, Unix, Linux)   \n",
       "53  (C++, Python, Unix, Linux)   \n",
       "54  (C++, Python, Unix, Linux)   \n",
       "\n",
       "                                entities_manual_label  \\\n",
       "52  [{'entity': Degree, 'label': 'LEVEL'}, {'entit...   \n",
       "53  [{'entity': 5 years, 'label': 'MIN_EXP'}, {'en...   \n",
       "54                                                 []   \n",
       "\n",
       "                                     SKILL              KNOWLEDGE    MIN_EXP  \\\n",
       "52  [Fortran, C++, Python, C, Unix, Linux]  [Physics, Unix/Linux]         []   \n",
       "53                [C, Python, Unix, Linux]                     []  [English]   \n",
       "54                [C, Python, Unix, Linux]                     []         []   \n",
       "\n",
       "       LEVEL  \n",
       "52  [Degree]  \n",
       "53        []  \n",
       "54        []  "
      ]
     },
     "execution_count": 530,
     "metadata": {},
     "output_type": "execute_result"
    }
   ],
   "source": [
    "for df in range(0, len(JD)):\n",
    "    list_match = match_skills(JD[i][\"SKILL\"], df_CV)"
   ]
  },
  {
   "cell_type": "code",
   "execution_count": 518,
   "id": "9ba81a6c-0fa6-4648-ad32-ee2f756f4c36",
   "metadata": {},
   "outputs": [
    {
     "data": {
      "text/plain": [
       "0    [Fortran, C++, Python, C, Unix, Linux]\n",
       "Name: SKILL, dtype: object"
      ]
     },
     "execution_count": 518,
     "metadata": {},
     "output_type": "execute_result"
    }
   ],
   "source": [
    "JD[\"SKILL\"]"
   ]
  },
  {
   "cell_type": "markdown",
   "id": "2f1da3de-fb67-43f6-b2fe-4095d2209987",
   "metadata": {},
   "source": [
    "# Resume data"
   ]
  },
  {
   "cell_type": "code",
   "execution_count": 356,
   "id": "32165d98-cd56-4dc6-9f97-e12f73e6d89c",
   "metadata": {},
   "outputs": [],
   "source": [
    "df_cleaned_Resume.to_csv(\"cleaned_Resume_final.csv\")"
   ]
  },
  {
   "cell_type": "code",
   "execution_count": 437,
   "id": "5e6098e9-61ae-4e94-9f2f-f227d7b349ea",
   "metadata": {},
   "outputs": [
    {
     "data": {
      "text/plain": [
       "\"         HR ADMINISTRATOR/MARKETING ASSOCIATE\\n\\nHR ADMINISTRATOR       Summary     Dedicated Customer Service Manager with 15+ years of experience in Hospitality and Customer Service Management.   Respected builder and leader of customer-focused teams; strives to instill a shared, enthusiastic commitment to customer service.         Highlights         Focused on customer satisfaction  Team management  Marketing savvy  Conflict resolution techniques     Training and development  Skilled multi-tasker  Client relations specialist           Accomplishments      Missouri DOT Supervisor Training Certification  Certified by IHG in Customer Loyalty and Marketing by Segment   Hilton Worldwide General Manager Training Certification  Accomplished Trainer for cross server hospitality systems such as    Hilton OnQ  ,   Micros    Opera PMS   , Fidelio    OPERA    Reservation System (ORS) ,   Holidex    Completed courses and seminars in customer service, sales strategies, inventory control, loss prevention, safety, time management, leadership and performance assessment.        Experience      HR Administrator/Marketing Associate\\n\\nHR Administrator     Dec 2013   to   Current      Company Name   －   City  ,   State     Helps to develop policies, directs and coordinates activities such as employment, compensation, labor relations, benefits, training, and employee services.  Prepares employee separation notices and related documentation  Keeps records of benefits plans participation such as insurance and pension plan, personnel transactions such as hires, promotions, transfers, performance reviews, and terminations, and employee statistics for government reporting.  Advises management in appropriate resolution of employee relations issues.  Administers benefits programs such as life, health, dental, insurance, pension plans, vacation, sick leave, leave of absence, and employee assistance.     Marketing Associate \\xa0   Designed and created marketing collateral for sales meetings, trade shows and company executives.  Managed the in-house advertising program consisting of print and media collateral pieces.  Assisted in the complete design and launch of the company's website in 2 months.  Created an official company page on Facebook to facilitate interaction with customers.  Analyzed ratings and programming features of competitors to evaluate the effectiveness of marketing strategies.         Advanced Medical Claims Analyst     Mar 2012   to   Dec 2013      Company Name   －   City  ,   State     Reviewed medical bills for the accuracy of the treatments, tests, and hospital stays prior to sanctioning the claims.  Trained to interpret the codes (ICD-9, CPT) and terminology commonly used in medical billing to fully understand the paperwork that is submitted by healthcare providers.  Required to have organizational and analytical skills as well as computer skills, knowledge of medical terminology and procedures, statistics, billing standards, data analysis and laws regarding medical billing.         Assistant General Manager     Jun 2010   to   Dec 2010      Company Name   －   City  ,   State     Performed duties including but not limited to, budgeting and financial management, accounting, human resources, payroll and purchasing.  Established and maintained close working relationships with all departments of the hotel to ensure maximum operation, productivity, morale and guest service.  Handled daily operations and reported directly to the corporate office.  Hired and trained staff on overall objectives and goals with an emphasis on high customer service.  Marketing and Advertising, working on public relations with the media, government and local businesses and Chamber of Commerce.         Executive Support / Marketing Assistant     Jul 2007   to   Jun 2010      Company Name   －   City  ,   State     Provided assistance to various department heads - Executive, Marketing, Customer Service, Human Resources.  Managed front-end operations to ensure friendly and efficient transactions.  Ensured the swift resolution of customer issues to preserve customer loyalty while complying with company policies.  Exemplified the second-to-none customer service delivery in all interactions with customers and potential clients.         Reservation & Front Office Manager     Jun 2004   to   Jul 2007      Company Name   －   City  ,   State          Owner/ Partner     Dec 2001   to   May 2004      Company Name   －   City  ,   State          Price Integrity Coordinator     Aug 1999   to   Dec 2001      Company Name   －   City  ,   State          Education      N/A  ,   Business Administration   1999     Jefferson College   －   City  ,   State       Business Administration  Marketing / Advertising         High School Diploma  ,   College Prep. studies   1998     Sainte Genevieve Senior High   －   City  ,   State       Awarded American Shrubel Leadership Scholarship to Jefferson College         Skills     Accounting, ads, advertising, analytical skills, benefits, billing, budgeting, clients, Customer Service, data analysis, delivery, documentation, employee relations, financial management, government relations, Human Resources, insurance, labor relations, layout, Marketing, marketing collateral, medical billing, medical terminology, office, organizational, payroll, performance reviews, personnel, policies, posters, presentations, public relations, purchasing, reporting, statistics, website.    \""
      ]
     },
     "execution_count": 437,
     "metadata": {},
     "output_type": "execute_result"
    }
   ],
   "source": [
    "df_cleaned_Resume['Resume_str'][0]"
   ]
  },
  {
   "cell_type": "code",
   "execution_count": 478,
   "id": "b100d066-8483-4e2d-bf0d-25e578c69896",
   "metadata": {},
   "outputs": [],
   "source": [
    "data_CV = df_cleaned_Resume.apply(get_dict_cv, axis=1)"
   ]
  },
  {
   "cell_type": "code",
   "execution_count": 438,
   "id": "62d2f967-1911-4c47-8843-e57f23b41878",
   "metadata": {},
   "outputs": [],
   "source": [
    "skill_list = extract_resume_skills(df_cleaned_Resume['Resume_str'][0])"
   ]
  },
  {
   "cell_type": "code",
   "execution_count": 443,
   "id": "6f2ce545-d885-418c-bd3f-40b788f53a2d",
   "metadata": {},
   "outputs": [
    {
     "data": {
      "text/plain": [
       "\"         HR ADMINISTRATOR/MARKETING ASSOCIATE\\n\\nHR ADMINISTRATOR       Summary     Dedicated Customer Service Manager with 15+ years of experience in Hospitality and Customer Service Management.   Respected builder and leader of customer-focused teams; strives to instill a shared, enthusiastic commitment to customer service.         Highlights         Focused on customer satisfaction  Team management  Marketing savvy  Conflict resolution techniques     Training and development  Skilled multi-tasker  Client relations specialist           Accomplishments      Missouri DOT Supervisor Training Certification  Certified by IHG in Customer Loyalty and Marketing by Segment   Hilton Worldwide General Manager Training Certification  Accomplished Trainer for cross server hospitality systems such as    Hilton OnQ  ,   Micros    Opera PMS   , Fidelio    OPERA    Reservation System (ORS) ,   Holidex    Completed courses and seminars in customer service, sales strategies, inventory control, loss prevention, safety, time management, leadership and performance assessment.        Experience      HR Administrator/Marketing Associate\\n\\nHR Administrator     Dec 2013   to   Current      Company Name   －   City  ,   State     Helps to develop policies, directs and coordinates activities such as employment, compensation, labor relations, benefits, training, and employee services.  Prepares employee separation notices and related documentation  Keeps records of benefits plans participation such as insurance and pension plan, personnel transactions such as hires, promotions, transfers, performance reviews, and terminations, and employee statistics for government reporting.  Advises management in appropriate resolution of employee relations issues.  Administers benefits programs such as life, health, dental, insurance, pension plans, vacation, sick leave, leave of absence, and employee assistance.     Marketing Associate \\xa0   Designed and created marketing collateral for sales meetings, trade shows and company executives.  Managed the in-house advertising program consisting of print and media collateral pieces.  Assisted in the complete design and launch of the company's website in 2 months.  Created an official company page on Facebook to facilitate interaction with customers.  Analyzed ratings and programming features of competitors to evaluate the effectiveness of marketing strategies.         Advanced Medical Claims Analyst     Mar 2012   to   Dec 2013      Company Name   －   City  ,   State     Reviewed medical bills for the accuracy of the treatments, tests, and hospital stays prior to sanctioning the claims.  Trained to interpret the codes (ICD-9, CPT) and terminology commonly used in medical billing to fully understand the paperwork that is submitted by healthcare providers.  Required to have organizational and analytical skills as well as computer skills, knowledge of medical terminology and procedures, statistics, billing standards, data analysis and laws regarding medical billing.         Assistant General Manager     Jun 2010   to   Dec 2010      Company Name   －   City  ,   State     Performed duties including but not limited to, budgeting and financial management, accounting, human resources, payroll and purchasing.  Established and maintained close working relationships with all departments of the hotel to ensure maximum operation, productivity, morale and guest service.  Handled daily operations and reported directly to the corporate office.  Hired and trained staff on overall objectives and goals with an emphasis on high customer service.  Marketing and Advertising, working on public relations with the media, government and local businesses and Chamber of Commerce.         Executive Support / Marketing Assistant     Jul 2007   to   Jun 2010      Company Name   －   City  ,   State     Provided assistance to various department heads - Executive, Marketing, Customer Service, Human Resources.  Managed front-end operations to ensure friendly and efficient transactions.  Ensured the swift resolution of customer issues to preserve customer loyalty while complying with company policies.  Exemplified the second-to-none customer service delivery in all interactions with customers and potential clients.         Reservation & Front Office Manager     Jun 2004   to   Jul 2007      Company Name   －   City  ,   State          Owner/ Partner     Dec 2001   to   May 2004      Company Name   －   City  ,   State          Price Integrity Coordinator     Aug 1999   to   Dec 2001      Company Name   －   City  ,   State          Education      N/A  ,   Business Administration   1999     Jefferson College   －   City  ,   State       Business Administration  Marketing / Advertising         High School Diploma  ,   College Prep. studies   1998     Sainte Genevieve Senior High   －   City  ,   State       Awarded American Shrubel Leadership Scholarship to Jefferson College         Skills     Accounting, ads, advertising, analytical skills, benefits, billing, budgeting, clients, Customer Service, data analysis, delivery, documentation, employee relations, financial management, government relations, Human Resources, insurance, labor relations, layout, Marketing, marketing collateral, medical billing, medical terminology, office, organizational, payroll, performance reviews, personnel, policies, posters, presentations, public relations, purchasing, reporting, statistics, website.    \""
      ]
     },
     "execution_count": 443,
     "metadata": {},
     "output_type": "execute_result"
    }
   ],
   "source": [
    "df_cleaned_Resume['Resume_str'][0]"
   ]
  },
  {
   "cell_type": "code",
   "execution_count": null,
   "id": "a0fcc22f-5f8e-4c71-8002-d83bb96082af",
   "metadata": {},
   "outputs": [],
   "source": [
    "data_cleaned = df_JD.apply(get_dict, axis=1)"
   ]
  },
  {
   "cell_type": "code",
   "execution_count": null,
   "id": "74c1e184-7bc7-41bf-beeb-7bd79def4aa4",
   "metadata": {},
   "outputs": [],
   "source": [
    "data_CV = df_Resume.apply(get_dict_cv, axis=1)"
   ]
  },
  {
   "cell_type": "code",
   "execution_count": 417,
   "id": "20324eae-2eaf-44c3-9885-69c111940672",
   "metadata": {},
   "outputs": [
    {
     "data": {
      "text/plain": [
       "array(['physicist', 'biochemist', 'chemist', 'organic chemist',\n",
       "       'process chemist', 'geologist', 'hydrogeologist',\n",
       "       'biostatistician', 'mathematician', 'statistician', 'biologist',\n",
       "       'geneticist', 'immunologist', 'microbiologist',\n",
       "       'molecular biologist', 'physiologist', 'toxicologist', 'ecologist',\n",
       "       'verification engineer', 'construction planner',\n",
       "       'development engineer', 'inspection engineer', 'plant engineer',\n",
       "       'process engineer', 'product developer', 'project engineer',\n",
       "       'environmental engineer', 'instrument engineer',\n",
       "       'maintenance engineer', 'mechanical designer',\n",
       "       'mechanical engineer', 'mechatronics engineer', 'testing engineer',\n",
       "       'audit assistant', 'bookkeeper', 'inspector',\n",
       "       'field sales representative', 'buyer', 'conference manager',\n",
       "       'manager', 'administrative assistant', 'geography teacher',\n",
       "       'primary school teacher', 'supply teacher',\n",
       "       'special needs teacher', 'speech therapist', 'language teacher',\n",
       "       'music teacher', 'art teacher', 'drama teacher',\n",
       "       'computing teacher', 'pharmacist', 'pharmacy technician', 'nurse',\n",
       "       'civil engineer', 'traffic engineer', 'supervisor',\n",
       "       'operations engineer', 'medical officer', 'cardiologist',\n",
       "       'clinical physiologist', 'epidemiologist', 'neurophysiologist',\n",
       "       'oncologist', 'ophthalmologist', 'pathologist', 'psychiatrist',\n",
       "       'radiologist', 'surgeon', 'dental nurse', 'group leader',\n",
       "       'veterinary surgeon'], dtype=object)"
      ]
     },
     "execution_count": 417,
     "metadata": {},
     "output_type": "execute_result"
    }
   ],
   "source": [
    "data_cleaned.job.unique()"
   ]
  },
  {
   "cell_type": "markdown",
   "id": "35051577-d3f2-4390-a4b9-49ff75143f8e",
   "metadata": {
    "tags": []
   },
   "source": [
    "### Workflow of functions for comparing CV to JD\n",
    "- load CV text\n",
    "- call extract_resume_skills(text) and save as cv_skill_set\n",
    "- call extract_jd with/or without input from frontend and save as data\n",
    "- call match_skills(cv_skill_list, data)\n",
    "\n"
   ]
  },
  {
   "cell_type": "code",
   "execution_count": 440,
   "id": "ebe8f3fc-4e47-499f-96dd-35ba33b2ee43",
   "metadata": {},
   "outputs": [],
   "source": [
    "skill_list = extract_resume_skills(df_cleaned_Resume['Resume_str'][0])"
   ]
  },
  {
   "cell_type": "code",
   "execution_count": 441,
   "id": "225e61be-07f0-46e1-961e-61876fa972ad",
   "metadata": {},
   "outputs": [],
   "source": [
    "data = extract_jd()"
   ]
  },
  {
   "cell_type": "code",
   "execution_count": 366,
   "id": "0a0e9d8a-6b96-43aa-9792-ab18fea7d945",
   "metadata": {},
   "outputs": [],
   "source": [
    "inp = 'mathematician'"
   ]
  },
  {
   "cell_type": "code",
   "execution_count": 442,
   "id": "49d61495-180f-4099-a251-7452e7efc9fd",
   "metadata": {},
   "outputs": [
    {
     "name": "stdout",
     "output_type": "stream",
     "text": [
      "Job #2261 in Sector Chief Accountant has a 33.33% match\n",
      "Job #2384 in Sector Менеджер по маркетингу / Marketing Manager (Inbound Marketing) has a 33.33% match\n",
      "Job #1378 in Sector senior it auditor has a 12.5% match\n",
      "Job #2096 in Sector Senior Data Engineer for Ciklum Digital has a 4.55% match\n",
      "Job #0 in Sector Accelerator Physicist id54315 has a 0.0% match\n",
      "Job #1 in Sector Applied Physicist (Computing) (EP-LBC-2021-125-LD) id54308 has a 0.0% match\n",
      "Job #4 in Sector Optics / photonics engineer or physicist (21364) has a 0.0% match\n",
      "Job #6 in Sector Physicist/Optical Scientist/Engineer Technology Development has a 0.0% match\n",
      "Job #9 in Sector OSS PHYSICIST has a 0.0% match\n"
     ]
    },
    {
     "data": {
      "application/vnd.plotly.v1+json": {
       "config": {
        "plotlyServerURL": "https://plot.ly"
       },
       "data": [
        {
         "alignmentgroup": "True",
         "hovertemplate": "job position=%{x}<br>Matching %=%{y}<br>color=%{marker.color}<extra></extra>",
         "legendgroup": "",
         "marker": {
          "color": [
           33.33,
           33.33,
           12.5,
           4.55,
           0,
           0,
           0,
           0,
           0
          ],
          "coloraxis": "coloraxis",
          "pattern": {
           "shape": ""
          }
         },
         "name": "",
         "offsetgroup": "",
         "orientation": "v",
         "showlegend": false,
         "textposition": "auto",
         "type": "bar",
         "x": [
          "Chief Accountant",
          "Менеджер по маркетингу / Marketing Manager (Inbound Marketing)",
          "senior it auditor",
          "Senior Data Engineer for Ciklum Digital",
          "Accelerator Physicist id54315",
          "Applied Physicist (Computing) (EP-LBC-2021-125-LD) id54308",
          "Optics / photonics engineer or physicist (21364)",
          "Physicist/Optical Scientist/Engineer Technology Development",
          "OSS PHYSICIST"
         ],
         "xaxis": "x",
         "y": [
          33.33,
          33.33,
          12.5,
          4.55,
          0,
          0,
          0,
          0,
          0
         ],
         "yaxis": "y"
        }
       ],
       "layout": {
        "barmode": "relative",
        "coloraxis": {
         "colorbar": {
          "title": {
           "text": "color"
          }
         },
         "colorscale": [
          [
           0,
           "rgb(2,4,25)"
          ],
          [
           0.0625,
           "rgb(24,15,41)"
          ],
          [
           0.125,
           "rgb(47,23,57)"
          ],
          [
           0.1875,
           "rgb(71,28,72)"
          ],
          [
           0.25,
           "rgb(97,30,82)"
          ],
          [
           0.3125,
           "rgb(123,30,89)"
          ],
          [
           0.375,
           "rgb(150,27,91)"
          ],
          [
           0.4375,
           "rgb(177,22,88)"
          ],
          [
           0.5,
           "rgb(203,26,79)"
          ],
          [
           0.5625,
           "rgb(223,47,67)"
          ],
          [
           0.625,
           "rgb(236,76,61)"
          ],
          [
           0.6875,
           "rgb(242,107,73)"
          ],
          [
           0.75,
           "rgb(244,135,95)"
          ],
          [
           0.8125,
           "rgb(245,162,122)"
          ],
          [
           0.875,
           "rgb(246,188,153)"
          ],
          [
           0.9375,
           "rgb(247,212,187)"
          ],
          [
           1,
           "rgb(250,234,220)"
          ]
         ]
        },
        "height": 800,
        "legend": {
         "tracegroupgap": 0
        },
        "paper_bgcolor": "lightblue",
        "template": {
         "data": {
          "bar": [
           {
            "error_x": {
             "color": "rgb(36,36,36)"
            },
            "error_y": {
             "color": "rgb(36,36,36)"
            },
            "marker": {
             "line": {
              "color": "rgb(234,234,242)",
              "width": 0.5
             },
             "pattern": {
              "fillmode": "overlay",
              "size": 10,
              "solidity": 0.2
             }
            },
            "type": "bar"
           }
          ],
          "barpolar": [
           {
            "marker": {
             "line": {
              "color": "rgb(234,234,242)",
              "width": 0.5
             },
             "pattern": {
              "fillmode": "overlay",
              "size": 10,
              "solidity": 0.2
             }
            },
            "type": "barpolar"
           }
          ],
          "carpet": [
           {
            "aaxis": {
             "endlinecolor": "rgb(36,36,36)",
             "gridcolor": "white",
             "linecolor": "white",
             "minorgridcolor": "white",
             "startlinecolor": "rgb(36,36,36)"
            },
            "baxis": {
             "endlinecolor": "rgb(36,36,36)",
             "gridcolor": "white",
             "linecolor": "white",
             "minorgridcolor": "white",
             "startlinecolor": "rgb(36,36,36)"
            },
            "type": "carpet"
           }
          ],
          "choropleth": [
           {
            "colorbar": {
             "outlinewidth": 0,
             "tickcolor": "rgb(36,36,36)",
             "ticklen": 8,
             "ticks": "outside",
             "tickwidth": 2
            },
            "type": "choropleth"
           }
          ],
          "contour": [
           {
            "colorbar": {
             "outlinewidth": 0,
             "tickcolor": "rgb(36,36,36)",
             "ticklen": 8,
             "ticks": "outside",
             "tickwidth": 2
            },
            "colorscale": [
             [
              0,
              "rgb(2,4,25)"
             ],
             [
              0.06274509803921569,
              "rgb(24,15,41)"
             ],
             [
              0.12549019607843137,
              "rgb(47,23,57)"
             ],
             [
              0.18823529411764706,
              "rgb(71,28,72)"
             ],
             [
              0.25098039215686274,
              "rgb(97,30,82)"
             ],
             [
              0.3137254901960784,
              "rgb(123,30,89)"
             ],
             [
              0.3764705882352941,
              "rgb(150,27,91)"
             ],
             [
              0.4392156862745098,
              "rgb(177,22,88)"
             ],
             [
              0.5019607843137255,
              "rgb(203,26,79)"
             ],
             [
              0.5647058823529412,
              "rgb(223,47,67)"
             ],
             [
              0.6274509803921569,
              "rgb(236,76,61)"
             ],
             [
              0.6901960784313725,
              "rgb(242,107,73)"
             ],
             [
              0.7529411764705882,
              "rgb(244,135,95)"
             ],
             [
              0.8156862745098039,
              "rgb(245,162,122)"
             ],
             [
              0.8784313725490196,
              "rgb(246,188,153)"
             ],
             [
              0.9411764705882353,
              "rgb(247,212,187)"
             ],
             [
              1,
              "rgb(250,234,220)"
             ]
            ],
            "type": "contour"
           }
          ],
          "contourcarpet": [
           {
            "colorbar": {
             "outlinewidth": 0,
             "tickcolor": "rgb(36,36,36)",
             "ticklen": 8,
             "ticks": "outside",
             "tickwidth": 2
            },
            "type": "contourcarpet"
           }
          ],
          "heatmap": [
           {
            "colorbar": {
             "outlinewidth": 0,
             "tickcolor": "rgb(36,36,36)",
             "ticklen": 8,
             "ticks": "outside",
             "tickwidth": 2
            },
            "colorscale": [
             [
              0,
              "rgb(2,4,25)"
             ],
             [
              0.06274509803921569,
              "rgb(24,15,41)"
             ],
             [
              0.12549019607843137,
              "rgb(47,23,57)"
             ],
             [
              0.18823529411764706,
              "rgb(71,28,72)"
             ],
             [
              0.25098039215686274,
              "rgb(97,30,82)"
             ],
             [
              0.3137254901960784,
              "rgb(123,30,89)"
             ],
             [
              0.3764705882352941,
              "rgb(150,27,91)"
             ],
             [
              0.4392156862745098,
              "rgb(177,22,88)"
             ],
             [
              0.5019607843137255,
              "rgb(203,26,79)"
             ],
             [
              0.5647058823529412,
              "rgb(223,47,67)"
             ],
             [
              0.6274509803921569,
              "rgb(236,76,61)"
             ],
             [
              0.6901960784313725,
              "rgb(242,107,73)"
             ],
             [
              0.7529411764705882,
              "rgb(244,135,95)"
             ],
             [
              0.8156862745098039,
              "rgb(245,162,122)"
             ],
             [
              0.8784313725490196,
              "rgb(246,188,153)"
             ],
             [
              0.9411764705882353,
              "rgb(247,212,187)"
             ],
             [
              1,
              "rgb(250,234,220)"
             ]
            ],
            "type": "heatmap"
           }
          ],
          "heatmapgl": [
           {
            "colorbar": {
             "outlinewidth": 0,
             "tickcolor": "rgb(36,36,36)",
             "ticklen": 8,
             "ticks": "outside",
             "tickwidth": 2
            },
            "colorscale": [
             [
              0,
              "rgb(2,4,25)"
             ],
             [
              0.06274509803921569,
              "rgb(24,15,41)"
             ],
             [
              0.12549019607843137,
              "rgb(47,23,57)"
             ],
             [
              0.18823529411764706,
              "rgb(71,28,72)"
             ],
             [
              0.25098039215686274,
              "rgb(97,30,82)"
             ],
             [
              0.3137254901960784,
              "rgb(123,30,89)"
             ],
             [
              0.3764705882352941,
              "rgb(150,27,91)"
             ],
             [
              0.4392156862745098,
              "rgb(177,22,88)"
             ],
             [
              0.5019607843137255,
              "rgb(203,26,79)"
             ],
             [
              0.5647058823529412,
              "rgb(223,47,67)"
             ],
             [
              0.6274509803921569,
              "rgb(236,76,61)"
             ],
             [
              0.6901960784313725,
              "rgb(242,107,73)"
             ],
             [
              0.7529411764705882,
              "rgb(244,135,95)"
             ],
             [
              0.8156862745098039,
              "rgb(245,162,122)"
             ],
             [
              0.8784313725490196,
              "rgb(246,188,153)"
             ],
             [
              0.9411764705882353,
              "rgb(247,212,187)"
             ],
             [
              1,
              "rgb(250,234,220)"
             ]
            ],
            "type": "heatmapgl"
           }
          ],
          "histogram": [
           {
            "marker": {
             "pattern": {
              "fillmode": "overlay",
              "size": 10,
              "solidity": 0.2
             }
            },
            "type": "histogram"
           }
          ],
          "histogram2d": [
           {
            "colorbar": {
             "outlinewidth": 0,
             "tickcolor": "rgb(36,36,36)",
             "ticklen": 8,
             "ticks": "outside",
             "tickwidth": 2
            },
            "colorscale": [
             [
              0,
              "rgb(2,4,25)"
             ],
             [
              0.06274509803921569,
              "rgb(24,15,41)"
             ],
             [
              0.12549019607843137,
              "rgb(47,23,57)"
             ],
             [
              0.18823529411764706,
              "rgb(71,28,72)"
             ],
             [
              0.25098039215686274,
              "rgb(97,30,82)"
             ],
             [
              0.3137254901960784,
              "rgb(123,30,89)"
             ],
             [
              0.3764705882352941,
              "rgb(150,27,91)"
             ],
             [
              0.4392156862745098,
              "rgb(177,22,88)"
             ],
             [
              0.5019607843137255,
              "rgb(203,26,79)"
             ],
             [
              0.5647058823529412,
              "rgb(223,47,67)"
             ],
             [
              0.6274509803921569,
              "rgb(236,76,61)"
             ],
             [
              0.6901960784313725,
              "rgb(242,107,73)"
             ],
             [
              0.7529411764705882,
              "rgb(244,135,95)"
             ],
             [
              0.8156862745098039,
              "rgb(245,162,122)"
             ],
             [
              0.8784313725490196,
              "rgb(246,188,153)"
             ],
             [
              0.9411764705882353,
              "rgb(247,212,187)"
             ],
             [
              1,
              "rgb(250,234,220)"
             ]
            ],
            "type": "histogram2d"
           }
          ],
          "histogram2dcontour": [
           {
            "colorbar": {
             "outlinewidth": 0,
             "tickcolor": "rgb(36,36,36)",
             "ticklen": 8,
             "ticks": "outside",
             "tickwidth": 2
            },
            "colorscale": [
             [
              0,
              "rgb(2,4,25)"
             ],
             [
              0.06274509803921569,
              "rgb(24,15,41)"
             ],
             [
              0.12549019607843137,
              "rgb(47,23,57)"
             ],
             [
              0.18823529411764706,
              "rgb(71,28,72)"
             ],
             [
              0.25098039215686274,
              "rgb(97,30,82)"
             ],
             [
              0.3137254901960784,
              "rgb(123,30,89)"
             ],
             [
              0.3764705882352941,
              "rgb(150,27,91)"
             ],
             [
              0.4392156862745098,
              "rgb(177,22,88)"
             ],
             [
              0.5019607843137255,
              "rgb(203,26,79)"
             ],
             [
              0.5647058823529412,
              "rgb(223,47,67)"
             ],
             [
              0.6274509803921569,
              "rgb(236,76,61)"
             ],
             [
              0.6901960784313725,
              "rgb(242,107,73)"
             ],
             [
              0.7529411764705882,
              "rgb(244,135,95)"
             ],
             [
              0.8156862745098039,
              "rgb(245,162,122)"
             ],
             [
              0.8784313725490196,
              "rgb(246,188,153)"
             ],
             [
              0.9411764705882353,
              "rgb(247,212,187)"
             ],
             [
              1,
              "rgb(250,234,220)"
             ]
            ],
            "type": "histogram2dcontour"
           }
          ],
          "mesh3d": [
           {
            "colorbar": {
             "outlinewidth": 0,
             "tickcolor": "rgb(36,36,36)",
             "ticklen": 8,
             "ticks": "outside",
             "tickwidth": 2
            },
            "type": "mesh3d"
           }
          ],
          "parcoords": [
           {
            "line": {
             "colorbar": {
              "outlinewidth": 0,
              "tickcolor": "rgb(36,36,36)",
              "ticklen": 8,
              "ticks": "outside",
              "tickwidth": 2
             }
            },
            "type": "parcoords"
           }
          ],
          "pie": [
           {
            "automargin": true,
            "type": "pie"
           }
          ],
          "scatter": [
           {
            "marker": {
             "colorbar": {
              "outlinewidth": 0,
              "tickcolor": "rgb(36,36,36)",
              "ticklen": 8,
              "ticks": "outside",
              "tickwidth": 2
             }
            },
            "type": "scatter"
           }
          ],
          "scatter3d": [
           {
            "line": {
             "colorbar": {
              "outlinewidth": 0,
              "tickcolor": "rgb(36,36,36)",
              "ticklen": 8,
              "ticks": "outside",
              "tickwidth": 2
             }
            },
            "marker": {
             "colorbar": {
              "outlinewidth": 0,
              "tickcolor": "rgb(36,36,36)",
              "ticklen": 8,
              "ticks": "outside",
              "tickwidth": 2
             }
            },
            "type": "scatter3d"
           }
          ],
          "scattercarpet": [
           {
            "marker": {
             "colorbar": {
              "outlinewidth": 0,
              "tickcolor": "rgb(36,36,36)",
              "ticklen": 8,
              "ticks": "outside",
              "tickwidth": 2
             }
            },
            "type": "scattercarpet"
           }
          ],
          "scattergeo": [
           {
            "marker": {
             "colorbar": {
              "outlinewidth": 0,
              "tickcolor": "rgb(36,36,36)",
              "ticklen": 8,
              "ticks": "outside",
              "tickwidth": 2
             }
            },
            "type": "scattergeo"
           }
          ],
          "scattergl": [
           {
            "marker": {
             "colorbar": {
              "outlinewidth": 0,
              "tickcolor": "rgb(36,36,36)",
              "ticklen": 8,
              "ticks": "outside",
              "tickwidth": 2
             }
            },
            "type": "scattergl"
           }
          ],
          "scattermapbox": [
           {
            "marker": {
             "colorbar": {
              "outlinewidth": 0,
              "tickcolor": "rgb(36,36,36)",
              "ticklen": 8,
              "ticks": "outside",
              "tickwidth": 2
             }
            },
            "type": "scattermapbox"
           }
          ],
          "scatterpolar": [
           {
            "marker": {
             "colorbar": {
              "outlinewidth": 0,
              "tickcolor": "rgb(36,36,36)",
              "ticklen": 8,
              "ticks": "outside",
              "tickwidth": 2
             }
            },
            "type": "scatterpolar"
           }
          ],
          "scatterpolargl": [
           {
            "marker": {
             "colorbar": {
              "outlinewidth": 0,
              "tickcolor": "rgb(36,36,36)",
              "ticklen": 8,
              "ticks": "outside",
              "tickwidth": 2
             }
            },
            "type": "scatterpolargl"
           }
          ],
          "scatterternary": [
           {
            "marker": {
             "colorbar": {
              "outlinewidth": 0,
              "tickcolor": "rgb(36,36,36)",
              "ticklen": 8,
              "ticks": "outside",
              "tickwidth": 2
             }
            },
            "type": "scatterternary"
           }
          ],
          "surface": [
           {
            "colorbar": {
             "outlinewidth": 0,
             "tickcolor": "rgb(36,36,36)",
             "ticklen": 8,
             "ticks": "outside",
             "tickwidth": 2
            },
            "colorscale": [
             [
              0,
              "rgb(2,4,25)"
             ],
             [
              0.06274509803921569,
              "rgb(24,15,41)"
             ],
             [
              0.12549019607843137,
              "rgb(47,23,57)"
             ],
             [
              0.18823529411764706,
              "rgb(71,28,72)"
             ],
             [
              0.25098039215686274,
              "rgb(97,30,82)"
             ],
             [
              0.3137254901960784,
              "rgb(123,30,89)"
             ],
             [
              0.3764705882352941,
              "rgb(150,27,91)"
             ],
             [
              0.4392156862745098,
              "rgb(177,22,88)"
             ],
             [
              0.5019607843137255,
              "rgb(203,26,79)"
             ],
             [
              0.5647058823529412,
              "rgb(223,47,67)"
             ],
             [
              0.6274509803921569,
              "rgb(236,76,61)"
             ],
             [
              0.6901960784313725,
              "rgb(242,107,73)"
             ],
             [
              0.7529411764705882,
              "rgb(244,135,95)"
             ],
             [
              0.8156862745098039,
              "rgb(245,162,122)"
             ],
             [
              0.8784313725490196,
              "rgb(246,188,153)"
             ],
             [
              0.9411764705882353,
              "rgb(247,212,187)"
             ],
             [
              1,
              "rgb(250,234,220)"
             ]
            ],
            "type": "surface"
           }
          ],
          "table": [
           {
            "cells": {
             "fill": {
              "color": "rgb(231,231,240)"
             },
             "line": {
              "color": "white"
             }
            },
            "header": {
             "fill": {
              "color": "rgb(183,183,191)"
             },
             "line": {
              "color": "white"
             }
            },
            "type": "table"
           }
          ]
         },
         "layout": {
          "annotationdefaults": {
           "arrowcolor": "rgb(67,103,167)"
          },
          "autotypenumbers": "strict",
          "coloraxis": {
           "colorbar": {
            "outlinewidth": 0,
            "tickcolor": "rgb(36,36,36)",
            "ticklen": 8,
            "ticks": "outside",
            "tickwidth": 2
           }
          },
          "colorscale": {
           "sequential": [
            [
             0,
             "rgb(2,4,25)"
            ],
            [
             0.06274509803921569,
             "rgb(24,15,41)"
            ],
            [
             0.12549019607843137,
             "rgb(47,23,57)"
            ],
            [
             0.18823529411764706,
             "rgb(71,28,72)"
            ],
            [
             0.25098039215686274,
             "rgb(97,30,82)"
            ],
            [
             0.3137254901960784,
             "rgb(123,30,89)"
            ],
            [
             0.3764705882352941,
             "rgb(150,27,91)"
            ],
            [
             0.4392156862745098,
             "rgb(177,22,88)"
            ],
            [
             0.5019607843137255,
             "rgb(203,26,79)"
            ],
            [
             0.5647058823529412,
             "rgb(223,47,67)"
            ],
            [
             0.6274509803921569,
             "rgb(236,76,61)"
            ],
            [
             0.6901960784313725,
             "rgb(242,107,73)"
            ],
            [
             0.7529411764705882,
             "rgb(244,135,95)"
            ],
            [
             0.8156862745098039,
             "rgb(245,162,122)"
            ],
            [
             0.8784313725490196,
             "rgb(246,188,153)"
            ],
            [
             0.9411764705882353,
             "rgb(247,212,187)"
            ],
            [
             1,
             "rgb(250,234,220)"
            ]
           ],
           "sequentialminus": [
            [
             0,
             "rgb(2,4,25)"
            ],
            [
             0.06274509803921569,
             "rgb(24,15,41)"
            ],
            [
             0.12549019607843137,
             "rgb(47,23,57)"
            ],
            [
             0.18823529411764706,
             "rgb(71,28,72)"
            ],
            [
             0.25098039215686274,
             "rgb(97,30,82)"
            ],
            [
             0.3137254901960784,
             "rgb(123,30,89)"
            ],
            [
             0.3764705882352941,
             "rgb(150,27,91)"
            ],
            [
             0.4392156862745098,
             "rgb(177,22,88)"
            ],
            [
             0.5019607843137255,
             "rgb(203,26,79)"
            ],
            [
             0.5647058823529412,
             "rgb(223,47,67)"
            ],
            [
             0.6274509803921569,
             "rgb(236,76,61)"
            ],
            [
             0.6901960784313725,
             "rgb(242,107,73)"
            ],
            [
             0.7529411764705882,
             "rgb(244,135,95)"
            ],
            [
             0.8156862745098039,
             "rgb(245,162,122)"
            ],
            [
             0.8784313725490196,
             "rgb(246,188,153)"
            ],
            [
             0.9411764705882353,
             "rgb(247,212,187)"
            ],
            [
             1,
             "rgb(250,234,220)"
            ]
           ]
          },
          "colorway": [
           "rgb(76,114,176)",
           "rgb(221,132,82)",
           "rgb(85,168,104)",
           "rgb(196,78,82)",
           "rgb(129,114,179)",
           "rgb(147,120,96)",
           "rgb(218,139,195)",
           "rgb(140,140,140)",
           "rgb(204,185,116)",
           "rgb(100,181,205)"
          ],
          "font": {
           "color": "rgb(36,36,36)"
          },
          "geo": {
           "bgcolor": "white",
           "lakecolor": "white",
           "landcolor": "rgb(234,234,242)",
           "showlakes": true,
           "showland": true,
           "subunitcolor": "white"
          },
          "hoverlabel": {
           "align": "left"
          },
          "hovermode": "closest",
          "paper_bgcolor": "white",
          "plot_bgcolor": "rgb(234,234,242)",
          "polar": {
           "angularaxis": {
            "gridcolor": "white",
            "linecolor": "white",
            "showgrid": true,
            "ticks": ""
           },
           "bgcolor": "rgb(234,234,242)",
           "radialaxis": {
            "gridcolor": "white",
            "linecolor": "white",
            "showgrid": true,
            "ticks": ""
           }
          },
          "scene": {
           "xaxis": {
            "backgroundcolor": "rgb(234,234,242)",
            "gridcolor": "white",
            "gridwidth": 2,
            "linecolor": "white",
            "showbackground": true,
            "showgrid": true,
            "ticks": "",
            "zerolinecolor": "white"
           },
           "yaxis": {
            "backgroundcolor": "rgb(234,234,242)",
            "gridcolor": "white",
            "gridwidth": 2,
            "linecolor": "white",
            "showbackground": true,
            "showgrid": true,
            "ticks": "",
            "zerolinecolor": "white"
           },
           "zaxis": {
            "backgroundcolor": "rgb(234,234,242)",
            "gridcolor": "white",
            "gridwidth": 2,
            "linecolor": "white",
            "showbackground": true,
            "showgrid": true,
            "ticks": "",
            "zerolinecolor": "white"
           }
          },
          "shapedefaults": {
           "fillcolor": "rgb(67,103,167)",
           "line": {
            "width": 0
           },
           "opacity": 0.5
          },
          "ternary": {
           "aaxis": {
            "gridcolor": "white",
            "linecolor": "white",
            "showgrid": true,
            "ticks": ""
           },
           "baxis": {
            "gridcolor": "white",
            "linecolor": "white",
            "showgrid": true,
            "ticks": ""
           },
           "bgcolor": "rgb(234,234,242)",
           "caxis": {
            "gridcolor": "white",
            "linecolor": "white",
            "showgrid": true,
            "ticks": ""
           }
          },
          "xaxis": {
           "automargin": true,
           "gridcolor": "white",
           "linecolor": "white",
           "showgrid": true,
           "ticks": "",
           "title": {
            "standoff": 15
           },
           "zerolinecolor": "white"
          },
          "yaxis": {
           "automargin": true,
           "gridcolor": "white",
           "linecolor": "white",
           "showgrid": true,
           "ticks": "",
           "title": {
            "standoff": 15
           },
           "zerolinecolor": "white"
          }
         }
        },
        "title": {
         "text": "Job offers matching with resume"
        },
        "width": 1200,
        "xaxis": {
         "anchor": "y",
         "autorange": true,
         "domain": [
          0,
          1
         ],
         "range": [
          -0.5,
          8.5
         ],
         "title": {
          "text": "job position"
         },
         "type": "category"
        },
        "yaxis": {
         "anchor": "x",
         "autorange": true,
         "domain": [
          0,
          1
         ],
         "range": [
          0,
          35.084210526315786
         ],
         "title": {
          "text": "Matching %"
         },
         "type": "linear"
        }
       }
      },
      "image/png": "[encoded data removed]",
      "text/html": [
       "<div>                            <div id=\"665d171c-d54c-464e-a005-3161faca3cb3\" class=\"plotly-graph-div\" style=\"height:800px; width:1200px;\"></div>            <script type=\"text/javascript\">                require([\"plotly\"], function(Plotly) {                    window.PLOTLYENV=window.PLOTLYENV || {};                                    if (document.getElementById(\"665d171c-d54c-464e-a005-3161faca3cb3\")) {                    Plotly.newPlot(                        \"665d171c-d54c-464e-a005-3161faca3cb3\",                        [{\"alignmentgroup\":\"True\",\"hovertemplate\":\"job position=%{x}<br>Matching %=%{y}<br>color=%{marker.color}<extra></extra>\",\"legendgroup\":\"\",\"marker\":{\"color\":[33.33,33.33,12.5,4.55,0.0,0.0,0.0,0.0,0.0],\"coloraxis\":\"coloraxis\",\"pattern\":{\"shape\":\"\"}},\"name\":\"\",\"offsetgroup\":\"\",\"orientation\":\"v\",\"showlegend\":false,\"textposition\":\"auto\",\"type\":\"bar\",\"x\":[\"Chief Accountant\",\"\\u041c\\u0435\\u043d\\u0435\\u0434\\u0436\\u0435\\u0440 \\u043f\\u043e \\u043c\\u0430\\u0440\\u043a\\u0435\\u0442\\u0438\\u043d\\u0433\\u0443 / Marketing Manager (Inbound Marketing)\",\"senior it auditor\",\"Senior Data Engineer for Ciklum Digital\",\"Accelerator Physicist id54315\",\"Applied Physicist (Computing) (EP-LBC-2021-125-LD) id54308\",\"Optics / photonics engineer or physicist (21364)\",\"Physicist/Optical Scientist/Engineer Technology Development\",\"OSS PHYSICIST\"],\"xaxis\":\"x\",\"y\":[33.33,33.33,12.5,4.55,0.0,0.0,0.0,0.0,0.0],\"yaxis\":\"y\"}],                        {\"barmode\":\"relative\",\"coloraxis\":{\"colorbar\":{\"title\":{\"text\":\"color\"}},\"colorscale\":[[0.0,\"rgb(2,4,25)\"],[0.0625,\"rgb(24,15,41)\"],[0.125,\"rgb(47,23,57)\"],[0.1875,\"rgb(71,28,72)\"],[0.25,\"rgb(97,30,82)\"],[0.3125,\"rgb(123,30,89)\"],[0.375,\"rgb(150,27,91)\"],[0.4375,\"rgb(177,22,88)\"],[0.5,\"rgb(203,26,79)\"],[0.5625,\"rgb(223,47,67)\"],[0.625,\"rgb(236,76,61)\"],[0.6875,\"rgb(242,107,73)\"],[0.75,\"rgb(244,135,95)\"],[0.8125,\"rgb(245,162,122)\"],[0.875,\"rgb(246,188,153)\"],[0.9375,\"rgb(247,212,187)\"],[1.0,\"rgb(250,234,220)\"]]},\"height\":800,\"legend\":{\"tracegroupgap\":0},\"paper_bgcolor\":\"lightblue\",\"template\":{\"data\":{\"bar\":[{\"error_x\":{\"color\":\"rgb(36,36,36)\"},\"error_y\":{\"color\":\"rgb(36,36,36)\"},\"marker\":{\"line\":{\"color\":\"rgb(234,234,242)\",\"width\":0.5},\"pattern\":{\"fillmode\":\"overlay\",\"size\":10,\"solidity\":0.2}},\"type\":\"bar\"}],\"barpolar\":[{\"marker\":{\"line\":{\"color\":\"rgb(234,234,242)\",\"width\":0.5},\"pattern\":{\"fillmode\":\"overlay\",\"size\":10,\"solidity\":0.2}},\"type\":\"barpolar\"}],\"carpet\":[{\"aaxis\":{\"endlinecolor\":\"rgb(36,36,36)\",\"gridcolor\":\"white\",\"linecolor\":\"white\",\"minorgridcolor\":\"white\",\"startlinecolor\":\"rgb(36,36,36)\"},\"baxis\":{\"endlinecolor\":\"rgb(36,36,36)\",\"gridcolor\":\"white\",\"linecolor\":\"white\",\"minorgridcolor\":\"white\",\"startlinecolor\":\"rgb(36,36,36)\"},\"type\":\"carpet\"}],\"choropleth\":[{\"colorbar\":{\"outlinewidth\":0,\"tickcolor\":\"rgb(36,36,36)\",\"ticklen\":8,\"ticks\":\"outside\",\"tickwidth\":2},\"type\":\"choropleth\"}],\"contour\":[{\"colorbar\":{\"outlinewidth\":0,\"tickcolor\":\"rgb(36,36,36)\",\"ticklen\":8,\"ticks\":\"outside\",\"tickwidth\":2},\"colorscale\":[[0.0,\"rgb(2,4,25)\"],[0.06274509803921569,\"rgb(24,15,41)\"],[0.12549019607843137,\"rgb(47,23,57)\"],[0.18823529411764706,\"rgb(71,28,72)\"],[0.25098039215686274,\"rgb(97,30,82)\"],[0.3137254901960784,\"rgb(123,30,89)\"],[0.3764705882352941,\"rgb(150,27,91)\"],[0.4392156862745098,\"rgb(177,22,88)\"],[0.5019607843137255,\"rgb(203,26,79)\"],[0.5647058823529412,\"rgb(223,47,67)\"],[0.6274509803921569,\"rgb(236,76,61)\"],[0.6901960784313725,\"rgb(242,107,73)\"],[0.7529411764705882,\"rgb(244,135,95)\"],[0.8156862745098039,\"rgb(245,162,122)\"],[0.8784313725490196,\"rgb(246,188,153)\"],[0.9411764705882353,\"rgb(247,212,187)\"],[1.0,\"rgb(250,234,220)\"]],\"type\":\"contour\"}],\"contourcarpet\":[{\"colorbar\":{\"outlinewidth\":0,\"tickcolor\":\"rgb(36,36,36)\",\"ticklen\":8,\"ticks\":\"outside\",\"tickwidth\":2},\"type\":\"contourcarpet\"}],\"heatmap\":[{\"colorbar\":{\"outlinewidth\":0,\"tickcolor\":\"rgb(36,36,36)\",\"ticklen\":8,\"ticks\":\"outside\",\"tickwidth\":2},\"colorscale\":[[0.0,\"rgb(2,4,25)\"],[0.06274509803921569,\"rgb(24,15,41)\"],[0.12549019607843137,\"rgb(47,23,57)\"],[0.18823529411764706,\"rgb(71,28,72)\"],[0.25098039215686274,\"rgb(97,30,82)\"],[0.3137254901960784,\"rgb(123,30,89)\"],[0.3764705882352941,\"rgb(150,27,91)\"],[0.4392156862745098,\"rgb(177,22,88)\"],[0.5019607843137255,\"rgb(203,26,79)\"],[0.5647058823529412,\"rgb(223,47,67)\"],[0.6274509803921569,\"rgb(236,76,61)\"],[0.6901960784313725,\"rgb(242,107,73)\"],[0.7529411764705882,\"rgb(244,135,95)\"],[0.8156862745098039,\"rgb(245,162,122)\"],[0.8784313725490196,\"rgb(246,188,153)\"],[0.9411764705882353,\"rgb(247,212,187)\"],[1.0,\"rgb(250,234,220)\"]],\"type\":\"heatmap\"}],\"heatmapgl\":[{\"colorbar\":{\"outlinewidth\":0,\"tickcolor\":\"rgb(36,36,36)\",\"ticklen\":8,\"ticks\":\"outside\",\"tickwidth\":2},\"colorscale\":[[0.0,\"rgb(2,4,25)\"],[0.06274509803921569,\"rgb(24,15,41)\"],[0.12549019607843137,\"rgb(47,23,57)\"],[0.18823529411764706,\"rgb(71,28,72)\"],[0.25098039215686274,\"rgb(97,30,82)\"],[0.3137254901960784,\"rgb(123,30,89)\"],[0.3764705882352941,\"rgb(150,27,91)\"],[0.4392156862745098,\"rgb(177,22,88)\"],[0.5019607843137255,\"rgb(203,26,79)\"],[0.5647058823529412,\"rgb(223,47,67)\"],[0.6274509803921569,\"rgb(236,76,61)\"],[0.6901960784313725,\"rgb(242,107,73)\"],[0.7529411764705882,\"rgb(244,135,95)\"],[0.8156862745098039,\"rgb(245,162,122)\"],[0.8784313725490196,\"rgb(246,188,153)\"],[0.9411764705882353,\"rgb(247,212,187)\"],[1.0,\"rgb(250,234,220)\"]],\"type\":\"heatmapgl\"}],\"histogram\":[{\"marker\":{\"pattern\":{\"fillmode\":\"overlay\",\"size\":10,\"solidity\":0.2}},\"type\":\"histogram\"}],\"histogram2d\":[{\"colorbar\":{\"outlinewidth\":0,\"tickcolor\":\"rgb(36,36,36)\",\"ticklen\":8,\"ticks\":\"outside\",\"tickwidth\":2},\"colorscale\":[[0.0,\"rgb(2,4,25)\"],[0.06274509803921569,\"rgb(24,15,41)\"],[0.12549019607843137,\"rgb(47,23,57)\"],[0.18823529411764706,\"rgb(71,28,72)\"],[0.25098039215686274,\"rgb(97,30,82)\"],[0.3137254901960784,\"rgb(123,30,89)\"],[0.3764705882352941,\"rgb(150,27,91)\"],[0.4392156862745098,\"rgb(177,22,88)\"],[0.5019607843137255,\"rgb(203,26,79)\"],[0.5647058823529412,\"rgb(223,47,67)\"],[0.6274509803921569,\"rgb(236,76,61)\"],[0.6901960784313725,\"rgb(242,107,73)\"],[0.7529411764705882,\"rgb(244,135,95)\"],[0.8156862745098039,\"rgb(245,162,122)\"],[0.8784313725490196,\"rgb(246,188,153)\"],[0.9411764705882353,\"rgb(247,212,187)\"],[1.0,\"rgb(250,234,220)\"]],\"type\":\"histogram2d\"}],\"histogram2dcontour\":[{\"colorbar\":{\"outlinewidth\":0,\"tickcolor\":\"rgb(36,36,36)\",\"ticklen\":8,\"ticks\":\"outside\",\"tickwidth\":2},\"colorscale\":[[0.0,\"rgb(2,4,25)\"],[0.06274509803921569,\"rgb(24,15,41)\"],[0.12549019607843137,\"rgb(47,23,57)\"],[0.18823529411764706,\"rgb(71,28,72)\"],[0.25098039215686274,\"rgb(97,30,82)\"],[0.3137254901960784,\"rgb(123,30,89)\"],[0.3764705882352941,\"rgb(150,27,91)\"],[0.4392156862745098,\"rgb(177,22,88)\"],[0.5019607843137255,\"rgb(203,26,79)\"],[0.5647058823529412,\"rgb(223,47,67)\"],[0.6274509803921569,\"rgb(236,76,61)\"],[0.6901960784313725,\"rgb(242,107,73)\"],[0.7529411764705882,\"rgb(244,135,95)\"],[0.8156862745098039,\"rgb(245,162,122)\"],[0.8784313725490196,\"rgb(246,188,153)\"],[0.9411764705882353,\"rgb(247,212,187)\"],[1.0,\"rgb(250,234,220)\"]],\"type\":\"histogram2dcontour\"}],\"mesh3d\":[{\"colorbar\":{\"outlinewidth\":0,\"tickcolor\":\"rgb(36,36,36)\",\"ticklen\":8,\"ticks\":\"outside\",\"tickwidth\":2},\"type\":\"mesh3d\"}],\"parcoords\":[{\"line\":{\"colorbar\":{\"outlinewidth\":0,\"tickcolor\":\"rgb(36,36,36)\",\"ticklen\":8,\"ticks\":\"outside\",\"tickwidth\":2}},\"type\":\"parcoords\"}],\"pie\":[{\"automargin\":true,\"type\":\"pie\"}],\"scatter\":[{\"marker\":{\"colorbar\":{\"outlinewidth\":0,\"tickcolor\":\"rgb(36,36,36)\",\"ticklen\":8,\"ticks\":\"outside\",\"tickwidth\":2}},\"type\":\"scatter\"}],\"scatter3d\":[{\"line\":{\"colorbar\":{\"outlinewidth\":0,\"tickcolor\":\"rgb(36,36,36)\",\"ticklen\":8,\"ticks\":\"outside\",\"tickwidth\":2}},\"marker\":{\"colorbar\":{\"outlinewidth\":0,\"tickcolor\":\"rgb(36,36,36)\",\"ticklen\":8,\"ticks\":\"outside\",\"tickwidth\":2}},\"type\":\"scatter3d\"}],\"scattercarpet\":[{\"marker\":{\"colorbar\":{\"outlinewidth\":0,\"tickcolor\":\"rgb(36,36,36)\",\"ticklen\":8,\"ticks\":\"outside\",\"tickwidth\":2}},\"type\":\"scattercarpet\"}],\"scattergeo\":[{\"marker\":{\"colorbar\":{\"outlinewidth\":0,\"tickcolor\":\"rgb(36,36,36)\",\"ticklen\":8,\"ticks\":\"outside\",\"tickwidth\":2}},\"type\":\"scattergeo\"}],\"scattergl\":[{\"marker\":{\"colorbar\":{\"outlinewidth\":0,\"tickcolor\":\"rgb(36,36,36)\",\"ticklen\":8,\"ticks\":\"outside\",\"tickwidth\":2}},\"type\":\"scattergl\"}],\"scattermapbox\":[{\"marker\":{\"colorbar\":{\"outlinewidth\":0,\"tickcolor\":\"rgb(36,36,36)\",\"ticklen\":8,\"ticks\":\"outside\",\"tickwidth\":2}},\"type\":\"scattermapbox\"}],\"scatterpolar\":[{\"marker\":{\"colorbar\":{\"outlinewidth\":0,\"tickcolor\":\"rgb(36,36,36)\",\"ticklen\":8,\"ticks\":\"outside\",\"tickwidth\":2}},\"type\":\"scatterpolar\"}],\"scatterpolargl\":[{\"marker\":{\"colorbar\":{\"outlinewidth\":0,\"tickcolor\":\"rgb(36,36,36)\",\"ticklen\":8,\"ticks\":\"outside\",\"tickwidth\":2}},\"type\":\"scatterpolargl\"}],\"scatterternary\":[{\"marker\":{\"colorbar\":{\"outlinewidth\":0,\"tickcolor\":\"rgb(36,36,36)\",\"ticklen\":8,\"ticks\":\"outside\",\"tickwidth\":2}},\"type\":\"scatterternary\"}],\"surface\":[{\"colorbar\":{\"outlinewidth\":0,\"tickcolor\":\"rgb(36,36,36)\",\"ticklen\":8,\"ticks\":\"outside\",\"tickwidth\":2},\"colorscale\":[[0.0,\"rgb(2,4,25)\"],[0.06274509803921569,\"rgb(24,15,41)\"],[0.12549019607843137,\"rgb(47,23,57)\"],[0.18823529411764706,\"rgb(71,28,72)\"],[0.25098039215686274,\"rgb(97,30,82)\"],[0.3137254901960784,\"rgb(123,30,89)\"],[0.3764705882352941,\"rgb(150,27,91)\"],[0.4392156862745098,\"rgb(177,22,88)\"],[0.5019607843137255,\"rgb(203,26,79)\"],[0.5647058823529412,\"rgb(223,47,67)\"],[0.6274509803921569,\"rgb(236,76,61)\"],[0.6901960784313725,\"rgb(242,107,73)\"],[0.7529411764705882,\"rgb(244,135,95)\"],[0.8156862745098039,\"rgb(245,162,122)\"],[0.8784313725490196,\"rgb(246,188,153)\"],[0.9411764705882353,\"rgb(247,212,187)\"],[1.0,\"rgb(250,234,220)\"]],\"type\":\"surface\"}],\"table\":[{\"cells\":{\"fill\":{\"color\":\"rgb(231,231,240)\"},\"line\":{\"color\":\"white\"}},\"header\":{\"fill\":{\"color\":\"rgb(183,183,191)\"},\"line\":{\"color\":\"white\"}},\"type\":\"table\"}]},\"layout\":{\"annotationdefaults\":{\"arrowcolor\":\"rgb(67,103,167)\"},\"autotypenumbers\":\"strict\",\"coloraxis\":{\"colorbar\":{\"outlinewidth\":0,\"tickcolor\":\"rgb(36,36,36)\",\"ticklen\":8,\"ticks\":\"outside\",\"tickwidth\":2}},\"colorscale\":{\"sequential\":[[0.0,\"rgb(2,4,25)\"],[0.06274509803921569,\"rgb(24,15,41)\"],[0.12549019607843137,\"rgb(47,23,57)\"],[0.18823529411764706,\"rgb(71,28,72)\"],[0.25098039215686274,\"rgb(97,30,82)\"],[0.3137254901960784,\"rgb(123,30,89)\"],[0.3764705882352941,\"rgb(150,27,91)\"],[0.4392156862745098,\"rgb(177,22,88)\"],[0.5019607843137255,\"rgb(203,26,79)\"],[0.5647058823529412,\"rgb(223,47,67)\"],[0.6274509803921569,\"rgb(236,76,61)\"],[0.6901960784313725,\"rgb(242,107,73)\"],[0.7529411764705882,\"rgb(244,135,95)\"],[0.8156862745098039,\"rgb(245,162,122)\"],[0.8784313725490196,\"rgb(246,188,153)\"],[0.9411764705882353,\"rgb(247,212,187)\"],[1.0,\"rgb(250,234,220)\"]],\"sequentialminus\":[[0.0,\"rgb(2,4,25)\"],[0.06274509803921569,\"rgb(24,15,41)\"],[0.12549019607843137,\"rgb(47,23,57)\"],[0.18823529411764706,\"rgb(71,28,72)\"],[0.25098039215686274,\"rgb(97,30,82)\"],[0.3137254901960784,\"rgb(123,30,89)\"],[0.3764705882352941,\"rgb(150,27,91)\"],[0.4392156862745098,\"rgb(177,22,88)\"],[0.5019607843137255,\"rgb(203,26,79)\"],[0.5647058823529412,\"rgb(223,47,67)\"],[0.6274509803921569,\"rgb(236,76,61)\"],[0.6901960784313725,\"rgb(242,107,73)\"],[0.7529411764705882,\"rgb(244,135,95)\"],[0.8156862745098039,\"rgb(245,162,122)\"],[0.8784313725490196,\"rgb(246,188,153)\"],[0.9411764705882353,\"rgb(247,212,187)\"],[1.0,\"rgb(250,234,220)\"]]},\"colorway\":[\"rgb(76,114,176)\",\"rgb(221,132,82)\",\"rgb(85,168,104)\",\"rgb(196,78,82)\",\"rgb(129,114,179)\",\"rgb(147,120,96)\",\"rgb(218,139,195)\",\"rgb(140,140,140)\",\"rgb(204,185,116)\",\"rgb(100,181,205)\"],\"font\":{\"color\":\"rgb(36,36,36)\"},\"geo\":{\"bgcolor\":\"white\",\"lakecolor\":\"white\",\"landcolor\":\"rgb(234,234,242)\",\"showlakes\":true,\"showland\":true,\"subunitcolor\":\"white\"},\"hoverlabel\":{\"align\":\"left\"},\"hovermode\":\"closest\",\"paper_bgcolor\":\"white\",\"plot_bgcolor\":\"rgb(234,234,242)\",\"polar\":{\"angularaxis\":{\"gridcolor\":\"white\",\"linecolor\":\"white\",\"showgrid\":true,\"ticks\":\"\"},\"bgcolor\":\"rgb(234,234,242)\",\"radialaxis\":{\"gridcolor\":\"white\",\"linecolor\":\"white\",\"showgrid\":true,\"ticks\":\"\"}},\"scene\":{\"xaxis\":{\"backgroundcolor\":\"rgb(234,234,242)\",\"gridcolor\":\"white\",\"gridwidth\":2,\"linecolor\":\"white\",\"showbackground\":true,\"showgrid\":true,\"ticks\":\"\",\"zerolinecolor\":\"white\"},\"yaxis\":{\"backgroundcolor\":\"rgb(234,234,242)\",\"gridcolor\":\"white\",\"gridwidth\":2,\"linecolor\":\"white\",\"showbackground\":true,\"showgrid\":true,\"ticks\":\"\",\"zerolinecolor\":\"white\"},\"zaxis\":{\"backgroundcolor\":\"rgb(234,234,242)\",\"gridcolor\":\"white\",\"gridwidth\":2,\"linecolor\":\"white\",\"showbackground\":true,\"showgrid\":true,\"ticks\":\"\",\"zerolinecolor\":\"white\"}},\"shapedefaults\":{\"fillcolor\":\"rgb(67,103,167)\",\"line\":{\"width\":0},\"opacity\":0.5},\"ternary\":{\"aaxis\":{\"gridcolor\":\"white\",\"linecolor\":\"white\",\"showgrid\":true,\"ticks\":\"\"},\"baxis\":{\"gridcolor\":\"white\",\"linecolor\":\"white\",\"showgrid\":true,\"ticks\":\"\"},\"bgcolor\":\"rgb(234,234,242)\",\"caxis\":{\"gridcolor\":\"white\",\"linecolor\":\"white\",\"showgrid\":true,\"ticks\":\"\"}},\"xaxis\":{\"automargin\":true,\"gridcolor\":\"white\",\"linecolor\":\"white\",\"showgrid\":true,\"ticks\":\"\",\"title\":{\"standoff\":15},\"zerolinecolor\":\"white\"},\"yaxis\":{\"automargin\":true,\"gridcolor\":\"white\",\"linecolor\":\"white\",\"showgrid\":true,\"ticks\":\"\",\"title\":{\"standoff\":15},\"zerolinecolor\":\"white\"}}},\"title\":{\"text\":\"Job offers matching with resume\"},\"width\":1200,\"xaxis\":{\"anchor\":\"y\",\"domain\":[0.0,1.0],\"title\":{\"text\":\"job position\"}},\"yaxis\":{\"anchor\":\"x\",\"domain\":[0.0,1.0],\"title\":{\"text\":\"Matching %\"}}},                        {\"responsive\": true}                    ).then(function(){\n",
       "                            \n",
       "var gd = document.getElementById('665d171c-d54c-464e-a005-3161faca3cb3');\n",
       "var x = new MutationObserver(function (mutations, observer) {{\n",
       "        var display = window.getComputedStyle(gd).display;\n",
       "        if (!display || display === 'none') {{\n",
       "            console.log([gd, 'removed!']);\n",
       "            Plotly.purge(gd);\n",
       "            observer.disconnect();\n",
       "        }}\n",
       "}});\n",
       "\n",
       "// Listen for the removal of the full notebook cells\n",
       "var notebookContainer = gd.closest('#notebook-container');\n",
       "if (notebookContainer) {{\n",
       "    x.observe(notebookContainer, {childList: true});\n",
       "}}\n",
       "\n",
       "// Listen for the clearing of the current output cell\n",
       "var outputEl = gd.closest('.output');\n",
       "if (outputEl) {{\n",
       "    x.observe(outputEl, {childList: true});\n",
       "}}\n",
       "\n",
       "                        })                };                });            </script>        </div>"
      ]
     },
     "metadata": {},
     "output_type": "display_data"
    }
   ],
   "source": [
    "pct_list = match_skills(JD_set, skill_list, data)\n",
    "pct_list"
   ]
  },
  {
   "cell_type": "code",
   "execution_count": null,
   "id": "f2123a1a-7fbf-46c8-93f1-42903ecd7d15",
   "metadata": {},
   "outputs": [],
   "source": [
    "pct_list = []\n",
    "    \n",
    "#JD_set = list(filter(None, JD_set))\n",
    "\n",
    "for i in range(0, len(JD_set)):\n",
    "    if len(JD_set[i]) == 0:\n",
    "        continue\n",
    "    else:\n",
    "        #match = set(cv_set) & JD_set[i] \n",
    "        #print(match)\n",
    "        qu = len(set(cv_set) & JD_set[i])\n",
    "        di = len(JD_set[i])\n",
    "        pct_match = round((qu/di) * 100, 2)\n",
    "        pct_list.append([i, pct_match])\n",
    "            \n",
    "#pct_list.sort(key=lambda x: x[1], reverse = True)\n",
    "new_pct = sorted(pct_list, key=lambda x: x[1], reverse = True)\n",
    "#pct_list = pct_list[0:10]\n",
    "new_pct = [x for x in new_pct if int(x[0]) > 0] or None\n",
    "new_pct"
   ]
  },
  {
   "cell_type": "code",
   "execution_count": 413,
   "id": "f23e95e6-15b8-4610-b5f8-388992ca95f4",
   "metadata": {},
   "outputs": [
    {
     "name": "stdout",
     "output_type": "stream",
     "text": [
      "100 Job as Applied Physicist (trigger development) (EP-CMG-OS-2021-120-LD) in Sector physicist has a 50.0% match\n",
      "387 Job as Process Chemist in Sector process chemist has a 50.0% match\n",
      "388 Job as Process Chemist in Sector process chemist has a 50.0% match\n",
      "802 Job as Mathematician/Natural Scientist (m/f/d) for Management Consulting in Sector mathematician has a 50.0% match\n",
      "803 Job as Theoretical physicist / Applied Mathematician (80-100%) in Sector mathematician has a 50.0% match\n",
      "805 Job as Theoretical physicist / Applied Mathematician (80-100%) in Sector mathematician has a 50.0% match\n",
      "806 Job as Game Mathematician (Quickspin) in Sector mathematician has a 50.0% match\n",
      "811 Job as Computer scientist, mathematician, physicist or engineer or similar in Sector mathematician has a 50.0% match\n",
      "815 Job as Computer scientist, mathematician, physicist, engineer or similar (f/m/x) in Sector mathematician has a 50.0% match\n"
     ]
    },
    {
     "data": {
      "application/vnd.plotly.v1+json": {
       "config": {
        "plotlyServerURL": "https://plot.ly"
       },
       "data": [
        {
         "alignmentgroup": "True",
         "hovertemplate": "job position=%{x}<br>Matching %=%{y}<br>color=%{marker.color}<extra></extra>",
         "legendgroup": "",
         "marker": {
          "color": [
           50,
           50,
           50,
           50,
           50,
           50,
           50,
           50,
           50
          ],
          "coloraxis": "coloraxis",
          "pattern": {
           "shape": ""
          }
         },
         "name": "",
         "offsetgroup": "",
         "orientation": "v",
         "showlegend": false,
         "textposition": "auto",
         "type": "bar",
         "x": [
          "Applied Physicist (trigger development) (EP-CMG-OS-2021-120-LD)",
          "Process Chemist",
          "Process Chemist388",
          "Mathematician/Natural Scientist (m/f/d) for Management Consulting",
          "Theoretical physicist / Applied Mathematician (80-100%)",
          "Theoretical physicist / Applied Mathematician (80-100%)805",
          "Game Mathematician (Quickspin)",
          "Computer scientist, mathematician, physicist or engineer or similar",
          "Computer scientist, mathematician, physicist, engineer or similar (f/m/x)"
         ],
         "xaxis": "x",
         "y": [
          50,
          50,
          50,
          50,
          50,
          50,
          50,
          50,
          50
         ],
         "yaxis": "y"
        }
       ],
       "layout": {
        "barmode": "relative",
        "coloraxis": {
         "colorbar": {
          "title": {
           "text": "color"
          }
         },
         "colorscale": [
          [
           0,
           "rgb(2,4,25)"
          ],
          [
           0.0625,
           "rgb(24,15,41)"
          ],
          [
           0.125,
           "rgb(47,23,57)"
          ],
          [
           0.1875,
           "rgb(71,28,72)"
          ],
          [
           0.25,
           "rgb(97,30,82)"
          ],
          [
           0.3125,
           "rgb(123,30,89)"
          ],
          [
           0.375,
           "rgb(150,27,91)"
          ],
          [
           0.4375,
           "rgb(177,22,88)"
          ],
          [
           0.5,
           "rgb(203,26,79)"
          ],
          [
           0.5625,
           "rgb(223,47,67)"
          ],
          [
           0.625,
           "rgb(236,76,61)"
          ],
          [
           0.6875,
           "rgb(242,107,73)"
          ],
          [
           0.75,
           "rgb(244,135,95)"
          ],
          [
           0.8125,
           "rgb(245,162,122)"
          ],
          [
           0.875,
           "rgb(246,188,153)"
          ],
          [
           0.9375,
           "rgb(247,212,187)"
          ],
          [
           1,
           "rgb(250,234,220)"
          ]
         ]
        },
        "height": 800,
        "legend": {
         "tracegroupgap": 0
        },
        "paper_bgcolor": "lightblue",
        "template": {
         "data": {
          "bar": [
           {
            "error_x": {
             "color": "rgb(36,36,36)"
            },
            "error_y": {
             "color": "rgb(36,36,36)"
            },
            "marker": {
             "line": {
              "color": "rgb(234,234,242)",
              "width": 0.5
             },
             "pattern": {
              "fillmode": "overlay",
              "size": 10,
              "solidity": 0.2
             }
            },
            "type": "bar"
           }
          ],
          "barpolar": [
           {
            "marker": {
             "line": {
              "color": "rgb(234,234,242)",
              "width": 0.5
             },
             "pattern": {
              "fillmode": "overlay",
              "size": 10,
              "solidity": 0.2
             }
            },
            "type": "barpolar"
           }
          ],
          "carpet": [
           {
            "aaxis": {
             "endlinecolor": "rgb(36,36,36)",
             "gridcolor": "white",
             "linecolor": "white",
             "minorgridcolor": "white",
             "startlinecolor": "rgb(36,36,36)"
            },
            "baxis": {
             "endlinecolor": "rgb(36,36,36)",
             "gridcolor": "white",
             "linecolor": "white",
             "minorgridcolor": "white",
             "startlinecolor": "rgb(36,36,36)"
            },
            "type": "carpet"
           }
          ],
          "choropleth": [
           {
            "colorbar": {
             "outlinewidth": 0,
             "tickcolor": "rgb(36,36,36)",
             "ticklen": 8,
             "ticks": "outside",
             "tickwidth": 2
            },
            "type": "choropleth"
           }
          ],
          "contour": [
           {
            "colorbar": {
             "outlinewidth": 0,
             "tickcolor": "rgb(36,36,36)",
             "ticklen": 8,
             "ticks": "outside",
             "tickwidth": 2
            },
            "colorscale": [
             [
              0,
              "rgb(2,4,25)"
             ],
             [
              0.06274509803921569,
              "rgb(24,15,41)"
             ],
             [
              0.12549019607843137,
              "rgb(47,23,57)"
             ],
             [
              0.18823529411764706,
              "rgb(71,28,72)"
             ],
             [
              0.25098039215686274,
              "rgb(97,30,82)"
             ],
             [
              0.3137254901960784,
              "rgb(123,30,89)"
             ],
             [
              0.3764705882352941,
              "rgb(150,27,91)"
             ],
             [
              0.4392156862745098,
              "rgb(177,22,88)"
             ],
             [
              0.5019607843137255,
              "rgb(203,26,79)"
             ],
             [
              0.5647058823529412,
              "rgb(223,47,67)"
             ],
             [
              0.6274509803921569,
              "rgb(236,76,61)"
             ],
             [
              0.6901960784313725,
              "rgb(242,107,73)"
             ],
             [
              0.7529411764705882,
              "rgb(244,135,95)"
             ],
             [
              0.8156862745098039,
              "rgb(245,162,122)"
             ],
             [
              0.8784313725490196,
              "rgb(246,188,153)"
             ],
             [
              0.9411764705882353,
              "rgb(247,212,187)"
             ],
             [
              1,
              "rgb(250,234,220)"
             ]
            ],
            "type": "contour"
           }
          ],
          "contourcarpet": [
           {
            "colorbar": {
             "outlinewidth": 0,
             "tickcolor": "rgb(36,36,36)",
             "ticklen": 8,
             "ticks": "outside",
             "tickwidth": 2
            },
            "type": "contourcarpet"
           }
          ],
          "heatmap": [
           {
            "colorbar": {
             "outlinewidth": 0,
             "tickcolor": "rgb(36,36,36)",
             "ticklen": 8,
             "ticks": "outside",
             "tickwidth": 2
            },
            "colorscale": [
             [
              0,
              "rgb(2,4,25)"
             ],
             [
              0.06274509803921569,
              "rgb(24,15,41)"
             ],
             [
              0.12549019607843137,
              "rgb(47,23,57)"
             ],
             [
              0.18823529411764706,
              "rgb(71,28,72)"
             ],
             [
              0.25098039215686274,
              "rgb(97,30,82)"
             ],
             [
              0.3137254901960784,
              "rgb(123,30,89)"
             ],
             [
              0.3764705882352941,
              "rgb(150,27,91)"
             ],
             [
              0.4392156862745098,
              "rgb(177,22,88)"
             ],
             [
              0.5019607843137255,
              "rgb(203,26,79)"
             ],
             [
              0.5647058823529412,
              "rgb(223,47,67)"
             ],
             [
              0.6274509803921569,
              "rgb(236,76,61)"
             ],
             [
              0.6901960784313725,
              "rgb(242,107,73)"
             ],
             [
              0.7529411764705882,
              "rgb(244,135,95)"
             ],
             [
              0.8156862745098039,
              "rgb(245,162,122)"
             ],
             [
              0.8784313725490196,
              "rgb(246,188,153)"
             ],
             [
              0.9411764705882353,
              "rgb(247,212,187)"
             ],
             [
              1,
              "rgb(250,234,220)"
             ]
            ],
            "type": "heatmap"
           }
          ],
          "heatmapgl": [
           {
            "colorbar": {
             "outlinewidth": 0,
             "tickcolor": "rgb(36,36,36)",
             "ticklen": 8,
             "ticks": "outside",
             "tickwidth": 2
            },
            "colorscale": [
             [
              0,
              "rgb(2,4,25)"
             ],
             [
              0.06274509803921569,
              "rgb(24,15,41)"
             ],
             [
              0.12549019607843137,
              "rgb(47,23,57)"
             ],
             [
              0.18823529411764706,
              "rgb(71,28,72)"
             ],
             [
              0.25098039215686274,
              "rgb(97,30,82)"
             ],
             [
              0.3137254901960784,
              "rgb(123,30,89)"
             ],
             [
              0.3764705882352941,
              "rgb(150,27,91)"
             ],
             [
              0.4392156862745098,
              "rgb(177,22,88)"
             ],
             [
              0.5019607843137255,
              "rgb(203,26,79)"
             ],
             [
              0.5647058823529412,
              "rgb(223,47,67)"
             ],
             [
              0.6274509803921569,
              "rgb(236,76,61)"
             ],
             [
              0.6901960784313725,
              "rgb(242,107,73)"
             ],
             [
              0.7529411764705882,
              "rgb(244,135,95)"
             ],
             [
              0.8156862745098039,
              "rgb(245,162,122)"
             ],
             [
              0.8784313725490196,
              "rgb(246,188,153)"
             ],
             [
              0.9411764705882353,
              "rgb(247,212,187)"
             ],
             [
              1,
              "rgb(250,234,220)"
             ]
            ],
            "type": "heatmapgl"
           }
          ],
          "histogram": [
           {
            "marker": {
             "pattern": {
              "fillmode": "overlay",
              "size": 10,
              "solidity": 0.2
             }
            },
            "type": "histogram"
           }
          ],
          "histogram2d": [
           {
            "colorbar": {
             "outlinewidth": 0,
             "tickcolor": "rgb(36,36,36)",
             "ticklen": 8,
             "ticks": "outside",
             "tickwidth": 2
            },
            "colorscale": [
             [
              0,
              "rgb(2,4,25)"
             ],
             [
              0.06274509803921569,
              "rgb(24,15,41)"
             ],
             [
              0.12549019607843137,
              "rgb(47,23,57)"
             ],
             [
              0.18823529411764706,
              "rgb(71,28,72)"
             ],
             [
              0.25098039215686274,
              "rgb(97,30,82)"
             ],
             [
              0.3137254901960784,
              "rgb(123,30,89)"
             ],
             [
              0.3764705882352941,
              "rgb(150,27,91)"
             ],
             [
              0.4392156862745098,
              "rgb(177,22,88)"
             ],
             [
              0.5019607843137255,
              "rgb(203,26,79)"
             ],
             [
              0.5647058823529412,
              "rgb(223,47,67)"
             ],
             [
              0.6274509803921569,
              "rgb(236,76,61)"
             ],
             [
              0.6901960784313725,
              "rgb(242,107,73)"
             ],
             [
              0.7529411764705882,
              "rgb(244,135,95)"
             ],
             [
              0.8156862745098039,
              "rgb(245,162,122)"
             ],
             [
              0.8784313725490196,
              "rgb(246,188,153)"
             ],
             [
              0.9411764705882353,
              "rgb(247,212,187)"
             ],
             [
              1,
              "rgb(250,234,220)"
             ]
            ],
            "type": "histogram2d"
           }
          ],
          "histogram2dcontour": [
           {
            "colorbar": {
             "outlinewidth": 0,
             "tickcolor": "rgb(36,36,36)",
             "ticklen": 8,
             "ticks": "outside",
             "tickwidth": 2
            },
            "colorscale": [
             [
              0,
              "rgb(2,4,25)"
             ],
             [
              0.06274509803921569,
              "rgb(24,15,41)"
             ],
             [
              0.12549019607843137,
              "rgb(47,23,57)"
             ],
             [
              0.18823529411764706,
              "rgb(71,28,72)"
             ],
             [
              0.25098039215686274,
              "rgb(97,30,82)"
             ],
             [
              0.3137254901960784,
              "rgb(123,30,89)"
             ],
             [
              0.3764705882352941,
              "rgb(150,27,91)"
             ],
             [
              0.4392156862745098,
              "rgb(177,22,88)"
             ],
             [
              0.5019607843137255,
              "rgb(203,26,79)"
             ],
             [
              0.5647058823529412,
              "rgb(223,47,67)"
             ],
             [
              0.6274509803921569,
              "rgb(236,76,61)"
             ],
             [
              0.6901960784313725,
              "rgb(242,107,73)"
             ],
             [
              0.7529411764705882,
              "rgb(244,135,95)"
             ],
             [
              0.8156862745098039,
              "rgb(245,162,122)"
             ],
             [
              0.8784313725490196,
              "rgb(246,188,153)"
             ],
             [
              0.9411764705882353,
              "rgb(247,212,187)"
             ],
             [
              1,
              "rgb(250,234,220)"
             ]
            ],
            "type": "histogram2dcontour"
           }
          ],
          "mesh3d": [
           {
            "colorbar": {
             "outlinewidth": 0,
             "tickcolor": "rgb(36,36,36)",
             "ticklen": 8,
             "ticks": "outside",
             "tickwidth": 2
            },
            "type": "mesh3d"
           }
          ],
          "parcoords": [
           {
            "line": {
             "colorbar": {
              "outlinewidth": 0,
              "tickcolor": "rgb(36,36,36)",
              "ticklen": 8,
              "ticks": "outside",
              "tickwidth": 2
             }
            },
            "type": "parcoords"
           }
          ],
          "pie": [
           {
            "automargin": true,
            "type": "pie"
           }
          ],
          "scatter": [
           {
            "marker": {
             "colorbar": {
              "outlinewidth": 0,
              "tickcolor": "rgb(36,36,36)",
              "ticklen": 8,
              "ticks": "outside",
              "tickwidth": 2
             }
            },
            "type": "scatter"
           }
          ],
          "scatter3d": [
           {
            "line": {
             "colorbar": {
              "outlinewidth": 0,
              "tickcolor": "rgb(36,36,36)",
              "ticklen": 8,
              "ticks": "outside",
              "tickwidth": 2
             }
            },
            "marker": {
             "colorbar": {
              "outlinewidth": 0,
              "tickcolor": "rgb(36,36,36)",
              "ticklen": 8,
              "ticks": "outside",
              "tickwidth": 2
             }
            },
            "type": "scatter3d"
           }
          ],
          "scattercarpet": [
           {
            "marker": {
             "colorbar": {
              "outlinewidth": 0,
              "tickcolor": "rgb(36,36,36)",
              "ticklen": 8,
              "ticks": "outside",
              "tickwidth": 2
             }
            },
            "type": "scattercarpet"
           }
          ],
          "scattergeo": [
           {
            "marker": {
             "colorbar": {
              "outlinewidth": 0,
              "tickcolor": "rgb(36,36,36)",
              "ticklen": 8,
              "ticks": "outside",
              "tickwidth": 2
             }
            },
            "type": "scattergeo"
           }
          ],
          "scattergl": [
           {
            "marker": {
             "colorbar": {
              "outlinewidth": 0,
              "tickcolor": "rgb(36,36,36)",
              "ticklen": 8,
              "ticks": "outside",
              "tickwidth": 2
             }
            },
            "type": "scattergl"
           }
          ],
          "scattermapbox": [
           {
            "marker": {
             "colorbar": {
              "outlinewidth": 0,
              "tickcolor": "rgb(36,36,36)",
              "ticklen": 8,
              "ticks": "outside",
              "tickwidth": 2
             }
            },
            "type": "scattermapbox"
           }
          ],
          "scatterpolar": [
           {
            "marker": {
             "colorbar": {
              "outlinewidth": 0,
              "tickcolor": "rgb(36,36,36)",
              "ticklen": 8,
              "ticks": "outside",
              "tickwidth": 2
             }
            },
            "type": "scatterpolar"
           }
          ],
          "scatterpolargl": [
           {
            "marker": {
             "colorbar": {
              "outlinewidth": 0,
              "tickcolor": "rgb(36,36,36)",
              "ticklen": 8,
              "ticks": "outside",
              "tickwidth": 2
             }
            },
            "type": "scatterpolargl"
           }
          ],
          "scatterternary": [
           {
            "marker": {
             "colorbar": {
              "outlinewidth": 0,
              "tickcolor": "rgb(36,36,36)",
              "ticklen": 8,
              "ticks": "outside",
              "tickwidth": 2
             }
            },
            "type": "scatterternary"
           }
          ],
          "surface": [
           {
            "colorbar": {
             "outlinewidth": 0,
             "tickcolor": "rgb(36,36,36)",
             "ticklen": 8,
             "ticks": "outside",
             "tickwidth": 2
            },
            "colorscale": [
             [
              0,
              "rgb(2,4,25)"
             ],
             [
              0.06274509803921569,
              "rgb(24,15,41)"
             ],
             [
              0.12549019607843137,
              "rgb(47,23,57)"
             ],
             [
              0.18823529411764706,
              "rgb(71,28,72)"
             ],
             [
              0.25098039215686274,
              "rgb(97,30,82)"
             ],
             [
              0.3137254901960784,
              "rgb(123,30,89)"
             ],
             [
              0.3764705882352941,
              "rgb(150,27,91)"
             ],
             [
              0.4392156862745098,
              "rgb(177,22,88)"
             ],
             [
              0.5019607843137255,
              "rgb(203,26,79)"
             ],
             [
              0.5647058823529412,
              "rgb(223,47,67)"
             ],
             [
              0.6274509803921569,
              "rgb(236,76,61)"
             ],
             [
              0.6901960784313725,
              "rgb(242,107,73)"
             ],
             [
              0.7529411764705882,
              "rgb(244,135,95)"
             ],
             [
              0.8156862745098039,
              "rgb(245,162,122)"
             ],
             [
              0.8784313725490196,
              "rgb(246,188,153)"
             ],
             [
              0.9411764705882353,
              "rgb(247,212,187)"
             ],
             [
              1,
              "rgb(250,234,220)"
             ]
            ],
            "type": "surface"
           }
          ],
          "table": [
           {
            "cells": {
             "fill": {
              "color": "rgb(231,231,240)"
             },
             "line": {
              "color": "white"
             }
            },
            "header": {
             "fill": {
              "color": "rgb(183,183,191)"
             },
             "line": {
              "color": "white"
             }
            },
            "type": "table"
           }
          ]
         },
         "layout": {
          "annotationdefaults": {
           "arrowcolor": "rgb(67,103,167)"
          },
          "autotypenumbers": "strict",
          "coloraxis": {
           "colorbar": {
            "outlinewidth": 0,
            "tickcolor": "rgb(36,36,36)",
            "ticklen": 8,
            "ticks": "outside",
            "tickwidth": 2
           }
          },
          "colorscale": {
           "sequential": [
            [
             0,
             "rgb(2,4,25)"
            ],
            [
             0.06274509803921569,
             "rgb(24,15,41)"
            ],
            [
             0.12549019607843137,
             "rgb(47,23,57)"
            ],
            [
             0.18823529411764706,
             "rgb(71,28,72)"
            ],
            [
             0.25098039215686274,
             "rgb(97,30,82)"
            ],
            [
             0.3137254901960784,
             "rgb(123,30,89)"
            ],
            [
             0.3764705882352941,
             "rgb(150,27,91)"
            ],
            [
             0.4392156862745098,
             "rgb(177,22,88)"
            ],
            [
             0.5019607843137255,
             "rgb(203,26,79)"
            ],
            [
             0.5647058823529412,
             "rgb(223,47,67)"
            ],
            [
             0.6274509803921569,
             "rgb(236,76,61)"
            ],
            [
             0.6901960784313725,
             "rgb(242,107,73)"
            ],
            [
             0.7529411764705882,
             "rgb(244,135,95)"
            ],
            [
             0.8156862745098039,
             "rgb(245,162,122)"
            ],
            [
             0.8784313725490196,
             "rgb(246,188,153)"
            ],
            [
             0.9411764705882353,
             "rgb(247,212,187)"
            ],
            [
             1,
             "rgb(250,234,220)"
            ]
           ],
           "sequentialminus": [
            [
             0,
             "rgb(2,4,25)"
            ],
            [
             0.06274509803921569,
             "rgb(24,15,41)"
            ],
            [
             0.12549019607843137,
             "rgb(47,23,57)"
            ],
            [
             0.18823529411764706,
             "rgb(71,28,72)"
            ],
            [
             0.25098039215686274,
             "rgb(97,30,82)"
            ],
            [
             0.3137254901960784,
             "rgb(123,30,89)"
            ],
            [
             0.3764705882352941,
             "rgb(150,27,91)"
            ],
            [
             0.4392156862745098,
             "rgb(177,22,88)"
            ],
            [
             0.5019607843137255,
             "rgb(203,26,79)"
            ],
            [
             0.5647058823529412,
             "rgb(223,47,67)"
            ],
            [
             0.6274509803921569,
             "rgb(236,76,61)"
            ],
            [
             0.6901960784313725,
             "rgb(242,107,73)"
            ],
            [
             0.7529411764705882,
             "rgb(244,135,95)"
            ],
            [
             0.8156862745098039,
             "rgb(245,162,122)"
            ],
            [
             0.8784313725490196,
             "rgb(246,188,153)"
            ],
            [
             0.9411764705882353,
             "rgb(247,212,187)"
            ],
            [
             1,
             "rgb(250,234,220)"
            ]
           ]
          },
          "colorway": [
           "rgb(76,114,176)",
           "rgb(221,132,82)",
           "rgb(85,168,104)",
           "rgb(196,78,82)",
           "rgb(129,114,179)",
           "rgb(147,120,96)",
           "rgb(218,139,195)",
           "rgb(140,140,140)",
           "rgb(204,185,116)",
           "rgb(100,181,205)"
          ],
          "font": {
           "color": "rgb(36,36,36)"
          },
          "geo": {
           "bgcolor": "white",
           "lakecolor": "white",
           "landcolor": "rgb(234,234,242)",
           "showlakes": true,
           "showland": true,
           "subunitcolor": "white"
          },
          "hoverlabel": {
           "align": "left"
          },
          "hovermode": "closest",
          "paper_bgcolor": "white",
          "plot_bgcolor": "rgb(234,234,242)",
          "polar": {
           "angularaxis": {
            "gridcolor": "white",
            "linecolor": "white",
            "showgrid": true,
            "ticks": ""
           },
           "bgcolor": "rgb(234,234,242)",
           "radialaxis": {
            "gridcolor": "white",
            "linecolor": "white",
            "showgrid": true,
            "ticks": ""
           }
          },
          "scene": {
           "xaxis": {
            "backgroundcolor": "rgb(234,234,242)",
            "gridcolor": "white",
            "gridwidth": 2,
            "linecolor": "white",
            "showbackground": true,
            "showgrid": true,
            "ticks": "",
            "zerolinecolor": "white"
           },
           "yaxis": {
            "backgroundcolor": "rgb(234,234,242)",
            "gridcolor": "white",
            "gridwidth": 2,
            "linecolor": "white",
            "showbackground": true,
            "showgrid": true,
            "ticks": "",
            "zerolinecolor": "white"
           },
           "zaxis": {
            "backgroundcolor": "rgb(234,234,242)",
            "gridcolor": "white",
            "gridwidth": 2,
            "linecolor": "white",
            "showbackground": true,
            "showgrid": true,
            "ticks": "",
            "zerolinecolor": "white"
           }
          },
          "shapedefaults": {
           "fillcolor": "rgb(67,103,167)",
           "line": {
            "width": 0
           },
           "opacity": 0.5
          },
          "ternary": {
           "aaxis": {
            "gridcolor": "white",
            "linecolor": "white",
            "showgrid": true,
            "ticks": ""
           },
           "baxis": {
            "gridcolor": "white",
            "linecolor": "white",
            "showgrid": true,
            "ticks": ""
           },
           "bgcolor": "rgb(234,234,242)",
           "caxis": {
            "gridcolor": "white",
            "linecolor": "white",
            "showgrid": true,
            "ticks": ""
           }
          },
          "xaxis": {
           "automargin": true,
           "gridcolor": "white",
           "linecolor": "white",
           "showgrid": true,
           "ticks": "",
           "title": {
            "standoff": 15
           },
           "zerolinecolor": "white"
          },
          "yaxis": {
           "automargin": true,
           "gridcolor": "white",
           "linecolor": "white",
           "showgrid": true,
           "ticks": "",
           "title": {
            "standoff": 15
           },
           "zerolinecolor": "white"
          }
         }
        },
        "title": {
         "text": "Job offers matching with resume"
        },
        "width": 1200,
        "xaxis": {
         "anchor": "y",
         "autorange": true,
         "domain": [
          0,
          1
         ],
         "range": [
          -0.5,
          8.5
         ],
         "title": {
          "text": "job position"
         },
         "type": "category"
        },
        "yaxis": {
         "anchor": "x",
         "autorange": true,
         "domain": [
          0,
          1
         ],
         "range": [
          0,
          52.631578947368425
         ],
         "title": {
          "text": "Matching %"
         },
         "type": "linear"
        }
       }
      },
      "image/png": "[encoded data removed]",
      "text/html": [
       "<div>                            <div id=\"641360ea-3c2d-40bc-b588-7602dd9b3472\" class=\"plotly-graph-div\" style=\"height:800px; width:1200px;\"></div>            <script type=\"text/javascript\">                require([\"plotly\"], function(Plotly) {                    window.PLOTLYENV=window.PLOTLYENV || {};                                    if (document.getElementById(\"641360ea-3c2d-40bc-b588-7602dd9b3472\")) {                    Plotly.newPlot(                        \"641360ea-3c2d-40bc-b588-7602dd9b3472\",                        [{\"alignmentgroup\":\"True\",\"hovertemplate\":\"job position=%{x}<br>Matching %=%{y}<br>color=%{marker.color}<extra></extra>\",\"legendgroup\":\"\",\"marker\":{\"color\":[50.0,50.0,50.0,50.0,50.0,50.0,50.0,50.0,50.0],\"coloraxis\":\"coloraxis\",\"pattern\":{\"shape\":\"\"}},\"name\":\"\",\"offsetgroup\":\"\",\"orientation\":\"v\",\"showlegend\":false,\"textposition\":\"auto\",\"type\":\"bar\",\"x\":[\"Applied Physicist (trigger development) (EP-CMG-OS-2021-120-LD)\",\"Process Chemist\",\"Process Chemist388\",\"Mathematician/Natural Scientist (m/f/d) for Management Consulting\",\"Theoretical physicist / Applied Mathematician (80-100%)\",\"Theoretical physicist / Applied Mathematician (80-100%)805\",\"Game Mathematician (Quickspin)\",\"Computer scientist, mathematician, physicist or engineer or similar\",\"Computer scientist, mathematician, physicist, engineer or similar (f/m/x)\"],\"xaxis\":\"x\",\"y\":[50.0,50.0,50.0,50.0,50.0,50.0,50.0,50.0,50.0],\"yaxis\":\"y\"}],                        {\"barmode\":\"relative\",\"coloraxis\":{\"colorbar\":{\"title\":{\"text\":\"color\"}},\"colorscale\":[[0.0,\"rgb(2,4,25)\"],[0.0625,\"rgb(24,15,41)\"],[0.125,\"rgb(47,23,57)\"],[0.1875,\"rgb(71,28,72)\"],[0.25,\"rgb(97,30,82)\"],[0.3125,\"rgb(123,30,89)\"],[0.375,\"rgb(150,27,91)\"],[0.4375,\"rgb(177,22,88)\"],[0.5,\"rgb(203,26,79)\"],[0.5625,\"rgb(223,47,67)\"],[0.625,\"rgb(236,76,61)\"],[0.6875,\"rgb(242,107,73)\"],[0.75,\"rgb(244,135,95)\"],[0.8125,\"rgb(245,162,122)\"],[0.875,\"rgb(246,188,153)\"],[0.9375,\"rgb(247,212,187)\"],[1.0,\"rgb(250,234,220)\"]]},\"height\":800,\"legend\":{\"tracegroupgap\":0},\"paper_bgcolor\":\"lightblue\",\"template\":{\"data\":{\"bar\":[{\"error_x\":{\"color\":\"rgb(36,36,36)\"},\"error_y\":{\"color\":\"rgb(36,36,36)\"},\"marker\":{\"line\":{\"color\":\"rgb(234,234,242)\",\"width\":0.5},\"pattern\":{\"fillmode\":\"overlay\",\"size\":10,\"solidity\":0.2}},\"type\":\"bar\"}],\"barpolar\":[{\"marker\":{\"line\":{\"color\":\"rgb(234,234,242)\",\"width\":0.5},\"pattern\":{\"fillmode\":\"overlay\",\"size\":10,\"solidity\":0.2}},\"type\":\"barpolar\"}],\"carpet\":[{\"aaxis\":{\"endlinecolor\":\"rgb(36,36,36)\",\"gridcolor\":\"white\",\"linecolor\":\"white\",\"minorgridcolor\":\"white\",\"startlinecolor\":\"rgb(36,36,36)\"},\"baxis\":{\"endlinecolor\":\"rgb(36,36,36)\",\"gridcolor\":\"white\",\"linecolor\":\"white\",\"minorgridcolor\":\"white\",\"startlinecolor\":\"rgb(36,36,36)\"},\"type\":\"carpet\"}],\"choropleth\":[{\"colorbar\":{\"outlinewidth\":0,\"tickcolor\":\"rgb(36,36,36)\",\"ticklen\":8,\"ticks\":\"outside\",\"tickwidth\":2},\"type\":\"choropleth\"}],\"contour\":[{\"colorbar\":{\"outlinewidth\":0,\"tickcolor\":\"rgb(36,36,36)\",\"ticklen\":8,\"ticks\":\"outside\",\"tickwidth\":2},\"colorscale\":[[0.0,\"rgb(2,4,25)\"],[0.06274509803921569,\"rgb(24,15,41)\"],[0.12549019607843137,\"rgb(47,23,57)\"],[0.18823529411764706,\"rgb(71,28,72)\"],[0.25098039215686274,\"rgb(97,30,82)\"],[0.3137254901960784,\"rgb(123,30,89)\"],[0.3764705882352941,\"rgb(150,27,91)\"],[0.4392156862745098,\"rgb(177,22,88)\"],[0.5019607843137255,\"rgb(203,26,79)\"],[0.5647058823529412,\"rgb(223,47,67)\"],[0.6274509803921569,\"rgb(236,76,61)\"],[0.6901960784313725,\"rgb(242,107,73)\"],[0.7529411764705882,\"rgb(244,135,95)\"],[0.8156862745098039,\"rgb(245,162,122)\"],[0.8784313725490196,\"rgb(246,188,153)\"],[0.9411764705882353,\"rgb(247,212,187)\"],[1.0,\"rgb(250,234,220)\"]],\"type\":\"contour\"}],\"contourcarpet\":[{\"colorbar\":{\"outlinewidth\":0,\"tickcolor\":\"rgb(36,36,36)\",\"ticklen\":8,\"ticks\":\"outside\",\"tickwidth\":2},\"type\":\"contourcarpet\"}],\"heatmap\":[{\"colorbar\":{\"outlinewidth\":0,\"tickcolor\":\"rgb(36,36,36)\",\"ticklen\":8,\"ticks\":\"outside\",\"tickwidth\":2},\"colorscale\":[[0.0,\"rgb(2,4,25)\"],[0.06274509803921569,\"rgb(24,15,41)\"],[0.12549019607843137,\"rgb(47,23,57)\"],[0.18823529411764706,\"rgb(71,28,72)\"],[0.25098039215686274,\"rgb(97,30,82)\"],[0.3137254901960784,\"rgb(123,30,89)\"],[0.3764705882352941,\"rgb(150,27,91)\"],[0.4392156862745098,\"rgb(177,22,88)\"],[0.5019607843137255,\"rgb(203,26,79)\"],[0.5647058823529412,\"rgb(223,47,67)\"],[0.6274509803921569,\"rgb(236,76,61)\"],[0.6901960784313725,\"rgb(242,107,73)\"],[0.7529411764705882,\"rgb(244,135,95)\"],[0.8156862745098039,\"rgb(245,162,122)\"],[0.8784313725490196,\"rgb(246,188,153)\"],[0.9411764705882353,\"rgb(247,212,187)\"],[1.0,\"rgb(250,234,220)\"]],\"type\":\"heatmap\"}],\"heatmapgl\":[{\"colorbar\":{\"outlinewidth\":0,\"tickcolor\":\"rgb(36,36,36)\",\"ticklen\":8,\"ticks\":\"outside\",\"tickwidth\":2},\"colorscale\":[[0.0,\"rgb(2,4,25)\"],[0.06274509803921569,\"rgb(24,15,41)\"],[0.12549019607843137,\"rgb(47,23,57)\"],[0.18823529411764706,\"rgb(71,28,72)\"],[0.25098039215686274,\"rgb(97,30,82)\"],[0.3137254901960784,\"rgb(123,30,89)\"],[0.3764705882352941,\"rgb(150,27,91)\"],[0.4392156862745098,\"rgb(177,22,88)\"],[0.5019607843137255,\"rgb(203,26,79)\"],[0.5647058823529412,\"rgb(223,47,67)\"],[0.6274509803921569,\"rgb(236,76,61)\"],[0.6901960784313725,\"rgb(242,107,73)\"],[0.7529411764705882,\"rgb(244,135,95)\"],[0.8156862745098039,\"rgb(245,162,122)\"],[0.8784313725490196,\"rgb(246,188,153)\"],[0.9411764705882353,\"rgb(247,212,187)\"],[1.0,\"rgb(250,234,220)\"]],\"type\":\"heatmapgl\"}],\"histogram\":[{\"marker\":{\"pattern\":{\"fillmode\":\"overlay\",\"size\":10,\"solidity\":0.2}},\"type\":\"histogram\"}],\"histogram2d\":[{\"colorbar\":{\"outlinewidth\":0,\"tickcolor\":\"rgb(36,36,36)\",\"ticklen\":8,\"ticks\":\"outside\",\"tickwidth\":2},\"colorscale\":[[0.0,\"rgb(2,4,25)\"],[0.06274509803921569,\"rgb(24,15,41)\"],[0.12549019607843137,\"rgb(47,23,57)\"],[0.18823529411764706,\"rgb(71,28,72)\"],[0.25098039215686274,\"rgb(97,30,82)\"],[0.3137254901960784,\"rgb(123,30,89)\"],[0.3764705882352941,\"rgb(150,27,91)\"],[0.4392156862745098,\"rgb(177,22,88)\"],[0.5019607843137255,\"rgb(203,26,79)\"],[0.5647058823529412,\"rgb(223,47,67)\"],[0.6274509803921569,\"rgb(236,76,61)\"],[0.6901960784313725,\"rgb(242,107,73)\"],[0.7529411764705882,\"rgb(244,135,95)\"],[0.8156862745098039,\"rgb(245,162,122)\"],[0.8784313725490196,\"rgb(246,188,153)\"],[0.9411764705882353,\"rgb(247,212,187)\"],[1.0,\"rgb(250,234,220)\"]],\"type\":\"histogram2d\"}],\"histogram2dcontour\":[{\"colorbar\":{\"outlinewidth\":0,\"tickcolor\":\"rgb(36,36,36)\",\"ticklen\":8,\"ticks\":\"outside\",\"tickwidth\":2},\"colorscale\":[[0.0,\"rgb(2,4,25)\"],[0.06274509803921569,\"rgb(24,15,41)\"],[0.12549019607843137,\"rgb(47,23,57)\"],[0.18823529411764706,\"rgb(71,28,72)\"],[0.25098039215686274,\"rgb(97,30,82)\"],[0.3137254901960784,\"rgb(123,30,89)\"],[0.3764705882352941,\"rgb(150,27,91)\"],[0.4392156862745098,\"rgb(177,22,88)\"],[0.5019607843137255,\"rgb(203,26,79)\"],[0.5647058823529412,\"rgb(223,47,67)\"],[0.6274509803921569,\"rgb(236,76,61)\"],[0.6901960784313725,\"rgb(242,107,73)\"],[0.7529411764705882,\"rgb(244,135,95)\"],[0.8156862745098039,\"rgb(245,162,122)\"],[0.8784313725490196,\"rgb(246,188,153)\"],[0.9411764705882353,\"rgb(247,212,187)\"],[1.0,\"rgb(250,234,220)\"]],\"type\":\"histogram2dcontour\"}],\"mesh3d\":[{\"colorbar\":{\"outlinewidth\":0,\"tickcolor\":\"rgb(36,36,36)\",\"ticklen\":8,\"ticks\":\"outside\",\"tickwidth\":2},\"type\":\"mesh3d\"}],\"parcoords\":[{\"line\":{\"colorbar\":{\"outlinewidth\":0,\"tickcolor\":\"rgb(36,36,36)\",\"ticklen\":8,\"ticks\":\"outside\",\"tickwidth\":2}},\"type\":\"parcoords\"}],\"pie\":[{\"automargin\":true,\"type\":\"pie\"}],\"scatter\":[{\"marker\":{\"colorbar\":{\"outlinewidth\":0,\"tickcolor\":\"rgb(36,36,36)\",\"ticklen\":8,\"ticks\":\"outside\",\"tickwidth\":2}},\"type\":\"scatter\"}],\"scatter3d\":[{\"line\":{\"colorbar\":{\"outlinewidth\":0,\"tickcolor\":\"rgb(36,36,36)\",\"ticklen\":8,\"ticks\":\"outside\",\"tickwidth\":2}},\"marker\":{\"colorbar\":{\"outlinewidth\":0,\"tickcolor\":\"rgb(36,36,36)\",\"ticklen\":8,\"ticks\":\"outside\",\"tickwidth\":2}},\"type\":\"scatter3d\"}],\"scattercarpet\":[{\"marker\":{\"colorbar\":{\"outlinewidth\":0,\"tickcolor\":\"rgb(36,36,36)\",\"ticklen\":8,\"ticks\":\"outside\",\"tickwidth\":2}},\"type\":\"scattercarpet\"}],\"scattergeo\":[{\"marker\":{\"colorbar\":{\"outlinewidth\":0,\"tickcolor\":\"rgb(36,36,36)\",\"ticklen\":8,\"ticks\":\"outside\",\"tickwidth\":2}},\"type\":\"scattergeo\"}],\"scattergl\":[{\"marker\":{\"colorbar\":{\"outlinewidth\":0,\"tickcolor\":\"rgb(36,36,36)\",\"ticklen\":8,\"ticks\":\"outside\",\"tickwidth\":2}},\"type\":\"scattergl\"}],\"scattermapbox\":[{\"marker\":{\"colorbar\":{\"outlinewidth\":0,\"tickcolor\":\"rgb(36,36,36)\",\"ticklen\":8,\"ticks\":\"outside\",\"tickwidth\":2}},\"type\":\"scattermapbox\"}],\"scatterpolar\":[{\"marker\":{\"colorbar\":{\"outlinewidth\":0,\"tickcolor\":\"rgb(36,36,36)\",\"ticklen\":8,\"ticks\":\"outside\",\"tickwidth\":2}},\"type\":\"scatterpolar\"}],\"scatterpolargl\":[{\"marker\":{\"colorbar\":{\"outlinewidth\":0,\"tickcolor\":\"rgb(36,36,36)\",\"ticklen\":8,\"ticks\":\"outside\",\"tickwidth\":2}},\"type\":\"scatterpolargl\"}],\"scatterternary\":[{\"marker\":{\"colorbar\":{\"outlinewidth\":0,\"tickcolor\":\"rgb(36,36,36)\",\"ticklen\":8,\"ticks\":\"outside\",\"tickwidth\":2}},\"type\":\"scatterternary\"}],\"surface\":[{\"colorbar\":{\"outlinewidth\":0,\"tickcolor\":\"rgb(36,36,36)\",\"ticklen\":8,\"ticks\":\"outside\",\"tickwidth\":2},\"colorscale\":[[0.0,\"rgb(2,4,25)\"],[0.06274509803921569,\"rgb(24,15,41)\"],[0.12549019607843137,\"rgb(47,23,57)\"],[0.18823529411764706,\"rgb(71,28,72)\"],[0.25098039215686274,\"rgb(97,30,82)\"],[0.3137254901960784,\"rgb(123,30,89)\"],[0.3764705882352941,\"rgb(150,27,91)\"],[0.4392156862745098,\"rgb(177,22,88)\"],[0.5019607843137255,\"rgb(203,26,79)\"],[0.5647058823529412,\"rgb(223,47,67)\"],[0.6274509803921569,\"rgb(236,76,61)\"],[0.6901960784313725,\"rgb(242,107,73)\"],[0.7529411764705882,\"rgb(244,135,95)\"],[0.8156862745098039,\"rgb(245,162,122)\"],[0.8784313725490196,\"rgb(246,188,153)\"],[0.9411764705882353,\"rgb(247,212,187)\"],[1.0,\"rgb(250,234,220)\"]],\"type\":\"surface\"}],\"table\":[{\"cells\":{\"fill\":{\"color\":\"rgb(231,231,240)\"},\"line\":{\"color\":\"white\"}},\"header\":{\"fill\":{\"color\":\"rgb(183,183,191)\"},\"line\":{\"color\":\"white\"}},\"type\":\"table\"}]},\"layout\":{\"annotationdefaults\":{\"arrowcolor\":\"rgb(67,103,167)\"},\"autotypenumbers\":\"strict\",\"coloraxis\":{\"colorbar\":{\"outlinewidth\":0,\"tickcolor\":\"rgb(36,36,36)\",\"ticklen\":8,\"ticks\":\"outside\",\"tickwidth\":2}},\"colorscale\":{\"sequential\":[[0.0,\"rgb(2,4,25)\"],[0.06274509803921569,\"rgb(24,15,41)\"],[0.12549019607843137,\"rgb(47,23,57)\"],[0.18823529411764706,\"rgb(71,28,72)\"],[0.25098039215686274,\"rgb(97,30,82)\"],[0.3137254901960784,\"rgb(123,30,89)\"],[0.3764705882352941,\"rgb(150,27,91)\"],[0.4392156862745098,\"rgb(177,22,88)\"],[0.5019607843137255,\"rgb(203,26,79)\"],[0.5647058823529412,\"rgb(223,47,67)\"],[0.6274509803921569,\"rgb(236,76,61)\"],[0.6901960784313725,\"rgb(242,107,73)\"],[0.7529411764705882,\"rgb(244,135,95)\"],[0.8156862745098039,\"rgb(245,162,122)\"],[0.8784313725490196,\"rgb(246,188,153)\"],[0.9411764705882353,\"rgb(247,212,187)\"],[1.0,\"rgb(250,234,220)\"]],\"sequentialminus\":[[0.0,\"rgb(2,4,25)\"],[0.06274509803921569,\"rgb(24,15,41)\"],[0.12549019607843137,\"rgb(47,23,57)\"],[0.18823529411764706,\"rgb(71,28,72)\"],[0.25098039215686274,\"rgb(97,30,82)\"],[0.3137254901960784,\"rgb(123,30,89)\"],[0.3764705882352941,\"rgb(150,27,91)\"],[0.4392156862745098,\"rgb(177,22,88)\"],[0.5019607843137255,\"rgb(203,26,79)\"],[0.5647058823529412,\"rgb(223,47,67)\"],[0.6274509803921569,\"rgb(236,76,61)\"],[0.6901960784313725,\"rgb(242,107,73)\"],[0.7529411764705882,\"rgb(244,135,95)\"],[0.8156862745098039,\"rgb(245,162,122)\"],[0.8784313725490196,\"rgb(246,188,153)\"],[0.9411764705882353,\"rgb(247,212,187)\"],[1.0,\"rgb(250,234,220)\"]]},\"colorway\":[\"rgb(76,114,176)\",\"rgb(221,132,82)\",\"rgb(85,168,104)\",\"rgb(196,78,82)\",\"rgb(129,114,179)\",\"rgb(147,120,96)\",\"rgb(218,139,195)\",\"rgb(140,140,140)\",\"rgb(204,185,116)\",\"rgb(100,181,205)\"],\"font\":{\"color\":\"rgb(36,36,36)\"},\"geo\":{\"bgcolor\":\"white\",\"lakecolor\":\"white\",\"landcolor\":\"rgb(234,234,242)\",\"showlakes\":true,\"showland\":true,\"subunitcolor\":\"white\"},\"hoverlabel\":{\"align\":\"left\"},\"hovermode\":\"closest\",\"paper_bgcolor\":\"white\",\"plot_bgcolor\":\"rgb(234,234,242)\",\"polar\":{\"angularaxis\":{\"gridcolor\":\"white\",\"linecolor\":\"white\",\"showgrid\":true,\"ticks\":\"\"},\"bgcolor\":\"rgb(234,234,242)\",\"radialaxis\":{\"gridcolor\":\"white\",\"linecolor\":\"white\",\"showgrid\":true,\"ticks\":\"\"}},\"scene\":{\"xaxis\":{\"backgroundcolor\":\"rgb(234,234,242)\",\"gridcolor\":\"white\",\"gridwidth\":2,\"linecolor\":\"white\",\"showbackground\":true,\"showgrid\":true,\"ticks\":\"\",\"zerolinecolor\":\"white\"},\"yaxis\":{\"backgroundcolor\":\"rgb(234,234,242)\",\"gridcolor\":\"white\",\"gridwidth\":2,\"linecolor\":\"white\",\"showbackground\":true,\"showgrid\":true,\"ticks\":\"\",\"zerolinecolor\":\"white\"},\"zaxis\":{\"backgroundcolor\":\"rgb(234,234,242)\",\"gridcolor\":\"white\",\"gridwidth\":2,\"linecolor\":\"white\",\"showbackground\":true,\"showgrid\":true,\"ticks\":\"\",\"zerolinecolor\":\"white\"}},\"shapedefaults\":{\"fillcolor\":\"rgb(67,103,167)\",\"line\":{\"width\":0},\"opacity\":0.5},\"ternary\":{\"aaxis\":{\"gridcolor\":\"white\",\"linecolor\":\"white\",\"showgrid\":true,\"ticks\":\"\"},\"baxis\":{\"gridcolor\":\"white\",\"linecolor\":\"white\",\"showgrid\":true,\"ticks\":\"\"},\"bgcolor\":\"rgb(234,234,242)\",\"caxis\":{\"gridcolor\":\"white\",\"linecolor\":\"white\",\"showgrid\":true,\"ticks\":\"\"}},\"xaxis\":{\"automargin\":true,\"gridcolor\":\"white\",\"linecolor\":\"white\",\"showgrid\":true,\"ticks\":\"\",\"title\":{\"standoff\":15},\"zerolinecolor\":\"white\"},\"yaxis\":{\"automargin\":true,\"gridcolor\":\"white\",\"linecolor\":\"white\",\"showgrid\":true,\"ticks\":\"\",\"title\":{\"standoff\":15},\"zerolinecolor\":\"white\"}}},\"title\":{\"text\":\"Job offers matching with resume\"},\"width\":1200,\"xaxis\":{\"anchor\":\"y\",\"domain\":[0.0,1.0],\"title\":{\"text\":\"job position\"}},\"yaxis\":{\"anchor\":\"x\",\"domain\":[0.0,1.0],\"title\":{\"text\":\"Matching %\"}}},                        {\"responsive\": true}                    ).then(function(){\n",
       "                            \n",
       "var gd = document.getElementById('641360ea-3c2d-40bc-b588-7602dd9b3472');\n",
       "var x = new MutationObserver(function (mutations, observer) {{\n",
       "        var display = window.getComputedStyle(gd).display;\n",
       "        if (!display || display === 'none') {{\n",
       "            console.log([gd, 'removed!']);\n",
       "            Plotly.purge(gd);\n",
       "            observer.disconnect();\n",
       "        }}\n",
       "}});\n",
       "\n",
       "// Listen for the removal of the full notebook cells\n",
       "var notebookContainer = gd.closest('#notebook-container');\n",
       "if (notebookContainer) {{\n",
       "    x.observe(notebookContainer, {childList: true});\n",
       "}}\n",
       "\n",
       "// Listen for the clearing of the current output cell\n",
       "var outputEl = gd.closest('.output');\n",
       "if (outputEl) {{\n",
       "    x.observe(outputEl, {childList: true});\n",
       "}}\n",
       "\n",
       "                        })                };                });            </script>        </div>"
      ]
     },
     "metadata": {},
     "output_type": "display_data"
    }
   ],
   "source": [
    "pct_list = match_skills(JD_set, skill_list, data)\n",
    "pct_list"
   ]
  },
  {
   "cell_type": "code",
   "execution_count": 401,
   "id": "904c2082-9433-4191-8e84-8350d7dd54fd",
   "metadata": {},
   "outputs": [
    {
     "data": {
      "text/plain": [
       "0"
      ]
     },
     "execution_count": 401,
     "metadata": {},
     "output_type": "execute_result"
    }
   ],
   "source": [
    "data.index[0]"
   ]
  },
  {
   "cell_type": "code",
   "execution_count": 404,
   "id": "dfa8d15e-3083-4a91-9bdc-df9a2911664a",
   "metadata": {},
   "outputs": [],
   "source": [
    "def match_skills(JD_set, cv_set, data):\n",
    "    '''Get intersection of resume skills and job offer skills and return match percentage'''\n",
    "    pct_list = []\n",
    "    JD_set = data[\"SKILL\"].apply(set)\n",
    "    \n",
    "    #JD_set = list(filter(None, JD_set))\n",
    "    if len(cv_set) < 2:\n",
    "        print('could not extract skills from resume text')   \n",
    "    else:\n",
    "        #implement function comparing with a list of job_descriptions\n",
    "        for i in range(0, len(JD_set)):\n",
    "            if len(JD_set) == 0:\n",
    "                continue\n",
    "            match = set(cv_set) & JD_set[i] \n",
    "            qu = len(match)\n",
    "            di = len(JD_set[i])\n",
    "            pct_match = round((qu/di) * 100, 2)\n",
    "            pct_list.append([i, pct_match])\n",
    "            \n",
    "        pct_list.sort(key=lambda x: x[1], reverse = True)\n",
    "        #new_pct = sorted(pct_list, key=lambda x: x[1], reverse = True)[0:9]\n",
    "        pct_list = pct_list[0:9]\n",
    "        \n",
    "    '''Counting matching score'''\n",
    "    job_number, matching_score, job_cat = [], [], []\n",
    "    frame = pd.DataFrame\n",
    "\n",
    "    for i in pct_list:\n",
    "        cat = data[\"position\"][i[0]]\n",
    "        sec = data[\"job\"][i[0]]\n",
    "        print('{} Job as {} in Sector {} has a {}% match'.format(data.index[i[0]], cat, sec, i[1]))\n",
    "        #job_number.append(i[0])\n",
    "        matching_score.append(i[1])\n",
    "\n",
    "        if cat in job_cat:\n",
    "            job_cat.append(str(cat) + str(i[0]))\n",
    "        else:\n",
    "            job_cat.append(cat)\n",
    "\n",
    "    frame = pd.DataFrame(job_number, columns=['job_number'])\n",
    "    frame[\"matching_score\"] = matching_score\n",
    "    frame[\"Category\"] = job_cat\n",
    "\n",
    "    \n",
    "    #Visualizing with plotly\n",
    "    #for template in [\"ggplot2\", \"seaborn\"]:\n",
    "\n",
    "    fig = px.bar(\n",
    "        x=frame['Category'], \n",
    "        y=frame[\"matching_score\"],\n",
    "        labels={\"x\": \"job position\", \"y\": \"Matching %\"},\n",
    "        title=f\"Job offers matching with resume\",\n",
    "        width=1200, height=800,\n",
    "        template=\"seaborn\",\n",
    "        color = frame[\"matching_score\"])\n",
    "    fig.update_layout(\n",
    "            #margin=dict(l=20, r=20, t=20, b=20),\n",
    "        paper_bgcolor=\"lightblue\",\n",
    "    )\n",
    "    \n",
    "    return fig.show()"
   ]
  },
  {
   "cell_type": "code",
   "execution_count": null,
   "id": "9d018b65-d625-4b9d-8aee-eca40471054d",
   "metadata": {},
   "outputs": [],
   "source": [
    "#create skill_set from entity_ruler\n",
    "def create_skill_list(text, model = False):\n",
    "    \n",
    "    if model == True:\n",
    "        \n",
    "        skill_pattern_path = PATH_COMPLETE_DICT\n",
    "        nlp_ms = spacy.blank(\"en\")\n",
    "        ruler = nlp_ms.add_pipe(\"entity_ruler\")\n",
    "        ruler.from_disk(skill_pattern_path)\n",
    "        doc = nlp_ms(text)\n",
    "    else:\n",
    "        doc = text\n",
    "    \n",
    "    t = list([ent.text.lower()] for ent in doc.ents )\n",
    "    flat_list = [item for sublist in t for item in sublist]\n",
    "    return set(flat_list)"
   ]
  },
  {
   "cell_type": "code",
   "execution_count": null,
   "id": "d75c106f-14b9-486c-8fce-f19861a15b8a",
   "metadata": {},
   "outputs": [],
   "source": [
    "def extract_resume_skills(text):\n",
    "    \n",
    "    #model set to False if nlp models (base, trained) were already applied. Set to true if not\n",
    "    set_list_2 = []\n",
    "    ext = []\n",
    "    \n",
    "    list_1 = create_skill_list(text, model = True)  #get extracted skills with base_model\n",
    "    list_2 = load_results_manual(text)     #get extracted skills with trained_model  \n",
    "        \n",
    "    for i in range(0, len(list_2)):\n",
    "        set_list_2.append(str(list_2[i][\"entity\"]).lower().strip())\n",
    "    set_list_2 = set(set_list_2)\n",
    "    ext.append(set.union(list_1, set_list_2))\n",
    "    \n",
    "    flat_list = [item for sublist in ext for item in sublist]\n",
    "    set(flat_list)\n",
    "        \n",
    "    return flat_list"
   ]
  },
  {
   "cell_type": "markdown",
   "id": "1bcb8501-f1e2-4048-99a7-2e0582ae8d43",
   "metadata": {},
   "source": [
    "# Unused code"
   ]
  },
  {
   "cell_type": "code",
   "execution_count": null,
   "id": "9b4a41e6-fee1-45ab-82b4-8c8e220e3c2c",
   "metadata": {},
   "outputs": [],
   "source": [
    "df = df.reindex(np.random.permutation(df.index))\n",
    "df = df.copy().iloc[\n",
    "    0:400,\n",
    "]\n",
    "df.head()"
   ]
  },
  {
   "cell_type": "code",
   "execution_count": null,
   "id": "27da2bbb-1158-410f-8ac0-38601a051532",
   "metadata": {},
   "outputs": [],
   "source": [
    "job_number, matching_score, job_cat = [], [], []\n",
    "\n",
    "for i in pct_list:\n",
    "    cat = df[\"Category\"][i[0]]\n",
    "    print('Job #{} in Sector {} has a {}% match'.format(i[0], df[\"Category\"][i[0]], i[1]))\n",
    "    job_number.append(i[0])\n",
    "    matching_score.append(i[1])\n",
    "    \n",
    "    if cat in job_cat:\n",
    "        job_cat.append(str(cat) + str(i[0]))\n",
    "    \n",
    "frame = pd.DataFrame(job_number, columns=['job_number'])\n",
    "frame[\"matching_score\"] = matching_score\n",
    "frame[\"Category\"] = df[\"Category\"][i[0]]"
   ]
  },
  {
   "cell_type": "code",
   "execution_count": null,
   "id": "26498634-4bec-4e34-9cc4-1fa476a041d2",
   "metadata": {},
   "outputs": [],
   "source": [
    "    ## compare list with data_set, visualize highest matching jobs\n",
    "def \n",
    "    job_number, matching_score, job_cat = [], [], []\n",
    "    frame = pd.DataFrame\n",
    "\n",
    "    for i in pct_list:\n",
    "        cat = data_cleaned_small[\"position\"][i[0]]\n",
    "        print('Job #{} in Sector {} has a {}% match'.format(i[0], cat, i[1]))\n",
    "        job_number.append(i[0])\n",
    "        matching_score.append(i[1])\n",
    "\n",
    "        if cat in job_cat:\n",
    "            job_cat.append(str(cat) + str(i[0]))\n",
    "        else:\n",
    "            job_cat.append(cat)\n",
    "\n",
    "    frame = pd.DataFrame(job_number, columns=['job_number'])\n",
    "    frame[\"matching_score\"] = matching_score\n",
    "    frame[\"Category\"] = job_cat\n",
    "\n",
    "\n",
    "    #for template in [\"ggplot2\", \"seaborn\"]:\n",
    "    import plotly.graph_objects as go\n",
    "\n",
    "    fig = px.bar(\n",
    "        x=frame['Category'], \n",
    "        y=frame[\"matching_score\"],\n",
    "        labels={\"x\": \"job position\", \"y\": \"Matching %\"},\n",
    "        title=f\"Job offers matching with resume\",\n",
    "        width=1200, height=800,\n",
    "        template=\"seaborn\",\n",
    "        color = frame[\"matching_score\"])\n",
    "    fig.update_layout(\n",
    "            #margin=dict(l=20, r=20, t=20, b=20),\n",
    "        paper_bgcolor=\"lightblue\",\n",
    "    )\n",
    "    fig.show()"
   ]
  },
  {
   "cell_type": "code",
   "execution_count": null,
   "id": "491d6da5-f64e-40d2-b0b4-07a52d1224ab",
   "metadata": {},
   "outputs": [],
   "source": [
    "#functions for getting entities text, label, start and end of character position\n",
    "\"\"\"def create_skill_set(text, model = False):\n",
    "    '''Apply basic spacy model and Create a set of the extracted skill entities'''\n",
    "    \n",
    "    if model == True:\n",
    "        nlp_ms = spacy.blank(\"en\")\n",
    "        skill_pattern_path = PATH + \"/data/dictionaries/complete_dict.jsonl\"\n",
    "        ruler = nlp_ms.add_pipe(\"entity_ruler\")\n",
    "        ruler.from_disk(skill_pattern_path)\n",
    "        doc = nlp(text)\n",
    "    else:\n",
    "        doc = text\n",
    "        \n",
    "    return set([ent.label_.upper()[6:] for ent in doc.ents if 'skill' or 'knowledge' in ent.label_.lower()])\n",
    "\"\"\""
   ]
  },
  {
   "cell_type": "code",
   "execution_count": null,
   "id": "9c1df32c-ed42-4ce4-9743-08fc3a0302f2",
   "metadata": {},
   "outputs": [],
   "source": [
    "fig = px.histogram(\n",
    "    df, x=\"Category\", title=\"Distribution of Jobs Categories\"\n",
    ").update_xaxes(categoryorder=\"total descending\")\n",
    "fig.show()"
   ]
  },
  {
   "cell_type": "code",
   "execution_count": null,
   "id": "a06cbff5-dfce-441a-93e2-0004aa596d79",
   "metadata": {},
   "outputs": [],
   "source": [
    "%%time\n",
    "#applying trained models on resume dataset\n",
    "df_Resume['entities_auto_label'] = df_Resume.Clean_Resume.apply(load_results_auto)\n",
    "df_Resume['entities_manual_label'] = df_Resume.Clean_Resume.apply(load_results_manual)\n",
    "df_Resume[\"marked_text\"] = df_Resume[\"Clean_Resume\"].str.lower().apply(nlp_ms)\n",
    "df_Resume[\"entity_ruler\"] = df_Resume[\"marked_text\"].apply(create_skill_list)\n",
    "df_Resume.reset_index(inplace = True)\n",
    "df_Resume"
   ]
  }
 ],
 "metadata": {
  "kernelspec": {
   "display_name": "Python 3 (ipykernel)",
   "language": "python",
   "name": "python3"
  },
  "language_info": {
   "codemirror_mode": {
    "name": "ipython",
    "version": 3
   },
   "file_extension": ".py",
   "mimetype": "text/x-python",
   "name": "python",
   "nbconvert_exporter": "python",
   "pygments_lexer": "ipython3",
   "version": "3.8.12"
  }
 },
 "nbformat": 4,
 "nbformat_minor": 5
}
