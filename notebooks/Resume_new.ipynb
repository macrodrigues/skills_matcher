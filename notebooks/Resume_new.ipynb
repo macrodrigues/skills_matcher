{
 "cells": [
  {
   "cell_type": "code",
   "execution_count": null,
   "id": "ef71c252-e426-42ad-b5d6-ca2e067c484f",
   "metadata": {},
   "outputs": [],
   "source": [
    "#spacy\n",
    "import spacy\n",
    "import en_core_web_lg\n",
    "from spacy.pipeline import EntityRuler\n",
    "from spacy.lang.en import English\n",
    "from spacy.tokens import Doc, Span\n",
    "from spacy.matcher import Matcher, PhraseMatcher \n",
    "#from scripts.spacy_model import load_results_auto, load_results_manual\n",
    "\n",
    "#Visualization\n",
    "from spacy import displacy\n",
    "#import pyLDAvis.gensim_models\n",
    "from wordcloud import WordCloud\n",
    "import plotly.express as px\n",
    "import matplotlib.pyplot as plt\n",
    "import seaborn as sns\n",
    "\n",
    "#Data loading/ Data manipulation\n",
    "import pandas as pd\n",
    "import numpy as np\n",
    "import jsonlines\n",
    "import json\n",
    "import os\n",
    "import csv\n",
    "import re\n",
    "import sys\n",
    "\n",
    "#nltk\n",
    "import re\n",
    "import nltk\n",
    "from nltk.corpus import stopwords\n",
    "from nltk.stem import WordNetLemmatizer\n",
    "nltk.download(['stopwords','wordnet'])\n",
    "\n",
    "import time\n",
    "#warning\n",
    "import warnings \n",
    "warnings.filterwarnings('ignore')"
   ]
  },
  {
   "cell_type": "code",
   "execution_count": null,
   "id": "4b361940-4875-4817-8d1e-b082ac458f99",
   "metadata": {},
   "outputs": [],
   "source": [
    "PATH = os.path.dirname((os.getcwd()))\n",
    "PATH"
   ]
  },
  {
   "cell_type": "code",
   "execution_count": null,
   "id": "7ec749e9-6cc6-463b-bc31-95353e961447",
   "metadata": {},
   "outputs": [],
   "source": [
    "#resume data from kaggle - for tryout\n",
    "df = pd.read_csv(\"/home/lewagonlew/code/marcorodrigues/skills_matcher/skills_matcher/data/Resume/Resume.csv\")\n"
   ]
  },
  {
   "cell_type": "code",
   "execution_count": 537,
   "id": "e9e2df3c-6e7a-4a42-b3ea-da9735bc0111",
   "metadata": {},
   "outputs": [
    {
     "name": "stdout",
     "output_type": "stream",
     "text": [
      "The autoreload extension is already loaded. To reload it, use:\n",
      "  %reload_ext autoreload\n"
     ]
    }
   ],
   "source": [
    "%load_ext autoreload\n",
    "%autoreload 2\n",
    "from skills_matcher.scripts.spacy_model import load_results_auto, load_results_manual\n",
    "from skills_matcher.scripts.utils.clean_skills import extract_skills_auto, extract_entities_2, extract_lables, get_dict, get_dict_cv\n",
    "from skills_matcher.scripts.utils.paths import load_paths\n",
    "from skills_matcher.scripts.utils.matcher import create_skill_list, clean_resume, match_skills, extract_jd, extract_resume_skills, extract_CV, extract_jd_position, visualizer"
   ]
  },
  {
   "cell_type": "code",
   "execution_count": null,
   "id": "7a8e5a12-3f51-4a1f-9370-6a8451255304",
   "metadata": {},
   "outputs": [],
   "source": [
    "pct_list = match_skills(JD_set, cv_set)"
   ]
  },
  {
   "cell_type": "code",
   "execution_count": null,
   "id": "db629390-6e1a-4c4f-a271-b266d4d9f4ad",
   "metadata": {},
   "outputs": [],
   "source": [
    "## compare list with data_set, visualize highest matching jobs\n",
    "job_number, matching_score, job_cat = [], [], []\n",
    "frame = pd.DataFrame\n",
    "\n",
    "for i in pct_list:\n",
    "    cat = df[\"Category\"][i[0]]\n",
    "    print('Job #{} in Sector {} has a {}% match'.format(i[0], df[\"Category\"][i[0]], i[1]))\n",
    "    job_number.append(i[0])\n",
    "    matching_score.append(i[1])\n",
    "    \n",
    "    if cat in job_cat:\n",
    "        job_cat.append(str(cat) + str(i[0]))\n",
    "    else:\n",
    "        job_cat.append(cat)\n",
    "    \n",
    "frame = pd.DataFrame(job_number, columns=['job_number'])\n",
    "frame[\"matching_score\"] = matching_score\n",
    "frame[\"Category\"] = job_cat\n",
    "\n",
    "\n",
    "#for template in [\"ggplot2\", \"seaborn\"]:\n",
    "import plotly.graph_objects as go\n",
    "\n",
    "fig = px.bar(\n",
    "    x=frame['Category'], \n",
    "    y=frame[\"matching_score\"],\n",
    "    labels={\"x\": \"job position\", \"y\": \"Matching %\"},\n",
    "    title=f\"Job offers matching with resume\",\n",
    "    width=1200, height=800,\n",
    "    template=\"seaborn\",\n",
    "    color = frame[\"matching_score\"])\n",
    "fig.update_layout(\n",
    "        #margin=dict(l=20, r=20, t=20, b=20),\n",
    "    paper_bgcolor=\"lightblue\",\n",
    ")\n",
    "fig.show()"
   ]
  },
  {
   "cell_type": "markdown",
   "id": "9bce191c-6193-4286-aaa9-8cd30c644ae9",
   "metadata": {},
   "source": [
    "## Loading Data with pre-trained Spacy Model (Auto/Manual)"
   ]
  },
  {
   "cell_type": "code",
   "execution_count": null,
   "id": "1505e854-23b7-4f97-a945-4751d1cb38ac",
   "metadata": {},
   "outputs": [],
   "source": [
    "PATH = os.path.dirname(os.getcwd()) + \"/skills_matcher\"\n",
    "PATH"
   ]
  },
  {
   "cell_type": "code",
   "execution_count": 487,
   "id": "3f7cce60-2774-4946-8617-1f59295b2d85",
   "metadata": {},
   "outputs": [
    {
     "data": {
      "text/html": [
       "<div>\n",
       "<style scoped>\n",
       "    .dataframe tbody tr th:only-of-type {\n",
       "        vertical-align: middle;\n",
       "    }\n",
       "\n",
       "    .dataframe tbody tr th {\n",
       "        vertical-align: top;\n",
       "    }\n",
       "\n",
       "    .dataframe thead th {\n",
       "        text-align: right;\n",
       "    }\n",
       "</style>\n",
       "<table border=\"1\" class=\"dataframe\">\n",
       "  <thead>\n",
       "    <tr style=\"text-align: right;\">\n",
       "      <th></th>\n",
       "      <th>Resume_str</th>\n",
       "      <th>Category</th>\n",
       "      <th>Clean_Resume</th>\n",
       "      <th>entity_ruler</th>\n",
       "      <th>SKILL</th>\n",
       "    </tr>\n",
       "  </thead>\n",
       "  <tbody>\n",
       "    <tr>\n",
       "      <th>0</th>\n",
       "      <td>HR ADMINISTRATOR/MARKETING ASSOCIATE\\...</td>\n",
       "      <td>HR</td>\n",
       "      <td>hr administrator marketing associate hr admini...</td>\n",
       "      <td>{'front end', 'data analysis', 'marketing', 'a...</td>\n",
       "      <td>[front, end, data, analysis, marketing, accoun...</td>\n",
       "    </tr>\n",
       "    <tr>\n",
       "      <th>1</th>\n",
       "      <td>HR SPECIALIST, US HR OPERATIONS      ...</td>\n",
       "      <td>HR</td>\n",
       "      <td>hr specialist u hr operation summary versatile...</td>\n",
       "      <td>{'marketing', 'software', 'material', 'project...</td>\n",
       "      <td>[marketing, software, material, project, manag...</td>\n",
       "    </tr>\n",
       "    <tr>\n",
       "      <th>2</th>\n",
       "      <td>HR DIRECTOR       Summary      Over 2...</td>\n",
       "      <td>HR</td>\n",
       "      <td>hr director summary 20 year experience recruit...</td>\n",
       "      <td>{'monitoring', 'publishing', 'marketing', 'dat...</td>\n",
       "      <td>[monitoring, publishing, marketing, database, ...</td>\n",
       "    </tr>\n",
       "    <tr>\n",
       "      <th>3</th>\n",
       "      <td>HR SPECIALIST       Summary    Dedica...</td>\n",
       "      <td>HR</td>\n",
       "      <td>hr specialist summary dedicated driven dynamic...</td>\n",
       "      <td>{'monitoring', 'database', 'business administr...</td>\n",
       "      <td>[monitoring, database, business, administratio...</td>\n",
       "    </tr>\n",
       "    <tr>\n",
       "      <th>4</th>\n",
       "      <td>HR MANAGER         Skill Highlights  ...</td>\n",
       "      <td>HR</td>\n",
       "      <td>hr manager skill highlight hr skill hr departm...</td>\n",
       "      <td>{'business administration', 'impact', 'project...</td>\n",
       "      <td>[business, administration, impact, project, ma...</td>\n",
       "    </tr>\n",
       "    <tr>\n",
       "      <th>...</th>\n",
       "      <td>...</td>\n",
       "      <td>...</td>\n",
       "      <td>...</td>\n",
       "      <td>...</td>\n",
       "      <td>...</td>\n",
       "    </tr>\n",
       "    <tr>\n",
       "      <th>2479</th>\n",
       "      <td>RANK: SGT/E-5 NON- COMMISSIONED OFFIC...</td>\n",
       "      <td>AVIATION</td>\n",
       "      <td>rank sgt e 5 non commissioned officer charge b...</td>\n",
       "      <td>{'engineering', 'accounting', 'material'}</td>\n",
       "      <td>[engineering, accounting, material]</td>\n",
       "    </tr>\n",
       "    <tr>\n",
       "      <th>2480</th>\n",
       "      <td>GOVERNMENT RELATIONS, COMMUNICATIONS ...</td>\n",
       "      <td>AVIATION</td>\n",
       "      <td>government relation communication organization...</td>\n",
       "      <td>{'engineering', 'support', 'business', 'accoun...</td>\n",
       "      <td>[engineering, support, business, accounting, s...</td>\n",
       "    </tr>\n",
       "    <tr>\n",
       "      <th>2481</th>\n",
       "      <td>GEEK SQUAD AGENT         Professional...</td>\n",
       "      <td>AVIATION</td>\n",
       "      <td>geek squad agent professional profile support ...</td>\n",
       "      <td>{'android', 'specification', 'software', 'supp...</td>\n",
       "      <td>[android, specification, software, support]</td>\n",
       "    </tr>\n",
       "    <tr>\n",
       "      <th>2482</th>\n",
       "      <td>PROGRAM DIRECTOR / OFFICE MANAGER    ...</td>\n",
       "      <td>AVIATION</td>\n",
       "      <td>program director office manager summary highly...</td>\n",
       "      <td>{'twitter', 'youtube', 'marketing', 'security'...</td>\n",
       "      <td>[twitter, youtube, marketing, security, design...</td>\n",
       "    </tr>\n",
       "    <tr>\n",
       "      <th>2483</th>\n",
       "      <td>STOREKEEPER II       Professional Sum...</td>\n",
       "      <td>AVIATION</td>\n",
       "      <td>storekeeper ii professional summary purpose do...</td>\n",
       "      <td>{'component', 'certificate', 'material', 'box'...</td>\n",
       "      <td>[component, certificate, material, box, busine...</td>\n",
       "    </tr>\n",
       "  </tbody>\n",
       "</table>\n",
       "<p>2484 rows × 5 columns</p>\n",
       "</div>"
      ],
      "text/plain": [
       "                                             Resume_str  Category  \\\n",
       "0              HR ADMINISTRATOR/MARKETING ASSOCIATE\\...        HR   \n",
       "1              HR SPECIALIST, US HR OPERATIONS      ...        HR   \n",
       "2              HR DIRECTOR       Summary      Over 2...        HR   \n",
       "3              HR SPECIALIST       Summary    Dedica...        HR   \n",
       "4              HR MANAGER         Skill Highlights  ...        HR   \n",
       "...                                                 ...       ...   \n",
       "2479           RANK: SGT/E-5 NON- COMMISSIONED OFFIC...  AVIATION   \n",
       "2480           GOVERNMENT RELATIONS, COMMUNICATIONS ...  AVIATION   \n",
       "2481           GEEK SQUAD AGENT         Professional...  AVIATION   \n",
       "2482           PROGRAM DIRECTOR / OFFICE MANAGER    ...  AVIATION   \n",
       "2483           STOREKEEPER II       Professional Sum...  AVIATION   \n",
       "\n",
       "                                           Clean_Resume  \\\n",
       "0     hr administrator marketing associate hr admini...   \n",
       "1     hr specialist u hr operation summary versatile...   \n",
       "2     hr director summary 20 year experience recruit...   \n",
       "3     hr specialist summary dedicated driven dynamic...   \n",
       "4     hr manager skill highlight hr skill hr departm...   \n",
       "...                                                 ...   \n",
       "2479  rank sgt e 5 non commissioned officer charge b...   \n",
       "2480  government relation communication organization...   \n",
       "2481  geek squad agent professional profile support ...   \n",
       "2482  program director office manager summary highly...   \n",
       "2483  storekeeper ii professional summary purpose do...   \n",
       "\n",
       "                                           entity_ruler  \\\n",
       "0     {'front end', 'data analysis', 'marketing', 'a...   \n",
       "1     {'marketing', 'software', 'material', 'project...   \n",
       "2     {'monitoring', 'publishing', 'marketing', 'dat...   \n",
       "3     {'monitoring', 'database', 'business administr...   \n",
       "4     {'business administration', 'impact', 'project...   \n",
       "...                                                 ...   \n",
       "2479          {'engineering', 'accounting', 'material'}   \n",
       "2480  {'engineering', 'support', 'business', 'accoun...   \n",
       "2481  {'android', 'specification', 'software', 'supp...   \n",
       "2482  {'twitter', 'youtube', 'marketing', 'security'...   \n",
       "2483  {'component', 'certificate', 'material', 'box'...   \n",
       "\n",
       "                                                  SKILL  \n",
       "0     [front, end, data, analysis, marketing, accoun...  \n",
       "1     [marketing, software, material, project, manag...  \n",
       "2     [monitoring, publishing, marketing, database, ...  \n",
       "3     [monitoring, database, business, administratio...  \n",
       "4     [business, administration, impact, project, ma...  \n",
       "...                                                 ...  \n",
       "2479                [engineering, accounting, material]  \n",
       "2480  [engineering, support, business, accounting, s...  \n",
       "2481        [android, specification, software, support]  \n",
       "2482  [twitter, youtube, marketing, security, design...  \n",
       "2483  [component, certificate, material, box, busine...  \n",
       "\n",
       "[2484 rows x 5 columns]"
      ]
     },
     "execution_count": 487,
     "metadata": {},
     "output_type": "execute_result"
    }
   ],
   "source": [
    "extract_CV()"
   ]
  },
  {
   "cell_type": "code",
   "execution_count": null,
   "id": "560390a6-bf7f-4133-adee-40deea70775f",
   "metadata": {},
   "outputs": [],
   "source": [
    "PATH_DATA, PATH_DICT, PATH_TRAIN_DATA, PATH_VAL_DATA, PATH_COMPLETE_DICT = load_paths('data_final_raw', 'doccano_dictionary', 'train', 'val', 'complete_dict', 'cleaned_Resume_final')"
   ]
  },
  {
   "cell_type": "code",
   "execution_count": null,
   "id": "b861eff7-c7af-4f9c-bdfb-a69375e34110",
   "metadata": {},
   "outputs": [],
   "source": [
    "PATH_COMPLETE_DICT"
   ]
  },
  {
   "cell_type": "code",
   "execution_count": null,
   "id": "4a4d1c2b-c89d-4b0d-9b93-e9d23f3994c9",
   "metadata": {},
   "outputs": [],
   "source": [
    "df_JD = pd.read_csv(PATH_DATA)\n",
    "df_JD.head()"
   ]
  },
  {
   "cell_type": "code",
   "execution_count": 483,
   "id": "e01a268c-c977-4ea5-b0d6-3dc615c1150d",
   "metadata": {},
   "outputs": [
    {
     "data": {
      "text/html": [
       "<div>\n",
       "<style scoped>\n",
       "    .dataframe tbody tr th:only-of-type {\n",
       "        vertical-align: middle;\n",
       "    }\n",
       "\n",
       "    .dataframe tbody tr th {\n",
       "        vertical-align: top;\n",
       "    }\n",
       "\n",
       "    .dataframe thead th {\n",
       "        text-align: right;\n",
       "    }\n",
       "</style>\n",
       "<table border=\"1\" class=\"dataframe\">\n",
       "  <thead>\n",
       "    <tr style=\"text-align: right;\">\n",
       "      <th></th>\n",
       "      <th>Unnamed: 0</th>\n",
       "      <th>ISCO</th>\n",
       "      <th>major_job</th>\n",
       "      <th>job</th>\n",
       "      <th>position</th>\n",
       "      <th>location</th>\n",
       "      <th>description</th>\n",
       "      <th>entities_auto_label</th>\n",
       "      <th>entities_manual_label</th>\n",
       "    </tr>\n",
       "  </thead>\n",
       "  <tbody>\n",
       "    <tr>\n",
       "      <th>0</th>\n",
       "      <td>0</td>\n",
       "      <td>21</td>\n",
       "      <td>SCIENCE AND ENGINEERING PROFESSIONALS</td>\n",
       "      <td>physicist</td>\n",
       "      <td>Accelerator Physicist id54315</td>\n",
       "      <td>Villigen PSI, Aargau</td>\n",
       "      <td>[' You have an academic degree in physics or e...</td>\n",
       "      <td>()</td>\n",
       "      <td>[{'entity': physics, 'label': 'KNOWLEDGE'}, {'...</td>\n",
       "    </tr>\n",
       "    <tr>\n",
       "      <th>1</th>\n",
       "      <td>1</td>\n",
       "      <td>21</td>\n",
       "      <td>SCIENCE AND ENGINEERING PROFESSIONALS</td>\n",
       "      <td>physicist</td>\n",
       "      <td>Accelerator Physicist id54315</td>\n",
       "      <td>Villigen PSI, Aargau</td>\n",
       "      <td>[' You have an academic degree in physics or e...</td>\n",
       "      <td>()</td>\n",
       "      <td>[{'entity': RICS, 'label': 'SKILL'}, {'entity'...</td>\n",
       "    </tr>\n",
       "    <tr>\n",
       "      <th>2</th>\n",
       "      <td>2</td>\n",
       "      <td>21</td>\n",
       "      <td>SCIENCE AND ENGINEERING PROFESSIONALS</td>\n",
       "      <td>physicist</td>\n",
       "      <td>Accelerator Physicist id54315</td>\n",
       "      <td>Villigen PSI, Aargau</td>\n",
       "      <td>[' You have an academic degree in physics or e...</td>\n",
       "      <td>()</td>\n",
       "      <td>[{'entity': CIS, 'label': 'SKILL'}, {'entity':...</td>\n",
       "    </tr>\n",
       "    <tr>\n",
       "      <th>3</th>\n",
       "      <td>3</td>\n",
       "      <td>21</td>\n",
       "      <td>SCIENCE AND ENGINEERING PROFESSIONALS</td>\n",
       "      <td>physicist</td>\n",
       "      <td>Applied Physicist (Computing) (EP-LBC-2021-125...</td>\n",
       "      <td>Geneva</td>\n",
       "      <td>[' Be in charge of the development of applicat...</td>\n",
       "      <td>(Python, Python)</td>\n",
       "      <td>[{'entity': Python, 'label': 'SKILL'}, {'entit...</td>\n",
       "    </tr>\n",
       "    <tr>\n",
       "      <th>4</th>\n",
       "      <td>4</td>\n",
       "      <td>21</td>\n",
       "      <td>SCIENCE AND ENGINEERING PROFESSIONALS</td>\n",
       "      <td>physicist</td>\n",
       "      <td>Applied Physicist (Computing) (EP-LBC-2021-125...</td>\n",
       "      <td>Geneva</td>\n",
       "      <td>[' Be in charge of the development of applicat...</td>\n",
       "      <td>(Python, Python)</td>\n",
       "      <td>[]</td>\n",
       "    </tr>\n",
       "    <tr>\n",
       "      <th>...</th>\n",
       "      <td>...</td>\n",
       "      <td>...</td>\n",
       "      <td>...</td>\n",
       "      <td>...</td>\n",
       "      <td>...</td>\n",
       "      <td>...</td>\n",
       "      <td>...</td>\n",
       "      <td>...</td>\n",
       "      <td>...</td>\n",
       "    </tr>\n",
       "    <tr>\n",
       "      <th>3502</th>\n",
       "      <td>3502</td>\n",
       "      <td>22</td>\n",
       "      <td>HEALTH PROFESSIONALS</td>\n",
       "      <td>veterinary surgeon</td>\n",
       "      <td>Veterinary Surgeon</td>\n",
       "      <td>England</td>\n",
       "      <td>[' Allocated CPD funding of 37.5 hours Excelle...</td>\n",
       "      <td>()</td>\n",
       "      <td>[{'entity': driving licence, 'label': 'KNOWLED...</td>\n",
       "    </tr>\n",
       "    <tr>\n",
       "      <th>3503</th>\n",
       "      <td>3503</td>\n",
       "      <td>22</td>\n",
       "      <td>HEALTH PROFESSIONALS</td>\n",
       "      <td>veterinary surgeon</td>\n",
       "      <td>Permanent Veterinary Surgeon</td>\n",
       "      <td>Cricklewood, North West London</td>\n",
       "      <td>[' Type: Small Animal Hours: Monday - Friday 4...</td>\n",
       "      <td>()</td>\n",
       "      <td>[{'entity': driver's license, 'label': 'KNOWLE...</td>\n",
       "    </tr>\n",
       "    <tr>\n",
       "      <th>3504</th>\n",
       "      <td>3504</td>\n",
       "      <td>22</td>\n",
       "      <td>HEALTH PROFESSIONALS</td>\n",
       "      <td>veterinary surgeon</td>\n",
       "      <td>Veterinary Surgeon</td>\n",
       "      <td>Middlesbrough, North Yorkshire</td>\n",
       "      <td>[' Allocated CPD funding of 37.5 hours ', ' 5 ...</td>\n",
       "      <td>()</td>\n",
       "      <td>[{'entity': driver's license, 'label': 'KNOWLE...</td>\n",
       "    </tr>\n",
       "    <tr>\n",
       "      <th>3505</th>\n",
       "      <td>3505</td>\n",
       "      <td>22</td>\n",
       "      <td>HEALTH PROFESSIONALS</td>\n",
       "      <td>veterinary surgeon</td>\n",
       "      <td>Permanent Veterinary Surgeon</td>\n",
       "      <td>Harrogate, North Yorkshire</td>\n",
       "      <td>[\" Experienced required: New Graduate level to...</td>\n",
       "      <td>()</td>\n",
       "      <td>[{'entity': driver's license, 'label': 'KNOWLE...</td>\n",
       "    </tr>\n",
       "    <tr>\n",
       "      <th>3506</th>\n",
       "      <td>3506</td>\n",
       "      <td>22</td>\n",
       "      <td>HEALTH PROFESSIONALS</td>\n",
       "      <td>veterinary surgeon</td>\n",
       "      <td>Locum Veterinary Surgeon</td>\n",
       "      <td>Lancaster</td>\n",
       "      <td>[' Type: Small Animal Start Date: 6th January ...</td>\n",
       "      <td>()</td>\n",
       "      <td>[{'entity': driver's license, 'label': 'KNOWLE...</td>\n",
       "    </tr>\n",
       "  </tbody>\n",
       "</table>\n",
       "<p>3507 rows × 9 columns</p>\n",
       "</div>"
      ],
      "text/plain": [
       "      Unnamed: 0  ISCO                              major_job  \\\n",
       "0              0    21  SCIENCE AND ENGINEERING PROFESSIONALS   \n",
       "1              1    21  SCIENCE AND ENGINEERING PROFESSIONALS   \n",
       "2              2    21  SCIENCE AND ENGINEERING PROFESSIONALS   \n",
       "3              3    21  SCIENCE AND ENGINEERING PROFESSIONALS   \n",
       "4              4    21  SCIENCE AND ENGINEERING PROFESSIONALS   \n",
       "...          ...   ...                                    ...   \n",
       "3502        3502    22                   HEALTH PROFESSIONALS   \n",
       "3503        3503    22                   HEALTH PROFESSIONALS   \n",
       "3504        3504    22                   HEALTH PROFESSIONALS   \n",
       "3505        3505    22                   HEALTH PROFESSIONALS   \n",
       "3506        3506    22                   HEALTH PROFESSIONALS   \n",
       "\n",
       "                     job                                           position  \\\n",
       "0              physicist                      Accelerator Physicist id54315   \n",
       "1              physicist                      Accelerator Physicist id54315   \n",
       "2              physicist                      Accelerator Physicist id54315   \n",
       "3              physicist  Applied Physicist (Computing) (EP-LBC-2021-125...   \n",
       "4              physicist  Applied Physicist (Computing) (EP-LBC-2021-125...   \n",
       "...                  ...                                                ...   \n",
       "3502  veterinary surgeon                                 Veterinary Surgeon   \n",
       "3503  veterinary surgeon                       Permanent Veterinary Surgeon   \n",
       "3504  veterinary surgeon                                 Veterinary Surgeon   \n",
       "3505  veterinary surgeon                       Permanent Veterinary Surgeon   \n",
       "3506  veterinary surgeon                           Locum Veterinary Surgeon   \n",
       "\n",
       "                            location  \\\n",
       "0               Villigen PSI, Aargau   \n",
       "1               Villigen PSI, Aargau   \n",
       "2               Villigen PSI, Aargau   \n",
       "3                             Geneva   \n",
       "4                             Geneva   \n",
       "...                              ...   \n",
       "3502                         England   \n",
       "3503  Cricklewood, North West London   \n",
       "3504  Middlesbrough, North Yorkshire   \n",
       "3505      Harrogate, North Yorkshire   \n",
       "3506                       Lancaster   \n",
       "\n",
       "                                            description entities_auto_label  \\\n",
       "0     [' You have an academic degree in physics or e...                  ()   \n",
       "1     [' You have an academic degree in physics or e...                  ()   \n",
       "2     [' You have an academic degree in physics or e...                  ()   \n",
       "3     [' Be in charge of the development of applicat...    (Python, Python)   \n",
       "4     [' Be in charge of the development of applicat...    (Python, Python)   \n",
       "...                                                 ...                 ...   \n",
       "3502  [' Allocated CPD funding of 37.5 hours Excelle...                  ()   \n",
       "3503  [' Type: Small Animal Hours: Monday - Friday 4...                  ()   \n",
       "3504  [' Allocated CPD funding of 37.5 hours ', ' 5 ...                  ()   \n",
       "3505  [\" Experienced required: New Graduate level to...                  ()   \n",
       "3506  [' Type: Small Animal Start Date: 6th January ...                  ()   \n",
       "\n",
       "                                  entities_manual_label  \n",
       "0     [{'entity': physics, 'label': 'KNOWLEDGE'}, {'...  \n",
       "1     [{'entity': RICS, 'label': 'SKILL'}, {'entity'...  \n",
       "2     [{'entity': CIS, 'label': 'SKILL'}, {'entity':...  \n",
       "3     [{'entity': Python, 'label': 'SKILL'}, {'entit...  \n",
       "4                                                    []  \n",
       "...                                                 ...  \n",
       "3502  [{'entity': driving licence, 'label': 'KNOWLED...  \n",
       "3503  [{'entity': driver's license, 'label': 'KNOWLE...  \n",
       "3504  [{'entity': driver's license, 'label': 'KNOWLE...  \n",
       "3505  [{'entity': driver's license, 'label': 'KNOWLE...  \n",
       "3506  [{'entity': driver's license, 'label': 'KNOWLE...  \n",
       "\n",
       "[3507 rows x 9 columns]"
      ]
     },
     "execution_count": 483,
     "metadata": {},
     "output_type": "execute_result"
    }
   ],
   "source": [
    "df_JD"
   ]
  },
  {
   "cell_type": "code",
   "execution_count": 491,
   "id": "e74ac872-d2bb-42f5-9032-a1f74bc6e35d",
   "metadata": {},
   "outputs": [],
   "source": [
    "JD = extract_jd()"
   ]
  },
  {
   "cell_type": "code",
   "execution_count": 493,
   "id": "031d4d31-7ac3-4e27-8f56-5a2566a074b6",
   "metadata": {},
   "outputs": [
    {
     "data": {
      "text/plain": [
       "31"
      ]
     },
     "execution_count": 493,
     "metadata": {},
     "output_type": "execute_result"
    }
   ],
   "source": [
    "(JD[\"SKILL\"].apply(len)).max()"
   ]
  },
  {
   "cell_type": "code",
   "execution_count": 494,
   "id": "58fa664c-e1d6-4bf3-960b-5502d9623812",
   "metadata": {},
   "outputs": [
    {
     "data": {
      "text/html": [
       "<div>\n",
       "<style scoped>\n",
       "    .dataframe tbody tr th:only-of-type {\n",
       "        vertical-align: middle;\n",
       "    }\n",
       "\n",
       "    .dataframe tbody tr th {\n",
       "        vertical-align: top;\n",
       "    }\n",
       "\n",
       "    .dataframe thead th {\n",
       "        text-align: right;\n",
       "    }\n",
       "</style>\n",
       "<table border=\"1\" class=\"dataframe\">\n",
       "  <thead>\n",
       "    <tr style=\"text-align: right;\">\n",
       "      <th></th>\n",
       "      <th>job</th>\n",
       "      <th>position</th>\n",
       "      <th>location</th>\n",
       "      <th>description</th>\n",
       "      <th>SKILL</th>\n",
       "      <th>KNOWLEDGE</th>\n",
       "      <th>MIN_EXP</th>\n",
       "      <th>LEVEL</th>\n",
       "    </tr>\n",
       "  </thead>\n",
       "  <tbody>\n",
       "    <tr>\n",
       "      <th>0</th>\n",
       "      <td>physicist</td>\n",
       "      <td>Accelerator Physicist id54315</td>\n",
       "      <td>Villigen PSI, Aargau</td>\n",
       "      <td>[' You have an academic degree in physics or e...</td>\n",
       "      <td>[English, German]</td>\n",
       "      <td>[physics]</td>\n",
       "      <td>[]</td>\n",
       "      <td>[]</td>\n",
       "    </tr>\n",
       "    <tr>\n",
       "      <th>1</th>\n",
       "      <td>physicist</td>\n",
       "      <td>Applied Physicist (Computing) (EP-LBC-2021-125...</td>\n",
       "      <td>Geneva</td>\n",
       "      <td>[' Be in charge of the development of applicat...</td>\n",
       "      <td>[Python, English, French]</td>\n",
       "      <td>[programming, High Energy Physics data analysi...</td>\n",
       "      <td>[]</td>\n",
       "      <td>[]</td>\n",
       "    </tr>\n",
       "    <tr>\n",
       "      <th>2</th>\n",
       "      <td>physicist</td>\n",
       "      <td>Accelerator Physicist (BE-ABP-LNO-2021-122-LD)...</td>\n",
       "      <td>Geneva</td>\n",
       "      <td>[' Contribute to the maintenance and developme...</td>\n",
       "      <td>[medium]</td>\n",
       "      <td>[rel=\"nofollow]</td>\n",
       "      <td>[]</td>\n",
       "      <td>[]</td>\n",
       "    </tr>\n",
       "    <tr>\n",
       "      <th>3</th>\n",
       "      <td>physicist</td>\n",
       "      <td>Magnet Engineer / Senior Magnet Engineer / Phy...</td>\n",
       "      <td>Harwell, Oxfordshire</td>\n",
       "      <td>[' Carrying out 2D and 3D magnetic designs of ...</td>\n",
       "      <td>[]</td>\n",
       "      <td>[]</td>\n",
       "      <td>[]</td>\n",
       "      <td>[]</td>\n",
       "    </tr>\n",
       "    <tr>\n",
       "      <th>4</th>\n",
       "      <td>physicist</td>\n",
       "      <td>Optics / photonics engineer or physicist (21364)</td>\n",
       "      <td>Ghent, East Flanders</td>\n",
       "      <td>[\" At least 70% of your assignment will be spe...</td>\n",
       "      <td>[ICT, Dutch]</td>\n",
       "      <td>[Physics, Engineering Photonics]</td>\n",
       "      <td>[English, Diploma, French]</td>\n",
       "      <td>[German]</td>\n",
       "    </tr>\n",
       "    <tr>\n",
       "      <th>5</th>\n",
       "      <td>physicist</td>\n",
       "      <td>Experimental Physicist</td>\n",
       "      <td>Aldermaston, Berkshire</td>\n",
       "      <td>[' Market leading contributory pension scheme ...</td>\n",
       "      <td>[]</td>\n",
       "      <td>[]</td>\n",
       "      <td>[]</td>\n",
       "      <td>[A degree]</td>\n",
       "    </tr>\n",
       "    <tr>\n",
       "      <th>6</th>\n",
       "      <td>physicist</td>\n",
       "      <td>Physicist/Optical Scientist/Engineer Technolog...</td>\n",
       "      <td>Regensdorf, Zurich</td>\n",
       "      <td>[' PhD in physics or engineering (optical, mic...</td>\n",
       "      <td>[German, English, C/C, C]</td>\n",
       "      <td>[physics, gineering, color science]</td>\n",
       "      <td>[]</td>\n",
       "      <td>[PhD, MSc]</td>\n",
       "    </tr>\n",
       "    <tr>\n",
       "      <th>7</th>\n",
       "      <td>physicist</td>\n",
       "      <td>Experimental Physicist</td>\n",
       "      <td>Cambridge</td>\n",
       "      <td>[' You will have experience with microfluidic ...</td>\n",
       "      <td>[Python]</td>\n",
       "      <td>[microfluidic chip design, fluorescence micros...</td>\n",
       "      <td>[]</td>\n",
       "      <td>[academics]</td>\n",
       "    </tr>\n",
       "    <tr>\n",
       "      <th>8</th>\n",
       "      <td>physicist</td>\n",
       "      <td>Experimental Physicist</td>\n",
       "      <td>Cambridge</td>\n",
       "      <td>[' You will have experience with microfluidic ...</td>\n",
       "      <td>[Python]</td>\n",
       "      <td>[microfluidic chip design, fluorescence micros...</td>\n",
       "      <td>[]</td>\n",
       "      <td>[academics]</td>\n",
       "    </tr>\n",
       "    <tr>\n",
       "      <th>9</th>\n",
       "      <td>physicist</td>\n",
       "      <td>OSS PHYSICIST</td>\n",
       "      <td>Bergen, Vestland</td>\n",
       "      <td>[' New product development, including both exp...</td>\n",
       "      <td>[English, atHorsoy]</td>\n",
       "      <td>[Physics, mathematical modelling]</td>\n",
       "      <td>[]</td>\n",
       "      <td>[MSc, PhD]</td>\n",
       "    </tr>\n",
       "    <tr>\n",
       "      <th>10</th>\n",
       "      <td>physicist</td>\n",
       "      <td>Trapped ION Physicist- Quantum Computing</td>\n",
       "      <td>Oxford</td>\n",
       "      <td>[\" A PHD level or equivalent relevant experien...</td>\n",
       "      <td>[MS Office]</td>\n",
       "      <td>[computer science]</td>\n",
       "      <td>[]</td>\n",
       "      <td>[]</td>\n",
       "    </tr>\n",
       "    <tr>\n",
       "      <th>11</th>\n",
       "      <td>physicist</td>\n",
       "      <td>Experimental Physicist / Engineer for Electron...</td>\n",
       "      <td>Vienna</td>\n",
       "      <td>[' Act as an operational engineer and build a ...</td>\n",
       "      <td>[English, Unix, Python, Jira, Linux]</td>\n",
       "      <td>[Data analysis, Physics, Electrical Engineerin...</td>\n",
       "      <td>[]</td>\n",
       "      <td>[]</td>\n",
       "    </tr>\n",
       "    <tr>\n",
       "      <th>12</th>\n",
       "      <td>physicist</td>\n",
       "      <td>Experimental Physicist / Engineer for Electron...</td>\n",
       "      <td>Vienna</td>\n",
       "      <td>[' Build a complete and broad understanding of...</td>\n",
       "      <td>[Python, JIRA, Confluence, English, Linux]</td>\n",
       "      <td>[Physics, Electrical Engineering, Process Engi...</td>\n",
       "      <td>[]</td>\n",
       "      <td>[]</td>\n",
       "    </tr>\n",
       "    <tr>\n",
       "      <th>13</th>\n",
       "      <td>physicist</td>\n",
       "      <td>Mathematical Physicist</td>\n",
       "      <td>Aldermaston, Berkshire</td>\n",
       "      <td>[' Market leading contributory pension scheme ...</td>\n",
       "      <td>[Fortran, C++, Python, C, Unix, Linux]</td>\n",
       "      <td>[Physics, Unix/Linux]</td>\n",
       "      <td>[]</td>\n",
       "      <td>[Degree]</td>\n",
       "    </tr>\n",
       "    <tr>\n",
       "      <th>14</th>\n",
       "      <td>physicist</td>\n",
       "      <td>Applied physicist for Particle Sources (SY-STI...</td>\n",
       "      <td>Geneva</td>\n",
       "      <td>[' Design, develop, operate and maintain laser...</td>\n",
       "      <td>[French]</td>\n",
       "      <td>[MEDICIS]</td>\n",
       "      <td>[]</td>\n",
       "      <td>[]</td>\n",
       "    </tr>\n",
       "    <tr>\n",
       "      <th>15</th>\n",
       "      <td>physicist</td>\n",
       "      <td>Applied Physicist: Electronic Materials &amp; Devices</td>\n",
       "      <td>Huntingdon, Cambridgeshire</td>\n",
       "      <td>[' Evaluation of technologies from potential p...</td>\n",
       "      <td>[]</td>\n",
       "      <td>[]</td>\n",
       "      <td>[]</td>\n",
       "      <td>[A PhD, degree]</td>\n",
       "    </tr>\n",
       "    <tr>\n",
       "      <th>16</th>\n",
       "      <td>physicist</td>\n",
       "      <td>Accelerator Physicist (BE-ABP-LNO-2021-122-LD)</td>\n",
       "      <td>Geneva</td>\n",
       "      <td>[' Contribute to the maintenance and developme...</td>\n",
       "      <td>[medium]</td>\n",
       "      <td>[]</td>\n",
       "      <td>[]</td>\n",
       "      <td>[]</td>\n",
       "    </tr>\n",
       "    <tr>\n",
       "      <th>17</th>\n",
       "      <td>physicist</td>\n",
       "      <td>Physicist, Modeling Intern</td>\n",
       "      <td>Clamart, Hauts-de-Seine</td>\n",
       "      <td>[\" Master's degree - 2nd year or final year of...</td>\n",
       "      <td>[]</td>\n",
       "      <td>[Fluid Mechanics]</td>\n",
       "      <td>[]</td>\n",
       "      <td>[Master's]</td>\n",
       "    </tr>\n",
       "    <tr>\n",
       "      <th>18</th>\n",
       "      <td>physicist</td>\n",
       "      <td>Accelerator Physicist (BE-ABP-LNO-2021-122-LD)</td>\n",
       "      <td>Geneva</td>\n",
       "      <td>[' Contribute to the maintenance and developme...</td>\n",
       "      <td>[medium]</td>\n",
       "      <td>[rel=\"nofollow, Physics -, Health -, Computer ...</td>\n",
       "      <td>[]</td>\n",
       "      <td>[]</td>\n",
       "    </tr>\n",
       "    <tr>\n",
       "      <th>19</th>\n",
       "      <td>physicist</td>\n",
       "      <td>Experimental Physicist (80-100%)</td>\n",
       "      <td>Dättwil, Aargau</td>\n",
       "      <td>[' Conducting applied research in the area of ...</td>\n",
       "      <td>[English]</td>\n",
       "      <td>[physics]</td>\n",
       "      <td>[]</td>\n",
       "      <td>[PhD]</td>\n",
       "    </tr>\n",
       "    <tr>\n",
       "      <th>20</th>\n",
       "      <td>physicist</td>\n",
       "      <td>Operational Services Health Physicist</td>\n",
       "      <td>Plymouth</td>\n",
       "      <td>[' Ensuring the radiological safety of everyon...</td>\n",
       "      <td>[Diploma]</td>\n",
       "      <td>[IRR]</td>\n",
       "      <td>[]</td>\n",
       "      <td>[Degree, MSc]</td>\n",
       "    </tr>\n",
       "    <tr>\n",
       "      <th>21</th>\n",
       "      <td>physicist</td>\n",
       "      <td>Accelerator Physicist (BE-ABP-LNO-2021-122-LD)</td>\n",
       "      <td>Geneva</td>\n",
       "      <td>[' Contribute to the maintenance and developme...</td>\n",
       "      <td>[medium]</td>\n",
       "      <td>[]</td>\n",
       "      <td>[]</td>\n",
       "      <td>[]</td>\n",
       "    </tr>\n",
       "    <tr>\n",
       "      <th>22</th>\n",
       "      <td>physicist</td>\n",
       "      <td>Accelerator Physicist (BE-ABP-LNO-2021-122-LD)</td>\n",
       "      <td>Geneva</td>\n",
       "      <td>[' Contribute to the maintenance and developme...</td>\n",
       "      <td>[medium]</td>\n",
       "      <td>[]</td>\n",
       "      <td>[]</td>\n",
       "      <td>[]</td>\n",
       "    </tr>\n",
       "    <tr>\n",
       "      <th>23</th>\n",
       "      <td>physicist</td>\n",
       "      <td>Applied Physicist (trigger development) (EP-CM...</td>\n",
       "      <td>Geneva</td>\n",
       "      <td>[' Coordinating and working directly on the de...</td>\n",
       "      <td>[pbus, github, gitlab, VHDL, Vivado High Level...</td>\n",
       "      <td>[High Energy Physics algorithms, firmware, FPG...</td>\n",
       "      <td>[]</td>\n",
       "      <td>[]</td>\n",
       "    </tr>\n",
       "    <tr>\n",
       "      <th>24</th>\n",
       "      <td>physicist</td>\n",
       "      <td>Applied Physicist (trigger development) (EP-CM...</td>\n",
       "      <td>Geneva</td>\n",
       "      <td>[' Coordinating and working directly on the de...</td>\n",
       "      <td>[pbus, github, gitlab, VHDL, Vivado High Level...</td>\n",
       "      <td>[High Energy Physics algorithms, firmware, FPG...</td>\n",
       "      <td>[]</td>\n",
       "      <td>[]</td>\n",
       "    </tr>\n",
       "    <tr>\n",
       "      <th>25</th>\n",
       "      <td>physicist</td>\n",
       "      <td>Plasma physicist with experience of numerical ...</td>\n",
       "      <td>Czech Republic</td>\n",
       "      <td>[' development and maintenance of the flight s...</td>\n",
       "      <td>[Python, C, C++, English, fusion]</td>\n",
       "      <td>[COMPASS-U participation]</td>\n",
       "      <td>[]</td>\n",
       "      <td>[]</td>\n",
       "    </tr>\n",
       "    <tr>\n",
       "      <th>26</th>\n",
       "      <td>physicist</td>\n",
       "      <td>Applied Physicist (trigger development) (EP-CM...</td>\n",
       "      <td>Geneva</td>\n",
       "      <td>[' Coordinating and working directly on the de...</td>\n",
       "      <td>[pbus, github, gitlab, VHDL, Vivado High Level...</td>\n",
       "      <td>[High Energy Physics algorithms, firmware, FPG...</td>\n",
       "      <td>[]</td>\n",
       "      <td>[]</td>\n",
       "    </tr>\n",
       "    <tr>\n",
       "      <th>27</th>\n",
       "      <td>physicist</td>\n",
       "      <td>Building Physicist (Building Services)</td>\n",
       "      <td>Birmingham</td>\n",
       "      <td>[' Three [3] years’ experience in a similar po...</td>\n",
       "      <td>[Three [, EDSL, SBEM, SAP, AutoCAD]</td>\n",
       "      <td>[Energy Model, BREEAM/LEED]</td>\n",
       "      <td>[]</td>\n",
       "      <td>[]</td>\n",
       "    </tr>\n",
       "    <tr>\n",
       "      <th>28</th>\n",
       "      <td>physicist</td>\n",
       "      <td>Graduate Physicist 2022</td>\n",
       "      <td>Cambridge</td>\n",
       "      <td>[' A 1st or 2:1 in Physics or a related discip...</td>\n",
       "      <td>[Communication]</td>\n",
       "      <td>[Physics, strong academic record]</td>\n",
       "      <td>[]</td>\n",
       "      <td>[A]</td>\n",
       "    </tr>\n",
       "    <tr>\n",
       "      <th>29</th>\n",
       "      <td>physicist</td>\n",
       "      <td>Physicist / Development Engineer Optics (f/m)</td>\n",
       "      <td>Vorarlberg</td>\n",
       "      <td>[' Development of cutting-edge optoelectronic ...</td>\n",
       "      <td>[SWIR, MWIR, LWIR]</td>\n",
       "      <td>[]</td>\n",
       "      <td>[]</td>\n",
       "      <td>[]</td>\n",
       "    </tr>\n",
       "    <tr>\n",
       "      <th>30</th>\n",
       "      <td>physicist</td>\n",
       "      <td>Physicist / Development Engineer Optics (f/m)</td>\n",
       "      <td>Heerbrugg, St. Gallen</td>\n",
       "      <td>[' Development of cutting-edge optoelectronic ...</td>\n",
       "      <td>[SWIR, MWIR, LWIR]</td>\n",
       "      <td>[]</td>\n",
       "      <td>[]</td>\n",
       "      <td>[]</td>\n",
       "    </tr>\n",
       "    <tr>\n",
       "      <th>31</th>\n",
       "      <td>physicist</td>\n",
       "      <td>Theoretical / Applied Physicist</td>\n",
       "      <td>Farnborough, Hampshire</td>\n",
       "      <td>[' Delivery of high quality analytical and num...</td>\n",
       "      <td>[FDTD, R, python]</td>\n",
       "      <td>[Matlab]</td>\n",
       "      <td>[]</td>\n",
       "      <td>[]</td>\n",
       "    </tr>\n",
       "    <tr>\n",
       "      <th>32</th>\n",
       "      <td>physicist</td>\n",
       "      <td>Accelerator Physicist (f/m/x)</td>\n",
       "      <td>Wiener Neustadt, Niederösterreich</td>\n",
       "      <td>[' Support the beam commissioning of the accel...</td>\n",
       "      <td>[Python, English, German]</td>\n",
       "      <td>[physics, MAD-X]</td>\n",
       "      <td>[]</td>\n",
       "      <td>[Master, PhD]</td>\n",
       "    </tr>\n",
       "    <tr>\n",
       "      <th>33</th>\n",
       "      <td>physicist</td>\n",
       "      <td>Postdoctoral Fellow</td>\n",
       "      <td>Dolní Břežany, Středočeský</td>\n",
       "      <td>[' theory of charged particle acceleration and...</td>\n",
       "      <td>[]</td>\n",
       "      <td>[computer codes, ELI-Beamlines, Physics]</td>\n",
       "      <td>[]</td>\n",
       "      <td>[PhD, quivalent degree]</td>\n",
       "    </tr>\n",
       "    <tr>\n",
       "      <th>34</th>\n",
       "      <td>biochemist</td>\n",
       "      <td>Senior Scientist</td>\n",
       "      <td>Slough, Berkshire</td>\n",
       "      <td>[' You will be responsible for expressing and ...</td>\n",
       "      <td>[molecular biology]</td>\n",
       "      <td>[Molecular Biology, blot, UPLC, membrane protein]</td>\n",
       "      <td>[]</td>\n",
       "      <td>[]</td>\n",
       "    </tr>\n",
       "    <tr>\n",
       "      <th>35</th>\n",
       "      <td>biochemist</td>\n",
       "      <td>Principal Biochemist</td>\n",
       "      <td>Cambridge</td>\n",
       "      <td>[' Strong working knowledge of molecular and c...</td>\n",
       "      <td>[]</td>\n",
       "      <td>[molecular and]</td>\n",
       "      <td>[]</td>\n",
       "      <td>[PhD]</td>\n",
       "    </tr>\n",
       "    <tr>\n",
       "      <th>36</th>\n",
       "      <td>biochemist</td>\n",
       "      <td>Principal Biochemist</td>\n",
       "      <td>Cambridge</td>\n",
       "      <td>[' Strong working knowledge of molecular and c...</td>\n",
       "      <td>[]</td>\n",
       "      <td>[molecular and]</td>\n",
       "      <td>[]</td>\n",
       "      <td>[PhD]</td>\n",
       "    </tr>\n",
       "    <tr>\n",
       "      <th>37</th>\n",
       "      <td>biochemist</td>\n",
       "      <td>Consultant Biochemist</td>\n",
       "      <td>Cambridgeshire</td>\n",
       "      <td>[' Deliver projects from conception to launch,...</td>\n",
       "      <td>[ISO, go]</td>\n",
       "      <td>[agile nature, molecular and, analytical metho...</td>\n",
       "      <td>[]</td>\n",
       "      <td>[PhD]</td>\n",
       "    </tr>\n",
       "    <tr>\n",
       "      <th>38</th>\n",
       "      <td>biochemist</td>\n",
       "      <td>Consultant Biochemist</td>\n",
       "      <td>Cambridge</td>\n",
       "      <td>[' Deliver projects from conception to launch,...</td>\n",
       "      <td>[ISO, go]</td>\n",
       "      <td>[agile nature, molecular and, analytical metho...</td>\n",
       "      <td>[]</td>\n",
       "      <td>[PhD]</td>\n",
       "    </tr>\n",
       "    <tr>\n",
       "      <th>39</th>\n",
       "      <td>biochemist</td>\n",
       "      <td>Senior Biochemist/Protein Scientist</td>\n",
       "      <td>Scotland</td>\n",
       "      <td>[' Work on an exciting new project with opport...</td>\n",
       "      <td>[MS analysis, MS-based peptide identification]</td>\n",
       "      <td>[data analysis, Human Tissue, Biochemistry, Da...</td>\n",
       "      <td>[]</td>\n",
       "      <td>[]</td>\n",
       "    </tr>\n",
       "    <tr>\n",
       "      <th>40</th>\n",
       "      <td>biochemist</td>\n",
       "      <td>Research Associate</td>\n",
       "      <td>Cambridge</td>\n",
       "      <td>[' Execution of molecular biology and biochemi...</td>\n",
       "      <td>[Communication]</td>\n",
       "      <td>[molecular biology, chemistry, software]</td>\n",
       "      <td>[]</td>\n",
       "      <td>[Advanced degree]</td>\n",
       "    </tr>\n",
       "    <tr>\n",
       "      <th>41</th>\n",
       "      <td>biochemist</td>\n",
       "      <td>Associate Scientist</td>\n",
       "      <td>Cambridge</td>\n",
       "      <td>[' Execution of molecular biology and biochemi...</td>\n",
       "      <td>[]</td>\n",
       "      <td>[molecular biology, chemistry, software]</td>\n",
       "      <td>[]</td>\n",
       "      <td>[Advanced degree]</td>\n",
       "    </tr>\n",
       "    <tr>\n",
       "      <th>42</th>\n",
       "      <td>biochemist</td>\n",
       "      <td>Scientist 1</td>\n",
       "      <td>Cambridge</td>\n",
       "      <td>[' Design and execution of lab-based experimen...</td>\n",
       "      <td>[]</td>\n",
       "      <td>[molecular biology, ducational, robotics, chem...</td>\n",
       "      <td>[]</td>\n",
       "      <td>[A PhD]</td>\n",
       "    </tr>\n",
       "    <tr>\n",
       "      <th>43</th>\n",
       "      <td>biochemist</td>\n",
       "      <td>Chemist / Biochemist as Head of the Compound M...</td>\n",
       "      <td>Potsdam, Brandenburg</td>\n",
       "      <td>[' Head of the compound management department,...</td>\n",
       "      <td>[HPLC]</td>\n",
       "      <td>[]</td>\n",
       "      <td>[]</td>\n",
       "      <td>[]</td>\n",
       "    </tr>\n",
       "    <tr>\n",
       "      <th>44</th>\n",
       "      <td>biochemist</td>\n",
       "      <td>Biochemist</td>\n",
       "      <td>London</td>\n",
       "      <td>[' Expertise in biomarker assay development an...</td>\n",
       "      <td>[]</td>\n",
       "      <td>[biochemistry, molecular biology, mass spectro...</td>\n",
       "      <td>[]</td>\n",
       "      <td>[PhD]</td>\n",
       "    </tr>\n",
       "    <tr>\n",
       "      <th>45</th>\n",
       "      <td>biochemist</td>\n",
       "      <td>Biochemist</td>\n",
       "      <td>London</td>\n",
       "      <td>[' Expertise in biomarker assay development an...</td>\n",
       "      <td>[ML-NC]</td>\n",
       "      <td>[biochemistry, molecular biology, mass spectro...</td>\n",
       "      <td>[]</td>\n",
       "      <td>[PhD]</td>\n",
       "    </tr>\n",
       "    <tr>\n",
       "      <th>46</th>\n",
       "      <td>biochemist</td>\n",
       "      <td>Membrane Protein Biochemist / Structural biolo...</td>\n",
       "      <td>Oxford</td>\n",
       "      <td>[' A PhD or equivalent in a relevant area (Bio...</td>\n",
       "      <td>[Biophysics, GPCRs, MS analysis]</td>\n",
       "      <td>[Biochemistry, Molecular Biology, molecular bi...</td>\n",
       "      <td>[]</td>\n",
       "      <td>[PhD]</td>\n",
       "    </tr>\n",
       "    <tr>\n",
       "      <th>47</th>\n",
       "      <td>biochemist</td>\n",
       "      <td>Consultant Biochemist</td>\n",
       "      <td>Cambridge</td>\n",
       "      <td>[' An excellent academic record with 1st or 2:...</td>\n",
       "      <td>[biochemistry]</td>\n",
       "      <td>[PhD]</td>\n",
       "      <td>[]</td>\n",
       "      <td>[]</td>\n",
       "    </tr>\n",
       "    <tr>\n",
       "      <th>48</th>\n",
       "      <td>biochemist</td>\n",
       "      <td>Research and Development Biochemist / Molecula...</td>\n",
       "      <td>London</td>\n",
       "      <td>[' A Ph.D. in Biochemistry, Molecular Biology,...</td>\n",
       "      <td>[PCR, qPCR, RT-PCR, Taguchi]</td>\n",
       "      <td>[Biochemistry, Molecular Biology, Chemistry, B...</td>\n",
       "      <td>[]</td>\n",
       "      <td>[]</td>\n",
       "    </tr>\n",
       "    <tr>\n",
       "      <th>49</th>\n",
       "      <td>biochemist</td>\n",
       "      <td>Biochemist Protein Service</td>\n",
       "      <td>Klosterneuburg, Niederösterreich</td>\n",
       "      <td>[' Work closely with research groups to plan e...</td>\n",
       "      <td>[Advanced degree, DLS, DSF, ITC, SPR, BLI]</td>\n",
       "      <td>[Chemistry, Biochemistry, Biology, molecular b...</td>\n",
       "      <td>[]</td>\n",
       "      <td>[MSc, PhD]</td>\n",
       "    </tr>\n",
       "  </tbody>\n",
       "</table>\n",
       "</div>"
      ],
      "text/plain": [
       "           job                                           position  \\\n",
       "0    physicist                      Accelerator Physicist id54315   \n",
       "1    physicist  Applied Physicist (Computing) (EP-LBC-2021-125...   \n",
       "2    physicist  Accelerator Physicist (BE-ABP-LNO-2021-122-LD)...   \n",
       "3    physicist  Magnet Engineer / Senior Magnet Engineer / Phy...   \n",
       "4    physicist   Optics / photonics engineer or physicist (21364)   \n",
       "5    physicist                             Experimental Physicist   \n",
       "6    physicist  Physicist/Optical Scientist/Engineer Technolog...   \n",
       "7    physicist                             Experimental Physicist   \n",
       "8    physicist                             Experimental Physicist   \n",
       "9    physicist                                      OSS PHYSICIST   \n",
       "10   physicist           Trapped ION Physicist- Quantum Computing   \n",
       "11   physicist  Experimental Physicist / Engineer for Electron...   \n",
       "12   physicist  Experimental Physicist / Engineer for Electron...   \n",
       "13   physicist                             Mathematical Physicist   \n",
       "14   physicist  Applied physicist for Particle Sources (SY-STI...   \n",
       "15   physicist  Applied Physicist: Electronic Materials & Devices   \n",
       "16   physicist     Accelerator Physicist (BE-ABP-LNO-2021-122-LD)   \n",
       "17   physicist                         Physicist, Modeling Intern   \n",
       "18   physicist     Accelerator Physicist (BE-ABP-LNO-2021-122-LD)   \n",
       "19   physicist                   Experimental Physicist (80-100%)   \n",
       "20   physicist              Operational Services Health Physicist   \n",
       "21   physicist     Accelerator Physicist (BE-ABP-LNO-2021-122-LD)   \n",
       "22   physicist     Accelerator Physicist (BE-ABP-LNO-2021-122-LD)   \n",
       "23   physicist  Applied Physicist (trigger development) (EP-CM...   \n",
       "24   physicist  Applied Physicist (trigger development) (EP-CM...   \n",
       "25   physicist  Plasma physicist with experience of numerical ...   \n",
       "26   physicist  Applied Physicist (trigger development) (EP-CM...   \n",
       "27   physicist             Building Physicist (Building Services)   \n",
       "28   physicist                            Graduate Physicist 2022   \n",
       "29   physicist      Physicist / Development Engineer Optics (f/m)   \n",
       "30   physicist      Physicist / Development Engineer Optics (f/m)   \n",
       "31   physicist                    Theoretical / Applied Physicist   \n",
       "32   physicist                      Accelerator Physicist (f/m/x)   \n",
       "33   physicist                                Postdoctoral Fellow   \n",
       "34  biochemist                                   Senior Scientist   \n",
       "35  biochemist                               Principal Biochemist   \n",
       "36  biochemist                               Principal Biochemist   \n",
       "37  biochemist                              Consultant Biochemist   \n",
       "38  biochemist                              Consultant Biochemist   \n",
       "39  biochemist                Senior Biochemist/Protein Scientist   \n",
       "40  biochemist                                 Research Associate   \n",
       "41  biochemist                                Associate Scientist   \n",
       "42  biochemist                                        Scientist 1   \n",
       "43  biochemist  Chemist / Biochemist as Head of the Compound M...   \n",
       "44  biochemist                                         Biochemist   \n",
       "45  biochemist                                         Biochemist   \n",
       "46  biochemist  Membrane Protein Biochemist / Structural biolo...   \n",
       "47  biochemist                              Consultant Biochemist   \n",
       "48  biochemist  Research and Development Biochemist / Molecula...   \n",
       "49  biochemist                         Biochemist Protein Service   \n",
       "\n",
       "                             location  \\\n",
       "0                Villigen PSI, Aargau   \n",
       "1                              Geneva   \n",
       "2                              Geneva   \n",
       "3                Harwell, Oxfordshire   \n",
       "4                Ghent, East Flanders   \n",
       "5              Aldermaston, Berkshire   \n",
       "6                  Regensdorf, Zurich   \n",
       "7                           Cambridge   \n",
       "8                           Cambridge   \n",
       "9                    Bergen, Vestland   \n",
       "10                             Oxford   \n",
       "11                             Vienna   \n",
       "12                             Vienna   \n",
       "13             Aldermaston, Berkshire   \n",
       "14                             Geneva   \n",
       "15         Huntingdon, Cambridgeshire   \n",
       "16                             Geneva   \n",
       "17            Clamart, Hauts-de-Seine   \n",
       "18                             Geneva   \n",
       "19                    Dättwil, Aargau   \n",
       "20                           Plymouth   \n",
       "21                             Geneva   \n",
       "22                             Geneva   \n",
       "23                             Geneva   \n",
       "24                             Geneva   \n",
       "25                     Czech Republic   \n",
       "26                             Geneva   \n",
       "27                         Birmingham   \n",
       "28                          Cambridge   \n",
       "29                         Vorarlberg   \n",
       "30              Heerbrugg, St. Gallen   \n",
       "31             Farnborough, Hampshire   \n",
       "32  Wiener Neustadt, Niederösterreich   \n",
       "33         Dolní Břežany, Středočeský   \n",
       "34                  Slough, Berkshire   \n",
       "35                          Cambridge   \n",
       "36                          Cambridge   \n",
       "37                     Cambridgeshire   \n",
       "38                          Cambridge   \n",
       "39                           Scotland   \n",
       "40                          Cambridge   \n",
       "41                          Cambridge   \n",
       "42                          Cambridge   \n",
       "43               Potsdam, Brandenburg   \n",
       "44                             London   \n",
       "45                             London   \n",
       "46                             Oxford   \n",
       "47                          Cambridge   \n",
       "48                             London   \n",
       "49   Klosterneuburg, Niederösterreich   \n",
       "\n",
       "                                          description  \\\n",
       "0   [' You have an academic degree in physics or e...   \n",
       "1   [' Be in charge of the development of applicat...   \n",
       "2   [' Contribute to the maintenance and developme...   \n",
       "3   [' Carrying out 2D and 3D magnetic designs of ...   \n",
       "4   [\" At least 70% of your assignment will be spe...   \n",
       "5   [' Market leading contributory pension scheme ...   \n",
       "6   [' PhD in physics or engineering (optical, mic...   \n",
       "7   [' You will have experience with microfluidic ...   \n",
       "8   [' You will have experience with microfluidic ...   \n",
       "9   [' New product development, including both exp...   \n",
       "10  [\" A PHD level or equivalent relevant experien...   \n",
       "11  [' Act as an operational engineer and build a ...   \n",
       "12  [' Build a complete and broad understanding of...   \n",
       "13  [' Market leading contributory pension scheme ...   \n",
       "14  [' Design, develop, operate and maintain laser...   \n",
       "15  [' Evaluation of technologies from potential p...   \n",
       "16  [' Contribute to the maintenance and developme...   \n",
       "17  [\" Master's degree - 2nd year or final year of...   \n",
       "18  [' Contribute to the maintenance and developme...   \n",
       "19  [' Conducting applied research in the area of ...   \n",
       "20  [' Ensuring the radiological safety of everyon...   \n",
       "21  [' Contribute to the maintenance and developme...   \n",
       "22  [' Contribute to the maintenance and developme...   \n",
       "23  [' Coordinating and working directly on the de...   \n",
       "24  [' Coordinating and working directly on the de...   \n",
       "25  [' development and maintenance of the flight s...   \n",
       "26  [' Coordinating and working directly on the de...   \n",
       "27  [' Three [3] years’ experience in a similar po...   \n",
       "28  [' A 1st or 2:1 in Physics or a related discip...   \n",
       "29  [' Development of cutting-edge optoelectronic ...   \n",
       "30  [' Development of cutting-edge optoelectronic ...   \n",
       "31  [' Delivery of high quality analytical and num...   \n",
       "32  [' Support the beam commissioning of the accel...   \n",
       "33  [' theory of charged particle acceleration and...   \n",
       "34  [' You will be responsible for expressing and ...   \n",
       "35  [' Strong working knowledge of molecular and c...   \n",
       "36  [' Strong working knowledge of molecular and c...   \n",
       "37  [' Deliver projects from conception to launch,...   \n",
       "38  [' Deliver projects from conception to launch,...   \n",
       "39  [' Work on an exciting new project with opport...   \n",
       "40  [' Execution of molecular biology and biochemi...   \n",
       "41  [' Execution of molecular biology and biochemi...   \n",
       "42  [' Design and execution of lab-based experimen...   \n",
       "43  [' Head of the compound management department,...   \n",
       "44  [' Expertise in biomarker assay development an...   \n",
       "45  [' Expertise in biomarker assay development an...   \n",
       "46  [' A PhD or equivalent in a relevant area (Bio...   \n",
       "47  [' An excellent academic record with 1st or 2:...   \n",
       "48  [' A Ph.D. in Biochemistry, Molecular Biology,...   \n",
       "49  [' Work closely with research groups to plan e...   \n",
       "\n",
       "                                                SKILL  \\\n",
       "0                                   [English, German]   \n",
       "1                           [Python, English, French]   \n",
       "2                                            [medium]   \n",
       "3                                                  []   \n",
       "4                                        [ICT, Dutch]   \n",
       "5                                                  []   \n",
       "6                           [German, English, C/C, C]   \n",
       "7                                            [Python]   \n",
       "8                                            [Python]   \n",
       "9                                 [English, atHorsoy]   \n",
       "10                                        [MS Office]   \n",
       "11               [English, Unix, Python, Jira, Linux]   \n",
       "12         [Python, JIRA, Confluence, English, Linux]   \n",
       "13             [Fortran, C++, Python, C, Unix, Linux]   \n",
       "14                                           [French]   \n",
       "15                                                 []   \n",
       "16                                           [medium]   \n",
       "17                                                 []   \n",
       "18                                           [medium]   \n",
       "19                                          [English]   \n",
       "20                                          [Diploma]   \n",
       "21                                           [medium]   \n",
       "22                                           [medium]   \n",
       "23  [pbus, github, gitlab, VHDL, Vivado High Level...   \n",
       "24  [pbus, github, gitlab, VHDL, Vivado High Level...   \n",
       "25                  [Python, C, C++, English, fusion]   \n",
       "26  [pbus, github, gitlab, VHDL, Vivado High Level...   \n",
       "27                [Three [, EDSL, SBEM, SAP, AutoCAD]   \n",
       "28                                    [Communication]   \n",
       "29                                 [SWIR, MWIR, LWIR]   \n",
       "30                                 [SWIR, MWIR, LWIR]   \n",
       "31                                  [FDTD, R, python]   \n",
       "32                          [Python, English, German]   \n",
       "33                                                 []   \n",
       "34                                [molecular biology]   \n",
       "35                                                 []   \n",
       "36                                                 []   \n",
       "37                                          [ISO, go]   \n",
       "38                                          [ISO, go]   \n",
       "39     [MS analysis, MS-based peptide identification]   \n",
       "40                                    [Communication]   \n",
       "41                                                 []   \n",
       "42                                                 []   \n",
       "43                                             [HPLC]   \n",
       "44                                                 []   \n",
       "45                                            [ML-NC]   \n",
       "46                   [Biophysics, GPCRs, MS analysis]   \n",
       "47                                     [biochemistry]   \n",
       "48                       [PCR, qPCR, RT-PCR, Taguchi]   \n",
       "49         [Advanced degree, DLS, DSF, ITC, SPR, BLI]   \n",
       "\n",
       "                                            KNOWLEDGE  \\\n",
       "0                                           [physics]   \n",
       "1   [programming, High Energy Physics data analysi...   \n",
       "2                                     [rel=\"nofollow]   \n",
       "3                                                  []   \n",
       "4                    [Physics, Engineering Photonics]   \n",
       "5                                                  []   \n",
       "6                 [physics, gineering, color science]   \n",
       "7   [microfluidic chip design, fluorescence micros...   \n",
       "8   [microfluidic chip design, fluorescence micros...   \n",
       "9                   [Physics, mathematical modelling]   \n",
       "10                                 [computer science]   \n",
       "11  [Data analysis, Physics, Electrical Engineerin...   \n",
       "12  [Physics, Electrical Engineering, Process Engi...   \n",
       "13                              [Physics, Unix/Linux]   \n",
       "14                                          [MEDICIS]   \n",
       "15                                                 []   \n",
       "16                                                 []   \n",
       "17                                  [Fluid Mechanics]   \n",
       "18  [rel=\"nofollow, Physics -, Health -, Computer ...   \n",
       "19                                          [physics]   \n",
       "20                                              [IRR]   \n",
       "21                                                 []   \n",
       "22                                                 []   \n",
       "23  [High Energy Physics algorithms, firmware, FPG...   \n",
       "24  [High Energy Physics algorithms, firmware, FPG...   \n",
       "25                          [COMPASS-U participation]   \n",
       "26  [High Energy Physics algorithms, firmware, FPG...   \n",
       "27                        [Energy Model, BREEAM/LEED]   \n",
       "28                  [Physics, strong academic record]   \n",
       "29                                                 []   \n",
       "30                                                 []   \n",
       "31                                           [Matlab]   \n",
       "32                                   [physics, MAD-X]   \n",
       "33           [computer codes, ELI-Beamlines, Physics]   \n",
       "34  [Molecular Biology, blot, UPLC, membrane protein]   \n",
       "35                                    [molecular and]   \n",
       "36                                    [molecular and]   \n",
       "37  [agile nature, molecular and, analytical metho...   \n",
       "38  [agile nature, molecular and, analytical metho...   \n",
       "39  [data analysis, Human Tissue, Biochemistry, Da...   \n",
       "40           [molecular biology, chemistry, software]   \n",
       "41           [molecular biology, chemistry, software]   \n",
       "42  [molecular biology, ducational, robotics, chem...   \n",
       "43                                                 []   \n",
       "44  [biochemistry, molecular biology, mass spectro...   \n",
       "45  [biochemistry, molecular biology, mass spectro...   \n",
       "46  [Biochemistry, Molecular Biology, molecular bi...   \n",
       "47                                              [PhD]   \n",
       "48  [Biochemistry, Molecular Biology, Chemistry, B...   \n",
       "49  [Chemistry, Biochemistry, Biology, molecular b...   \n",
       "\n",
       "                       MIN_EXP                    LEVEL  \n",
       "0                           []                       []  \n",
       "1                           []                       []  \n",
       "2                           []                       []  \n",
       "3                           []                       []  \n",
       "4   [English, Diploma, French]                 [German]  \n",
       "5                           []               [A degree]  \n",
       "6                           []               [PhD, MSc]  \n",
       "7                           []              [academics]  \n",
       "8                           []              [academics]  \n",
       "9                           []               [MSc, PhD]  \n",
       "10                          []                       []  \n",
       "11                          []                       []  \n",
       "12                          []                       []  \n",
       "13                          []                 [Degree]  \n",
       "14                          []                       []  \n",
       "15                          []          [A PhD, degree]  \n",
       "16                          []                       []  \n",
       "17                          []               [Master's]  \n",
       "18                          []                       []  \n",
       "19                          []                    [PhD]  \n",
       "20                          []            [Degree, MSc]  \n",
       "21                          []                       []  \n",
       "22                          []                       []  \n",
       "23                          []                       []  \n",
       "24                          []                       []  \n",
       "25                          []                       []  \n",
       "26                          []                       []  \n",
       "27                          []                       []  \n",
       "28                          []                      [A]  \n",
       "29                          []                       []  \n",
       "30                          []                       []  \n",
       "31                          []                       []  \n",
       "32                          []            [Master, PhD]  \n",
       "33                          []  [PhD, quivalent degree]  \n",
       "34                          []                       []  \n",
       "35                          []                    [PhD]  \n",
       "36                          []                    [PhD]  \n",
       "37                          []                    [PhD]  \n",
       "38                          []                    [PhD]  \n",
       "39                          []                       []  \n",
       "40                          []        [Advanced degree]  \n",
       "41                          []        [Advanced degree]  \n",
       "42                          []                  [A PhD]  \n",
       "43                          []                       []  \n",
       "44                          []                    [PhD]  \n",
       "45                          []                    [PhD]  \n",
       "46                          []                    [PhD]  \n",
       "47                          []                       []  \n",
       "48                          []                       []  \n",
       "49                          []               [MSc, PhD]  "
      ]
     },
     "execution_count": 494,
     "metadata": {},
     "output_type": "execute_result"
    }
   ],
   "source": [
    "JD.head(50)"
   ]
  },
  {
   "cell_type": "code",
   "execution_count": 521,
   "id": "c9828e0b-3672-4831-9f74-ec89e4565b79",
   "metadata": {},
   "outputs": [],
   "source": [
    "data = extract_jd(inp = 'art teacher')"
   ]
  },
  {
   "cell_type": "code",
   "execution_count": 525,
   "id": "dcd9b5d3-e89f-42a8-9862-11c4e164bca4",
   "metadata": {},
   "outputs": [],
   "source": [
    "pct_list = match_skills(skill_list, data)"
   ]
  },
  {
   "cell_type": "code",
   "execution_count": 527,
   "id": "a7c2388f-406c-4d06-9e9c-718ed19e5c8b",
   "metadata": {},
   "outputs": [
    {
     "name": "stdout",
     "output_type": "stream",
     "text": [
      "Job #1 in Sector Art Teacher has a 0.0% match\n",
      "Job #4 in Sector Secondary Art Teacher has a 0.0% match\n"
     ]
    },
    {
     "data": {
      "application/vnd.plotly.v1+json": {
       "config": {
        "plotlyServerURL": "https://plot.ly"
       },
       "data": [
        {
         "alignmentgroup": "True",
         "hovertemplate": "job position=%{x}<br>Matching %=%{y}<br>color=%{marker.color}<extra></extra>",
         "legendgroup": "",
         "marker": {
          "color": [
           0,
           0
          ],
          "coloraxis": "coloraxis",
          "pattern": {
           "shape": ""
          }
         },
         "name": "",
         "offsetgroup": "",
         "orientation": "v",
         "showlegend": false,
         "textposition": "auto",
         "type": "bar",
         "x": [
          "Art Teacher",
          "Secondary Art Teacher"
         ],
         "xaxis": "x",
         "y": [
          0,
          0
         ],
         "yaxis": "y"
        }
       ],
       "layout": {
        "barmode": "relative",
        "coloraxis": {
         "colorbar": {
          "title": {
           "text": "color"
          }
         },
         "colorscale": [
          [
           0,
           "rgb(2,4,25)"
          ],
          [
           0.0625,
           "rgb(24,15,41)"
          ],
          [
           0.125,
           "rgb(47,23,57)"
          ],
          [
           0.1875,
           "rgb(71,28,72)"
          ],
          [
           0.25,
           "rgb(97,30,82)"
          ],
          [
           0.3125,
           "rgb(123,30,89)"
          ],
          [
           0.375,
           "rgb(150,27,91)"
          ],
          [
           0.4375,
           "rgb(177,22,88)"
          ],
          [
           0.5,
           "rgb(203,26,79)"
          ],
          [
           0.5625,
           "rgb(223,47,67)"
          ],
          [
           0.625,
           "rgb(236,76,61)"
          ],
          [
           0.6875,
           "rgb(242,107,73)"
          ],
          [
           0.75,
           "rgb(244,135,95)"
          ],
          [
           0.8125,
           "rgb(245,162,122)"
          ],
          [
           0.875,
           "rgb(246,188,153)"
          ],
          [
           0.9375,
           "rgb(247,212,187)"
          ],
          [
           1,
           "rgb(250,234,220)"
          ]
         ]
        },
        "height": 800,
        "legend": {
         "tracegroupgap": 0
        },
        "paper_bgcolor": "lightblue",
        "template": {
         "data": {
          "bar": [
           {
            "error_x": {
             "color": "rgb(36,36,36)"
            },
            "error_y": {
             "color": "rgb(36,36,36)"
            },
            "marker": {
             "line": {
              "color": "rgb(234,234,242)",
              "width": 0.5
             },
             "pattern": {
              "fillmode": "overlay",
              "size": 10,
              "solidity": 0.2
             }
            },
            "type": "bar"
           }
          ],
          "barpolar": [
           {
            "marker": {
             "line": {
              "color": "rgb(234,234,242)",
              "width": 0.5
             },
             "pattern": {
              "fillmode": "overlay",
              "size": 10,
              "solidity": 0.2
             }
            },
            "type": "barpolar"
           }
          ],
          "carpet": [
           {
            "aaxis": {
             "endlinecolor": "rgb(36,36,36)",
             "gridcolor": "white",
             "linecolor": "white",
             "minorgridcolor": "white",
             "startlinecolor": "rgb(36,36,36)"
            },
            "baxis": {
             "endlinecolor": "rgb(36,36,36)",
             "gridcolor": "white",
             "linecolor": "white",
             "minorgridcolor": "white",
             "startlinecolor": "rgb(36,36,36)"
            },
            "type": "carpet"
           }
          ],
          "choropleth": [
           {
            "colorbar": {
             "outlinewidth": 0,
             "tickcolor": "rgb(36,36,36)",
             "ticklen": 8,
             "ticks": "outside",
             "tickwidth": 2
            },
            "type": "choropleth"
           }
          ],
          "contour": [
           {
            "colorbar": {
             "outlinewidth": 0,
             "tickcolor": "rgb(36,36,36)",
             "ticklen": 8,
             "ticks": "outside",
             "tickwidth": 2
            },
            "colorscale": [
             [
              0,
              "rgb(2,4,25)"
             ],
             [
              0.06274509803921569,
              "rgb(24,15,41)"
             ],
             [
              0.12549019607843137,
              "rgb(47,23,57)"
             ],
             [
              0.18823529411764706,
              "rgb(71,28,72)"
             ],
             [
              0.25098039215686274,
              "rgb(97,30,82)"
             ],
             [
              0.3137254901960784,
              "rgb(123,30,89)"
             ],
             [
              0.3764705882352941,
              "rgb(150,27,91)"
             ],
             [
              0.4392156862745098,
              "rgb(177,22,88)"
             ],
             [
              0.5019607843137255,
              "rgb(203,26,79)"
             ],
             [
              0.5647058823529412,
              "rgb(223,47,67)"
             ],
             [
              0.6274509803921569,
              "rgb(236,76,61)"
             ],
             [
              0.6901960784313725,
              "rgb(242,107,73)"
             ],
             [
              0.7529411764705882,
              "rgb(244,135,95)"
             ],
             [
              0.8156862745098039,
              "rgb(245,162,122)"
             ],
             [
              0.8784313725490196,
              "rgb(246,188,153)"
             ],
             [
              0.9411764705882353,
              "rgb(247,212,187)"
             ],
             [
              1,
              "rgb(250,234,220)"
             ]
            ],
            "type": "contour"
           }
          ],
          "contourcarpet": [
           {
            "colorbar": {
             "outlinewidth": 0,
             "tickcolor": "rgb(36,36,36)",
             "ticklen": 8,
             "ticks": "outside",
             "tickwidth": 2
            },
            "type": "contourcarpet"
           }
          ],
          "heatmap": [
           {
            "colorbar": {
             "outlinewidth": 0,
             "tickcolor": "rgb(36,36,36)",
             "ticklen": 8,
             "ticks": "outside",
             "tickwidth": 2
            },
            "colorscale": [
             [
              0,
              "rgb(2,4,25)"
             ],
             [
              0.06274509803921569,
              "rgb(24,15,41)"
             ],
             [
              0.12549019607843137,
              "rgb(47,23,57)"
             ],
             [
              0.18823529411764706,
              "rgb(71,28,72)"
             ],
             [
              0.25098039215686274,
              "rgb(97,30,82)"
             ],
             [
              0.3137254901960784,
              "rgb(123,30,89)"
             ],
             [
              0.3764705882352941,
              "rgb(150,27,91)"
             ],
             [
              0.4392156862745098,
              "rgb(177,22,88)"
             ],
             [
              0.5019607843137255,
              "rgb(203,26,79)"
             ],
             [
              0.5647058823529412,
              "rgb(223,47,67)"
             ],
             [
              0.6274509803921569,
              "rgb(236,76,61)"
             ],
             [
              0.6901960784313725,
              "rgb(242,107,73)"
             ],
             [
              0.7529411764705882,
              "rgb(244,135,95)"
             ],
             [
              0.8156862745098039,
              "rgb(245,162,122)"
             ],
             [
              0.8784313725490196,
              "rgb(246,188,153)"
             ],
             [
              0.9411764705882353,
              "rgb(247,212,187)"
             ],
             [
              1,
              "rgb(250,234,220)"
             ]
            ],
            "type": "heatmap"
           }
          ],
          "heatmapgl": [
           {
            "colorbar": {
             "outlinewidth": 0,
             "tickcolor": "rgb(36,36,36)",
             "ticklen": 8,
             "ticks": "outside",
             "tickwidth": 2
            },
            "colorscale": [
             [
              0,
              "rgb(2,4,25)"
             ],
             [
              0.06274509803921569,
              "rgb(24,15,41)"
             ],
             [
              0.12549019607843137,
              "rgb(47,23,57)"
             ],
             [
              0.18823529411764706,
              "rgb(71,28,72)"
             ],
             [
              0.25098039215686274,
              "rgb(97,30,82)"
             ],
             [
              0.3137254901960784,
              "rgb(123,30,89)"
             ],
             [
              0.3764705882352941,
              "rgb(150,27,91)"
             ],
             [
              0.4392156862745098,
              "rgb(177,22,88)"
             ],
             [
              0.5019607843137255,
              "rgb(203,26,79)"
             ],
             [
              0.5647058823529412,
              "rgb(223,47,67)"
             ],
             [
              0.6274509803921569,
              "rgb(236,76,61)"
             ],
             [
              0.6901960784313725,
              "rgb(242,107,73)"
             ],
             [
              0.7529411764705882,
              "rgb(244,135,95)"
             ],
             [
              0.8156862745098039,
              "rgb(245,162,122)"
             ],
             [
              0.8784313725490196,
              "rgb(246,188,153)"
             ],
             [
              0.9411764705882353,
              "rgb(247,212,187)"
             ],
             [
              1,
              "rgb(250,234,220)"
             ]
            ],
            "type": "heatmapgl"
           }
          ],
          "histogram": [
           {
            "marker": {
             "pattern": {
              "fillmode": "overlay",
              "size": 10,
              "solidity": 0.2
             }
            },
            "type": "histogram"
           }
          ],
          "histogram2d": [
           {
            "colorbar": {
             "outlinewidth": 0,
             "tickcolor": "rgb(36,36,36)",
             "ticklen": 8,
             "ticks": "outside",
             "tickwidth": 2
            },
            "colorscale": [
             [
              0,
              "rgb(2,4,25)"
             ],
             [
              0.06274509803921569,
              "rgb(24,15,41)"
             ],
             [
              0.12549019607843137,
              "rgb(47,23,57)"
             ],
             [
              0.18823529411764706,
              "rgb(71,28,72)"
             ],
             [
              0.25098039215686274,
              "rgb(97,30,82)"
             ],
             [
              0.3137254901960784,
              "rgb(123,30,89)"
             ],
             [
              0.3764705882352941,
              "rgb(150,27,91)"
             ],
             [
              0.4392156862745098,
              "rgb(177,22,88)"
             ],
             [
              0.5019607843137255,
              "rgb(203,26,79)"
             ],
             [
              0.5647058823529412,
              "rgb(223,47,67)"
             ],
             [
              0.6274509803921569,
              "rgb(236,76,61)"
             ],
             [
              0.6901960784313725,
              "rgb(242,107,73)"
             ],
             [
              0.7529411764705882,
              "rgb(244,135,95)"
             ],
             [
              0.8156862745098039,
              "rgb(245,162,122)"
             ],
             [
              0.8784313725490196,
              "rgb(246,188,153)"
             ],
             [
              0.9411764705882353,
              "rgb(247,212,187)"
             ],
             [
              1,
              "rgb(250,234,220)"
             ]
            ],
            "type": "histogram2d"
           }
          ],
          "histogram2dcontour": [
           {
            "colorbar": {
             "outlinewidth": 0,
             "tickcolor": "rgb(36,36,36)",
             "ticklen": 8,
             "ticks": "outside",
             "tickwidth": 2
            },
            "colorscale": [
             [
              0,
              "rgb(2,4,25)"
             ],
             [
              0.06274509803921569,
              "rgb(24,15,41)"
             ],
             [
              0.12549019607843137,
              "rgb(47,23,57)"
             ],
             [
              0.18823529411764706,
              "rgb(71,28,72)"
             ],
             [
              0.25098039215686274,
              "rgb(97,30,82)"
             ],
             [
              0.3137254901960784,
              "rgb(123,30,89)"
             ],
             [
              0.3764705882352941,
              "rgb(150,27,91)"
             ],
             [
              0.4392156862745098,
              "rgb(177,22,88)"
             ],
             [
              0.5019607843137255,
              "rgb(203,26,79)"
             ],
             [
              0.5647058823529412,
              "rgb(223,47,67)"
             ],
             [
              0.6274509803921569,
              "rgb(236,76,61)"
             ],
             [
              0.6901960784313725,
              "rgb(242,107,73)"
             ],
             [
              0.7529411764705882,
              "rgb(244,135,95)"
             ],
             [
              0.8156862745098039,
              "rgb(245,162,122)"
             ],
             [
              0.8784313725490196,
              "rgb(246,188,153)"
             ],
             [
              0.9411764705882353,
              "rgb(247,212,187)"
             ],
             [
              1,
              "rgb(250,234,220)"
             ]
            ],
            "type": "histogram2dcontour"
           }
          ],
          "mesh3d": [
           {
            "colorbar": {
             "outlinewidth": 0,
             "tickcolor": "rgb(36,36,36)",
             "ticklen": 8,
             "ticks": "outside",
             "tickwidth": 2
            },
            "type": "mesh3d"
           }
          ],
          "parcoords": [
           {
            "line": {
             "colorbar": {
              "outlinewidth": 0,
              "tickcolor": "rgb(36,36,36)",
              "ticklen": 8,
              "ticks": "outside",
              "tickwidth": 2
             }
            },
            "type": "parcoords"
           }
          ],
          "pie": [
           {
            "automargin": true,
            "type": "pie"
           }
          ],
          "scatter": [
           {
            "marker": {
             "colorbar": {
              "outlinewidth": 0,
              "tickcolor": "rgb(36,36,36)",
              "ticklen": 8,
              "ticks": "outside",
              "tickwidth": 2
             }
            },
            "type": "scatter"
           }
          ],
          "scatter3d": [
           {
            "line": {
             "colorbar": {
              "outlinewidth": 0,
              "tickcolor": "rgb(36,36,36)",
              "ticklen": 8,
              "ticks": "outside",
              "tickwidth": 2
             }
            },
            "marker": {
             "colorbar": {
              "outlinewidth": 0,
              "tickcolor": "rgb(36,36,36)",
              "ticklen": 8,
              "ticks": "outside",
              "tickwidth": 2
             }
            },
            "type": "scatter3d"
           }
          ],
          "scattercarpet": [
           {
            "marker": {
             "colorbar": {
              "outlinewidth": 0,
              "tickcolor": "rgb(36,36,36)",
              "ticklen": 8,
              "ticks": "outside",
              "tickwidth": 2
             }
            },
            "type": "scattercarpet"
           }
          ],
          "scattergeo": [
           {
            "marker": {
             "colorbar": {
              "outlinewidth": 0,
              "tickcolor": "rgb(36,36,36)",
              "ticklen": 8,
              "ticks": "outside",
              "tickwidth": 2
             }
            },
            "type": "scattergeo"
           }
          ],
          "scattergl": [
           {
            "marker": {
             "colorbar": {
              "outlinewidth": 0,
              "tickcolor": "rgb(36,36,36)",
              "ticklen": 8,
              "ticks": "outside",
              "tickwidth": 2
             }
            },
            "type": "scattergl"
           }
          ],
          "scattermapbox": [
           {
            "marker": {
             "colorbar": {
              "outlinewidth": 0,
              "tickcolor": "rgb(36,36,36)",
              "ticklen": 8,
              "ticks": "outside",
              "tickwidth": 2
             }
            },
            "type": "scattermapbox"
           }
          ],
          "scatterpolar": [
           {
            "marker": {
             "colorbar": {
              "outlinewidth": 0,
              "tickcolor": "rgb(36,36,36)",
              "ticklen": 8,
              "ticks": "outside",
              "tickwidth": 2
             }
            },
            "type": "scatterpolar"
           }
          ],
          "scatterpolargl": [
           {
            "marker": {
             "colorbar": {
              "outlinewidth": 0,
              "tickcolor": "rgb(36,36,36)",
              "ticklen": 8,
              "ticks": "outside",
              "tickwidth": 2
             }
            },
            "type": "scatterpolargl"
           }
          ],
          "scatterternary": [
           {
            "marker": {
             "colorbar": {
              "outlinewidth": 0,
              "tickcolor": "rgb(36,36,36)",
              "ticklen": 8,
              "ticks": "outside",
              "tickwidth": 2
             }
            },
            "type": "scatterternary"
           }
          ],
          "surface": [
           {
            "colorbar": {
             "outlinewidth": 0,
             "tickcolor": "rgb(36,36,36)",
             "ticklen": 8,
             "ticks": "outside",
             "tickwidth": 2
            },
            "colorscale": [
             [
              0,
              "rgb(2,4,25)"
             ],
             [
              0.06274509803921569,
              "rgb(24,15,41)"
             ],
             [
              0.12549019607843137,
              "rgb(47,23,57)"
             ],
             [
              0.18823529411764706,
              "rgb(71,28,72)"
             ],
             [
              0.25098039215686274,
              "rgb(97,30,82)"
             ],
             [
              0.3137254901960784,
              "rgb(123,30,89)"
             ],
             [
              0.3764705882352941,
              "rgb(150,27,91)"
             ],
             [
              0.4392156862745098,
              "rgb(177,22,88)"
             ],
             [
              0.5019607843137255,
              "rgb(203,26,79)"
             ],
             [
              0.5647058823529412,
              "rgb(223,47,67)"
             ],
             [
              0.6274509803921569,
              "rgb(236,76,61)"
             ],
             [
              0.6901960784313725,
              "rgb(242,107,73)"
             ],
             [
              0.7529411764705882,
              "rgb(244,135,95)"
             ],
             [
              0.8156862745098039,
              "rgb(245,162,122)"
             ],
             [
              0.8784313725490196,
              "rgb(246,188,153)"
             ],
             [
              0.9411764705882353,
              "rgb(247,212,187)"
             ],
             [
              1,
              "rgb(250,234,220)"
             ]
            ],
            "type": "surface"
           }
          ],
          "table": [
           {
            "cells": {
             "fill": {
              "color": "rgb(231,231,240)"
             },
             "line": {
              "color": "white"
             }
            },
            "header": {
             "fill": {
              "color": "rgb(183,183,191)"
             },
             "line": {
              "color": "white"
             }
            },
            "type": "table"
           }
          ]
         },
         "layout": {
          "annotationdefaults": {
           "arrowcolor": "rgb(67,103,167)"
          },
          "autotypenumbers": "strict",
          "coloraxis": {
           "colorbar": {
            "outlinewidth": 0,
            "tickcolor": "rgb(36,36,36)",
            "ticklen": 8,
            "ticks": "outside",
            "tickwidth": 2
           }
          },
          "colorscale": {
           "sequential": [
            [
             0,
             "rgb(2,4,25)"
            ],
            [
             0.06274509803921569,
             "rgb(24,15,41)"
            ],
            [
             0.12549019607843137,
             "rgb(47,23,57)"
            ],
            [
             0.18823529411764706,
             "rgb(71,28,72)"
            ],
            [
             0.25098039215686274,
             "rgb(97,30,82)"
            ],
            [
             0.3137254901960784,
             "rgb(123,30,89)"
            ],
            [
             0.3764705882352941,
             "rgb(150,27,91)"
            ],
            [
             0.4392156862745098,
             "rgb(177,22,88)"
            ],
            [
             0.5019607843137255,
             "rgb(203,26,79)"
            ],
            [
             0.5647058823529412,
             "rgb(223,47,67)"
            ],
            [
             0.6274509803921569,
             "rgb(236,76,61)"
            ],
            [
             0.6901960784313725,
             "rgb(242,107,73)"
            ],
            [
             0.7529411764705882,
             "rgb(244,135,95)"
            ],
            [
             0.8156862745098039,
             "rgb(245,162,122)"
            ],
            [
             0.8784313725490196,
             "rgb(246,188,153)"
            ],
            [
             0.9411764705882353,
             "rgb(247,212,187)"
            ],
            [
             1,
             "rgb(250,234,220)"
            ]
           ],
           "sequentialminus": [
            [
             0,
             "rgb(2,4,25)"
            ],
            [
             0.06274509803921569,
             "rgb(24,15,41)"
            ],
            [
             0.12549019607843137,
             "rgb(47,23,57)"
            ],
            [
             0.18823529411764706,
             "rgb(71,28,72)"
            ],
            [
             0.25098039215686274,
             "rgb(97,30,82)"
            ],
            [
             0.3137254901960784,
             "rgb(123,30,89)"
            ],
            [
             0.3764705882352941,
             "rgb(150,27,91)"
            ],
            [
             0.4392156862745098,
             "rgb(177,22,88)"
            ],
            [
             0.5019607843137255,
             "rgb(203,26,79)"
            ],
            [
             0.5647058823529412,
             "rgb(223,47,67)"
            ],
            [
             0.6274509803921569,
             "rgb(236,76,61)"
            ],
            [
             0.6901960784313725,
             "rgb(242,107,73)"
            ],
            [
             0.7529411764705882,
             "rgb(244,135,95)"
            ],
            [
             0.8156862745098039,
             "rgb(245,162,122)"
            ],
            [
             0.8784313725490196,
             "rgb(246,188,153)"
            ],
            [
             0.9411764705882353,
             "rgb(247,212,187)"
            ],
            [
             1,
             "rgb(250,234,220)"
            ]
           ]
          },
          "colorway": [
           "rgb(76,114,176)",
           "rgb(221,132,82)",
           "rgb(85,168,104)",
           "rgb(196,78,82)",
           "rgb(129,114,179)",
           "rgb(147,120,96)",
           "rgb(218,139,195)",
           "rgb(140,140,140)",
           "rgb(204,185,116)",
           "rgb(100,181,205)"
          ],
          "font": {
           "color": "rgb(36,36,36)"
          },
          "geo": {
           "bgcolor": "white",
           "lakecolor": "white",
           "landcolor": "rgb(234,234,242)",
           "showlakes": true,
           "showland": true,
           "subunitcolor": "white"
          },
          "hoverlabel": {
           "align": "left"
          },
          "hovermode": "closest",
          "paper_bgcolor": "white",
          "plot_bgcolor": "rgb(234,234,242)",
          "polar": {
           "angularaxis": {
            "gridcolor": "white",
            "linecolor": "white",
            "showgrid": true,
            "ticks": ""
           },
           "bgcolor": "rgb(234,234,242)",
           "radialaxis": {
            "gridcolor": "white",
            "linecolor": "white",
            "showgrid": true,
            "ticks": ""
           }
          },
          "scene": {
           "xaxis": {
            "backgroundcolor": "rgb(234,234,242)",
            "gridcolor": "white",
            "gridwidth": 2,
            "linecolor": "white",
            "showbackground": true,
            "showgrid": true,
            "ticks": "",
            "zerolinecolor": "white"
           },
           "yaxis": {
            "backgroundcolor": "rgb(234,234,242)",
            "gridcolor": "white",
            "gridwidth": 2,
            "linecolor": "white",
            "showbackground": true,
            "showgrid": true,
            "ticks": "",
            "zerolinecolor": "white"
           },
           "zaxis": {
            "backgroundcolor": "rgb(234,234,242)",
            "gridcolor": "white",
            "gridwidth": 2,
            "linecolor": "white",
            "showbackground": true,
            "showgrid": true,
            "ticks": "",
            "zerolinecolor": "white"
           }
          },
          "shapedefaults": {
           "fillcolor": "rgb(67,103,167)",
           "line": {
            "width": 0
           },
           "opacity": 0.5
          },
          "ternary": {
           "aaxis": {
            "gridcolor": "white",
            "linecolor": "white",
            "showgrid": true,
            "ticks": ""
           },
           "baxis": {
            "gridcolor": "white",
            "linecolor": "white",
            "showgrid": true,
            "ticks": ""
           },
           "bgcolor": "rgb(234,234,242)",
           "caxis": {
            "gridcolor": "white",
            "linecolor": "white",
            "showgrid": true,
            "ticks": ""
           }
          },
          "xaxis": {
           "automargin": true,
           "gridcolor": "white",
           "linecolor": "white",
           "showgrid": true,
           "ticks": "",
           "title": {
            "standoff": 15
           },
           "zerolinecolor": "white"
          },
          "yaxis": {
           "automargin": true,
           "gridcolor": "white",
           "linecolor": "white",
           "showgrid": true,
           "ticks": "",
           "title": {
            "standoff": 15
           },
           "zerolinecolor": "white"
          }
         }
        },
        "title": {
         "text": "Job offers matching with resume"
        },
        "width": 1200,
        "xaxis": {
         "anchor": "y",
         "autorange": true,
         "domain": [
          0,
          1
         ],
         "range": [
          -0.5,
          1.5
         ],
         "title": {
          "text": "job position"
         },
         "type": "category"
        },
        "yaxis": {
         "anchor": "x",
         "autorange": true,
         "domain": [
          0,
          1
         ],
         "range": [
          -1,
          1
         ],
         "title": {
          "text": "Matching %"
         },
         "type": "linear"
        }
       }
      },
      "image/png": "[encoded data removed]",
      "text/html": [
       "<div>                            <div id=\"714cbf3e-b001-48c1-8494-e8ca6013df06\" class=\"plotly-graph-div\" style=\"height:800px; width:1200px;\"></div>            <script type=\"text/javascript\">                require([\"plotly\"], function(Plotly) {                    window.PLOTLYENV=window.PLOTLYENV || {};                                    if (document.getElementById(\"714cbf3e-b001-48c1-8494-e8ca6013df06\")) {                    Plotly.newPlot(                        \"714cbf3e-b001-48c1-8494-e8ca6013df06\",                        [{\"alignmentgroup\":\"True\",\"hovertemplate\":\"job position=%{x}<br>Matching %=%{y}<br>color=%{marker.color}<extra></extra>\",\"legendgroup\":\"\",\"marker\":{\"color\":[0.0,0.0],\"coloraxis\":\"coloraxis\",\"pattern\":{\"shape\":\"\"}},\"name\":\"\",\"offsetgroup\":\"\",\"orientation\":\"v\",\"showlegend\":false,\"textposition\":\"auto\",\"type\":\"bar\",\"x\":[\"Art Teacher\",\"Secondary Art Teacher\"],\"xaxis\":\"x\",\"y\":[0.0,0.0],\"yaxis\":\"y\"}],                        {\"barmode\":\"relative\",\"coloraxis\":{\"colorbar\":{\"title\":{\"text\":\"color\"}},\"colorscale\":[[0.0,\"rgb(2,4,25)\"],[0.0625,\"rgb(24,15,41)\"],[0.125,\"rgb(47,23,57)\"],[0.1875,\"rgb(71,28,72)\"],[0.25,\"rgb(97,30,82)\"],[0.3125,\"rgb(123,30,89)\"],[0.375,\"rgb(150,27,91)\"],[0.4375,\"rgb(177,22,88)\"],[0.5,\"rgb(203,26,79)\"],[0.5625,\"rgb(223,47,67)\"],[0.625,\"rgb(236,76,61)\"],[0.6875,\"rgb(242,107,73)\"],[0.75,\"rgb(244,135,95)\"],[0.8125,\"rgb(245,162,122)\"],[0.875,\"rgb(246,188,153)\"],[0.9375,\"rgb(247,212,187)\"],[1.0,\"rgb(250,234,220)\"]]},\"height\":800,\"legend\":{\"tracegroupgap\":0},\"paper_bgcolor\":\"lightblue\",\"template\":{\"data\":{\"bar\":[{\"error_x\":{\"color\":\"rgb(36,36,36)\"},\"error_y\":{\"color\":\"rgb(36,36,36)\"},\"marker\":{\"line\":{\"color\":\"rgb(234,234,242)\",\"width\":0.5},\"pattern\":{\"fillmode\":\"overlay\",\"size\":10,\"solidity\":0.2}},\"type\":\"bar\"}],\"barpolar\":[{\"marker\":{\"line\":{\"color\":\"rgb(234,234,242)\",\"width\":0.5},\"pattern\":{\"fillmode\":\"overlay\",\"size\":10,\"solidity\":0.2}},\"type\":\"barpolar\"}],\"carpet\":[{\"aaxis\":{\"endlinecolor\":\"rgb(36,36,36)\",\"gridcolor\":\"white\",\"linecolor\":\"white\",\"minorgridcolor\":\"white\",\"startlinecolor\":\"rgb(36,36,36)\"},\"baxis\":{\"endlinecolor\":\"rgb(36,36,36)\",\"gridcolor\":\"white\",\"linecolor\":\"white\",\"minorgridcolor\":\"white\",\"startlinecolor\":\"rgb(36,36,36)\"},\"type\":\"carpet\"}],\"choropleth\":[{\"colorbar\":{\"outlinewidth\":0,\"tickcolor\":\"rgb(36,36,36)\",\"ticklen\":8,\"ticks\":\"outside\",\"tickwidth\":2},\"type\":\"choropleth\"}],\"contour\":[{\"colorbar\":{\"outlinewidth\":0,\"tickcolor\":\"rgb(36,36,36)\",\"ticklen\":8,\"ticks\":\"outside\",\"tickwidth\":2},\"colorscale\":[[0.0,\"rgb(2,4,25)\"],[0.06274509803921569,\"rgb(24,15,41)\"],[0.12549019607843137,\"rgb(47,23,57)\"],[0.18823529411764706,\"rgb(71,28,72)\"],[0.25098039215686274,\"rgb(97,30,82)\"],[0.3137254901960784,\"rgb(123,30,89)\"],[0.3764705882352941,\"rgb(150,27,91)\"],[0.4392156862745098,\"rgb(177,22,88)\"],[0.5019607843137255,\"rgb(203,26,79)\"],[0.5647058823529412,\"rgb(223,47,67)\"],[0.6274509803921569,\"rgb(236,76,61)\"],[0.6901960784313725,\"rgb(242,107,73)\"],[0.7529411764705882,\"rgb(244,135,95)\"],[0.8156862745098039,\"rgb(245,162,122)\"],[0.8784313725490196,\"rgb(246,188,153)\"],[0.9411764705882353,\"rgb(247,212,187)\"],[1.0,\"rgb(250,234,220)\"]],\"type\":\"contour\"}],\"contourcarpet\":[{\"colorbar\":{\"outlinewidth\":0,\"tickcolor\":\"rgb(36,36,36)\",\"ticklen\":8,\"ticks\":\"outside\",\"tickwidth\":2},\"type\":\"contourcarpet\"}],\"heatmap\":[{\"colorbar\":{\"outlinewidth\":0,\"tickcolor\":\"rgb(36,36,36)\",\"ticklen\":8,\"ticks\":\"outside\",\"tickwidth\":2},\"colorscale\":[[0.0,\"rgb(2,4,25)\"],[0.06274509803921569,\"rgb(24,15,41)\"],[0.12549019607843137,\"rgb(47,23,57)\"],[0.18823529411764706,\"rgb(71,28,72)\"],[0.25098039215686274,\"rgb(97,30,82)\"],[0.3137254901960784,\"rgb(123,30,89)\"],[0.3764705882352941,\"rgb(150,27,91)\"],[0.4392156862745098,\"rgb(177,22,88)\"],[0.5019607843137255,\"rgb(203,26,79)\"],[0.5647058823529412,\"rgb(223,47,67)\"],[0.6274509803921569,\"rgb(236,76,61)\"],[0.6901960784313725,\"rgb(242,107,73)\"],[0.7529411764705882,\"rgb(244,135,95)\"],[0.8156862745098039,\"rgb(245,162,122)\"],[0.8784313725490196,\"rgb(246,188,153)\"],[0.9411764705882353,\"rgb(247,212,187)\"],[1.0,\"rgb(250,234,220)\"]],\"type\":\"heatmap\"}],\"heatmapgl\":[{\"colorbar\":{\"outlinewidth\":0,\"tickcolor\":\"rgb(36,36,36)\",\"ticklen\":8,\"ticks\":\"outside\",\"tickwidth\":2},\"colorscale\":[[0.0,\"rgb(2,4,25)\"],[0.06274509803921569,\"rgb(24,15,41)\"],[0.12549019607843137,\"rgb(47,23,57)\"],[0.18823529411764706,\"rgb(71,28,72)\"],[0.25098039215686274,\"rgb(97,30,82)\"],[0.3137254901960784,\"rgb(123,30,89)\"],[0.3764705882352941,\"rgb(150,27,91)\"],[0.4392156862745098,\"rgb(177,22,88)\"],[0.5019607843137255,\"rgb(203,26,79)\"],[0.5647058823529412,\"rgb(223,47,67)\"],[0.6274509803921569,\"rgb(236,76,61)\"],[0.6901960784313725,\"rgb(242,107,73)\"],[0.7529411764705882,\"rgb(244,135,95)\"],[0.8156862745098039,\"rgb(245,162,122)\"],[0.8784313725490196,\"rgb(246,188,153)\"],[0.9411764705882353,\"rgb(247,212,187)\"],[1.0,\"rgb(250,234,220)\"]],\"type\":\"heatmapgl\"}],\"histogram\":[{\"marker\":{\"pattern\":{\"fillmode\":\"overlay\",\"size\":10,\"solidity\":0.2}},\"type\":\"histogram\"}],\"histogram2d\":[{\"colorbar\":{\"outlinewidth\":0,\"tickcolor\":\"rgb(36,36,36)\",\"ticklen\":8,\"ticks\":\"outside\",\"tickwidth\":2},\"colorscale\":[[0.0,\"rgb(2,4,25)\"],[0.06274509803921569,\"rgb(24,15,41)\"],[0.12549019607843137,\"rgb(47,23,57)\"],[0.18823529411764706,\"rgb(71,28,72)\"],[0.25098039215686274,\"rgb(97,30,82)\"],[0.3137254901960784,\"rgb(123,30,89)\"],[0.3764705882352941,\"rgb(150,27,91)\"],[0.4392156862745098,\"rgb(177,22,88)\"],[0.5019607843137255,\"rgb(203,26,79)\"],[0.5647058823529412,\"rgb(223,47,67)\"],[0.6274509803921569,\"rgb(236,76,61)\"],[0.6901960784313725,\"rgb(242,107,73)\"],[0.7529411764705882,\"rgb(244,135,95)\"],[0.8156862745098039,\"rgb(245,162,122)\"],[0.8784313725490196,\"rgb(246,188,153)\"],[0.9411764705882353,\"rgb(247,212,187)\"],[1.0,\"rgb(250,234,220)\"]],\"type\":\"histogram2d\"}],\"histogram2dcontour\":[{\"colorbar\":{\"outlinewidth\":0,\"tickcolor\":\"rgb(36,36,36)\",\"ticklen\":8,\"ticks\":\"outside\",\"tickwidth\":2},\"colorscale\":[[0.0,\"rgb(2,4,25)\"],[0.06274509803921569,\"rgb(24,15,41)\"],[0.12549019607843137,\"rgb(47,23,57)\"],[0.18823529411764706,\"rgb(71,28,72)\"],[0.25098039215686274,\"rgb(97,30,82)\"],[0.3137254901960784,\"rgb(123,30,89)\"],[0.3764705882352941,\"rgb(150,27,91)\"],[0.4392156862745098,\"rgb(177,22,88)\"],[0.5019607843137255,\"rgb(203,26,79)\"],[0.5647058823529412,\"rgb(223,47,67)\"],[0.6274509803921569,\"rgb(236,76,61)\"],[0.6901960784313725,\"rgb(242,107,73)\"],[0.7529411764705882,\"rgb(244,135,95)\"],[0.8156862745098039,\"rgb(245,162,122)\"],[0.8784313725490196,\"rgb(246,188,153)\"],[0.9411764705882353,\"rgb(247,212,187)\"],[1.0,\"rgb(250,234,220)\"]],\"type\":\"histogram2dcontour\"}],\"mesh3d\":[{\"colorbar\":{\"outlinewidth\":0,\"tickcolor\":\"rgb(36,36,36)\",\"ticklen\":8,\"ticks\":\"outside\",\"tickwidth\":2},\"type\":\"mesh3d\"}],\"parcoords\":[{\"line\":{\"colorbar\":{\"outlinewidth\":0,\"tickcolor\":\"rgb(36,36,36)\",\"ticklen\":8,\"ticks\":\"outside\",\"tickwidth\":2}},\"type\":\"parcoords\"}],\"pie\":[{\"automargin\":true,\"type\":\"pie\"}],\"scatter\":[{\"marker\":{\"colorbar\":{\"outlinewidth\":0,\"tickcolor\":\"rgb(36,36,36)\",\"ticklen\":8,\"ticks\":\"outside\",\"tickwidth\":2}},\"type\":\"scatter\"}],\"scatter3d\":[{\"line\":{\"colorbar\":{\"outlinewidth\":0,\"tickcolor\":\"rgb(36,36,36)\",\"ticklen\":8,\"ticks\":\"outside\",\"tickwidth\":2}},\"marker\":{\"colorbar\":{\"outlinewidth\":0,\"tickcolor\":\"rgb(36,36,36)\",\"ticklen\":8,\"ticks\":\"outside\",\"tickwidth\":2}},\"type\":\"scatter3d\"}],\"scattercarpet\":[{\"marker\":{\"colorbar\":{\"outlinewidth\":0,\"tickcolor\":\"rgb(36,36,36)\",\"ticklen\":8,\"ticks\":\"outside\",\"tickwidth\":2}},\"type\":\"scattercarpet\"}],\"scattergeo\":[{\"marker\":{\"colorbar\":{\"outlinewidth\":0,\"tickcolor\":\"rgb(36,36,36)\",\"ticklen\":8,\"ticks\":\"outside\",\"tickwidth\":2}},\"type\":\"scattergeo\"}],\"scattergl\":[{\"marker\":{\"colorbar\":{\"outlinewidth\":0,\"tickcolor\":\"rgb(36,36,36)\",\"ticklen\":8,\"ticks\":\"outside\",\"tickwidth\":2}},\"type\":\"scattergl\"}],\"scattermapbox\":[{\"marker\":{\"colorbar\":{\"outlinewidth\":0,\"tickcolor\":\"rgb(36,36,36)\",\"ticklen\":8,\"ticks\":\"outside\",\"tickwidth\":2}},\"type\":\"scattermapbox\"}],\"scatterpolar\":[{\"marker\":{\"colorbar\":{\"outlinewidth\":0,\"tickcolor\":\"rgb(36,36,36)\",\"ticklen\":8,\"ticks\":\"outside\",\"tickwidth\":2}},\"type\":\"scatterpolar\"}],\"scatterpolargl\":[{\"marker\":{\"colorbar\":{\"outlinewidth\":0,\"tickcolor\":\"rgb(36,36,36)\",\"ticklen\":8,\"ticks\":\"outside\",\"tickwidth\":2}},\"type\":\"scatterpolargl\"}],\"scatterternary\":[{\"marker\":{\"colorbar\":{\"outlinewidth\":0,\"tickcolor\":\"rgb(36,36,36)\",\"ticklen\":8,\"ticks\":\"outside\",\"tickwidth\":2}},\"type\":\"scatterternary\"}],\"surface\":[{\"colorbar\":{\"outlinewidth\":0,\"tickcolor\":\"rgb(36,36,36)\",\"ticklen\":8,\"ticks\":\"outside\",\"tickwidth\":2},\"colorscale\":[[0.0,\"rgb(2,4,25)\"],[0.06274509803921569,\"rgb(24,15,41)\"],[0.12549019607843137,\"rgb(47,23,57)\"],[0.18823529411764706,\"rgb(71,28,72)\"],[0.25098039215686274,\"rgb(97,30,82)\"],[0.3137254901960784,\"rgb(123,30,89)\"],[0.3764705882352941,\"rgb(150,27,91)\"],[0.4392156862745098,\"rgb(177,22,88)\"],[0.5019607843137255,\"rgb(203,26,79)\"],[0.5647058823529412,\"rgb(223,47,67)\"],[0.6274509803921569,\"rgb(236,76,61)\"],[0.6901960784313725,\"rgb(242,107,73)\"],[0.7529411764705882,\"rgb(244,135,95)\"],[0.8156862745098039,\"rgb(245,162,122)\"],[0.8784313725490196,\"rgb(246,188,153)\"],[0.9411764705882353,\"rgb(247,212,187)\"],[1.0,\"rgb(250,234,220)\"]],\"type\":\"surface\"}],\"table\":[{\"cells\":{\"fill\":{\"color\":\"rgb(231,231,240)\"},\"line\":{\"color\":\"white\"}},\"header\":{\"fill\":{\"color\":\"rgb(183,183,191)\"},\"line\":{\"color\":\"white\"}},\"type\":\"table\"}]},\"layout\":{\"annotationdefaults\":{\"arrowcolor\":\"rgb(67,103,167)\"},\"autotypenumbers\":\"strict\",\"coloraxis\":{\"colorbar\":{\"outlinewidth\":0,\"tickcolor\":\"rgb(36,36,36)\",\"ticklen\":8,\"ticks\":\"outside\",\"tickwidth\":2}},\"colorscale\":{\"sequential\":[[0.0,\"rgb(2,4,25)\"],[0.06274509803921569,\"rgb(24,15,41)\"],[0.12549019607843137,\"rgb(47,23,57)\"],[0.18823529411764706,\"rgb(71,28,72)\"],[0.25098039215686274,\"rgb(97,30,82)\"],[0.3137254901960784,\"rgb(123,30,89)\"],[0.3764705882352941,\"rgb(150,27,91)\"],[0.4392156862745098,\"rgb(177,22,88)\"],[0.5019607843137255,\"rgb(203,26,79)\"],[0.5647058823529412,\"rgb(223,47,67)\"],[0.6274509803921569,\"rgb(236,76,61)\"],[0.6901960784313725,\"rgb(242,107,73)\"],[0.7529411764705882,\"rgb(244,135,95)\"],[0.8156862745098039,\"rgb(245,162,122)\"],[0.8784313725490196,\"rgb(246,188,153)\"],[0.9411764705882353,\"rgb(247,212,187)\"],[1.0,\"rgb(250,234,220)\"]],\"sequentialminus\":[[0.0,\"rgb(2,4,25)\"],[0.06274509803921569,\"rgb(24,15,41)\"],[0.12549019607843137,\"rgb(47,23,57)\"],[0.18823529411764706,\"rgb(71,28,72)\"],[0.25098039215686274,\"rgb(97,30,82)\"],[0.3137254901960784,\"rgb(123,30,89)\"],[0.3764705882352941,\"rgb(150,27,91)\"],[0.4392156862745098,\"rgb(177,22,88)\"],[0.5019607843137255,\"rgb(203,26,79)\"],[0.5647058823529412,\"rgb(223,47,67)\"],[0.6274509803921569,\"rgb(236,76,61)\"],[0.6901960784313725,\"rgb(242,107,73)\"],[0.7529411764705882,\"rgb(244,135,95)\"],[0.8156862745098039,\"rgb(245,162,122)\"],[0.8784313725490196,\"rgb(246,188,153)\"],[0.9411764705882353,\"rgb(247,212,187)\"],[1.0,\"rgb(250,234,220)\"]]},\"colorway\":[\"rgb(76,114,176)\",\"rgb(221,132,82)\",\"rgb(85,168,104)\",\"rgb(196,78,82)\",\"rgb(129,114,179)\",\"rgb(147,120,96)\",\"rgb(218,139,195)\",\"rgb(140,140,140)\",\"rgb(204,185,116)\",\"rgb(100,181,205)\"],\"font\":{\"color\":\"rgb(36,36,36)\"},\"geo\":{\"bgcolor\":\"white\",\"lakecolor\":\"white\",\"landcolor\":\"rgb(234,234,242)\",\"showlakes\":true,\"showland\":true,\"subunitcolor\":\"white\"},\"hoverlabel\":{\"align\":\"left\"},\"hovermode\":\"closest\",\"paper_bgcolor\":\"white\",\"plot_bgcolor\":\"rgb(234,234,242)\",\"polar\":{\"angularaxis\":{\"gridcolor\":\"white\",\"linecolor\":\"white\",\"showgrid\":true,\"ticks\":\"\"},\"bgcolor\":\"rgb(234,234,242)\",\"radialaxis\":{\"gridcolor\":\"white\",\"linecolor\":\"white\",\"showgrid\":true,\"ticks\":\"\"}},\"scene\":{\"xaxis\":{\"backgroundcolor\":\"rgb(234,234,242)\",\"gridcolor\":\"white\",\"gridwidth\":2,\"linecolor\":\"white\",\"showbackground\":true,\"showgrid\":true,\"ticks\":\"\",\"zerolinecolor\":\"white\"},\"yaxis\":{\"backgroundcolor\":\"rgb(234,234,242)\",\"gridcolor\":\"white\",\"gridwidth\":2,\"linecolor\":\"white\",\"showbackground\":true,\"showgrid\":true,\"ticks\":\"\",\"zerolinecolor\":\"white\"},\"zaxis\":{\"backgroundcolor\":\"rgb(234,234,242)\",\"gridcolor\":\"white\",\"gridwidth\":2,\"linecolor\":\"white\",\"showbackground\":true,\"showgrid\":true,\"ticks\":\"\",\"zerolinecolor\":\"white\"}},\"shapedefaults\":{\"fillcolor\":\"rgb(67,103,167)\",\"line\":{\"width\":0},\"opacity\":0.5},\"ternary\":{\"aaxis\":{\"gridcolor\":\"white\",\"linecolor\":\"white\",\"showgrid\":true,\"ticks\":\"\"},\"baxis\":{\"gridcolor\":\"white\",\"linecolor\":\"white\",\"showgrid\":true,\"ticks\":\"\"},\"bgcolor\":\"rgb(234,234,242)\",\"caxis\":{\"gridcolor\":\"white\",\"linecolor\":\"white\",\"showgrid\":true,\"ticks\":\"\"}},\"xaxis\":{\"automargin\":true,\"gridcolor\":\"white\",\"linecolor\":\"white\",\"showgrid\":true,\"ticks\":\"\",\"title\":{\"standoff\":15},\"zerolinecolor\":\"white\"},\"yaxis\":{\"automargin\":true,\"gridcolor\":\"white\",\"linecolor\":\"white\",\"showgrid\":true,\"ticks\":\"\",\"title\":{\"standoff\":15},\"zerolinecolor\":\"white\"}}},\"title\":{\"text\":\"Job offers matching with resume\"},\"width\":1200,\"xaxis\":{\"anchor\":\"y\",\"domain\":[0.0,1.0],\"title\":{\"text\":\"job position\"}},\"yaxis\":{\"anchor\":\"x\",\"domain\":[0.0,1.0],\"title\":{\"text\":\"Matching %\"}}},                        {\"responsive\": true}                    ).then(function(){\n",
       "                            \n",
       "var gd = document.getElementById('714cbf3e-b001-48c1-8494-e8ca6013df06');\n",
       "var x = new MutationObserver(function (mutations, observer) {{\n",
       "        var display = window.getComputedStyle(gd).display;\n",
       "        if (!display || display === 'none') {{\n",
       "            console.log([gd, 'removed!']);\n",
       "            Plotly.purge(gd);\n",
       "            observer.disconnect();\n",
       "        }}\n",
       "}});\n",
       "\n",
       "// Listen for the removal of the full notebook cells\n",
       "var notebookContainer = gd.closest('#notebook-container');\n",
       "if (notebookContainer) {{\n",
       "    x.observe(notebookContainer, {childList: true});\n",
       "}}\n",
       "\n",
       "// Listen for the clearing of the current output cell\n",
       "var outputEl = gd.closest('.output');\n",
       "if (outputEl) {{\n",
       "    x.observe(outputEl, {childList: true});\n",
       "}}\n",
       "\n",
       "                        })                };                });            </script>        </div>"
      ]
     },
     "metadata": {},
     "output_type": "display_data"
    }
   ],
   "source": [
    "visualizer(pct_list, data)"
   ]
  },
  {
   "cell_type": "code",
   "execution_count": null,
   "id": "cbb57b47-db1f-4f08-98d8-108a35f6151d",
   "metadata": {},
   "outputs": [],
   "source": [
    "def get_cvs():\n",
    "            #loading the cvs\n",
    "            #loading the entities\n",
    "            data_csv_entities = r'skills_matcher/data/data_final_raw_new.csv'\n",
    "            data_ = pd.read_csv(data_csv_entities)\n",
    "            data_entities = data_.apply(get_dict, axis=1)\n",
    "            data_entities\n",
    "            data_csv_resume = r'cleaned_Resume.csv'\n",
    "            data_resume = pd.read_csv(data_csv_resume)\n",
    "            data_cleaned_cv = data_resume.apply(get_dict_cv, axis=1)\n",
    "            return data_cleaned_cv"
   ]
  },
  {
   "cell_type": "code",
   "execution_count": 542,
   "id": "b052851c-1390-4ea1-ba4a-df5f06e5ed97",
   "metadata": {},
   "outputs": [
    {
     "data": {
      "text/html": [
       "<div>\n",
       "<style scoped>\n",
       "    .dataframe tbody tr th:only-of-type {\n",
       "        vertical-align: middle;\n",
       "    }\n",
       "\n",
       "    .dataframe tbody tr th {\n",
       "        vertical-align: top;\n",
       "    }\n",
       "\n",
       "    .dataframe thead th {\n",
       "        text-align: right;\n",
       "    }\n",
       "</style>\n",
       "<table border=\"1\" class=\"dataframe\">\n",
       "  <thead>\n",
       "    <tr style=\"text-align: right;\">\n",
       "      <th></th>\n",
       "      <th>index</th>\n",
       "      <th>job</th>\n",
       "      <th>position</th>\n",
       "      <th>location</th>\n",
       "      <th>description</th>\n",
       "      <th>entities_auto_label</th>\n",
       "      <th>entities_manual_label</th>\n",
       "      <th>SKILL</th>\n",
       "      <th>KNOWLEDGE</th>\n",
       "      <th>MIN_EXP</th>\n",
       "      <th>LEVEL</th>\n",
       "    </tr>\n",
       "  </thead>\n",
       "  <tbody>\n",
       "    <tr>\n",
       "      <th>0</th>\n",
       "      <td>13</td>\n",
       "      <td>physicist</td>\n",
       "      <td>Mathematical Physicist</td>\n",
       "      <td>Aldermaston, Berkshire</td>\n",
       "      <td>[' Market leading contributory pension scheme ...</td>\n",
       "      <td>['C++', 'Python', 'Unix', 'Linux']</td>\n",
       "      <td>[{'entity': Degree, 'label': 'LEVEL'}, {'entit...</td>\n",
       "      <td>[Fortran, C++, Python, C, Unix, Linux]</td>\n",
       "      <td>[Physics, Unix/Linux]</td>\n",
       "      <td>[]</td>\n",
       "      <td>[Degree]</td>\n",
       "    </tr>\n",
       "  </tbody>\n",
       "</table>\n",
       "</div>"
      ],
      "text/plain": [
       "   index        job                position                location  \\\n",
       "0     13  physicist  Mathematical Physicist  Aldermaston, Berkshire   \n",
       "\n",
       "                                         description  \\\n",
       "0  [' Market leading contributory pension scheme ...   \n",
       "\n",
       "                  entities_auto_label  \\\n",
       "0  ['C++', 'Python', 'Unix', 'Linux']   \n",
       "\n",
       "                               entities_manual_label  \\\n",
       "0  [{'entity': Degree, 'label': 'LEVEL'}, {'entit...   \n",
       "\n",
       "                                    SKILL              KNOWLEDGE MIN_EXP  \\\n",
       "0  [Fortran, C++, Python, C, Unix, Linux]  [Physics, Unix/Linux]      []   \n",
       "\n",
       "      LEVEL  \n",
       "0  [Degree]  "
      ]
     },
     "execution_count": 542,
     "metadata": {},
     "output_type": "execute_result"
    }
   ],
   "source": [
    "inp = 'Mathematical Physicist'\n",
    "JD = extract_jd_position(inp)\n",
    "JD"
   ]
  },
  {
   "cell_type": "code",
   "execution_count": 534,
   "id": "16eabf83-1e1d-4332-b161-76e3aba94506",
   "metadata": {},
   "outputs": [],
   "source": [
    "df_CV = extract_CV()"
   ]
  },
  {
   "cell_type": "code",
   "execution_count": 540,
   "id": "c05eff9f-0480-484d-8a2c-4647e9e57e62",
   "metadata": {},
   "outputs": [
    {
     "data": {
      "text/plain": [
       "0    [Fortran, C++, Python, C, Unix, Linux]\n",
       "Name: SKILL, dtype: object"
      ]
     },
     "execution_count": 540,
     "metadata": {},
     "output_type": "execute_result"
    }
   ],
   "source": [
    "JD"
   ]
  },
  {
   "cell_type": "code",
   "execution_count": 530,
   "id": "e557a50a-da1b-4722-849d-c9dbcea6a221",
   "metadata": {},
   "outputs": [
    {
     "data": {
      "text/html": [
       "<div>\n",
       "<style scoped>\n",
       "    .dataframe tbody tr th:only-of-type {\n",
       "        vertical-align: middle;\n",
       "    }\n",
       "\n",
       "    .dataframe tbody tr th {\n",
       "        vertical-align: top;\n",
       "    }\n",
       "\n",
       "    .dataframe thead th {\n",
       "        text-align: right;\n",
       "    }\n",
       "</style>\n",
       "<table border=\"1\" class=\"dataframe\">\n",
       "  <thead>\n",
       "    <tr style=\"text-align: right;\">\n",
       "      <th></th>\n",
       "      <th>job</th>\n",
       "      <th>position</th>\n",
       "      <th>location</th>\n",
       "      <th>description</th>\n",
       "      <th>entities_auto_label</th>\n",
       "      <th>entities_manual_label</th>\n",
       "      <th>SKILL</th>\n",
       "      <th>KNOWLEDGE</th>\n",
       "      <th>MIN_EXP</th>\n",
       "      <th>LEVEL</th>\n",
       "    </tr>\n",
       "  </thead>\n",
       "  <tbody>\n",
       "    <tr>\n",
       "      <th>52</th>\n",
       "      <td>physicist</td>\n",
       "      <td>Mathematical Physicist</td>\n",
       "      <td>Aldermaston, Berkshire</td>\n",
       "      <td>[' Market leading contributory pension scheme ...</td>\n",
       "      <td>(C++, Python, Unix, Linux)</td>\n",
       "      <td>[{'entity': Degree, 'label': 'LEVEL'}, {'entit...</td>\n",
       "      <td>[Fortran, C++, Python, C, Unix, Linux]</td>\n",
       "      <td>[Physics, Unix/Linux]</td>\n",
       "      <td>[]</td>\n",
       "      <td>[Degree]</td>\n",
       "    </tr>\n",
       "    <tr>\n",
       "      <th>53</th>\n",
       "      <td>physicist</td>\n",
       "      <td>Mathematical Physicist</td>\n",
       "      <td>Aldermaston, Berkshire</td>\n",
       "      <td>[' Market leading contributory pension scheme ...</td>\n",
       "      <td>(C++, Python, Unix, Linux)</td>\n",
       "      <td>[{'entity': 5 years, 'label': 'MIN_EXP'}, {'en...</td>\n",
       "      <td>[C, Python, Unix, Linux]</td>\n",
       "      <td>[]</td>\n",
       "      <td>[English]</td>\n",
       "      <td>[]</td>\n",
       "    </tr>\n",
       "    <tr>\n",
       "      <th>54</th>\n",
       "      <td>physicist</td>\n",
       "      <td>Mathematical Physicist</td>\n",
       "      <td>Aldermaston, Berkshire</td>\n",
       "      <td>[' Market leading contributory pension scheme ...</td>\n",
       "      <td>(C++, Python, Unix, Linux)</td>\n",
       "      <td>[]</td>\n",
       "      <td>[C, Python, Unix, Linux]</td>\n",
       "      <td>[]</td>\n",
       "      <td>[]</td>\n",
       "      <td>[]</td>\n",
       "    </tr>\n",
       "  </tbody>\n",
       "</table>\n",
       "</div>"
      ],
      "text/plain": [
       "          job                position                location  \\\n",
       "52  physicist  Mathematical Physicist  Aldermaston, Berkshire   \n",
       "53  physicist  Mathematical Physicist  Aldermaston, Berkshire   \n",
       "54  physicist  Mathematical Physicist  Aldermaston, Berkshire   \n",
       "\n",
       "                                          description  \\\n",
       "52  [' Market leading contributory pension scheme ...   \n",
       "53  [' Market leading contributory pension scheme ...   \n",
       "54  [' Market leading contributory pension scheme ...   \n",
       "\n",
       "           entities_auto_label  \\\n",
       "52  (C++, Python, Unix, Linux)   \n",
       "53  (C++, Python, Unix, Linux)   \n",
       "54  (C++, Python, Unix, Linux)   \n",
       "\n",
       "                                entities_manual_label  \\\n",
       "52  [{'entity': Degree, 'label': 'LEVEL'}, {'entit...   \n",
       "53  [{'entity': 5 years, 'label': 'MIN_EXP'}, {'en...   \n",
       "54                                                 []   \n",
       "\n",
       "                                     SKILL              KNOWLEDGE    MIN_EXP  \\\n",
       "52  [Fortran, C++, Python, C, Unix, Linux]  [Physics, Unix/Linux]         []   \n",
       "53                [C, Python, Unix, Linux]                     []  [English]   \n",
       "54                [C, Python, Unix, Linux]                     []         []   \n",
       "\n",
       "       LEVEL  \n",
       "52  [Degree]  \n",
       "53        []  \n",
       "54        []  "
      ]
     },
     "execution_count": 530,
     "metadata": {},
     "output_type": "execute_result"
    }
   ],
   "source": [
    "for df in range(0, len(JD)):\n",
    "    list_match = match_skills(JD[i][\"SKILL\"], df_CV)"
   ]
  },
  {
   "cell_type": "code",
   "execution_count": 518,
   "id": "9ba81a6c-0fa6-4648-ad32-ee2f756f4c36",
   "metadata": {},
   "outputs": [
    {
     "data": {
      "text/plain": [
       "0    [Fortran, C++, Python, C, Unix, Linux]\n",
       "Name: SKILL, dtype: object"
      ]
     },
     "execution_count": 518,
     "metadata": {},
     "output_type": "execute_result"
    }
   ],
   "source": [
    "JD[\"SKILL\"]"
   ]
  },
  {
   "cell_type": "markdown",
   "id": "2f1da3de-fb67-43f6-b2fe-4095d2209987",
   "metadata": {},
   "source": [
    "# Resume data"
   ]
  },
  {
   "cell_type": "code",
   "execution_count": null,
   "id": "ebd176ef-a82e-4add-8bbd-01563bf480ff",
   "metadata": {},
   "outputs": [],
   "source": [
    "os.chdir('/home/lewagonlew/code/marcorodrigues/skills_matcher')"
   ]
  },
  {
   "cell_type": "code",
   "execution_count": null,
   "id": "d3ee3aa9-4d61-44b8-b8b8-096543e3fbc0",
   "metadata": {},
   "outputs": [],
   "source": [
    "os.getcwd()"
   ]
  },
  {
   "cell_type": "code",
   "execution_count": 356,
   "id": "32165d98-cd56-4dc6-9f97-e12f73e6d89c",
   "metadata": {},
   "outputs": [],
   "source": [
    "df_cleaned_Resume.to_csv(\"cleaned_Resume_final.csv\")"
   ]
  },
  {
   "cell_type": "code",
   "execution_count": 437,
   "id": "5e6098e9-61ae-4e94-9f2f-f227d7b349ea",
   "metadata": {},
   "outputs": [
    {
     "data": {
      "text/plain": [
       "\"         HR ADMINISTRATOR/MARKETING ASSOCIATE\\n\\nHR ADMINISTRATOR       Summary     Dedicated Customer Service Manager with 15+ years of experience in Hospitality and Customer Service Management.   Respected builder and leader of customer-focused teams; strives to instill a shared, enthusiastic commitment to customer service.         Highlights         Focused on customer satisfaction  Team management  Marketing savvy  Conflict resolution techniques     Training and development  Skilled multi-tasker  Client relations specialist           Accomplishments      Missouri DOT Supervisor Training Certification  Certified by IHG in Customer Loyalty and Marketing by Segment   Hilton Worldwide General Manager Training Certification  Accomplished Trainer for cross server hospitality systems such as    Hilton OnQ  ,   Micros    Opera PMS   , Fidelio    OPERA    Reservation System (ORS) ,   Holidex    Completed courses and seminars in customer service, sales strategies, inventory control, loss prevention, safety, time management, leadership and performance assessment.        Experience      HR Administrator/Marketing Associate\\n\\nHR Administrator     Dec 2013   to   Current      Company Name   －   City  ,   State     Helps to develop policies, directs and coordinates activities such as employment, compensation, labor relations, benefits, training, and employee services.  Prepares employee separation notices and related documentation  Keeps records of benefits plans participation such as insurance and pension plan, personnel transactions such as hires, promotions, transfers, performance reviews, and terminations, and employee statistics for government reporting.  Advises management in appropriate resolution of employee relations issues.  Administers benefits programs such as life, health, dental, insurance, pension plans, vacation, sick leave, leave of absence, and employee assistance.     Marketing Associate \\xa0   Designed and created marketing collateral for sales meetings, trade shows and company executives.  Managed the in-house advertising program consisting of print and media collateral pieces.  Assisted in the complete design and launch of the company's website in 2 months.  Created an official company page on Facebook to facilitate interaction with customers.  Analyzed ratings and programming features of competitors to evaluate the effectiveness of marketing strategies.         Advanced Medical Claims Analyst     Mar 2012   to   Dec 2013      Company Name   －   City  ,   State     Reviewed medical bills for the accuracy of the treatments, tests, and hospital stays prior to sanctioning the claims.  Trained to interpret the codes (ICD-9, CPT) and terminology commonly used in medical billing to fully understand the paperwork that is submitted by healthcare providers.  Required to have organizational and analytical skills as well as computer skills, knowledge of medical terminology and procedures, statistics, billing standards, data analysis and laws regarding medical billing.         Assistant General Manager     Jun 2010   to   Dec 2010      Company Name   －   City  ,   State     Performed duties including but not limited to, budgeting and financial management, accounting, human resources, payroll and purchasing.  Established and maintained close working relationships with all departments of the hotel to ensure maximum operation, productivity, morale and guest service.  Handled daily operations and reported directly to the corporate office.  Hired and trained staff on overall objectives and goals with an emphasis on high customer service.  Marketing and Advertising, working on public relations with the media, government and local businesses and Chamber of Commerce.         Executive Support / Marketing Assistant     Jul 2007   to   Jun 2010      Company Name   －   City  ,   State     Provided assistance to various department heads - Executive, Marketing, Customer Service, Human Resources.  Managed front-end operations to ensure friendly and efficient transactions.  Ensured the swift resolution of customer issues to preserve customer loyalty while complying with company policies.  Exemplified the second-to-none customer service delivery in all interactions with customers and potential clients.         Reservation & Front Office Manager     Jun 2004   to   Jul 2007      Company Name   －   City  ,   State          Owner/ Partner     Dec 2001   to   May 2004      Company Name   －   City  ,   State          Price Integrity Coordinator     Aug 1999   to   Dec 2001      Company Name   －   City  ,   State          Education      N/A  ,   Business Administration   1999     Jefferson College   －   City  ,   State       Business Administration  Marketing / Advertising         High School Diploma  ,   College Prep. studies   1998     Sainte Genevieve Senior High   －   City  ,   State       Awarded American Shrubel Leadership Scholarship to Jefferson College         Skills     Accounting, ads, advertising, analytical skills, benefits, billing, budgeting, clients, Customer Service, data analysis, delivery, documentation, employee relations, financial management, government relations, Human Resources, insurance, labor relations, layout, Marketing, marketing collateral, medical billing, medical terminology, office, organizational, payroll, performance reviews, personnel, policies, posters, presentations, public relations, purchasing, reporting, statistics, website.    \""
      ]
     },
     "execution_count": 437,
     "metadata": {},
     "output_type": "execute_result"
    }
   ],
   "source": [
    "df_cleaned_Resume['Resume_str'][0]"
   ]
  },
  {
   "cell_type": "code",
   "execution_count": 478,
   "id": "b100d066-8483-4e2d-bf0d-25e578c69896",
   "metadata": {},
   "outputs": [],
   "source": [
    "data_CV = df_cleaned_Resume.apply(get_dict_cv, axis=1)"
   ]
  },
  {
   "cell_type": "code",
   "execution_count": 438,
   "id": "62d2f967-1911-4c47-8843-e57f23b41878",
   "metadata": {},
   "outputs": [],
   "source": [
    "skill_list = extract_resume_skills(df_cleaned_Resume['Resume_str'][0])"
   ]
  },
  {
   "cell_type": "code",
   "execution_count": 443,
   "id": "6f2ce545-d885-418c-bd3f-40b788f53a2d",
   "metadata": {},
   "outputs": [
    {
     "data": {
      "text/plain": [
       "\"         HR ADMINISTRATOR/MARKETING ASSOCIATE\\n\\nHR ADMINISTRATOR       Summary     Dedicated Customer Service Manager with 15+ years of experience in Hospitality and Customer Service Management.   Respected builder and leader of customer-focused teams; strives to instill a shared, enthusiastic commitment to customer service.         Highlights         Focused on customer satisfaction  Team management  Marketing savvy  Conflict resolution techniques     Training and development  Skilled multi-tasker  Client relations specialist           Accomplishments      Missouri DOT Supervisor Training Certification  Certified by IHG in Customer Loyalty and Marketing by Segment   Hilton Worldwide General Manager Training Certification  Accomplished Trainer for cross server hospitality systems such as    Hilton OnQ  ,   Micros    Opera PMS   , Fidelio    OPERA    Reservation System (ORS) ,   Holidex    Completed courses and seminars in customer service, sales strategies, inventory control, loss prevention, safety, time management, leadership and performance assessment.        Experience      HR Administrator/Marketing Associate\\n\\nHR Administrator     Dec 2013   to   Current      Company Name   －   City  ,   State     Helps to develop policies, directs and coordinates activities such as employment, compensation, labor relations, benefits, training, and employee services.  Prepares employee separation notices and related documentation  Keeps records of benefits plans participation such as insurance and pension plan, personnel transactions such as hires, promotions, transfers, performance reviews, and terminations, and employee statistics for government reporting.  Advises management in appropriate resolution of employee relations issues.  Administers benefits programs such as life, health, dental, insurance, pension plans, vacation, sick leave, leave of absence, and employee assistance.     Marketing Associate \\xa0   Designed and created marketing collateral for sales meetings, trade shows and company executives.  Managed the in-house advertising program consisting of print and media collateral pieces.  Assisted in the complete design and launch of the company's website in 2 months.  Created an official company page on Facebook to facilitate interaction with customers.  Analyzed ratings and programming features of competitors to evaluate the effectiveness of marketing strategies.         Advanced Medical Claims Analyst     Mar 2012   to   Dec 2013      Company Name   －   City  ,   State     Reviewed medical bills for the accuracy of the treatments, tests, and hospital stays prior to sanctioning the claims.  Trained to interpret the codes (ICD-9, CPT) and terminology commonly used in medical billing to fully understand the paperwork that is submitted by healthcare providers.  Required to have organizational and analytical skills as well as computer skills, knowledge of medical terminology and procedures, statistics, billing standards, data analysis and laws regarding medical billing.         Assistant General Manager     Jun 2010   to   Dec 2010      Company Name   －   City  ,   State     Performed duties including but not limited to, budgeting and financial management, accounting, human resources, payroll and purchasing.  Established and maintained close working relationships with all departments of the hotel to ensure maximum operation, productivity, morale and guest service.  Handled daily operations and reported directly to the corporate office.  Hired and trained staff on overall objectives and goals with an emphasis on high customer service.  Marketing and Advertising, working on public relations with the media, government and local businesses and Chamber of Commerce.         Executive Support / Marketing Assistant     Jul 2007   to   Jun 2010      Company Name   －   City  ,   State     Provided assistance to various department heads - Executive, Marketing, Customer Service, Human Resources.  Managed front-end operations to ensure friendly and efficient transactions.  Ensured the swift resolution of customer issues to preserve customer loyalty while complying with company policies.  Exemplified the second-to-none customer service delivery in all interactions with customers and potential clients.         Reservation & Front Office Manager     Jun 2004   to   Jul 2007      Company Name   －   City  ,   State          Owner/ Partner     Dec 2001   to   May 2004      Company Name   －   City  ,   State          Price Integrity Coordinator     Aug 1999   to   Dec 2001      Company Name   －   City  ,   State          Education      N/A  ,   Business Administration   1999     Jefferson College   －   City  ,   State       Business Administration  Marketing / Advertising         High School Diploma  ,   College Prep. studies   1998     Sainte Genevieve Senior High   －   City  ,   State       Awarded American Shrubel Leadership Scholarship to Jefferson College         Skills     Accounting, ads, advertising, analytical skills, benefits, billing, budgeting, clients, Customer Service, data analysis, delivery, documentation, employee relations, financial management, government relations, Human Resources, insurance, labor relations, layout, Marketing, marketing collateral, medical billing, medical terminology, office, organizational, payroll, performance reviews, personnel, policies, posters, presentations, public relations, purchasing, reporting, statistics, website.    \""
      ]
     },
     "execution_count": 443,
     "metadata": {},
     "output_type": "execute_result"
    }
   ],
   "source": [
    "df_cleaned_Resume['Resume_str'][0]"
   ]
  },
  {
   "cell_type": "code",
   "execution_count": null,
   "id": "a0fcc22f-5f8e-4c71-8002-d83bb96082af",
   "metadata": {},
   "outputs": [],
   "source": [
    "data_cleaned = df_JD.apply(get_dict, axis=1)"
   ]
  },
  {
   "cell_type": "code",
   "execution_count": null,
   "id": "74c1e184-7bc7-41bf-beeb-7bd79def4aa4",
   "metadata": {},
   "outputs": [],
   "source": [
    "data_CV = df_Resume.apply(get_dict_cv, axis=1)"
   ]
  },
  {
   "cell_type": "code",
   "execution_count": 417,
   "id": "20324eae-2eaf-44c3-9885-69c111940672",
   "metadata": {},
   "outputs": [
    {
     "data": {
      "text/plain": [
       "array(['physicist', 'biochemist', 'chemist', 'organic chemist',\n",
       "       'process chemist', 'geologist', 'hydrogeologist',\n",
       "       'biostatistician', 'mathematician', 'statistician', 'biologist',\n",
       "       'geneticist', 'immunologist', 'microbiologist',\n",
       "       'molecular biologist', 'physiologist', 'toxicologist', 'ecologist',\n",
       "       'verification engineer', 'construction planner',\n",
       "       'development engineer', 'inspection engineer', 'plant engineer',\n",
       "       'process engineer', 'product developer', 'project engineer',\n",
       "       'environmental engineer', 'instrument engineer',\n",
       "       'maintenance engineer', 'mechanical designer',\n",
       "       'mechanical engineer', 'mechatronics engineer', 'testing engineer',\n",
       "       'audit assistant', 'bookkeeper', 'inspector',\n",
       "       'field sales representative', 'buyer', 'conference manager',\n",
       "       'manager', 'administrative assistant', 'geography teacher',\n",
       "       'primary school teacher', 'supply teacher',\n",
       "       'special needs teacher', 'speech therapist', 'language teacher',\n",
       "       'music teacher', 'art teacher', 'drama teacher',\n",
       "       'computing teacher', 'pharmacist', 'pharmacy technician', 'nurse',\n",
       "       'civil engineer', 'traffic engineer', 'supervisor',\n",
       "       'operations engineer', 'medical officer', 'cardiologist',\n",
       "       'clinical physiologist', 'epidemiologist', 'neurophysiologist',\n",
       "       'oncologist', 'ophthalmologist', 'pathologist', 'psychiatrist',\n",
       "       'radiologist', 'surgeon', 'dental nurse', 'group leader',\n",
       "       'veterinary surgeon'], dtype=object)"
      ]
     },
     "execution_count": 417,
     "metadata": {},
     "output_type": "execute_result"
    }
   ],
   "source": [
    "data_cleaned.job.unique()"
   ]
  },
  {
   "cell_type": "markdown",
   "id": "35051577-d3f2-4390-a4b9-49ff75143f8e",
   "metadata": {
    "tags": []
   },
   "source": [
    "### Workflow of functions for comparing CV to JD\n",
    "- load CV text\n",
    "- call extract_resume_skills(text) and save as cv_skill_set\n",
    "- call extract_jd with/or without input from frontend and save as data\n",
    "- call match_skills(cv_skill_list, data)\n",
    "\n"
   ]
  },
  {
   "cell_type": "code",
   "execution_count": 440,
   "id": "ebe8f3fc-4e47-499f-96dd-35ba33b2ee43",
   "metadata": {},
   "outputs": [],
   "source": [
    "skill_list = extract_resume_skills(df_cleaned_Resume['Resume_str'][0])"
   ]
  },
  {
   "cell_type": "code",
   "execution_count": 441,
   "id": "225e61be-07f0-46e1-961e-61876fa972ad",
   "metadata": {},
   "outputs": [],
   "source": [
    "data = extract_jd()"
   ]
  },
  {
   "cell_type": "code",
   "execution_count": 366,
   "id": "0a0e9d8a-6b96-43aa-9792-ab18fea7d945",
   "metadata": {},
   "outputs": [],
   "source": [
    "inp = 'mathematician'"
   ]
  },
  {
   "cell_type": "code",
   "execution_count": 442,
   "id": "49d61495-180f-4099-a251-7452e7efc9fd",
   "metadata": {},
   "outputs": [
    {
     "name": "stdout",
     "output_type": "stream",
     "text": [
      "Job #2261 in Sector Chief Accountant has a 33.33% match\n",
      "Job #2384 in Sector Менеджер по маркетингу / Marketing Manager (Inbound Marketing) has a 33.33% match\n",
      "Job #1378 in Sector senior it auditor has a 12.5% match\n",
      "Job #2096 in Sector Senior Data Engineer for Ciklum Digital has a 4.55% match\n",
      "Job #0 in Sector Accelerator Physicist id54315 has a 0.0% match\n",
      "Job #1 in Sector Applied Physicist (Computing) (EP-LBC-2021-125-LD) id54308 has a 0.0% match\n",
      "Job #4 in Sector Optics / photonics engineer or physicist (21364) has a 0.0% match\n",
      "Job #6 in Sector Physicist/Optical Scientist/Engineer Technology Development has a 0.0% match\n",
      "Job #9 in Sector OSS PHYSICIST has a 0.0% match\n"
     ]
    },
    {
     "data": {
      "application/vnd.plotly.v1+json": {
       "config": {
        "plotlyServerURL": "https://plot.ly"
       },
       "data": [
        {
         "alignmentgroup": "True",
         "hovertemplate": "job position=%{x}<br>Matching %=%{y}<br>color=%{marker.color}<extra></extra>",
         "legendgroup": "",
         "marker": {
          "color": [
           33.33,
           33.33,
           12.5,
           4.55,
           0,
           0,
           0,
           0,
           0
          ],
          "coloraxis": "coloraxis",
          "pattern": {
           "shape": ""
          }
         },
         "name": "",
         "offsetgroup": "",
         "orientation": "v",
         "showlegend": false,
         "textposition": "auto",
         "type": "bar",
         "x": [
          "Chief Accountant",
          "Менеджер по маркетингу / Marketing Manager (Inbound Marketing)",
          "senior it auditor",
          "Senior Data Engineer for Ciklum Digital",
          "Accelerator Physicist id54315",
          "Applied Physicist (Computing) (EP-LBC-2021-125-LD) id54308",
          "Optics / photonics engineer or physicist (21364)",
          "Physicist/Optical Scientist/Engineer Technology Development",
          "OSS PHYSICIST"
         ],
         "xaxis": "x",
         "y": [
          33.33,
          33.33,
          12.5,
          4.55,
          0,
          0,
          0,
          0,
          0
         ],
         "yaxis": "y"
        }
       ],
       "layout": {
        "barmode": "relative",
        "coloraxis": {
         "colorbar": {
          "title": {
           "text": "color"
          }
         },
         "colorscale": [
          [
           0,
           "rgb(2,4,25)"
          ],
          [
           0.0625,
           "rgb(24,15,41)"
          ],
          [
           0.125,
           "rgb(47,23,57)"
          ],
          [
           0.1875,
           "rgb(71,28,72)"
          ],
          [
           0.25,
           "rgb(97,30,82)"
          ],
          [
           0.3125,
           "rgb(123,30,89)"
          ],
          [
           0.375,
           "rgb(150,27,91)"
          ],
          [
           0.4375,
           "rgb(177,22,88)"
          ],
          [
           0.5,
           "rgb(203,26,79)"
          ],
          [
           0.5625,
           "rgb(223,47,67)"
          ],
          [
           0.625,
           "rgb(236,76,61)"
          ],
          [
           0.6875,
           "rgb(242,107,73)"
          ],
          [
           0.75,
           "rgb(244,135,95)"
          ],
          [
           0.8125,
           "rgb(245,162,122)"
          ],
          [
           0.875,
           "rgb(246,188,153)"
          ],
          [
           0.9375,
           "rgb(247,212,187)"
          ],
          [
           1,
           "rgb(250,234,220)"
          ]
         ]
        },
        "height": 800,
        "legend": {
         "tracegroupgap": 0
        },
        "paper_bgcolor": "lightblue",
        "template": {
         "data": {
          "bar": [
           {
            "error_x": {
             "color": "rgb(36,36,36)"
            },
            "error_y": {
             "color": "rgb(36,36,36)"
            },
            "marker": {
             "line": {
              "color": "rgb(234,234,242)",
              "width": 0.5
             },
             "pattern": {
              "fillmode": "overlay",
              "size": 10,
              "solidity": 0.2
             }
            },
            "type": "bar"
           }
          ],
          "barpolar": [
           {
            "marker": {
             "line": {
              "color": "rgb(234,234,242)",
              "width": 0.5
             },
             "pattern": {
              "fillmode": "overlay",
              "size": 10,
              "solidity": 0.2
             }
            },
            "type": "barpolar"
           }
          ],
          "carpet": [
           {
            "aaxis": {
             "endlinecolor": "rgb(36,36,36)",
             "gridcolor": "white",
             "linecolor": "white",
             "minorgridcolor": "white",
             "startlinecolor": "rgb(36,36,36)"
            },
            "baxis": {
             "endlinecolor": "rgb(36,36,36)",
             "gridcolor": "white",
             "linecolor": "white",
             "minorgridcolor": "white",
             "startlinecolor": "rgb(36,36,36)"
            },
            "type": "carpet"
           }
          ],
          "choropleth": [
           {
            "colorbar": {
             "outlinewidth": 0,
             "tickcolor": "rgb(36,36,36)",
             "ticklen": 8,
             "ticks": "outside",
             "tickwidth": 2
            },
            "type": "choropleth"
           }
          ],
          "contour": [
           {
            "colorbar": {
             "outlinewidth": 0,
             "tickcolor": "rgb(36,36,36)",
             "ticklen": 8,
             "ticks": "outside",
             "tickwidth": 2
            },
            "colorscale": [
             [
              0,
              "rgb(2,4,25)"
             ],
             [
              0.06274509803921569,
              "rgb(24,15,41)"
             ],
             [
              0.12549019607843137,
              "rgb(47,23,57)"
             ],
             [
              0.18823529411764706,
              "rgb(71,28,72)"
             ],
             [
              0.25098039215686274,
              "rgb(97,30,82)"
             ],
             [
              0.3137254901960784,
              "rgb(123,30,89)"
             ],
             [
              0.3764705882352941,
              "rgb(150,27,91)"
             ],
             [
              0.4392156862745098,
              "rgb(177,22,88)"
             ],
             [
              0.5019607843137255,
              "rgb(203,26,79)"
             ],
             [
              0.5647058823529412,
              "rgb(223,47,67)"
             ],
             [
              0.6274509803921569,
              "rgb(236,76,61)"
             ],
             [
              0.6901960784313725,
              "rgb(242,107,73)"
             ],
             [
              0.7529411764705882,
              "rgb(244,135,95)"
             ],
             [
              0.8156862745098039,
              "rgb(245,162,122)"
             ],
             [
              0.8784313725490196,
              "rgb(246,188,153)"
             ],
             [
              0.9411764705882353,
              "rgb(247,212,187)"
             ],
             [
              1,
              "rgb(250,234,220)"
             ]
            ],
            "type": "contour"
           }
          ],
          "contourcarpet": [
           {
            "colorbar": {
             "outlinewidth": 0,
             "tickcolor": "rgb(36,36,36)",
             "ticklen": 8,
             "ticks": "outside",
             "tickwidth": 2
            },
            "type": "contourcarpet"
           }
          ],
          "heatmap": [
           {
            "colorbar": {
             "outlinewidth": 0,
             "tickcolor": "rgb(36,36,36)",
             "ticklen": 8,
             "ticks": "outside",
             "tickwidth": 2
            },
            "colorscale": [
             [
              0,
              "rgb(2,4,25)"
             ],
             [
              0.06274509803921569,
              "rgb(24,15,41)"
             ],
             [
              0.12549019607843137,
              "rgb(47,23,57)"
             ],
             [
              0.18823529411764706,
              "rgb(71,28,72)"
             ],
             [
              0.25098039215686274,
              "rgb(97,30,82)"
             ],
             [
              0.3137254901960784,
              "rgb(123,30,89)"
             ],
             [
              0.3764705882352941,
              "rgb(150,27,91)"
             ],
             [
              0.4392156862745098,
              "rgb(177,22,88)"
             ],
             [
              0.5019607843137255,
              "rgb(203,26,79)"
             ],
             [
              0.5647058823529412,
              "rgb(223,47,67)"
             ],
             [
              0.6274509803921569,
              "rgb(236,76,61)"
             ],
             [
              0.6901960784313725,
              "rgb(242,107,73)"
             ],
             [
              0.7529411764705882,
              "rgb(244,135,95)"
             ],
             [
              0.8156862745098039,
              "rgb(245,162,122)"
             ],
             [
              0.8784313725490196,
              "rgb(246,188,153)"
             ],
             [
              0.9411764705882353,
              "rgb(247,212,187)"
             ],
             [
              1,
              "rgb(250,234,220)"
             ]
            ],
            "type": "heatmap"
           }
          ],
          "heatmapgl": [
           {
            "colorbar": {
             "outlinewidth": 0,
             "tickcolor": "rgb(36,36,36)",
             "ticklen": 8,
             "ticks": "outside",
             "tickwidth": 2
            },
            "colorscale": [
             [
              0,
              "rgb(2,4,25)"
             ],
             [
              0.06274509803921569,
              "rgb(24,15,41)"
             ],
             [
              0.12549019607843137,
              "rgb(47,23,57)"
             ],
             [
              0.18823529411764706,
              "rgb(71,28,72)"
             ],
             [
              0.25098039215686274,
              "rgb(97,30,82)"
             ],
             [
              0.3137254901960784,
              "rgb(123,30,89)"
             ],
             [
              0.3764705882352941,
              "rgb(150,27,91)"
             ],
             [
              0.4392156862745098,
              "rgb(177,22,88)"
             ],
             [
              0.5019607843137255,
              "rgb(203,26,79)"
             ],
             [
              0.5647058823529412,
              "rgb(223,47,67)"
             ],
             [
              0.6274509803921569,
              "rgb(236,76,61)"
             ],
             [
              0.6901960784313725,
              "rgb(242,107,73)"
             ],
             [
              0.7529411764705882,
              "rgb(244,135,95)"
             ],
             [
              0.8156862745098039,
              "rgb(245,162,122)"
             ],
             [
              0.8784313725490196,
              "rgb(246,188,153)"
             ],
             [
              0.9411764705882353,
              "rgb(247,212,187)"
             ],
             [
              1,
              "rgb(250,234,220)"
             ]
            ],
            "type": "heatmapgl"
           }
          ],
          "histogram": [
           {
            "marker": {
             "pattern": {
              "fillmode": "overlay",
              "size": 10,
              "solidity": 0.2
             }
            },
            "type": "histogram"
           }
          ],
          "histogram2d": [
           {
            "colorbar": {
             "outlinewidth": 0,
             "tickcolor": "rgb(36,36,36)",
             "ticklen": 8,
             "ticks": "outside",
             "tickwidth": 2
            },
            "colorscale": [
             [
              0,
              "rgb(2,4,25)"
             ],
             [
              0.06274509803921569,
              "rgb(24,15,41)"
             ],
             [
              0.12549019607843137,
              "rgb(47,23,57)"
             ],
             [
              0.18823529411764706,
              "rgb(71,28,72)"
             ],
             [
              0.25098039215686274,
              "rgb(97,30,82)"
             ],
             [
              0.3137254901960784,
              "rgb(123,30,89)"
             ],
             [
              0.3764705882352941,
              "rgb(150,27,91)"
             ],
             [
              0.4392156862745098,
              "rgb(177,22,88)"
             ],
             [
              0.5019607843137255,
              "rgb(203,26,79)"
             ],
             [
              0.5647058823529412,
              "rgb(223,47,67)"
             ],
             [
              0.6274509803921569,
              "rgb(236,76,61)"
             ],
             [
              0.6901960784313725,
              "rgb(242,107,73)"
             ],
             [
              0.7529411764705882,
              "rgb(244,135,95)"
             ],
             [
              0.8156862745098039,
              "rgb(245,162,122)"
             ],
             [
              0.8784313725490196,
              "rgb(246,188,153)"
             ],
             [
              0.9411764705882353,
              "rgb(247,212,187)"
             ],
             [
              1,
              "rgb(250,234,220)"
             ]
            ],
            "type": "histogram2d"
           }
          ],
          "histogram2dcontour": [
           {
            "colorbar": {
             "outlinewidth": 0,
             "tickcolor": "rgb(36,36,36)",
             "ticklen": 8,
             "ticks": "outside",
             "tickwidth": 2
            },
            "colorscale": [
             [
              0,
              "rgb(2,4,25)"
             ],
             [
              0.06274509803921569,
              "rgb(24,15,41)"
             ],
             [
              0.12549019607843137,
              "rgb(47,23,57)"
             ],
             [
              0.18823529411764706,
              "rgb(71,28,72)"
             ],
             [
              0.25098039215686274,
              "rgb(97,30,82)"
             ],
             [
              0.3137254901960784,
              "rgb(123,30,89)"
             ],
             [
              0.3764705882352941,
              "rgb(150,27,91)"
             ],
             [
              0.4392156862745098,
              "rgb(177,22,88)"
             ],
             [
              0.5019607843137255,
              "rgb(203,26,79)"
             ],
             [
              0.5647058823529412,
              "rgb(223,47,67)"
             ],
             [
              0.6274509803921569,
              "rgb(236,76,61)"
             ],
             [
              0.6901960784313725,
              "rgb(242,107,73)"
             ],
             [
              0.7529411764705882,
              "rgb(244,135,95)"
             ],
             [
              0.8156862745098039,
              "rgb(245,162,122)"
             ],
             [
              0.8784313725490196,
              "rgb(246,188,153)"
             ],
             [
              0.9411764705882353,
              "rgb(247,212,187)"
             ],
             [
              1,
              "rgb(250,234,220)"
             ]
            ],
            "type": "histogram2dcontour"
           }
          ],
          "mesh3d": [
           {
            "colorbar": {
             "outlinewidth": 0,
             "tickcolor": "rgb(36,36,36)",
             "ticklen": 8,
             "ticks": "outside",
             "tickwidth": 2
            },
            "type": "mesh3d"
           }
          ],
          "parcoords": [
           {
            "line": {
             "colorbar": {
              "outlinewidth": 0,
              "tickcolor": "rgb(36,36,36)",
              "ticklen": 8,
              "ticks": "outside",
              "tickwidth": 2
             }
            },
            "type": "parcoords"
           }
          ],
          "pie": [
           {
            "automargin": true,
            "type": "pie"
           }
          ],
          "scatter": [
           {
            "marker": {
             "colorbar": {
              "outlinewidth": 0,
              "tickcolor": "rgb(36,36,36)",
              "ticklen": 8,
              "ticks": "outside",
              "tickwidth": 2
             }
            },
            "type": "scatter"
           }
          ],
          "scatter3d": [
           {
            "line": {
             "colorbar": {
              "outlinewidth": 0,
              "tickcolor": "rgb(36,36,36)",
              "ticklen": 8,
              "ticks": "outside",
              "tickwidth": 2
             }
            },
            "marker": {
             "colorbar": {
              "outlinewidth": 0,
              "tickcolor": "rgb(36,36,36)",
              "ticklen": 8,
              "ticks": "outside",
              "tickwidth": 2
             }
            },
            "type": "scatter3d"
           }
          ],
          "scattercarpet": [
           {
            "marker": {
             "colorbar": {
              "outlinewidth": 0,
              "tickcolor": "rgb(36,36,36)",
              "ticklen": 8,
              "ticks": "outside",
              "tickwidth": 2
             }
            },
            "type": "scattercarpet"
           }
          ],
          "scattergeo": [
           {
            "marker": {
             "colorbar": {
              "outlinewidth": 0,
              "tickcolor": "rgb(36,36,36)",
              "ticklen": 8,
              "ticks": "outside",
              "tickwidth": 2
             }
            },
            "type": "scattergeo"
           }
          ],
          "scattergl": [
           {
            "marker": {
             "colorbar": {
              "outlinewidth": 0,
              "tickcolor": "rgb(36,36,36)",
              "ticklen": 8,
              "ticks": "outside",
              "tickwidth": 2
             }
            },
            "type": "scattergl"
           }
          ],
          "scattermapbox": [
           {
            "marker": {
             "colorbar": {
              "outlinewidth": 0,
              "tickcolor": "rgb(36,36,36)",
              "ticklen": 8,
              "ticks": "outside",
              "tickwidth": 2
             }
            },
            "type": "scattermapbox"
           }
          ],
          "scatterpolar": [
           {
            "marker": {
             "colorbar": {
              "outlinewidth": 0,
              "tickcolor": "rgb(36,36,36)",
              "ticklen": 8,
              "ticks": "outside",
              "tickwidth": 2
             }
            },
            "type": "scatterpolar"
           }
          ],
          "scatterpolargl": [
           {
            "marker": {
             "colorbar": {
              "outlinewidth": 0,
              "tickcolor": "rgb(36,36,36)",
              "ticklen": 8,
              "ticks": "outside",
              "tickwidth": 2
             }
            },
            "type": "scatterpolargl"
           }
          ],
          "scatterternary": [
           {
            "marker": {
             "colorbar": {
              "outlinewidth": 0,
              "tickcolor": "rgb(36,36,36)",
              "ticklen": 8,
              "ticks": "outside",
              "tickwidth": 2
             }
            },
            "type": "scatterternary"
           }
          ],
          "surface": [
           {
            "colorbar": {
             "outlinewidth": 0,
             "tickcolor": "rgb(36,36,36)",
             "ticklen": 8,
             "ticks": "outside",
             "tickwidth": 2
            },
            "colorscale": [
             [
              0,
              "rgb(2,4,25)"
             ],
             [
              0.06274509803921569,
              "rgb(24,15,41)"
             ],
             [
              0.12549019607843137,
              "rgb(47,23,57)"
             ],
             [
              0.18823529411764706,
              "rgb(71,28,72)"
             ],
             [
              0.25098039215686274,
              "rgb(97,30,82)"
             ],
             [
              0.3137254901960784,
              "rgb(123,30,89)"
             ],
             [
              0.3764705882352941,
              "rgb(150,27,91)"
             ],
             [
              0.4392156862745098,
              "rgb(177,22,88)"
             ],
             [
              0.5019607843137255,
              "rgb(203,26,79)"
             ],
             [
              0.5647058823529412,
              "rgb(223,47,67)"
             ],
             [
              0.6274509803921569,
              "rgb(236,76,61)"
             ],
             [
              0.6901960784313725,
              "rgb(242,107,73)"
             ],
             [
              0.7529411764705882,
              "rgb(244,135,95)"
             ],
             [
              0.8156862745098039,
              "rgb(245,162,122)"
             ],
             [
              0.8784313725490196,
              "rgb(246,188,153)"
             ],
             [
              0.9411764705882353,
              "rgb(247,212,187)"
             ],
             [
              1,
              "rgb(250,234,220)"
             ]
            ],
            "type": "surface"
           }
          ],
          "table": [
           {
            "cells": {
             "fill": {
              "color": "rgb(231,231,240)"
             },
             "line": {
              "color": "white"
             }
            },
            "header": {
             "fill": {
              "color": "rgb(183,183,191)"
             },
             "line": {
              "color": "white"
             }
            },
            "type": "table"
           }
          ]
         },
         "layout": {
          "annotationdefaults": {
           "arrowcolor": "rgb(67,103,167)"
          },
          "autotypenumbers": "strict",
          "coloraxis": {
           "colorbar": {
            "outlinewidth": 0,
            "tickcolor": "rgb(36,36,36)",
            "ticklen": 8,
            "ticks": "outside",
            "tickwidth": 2
           }
          },
          "colorscale": {
           "sequential": [
            [
             0,
             "rgb(2,4,25)"
            ],
            [
             0.06274509803921569,
             "rgb(24,15,41)"
            ],
            [
             0.12549019607843137,
             "rgb(47,23,57)"
            ],
            [
             0.18823529411764706,
             "rgb(71,28,72)"
            ],
            [
             0.25098039215686274,
             "rgb(97,30,82)"
            ],
            [
             0.3137254901960784,
             "rgb(123,30,89)"
            ],
            [
             0.3764705882352941,
             "rgb(150,27,91)"
            ],
            [
             0.4392156862745098,
             "rgb(177,22,88)"
            ],
            [
             0.5019607843137255,
             "rgb(203,26,79)"
            ],
            [
             0.5647058823529412,
             "rgb(223,47,67)"
            ],
            [
             0.6274509803921569,
             "rgb(236,76,61)"
            ],
            [
             0.6901960784313725,
             "rgb(242,107,73)"
            ],
            [
             0.7529411764705882,
             "rgb(244,135,95)"
            ],
            [
             0.8156862745098039,
             "rgb(245,162,122)"
            ],
            [
             0.8784313725490196,
             "rgb(246,188,153)"
            ],
            [
             0.9411764705882353,
             "rgb(247,212,187)"
            ],
            [
             1,
             "rgb(250,234,220)"
            ]
           ],
           "sequentialminus": [
            [
             0,
             "rgb(2,4,25)"
            ],
            [
             0.06274509803921569,
             "rgb(24,15,41)"
            ],
            [
             0.12549019607843137,
             "rgb(47,23,57)"
            ],
            [
             0.18823529411764706,
             "rgb(71,28,72)"
            ],
            [
             0.25098039215686274,
             "rgb(97,30,82)"
            ],
            [
             0.3137254901960784,
             "rgb(123,30,89)"
            ],
            [
             0.3764705882352941,
             "rgb(150,27,91)"
            ],
            [
             0.4392156862745098,
             "rgb(177,22,88)"
            ],
            [
             0.5019607843137255,
             "rgb(203,26,79)"
            ],
            [
             0.5647058823529412,
             "rgb(223,47,67)"
            ],
            [
             0.6274509803921569,
             "rgb(236,76,61)"
            ],
            [
             0.6901960784313725,
             "rgb(242,107,73)"
            ],
            [
             0.7529411764705882,
             "rgb(244,135,95)"
            ],
            [
             0.8156862745098039,
             "rgb(245,162,122)"
            ],
            [
             0.8784313725490196,
             "rgb(246,188,153)"
            ],
            [
             0.9411764705882353,
             "rgb(247,212,187)"
            ],
            [
             1,
             "rgb(250,234,220)"
            ]
           ]
          },
          "colorway": [
           "rgb(76,114,176)",
           "rgb(221,132,82)",
           "rgb(85,168,104)",
           "rgb(196,78,82)",
           "rgb(129,114,179)",
           "rgb(147,120,96)",
           "rgb(218,139,195)",
           "rgb(140,140,140)",
           "rgb(204,185,116)",
           "rgb(100,181,205)"
          ],
          "font": {
           "color": "rgb(36,36,36)"
          },
          "geo": {
           "bgcolor": "white",
           "lakecolor": "white",
           "landcolor": "rgb(234,234,242)",
           "showlakes": true,
           "showland": true,
           "subunitcolor": "white"
          },
          "hoverlabel": {
           "align": "left"
          },
          "hovermode": "closest",
          "paper_bgcolor": "white",
          "plot_bgcolor": "rgb(234,234,242)",
          "polar": {
           "angularaxis": {
            "gridcolor": "white",
            "linecolor": "white",
            "showgrid": true,
            "ticks": ""
           },
           "bgcolor": "rgb(234,234,242)",
           "radialaxis": {
            "gridcolor": "white",
            "linecolor": "white",
            "showgrid": true,
            "ticks": ""
           }
          },
          "scene": {
           "xaxis": {
            "backgroundcolor": "rgb(234,234,242)",
            "gridcolor": "white",
            "gridwidth": 2,
            "linecolor": "white",
            "showbackground": true,
            "showgrid": true,
            "ticks": "",
            "zerolinecolor": "white"
           },
           "yaxis": {
            "backgroundcolor": "rgb(234,234,242)",
            "gridcolor": "white",
            "gridwidth": 2,
            "linecolor": "white",
            "showbackground": true,
            "showgrid": true,
            "ticks": "",
            "zerolinecolor": "white"
           },
           "zaxis": {
            "backgroundcolor": "rgb(234,234,242)",
            "gridcolor": "white",
            "gridwidth": 2,
            "linecolor": "white",
            "showbackground": true,
            "showgrid": true,
            "ticks": "",
            "zerolinecolor": "white"
           }
          },
          "shapedefaults": {
           "fillcolor": "rgb(67,103,167)",
           "line": {
            "width": 0
           },
           "opacity": 0.5
          },
          "ternary": {
           "aaxis": {
            "gridcolor": "white",
            "linecolor": "white",
            "showgrid": true,
            "ticks": ""
           },
           "baxis": {
            "gridcolor": "white",
            "linecolor": "white",
            "showgrid": true,
            "ticks": ""
           },
           "bgcolor": "rgb(234,234,242)",
           "caxis": {
            "gridcolor": "white",
            "linecolor": "white",
            "showgrid": true,
            "ticks": ""
           }
          },
          "xaxis": {
           "automargin": true,
           "gridcolor": "white",
           "linecolor": "white",
           "showgrid": true,
           "ticks": "",
           "title": {
            "standoff": 15
           },
           "zerolinecolor": "white"
          },
          "yaxis": {
           "automargin": true,
           "gridcolor": "white",
           "linecolor": "white",
           "showgrid": true,
           "ticks": "",
           "title": {
            "standoff": 15
           },
           "zerolinecolor": "white"
          }
         }
        },
        "title": {
         "text": "Job offers matching with resume"
        },
        "width": 1200,
        "xaxis": {
         "anchor": "y",
         "autorange": true,
         "domain": [
          0,
          1
         ],
         "range": [
          -0.5,
          8.5
         ],
         "title": {
          "text": "job position"
         },
         "type": "category"
        },
        "yaxis": {
         "anchor": "x",
         "autorange": true,
         "domain": [
          0,
          1
         ],
         "range": [
          0,
          35.084210526315786
         ],
         "title": {
          "text": "Matching %"
         },
         "type": "linear"
        }
       }
      },
      "image/png": "[encoded data removed]",
      "text/html": [
       "<div>                            <div id=\"665d171c-d54c-464e-a005-3161faca3cb3\" class=\"plotly-graph-div\" style=\"height:800px; width:1200px;\"></div>            <script type=\"text/javascript\">                require([\"plotly\"], function(Plotly) {                    window.PLOTLYENV=window.PLOTLYENV || {};                                    if (document.getElementById(\"665d171c-d54c-464e-a005-3161faca3cb3\")) {                    Plotly.newPlot(                        \"665d171c-d54c-464e-a005-3161faca3cb3\",                        [{\"alignmentgroup\":\"True\",\"hovertemplate\":\"job position=%{x}<br>Matching %=%{y}<br>color=%{marker.color}<extra></extra>\",\"legendgroup\":\"\",\"marker\":{\"color\":[33.33,33.33,12.5,4.55,0.0,0.0,0.0,0.0,0.0],\"coloraxis\":\"coloraxis\",\"pattern\":{\"shape\":\"\"}},\"name\":\"\",\"offsetgroup\":\"\",\"orientation\":\"v\",\"showlegend\":false,\"textposition\":\"auto\",\"type\":\"bar\",\"x\":[\"Chief Accountant\",\"\\u041c\\u0435\\u043d\\u0435\\u0434\\u0436\\u0435\\u0440 \\u043f\\u043e \\u043c\\u0430\\u0440\\u043a\\u0435\\u0442\\u0438\\u043d\\u0433\\u0443 / Marketing Manager (Inbound Marketing)\",\"senior it auditor\",\"Senior Data Engineer for Ciklum Digital\",\"Accelerator Physicist id54315\",\"Applied Physicist (Computing) (EP-LBC-2021-125-LD) id54308\",\"Optics / photonics engineer or physicist (21364)\",\"Physicist/Optical Scientist/Engineer Technology Development\",\"OSS PHYSICIST\"],\"xaxis\":\"x\",\"y\":[33.33,33.33,12.5,4.55,0.0,0.0,0.0,0.0,0.0],\"yaxis\":\"y\"}],                        {\"barmode\":\"relative\",\"coloraxis\":{\"colorbar\":{\"title\":{\"text\":\"color\"}},\"colorscale\":[[0.0,\"rgb(2,4,25)\"],[0.0625,\"rgb(24,15,41)\"],[0.125,\"rgb(47,23,57)\"],[0.1875,\"rgb(71,28,72)\"],[0.25,\"rgb(97,30,82)\"],[0.3125,\"rgb(123,30,89)\"],[0.375,\"rgb(150,27,91)\"],[0.4375,\"rgb(177,22,88)\"],[0.5,\"rgb(203,26,79)\"],[0.5625,\"rgb(223,47,67)\"],[0.625,\"rgb(236,76,61)\"],[0.6875,\"rgb(242,107,73)\"],[0.75,\"rgb(244,135,95)\"],[0.8125,\"rgb(245,162,122)\"],[0.875,\"rgb(246,188,153)\"],[0.9375,\"rgb(247,212,187)\"],[1.0,\"rgb(250,234,220)\"]]},\"height\":800,\"legend\":{\"tracegroupgap\":0},\"paper_bgcolor\":\"lightblue\",\"template\":{\"data\":{\"bar\":[{\"error_x\":{\"color\":\"rgb(36,36,36)\"},\"error_y\":{\"color\":\"rgb(36,36,36)\"},\"marker\":{\"line\":{\"color\":\"rgb(234,234,242)\",\"width\":0.5},\"pattern\":{\"fillmode\":\"overlay\",\"size\":10,\"solidity\":0.2}},\"type\":\"bar\"}],\"barpolar\":[{\"marker\":{\"line\":{\"color\":\"rgb(234,234,242)\",\"width\":0.5},\"pattern\":{\"fillmode\":\"overlay\",\"size\":10,\"solidity\":0.2}},\"type\":\"barpolar\"}],\"carpet\":[{\"aaxis\":{\"endlinecolor\":\"rgb(36,36,36)\",\"gridcolor\":\"white\",\"linecolor\":\"white\",\"minorgridcolor\":\"white\",\"startlinecolor\":\"rgb(36,36,36)\"},\"baxis\":{\"endlinecolor\":\"rgb(36,36,36)\",\"gridcolor\":\"white\",\"linecolor\":\"white\",\"minorgridcolor\":\"white\",\"startlinecolor\":\"rgb(36,36,36)\"},\"type\":\"carpet\"}],\"choropleth\":[{\"colorbar\":{\"outlinewidth\":0,\"tickcolor\":\"rgb(36,36,36)\",\"ticklen\":8,\"ticks\":\"outside\",\"tickwidth\":2},\"type\":\"choropleth\"}],\"contour\":[{\"colorbar\":{\"outlinewidth\":0,\"tickcolor\":\"rgb(36,36,36)\",\"ticklen\":8,\"ticks\":\"outside\",\"tickwidth\":2},\"colorscale\":[[0.0,\"rgb(2,4,25)\"],[0.06274509803921569,\"rgb(24,15,41)\"],[0.12549019607843137,\"rgb(47,23,57)\"],[0.18823529411764706,\"rgb(71,28,72)\"],[0.25098039215686274,\"rgb(97,30,82)\"],[0.3137254901960784,\"rgb(123,30,89)\"],[0.3764705882352941,\"rgb(150,27,91)\"],[0.4392156862745098,\"rgb(177,22,88)\"],[0.5019607843137255,\"rgb(203,26,79)\"],[0.5647058823529412,\"rgb(223,47,67)\"],[0.6274509803921569,\"rgb(236,76,61)\"],[0.6901960784313725,\"rgb(242,107,73)\"],[0.7529411764705882,\"rgb(244,135,95)\"],[0.8156862745098039,\"rgb(245,162,122)\"],[0.8784313725490196,\"rgb(246,188,153)\"],[0.9411764705882353,\"rgb(247,212,187)\"],[1.0,\"rgb(250,234,220)\"]],\"type\":\"contour\"}],\"contourcarpet\":[{\"colorbar\":{\"outlinewidth\":0,\"tickcolor\":\"rgb(36,36,36)\",\"ticklen\":8,\"ticks\":\"outside\",\"tickwidth\":2},\"type\":\"contourcarpet\"}],\"heatmap\":[{\"colorbar\":{\"outlinewidth\":0,\"tickcolor\":\"rgb(36,36,36)\",\"ticklen\":8,\"ticks\":\"outside\",\"tickwidth\":2},\"colorscale\":[[0.0,\"rgb(2,4,25)\"],[0.06274509803921569,\"rgb(24,15,41)\"],[0.12549019607843137,\"rgb(47,23,57)\"],[0.18823529411764706,\"rgb(71,28,72)\"],[0.25098039215686274,\"rgb(97,30,82)\"],[0.3137254901960784,\"rgb(123,30,89)\"],[0.3764705882352941,\"rgb(150,27,91)\"],[0.4392156862745098,\"rgb(177,22,88)\"],[0.5019607843137255,\"rgb(203,26,79)\"],[0.5647058823529412,\"rgb(223,47,67)\"],[0.6274509803921569,\"rgb(236,76,61)\"],[0.6901960784313725,\"rgb(242,107,73)\"],[0.7529411764705882,\"rgb(244,135,95)\"],[0.8156862745098039,\"rgb(245,162,122)\"],[0.8784313725490196,\"rgb(246,188,153)\"],[0.9411764705882353,\"rgb(247,212,187)\"],[1.0,\"rgb(250,234,220)\"]],\"type\":\"heatmap\"}],\"heatmapgl\":[{\"colorbar\":{\"outlinewidth\":0,\"tickcolor\":\"rgb(36,36,36)\",\"ticklen\":8,\"ticks\":\"outside\",\"tickwidth\":2},\"colorscale\":[[0.0,\"rgb(2,4,25)\"],[0.06274509803921569,\"rgb(24,15,41)\"],[0.12549019607843137,\"rgb(47,23,57)\"],[0.18823529411764706,\"rgb(71,28,72)\"],[0.25098039215686274,\"rgb(97,30,82)\"],[0.3137254901960784,\"rgb(123,30,89)\"],[0.3764705882352941,\"rgb(150,27,91)\"],[0.4392156862745098,\"rgb(177,22,88)\"],[0.5019607843137255,\"rgb(203,26,79)\"],[0.5647058823529412,\"rgb(223,47,67)\"],[0.6274509803921569,\"rgb(236,76,61)\"],[0.6901960784313725,\"rgb(242,107,73)\"],[0.7529411764705882,\"rgb(244,135,95)\"],[0.8156862745098039,\"rgb(245,162,122)\"],[0.8784313725490196,\"rgb(246,188,153)\"],[0.9411764705882353,\"rgb(247,212,187)\"],[1.0,\"rgb(250,234,220)\"]],\"type\":\"heatmapgl\"}],\"histogram\":[{\"marker\":{\"pattern\":{\"fillmode\":\"overlay\",\"size\":10,\"solidity\":0.2}},\"type\":\"histogram\"}],\"histogram2d\":[{\"colorbar\":{\"outlinewidth\":0,\"tickcolor\":\"rgb(36,36,36)\",\"ticklen\":8,\"ticks\":\"outside\",\"tickwidth\":2},\"colorscale\":[[0.0,\"rgb(2,4,25)\"],[0.06274509803921569,\"rgb(24,15,41)\"],[0.12549019607843137,\"rgb(47,23,57)\"],[0.18823529411764706,\"rgb(71,28,72)\"],[0.25098039215686274,\"rgb(97,30,82)\"],[0.3137254901960784,\"rgb(123,30,89)\"],[0.3764705882352941,\"rgb(150,27,91)\"],[0.4392156862745098,\"rgb(177,22,88)\"],[0.5019607843137255,\"rgb(203,26,79)\"],[0.5647058823529412,\"rgb(223,47,67)\"],[0.6274509803921569,\"rgb(236,76,61)\"],[0.6901960784313725,\"rgb(242,107,73)\"],[0.7529411764705882,\"rgb(244,135,95)\"],[0.8156862745098039,\"rgb(245,162,122)\"],[0.8784313725490196,\"rgb(246,188,153)\"],[0.9411764705882353,\"rgb(247,212,187)\"],[1.0,\"rgb(250,234,220)\"]],\"type\":\"histogram2d\"}],\"histogram2dcontour\":[{\"colorbar\":{\"outlinewidth\":0,\"tickcolor\":\"rgb(36,36,36)\",\"ticklen\":8,\"ticks\":\"outside\",\"tickwidth\":2},\"colorscale\":[[0.0,\"rgb(2,4,25)\"],[0.06274509803921569,\"rgb(24,15,41)\"],[0.12549019607843137,\"rgb(47,23,57)\"],[0.18823529411764706,\"rgb(71,28,72)\"],[0.25098039215686274,\"rgb(97,30,82)\"],[0.3137254901960784,\"rgb(123,30,89)\"],[0.3764705882352941,\"rgb(150,27,91)\"],[0.4392156862745098,\"rgb(177,22,88)\"],[0.5019607843137255,\"rgb(203,26,79)\"],[0.5647058823529412,\"rgb(223,47,67)\"],[0.6274509803921569,\"rgb(236,76,61)\"],[0.6901960784313725,\"rgb(242,107,73)\"],[0.7529411764705882,\"rgb(244,135,95)\"],[0.8156862745098039,\"rgb(245,162,122)\"],[0.8784313725490196,\"rgb(246,188,153)\"],[0.9411764705882353,\"rgb(247,212,187)\"],[1.0,\"rgb(250,234,220)\"]],\"type\":\"histogram2dcontour\"}],\"mesh3d\":[{\"colorbar\":{\"outlinewidth\":0,\"tickcolor\":\"rgb(36,36,36)\",\"ticklen\":8,\"ticks\":\"outside\",\"tickwidth\":2},\"type\":\"mesh3d\"}],\"parcoords\":[{\"line\":{\"colorbar\":{\"outlinewidth\":0,\"tickcolor\":\"rgb(36,36,36)\",\"ticklen\":8,\"ticks\":\"outside\",\"tickwidth\":2}},\"type\":\"parcoords\"}],\"pie\":[{\"automargin\":true,\"type\":\"pie\"}],\"scatter\":[{\"marker\":{\"colorbar\":{\"outlinewidth\":0,\"tickcolor\":\"rgb(36,36,36)\",\"ticklen\":8,\"ticks\":\"outside\",\"tickwidth\":2}},\"type\":\"scatter\"}],\"scatter3d\":[{\"line\":{\"colorbar\":{\"outlinewidth\":0,\"tickcolor\":\"rgb(36,36,36)\",\"ticklen\":8,\"ticks\":\"outside\",\"tickwidth\":2}},\"marker\":{\"colorbar\":{\"outlinewidth\":0,\"tickcolor\":\"rgb(36,36,36)\",\"ticklen\":8,\"ticks\":\"outside\",\"tickwidth\":2}},\"type\":\"scatter3d\"}],\"scattercarpet\":[{\"marker\":{\"colorbar\":{\"outlinewidth\":0,\"tickcolor\":\"rgb(36,36,36)\",\"ticklen\":8,\"ticks\":\"outside\",\"tickwidth\":2}},\"type\":\"scattercarpet\"}],\"scattergeo\":[{\"marker\":{\"colorbar\":{\"outlinewidth\":0,\"tickcolor\":\"rgb(36,36,36)\",\"ticklen\":8,\"ticks\":\"outside\",\"tickwidth\":2}},\"type\":\"scattergeo\"}],\"scattergl\":[{\"marker\":{\"colorbar\":{\"outlinewidth\":0,\"tickcolor\":\"rgb(36,36,36)\",\"ticklen\":8,\"ticks\":\"outside\",\"tickwidth\":2}},\"type\":\"scattergl\"}],\"scattermapbox\":[{\"marker\":{\"colorbar\":{\"outlinewidth\":0,\"tickcolor\":\"rgb(36,36,36)\",\"ticklen\":8,\"ticks\":\"outside\",\"tickwidth\":2}},\"type\":\"scattermapbox\"}],\"scatterpolar\":[{\"marker\":{\"colorbar\":{\"outlinewidth\":0,\"tickcolor\":\"rgb(36,36,36)\",\"ticklen\":8,\"ticks\":\"outside\",\"tickwidth\":2}},\"type\":\"scatterpolar\"}],\"scatterpolargl\":[{\"marker\":{\"colorbar\":{\"outlinewidth\":0,\"tickcolor\":\"rgb(36,36,36)\",\"ticklen\":8,\"ticks\":\"outside\",\"tickwidth\":2}},\"type\":\"scatterpolargl\"}],\"scatterternary\":[{\"marker\":{\"colorbar\":{\"outlinewidth\":0,\"tickcolor\":\"rgb(36,36,36)\",\"ticklen\":8,\"ticks\":\"outside\",\"tickwidth\":2}},\"type\":\"scatterternary\"}],\"surface\":[{\"colorbar\":{\"outlinewidth\":0,\"tickcolor\":\"rgb(36,36,36)\",\"ticklen\":8,\"ticks\":\"outside\",\"tickwidth\":2},\"colorscale\":[[0.0,\"rgb(2,4,25)\"],[0.06274509803921569,\"rgb(24,15,41)\"],[0.12549019607843137,\"rgb(47,23,57)\"],[0.18823529411764706,\"rgb(71,28,72)\"],[0.25098039215686274,\"rgb(97,30,82)\"],[0.3137254901960784,\"rgb(123,30,89)\"],[0.3764705882352941,\"rgb(150,27,91)\"],[0.4392156862745098,\"rgb(177,22,88)\"],[0.5019607843137255,\"rgb(203,26,79)\"],[0.5647058823529412,\"rgb(223,47,67)\"],[0.6274509803921569,\"rgb(236,76,61)\"],[0.6901960784313725,\"rgb(242,107,73)\"],[0.7529411764705882,\"rgb(244,135,95)\"],[0.8156862745098039,\"rgb(245,162,122)\"],[0.8784313725490196,\"rgb(246,188,153)\"],[0.9411764705882353,\"rgb(247,212,187)\"],[1.0,\"rgb(250,234,220)\"]],\"type\":\"surface\"}],\"table\":[{\"cells\":{\"fill\":{\"color\":\"rgb(231,231,240)\"},\"line\":{\"color\":\"white\"}},\"header\":{\"fill\":{\"color\":\"rgb(183,183,191)\"},\"line\":{\"color\":\"white\"}},\"type\":\"table\"}]},\"layout\":{\"annotationdefaults\":{\"arrowcolor\":\"rgb(67,103,167)\"},\"autotypenumbers\":\"strict\",\"coloraxis\":{\"colorbar\":{\"outlinewidth\":0,\"tickcolor\":\"rgb(36,36,36)\",\"ticklen\":8,\"ticks\":\"outside\",\"tickwidth\":2}},\"colorscale\":{\"sequential\":[[0.0,\"rgb(2,4,25)\"],[0.06274509803921569,\"rgb(24,15,41)\"],[0.12549019607843137,\"rgb(47,23,57)\"],[0.18823529411764706,\"rgb(71,28,72)\"],[0.25098039215686274,\"rgb(97,30,82)\"],[0.3137254901960784,\"rgb(123,30,89)\"],[0.3764705882352941,\"rgb(150,27,91)\"],[0.4392156862745098,\"rgb(177,22,88)\"],[0.5019607843137255,\"rgb(203,26,79)\"],[0.5647058823529412,\"rgb(223,47,67)\"],[0.6274509803921569,\"rgb(236,76,61)\"],[0.6901960784313725,\"rgb(242,107,73)\"],[0.7529411764705882,\"rgb(244,135,95)\"],[0.8156862745098039,\"rgb(245,162,122)\"],[0.8784313725490196,\"rgb(246,188,153)\"],[0.9411764705882353,\"rgb(247,212,187)\"],[1.0,\"rgb(250,234,220)\"]],\"sequentialminus\":[[0.0,\"rgb(2,4,25)\"],[0.06274509803921569,\"rgb(24,15,41)\"],[0.12549019607843137,\"rgb(47,23,57)\"],[0.18823529411764706,\"rgb(71,28,72)\"],[0.25098039215686274,\"rgb(97,30,82)\"],[0.3137254901960784,\"rgb(123,30,89)\"],[0.3764705882352941,\"rgb(150,27,91)\"],[0.4392156862745098,\"rgb(177,22,88)\"],[0.5019607843137255,\"rgb(203,26,79)\"],[0.5647058823529412,\"rgb(223,47,67)\"],[0.6274509803921569,\"rgb(236,76,61)\"],[0.6901960784313725,\"rgb(242,107,73)\"],[0.7529411764705882,\"rgb(244,135,95)\"],[0.8156862745098039,\"rgb(245,162,122)\"],[0.8784313725490196,\"rgb(246,188,153)\"],[0.9411764705882353,\"rgb(247,212,187)\"],[1.0,\"rgb(250,234,220)\"]]},\"colorway\":[\"rgb(76,114,176)\",\"rgb(221,132,82)\",\"rgb(85,168,104)\",\"rgb(196,78,82)\",\"rgb(129,114,179)\",\"rgb(147,120,96)\",\"rgb(218,139,195)\",\"rgb(140,140,140)\",\"rgb(204,185,116)\",\"rgb(100,181,205)\"],\"font\":{\"color\":\"rgb(36,36,36)\"},\"geo\":{\"bgcolor\":\"white\",\"lakecolor\":\"white\",\"landcolor\":\"rgb(234,234,242)\",\"showlakes\":true,\"showland\":true,\"subunitcolor\":\"white\"},\"hoverlabel\":{\"align\":\"left\"},\"hovermode\":\"closest\",\"paper_bgcolor\":\"white\",\"plot_bgcolor\":\"rgb(234,234,242)\",\"polar\":{\"angularaxis\":{\"gridcolor\":\"white\",\"linecolor\":\"white\",\"showgrid\":true,\"ticks\":\"\"},\"bgcolor\":\"rgb(234,234,242)\",\"radialaxis\":{\"gridcolor\":\"white\",\"linecolor\":\"white\",\"showgrid\":true,\"ticks\":\"\"}},\"scene\":{\"xaxis\":{\"backgroundcolor\":\"rgb(234,234,242)\",\"gridcolor\":\"white\",\"gridwidth\":2,\"linecolor\":\"white\",\"showbackground\":true,\"showgrid\":true,\"ticks\":\"\",\"zerolinecolor\":\"white\"},\"yaxis\":{\"backgroundcolor\":\"rgb(234,234,242)\",\"gridcolor\":\"white\",\"gridwidth\":2,\"linecolor\":\"white\",\"showbackground\":true,\"showgrid\":true,\"ticks\":\"\",\"zerolinecolor\":\"white\"},\"zaxis\":{\"backgroundcolor\":\"rgb(234,234,242)\",\"gridcolor\":\"white\",\"gridwidth\":2,\"linecolor\":\"white\",\"showbackground\":true,\"showgrid\":true,\"ticks\":\"\",\"zerolinecolor\":\"white\"}},\"shapedefaults\":{\"fillcolor\":\"rgb(67,103,167)\",\"line\":{\"width\":0},\"opacity\":0.5},\"ternary\":{\"aaxis\":{\"gridcolor\":\"white\",\"linecolor\":\"white\",\"showgrid\":true,\"ticks\":\"\"},\"baxis\":{\"gridcolor\":\"white\",\"linecolor\":\"white\",\"showgrid\":true,\"ticks\":\"\"},\"bgcolor\":\"rgb(234,234,242)\",\"caxis\":{\"gridcolor\":\"white\",\"linecolor\":\"white\",\"showgrid\":true,\"ticks\":\"\"}},\"xaxis\":{\"automargin\":true,\"gridcolor\":\"white\",\"linecolor\":\"white\",\"showgrid\":true,\"ticks\":\"\",\"title\":{\"standoff\":15},\"zerolinecolor\":\"white\"},\"yaxis\":{\"automargin\":true,\"gridcolor\":\"white\",\"linecolor\":\"white\",\"showgrid\":true,\"ticks\":\"\",\"title\":{\"standoff\":15},\"zerolinecolor\":\"white\"}}},\"title\":{\"text\":\"Job offers matching with resume\"},\"width\":1200,\"xaxis\":{\"anchor\":\"y\",\"domain\":[0.0,1.0],\"title\":{\"text\":\"job position\"}},\"yaxis\":{\"anchor\":\"x\",\"domain\":[0.0,1.0],\"title\":{\"text\":\"Matching %\"}}},                        {\"responsive\": true}                    ).then(function(){\n",
       "                            \n",
       "var gd = document.getElementById('665d171c-d54c-464e-a005-3161faca3cb3');\n",
       "var x = new MutationObserver(function (mutations, observer) {{\n",
       "        var display = window.getComputedStyle(gd).display;\n",
       "        if (!display || display === 'none') {{\n",
       "            console.log([gd, 'removed!']);\n",
       "            Plotly.purge(gd);\n",
       "            observer.disconnect();\n",
       "        }}\n",
       "}});\n",
       "\n",
       "// Listen for the removal of the full notebook cells\n",
       "var notebookContainer = gd.closest('#notebook-container');\n",
       "if (notebookContainer) {{\n",
       "    x.observe(notebookContainer, {childList: true});\n",
       "}}\n",
       "\n",
       "// Listen for the clearing of the current output cell\n",
       "var outputEl = gd.closest('.output');\n",
       "if (outputEl) {{\n",
       "    x.observe(outputEl, {childList: true});\n",
       "}}\n",
       "\n",
       "                        })                };                });            </script>        </div>"
      ]
     },
     "metadata": {},
     "output_type": "display_data"
    }
   ],
   "source": [
    "pct_list = match_skills(JD_set, skill_list, data)\n",
    "pct_list"
   ]
  },
  {
   "cell_type": "code",
   "execution_count": 455,
   "id": "f2123a1a-7fbf-46c8-93f1-42903ecd7d15",
   "metadata": {},
   "outputs": [
    {
     "data": {
      "text/plain": [
       "[[116, 50.0],\n",
       " [540, 50.0],\n",
       " [541, 50.0],\n",
       " [1045, 50.0],\n",
       " [1046, 50.0],\n",
       " [1048, 50.0],\n",
       " [1049, 50.0],\n",
       " [1054, 50.0],\n",
       " [1058, 50.0],\n",
       " [1059, 50.0],\n",
       " [1060, 50.0],\n",
       " [1061, 50.0],\n",
       " [3309, 50.0],\n",
       " [114, 33.33],\n",
       " [711, 33.33],\n",
       " [1055, 33.33],\n",
       " [1064, 33.33],\n",
       " [1065, 33.33],\n",
       " [1066, 33.33],\n",
       " [539, 25.0],\n",
       " [1057, 25.0],\n",
       " [2669, 25.0],\n",
       " [115, 20.0],\n",
       " [1044, 20.0],\n",
       " [1047, 20.0],\n",
       " [1053, 20.0],\n",
       " [1056, 20.0],\n",
       " [1103, 16.67],\n",
       " [2511, 16.67],\n",
       " [198, 12.5],\n",
       " [2727, 11.76],\n",
       " [1401, 11.11],\n",
       " [2753, 11.11],\n",
       " [832, 10.0],\n",
       " [2775, 9.52],\n",
       " [2702, 7.14],\n",
       " [2704, 6.67],\n",
       " [1, 0.0],\n",
       " [2, 0.0],\n",
       " [3, 0.0],\n",
       " [4, 0.0],\n",
       " [5, 0.0],\n",
       " [6, 0.0],\n",
       " [7, 0.0],\n",
       " [8, 0.0],\n",
       " [9, 0.0],\n",
       " [10, 0.0],\n",
       " [11, 0.0],\n",
       " [13, 0.0],\n",
       " [18, 0.0],\n",
       " [23, 0.0],\n",
       " [24, 0.0],\n",
       " [25, 0.0],\n",
       " [26, 0.0],\n",
       " [27, 0.0],\n",
       " [28, 0.0],\n",
       " [29, 0.0],\n",
       " [30, 0.0],\n",
       " [31, 0.0],\n",
       " [32, 0.0],\n",
       " [33, 0.0],\n",
       " [34, 0.0],\n",
       " [35, 0.0],\n",
       " [36, 0.0],\n",
       " [38, 0.0],\n",
       " [39, 0.0],\n",
       " [40, 0.0],\n",
       " [41, 0.0],\n",
       " [42, 0.0],\n",
       " [43, 0.0],\n",
       " [44, 0.0],\n",
       " [46, 0.0],\n",
       " [47, 0.0],\n",
       " [48, 0.0],\n",
       " [49, 0.0],\n",
       " [50, 0.0],\n",
       " [51, 0.0],\n",
       " [52, 0.0],\n",
       " [53, 0.0],\n",
       " [54, 0.0],\n",
       " [55, 0.0],\n",
       " [56, 0.0],\n",
       " [58, 0.0],\n",
       " [62, 0.0],\n",
       " [63, 0.0],\n",
       " [64, 0.0],\n",
       " [65, 0.0],\n",
       " [67, 0.0],\n",
       " [68, 0.0],\n",
       " [69, 0.0],\n",
       " [70, 0.0],\n",
       " [71, 0.0],\n",
       " [72, 0.0],\n",
       " [73, 0.0],\n",
       " [74, 0.0],\n",
       " [75, 0.0],\n",
       " [76, 0.0],\n",
       " [77, 0.0],\n",
       " [78, 0.0],\n",
       " [79, 0.0],\n",
       " [80, 0.0],\n",
       " [81, 0.0],\n",
       " [82, 0.0],\n",
       " [83, 0.0],\n",
       " [84, 0.0],\n",
       " [85, 0.0],\n",
       " [86, 0.0],\n",
       " [87, 0.0],\n",
       " [88, 0.0],\n",
       " [89, 0.0],\n",
       " [90, 0.0],\n",
       " [91, 0.0],\n",
       " [92, 0.0],\n",
       " [93, 0.0],\n",
       " [94, 0.0],\n",
       " [95, 0.0],\n",
       " [96, 0.0],\n",
       " [97, 0.0],\n",
       " [98, 0.0],\n",
       " [99, 0.0],\n",
       " [100, 0.0],\n",
       " [101, 0.0],\n",
       " [102, 0.0],\n",
       " [103, 0.0],\n",
       " [104, 0.0],\n",
       " [105, 0.0],\n",
       " [106, 0.0],\n",
       " [107, 0.0],\n",
       " [108, 0.0],\n",
       " [109, 0.0],\n",
       " [110, 0.0],\n",
       " [111, 0.0],\n",
       " [112, 0.0],\n",
       " [113, 0.0],\n",
       " [117, 0.0],\n",
       " [118, 0.0],\n",
       " [119, 0.0],\n",
       " [121, 0.0],\n",
       " [123, 0.0],\n",
       " [124, 0.0],\n",
       " [125, 0.0],\n",
       " [126, 0.0],\n",
       " [127, 0.0],\n",
       " [128, 0.0],\n",
       " [129, 0.0],\n",
       " [131, 0.0],\n",
       " [132, 0.0],\n",
       " [134, 0.0],\n",
       " [135, 0.0],\n",
       " [136, 0.0],\n",
       " [138, 0.0],\n",
       " [139, 0.0],\n",
       " [140, 0.0],\n",
       " [141, 0.0],\n",
       " [142, 0.0],\n",
       " [143, 0.0],\n",
       " [144, 0.0],\n",
       " [145, 0.0],\n",
       " [146, 0.0],\n",
       " [147, 0.0],\n",
       " [148, 0.0],\n",
       " [149, 0.0],\n",
       " [150, 0.0],\n",
       " [151, 0.0],\n",
       " [152, 0.0],\n",
       " [153, 0.0],\n",
       " [155, 0.0],\n",
       " [156, 0.0],\n",
       " [158, 0.0],\n",
       " [159, 0.0],\n",
       " [160, 0.0],\n",
       " [161, 0.0],\n",
       " [162, 0.0],\n",
       " [164, 0.0],\n",
       " [165, 0.0],\n",
       " [166, 0.0],\n",
       " [167, 0.0],\n",
       " [168, 0.0],\n",
       " [169, 0.0],\n",
       " [170, 0.0],\n",
       " [171, 0.0],\n",
       " [172, 0.0],\n",
       " [173, 0.0],\n",
       " [174, 0.0],\n",
       " [175, 0.0],\n",
       " [176, 0.0],\n",
       " [177, 0.0],\n",
       " [179, 0.0],\n",
       " [180, 0.0],\n",
       " [181, 0.0],\n",
       " [183, 0.0],\n",
       " [185, 0.0],\n",
       " [186, 0.0],\n",
       " [188, 0.0],\n",
       " [189, 0.0],\n",
       " [190, 0.0],\n",
       " [191, 0.0],\n",
       " [192, 0.0],\n",
       " [193, 0.0],\n",
       " [194, 0.0],\n",
       " [195, 0.0],\n",
       " [196, 0.0],\n",
       " [197, 0.0],\n",
       " [199, 0.0],\n",
       " [200, 0.0],\n",
       " [201, 0.0],\n",
       " [202, 0.0],\n",
       " [203, 0.0],\n",
       " [204, 0.0],\n",
       " [205, 0.0],\n",
       " [206, 0.0],\n",
       " [207, 0.0],\n",
       " [209, 0.0],\n",
       " [210, 0.0],\n",
       " [211, 0.0],\n",
       " [213, 0.0],\n",
       " [214, 0.0],\n",
       " [215, 0.0],\n",
       " [218, 0.0],\n",
       " [220, 0.0],\n",
       " [221, 0.0],\n",
       " [223, 0.0],\n",
       " [224, 0.0],\n",
       " [225, 0.0],\n",
       " [226, 0.0],\n",
       " [227, 0.0],\n",
       " [230, 0.0],\n",
       " [231, 0.0],\n",
       " [232, 0.0],\n",
       " [233, 0.0],\n",
       " [234, 0.0],\n",
       " [236, 0.0],\n",
       " [237, 0.0],\n",
       " [240, 0.0],\n",
       " [241, 0.0],\n",
       " [242, 0.0],\n",
       " [244, 0.0],\n",
       " [247, 0.0],\n",
       " [248, 0.0],\n",
       " [249, 0.0],\n",
       " [250, 0.0],\n",
       " [251, 0.0],\n",
       " [252, 0.0],\n",
       " [253, 0.0],\n",
       " [254, 0.0],\n",
       " [255, 0.0],\n",
       " [256, 0.0],\n",
       " [257, 0.0],\n",
       " [258, 0.0],\n",
       " [259, 0.0],\n",
       " [261, 0.0],\n",
       " [262, 0.0],\n",
       " [263, 0.0],\n",
       " [266, 0.0],\n",
       " [268, 0.0],\n",
       " [269, 0.0],\n",
       " [270, 0.0],\n",
       " [272, 0.0],\n",
       " [273, 0.0],\n",
       " [275, 0.0],\n",
       " [276, 0.0],\n",
       " [278, 0.0],\n",
       " [279, 0.0],\n",
       " [281, 0.0],\n",
       " [283, 0.0],\n",
       " [284, 0.0],\n",
       " [285, 0.0],\n",
       " [286, 0.0],\n",
       " [288, 0.0],\n",
       " [289, 0.0],\n",
       " [290, 0.0],\n",
       " [291, 0.0],\n",
       " [292, 0.0],\n",
       " [293, 0.0],\n",
       " [295, 0.0],\n",
       " [296, 0.0],\n",
       " [297, 0.0],\n",
       " [298, 0.0],\n",
       " [299, 0.0],\n",
       " [300, 0.0],\n",
       " [302, 0.0],\n",
       " [303, 0.0],\n",
       " [305, 0.0],\n",
       " [306, 0.0],\n",
       " [307, 0.0],\n",
       " [308, 0.0],\n",
       " [309, 0.0],\n",
       " [311, 0.0],\n",
       " [312, 0.0],\n",
       " [313, 0.0],\n",
       " [314, 0.0],\n",
       " [315, 0.0],\n",
       " [316, 0.0],\n",
       " [317, 0.0],\n",
       " [318, 0.0],\n",
       " [319, 0.0],\n",
       " [320, 0.0],\n",
       " [322, 0.0],\n",
       " [323, 0.0],\n",
       " [325, 0.0],\n",
       " [326, 0.0],\n",
       " [328, 0.0],\n",
       " [330, 0.0],\n",
       " [331, 0.0],\n",
       " [332, 0.0],\n",
       " [333, 0.0],\n",
       " [334, 0.0],\n",
       " [335, 0.0],\n",
       " [336, 0.0],\n",
       " [337, 0.0],\n",
       " [338, 0.0],\n",
       " [340, 0.0],\n",
       " [341, 0.0],\n",
       " [344, 0.0],\n",
       " [346, 0.0],\n",
       " [347, 0.0],\n",
       " [349, 0.0],\n",
       " [351, 0.0],\n",
       " [352, 0.0],\n",
       " [354, 0.0],\n",
       " [355, 0.0],\n",
       " [356, 0.0],\n",
       " [357, 0.0],\n",
       " [359, 0.0],\n",
       " [360, 0.0],\n",
       " [363, 0.0],\n",
       " [366, 0.0],\n",
       " [367, 0.0],\n",
       " [368, 0.0],\n",
       " [369, 0.0],\n",
       " [370, 0.0],\n",
       " [371, 0.0],\n",
       " [373, 0.0],\n",
       " [375, 0.0],\n",
       " [377, 0.0],\n",
       " [380, 0.0],\n",
       " [383, 0.0],\n",
       " [384, 0.0],\n",
       " [385, 0.0],\n",
       " [387, 0.0],\n",
       " [390, 0.0],\n",
       " [392, 0.0],\n",
       " [393, 0.0],\n",
       " [394, 0.0],\n",
       " [395, 0.0],\n",
       " [396, 0.0],\n",
       " [397, 0.0],\n",
       " [398, 0.0],\n",
       " [399, 0.0],\n",
       " [400, 0.0],\n",
       " [401, 0.0],\n",
       " [402, 0.0],\n",
       " [404, 0.0],\n",
       " [405, 0.0],\n",
       " [406, 0.0],\n",
       " [408, 0.0],\n",
       " [411, 0.0],\n",
       " [412, 0.0],\n",
       " [414, 0.0],\n",
       " [415, 0.0],\n",
       " [416, 0.0],\n",
       " [417, 0.0],\n",
       " [418, 0.0],\n",
       " [419, 0.0],\n",
       " [420, 0.0],\n",
       " [421, 0.0],\n",
       " [422, 0.0],\n",
       " [423, 0.0],\n",
       " [424, 0.0],\n",
       " [425, 0.0],\n",
       " [427, 0.0],\n",
       " [428, 0.0],\n",
       " [429, 0.0],\n",
       " [431, 0.0],\n",
       " [432, 0.0],\n",
       " [435, 0.0],\n",
       " [436, 0.0],\n",
       " [437, 0.0],\n",
       " [438, 0.0],\n",
       " [439, 0.0],\n",
       " [441, 0.0],\n",
       " [444, 0.0],\n",
       " [447, 0.0],\n",
       " [450, 0.0],\n",
       " [453, 0.0],\n",
       " [456, 0.0],\n",
       " [459, 0.0],\n",
       " [462, 0.0],\n",
       " [465, 0.0],\n",
       " [468, 0.0],\n",
       " [471, 0.0],\n",
       " [474, 0.0],\n",
       " [477, 0.0],\n",
       " [480, 0.0],\n",
       " [483, 0.0],\n",
       " [486, 0.0],\n",
       " [492, 0.0],\n",
       " [495, 0.0],\n",
       " [502, 0.0],\n",
       " [503, 0.0],\n",
       " [505, 0.0],\n",
       " [506, 0.0],\n",
       " [508, 0.0],\n",
       " [510, 0.0],\n",
       " [511, 0.0],\n",
       " [514, 0.0],\n",
       " [518, 0.0],\n",
       " [520, 0.0],\n",
       " [522, 0.0],\n",
       " [523, 0.0],\n",
       " [528, 0.0],\n",
       " [529, 0.0],\n",
       " [531, 0.0],\n",
       " [532, 0.0],\n",
       " [533, 0.0],\n",
       " [536, 0.0],\n",
       " [537, 0.0],\n",
       " [538, 0.0],\n",
       " [542, 0.0],\n",
       " [544, 0.0],\n",
       " [546, 0.0],\n",
       " [548, 0.0],\n",
       " [551, 0.0],\n",
       " [553, 0.0],\n",
       " [555, 0.0],\n",
       " [556, 0.0],\n",
       " [558, 0.0],\n",
       " [559, 0.0],\n",
       " [560, 0.0],\n",
       " [561, 0.0],\n",
       " [562, 0.0],\n",
       " [563, 0.0],\n",
       " [564, 0.0],\n",
       " [565, 0.0],\n",
       " [566, 0.0],\n",
       " [567, 0.0],\n",
       " [568, 0.0],\n",
       " [572, 0.0],\n",
       " [573, 0.0],\n",
       " [576, 0.0],\n",
       " [578, 0.0],\n",
       " [580, 0.0],\n",
       " [581, 0.0],\n",
       " [582, 0.0],\n",
       " [583, 0.0],\n",
       " [584, 0.0],\n",
       " [585, 0.0],\n",
       " [586, 0.0],\n",
       " [587, 0.0],\n",
       " [588, 0.0],\n",
       " [589, 0.0],\n",
       " [590, 0.0],\n",
       " [591, 0.0],\n",
       " [592, 0.0],\n",
       " [593, 0.0],\n",
       " [594, 0.0],\n",
       " [595, 0.0],\n",
       " [596, 0.0],\n",
       " [597, 0.0],\n",
       " [598, 0.0],\n",
       " [599, 0.0],\n",
       " [600, 0.0],\n",
       " [601, 0.0],\n",
       " [603, 0.0],\n",
       " [605, 0.0],\n",
       " [606, 0.0],\n",
       " [607, 0.0],\n",
       " [608, 0.0],\n",
       " [609, 0.0],\n",
       " [610, 0.0],\n",
       " [611, 0.0],\n",
       " [613, 0.0],\n",
       " [614, 0.0],\n",
       " [615, 0.0],\n",
       " [616, 0.0],\n",
       " [617, 0.0],\n",
       " [618, 0.0],\n",
       " [619, 0.0],\n",
       " [620, 0.0],\n",
       " [621, 0.0],\n",
       " [624, 0.0],\n",
       " [625, 0.0],\n",
       " [628, 0.0],\n",
       " [629, 0.0],\n",
       " [630, 0.0],\n",
       " [631, 0.0],\n",
       " [632, 0.0],\n",
       " [633, 0.0],\n",
       " [634, 0.0],\n",
       " [635, 0.0],\n",
       " [636, 0.0],\n",
       " [637, 0.0],\n",
       " [638, 0.0],\n",
       " [640, 0.0],\n",
       " [641, 0.0],\n",
       " [642, 0.0],\n",
       " [643, 0.0],\n",
       " [644, 0.0],\n",
       " [646, 0.0],\n",
       " [647, 0.0],\n",
       " [649, 0.0],\n",
       " [650, 0.0],\n",
       " [651, 0.0],\n",
       " [652, 0.0],\n",
       " [654, 0.0],\n",
       " [655, 0.0],\n",
       " [656, 0.0],\n",
       " [657, 0.0],\n",
       " [658, 0.0],\n",
       " [659, 0.0],\n",
       " [660, 0.0],\n",
       " [661, 0.0],\n",
       " [662, 0.0],\n",
       " [663, 0.0],\n",
       " [664, 0.0],\n",
       " [665, 0.0],\n",
       " [666, 0.0],\n",
       " [667, 0.0],\n",
       " [668, 0.0],\n",
       " [669, 0.0],\n",
       " [671, 0.0],\n",
       " [672, 0.0],\n",
       " [673, 0.0],\n",
       " [674, 0.0],\n",
       " [675, 0.0],\n",
       " [676, 0.0],\n",
       " [677, 0.0],\n",
       " [678, 0.0],\n",
       " [679, 0.0],\n",
       " [680, 0.0],\n",
       " [681, 0.0],\n",
       " [682, 0.0],\n",
       " [683, 0.0],\n",
       " [684, 0.0],\n",
       " [687, 0.0],\n",
       " [688, 0.0],\n",
       " [689, 0.0],\n",
       " [690, 0.0],\n",
       " [691, 0.0],\n",
       " [692, 0.0],\n",
       " [693, 0.0],\n",
       " [694, 0.0],\n",
       " [695, 0.0],\n",
       " [696, 0.0],\n",
       " [698, 0.0],\n",
       " [699, 0.0],\n",
       " [700, 0.0],\n",
       " [701, 0.0],\n",
       " [702, 0.0],\n",
       " [703, 0.0],\n",
       " [704, 0.0],\n",
       " [705, 0.0],\n",
       " [706, 0.0],\n",
       " [707, 0.0],\n",
       " [708, 0.0],\n",
       " [712, 0.0],\n",
       " [713, 0.0],\n",
       " [714, 0.0],\n",
       " [715, 0.0],\n",
       " [716, 0.0],\n",
       " [717, 0.0],\n",
       " [718, 0.0],\n",
       " [719, 0.0],\n",
       " [720, 0.0],\n",
       " [721, 0.0],\n",
       " [722, 0.0],\n",
       " [723, 0.0],\n",
       " [724, 0.0],\n",
       " [725, 0.0],\n",
       " [726, 0.0],\n",
       " [727, 0.0],\n",
       " [728, 0.0],\n",
       " [729, 0.0],\n",
       " [730, 0.0],\n",
       " [731, 0.0],\n",
       " [732, 0.0],\n",
       " [733, 0.0],\n",
       " [734, 0.0],\n",
       " [735, 0.0],\n",
       " [736, 0.0],\n",
       " [737, 0.0],\n",
       " [738, 0.0],\n",
       " [739, 0.0],\n",
       " [740, 0.0],\n",
       " [741, 0.0],\n",
       " [742, 0.0],\n",
       " [743, 0.0],\n",
       " [744, 0.0],\n",
       " [745, 0.0],\n",
       " [746, 0.0],\n",
       " [747, 0.0],\n",
       " [748, 0.0],\n",
       " [749, 0.0],\n",
       " [750, 0.0],\n",
       " [751, 0.0],\n",
       " [752, 0.0],\n",
       " [753, 0.0],\n",
       " [754, 0.0],\n",
       " [755, 0.0],\n",
       " [756, 0.0],\n",
       " [757, 0.0],\n",
       " [758, 0.0],\n",
       " [759, 0.0],\n",
       " [760, 0.0],\n",
       " [761, 0.0],\n",
       " [762, 0.0],\n",
       " [763, 0.0],\n",
       " [764, 0.0],\n",
       " [765, 0.0],\n",
       " [766, 0.0],\n",
       " [767, 0.0],\n",
       " [768, 0.0],\n",
       " [769, 0.0],\n",
       " [770, 0.0],\n",
       " [771, 0.0],\n",
       " [772, 0.0],\n",
       " [773, 0.0],\n",
       " [774, 0.0],\n",
       " [775, 0.0],\n",
       " [776, 0.0],\n",
       " [777, 0.0],\n",
       " [778, 0.0],\n",
       " [779, 0.0],\n",
       " [780, 0.0],\n",
       " [781, 0.0],\n",
       " [782, 0.0],\n",
       " [783, 0.0],\n",
       " [784, 0.0],\n",
       " [785, 0.0],\n",
       " [786, 0.0],\n",
       " [787, 0.0],\n",
       " [788, 0.0],\n",
       " [789, 0.0],\n",
       " [790, 0.0],\n",
       " [791, 0.0],\n",
       " [792, 0.0],\n",
       " [793, 0.0],\n",
       " [794, 0.0],\n",
       " [795, 0.0],\n",
       " [796, 0.0],\n",
       " [797, 0.0],\n",
       " [798, 0.0],\n",
       " [799, 0.0],\n",
       " [800, 0.0],\n",
       " [801, 0.0],\n",
       " [802, 0.0],\n",
       " [803, 0.0],\n",
       " [804, 0.0],\n",
       " [805, 0.0],\n",
       " [806, 0.0],\n",
       " [807, 0.0],\n",
       " [808, 0.0],\n",
       " [811, 0.0],\n",
       " [814, 0.0],\n",
       " [817, 0.0],\n",
       " [820, 0.0],\n",
       " [823, 0.0],\n",
       " [826, 0.0],\n",
       " [833, 0.0],\n",
       " [834, 0.0],\n",
       " [836, 0.0],\n",
       " [837, 0.0],\n",
       " [840, 0.0],\n",
       " [841, 0.0],\n",
       " [842, 0.0],\n",
       " [843, 0.0],\n",
       " [844, 0.0],\n",
       " [845, 0.0],\n",
       " [846, 0.0],\n",
       " [847, 0.0],\n",
       " [848, 0.0],\n",
       " [849, 0.0],\n",
       " [850, 0.0],\n",
       " [851, 0.0],\n",
       " [855, 0.0],\n",
       " [856, 0.0],\n",
       " [857, 0.0],\n",
       " [858, 0.0],\n",
       " [859, 0.0],\n",
       " [860, 0.0],\n",
       " [861, 0.0],\n",
       " [862, 0.0],\n",
       " [863, 0.0],\n",
       " [864, 0.0],\n",
       " [865, 0.0],\n",
       " [866, 0.0],\n",
       " [867, 0.0],\n",
       " [868, 0.0],\n",
       " [869, 0.0],\n",
       " [871, 0.0],\n",
       " [872, 0.0],\n",
       " [873, 0.0],\n",
       " [876, 0.0],\n",
       " [877, 0.0],\n",
       " [878, 0.0],\n",
       " [881, 0.0],\n",
       " [883, 0.0],\n",
       " [884, 0.0],\n",
       " [886, 0.0],\n",
       " [888, 0.0],\n",
       " [889, 0.0],\n",
       " [890, 0.0],\n",
       " [892, 0.0],\n",
       " [893, 0.0],\n",
       " [894, 0.0],\n",
       " [895, 0.0],\n",
       " [896, 0.0],\n",
       " [897, 0.0],\n",
       " [898, 0.0],\n",
       " [899, 0.0],\n",
       " [900, 0.0],\n",
       " [901, 0.0],\n",
       " [902, 0.0],\n",
       " [903, 0.0],\n",
       " [904, 0.0],\n",
       " [905, 0.0],\n",
       " [906, 0.0],\n",
       " [907, 0.0],\n",
       " [908, 0.0],\n",
       " [909, 0.0],\n",
       " [910, 0.0],\n",
       " [911, 0.0],\n",
       " [912, 0.0],\n",
       " [913, 0.0],\n",
       " [914, 0.0],\n",
       " [915, 0.0],\n",
       " [916, 0.0],\n",
       " [917, 0.0],\n",
       " [918, 0.0],\n",
       " [919, 0.0],\n",
       " [920, 0.0],\n",
       " [921, 0.0],\n",
       " [922, 0.0],\n",
       " [923, 0.0],\n",
       " [925, 0.0],\n",
       " [926, 0.0],\n",
       " [927, 0.0],\n",
       " [928, 0.0],\n",
       " [929, 0.0],\n",
       " [930, 0.0],\n",
       " [931, 0.0],\n",
       " [932, 0.0],\n",
       " [933, 0.0],\n",
       " [934, 0.0],\n",
       " [935, 0.0],\n",
       " [936, 0.0],\n",
       " [937, 0.0],\n",
       " [938, 0.0],\n",
       " [939, 0.0],\n",
       " [940, 0.0],\n",
       " [941, 0.0],\n",
       " [942, 0.0],\n",
       " [943, 0.0],\n",
       " [944, 0.0],\n",
       " [945, 0.0],\n",
       " [946, 0.0],\n",
       " [947, 0.0],\n",
       " [948, 0.0],\n",
       " [949, 0.0],\n",
       " [950, 0.0],\n",
       " [951, 0.0],\n",
       " [952, 0.0],\n",
       " [953, 0.0],\n",
       " [954, 0.0],\n",
       " [955, 0.0],\n",
       " [956, 0.0],\n",
       " [957, 0.0],\n",
       " [958, 0.0],\n",
       " [959, 0.0],\n",
       " [960, 0.0],\n",
       " [962, 0.0],\n",
       " [963, 0.0],\n",
       " [968, 0.0],\n",
       " [969, 0.0],\n",
       " [970, 0.0],\n",
       " [971, 0.0],\n",
       " [973, 0.0],\n",
       " [974, 0.0],\n",
       " [975, 0.0],\n",
       " [976, 0.0],\n",
       " [978, 0.0],\n",
       " [979, 0.0],\n",
       " [982, 0.0],\n",
       " [983, 0.0],\n",
       " [984, 0.0],\n",
       " [985, 0.0],\n",
       " [986, 0.0],\n",
       " [987, 0.0],\n",
       " [992, 0.0],\n",
       " [993, 0.0],\n",
       " [994, 0.0],\n",
       " [995, 0.0],\n",
       " [997, 0.0],\n",
       " [999, 0.0],\n",
       " [1001, 0.0],\n",
       " [1004, 0.0],\n",
       " [1005, 0.0],\n",
       " [1006, 0.0],\n",
       " [1007, 0.0],\n",
       " [1008, 0.0],\n",
       " [1011, 0.0],\n",
       " [1013, 0.0],\n",
       " [1014, 0.0],\n",
       " [1015, 0.0],\n",
       " [1016, 0.0],\n",
       " [1017, 0.0],\n",
       " [1018, 0.0],\n",
       " [1021, 0.0],\n",
       " [1022, 0.0],\n",
       " [1024, 0.0],\n",
       " [1025, 0.0],\n",
       " [1026, 0.0],\n",
       " [1027, 0.0],\n",
       " [1028, 0.0],\n",
       " [1029, 0.0],\n",
       " [1030, 0.0],\n",
       " [1031, 0.0],\n",
       " [1033, 0.0],\n",
       " [1034, 0.0],\n",
       " [1035, 0.0],\n",
       " [1036, 0.0],\n",
       " [1037, 0.0],\n",
       " [1038, 0.0],\n",
       " [1039, 0.0],\n",
       " [1040, 0.0],\n",
       " [1041, 0.0],\n",
       " [1042, 0.0],\n",
       " [1043, 0.0],\n",
       " [1050, 0.0],\n",
       " [1051, 0.0],\n",
       " [1052, 0.0],\n",
       " [1063, 0.0],\n",
       " [1067, 0.0],\n",
       " [1068, 0.0],\n",
       " [1069, 0.0],\n",
       " [1071, 0.0],\n",
       " [1072, 0.0],\n",
       " [1073, 0.0],\n",
       " [1074, 0.0],\n",
       " [1075, 0.0],\n",
       " [1076, 0.0],\n",
       " [1077, 0.0],\n",
       " [1080, 0.0],\n",
       " [1081, 0.0],\n",
       " [1082, 0.0],\n",
       " [1083, 0.0],\n",
       " [1084, 0.0],\n",
       " [1086, 0.0],\n",
       " [1088, 0.0],\n",
       " [1089, 0.0],\n",
       " [1090, 0.0],\n",
       " [1091, 0.0],\n",
       " [1092, 0.0],\n",
       " [1094, 0.0],\n",
       " [1095, 0.0],\n",
       " [1096, 0.0],\n",
       " [1099, 0.0],\n",
       " [1102, 0.0],\n",
       " [1105, 0.0],\n",
       " [1107, 0.0],\n",
       " [1108, 0.0],\n",
       " [1109, 0.0],\n",
       " [1110, 0.0],\n",
       " [1111, 0.0],\n",
       " [1112, 0.0],\n",
       " [1115, 0.0],\n",
       " [1116, 0.0],\n",
       " [1117, 0.0],\n",
       " [1118, 0.0],\n",
       " [1119, 0.0],\n",
       " [1120, 0.0],\n",
       " [1121, 0.0],\n",
       " [1122, 0.0],\n",
       " [1123, 0.0],\n",
       " [1129, 0.0],\n",
       " [1130, 0.0],\n",
       " [1131, 0.0],\n",
       " [1132, 0.0],\n",
       " [1133, 0.0],\n",
       " [1134, 0.0],\n",
       " [1135, 0.0],\n",
       " [1136, 0.0],\n",
       " [1137, 0.0],\n",
       " [1138, 0.0],\n",
       " [1139, 0.0],\n",
       " [1140, 0.0],\n",
       " [1142, 0.0],\n",
       " [1143, 0.0],\n",
       " [1144, 0.0],\n",
       " [1146, 0.0],\n",
       " [1147, 0.0],\n",
       " [1148, 0.0],\n",
       " [1149, 0.0],\n",
       " [1150, 0.0],\n",
       " [1151, 0.0],\n",
       " [1153, 0.0],\n",
       " [1154, 0.0],\n",
       " [1155, 0.0],\n",
       " [1156, 0.0],\n",
       " [1157, 0.0],\n",
       " [1158, 0.0],\n",
       " [1159, 0.0],\n",
       " [1161, 0.0],\n",
       " [1162, 0.0],\n",
       " [1163, 0.0],\n",
       " [1165, 0.0],\n",
       " [1168, 0.0],\n",
       " [1170, 0.0],\n",
       " [1171, 0.0],\n",
       " [1172, 0.0],\n",
       " [1173, 0.0],\n",
       " [1174, 0.0],\n",
       " [1175, 0.0],\n",
       " [1177, 0.0],\n",
       " [1179, 0.0],\n",
       " [1180, 0.0],\n",
       " [1181, 0.0],\n",
       " [1182, 0.0],\n",
       " [1183, 0.0],\n",
       " [1185, 0.0],\n",
       " [1187, 0.0],\n",
       " [1188, 0.0],\n",
       " [1190, 0.0],\n",
       " [1193, 0.0],\n",
       " [1196, 0.0],\n",
       " [1197, 0.0],\n",
       " [1198, 0.0],\n",
       " [1199, 0.0],\n",
       " [1201, 0.0],\n",
       " [1205, 0.0],\n",
       " [1206, 0.0],\n",
       " [1207, 0.0],\n",
       " [1211, 0.0],\n",
       " [1212, 0.0],\n",
       " [1213, 0.0],\n",
       " [1214, 0.0],\n",
       " [1218, 0.0],\n",
       " [1220, 0.0],\n",
       " [1221, 0.0],\n",
       " [1222, 0.0],\n",
       " [1225, 0.0],\n",
       " [1226, 0.0],\n",
       " [1228, 0.0],\n",
       " [1229, 0.0],\n",
       " [1230, 0.0],\n",
       " [1231, 0.0],\n",
       " [1232, 0.0],\n",
       " [1233, 0.0],\n",
       " [1234, 0.0],\n",
       " [1235, 0.0],\n",
       " [1237, 0.0],\n",
       " [1238, 0.0],\n",
       " [1239, 0.0],\n",
       " [1241, 0.0],\n",
       " [1242, 0.0],\n",
       " [1244, 0.0],\n",
       " [1245, 0.0],\n",
       " [1247, 0.0],\n",
       " [1248, 0.0],\n",
       " [1252, 0.0],\n",
       " [1254, 0.0],\n",
       " [1257, 0.0],\n",
       " [1259, 0.0],\n",
       " [1263, 0.0],\n",
       " [1265, 0.0],\n",
       " [1266, 0.0],\n",
       " [1268, 0.0],\n",
       " [1270, 0.0],\n",
       " [1271, 0.0],\n",
       " [1273, 0.0],\n",
       " [1276, 0.0],\n",
       " [1279, 0.0],\n",
       " [1280, 0.0],\n",
       " [1282, 0.0],\n",
       " [1283, 0.0],\n",
       " [1284, 0.0],\n",
       " [1285, 0.0],\n",
       " [1286, 0.0],\n",
       " [1288, 0.0],\n",
       " [1290, 0.0],\n",
       " [1291, 0.0],\n",
       " [1292, 0.0],\n",
       " [1293, 0.0],\n",
       " [1295, 0.0],\n",
       " [1296, 0.0],\n",
       " [1297, 0.0],\n",
       " [1298, 0.0],\n",
       " [1299, 0.0],\n",
       " [1302, 0.0],\n",
       " [1305, 0.0],\n",
       " [1306, 0.0],\n",
       " [1309, 0.0],\n",
       " [1312, 0.0],\n",
       " [1313, 0.0],\n",
       " [1314, 0.0],\n",
       " [1315, 0.0],\n",
       " [1316, 0.0],\n",
       " [1317, 0.0],\n",
       " [1319, 0.0],\n",
       " [1320, 0.0],\n",
       " ...]"
      ]
     },
     "execution_count": 455,
     "metadata": {},
     "output_type": "execute_result"
    }
   ],
   "source": [
    "pct_list = []\n",
    "    \n",
    "#JD_set = list(filter(None, JD_set))\n",
    "\n",
    "for i in range(0, len(JD_set)):\n",
    "    if len(JD_set[i]) == 0:\n",
    "        continue\n",
    "    else:\n",
    "        #match = set(cv_set) & JD_set[i] \n",
    "        #print(match)\n",
    "        qu = len(set(cv_set) & JD_set[i])\n",
    "        di = len(JD_set[i])\n",
    "        pct_match = round((qu/di) * 100, 2)\n",
    "        pct_list.append([i, pct_match])\n",
    "            \n",
    "#pct_list.sort(key=lambda x: x[1], reverse = True)\n",
    "new_pct = sorted(pct_list, key=lambda x: x[1], reverse = True)\n",
    "#pct_list = pct_list[0:10]\n",
    "new_pct = [x for x in new_pct if int(x[0]) > 0] or None\n",
    "new_pct"
   ]
  },
  {
   "cell_type": "code",
   "execution_count": 413,
   "id": "f23e95e6-15b8-4610-b5f8-388992ca95f4",
   "metadata": {},
   "outputs": [
    {
     "name": "stdout",
     "output_type": "stream",
     "text": [
      "100 Job as Applied Physicist (trigger development) (EP-CMG-OS-2021-120-LD) in Sector physicist has a 50.0% match\n",
      "387 Job as Process Chemist in Sector process chemist has a 50.0% match\n",
      "388 Job as Process Chemist in Sector process chemist has a 50.0% match\n",
      "802 Job as Mathematician/Natural Scientist (m/f/d) for Management Consulting in Sector mathematician has a 50.0% match\n",
      "803 Job as Theoretical physicist / Applied Mathematician (80-100%) in Sector mathematician has a 50.0% match\n",
      "805 Job as Theoretical physicist / Applied Mathematician (80-100%) in Sector mathematician has a 50.0% match\n",
      "806 Job as Game Mathematician (Quickspin) in Sector mathematician has a 50.0% match\n",
      "811 Job as Computer scientist, mathematician, physicist or engineer or similar in Sector mathematician has a 50.0% match\n",
      "815 Job as Computer scientist, mathematician, physicist, engineer or similar (f/m/x) in Sector mathematician has a 50.0% match\n"
     ]
    },
    {
     "data": {
      "application/vnd.plotly.v1+json": {
       "config": {
        "plotlyServerURL": "https://plot.ly"
       },
       "data": [
        {
         "alignmentgroup": "True",
         "hovertemplate": "job position=%{x}<br>Matching %=%{y}<br>color=%{marker.color}<extra></extra>",
         "legendgroup": "",
         "marker": {
          "color": [
           50,
           50,
           50,
           50,
           50,
           50,
           50,
           50,
           50
          ],
          "coloraxis": "coloraxis",
          "pattern": {
           "shape": ""
          }
         },
         "name": "",
         "offsetgroup": "",
         "orientation": "v",
         "showlegend": false,
         "textposition": "auto",
         "type": "bar",
         "x": [
          "Applied Physicist (trigger development) (EP-CMG-OS-2021-120-LD)",
          "Process Chemist",
          "Process Chemist388",
          "Mathematician/Natural Scientist (m/f/d) for Management Consulting",
          "Theoretical physicist / Applied Mathematician (80-100%)",
          "Theoretical physicist / Applied Mathematician (80-100%)805",
          "Game Mathematician (Quickspin)",
          "Computer scientist, mathematician, physicist or engineer or similar",
          "Computer scientist, mathematician, physicist, engineer or similar (f/m/x)"
         ],
         "xaxis": "x",
         "y": [
          50,
          50,
          50,
          50,
          50,
          50,
          50,
          50,
          50
         ],
         "yaxis": "y"
        }
       ],
       "layout": {
        "barmode": "relative",
        "coloraxis": {
         "colorbar": {
          "title": {
           "text": "color"
          }
         },
         "colorscale": [
          [
           0,
           "rgb(2,4,25)"
          ],
          [
           0.0625,
           "rgb(24,15,41)"
          ],
          [
           0.125,
           "rgb(47,23,57)"
          ],
          [
           0.1875,
           "rgb(71,28,72)"
          ],
          [
           0.25,
           "rgb(97,30,82)"
          ],
          [
           0.3125,
           "rgb(123,30,89)"
          ],
          [
           0.375,
           "rgb(150,27,91)"
          ],
          [
           0.4375,
           "rgb(177,22,88)"
          ],
          [
           0.5,
           "rgb(203,26,79)"
          ],
          [
           0.5625,
           "rgb(223,47,67)"
          ],
          [
           0.625,
           "rgb(236,76,61)"
          ],
          [
           0.6875,
           "rgb(242,107,73)"
          ],
          [
           0.75,
           "rgb(244,135,95)"
          ],
          [
           0.8125,
           "rgb(245,162,122)"
          ],
          [
           0.875,
           "rgb(246,188,153)"
          ],
          [
           0.9375,
           "rgb(247,212,187)"
          ],
          [
           1,
           "rgb(250,234,220)"
          ]
         ]
        },
        "height": 800,
        "legend": {
         "tracegroupgap": 0
        },
        "paper_bgcolor": "lightblue",
        "template": {
         "data": {
          "bar": [
           {
            "error_x": {
             "color": "rgb(36,36,36)"
            },
            "error_y": {
             "color": "rgb(36,36,36)"
            },
            "marker": {
             "line": {
              "color": "rgb(234,234,242)",
              "width": 0.5
             },
             "pattern": {
              "fillmode": "overlay",
              "size": 10,
              "solidity": 0.2
             }
            },
            "type": "bar"
           }
          ],
          "barpolar": [
           {
            "marker": {
             "line": {
              "color": "rgb(234,234,242)",
              "width": 0.5
             },
             "pattern": {
              "fillmode": "overlay",
              "size": 10,
              "solidity": 0.2
             }
            },
            "type": "barpolar"
           }
          ],
          "carpet": [
           {
            "aaxis": {
             "endlinecolor": "rgb(36,36,36)",
             "gridcolor": "white",
             "linecolor": "white",
             "minorgridcolor": "white",
             "startlinecolor": "rgb(36,36,36)"
            },
            "baxis": {
             "endlinecolor": "rgb(36,36,36)",
             "gridcolor": "white",
             "linecolor": "white",
             "minorgridcolor": "white",
             "startlinecolor": "rgb(36,36,36)"
            },
            "type": "carpet"
           }
          ],
          "choropleth": [
           {
            "colorbar": {
             "outlinewidth": 0,
             "tickcolor": "rgb(36,36,36)",
             "ticklen": 8,
             "ticks": "outside",
             "tickwidth": 2
            },
            "type": "choropleth"
           }
          ],
          "contour": [
           {
            "colorbar": {
             "outlinewidth": 0,
             "tickcolor": "rgb(36,36,36)",
             "ticklen": 8,
             "ticks": "outside",
             "tickwidth": 2
            },
            "colorscale": [
             [
              0,
              "rgb(2,4,25)"
             ],
             [
              0.06274509803921569,
              "rgb(24,15,41)"
             ],
             [
              0.12549019607843137,
              "rgb(47,23,57)"
             ],
             [
              0.18823529411764706,
              "rgb(71,28,72)"
             ],
             [
              0.25098039215686274,
              "rgb(97,30,82)"
             ],
             [
              0.3137254901960784,
              "rgb(123,30,89)"
             ],
             [
              0.3764705882352941,
              "rgb(150,27,91)"
             ],
             [
              0.4392156862745098,
              "rgb(177,22,88)"
             ],
             [
              0.5019607843137255,
              "rgb(203,26,79)"
             ],
             [
              0.5647058823529412,
              "rgb(223,47,67)"
             ],
             [
              0.6274509803921569,
              "rgb(236,76,61)"
             ],
             [
              0.6901960784313725,
              "rgb(242,107,73)"
             ],
             [
              0.7529411764705882,
              "rgb(244,135,95)"
             ],
             [
              0.8156862745098039,
              "rgb(245,162,122)"
             ],
             [
              0.8784313725490196,
              "rgb(246,188,153)"
             ],
             [
              0.9411764705882353,
              "rgb(247,212,187)"
             ],
             [
              1,
              "rgb(250,234,220)"
             ]
            ],
            "type": "contour"
           }
          ],
          "contourcarpet": [
           {
            "colorbar": {
             "outlinewidth": 0,
             "tickcolor": "rgb(36,36,36)",
             "ticklen": 8,
             "ticks": "outside",
             "tickwidth": 2
            },
            "type": "contourcarpet"
           }
          ],
          "heatmap": [
           {
            "colorbar": {
             "outlinewidth": 0,
             "tickcolor": "rgb(36,36,36)",
             "ticklen": 8,
             "ticks": "outside",
             "tickwidth": 2
            },
            "colorscale": [
             [
              0,
              "rgb(2,4,25)"
             ],
             [
              0.06274509803921569,
              "rgb(24,15,41)"
             ],
             [
              0.12549019607843137,
              "rgb(47,23,57)"
             ],
             [
              0.18823529411764706,
              "rgb(71,28,72)"
             ],
             [
              0.25098039215686274,
              "rgb(97,30,82)"
             ],
             [
              0.3137254901960784,
              "rgb(123,30,89)"
             ],
             [
              0.3764705882352941,
              "rgb(150,27,91)"
             ],
             [
              0.4392156862745098,
              "rgb(177,22,88)"
             ],
             [
              0.5019607843137255,
              "rgb(203,26,79)"
             ],
             [
              0.5647058823529412,
              "rgb(223,47,67)"
             ],
             [
              0.6274509803921569,
              "rgb(236,76,61)"
             ],
             [
              0.6901960784313725,
              "rgb(242,107,73)"
             ],
             [
              0.7529411764705882,
              "rgb(244,135,95)"
             ],
             [
              0.8156862745098039,
              "rgb(245,162,122)"
             ],
             [
              0.8784313725490196,
              "rgb(246,188,153)"
             ],
             [
              0.9411764705882353,
              "rgb(247,212,187)"
             ],
             [
              1,
              "rgb(250,234,220)"
             ]
            ],
            "type": "heatmap"
           }
          ],
          "heatmapgl": [
           {
            "colorbar": {
             "outlinewidth": 0,
             "tickcolor": "rgb(36,36,36)",
             "ticklen": 8,
             "ticks": "outside",
             "tickwidth": 2
            },
            "colorscale": [
             [
              0,
              "rgb(2,4,25)"
             ],
             [
              0.06274509803921569,
              "rgb(24,15,41)"
             ],
             [
              0.12549019607843137,
              "rgb(47,23,57)"
             ],
             [
              0.18823529411764706,
              "rgb(71,28,72)"
             ],
             [
              0.25098039215686274,
              "rgb(97,30,82)"
             ],
             [
              0.3137254901960784,
              "rgb(123,30,89)"
             ],
             [
              0.3764705882352941,
              "rgb(150,27,91)"
             ],
             [
              0.4392156862745098,
              "rgb(177,22,88)"
             ],
             [
              0.5019607843137255,
              "rgb(203,26,79)"
             ],
             [
              0.5647058823529412,
              "rgb(223,47,67)"
             ],
             [
              0.6274509803921569,
              "rgb(236,76,61)"
             ],
             [
              0.6901960784313725,
              "rgb(242,107,73)"
             ],
             [
              0.7529411764705882,
              "rgb(244,135,95)"
             ],
             [
              0.8156862745098039,
              "rgb(245,162,122)"
             ],
             [
              0.8784313725490196,
              "rgb(246,188,153)"
             ],
             [
              0.9411764705882353,
              "rgb(247,212,187)"
             ],
             [
              1,
              "rgb(250,234,220)"
             ]
            ],
            "type": "heatmapgl"
           }
          ],
          "histogram": [
           {
            "marker": {
             "pattern": {
              "fillmode": "overlay",
              "size": 10,
              "solidity": 0.2
             }
            },
            "type": "histogram"
           }
          ],
          "histogram2d": [
           {
            "colorbar": {
             "outlinewidth": 0,
             "tickcolor": "rgb(36,36,36)",
             "ticklen": 8,
             "ticks": "outside",
             "tickwidth": 2
            },
            "colorscale": [
             [
              0,
              "rgb(2,4,25)"
             ],
             [
              0.06274509803921569,
              "rgb(24,15,41)"
             ],
             [
              0.12549019607843137,
              "rgb(47,23,57)"
             ],
             [
              0.18823529411764706,
              "rgb(71,28,72)"
             ],
             [
              0.25098039215686274,
              "rgb(97,30,82)"
             ],
             [
              0.3137254901960784,
              "rgb(123,30,89)"
             ],
             [
              0.3764705882352941,
              "rgb(150,27,91)"
             ],
             [
              0.4392156862745098,
              "rgb(177,22,88)"
             ],
             [
              0.5019607843137255,
              "rgb(203,26,79)"
             ],
             [
              0.5647058823529412,
              "rgb(223,47,67)"
             ],
             [
              0.6274509803921569,
              "rgb(236,76,61)"
             ],
             [
              0.6901960784313725,
              "rgb(242,107,73)"
             ],
             [
              0.7529411764705882,
              "rgb(244,135,95)"
             ],
             [
              0.8156862745098039,
              "rgb(245,162,122)"
             ],
             [
              0.8784313725490196,
              "rgb(246,188,153)"
             ],
             [
              0.9411764705882353,
              "rgb(247,212,187)"
             ],
             [
              1,
              "rgb(250,234,220)"
             ]
            ],
            "type": "histogram2d"
           }
          ],
          "histogram2dcontour": [
           {
            "colorbar": {
             "outlinewidth": 0,
             "tickcolor": "rgb(36,36,36)",
             "ticklen": 8,
             "ticks": "outside",
             "tickwidth": 2
            },
            "colorscale": [
             [
              0,
              "rgb(2,4,25)"
             ],
             [
              0.06274509803921569,
              "rgb(24,15,41)"
             ],
             [
              0.12549019607843137,
              "rgb(47,23,57)"
             ],
             [
              0.18823529411764706,
              "rgb(71,28,72)"
             ],
             [
              0.25098039215686274,
              "rgb(97,30,82)"
             ],
             [
              0.3137254901960784,
              "rgb(123,30,89)"
             ],
             [
              0.3764705882352941,
              "rgb(150,27,91)"
             ],
             [
              0.4392156862745098,
              "rgb(177,22,88)"
             ],
             [
              0.5019607843137255,
              "rgb(203,26,79)"
             ],
             [
              0.5647058823529412,
              "rgb(223,47,67)"
             ],
             [
              0.6274509803921569,
              "rgb(236,76,61)"
             ],
             [
              0.6901960784313725,
              "rgb(242,107,73)"
             ],
             [
              0.7529411764705882,
              "rgb(244,135,95)"
             ],
             [
              0.8156862745098039,
              "rgb(245,162,122)"
             ],
             [
              0.8784313725490196,
              "rgb(246,188,153)"
             ],
             [
              0.9411764705882353,
              "rgb(247,212,187)"
             ],
             [
              1,
              "rgb(250,234,220)"
             ]
            ],
            "type": "histogram2dcontour"
           }
          ],
          "mesh3d": [
           {
            "colorbar": {
             "outlinewidth": 0,
             "tickcolor": "rgb(36,36,36)",
             "ticklen": 8,
             "ticks": "outside",
             "tickwidth": 2
            },
            "type": "mesh3d"
           }
          ],
          "parcoords": [
           {
            "line": {
             "colorbar": {
              "outlinewidth": 0,
              "tickcolor": "rgb(36,36,36)",
              "ticklen": 8,
              "ticks": "outside",
              "tickwidth": 2
             }
            },
            "type": "parcoords"
           }
          ],
          "pie": [
           {
            "automargin": true,
            "type": "pie"
           }
          ],
          "scatter": [
           {
            "marker": {
             "colorbar": {
              "outlinewidth": 0,
              "tickcolor": "rgb(36,36,36)",
              "ticklen": 8,
              "ticks": "outside",
              "tickwidth": 2
             }
            },
            "type": "scatter"
           }
          ],
          "scatter3d": [
           {
            "line": {
             "colorbar": {
              "outlinewidth": 0,
              "tickcolor": "rgb(36,36,36)",
              "ticklen": 8,
              "ticks": "outside",
              "tickwidth": 2
             }
            },
            "marker": {
             "colorbar": {
              "outlinewidth": 0,
              "tickcolor": "rgb(36,36,36)",
              "ticklen": 8,
              "ticks": "outside",
              "tickwidth": 2
             }
            },
            "type": "scatter3d"
           }
          ],
          "scattercarpet": [
           {
            "marker": {
             "colorbar": {
              "outlinewidth": 0,
              "tickcolor": "rgb(36,36,36)",
              "ticklen": 8,
              "ticks": "outside",
              "tickwidth": 2
             }
            },
            "type": "scattercarpet"
           }
          ],
          "scattergeo": [
           {
            "marker": {
             "colorbar": {
              "outlinewidth": 0,
              "tickcolor": "rgb(36,36,36)",
              "ticklen": 8,
              "ticks": "outside",
              "tickwidth": 2
             }
            },
            "type": "scattergeo"
           }
          ],
          "scattergl": [
           {
            "marker": {
             "colorbar": {
              "outlinewidth": 0,
              "tickcolor": "rgb(36,36,36)",
              "ticklen": 8,
              "ticks": "outside",
              "tickwidth": 2
             }
            },
            "type": "scattergl"
           }
          ],
          "scattermapbox": [
           {
            "marker": {
             "colorbar": {
              "outlinewidth": 0,
              "tickcolor": "rgb(36,36,36)",
              "ticklen": 8,
              "ticks": "outside",
              "tickwidth": 2
             }
            },
            "type": "scattermapbox"
           }
          ],
          "scatterpolar": [
           {
            "marker": {
             "colorbar": {
              "outlinewidth": 0,
              "tickcolor": "rgb(36,36,36)",
              "ticklen": 8,
              "ticks": "outside",
              "tickwidth": 2
             }
            },
            "type": "scatterpolar"
           }
          ],
          "scatterpolargl": [
           {
            "marker": {
             "colorbar": {
              "outlinewidth": 0,
              "tickcolor": "rgb(36,36,36)",
              "ticklen": 8,
              "ticks": "outside",
              "tickwidth": 2
             }
            },
            "type": "scatterpolargl"
           }
          ],
          "scatterternary": [
           {
            "marker": {
             "colorbar": {
              "outlinewidth": 0,
              "tickcolor": "rgb(36,36,36)",
              "ticklen": 8,
              "ticks": "outside",
              "tickwidth": 2
             }
            },
            "type": "scatterternary"
           }
          ],
          "surface": [
           {
            "colorbar": {
             "outlinewidth": 0,
             "tickcolor": "rgb(36,36,36)",
             "ticklen": 8,
             "ticks": "outside",
             "tickwidth": 2
            },
            "colorscale": [
             [
              0,
              "rgb(2,4,25)"
             ],
             [
              0.06274509803921569,
              "rgb(24,15,41)"
             ],
             [
              0.12549019607843137,
              "rgb(47,23,57)"
             ],
             [
              0.18823529411764706,
              "rgb(71,28,72)"
             ],
             [
              0.25098039215686274,
              "rgb(97,30,82)"
             ],
             [
              0.3137254901960784,
              "rgb(123,30,89)"
             ],
             [
              0.3764705882352941,
              "rgb(150,27,91)"
             ],
             [
              0.4392156862745098,
              "rgb(177,22,88)"
             ],
             [
              0.5019607843137255,
              "rgb(203,26,79)"
             ],
             [
              0.5647058823529412,
              "rgb(223,47,67)"
             ],
             [
              0.6274509803921569,
              "rgb(236,76,61)"
             ],
             [
              0.6901960784313725,
              "rgb(242,107,73)"
             ],
             [
              0.7529411764705882,
              "rgb(244,135,95)"
             ],
             [
              0.8156862745098039,
              "rgb(245,162,122)"
             ],
             [
              0.8784313725490196,
              "rgb(246,188,153)"
             ],
             [
              0.9411764705882353,
              "rgb(247,212,187)"
             ],
             [
              1,
              "rgb(250,234,220)"
             ]
            ],
            "type": "surface"
           }
          ],
          "table": [
           {
            "cells": {
             "fill": {
              "color": "rgb(231,231,240)"
             },
             "line": {
              "color": "white"
             }
            },
            "header": {
             "fill": {
              "color": "rgb(183,183,191)"
             },
             "line": {
              "color": "white"
             }
            },
            "type": "table"
           }
          ]
         },
         "layout": {
          "annotationdefaults": {
           "arrowcolor": "rgb(67,103,167)"
          },
          "autotypenumbers": "strict",
          "coloraxis": {
           "colorbar": {
            "outlinewidth": 0,
            "tickcolor": "rgb(36,36,36)",
            "ticklen": 8,
            "ticks": "outside",
            "tickwidth": 2
           }
          },
          "colorscale": {
           "sequential": [
            [
             0,
             "rgb(2,4,25)"
            ],
            [
             0.06274509803921569,
             "rgb(24,15,41)"
            ],
            [
             0.12549019607843137,
             "rgb(47,23,57)"
            ],
            [
             0.18823529411764706,
             "rgb(71,28,72)"
            ],
            [
             0.25098039215686274,
             "rgb(97,30,82)"
            ],
            [
             0.3137254901960784,
             "rgb(123,30,89)"
            ],
            [
             0.3764705882352941,
             "rgb(150,27,91)"
            ],
            [
             0.4392156862745098,
             "rgb(177,22,88)"
            ],
            [
             0.5019607843137255,
             "rgb(203,26,79)"
            ],
            [
             0.5647058823529412,
             "rgb(223,47,67)"
            ],
            [
             0.6274509803921569,
             "rgb(236,76,61)"
            ],
            [
             0.6901960784313725,
             "rgb(242,107,73)"
            ],
            [
             0.7529411764705882,
             "rgb(244,135,95)"
            ],
            [
             0.8156862745098039,
             "rgb(245,162,122)"
            ],
            [
             0.8784313725490196,
             "rgb(246,188,153)"
            ],
            [
             0.9411764705882353,
             "rgb(247,212,187)"
            ],
            [
             1,
             "rgb(250,234,220)"
            ]
           ],
           "sequentialminus": [
            [
             0,
             "rgb(2,4,25)"
            ],
            [
             0.06274509803921569,
             "rgb(24,15,41)"
            ],
            [
             0.12549019607843137,
             "rgb(47,23,57)"
            ],
            [
             0.18823529411764706,
             "rgb(71,28,72)"
            ],
            [
             0.25098039215686274,
             "rgb(97,30,82)"
            ],
            [
             0.3137254901960784,
             "rgb(123,30,89)"
            ],
            [
             0.3764705882352941,
             "rgb(150,27,91)"
            ],
            [
             0.4392156862745098,
             "rgb(177,22,88)"
            ],
            [
             0.5019607843137255,
             "rgb(203,26,79)"
            ],
            [
             0.5647058823529412,
             "rgb(223,47,67)"
            ],
            [
             0.6274509803921569,
             "rgb(236,76,61)"
            ],
            [
             0.6901960784313725,
             "rgb(242,107,73)"
            ],
            [
             0.7529411764705882,
             "rgb(244,135,95)"
            ],
            [
             0.8156862745098039,
             "rgb(245,162,122)"
            ],
            [
             0.8784313725490196,
             "rgb(246,188,153)"
            ],
            [
             0.9411764705882353,
             "rgb(247,212,187)"
            ],
            [
             1,
             "rgb(250,234,220)"
            ]
           ]
          },
          "colorway": [
           "rgb(76,114,176)",
           "rgb(221,132,82)",
           "rgb(85,168,104)",
           "rgb(196,78,82)",
           "rgb(129,114,179)",
           "rgb(147,120,96)",
           "rgb(218,139,195)",
           "rgb(140,140,140)",
           "rgb(204,185,116)",
           "rgb(100,181,205)"
          ],
          "font": {
           "color": "rgb(36,36,36)"
          },
          "geo": {
           "bgcolor": "white",
           "lakecolor": "white",
           "landcolor": "rgb(234,234,242)",
           "showlakes": true,
           "showland": true,
           "subunitcolor": "white"
          },
          "hoverlabel": {
           "align": "left"
          },
          "hovermode": "closest",
          "paper_bgcolor": "white",
          "plot_bgcolor": "rgb(234,234,242)",
          "polar": {
           "angularaxis": {
            "gridcolor": "white",
            "linecolor": "white",
            "showgrid": true,
            "ticks": ""
           },
           "bgcolor": "rgb(234,234,242)",
           "radialaxis": {
            "gridcolor": "white",
            "linecolor": "white",
            "showgrid": true,
            "ticks": ""
           }
          },
          "scene": {
           "xaxis": {
            "backgroundcolor": "rgb(234,234,242)",
            "gridcolor": "white",
            "gridwidth": 2,
            "linecolor": "white",
            "showbackground": true,
            "showgrid": true,
            "ticks": "",
            "zerolinecolor": "white"
           },
           "yaxis": {
            "backgroundcolor": "rgb(234,234,242)",
            "gridcolor": "white",
            "gridwidth": 2,
            "linecolor": "white",
            "showbackground": true,
            "showgrid": true,
            "ticks": "",
            "zerolinecolor": "white"
           },
           "zaxis": {
            "backgroundcolor": "rgb(234,234,242)",
            "gridcolor": "white",
            "gridwidth": 2,
            "linecolor": "white",
            "showbackground": true,
            "showgrid": true,
            "ticks": "",
            "zerolinecolor": "white"
           }
          },
          "shapedefaults": {
           "fillcolor": "rgb(67,103,167)",
           "line": {
            "width": 0
           },
           "opacity": 0.5
          },
          "ternary": {
           "aaxis": {
            "gridcolor": "white",
            "linecolor": "white",
            "showgrid": true,
            "ticks": ""
           },
           "baxis": {
            "gridcolor": "white",
            "linecolor": "white",
            "showgrid": true,
            "ticks": ""
           },
           "bgcolor": "rgb(234,234,242)",
           "caxis": {
            "gridcolor": "white",
            "linecolor": "white",
            "showgrid": true,
            "ticks": ""
           }
          },
          "xaxis": {
           "automargin": true,
           "gridcolor": "white",
           "linecolor": "white",
           "showgrid": true,
           "ticks": "",
           "title": {
            "standoff": 15
           },
           "zerolinecolor": "white"
          },
          "yaxis": {
           "automargin": true,
           "gridcolor": "white",
           "linecolor": "white",
           "showgrid": true,
           "ticks": "",
           "title": {
            "standoff": 15
           },
           "zerolinecolor": "white"
          }
         }
        },
        "title": {
         "text": "Job offers matching with resume"
        },
        "width": 1200,
        "xaxis": {
         "anchor": "y",
         "autorange": true,
         "domain": [
          0,
          1
         ],
         "range": [
          -0.5,
          8.5
         ],
         "title": {
          "text": "job position"
         },
         "type": "category"
        },
        "yaxis": {
         "anchor": "x",
         "autorange": true,
         "domain": [
          0,
          1
         ],
         "range": [
          0,
          52.631578947368425
         ],
         "title": {
          "text": "Matching %"
         },
         "type": "linear"
        }
       }
      },
      "image/png": "[encoded data removed]",
      "text/html": [
       "<div>                            <div id=\"641360ea-3c2d-40bc-b588-7602dd9b3472\" class=\"plotly-graph-div\" style=\"height:800px; width:1200px;\"></div>            <script type=\"text/javascript\">                require([\"plotly\"], function(Plotly) {                    window.PLOTLYENV=window.PLOTLYENV || {};                                    if (document.getElementById(\"641360ea-3c2d-40bc-b588-7602dd9b3472\")) {                    Plotly.newPlot(                        \"641360ea-3c2d-40bc-b588-7602dd9b3472\",                        [{\"alignmentgroup\":\"True\",\"hovertemplate\":\"job position=%{x}<br>Matching %=%{y}<br>color=%{marker.color}<extra></extra>\",\"legendgroup\":\"\",\"marker\":{\"color\":[50.0,50.0,50.0,50.0,50.0,50.0,50.0,50.0,50.0],\"coloraxis\":\"coloraxis\",\"pattern\":{\"shape\":\"\"}},\"name\":\"\",\"offsetgroup\":\"\",\"orientation\":\"v\",\"showlegend\":false,\"textposition\":\"auto\",\"type\":\"bar\",\"x\":[\"Applied Physicist (trigger development) (EP-CMG-OS-2021-120-LD)\",\"Process Chemist\",\"Process Chemist388\",\"Mathematician/Natural Scientist (m/f/d) for Management Consulting\",\"Theoretical physicist / Applied Mathematician (80-100%)\",\"Theoretical physicist / Applied Mathematician (80-100%)805\",\"Game Mathematician (Quickspin)\",\"Computer scientist, mathematician, physicist or engineer or similar\",\"Computer scientist, mathematician, physicist, engineer or similar (f/m/x)\"],\"xaxis\":\"x\",\"y\":[50.0,50.0,50.0,50.0,50.0,50.0,50.0,50.0,50.0],\"yaxis\":\"y\"}],                        {\"barmode\":\"relative\",\"coloraxis\":{\"colorbar\":{\"title\":{\"text\":\"color\"}},\"colorscale\":[[0.0,\"rgb(2,4,25)\"],[0.0625,\"rgb(24,15,41)\"],[0.125,\"rgb(47,23,57)\"],[0.1875,\"rgb(71,28,72)\"],[0.25,\"rgb(97,30,82)\"],[0.3125,\"rgb(123,30,89)\"],[0.375,\"rgb(150,27,91)\"],[0.4375,\"rgb(177,22,88)\"],[0.5,\"rgb(203,26,79)\"],[0.5625,\"rgb(223,47,67)\"],[0.625,\"rgb(236,76,61)\"],[0.6875,\"rgb(242,107,73)\"],[0.75,\"rgb(244,135,95)\"],[0.8125,\"rgb(245,162,122)\"],[0.875,\"rgb(246,188,153)\"],[0.9375,\"rgb(247,212,187)\"],[1.0,\"rgb(250,234,220)\"]]},\"height\":800,\"legend\":{\"tracegroupgap\":0},\"paper_bgcolor\":\"lightblue\",\"template\":{\"data\":{\"bar\":[{\"error_x\":{\"color\":\"rgb(36,36,36)\"},\"error_y\":{\"color\":\"rgb(36,36,36)\"},\"marker\":{\"line\":{\"color\":\"rgb(234,234,242)\",\"width\":0.5},\"pattern\":{\"fillmode\":\"overlay\",\"size\":10,\"solidity\":0.2}},\"type\":\"bar\"}],\"barpolar\":[{\"marker\":{\"line\":{\"color\":\"rgb(234,234,242)\",\"width\":0.5},\"pattern\":{\"fillmode\":\"overlay\",\"size\":10,\"solidity\":0.2}},\"type\":\"barpolar\"}],\"carpet\":[{\"aaxis\":{\"endlinecolor\":\"rgb(36,36,36)\",\"gridcolor\":\"white\",\"linecolor\":\"white\",\"minorgridcolor\":\"white\",\"startlinecolor\":\"rgb(36,36,36)\"},\"baxis\":{\"endlinecolor\":\"rgb(36,36,36)\",\"gridcolor\":\"white\",\"linecolor\":\"white\",\"minorgridcolor\":\"white\",\"startlinecolor\":\"rgb(36,36,36)\"},\"type\":\"carpet\"}],\"choropleth\":[{\"colorbar\":{\"outlinewidth\":0,\"tickcolor\":\"rgb(36,36,36)\",\"ticklen\":8,\"ticks\":\"outside\",\"tickwidth\":2},\"type\":\"choropleth\"}],\"contour\":[{\"colorbar\":{\"outlinewidth\":0,\"tickcolor\":\"rgb(36,36,36)\",\"ticklen\":8,\"ticks\":\"outside\",\"tickwidth\":2},\"colorscale\":[[0.0,\"rgb(2,4,25)\"],[0.06274509803921569,\"rgb(24,15,41)\"],[0.12549019607843137,\"rgb(47,23,57)\"],[0.18823529411764706,\"rgb(71,28,72)\"],[0.25098039215686274,\"rgb(97,30,82)\"],[0.3137254901960784,\"rgb(123,30,89)\"],[0.3764705882352941,\"rgb(150,27,91)\"],[0.4392156862745098,\"rgb(177,22,88)\"],[0.5019607843137255,\"rgb(203,26,79)\"],[0.5647058823529412,\"rgb(223,47,67)\"],[0.6274509803921569,\"rgb(236,76,61)\"],[0.6901960784313725,\"rgb(242,107,73)\"],[0.7529411764705882,\"rgb(244,135,95)\"],[0.8156862745098039,\"rgb(245,162,122)\"],[0.8784313725490196,\"rgb(246,188,153)\"],[0.9411764705882353,\"rgb(247,212,187)\"],[1.0,\"rgb(250,234,220)\"]],\"type\":\"contour\"}],\"contourcarpet\":[{\"colorbar\":{\"outlinewidth\":0,\"tickcolor\":\"rgb(36,36,36)\",\"ticklen\":8,\"ticks\":\"outside\",\"tickwidth\":2},\"type\":\"contourcarpet\"}],\"heatmap\":[{\"colorbar\":{\"outlinewidth\":0,\"tickcolor\":\"rgb(36,36,36)\",\"ticklen\":8,\"ticks\":\"outside\",\"tickwidth\":2},\"colorscale\":[[0.0,\"rgb(2,4,25)\"],[0.06274509803921569,\"rgb(24,15,41)\"],[0.12549019607843137,\"rgb(47,23,57)\"],[0.18823529411764706,\"rgb(71,28,72)\"],[0.25098039215686274,\"rgb(97,30,82)\"],[0.3137254901960784,\"rgb(123,30,89)\"],[0.3764705882352941,\"rgb(150,27,91)\"],[0.4392156862745098,\"rgb(177,22,88)\"],[0.5019607843137255,\"rgb(203,26,79)\"],[0.5647058823529412,\"rgb(223,47,67)\"],[0.6274509803921569,\"rgb(236,76,61)\"],[0.6901960784313725,\"rgb(242,107,73)\"],[0.7529411764705882,\"rgb(244,135,95)\"],[0.8156862745098039,\"rgb(245,162,122)\"],[0.8784313725490196,\"rgb(246,188,153)\"],[0.9411764705882353,\"rgb(247,212,187)\"],[1.0,\"rgb(250,234,220)\"]],\"type\":\"heatmap\"}],\"heatmapgl\":[{\"colorbar\":{\"outlinewidth\":0,\"tickcolor\":\"rgb(36,36,36)\",\"ticklen\":8,\"ticks\":\"outside\",\"tickwidth\":2},\"colorscale\":[[0.0,\"rgb(2,4,25)\"],[0.06274509803921569,\"rgb(24,15,41)\"],[0.12549019607843137,\"rgb(47,23,57)\"],[0.18823529411764706,\"rgb(71,28,72)\"],[0.25098039215686274,\"rgb(97,30,82)\"],[0.3137254901960784,\"rgb(123,30,89)\"],[0.3764705882352941,\"rgb(150,27,91)\"],[0.4392156862745098,\"rgb(177,22,88)\"],[0.5019607843137255,\"rgb(203,26,79)\"],[0.5647058823529412,\"rgb(223,47,67)\"],[0.6274509803921569,\"rgb(236,76,61)\"],[0.6901960784313725,\"rgb(242,107,73)\"],[0.7529411764705882,\"rgb(244,135,95)\"],[0.8156862745098039,\"rgb(245,162,122)\"],[0.8784313725490196,\"rgb(246,188,153)\"],[0.9411764705882353,\"rgb(247,212,187)\"],[1.0,\"rgb(250,234,220)\"]],\"type\":\"heatmapgl\"}],\"histogram\":[{\"marker\":{\"pattern\":{\"fillmode\":\"overlay\",\"size\":10,\"solidity\":0.2}},\"type\":\"histogram\"}],\"histogram2d\":[{\"colorbar\":{\"outlinewidth\":0,\"tickcolor\":\"rgb(36,36,36)\",\"ticklen\":8,\"ticks\":\"outside\",\"tickwidth\":2},\"colorscale\":[[0.0,\"rgb(2,4,25)\"],[0.06274509803921569,\"rgb(24,15,41)\"],[0.12549019607843137,\"rgb(47,23,57)\"],[0.18823529411764706,\"rgb(71,28,72)\"],[0.25098039215686274,\"rgb(97,30,82)\"],[0.3137254901960784,\"rgb(123,30,89)\"],[0.3764705882352941,\"rgb(150,27,91)\"],[0.4392156862745098,\"rgb(177,22,88)\"],[0.5019607843137255,\"rgb(203,26,79)\"],[0.5647058823529412,\"rgb(223,47,67)\"],[0.6274509803921569,\"rgb(236,76,61)\"],[0.6901960784313725,\"rgb(242,107,73)\"],[0.7529411764705882,\"rgb(244,135,95)\"],[0.8156862745098039,\"rgb(245,162,122)\"],[0.8784313725490196,\"rgb(246,188,153)\"],[0.9411764705882353,\"rgb(247,212,187)\"],[1.0,\"rgb(250,234,220)\"]],\"type\":\"histogram2d\"}],\"histogram2dcontour\":[{\"colorbar\":{\"outlinewidth\":0,\"tickcolor\":\"rgb(36,36,36)\",\"ticklen\":8,\"ticks\":\"outside\",\"tickwidth\":2},\"colorscale\":[[0.0,\"rgb(2,4,25)\"],[0.06274509803921569,\"rgb(24,15,41)\"],[0.12549019607843137,\"rgb(47,23,57)\"],[0.18823529411764706,\"rgb(71,28,72)\"],[0.25098039215686274,\"rgb(97,30,82)\"],[0.3137254901960784,\"rgb(123,30,89)\"],[0.3764705882352941,\"rgb(150,27,91)\"],[0.4392156862745098,\"rgb(177,22,88)\"],[0.5019607843137255,\"rgb(203,26,79)\"],[0.5647058823529412,\"rgb(223,47,67)\"],[0.6274509803921569,\"rgb(236,76,61)\"],[0.6901960784313725,\"rgb(242,107,73)\"],[0.7529411764705882,\"rgb(244,135,95)\"],[0.8156862745098039,\"rgb(245,162,122)\"],[0.8784313725490196,\"rgb(246,188,153)\"],[0.9411764705882353,\"rgb(247,212,187)\"],[1.0,\"rgb(250,234,220)\"]],\"type\":\"histogram2dcontour\"}],\"mesh3d\":[{\"colorbar\":{\"outlinewidth\":0,\"tickcolor\":\"rgb(36,36,36)\",\"ticklen\":8,\"ticks\":\"outside\",\"tickwidth\":2},\"type\":\"mesh3d\"}],\"parcoords\":[{\"line\":{\"colorbar\":{\"outlinewidth\":0,\"tickcolor\":\"rgb(36,36,36)\",\"ticklen\":8,\"ticks\":\"outside\",\"tickwidth\":2}},\"type\":\"parcoords\"}],\"pie\":[{\"automargin\":true,\"type\":\"pie\"}],\"scatter\":[{\"marker\":{\"colorbar\":{\"outlinewidth\":0,\"tickcolor\":\"rgb(36,36,36)\",\"ticklen\":8,\"ticks\":\"outside\",\"tickwidth\":2}},\"type\":\"scatter\"}],\"scatter3d\":[{\"line\":{\"colorbar\":{\"outlinewidth\":0,\"tickcolor\":\"rgb(36,36,36)\",\"ticklen\":8,\"ticks\":\"outside\",\"tickwidth\":2}},\"marker\":{\"colorbar\":{\"outlinewidth\":0,\"tickcolor\":\"rgb(36,36,36)\",\"ticklen\":8,\"ticks\":\"outside\",\"tickwidth\":2}},\"type\":\"scatter3d\"}],\"scattercarpet\":[{\"marker\":{\"colorbar\":{\"outlinewidth\":0,\"tickcolor\":\"rgb(36,36,36)\",\"ticklen\":8,\"ticks\":\"outside\",\"tickwidth\":2}},\"type\":\"scattercarpet\"}],\"scattergeo\":[{\"marker\":{\"colorbar\":{\"outlinewidth\":0,\"tickcolor\":\"rgb(36,36,36)\",\"ticklen\":8,\"ticks\":\"outside\",\"tickwidth\":2}},\"type\":\"scattergeo\"}],\"scattergl\":[{\"marker\":{\"colorbar\":{\"outlinewidth\":0,\"tickcolor\":\"rgb(36,36,36)\",\"ticklen\":8,\"ticks\":\"outside\",\"tickwidth\":2}},\"type\":\"scattergl\"}],\"scattermapbox\":[{\"marker\":{\"colorbar\":{\"outlinewidth\":0,\"tickcolor\":\"rgb(36,36,36)\",\"ticklen\":8,\"ticks\":\"outside\",\"tickwidth\":2}},\"type\":\"scattermapbox\"}],\"scatterpolar\":[{\"marker\":{\"colorbar\":{\"outlinewidth\":0,\"tickcolor\":\"rgb(36,36,36)\",\"ticklen\":8,\"ticks\":\"outside\",\"tickwidth\":2}},\"type\":\"scatterpolar\"}],\"scatterpolargl\":[{\"marker\":{\"colorbar\":{\"outlinewidth\":0,\"tickcolor\":\"rgb(36,36,36)\",\"ticklen\":8,\"ticks\":\"outside\",\"tickwidth\":2}},\"type\":\"scatterpolargl\"}],\"scatterternary\":[{\"marker\":{\"colorbar\":{\"outlinewidth\":0,\"tickcolor\":\"rgb(36,36,36)\",\"ticklen\":8,\"ticks\":\"outside\",\"tickwidth\":2}},\"type\":\"scatterternary\"}],\"surface\":[{\"colorbar\":{\"outlinewidth\":0,\"tickcolor\":\"rgb(36,36,36)\",\"ticklen\":8,\"ticks\":\"outside\",\"tickwidth\":2},\"colorscale\":[[0.0,\"rgb(2,4,25)\"],[0.06274509803921569,\"rgb(24,15,41)\"],[0.12549019607843137,\"rgb(47,23,57)\"],[0.18823529411764706,\"rgb(71,28,72)\"],[0.25098039215686274,\"rgb(97,30,82)\"],[0.3137254901960784,\"rgb(123,30,89)\"],[0.3764705882352941,\"rgb(150,27,91)\"],[0.4392156862745098,\"rgb(177,22,88)\"],[0.5019607843137255,\"rgb(203,26,79)\"],[0.5647058823529412,\"rgb(223,47,67)\"],[0.6274509803921569,\"rgb(236,76,61)\"],[0.6901960784313725,\"rgb(242,107,73)\"],[0.7529411764705882,\"rgb(244,135,95)\"],[0.8156862745098039,\"rgb(245,162,122)\"],[0.8784313725490196,\"rgb(246,188,153)\"],[0.9411764705882353,\"rgb(247,212,187)\"],[1.0,\"rgb(250,234,220)\"]],\"type\":\"surface\"}],\"table\":[{\"cells\":{\"fill\":{\"color\":\"rgb(231,231,240)\"},\"line\":{\"color\":\"white\"}},\"header\":{\"fill\":{\"color\":\"rgb(183,183,191)\"},\"line\":{\"color\":\"white\"}},\"type\":\"table\"}]},\"layout\":{\"annotationdefaults\":{\"arrowcolor\":\"rgb(67,103,167)\"},\"autotypenumbers\":\"strict\",\"coloraxis\":{\"colorbar\":{\"outlinewidth\":0,\"tickcolor\":\"rgb(36,36,36)\",\"ticklen\":8,\"ticks\":\"outside\",\"tickwidth\":2}},\"colorscale\":{\"sequential\":[[0.0,\"rgb(2,4,25)\"],[0.06274509803921569,\"rgb(24,15,41)\"],[0.12549019607843137,\"rgb(47,23,57)\"],[0.18823529411764706,\"rgb(71,28,72)\"],[0.25098039215686274,\"rgb(97,30,82)\"],[0.3137254901960784,\"rgb(123,30,89)\"],[0.3764705882352941,\"rgb(150,27,91)\"],[0.4392156862745098,\"rgb(177,22,88)\"],[0.5019607843137255,\"rgb(203,26,79)\"],[0.5647058823529412,\"rgb(223,47,67)\"],[0.6274509803921569,\"rgb(236,76,61)\"],[0.6901960784313725,\"rgb(242,107,73)\"],[0.7529411764705882,\"rgb(244,135,95)\"],[0.8156862745098039,\"rgb(245,162,122)\"],[0.8784313725490196,\"rgb(246,188,153)\"],[0.9411764705882353,\"rgb(247,212,187)\"],[1.0,\"rgb(250,234,220)\"]],\"sequentialminus\":[[0.0,\"rgb(2,4,25)\"],[0.06274509803921569,\"rgb(24,15,41)\"],[0.12549019607843137,\"rgb(47,23,57)\"],[0.18823529411764706,\"rgb(71,28,72)\"],[0.25098039215686274,\"rgb(97,30,82)\"],[0.3137254901960784,\"rgb(123,30,89)\"],[0.3764705882352941,\"rgb(150,27,91)\"],[0.4392156862745098,\"rgb(177,22,88)\"],[0.5019607843137255,\"rgb(203,26,79)\"],[0.5647058823529412,\"rgb(223,47,67)\"],[0.6274509803921569,\"rgb(236,76,61)\"],[0.6901960784313725,\"rgb(242,107,73)\"],[0.7529411764705882,\"rgb(244,135,95)\"],[0.8156862745098039,\"rgb(245,162,122)\"],[0.8784313725490196,\"rgb(246,188,153)\"],[0.9411764705882353,\"rgb(247,212,187)\"],[1.0,\"rgb(250,234,220)\"]]},\"colorway\":[\"rgb(76,114,176)\",\"rgb(221,132,82)\",\"rgb(85,168,104)\",\"rgb(196,78,82)\",\"rgb(129,114,179)\",\"rgb(147,120,96)\",\"rgb(218,139,195)\",\"rgb(140,140,140)\",\"rgb(204,185,116)\",\"rgb(100,181,205)\"],\"font\":{\"color\":\"rgb(36,36,36)\"},\"geo\":{\"bgcolor\":\"white\",\"lakecolor\":\"white\",\"landcolor\":\"rgb(234,234,242)\",\"showlakes\":true,\"showland\":true,\"subunitcolor\":\"white\"},\"hoverlabel\":{\"align\":\"left\"},\"hovermode\":\"closest\",\"paper_bgcolor\":\"white\",\"plot_bgcolor\":\"rgb(234,234,242)\",\"polar\":{\"angularaxis\":{\"gridcolor\":\"white\",\"linecolor\":\"white\",\"showgrid\":true,\"ticks\":\"\"},\"bgcolor\":\"rgb(234,234,242)\",\"radialaxis\":{\"gridcolor\":\"white\",\"linecolor\":\"white\",\"showgrid\":true,\"ticks\":\"\"}},\"scene\":{\"xaxis\":{\"backgroundcolor\":\"rgb(234,234,242)\",\"gridcolor\":\"white\",\"gridwidth\":2,\"linecolor\":\"white\",\"showbackground\":true,\"showgrid\":true,\"ticks\":\"\",\"zerolinecolor\":\"white\"},\"yaxis\":{\"backgroundcolor\":\"rgb(234,234,242)\",\"gridcolor\":\"white\",\"gridwidth\":2,\"linecolor\":\"white\",\"showbackground\":true,\"showgrid\":true,\"ticks\":\"\",\"zerolinecolor\":\"white\"},\"zaxis\":{\"backgroundcolor\":\"rgb(234,234,242)\",\"gridcolor\":\"white\",\"gridwidth\":2,\"linecolor\":\"white\",\"showbackground\":true,\"showgrid\":true,\"ticks\":\"\",\"zerolinecolor\":\"white\"}},\"shapedefaults\":{\"fillcolor\":\"rgb(67,103,167)\",\"line\":{\"width\":0},\"opacity\":0.5},\"ternary\":{\"aaxis\":{\"gridcolor\":\"white\",\"linecolor\":\"white\",\"showgrid\":true,\"ticks\":\"\"},\"baxis\":{\"gridcolor\":\"white\",\"linecolor\":\"white\",\"showgrid\":true,\"ticks\":\"\"},\"bgcolor\":\"rgb(234,234,242)\",\"caxis\":{\"gridcolor\":\"white\",\"linecolor\":\"white\",\"showgrid\":true,\"ticks\":\"\"}},\"xaxis\":{\"automargin\":true,\"gridcolor\":\"white\",\"linecolor\":\"white\",\"showgrid\":true,\"ticks\":\"\",\"title\":{\"standoff\":15},\"zerolinecolor\":\"white\"},\"yaxis\":{\"automargin\":true,\"gridcolor\":\"white\",\"linecolor\":\"white\",\"showgrid\":true,\"ticks\":\"\",\"title\":{\"standoff\":15},\"zerolinecolor\":\"white\"}}},\"title\":{\"text\":\"Job offers matching with resume\"},\"width\":1200,\"xaxis\":{\"anchor\":\"y\",\"domain\":[0.0,1.0],\"title\":{\"text\":\"job position\"}},\"yaxis\":{\"anchor\":\"x\",\"domain\":[0.0,1.0],\"title\":{\"text\":\"Matching %\"}}},                        {\"responsive\": true}                    ).then(function(){\n",
       "                            \n",
       "var gd = document.getElementById('641360ea-3c2d-40bc-b588-7602dd9b3472');\n",
       "var x = new MutationObserver(function (mutations, observer) {{\n",
       "        var display = window.getComputedStyle(gd).display;\n",
       "        if (!display || display === 'none') {{\n",
       "            console.log([gd, 'removed!']);\n",
       "            Plotly.purge(gd);\n",
       "            observer.disconnect();\n",
       "        }}\n",
       "}});\n",
       "\n",
       "// Listen for the removal of the full notebook cells\n",
       "var notebookContainer = gd.closest('#notebook-container');\n",
       "if (notebookContainer) {{\n",
       "    x.observe(notebookContainer, {childList: true});\n",
       "}}\n",
       "\n",
       "// Listen for the clearing of the current output cell\n",
       "var outputEl = gd.closest('.output');\n",
       "if (outputEl) {{\n",
       "    x.observe(outputEl, {childList: true});\n",
       "}}\n",
       "\n",
       "                        })                };                });            </script>        </div>"
      ]
     },
     "metadata": {},
     "output_type": "display_data"
    }
   ],
   "source": [
    "pct_list = match_skills(JD_set, skill_list, data)\n",
    "pct_list"
   ]
  },
  {
   "cell_type": "code",
   "execution_count": 401,
   "id": "904c2082-9433-4191-8e84-8350d7dd54fd",
   "metadata": {},
   "outputs": [
    {
     "data": {
      "text/plain": [
       "0"
      ]
     },
     "execution_count": 401,
     "metadata": {},
     "output_type": "execute_result"
    }
   ],
   "source": [
    "data.index[0]"
   ]
  },
  {
   "cell_type": "code",
   "execution_count": 404,
   "id": "dfa8d15e-3083-4a91-9bdc-df9a2911664a",
   "metadata": {},
   "outputs": [],
   "source": [
    "def match_skills(JD_set, cv_set, data):\n",
    "    '''Get intersection of resume skills and job offer skills and return match percentage'''\n",
    "    pct_list = []\n",
    "    JD_set = data[\"SKILL\"].apply(set)\n",
    "    \n",
    "    #JD_set = list(filter(None, JD_set))\n",
    "    if len(cv_set) < 2:\n",
    "        print('could not extract skills from resume text')   \n",
    "    else:\n",
    "        #implement function comparing with a list of job_descriptions\n",
    "        for i in range(0, len(JD_set)):\n",
    "            if len(JD_set) == 0:\n",
    "                continue\n",
    "            match = set(cv_set) & JD_set[i] \n",
    "            qu = len(match)\n",
    "            di = len(JD_set[i])\n",
    "            pct_match = round((qu/di) * 100, 2)\n",
    "            pct_list.append([i, pct_match])\n",
    "            \n",
    "        pct_list.sort(key=lambda x: x[1], reverse = True)\n",
    "        #new_pct = sorted(pct_list, key=lambda x: x[1], reverse = True)[0:9]\n",
    "        pct_list = pct_list[0:9]\n",
    "        \n",
    "    '''Counting matching score'''\n",
    "    job_number, matching_score, job_cat = [], [], []\n",
    "    frame = pd.DataFrame\n",
    "\n",
    "    for i in pct_list:\n",
    "        cat = data[\"position\"][i[0]]\n",
    "        sec = data[\"job\"][i[0]]\n",
    "        print('{} Job as {} in Sector {} has a {}% match'.format(data.index[i[0]], cat, sec, i[1]))\n",
    "        #job_number.append(i[0])\n",
    "        matching_score.append(i[1])\n",
    "\n",
    "        if cat in job_cat:\n",
    "            job_cat.append(str(cat) + str(i[0]))\n",
    "        else:\n",
    "            job_cat.append(cat)\n",
    "\n",
    "    frame = pd.DataFrame(job_number, columns=['job_number'])\n",
    "    frame[\"matching_score\"] = matching_score\n",
    "    frame[\"Category\"] = job_cat\n",
    "\n",
    "    \n",
    "    #Visualizing with plotly\n",
    "    #for template in [\"ggplot2\", \"seaborn\"]:\n",
    "\n",
    "    fig = px.bar(\n",
    "        x=frame['Category'], \n",
    "        y=frame[\"matching_score\"],\n",
    "        labels={\"x\": \"job position\", \"y\": \"Matching %\"},\n",
    "        title=f\"Job offers matching with resume\",\n",
    "        width=1200, height=800,\n",
    "        template=\"seaborn\",\n",
    "        color = frame[\"matching_score\"])\n",
    "    fig.update_layout(\n",
    "            #margin=dict(l=20, r=20, t=20, b=20),\n",
    "        paper_bgcolor=\"lightblue\",\n",
    "    )\n",
    "    \n",
    "    return fig.show()"
   ]
  },
  {
   "cell_type": "code",
   "execution_count": null,
   "id": "9d018b65-d625-4b9d-8aee-eca40471054d",
   "metadata": {},
   "outputs": [],
   "source": [
    "#create skill_set from entity_ruler\n",
    "def create_skill_list(text, model = False):\n",
    "    \n",
    "    if model == True:\n",
    "        \n",
    "        skill_pattern_path = PATH_COMPLETE_DICT\n",
    "        nlp_ms = spacy.blank(\"en\")\n",
    "        ruler = nlp_ms.add_pipe(\"entity_ruler\")\n",
    "        ruler.from_disk(skill_pattern_path)\n",
    "        doc = nlp_ms(text)\n",
    "    else:\n",
    "        doc = text\n",
    "    \n",
    "    t = list([ent.text.lower()] for ent in doc.ents )\n",
    "    flat_list = [item for sublist in t for item in sublist]\n",
    "    return set(flat_list)"
   ]
  },
  {
   "cell_type": "code",
   "execution_count": null,
   "id": "d75c106f-14b9-486c-8fce-f19861a15b8a",
   "metadata": {},
   "outputs": [],
   "source": [
    "def extract_resume_skills(text):\n",
    "    \n",
    "    #model set to False if nlp models (base, trained) were already applied. Set to true if not\n",
    "    set_list_2 = []\n",
    "    ext = []\n",
    "    \n",
    "    list_1 = create_skill_list(text, model = True)  #get extracted skills with base_model\n",
    "    list_2 = load_results_manual(text)     #get extracted skills with trained_model  \n",
    "        \n",
    "    for i in range(0, len(list_2)):\n",
    "        set_list_2.append(str(list_2[i][\"entity\"]).lower().strip())\n",
    "    set_list_2 = set(set_list_2)\n",
    "    ext.append(set.union(list_1, set_list_2))\n",
    "    \n",
    "    flat_list = [item for sublist in ext for item in sublist]\n",
    "    set(flat_list)\n",
    "        \n",
    "    return flat_list"
   ]
  },
  {
   "cell_type": "markdown",
   "id": "1bcb8501-f1e2-4048-99a7-2e0582ae8d43",
   "metadata": {},
   "source": [
    "# Unused code"
   ]
  },
  {
   "cell_type": "code",
   "execution_count": null,
   "id": "9b4a41e6-fee1-45ab-82b4-8c8e220e3c2c",
   "metadata": {},
   "outputs": [],
   "source": [
    "df = df.reindex(np.random.permutation(df.index))\n",
    "df = df.copy().iloc[\n",
    "    0:400,\n",
    "]\n",
    "df.head()"
   ]
  },
  {
   "cell_type": "code",
   "execution_count": null,
   "id": "27da2bbb-1158-410f-8ac0-38601a051532",
   "metadata": {},
   "outputs": [],
   "source": [
    "job_number, matching_score, job_cat = [], [], []\n",
    "\n",
    "for i in pct_list:\n",
    "    cat = df[\"Category\"][i[0]]\n",
    "    print('Job #{} in Sector {} has a {}% match'.format(i[0], df[\"Category\"][i[0]], i[1]))\n",
    "    job_number.append(i[0])\n",
    "    matching_score.append(i[1])\n",
    "    \n",
    "    if cat in job_cat:\n",
    "        job_cat.append(str(cat) + str(i[0]))\n",
    "    \n",
    "frame = pd.DataFrame(job_number, columns=['job_number'])\n",
    "frame[\"matching_score\"] = matching_score\n",
    "frame[\"Category\"] = df[\"Category\"][i[0]]"
   ]
  },
  {
   "cell_type": "code",
   "execution_count": null,
   "id": "26498634-4bec-4e34-9cc4-1fa476a041d2",
   "metadata": {},
   "outputs": [],
   "source": [
    "    ## compare list with data_set, visualize highest matching jobs\n",
    "def \n",
    "    job_number, matching_score, job_cat = [], [], []\n",
    "    frame = pd.DataFrame\n",
    "\n",
    "    for i in pct_list:\n",
    "        cat = data_cleaned_small[\"position\"][i[0]]\n",
    "        print('Job #{} in Sector {} has a {}% match'.format(i[0], cat, i[1]))\n",
    "        job_number.append(i[0])\n",
    "        matching_score.append(i[1])\n",
    "\n",
    "        if cat in job_cat:\n",
    "            job_cat.append(str(cat) + str(i[0]))\n",
    "        else:\n",
    "            job_cat.append(cat)\n",
    "\n",
    "    frame = pd.DataFrame(job_number, columns=['job_number'])\n",
    "    frame[\"matching_score\"] = matching_score\n",
    "    frame[\"Category\"] = job_cat\n",
    "\n",
    "\n",
    "    #for template in [\"ggplot2\", \"seaborn\"]:\n",
    "    import plotly.graph_objects as go\n",
    "\n",
    "    fig = px.bar(\n",
    "        x=frame['Category'], \n",
    "        y=frame[\"matching_score\"],\n",
    "        labels={\"x\": \"job position\", \"y\": \"Matching %\"},\n",
    "        title=f\"Job offers matching with resume\",\n",
    "        width=1200, height=800,\n",
    "        template=\"seaborn\",\n",
    "        color = frame[\"matching_score\"])\n",
    "    fig.update_layout(\n",
    "            #margin=dict(l=20, r=20, t=20, b=20),\n",
    "        paper_bgcolor=\"lightblue\",\n",
    "    )\n",
    "    fig.show()"
   ]
  },
  {
   "cell_type": "code",
   "execution_count": null,
   "id": "491d6da5-f64e-40d2-b0b4-07a52d1224ab",
   "metadata": {},
   "outputs": [],
   "source": [
    "#functions for getting entities text, label, start and end of character position\n",
    "\"\"\"def create_skill_set(text, model = False):\n",
    "    '''Apply basic spacy model and Create a set of the extracted skill entities'''\n",
    "    \n",
    "    if model == True:\n",
    "        nlp_ms = spacy.blank(\"en\")\n",
    "        skill_pattern_path = PATH + \"/data/dictionaries/complete_dict.jsonl\"\n",
    "        ruler = nlp_ms.add_pipe(\"entity_ruler\")\n",
    "        ruler.from_disk(skill_pattern_path)\n",
    "        doc = nlp(text)\n",
    "    else:\n",
    "        doc = text\n",
    "        \n",
    "    return set([ent.label_.upper()[6:] for ent in doc.ents if 'skill' or 'knowledge' in ent.label_.lower()])\n",
    "\"\"\""
   ]
  },
  {
   "cell_type": "code",
   "execution_count": null,
   "id": "9c1df32c-ed42-4ce4-9743-08fc3a0302f2",
   "metadata": {},
   "outputs": [],
   "source": [
    "fig = px.histogram(\n",
    "    df, x=\"Category\", title=\"Distribution of Jobs Categories\"\n",
    ").update_xaxes(categoryorder=\"total descending\")\n",
    "fig.show()"
   ]
  },
  {
   "cell_type": "code",
   "execution_count": null,
   "id": "a06cbff5-dfce-441a-93e2-0004aa596d79",
   "metadata": {},
   "outputs": [],
   "source": [
    "%%time\n",
    "#applying trained models on resume dataset\n",
    "df_Resume['entities_auto_label'] = df_Resume.Clean_Resume.apply(load_results_auto)\n",
    "df_Resume['entities_manual_label'] = df_Resume.Clean_Resume.apply(load_results_manual)\n",
    "df_Resume[\"marked_text\"] = df_Resume[\"Clean_Resume\"].str.lower().apply(nlp_ms)\n",
    "df_Resume[\"entity_ruler\"] = df_Resume[\"marked_text\"].apply(create_skill_list)\n",
    "df_Resume.reset_index(inplace = True)\n",
    "df_Resume"
   ]
  }
 ],
 "metadata": {
  "kernelspec": {
   "display_name": "Python 3 (ipykernel)",
   "language": "python",
   "name": "python3"
  },
  "language_info": {
   "codemirror_mode": {
    "name": "ipython",
    "version": 3
   },
   "file_extension": ".py",
   "mimetype": "text/x-python",
   "name": "python",
   "nbconvert_exporter": "python",
   "pygments_lexer": "ipython3",
   "version": "3.8.12"
  }
 },
 "nbformat": 4,
 "nbformat_minor": 5
}
