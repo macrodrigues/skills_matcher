{
 "cells": [
  {
   "cell_type": "code",
   "execution_count": null,
   "id": "ef71c252-e426-42ad-b5d6-ca2e067c484f",
   "metadata": {},
   "outputs": [],
   "source": [
    "#spacy\n",
    "import spacy\n",
    "import en_core_web_lg\n",
    "from spacy.pipeline import EntityRuler\n",
    "from spacy.lang.en import English\n",
    "from spacy.tokens import Doc, Span\n",
    "from spacy.matcher import Matcher, PhraseMatcher \n",
    "#from scripts.spacy_model import load_results_auto, load_results_manual\n",
    "\n",
    "#Visualization\n",
    "from spacy import displacy\n",
    "#import pyLDAvis.gensim_models\n",
    "from wordcloud import WordCloud\n",
    "import plotly.express as px\n",
    "import matplotlib.pyplot as plt\n",
    "import seaborn as sns\n",
    "\n",
    "#Data loading/ Data manipulation\n",
    "import pandas as pd\n",
    "import numpy as np\n",
    "import jsonlines\n",
    "import json\n",
    "import os\n",
    "import csv\n",
    "import re\n",
    "import sys\n",
    "\n",
    "#nltk\n",
    "import re\n",
    "import nltk\n",
    "from nltk.corpus import stopwords\n",
    "from nltk.stem import WordNetLemmatizer\n",
    "nltk.download(['stopwords','wordnet'])\n",
    "\n",
    "import time\n",
    "#warning\n",
    "import warnings \n",
    "warnings.filterwarnings('ignore')"
   ]
  },
  {
   "cell_type": "code",
   "execution_count": null,
   "id": "4b361940-4875-4817-8d1e-b082ac458f99",
   "metadata": {},
   "outputs": [],
   "source": [
    "PATH = os.path.dirname((os.getcwd()))\n",
    "PATH"
   ]
  },
  {
   "cell_type": "code",
   "execution_count": null,
   "id": "7ec749e9-6cc6-463b-bc31-95353e961447",
   "metadata": {},
   "outputs": [],
   "source": [
    "#resume data from kaggle - for tryout\n",
    "df = pd.read_csv(\"/home/lewagonlew/code/marcorodrigues/skills_matcher/skills_matcher/data/Resume/Resume.csv\")\n"
   ]
  },
  {
   "cell_type": "code",
   "execution_count": null,
   "id": "304d529e-2400-496d-9ba5-7a7271cbfb50",
   "metadata": {},
   "outputs": [],
   "source": [
    "df.shape"
   ]
  },
  {
   "cell_type": "code",
   "execution_count": null,
   "id": "c8a222e5-a733-4c61-b3b2-a6ef063175a1",
   "metadata": {},
   "outputs": [],
   "source": [
    "df = df.reindex(np.random.permutation(df.index))\n",
    "df = df.copy().iloc[\n",
    "    0:400,\n",
    "]\n",
    "df.head()"
   ]
  },
  {
   "cell_type": "code",
   "execution_count": null,
   "id": "b97cf6aa-ab16-43f3-8ebf-17ea1d5de449",
   "metadata": {},
   "outputs": [],
   "source": [
    "#different cleaning function\n",
    "def clean_resume(df):\n",
    "    clean = []\n",
    "    for i in range(df.shape[0]):\n",
    "        review = re.sub(\n",
    "            '(@[A-Za-z0-9]+)|([^0-9A-Za-z \\t])|(\\w+:\\/\\/\\S+)|^rt|http.+?\"',\n",
    "            \" \",\n",
    "            df[\"Resume_str\"].iloc[i],\n",
    "        )\n",
    "        review = review.lower()\n",
    "        review = review.split()\n",
    "        lm = WordNetLemmatizer()\n",
    "        review = [\n",
    "            lm.lemmatize(word)\n",
    "            for word in review\n",
    "            if not word in set(stopwords.words(\"english\"))\n",
    "        ]\n",
    "        review = \" \".join(review)\n",
    "        clean.append(review)\n",
    "    return clean"
   ]
  },
  {
   "cell_type": "code",
   "execution_count": null,
   "id": "c7572ae9-1f69-4ad5-80dc-6163074c34d0",
   "metadata": {},
   "outputs": [],
   "source": [
    "df[\"Clean_Resume\"] = clean_resume(df)\n",
    "df[\"marked_text\"] = df[\"Clean_Resume\"].str.lower().apply(nlp_ms)\n",
    "df[\"skills\"] = df[\"marked_text\"].apply(create_skill_list)\n",
    "df.reset_index(inplace = True)\n",
    "df.head()"
   ]
  },
  {
   "cell_type": "code",
   "execution_count": null,
   "id": "11726310-090c-4cde-8a18-8c4f566f804b",
   "metadata": {},
   "outputs": [],
   "source": [
    "set(flat_list)"
   ]
  },
  {
   "cell_type": "code",
   "execution_count": null,
   "id": "cf45e79e-66ab-4167-b661-721a8dc18378",
   "metadata": {},
   "outputs": [],
   "source": [
    "test_resume = nlp_ms(df[\"Resume_str\"].iloc[0])\n",
    "resume_ents = [(ent.text, ent.label_) for ent in test_resume.ents]\n",
    "displacy.render(test_resume, style=\"ent\", jupyter=True)\n",
    "print(resume_ents)"
   ]
  },
  {
   "cell_type": "code",
   "execution_count": null,
   "id": "9670af1d-3ca9-4024-bf01-923e77894145",
   "metadata": {},
   "outputs": [],
   "source": [
    "#functions for getting entities text, label, start and end of character position\n",
    "def create_skill_set(text, model = False):\n",
    "    '''Apply basic spacy model and Create a set of the extracted skill entities'''\n",
    "    \n",
    "    if model == True:\n",
    "        nlp_ms = spacy.blank(\"en\")\n",
    "        skill_pattern_path = PATH + \"/data/dictionaries/complete_dict.jsonl\"\n",
    "        ruler = nlp_ms.add_pipe(\"entity_ruler\")\n",
    "        ruler.from_disk(skill_pattern_path)\n",
    "        doc = nlp(text)\n",
    "        \n",
    "    return set([ent.label_.upper()[6:] for ent in doc.ents if 'skill' or 'knowledge' in ent.label_.lower()])\n",
    "\n",
    "def create_skill_position(doc):\n",
    "    '''Create a set of the extracted skill entities of a doc'''\n",
    "    #nlp_doc = nlp_ms(doc)\n",
    "    #[(ent.text, ent.start_char, ent.end_char, ent.label_) for ent in sent.ents]\n",
    "    return list([ent.start_char, ent.end_char, ent.label_] for ent in doc.ents )\n",
    "\n",
    "#def create_skillset_dict(resume_texts):\n",
    "#    '''Create a dictionary containing a set of the extracted skills. Name is key, matching skillset is value'''\n",
    "#    skillsets = [create_skill_set(resume_text) for resume_text in resume_texts]\n",
    "#   return skillsets\n",
    "\n",
    "def create_skill_list(text, model = False):\n",
    "    \n",
    "    if model == True:\n",
    "        nlp_ms = spacy.blank(\"en\")\n",
    "        skill_pattern_path = PATH + \"/data/dictionaries/complete_dict.jsonl\"\n",
    "        ruler = nlp_ms.add_pipe(\"entity_ruler\")\n",
    "        ruler.from_disk(skill_pattern_path)\n",
    "        doc = nlp_ms(text)\n",
    "    \n",
    "    t = list([ent.text] for ent in doc.ents )\n",
    "    flat_list = [item for sublist in t for item in sublist]\n",
    "    return set(flat_list)\n",
    "\n",
    "def match_skills(JD_data_set, cv_set):\n",
    "    '''Get intersection of resume skills and job offer skills and return match percentage'''\n",
    "    pct_list = []\n",
    "    \n",
    "    if len(cv_set) < 1:\n",
    "        print('could not extract skills from resume text')   \n",
    "    else:\n",
    "        #implement function comparing with a list of job_descriptions\n",
    "        for i in range(0, len(JD_set)):\n",
    "            match = cv_set & JD_set[i] \n",
    "            qu = len(cv_set & JD_set[i])\n",
    "            di = len(JD_set[i])\n",
    "            pct_match = round((qu/di) * 100, 2)\n",
    "            pct_list.append([i, pct_match])\n",
    "            \n",
    "        pct_list.sort(key=lambda x: x[1], reverse = True)\n",
    "    \n",
    "        #print(\"Resume has a {}% skill match on job offer\".format(pct_match))\n",
    "        #print('Required skills: {} '.format(JD_set))\n",
    "        #print('Matched skills: {} \\n'.format(JD_set.intersection(skillset_dict[resume_name])))\n",
    "        \n",
    "    return pct_list[0:9]"
   ]
  },
  {
   "cell_type": "code",
   "execution_count": null,
   "id": "17c18401-8541-4c35-92af-81b19a11cd72",
   "metadata": {},
   "outputs": [],
   "source": [
    "# compare df.skills with test_list\n",
    "cv_set = test_list\n",
    "JD_set = df.skills\n",
    "pct_list = match_skills(JD_set, cv_set)"
   ]
  },
  {
   "cell_type": "code",
   "execution_count": null,
   "id": "477bf616-286b-4f45-9748-e1fd5b874f1c",
   "metadata": {},
   "outputs": [],
   "source": [
    "df.shape()"
   ]
  },
  {
   "cell_type": "code",
   "execution_count": null,
   "id": "7a8e5a12-3f51-4a1f-9370-6a8451255304",
   "metadata": {},
   "outputs": [],
   "source": [
    "pct_list = match_skills(JD_set, cv_set)"
   ]
  },
  {
   "cell_type": "code",
   "execution_count": null,
   "id": "fb02fe20-7c31-486c-b520-1e9d22488e04",
   "metadata": {},
   "outputs": [],
   "source": [
    "job_number, matching_score, job_cat = [], [], []\n",
    "frame = pd.DataFrame\n",
    "\n",
    "for i in pct_list:\n",
    "    cat = df[\"Category\"][i[0]]\n",
    "    print('Job #{} in Sector {} has a {}% match'.format(i[0], df[\"Category\"][i[0]], i[1]))\n",
    "    job_number.append(i[0])\n",
    "    matching_score.append(i[1])\n",
    "    \n",
    "    if cat in job_cat:\n",
    "        job_cat.append(str(cat) + str(i[0]))\n",
    "    else:\n",
    "        job_cat.append(cat)\n",
    "    \n",
    "frame = pd.DataFrame(job_number, columns=['job_number'])\n",
    "frame[\"matching_score\"] = matching_score\n",
    "frame[\"Category\"] = job_cat\n",
    "frame[\"color\"][0:2] = 'rgb(240,150,255)'\n",
    "frame[\"color\"][2:5] = 'blue'\n",
    "frame[\"color\"][5:8] = 'yellow'\n",
    "frame[\"color\"][8:] = 'red'"
   ]
  },
  {
   "cell_type": "code",
   "execution_count": null,
   "id": "2d126526-6e5c-4e8e-9e66-74813ee71acb",
   "metadata": {},
   "outputs": [],
   "source": [
    "frame"
   ]
  },
  {
   "cell_type": "code",
   "execution_count": null,
   "id": "db629390-6e1a-4c4f-a271-b266d4d9f4ad",
   "metadata": {},
   "outputs": [],
   "source": [
    "## compare list with data_set, visualize highest matching jobs\n",
    "job_number, matching_score, job_cat = [], [], []\n",
    "frame = pd.DataFrame\n",
    "\n",
    "for i in pct_list:\n",
    "    cat = df[\"Category\"][i[0]]\n",
    "    print('Job #{} in Sector {} has a {}% match'.format(i[0], df[\"Category\"][i[0]], i[1]))\n",
    "    job_number.append(i[0])\n",
    "    matching_score.append(i[1])\n",
    "    \n",
    "    if cat in job_cat:\n",
    "        job_cat.append(str(cat) + str(i[0]))\n",
    "    else:\n",
    "        job_cat.append(cat)\n",
    "    \n",
    "frame = pd.DataFrame(job_number, columns=['job_number'])\n",
    "frame[\"matching_score\"] = matching_score\n",
    "frame[\"Category\"] = job_cat\n",
    "\n",
    "\n",
    "#for template in [\"ggplot2\", \"seaborn\"]:\n",
    "import plotly.graph_objects as go\n",
    "\n",
    "fig = px.bar(\n",
    "    x=frame['Category'], \n",
    "    y=frame[\"matching_score\"],\n",
    "    labels={\"x\": \"job position\", \"y\": \"Matching %\"},\n",
    "    title=f\"Job offers matching with resume\",\n",
    "    width=1200, height=800,\n",
    "    template=\"seaborn\",\n",
    "    color = frame[\"matching_score\"])\n",
    "fig.update_layout(\n",
    "        #margin=dict(l=20, r=20, t=20, b=20),\n",
    "    paper_bgcolor=\"lightblue\",\n",
    ")\n",
    "fig.show()"
   ]
  },
  {
   "cell_type": "code",
   "execution_count": null,
   "id": "8e9559bf-143f-42eb-bec7-aaa041b5cda3",
   "metadata": {},
   "outputs": [],
   "source": [
    "## comparison of test_resume with automated_annotated_JD data"
   ]
  },
  {
   "cell_type": "markdown",
   "id": "9bce191c-6193-4286-aaa9-8cd30c644ae9",
   "metadata": {},
   "source": [
    "## Loading Data with pre-trained Spacy Model (Auto/Manual)"
   ]
  },
  {
   "cell_type": "code",
   "execution_count": null,
   "id": "8d943b3b-802e-4c7c-9ed4-46f2878bf790",
   "metadata": {},
   "outputs": [],
   "source": [
    "%load_ext autoreload\n",
    "%autoreload 2\n",
    "from skills_matcher.scripts.spacy_model import load_results_auto, load_results_manual\n",
    "from skills_matcher.scripts.utils.clean_skills import extract_skills_auto, extract_entities_2, extract_lables, get_dict, get_dict_cv\n",
    "from skills_matcher.scripts.utils.paths import load_paths"
   ]
  },
  {
   "cell_type": "code",
   "execution_count": null,
   "id": "1505e854-23b7-4f97-a945-4751d1cb38ac",
   "metadata": {},
   "outputs": [],
   "source": [
    "PATH = os.path.dirname(os.getcwd()) + \"/skills_matcher\"\n",
    "PATH"
   ]
  },
  {
   "cell_type": "code",
   "execution_count": null,
   "id": "3f7cce60-2774-4946-8617-1f59295b2d85",
   "metadata": {},
   "outputs": [],
   "source": [
    "PATH"
   ]
  },
  {
   "cell_type": "code",
   "execution_count": null,
   "id": "560390a6-bf7f-4133-adee-40deea70775f",
   "metadata": {},
   "outputs": [],
   "source": [
    "PATH_DATA, PATH_DICT, PATH_TRAIN_DATA, PATH_VAL_DATA, PATH_COMPLETE_DICT = load_paths('data_final_raw', 'doccano_dictionary', 'train', 'val', 'complete_dict')"
   ]
  },
  {
   "cell_type": "code",
   "execution_count": null,
   "id": "b861eff7-c7af-4f9c-bdfb-a69375e34110",
   "metadata": {},
   "outputs": [],
   "source": [
    "PATH_COMPLETE_DICT"
   ]
  },
  {
   "cell_type": "code",
   "execution_count": null,
   "id": "4a4d1c2b-c89d-4b0d-9b93-e9d23f3994c9",
   "metadata": {},
   "outputs": [],
   "source": [
    "df_JD = pd.read_csv(PATH_DATA)\n",
    "df_JD.head()"
   ]
  },
  {
   "cell_type": "code",
   "execution_count": 358,
   "id": "e01a268c-c977-4ea5-b0d6-3dc615c1150d",
   "metadata": {},
   "outputs": [
    {
     "data": {
      "text/plain": [
       "(3507, 9)"
      ]
     },
     "execution_count": 358,
     "metadata": {},
     "output_type": "execute_result"
    }
   ],
   "source": [
    "df_JD.shape"
   ]
  },
  {
   "cell_type": "markdown",
   "id": "2f1da3de-fb67-43f6-b2fe-4095d2209987",
   "metadata": {},
   "source": [
    "# Resume data"
   ]
  },
  {
   "cell_type": "code",
   "execution_count": null,
   "id": "ebd176ef-a82e-4add-8bbd-01563bf480ff",
   "metadata": {},
   "outputs": [],
   "source": [
    "os.chdir('/home/lewagonlew/code/marcorodrigues/skills_matcher')"
   ]
  },
  {
   "cell_type": "code",
   "execution_count": null,
   "id": "d3ee3aa9-4d61-44b8-b8b8-096543e3fbc0",
   "metadata": {},
   "outputs": [],
   "source": [
    "os.getcwd()"
   ]
  },
  {
   "cell_type": "code",
   "execution_count": 355,
   "id": "dc964614-9fde-4705-851a-ebee25305310",
   "metadata": {},
   "outputs": [
    {
     "data": {
      "text/html": [
       "<div>\n",
       "<style scoped>\n",
       "    .dataframe tbody tr th:only-of-type {\n",
       "        vertical-align: middle;\n",
       "    }\n",
       "\n",
       "    .dataframe tbody tr th {\n",
       "        vertical-align: top;\n",
       "    }\n",
       "\n",
       "    .dataframe thead th {\n",
       "        text-align: right;\n",
       "    }\n",
       "</style>\n",
       "<table border=\"1\" class=\"dataframe\">\n",
       "  <thead>\n",
       "    <tr style=\"text-align: right;\">\n",
       "      <th></th>\n",
       "      <th>Resume_str</th>\n",
       "      <th>Resume_html</th>\n",
       "      <th>Category</th>\n",
       "      <th>Clean_Resume</th>\n",
       "      <th>entities_auto_label</th>\n",
       "      <th>entities_manual_label</th>\n",
       "      <th>entity_ruler</th>\n",
       "    </tr>\n",
       "  </thead>\n",
       "  <tbody>\n",
       "    <tr>\n",
       "      <th>0</th>\n",
       "      <td>HR ADMINISTRATOR/MARKETING ASSOCIATE\\...</td>\n",
       "      <td>&lt;div class=\"fontsize fontface vmargins hmargin...</td>\n",
       "      <td>HR</td>\n",
       "      <td>hr administrator marketing associate hr admini...</td>\n",
       "      <td>(medium, medium)</td>\n",
       "      <td>[]</td>\n",
       "      <td>{'front end', 'data analysis', 'marketing', 'a...</td>\n",
       "    </tr>\n",
       "    <tr>\n",
       "      <th>1</th>\n",
       "      <td>HR SPECIALIST, US HR OPERATIONS      ...</td>\n",
       "      <td>&lt;div class=\"fontsize fontface vmargins hmargin...</td>\n",
       "      <td>HR</td>\n",
       "      <td>hr specialist u hr operation summary versatile...</td>\n",
       "      <td>(medium, medium, medium, medium, medium)</td>\n",
       "      <td>[]</td>\n",
       "      <td>{'marketing', 'software', 'material', 'project...</td>\n",
       "    </tr>\n",
       "    <tr>\n",
       "      <th>2</th>\n",
       "      <td>HR DIRECTOR       Summary      Over 2...</td>\n",
       "      <td>&lt;div class=\"fontsize fontface vmargins hmargin...</td>\n",
       "      <td>HR</td>\n",
       "      <td>hr director summary 20 year experience recruit...</td>\n",
       "      <td>(publishing,)</td>\n",
       "      <td>[]</td>\n",
       "      <td>{'monitoring', 'publishing', 'marketing', 'dat...</td>\n",
       "    </tr>\n",
       "    <tr>\n",
       "      <th>3</th>\n",
       "      <td>HR SPECIALIST       Summary    Dedica...</td>\n",
       "      <td>&lt;div class=\"fontsize fontface vmargins hmargin...</td>\n",
       "      <td>HR</td>\n",
       "      <td>hr specialist summary dedicated driven dynamic...</td>\n",
       "      <td>()</td>\n",
       "      <td>[]</td>\n",
       "      <td>{'monitoring', 'database', 'business administr...</td>\n",
       "    </tr>\n",
       "    <tr>\n",
       "      <th>4</th>\n",
       "      <td>HR MANAGER         Skill Highlights  ...</td>\n",
       "      <td>&lt;div class=\"fontsize fontface vmargins hmargin...</td>\n",
       "      <td>HR</td>\n",
       "      <td>hr manager skill highlight hr skill hr departm...</td>\n",
       "      <td>()</td>\n",
       "      <td>[{'entity': recruit, 'label': 'KNOWLEDGE'}, {'...</td>\n",
       "      <td>{'business administration', 'impact', 'project...</td>\n",
       "    </tr>\n",
       "    <tr>\n",
       "      <th>...</th>\n",
       "      <td>...</td>\n",
       "      <td>...</td>\n",
       "      <td>...</td>\n",
       "      <td>...</td>\n",
       "      <td>...</td>\n",
       "      <td>...</td>\n",
       "      <td>...</td>\n",
       "    </tr>\n",
       "    <tr>\n",
       "      <th>2479</th>\n",
       "      <td>RANK: SGT/E-5 NON- COMMISSIONED OFFIC...</td>\n",
       "      <td>&lt;div class=\"fontsize fontface vmargins hmargin...</td>\n",
       "      <td>AVIATION</td>\n",
       "      <td>rank sgt e 5 non commissioned officer charge b...</td>\n",
       "      <td>()</td>\n",
       "      <td>[{'entity': 'g1', 'label': 'KNOWLEDGE'}]</td>\n",
       "      <td>{'engineering', 'accounting', 'material'}</td>\n",
       "    </tr>\n",
       "    <tr>\n",
       "      <th>2480</th>\n",
       "      <td>GOVERNMENT RELATIONS, COMMUNICATIONS ...</td>\n",
       "      <td>&lt;div class=\"fontsize fontface vmargins hmargin...</td>\n",
       "      <td>AVIATION</td>\n",
       "      <td>government relation communication organization...</td>\n",
       "      <td>(medium, medium, medium, medium, medium)</td>\n",
       "      <td>[]</td>\n",
       "      <td>{'engineering', 'support', 'business', 'accoun...</td>\n",
       "    </tr>\n",
       "    <tr>\n",
       "      <th>2481</th>\n",
       "      <td>GEEK SQUAD AGENT         Professional...</td>\n",
       "      <td>&lt;div class=\"fontsize fontface vmargins hmargin...</td>\n",
       "      <td>AVIATION</td>\n",
       "      <td>geek squad agent professional profile support ...</td>\n",
       "      <td>(android,)</td>\n",
       "      <td>[]</td>\n",
       "      <td>{'android', 'specification', 'software', 'supp...</td>\n",
       "    </tr>\n",
       "    <tr>\n",
       "      <th>2482</th>\n",
       "      <td>PROGRAM DIRECTOR / OFFICE MANAGER    ...</td>\n",
       "      <td>&lt;div class=\"fontsize fontface vmargins hmargin...</td>\n",
       "      <td>AVIATION</td>\n",
       "      <td>program director office manager summary highly...</td>\n",
       "      <td>(medium, medium)</td>\n",
       "      <td>[{'entity': 'u', 'label': 'LEVEL'}]</td>\n",
       "      <td>{'twitter', 'youtube', 'marketing', 'security'...</td>\n",
       "    </tr>\n",
       "    <tr>\n",
       "      <th>2483</th>\n",
       "      <td>STOREKEEPER II       Professional Sum...</td>\n",
       "      <td>&lt;div class=\"fontsize fontface vmargins hmargin...</td>\n",
       "      <td>AVIATION</td>\n",
       "      <td>storekeeper ii professional summary purpose do...</td>\n",
       "      <td>()</td>\n",
       "      <td>[{'entity': 'recruit officer', 'label': 'KNOWL...</td>\n",
       "      <td>{'component', 'certificate', 'material', 'box'...</td>\n",
       "    </tr>\n",
       "  </tbody>\n",
       "</table>\n",
       "<p>2484 rows × 7 columns</p>\n",
       "</div>"
      ],
      "text/plain": [
       "                                             Resume_str  \\\n",
       "0              HR ADMINISTRATOR/MARKETING ASSOCIATE\\...   \n",
       "1              HR SPECIALIST, US HR OPERATIONS      ...   \n",
       "2              HR DIRECTOR       Summary      Over 2...   \n",
       "3              HR SPECIALIST       Summary    Dedica...   \n",
       "4              HR MANAGER         Skill Highlights  ...   \n",
       "...                                                 ...   \n",
       "2479           RANK: SGT/E-5 NON- COMMISSIONED OFFIC...   \n",
       "2480           GOVERNMENT RELATIONS, COMMUNICATIONS ...   \n",
       "2481           GEEK SQUAD AGENT         Professional...   \n",
       "2482           PROGRAM DIRECTOR / OFFICE MANAGER    ...   \n",
       "2483           STOREKEEPER II       Professional Sum...   \n",
       "\n",
       "                                            Resume_html  Category  \\\n",
       "0     <div class=\"fontsize fontface vmargins hmargin...        HR   \n",
       "1     <div class=\"fontsize fontface vmargins hmargin...        HR   \n",
       "2     <div class=\"fontsize fontface vmargins hmargin...        HR   \n",
       "3     <div class=\"fontsize fontface vmargins hmargin...        HR   \n",
       "4     <div class=\"fontsize fontface vmargins hmargin...        HR   \n",
       "...                                                 ...       ...   \n",
       "2479  <div class=\"fontsize fontface vmargins hmargin...  AVIATION   \n",
       "2480  <div class=\"fontsize fontface vmargins hmargin...  AVIATION   \n",
       "2481  <div class=\"fontsize fontface vmargins hmargin...  AVIATION   \n",
       "2482  <div class=\"fontsize fontface vmargins hmargin...  AVIATION   \n",
       "2483  <div class=\"fontsize fontface vmargins hmargin...  AVIATION   \n",
       "\n",
       "                                           Clean_Resume  \\\n",
       "0     hr administrator marketing associate hr admini...   \n",
       "1     hr specialist u hr operation summary versatile...   \n",
       "2     hr director summary 20 year experience recruit...   \n",
       "3     hr specialist summary dedicated driven dynamic...   \n",
       "4     hr manager skill highlight hr skill hr departm...   \n",
       "...                                                 ...   \n",
       "2479  rank sgt e 5 non commissioned officer charge b...   \n",
       "2480  government relation communication organization...   \n",
       "2481  geek squad agent professional profile support ...   \n",
       "2482  program director office manager summary highly...   \n",
       "2483  storekeeper ii professional summary purpose do...   \n",
       "\n",
       "                           entities_auto_label  \\\n",
       "0                             (medium, medium)   \n",
       "1     (medium, medium, medium, medium, medium)   \n",
       "2                                (publishing,)   \n",
       "3                                           ()   \n",
       "4                                           ()   \n",
       "...                                        ...   \n",
       "2479                                        ()   \n",
       "2480  (medium, medium, medium, medium, medium)   \n",
       "2481                                (android,)   \n",
       "2482                          (medium, medium)   \n",
       "2483                                        ()   \n",
       "\n",
       "                                  entities_manual_label  \\\n",
       "0                                                    []   \n",
       "1                                                    []   \n",
       "2                                                    []   \n",
       "3                                                    []   \n",
       "4     [{'entity': recruit, 'label': 'KNOWLEDGE'}, {'...   \n",
       "...                                                 ...   \n",
       "2479           [{'entity': 'g1', 'label': 'KNOWLEDGE'}]   \n",
       "2480                                                 []   \n",
       "2481                                                 []   \n",
       "2482                [{'entity': 'u', 'label': 'LEVEL'}]   \n",
       "2483  [{'entity': 'recruit officer', 'label': 'KNOWL...   \n",
       "\n",
       "                                           entity_ruler  \n",
       "0     {'front end', 'data analysis', 'marketing', 'a...  \n",
       "1     {'marketing', 'software', 'material', 'project...  \n",
       "2     {'monitoring', 'publishing', 'marketing', 'dat...  \n",
       "3     {'monitoring', 'database', 'business administr...  \n",
       "4     {'business administration', 'impact', 'project...  \n",
       "...                                                 ...  \n",
       "2479          {'engineering', 'accounting', 'material'}  \n",
       "2480  {'engineering', 'support', 'business', 'accoun...  \n",
       "2481  {'android', 'specification', 'software', 'supp...  \n",
       "2482  {'twitter', 'youtube', 'marketing', 'security'...  \n",
       "2483  {'component', 'certificate', 'material', 'box'...  \n",
       "\n",
       "[2484 rows x 7 columns]"
      ]
     },
     "execution_count": 355,
     "metadata": {},
     "output_type": "execute_result"
    }
   ],
   "source": [
    "df_cleaned_Resume"
   ]
  },
  {
   "cell_type": "code",
   "execution_count": 356,
   "id": "32165d98-cd56-4dc6-9f97-e12f73e6d89c",
   "metadata": {},
   "outputs": [],
   "source": [
    "df_cleaned_Resume.to_csv(\"cleaned_Resume_final.csv\")"
   ]
  },
  {
   "cell_type": "markdown",
   "id": "adcc5d5e-3434-4117-bbcf-ea7dfb74a4fa",
   "metadata": {},
   "source": [
    "# concating 2 CV Frames"
   ]
  },
  {
   "cell_type": "code",
   "execution_count": 359,
   "id": "b100d066-8483-4e2d-bf0d-25e578c69896",
   "metadata": {},
   "outputs": [
    {
     "data": {
      "text/html": [
       "<div>\n",
       "<style scoped>\n",
       "    .dataframe tbody tr th:only-of-type {\n",
       "        vertical-align: middle;\n",
       "    }\n",
       "\n",
       "    .dataframe tbody tr th {\n",
       "        vertical-align: top;\n",
       "    }\n",
       "\n",
       "    .dataframe thead th {\n",
       "        text-align: right;\n",
       "    }\n",
       "</style>\n",
       "<table border=\"1\" class=\"dataframe\">\n",
       "  <thead>\n",
       "    <tr style=\"text-align: right;\">\n",
       "      <th></th>\n",
       "      <th>Resume_str</th>\n",
       "      <th>Resume_html</th>\n",
       "      <th>Category</th>\n",
       "      <th>Clean_Resume</th>\n",
       "      <th>entities_auto_label</th>\n",
       "      <th>entities_manual_label</th>\n",
       "      <th>entity_ruler</th>\n",
       "      <th>SKILL</th>\n",
       "    </tr>\n",
       "  </thead>\n",
       "  <tbody>\n",
       "    <tr>\n",
       "      <th>0</th>\n",
       "      <td>HR ADMINISTRATOR/MARKETING ASSOCIATE\\...</td>\n",
       "      <td>&lt;div class=\"fontsize fontface vmargins hmargin...</td>\n",
       "      <td>HR</td>\n",
       "      <td>hr administrator marketing associate hr admini...</td>\n",
       "      <td>(medium, medium)</td>\n",
       "      <td>[]</td>\n",
       "      <td>{'front end', 'data analysis', 'marketing', 'a...</td>\n",
       "      <td>[front, end, data, analysis, marketing, accoun...</td>\n",
       "    </tr>\n",
       "    <tr>\n",
       "      <th>1</th>\n",
       "      <td>HR SPECIALIST, US HR OPERATIONS      ...</td>\n",
       "      <td>&lt;div class=\"fontsize fontface vmargins hmargin...</td>\n",
       "      <td>HR</td>\n",
       "      <td>hr specialist u hr operation summary versatile...</td>\n",
       "      <td>(medium, medium, medium, medium, medium)</td>\n",
       "      <td>[]</td>\n",
       "      <td>{'marketing', 'software', 'material', 'project...</td>\n",
       "      <td>[marketing, software, material, project, manag...</td>\n",
       "    </tr>\n",
       "    <tr>\n",
       "      <th>2</th>\n",
       "      <td>HR DIRECTOR       Summary      Over 2...</td>\n",
       "      <td>&lt;div class=\"fontsize fontface vmargins hmargin...</td>\n",
       "      <td>HR</td>\n",
       "      <td>hr director summary 20 year experience recruit...</td>\n",
       "      <td>(publishing,)</td>\n",
       "      <td>[]</td>\n",
       "      <td>{'monitoring', 'publishing', 'marketing', 'dat...</td>\n",
       "      <td>[monitoring, publishing, marketing, database, ...</td>\n",
       "    </tr>\n",
       "    <tr>\n",
       "      <th>3</th>\n",
       "      <td>HR SPECIALIST       Summary    Dedica...</td>\n",
       "      <td>&lt;div class=\"fontsize fontface vmargins hmargin...</td>\n",
       "      <td>HR</td>\n",
       "      <td>hr specialist summary dedicated driven dynamic...</td>\n",
       "      <td>()</td>\n",
       "      <td>[]</td>\n",
       "      <td>{'monitoring', 'database', 'business administr...</td>\n",
       "      <td>[monitoring, database, business, administratio...</td>\n",
       "    </tr>\n",
       "    <tr>\n",
       "      <th>4</th>\n",
       "      <td>HR MANAGER         Skill Highlights  ...</td>\n",
       "      <td>&lt;div class=\"fontsize fontface vmargins hmargin...</td>\n",
       "      <td>HR</td>\n",
       "      <td>hr manager skill highlight hr skill hr departm...</td>\n",
       "      <td>()</td>\n",
       "      <td>[{'entity': recruit, 'label': 'KNOWLEDGE'}, {'...</td>\n",
       "      <td>{'business administration', 'impact', 'project...</td>\n",
       "      <td>[business, administration, impact, project, ma...</td>\n",
       "    </tr>\n",
       "    <tr>\n",
       "      <th>...</th>\n",
       "      <td>...</td>\n",
       "      <td>...</td>\n",
       "      <td>...</td>\n",
       "      <td>...</td>\n",
       "      <td>...</td>\n",
       "      <td>...</td>\n",
       "      <td>...</td>\n",
       "      <td>...</td>\n",
       "    </tr>\n",
       "    <tr>\n",
       "      <th>2479</th>\n",
       "      <td>RANK: SGT/E-5 NON- COMMISSIONED OFFIC...</td>\n",
       "      <td>&lt;div class=\"fontsize fontface vmargins hmargin...</td>\n",
       "      <td>AVIATION</td>\n",
       "      <td>rank sgt e 5 non commissioned officer charge b...</td>\n",
       "      <td>()</td>\n",
       "      <td>[{'entity': 'g1', 'label': 'KNOWLEDGE'}]</td>\n",
       "      <td>{'engineering', 'accounting', 'material'}</td>\n",
       "      <td>[engineering, accounting, material]</td>\n",
       "    </tr>\n",
       "    <tr>\n",
       "      <th>2480</th>\n",
       "      <td>GOVERNMENT RELATIONS, COMMUNICATIONS ...</td>\n",
       "      <td>&lt;div class=\"fontsize fontface vmargins hmargin...</td>\n",
       "      <td>AVIATION</td>\n",
       "      <td>government relation communication organization...</td>\n",
       "      <td>(medium, medium, medium, medium, medium)</td>\n",
       "      <td>[]</td>\n",
       "      <td>{'engineering', 'support', 'business', 'accoun...</td>\n",
       "      <td>[engineering, support, business, accounting, s...</td>\n",
       "    </tr>\n",
       "    <tr>\n",
       "      <th>2481</th>\n",
       "      <td>GEEK SQUAD AGENT         Professional...</td>\n",
       "      <td>&lt;div class=\"fontsize fontface vmargins hmargin...</td>\n",
       "      <td>AVIATION</td>\n",
       "      <td>geek squad agent professional profile support ...</td>\n",
       "      <td>(android,)</td>\n",
       "      <td>[]</td>\n",
       "      <td>{'android', 'specification', 'software', 'supp...</td>\n",
       "      <td>[android, specification, software, support]</td>\n",
       "    </tr>\n",
       "    <tr>\n",
       "      <th>2482</th>\n",
       "      <td>PROGRAM DIRECTOR / OFFICE MANAGER    ...</td>\n",
       "      <td>&lt;div class=\"fontsize fontface vmargins hmargin...</td>\n",
       "      <td>AVIATION</td>\n",
       "      <td>program director office manager summary highly...</td>\n",
       "      <td>(medium, medium)</td>\n",
       "      <td>[{'entity': 'u', 'label': 'LEVEL'}]</td>\n",
       "      <td>{'twitter', 'youtube', 'marketing', 'security'...</td>\n",
       "      <td>[twitter, youtube, marketing, security, design...</td>\n",
       "    </tr>\n",
       "    <tr>\n",
       "      <th>2483</th>\n",
       "      <td>STOREKEEPER II       Professional Sum...</td>\n",
       "      <td>&lt;div class=\"fontsize fontface vmargins hmargin...</td>\n",
       "      <td>AVIATION</td>\n",
       "      <td>storekeeper ii professional summary purpose do...</td>\n",
       "      <td>()</td>\n",
       "      <td>[{'entity': 'recruit officer', 'label': 'KNOWL...</td>\n",
       "      <td>{'component', 'certificate', 'material', 'box'...</td>\n",
       "      <td>[component, certificate, material, box, busine...</td>\n",
       "    </tr>\n",
       "  </tbody>\n",
       "</table>\n",
       "<p>2484 rows × 8 columns</p>\n",
       "</div>"
      ],
      "text/plain": [
       "                                             Resume_str  \\\n",
       "0              HR ADMINISTRATOR/MARKETING ASSOCIATE\\...   \n",
       "1              HR SPECIALIST, US HR OPERATIONS      ...   \n",
       "2              HR DIRECTOR       Summary      Over 2...   \n",
       "3              HR SPECIALIST       Summary    Dedica...   \n",
       "4              HR MANAGER         Skill Highlights  ...   \n",
       "...                                                 ...   \n",
       "2479           RANK: SGT/E-5 NON- COMMISSIONED OFFIC...   \n",
       "2480           GOVERNMENT RELATIONS, COMMUNICATIONS ...   \n",
       "2481           GEEK SQUAD AGENT         Professional...   \n",
       "2482           PROGRAM DIRECTOR / OFFICE MANAGER    ...   \n",
       "2483           STOREKEEPER II       Professional Sum...   \n",
       "\n",
       "                                            Resume_html  Category  \\\n",
       "0     <div class=\"fontsize fontface vmargins hmargin...        HR   \n",
       "1     <div class=\"fontsize fontface vmargins hmargin...        HR   \n",
       "2     <div class=\"fontsize fontface vmargins hmargin...        HR   \n",
       "3     <div class=\"fontsize fontface vmargins hmargin...        HR   \n",
       "4     <div class=\"fontsize fontface vmargins hmargin...        HR   \n",
       "...                                                 ...       ...   \n",
       "2479  <div class=\"fontsize fontface vmargins hmargin...  AVIATION   \n",
       "2480  <div class=\"fontsize fontface vmargins hmargin...  AVIATION   \n",
       "2481  <div class=\"fontsize fontface vmargins hmargin...  AVIATION   \n",
       "2482  <div class=\"fontsize fontface vmargins hmargin...  AVIATION   \n",
       "2483  <div class=\"fontsize fontface vmargins hmargin...  AVIATION   \n",
       "\n",
       "                                           Clean_Resume  \\\n",
       "0     hr administrator marketing associate hr admini...   \n",
       "1     hr specialist u hr operation summary versatile...   \n",
       "2     hr director summary 20 year experience recruit...   \n",
       "3     hr specialist summary dedicated driven dynamic...   \n",
       "4     hr manager skill highlight hr skill hr departm...   \n",
       "...                                                 ...   \n",
       "2479  rank sgt e 5 non commissioned officer charge b...   \n",
       "2480  government relation communication organization...   \n",
       "2481  geek squad agent professional profile support ...   \n",
       "2482  program director office manager summary highly...   \n",
       "2483  storekeeper ii professional summary purpose do...   \n",
       "\n",
       "                           entities_auto_label  \\\n",
       "0                             (medium, medium)   \n",
       "1     (medium, medium, medium, medium, medium)   \n",
       "2                                (publishing,)   \n",
       "3                                           ()   \n",
       "4                                           ()   \n",
       "...                                        ...   \n",
       "2479                                        ()   \n",
       "2480  (medium, medium, medium, medium, medium)   \n",
       "2481                                (android,)   \n",
       "2482                          (medium, medium)   \n",
       "2483                                        ()   \n",
       "\n",
       "                                  entities_manual_label  \\\n",
       "0                                                    []   \n",
       "1                                                    []   \n",
       "2                                                    []   \n",
       "3                                                    []   \n",
       "4     [{'entity': recruit, 'label': 'KNOWLEDGE'}, {'...   \n",
       "...                                                 ...   \n",
       "2479           [{'entity': 'g1', 'label': 'KNOWLEDGE'}]   \n",
       "2480                                                 []   \n",
       "2481                                                 []   \n",
       "2482                [{'entity': 'u', 'label': 'LEVEL'}]   \n",
       "2483  [{'entity': 'recruit officer', 'label': 'KNOWL...   \n",
       "\n",
       "                                           entity_ruler  \\\n",
       "0     {'front end', 'data analysis', 'marketing', 'a...   \n",
       "1     {'marketing', 'software', 'material', 'project...   \n",
       "2     {'monitoring', 'publishing', 'marketing', 'dat...   \n",
       "3     {'monitoring', 'database', 'business administr...   \n",
       "4     {'business administration', 'impact', 'project...   \n",
       "...                                                 ...   \n",
       "2479          {'engineering', 'accounting', 'material'}   \n",
       "2480  {'engineering', 'support', 'business', 'accoun...   \n",
       "2481  {'android', 'specification', 'software', 'supp...   \n",
       "2482  {'twitter', 'youtube', 'marketing', 'security'...   \n",
       "2483  {'component', 'certificate', 'material', 'box'...   \n",
       "\n",
       "                                                  SKILL  \n",
       "0     [front, end, data, analysis, marketing, accoun...  \n",
       "1     [marketing, software, material, project, manag...  \n",
       "2     [monitoring, publishing, marketing, database, ...  \n",
       "3     [monitoring, database, business, administratio...  \n",
       "4     [business, administration, impact, project, ma...  \n",
       "...                                                 ...  \n",
       "2479                [engineering, accounting, material]  \n",
       "2480  [engineering, support, business, accounting, s...  \n",
       "2481        [android, specification, software, support]  \n",
       "2482  [twitter, youtube, marketing, security, design...  \n",
       "2483  [component, certificate, material, box, busine...  \n",
       "\n",
       "[2484 rows x 8 columns]"
      ]
     },
     "execution_count": 359,
     "metadata": {},
     "output_type": "execute_result"
    }
   ],
   "source": [
    "data_CV = df_cleaned_Resume.apply(get_dict_cv, axis=1)\n",
    "data_CV"
   ]
  },
  {
   "cell_type": "code",
   "execution_count": null,
   "id": "62d2f967-1911-4c47-8843-e57f23b41878",
   "metadata": {},
   "outputs": [],
   "source": [
    "skill_list = extract_resume_skills(text, model = True)"
   ]
  },
  {
   "cell_type": "code",
   "execution_count": 360,
   "id": "81f7f5cf-06fb-4bf5-aa69-0f55893f5cf1",
   "metadata": {},
   "outputs": [
    {
     "data": {
      "text/plain": [
       "'PERSONAL DATA\\n.\\nDate, Place of Birth and Nationality: 06/12/1997 Basel, Switzerland. Swiss.\\nAddress: Neumattstrasse 18a, 4103 Bottmingen, Switzerland\\n_\\nEDUCATION\\n.\\nDATA SCIENCE BOOTCAMP\\nLe Wagon, Lisbon, Portugal                                                                 \\n•         9-Week full-time intensive bootcamp to learn Data Science with Python\\n•         Final Project: Skills Matcher – helping both recruiters and job seekers through NLP\\n           09/2021- Present                                                   \\nBACHELOR OF ARTS IN BUSINESS AND ECONOMICS\\nUniversity of Basel, Basel, Switzerland\\n•         GPA 5.4 (Scale: 1-6)\\n•         Relevant courses: Multivariate Data Analysis, Econometrics, Game Theory, Mathematics, Statistics\\n           09/2017-12/2020\\nSWISS HIGH SCHOOL DIPLOMA (MATURA)\\nGymnasium Oberwil, Oberwil Switzerland\\n•         Concentration in law and business   09/2018 – 07/2021\\n.\\nWORK EXPERIENCE\\nINTERNSHIP PMO LIFE SCIENCE CONSULTING (100%)      01/2021 – 08/2021\\nAccenture AG, Basel, Switzerland\\n•         Supported the account PMO lead, senior account leadership and head of finance in their daily routine, including organization and co-hosting of international leadership calls and pipeline management\\n•         Developed and presented data-driven visualization dashboards in Power Bi and Excel for controlling and planning\\n•         Creation of various account communications including quarterly account newsletter, reaching over 1500 people globally\\n•         Completed introductory trainings on Blockchain, AI, Cloud, Agile & DevOps (TQ)\\n•         Participation in a one-week excursion to gain insights in the controlling and financial management department\\nWORKING STUDENT IN MARKETING AND SALES (30%)   01/2020 – 12/2020\\nFilados AG, Basel, Switzerland\\n•         Conducted market research to support the decision-making process\\n•         Aided in the development for marketing and sales strategies\\n•         Management of Data in Excel and OptiClient\\nWORKING STUDENT TALENT MANAGEMENT/ MARKETING (20%)       05/2019 – 12/2019\\nOptravis LLC, Basel, Switzerland\\n•         Worked with a high level of independency\\n•         Designed and developed marketing material\\n•         Supported Customer Relationship Management activities\\nASSISTANT (20-40%)        01/2017 – 05/2019\\nKellerhals Carrard, Basel, Switzerland\\n•         Supported diverse administrative and personal work for a notary\\n•         Created fee invoices and documents of endorsement\\n•         Correspondence with clients, public authorities and consulates\\nIT SKILLS\\nPython (Pandas, NumPy) | R | SQL | MS Office (Excel, Power Point, Word) | Power BI | Data visualization (Seaborn, Matplotlib) | Machine Learning (Scikit-learn) | Deep Learning (TensorFlow Keras) | Data Engineering (GCP, MLFlow, Heroku, Streamlit)\\nEXTRACURRICULAR ACTIVITIES\\nEAST CHINA NORMAL UNIVERSITY, SHANGHAI\\nSummer School program | Completed Chinese language courses (HSK 1)\\nEF EDUCATION FIRST, SAN DIEGO/ HAWAII, USA\\nLanguages abroad program | Completed English language courses (C2)   07/2019\\n01/2018 – 06/2018\\nOTHER SKILLS & INTERESTS\\nLanguage: German (Mothertongue) | English (Excellent knowledge) | French (Basic knowledge) | Mandarin (Beginner/ HSK 1)'"
      ]
     },
     "execution_count": 360,
     "metadata": {},
     "output_type": "execute_result"
    }
   ],
   "source": [
    "text"
   ]
  },
  {
   "cell_type": "code",
   "execution_count": 361,
   "id": "26a276b1-089d-4601-bb38-cb73fd15e67a",
   "metadata": {},
   "outputs": [
    {
     "data": {
      "text/html": [
       "<div>\n",
       "<style scoped>\n",
       "    .dataframe tbody tr th:only-of-type {\n",
       "        vertical-align: middle;\n",
       "    }\n",
       "\n",
       "    .dataframe tbody tr th {\n",
       "        vertical-align: top;\n",
       "    }\n",
       "\n",
       "    .dataframe thead th {\n",
       "        text-align: right;\n",
       "    }\n",
       "</style>\n",
       "<table border=\"1\" class=\"dataframe\">\n",
       "  <thead>\n",
       "    <tr style=\"text-align: right;\">\n",
       "      <th></th>\n",
       "      <th>Unnamed: 0</th>\n",
       "      <th>ISCO</th>\n",
       "      <th>major_job</th>\n",
       "      <th>job</th>\n",
       "      <th>position</th>\n",
       "      <th>location</th>\n",
       "      <th>description</th>\n",
       "      <th>entities_auto_label</th>\n",
       "      <th>entities_manual_label</th>\n",
       "    </tr>\n",
       "  </thead>\n",
       "  <tbody>\n",
       "    <tr>\n",
       "      <th>0</th>\n",
       "      <td>0</td>\n",
       "      <td>21</td>\n",
       "      <td>SCIENCE AND ENGINEERING PROFESSIONALS</td>\n",
       "      <td>physicist</td>\n",
       "      <td>Accelerator Physicist id54315</td>\n",
       "      <td>Villigen PSI, Aargau</td>\n",
       "      <td>[' You have an academic degree in physics or e...</td>\n",
       "      <td>()</td>\n",
       "      <td>[{'entity': physics, 'label': 'KNOWLEDGE'}, {'...</td>\n",
       "    </tr>\n",
       "    <tr>\n",
       "      <th>1</th>\n",
       "      <td>1</td>\n",
       "      <td>21</td>\n",
       "      <td>SCIENCE AND ENGINEERING PROFESSIONALS</td>\n",
       "      <td>physicist</td>\n",
       "      <td>Accelerator Physicist id54315</td>\n",
       "      <td>Villigen PSI, Aargau</td>\n",
       "      <td>[' You have an academic degree in physics or e...</td>\n",
       "      <td>()</td>\n",
       "      <td>[{'entity': RICS, 'label': 'SKILL'}, {'entity'...</td>\n",
       "    </tr>\n",
       "    <tr>\n",
       "      <th>2</th>\n",
       "      <td>2</td>\n",
       "      <td>21</td>\n",
       "      <td>SCIENCE AND ENGINEERING PROFESSIONALS</td>\n",
       "      <td>physicist</td>\n",
       "      <td>Accelerator Physicist id54315</td>\n",
       "      <td>Villigen PSI, Aargau</td>\n",
       "      <td>[' You have an academic degree in physics or e...</td>\n",
       "      <td>()</td>\n",
       "      <td>[{'entity': CIS, 'label': 'SKILL'}, {'entity':...</td>\n",
       "    </tr>\n",
       "    <tr>\n",
       "      <th>3</th>\n",
       "      <td>3</td>\n",
       "      <td>21</td>\n",
       "      <td>SCIENCE AND ENGINEERING PROFESSIONALS</td>\n",
       "      <td>physicist</td>\n",
       "      <td>Applied Physicist (Computing) (EP-LBC-2021-125...</td>\n",
       "      <td>Geneva</td>\n",
       "      <td>[' Be in charge of the development of applicat...</td>\n",
       "      <td>(Python, Python)</td>\n",
       "      <td>[{'entity': Python, 'label': 'SKILL'}, {'entit...</td>\n",
       "    </tr>\n",
       "    <tr>\n",
       "      <th>4</th>\n",
       "      <td>4</td>\n",
       "      <td>21</td>\n",
       "      <td>SCIENCE AND ENGINEERING PROFESSIONALS</td>\n",
       "      <td>physicist</td>\n",
       "      <td>Applied Physicist (Computing) (EP-LBC-2021-125...</td>\n",
       "      <td>Geneva</td>\n",
       "      <td>[' Be in charge of the development of applicat...</td>\n",
       "      <td>(Python, Python)</td>\n",
       "      <td>[]</td>\n",
       "    </tr>\n",
       "    <tr>\n",
       "      <th>...</th>\n",
       "      <td>...</td>\n",
       "      <td>...</td>\n",
       "      <td>...</td>\n",
       "      <td>...</td>\n",
       "      <td>...</td>\n",
       "      <td>...</td>\n",
       "      <td>...</td>\n",
       "      <td>...</td>\n",
       "      <td>...</td>\n",
       "    </tr>\n",
       "    <tr>\n",
       "      <th>3502</th>\n",
       "      <td>3502</td>\n",
       "      <td>22</td>\n",
       "      <td>HEALTH PROFESSIONALS</td>\n",
       "      <td>veterinary surgeon</td>\n",
       "      <td>Veterinary Surgeon</td>\n",
       "      <td>England</td>\n",
       "      <td>[' Allocated CPD funding of 37.5 hours Excelle...</td>\n",
       "      <td>()</td>\n",
       "      <td>[{'entity': driving licence, 'label': 'KNOWLED...</td>\n",
       "    </tr>\n",
       "    <tr>\n",
       "      <th>3503</th>\n",
       "      <td>3503</td>\n",
       "      <td>22</td>\n",
       "      <td>HEALTH PROFESSIONALS</td>\n",
       "      <td>veterinary surgeon</td>\n",
       "      <td>Permanent Veterinary Surgeon</td>\n",
       "      <td>Cricklewood, North West London</td>\n",
       "      <td>[' Type: Small Animal Hours: Monday - Friday 4...</td>\n",
       "      <td>()</td>\n",
       "      <td>[{'entity': driver's license, 'label': 'KNOWLE...</td>\n",
       "    </tr>\n",
       "    <tr>\n",
       "      <th>3504</th>\n",
       "      <td>3504</td>\n",
       "      <td>22</td>\n",
       "      <td>HEALTH PROFESSIONALS</td>\n",
       "      <td>veterinary surgeon</td>\n",
       "      <td>Veterinary Surgeon</td>\n",
       "      <td>Middlesbrough, North Yorkshire</td>\n",
       "      <td>[' Allocated CPD funding of 37.5 hours ', ' 5 ...</td>\n",
       "      <td>()</td>\n",
       "      <td>[{'entity': driver's license, 'label': 'KNOWLE...</td>\n",
       "    </tr>\n",
       "    <tr>\n",
       "      <th>3505</th>\n",
       "      <td>3505</td>\n",
       "      <td>22</td>\n",
       "      <td>HEALTH PROFESSIONALS</td>\n",
       "      <td>veterinary surgeon</td>\n",
       "      <td>Permanent Veterinary Surgeon</td>\n",
       "      <td>Harrogate, North Yorkshire</td>\n",
       "      <td>[\" Experienced required: New Graduate level to...</td>\n",
       "      <td>()</td>\n",
       "      <td>[{'entity': driver's license, 'label': 'KNOWLE...</td>\n",
       "    </tr>\n",
       "    <tr>\n",
       "      <th>3506</th>\n",
       "      <td>3506</td>\n",
       "      <td>22</td>\n",
       "      <td>HEALTH PROFESSIONALS</td>\n",
       "      <td>veterinary surgeon</td>\n",
       "      <td>Locum Veterinary Surgeon</td>\n",
       "      <td>Lancaster</td>\n",
       "      <td>[' Type: Small Animal Start Date: 6th January ...</td>\n",
       "      <td>()</td>\n",
       "      <td>[{'entity': driver's license, 'label': 'KNOWLE...</td>\n",
       "    </tr>\n",
       "  </tbody>\n",
       "</table>\n",
       "<p>3507 rows × 9 columns</p>\n",
       "</div>"
      ],
      "text/plain": [
       "      Unnamed: 0  ISCO                              major_job  \\\n",
       "0              0    21  SCIENCE AND ENGINEERING PROFESSIONALS   \n",
       "1              1    21  SCIENCE AND ENGINEERING PROFESSIONALS   \n",
       "2              2    21  SCIENCE AND ENGINEERING PROFESSIONALS   \n",
       "3              3    21  SCIENCE AND ENGINEERING PROFESSIONALS   \n",
       "4              4    21  SCIENCE AND ENGINEERING PROFESSIONALS   \n",
       "...          ...   ...                                    ...   \n",
       "3502        3502    22                   HEALTH PROFESSIONALS   \n",
       "3503        3503    22                   HEALTH PROFESSIONALS   \n",
       "3504        3504    22                   HEALTH PROFESSIONALS   \n",
       "3505        3505    22                   HEALTH PROFESSIONALS   \n",
       "3506        3506    22                   HEALTH PROFESSIONALS   \n",
       "\n",
       "                     job                                           position  \\\n",
       "0              physicist                      Accelerator Physicist id54315   \n",
       "1              physicist                      Accelerator Physicist id54315   \n",
       "2              physicist                      Accelerator Physicist id54315   \n",
       "3              physicist  Applied Physicist (Computing) (EP-LBC-2021-125...   \n",
       "4              physicist  Applied Physicist (Computing) (EP-LBC-2021-125...   \n",
       "...                  ...                                                ...   \n",
       "3502  veterinary surgeon                                 Veterinary Surgeon   \n",
       "3503  veterinary surgeon                       Permanent Veterinary Surgeon   \n",
       "3504  veterinary surgeon                                 Veterinary Surgeon   \n",
       "3505  veterinary surgeon                       Permanent Veterinary Surgeon   \n",
       "3506  veterinary surgeon                           Locum Veterinary Surgeon   \n",
       "\n",
       "                            location  \\\n",
       "0               Villigen PSI, Aargau   \n",
       "1               Villigen PSI, Aargau   \n",
       "2               Villigen PSI, Aargau   \n",
       "3                             Geneva   \n",
       "4                             Geneva   \n",
       "...                              ...   \n",
       "3502                         England   \n",
       "3503  Cricklewood, North West London   \n",
       "3504  Middlesbrough, North Yorkshire   \n",
       "3505      Harrogate, North Yorkshire   \n",
       "3506                       Lancaster   \n",
       "\n",
       "                                            description entities_auto_label  \\\n",
       "0     [' You have an academic degree in physics or e...                  ()   \n",
       "1     [' You have an academic degree in physics or e...                  ()   \n",
       "2     [' You have an academic degree in physics or e...                  ()   \n",
       "3     [' Be in charge of the development of applicat...    (Python, Python)   \n",
       "4     [' Be in charge of the development of applicat...    (Python, Python)   \n",
       "...                                                 ...                 ...   \n",
       "3502  [' Allocated CPD funding of 37.5 hours Excelle...                  ()   \n",
       "3503  [' Type: Small Animal Hours: Monday - Friday 4...                  ()   \n",
       "3504  [' Allocated CPD funding of 37.5 hours ', ' 5 ...                  ()   \n",
       "3505  [\" Experienced required: New Graduate level to...                  ()   \n",
       "3506  [' Type: Small Animal Start Date: 6th January ...                  ()   \n",
       "\n",
       "                                  entities_manual_label  \n",
       "0     [{'entity': physics, 'label': 'KNOWLEDGE'}, {'...  \n",
       "1     [{'entity': RICS, 'label': 'SKILL'}, {'entity'...  \n",
       "2     [{'entity': CIS, 'label': 'SKILL'}, {'entity':...  \n",
       "3     [{'entity': Python, 'label': 'SKILL'}, {'entit...  \n",
       "4                                                    []  \n",
       "...                                                 ...  \n",
       "3502  [{'entity': driving licence, 'label': 'KNOWLED...  \n",
       "3503  [{'entity': driver's license, 'label': 'KNOWLE...  \n",
       "3504  [{'entity': driver's license, 'label': 'KNOWLE...  \n",
       "3505  [{'entity': driver's license, 'label': 'KNOWLE...  \n",
       "3506  [{'entity': driver's license, 'label': 'KNOWLE...  \n",
       "\n",
       "[3507 rows x 9 columns]"
      ]
     },
     "execution_count": 361,
     "metadata": {},
     "output_type": "execute_result"
    }
   ],
   "source": [
    "df_JD"
   ]
  },
  {
   "cell_type": "code",
   "execution_count": null,
   "id": "a0fcc22f-5f8e-4c71-8002-d83bb96082af",
   "metadata": {},
   "outputs": [],
   "source": [
    "data_cleaned = df_JD.apply(get_dict, axis=1)"
   ]
  },
  {
   "cell_type": "code",
   "execution_count": null,
   "id": "74c1e184-7bc7-41bf-beeb-7bd79def4aa4",
   "metadata": {},
   "outputs": [],
   "source": [
    "data_CV = df_Resume.apply(get_dict_cv, axis=1)"
   ]
  },
  {
   "cell_type": "code",
   "execution_count": null,
   "id": "20324eae-2eaf-44c3-9885-69c111940672",
   "metadata": {},
   "outputs": [],
   "source": [
    "data_cleaned.job.unique()"
   ]
  },
  {
   "cell_type": "code",
   "execution_count": null,
   "id": "56785b6e-6af6-4040-8613-54c4674647e1",
   "metadata": {},
   "outputs": [],
   "source": [
    "fig = px.histogram(\n",
    "    data_cleaned, x=\"job\", title=\"Distribution of Jobs Categories\"\n",
    ").update_xaxes(categoryorder=\"total descending\")\n",
    "fig.show()"
   ]
  },
  {
   "cell_type": "code",
   "execution_count": null,
   "id": "06748b93-92b9-41f3-9ca2-7858e224b13d",
   "metadata": {},
   "outputs": [],
   "source": [
    "data_cleaned"
   ]
  },
  {
   "cell_type": "code",
   "execution_count": null,
   "id": "3db1128d-6063-4bf8-80bf-44adee45c961",
   "metadata": {},
   "outputs": [],
   "source": [
    "data_cleaned.loc[df_JD['job'] == 'mathematician', ['job', 'position', 'location', 'description',\t\n",
    "                              'entities_auto_label', 'entities_manual_label']]"
   ]
  },
  {
   "cell_type": "markdown",
   "id": "35051577-d3f2-4390-a4b9-49ff75143f8e",
   "metadata": {
    "tags": []
   },
   "source": [
    "### Workflow of functions\n",
    "\n"
   ]
  },
  {
   "cell_type": "code",
   "execution_count": null,
   "id": "225e61be-07f0-46e1-961e-61876fa972ad",
   "metadata": {},
   "outputs": [],
   "source": []
  },
  {
   "cell_type": "code",
   "execution_count": null,
   "id": "b906b125-55fd-4e14-a741-c76a4bbf70d5",
   "metadata": {},
   "outputs": [],
   "source": [
    "def extract_jd(inp = None):\n",
    "    df_JD = pd.read_csv(PATH_DATA)\n",
    "    \n",
    "    if inp == None:\n",
    "        data = df_JD.apply(get_dict, axis=1)\n",
    "        data.drop(columns = [\"ISCO\", \"major_job\"], inplace = True)\n",
    "    else:    \n",
    "        df_JD = df_JD.loc[df_JD['job'] == inp, ['job', 'position', 'location', 'description',\t\n",
    "                              'entities_auto_label', 'entities_manual_label']]\n",
    "        data = df_JD.apply(get_dict, axis=1)\n",
    "        data.reset_index(inplace = True)\n",
    "        \n",
    "    data.drop(columns = ['entities_auto_label', 'entities_manual_label'], inplace = True)\n",
    "    \n",
    "    return data"
   ]
  },
  {
   "cell_type": "code",
   "execution_count": 366,
   "id": "0a0e9d8a-6b96-43aa-9792-ab18fea7d945",
   "metadata": {},
   "outputs": [],
   "source": [
    "inp = 'mathematician'"
   ]
  },
  {
   "cell_type": "code",
   "execution_count": 407,
   "id": "7d7e2878-e0a1-47cb-abaf-55da3b66d6a0",
   "metadata": {},
   "outputs": [
    {
     "data": {
      "text/html": [
       "<div>\n",
       "<style scoped>\n",
       "    .dataframe tbody tr th:only-of-type {\n",
       "        vertical-align: middle;\n",
       "    }\n",
       "\n",
       "    .dataframe tbody tr th {\n",
       "        vertical-align: top;\n",
       "    }\n",
       "\n",
       "    .dataframe thead th {\n",
       "        text-align: right;\n",
       "    }\n",
       "</style>\n",
       "<table border=\"1\" class=\"dataframe\">\n",
       "  <thead>\n",
       "    <tr style=\"text-align: right;\">\n",
       "      <th></th>\n",
       "      <th>index</th>\n",
       "      <th>job</th>\n",
       "      <th>position</th>\n",
       "      <th>location</th>\n",
       "      <th>description</th>\n",
       "      <th>SKILL</th>\n",
       "      <th>KNOWLEDGE</th>\n",
       "      <th>MIN_EXP</th>\n",
       "      <th>LEVEL</th>\n",
       "    </tr>\n",
       "  </thead>\n",
       "  <tbody>\n",
       "    <tr>\n",
       "      <th>0</th>\n",
       "      <td>784</td>\n",
       "      <td>mathematician</td>\n",
       "      <td>Mathematician</td>\n",
       "      <td>Antrim</td>\n",
       "      <td>[' Design and development of data analysis tec...</td>\n",
       "      <td>[Excel, VB]</td>\n",
       "      <td>[data analysis, Technical writing, Mathematics...</td>\n",
       "      <td>[]</td>\n",
       "      <td>[]</td>\n",
       "    </tr>\n",
       "    <tr>\n",
       "      <th>1</th>\n",
       "      <td>785</td>\n",
       "      <td>mathematician</td>\n",
       "      <td>Mathematician</td>\n",
       "      <td>Antrim</td>\n",
       "      <td>[' Design and development of data analysis tec...</td>\n",
       "      <td>[QTS EWC]</td>\n",
       "      <td>[]</td>\n",
       "      <td>[]</td>\n",
       "      <td>[]</td>\n",
       "    </tr>\n",
       "    <tr>\n",
       "      <th>2</th>\n",
       "      <td>786</td>\n",
       "      <td>mathematician</td>\n",
       "      <td>Mathematician</td>\n",
       "      <td>Antrim</td>\n",
       "      <td>[' Design and development of data analysis tec...</td>\n",
       "      <td>[TGI, Share it, MS Excel, MS Power Point, Engl...</td>\n",
       "      <td>[Analyzing, pivot tables, dustrial software]</td>\n",
       "      <td>[]</td>\n",
       "      <td>[Bachelor’s]</td>\n",
       "    </tr>\n",
       "    <tr>\n",
       "      <th>3</th>\n",
       "      <td>787</td>\n",
       "      <td>mathematician</td>\n",
       "      <td>Mathematician</td>\n",
       "      <td>Krakow, Malopolskie</td>\n",
       "      <td>[' Quickly bring rough game ideas to life Twea...</td>\n",
       "      <td>[Java, JavaScript]</td>\n",
       "      <td>[Programming, mathematics, computer science, G...</td>\n",
       "      <td>[]</td>\n",
       "      <td>[Degree]</td>\n",
       "    </tr>\n",
       "    <tr>\n",
       "      <th>4</th>\n",
       "      <td>788</td>\n",
       "      <td>mathematician</td>\n",
       "      <td>Mathematician</td>\n",
       "      <td>Krakow, Malopolskie</td>\n",
       "      <td>[' Quickly bring rough game ideas to life Twea...</td>\n",
       "      <td>[QTS EWC, Java, JavaScript]</td>\n",
       "      <td>[]</td>\n",
       "      <td>[]</td>\n",
       "      <td>[]</td>\n",
       "    </tr>\n",
       "    <tr>\n",
       "      <th>5</th>\n",
       "      <td>789</td>\n",
       "      <td>mathematician</td>\n",
       "      <td>Mathematician</td>\n",
       "      <td>Krakow, Malopolskie</td>\n",
       "      <td>[' Quickly bring rough game ideas to life Twea...</td>\n",
       "      <td>[Java, JavaScript]</td>\n",
       "      <td>[Digital Media Ecosystem, administration]</td>\n",
       "      <td>[communication]</td>\n",
       "      <td>[Bachelor's]</td>\n",
       "    </tr>\n",
       "    <tr>\n",
       "      <th>6</th>\n",
       "      <td>790</td>\n",
       "      <td>mathematician</td>\n",
       "      <td>Mathematician</td>\n",
       "      <td>Krakow, Malopolskie</td>\n",
       "      <td>[' Quickly bring rough game ideas to life Twea...</td>\n",
       "      <td>[Java, JavaScript]</td>\n",
       "      <td>[Programming, mathematics, computer science, G...</td>\n",
       "      <td>[]</td>\n",
       "      <td>[Degree]</td>\n",
       "    </tr>\n",
       "    <tr>\n",
       "      <th>7</th>\n",
       "      <td>791</td>\n",
       "      <td>mathematician</td>\n",
       "      <td>Mathematician</td>\n",
       "      <td>Krakow, Malopolskie</td>\n",
       "      <td>[' Quickly bring rough game ideas to life Twea...</td>\n",
       "      <td>[QTS EWC, Java, JavaScript]</td>\n",
       "      <td>[]</td>\n",
       "      <td>[]</td>\n",
       "      <td>[]</td>\n",
       "    </tr>\n",
       "    <tr>\n",
       "      <th>8</th>\n",
       "      <td>792</td>\n",
       "      <td>mathematician</td>\n",
       "      <td>Mathematician</td>\n",
       "      <td>Krakow, Malopolskie</td>\n",
       "      <td>[' Quickly bring rough game ideas to life Twea...</td>\n",
       "      <td>[pivot tables, Arts degree, Microsoft Word, Ex...</td>\n",
       "      <td>[Media Director, Science, marketing, communica...</td>\n",
       "      <td>[]</td>\n",
       "      <td>[Bachelor]</td>\n",
       "    </tr>\n",
       "    <tr>\n",
       "      <th>9</th>\n",
       "      <td>793</td>\n",
       "      <td>mathematician</td>\n",
       "      <td>Mathematician or Computer Scientist researcher</td>\n",
       "      <td>Barcelona</td>\n",
       "      <td>[' Motivation letter Curriculum vitae includin...</td>\n",
       "      <td>[QTS EWC]</td>\n",
       "      <td>[]</td>\n",
       "      <td>[]</td>\n",
       "      <td>[]</td>\n",
       "    </tr>\n",
       "    <tr>\n",
       "      <th>10</th>\n",
       "      <td>794</td>\n",
       "      <td>mathematician</td>\n",
       "      <td>Mathematician or Computer Scientist researcher</td>\n",
       "      <td>Barcelona</td>\n",
       "      <td>[' Motivation letter Curriculum vitae includin...</td>\n",
       "      <td>[Microsoft Excel, Word, PowerPoint, English]</td>\n",
       "      <td>[planning]</td>\n",
       "      <td>[]</td>\n",
       "      <td>[]</td>\n",
       "    </tr>\n",
       "    <tr>\n",
       "      <th>11</th>\n",
       "      <td>795</td>\n",
       "      <td>mathematician</td>\n",
       "      <td>Mathematician</td>\n",
       "      <td>Antrim</td>\n",
       "      <td>[' Design and development of data analysis tec...</td>\n",
       "      <td>[Excel, VB]</td>\n",
       "      <td>[data analysis, Technical writing, Mathematics...</td>\n",
       "      <td>[]</td>\n",
       "      <td>[]</td>\n",
       "    </tr>\n",
       "    <tr>\n",
       "      <th>12</th>\n",
       "      <td>796</td>\n",
       "      <td>mathematician</td>\n",
       "      <td>Mathematician</td>\n",
       "      <td>Antrim</td>\n",
       "      <td>[' Design and development of data analysis tec...</td>\n",
       "      <td>[QTS EWC]</td>\n",
       "      <td>[]</td>\n",
       "      <td>[]</td>\n",
       "      <td>[]</td>\n",
       "    </tr>\n",
       "    <tr>\n",
       "      <th>13</th>\n",
       "      <td>797</td>\n",
       "      <td>mathematician</td>\n",
       "      <td>Mathematician</td>\n",
       "      <td>Antrim</td>\n",
       "      <td>[' Design and development of data analysis tec...</td>\n",
       "      <td>[German, driver's]</td>\n",
       "      <td>[Digital Media, English, MS Office]</td>\n",
       "      <td>[Bachelor's]</td>\n",
       "      <td>[Marketing]</td>\n",
       "    </tr>\n",
       "    <tr>\n",
       "      <th>14</th>\n",
       "      <td>798</td>\n",
       "      <td>mathematician</td>\n",
       "      <td>Senior Mathematician</td>\n",
       "      <td>Sliema, Malta Island</td>\n",
       "      <td>[' Quickly bring rough game ideas to life Twea...</td>\n",
       "      <td>[Java, English, MS Excel]</td>\n",
       "      <td>[maths, computer science]</td>\n",
       "      <td>[]</td>\n",
       "      <td>[University]</td>\n",
       "    </tr>\n",
       "    <tr>\n",
       "      <th>15</th>\n",
       "      <td>799</td>\n",
       "      <td>mathematician</td>\n",
       "      <td>Senior Mathematician</td>\n",
       "      <td>Sliema, Malta Island</td>\n",
       "      <td>[' Quickly bring rough game ideas to life Twea...</td>\n",
       "      <td>[Java]</td>\n",
       "      <td>[]</td>\n",
       "      <td>[]</td>\n",
       "      <td>[QTS]</td>\n",
       "    </tr>\n",
       "    <tr>\n",
       "      <th>16</th>\n",
       "      <td>800</td>\n",
       "      <td>mathematician</td>\n",
       "      <td>Senior Mathematician</td>\n",
       "      <td>Sliema, Malta Island</td>\n",
       "      <td>[' Quickly bring rough game ideas to life Twea...</td>\n",
       "      <td>[German, driver’s, Java]</td>\n",
       "      <td>[Digital Media, English, MS Office]</td>\n",
       "      <td>[Bachelor's]</td>\n",
       "      <td>[Marketing]</td>\n",
       "    </tr>\n",
       "    <tr>\n",
       "      <th>17</th>\n",
       "      <td>801</td>\n",
       "      <td>mathematician</td>\n",
       "      <td>Mathematician/Natural Scientist (m/f/d) for Ma...</td>\n",
       "      <td>Germany</td>\n",
       "      <td>[' You will be part of our Consulting Line Dat...</td>\n",
       "      <td>[IoT, Mannheim, English, German]</td>\n",
       "      <td>[artificial intelligence, Flex Office, mathema...</td>\n",
       "      <td>[]</td>\n",
       "      <td>[]</td>\n",
       "    </tr>\n",
       "    <tr>\n",
       "      <th>18</th>\n",
       "      <td>802</td>\n",
       "      <td>mathematician</td>\n",
       "      <td>Mathematician/Natural Scientist (m/f/d) for Ma...</td>\n",
       "      <td>Germany</td>\n",
       "      <td>[' You will be part of our Consulting Line Dat...</td>\n",
       "      <td>[Display, SEM, SEO, Microsoft Office Suite, Po...</td>\n",
       "      <td>[Marketing]</td>\n",
       "      <td>[]</td>\n",
       "      <td>[Bachelor’s]</td>\n",
       "    </tr>\n",
       "    <tr>\n",
       "      <th>19</th>\n",
       "      <td>803</td>\n",
       "      <td>mathematician</td>\n",
       "      <td>Theoretical physicist / Applied Mathematician ...</td>\n",
       "      <td>Dättwil, Aargau</td>\n",
       "      <td>[' Developing new approaches and models in the...</td>\n",
       "      <td>[English, Publishing]</td>\n",
       "      <td>[mathematics, physics, statistics]</td>\n",
       "      <td>[]</td>\n",
       "      <td>[Ph.D]</td>\n",
       "    </tr>\n",
       "    <tr>\n",
       "      <th>20</th>\n",
       "      <td>804</td>\n",
       "      <td>mathematician</td>\n",
       "      <td>Theoretical physicist / Applied Mathematician ...</td>\n",
       "      <td>Dättwil, Aargau</td>\n",
       "      <td>[' Developing new approaches and models in the...</td>\n",
       "      <td>[Publishing]</td>\n",
       "      <td>[aching - experience]</td>\n",
       "      <td>[]</td>\n",
       "      <td>[]</td>\n",
       "    </tr>\n",
       "    <tr>\n",
       "      <th>21</th>\n",
       "      <td>805</td>\n",
       "      <td>mathematician</td>\n",
       "      <td>Theoretical physicist / Applied Mathematician ...</td>\n",
       "      <td>Dättwil, Aargau</td>\n",
       "      <td>[' Developing new approaches and models in the...</td>\n",
       "      <td>[Publishing]</td>\n",
       "      <td>[]</td>\n",
       "      <td>[]</td>\n",
       "      <td>[]</td>\n",
       "    </tr>\n",
       "    <tr>\n",
       "      <th>22</th>\n",
       "      <td>806</td>\n",
       "      <td>mathematician</td>\n",
       "      <td>Game Mathematician (Quickspin)</td>\n",
       "      <td>Kiev</td>\n",
       "      <td>[' University degree in statistics, mathematic...</td>\n",
       "      <td>[English, large project]</td>\n",
       "      <td>[statistics, mathematics, computer science, Ja...</td>\n",
       "      <td>[mathematical models]</td>\n",
       "      <td>[University]</td>\n",
       "    </tr>\n",
       "    <tr>\n",
       "      <th>23</th>\n",
       "      <td>807</td>\n",
       "      <td>mathematician</td>\n",
       "      <td>Game Mathematician (Quickspin)</td>\n",
       "      <td>Kiev</td>\n",
       "      <td>[' University degree in statistics, mathematic...</td>\n",
       "      <td>[Java]</td>\n",
       "      <td>[aching - experience]</td>\n",
       "      <td>[]</td>\n",
       "      <td>[]</td>\n",
       "    </tr>\n",
       "    <tr>\n",
       "      <th>24</th>\n",
       "      <td>808</td>\n",
       "      <td>mathematician</td>\n",
       "      <td>Game Mathematician (Quickspin)</td>\n",
       "      <td>Kiev</td>\n",
       "      <td>[' University degree in statistics, mathematic...</td>\n",
       "      <td>[Social, Java]</td>\n",
       "      <td>[Search Marketing, Analytics]</td>\n",
       "      <td>[Media Planning]</td>\n",
       "      <td>[]</td>\n",
       "    </tr>\n",
       "    <tr>\n",
       "      <th>25</th>\n",
       "      <td>809</td>\n",
       "      <td>mathematician</td>\n",
       "      <td>Computer scientist, mathematician, physicist o...</td>\n",
       "      <td>Köln, Nordrhein-Westfalen</td>\n",
       "      <td>[' Development processes and methods for safet...</td>\n",
       "      <td>[]</td>\n",
       "      <td>[AI-based]</td>\n",
       "      <td>[]</td>\n",
       "      <td>[]</td>\n",
       "    </tr>\n",
       "    <tr>\n",
       "      <th>26</th>\n",
       "      <td>810</td>\n",
       "      <td>mathematician</td>\n",
       "      <td>Computer scientist, mathematician, physicist o...</td>\n",
       "      <td>Köln, Nordrhein-Westfalen</td>\n",
       "      <td>[' Development processes and methods for safet...</td>\n",
       "      <td>[]</td>\n",
       "      <td>[]</td>\n",
       "      <td>[]</td>\n",
       "      <td>[]</td>\n",
       "    </tr>\n",
       "    <tr>\n",
       "      <th>27</th>\n",
       "      <td>811</td>\n",
       "      <td>mathematician</td>\n",
       "      <td>Computer scientist, mathematician, physicist o...</td>\n",
       "      <td>Köln, Nordrhein-Westfalen</td>\n",
       "      <td>[' Development processes and methods for safet...</td>\n",
       "      <td>[Dublin, UX, Google Ads, Amazon, Microsoft Adv...</td>\n",
       "      <td>[digital marketing, Lisboa, Software Developme...</td>\n",
       "      <td>[carrying out these]</td>\n",
       "      <td>[]</td>\n",
       "    </tr>\n",
       "    <tr>\n",
       "      <th>28</th>\n",
       "      <td>812</td>\n",
       "      <td>mathematician</td>\n",
       "      <td>Games Mathematician</td>\n",
       "      <td>London</td>\n",
       "      <td>[' Develop maths models for gambling games and...</td>\n",
       "      <td>[]</td>\n",
       "      <td>[maths]</td>\n",
       "      <td>[]</td>\n",
       "      <td>[Degree]</td>\n",
       "    </tr>\n",
       "    <tr>\n",
       "      <th>29</th>\n",
       "      <td>813</td>\n",
       "      <td>mathematician</td>\n",
       "      <td>Games Mathematician</td>\n",
       "      <td>London</td>\n",
       "      <td>[' Develop maths models for gambling games and...</td>\n",
       "      <td>[]</td>\n",
       "      <td>[]</td>\n",
       "      <td>[]</td>\n",
       "      <td>[]</td>\n",
       "    </tr>\n",
       "    <tr>\n",
       "      <th>30</th>\n",
       "      <td>814</td>\n",
       "      <td>mathematician</td>\n",
       "      <td>Games Mathematician</td>\n",
       "      <td>London</td>\n",
       "      <td>[' Develop maths models for gambling games and...</td>\n",
       "      <td>[German, English]</td>\n",
       "      <td>[Direct, digital marketing channels]</td>\n",
       "      <td>[]</td>\n",
       "      <td>[]</td>\n",
       "    </tr>\n",
       "    <tr>\n",
       "      <th>31</th>\n",
       "      <td>815</td>\n",
       "      <td>mathematician</td>\n",
       "      <td>Computer scientist, mathematician, physicist, ...</td>\n",
       "      <td>Ulm, Baden-Württemberg</td>\n",
       "      <td>[' development processes and methods for safet...</td>\n",
       "      <td>[]</td>\n",
       "      <td>[AI-based]</td>\n",
       "      <td>[]</td>\n",
       "      <td>[]</td>\n",
       "    </tr>\n",
       "    <tr>\n",
       "      <th>32</th>\n",
       "      <td>816</td>\n",
       "      <td>mathematician</td>\n",
       "      <td>Computer scientist, mathematician, physicist, ...</td>\n",
       "      <td>Ulm, Baden-Württemberg</td>\n",
       "      <td>[' development processes and methods for safet...</td>\n",
       "      <td>[]</td>\n",
       "      <td>[aching - experience]</td>\n",
       "      <td>[]</td>\n",
       "      <td>[]</td>\n",
       "    </tr>\n",
       "    <tr>\n",
       "      <th>33</th>\n",
       "      <td>817</td>\n",
       "      <td>mathematician</td>\n",
       "      <td>Computer scientist, mathematician, physicist, ...</td>\n",
       "      <td>Ulm, Baden-Württemberg</td>\n",
       "      <td>[' development processes and methods for safet...</td>\n",
       "      <td>[presentation, German, English, Analytics]</td>\n",
       "      <td>[digital media planning, project management, d...</td>\n",
       "      <td>[]</td>\n",
       "      <td>[]</td>\n",
       "    </tr>\n",
       "    <tr>\n",
       "      <th>34</th>\n",
       "      <td>818</td>\n",
       "      <td>mathematician</td>\n",
       "      <td>Computer scientist, Mathematician, Physicist, ...</td>\n",
       "      <td>Ulm, Baden-Württemberg</td>\n",
       "      <td>[' development processes and methods for safet...</td>\n",
       "      <td>[]</td>\n",
       "      <td>[AI-based]</td>\n",
       "      <td>[]</td>\n",
       "      <td>[]</td>\n",
       "    </tr>\n",
       "    <tr>\n",
       "      <th>35</th>\n",
       "      <td>819</td>\n",
       "      <td>mathematician</td>\n",
       "      <td>Computer scientist, Mathematician, Physicist, ...</td>\n",
       "      <td>Ulm, Baden-Württemberg</td>\n",
       "      <td>[' development processes and methods for safet...</td>\n",
       "      <td>[]</td>\n",
       "      <td>[aching - experience]</td>\n",
       "      <td>[]</td>\n",
       "      <td>[]</td>\n",
       "    </tr>\n",
       "    <tr>\n",
       "      <th>36</th>\n",
       "      <td>820</td>\n",
       "      <td>mathematician</td>\n",
       "      <td>Computer scientist, Mathematician, Physicist, ...</td>\n",
       "      <td>Ulm, Baden-Württemberg</td>\n",
       "      <td>[' development processes and methods for safet...</td>\n",
       "      <td>[German, English]</td>\n",
       "      <td>[Direct, digital marketing channels]</td>\n",
       "      <td>[]</td>\n",
       "      <td>[]</td>\n",
       "    </tr>\n",
       "    <tr>\n",
       "      <th>37</th>\n",
       "      <td>821</td>\n",
       "      <td>mathematician</td>\n",
       "      <td>Computer scientist, Mathematician, Physicist, ...</td>\n",
       "      <td>Ulm, Baden-Württemberg</td>\n",
       "      <td>[' development processes and methods for safet...</td>\n",
       "      <td>[]</td>\n",
       "      <td>[AI-based]</td>\n",
       "      <td>[]</td>\n",
       "      <td>[]</td>\n",
       "    </tr>\n",
       "    <tr>\n",
       "      <th>38</th>\n",
       "      <td>822</td>\n",
       "      <td>mathematician</td>\n",
       "      <td>Computer scientist, Mathematician, Physicist, ...</td>\n",
       "      <td>Ulm, Baden-Württemberg</td>\n",
       "      <td>[' development processes and methods for safet...</td>\n",
       "      <td>[]</td>\n",
       "      <td>[aching - experience]</td>\n",
       "      <td>[]</td>\n",
       "      <td>[]</td>\n",
       "    </tr>\n",
       "    <tr>\n",
       "      <th>39</th>\n",
       "      <td>823</td>\n",
       "      <td>mathematician</td>\n",
       "      <td>Computer scientist, Mathematician, Physicist, ...</td>\n",
       "      <td>Ulm, Baden-Württemberg</td>\n",
       "      <td>[' development processes and methods for safet...</td>\n",
       "      <td>[presentation, German, English, Analytics]</td>\n",
       "      <td>[digital media planning, project management, d...</td>\n",
       "      <td>[]</td>\n",
       "      <td>[]</td>\n",
       "    </tr>\n",
       "    <tr>\n",
       "      <th>40</th>\n",
       "      <td>824</td>\n",
       "      <td>mathematician</td>\n",
       "      <td>Computer scientist, Mathematician, Physicist, ...</td>\n",
       "      <td>Ulm, Baden-Württemberg</td>\n",
       "      <td>[' development processes and methods for safet...</td>\n",
       "      <td>[]</td>\n",
       "      <td>[AI-based]</td>\n",
       "      <td>[]</td>\n",
       "      <td>[]</td>\n",
       "    </tr>\n",
       "    <tr>\n",
       "      <th>41</th>\n",
       "      <td>825</td>\n",
       "      <td>mathematician</td>\n",
       "      <td>Computer scientist, Mathematician, Physicist, ...</td>\n",
       "      <td>Ulm, Baden-Württemberg</td>\n",
       "      <td>[' development processes and methods for safet...</td>\n",
       "      <td>[]</td>\n",
       "      <td>[aching - experience]</td>\n",
       "      <td>[]</td>\n",
       "      <td>[]</td>\n",
       "    </tr>\n",
       "    <tr>\n",
       "      <th>42</th>\n",
       "      <td>826</td>\n",
       "      <td>mathematician</td>\n",
       "      <td>Computer scientist, Mathematician, Physicist, ...</td>\n",
       "      <td>Ulm, Baden-Württemberg</td>\n",
       "      <td>[' development processes and methods for safet...</td>\n",
       "      <td>[DSPs, Microsoft Excel, PowerPoint]</td>\n",
       "      <td>[digital media channels, SSPs]</td>\n",
       "      <td>[]</td>\n",
       "      <td>[]</td>\n",
       "    </tr>\n",
       "    <tr>\n",
       "      <th>43</th>\n",
       "      <td>827</td>\n",
       "      <td>mathematician</td>\n",
       "      <td>Computer scientist, Mathematician, Physicist, ...</td>\n",
       "      <td>Ulm, Baden-Württemberg</td>\n",
       "      <td>[' development processes and methods for safet...</td>\n",
       "      <td>[]</td>\n",
       "      <td>[AI-based]</td>\n",
       "      <td>[]</td>\n",
       "      <td>[]</td>\n",
       "    </tr>\n",
       "    <tr>\n",
       "      <th>44</th>\n",
       "      <td>828</td>\n",
       "      <td>mathematician</td>\n",
       "      <td>Computer scientist, Mathematician, Physicist, ...</td>\n",
       "      <td>Ulm, Baden-Württemberg</td>\n",
       "      <td>[' development processes and methods for safet...</td>\n",
       "      <td>[]</td>\n",
       "      <td>[aching - experience]</td>\n",
       "      <td>[]</td>\n",
       "      <td>[]</td>\n",
       "    </tr>\n",
       "    <tr>\n",
       "      <th>45</th>\n",
       "      <td>829</td>\n",
       "      <td>mathematician</td>\n",
       "      <td>Computer scientist, Mathematician, Physicist, ...</td>\n",
       "      <td>Ulm, Baden-Württemberg</td>\n",
       "      <td>[' development processes and methods for safet...</td>\n",
       "      <td>[]</td>\n",
       "      <td>[Account Director, Digital media planning, piv...</td>\n",
       "      <td>[]</td>\n",
       "      <td>[]</td>\n",
       "    </tr>\n",
       "    <tr>\n",
       "      <th>46</th>\n",
       "      <td>830</td>\n",
       "      <td>mathematician</td>\n",
       "      <td>Computer scientist, mathematician, physicist, ...</td>\n",
       "      <td>Ulm, Baden-Württemberg</td>\n",
       "      <td>[' development processes and methods for safet...</td>\n",
       "      <td>[]</td>\n",
       "      <td>[AI-based]</td>\n",
       "      <td>[]</td>\n",
       "      <td>[]</td>\n",
       "    </tr>\n",
       "    <tr>\n",
       "      <th>47</th>\n",
       "      <td>831</td>\n",
       "      <td>mathematician</td>\n",
       "      <td>Computer scientist, mathematician, physicist, ...</td>\n",
       "      <td>Ulm, Baden-Württemberg</td>\n",
       "      <td>[' development processes and methods for safet...</td>\n",
       "      <td>[]</td>\n",
       "      <td>[aching - experience]</td>\n",
       "      <td>[]</td>\n",
       "      <td>[]</td>\n",
       "    </tr>\n",
       "    <tr>\n",
       "      <th>48</th>\n",
       "      <td>832</td>\n",
       "      <td>mathematician</td>\n",
       "      <td>Mathematician (m/f/d)</td>\n",
       "      <td>Dresden, Sachsen</td>\n",
       "      <td>[' We develop software solutions for the semic...</td>\n",
       "      <td>[WPF, ASP.NET Core, Entity Framework Core, MS-...</td>\n",
       "      <td>[English]</td>\n",
       "      <td>[]</td>\n",
       "      <td>[]</td>\n",
       "    </tr>\n",
       "    <tr>\n",
       "      <th>49</th>\n",
       "      <td>833</td>\n",
       "      <td>mathematician</td>\n",
       "      <td>Mathematician (m/f/d)</td>\n",
       "      <td>Dresden, Sachsen</td>\n",
       "      <td>[' We develop software solutions for the semic...</td>\n",
       "      <td>[C, Java]</td>\n",
       "      <td>[aching - experience]</td>\n",
       "      <td>[]</td>\n",
       "      <td>[]</td>\n",
       "    </tr>\n",
       "  </tbody>\n",
       "</table>\n",
       "</div>"
      ],
      "text/plain": [
       "    index            job                                           position  \\\n",
       "0     784  mathematician                                      Mathematician   \n",
       "1     785  mathematician                                      Mathematician   \n",
       "2     786  mathematician                                      Mathematician   \n",
       "3     787  mathematician                                      Mathematician   \n",
       "4     788  mathematician                                      Mathematician   \n",
       "5     789  mathematician                                      Mathematician   \n",
       "6     790  mathematician                                      Mathematician   \n",
       "7     791  mathematician                                      Mathematician   \n",
       "8     792  mathematician                                      Mathematician   \n",
       "9     793  mathematician     Mathematician or Computer Scientist researcher   \n",
       "10    794  mathematician     Mathematician or Computer Scientist researcher   \n",
       "11    795  mathematician                                      Mathematician   \n",
       "12    796  mathematician                                      Mathematician   \n",
       "13    797  mathematician                                      Mathematician   \n",
       "14    798  mathematician                               Senior Mathematician   \n",
       "15    799  mathematician                               Senior Mathematician   \n",
       "16    800  mathematician                               Senior Mathematician   \n",
       "17    801  mathematician  Mathematician/Natural Scientist (m/f/d) for Ma...   \n",
       "18    802  mathematician  Mathematician/Natural Scientist (m/f/d) for Ma...   \n",
       "19    803  mathematician  Theoretical physicist / Applied Mathematician ...   \n",
       "20    804  mathematician  Theoretical physicist / Applied Mathematician ...   \n",
       "21    805  mathematician  Theoretical physicist / Applied Mathematician ...   \n",
       "22    806  mathematician                     Game Mathematician (Quickspin)   \n",
       "23    807  mathematician                     Game Mathematician (Quickspin)   \n",
       "24    808  mathematician                     Game Mathematician (Quickspin)   \n",
       "25    809  mathematician  Computer scientist, mathematician, physicist o...   \n",
       "26    810  mathematician  Computer scientist, mathematician, physicist o...   \n",
       "27    811  mathematician  Computer scientist, mathematician, physicist o...   \n",
       "28    812  mathematician                                Games Mathematician   \n",
       "29    813  mathematician                                Games Mathematician   \n",
       "30    814  mathematician                                Games Mathematician   \n",
       "31    815  mathematician  Computer scientist, mathematician, physicist, ...   \n",
       "32    816  mathematician  Computer scientist, mathematician, physicist, ...   \n",
       "33    817  mathematician  Computer scientist, mathematician, physicist, ...   \n",
       "34    818  mathematician  Computer scientist, Mathematician, Physicist, ...   \n",
       "35    819  mathematician  Computer scientist, Mathematician, Physicist, ...   \n",
       "36    820  mathematician  Computer scientist, Mathematician, Physicist, ...   \n",
       "37    821  mathematician  Computer scientist, Mathematician, Physicist, ...   \n",
       "38    822  mathematician  Computer scientist, Mathematician, Physicist, ...   \n",
       "39    823  mathematician  Computer scientist, Mathematician, Physicist, ...   \n",
       "40    824  mathematician  Computer scientist, Mathematician, Physicist, ...   \n",
       "41    825  mathematician  Computer scientist, Mathematician, Physicist, ...   \n",
       "42    826  mathematician  Computer scientist, Mathematician, Physicist, ...   \n",
       "43    827  mathematician  Computer scientist, Mathematician, Physicist, ...   \n",
       "44    828  mathematician  Computer scientist, Mathematician, Physicist, ...   \n",
       "45    829  mathematician  Computer scientist, Mathematician, Physicist, ...   \n",
       "46    830  mathematician  Computer scientist, mathematician, physicist, ...   \n",
       "47    831  mathematician  Computer scientist, mathematician, physicist, ...   \n",
       "48    832  mathematician                              Mathematician (m/f/d)   \n",
       "49    833  mathematician                              Mathematician (m/f/d)   \n",
       "\n",
       "                     location  \\\n",
       "0                      Antrim   \n",
       "1                      Antrim   \n",
       "2                      Antrim   \n",
       "3         Krakow, Malopolskie   \n",
       "4         Krakow, Malopolskie   \n",
       "5         Krakow, Malopolskie   \n",
       "6         Krakow, Malopolskie   \n",
       "7         Krakow, Malopolskie   \n",
       "8         Krakow, Malopolskie   \n",
       "9                   Barcelona   \n",
       "10                  Barcelona   \n",
       "11                     Antrim   \n",
       "12                     Antrim   \n",
       "13                     Antrim   \n",
       "14       Sliema, Malta Island   \n",
       "15       Sliema, Malta Island   \n",
       "16       Sliema, Malta Island   \n",
       "17                    Germany   \n",
       "18                    Germany   \n",
       "19            Dättwil, Aargau   \n",
       "20            Dättwil, Aargau   \n",
       "21            Dättwil, Aargau   \n",
       "22                       Kiev   \n",
       "23                       Kiev   \n",
       "24                       Kiev   \n",
       "25  Köln, Nordrhein-Westfalen   \n",
       "26  Köln, Nordrhein-Westfalen   \n",
       "27  Köln, Nordrhein-Westfalen   \n",
       "28                     London   \n",
       "29                     London   \n",
       "30                     London   \n",
       "31     Ulm, Baden-Württemberg   \n",
       "32     Ulm, Baden-Württemberg   \n",
       "33     Ulm, Baden-Württemberg   \n",
       "34     Ulm, Baden-Württemberg   \n",
       "35     Ulm, Baden-Württemberg   \n",
       "36     Ulm, Baden-Württemberg   \n",
       "37     Ulm, Baden-Württemberg   \n",
       "38     Ulm, Baden-Württemberg   \n",
       "39     Ulm, Baden-Württemberg   \n",
       "40     Ulm, Baden-Württemberg   \n",
       "41     Ulm, Baden-Württemberg   \n",
       "42     Ulm, Baden-Württemberg   \n",
       "43     Ulm, Baden-Württemberg   \n",
       "44     Ulm, Baden-Württemberg   \n",
       "45     Ulm, Baden-Württemberg   \n",
       "46     Ulm, Baden-Württemberg   \n",
       "47     Ulm, Baden-Württemberg   \n",
       "48           Dresden, Sachsen   \n",
       "49           Dresden, Sachsen   \n",
       "\n",
       "                                          description  \\\n",
       "0   [' Design and development of data analysis tec...   \n",
       "1   [' Design and development of data analysis tec...   \n",
       "2   [' Design and development of data analysis tec...   \n",
       "3   [' Quickly bring rough game ideas to life Twea...   \n",
       "4   [' Quickly bring rough game ideas to life Twea...   \n",
       "5   [' Quickly bring rough game ideas to life Twea...   \n",
       "6   [' Quickly bring rough game ideas to life Twea...   \n",
       "7   [' Quickly bring rough game ideas to life Twea...   \n",
       "8   [' Quickly bring rough game ideas to life Twea...   \n",
       "9   [' Motivation letter Curriculum vitae includin...   \n",
       "10  [' Motivation letter Curriculum vitae includin...   \n",
       "11  [' Design and development of data analysis tec...   \n",
       "12  [' Design and development of data analysis tec...   \n",
       "13  [' Design and development of data analysis tec...   \n",
       "14  [' Quickly bring rough game ideas to life Twea...   \n",
       "15  [' Quickly bring rough game ideas to life Twea...   \n",
       "16  [' Quickly bring rough game ideas to life Twea...   \n",
       "17  [' You will be part of our Consulting Line Dat...   \n",
       "18  [' You will be part of our Consulting Line Dat...   \n",
       "19  [' Developing new approaches and models in the...   \n",
       "20  [' Developing new approaches and models in the...   \n",
       "21  [' Developing new approaches and models in the...   \n",
       "22  [' University degree in statistics, mathematic...   \n",
       "23  [' University degree in statistics, mathematic...   \n",
       "24  [' University degree in statistics, mathematic...   \n",
       "25  [' Development processes and methods for safet...   \n",
       "26  [' Development processes and methods for safet...   \n",
       "27  [' Development processes and methods for safet...   \n",
       "28  [' Develop maths models for gambling games and...   \n",
       "29  [' Develop maths models for gambling games and...   \n",
       "30  [' Develop maths models for gambling games and...   \n",
       "31  [' development processes and methods for safet...   \n",
       "32  [' development processes and methods for safet...   \n",
       "33  [' development processes and methods for safet...   \n",
       "34  [' development processes and methods for safet...   \n",
       "35  [' development processes and methods for safet...   \n",
       "36  [' development processes and methods for safet...   \n",
       "37  [' development processes and methods for safet...   \n",
       "38  [' development processes and methods for safet...   \n",
       "39  [' development processes and methods for safet...   \n",
       "40  [' development processes and methods for safet...   \n",
       "41  [' development processes and methods for safet...   \n",
       "42  [' development processes and methods for safet...   \n",
       "43  [' development processes and methods for safet...   \n",
       "44  [' development processes and methods for safet...   \n",
       "45  [' development processes and methods for safet...   \n",
       "46  [' development processes and methods for safet...   \n",
       "47  [' development processes and methods for safet...   \n",
       "48  [' We develop software solutions for the semic...   \n",
       "49  [' We develop software solutions for the semic...   \n",
       "\n",
       "                                                SKILL  \\\n",
       "0                                         [Excel, VB]   \n",
       "1                                           [QTS EWC]   \n",
       "2   [TGI, Share it, MS Excel, MS Power Point, Engl...   \n",
       "3                                  [Java, JavaScript]   \n",
       "4                         [QTS EWC, Java, JavaScript]   \n",
       "5                                  [Java, JavaScript]   \n",
       "6                                  [Java, JavaScript]   \n",
       "7                         [QTS EWC, Java, JavaScript]   \n",
       "8   [pivot tables, Arts degree, Microsoft Word, Ex...   \n",
       "9                                           [QTS EWC]   \n",
       "10       [Microsoft Excel, Word, PowerPoint, English]   \n",
       "11                                        [Excel, VB]   \n",
       "12                                          [QTS EWC]   \n",
       "13                                 [German, driver's]   \n",
       "14                          [Java, English, MS Excel]   \n",
       "15                                             [Java]   \n",
       "16                           [German, driver’s, Java]   \n",
       "17                   [IoT, Mannheim, English, German]   \n",
       "18  [Display, SEM, SEO, Microsoft Office Suite, Po...   \n",
       "19                              [English, Publishing]   \n",
       "20                                       [Publishing]   \n",
       "21                                       [Publishing]   \n",
       "22                           [English, large project]   \n",
       "23                                             [Java]   \n",
       "24                                     [Social, Java]   \n",
       "25                                                 []   \n",
       "26                                                 []   \n",
       "27  [Dublin, UX, Google Ads, Amazon, Microsoft Adv...   \n",
       "28                                                 []   \n",
       "29                                                 []   \n",
       "30                                  [German, English]   \n",
       "31                                                 []   \n",
       "32                                                 []   \n",
       "33         [presentation, German, English, Analytics]   \n",
       "34                                                 []   \n",
       "35                                                 []   \n",
       "36                                  [German, English]   \n",
       "37                                                 []   \n",
       "38                                                 []   \n",
       "39         [presentation, German, English, Analytics]   \n",
       "40                                                 []   \n",
       "41                                                 []   \n",
       "42                [DSPs, Microsoft Excel, PowerPoint]   \n",
       "43                                                 []   \n",
       "44                                                 []   \n",
       "45                                                 []   \n",
       "46                                                 []   \n",
       "47                                                 []   \n",
       "48  [WPF, ASP.NET Core, Entity Framework Core, MS-...   \n",
       "49                                          [C, Java]   \n",
       "\n",
       "                                            KNOWLEDGE                MIN_EXP  \\\n",
       "0   [data analysis, Technical writing, Mathematics...                     []   \n",
       "1                                                  []                     []   \n",
       "2        [Analyzing, pivot tables, dustrial software]                     []   \n",
       "3   [Programming, mathematics, computer science, G...                     []   \n",
       "4                                                  []                     []   \n",
       "5           [Digital Media Ecosystem, administration]        [communication]   \n",
       "6   [Programming, mathematics, computer science, G...                     []   \n",
       "7                                                  []                     []   \n",
       "8   [Media Director, Science, marketing, communica...                     []   \n",
       "9                                                  []                     []   \n",
       "10                                         [planning]                     []   \n",
       "11  [data analysis, Technical writing, Mathematics...                     []   \n",
       "12                                                 []                     []   \n",
       "13                [Digital Media, English, MS Office]           [Bachelor's]   \n",
       "14                          [maths, computer science]                     []   \n",
       "15                                                 []                     []   \n",
       "16                [Digital Media, English, MS Office]           [Bachelor's]   \n",
       "17  [artificial intelligence, Flex Office, mathema...                     []   \n",
       "18                                        [Marketing]                     []   \n",
       "19                 [mathematics, physics, statistics]                     []   \n",
       "20                              [aching - experience]                     []   \n",
       "21                                                 []                     []   \n",
       "22  [statistics, mathematics, computer science, Ja...  [mathematical models]   \n",
       "23                              [aching - experience]                     []   \n",
       "24                      [Search Marketing, Analytics]       [Media Planning]   \n",
       "25                                         [AI-based]                     []   \n",
       "26                                                 []                     []   \n",
       "27  [digital marketing, Lisboa, Software Developme...   [carrying out these]   \n",
       "28                                            [maths]                     []   \n",
       "29                                                 []                     []   \n",
       "30               [Direct, digital marketing channels]                     []   \n",
       "31                                         [AI-based]                     []   \n",
       "32                              [aching - experience]                     []   \n",
       "33  [digital media planning, project management, d...                     []   \n",
       "34                                         [AI-based]                     []   \n",
       "35                              [aching - experience]                     []   \n",
       "36               [Direct, digital marketing channels]                     []   \n",
       "37                                         [AI-based]                     []   \n",
       "38                              [aching - experience]                     []   \n",
       "39  [digital media planning, project management, d...                     []   \n",
       "40                                         [AI-based]                     []   \n",
       "41                              [aching - experience]                     []   \n",
       "42                     [digital media channels, SSPs]                     []   \n",
       "43                                         [AI-based]                     []   \n",
       "44                              [aching - experience]                     []   \n",
       "45  [Account Director, Digital media planning, piv...                     []   \n",
       "46                                         [AI-based]                     []   \n",
       "47                              [aching - experience]                     []   \n",
       "48                                          [English]                     []   \n",
       "49                              [aching - experience]                     []   \n",
       "\n",
       "           LEVEL  \n",
       "0             []  \n",
       "1             []  \n",
       "2   [Bachelor’s]  \n",
       "3       [Degree]  \n",
       "4             []  \n",
       "5   [Bachelor's]  \n",
       "6       [Degree]  \n",
       "7             []  \n",
       "8     [Bachelor]  \n",
       "9             []  \n",
       "10            []  \n",
       "11            []  \n",
       "12            []  \n",
       "13   [Marketing]  \n",
       "14  [University]  \n",
       "15         [QTS]  \n",
       "16   [Marketing]  \n",
       "17            []  \n",
       "18  [Bachelor’s]  \n",
       "19        [Ph.D]  \n",
       "20            []  \n",
       "21            []  \n",
       "22  [University]  \n",
       "23            []  \n",
       "24            []  \n",
       "25            []  \n",
       "26            []  \n",
       "27            []  \n",
       "28      [Degree]  \n",
       "29            []  \n",
       "30            []  \n",
       "31            []  \n",
       "32            []  \n",
       "33            []  \n",
       "34            []  \n",
       "35            []  \n",
       "36            []  \n",
       "37            []  \n",
       "38            []  \n",
       "39            []  \n",
       "40            []  \n",
       "41            []  \n",
       "42            []  \n",
       "43            []  \n",
       "44            []  \n",
       "45            []  \n",
       "46            []  \n",
       "47            []  \n",
       "48            []  \n",
       "49            []  "
      ]
     },
     "execution_count": 407,
     "metadata": {},
     "output_type": "execute_result"
    }
   ],
   "source": [
    "data = extract_jd(inp)\n",
    "JD_set = data[\"SKILL\"].apply(set)\n",
    "data.head(50)"
   ]
  },
  {
   "cell_type": "code",
   "execution_count": 408,
   "id": "f2123a1a-7fbf-46c8-93f1-42903ecd7d15",
   "metadata": {},
   "outputs": [
    {
     "data": {
      "text/plain": [
       "[[48, 10.0],\n",
       " [0, 0.0],\n",
       " [1, 0.0],\n",
       " [2, 0.0],\n",
       " [3, 0.0],\n",
       " [4, 0.0],\n",
       " [5, 0.0],\n",
       " [6, 0.0],\n",
       " [7, 0.0],\n",
       " [8, 0.0]]"
      ]
     },
     "execution_count": 408,
     "metadata": {},
     "output_type": "execute_result"
    }
   ],
   "source": [
    "pct_list = []\n",
    "    \n",
    "#JD_set = list(filter(None, JD_set))\n",
    "\n",
    "for i in range(0, len(JD_set)):\n",
    "    if len(JD_set[i]) == 0:\n",
    "        continue\n",
    "    else:\n",
    "        #match = set(cv_set) & JD_set[i] \n",
    "        #print(match)\n",
    "        qu = len(set(cv_set) & JD_set[i])\n",
    "        di = len(JD_set[i])\n",
    "        pct_match = round((qu/di) * 100, 2)\n",
    "        pct_list.append([i, pct_match])\n",
    "            \n",
    "#pct_list.sort(key=lambda x: x[1], reverse = True)\n",
    "new_pct = sorted(pct_list, key=lambda x: x[1], reverse = True)\n",
    "#pct_list = pct_list[0:10]\n",
    "\n",
    "new_pct[0:10]"
   ]
  },
  {
   "cell_type": "code",
   "execution_count": 395,
   "id": "da17da76-3532-4243-8de9-6e3406708e0f",
   "metadata": {},
   "outputs": [
    {
     "data": {
      "text/plain": [
       "['data visualization',\n",
       " 'swiss',\n",
       " 'keras',\n",
       " 'material',\n",
       " 'data science',\n",
       " 'ms office',\n",
       " 'matura',\n",
       " 'notary',\n",
       " 'activities',\n",
       " 'heroku',\n",
       " 'english',\n",
       " 'devops',\n",
       " 'communications',\n",
       " 'customer relationship management',\n",
       " 'engineering',\n",
       " 'languages',\n",
       " 'r',\n",
       " 'san diego/',\n",
       " 'interests',\n",
       " 'word',\n",
       " 'tensorflow',\n",
       " 'finance',\n",
       " 'business',\n",
       " 'economics',\n",
       " 'machine learning',\n",
       " 'blockchain',\n",
       " 'visualization',\n",
       " 'sql',\n",
       " 'personal',\n",
       " 'internship',\n",
       " 'shanghai',\n",
       " 'mathematics',\n",
       " 'pandas',\n",
       " 'german',\n",
       " 'gcp',\n",
       " 'mlflow',\n",
       " 'student',\n",
       " 'statistics\\n           09/2017-12/2020',\n",
       " '1-6)',\n",
       " 'python',\n",
       " 'excel',\n",
       " 'basel',\n",
       " 'experience',\n",
       " 'ag',\n",
       " 'support',\n",
       " 'cloud',\n",
       " 'tensorflow keras',\n",
       " 'deep learning',\n",
       " 'seaborn',\n",
       " 'nlp',\n",
       " 'data analysis',\n",
       " 'scikit',\n",
       " 'optravis llc',\n",
       " 'ai',\n",
       " 'game theory',\n",
       " 'marketing',\n",
       " 'numpy',\n",
       " 'agile & devops',\n",
       " 'switzerland',\n",
       " 'east',\n",
       " 'tq']"
      ]
     },
     "execution_count": 395,
     "metadata": {},
     "output_type": "execute_result"
    }
   ],
   "source": [
    "cv_set"
   ]
  },
  {
   "cell_type": "code",
   "execution_count": 405,
   "id": "f23e95e6-15b8-4610-b5f8-388992ca95f4",
   "metadata": {},
   "outputs": [
    {
     "name": "stdout",
     "output_type": "stream",
     "text": [
      "100 Job as Applied Physicist (trigger development) (EP-CMG-OS-2021-120-LD) in Sector physicist has a 50.0% match\n",
      "387 Job as Process Chemist in Sector process chemist has a 50.0% match\n",
      "388 Job as Process Chemist in Sector process chemist has a 50.0% match\n",
      "802 Job as Mathematician/Natural Scientist (m/f/d) for Management Consulting in Sector mathematician has a 50.0% match\n",
      "803 Job as Theoretical physicist / Applied Mathematician (80-100%) in Sector mathematician has a 50.0% match\n",
      "805 Job as Theoretical physicist / Applied Mathematician (80-100%) in Sector mathematician has a 50.0% match\n",
      "806 Job as Game Mathematician (Quickspin) in Sector mathematician has a 50.0% match\n",
      "811 Job as Computer scientist, mathematician, physicist or engineer or similar in Sector mathematician has a 50.0% match\n",
      "815 Job as Computer scientist, mathematician, physicist, engineer or similar (f/m/x) in Sector mathematician has a 50.0% match\n"
     ]
    },
    {
     "data": {
      "application/vnd.plotly.v1+json": {
       "config": {
        "plotlyServerURL": "https://plot.ly"
       },
       "data": [
        {
         "alignmentgroup": "True",
         "hovertemplate": "job position=%{x}<br>Matching %=%{y}<br>color=%{marker.color}<extra></extra>",
         "legendgroup": "",
         "marker": {
          "color": [
           50,
           50,
           50,
           50,
           50,
           50,
           50,
           50,
           50
          ],
          "coloraxis": "coloraxis",
          "pattern": {
           "shape": ""
          }
         },
         "name": "",
         "offsetgroup": "",
         "orientation": "v",
         "showlegend": false,
         "textposition": "auto",
         "type": "bar",
         "x": [
          "Applied Physicist (trigger development) (EP-CMG-OS-2021-120-LD)",
          "Process Chemist",
          "Process Chemist388",
          "Mathematician/Natural Scientist (m/f/d) for Management Consulting",
          "Theoretical physicist / Applied Mathematician (80-100%)",
          "Theoretical physicist / Applied Mathematician (80-100%)805",
          "Game Mathematician (Quickspin)",
          "Computer scientist, mathematician, physicist or engineer or similar",
          "Computer scientist, mathematician, physicist, engineer or similar (f/m/x)"
         ],
         "xaxis": "x",
         "y": [
          50,
          50,
          50,
          50,
          50,
          50,
          50,
          50,
          50
         ],
         "yaxis": "y"
        }
       ],
       "layout": {
        "barmode": "relative",
        "coloraxis": {
         "colorbar": {
          "title": {
           "text": "color"
          }
         },
         "colorscale": [
          [
           0,
           "rgb(2,4,25)"
          ],
          [
           0.0625,
           "rgb(24,15,41)"
          ],
          [
           0.125,
           "rgb(47,23,57)"
          ],
          [
           0.1875,
           "rgb(71,28,72)"
          ],
          [
           0.25,
           "rgb(97,30,82)"
          ],
          [
           0.3125,
           "rgb(123,30,89)"
          ],
          [
           0.375,
           "rgb(150,27,91)"
          ],
          [
           0.4375,
           "rgb(177,22,88)"
          ],
          [
           0.5,
           "rgb(203,26,79)"
          ],
          [
           0.5625,
           "rgb(223,47,67)"
          ],
          [
           0.625,
           "rgb(236,76,61)"
          ],
          [
           0.6875,
           "rgb(242,107,73)"
          ],
          [
           0.75,
           "rgb(244,135,95)"
          ],
          [
           0.8125,
           "rgb(245,162,122)"
          ],
          [
           0.875,
           "rgb(246,188,153)"
          ],
          [
           0.9375,
           "rgb(247,212,187)"
          ],
          [
           1,
           "rgb(250,234,220)"
          ]
         ]
        },
        "height": 800,
        "legend": {
         "tracegroupgap": 0
        },
        "paper_bgcolor": "lightblue",
        "template": {
         "data": {
          "bar": [
           {
            "error_x": {
             "color": "rgb(36,36,36)"
            },
            "error_y": {
             "color": "rgb(36,36,36)"
            },
            "marker": {
             "line": {
              "color": "rgb(234,234,242)",
              "width": 0.5
             },
             "pattern": {
              "fillmode": "overlay",
              "size": 10,
              "solidity": 0.2
             }
            },
            "type": "bar"
           }
          ],
          "barpolar": [
           {
            "marker": {
             "line": {
              "color": "rgb(234,234,242)",
              "width": 0.5
             },
             "pattern": {
              "fillmode": "overlay",
              "size": 10,
              "solidity": 0.2
             }
            },
            "type": "barpolar"
           }
          ],
          "carpet": [
           {
            "aaxis": {
             "endlinecolor": "rgb(36,36,36)",
             "gridcolor": "white",
             "linecolor": "white",
             "minorgridcolor": "white",
             "startlinecolor": "rgb(36,36,36)"
            },
            "baxis": {
             "endlinecolor": "rgb(36,36,36)",
             "gridcolor": "white",
             "linecolor": "white",
             "minorgridcolor": "white",
             "startlinecolor": "rgb(36,36,36)"
            },
            "type": "carpet"
           }
          ],
          "choropleth": [
           {
            "colorbar": {
             "outlinewidth": 0,
             "tickcolor": "rgb(36,36,36)",
             "ticklen": 8,
             "ticks": "outside",
             "tickwidth": 2
            },
            "type": "choropleth"
           }
          ],
          "contour": [
           {
            "colorbar": {
             "outlinewidth": 0,
             "tickcolor": "rgb(36,36,36)",
             "ticklen": 8,
             "ticks": "outside",
             "tickwidth": 2
            },
            "colorscale": [
             [
              0,
              "rgb(2,4,25)"
             ],
             [
              0.06274509803921569,
              "rgb(24,15,41)"
             ],
             [
              0.12549019607843137,
              "rgb(47,23,57)"
             ],
             [
              0.18823529411764706,
              "rgb(71,28,72)"
             ],
             [
              0.25098039215686274,
              "rgb(97,30,82)"
             ],
             [
              0.3137254901960784,
              "rgb(123,30,89)"
             ],
             [
              0.3764705882352941,
              "rgb(150,27,91)"
             ],
             [
              0.4392156862745098,
              "rgb(177,22,88)"
             ],
             [
              0.5019607843137255,
              "rgb(203,26,79)"
             ],
             [
              0.5647058823529412,
              "rgb(223,47,67)"
             ],
             [
              0.6274509803921569,
              "rgb(236,76,61)"
             ],
             [
              0.6901960784313725,
              "rgb(242,107,73)"
             ],
             [
              0.7529411764705882,
              "rgb(244,135,95)"
             ],
             [
              0.8156862745098039,
              "rgb(245,162,122)"
             ],
             [
              0.8784313725490196,
              "rgb(246,188,153)"
             ],
             [
              0.9411764705882353,
              "rgb(247,212,187)"
             ],
             [
              1,
              "rgb(250,234,220)"
             ]
            ],
            "type": "contour"
           }
          ],
          "contourcarpet": [
           {
            "colorbar": {
             "outlinewidth": 0,
             "tickcolor": "rgb(36,36,36)",
             "ticklen": 8,
             "ticks": "outside",
             "tickwidth": 2
            },
            "type": "contourcarpet"
           }
          ],
          "heatmap": [
           {
            "colorbar": {
             "outlinewidth": 0,
             "tickcolor": "rgb(36,36,36)",
             "ticklen": 8,
             "ticks": "outside",
             "tickwidth": 2
            },
            "colorscale": [
             [
              0,
              "rgb(2,4,25)"
             ],
             [
              0.06274509803921569,
              "rgb(24,15,41)"
             ],
             [
              0.12549019607843137,
              "rgb(47,23,57)"
             ],
             [
              0.18823529411764706,
              "rgb(71,28,72)"
             ],
             [
              0.25098039215686274,
              "rgb(97,30,82)"
             ],
             [
              0.3137254901960784,
              "rgb(123,30,89)"
             ],
             [
              0.3764705882352941,
              "rgb(150,27,91)"
             ],
             [
              0.4392156862745098,
              "rgb(177,22,88)"
             ],
             [
              0.5019607843137255,
              "rgb(203,26,79)"
             ],
             [
              0.5647058823529412,
              "rgb(223,47,67)"
             ],
             [
              0.6274509803921569,
              "rgb(236,76,61)"
             ],
             [
              0.6901960784313725,
              "rgb(242,107,73)"
             ],
             [
              0.7529411764705882,
              "rgb(244,135,95)"
             ],
             [
              0.8156862745098039,
              "rgb(245,162,122)"
             ],
             [
              0.8784313725490196,
              "rgb(246,188,153)"
             ],
             [
              0.9411764705882353,
              "rgb(247,212,187)"
             ],
             [
              1,
              "rgb(250,234,220)"
             ]
            ],
            "type": "heatmap"
           }
          ],
          "heatmapgl": [
           {
            "colorbar": {
             "outlinewidth": 0,
             "tickcolor": "rgb(36,36,36)",
             "ticklen": 8,
             "ticks": "outside",
             "tickwidth": 2
            },
            "colorscale": [
             [
              0,
              "rgb(2,4,25)"
             ],
             [
              0.06274509803921569,
              "rgb(24,15,41)"
             ],
             [
              0.12549019607843137,
              "rgb(47,23,57)"
             ],
             [
              0.18823529411764706,
              "rgb(71,28,72)"
             ],
             [
              0.25098039215686274,
              "rgb(97,30,82)"
             ],
             [
              0.3137254901960784,
              "rgb(123,30,89)"
             ],
             [
              0.3764705882352941,
              "rgb(150,27,91)"
             ],
             [
              0.4392156862745098,
              "rgb(177,22,88)"
             ],
             [
              0.5019607843137255,
              "rgb(203,26,79)"
             ],
             [
              0.5647058823529412,
              "rgb(223,47,67)"
             ],
             [
              0.6274509803921569,
              "rgb(236,76,61)"
             ],
             [
              0.6901960784313725,
              "rgb(242,107,73)"
             ],
             [
              0.7529411764705882,
              "rgb(244,135,95)"
             ],
             [
              0.8156862745098039,
              "rgb(245,162,122)"
             ],
             [
              0.8784313725490196,
              "rgb(246,188,153)"
             ],
             [
              0.9411764705882353,
              "rgb(247,212,187)"
             ],
             [
              1,
              "rgb(250,234,220)"
             ]
            ],
            "type": "heatmapgl"
           }
          ],
          "histogram": [
           {
            "marker": {
             "pattern": {
              "fillmode": "overlay",
              "size": 10,
              "solidity": 0.2
             }
            },
            "type": "histogram"
           }
          ],
          "histogram2d": [
           {
            "colorbar": {
             "outlinewidth": 0,
             "tickcolor": "rgb(36,36,36)",
             "ticklen": 8,
             "ticks": "outside",
             "tickwidth": 2
            },
            "colorscale": [
             [
              0,
              "rgb(2,4,25)"
             ],
             [
              0.06274509803921569,
              "rgb(24,15,41)"
             ],
             [
              0.12549019607843137,
              "rgb(47,23,57)"
             ],
             [
              0.18823529411764706,
              "rgb(71,28,72)"
             ],
             [
              0.25098039215686274,
              "rgb(97,30,82)"
             ],
             [
              0.3137254901960784,
              "rgb(123,30,89)"
             ],
             [
              0.3764705882352941,
              "rgb(150,27,91)"
             ],
             [
              0.4392156862745098,
              "rgb(177,22,88)"
             ],
             [
              0.5019607843137255,
              "rgb(203,26,79)"
             ],
             [
              0.5647058823529412,
              "rgb(223,47,67)"
             ],
             [
              0.6274509803921569,
              "rgb(236,76,61)"
             ],
             [
              0.6901960784313725,
              "rgb(242,107,73)"
             ],
             [
              0.7529411764705882,
              "rgb(244,135,95)"
             ],
             [
              0.8156862745098039,
              "rgb(245,162,122)"
             ],
             [
              0.8784313725490196,
              "rgb(246,188,153)"
             ],
             [
              0.9411764705882353,
              "rgb(247,212,187)"
             ],
             [
              1,
              "rgb(250,234,220)"
             ]
            ],
            "type": "histogram2d"
           }
          ],
          "histogram2dcontour": [
           {
            "colorbar": {
             "outlinewidth": 0,
             "tickcolor": "rgb(36,36,36)",
             "ticklen": 8,
             "ticks": "outside",
             "tickwidth": 2
            },
            "colorscale": [
             [
              0,
              "rgb(2,4,25)"
             ],
             [
              0.06274509803921569,
              "rgb(24,15,41)"
             ],
             [
              0.12549019607843137,
              "rgb(47,23,57)"
             ],
             [
              0.18823529411764706,
              "rgb(71,28,72)"
             ],
             [
              0.25098039215686274,
              "rgb(97,30,82)"
             ],
             [
              0.3137254901960784,
              "rgb(123,30,89)"
             ],
             [
              0.3764705882352941,
              "rgb(150,27,91)"
             ],
             [
              0.4392156862745098,
              "rgb(177,22,88)"
             ],
             [
              0.5019607843137255,
              "rgb(203,26,79)"
             ],
             [
              0.5647058823529412,
              "rgb(223,47,67)"
             ],
             [
              0.6274509803921569,
              "rgb(236,76,61)"
             ],
             [
              0.6901960784313725,
              "rgb(242,107,73)"
             ],
             [
              0.7529411764705882,
              "rgb(244,135,95)"
             ],
             [
              0.8156862745098039,
              "rgb(245,162,122)"
             ],
             [
              0.8784313725490196,
              "rgb(246,188,153)"
             ],
             [
              0.9411764705882353,
              "rgb(247,212,187)"
             ],
             [
              1,
              "rgb(250,234,220)"
             ]
            ],
            "type": "histogram2dcontour"
           }
          ],
          "mesh3d": [
           {
            "colorbar": {
             "outlinewidth": 0,
             "tickcolor": "rgb(36,36,36)",
             "ticklen": 8,
             "ticks": "outside",
             "tickwidth": 2
            },
            "type": "mesh3d"
           }
          ],
          "parcoords": [
           {
            "line": {
             "colorbar": {
              "outlinewidth": 0,
              "tickcolor": "rgb(36,36,36)",
              "ticklen": 8,
              "ticks": "outside",
              "tickwidth": 2
             }
            },
            "type": "parcoords"
           }
          ],
          "pie": [
           {
            "automargin": true,
            "type": "pie"
           }
          ],
          "scatter": [
           {
            "marker": {
             "colorbar": {
              "outlinewidth": 0,
              "tickcolor": "rgb(36,36,36)",
              "ticklen": 8,
              "ticks": "outside",
              "tickwidth": 2
             }
            },
            "type": "scatter"
           }
          ],
          "scatter3d": [
           {
            "line": {
             "colorbar": {
              "outlinewidth": 0,
              "tickcolor": "rgb(36,36,36)",
              "ticklen": 8,
              "ticks": "outside",
              "tickwidth": 2
             }
            },
            "marker": {
             "colorbar": {
              "outlinewidth": 0,
              "tickcolor": "rgb(36,36,36)",
              "ticklen": 8,
              "ticks": "outside",
              "tickwidth": 2
             }
            },
            "type": "scatter3d"
           }
          ],
          "scattercarpet": [
           {
            "marker": {
             "colorbar": {
              "outlinewidth": 0,
              "tickcolor": "rgb(36,36,36)",
              "ticklen": 8,
              "ticks": "outside",
              "tickwidth": 2
             }
            },
            "type": "scattercarpet"
           }
          ],
          "scattergeo": [
           {
            "marker": {
             "colorbar": {
              "outlinewidth": 0,
              "tickcolor": "rgb(36,36,36)",
              "ticklen": 8,
              "ticks": "outside",
              "tickwidth": 2
             }
            },
            "type": "scattergeo"
           }
          ],
          "scattergl": [
           {
            "marker": {
             "colorbar": {
              "outlinewidth": 0,
              "tickcolor": "rgb(36,36,36)",
              "ticklen": 8,
              "ticks": "outside",
              "tickwidth": 2
             }
            },
            "type": "scattergl"
           }
          ],
          "scattermapbox": [
           {
            "marker": {
             "colorbar": {
              "outlinewidth": 0,
              "tickcolor": "rgb(36,36,36)",
              "ticklen": 8,
              "ticks": "outside",
              "tickwidth": 2
             }
            },
            "type": "scattermapbox"
           }
          ],
          "scatterpolar": [
           {
            "marker": {
             "colorbar": {
              "outlinewidth": 0,
              "tickcolor": "rgb(36,36,36)",
              "ticklen": 8,
              "ticks": "outside",
              "tickwidth": 2
             }
            },
            "type": "scatterpolar"
           }
          ],
          "scatterpolargl": [
           {
            "marker": {
             "colorbar": {
              "outlinewidth": 0,
              "tickcolor": "rgb(36,36,36)",
              "ticklen": 8,
              "ticks": "outside",
              "tickwidth": 2
             }
            },
            "type": "scatterpolargl"
           }
          ],
          "scatterternary": [
           {
            "marker": {
             "colorbar": {
              "outlinewidth": 0,
              "tickcolor": "rgb(36,36,36)",
              "ticklen": 8,
              "ticks": "outside",
              "tickwidth": 2
             }
            },
            "type": "scatterternary"
           }
          ],
          "surface": [
           {
            "colorbar": {
             "outlinewidth": 0,
             "tickcolor": "rgb(36,36,36)",
             "ticklen": 8,
             "ticks": "outside",
             "tickwidth": 2
            },
            "colorscale": [
             [
              0,
              "rgb(2,4,25)"
             ],
             [
              0.06274509803921569,
              "rgb(24,15,41)"
             ],
             [
              0.12549019607843137,
              "rgb(47,23,57)"
             ],
             [
              0.18823529411764706,
              "rgb(71,28,72)"
             ],
             [
              0.25098039215686274,
              "rgb(97,30,82)"
             ],
             [
              0.3137254901960784,
              "rgb(123,30,89)"
             ],
             [
              0.3764705882352941,
              "rgb(150,27,91)"
             ],
             [
              0.4392156862745098,
              "rgb(177,22,88)"
             ],
             [
              0.5019607843137255,
              "rgb(203,26,79)"
             ],
             [
              0.5647058823529412,
              "rgb(223,47,67)"
             ],
             [
              0.6274509803921569,
              "rgb(236,76,61)"
             ],
             [
              0.6901960784313725,
              "rgb(242,107,73)"
             ],
             [
              0.7529411764705882,
              "rgb(244,135,95)"
             ],
             [
              0.8156862745098039,
              "rgb(245,162,122)"
             ],
             [
              0.8784313725490196,
              "rgb(246,188,153)"
             ],
             [
              0.9411764705882353,
              "rgb(247,212,187)"
             ],
             [
              1,
              "rgb(250,234,220)"
             ]
            ],
            "type": "surface"
           }
          ],
          "table": [
           {
            "cells": {
             "fill": {
              "color": "rgb(231,231,240)"
             },
             "line": {
              "color": "white"
             }
            },
            "header": {
             "fill": {
              "color": "rgb(183,183,191)"
             },
             "line": {
              "color": "white"
             }
            },
            "type": "table"
           }
          ]
         },
         "layout": {
          "annotationdefaults": {
           "arrowcolor": "rgb(67,103,167)"
          },
          "autotypenumbers": "strict",
          "coloraxis": {
           "colorbar": {
            "outlinewidth": 0,
            "tickcolor": "rgb(36,36,36)",
            "ticklen": 8,
            "ticks": "outside",
            "tickwidth": 2
           }
          },
          "colorscale": {
           "sequential": [
            [
             0,
             "rgb(2,4,25)"
            ],
            [
             0.06274509803921569,
             "rgb(24,15,41)"
            ],
            [
             0.12549019607843137,
             "rgb(47,23,57)"
            ],
            [
             0.18823529411764706,
             "rgb(71,28,72)"
            ],
            [
             0.25098039215686274,
             "rgb(97,30,82)"
            ],
            [
             0.3137254901960784,
             "rgb(123,30,89)"
            ],
            [
             0.3764705882352941,
             "rgb(150,27,91)"
            ],
            [
             0.4392156862745098,
             "rgb(177,22,88)"
            ],
            [
             0.5019607843137255,
             "rgb(203,26,79)"
            ],
            [
             0.5647058823529412,
             "rgb(223,47,67)"
            ],
            [
             0.6274509803921569,
             "rgb(236,76,61)"
            ],
            [
             0.6901960784313725,
             "rgb(242,107,73)"
            ],
            [
             0.7529411764705882,
             "rgb(244,135,95)"
            ],
            [
             0.8156862745098039,
             "rgb(245,162,122)"
            ],
            [
             0.8784313725490196,
             "rgb(246,188,153)"
            ],
            [
             0.9411764705882353,
             "rgb(247,212,187)"
            ],
            [
             1,
             "rgb(250,234,220)"
            ]
           ],
           "sequentialminus": [
            [
             0,
             "rgb(2,4,25)"
            ],
            [
             0.06274509803921569,
             "rgb(24,15,41)"
            ],
            [
             0.12549019607843137,
             "rgb(47,23,57)"
            ],
            [
             0.18823529411764706,
             "rgb(71,28,72)"
            ],
            [
             0.25098039215686274,
             "rgb(97,30,82)"
            ],
            [
             0.3137254901960784,
             "rgb(123,30,89)"
            ],
            [
             0.3764705882352941,
             "rgb(150,27,91)"
            ],
            [
             0.4392156862745098,
             "rgb(177,22,88)"
            ],
            [
             0.5019607843137255,
             "rgb(203,26,79)"
            ],
            [
             0.5647058823529412,
             "rgb(223,47,67)"
            ],
            [
             0.6274509803921569,
             "rgb(236,76,61)"
            ],
            [
             0.6901960784313725,
             "rgb(242,107,73)"
            ],
            [
             0.7529411764705882,
             "rgb(244,135,95)"
            ],
            [
             0.8156862745098039,
             "rgb(245,162,122)"
            ],
            [
             0.8784313725490196,
             "rgb(246,188,153)"
            ],
            [
             0.9411764705882353,
             "rgb(247,212,187)"
            ],
            [
             1,
             "rgb(250,234,220)"
            ]
           ]
          },
          "colorway": [
           "rgb(76,114,176)",
           "rgb(221,132,82)",
           "rgb(85,168,104)",
           "rgb(196,78,82)",
           "rgb(129,114,179)",
           "rgb(147,120,96)",
           "rgb(218,139,195)",
           "rgb(140,140,140)",
           "rgb(204,185,116)",
           "rgb(100,181,205)"
          ],
          "font": {
           "color": "rgb(36,36,36)"
          },
          "geo": {
           "bgcolor": "white",
           "lakecolor": "white",
           "landcolor": "rgb(234,234,242)",
           "showlakes": true,
           "showland": true,
           "subunitcolor": "white"
          },
          "hoverlabel": {
           "align": "left"
          },
          "hovermode": "closest",
          "paper_bgcolor": "white",
          "plot_bgcolor": "rgb(234,234,242)",
          "polar": {
           "angularaxis": {
            "gridcolor": "white",
            "linecolor": "white",
            "showgrid": true,
            "ticks": ""
           },
           "bgcolor": "rgb(234,234,242)",
           "radialaxis": {
            "gridcolor": "white",
            "linecolor": "white",
            "showgrid": true,
            "ticks": ""
           }
          },
          "scene": {
           "xaxis": {
            "backgroundcolor": "rgb(234,234,242)",
            "gridcolor": "white",
            "gridwidth": 2,
            "linecolor": "white",
            "showbackground": true,
            "showgrid": true,
            "ticks": "",
            "zerolinecolor": "white"
           },
           "yaxis": {
            "backgroundcolor": "rgb(234,234,242)",
            "gridcolor": "white",
            "gridwidth": 2,
            "linecolor": "white",
            "showbackground": true,
            "showgrid": true,
            "ticks": "",
            "zerolinecolor": "white"
           },
           "zaxis": {
            "backgroundcolor": "rgb(234,234,242)",
            "gridcolor": "white",
            "gridwidth": 2,
            "linecolor": "white",
            "showbackground": true,
            "showgrid": true,
            "ticks": "",
            "zerolinecolor": "white"
           }
          },
          "shapedefaults": {
           "fillcolor": "rgb(67,103,167)",
           "line": {
            "width": 0
           },
           "opacity": 0.5
          },
          "ternary": {
           "aaxis": {
            "gridcolor": "white",
            "linecolor": "white",
            "showgrid": true,
            "ticks": ""
           },
           "baxis": {
            "gridcolor": "white",
            "linecolor": "white",
            "showgrid": true,
            "ticks": ""
           },
           "bgcolor": "rgb(234,234,242)",
           "caxis": {
            "gridcolor": "white",
            "linecolor": "white",
            "showgrid": true,
            "ticks": ""
           }
          },
          "xaxis": {
           "automargin": true,
           "gridcolor": "white",
           "linecolor": "white",
           "showgrid": true,
           "ticks": "",
           "title": {
            "standoff": 15
           },
           "zerolinecolor": "white"
          },
          "yaxis": {
           "automargin": true,
           "gridcolor": "white",
           "linecolor": "white",
           "showgrid": true,
           "ticks": "",
           "title": {
            "standoff": 15
           },
           "zerolinecolor": "white"
          }
         }
        },
        "title": {
         "text": "Job offers matching with resume"
        },
        "width": 1200,
        "xaxis": {
         "anchor": "y",
         "autorange": true,
         "domain": [
          0,
          1
         ],
         "range": [
          -0.5,
          8.5
         ],
         "title": {
          "text": "job position"
         },
         "type": "category"
        },
        "yaxis": {
         "anchor": "x",
         "autorange": true,
         "domain": [
          0,
          1
         ],
         "range": [
          0,
          52.631578947368425
         ],
         "title": {
          "text": "Matching %"
         },
         "type": "linear"
        }
       }
      },
      "image/png": "[encoded data removed]",
      "text/html": [
       "<div>                            <div id=\"85bb7c52-81da-4f20-9fa5-fbfd4cf3e9d9\" class=\"plotly-graph-div\" style=\"height:800px; width:1200px;\"></div>            <script type=\"text/javascript\">                require([\"plotly\"], function(Plotly) {                    window.PLOTLYENV=window.PLOTLYENV || {};                                    if (document.getElementById(\"85bb7c52-81da-4f20-9fa5-fbfd4cf3e9d9\")) {                    Plotly.newPlot(                        \"85bb7c52-81da-4f20-9fa5-fbfd4cf3e9d9\",                        [{\"alignmentgroup\":\"True\",\"hovertemplate\":\"job position=%{x}<br>Matching %=%{y}<br>color=%{marker.color}<extra></extra>\",\"legendgroup\":\"\",\"marker\":{\"color\":[50.0,50.0,50.0,50.0,50.0,50.0,50.0,50.0,50.0],\"coloraxis\":\"coloraxis\",\"pattern\":{\"shape\":\"\"}},\"name\":\"\",\"offsetgroup\":\"\",\"orientation\":\"v\",\"showlegend\":false,\"textposition\":\"auto\",\"type\":\"bar\",\"x\":[\"Applied Physicist (trigger development) (EP-CMG-OS-2021-120-LD)\",\"Process Chemist\",\"Process Chemist388\",\"Mathematician/Natural Scientist (m/f/d) for Management Consulting\",\"Theoretical physicist / Applied Mathematician (80-100%)\",\"Theoretical physicist / Applied Mathematician (80-100%)805\",\"Game Mathematician (Quickspin)\",\"Computer scientist, mathematician, physicist or engineer or similar\",\"Computer scientist, mathematician, physicist, engineer or similar (f/m/x)\"],\"xaxis\":\"x\",\"y\":[50.0,50.0,50.0,50.0,50.0,50.0,50.0,50.0,50.0],\"yaxis\":\"y\"}],                        {\"barmode\":\"relative\",\"coloraxis\":{\"colorbar\":{\"title\":{\"text\":\"color\"}},\"colorscale\":[[0.0,\"rgb(2,4,25)\"],[0.0625,\"rgb(24,15,41)\"],[0.125,\"rgb(47,23,57)\"],[0.1875,\"rgb(71,28,72)\"],[0.25,\"rgb(97,30,82)\"],[0.3125,\"rgb(123,30,89)\"],[0.375,\"rgb(150,27,91)\"],[0.4375,\"rgb(177,22,88)\"],[0.5,\"rgb(203,26,79)\"],[0.5625,\"rgb(223,47,67)\"],[0.625,\"rgb(236,76,61)\"],[0.6875,\"rgb(242,107,73)\"],[0.75,\"rgb(244,135,95)\"],[0.8125,\"rgb(245,162,122)\"],[0.875,\"rgb(246,188,153)\"],[0.9375,\"rgb(247,212,187)\"],[1.0,\"rgb(250,234,220)\"]]},\"height\":800,\"legend\":{\"tracegroupgap\":0},\"paper_bgcolor\":\"lightblue\",\"template\":{\"data\":{\"bar\":[{\"error_x\":{\"color\":\"rgb(36,36,36)\"},\"error_y\":{\"color\":\"rgb(36,36,36)\"},\"marker\":{\"line\":{\"color\":\"rgb(234,234,242)\",\"width\":0.5},\"pattern\":{\"fillmode\":\"overlay\",\"size\":10,\"solidity\":0.2}},\"type\":\"bar\"}],\"barpolar\":[{\"marker\":{\"line\":{\"color\":\"rgb(234,234,242)\",\"width\":0.5},\"pattern\":{\"fillmode\":\"overlay\",\"size\":10,\"solidity\":0.2}},\"type\":\"barpolar\"}],\"carpet\":[{\"aaxis\":{\"endlinecolor\":\"rgb(36,36,36)\",\"gridcolor\":\"white\",\"linecolor\":\"white\",\"minorgridcolor\":\"white\",\"startlinecolor\":\"rgb(36,36,36)\"},\"baxis\":{\"endlinecolor\":\"rgb(36,36,36)\",\"gridcolor\":\"white\",\"linecolor\":\"white\",\"minorgridcolor\":\"white\",\"startlinecolor\":\"rgb(36,36,36)\"},\"type\":\"carpet\"}],\"choropleth\":[{\"colorbar\":{\"outlinewidth\":0,\"tickcolor\":\"rgb(36,36,36)\",\"ticklen\":8,\"ticks\":\"outside\",\"tickwidth\":2},\"type\":\"choropleth\"}],\"contour\":[{\"colorbar\":{\"outlinewidth\":0,\"tickcolor\":\"rgb(36,36,36)\",\"ticklen\":8,\"ticks\":\"outside\",\"tickwidth\":2},\"colorscale\":[[0.0,\"rgb(2,4,25)\"],[0.06274509803921569,\"rgb(24,15,41)\"],[0.12549019607843137,\"rgb(47,23,57)\"],[0.18823529411764706,\"rgb(71,28,72)\"],[0.25098039215686274,\"rgb(97,30,82)\"],[0.3137254901960784,\"rgb(123,30,89)\"],[0.3764705882352941,\"rgb(150,27,91)\"],[0.4392156862745098,\"rgb(177,22,88)\"],[0.5019607843137255,\"rgb(203,26,79)\"],[0.5647058823529412,\"rgb(223,47,67)\"],[0.6274509803921569,\"rgb(236,76,61)\"],[0.6901960784313725,\"rgb(242,107,73)\"],[0.7529411764705882,\"rgb(244,135,95)\"],[0.8156862745098039,\"rgb(245,162,122)\"],[0.8784313725490196,\"rgb(246,188,153)\"],[0.9411764705882353,\"rgb(247,212,187)\"],[1.0,\"rgb(250,234,220)\"]],\"type\":\"contour\"}],\"contourcarpet\":[{\"colorbar\":{\"outlinewidth\":0,\"tickcolor\":\"rgb(36,36,36)\",\"ticklen\":8,\"ticks\":\"outside\",\"tickwidth\":2},\"type\":\"contourcarpet\"}],\"heatmap\":[{\"colorbar\":{\"outlinewidth\":0,\"tickcolor\":\"rgb(36,36,36)\",\"ticklen\":8,\"ticks\":\"outside\",\"tickwidth\":2},\"colorscale\":[[0.0,\"rgb(2,4,25)\"],[0.06274509803921569,\"rgb(24,15,41)\"],[0.12549019607843137,\"rgb(47,23,57)\"],[0.18823529411764706,\"rgb(71,28,72)\"],[0.25098039215686274,\"rgb(97,30,82)\"],[0.3137254901960784,\"rgb(123,30,89)\"],[0.3764705882352941,\"rgb(150,27,91)\"],[0.4392156862745098,\"rgb(177,22,88)\"],[0.5019607843137255,\"rgb(203,26,79)\"],[0.5647058823529412,\"rgb(223,47,67)\"],[0.6274509803921569,\"rgb(236,76,61)\"],[0.6901960784313725,\"rgb(242,107,73)\"],[0.7529411764705882,\"rgb(244,135,95)\"],[0.8156862745098039,\"rgb(245,162,122)\"],[0.8784313725490196,\"rgb(246,188,153)\"],[0.9411764705882353,\"rgb(247,212,187)\"],[1.0,\"rgb(250,234,220)\"]],\"type\":\"heatmap\"}],\"heatmapgl\":[{\"colorbar\":{\"outlinewidth\":0,\"tickcolor\":\"rgb(36,36,36)\",\"ticklen\":8,\"ticks\":\"outside\",\"tickwidth\":2},\"colorscale\":[[0.0,\"rgb(2,4,25)\"],[0.06274509803921569,\"rgb(24,15,41)\"],[0.12549019607843137,\"rgb(47,23,57)\"],[0.18823529411764706,\"rgb(71,28,72)\"],[0.25098039215686274,\"rgb(97,30,82)\"],[0.3137254901960784,\"rgb(123,30,89)\"],[0.3764705882352941,\"rgb(150,27,91)\"],[0.4392156862745098,\"rgb(177,22,88)\"],[0.5019607843137255,\"rgb(203,26,79)\"],[0.5647058823529412,\"rgb(223,47,67)\"],[0.6274509803921569,\"rgb(236,76,61)\"],[0.6901960784313725,\"rgb(242,107,73)\"],[0.7529411764705882,\"rgb(244,135,95)\"],[0.8156862745098039,\"rgb(245,162,122)\"],[0.8784313725490196,\"rgb(246,188,153)\"],[0.9411764705882353,\"rgb(247,212,187)\"],[1.0,\"rgb(250,234,220)\"]],\"type\":\"heatmapgl\"}],\"histogram\":[{\"marker\":{\"pattern\":{\"fillmode\":\"overlay\",\"size\":10,\"solidity\":0.2}},\"type\":\"histogram\"}],\"histogram2d\":[{\"colorbar\":{\"outlinewidth\":0,\"tickcolor\":\"rgb(36,36,36)\",\"ticklen\":8,\"ticks\":\"outside\",\"tickwidth\":2},\"colorscale\":[[0.0,\"rgb(2,4,25)\"],[0.06274509803921569,\"rgb(24,15,41)\"],[0.12549019607843137,\"rgb(47,23,57)\"],[0.18823529411764706,\"rgb(71,28,72)\"],[0.25098039215686274,\"rgb(97,30,82)\"],[0.3137254901960784,\"rgb(123,30,89)\"],[0.3764705882352941,\"rgb(150,27,91)\"],[0.4392156862745098,\"rgb(177,22,88)\"],[0.5019607843137255,\"rgb(203,26,79)\"],[0.5647058823529412,\"rgb(223,47,67)\"],[0.6274509803921569,\"rgb(236,76,61)\"],[0.6901960784313725,\"rgb(242,107,73)\"],[0.7529411764705882,\"rgb(244,135,95)\"],[0.8156862745098039,\"rgb(245,162,122)\"],[0.8784313725490196,\"rgb(246,188,153)\"],[0.9411764705882353,\"rgb(247,212,187)\"],[1.0,\"rgb(250,234,220)\"]],\"type\":\"histogram2d\"}],\"histogram2dcontour\":[{\"colorbar\":{\"outlinewidth\":0,\"tickcolor\":\"rgb(36,36,36)\",\"ticklen\":8,\"ticks\":\"outside\",\"tickwidth\":2},\"colorscale\":[[0.0,\"rgb(2,4,25)\"],[0.06274509803921569,\"rgb(24,15,41)\"],[0.12549019607843137,\"rgb(47,23,57)\"],[0.18823529411764706,\"rgb(71,28,72)\"],[0.25098039215686274,\"rgb(97,30,82)\"],[0.3137254901960784,\"rgb(123,30,89)\"],[0.3764705882352941,\"rgb(150,27,91)\"],[0.4392156862745098,\"rgb(177,22,88)\"],[0.5019607843137255,\"rgb(203,26,79)\"],[0.5647058823529412,\"rgb(223,47,67)\"],[0.6274509803921569,\"rgb(236,76,61)\"],[0.6901960784313725,\"rgb(242,107,73)\"],[0.7529411764705882,\"rgb(244,135,95)\"],[0.8156862745098039,\"rgb(245,162,122)\"],[0.8784313725490196,\"rgb(246,188,153)\"],[0.9411764705882353,\"rgb(247,212,187)\"],[1.0,\"rgb(250,234,220)\"]],\"type\":\"histogram2dcontour\"}],\"mesh3d\":[{\"colorbar\":{\"outlinewidth\":0,\"tickcolor\":\"rgb(36,36,36)\",\"ticklen\":8,\"ticks\":\"outside\",\"tickwidth\":2},\"type\":\"mesh3d\"}],\"parcoords\":[{\"line\":{\"colorbar\":{\"outlinewidth\":0,\"tickcolor\":\"rgb(36,36,36)\",\"ticklen\":8,\"ticks\":\"outside\",\"tickwidth\":2}},\"type\":\"parcoords\"}],\"pie\":[{\"automargin\":true,\"type\":\"pie\"}],\"scatter\":[{\"marker\":{\"colorbar\":{\"outlinewidth\":0,\"tickcolor\":\"rgb(36,36,36)\",\"ticklen\":8,\"ticks\":\"outside\",\"tickwidth\":2}},\"type\":\"scatter\"}],\"scatter3d\":[{\"line\":{\"colorbar\":{\"outlinewidth\":0,\"tickcolor\":\"rgb(36,36,36)\",\"ticklen\":8,\"ticks\":\"outside\",\"tickwidth\":2}},\"marker\":{\"colorbar\":{\"outlinewidth\":0,\"tickcolor\":\"rgb(36,36,36)\",\"ticklen\":8,\"ticks\":\"outside\",\"tickwidth\":2}},\"type\":\"scatter3d\"}],\"scattercarpet\":[{\"marker\":{\"colorbar\":{\"outlinewidth\":0,\"tickcolor\":\"rgb(36,36,36)\",\"ticklen\":8,\"ticks\":\"outside\",\"tickwidth\":2}},\"type\":\"scattercarpet\"}],\"scattergeo\":[{\"marker\":{\"colorbar\":{\"outlinewidth\":0,\"tickcolor\":\"rgb(36,36,36)\",\"ticklen\":8,\"ticks\":\"outside\",\"tickwidth\":2}},\"type\":\"scattergeo\"}],\"scattergl\":[{\"marker\":{\"colorbar\":{\"outlinewidth\":0,\"tickcolor\":\"rgb(36,36,36)\",\"ticklen\":8,\"ticks\":\"outside\",\"tickwidth\":2}},\"type\":\"scattergl\"}],\"scattermapbox\":[{\"marker\":{\"colorbar\":{\"outlinewidth\":0,\"tickcolor\":\"rgb(36,36,36)\",\"ticklen\":8,\"ticks\":\"outside\",\"tickwidth\":2}},\"type\":\"scattermapbox\"}],\"scatterpolar\":[{\"marker\":{\"colorbar\":{\"outlinewidth\":0,\"tickcolor\":\"rgb(36,36,36)\",\"ticklen\":8,\"ticks\":\"outside\",\"tickwidth\":2}},\"type\":\"scatterpolar\"}],\"scatterpolargl\":[{\"marker\":{\"colorbar\":{\"outlinewidth\":0,\"tickcolor\":\"rgb(36,36,36)\",\"ticklen\":8,\"ticks\":\"outside\",\"tickwidth\":2}},\"type\":\"scatterpolargl\"}],\"scatterternary\":[{\"marker\":{\"colorbar\":{\"outlinewidth\":0,\"tickcolor\":\"rgb(36,36,36)\",\"ticklen\":8,\"ticks\":\"outside\",\"tickwidth\":2}},\"type\":\"scatterternary\"}],\"surface\":[{\"colorbar\":{\"outlinewidth\":0,\"tickcolor\":\"rgb(36,36,36)\",\"ticklen\":8,\"ticks\":\"outside\",\"tickwidth\":2},\"colorscale\":[[0.0,\"rgb(2,4,25)\"],[0.06274509803921569,\"rgb(24,15,41)\"],[0.12549019607843137,\"rgb(47,23,57)\"],[0.18823529411764706,\"rgb(71,28,72)\"],[0.25098039215686274,\"rgb(97,30,82)\"],[0.3137254901960784,\"rgb(123,30,89)\"],[0.3764705882352941,\"rgb(150,27,91)\"],[0.4392156862745098,\"rgb(177,22,88)\"],[0.5019607843137255,\"rgb(203,26,79)\"],[0.5647058823529412,\"rgb(223,47,67)\"],[0.6274509803921569,\"rgb(236,76,61)\"],[0.6901960784313725,\"rgb(242,107,73)\"],[0.7529411764705882,\"rgb(244,135,95)\"],[0.8156862745098039,\"rgb(245,162,122)\"],[0.8784313725490196,\"rgb(246,188,153)\"],[0.9411764705882353,\"rgb(247,212,187)\"],[1.0,\"rgb(250,234,220)\"]],\"type\":\"surface\"}],\"table\":[{\"cells\":{\"fill\":{\"color\":\"rgb(231,231,240)\"},\"line\":{\"color\":\"white\"}},\"header\":{\"fill\":{\"color\":\"rgb(183,183,191)\"},\"line\":{\"color\":\"white\"}},\"type\":\"table\"}]},\"layout\":{\"annotationdefaults\":{\"arrowcolor\":\"rgb(67,103,167)\"},\"autotypenumbers\":\"strict\",\"coloraxis\":{\"colorbar\":{\"outlinewidth\":0,\"tickcolor\":\"rgb(36,36,36)\",\"ticklen\":8,\"ticks\":\"outside\",\"tickwidth\":2}},\"colorscale\":{\"sequential\":[[0.0,\"rgb(2,4,25)\"],[0.06274509803921569,\"rgb(24,15,41)\"],[0.12549019607843137,\"rgb(47,23,57)\"],[0.18823529411764706,\"rgb(71,28,72)\"],[0.25098039215686274,\"rgb(97,30,82)\"],[0.3137254901960784,\"rgb(123,30,89)\"],[0.3764705882352941,\"rgb(150,27,91)\"],[0.4392156862745098,\"rgb(177,22,88)\"],[0.5019607843137255,\"rgb(203,26,79)\"],[0.5647058823529412,\"rgb(223,47,67)\"],[0.6274509803921569,\"rgb(236,76,61)\"],[0.6901960784313725,\"rgb(242,107,73)\"],[0.7529411764705882,\"rgb(244,135,95)\"],[0.8156862745098039,\"rgb(245,162,122)\"],[0.8784313725490196,\"rgb(246,188,153)\"],[0.9411764705882353,\"rgb(247,212,187)\"],[1.0,\"rgb(250,234,220)\"]],\"sequentialminus\":[[0.0,\"rgb(2,4,25)\"],[0.06274509803921569,\"rgb(24,15,41)\"],[0.12549019607843137,\"rgb(47,23,57)\"],[0.18823529411764706,\"rgb(71,28,72)\"],[0.25098039215686274,\"rgb(97,30,82)\"],[0.3137254901960784,\"rgb(123,30,89)\"],[0.3764705882352941,\"rgb(150,27,91)\"],[0.4392156862745098,\"rgb(177,22,88)\"],[0.5019607843137255,\"rgb(203,26,79)\"],[0.5647058823529412,\"rgb(223,47,67)\"],[0.6274509803921569,\"rgb(236,76,61)\"],[0.6901960784313725,\"rgb(242,107,73)\"],[0.7529411764705882,\"rgb(244,135,95)\"],[0.8156862745098039,\"rgb(245,162,122)\"],[0.8784313725490196,\"rgb(246,188,153)\"],[0.9411764705882353,\"rgb(247,212,187)\"],[1.0,\"rgb(250,234,220)\"]]},\"colorway\":[\"rgb(76,114,176)\",\"rgb(221,132,82)\",\"rgb(85,168,104)\",\"rgb(196,78,82)\",\"rgb(129,114,179)\",\"rgb(147,120,96)\",\"rgb(218,139,195)\",\"rgb(140,140,140)\",\"rgb(204,185,116)\",\"rgb(100,181,205)\"],\"font\":{\"color\":\"rgb(36,36,36)\"},\"geo\":{\"bgcolor\":\"white\",\"lakecolor\":\"white\",\"landcolor\":\"rgb(234,234,242)\",\"showlakes\":true,\"showland\":true,\"subunitcolor\":\"white\"},\"hoverlabel\":{\"align\":\"left\"},\"hovermode\":\"closest\",\"paper_bgcolor\":\"white\",\"plot_bgcolor\":\"rgb(234,234,242)\",\"polar\":{\"angularaxis\":{\"gridcolor\":\"white\",\"linecolor\":\"white\",\"showgrid\":true,\"ticks\":\"\"},\"bgcolor\":\"rgb(234,234,242)\",\"radialaxis\":{\"gridcolor\":\"white\",\"linecolor\":\"white\",\"showgrid\":true,\"ticks\":\"\"}},\"scene\":{\"xaxis\":{\"backgroundcolor\":\"rgb(234,234,242)\",\"gridcolor\":\"white\",\"gridwidth\":2,\"linecolor\":\"white\",\"showbackground\":true,\"showgrid\":true,\"ticks\":\"\",\"zerolinecolor\":\"white\"},\"yaxis\":{\"backgroundcolor\":\"rgb(234,234,242)\",\"gridcolor\":\"white\",\"gridwidth\":2,\"linecolor\":\"white\",\"showbackground\":true,\"showgrid\":true,\"ticks\":\"\",\"zerolinecolor\":\"white\"},\"zaxis\":{\"backgroundcolor\":\"rgb(234,234,242)\",\"gridcolor\":\"white\",\"gridwidth\":2,\"linecolor\":\"white\",\"showbackground\":true,\"showgrid\":true,\"ticks\":\"\",\"zerolinecolor\":\"white\"}},\"shapedefaults\":{\"fillcolor\":\"rgb(67,103,167)\",\"line\":{\"width\":0},\"opacity\":0.5},\"ternary\":{\"aaxis\":{\"gridcolor\":\"white\",\"linecolor\":\"white\",\"showgrid\":true,\"ticks\":\"\"},\"baxis\":{\"gridcolor\":\"white\",\"linecolor\":\"white\",\"showgrid\":true,\"ticks\":\"\"},\"bgcolor\":\"rgb(234,234,242)\",\"caxis\":{\"gridcolor\":\"white\",\"linecolor\":\"white\",\"showgrid\":true,\"ticks\":\"\"}},\"xaxis\":{\"automargin\":true,\"gridcolor\":\"white\",\"linecolor\":\"white\",\"showgrid\":true,\"ticks\":\"\",\"title\":{\"standoff\":15},\"zerolinecolor\":\"white\"},\"yaxis\":{\"automargin\":true,\"gridcolor\":\"white\",\"linecolor\":\"white\",\"showgrid\":true,\"ticks\":\"\",\"title\":{\"standoff\":15},\"zerolinecolor\":\"white\"}}},\"title\":{\"text\":\"Job offers matching with resume\"},\"width\":1200,\"xaxis\":{\"anchor\":\"y\",\"domain\":[0.0,1.0],\"title\":{\"text\":\"job position\"}},\"yaxis\":{\"anchor\":\"x\",\"domain\":[0.0,1.0],\"title\":{\"text\":\"Matching %\"}}},                        {\"responsive\": true}                    ).then(function(){\n",
       "                            \n",
       "var gd = document.getElementById('85bb7c52-81da-4f20-9fa5-fbfd4cf3e9d9');\n",
       "var x = new MutationObserver(function (mutations, observer) {{\n",
       "        var display = window.getComputedStyle(gd).display;\n",
       "        if (!display || display === 'none') {{\n",
       "            console.log([gd, 'removed!']);\n",
       "            Plotly.purge(gd);\n",
       "            observer.disconnect();\n",
       "        }}\n",
       "}});\n",
       "\n",
       "// Listen for the removal of the full notebook cells\n",
       "var notebookContainer = gd.closest('#notebook-container');\n",
       "if (notebookContainer) {{\n",
       "    x.observe(notebookContainer, {childList: true});\n",
       "}}\n",
       "\n",
       "// Listen for the clearing of the current output cell\n",
       "var outputEl = gd.closest('.output');\n",
       "if (outputEl) {{\n",
       "    x.observe(outputEl, {childList: true});\n",
       "}}\n",
       "\n",
       "                        })                };                });            </script>        </div>"
      ]
     },
     "metadata": {},
     "output_type": "display_data"
    }
   ],
   "source": [
    "cv_set = skill_list\n",
    "pct_list = match_skills(JD_set, cv_set, data)\n",
    "pct_list"
   ]
  },
  {
   "cell_type": "code",
   "execution_count": 401,
   "id": "904c2082-9433-4191-8e84-8350d7dd54fd",
   "metadata": {},
   "outputs": [
    {
     "data": {
      "text/plain": [
       "0"
      ]
     },
     "execution_count": 401,
     "metadata": {},
     "output_type": "execute_result"
    }
   ],
   "source": [
    "data.index[0]"
   ]
  },
  {
   "cell_type": "code",
   "execution_count": 404,
   "id": "dfa8d15e-3083-4a91-9bdc-df9a2911664a",
   "metadata": {},
   "outputs": [],
   "source": [
    "def match_skills(JD_set, cv_set, data):\n",
    "    '''Get intersection of resume skills and job offer skills and return match percentage'''\n",
    "    pct_list = []\n",
    "    \n",
    "    JD_set = list(filter(None, JD_set))\n",
    "    if len(cv_set) < 1:\n",
    "        print('could not extract skills from resume text')   \n",
    "    else:\n",
    "        #implement function comparing with a list of job_descriptions\n",
    "        for i in range(0, len(JD_set)):\n",
    "            if len(JD_set) == 0:\n",
    "                continue\n",
    "            #match = set(cv_set) & JD_set[i] \n",
    "            qu = len(set(cv_set) & JD_set[i])\n",
    "            di = len(JD_set[i])\n",
    "            pct_match = round((qu/di) * 100, 2)\n",
    "            pct_list.append([i, pct_match])\n",
    "            \n",
    "        pct_list.sort(key=lambda x: x[1], reverse = True)\n",
    "        #new_pct = sorted(pct_list, key=lambda x: x[1], reverse = True)[0:9]\n",
    "        pct_list = pct_list[0:9]\n",
    "        \n",
    "    '''Counting matching score'''\n",
    "    job_number, matching_score, job_cat = [], [], []\n",
    "    frame = pd.DataFrame\n",
    "\n",
    "    for i in pct_list:\n",
    "        cat = data[\"position\"][i[0]]\n",
    "        sec = data[\"job\"][i[0]]\n",
    "        print('{} Job as {} in Sector {} has a {}% match'.format(data.index[i[0]], cat, sec, i[1]))\n",
    "        #job_number.append(i[0])\n",
    "        matching_score.append(i[1])\n",
    "\n",
    "        if cat in job_cat:\n",
    "            job_cat.append(str(cat) + str(i[0]))\n",
    "        else:\n",
    "            job_cat.append(cat)\n",
    "\n",
    "    frame = pd.DataFrame(job_number, columns=['job_number'])\n",
    "    frame[\"matching_score\"] = matching_score\n",
    "    frame[\"Category\"] = job_cat\n",
    "\n",
    "    \n",
    "    #Visualizing with plotly\n",
    "    #for template in [\"ggplot2\", \"seaborn\"]:\n",
    "\n",
    "    fig = px.bar(\n",
    "        x=frame['Category'], \n",
    "        y=frame[\"matching_score\"],\n",
    "        labels={\"x\": \"job position\", \"y\": \"Matching %\"},\n",
    "        title=f\"Job offers matching with resume\",\n",
    "        width=1200, height=800,\n",
    "        template=\"seaborn\",\n",
    "        color = frame[\"matching_score\"])\n",
    "    fig.update_layout(\n",
    "            #margin=dict(l=20, r=20, t=20, b=20),\n",
    "        paper_bgcolor=\"lightblue\",\n",
    "    )\n",
    "    \n",
    "    return fig.show()"
   ]
  },
  {
   "cell_type": "code",
   "execution_count": null,
   "id": "d2f01a1a-76e4-409a-a065-b92804a71e39",
   "metadata": {},
   "outputs": [],
   "source": [
    "#different cleaning function\n",
    "def clean_resume(df):\n",
    "    clean = []\n",
    "    for i in range(df.shape[0]):\n",
    "        review = re.sub(\n",
    "            '(@[A-Za-z0-9]+)|([^0-9A-Za-z \\t])|(\\w+:\\/\\/\\S+)|^rt|http.+?\"',\n",
    "            \" \",\n",
    "            df[\"Resume_str\"].iloc[i],\n",
    "        )\n",
    "        review = review.lower()\n",
    "        review = review.split()\n",
    "        lm = WordNetLemmatizer()\n",
    "        review = [\n",
    "            lm.lemmatize(word)\n",
    "            for word in review\n",
    "            if not word in set(stopwords.words(\"english\"))\n",
    "        ]\n",
    "        review = \" \".join(review)\n",
    "        clean.append(review)\n",
    "    return clean"
   ]
  },
  {
   "cell_type": "code",
   "execution_count": null,
   "id": "9d018b65-d625-4b9d-8aee-eca40471054d",
   "metadata": {},
   "outputs": [],
   "source": [
    "#create skill_set from entity_ruler\n",
    "def create_skill_list(text, model = False):\n",
    "    \n",
    "    if model == True:\n",
    "        \n",
    "        skill_pattern_path = PATH_COMPLETE_DICT\n",
    "        nlp_ms = spacy.blank(\"en\")\n",
    "        ruler = nlp_ms.add_pipe(\"entity_ruler\")\n",
    "        ruler.from_disk(skill_pattern_path)\n",
    "        doc = nlp_ms(text)\n",
    "    else:\n",
    "        doc = text\n",
    "    \n",
    "    t = list([ent.text.lower()] for ent in doc.ents )\n",
    "    flat_list = [item for sublist in t for item in sublist]\n",
    "    return set(flat_list)"
   ]
  },
  {
   "cell_type": "code",
   "execution_count": null,
   "id": "d75c106f-14b9-486c-8fce-f19861a15b8a",
   "metadata": {},
   "outputs": [],
   "source": [
    "def extract_resume_skills(text):\n",
    "    \n",
    "    #model set to False if nlp models (base, trained) were already applied. Set to true if not\n",
    "    set_list_2 = []\n",
    "    ext = []\n",
    "    \n",
    "    list_1 = create_skill_list(text, model = True)  #get extracted skills with base_model\n",
    "    list_2 = load_results_manual(text)     #get extracted skills with trained_model  \n",
    "        \n",
    "    for i in range(0, len(list_2)):\n",
    "        set_list_2.append(str(list_2[i][\"entity\"]).lower().strip())\n",
    "    set_list_2 = set(set_list_2)\n",
    "    ext.append(set.union(list_1, set_list_2))\n",
    "    \n",
    "    flat_list = [item for sublist in ext for item in sublist]\n",
    "    set(flat_list)\n",
    "        \n",
    "    return flat_list"
   ]
  },
  {
   "cell_type": "markdown",
   "id": "1bcb8501-f1e2-4048-99a7-2e0582ae8d43",
   "metadata": {},
   "source": [
    "# Unused code"
   ]
  },
  {
   "cell_type": "code",
   "execution_count": null,
   "id": "27da2bbb-1158-410f-8ac0-38601a051532",
   "metadata": {},
   "outputs": [],
   "source": [
    "job_number, matching_score, job_cat = [], [], []\n",
    "\n",
    "for i in pct_list:\n",
    "    cat = df[\"Category\"][i[0]]\n",
    "    print('Job #{} in Sector {} has a {}% match'.format(i[0], df[\"Category\"][i[0]], i[1]))\n",
    "    job_number.append(i[0])\n",
    "    matching_score.append(i[1])\n",
    "    \n",
    "    if cat in job_cat:\n",
    "        job_cat.append(str(cat) + str(i[0]))\n",
    "    \n",
    "frame = pd.DataFrame(job_number, columns=['job_number'])\n",
    "frame[\"matching_score\"] = matching_score\n",
    "frame[\"Category\"] = df[\"Category\"][i[0]]"
   ]
  },
  {
   "cell_type": "code",
   "execution_count": null,
   "id": "26498634-4bec-4e34-9cc4-1fa476a041d2",
   "metadata": {},
   "outputs": [],
   "source": [
    "    ## compare list with data_set, visualize highest matching jobs\n",
    "def \n",
    "    job_number, matching_score, job_cat = [], [], []\n",
    "    frame = pd.DataFrame\n",
    "\n",
    "    for i in pct_list:\n",
    "        cat = data_cleaned_small[\"position\"][i[0]]\n",
    "        print('Job #{} in Sector {} has a {}% match'.format(i[0], cat, i[1]))\n",
    "        job_number.append(i[0])\n",
    "        matching_score.append(i[1])\n",
    "\n",
    "        if cat in job_cat:\n",
    "            job_cat.append(str(cat) + str(i[0]))\n",
    "        else:\n",
    "            job_cat.append(cat)\n",
    "\n",
    "    frame = pd.DataFrame(job_number, columns=['job_number'])\n",
    "    frame[\"matching_score\"] = matching_score\n",
    "    frame[\"Category\"] = job_cat\n",
    "\n",
    "\n",
    "    #for template in [\"ggplot2\", \"seaborn\"]:\n",
    "    import plotly.graph_objects as go\n",
    "\n",
    "    fig = px.bar(\n",
    "        x=frame['Category'], \n",
    "        y=frame[\"matching_score\"],\n",
    "        labels={\"x\": \"job position\", \"y\": \"Matching %\"},\n",
    "        title=f\"Job offers matching with resume\",\n",
    "        width=1200, height=800,\n",
    "        template=\"seaborn\",\n",
    "        color = frame[\"matching_score\"])\n",
    "    fig.update_layout(\n",
    "            #margin=dict(l=20, r=20, t=20, b=20),\n",
    "        paper_bgcolor=\"lightblue\",\n",
    "    )\n",
    "    fig.show()"
   ]
  },
  {
   "cell_type": "code",
   "execution_count": null,
   "id": "491d6da5-f64e-40d2-b0b4-07a52d1224ab",
   "metadata": {},
   "outputs": [],
   "source": [
    "#functions for getting entities text, label, start and end of character position\n",
    "\"\"\"def create_skill_set(text, model = False):\n",
    "    '''Apply basic spacy model and Create a set of the extracted skill entities'''\n",
    "    \n",
    "    if model == True:\n",
    "        nlp_ms = spacy.blank(\"en\")\n",
    "        skill_pattern_path = PATH + \"/data/dictionaries/complete_dict.jsonl\"\n",
    "        ruler = nlp_ms.add_pipe(\"entity_ruler\")\n",
    "        ruler.from_disk(skill_pattern_path)\n",
    "        doc = nlp(text)\n",
    "    else:\n",
    "        doc = text\n",
    "        \n",
    "    return set([ent.label_.upper()[6:] for ent in doc.ents if 'skill' or 'knowledge' in ent.label_.lower()])\n",
    "\"\"\""
   ]
  },
  {
   "cell_type": "code",
   "execution_count": null,
   "id": "9c1df32c-ed42-4ce4-9743-08fc3a0302f2",
   "metadata": {},
   "outputs": [],
   "source": [
    "fig = px.histogram(\n",
    "    df, x=\"Category\", title=\"Distribution of Jobs Categories\"\n",
    ").update_xaxes(categoryorder=\"total descending\")\n",
    "fig.show()"
   ]
  },
  {
   "cell_type": "code",
   "execution_count": null,
   "id": "a06cbff5-dfce-441a-93e2-0004aa596d79",
   "metadata": {},
   "outputs": [],
   "source": [
    "%%time\n",
    "#applying trained models on resume dataset\n",
    "df_Resume['entities_auto_label'] = df_Resume.Clean_Resume.apply(load_results_auto)\n",
    "df_Resume['entities_manual_label'] = df_Resume.Clean_Resume.apply(load_results_manual)\n",
    "df_Resume[\"marked_text\"] = df_Resume[\"Clean_Resume\"].str.lower().apply(nlp_ms)\n",
    "df_Resume[\"entity_ruler\"] = df_Resume[\"marked_text\"].apply(create_skill_list)\n",
    "df_Resume.reset_index(inplace = True)\n",
    "df_Resume"
   ]
  }
 ],
 "metadata": {
  "kernelspec": {
   "display_name": "Python 3 (ipykernel)",
   "language": "python",
   "name": "python3"
  },
  "language_info": {
   "codemirror_mode": {
    "name": "ipython",
    "version": 3
   },
   "file_extension": ".py",
   "mimetype": "text/x-python",
   "name": "python",
   "nbconvert_exporter": "python",
   "pygments_lexer": "ipython3",
   "version": "3.8.12"
  }
 },
 "nbformat": 4,
 "nbformat_minor": 5
}
