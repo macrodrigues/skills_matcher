{
 "cells": [
  {
   "cell_type": "code",
   "execution_count": 1,
   "id": "1d695c91-8b3d-480a-9b31-e92c48b19277",
   "metadata": {},
   "outputs": [
    {
     "name": "stderr",
     "output_type": "stream",
     "text": [
      "2021-12-06 19:59:00.806394: W tensorflow/stream_executor/platform/default/dso_loader.cc:64] Could not load dynamic library 'libcudart.so.11.0'; dlerror: libcudart.so.11.0: cannot open shared object file: No such file or directory\n",
      "2021-12-06 19:59:00.806447: I tensorflow/stream_executor/cuda/cudart_stub.cc:29] Ignore above cudart dlerror if you do not have a GPU set up on your machine.\n",
      "[nltk_data] Downloading package stopwords to\n",
      "[nltk_data]     /home/lewagonlew/nltk_data...\n",
      "[nltk_data]   Package stopwords is already up-to-date!\n",
      "[nltk_data] Downloading package wordnet to\n",
      "[nltk_data]     /home/lewagonlew/nltk_data...\n",
      "[nltk_data]   Package wordnet is already up-to-date!\n"
     ]
    }
   ],
   "source": [
    "#spacy\n",
    "import spacy\n",
    "import en_core_web_lg\n",
    "from spacy.pipeline import EntityRuler\n",
    "from spacy.lang.en import English\n",
    "from spacy.tokens import Doc, Span\n",
    "from spacy.matcher import Matcher, PhraseMatcher\n",
    "\n",
    "\n",
    "#gensim\n",
    "import gensim\n",
    "from gensim import corpora\n",
    "\n",
    "#Visualization\n",
    "from spacy import displacy\n",
    "#import pyLDAvis.gensim_models\n",
    "from wordcloud import WordCloud\n",
    "import plotly.express as px\n",
    "import matplotlib.pyplot as plt\n",
    "\n",
    "#Data loading/ Data manipulation\n",
    "import pandas as pd\n",
    "import numpy as np\n",
    "import jsonlines\n",
    "import json\n",
    "import os\n",
    "import csv\n",
    "\n",
    "#nltk\n",
    "import re\n",
    "import nltk\n",
    "from nltk.corpus import stopwords\n",
    "from nltk.stem import WordNetLemmatizer\n",
    "nltk.download(['stopwords','wordnet'])\n",
    "\n",
    "import time\n",
    "#warning\n",
    "import warnings \n",
    "warnings.filterwarnings('ignore')"
   ]
  },
  {
   "cell_type": "code",
   "execution_count": null,
   "id": "48937520-cff8-40d4-b169-3e00e5061925",
   "metadata": {},
   "outputs": [],
   "source": [
    "PATH = os.path.dirname(os.path.dirname(os.getcwd()))\n",
    "PATH"
   ]
  },
  {
   "cell_type": "markdown",
   "id": "abdf9071-02f5-470b-a3e4-829a45f78e2b",
   "metadata": {},
   "source": [
    "## Creating Dictionary File from different files/formats (degrees.csv + new_dictionary.json)"
   ]
  },
  {
   "cell_type": "code",
   "execution_count": null,
   "id": "f3fb76d7-5c05-4d3e-8084-9c848f9fb1b1",
   "metadata": {},
   "outputs": [],
   "source": [
    "degrees = pd.read_csv(PATH + \"/skills_matcher/data/dictionaries/degrees.csv\")\n",
    "degrees.shape"
   ]
  },
  {
   "cell_type": "code",
   "execution_count": null,
   "id": "610b51a5-b3fc-4d8b-b1fe-471c7d4a24af",
   "metadata": {},
   "outputs": [],
   "source": [
    "degrees.rename(columns = {\"Skill\":\"Pattern\"})"
   ]
  },
  {
   "cell_type": "code",
   "execution_count": null,
   "id": "26728b34-981e-4bf9-ac42-677e808bba0c",
   "metadata": {},
   "outputs": [],
   "source": [
    "degree_list = degrees.values.tolist()"
   ]
  },
  {
   "cell_type": "code",
   "execution_count": null,
   "id": "84f13ab8-4728-43f1-82b8-7a3b2da1a1e2",
   "metadata": {},
   "outputs": [],
   "source": [
    "#creating list from json line file (adding degrees.csv)\n",
    "\n",
    "skill_pattern = []\n",
    "with open('../data/dictionaries/new_dict.jsonl') as f:\n",
    "    for line in f:\n",
    "        skill_pattern.append(json.loads(line))"
   ]
  },
  {
   "cell_type": "code",
   "execution_count": null,
   "id": "f1f9a0b4-b0a6-4d2b-ace7-1697baa7f93c",
   "metadata": {},
   "outputs": [],
   "source": [
    "len(skill_pattern)"
   ]
  },
  {
   "cell_type": "code",
   "execution_count": null,
   "id": "88228835-7e9a-4f7e-b3d7-8417d942fa0f",
   "metadata": {},
   "outputs": [],
   "source": [
    "len(degree_list)"
   ]
  },
  {
   "cell_type": "code",
   "execution_count": null,
   "id": "036e0579-a653-4e4f-a3ba-52b6d6e3aefc",
   "metadata": {},
   "outputs": [],
   "source": [
    "list1 = []\n",
    "for i in range(0, len(skills['Skill'])):\n",
    "    dict1 = {}\n",
    "    dict1['label'] = 'SKILL'\n",
    "    skill = skills['Skill'][i]\n",
    "    sub_dict = {}\n",
    "    sub_dict['TEXT'] = skill\n",
    "    dict1['pattern'] = [sub_dict]\n",
    "    list1.append(dict1)\n",
    "    "
   ]
  },
  {
   "cell_type": "code",
   "execution_count": null,
   "id": "278d8d82-375f-4f05-89f8-54539004c6d5",
   "metadata": {},
   "outputs": [],
   "source": [
    "## function to format dataframe to needed json format\n",
    "\n",
    "def pd_to_json_format(df):    \n",
    "    new_list = []\n",
    "    new_skills = df\n",
    "    \n",
    "    for i in range(0, len(new_skills)):\n",
    "        if new_skills[\"Label\"][i] == \"SKILL\":\n",
    "            dict1 = {}\n",
    "            dict1['label'] = 'SKILL|'+ new_skills[\"Skill\"][i].replace(' ', '-')\n",
    "            skill = new_skills['Skill'][i].lower().split(' ')\n",
    "            sub_dict = {}\n",
    "            sub_list = []\n",
    "\n",
    "            for item in skill:\n",
    "                sub_dict['LOWER'] = item\n",
    "                sub_list.append(sub_dict.copy())\n",
    "                dict1['pattern'] = sub_list\n",
    "            new_list.append(dict1)\n",
    "\n",
    "        if new_skills[\"Label\"][i] == \"KNOWLEDGE\":\n",
    "            dict1 = {}\n",
    "            sub_dict = {}\n",
    "            sub_list = []\n",
    "            dict1['label'] = 'KNOWLEDGE'\n",
    "\n",
    "            sub_dict['LOWER'] = new_skills['Skill'][i]\n",
    "            sub_list.append(sub_dict.copy())\n",
    "            dict1['pattern'] = sub_list\n",
    "            new_list.append(dict1)\n",
    "\n",
    "        if new_skills[\"Label\"][i] == \"MIN_EXP\":\n",
    "            dict1 = {}\n",
    "            sub_dict = {}\n",
    "            sub_list = []\n",
    "            dict1['label'] = 'MIN_EXP'\n",
    "\n",
    "            sub_dict['LOWER'] = new_skills['Skill'][i]\n",
    "            sub_list.append(sub_dict.copy())\n",
    "            dict1['pattern'] = sub_list\n",
    "            new_list.append(dict1)\n",
    "\n",
    "        if new_skills[\"Label\"][i] == \"DEGREE\":\n",
    "            dict1 = {}\n",
    "            sub_dict = {}\n",
    "            sub_list = []\n",
    "            dict1['label'] = 'DEGREE'\n",
    "\n",
    "            sub_dict['LOWER'] = new_skills['Skill'][i]\n",
    "            sub_list.append(sub_dict.copy())\n",
    "            dict1['pattern'] = sub_list\n",
    "            new_list.append(dict1)\n",
    "\n",
    "    return new_list"
   ]
  },
  {
   "cell_type": "code",
   "execution_count": null,
   "id": "d40621e8-d558-4fa1-b7b6-81a7b981a286",
   "metadata": {},
   "outputs": [],
   "source": [
    "json_list = pd_to_json_format(degrees)"
   ]
  },
  {
   "cell_type": "code",
   "execution_count": null,
   "id": "9aaf880e-93e1-4220-a40c-3daf50f76537",
   "metadata": {},
   "outputs": [],
   "source": [
    "skill_pattern.extend(json_list)"
   ]
  },
  {
   "cell_type": "code",
   "execution_count": null,
   "id": "6c0d4769-757d-4878-9f7c-f14ac0539df8",
   "metadata": {},
   "outputs": [],
   "source": [
    "## number of elements in entitydictionary \n",
    "\n",
    "len(skill_pattern)"
   ]
  },
  {
   "cell_type": "code",
   "execution_count": 3,
   "id": "31544f21-389d-427e-a006-138dd5a42185",
   "metadata": {},
   "outputs": [],
   "source": [
    "import ujson\n",
    "from pathlib import Path\n",
    "\n",
    "def read_jsonl(file_path):\n",
    "    \"\"\"Read a .jsonl file and yield its contents line by line.\n",
    "    file_path (unicode / Path): The file path.\n",
    "    YIELDS: The loaded JSON contents of each line.\n",
    "    \"\"\"\n",
    "\n",
    "    with Path(file_path).open('r', encoding='utf8') as f:\n",
    "        for line in f:\n",
    "            try:  # hack to handle broken jsonl\n",
    "                yield ujson.loads(line.strip())\n",
    "            except ValueError:\n",
    "                continue\n",
    "\n",
    "\n",
    "def write_jsonl(file_path, lines):\n",
    "    \"\"\"Create a .jsonl file and dump contents.\n",
    "    file_path (unicode / Path): The path to the output file.\n",
    "    lines (list): The JSON-serializable contents of each line.\n",
    "    \"\"\"\n",
    "    data = [ujson.dumps(line, escape_forward_slashes=False) for line in lines]\n",
    "    Path(file_path).open('w', encoding='utf-8').write('\\n'.join(data))"
   ]
  },
  {
   "cell_type": "code",
   "execution_count": null,
   "id": "c3d9c5d0-021a-4f71-a18b-dfffaaa2fc6e",
   "metadata": {},
   "outputs": [],
   "source": [
    "##Complete Dictionary which is used for spacy nlp entity_ruler\n",
    "\n",
    "complete_dict_json_path = PATH + '/skills_matcher/data/dictionaries/complete_dict.jsonl'\n",
    "\n",
    "write_jsonl(complete_dict_json_path, skill_pattern)"
   ]
  },
  {
   "cell_type": "code",
   "execution_count": null,
   "id": "91eca4ab-15a2-4423-acc2-3e4e66c16c8e",
   "metadata": {},
   "outputs": [],
   "source": [
    "complete_dict_json_path"
   ]
  },
  {
   "cell_type": "markdown",
   "id": "0ac20b57-045d-42a0-ac79-0e6041dc69f4",
   "metadata": {},
   "source": [
    "## Importing scraped and pre-cleaned Job Description"
   ]
  },
  {
   "cell_type": "code",
   "execution_count": null,
   "id": "b17c33c5-21cd-4b16-8d25-2cd1e0bb2e50",
   "metadata": {},
   "outputs": [],
   "source": [
    "PATH"
   ]
  },
  {
   "cell_type": "code",
   "execution_count": null,
   "id": "e042db9e-0a09-46f9-aff8-cb6f57de819e",
   "metadata": {},
   "outputs": [],
   "source": [
    "skills_matcher/data/cleaned_data.csv"
   ]
  },
  {
   "cell_type": "code",
   "execution_count": null,
   "id": "e37e2c09-0d01-40f8-8922-0e9967b2c2c7",
   "metadata": {},
   "outputs": [],
   "source": [
    "#job description data\n",
    "\n",
    "data = pd.read_csv('../skills_matcher/data/cleaned_data.csv')\n",
    "data = data.drop(['Unnamed: 0'], axis = 1)\n",
    "data = data.dropna()\n",
    "data = data.drop_duplicates()\n",
    "data.head()"
   ]
  },
  {
   "cell_type": "code",
   "execution_count": null,
   "id": "37e1de6e-d21e-4022-ad4f-16eec157035a",
   "metadata": {},
   "outputs": [],
   "source": [
    "data = data.drop(columns = [\"ISCO\", \"major_job\", \"location\"])"
   ]
  },
  {
   "cell_type": "code",
   "execution_count": null,
   "id": "ca12e2f5-a09b-400f-8a62-c72341a31238",
   "metadata": {},
   "outputs": [],
   "source": [
    "data.dropna()"
   ]
  },
  {
   "cell_type": "code",
   "execution_count": null,
   "id": "87405151-5b60-45e1-b107-82f4b1d1a402",
   "metadata": {},
   "outputs": [],
   "source": [
    "#mixing job description and taking smaller sample for faster computation\n",
    "\n",
    "data = data.reindex(np.random.permutation(data.index))\n",
    "data = data.copy().iloc[\n",
    "    0:200,\n",
    "]\n",
    "data.head()"
   ]
  },
  {
   "cell_type": "code",
   "execution_count": null,
   "id": "985b716f-f42a-414e-87be-15ff484b8a85",
   "metadata": {},
   "outputs": [],
   "source": [
    "data[\"description\"].loc[0]"
   ]
  },
  {
   "cell_type": "markdown",
   "id": "087928e4-7fec-43ad-8bb5-a1151f994c23",
   "metadata": {},
   "source": [
    "# different spacy models"
   ]
  },
  {
   "cell_type": "code",
   "execution_count": null,
   "id": "591506af-ad11-4fda-a5fd-ba7e5a5a11b6",
   "metadata": {},
   "outputs": [],
   "source": [
    "# spacy english model - change to small (en_core_web_lg) for faster computation - trained with skill_pattern.jsonl (Microsoft)\n",
    "\n",
    "nlp_ms = spacy.load(\"en_core_web_sm\")\n",
    "skill_pattern_path =  \"../data/skill_patterns.jsonl\"\n",
    "\n",
    "ruler = nlp_ms.add_pipe(\"entity_ruler\")\n",
    "ruler.from_disk(skill_pattern_path)\n",
    "nlp_ms.pipe_names"
   ]
  },
  {
   "cell_type": "code",
   "execution_count": null,
   "id": "1374b1cc-0034-47ab-a9d7-ab66c7f3392d",
   "metadata": {},
   "outputs": [],
   "source": [
    "#2nd model trained with our skill_list\n",
    "\n",
    "nlp_2 = spacy.load('en_core_web_sm')\n",
    "\n",
    "ruler_2 = nlp_2.add_pipe(\"entity_ruler\")\n",
    "\n",
    "ruler_2.from_disk(new_dict_json_path)\n",
    "\n",
    "nlp_2.pipe_names"
   ]
  },
  {
   "cell_type": "markdown",
   "id": "91b25813-5a4b-4153-98ec-30cb4b0c1592",
   "metadata": {},
   "source": [
    "## cleaning and skill extraction functions (not used)"
   ]
  },
  {
   "cell_type": "code",
   "execution_count": null,
   "id": "e896754f-1745-4ceb-b168-8766f9272608",
   "metadata": {},
   "outputs": [],
   "source": [
    "def get_skills(text):\n",
    "    doc = nlp_ms(text)\n",
    "    myset = []\n",
    "    subset = []\n",
    "    for ent in doc.ents:\n",
    "        if ent.label_ == \"SKILL\":\n",
    "            subset.append(ent.text)\n",
    "    myset.append(subset)\n",
    "    return subset\n",
    "\n",
    "\n",
    "def unique_skills(x):\n",
    "    return list(set(x))"
   ]
  },
  {
   "cell_type": "code",
   "execution_count": null,
   "id": "2ef231ab-0269-477d-8807-1625d8d35944",
   "metadata": {},
   "outputs": [],
   "source": [
    "#cleaning data function - call with TRUE value if lowering/stopword removiing/punctuation removing/ lemmatizing should be done\n",
    "def clean_data(data, lower = False, stopw=False, punctuation=False, lemmatize=False):\n",
    "    data = data.dropna()\n",
    "    \n",
    "    # digits\n",
    "    #data['description'] = data['description'].str.replace('\\d+', '')\n",
    "        \n",
    "    if lower == True:\n",
    "            ## Lower case\n",
    "            data['description'] = data['description'].apply(lambda x: \" \".join(x.lower()for x in x.split()))\n",
    "            \n",
    "    ## remove tabulation and punctuation\n",
    "    if punctuation == True:\n",
    "            data['description'] = data['description'].str.replace('[^\\w\\s]',' ')\n",
    "            \n",
    "    ## stopwords\n",
    "    if stopw == True:\n",
    "            stop = stopwords.words('english')\n",
    "            data['description'] = data['description'].apply(lambda x: \" \".join(x for x in x.split() if x not in stop))\n",
    "            \n",
    "    ## lemmatizing\n",
    "    if lemmatize == True:\n",
    "            lemmatizer = WordNetLemmatizer()\n",
    "            data['description'] = data['description'].apply(lambda x: \" \".join([lemmatizer.lemmatize(word) for word in x.split()]))\n",
    "\n",
    "    ##depending on data frame, drop more columns, re-index\n",
    "    ##clean_data.drop(columns = \"position\")\n",
    "    \n",
    "    return data"
   ]
  },
  {
   "cell_type": "code",
   "execution_count": null,
   "id": "c839b198-99c0-403c-b445-76135789c8b8",
   "metadata": {},
   "outputs": [],
   "source": [
    "clean_data = clean_data(data, True, True, True, True)"
   ]
  },
  {
   "cell_type": "code",
   "execution_count": null,
   "id": "7c477de0-9589-4e0f-b7be-cbabc903e359",
   "metadata": {},
   "outputs": [],
   "source": [
    "clean_data.head()"
   ]
  },
  {
   "cell_type": "code",
   "execution_count": null,
   "id": "86e3b363-0fab-4bf7-8ac4-86f36dbbb588",
   "metadata": {},
   "outputs": [],
   "source": [
    "clean_data.shape"
   ]
  },
  {
   "cell_type": "code",
   "execution_count": null,
   "id": "8d6b5b8f-5e81-400f-94a9-511cc36a4205",
   "metadata": {},
   "outputs": [],
   "source": [
    "\"\"\"get_skills/unique_skills couldn´t extract entities from doc - see new approach\"\"\"\n",
    "\n",
    "clean_data[\"skills\"] = clean_data[\"description\"].str.lower().apply(get_skills)\n",
    "clean_data[\"skills\"] = clean_data[\"skills\"].apply(unique_skills)\n"
   ]
  },
  {
   "cell_type": "code",
   "execution_count": null,
   "id": "2e4f7c46-0bd9-49d3-825f-265e8f9b5fec",
   "metadata": {},
   "outputs": [],
   "source": [
    "clean_data.head()"
   ]
  },
  {
   "cell_type": "code",
   "execution_count": null,
   "id": "f7117fe5-03e6-493d-9ba9-8596f715b6ba",
   "metadata": {},
   "outputs": [],
   "source": [
    "clean_data['description'].loc[1]"
   ]
  },
  {
   "cell_type": "code",
   "execution_count": null,
   "id": "bb0b0744-6865-4ecf-97fa-a3e216791fb5",
   "metadata": {},
   "outputs": [],
   "source": [
    "doc = nlp_2(\"A complex-example,!\")\n",
    "print([token.text for token in doc])"
   ]
  },
  {
   "cell_type": "code",
   "execution_count": null,
   "id": "ff3b3794-b8c4-4fc2-99c8-74684b1ab587",
   "metadata": {},
   "outputs": [],
   "source": [
    "sent = nlp_2(clean_data[\"description\"][109])\n",
    "ents = [(ent.text, ent.label_) for ent in sent.ents]\n",
    "displacy.render(sent, style=\"ent\", jupyter=True)\n",
    "print(ents)"
   ]
  },
  {
   "cell_type": "code",
   "execution_count": null,
   "id": "3a7933d8-f9f0-4c47-9911-ac374ea7ff0d",
   "metadata": {},
   "outputs": [],
   "source": [
    "clean_data"
   ]
  },
  {
   "cell_type": "code",
   "execution_count": null,
   "id": "01005c79-95ea-45a3-9b5e-41ac9dc248b7",
   "metadata": {},
   "outputs": [],
   "source": [
    "fig = px.histogram(\n",
    "    clean_data, x=\"job\", title=\"Distribution of Jobs Categories\"\n",
    ").update_xaxes(categoryorder=\"total descending\")\n",
    "fig.show()"
   ]
  },
  {
   "cell_type": "code",
   "execution_count": null,
   "id": "ef683893-8755-4df6-821f-1388e5e06bfe",
   "metadata": {},
   "outputs": [],
   "source": [
    "df[\"description\"][216]"
   ]
  },
  {
   "cell_type": "markdown",
   "id": "fb086735-ba8a-4cc5-9553-fd1ded8b127f",
   "metadata": {},
   "source": [
    "## Back to cleaned job-description Data"
   ]
  },
  {
   "cell_type": "code",
   "execution_count": 5,
   "id": "bd6d84df-08ab-4b8f-9b73-7b0abbd7685e",
   "metadata": {},
   "outputs": [],
   "source": [
    "#functions for getting entities text, label, start and end of character position\n",
    "def create_skill_set(doc):\n",
    "    '''Create a set of the extracted skill entities of a doc'''\n",
    "    #nlp_doc = nlp_ms(doc)\n",
    "    return set([ent.label_.upper()[6:] for ent in doc.ents if 'skill' or 'knowledge' in ent.label_.lower()])\n",
    "\n",
    "def create_skill_position(doc):\n",
    "    '''Create a set of the extracted skill entities of a doc'''\n",
    "    #nlp_doc = nlp_ms(doc)\n",
    "    #[(ent.text, ent.start_char, ent.end_char, ent.label_) for ent in sent.ents]\n",
    "    return list([ent.start_char, ent.end_char, ent.label_] for ent in doc.ents )\n",
    "\n",
    "#def create_skillset_dict(resume_texts):\n",
    "#    '''Create a dictionary containing a set of the extracted skills. Name is key, matching skillset is value'''\n",
    "#    skillsets = [create_skill_set(resume_text) for resume_text in resume_texts]\n",
    "#   return skillsets\n"
   ]
  },
  {
   "cell_type": "code",
   "execution_count": 115,
   "id": "3890e526-4440-4360-8780-58c6fdc1f0b2",
   "metadata": {},
   "outputs": [
    {
     "data": {
      "text/plain": [
       "['entity_ruler']"
      ]
     },
     "execution_count": 115,
     "metadata": {},
     "output_type": "execute_result"
    }
   ],
   "source": [
    "nlp_ms = spacy.blank(\"en\")\n",
    "skill_pattern_path =  \"../skills_matcher/data/dictionaries/complete_dict.jsonl\"\n",
    "\n",
    "ruler = nlp_ms.add_pipe(\"entity_ruler\")\n",
    "ruler.from_disk(skill_pattern_path)\n",
    "nlp_ms.pipe_names"
   ]
  },
  {
   "cell_type": "code",
   "execution_count": 54,
   "id": "3c09dcee-d286-4142-84c6-261cbb120b02",
   "metadata": {},
   "outputs": [
    {
     "data": {
      "text/html": [
       "<div>\n",
       "<style scoped>\n",
       "    .dataframe tbody tr th:only-of-type {\n",
       "        vertical-align: middle;\n",
       "    }\n",
       "\n",
       "    .dataframe tbody tr th {\n",
       "        vertical-align: top;\n",
       "    }\n",
       "\n",
       "    .dataframe thead th {\n",
       "        text-align: right;\n",
       "    }\n",
       "</style>\n",
       "<table border=\"1\" class=\"dataframe\">\n",
       "  <thead>\n",
       "    <tr style=\"text-align: right;\">\n",
       "      <th></th>\n",
       "      <th>ISCO</th>\n",
       "      <th>major_job</th>\n",
       "      <th>job</th>\n",
       "      <th>position</th>\n",
       "      <th>location</th>\n",
       "      <th>description</th>\n",
       "    </tr>\n",
       "  </thead>\n",
       "  <tbody>\n",
       "    <tr>\n",
       "      <th>0</th>\n",
       "      <td>21</td>\n",
       "      <td>SCIENCE AND ENGINEERING PROFESSIONALS</td>\n",
       "      <td>physicist</td>\n",
       "      <td>Accelerator Physicist id54315</td>\n",
       "      <td>Villigen PSI, Aargau</td>\n",
       "      <td>[' You have an academic degree in physics or e...</td>\n",
       "    </tr>\n",
       "    <tr>\n",
       "      <th>1</th>\n",
       "      <td>21</td>\n",
       "      <td>SCIENCE AND ENGINEERING PROFESSIONALS</td>\n",
       "      <td>physicist</td>\n",
       "      <td>Applied Physicist (Computing) (EP-LBC-2021-125...</td>\n",
       "      <td>Geneva</td>\n",
       "      <td>[' Be in charge of the development of applicat...</td>\n",
       "    </tr>\n",
       "    <tr>\n",
       "      <th>2</th>\n",
       "      <td>21</td>\n",
       "      <td>SCIENCE AND ENGINEERING PROFESSIONALS</td>\n",
       "      <td>physicist</td>\n",
       "      <td>Accelerator Physicist (BE-ABP-LNO-2021-122-LD)...</td>\n",
       "      <td>Geneva</td>\n",
       "      <td>[' Contribute to the maintenance and developme...</td>\n",
       "    </tr>\n",
       "    <tr>\n",
       "      <th>3</th>\n",
       "      <td>21</td>\n",
       "      <td>SCIENCE AND ENGINEERING PROFESSIONALS</td>\n",
       "      <td>physicist</td>\n",
       "      <td>Medical Devices Physicist</td>\n",
       "      <td>Newton, Cambridgeshire</td>\n",
       "      <td>[' Agency: Newton Colmore Consulting Reference...</td>\n",
       "    </tr>\n",
       "    <tr>\n",
       "      <th>4</th>\n",
       "      <td>21</td>\n",
       "      <td>SCIENCE AND ENGINEERING PROFESSIONALS</td>\n",
       "      <td>physicist</td>\n",
       "      <td>Fluidics Physicist</td>\n",
       "      <td>Cambridge</td>\n",
       "      <td>[' Agency: Newton Colmore Consulting Reference...</td>\n",
       "    </tr>\n",
       "  </tbody>\n",
       "</table>\n",
       "</div>"
      ],
      "text/plain": [
       "   ISCO                              major_job        job  \\\n",
       "0    21  SCIENCE AND ENGINEERING PROFESSIONALS  physicist   \n",
       "1    21  SCIENCE AND ENGINEERING PROFESSIONALS  physicist   \n",
       "2    21  SCIENCE AND ENGINEERING PROFESSIONALS  physicist   \n",
       "3    21  SCIENCE AND ENGINEERING PROFESSIONALS  physicist   \n",
       "4    21  SCIENCE AND ENGINEERING PROFESSIONALS  physicist   \n",
       "\n",
       "                                            position                location  \\\n",
       "0                      Accelerator Physicist id54315    Villigen PSI, Aargau   \n",
       "1  Applied Physicist (Computing) (EP-LBC-2021-125...                  Geneva   \n",
       "2  Accelerator Physicist (BE-ABP-LNO-2021-122-LD)...                  Geneva   \n",
       "3                          Medical Devices Physicist  Newton, Cambridgeshire   \n",
       "4                                 Fluidics Physicist               Cambridge   \n",
       "\n",
       "                                         description  \n",
       "0  [' You have an academic degree in physics or e...  \n",
       "1  [' Be in charge of the development of applicat...  \n",
       "2  [' Contribute to the maintenance and developme...  \n",
       "3  [' Agency: Newton Colmore Consulting Reference...  \n",
       "4  [' Agency: Newton Colmore Consulting Reference...  "
      ]
     },
     "execution_count": 54,
     "metadata": {},
     "output_type": "execute_result"
    }
   ],
   "source": [
    "data = pd.read_csv('../skills_matcher/data/cleaned_data.csv')\n",
    "data = data.drop(['Unnamed: 0'], axis = 1)\n",
    "data = data.dropna()\n",
    "data = data.drop_duplicates()\n",
    "data.head()"
   ]
  },
  {
   "cell_type": "code",
   "execution_count": 55,
   "id": "b0c5889f-581f-4c20-a11f-658b7936a325",
   "metadata": {},
   "outputs": [
    {
     "data": {
      "text/html": [
       "<div>\n",
       "<style scoped>\n",
       "    .dataframe tbody tr th:only-of-type {\n",
       "        vertical-align: middle;\n",
       "    }\n",
       "\n",
       "    .dataframe tbody tr th {\n",
       "        vertical-align: top;\n",
       "    }\n",
       "\n",
       "    .dataframe thead th {\n",
       "        text-align: right;\n",
       "    }\n",
       "</style>\n",
       "<table border=\"1\" class=\"dataframe\">\n",
       "  <thead>\n",
       "    <tr style=\"text-align: right;\">\n",
       "      <th></th>\n",
       "      <th>job</th>\n",
       "      <th>position</th>\n",
       "      <th>description</th>\n",
       "    </tr>\n",
       "  </thead>\n",
       "  <tbody>\n",
       "    <tr>\n",
       "      <th>0</th>\n",
       "      <td>physicist</td>\n",
       "      <td>Accelerator Physicist id54315</td>\n",
       "      <td>[' You have an academic degree in physics or e...</td>\n",
       "    </tr>\n",
       "    <tr>\n",
       "      <th>1</th>\n",
       "      <td>physicist</td>\n",
       "      <td>Applied Physicist (Computing) (EP-LBC-2021-125...</td>\n",
       "      <td>[' Be in charge of the development of applicat...</td>\n",
       "    </tr>\n",
       "    <tr>\n",
       "      <th>2</th>\n",
       "      <td>physicist</td>\n",
       "      <td>Accelerator Physicist (BE-ABP-LNO-2021-122-LD)...</td>\n",
       "      <td>[' Contribute to the maintenance and developme...</td>\n",
       "    </tr>\n",
       "    <tr>\n",
       "      <th>3</th>\n",
       "      <td>physicist</td>\n",
       "      <td>Medical Devices Physicist</td>\n",
       "      <td>[' Agency: Newton Colmore Consulting Reference...</td>\n",
       "    </tr>\n",
       "    <tr>\n",
       "      <th>4</th>\n",
       "      <td>physicist</td>\n",
       "      <td>Fluidics Physicist</td>\n",
       "      <td>[' Agency: Newton Colmore Consulting Reference...</td>\n",
       "    </tr>\n",
       "    <tr>\n",
       "      <th>...</th>\n",
       "      <td>...</td>\n",
       "      <td>...</td>\n",
       "      <td>...</td>\n",
       "    </tr>\n",
       "    <tr>\n",
       "      <th>3285</th>\n",
       "      <td>washer</td>\n",
       "      <td>Car Valeter / Detailer / Washer</td>\n",
       "      <td>[' To wash, clean, valet and detail vehicles i...</td>\n",
       "    </tr>\n",
       "    <tr>\n",
       "      <th>3286</th>\n",
       "      <td>washer</td>\n",
       "      <td>Detail Technician/Fleet Washer/Truck Washer/Au...</td>\n",
       "      <td>[' Paid Training Direct Care (health) Paid Vac...</td>\n",
       "    </tr>\n",
       "    <tr>\n",
       "      <th>3287</th>\n",
       "      <td>washer</td>\n",
       "      <td>Horeca Medewerker Afwas/Stewarding / Hospitali...</td>\n",
       "      <td>[' Enthousiast en energiek Eerlijk Flexibel in...</td>\n",
       "    </tr>\n",
       "    <tr>\n",
       "      <th>3288</th>\n",
       "      <td>washer</td>\n",
       "      <td>Dishwasher 50%</td>\n",
       "      <td>[' Du har minst 1 års erfaring som oppvaskhjel...</td>\n",
       "    </tr>\n",
       "    <tr>\n",
       "      <th>3289</th>\n",
       "      <td>washer</td>\n",
       "      <td>Dishwasher employee</td>\n",
       "      <td>[' Eye for detail and through! You have a real...</td>\n",
       "    </tr>\n",
       "  </tbody>\n",
       "</table>\n",
       "<p>3290 rows × 3 columns</p>\n",
       "</div>"
      ],
      "text/plain": [
       "            job                                           position  \\\n",
       "0     physicist                      Accelerator Physicist id54315   \n",
       "1     physicist  Applied Physicist (Computing) (EP-LBC-2021-125...   \n",
       "2     physicist  Accelerator Physicist (BE-ABP-LNO-2021-122-LD)...   \n",
       "3     physicist                          Medical Devices Physicist   \n",
       "4     physicist                                 Fluidics Physicist   \n",
       "...         ...                                                ...   \n",
       "3285     washer                    Car Valeter / Detailer / Washer   \n",
       "3286     washer  Detail Technician/Fleet Washer/Truck Washer/Au...   \n",
       "3287     washer  Horeca Medewerker Afwas/Stewarding / Hospitali...   \n",
       "3288     washer                                     Dishwasher 50%   \n",
       "3289     washer                                Dishwasher employee   \n",
       "\n",
       "                                            description  \n",
       "0     [' You have an academic degree in physics or e...  \n",
       "1     [' Be in charge of the development of applicat...  \n",
       "2     [' Contribute to the maintenance and developme...  \n",
       "3     [' Agency: Newton Colmore Consulting Reference...  \n",
       "4     [' Agency: Newton Colmore Consulting Reference...  \n",
       "...                                                 ...  \n",
       "3285  [' To wash, clean, valet and detail vehicles i...  \n",
       "3286  [' Paid Training Direct Care (health) Paid Vac...  \n",
       "3287  [' Enthousiast en energiek Eerlijk Flexibel in...  \n",
       "3288  [' Du har minst 1 års erfaring som oppvaskhjel...  \n",
       "3289  [' Eye for detail and through! You have a real...  \n",
       "\n",
       "[3290 rows x 3 columns]"
      ]
     },
     "execution_count": 55,
     "metadata": {},
     "output_type": "execute_result"
    }
   ],
   "source": [
    "data = data.drop(columns = [\"ISCO\", \"major_job\", \"location\"])\n",
    "data.dropna(inplace=True)\n",
    "data.drop_duplicates(subset='description', keep=\"first\", inplace = True)\n",
    "data.reset_index(inplace = True)\n",
    "data.drop(columns = \"index\")"
   ]
  },
  {
   "cell_type": "code",
   "execution_count": 56,
   "id": "7b6efdd2-0a4b-46e9-b1ac-7777eb55965e",
   "metadata": {},
   "outputs": [
    {
     "data": {
      "text/plain": [
       "0"
      ]
     },
     "execution_count": 56,
     "metadata": {},
     "output_type": "execute_result"
    }
   ],
   "source": [
    "data.duplicated(['description']).sum()"
   ]
  },
  {
   "cell_type": "code",
   "execution_count": 14,
   "id": "ff437c3e-5e52-42dd-a7a5-761057a88f82",
   "metadata": {},
   "outputs": [],
   "source": [
    "#cleaning description string\n",
    "def clean_string(df):\n",
    "    for i in range (0, len(df)):\n",
    "        #description = re.sub(\n",
    "        #'(@[A-Za-z0-9]+)|([^0-9A-Za-z \\t])|(\\w+:\\/\\/\\S+)|^rt|http.+?\"',\n",
    "        #\" \",\n",
    "        #df.description.iloc[i],)\n",
    "        description = df.description.iloc[i].lstrip('[\"').rstrip('\"]').replace(\"'\", \"\")\n",
    "        \n",
    "        description = re.sub(' {2,}', ' ', description)\n",
    "        df['description'][i] = description.rstrip(\" \")\n",
    "\n",
    "    return df"
   ]
  },
  {
   "cell_type": "code",
   "execution_count": 57,
   "id": "64d5b176-4dc1-4d20-adde-ac6e55e7dabb",
   "metadata": {},
   "outputs": [
    {
     "data": {
      "text/plain": [
       "' All daily nanny duties Helping achieve development & Milestones by planning activities Organising playdates, playgroups and going to the park Babysitting Housekeeping in relation to the children Preparing healthy meals and snacks , Ideally looking for a long term nanny Good English communication skills Someone who loves working with children and planning activities'"
      ]
     },
     "execution_count": 57,
     "metadata": {},
     "output_type": "execute_result"
    }
   ],
   "source": [
    "#data[\"cleaned_text\"] = data[\"description\"].apply(clean_string)\n",
    "data = clean_string(data)\n",
    "data.description[3183]"
   ]
  },
  {
   "cell_type": "code",
   "execution_count": 58,
   "id": "3006c2c5-d8b1-4c8b-8d6a-dd88d727a347",
   "metadata": {},
   "outputs": [
    {
     "data": {
      "text/html": [
       "<div>\n",
       "<style scoped>\n",
       "    .dataframe tbody tr th:only-of-type {\n",
       "        vertical-align: middle;\n",
       "    }\n",
       "\n",
       "    .dataframe tbody tr th {\n",
       "        vertical-align: top;\n",
       "    }\n",
       "\n",
       "    .dataframe thead th {\n",
       "        text-align: right;\n",
       "    }\n",
       "</style>\n",
       "<table border=\"1\" class=\"dataframe\">\n",
       "  <thead>\n",
       "    <tr style=\"text-align: right;\">\n",
       "      <th></th>\n",
       "      <th>index</th>\n",
       "      <th>job</th>\n",
       "      <th>position</th>\n",
       "      <th>description</th>\n",
       "    </tr>\n",
       "  </thead>\n",
       "  <tbody>\n",
       "    <tr>\n",
       "      <th>0</th>\n",
       "      <td>0</td>\n",
       "      <td>physicist</td>\n",
       "      <td>Accelerator Physicist id54315</td>\n",
       "      <td>You have an academic degree in physics or eng...</td>\n",
       "    </tr>\n",
       "    <tr>\n",
       "      <th>1</th>\n",
       "      <td>1</td>\n",
       "      <td>physicist</td>\n",
       "      <td>Applied Physicist (Computing) (EP-LBC-2021-125...</td>\n",
       "      <td>Be in charge of the development of applicatio...</td>\n",
       "    </tr>\n",
       "    <tr>\n",
       "      <th>2</th>\n",
       "      <td>2</td>\n",
       "      <td>physicist</td>\n",
       "      <td>Accelerator Physicist (BE-ABP-LNO-2021-122-LD)...</td>\n",
       "      <td>Contribute to the maintenance and development...</td>\n",
       "    </tr>\n",
       "    <tr>\n",
       "      <th>3</th>\n",
       "      <td>3</td>\n",
       "      <td>physicist</td>\n",
       "      <td>Medical Devices Physicist</td>\n",
       "      <td>Agency: Newton Colmore Consulting Reference: ...</td>\n",
       "    </tr>\n",
       "    <tr>\n",
       "      <th>4</th>\n",
       "      <td>4</td>\n",
       "      <td>physicist</td>\n",
       "      <td>Fluidics Physicist</td>\n",
       "      <td>Agency: Newton Colmore Consulting Reference: ...</td>\n",
       "    </tr>\n",
       "    <tr>\n",
       "      <th>...</th>\n",
       "      <td>...</td>\n",
       "      <td>...</td>\n",
       "      <td>...</td>\n",
       "      <td>...</td>\n",
       "    </tr>\n",
       "    <tr>\n",
       "      <th>3285</th>\n",
       "      <td>4403</td>\n",
       "      <td>washer</td>\n",
       "      <td>Car Valeter / Detailer / Washer</td>\n",
       "      <td>To wash, clean, valet and detail vehicles ins...</td>\n",
       "    </tr>\n",
       "    <tr>\n",
       "      <th>3286</th>\n",
       "      <td>4404</td>\n",
       "      <td>washer</td>\n",
       "      <td>Detail Technician/Fleet Washer/Truck Washer/Au...</td>\n",
       "      <td>Paid Training Direct Care (health) Paid Vacat...</td>\n",
       "    </tr>\n",
       "    <tr>\n",
       "      <th>3287</th>\n",
       "      <td>4405</td>\n",
       "      <td>washer</td>\n",
       "      <td>Horeca Medewerker Afwas/Stewarding / Hospitali...</td>\n",
       "      <td>Enthousiast en energiek Eerlijk Flexibel inze...</td>\n",
       "    </tr>\n",
       "    <tr>\n",
       "      <th>3288</th>\n",
       "      <td>4406</td>\n",
       "      <td>washer</td>\n",
       "      <td>Dishwasher 50%</td>\n",
       "      <td>Du har minst 1 års erfaring som oppvaskhjelp ...</td>\n",
       "    </tr>\n",
       "    <tr>\n",
       "      <th>3289</th>\n",
       "      <td>4407</td>\n",
       "      <td>washer</td>\n",
       "      <td>Dishwasher employee</td>\n",
       "      <td>Eye for detail and through! You have a real h...</td>\n",
       "    </tr>\n",
       "  </tbody>\n",
       "</table>\n",
       "<p>3290 rows × 4 columns</p>\n",
       "</div>"
      ],
      "text/plain": [
       "      index        job                                           position  \\\n",
       "0         0  physicist                      Accelerator Physicist id54315   \n",
       "1         1  physicist  Applied Physicist (Computing) (EP-LBC-2021-125...   \n",
       "2         2  physicist  Accelerator Physicist (BE-ABP-LNO-2021-122-LD)...   \n",
       "3         3  physicist                          Medical Devices Physicist   \n",
       "4         4  physicist                                 Fluidics Physicist   \n",
       "...     ...        ...                                                ...   \n",
       "3285   4403     washer                    Car Valeter / Detailer / Washer   \n",
       "3286   4404     washer  Detail Technician/Fleet Washer/Truck Washer/Au...   \n",
       "3287   4405     washer  Horeca Medewerker Afwas/Stewarding / Hospitali...   \n",
       "3288   4406     washer                                     Dishwasher 50%   \n",
       "3289   4407     washer                                Dishwasher employee   \n",
       "\n",
       "                                            description  \n",
       "0      You have an academic degree in physics or eng...  \n",
       "1      Be in charge of the development of applicatio...  \n",
       "2      Contribute to the maintenance and development...  \n",
       "3      Agency: Newton Colmore Consulting Reference: ...  \n",
       "4      Agency: Newton Colmore Consulting Reference: ...  \n",
       "...                                                 ...  \n",
       "3285   To wash, clean, valet and detail vehicles ins...  \n",
       "3286   Paid Training Direct Care (health) Paid Vacat...  \n",
       "3287   Enthousiast en energiek Eerlijk Flexibel inze...  \n",
       "3288   Du har minst 1 års erfaring som oppvaskhjelp ...  \n",
       "3289   Eye for detail and through! You have a real h...  \n",
       "\n",
       "[3290 rows x 4 columns]"
      ]
     },
     "execution_count": 58,
     "metadata": {},
     "output_type": "execute_result"
    }
   ],
   "source": [
    "data.drop_duplicates(subset='description', keep=\"first\", inplace = True)\n",
    "data"
   ]
  },
  {
   "cell_type": "code",
   "execution_count": 17,
   "id": "f0234cbe-857a-4fe5-9f39-cc5d740378ec",
   "metadata": {},
   "outputs": [
    {
     "data": {
      "text/plain": [
       "(3290, 4)"
      ]
     },
     "execution_count": 17,
     "metadata": {},
     "output_type": "execute_result"
    }
   ],
   "source": [
    "data.shape"
   ]
  },
  {
   "cell_type": "code",
   "execution_count": 60,
   "id": "b6fbf36c-8322-4db8-bf07-68ec019a059f",
   "metadata": {},
   "outputs": [
    {
     "data": {
      "text/plain": [
       "2880     Lead, motivate and coordinate the duties of 5...\n",
       "Name: description, dtype: object"
      ]
     },
     "execution_count": 60,
     "metadata": {},
     "output_type": "execute_result"
    }
   ],
   "source": [
    "data.description.loc[data.description.str.startswith(' Lead, motivate and coordinate the duties', na=False)]"
   ]
  },
  {
   "cell_type": "code",
   "execution_count": 61,
   "id": "412eb0a5-ca8c-4cb9-a71f-9bcda49f9107",
   "metadata": {},
   "outputs": [
    {
     "data": {
      "text/plain": [
       "' Lead, motivate and coordinate the duties of 5 staff of the Finance function with responsibilities for all related transactions for: general ledger postings, accounts payable function, accounts receivable function, fixed asset ledger and cash and bank. Daily Cash flow management and weekly projections. Determines proper handling of all financial transactions and manages timely monthly close to ensure accurate Trial Balance, Profit centre reporting and variance analysis. Monitors compliance with International Financial and Reporting Standards (IFRS), company procedures and legal requirements. Preparation and submission of Quarterly VAT returns. Co-ordinates the annual independent audit, being the key contact with auditors, including all working papers, reconciliations and supporting schedules. Provides required information and analysis to auditors for all Tax submissions. Oversees internal control systems for all departments to ensure safeguarding of company assets. Responsible for holding warehouse management accountable for accuracy and timeliness of inventory controls and cost controls. Supporting CFO in cost control management and annual Budget process. Financial support to Provident Fund committee. , Educated to Degree level in Accounting/Finance or related field. Qualified accountant with ACCA/ACA qualification (min. two years post qualified). Proven experience in a Finance function. Strong IT skills with experience in ERP systems (preferably Navision) and MS Excel macros/formulas/ spreadsheet development and Data manipulation. Good interpersonal skills, with ability to build relationships with colleagues. Well organized, capable of multi-tasking and organizing work of others to ensure delivery of tight deadlines. Flexible, team player with experience of staff management. Energy and enthusiasm to understand the business, industry and be a proactive member of Management. Fluent in Greek & English.'"
      ]
     },
     "execution_count": 61,
     "metadata": {},
     "output_type": "execute_result"
    }
   ],
   "source": [
    "data.description[2880]"
   ]
  },
  {
   "cell_type": "code",
   "execution_count": 81,
   "id": "3ddcb61a-be4b-42cd-8705-97e168b7b49c",
   "metadata": {},
   "outputs": [
    {
     "name": "stdout",
     "output_type": "stream",
     "text": [
      "CPU times: user 20.2 s, sys: 59.6 ms, total: 20.2 s\n",
      "Wall time: 20.2 s\n"
     ]
    },
    {
     "data": {
      "text/html": [
       "<div>\n",
       "<style scoped>\n",
       "    .dataframe tbody tr th:only-of-type {\n",
       "        vertical-align: middle;\n",
       "    }\n",
       "\n",
       "    .dataframe tbody tr th {\n",
       "        vertical-align: top;\n",
       "    }\n",
       "\n",
       "    .dataframe thead th {\n",
       "        text-align: right;\n",
       "    }\n",
       "</style>\n",
       "<table border=\"1\" class=\"dataframe\">\n",
       "  <thead>\n",
       "    <tr style=\"text-align: right;\">\n",
       "      <th></th>\n",
       "      <th>job</th>\n",
       "      <th>position</th>\n",
       "      <th>description</th>\n",
       "      <th>marked_text</th>\n",
       "      <th>skills_pos</th>\n",
       "    </tr>\n",
       "  </thead>\n",
       "  <tbody>\n",
       "    <tr>\n",
       "      <th>0</th>\n",
       "      <td>physicist</td>\n",
       "      <td>Accelerator Physicist id54315</td>\n",
       "      <td>You have an academic degree in physics or eng...</td>\n",
       "      <td>( , you, have, an, academic, degree, in, physi...</td>\n",
       "      <td>[[43, 54, SKILL|engineering], [266, 279, SKILL...</td>\n",
       "    </tr>\n",
       "    <tr>\n",
       "      <th>1</th>\n",
       "      <td>physicist</td>\n",
       "      <td>Applied Physicist (Computing) (EP-LBC-2021-125...</td>\n",
       "      <td>Be in charge of the development of applicatio...</td>\n",
       "      <td>( , be, in, charge, of, the, development, of, ...</td>\n",
       "      <td>[[48, 56, SKILL|software], [107, 128, SKILL|di...</td>\n",
       "    </tr>\n",
       "    <tr>\n",
       "      <th>2</th>\n",
       "      <td>physicist</td>\n",
       "      <td>Accelerator Physicist (BE-ABP-LNO-2021-122-LD)...</td>\n",
       "      <td>Contribute to the maintenance and development...</td>\n",
       "      <td>( , contribute, to, the, maintenance, and, dev...</td>\n",
       "      <td>[[271, 278, SKILL|support], [473, 479, SKILL|m...</td>\n",
       "    </tr>\n",
       "    <tr>\n",
       "      <th>3</th>\n",
       "      <td>physicist</td>\n",
       "      <td>Medical Devices Physicist</td>\n",
       "      <td>Agency: Newton Colmore Consulting Reference: ...</td>\n",
       "      <td>( , agency, :, newton, colmore, consulting, re...</td>\n",
       "      <td>[]</td>\n",
       "    </tr>\n",
       "    <tr>\n",
       "      <th>4</th>\n",
       "      <td>physicist</td>\n",
       "      <td>Fluidics Physicist</td>\n",
       "      <td>Agency: Newton Colmore Consulting Reference: ...</td>\n",
       "      <td>( , agency, :, newton, colmore, consulting, re...</td>\n",
       "      <td>[]</td>\n",
       "    </tr>\n",
       "  </tbody>\n",
       "</table>\n",
       "</div>"
      ],
      "text/plain": [
       "         job                                           position  \\\n",
       "0  physicist                      Accelerator Physicist id54315   \n",
       "1  physicist  Applied Physicist (Computing) (EP-LBC-2021-125...   \n",
       "2  physicist  Accelerator Physicist (BE-ABP-LNO-2021-122-LD)...   \n",
       "3  physicist                          Medical Devices Physicist   \n",
       "4  physicist                                 Fluidics Physicist   \n",
       "\n",
       "                                         description  \\\n",
       "0   You have an academic degree in physics or eng...   \n",
       "1   Be in charge of the development of applicatio...   \n",
       "2   Contribute to the maintenance and development...   \n",
       "3   Agency: Newton Colmore Consulting Reference: ...   \n",
       "4   Agency: Newton Colmore Consulting Reference: ...   \n",
       "\n",
       "                                         marked_text  \\\n",
       "0  ( , you, have, an, academic, degree, in, physi...   \n",
       "1  ( , be, in, charge, of, the, development, of, ...   \n",
       "2  ( , contribute, to, the, maintenance, and, dev...   \n",
       "3  ( , agency, :, newton, colmore, consulting, re...   \n",
       "4  ( , agency, :, newton, colmore, consulting, re...   \n",
       "\n",
       "                                          skills_pos  \n",
       "0  [[43, 54, SKILL|engineering], [266, 279, SKILL...  \n",
       "1  [[48, 56, SKILL|software], [107, 128, SKILL|di...  \n",
       "2  [[271, 278, SKILL|support], [473, 479, SKILL|m...  \n",
       "3                                                 []  \n",
       "4                                                 []  "
      ]
     },
     "execution_count": 81,
     "metadata": {},
     "output_type": "execute_result"
    }
   ],
   "source": [
    "%%time\n",
    "#applying spacy model to create entity marked/structured text\n",
    "data[\"marked_text\"] = data[\"description\"].str.lower().apply(nlp_ms)\n",
    "data.head()"
   ]
  },
  {
   "cell_type": "code",
   "execution_count": null,
   "id": "08d744fd-5409-4845-b68b-adfec4c16c6f",
   "metadata": {},
   "outputs": [],
   "source": [
    "#applying create_skill_set/position\n",
    "data[\"skills_pos\"] = data[\"marked_text\"].apply(create_skill_position)\n",
    "data.head()"
   ]
  },
  {
   "cell_type": "code",
   "execution_count": 146,
   "id": "d554531a-817d-4759-9aa9-85f06559a3b0",
   "metadata": {},
   "outputs": [],
   "source": [
    "#creating skill set\n",
    "data[\"skills\"] = data[\"marked_text\"].apply(create_skill_set)"
   ]
  },
  {
   "cell_type": "code",
   "execution_count": 150,
   "id": "fa219ee7-74d5-48c5-98d3-aae0d6590d1e",
   "metadata": {},
   "outputs": [
    {
     "data": {
      "text/plain": [
       "100                           {MEDIUM}\n",
       "101                                {C}\n",
       "102                          {VERILOG}\n",
       "103                      {PYTHON, C++}\n",
       "104                        {PYTHON, C}\n",
       "                    ...               \n",
       "195                    {LINUX, VMWARE}\n",
       "196                            {REACT}\n",
       "197                           {VMWARE}\n",
       "198    {LINUX, JAVA, UNIX, DEPLOYMENT}\n",
       "199                      {LINUX, BASH}\n",
       "Name: skills, Length: 100, dtype: object"
      ]
     },
     "execution_count": 150,
     "metadata": {},
     "output_type": "execute_result"
    }
   ],
   "source": [
    "data[\"skills\"][100:200]"
   ]
  },
  {
   "cell_type": "code",
   "execution_count": 147,
   "id": "1e518ef2-2ba2-44cd-80ec-f147598a784a",
   "metadata": {},
   "outputs": [
    {
     "data": {
      "text/plain": [
       "(660, 6)"
      ]
     },
     "execution_count": 147,
     "metadata": {},
     "output_type": "execute_result"
    }
   ],
   "source": [
    "data.shape"
   ]
  },
  {
   "cell_type": "code",
   "execution_count": 65,
   "id": "cfbccbfc-5848-445d-aff7-32e3e6f46ee9",
   "metadata": {},
   "outputs": [],
   "source": [
    "data.drop(columns=\"index\", inplace = True)"
   ]
  },
  {
   "cell_type": "code",
   "execution_count": 83,
   "id": "a84757eb-d5ca-4376-8786-673d95c512c9",
   "metadata": {},
   "outputs": [
    {
     "data": {
      "text/html": [
       "<div>\n",
       "<style scoped>\n",
       "    .dataframe tbody tr th:only-of-type {\n",
       "        vertical-align: middle;\n",
       "    }\n",
       "\n",
       "    .dataframe tbody tr th {\n",
       "        vertical-align: top;\n",
       "    }\n",
       "\n",
       "    .dataframe thead th {\n",
       "        text-align: right;\n",
       "    }\n",
       "</style>\n",
       "<table border=\"1\" class=\"dataframe\">\n",
       "  <thead>\n",
       "    <tr style=\"text-align: right;\">\n",
       "      <th></th>\n",
       "      <th>job</th>\n",
       "      <th>position</th>\n",
       "      <th>description</th>\n",
       "      <th>marked_text</th>\n",
       "      <th>skills_pos</th>\n",
       "    </tr>\n",
       "  </thead>\n",
       "  <tbody>\n",
       "    <tr>\n",
       "      <th>0</th>\n",
       "      <td>physicist</td>\n",
       "      <td>Accelerator Physicist id54315</td>\n",
       "      <td>You have an academic degree in physics or eng...</td>\n",
       "      <td>( , you, have, an, academic, degree, in, physi...</td>\n",
       "      <td>[]</td>\n",
       "    </tr>\n",
       "    <tr>\n",
       "      <th>1</th>\n",
       "      <td>physicist</td>\n",
       "      <td>Applied Physicist (Computing) (EP-LBC-2021-125...</td>\n",
       "      <td>Be in charge of the development of applicatio...</td>\n",
       "      <td>( , be, in, charge, of, the, development, of, ...</td>\n",
       "      <td>[[682, 688, SKILL|python], [992, 998, SKILL|py...</td>\n",
       "    </tr>\n",
       "    <tr>\n",
       "      <th>2</th>\n",
       "      <td>physicist</td>\n",
       "      <td>Accelerator Physicist (BE-ABP-LNO-2021-122-LD)...</td>\n",
       "      <td>Contribute to the maintenance and development...</td>\n",
       "      <td>( , contribute, to, the, maintenance, and, dev...</td>\n",
       "      <td>[[473, 479, SKILL|medium]]</td>\n",
       "    </tr>\n",
       "    <tr>\n",
       "      <th>3</th>\n",
       "      <td>physicist</td>\n",
       "      <td>Medical Devices Physicist</td>\n",
       "      <td>Agency: Newton Colmore Consulting Reference: ...</td>\n",
       "      <td>( , agency, :, newton, colmore, consulting, re...</td>\n",
       "      <td>[]</td>\n",
       "    </tr>\n",
       "    <tr>\n",
       "      <th>4</th>\n",
       "      <td>physicist</td>\n",
       "      <td>Fluidics Physicist</td>\n",
       "      <td>Agency: Newton Colmore Consulting Reference: ...</td>\n",
       "      <td>( , agency, :, newton, colmore, consulting, re...</td>\n",
       "      <td>[]</td>\n",
       "    </tr>\n",
       "  </tbody>\n",
       "</table>\n",
       "</div>"
      ],
      "text/plain": [
       "         job                                           position  \\\n",
       "0  physicist                      Accelerator Physicist id54315   \n",
       "1  physicist  Applied Physicist (Computing) (EP-LBC-2021-125...   \n",
       "2  physicist  Accelerator Physicist (BE-ABP-LNO-2021-122-LD)...   \n",
       "3  physicist                          Medical Devices Physicist   \n",
       "4  physicist                                 Fluidics Physicist   \n",
       "\n",
       "                                         description  \\\n",
       "0   You have an academic degree in physics or eng...   \n",
       "1   Be in charge of the development of applicatio...   \n",
       "2   Contribute to the maintenance and development...   \n",
       "3   Agency: Newton Colmore Consulting Reference: ...   \n",
       "4   Agency: Newton Colmore Consulting Reference: ...   \n",
       "\n",
       "                                         marked_text  \\\n",
       "0  ( , you, have, an, academic, degree, in, physi...   \n",
       "1  ( , be, in, charge, of, the, development, of, ...   \n",
       "2  ( , contribute, to, the, maintenance, and, dev...   \n",
       "3  ( , agency, :, newton, colmore, consulting, re...   \n",
       "4  ( , agency, :, newton, colmore, consulting, re...   \n",
       "\n",
       "                                          skills_pos  \n",
       "0                                                 []  \n",
       "1  [[682, 688, SKILL|python], [992, 998, SKILL|py...  \n",
       "2                         [[473, 479, SKILL|medium]]  \n",
       "3                                                 []  \n",
       "4                                                 []  "
      ]
     },
     "execution_count": 83,
     "metadata": {},
     "output_type": "execute_result"
    }
   ],
   "source": [
    "data.head()"
   ]
  },
  {
   "cell_type": "code",
   "execution_count": 95,
   "id": "aab33c7b-6607-48ed-9fb7-f3e4dd122302",
   "metadata": {},
   "outputs": [],
   "source": [
    "#check how many empty lists (e.g. model didn´t find matching pattern) there are\n",
    "data.skills_pos[data.skills_pos.str.len() != 0]\n",
    "\n",
    "data = data[data.skills_pos.str.len() != 0]"
   ]
  },
  {
   "cell_type": "code",
   "execution_count": 102,
   "id": "c1812c03-54f9-4baf-abc2-7b9ca3ab86ce",
   "metadata": {},
   "outputs": [
    {
     "data": {
      "text/html": [
       "<div>\n",
       "<style scoped>\n",
       "    .dataframe tbody tr th:only-of-type {\n",
       "        vertical-align: middle;\n",
       "    }\n",
       "\n",
       "    .dataframe tbody tr th {\n",
       "        vertical-align: top;\n",
       "    }\n",
       "\n",
       "    .dataframe thead th {\n",
       "        text-align: right;\n",
       "    }\n",
       "</style>\n",
       "<table border=\"1\" class=\"dataframe\">\n",
       "  <thead>\n",
       "    <tr style=\"text-align: right;\">\n",
       "      <th></th>\n",
       "      <th>level_0</th>\n",
       "      <th>job</th>\n",
       "      <th>position</th>\n",
       "      <th>description</th>\n",
       "      <th>marked_text</th>\n",
       "      <th>skills_pos</th>\n",
       "    </tr>\n",
       "  </thead>\n",
       "  <tbody>\n",
       "    <tr>\n",
       "      <th>0</th>\n",
       "      <td>0</td>\n",
       "      <td>physicist</td>\n",
       "      <td>Applied Physicist (Computing) (EP-LBC-2021-125...</td>\n",
       "      <td>Be in charge of the development of applicatio...</td>\n",
       "      <td>( , be, in, charge, of, the, development, of, ...</td>\n",
       "      <td>[[682, 688, SKILL|python], [992, 998, SKILL|py...</td>\n",
       "    </tr>\n",
       "    <tr>\n",
       "      <th>1</th>\n",
       "      <td>1</td>\n",
       "      <td>physicist</td>\n",
       "      <td>Accelerator Physicist (BE-ABP-LNO-2021-122-LD)...</td>\n",
       "      <td>Contribute to the maintenance and development...</td>\n",
       "      <td>( , contribute, to, the, maintenance, and, dev...</td>\n",
       "      <td>[[473, 479, SKILL|medium]]</td>\n",
       "    </tr>\n",
       "    <tr>\n",
       "      <th>2</th>\n",
       "      <td>2</td>\n",
       "      <td>physicist</td>\n",
       "      <td>Physicist/Optical Scientist/Engineer Technolog...</td>\n",
       "      <td>PhD in physics or engineering (optical, micro...</td>\n",
       "      <td>( , phd, in, physics, or, engineering, (, opti...</td>\n",
       "      <td>[[477, 478, SKILL|C], [479, 482, SKILL|C++]]</td>\n",
       "    </tr>\n",
       "    <tr>\n",
       "      <th>3</th>\n",
       "      <td>3</td>\n",
       "      <td>physicist</td>\n",
       "      <td>Experimental Physicist</td>\n",
       "      <td>You will have experience with microfluidic ch...</td>\n",
       "      <td>( , you, will, have, experience, with, microfl...</td>\n",
       "      <td>[[172, 178, SKILL|Python]]</td>\n",
       "    </tr>\n",
       "    <tr>\n",
       "      <th>4</th>\n",
       "      <td>4</td>\n",
       "      <td>physicist</td>\n",
       "      <td>Experimental Physicist</td>\n",
       "      <td>You will have experience with microfluidic ch...</td>\n",
       "      <td>( , you, will, have, experience, with, microfl...</td>\n",
       "      <td>[[172, 178, SKILL|Python]]</td>\n",
       "    </tr>\n",
       "    <tr>\n",
       "      <th>...</th>\n",
       "      <td>...</td>\n",
       "      <td>...</td>\n",
       "      <td>...</td>\n",
       "      <td>...</td>\n",
       "      <td>...</td>\n",
       "      <td>...</td>\n",
       "    </tr>\n",
       "    <tr>\n",
       "      <th>655</th>\n",
       "      <td>655</td>\n",
       "      <td>cleaner</td>\n",
       "      <td>cleaner</td>\n",
       "      <td>Weekly pay - £9.50 p/h Holiday Pay Guaranteed...</td>\n",
       "      <td>( , weekly, pay, -, £, 9.50, p, /, h, holiday,...</td>\n",
       "      <td>[[126, 128, SKILL|Go]]</td>\n",
       "    </tr>\n",
       "    <tr>\n",
       "      <th>656</th>\n",
       "      <td>656</td>\n",
       "      <td>cleaner</td>\n",
       "      <td>Cleaner</td>\n",
       "      <td>Treat yourself and your friends with 50% Zizz...</td>\n",
       "      <td>( , treat, yourself, and, your, friends, with,...</td>\n",
       "      <td>[[100, 102, SKILL|Go]]</td>\n",
       "    </tr>\n",
       "    <tr>\n",
       "      <th>657</th>\n",
       "      <td>657</td>\n",
       "      <td>cleaner</td>\n",
       "      <td>Cleaner</td>\n",
       "      <td>High and low dusting, mopping, wiping and scr...</td>\n",
       "      <td>( , high, and, low, dusting, ,, mopping, ,, wi...</td>\n",
       "      <td>[[997, 999, SKILL|Go]]</td>\n",
       "    </tr>\n",
       "    <tr>\n",
       "      <th>658</th>\n",
       "      <td>658</td>\n",
       "      <td>cleaner</td>\n",
       "      <td>Cleaner</td>\n",
       "      <td>Cleaning Experience in an commercial environm...</td>\n",
       "      <td>( , cleaning, experience, in, an, commercial, ...</td>\n",
       "      <td>[[244, 246, SKILL|Go]]</td>\n",
       "    </tr>\n",
       "    <tr>\n",
       "      <th>659</th>\n",
       "      <td>659</td>\n",
       "      <td>cleaner</td>\n",
       "      <td>Cleaner</td>\n",
       "      <td>High and low dusting, mopping, wiping and scr...</td>\n",
       "      <td>( , high, and, low, dusting, ,, mopping, ,, wi...</td>\n",
       "      <td>[[997, 999, SKILL|Go]]</td>\n",
       "    </tr>\n",
       "  </tbody>\n",
       "</table>\n",
       "<p>660 rows × 6 columns</p>\n",
       "</div>"
      ],
      "text/plain": [
       "     level_0        job                                           position  \\\n",
       "0          0  physicist  Applied Physicist (Computing) (EP-LBC-2021-125...   \n",
       "1          1  physicist  Accelerator Physicist (BE-ABP-LNO-2021-122-LD)...   \n",
       "2          2  physicist  Physicist/Optical Scientist/Engineer Technolog...   \n",
       "3          3  physicist                             Experimental Physicist   \n",
       "4          4  physicist                             Experimental Physicist   \n",
       "..       ...        ...                                                ...   \n",
       "655      655    cleaner                                            cleaner   \n",
       "656      656    cleaner                                            Cleaner   \n",
       "657      657    cleaner                                            Cleaner   \n",
       "658      658    cleaner                                            Cleaner   \n",
       "659      659    cleaner                                            Cleaner   \n",
       "\n",
       "                                           description  \\\n",
       "0     Be in charge of the development of applicatio...   \n",
       "1     Contribute to the maintenance and development...   \n",
       "2     PhD in physics or engineering (optical, micro...   \n",
       "3     You will have experience with microfluidic ch...   \n",
       "4     You will have experience with microfluidic ch...   \n",
       "..                                                 ...   \n",
       "655   Weekly pay - £9.50 p/h Holiday Pay Guaranteed...   \n",
       "656   Treat yourself and your friends with 50% Zizz...   \n",
       "657   High and low dusting, mopping, wiping and scr...   \n",
       "658   Cleaning Experience in an commercial environm...   \n",
       "659   High and low dusting, mopping, wiping and scr...   \n",
       "\n",
       "                                           marked_text  \\\n",
       "0    ( , be, in, charge, of, the, development, of, ...   \n",
       "1    ( , contribute, to, the, maintenance, and, dev...   \n",
       "2    ( , phd, in, physics, or, engineering, (, opti...   \n",
       "3    ( , you, will, have, experience, with, microfl...   \n",
       "4    ( , you, will, have, experience, with, microfl...   \n",
       "..                                                 ...   \n",
       "655  ( , weekly, pay, -, £, 9.50, p, /, h, holiday,...   \n",
       "656  ( , treat, yourself, and, your, friends, with,...   \n",
       "657  ( , high, and, low, dusting, ,, mopping, ,, wi...   \n",
       "658  ( , cleaning, experience, in, an, commercial, ...   \n",
       "659  ( , high, and, low, dusting, ,, mopping, ,, wi...   \n",
       "\n",
       "                                            skills_pos  \n",
       "0    [[682, 688, SKILL|python], [992, 998, SKILL|py...  \n",
       "1                           [[473, 479, SKILL|medium]]  \n",
       "2         [[477, 478, SKILL|C], [479, 482, SKILL|C++]]  \n",
       "3                           [[172, 178, SKILL|Python]]  \n",
       "4                           [[172, 178, SKILL|Python]]  \n",
       "..                                                 ...  \n",
       "655                             [[126, 128, SKILL|Go]]  \n",
       "656                             [[100, 102, SKILL|Go]]  \n",
       "657                             [[997, 999, SKILL|Go]]  \n",
       "658                             [[244, 246, SKILL|Go]]  \n",
       "659                             [[997, 999, SKILL|Go]]  \n",
       "\n",
       "[660 rows x 6 columns]"
      ]
     },
     "execution_count": 102,
     "metadata": {},
     "output_type": "execute_result"
    }
   ],
   "source": [
    "data.reset_index(inplace = True)\n",
    "data.drop(columns = \"index\", inplace = True)\n",
    "data"
   ]
  },
  {
   "cell_type": "code",
   "execution_count": 103,
   "id": "f8e87730-670d-4b90-bf19-f99afe1cb139",
   "metadata": {},
   "outputs": [
    {
     "data": {
      "text/html": [
       "<div>\n",
       "<style scoped>\n",
       "    .dataframe tbody tr th:only-of-type {\n",
       "        vertical-align: middle;\n",
       "    }\n",
       "\n",
       "    .dataframe tbody tr th {\n",
       "        vertical-align: top;\n",
       "    }\n",
       "\n",
       "    .dataframe thead th {\n",
       "        text-align: right;\n",
       "    }\n",
       "</style>\n",
       "<table border=\"1\" class=\"dataframe\">\n",
       "  <thead>\n",
       "    <tr style=\"text-align: right;\">\n",
       "      <th></th>\n",
       "      <th>job</th>\n",
       "      <th>position</th>\n",
       "      <th>description</th>\n",
       "      <th>marked_text</th>\n",
       "      <th>skills_pos</th>\n",
       "    </tr>\n",
       "  </thead>\n",
       "  <tbody>\n",
       "    <tr>\n",
       "      <th>0</th>\n",
       "      <td>physicist</td>\n",
       "      <td>Applied Physicist (Computing) (EP-LBC-2021-125...</td>\n",
       "      <td>Be in charge of the development of applicatio...</td>\n",
       "      <td>( , be, in, charge, of, the, development, of, ...</td>\n",
       "      <td>[[682, 688, SKILL|python], [992, 998, SKILL|py...</td>\n",
       "    </tr>\n",
       "    <tr>\n",
       "      <th>1</th>\n",
       "      <td>physicist</td>\n",
       "      <td>Accelerator Physicist (BE-ABP-LNO-2021-122-LD)...</td>\n",
       "      <td>Contribute to the maintenance and development...</td>\n",
       "      <td>( , contribute, to, the, maintenance, and, dev...</td>\n",
       "      <td>[[473, 479, SKILL|medium]]</td>\n",
       "    </tr>\n",
       "    <tr>\n",
       "      <th>2</th>\n",
       "      <td>physicist</td>\n",
       "      <td>Physicist/Optical Scientist/Engineer Technolog...</td>\n",
       "      <td>PhD in physics or engineering (optical, micro...</td>\n",
       "      <td>( , phd, in, physics, or, engineering, (, opti...</td>\n",
       "      <td>[[477, 478, SKILL|C], [479, 482, SKILL|C++]]</td>\n",
       "    </tr>\n",
       "    <tr>\n",
       "      <th>3</th>\n",
       "      <td>physicist</td>\n",
       "      <td>Experimental Physicist</td>\n",
       "      <td>You will have experience with microfluidic ch...</td>\n",
       "      <td>( , you, will, have, experience, with, microfl...</td>\n",
       "      <td>[[172, 178, SKILL|Python]]</td>\n",
       "    </tr>\n",
       "    <tr>\n",
       "      <th>4</th>\n",
       "      <td>physicist</td>\n",
       "      <td>Experimental Physicist</td>\n",
       "      <td>You will have experience with microfluidic ch...</td>\n",
       "      <td>( , you, will, have, experience, with, microfl...</td>\n",
       "      <td>[[172, 178, SKILL|Python]]</td>\n",
       "    </tr>\n",
       "    <tr>\n",
       "      <th>...</th>\n",
       "      <td>...</td>\n",
       "      <td>...</td>\n",
       "      <td>...</td>\n",
       "      <td>...</td>\n",
       "      <td>...</td>\n",
       "    </tr>\n",
       "    <tr>\n",
       "      <th>655</th>\n",
       "      <td>cleaner</td>\n",
       "      <td>cleaner</td>\n",
       "      <td>Weekly pay - £9.50 p/h Holiday Pay Guaranteed...</td>\n",
       "      <td>( , weekly, pay, -, £, 9.50, p, /, h, holiday,...</td>\n",
       "      <td>[[126, 128, SKILL|Go]]</td>\n",
       "    </tr>\n",
       "    <tr>\n",
       "      <th>656</th>\n",
       "      <td>cleaner</td>\n",
       "      <td>Cleaner</td>\n",
       "      <td>Treat yourself and your friends with 50% Zizz...</td>\n",
       "      <td>( , treat, yourself, and, your, friends, with,...</td>\n",
       "      <td>[[100, 102, SKILL|Go]]</td>\n",
       "    </tr>\n",
       "    <tr>\n",
       "      <th>657</th>\n",
       "      <td>cleaner</td>\n",
       "      <td>Cleaner</td>\n",
       "      <td>High and low dusting, mopping, wiping and scr...</td>\n",
       "      <td>( , high, and, low, dusting, ,, mopping, ,, wi...</td>\n",
       "      <td>[[997, 999, SKILL|Go]]</td>\n",
       "    </tr>\n",
       "    <tr>\n",
       "      <th>658</th>\n",
       "      <td>cleaner</td>\n",
       "      <td>Cleaner</td>\n",
       "      <td>Cleaning Experience in an commercial environm...</td>\n",
       "      <td>( , cleaning, experience, in, an, commercial, ...</td>\n",
       "      <td>[[244, 246, SKILL|Go]]</td>\n",
       "    </tr>\n",
       "    <tr>\n",
       "      <th>659</th>\n",
       "      <td>cleaner</td>\n",
       "      <td>Cleaner</td>\n",
       "      <td>High and low dusting, mopping, wiping and scr...</td>\n",
       "      <td>( , high, and, low, dusting, ,, mopping, ,, wi...</td>\n",
       "      <td>[[997, 999, SKILL|Go]]</td>\n",
       "    </tr>\n",
       "  </tbody>\n",
       "</table>\n",
       "<p>660 rows × 5 columns</p>\n",
       "</div>"
      ],
      "text/plain": [
       "           job                                           position  \\\n",
       "0    physicist  Applied Physicist (Computing) (EP-LBC-2021-125...   \n",
       "1    physicist  Accelerator Physicist (BE-ABP-LNO-2021-122-LD)...   \n",
       "2    physicist  Physicist/Optical Scientist/Engineer Technolog...   \n",
       "3    physicist                             Experimental Physicist   \n",
       "4    physicist                             Experimental Physicist   \n",
       "..         ...                                                ...   \n",
       "655    cleaner                                            cleaner   \n",
       "656    cleaner                                            Cleaner   \n",
       "657    cleaner                                            Cleaner   \n",
       "658    cleaner                                            Cleaner   \n",
       "659    cleaner                                            Cleaner   \n",
       "\n",
       "                                           description  \\\n",
       "0     Be in charge of the development of applicatio...   \n",
       "1     Contribute to the maintenance and development...   \n",
       "2     PhD in physics or engineering (optical, micro...   \n",
       "3     You will have experience with microfluidic ch...   \n",
       "4     You will have experience with microfluidic ch...   \n",
       "..                                                 ...   \n",
       "655   Weekly pay - £9.50 p/h Holiday Pay Guaranteed...   \n",
       "656   Treat yourself and your friends with 50% Zizz...   \n",
       "657   High and low dusting, mopping, wiping and scr...   \n",
       "658   Cleaning Experience in an commercial environm...   \n",
       "659   High and low dusting, mopping, wiping and scr...   \n",
       "\n",
       "                                           marked_text  \\\n",
       "0    ( , be, in, charge, of, the, development, of, ...   \n",
       "1    ( , contribute, to, the, maintenance, and, dev...   \n",
       "2    ( , phd, in, physics, or, engineering, (, opti...   \n",
       "3    ( , you, will, have, experience, with, microfl...   \n",
       "4    ( , you, will, have, experience, with, microfl...   \n",
       "..                                                 ...   \n",
       "655  ( , weekly, pay, -, £, 9.50, p, /, h, holiday,...   \n",
       "656  ( , treat, yourself, and, your, friends, with,...   \n",
       "657  ( , high, and, low, dusting, ,, mopping, ,, wi...   \n",
       "658  ( , cleaning, experience, in, an, commercial, ...   \n",
       "659  ( , high, and, low, dusting, ,, mopping, ,, wi...   \n",
       "\n",
       "                                            skills_pos  \n",
       "0    [[682, 688, SKILL|python], [992, 998, SKILL|py...  \n",
       "1                           [[473, 479, SKILL|medium]]  \n",
       "2         [[477, 478, SKILL|C], [479, 482, SKILL|C++]]  \n",
       "3                           [[172, 178, SKILL|Python]]  \n",
       "4                           [[172, 178, SKILL|Python]]  \n",
       "..                                                 ...  \n",
       "655                             [[126, 128, SKILL|Go]]  \n",
       "656                             [[100, 102, SKILL|Go]]  \n",
       "657                             [[997, 999, SKILL|Go]]  \n",
       "658                             [[244, 246, SKILL|Go]]  \n",
       "659                             [[997, 999, SKILL|Go]]  \n",
       "\n",
       "[660 rows x 5 columns]"
      ]
     },
     "execution_count": 103,
     "metadata": {},
     "output_type": "execute_result"
    }
   ],
   "source": [
    "data.drop(columns = \"level_0\", inplace = True)\n",
    "data"
   ]
  },
  {
   "cell_type": "code",
   "execution_count": null,
   "id": "ef5af053-6f3f-48b8-b679-e2865cfb3666",
   "metadata": {},
   "outputs": [
    {
     "data": {
      "text/html": [
       "<div>\n",
       "<style scoped>\n",
       "    .dataframe tbody tr th:only-of-type {\n",
       "        vertical-align: middle;\n",
       "    }\n",
       "\n",
       "    .dataframe tbody tr th {\n",
       "        vertical-align: top;\n",
       "    }\n",
       "\n",
       "    .dataframe thead th {\n",
       "        text-align: right;\n",
       "    }\n",
       "</style>\n",
       "<table border=\"1\" class=\"dataframe\">\n",
       "  <thead>\n",
       "    <tr style=\"text-align: right;\">\n",
       "      <th></th>\n",
       "      <th>job</th>\n",
       "      <th>position</th>\n",
       "      <th>description</th>\n",
       "      <th>marked_text</th>\n",
       "      <th>skills_pos</th>\n",
       "    </tr>\n",
       "  </thead>\n",
       "  <tbody>\n",
       "    <tr>\n",
       "      <th>0</th>\n",
       "      <td>physicist</td>\n",
       "      <td>Accelerator Physicist id54315</td>\n",
       "      <td>You have an academic degree in physics or eng...</td>\n",
       "      <td>( , you, have, an, academic, degree, in, physi...</td>\n",
       "      <td>[]</td>\n",
       "    </tr>\n",
       "    <tr>\n",
       "      <th>1</th>\n",
       "      <td>physicist</td>\n",
       "      <td>Applied Physicist (Computing) (EP-LBC-2021-125...</td>\n",
       "      <td>Be in charge of the development of applicatio...</td>\n",
       "      <td>( , be, in, charge, of, the, development, of, ...</td>\n",
       "      <td>[[682, 688, SKILL|python], [992, 998, SKILL|py...</td>\n",
       "    </tr>\n",
       "    <tr>\n",
       "      <th>2</th>\n",
       "      <td>physicist</td>\n",
       "      <td>Accelerator Physicist (BE-ABP-LNO-2021-122-LD)...</td>\n",
       "      <td>Contribute to the maintenance and development...</td>\n",
       "      <td>( , contribute, to, the, maintenance, and, dev...</td>\n",
       "      <td>[[473, 479, SKILL|medium]]</td>\n",
       "    </tr>\n",
       "    <tr>\n",
       "      <th>3</th>\n",
       "      <td>physicist</td>\n",
       "      <td>Medical Devices Physicist</td>\n",
       "      <td>Agency: Newton Colmore Consulting Reference: ...</td>\n",
       "      <td>( , agency, :, newton, colmore, consulting, re...</td>\n",
       "      <td>[]</td>\n",
       "    </tr>\n",
       "    <tr>\n",
       "      <th>4</th>\n",
       "      <td>physicist</td>\n",
       "      <td>Fluidics Physicist</td>\n",
       "      <td>Agency: Newton Colmore Consulting Reference: ...</td>\n",
       "      <td>( , agency, :, newton, colmore, consulting, re...</td>\n",
       "      <td>[]</td>\n",
       "    </tr>\n",
       "    <tr>\n",
       "      <th>...</th>\n",
       "      <td>...</td>\n",
       "      <td>...</td>\n",
       "      <td>...</td>\n",
       "      <td>...</td>\n",
       "      <td>...</td>\n",
       "    </tr>\n",
       "    <tr>\n",
       "      <th>3285</th>\n",
       "      <td>washer</td>\n",
       "      <td>Car Valeter / Detailer / Washer</td>\n",
       "      <td>To wash, clean, valet and detail vehicles ins...</td>\n",
       "      <td>( , to, wash, ,, clean, ,, valet, and, detail,...</td>\n",
       "      <td>[]</td>\n",
       "    </tr>\n",
       "    <tr>\n",
       "      <th>3286</th>\n",
       "      <td>washer</td>\n",
       "      <td>Detail Technician/Fleet Washer/Truck Washer/Au...</td>\n",
       "      <td>Paid Training Direct Care (health) Paid Vacat...</td>\n",
       "      <td>( , paid, training, direct, care, (, health, )...</td>\n",
       "      <td>[]</td>\n",
       "    </tr>\n",
       "    <tr>\n",
       "      <th>3287</th>\n",
       "      <td>washer</td>\n",
       "      <td>Horeca Medewerker Afwas/Stewarding / Hospitali...</td>\n",
       "      <td>Enthousiast en energiek Eerlijk Flexibel inze...</td>\n",
       "      <td>( , enthousiast, en, energiek, eerlijk, flexib...</td>\n",
       "      <td>[]</td>\n",
       "    </tr>\n",
       "    <tr>\n",
       "      <th>3288</th>\n",
       "      <td>washer</td>\n",
       "      <td>Dishwasher 50%</td>\n",
       "      <td>Du har minst 1 års erfaring som oppvaskhjelp ...</td>\n",
       "      <td>( , du, har, minst, 1, års, erfaring, som, opp...</td>\n",
       "      <td>[]</td>\n",
       "    </tr>\n",
       "    <tr>\n",
       "      <th>3289</th>\n",
       "      <td>washer</td>\n",
       "      <td>Dishwasher employee</td>\n",
       "      <td>Eye for detail and through! You have a real h...</td>\n",
       "      <td>( , eye, for, detail, and, through, !, you, ha...</td>\n",
       "      <td>[]</td>\n",
       "    </tr>\n",
       "  </tbody>\n",
       "</table>\n",
       "<p>3290 rows × 5 columns</p>\n",
       "</div>"
      ],
      "text/plain": [
       "            job                                           position  \\\n",
       "0     physicist                      Accelerator Physicist id54315   \n",
       "1     physicist  Applied Physicist (Computing) (EP-LBC-2021-125...   \n",
       "2     physicist  Accelerator Physicist (BE-ABP-LNO-2021-122-LD)...   \n",
       "3     physicist                          Medical Devices Physicist   \n",
       "4     physicist                                 Fluidics Physicist   \n",
       "...         ...                                                ...   \n",
       "3285     washer                    Car Valeter / Detailer / Washer   \n",
       "3286     washer  Detail Technician/Fleet Washer/Truck Washer/Au...   \n",
       "3287     washer  Horeca Medewerker Afwas/Stewarding / Hospitali...   \n",
       "3288     washer                                     Dishwasher 50%   \n",
       "3289     washer                                Dishwasher employee   \n",
       "\n",
       "                                            description  \\\n",
       "0      You have an academic degree in physics or eng...   \n",
       "1      Be in charge of the development of applicatio...   \n",
       "2      Contribute to the maintenance and development...   \n",
       "3      Agency: Newton Colmore Consulting Reference: ...   \n",
       "4      Agency: Newton Colmore Consulting Reference: ...   \n",
       "...                                                 ...   \n",
       "3285   To wash, clean, valet and detail vehicles ins...   \n",
       "3286   Paid Training Direct Care (health) Paid Vacat...   \n",
       "3287   Enthousiast en energiek Eerlijk Flexibel inze...   \n",
       "3288   Du har minst 1 års erfaring som oppvaskhjelp ...   \n",
       "3289   Eye for detail and through! You have a real h...   \n",
       "\n",
       "                                            marked_text  \\\n",
       "0     ( , you, have, an, academic, degree, in, physi...   \n",
       "1     ( , be, in, charge, of, the, development, of, ...   \n",
       "2     ( , contribute, to, the, maintenance, and, dev...   \n",
       "3     ( , agency, :, newton, colmore, consulting, re...   \n",
       "4     ( , agency, :, newton, colmore, consulting, re...   \n",
       "...                                                 ...   \n",
       "3285  ( , to, wash, ,, clean, ,, valet, and, detail,...   \n",
       "3286  ( , paid, training, direct, care, (, health, )...   \n",
       "3287  ( , enthousiast, en, energiek, eerlijk, flexib...   \n",
       "3288  ( , du, har, minst, 1, års, erfaring, som, opp...   \n",
       "3289  ( , eye, for, detail, and, through, !, you, ha...   \n",
       "\n",
       "                                             skills_pos  \n",
       "0                                                    []  \n",
       "1     [[682, 688, SKILL|python], [992, 998, SKILL|py...  \n",
       "2                            [[473, 479, SKILL|medium]]  \n",
       "3                                                    []  \n",
       "4                                                    []  \n",
       "...                                                 ...  \n",
       "3285                                                 []  \n",
       "3286                                                 []  \n",
       "3287                                                 []  \n",
       "3288                                                 []  \n",
       "3289                                                 []  \n",
       "\n",
       "[3290 rows x 5 columns]"
      ]
     },
     "execution_count": 23,
     "metadata": {},
     "output_type": "execute_result"
    }
   ],
   "source": [
    "def convert(o):\n",
    "    if isinstance(o, numpy.int64): return int(o)  \n",
    "    raise TypeError\n",
    "\n",
    "json.dumps({'value': numpy.int64(42)}, default=convert)"
   ]
  },
  {
   "cell_type": "markdown",
   "id": "cdb19c9c-af15-4e83-8d4f-c3cc26c1bd9f",
   "metadata": {},
   "source": [
    "# creating annotation_data json file format"
   ]
  },
  {
   "cell_type": "code",
   "execution_count": null,
   "id": "33a47d1d-4154-42f7-b733-7dcf42646caf",
   "metadata": {},
   "outputs": [],
   "source": [
    "data.head(100)"
   ]
  },
  {
   "cell_type": "code",
   "execution_count": 96,
   "id": "be3a4c75-6008-460d-ba3d-7d86f8b4f8d6",
   "metadata": {},
   "outputs": [],
   "source": [
    "def pd_to_json_format(df):    \n",
    "    new_list = []\n",
    "    \n",
    "    for i in range (0, len(df)):\n",
    "        dict1 = {}\n",
    "        dict1['ID'] = int(df.index[i])\n",
    "        dict1['data'] = df.description[i]\n",
    "        dict1['label'] = df.skills_pos[i]\n",
    "        new_list.append(dict1.copy())\n",
    "        \n",
    "    return new_list"
   ]
  },
  {
   "cell_type": "code",
   "execution_count": 104,
   "id": "d5b80089-9922-4c9d-b772-347059a75a34",
   "metadata": {},
   "outputs": [],
   "source": [
    "json_list = pd_to_json_format(data)"
   ]
  },
  {
   "cell_type": "code",
   "execution_count": 123,
   "id": "eeff738d-8962-479a-b4c2-c4eac19742a5",
   "metadata": {},
   "outputs": [
    {
     "data": {
      "text/plain": [
       "{'ID': 400,\n",
       " 'data': ' Location: Gdańsk POL Start Date: 2022-01-17 Salary (gross): 10.0k-20.0k (UoP) PLN / month Category: Fullstack Company Size: 20+ , C++ English Linux Git Python Proactivity Problem solving Open CV Image processing 3D processing , HALCON VISION LIBRARY Docker Leadership skills Critical thinking ROS Robot Operating System',\n",
       " 'label': [[131, 134, 'SKILL|C++'],\n",
       "  [143, 148, 'SKILL|Linux'],\n",
       "  [149, 152, 'SKILL|Git'],\n",
       "  [153, 159, 'SKILL|Python'],\n",
       "  [251, 257, 'SKILL|docker']]}"
      ]
     },
     "execution_count": 123,
     "metadata": {},
     "output_type": "execute_result"
    }
   ],
   "source": [
    "json_list[400]"
   ]
  },
  {
   "cell_type": "code",
   "execution_count": 105,
   "id": "3752c9bf-2038-4d00-a594-4c4ea2aaee5b",
   "metadata": {},
   "outputs": [],
   "source": [
    "path =  '../skills_matcher/data/jd_auto_annotation.jsonl'\n",
    "write_jsonl(path, json_list)"
   ]
  },
  {
   "cell_type": "code",
   "execution_count": null,
   "id": "5ea343d7-4017-427a-a983-b50904f7babc",
   "metadata": {},
   "outputs": [],
   "source": [
    "##creating json_file from list (in json format), saving it to disk\n",
    "\n",
    "jsonStr = json.dumps(json_list)\n",
    "jsonFile = open(\"JD_annotation_data.json\", \"w\")\n",
    "jsonFile.write(jsonStr)\n",
    "jsonFile.close()"
   ]
  },
  {
   "cell_type": "markdown",
   "id": "0666132a-a03d-4bb1-a3a8-4b07c6255472",
   "metadata": {},
   "source": [
    "# End of Base_model Notebook"
   ]
  },
  {
   "cell_type": "code",
   "execution_count": null,
   "id": "a4ec1361-5f5d-4ec6-8b29-e8845d676cd7",
   "metadata": {},
   "outputs": [],
   "source": []
  },
  {
   "cell_type": "code",
   "execution_count": null,
   "id": "6e886b37-4ed3-4865-b7b9-16e87097ca10",
   "metadata": {},
   "outputs": [],
   "source": []
  },
  {
   "cell_type": "code",
   "execution_count": null,
   "id": "2d97200a-173d-4ef6-a2cb-fa01cf3fd871",
   "metadata": {},
   "outputs": [],
   "source": []
  },
  {
   "cell_type": "markdown",
   "id": "a721068b-5bfc-420b-9412-2a5518973b94",
   "metadata": {},
   "source": [
    "#### adding Job Category as Entity"
   ]
  },
  {
   "cell_type": "code",
   "execution_count": null,
   "id": "d8eed898-f498-4c2a-9d4d-221f0a65174d",
   "metadata": {},
   "outputs": [],
   "source": [
    "df.Category.unique()"
   ]
  },
  {
   "cell_type": "code",
   "execution_count": null,
   "id": "3efa72bd-a894-490f-9c9c-a520ef2bb644",
   "metadata": {},
   "outputs": [],
   "source": [
    "patterns = df.Category.unique()\n",
    "for a in patterns:\n",
    "    ruler.add_patterns([{\"label\": \"Job-Category\", \"pattern\": a}])"
   ]
  },
  {
   "cell_type": "code",
   "execution_count": null,
   "id": "bc5d82cb-e820-4976-8263-508d7fda8845",
   "metadata": {},
   "outputs": [],
   "source": [
    "#options= {\"ents\": \"Job-Category\", \"colors\": \"#ff3232\"},{\"ents\": \"SKILL\", \"colors\": \"#56c426\"}\n",
    "colors = {\n",
    "    \"Job-Category\": \"linear-gradient(90deg, #aa9cfc, #fc9ce7)\",\n",
    "    \"SKILL\": \"linear-gradient(90deg, #9BE15D, #00E3AE)\",\n",
    "    \"ORG\": \"#ffd966\",\n",
    "    \"PERSON\": \"#e06666\",\n",
    "    \"GPE\": \"#9fc5e8\",\n",
    "    \"DATE\": \"#c27ba0\",\n",
    "    \"ORDINAL\": \"#674ea7\",\n",
    "    \"PRODUCT\": \"#f9cb9c\",\n",
    "}\n",
    "options = {\n",
    "    \"ents\": [\n",
    "        \"Job-Category\",\n",
    "        \"SKILL\",\n",
    "        \"ORG\",\n",
    "        \"PERSON\",\n",
    "        \"GPE\",\n",
    "        \"DATE\",\n",
    "        \"ORDINAL\",\n",
    "        \"PRODUCT\",\n",
    "    ],\n",
    "    \"colors\": colors,\n",
    "}\n",
    "sent = nlp_2(df[\"Resume_str\"].iloc[99])\n",
    "displacy.render(sent, style=\"ent\", jupyter=True, options=options)"
   ]
  },
  {
   "cell_type": "code",
   "execution_count": null,
   "id": "6a17b52a-ebf5-4aaa-8ee2-df85290704b8",
   "metadata": {},
   "outputs": [],
   "source": []
  },
  {
   "cell_type": "markdown",
   "id": "4ead7125-eb7b-48cd-bfa0-586b00723646",
   "metadata": {},
   "source": [
    "# Visualization/Matching "
   ]
  },
  {
   "cell_type": "code",
   "execution_count": 143,
   "id": "f3634039-a534-4868-8423-5e5bf86164f8",
   "metadata": {},
   "outputs": [
    {
     "name": "stdout",
     "output_type": "stream",
     "text": [
      "[('communications', 'SKILL|communications'), ('publishing', 'SKILL|publishing'), ('Marketing', 'SKILL|marketing'), ('publishing', 'SKILL|publishing'), ('marketing', 'SKILL|marketing'), ('chef', 'SKILL|Chef'), ('email marketing', 'SKILL|email-marketing'), ('MailChimp', 'SKILL|mailchimp'), ('business', 'SKILL|business'), ('support', 'SKILL|support'), ('marketing', 'SKILL|marketing'), ('Communications', 'SKILL|communications'), ('Communications', 'SKILL|communications'), ('communications', 'SKILL|communications'), ('Communications', 'SKILL|communications'), ('communications', 'SKILL|communications'), ('software', 'SKILL|software'), ('communications', 'SKILL|communications'), ('marketing', 'SKILL|marketing'), ('Google analytics', 'SKILL|google-analytics'), ('business', 'SKILL|business'), ('support', 'SKILL|support'), ('marketing', 'SKILL|marketing'), ('graphic design', 'SKILL|graphic-design'), ('design', 'SKILL|design'), ('communications', 'SKILL|communications'), ('email marketing', 'SKILL|email-marketing'), ('project management', 'SKILL|project-management'), ('communications', 'SKILL|communications')]\n"
     ]
    }
   ],
   "source": [
    "test_resume = nlp_ms(df[\"Resume_str\"].iloc[0])\n",
    "resume_ents = [(ent.text, ent.label_) for ent in test_resume.ents]\n",
    "#displacy.render(sent, style=\"ent\", jupyter=True)\n",
    "print(resume_ents)"
   ]
  },
  {
   "cell_type": "code",
   "execution_count": 142,
   "id": "eae17683-2053-49de-987d-72664b3c066e",
   "metadata": {},
   "outputs": [],
   "source": [
    "resume_2 = \"HR ASSISTANT/PAYROLL         Highlights        Paychex, Mastertax, ABRA, Time Star, InfoTronics, Store Master, Dominion, QuickBooks\\nCeridian, PeopleSoft, SAP, Microsoft Word, Excel and PowerPoint, Crystal Reports              Experience      HR Assistant/Payroll    Company Name   －   City  ,   State      Human Resources professional offering over 15 years of combined HR and payroll\\n          experience in both manufacturing and academic settings\\nAccurate and timely preparation of employee payroll, payroll tax information, and\\n          employee benefits administration\\nHighly effective employer representation in unemployment claims and hearings.         01/2014   to   01/2014     Payroll & Benefits Coordinator    Company Name   －   City  ,   State      Process weekly payroll for 100 hourly and salaried Associates\\n    Garnishment, Levy and Child Support processing\\n    Compile weekly labor hours      \\n    Enter new hire information into HRIS/Payroll system\\n    Assist with Annual Benefits Open Enrollment\\n    Process employee status changes in payroll, personnel, and benefit records\\n   Respond to Unemployment claims \\n    Establish written policies and procedures\\n    Assist in employee conflict resolution\\n    Worker's Compensation accident reporting\\n    Maintain Company-wide OSHA 300 and OSHA 300A.         01/2013   to   01/2013     Assistant Office Manager    Company Name   －   City  ,   State      Calculate daily timesheets \\n     Enter new hire information into HRIS/Payroll system\\n     Process employee status changes \\n     Respond to Unemployment claims\\n    Maintain OSHA 300 and OSHA 300A\\n     Worker's Compensation accident reporting, loss time tracking\\n    Process monthly billing\\n    Process customer payments\\n    Generate purchase orders\\n    Maintain HRIS/Payroll system \\n    Process invoices for payment.         01/2012   to   01/2013     HR Assistant/Payroll    Company Name   －   City  ,   State      Process weekly payroll for 100 hourly and salaried Associates\\n    Garnishment, Levy and Child Support processing\\n    Compile weekly labor hours      \\n    Enter new hire information into HRIS/Payroll system\\n    Assist with Annual Benefits Open Enrollment\\n    Process employee status changes in payroll, personnel, and benefit records\\n   Respond to Unemployment claims \\n    Establish written policies and procedures\\n    Assist in employee conflict resolution\\n    Reviewed applications and identified potential candidates for position openings\\n    Worker's Compensation accident reporting\\n    Maintain Company-wide MSDS documents, OSHA 300 and OSHA 300A\\n    Coordinate quarterly meetings.         01/2009   to   01/2012     Safety & Benefits Coordinator    Company Name   －   City  ,   State      promoted to this position in 2009)\\n     Determine monthly benefit eligibility\\n     Maintain benefit HRIS system\\n     Determine quarterly 401k eligibility\\n     Monthly audit of medical, dental and voluntary insurance products\\n     Process 401k Benefit Event Notices \\t\\n     Record Associate and customer accidents\\n     Maintain OSHA 300 log and annual OSHA 300A for multiple locations\\n     Maintain Company-wide MSDS documents\\n     Worker's Compensation and General Liability accident reporting and investigation \\n     Conducted annual safety training\\n     Coordinate monthly random drug screens\\n     Respond to Unemployment claims, and effectively represent WESCO in Unemployment hearings\\n     Assist with Annual Benefits Open Enrollment\\n     Coordinate annual Recognition Luncheon\\n     Assist in employee conflict resolution \\n     Establish written policies and procedures.         01/2004   to   01/2009     Payroll / Human Resources Assistant    Company Name   －   City  ,   State      Process weekly and biweekly payroll for over 300 hourly and salaried Associates\\n      Garnishment, Levy and Child Support processing\\n      Compile weekly labor hours      \\n      Enter new hire information into HRIS/Payroll system\\n      Process employee status changes in payroll, personnel, and benefit records\\n      Compilation and distribution of performance reviewsto multiple locations \\n      Transfer weekly payroll direct deposit file \\n      Process weekly 401k payments with outside vendor\\n      Timely and accurate reporting of new hires to the State of MI\\n      Respond to Unemployment claims, and effectively represent WESCO in Unemployment hearings.         01/2002   to   01/2004     Human Resources / Payroll Assistant    Company Name   －   City  ,   State      Primary contact between Human Resources and Corporate Payroll\\n     Prepare and distribute disciplinary actions for unionized manufacturing plant\\n     Maintain daily attendance records\\n     Reviewed applications and identified potential candidates for position openings\\n     Assist with generating Union layoffs and recalls\\t\\n     Maintain accurate confidential employee files\\t     \\n     Coordinate Annual Service Award Program.         01/2001   to   01/2002     Payroll Tax Analyst    Company Name   －   City  ,   State      Computed over 200 quarterly unemployment tax returns for every state in the Continental U.S.  Compiled withholding information for weekly tax deposits made via EFT\\n     Examined tax information to file monthly and quarterly withholding returns for states and localities\\n     Compiled divisional information to complete quarterly and annual Federal filings\\n     Analyzed information for annual reporting to Federal, State and local government.         01/1999   to   01/2001     Payroll Clerk / Human Resources Assistant    Company Name   －   City  ,   State      Compiled information to calculate bi-weekly payroll for over 200 employees\\n     Prepared information for quarterly Federal tax returns, sales and use tax, State and local reporting\\n     Coordinated open enrollment for health care benefits\\n     Ensured correct paperwork was timely filed for Workers Compensation claims\\n     Researched employee records to analyze unemployment eligibility\\n     Calculated field trip information for billing back to classrooms\\n     Confirmed retirement information for monthly reporting to the State of Michigan\\n     Maintained direct deposit system.         01/1996   to   01/1999     Payroll Clerk / Human Resources Assistant    Company Name   －   City  ,   State      Calculated weekly payroll for over 350 employees\\n     Determined eligibility for health care benefits company-wide, including accurate maintenance of information\\nLiaison between 400 employees and health care insurance company\\nMaintained necessary materials required to conduct new hire orientations\\nReviewed applications and identified potential candidates for position openings\\nResearched employee information to complete unemployment determination\\nFiled New Hire reports to meet State compliance\\nReviewed weekly uniform billing for 200 employees, including verification of correct billing and submitted credits\\nDeveloped spreadsheets to track employee reviews, insurance, and holiday pay\\nEnabled accurate payroll information to be extracted from spreadsheets.          Education          B.B.A  :   Human Resources    Human Resources            MIOSHA Level One Certification\\n          Baker College          General Industry Certification      Macomb Community College   －   City  ,   State              Skills    ABRA, academic, Benefits, benefits administration, billing, bi, Ceridian, conflict resolution, Crystal Reports, HRIS, Human Resources, HR, insurance, Process invoices, local government, materials, meetings, Excel, PowerPoint, Microsoft Word, Payroll, PeopleSoft, performance reviews, personnel, policies, QuickBooks, reporting, safety, sales, SAP, spreadsheets, tax, tax retur\""
   ]
  },
  {
   "cell_type": "code",
   "execution_count": 145,
   "id": "fa62d54d-1ff7-4f38-9beb-7891b753a3d1",
   "metadata": {},
   "outputs": [
    {
     "data": {
      "text/html": [
       "<span class=\"tex2jax_ignore\"><div class=\"entities\" style=\"line-height: 2.5; direction: ltr\">         OWNER         Summary     Dynamic event planner and \n",
       "<mark class=\"entity\" style=\"background: #ddd; padding: 0.45em 0.6em; margin: 0 0.25em; line-height: 1; border-radius: 0.35em;\">\n",
       "    communications\n",
       "    <span style=\"font-size: 0.8em; font-weight: bold; line-height: 1; border-radius: 0.35em; vertical-align: middle; margin-left: 0.5rem\">SKILL|communications</span>\n",
       "</mark>\n",
       " professional looking for the anti-desk job. My main passions in life are travel, food, and creating events and experiences, specifically around food. I have lived all over the US and in multiple countries. I have worked in multiple restaurants, although it is not reflected on my resume. I would be happy to send a list of the places I've worked. I spent six years working with chefs and authors in cookbook \n",
       "<mark class=\"entity\" style=\"background: #ddd; padding: 0.45em 0.6em; margin: 0 0.25em; line-height: 1; border-radius: 0.35em;\">\n",
       "    publishing\n",
       "    <span style=\"font-size: 0.8em; font-weight: bold; line-height: 1; border-radius: 0.35em; vertical-align: middle; margin-left: 0.5rem\">SKILL|publishing</span>\n",
       "</mark>\n",
       " world in NYC (Cooking with Italian Grandmothers (IACP and IPPY winner), Afield (James Beard Nominated), Off the Menu, Primal Cuts, Made in America). I also worked for JustFood.org under Jessica Gaffney (Former Director of \n",
       "<mark class=\"entity\" style=\"background: #ddd; padding: 0.45em 0.6em; margin: 0 0.25em; line-height: 1; border-radius: 0.35em;\">\n",
       "    Marketing\n",
       "    <span style=\"font-size: 0.8em; font-weight: bold; line-height: 1; border-radius: 0.35em; vertical-align: middle; margin-left: 0.5rem\">SKILL|marketing</span>\n",
       "</mark>\n",
       " on multiple events). I planned The Butcher's Guild conference in Napa. I created a workshop in Chicago called Sustainable:: Cities at a cooking school, as part of the Off the Menu book tour. I have been responsible for garnering press and sponsorship/partnerships for cookbooks and events.        Highlights         Worked on multiple events related to cookbooks and food, with JustFood.org, Ark Endeavors and Thrillist/Jack Threads.             Accomplishments      Garnered extensive press for authors, experts, and products, over the course of six years in the \n",
       "<mark class=\"entity\" style=\"background: #ddd; padding: 0.45em 0.6em; margin: 0 0.25em; line-height: 1; border-radius: 0.35em;\">\n",
       "    publishing\n",
       "    <span style=\"font-size: 0.8em; font-weight: bold; line-height: 1; border-radius: 0.35em; vertical-align: middle; margin-left: 0.5rem\">SKILL|publishing</span>\n",
       "</mark>\n",
       " and PR spaces  Created hundreds of events around the country, including a small but successful future of food conference in Chicago, over 50 restaurant events at Italian restaurants across the country, over 50 restaurant events at restaurants who participated in our cookbooks, the butcher's guild conference in Napa, worked with the \n",
       "<mark class=\"entity\" style=\"background: #ddd; padding: 0.45em 0.6em; margin: 0 0.25em; line-height: 1; border-radius: 0.35em;\">\n",
       "    marketing\n",
       "    <span style=\"font-size: 0.8em; font-weight: bold; line-height: 1; border-radius: 0.35em; vertical-align: middle; margin-left: 0.5rem\">SKILL|marketing</span>\n",
       "</mark>\n",
       " director at JustFood.org to create a great experience at GoogaMooga, and  worked with Thrillist to create The Culinary Road Trip (brought in chefs from all over the country to offer LA a food experience they couldn't get in their backyard).        Experience      Company Name     April 2015   to   Current     Owner   City  ,   State      Currently working with a Boulder-based publisher, a fitness expert (social media only), and a \n",
       "<mark class=\"entity\" style=\"background: #ddd; padding: 0.45em 0.6em; margin: 0 0.25em; line-height: 1; border-radius: 0.35em;\">\n",
       "    chef\n",
       "    <span style=\"font-size: 0.8em; font-weight: bold; line-height: 1; border-radius: 0.35em; vertical-align: middle; margin-left: 0.5rem\">SKILL|Chef</span>\n",
       "</mark>\n",
       " with a non-profit.  organization.  Social media strategy, \n",
       "<mark class=\"entity\" style=\"background: #ddd; padding: 0.45em 0.6em; margin: 0 0.25em; line-height: 1; border-radius: 0.35em;\">\n",
       "    email marketing\n",
       "    <span style=\"font-size: 0.8em; font-weight: bold; line-height: 1; border-radius: 0.35em; vertical-align: middle; margin-left: 0.5rem\">SKILL|email-marketing</span>\n",
       "</mark>\n",
       " using \n",
       "<mark class=\"entity\" style=\"background: #ddd; padding: 0.45em 0.6em; margin: 0 0.25em; line-height: 1; border-radius: 0.35em;\">\n",
       "    MailChimp\n",
       "    <span style=\"font-size: 0.8em; font-weight: bold; line-height: 1; border-radius: 0.35em; vertical-align: middle; margin-left: 0.5rem\">SKILL|mailchimp</span>\n",
       "</mark>\n",
       ", press outreach using Cision and research.  Example Press Placements: Daily Mail, Inside Edition (pending), Narratively, New York Daily News...          Company Name     September 2014   to   May 2015     Publicist and Account Manager   City  ,   State      Identified client needs through market research and analysis.  Researched, negotiated, implemented and tracked public relations activities.  Evaluated and managed new strategic \n",
       "<mark class=\"entity\" style=\"background: #ddd; padding: 0.45em 0.6em; margin: 0 0.25em; line-height: 1; border-radius: 0.35em;\">\n",
       "    business\n",
       "    <span style=\"font-size: 0.8em; font-weight: bold; line-height: 1; border-radius: 0.35em; vertical-align: middle; margin-left: 0.5rem\">SKILL|business</span>\n",
       "</mark>\n",
       " opportunities.  Expanded product and company recognition in the national press to \n",
       "<mark class=\"entity\" style=\"background: #ddd; padding: 0.45em 0.6em; margin: 0 0.25em; line-height: 1; border-radius: 0.35em;\">\n",
       "    support\n",
       "    <span style=\"font-size: 0.8em; font-weight: bold; line-height: 1; border-radius: 0.35em; vertical-align: middle; margin-left: 0.5rem\">SKILL|support</span>\n",
       "</mark>\n",
       " the sales and \n",
       "<mark class=\"entity\" style=\"background: #ddd; padding: 0.45em 0.6em; margin: 0 0.25em; line-height: 1; border-radius: 0.35em;\">\n",
       "    marketing\n",
       "    <span style=\"font-size: 0.8em; font-weight: bold; line-height: 1; border-radius: 0.35em; vertical-align: middle; margin-left: 0.5rem\">SKILL|marketing</span>\n",
       "</mark>\n",
       " efforts.  Crafted pitches and pitched to media lists.  Created a social media strategy, including contests and giveaways, with various clients.  Example Press Placements; The Boston Globe, Time Magazine, The Daily Mail, New York Daily News, NPR Marketplace, Forbes.  com, Today.com, Women's Health, Success Magazine.          Company Name     March 2014   to   September 2015     Event Logistics Manager &amp; \n",
       "<mark class=\"entity\" style=\"background: #ddd; padding: 0.45em 0.6em; margin: 0 0.25em; line-height: 1; border-radius: 0.35em;\">\n",
       "    Communications\n",
       "    <span style=\"font-size: 0.8em; font-weight: bold; line-height: 1; border-radius: 0.35em; vertical-align: middle; margin-left: 0.5rem\">SKILL|communications</span>\n",
       "</mark>\n",
       " Coordinator   City  ,   State     Logistics manager for all events with Thrillist Media Group including: Best Day of Your Life, Thriillst Culinary RoadTrip, Mixxtails Man Cave (in cooperation with Bud Light).   Brought on for the busy season.         Company Name     March 2014   to   September 2014     \n",
       "<mark class=\"entity\" style=\"background: #ddd; padding: 0.45em 0.6em; margin: 0 0.25em; line-height: 1; border-radius: 0.35em;\">\n",
       "    Communications\n",
       "    <span style=\"font-size: 0.8em; font-weight: bold; line-height: 1; border-radius: 0.35em; vertical-align: middle; margin-left: 0.5rem\">SKILL|communications</span>\n",
       "</mark>\n",
       " and Events Coordinator   City  ,   State      Worked hand-in-hand with the founders to create and produce an annual conference.  Successfully identified and landed sponsorships.  Reached out to all three hundred members to ensure their attendance and contributions to conference.  Managed budget.  Manged \n",
       "<mark class=\"entity\" style=\"background: #ddd; padding: 0.45em 0.6em; margin: 0 0.25em; line-height: 1; border-radius: 0.35em;\">\n",
       "    communications\n",
       "    <span style=\"font-size: 0.8em; font-weight: bold; line-height: 1; border-radius: 0.35em; vertical-align: middle; margin-left: 0.5rem\">SKILL|communications</span>\n",
       "</mark>\n",
       " in cooperation with co-founders.          Company Name     March 2013   to   March 2014     \n",
       "<mark class=\"entity\" style=\"background: #ddd; padding: 0.45em 0.6em; margin: 0 0.25em; line-height: 1; border-radius: 0.35em;\">\n",
       "    Communications\n",
       "    <span style=\"font-size: 0.8em; font-weight: bold; line-height: 1; border-radius: 0.35em; vertical-align: middle; margin-left: 0.5rem\">SKILL|communications</span>\n",
       "</mark>\n",
       " Manager, Project Manager and Product Manager   City  ,   State      Defined project and company vision, strategies and tactics.  Coached client representatives on effective communication with the public and employees.  Established long-range objectives and developed innovative strategies to help achieve them.  Acted as \n",
       "<mark class=\"entity\" style=\"background: #ddd; padding: 0.45em 0.6em; margin: 0 0.25em; line-height: 1; border-radius: 0.35em;\">\n",
       "    communications\n",
       "    <span style=\"font-size: 0.8em; font-weight: bold; line-height: 1; border-radius: 0.35em; vertical-align: middle; margin-left: 0.5rem\">SKILL|communications</span>\n",
       "</mark>\n",
       " liaison between the CEO, upper-level management, the founder and \n",
       "<mark class=\"entity\" style=\"background: #ddd; padding: 0.45em 0.6em; margin: 0 0.25em; line-height: 1; border-radius: 0.35em;\">\n",
       "    software\n",
       "    <span style=\"font-size: 0.8em; font-weight: bold; line-height: 1; border-radius: 0.35em; vertical-align: middle; margin-left: 0.5rem\">SKILL|software</span>\n",
       "</mark>\n",
       " development team, which included UX and UI managers.  Estimated project costs and monitored budgets.  Developed corporate \n",
       "<mark class=\"entity\" style=\"background: #ddd; padding: 0.45em 0.6em; margin: 0 0.25em; line-height: 1; border-radius: 0.35em;\">\n",
       "    communications\n",
       "    <span style=\"font-size: 0.8em; font-weight: bold; line-height: 1; border-radius: 0.35em; vertical-align: middle; margin-left: 0.5rem\">SKILL|communications</span>\n",
       "</mark>\n",
       " strategies and programs, including project timelines.  Wrote reports daily Organized and led meetings.          Company Name     June 2009   to   March 2013     Publicist and Author/Book Tour Coordinator   City  ,   State      Researched, negotiated, implemented and tracked sales, \n",
       "<mark class=\"entity\" style=\"background: #ddd; padding: 0.45em 0.6em; margin: 0 0.25em; line-height: 1; border-radius: 0.35em;\">\n",
       "    marketing\n",
       "    <span style=\"font-size: 0.8em; font-weight: bold; line-height: 1; border-radius: 0.35em; vertical-align: middle; margin-left: 0.5rem\">SKILL|marketing</span>\n",
       "</mark>\n",
       " and public relations activities using \n",
       "<mark class=\"entity\" style=\"background: #ddd; padding: 0.45em 0.6em; margin: 0 0.25em; line-height: 1; border-radius: 0.35em;\">\n",
       "    Google analytics\n",
       "    <span style=\"font-size: 0.8em; font-weight: bold; line-height: 1; border-radius: 0.35em; vertical-align: middle; margin-left: 0.5rem\">SKILL|google-analytics</span>\n",
       "</mark>\n",
       ", FB insights, and other resources.  Evaluated and managed new strategic \n",
       "<mark class=\"entity\" style=\"background: #ddd; padding: 0.45em 0.6em; margin: 0 0.25em; line-height: 1; border-radius: 0.35em;\">\n",
       "    business\n",
       "    <span style=\"font-size: 0.8em; font-weight: bold; line-height: 1; border-radius: 0.35em; vertical-align: middle; margin-left: 0.5rem\">SKILL|business</span>\n",
       "</mark>\n",
       " opportunities.  Expanded product and company recognition in the national press to \n",
       "<mark class=\"entity\" style=\"background: #ddd; padding: 0.45em 0.6em; margin: 0 0.25em; line-height: 1; border-radius: 0.35em;\">\n",
       "    support\n",
       "    <span style=\"font-size: 0.8em; font-weight: bold; line-height: 1; border-radius: 0.35em; vertical-align: middle; margin-left: 0.5rem\">SKILL|support</span>\n",
       "</mark>\n",
       " the sales and \n",
       "<mark class=\"entity\" style=\"background: #ddd; padding: 0.45em 0.6em; margin: 0 0.25em; line-height: 1; border-radius: 0.35em;\">\n",
       "    marketing\n",
       "    <span style=\"font-size: 0.8em; font-weight: bold; line-height: 1; border-radius: 0.35em; vertical-align: middle; margin-left: 0.5rem\">SKILL|marketing</span>\n",
       "</mark>\n",
       " efforts at Random House.  Conferred with production, \n",
       "<mark class=\"entity\" style=\"background: #ddd; padding: 0.45em 0.6em; margin: 0 0.25em; line-height: 1; border-radius: 0.35em;\">\n",
       "    graphic design\n",
       "    <span style=\"font-size: 0.8em; font-weight: bold; line-height: 1; border-radius: 0.35em; vertical-align: middle; margin-left: 0.5rem\">SKILL|graphic-design</span>\n",
       "</mark>\n",
       " and web-\n",
       "<mark class=\"entity\" style=\"background: #ddd; padding: 0.45em 0.6em; margin: 0 0.25em; line-height: 1; border-radius: 0.35em;\">\n",
       "    design\n",
       "    <span style=\"font-size: 0.8em; font-weight: bold; line-height: 1; border-radius: 0.35em; vertical-align: middle; margin-left: 0.5rem\">SKILL|design</span>\n",
       "</mark>\n",
       " teams to coordinate production of \n",
       "<mark class=\"entity\" style=\"background: #ddd; padding: 0.45em 0.6em; margin: 0 0.25em; line-height: 1; border-radius: 0.35em;\">\n",
       "    communications\n",
       "    <span style=\"font-size: 0.8em; font-weight: bold; line-height: 1; border-radius: 0.35em; vertical-align: middle; margin-left: 0.5rem\">SKILL|communications</span>\n",
       "</mark>\n",
       " materials.  Worked directly with Publisher and Associate Publisher and Senior Editor.  Example Press Placements: NPR's The Splendid Table, Jamie Magazine, The New York Times, Wall Street Journal, Washington Post...          Company Name     June 2008   to   April 2010     Social Media Manager   City  ,   State      Handled all social media responsibilities.  Worked directly with Deborah Madison.          Education      St. John's College     2009       BACHELOR OF ARTS      City  ,   State      The Great Books of Western Civilization: www.sjcsf.edu        Affiliations    New York Women's Culinary Alliance: www.nywca.org/      Skills     Event management, \n",
       "<mark class=\"entity\" style=\"background: #ddd; padding: 0.45em 0.6em; margin: 0 0.25em; line-height: 1; border-radius: 0.35em;\">\n",
       "    email marketing\n",
       "    <span style=\"font-size: 0.8em; font-weight: bold; line-height: 1; border-radius: 0.35em; vertical-align: middle; margin-left: 0.5rem\">SKILL|email-marketing</span>\n",
       "</mark>\n",
       ", \n",
       "<mark class=\"entity\" style=\"background: #ddd; padding: 0.45em 0.6em; margin: 0 0.25em; line-height: 1; border-radius: 0.35em;\">\n",
       "    project management\n",
       "    <span style=\"font-size: 0.8em; font-weight: bold; line-height: 1; border-radius: 0.35em; vertical-align: middle; margin-left: 0.5rem\">SKILL|project-management</span>\n",
       "</mark>\n",
       ", community management, \n",
       "<mark class=\"entity\" style=\"background: #ddd; padding: 0.45em 0.6em; margin: 0 0.25em; line-height: 1; border-radius: 0.35em;\">\n",
       "    communications\n",
       "    <span style=\"font-size: 0.8em; font-weight: bold; line-height: 1; border-radius: 0.35em; vertical-align: middle; margin-left: 0.5rem\">SKILL|communications</span>\n",
       "</mark>\n",
       ", social media.    </div></span>"
      ],
      "text/plain": [
       "<IPython.core.display.HTML object>"
      ]
     },
     "metadata": {},
     "output_type": "display_data"
    },
    {
     "name": "stdout",
     "output_type": "stream",
     "text": [
      "[('Ceridian', 'SKILL|Ceridian'), ('SAP', 'SKILL|SAP'), ('Crystal', 'SKILL|crystal'), ('Support', 'SKILL|support'), ('time tracking', 'SKILL|time-tracking'), ('payments', 'SKILL|payments'), ('Support', 'SKILL|support'), ('Support', 'SKILL|support'), ('payments', 'SKILL|payments'), ('Ceridian', 'SKILL|Ceridian'), ('Crystal', 'SKILL|crystal'), ('SAP', 'SKILL|SAP')]\n"
     ]
    }
   ],
   "source": [
    "test_resume_2 = nlp_ms(resume_2)\n",
    "resume_2_ents = [(ent.text, ent.label_) for ent in test_resume_2.ents]\n",
    "displacy.render(sent, style=\"ent\", jupyter=True)\n",
    "print(resume_2_ents)"
   ]
  },
  {
   "cell_type": "code",
   "execution_count": 151,
   "id": "2c89e3a9-a6ec-4ad2-a64b-71ef6bc3fddf",
   "metadata": {},
   "outputs": [],
   "source": [
    "matching_skills = data[\"skills\"]"
   ]
  },
  {
   "cell_type": "code",
   "execution_count": 152,
   "id": "bd02b787-fd45-4c2d-a14e-15e9475b4c88",
   "metadata": {},
   "outputs": [
    {
     "data": {
      "text/plain": [
       "0      {PYTHON}\n",
       "1      {MEDIUM}\n",
       "2      {C, C++}\n",
       "3      {PYTHON}\n",
       "4      {PYTHON}\n",
       "         ...   \n",
       "655        {GO}\n",
       "656        {GO}\n",
       "657        {GO}\n",
       "658        {GO}\n",
       "659        {GO}\n",
       "Name: skills, Length: 660, dtype: object"
      ]
     },
     "execution_count": 152,
     "metadata": {},
     "output_type": "execute_result"
    }
   ],
   "source": [
    "matching_skills"
   ]
  },
  {
   "cell_type": "code",
   "execution_count": null,
   "id": "8f9b4010-9467-4b5a-9b70-477130b371cb",
   "metadata": {},
   "outputs": [],
   "source": [
    "req_skills = input_skills.lower().split(\",\")\n",
    "resume_skills = unique_skills(get_skills(input_resume.lower()))\n",
    "score = 0\n",
    "for x in req_skills:\n",
    "    if x in resume_skills:\n",
    "        score += 1\n",
    "req_skills_len = len(req_skills)\n",
    "match = round(score / req_skills_len * 100, 1)\n",
    "\n",
    "print(f\"The current Resume is {match}% matched to your requirements\")"
   ]
  },
  {
   "cell_type": "code",
   "execution_count": null,
   "id": "d27ccc31-7bb1-4ca2-8cd0-d6bbf6f0f24c",
   "metadata": {},
   "outputs": [],
   "source": [
    "def match_skills(JD_set, cv_set):\n",
    "    '''Get intersection of resume skills and job offer skills and return match percentage'''\n",
    "    \n",
    "    if len(cv_set) < 1:\n",
    "        print('could not extract skills from resume text')   \n",
    "    else:\n",
    "        for i in range(0, len(JD_set))\n",
    "        \n",
    "        \n",
    "        #implement a function comparing with a list of job_descriptions \n",
    "        pct_match = round(len(JD_set.intersection(cv_set[resume_name])) / len(JD_set) * 100, 0)\n",
    "        print(\"Resume has a {}% skill match on job offer\".format(pct_match))\n",
    "        print('Required skills: {} '.format(JD_set))\n",
    "        print('Matched skills: {} \\n'.format(JD_set.intersection(skillset_dict[resume_name])))\n",
    "        \n",
    "        return (resume_name, pct_match)"
   ]
  },
  {
   "cell_type": "code",
   "execution_count": null,
   "id": "1d5dbd54-5b6c-4d10-81c4-75153ec15530",
   "metadata": {},
   "outputs": [],
   "source": [
    "# example of job offer text (string). Can input your own.\n",
    "vacature_text = vacatures_df[vacatures_df['soort_vacature'] == 'Data Scientist'].skills.iloc[13]\n",
    "\n",
    "# Create a set of the skills extracted from the job offer text\n",
    "vacature_skillset = create_skill_set(nlp(vacature_text))\n",
    "\n",
    "# Create a list with tuple pairs containing the names of the candidates and their match percentage\n",
    "match_pairs = [match_skills(jd_skillset, skillset_dict, ) for name in skillset_dict.keys()]"
   ]
  },
  {
   "cell_type": "code",
   "execution_count": null,
   "id": "3c043589-0c53-49b8-b13f-f9ec0022bc8f",
   "metadata": {},
   "outputs": [],
   "source": [
    "# Sort tuples from high to low on match percentage\n",
    "match_pairs.sort(key=lambda tup: tup[1], reverse=True)\n",
    "\n",
    "# Unpack tuples\n",
    "names, pct = zip(*match_pairs)\n",
    "\n",
    "# Plotting\n",
    "sns.set_theme(style='darkgrid')\n",
    "\n",
    "fig, ax = plt.subplots(figsize=(12,8))\n",
    "ax.set_title('Job offer match with candidates', fontsize=20)\n",
    "ax.set(xlabel='Candidates', ylabel='% Match')\n",
    "ax.set(ylim=(0, 100))\n",
    "\n",
    "\n",
    "sns.set(font_scale=1.5)\n",
    "plot = sns.barplot(x=list(names), y=list(pct), color='b')\n",
    "\n",
    "plt.show()\n",
    "fig = plot.get_figure()\n",
    "fig.savefig('barplot.png') "
   ]
  },
  {
   "cell_type": "code",
   "execution_count": null,
   "id": "a4fc470a-fbe4-4c95-9cd8-2f5834f5ef91",
   "metadata": {},
   "outputs": [],
   "source": []
  }
 ],
 "metadata": {
  "kernelspec": {
   "display_name": "Python 3 (ipykernel)",
   "language": "python",
   "name": "python3"
  },
  "language_info": {
   "codemirror_mode": {
    "name": "ipython",
    "version": 3
   },
   "file_extension": ".py",
   "mimetype": "text/x-python",
   "name": "python",
   "nbconvert_exporter": "python",
   "pygments_lexer": "ipython3",
   "version": "3.8.12"
  }
 },
 "nbformat": 4,
 "nbformat_minor": 5
}
