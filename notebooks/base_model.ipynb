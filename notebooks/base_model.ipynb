{
 "cells": [
  {
   "cell_type": "code",
   "execution_count": 192,
   "id": "1d695c91-8b3d-480a-9b31-e92c48b19277",
   "metadata": {},
   "outputs": [
    {
     "name": "stderr",
     "output_type": "stream",
     "text": [
      "[nltk_data] Downloading package stopwords to\n",
      "[nltk_data]     /home/lewagonlew/nltk_data...\n",
      "[nltk_data]   Package stopwords is already up-to-date!\n",
      "[nltk_data] Downloading package wordnet to\n",
      "[nltk_data]     /home/lewagonlew/nltk_data...\n",
      "[nltk_data]   Package wordnet is already up-to-date!\n"
     ]
    }
   ],
   "source": [
    "#spacy\n",
    "import spacy\n",
    "import en_core_web_lg\n",
    "from spacy.pipeline import EntityRuler\n",
    "from spacy.lang.en import English\n",
    "from spacy.tokens import Doc, Span\n",
    "from spacy.matcher import Matcher, PhraseMatcher\n",
    "\n",
    "\n",
    "#gensim\n",
    "import gensim\n",
    "from gensim import corpora\n",
    "\n",
    "#Visualization\n",
    "from spacy import displacy\n",
    "#import pyLDAvis.gensim_models\n",
    "from wordcloud import WordCloud\n",
    "import plotly.express as px\n",
    "import matplotlib.pyplot as plt\n",
    "\n",
    "#Data loading/ Data manipulation\n",
    "import pandas as pd\n",
    "import numpy as np\n",
    "import jsonlines\n",
    "import json\n",
    "import os\n",
    "import csv\n",
    "\n",
    "#nltk\n",
    "import re\n",
    "import nltk\n",
    "from nltk.corpus import stopwords\n",
    "from nltk.stem import WordNetLemmatizer\n",
    "nltk.download(['stopwords','wordnet'])\n",
    "\n",
    "#warning\n",
    "import warnings \n",
    "warnings.filterwarnings('ignore')"
   ]
  },
  {
   "cell_type": "code",
   "execution_count": 46,
   "id": "48937520-cff8-40d4-b169-3e00e5061925",
   "metadata": {},
   "outputs": [
    {
     "data": {
      "text/plain": [
       "'/home/lewagonlew/code/marcorodrigues'"
      ]
     },
     "execution_count": 46,
     "metadata": {},
     "output_type": "execute_result"
    }
   ],
   "source": [
    "PATH = os.path.dirname(os.path.dirname(os.getcwd()))\n",
    "PATH"
   ]
  },
  {
   "cell_type": "code",
   "execution_count": 104,
   "id": "f19db7db-6107-4f5f-9635-75c9862d6491",
   "metadata": {},
   "outputs": [
    {
     "data": {
      "text/plain": [
       "(31402, 2)"
      ]
     },
     "execution_count": 104,
     "metadata": {},
     "output_type": "execute_result"
    }
   ],
   "source": [
    "skills = pd.read_csv(PATH + \"/skills_matcher/data/dictionaries/all_skills.csv\")\n",
    "skills.shape"
   ]
  },
  {
   "cell_type": "code",
   "execution_count": 284,
   "id": "82a17262-ab6c-4894-a837-bac3f9b83af4",
   "metadata": {},
   "outputs": [
    {
     "data": {
      "text/plain": [
       "(2883, 2)"
      ]
     },
     "execution_count": 284,
     "metadata": {},
     "output_type": "execute_result"
    }
   ],
   "source": [
    "new_skills = pd.read_csv(PATH + \"/skills_matcher/data/dictionaries/new_dictionary.csv\")\n",
    "new_skills.shape"
   ]
  },
  {
   "cell_type": "code",
   "execution_count": 220,
   "id": "84f13ab8-4728-43f1-82b8-7a3b2da1a1e2",
   "metadata": {},
   "outputs": [],
   "source": [
    "skill_pattern = []\n",
    "with open('../data/skill_patterns.jsonl') as f:\n",
    "    for line in f:\n",
    "        skill_pattern.append(json.loads(line))"
   ]
  },
  {
   "cell_type": "code",
   "execution_count": 238,
   "id": "f1f9a0b4-b0a6-4d2b-ace7-1697baa7f93c",
   "metadata": {},
   "outputs": [
    {
     "data": {
      "text/plain": [
       "4251"
      ]
     },
     "execution_count": 238,
     "metadata": {},
     "output_type": "execute_result"
    }
   ],
   "source": [
    "len(skill_patterns)"
   ]
  },
  {
   "cell_type": "code",
   "execution_count": 246,
   "id": "4b61fe6f-08c2-42f4-ac0a-2c3de28640e0",
   "metadata": {},
   "outputs": [
    {
     "data": {
      "text/plain": [
       "500"
      ]
     },
     "execution_count": 246,
     "metadata": {},
     "output_type": "execute_result"
    }
   ],
   "source": [
    "(new_skills[\"Label\"] == 'KNOWLEDGE').sum()"
   ]
  },
  {
   "cell_type": "code",
   "execution_count": null,
   "id": "a26a90e3-6d67-4cfb-abf7-d142834f5323",
   "metadata": {},
   "outputs": [
    {
     "data": {
      "text/plain": [
       "(2883, 2)"
      ]
     },
     "execution_count": 252,
     "metadata": {},
     "output_type": "execute_result"
    }
   ],
   "source": [
    "for i in range(0, len(new_skills)):\n",
    "    pass"
   ]
  },
  {
   "cell_type": "code",
   "execution_count": 275,
   "id": "2d7fe896-f668-445f-916a-e87870959bf6",
   "metadata": {},
   "outputs": [
    {
     "data": {
      "text/html": [
       "<div>\n",
       "<style scoped>\n",
       "    .dataframe tbody tr th:only-of-type {\n",
       "        vertical-align: middle;\n",
       "    }\n",
       "\n",
       "    .dataframe tbody tr th {\n",
       "        vertical-align: top;\n",
       "    }\n",
       "\n",
       "    .dataframe thead th {\n",
       "        text-align: right;\n",
       "    }\n",
       "</style>\n",
       "<table border=\"1\" class=\"dataframe\">\n",
       "  <thead>\n",
       "    <tr style=\"text-align: right;\">\n",
       "      <th></th>\n",
       "      <th>Label</th>\n",
       "      <th>Skill</th>\n",
       "    </tr>\n",
       "  </thead>\n",
       "  <tbody>\n",
       "    <tr>\n",
       "      <th>0</th>\n",
       "      <td>SKILL</td>\n",
       "      <td>Emergency Managers Weather Information Network...</td>\n",
       "    </tr>\n",
       "    <tr>\n",
       "      <th>1</th>\n",
       "      <td>SKILL</td>\n",
       "      <td>Federal Emergency Management Information Syste...</td>\n",
       "    </tr>\n",
       "    <tr>\n",
       "      <th>2</th>\n",
       "      <td>SKILL</td>\n",
       "      <td>SoftRisk Technologies SoftRisk SQL</td>\n",
       "    </tr>\n",
       "    <tr>\n",
       "      <th>3</th>\n",
       "      <td>SKILL</td>\n",
       "      <td>Sungard Assurance</td>\n",
       "    </tr>\n",
       "    <tr>\n",
       "      <th>4</th>\n",
       "      <td>SKILL</td>\n",
       "      <td>Digital Engineering Corporation E-MAPS</td>\n",
       "    </tr>\n",
       "    <tr>\n",
       "      <th>...</th>\n",
       "      <td>...</td>\n",
       "      <td>...</td>\n",
       "    </tr>\n",
       "    <tr>\n",
       "      <th>2117</th>\n",
       "      <td>SKILL</td>\n",
       "      <td>Graphing software</td>\n",
       "    </tr>\n",
       "    <tr>\n",
       "      <th>2118</th>\n",
       "      <td>SKILL</td>\n",
       "      <td>Meter reading software</td>\n",
       "    </tr>\n",
       "    <tr>\n",
       "      <th>2119</th>\n",
       "      <td>SKILL</td>\n",
       "      <td>Audio calibration software</td>\n",
       "    </tr>\n",
       "    <tr>\n",
       "      <th>2120</th>\n",
       "      <td>SKILL</td>\n",
       "      <td>IntelliTrack DMS Check In-Out</td>\n",
       "    </tr>\n",
       "    <tr>\n",
       "      <th>2121</th>\n",
       "      <td>SKILL</td>\n",
       "      <td>SportSoft Equipment Manager</td>\n",
       "    </tr>\n",
       "  </tbody>\n",
       "</table>\n",
       "<p>2122 rows × 2 columns</p>\n",
       "</div>"
      ],
      "text/plain": [
       "      Label                                              Skill\n",
       "0     SKILL  Emergency Managers Weather Information Network...\n",
       "1     SKILL  Federal Emergency Management Information Syste...\n",
       "2     SKILL                 SoftRisk Technologies SoftRisk SQL\n",
       "3     SKILL                                  Sungard Assurance\n",
       "4     SKILL             Digital Engineering Corporation E-MAPS\n",
       "...     ...                                                ...\n",
       "2117  SKILL                                  Graphing software\n",
       "2118  SKILL                             Meter reading software\n",
       "2119  SKILL                         Audio calibration software\n",
       "2120  SKILL                      IntelliTrack DMS Check In-Out\n",
       "2121  SKILL                        SportSoft Equipment Manager\n",
       "\n",
       "[2122 rows x 2 columns]"
      ]
     },
     "execution_count": 275,
     "metadata": {},
     "output_type": "execute_result"
    }
   ],
   "source": [
    "skills"
   ]
  },
  {
   "cell_type": "code",
   "execution_count": 277,
   "id": "036e0579-a653-4e4f-a3ba-52b6d6e3aefc",
   "metadata": {},
   "outputs": [],
   "source": [
    "list1 = []\n",
    "for i in range(0, len(skills['Skill'])):\n",
    "    dict1 = {}\n",
    "    dict1['label'] = 'SKILL'\n",
    "    skill = skills['Skill'][i]\n",
    "    sub_dict = {}\n",
    "    sub_dict['TEXT'] = skill\n",
    "    dict1['pattern'] = [sub_dict]\n",
    "    list1.append(dict1)\n",
    "    "
   ]
  },
  {
   "cell_type": "code",
   "execution_count": 285,
   "id": "6691038a-82f9-4559-bf3e-a90b7ab03726",
   "metadata": {},
   "outputs": [
    {
     "data": {
      "text/html": [
       "<div>\n",
       "<style scoped>\n",
       "    .dataframe tbody tr th:only-of-type {\n",
       "        vertical-align: middle;\n",
       "    }\n",
       "\n",
       "    .dataframe tbody tr th {\n",
       "        vertical-align: top;\n",
       "    }\n",
       "\n",
       "    .dataframe thead th {\n",
       "        text-align: right;\n",
       "    }\n",
       "</style>\n",
       "<table border=\"1\" class=\"dataframe\">\n",
       "  <thead>\n",
       "    <tr style=\"text-align: right;\">\n",
       "      <th></th>\n",
       "      <th>Label</th>\n",
       "      <th>Skill</th>\n",
       "    </tr>\n",
       "  </thead>\n",
       "  <tbody>\n",
       "    <tr>\n",
       "      <th>0</th>\n",
       "      <td>SKILL</td>\n",
       "      <td>1CadCam Unigraphics</td>\n",
       "    </tr>\n",
       "    <tr>\n",
       "      <th>1</th>\n",
       "      <td>SKILL</td>\n",
       "      <td>3D graphics software</td>\n",
       "    </tr>\n",
       "    <tr>\n",
       "      <th>2</th>\n",
       "      <td>SKILL</td>\n",
       "      <td>3DGrid HIPAA Checkup</td>\n",
       "    </tr>\n",
       "    <tr>\n",
       "      <th>3</th>\n",
       "      <td>SKILL</td>\n",
       "      <td>3M Electronic Monitoring</td>\n",
       "    </tr>\n",
       "    <tr>\n",
       "      <th>4</th>\n",
       "      <td>SKILL</td>\n",
       "      <td>3M Post-it App</td>\n",
       "    </tr>\n",
       "    <tr>\n",
       "      <th>...</th>\n",
       "      <td>...</td>\n",
       "      <td>...</td>\n",
       "    </tr>\n",
       "    <tr>\n",
       "      <th>2878</th>\n",
       "      <td>MIN_EXP</td>\n",
       "      <td>3 to 4 years</td>\n",
       "    </tr>\n",
       "    <tr>\n",
       "      <th>2879</th>\n",
       "      <td>MIN_EXP</td>\n",
       "      <td>4 to 5 years</td>\n",
       "    </tr>\n",
       "    <tr>\n",
       "      <th>2880</th>\n",
       "      <td>MIN_EXP</td>\n",
       "      <td>5 to 6 years</td>\n",
       "    </tr>\n",
       "    <tr>\n",
       "      <th>2881</th>\n",
       "      <td>MIN_EXP</td>\n",
       "      <td>10 years</td>\n",
       "    </tr>\n",
       "    <tr>\n",
       "      <th>2882</th>\n",
       "      <td>MIN_EXP</td>\n",
       "      <td>1+ years</td>\n",
       "    </tr>\n",
       "  </tbody>\n",
       "</table>\n",
       "<p>2883 rows × 2 columns</p>\n",
       "</div>"
      ],
      "text/plain": [
       "        Label                     Skill\n",
       "0       SKILL       1CadCam Unigraphics\n",
       "1       SKILL      3D graphics software\n",
       "2       SKILL      3DGrid HIPAA Checkup\n",
       "3       SKILL  3M Electronic Monitoring\n",
       "4       SKILL            3M Post-it App\n",
       "...       ...                       ...\n",
       "2878  MIN_EXP              3 to 4 years\n",
       "2879  MIN_EXP              4 to 5 years\n",
       "2880  MIN_EXP              5 to 6 years\n",
       "2881  MIN_EXP                  10 years\n",
       "2882  MIN_EXP                  1+ years\n",
       "\n",
       "[2883 rows x 2 columns]"
      ]
     },
     "execution_count": 285,
     "metadata": {},
     "output_type": "execute_result"
    }
   ],
   "source": [
    "new_skills"
   ]
  },
  {
   "cell_type": "code",
   "execution_count": 294,
   "id": "278d8d82-375f-4f05-89f8-54539004c6d5",
   "metadata": {},
   "outputs": [
    {
     "data": {
      "text/plain": [
       "{'label': 'MIN_EXP', 'pattern': [{'LOWER': ' 1+ years'}]}"
      ]
     },
     "execution_count": 294,
     "metadata": {},
     "output_type": "execute_result"
    }
   ],
   "source": [
    "new_list = []\n",
    "for i in range(0, len(new_skills)):\n",
    "    if new_skills[\"Label\"][i] == \"SKILL\":\n",
    "        dict1 = {}\n",
    "        dict1['label'] = 'SKILL|'+ new_skills[\"Skill\"][i].replace(' ', '-')\n",
    "        skill = new_skills['Skill'][i].lower().split(' ')\n",
    "        sub_dict = {}\n",
    "        sub_list = []\n",
    "\n",
    "        for item in skill:\n",
    "            sub_dict['LOWER'] = item\n",
    "            sub_list.append(sub_dict.copy())\n",
    "            dict1['pattern'] = sub_list\n",
    "        new_list.append(dict1)\n",
    "        \n",
    "    if new_skills[\"Label\"][i] == \"KNOWLEDGE\":\n",
    "        dict1 = {}\n",
    "        sub_dict = {}\n",
    "        sub_list = []\n",
    "        dict1['label'] = 'KNOWLEDGE'\n",
    "        \n",
    "        sub_dict['LOWER'] = new_skills['Skill'][i]\n",
    "        sub_list.append(sub_dict.copy())\n",
    "        dict1['pattern'] = sub_list\n",
    "        new_list.append(dict1)\n",
    "        \n",
    "    if new_skills[\"Label\"][i] == \"MIN_EXP\":\n",
    "        dict1 = {}\n",
    "        sub_dict = {}\n",
    "        sub_list = []\n",
    "        dict1['label'] = 'MIN_EXP'\n",
    "        \n",
    "        sub_dict['LOWER'] = new_skills['Skill'][i]\n",
    "        sub_list.append(sub_dict.copy())\n",
    "        dict1['pattern'] = sub_list\n",
    "        new_list.append(dict1)\n",
    "\n",
    "new_list[-1]"
   ]
  },
  {
   "cell_type": "code",
   "execution_count": 302,
   "id": "d40621e8-d558-4fa1-b7b6-81a7b981a286",
   "metadata": {},
   "outputs": [
    {
     "data": {
      "text/plain": [
       "{'label': 'MIN_EXP', 'pattern': [{'LOWER': ' 1+ years'}]}"
      ]
     },
     "execution_count": 302,
     "metadata": {},
     "output_type": "execute_result"
    }
   ],
   "source": [
    "new_list[-1]"
   ]
  },
  {
   "cell_type": "code",
   "execution_count": 117,
   "id": "31544f21-389d-427e-a006-138dd5a42185",
   "metadata": {},
   "outputs": [],
   "source": [
    "import ujson\n",
    "from pathlib import Path\n",
    "\n",
    "def read_jsonl(file_path):\n",
    "    \"\"\"Read a .jsonl file and yield its contents line by line.\n",
    "    file_path (unicode / Path): The file path.\n",
    "    YIELDS: The loaded JSON contents of each line.\n",
    "    \"\"\"\n",
    "\n",
    "    with Path(file_path).open('r', encoding='utf8') as f:\n",
    "        for line in f:\n",
    "            try:  # hack to handle broken jsonl\n",
    "                yield ujson.loads(line.strip())\n",
    "            except ValueError:\n",
    "                continue\n",
    "\n",
    "\n",
    "def write_jsonl(file_path, lines):\n",
    "    \"\"\"Create a .jsonl file and dump contents.\n",
    "    file_path (unicode / Path): The path to the output file.\n",
    "    lines (list): The JSON-serializable contents of each line.\n",
    "    \"\"\"\n",
    "    data = [ujson.dumps(line, escape_forward_slashes=False) for line in lines]\n",
    "    Path(file_path).open('w', encoding='utf-8').write('\\n'.join(data))"
   ]
  },
  {
   "cell_type": "code",
   "execution_count": 239,
   "id": "95a90d1d-b0f3-41b9-9926-695af8a4de2d",
   "metadata": {},
   "outputs": [],
   "source": [
    "skill_json_path = PATH + '/skills_matcher/data/dictionaries/skill_patterns.jsonl'\n",
    "\n",
    "write_jsonl(skill_json_path, skill_patterns)"
   ]
  },
  {
   "cell_type": "code",
   "execution_count": 301,
   "id": "c3d9c5d0-021a-4f71-a18b-dfffaaa2fc6e",
   "metadata": {},
   "outputs": [],
   "source": [
    "new_dict_json_path = PATH + '/skills_matcher/data/dictionaries/new_dict.jsonl'\n",
    "\n",
    "write_jsonl(new_dict_json_path, new_list)"
   ]
  },
  {
   "cell_type": "code",
   "execution_count": 8,
   "id": "d4d6110d-f84b-4759-b06f-a08474fb617e",
   "metadata": {},
   "outputs": [],
   "source": [
    "##renaming columns for entity_ruler and saving as new csv\n",
    "#skills = skills.rename(columns={'Label':'label', 'Skill':'pattern'})\n",
    "#skills.to_csv(PATH + \"/skills_matcher/data/dictionaries/all_skills_new_labels.csv\", index = False)"
   ]
  },
  {
   "cell_type": "code",
   "execution_count": 9,
   "id": "9abcdd38-0bc8-4e00-b501-0fd7b1dbf297",
   "metadata": {},
   "outputs": [],
   "source": [
    "#open csv and turning it into a list of dictionaries\n",
    "#with open(PATH + '/skills_matcher/data/dictionaries/all_skills_new_labels.csv') as f:\n",
    "#    skills_dict = [{k: str(v) for k, v in row.items()}\n",
    "#        for row in csv.DictReader(f, skipinitialspace=True)]"
   ]
  },
  {
   "cell_type": "code",
   "execution_count": 54,
   "id": "7cfa7911-4994-4bb5-96fe-4675eecaec8b",
   "metadata": {},
   "outputs": [],
   "source": [
    "#skills_dict[0:10]"
   ]
  },
  {
   "cell_type": "code",
   "execution_count": 12,
   "id": "e37e2c09-0d01-40f8-8922-0e9967b2c2c7",
   "metadata": {},
   "outputs": [
    {
     "data": {
      "text/html": [
       "<div>\n",
       "<style scoped>\n",
       "    .dataframe tbody tr th:only-of-type {\n",
       "        vertical-align: middle;\n",
       "    }\n",
       "\n",
       "    .dataframe tbody tr th {\n",
       "        vertical-align: top;\n",
       "    }\n",
       "\n",
       "    .dataframe thead th {\n",
       "        text-align: right;\n",
       "    }\n",
       "</style>\n",
       "<table border=\"1\" class=\"dataframe\">\n",
       "  <thead>\n",
       "    <tr style=\"text-align: right;\">\n",
       "      <th></th>\n",
       "      <th>ISCO</th>\n",
       "      <th>major_job</th>\n",
       "      <th>job</th>\n",
       "      <th>position</th>\n",
       "      <th>location</th>\n",
       "      <th>description</th>\n",
       "    </tr>\n",
       "  </thead>\n",
       "  <tbody>\n",
       "    <tr>\n",
       "      <th>0</th>\n",
       "      <td>21</td>\n",
       "      <td>SCIENCE AND ENGINEERING PROFESSIONALS</td>\n",
       "      <td>physicist</td>\n",
       "      <td>Accelerator Physicist id54315</td>\n",
       "      <td>Villigen PSI, Aargau</td>\n",
       "      <td>[' You have an academic degree in physics or e...</td>\n",
       "    </tr>\n",
       "    <tr>\n",
       "      <th>1</th>\n",
       "      <td>21</td>\n",
       "      <td>SCIENCE AND ENGINEERING PROFESSIONALS</td>\n",
       "      <td>physicist</td>\n",
       "      <td>Applied Physicist (Computing) (EP-LBC-2021-125...</td>\n",
       "      <td>Geneva</td>\n",
       "      <td>[' Be in charge of the development of applicat...</td>\n",
       "    </tr>\n",
       "    <tr>\n",
       "      <th>2</th>\n",
       "      <td>21</td>\n",
       "      <td>SCIENCE AND ENGINEERING PROFESSIONALS</td>\n",
       "      <td>physicist</td>\n",
       "      <td>Accelerator Physicist (BE-ABP-LNO-2021-122-LD)...</td>\n",
       "      <td>Geneva</td>\n",
       "      <td>[' Contribute to the maintenance and developme...</td>\n",
       "    </tr>\n",
       "    <tr>\n",
       "      <th>3</th>\n",
       "      <td>21</td>\n",
       "      <td>SCIENCE AND ENGINEERING PROFESSIONALS</td>\n",
       "      <td>physicist</td>\n",
       "      <td>Medical Devices Physicist</td>\n",
       "      <td>Newton, Cambridgeshire</td>\n",
       "      <td>[' Agency: Newton Colmore Consulting Reference...</td>\n",
       "    </tr>\n",
       "    <tr>\n",
       "      <th>4</th>\n",
       "      <td>21</td>\n",
       "      <td>SCIENCE AND ENGINEERING PROFESSIONALS</td>\n",
       "      <td>physicist</td>\n",
       "      <td>Fluidics Physicist</td>\n",
       "      <td>Cambridge</td>\n",
       "      <td>[' Agency: Newton Colmore Consulting Reference...</td>\n",
       "    </tr>\n",
       "  </tbody>\n",
       "</table>\n",
       "</div>"
      ],
      "text/plain": [
       "   ISCO                              major_job        job  \\\n",
       "0    21  SCIENCE AND ENGINEERING PROFESSIONALS  physicist   \n",
       "1    21  SCIENCE AND ENGINEERING PROFESSIONALS  physicist   \n",
       "2    21  SCIENCE AND ENGINEERING PROFESSIONALS  physicist   \n",
       "3    21  SCIENCE AND ENGINEERING PROFESSIONALS  physicist   \n",
       "4    21  SCIENCE AND ENGINEERING PROFESSIONALS  physicist   \n",
       "\n",
       "                                            position                location  \\\n",
       "0                      Accelerator Physicist id54315    Villigen PSI, Aargau   \n",
       "1  Applied Physicist (Computing) (EP-LBC-2021-125...                  Geneva   \n",
       "2  Accelerator Physicist (BE-ABP-LNO-2021-122-LD)...                  Geneva   \n",
       "3                          Medical Devices Physicist  Newton, Cambridgeshire   \n",
       "4                                 Fluidics Physicist               Cambridge   \n",
       "\n",
       "                                         description  \n",
       "0  [' You have an academic degree in physics or e...  \n",
       "1  [' Be in charge of the development of applicat...  \n",
       "2  [' Contribute to the maintenance and developme...  \n",
       "3  [' Agency: Newton Colmore Consulting Reference...  \n",
       "4  [' Agency: Newton Colmore Consulting Reference...  "
      ]
     },
     "execution_count": 12,
     "metadata": {},
     "output_type": "execute_result"
    }
   ],
   "source": [
    "#job description data\n",
    "\n",
    "data = pd.read_csv(PATH + '/skills_matcher/data/cleaned_data.csv')\n",
    "data = data.drop(['Unnamed: 0'], axis = 1)\n",
    "data = data.dropna()\n",
    "data = data.drop_duplicates()\n",
    "data.head()"
   ]
  },
  {
   "cell_type": "code",
   "execution_count": 13,
   "id": "37e1de6e-d21e-4022-ad4f-16eec157035a",
   "metadata": {},
   "outputs": [],
   "source": [
    "data = data.drop(columns = [\"ISCO\", \"major_job\", \"location\"])"
   ]
  },
  {
   "cell_type": "code",
   "execution_count": 14,
   "id": "ca12e2f5-a09b-400f-8a62-c72341a31238",
   "metadata": {},
   "outputs": [
    {
     "data": {
      "text/html": [
       "<div>\n",
       "<style scoped>\n",
       "    .dataframe tbody tr th:only-of-type {\n",
       "        vertical-align: middle;\n",
       "    }\n",
       "\n",
       "    .dataframe tbody tr th {\n",
       "        vertical-align: top;\n",
       "    }\n",
       "\n",
       "    .dataframe thead th {\n",
       "        text-align: right;\n",
       "    }\n",
       "</style>\n",
       "<table border=\"1\" class=\"dataframe\">\n",
       "  <thead>\n",
       "    <tr style=\"text-align: right;\">\n",
       "      <th></th>\n",
       "      <th>job</th>\n",
       "      <th>position</th>\n",
       "      <th>description</th>\n",
       "    </tr>\n",
       "  </thead>\n",
       "  <tbody>\n",
       "    <tr>\n",
       "      <th>0</th>\n",
       "      <td>physicist</td>\n",
       "      <td>Accelerator Physicist id54315</td>\n",
       "      <td>[' You have an academic degree in physics or e...</td>\n",
       "    </tr>\n",
       "    <tr>\n",
       "      <th>1</th>\n",
       "      <td>physicist</td>\n",
       "      <td>Applied Physicist (Computing) (EP-LBC-2021-125...</td>\n",
       "      <td>[' Be in charge of the development of applicat...</td>\n",
       "    </tr>\n",
       "    <tr>\n",
       "      <th>2</th>\n",
       "      <td>physicist</td>\n",
       "      <td>Accelerator Physicist (BE-ABP-LNO-2021-122-LD)...</td>\n",
       "      <td>[' Contribute to the maintenance and developme...</td>\n",
       "    </tr>\n",
       "    <tr>\n",
       "      <th>3</th>\n",
       "      <td>physicist</td>\n",
       "      <td>Medical Devices Physicist</td>\n",
       "      <td>[' Agency: Newton Colmore Consulting Reference...</td>\n",
       "    </tr>\n",
       "    <tr>\n",
       "      <th>4</th>\n",
       "      <td>physicist</td>\n",
       "      <td>Fluidics Physicist</td>\n",
       "      <td>[' Agency: Newton Colmore Consulting Reference...</td>\n",
       "    </tr>\n",
       "  </tbody>\n",
       "</table>\n",
       "</div>"
      ],
      "text/plain": [
       "         job                                           position  \\\n",
       "0  physicist                      Accelerator Physicist id54315   \n",
       "1  physicist  Applied Physicist (Computing) (EP-LBC-2021-125...   \n",
       "2  physicist  Accelerator Physicist (BE-ABP-LNO-2021-122-LD)...   \n",
       "3  physicist                          Medical Devices Physicist   \n",
       "4  physicist                                 Fluidics Physicist   \n",
       "\n",
       "                                         description  \n",
       "0  [' You have an academic degree in physics or e...  \n",
       "1  [' Be in charge of the development of applicat...  \n",
       "2  [' Contribute to the maintenance and developme...  \n",
       "3  [' Agency: Newton Colmore Consulting Reference...  \n",
       "4  [' Agency: Newton Colmore Consulting Reference...  "
      ]
     },
     "execution_count": 14,
     "metadata": {},
     "output_type": "execute_result"
    }
   ],
   "source": [
    "data.head()"
   ]
  },
  {
   "cell_type": "code",
   "execution_count": 26,
   "id": "87405151-5b60-45e1-b107-82f4b1d1a402",
   "metadata": {},
   "outputs": [
    {
     "data": {
      "text/plain": [
       "'[\\' Lead on documenting and understanding the existing SQL Databases Develop and Implement group wide Data Governance policies Act as day-to-day Data/BI System support to all department Support Manage in seeking ways to automate and standardise reporting across the Group Build robust Reporting Suites that measure financial and operational performance (Power BI) Partner Department Heads and Finance BPs, to understand performance drivers and standardise KPIs Support Manager in prioritising System Development requests Act as the day-to-day \\\\\\'Data/Insight\\\\\\' support for Bailey UK teams Work with Manager to develop and introduce Data Governance policies Document and develop understanding of existing system SQL databases and tables Work with Manager and Heads of departments to develop a data dictionary Develop \"one source of the truth\" reporting capability for the whole business, including of assessment of potential system requirements Provide commercial and finance reporting support for Product and Pricing projects Facilitate S&OP process \\', \\' Quarterly Sales & COGs Forecasting/Budgeting, including scenario planning Product Development & Strategy processes, providing financial and non-financial input S&OP process - Partner sales and product teams to aid planning and decision making \\', \\' Power BI/DAX Skills an advantage - although experience with other BI tools attractive Experience of IT Transformation Projects such as BI/ERP roll-outs an advantage Strong Data Governance through experience or qualification Advanced SQL Skills Strong data analysis skills and ability to interrogate and manipulate data Ability to build reports from multiple sources Strong communication skills Strong Excel modelling skills Self-sufficient Hands-on nature/\"roll sleeves up\" Personable \\']'"
      ]
     },
     "execution_count": 26,
     "metadata": {},
     "output_type": "execute_result"
    }
   ],
   "source": [
    "#mixing job description and taking smaller sample for faster computation\n",
    "\n",
    "data = data.reindex(np.random.permutation(data.index))\n",
    "data = data.copy().iloc[\n",
    "    0:200,\n",
    "]\n",
    "data[\"description\"][3516]"
   ]
  },
  {
   "cell_type": "markdown",
   "id": "087928e4-7fec-43ad-8bb5-a1151f994c23",
   "metadata": {},
   "source": [
    "# different spacy models"
   ]
  },
  {
   "cell_type": "code",
   "execution_count": 189,
   "id": "591506af-ad11-4fda-a5fd-ba7e5a5a11b6",
   "metadata": {},
   "outputs": [
    {
     "data": {
      "text/plain": [
       "['tok2vec',\n",
       " 'tagger',\n",
       " 'parser',\n",
       " 'attribute_ruler',\n",
       " 'lemmatizer',\n",
       " 'ner',\n",
       " 'entity_ruler']"
      ]
     },
     "execution_count": 189,
     "metadata": {},
     "output_type": "execute_result"
    }
   ],
   "source": [
    "# spacy english model - change to small (en_core_web_lg) for faster computation - trained with skill_pattern.jsonl\n",
    "\n",
    "nlp_ms = spacy.load(\"en_core_web_sm\")\n",
    "skill_pattern_path =  \"../data/skill_patterns.jsonl\"\n",
    "\n",
    "ruler = nlp_ms.add_pipe(\"entity_ruler\")\n",
    "ruler.from_disk(skill_pattern_path)\n",
    "nlp_ms.pipe_names"
   ]
  },
  {
   "cell_type": "code",
   "execution_count": 303,
   "id": "1374b1cc-0034-47ab-a9d7-ab66c7f3392d",
   "metadata": {},
   "outputs": [
    {
     "data": {
      "text/plain": [
       "['tok2vec',\n",
       " 'tagger',\n",
       " 'parser',\n",
       " 'attribute_ruler',\n",
       " 'lemmatizer',\n",
       " 'ner',\n",
       " 'entity_ruler']"
      ]
     },
     "execution_count": 303,
     "metadata": {},
     "output_type": "execute_result"
    }
   ],
   "source": [
    "#2nd model trained with our skill_list\n",
    "\n",
    "nlp_2 = spacy.load('en_core_web_sm')\n",
    "\n",
    "ruler_2 = nlp_2.add_pipe(\"entity_ruler\")\n",
    "\n",
    "ruler_2.from_disk(new_dict_json_path)\n",
    "\n",
    "nlp_2.pipe_names"
   ]
  },
  {
   "cell_type": "code",
   "execution_count": 174,
   "id": "8d7b0ed9-26c7-4ec3-84c3-eea7753b728f",
   "metadata": {},
   "outputs": [
    {
     "data": {
      "text/plain": [
       "[{'LOWER': 'federal'},\n",
       " {'LOWER': 'emergency'},\n",
       " {'LOWER': 'management'},\n",
       " {'LOWER': 'information'},\n",
       " {'LOWER': 'system'},\n",
       " {'LOWER': 'femis'}]"
      ]
     },
     "execution_count": 174,
     "metadata": {},
     "output_type": "execute_result"
    }
   ],
   "source": [
    "skill_list[1][\"pattern\"]"
   ]
  },
  {
   "cell_type": "code",
   "execution_count": 179,
   "id": "da8cc144-bd2b-4d9e-ae9e-2869cf61da1d",
   "metadata": {},
   "outputs": [
    {
     "data": {
      "text/plain": [
       "5                         Alert Technologies OpsCenter\n",
       "6            Emergency Services Integrators ESi WebEOC\n",
       "7    National Center for Crisis and Continuity Coor...\n",
       "8                                        Relex Weibull\n",
       "9                         Microsoft Dynamics Marketing\n",
       "Name: Skill, dtype: object"
      ]
     },
     "execution_count": 179,
     "metadata": {},
     "output_type": "execute_result"
    }
   ],
   "source": [
    "skills[\"Skill\"][5:10]"
   ]
  },
  {
   "cell_type": "markdown",
   "id": "91b25813-5a4b-4153-98ec-30cb4b0c1592",
   "metadata": {},
   "source": [
    "## cleaning and skill extraction functions"
   ]
  },
  {
   "cell_type": "code",
   "execution_count": 22,
   "id": "e896754f-1745-4ceb-b168-8766f9272608",
   "metadata": {},
   "outputs": [],
   "source": [
    "def get_skills(text):\n",
    "    doc = nlp_2(text)\n",
    "    myset = []\n",
    "    subset = []\n",
    "    for ent in doc.ents:\n",
    "        if ent.label_ == \"SKILL\":\n",
    "            subset.append(ent.text)\n",
    "    myset.append(subset)\n",
    "    return subset\n",
    "\n",
    "\n",
    "def unique_skills(x):\n",
    "    return list(set(x))"
   ]
  },
  {
   "cell_type": "code",
   "execution_count": 23,
   "id": "2ef231ab-0269-477d-8807-1625d8d35944",
   "metadata": {},
   "outputs": [],
   "source": [
    "#cleaning data function - call with TRUE value if lowering/stopword removiing/punctuation removing/ lemmatizing should be done\n",
    "def clean_data(data, lower = False, stopw=False, punctuation=False, lemmatize=False):\n",
    "    data = data.dropna()\n",
    "    \n",
    "    # digits\n",
    "    data['description'] = data['description'].str.replace('\\d+', '')\n",
    "        \n",
    "    if lower == True:\n",
    "            ## Lower case\n",
    "            data['description'] = data['description'].apply(lambda x: \" \".join(x.lower()for x in x.split()))\n",
    "            \n",
    "    ## remove tabulation and punctuation\n",
    "    if punctuation == True:\n",
    "            data['description'] = data['description'].str.replace('[^\\w\\s]',' ')\n",
    "            \n",
    "    ## stopwords\n",
    "    if stopw == True:\n",
    "            stop = stopwords.words('english')\n",
    "            data['description'] = data['description'].apply(lambda x: \" \".join(x for x in x.split() if x not in stop))\n",
    "            \n",
    "    ## lemmatizing\n",
    "    if lemmatize == True:\n",
    "            lemmatizer = WordNetLemmatizer()\n",
    "            data['description'] = data['description'].apply(lambda x: \" \".join([lemmatizer.lemmatize(word) for word in x.split()]))\n",
    "\n",
    "    ##depending on data frame, drop more columns, re-index\n",
    "    ##clean_data.drop(columns = \"position\")\n",
    "    \n",
    "    return data"
   ]
  },
  {
   "cell_type": "code",
   "execution_count": 24,
   "id": "c839b198-99c0-403c-b445-76135789c8b8",
   "metadata": {},
   "outputs": [],
   "source": [
    "clean_data = clean_data(data, True, True, True, True)"
   ]
  },
  {
   "cell_type": "code",
   "execution_count": 25,
   "id": "7c477de0-9589-4e0f-b7be-cbabc903e359",
   "metadata": {},
   "outputs": [
    {
     "data": {
      "text/html": [
       "<div>\n",
       "<style scoped>\n",
       "    .dataframe tbody tr th:only-of-type {\n",
       "        vertical-align: middle;\n",
       "    }\n",
       "\n",
       "    .dataframe tbody tr th {\n",
       "        vertical-align: top;\n",
       "    }\n",
       "\n",
       "    .dataframe thead th {\n",
       "        text-align: right;\n",
       "    }\n",
       "</style>\n",
       "<table border=\"1\" class=\"dataframe\">\n",
       "  <thead>\n",
       "    <tr style=\"text-align: right;\">\n",
       "      <th></th>\n",
       "      <th>job</th>\n",
       "      <th>position</th>\n",
       "      <th>description</th>\n",
       "    </tr>\n",
       "  </thead>\n",
       "  <tbody>\n",
       "    <tr>\n",
       "      <th>2640</th>\n",
       "      <td>recruitment officer</td>\n",
       "      <td>Recruitment Officer</td>\n",
       "      <td>involved whole lifecycle recruitment including...</td>\n",
       "    </tr>\n",
       "    <tr>\n",
       "      <th>2528</th>\n",
       "      <td>accountant</td>\n",
       "      <td>GL Accountant</td>\n",
       "      <td>significant support preparation monthly quarte...</td>\n",
       "    </tr>\n",
       "    <tr>\n",
       "      <th>52</th>\n",
       "      <td>biochemist</td>\n",
       "      <td>Biochemist</td>\n",
       "      <td>agency newton colmore consulting reference bmd...</td>\n",
       "    </tr>\n",
       "    <tr>\n",
       "      <th>3697</th>\n",
       "      <td>ux designer</td>\n",
       "      <td>UX Designer</td>\n",
       "      <td>innovative dynamic customer centric workplace ...</td>\n",
       "    </tr>\n",
       "    <tr>\n",
       "      <th>3056</th>\n",
       "      <td>video editor</td>\n",
       "      <td>Established Video Editor</td>\n",
       "      <td>editing ugc original content snapchat instagra...</td>\n",
       "    </tr>\n",
       "  </tbody>\n",
       "</table>\n",
       "</div>"
      ],
      "text/plain": [
       "                      job                  position  \\\n",
       "2640  recruitment officer       Recruitment Officer   \n",
       "2528           accountant             GL Accountant   \n",
       "52             biochemist                Biochemist   \n",
       "3697          ux designer               UX Designer   \n",
       "3056         video editor  Established Video Editor   \n",
       "\n",
       "                                            description  \n",
       "2640  involved whole lifecycle recruitment including...  \n",
       "2528  significant support preparation monthly quarte...  \n",
       "52    agency newton colmore consulting reference bmd...  \n",
       "3697  innovative dynamic customer centric workplace ...  \n",
       "3056  editing ugc original content snapchat instagra...  "
      ]
     },
     "execution_count": 25,
     "metadata": {},
     "output_type": "execute_result"
    }
   ],
   "source": [
    "clean_data.head()"
   ]
  },
  {
   "cell_type": "code",
   "execution_count": 27,
   "id": "86e3b363-0fab-4bf7-8ac4-86f36dbbb588",
   "metadata": {},
   "outputs": [
    {
     "data": {
      "text/plain": [
       "(200, 3)"
      ]
     },
     "execution_count": 27,
     "metadata": {},
     "output_type": "execute_result"
    }
   ],
   "source": [
    "clean_data.shape"
   ]
  },
  {
   "cell_type": "code",
   "execution_count": 123,
   "id": "8d6b5b8f-5e81-400f-94a9-511cc36a4205",
   "metadata": {},
   "outputs": [
    {
     "data": {
      "text/html": [
       "<div>\n",
       "<style scoped>\n",
       "    .dataframe tbody tr th:only-of-type {\n",
       "        vertical-align: middle;\n",
       "    }\n",
       "\n",
       "    .dataframe tbody tr th {\n",
       "        vertical-align: top;\n",
       "    }\n",
       "\n",
       "    .dataframe thead th {\n",
       "        text-align: right;\n",
       "    }\n",
       "</style>\n",
       "<table border=\"1\" class=\"dataframe\">\n",
       "  <thead>\n",
       "    <tr style=\"text-align: right;\">\n",
       "      <th></th>\n",
       "      <th>job</th>\n",
       "      <th>position</th>\n",
       "      <th>description</th>\n",
       "      <th>skills</th>\n",
       "    </tr>\n",
       "  </thead>\n",
       "  <tbody>\n",
       "    <tr>\n",
       "      <th>2640</th>\n",
       "      <td>recruitment officer</td>\n",
       "      <td>Recruitment Officer</td>\n",
       "      <td>involved whole lifecycle recruitment including...</td>\n",
       "      <td>[]</td>\n",
       "    </tr>\n",
       "    <tr>\n",
       "      <th>2528</th>\n",
       "      <td>accountant</td>\n",
       "      <td>GL Accountant</td>\n",
       "      <td>significant support preparation monthly quarte...</td>\n",
       "      <td>[]</td>\n",
       "    </tr>\n",
       "    <tr>\n",
       "      <th>52</th>\n",
       "      <td>biochemist</td>\n",
       "      <td>Biochemist</td>\n",
       "      <td>agency newton colmore consulting reference bmd...</td>\n",
       "      <td>[]</td>\n",
       "    </tr>\n",
       "    <tr>\n",
       "      <th>3697</th>\n",
       "      <td>ux designer</td>\n",
       "      <td>UX Designer</td>\n",
       "      <td>innovative dynamic customer centric workplace ...</td>\n",
       "      <td>[]</td>\n",
       "    </tr>\n",
       "    <tr>\n",
       "      <th>3056</th>\n",
       "      <td>video editor</td>\n",
       "      <td>Established Video Editor</td>\n",
       "      <td>editing ugc original content snapchat instagra...</td>\n",
       "      <td>[]</td>\n",
       "    </tr>\n",
       "    <tr>\n",
       "      <th>...</th>\n",
       "      <td>...</td>\n",
       "      <td>...</td>\n",
       "      <td>...</td>\n",
       "      <td>...</td>\n",
       "    </tr>\n",
       "    <tr>\n",
       "      <th>1467</th>\n",
       "      <td>civil engineer</td>\n",
       "      <td>Principal Civil Engineer</td>\n",
       "      <td>working within small team providing technical ...</td>\n",
       "      <td>[]</td>\n",
       "    </tr>\n",
       "    <tr>\n",
       "      <th>1356</th>\n",
       "      <td>drama teacher</td>\n",
       "      <td>Music &amp; Drama Teacher</td>\n",
       "      <td>hold working towards uk recognized teaching qu...</td>\n",
       "      <td>[]</td>\n",
       "    </tr>\n",
       "    <tr>\n",
       "      <th>183</th>\n",
       "      <td>process chemist</td>\n",
       "      <td>Senior Process Chemist / Agrochemicals</td>\n",
       "      <td>stable growing business great opportunity exce...</td>\n",
       "      <td>[]</td>\n",
       "    </tr>\n",
       "    <tr>\n",
       "      <th>3368</th>\n",
       "      <td>web developer</td>\n",
       "      <td>Web Developer</td>\n",
       "      <td>considerable experience developer technologist...</td>\n",
       "      <td>[]</td>\n",
       "    </tr>\n",
       "    <tr>\n",
       "      <th>2545</th>\n",
       "      <td>accountant</td>\n",
       "      <td>Financial Accountant</td>\n",
       "      <td>supporting finance team solvency ii return mon...</td>\n",
       "      <td>[]</td>\n",
       "    </tr>\n",
       "  </tbody>\n",
       "</table>\n",
       "<p>70 rows × 4 columns</p>\n",
       "</div>"
      ],
      "text/plain": [
       "                      job                                position  \\\n",
       "2640  recruitment officer                     Recruitment Officer   \n",
       "2528           accountant                           GL Accountant   \n",
       "52             biochemist                              Biochemist   \n",
       "3697          ux designer                             UX Designer   \n",
       "3056         video editor                Established Video Editor   \n",
       "...                   ...                                     ...   \n",
       "1467       civil engineer                Principal Civil Engineer   \n",
       "1356        drama teacher                   Music & Drama Teacher   \n",
       "183       process chemist  Senior Process Chemist / Agrochemicals   \n",
       "3368        web developer                           Web Developer   \n",
       "2545           accountant                    Financial Accountant   \n",
       "\n",
       "                                            description skills  \n",
       "2640  involved whole lifecycle recruitment including...     []  \n",
       "2528  significant support preparation monthly quarte...     []  \n",
       "52    agency newton colmore consulting reference bmd...     []  \n",
       "3697  innovative dynamic customer centric workplace ...     []  \n",
       "3056  editing ugc original content snapchat instagra...     []  \n",
       "...                                                 ...    ...  \n",
       "1467  working within small team providing technical ...     []  \n",
       "1356  hold working towards uk recognized teaching qu...     []  \n",
       "183   stable growing business great opportunity exce...     []  \n",
       "3368  considerable experience developer technologist...     []  \n",
       "2545  supporting finance team solvency ii return mon...     []  \n",
       "\n",
       "[70 rows x 4 columns]"
      ]
     },
     "execution_count": 123,
     "metadata": {},
     "output_type": "execute_result"
    }
   ],
   "source": [
    "clean_data[\"skills\"] = clean_data[\"description\"].str.lower().apply(get_skills)\n",
    "clean_data[\"skills\"] = clean_data[\"skills\"].apply(unique_skills)\n"
   ]
  },
  {
   "cell_type": "code",
   "execution_count": 137,
   "id": "2e4f7c46-0bd9-49d3-825f-265e8f9b5fec",
   "metadata": {},
   "outputs": [
    {
     "data": {
      "text/html": [
       "<div>\n",
       "<style scoped>\n",
       "    .dataframe tbody tr th:only-of-type {\n",
       "        vertical-align: middle;\n",
       "    }\n",
       "\n",
       "    .dataframe tbody tr th {\n",
       "        vertical-align: top;\n",
       "    }\n",
       "\n",
       "    .dataframe thead th {\n",
       "        text-align: right;\n",
       "    }\n",
       "</style>\n",
       "<table border=\"1\" class=\"dataframe\">\n",
       "  <thead>\n",
       "    <tr style=\"text-align: right;\">\n",
       "      <th></th>\n",
       "      <th>job</th>\n",
       "      <th>position</th>\n",
       "      <th>description</th>\n",
       "      <th>skills</th>\n",
       "    </tr>\n",
       "  </thead>\n",
       "  <tbody>\n",
       "    <tr>\n",
       "      <th>2640</th>\n",
       "      <td>recruitment officer</td>\n",
       "      <td>Recruitment Officer</td>\n",
       "      <td>involved whole lifecycle recruitment including...</td>\n",
       "      <td>[]</td>\n",
       "    </tr>\n",
       "    <tr>\n",
       "      <th>2528</th>\n",
       "      <td>accountant</td>\n",
       "      <td>GL Accountant</td>\n",
       "      <td>significant support preparation monthly quarte...</td>\n",
       "      <td>[]</td>\n",
       "    </tr>\n",
       "    <tr>\n",
       "      <th>52</th>\n",
       "      <td>biochemist</td>\n",
       "      <td>Biochemist</td>\n",
       "      <td>agency newton colmore consulting reference bmd...</td>\n",
       "      <td>[]</td>\n",
       "    </tr>\n",
       "    <tr>\n",
       "      <th>3697</th>\n",
       "      <td>ux designer</td>\n",
       "      <td>UX Designer</td>\n",
       "      <td>innovative dynamic customer centric workplace ...</td>\n",
       "      <td>[]</td>\n",
       "    </tr>\n",
       "    <tr>\n",
       "      <th>3056</th>\n",
       "      <td>video editor</td>\n",
       "      <td>Established Video Editor</td>\n",
       "      <td>editing ugc original content snapchat instagra...</td>\n",
       "      <td>[]</td>\n",
       "    </tr>\n",
       "    <tr>\n",
       "      <th>...</th>\n",
       "      <td>...</td>\n",
       "      <td>...</td>\n",
       "      <td>...</td>\n",
       "      <td>...</td>\n",
       "    </tr>\n",
       "    <tr>\n",
       "      <th>4304</th>\n",
       "      <td>attendant</td>\n",
       "      <td>Room Attendant (Housekeeping)</td>\n",
       "      <td>make sure guest room look well presented perfo...</td>\n",
       "      <td>[]</td>\n",
       "    </tr>\n",
       "    <tr>\n",
       "      <th>2901</th>\n",
       "      <td>cashier</td>\n",
       "      <td>Finance Assistant</td>\n",
       "      <td>generous holiday allowance day pro rata bank h...</td>\n",
       "      <td>[]</td>\n",
       "    </tr>\n",
       "    <tr>\n",
       "      <th>4113</th>\n",
       "      <td>product manager</td>\n",
       "      <td>Product Manager</td>\n",
       "      <td>assist generating vision idea social mobile ga...</td>\n",
       "      <td>[]</td>\n",
       "    </tr>\n",
       "    <tr>\n",
       "      <th>1459</th>\n",
       "      <td>nurse</td>\n",
       "      <td>Registered Nurse</td>\n",
       "      <td>location falkirk full time privately owned gro...</td>\n",
       "      <td>[]</td>\n",
       "    </tr>\n",
       "    <tr>\n",
       "      <th>416</th>\n",
       "      <td>immunologist</td>\n",
       "      <td>Biologist, Biochemist, Immunologist (PhD) in R...</td>\n",
       "      <td>responsible early stage development new cellul...</td>\n",
       "      <td>[]</td>\n",
       "    </tr>\n",
       "  </tbody>\n",
       "</table>\n",
       "<p>100 rows × 4 columns</p>\n",
       "</div>"
      ],
      "text/plain": [
       "                      job                                           position  \\\n",
       "2640  recruitment officer                                Recruitment Officer   \n",
       "2528           accountant                                      GL Accountant   \n",
       "52             biochemist                                         Biochemist   \n",
       "3697          ux designer                                        UX Designer   \n",
       "3056         video editor                           Established Video Editor   \n",
       "...                   ...                                                ...   \n",
       "4304            attendant                      Room Attendant (Housekeeping)   \n",
       "2901              cashier                                  Finance Assistant   \n",
       "4113      product manager                                    Product Manager   \n",
       "1459                nurse                                   Registered Nurse   \n",
       "416          immunologist  Biologist, Biochemist, Immunologist (PhD) in R...   \n",
       "\n",
       "                                            description skills  \n",
       "2640  involved whole lifecycle recruitment including...     []  \n",
       "2528  significant support preparation monthly quarte...     []  \n",
       "52    agency newton colmore consulting reference bmd...     []  \n",
       "3697  innovative dynamic customer centric workplace ...     []  \n",
       "3056  editing ugc original content snapchat instagra...     []  \n",
       "...                                                 ...    ...  \n",
       "4304  make sure guest room look well presented perfo...     []  \n",
       "2901  generous holiday allowance day pro rata bank h...     []  \n",
       "4113  assist generating vision idea social mobile ga...     []  \n",
       "1459  location falkirk full time privately owned gro...     []  \n",
       "416   responsible early stage development new cellul...     []  \n",
       "\n",
       "[100 rows x 4 columns]"
      ]
     },
     "execution_count": 137,
     "metadata": {},
     "output_type": "execute_result"
    }
   ],
   "source": [
    "clean_data.head(100)"
   ]
  },
  {
   "cell_type": "code",
   "execution_count": 140,
   "id": "f7117fe5-03e6-493d-9ba9-8596f715b6ba",
   "metadata": {},
   "outputs": [
    {
     "data": {
      "text/plain": [
       "'assist generating vision idea social mobile game market position feature viral engaging highly monetizeable go idea detailed concept test user decide implementation create wireframe screen mock ups user flow new product feature content manage team artist engineer prioritize task manage roadmap ensure implementation define measure analyse kpi base priority decision next step metric performing systematic b test split testing constantly optimise game post launch even virality engagement monetization bc mobile experience numerical skill gaming environment must obsessed detail good logical sound analytical numerical capability love product create passionate game think user point view want get better time ideal candidate turn difficult concept something magically simple user product manager creative mindset communicate clearly straight point experience product management game design mobile gaming environment infamous rolling sleeve get thing done care lot people playing game team company working collaboratively across business area employer pension contribution aviva private health insurance vitality full dental insurance life insurance long term disability insurance day holiday employee assistance programme bonus scheme season ticket loan personal development career plan relocation support rated visa sponsor study assistance program moving house day'"
      ]
     },
     "execution_count": 140,
     "metadata": {},
     "output_type": "execute_result"
    }
   ],
   "source": [
    "clean_data['description'][4113]"
   ]
  },
  {
   "cell_type": "code",
   "execution_count": 138,
   "id": "a46698ca-0de2-40f1-9627-cf7440b4cb6d",
   "metadata": {},
   "outputs": [
    {
     "data": {
      "text/plain": [
       "[]"
      ]
     },
     "execution_count": 138,
     "metadata": {},
     "output_type": "execute_result"
    }
   ],
   "source": [
    "unique_skills(get_skills(clean_data['description'][1459]))"
   ]
  },
  {
   "cell_type": "code",
   "execution_count": null,
   "id": "bb0b0744-6865-4ecf-97fa-a3e216791fb5",
   "metadata": {},
   "outputs": [],
   "source": [
    "text = 'peoplenet facebook go has a creative mindeste '"
   ]
  },
  {
   "cell_type": "code",
   "execution_count": 304,
   "id": "ff3b3794-b8c4-4fc2-99c8-74684b1ab587",
   "metadata": {},
   "outputs": [
    {
     "data": {
      "text/html": [
       "<span class=\"tex2jax_ignore\"><div class=\"entities\" style=\"line-height: 2.5; direction: ltr\">assist generating vision idea social \n",
       "<mark class=\"entity\" style=\"background: #ddd; padding: 0.45em 0.6em; margin: 0 0.25em; line-height: 1; border-radius: 0.35em;\">\n",
       "    mobile\n",
       "    <span style=\"font-size: 0.8em; font-weight: bold; line-height: 1; border-radius: 0.35em; vertical-align: middle; margin-left: 0.5rem\">SKILL|mobile</span>\n",
       "</mark>\n",
       " game market position feature viral engaging highly monetizeable \n",
       "<mark class=\"entity\" style=\"background: #ddd; padding: 0.45em 0.6em; margin: 0 0.25em; line-height: 1; border-radius: 0.35em;\">\n",
       "    go\n",
       "    <span style=\"font-size: 0.8em; font-weight: bold; line-height: 1; border-radius: 0.35em; vertical-align: middle; margin-left: 0.5rem\">SKILL|Go</span>\n",
       "</mark>\n",
       " idea detailed concept test user decide implementation create wireframe screen mock ups user flow new product feature content manage team artist engineer prioritize task manage roadmap ensure implementation define measure analyse kpi base priority decision next step metric performing systematic b test split \n",
       "<mark class=\"entity\" style=\"background: #ddd; padding: 0.45em 0.6em; margin: 0 0.25em; line-height: 1; border-radius: 0.35em;\">\n",
       "    testing\n",
       "    <span style=\"font-size: 0.8em; font-weight: bold; line-height: 1; border-radius: 0.35em; vertical-align: middle; margin-left: 0.5rem\">SKILL|testing</span>\n",
       "</mark>\n",
       " constantly optimise game post launch even virality engagement monetization \n",
       "<mark class=\"entity\" style=\"background: #7aecec; padding: 0.45em 0.6em; margin: 0 0.25em; line-height: 1; border-radius: 0.35em;\">\n",
       "    bc mobile\n",
       "    <span style=\"font-size: 0.8em; font-weight: bold; line-height: 1; border-radius: 0.35em; vertical-align: middle; margin-left: 0.5rem\">ORG</span>\n",
       "</mark>\n",
       " experience numerical skill gaming environment must obsessed detail good logical sound analytical numerical capability love product create passionate game think user point view want get better time ideal candidate turn difficult concept something magically simple user product manager creative mindset communicate clearly straight point experience product management game \n",
       "<mark class=\"entity\" style=\"background: #ddd; padding: 0.45em 0.6em; margin: 0 0.25em; line-height: 1; border-radius: 0.35em;\">\n",
       "    design\n",
       "    <span style=\"font-size: 0.8em; font-weight: bold; line-height: 1; border-radius: 0.35em; vertical-align: middle; margin-left: 0.5rem\">SKILL|design</span>\n",
       "</mark>\n",
       " \n",
       "<mark class=\"entity\" style=\"background: #ddd; padding: 0.45em 0.6em; margin: 0 0.25em; line-height: 1; border-radius: 0.35em;\">\n",
       "    mobile\n",
       "    <span style=\"font-size: 0.8em; font-weight: bold; line-height: 1; border-radius: 0.35em; vertical-align: middle; margin-left: 0.5rem\">SKILL|mobile</span>\n",
       "</mark>\n",
       " gaming environment infamous rolling sleeve get thing done care lot people playing game team company working collaboratively across \n",
       "<mark class=\"entity\" style=\"background: #ddd; padding: 0.45em 0.6em; margin: 0 0.25em; line-height: 1; border-radius: 0.35em;\">\n",
       "    business\n",
       "    <span style=\"font-size: 0.8em; font-weight: bold; line-height: 1; border-radius: 0.35em; vertical-align: middle; margin-left: 0.5rem\">SKILL|business</span>\n",
       "</mark>\n",
       " area employer pension contribution aviva private health insurance vitality full dental insurance life insurance long term disability insurance day holiday employee assistance programme bonus scheme season ticket loan personal development career plan relocation \n",
       "<mark class=\"entity\" style=\"background: #ddd; padding: 0.45em 0.6em; margin: 0 0.25em; line-height: 1; border-radius: 0.35em;\">\n",
       "    support\n",
       "    <span style=\"font-size: 0.8em; font-weight: bold; line-height: 1; border-radius: 0.35em; vertical-align: middle; margin-left: 0.5rem\">SKILL|support</span>\n",
       "</mark>\n",
       " rated visa sponsor study assistance program moving house \n",
       "<mark class=\"entity\" style=\"background: #bfe1d9; padding: 0.45em 0.6em; margin: 0 0.25em; line-height: 1; border-radius: 0.35em;\">\n",
       "    day\n",
       "    <span style=\"font-size: 0.8em; font-weight: bold; line-height: 1; border-radius: 0.35em; vertical-align: middle; margin-left: 0.5rem\">DATE</span>\n",
       "</mark>\n",
       "</div></span>"
      ],
      "text/plain": [
       "<IPython.core.display.HTML object>"
      ]
     },
     "metadata": {},
     "output_type": "display_data"
    }
   ],
   "source": [
    "sent = nlp_2(clean_data[\"description\"][4113])\n",
    "displacy.render(sent, style=\"ent\", jupyter=True)"
   ]
  },
  {
   "cell_type": "code",
   "execution_count": 305,
   "id": "362c048c-aff6-4632-9733-96d9d9b4e858",
   "metadata": {},
   "outputs": [
    {
     "data": {
      "text/html": [
       "<span class=\"tex2jax_ignore\"><div class=\"entities\" style=\"line-height: 2.5; direction: ltr\">assist generating vision idea social \n",
       "<mark class=\"entity\" style=\"background: #ddd; padding: 0.45em 0.6em; margin: 0 0.25em; line-height: 1; border-radius: 0.35em;\">\n",
       "    mobile\n",
       "    <span style=\"font-size: 0.8em; font-weight: bold; line-height: 1; border-radius: 0.35em; vertical-align: middle; margin-left: 0.5rem\">SKILL|mobile</span>\n",
       "</mark>\n",
       " game market position feature viral engaging highly monetizeable go idea detailed concept test user decide implementation create wireframe screen mock ups user flow new product feature content manage team artist engineer prioritize task manage roadmap ensure implementation define measure analyse kpi base priority decision next step metric performing systematic b test split \n",
       "<mark class=\"entity\" style=\"background: #ddd; padding: 0.45em 0.6em; margin: 0 0.25em; line-height: 1; border-radius: 0.35em;\">\n",
       "    testing\n",
       "    <span style=\"font-size: 0.8em; font-weight: bold; line-height: 1; border-radius: 0.35em; vertical-align: middle; margin-left: 0.5rem\">SKILL|testing</span>\n",
       "</mark>\n",
       " constantly optimise game post launch even virality engagement monetization \n",
       "<mark class=\"entity\" style=\"background: #7aecec; padding: 0.45em 0.6em; margin: 0 0.25em; line-height: 1; border-radius: 0.35em;\">\n",
       "    bc mobile\n",
       "    <span style=\"font-size: 0.8em; font-weight: bold; line-height: 1; border-radius: 0.35em; vertical-align: middle; margin-left: 0.5rem\">ORG</span>\n",
       "</mark>\n",
       " experience numerical skill gaming environment must obsessed detail good logical sound analytical numerical capability love product create passionate game think user point view want get better time ideal candidate turn difficult concept something magically simple user product manager creative mindset communicate clearly straight point experience product management game \n",
       "<mark class=\"entity\" style=\"background: #ddd; padding: 0.45em 0.6em; margin: 0 0.25em; line-height: 1; border-radius: 0.35em;\">\n",
       "    design\n",
       "    <span style=\"font-size: 0.8em; font-weight: bold; line-height: 1; border-radius: 0.35em; vertical-align: middle; margin-left: 0.5rem\">SKILL|design</span>\n",
       "</mark>\n",
       " \n",
       "<mark class=\"entity\" style=\"background: #ddd; padding: 0.45em 0.6em; margin: 0 0.25em; line-height: 1; border-radius: 0.35em;\">\n",
       "    mobile\n",
       "    <span style=\"font-size: 0.8em; font-weight: bold; line-height: 1; border-radius: 0.35em; vertical-align: middle; margin-left: 0.5rem\">SKILL|mobile</span>\n",
       "</mark>\n",
       " gaming environment infamous rolling sleeve get thing done care lot people playing game team company working collaboratively across \n",
       "<mark class=\"entity\" style=\"background: #ddd; padding: 0.45em 0.6em; margin: 0 0.25em; line-height: 1; border-radius: 0.35em;\">\n",
       "    business\n",
       "    <span style=\"font-size: 0.8em; font-weight: bold; line-height: 1; border-radius: 0.35em; vertical-align: middle; margin-left: 0.5rem\">SKILL|business</span>\n",
       "</mark>\n",
       " area employer pension contribution aviva private health insurance vitality full dental insurance life insurance long term disability insurance day holiday employee assistance programme bonus scheme season ticket loan personal development career plan relocation \n",
       "<mark class=\"entity\" style=\"background: #ddd; padding: 0.45em 0.6em; margin: 0 0.25em; line-height: 1; border-radius: 0.35em;\">\n",
       "    support\n",
       "    <span style=\"font-size: 0.8em; font-weight: bold; line-height: 1; border-radius: 0.35em; vertical-align: middle; margin-left: 0.5rem\">SKILL|support</span>\n",
       "</mark>\n",
       " rated visa sponsor study assistance program moving house \n",
       "<mark class=\"entity\" style=\"background: #bfe1d9; padding: 0.45em 0.6em; margin: 0 0.25em; line-height: 1; border-radius: 0.35em;\">\n",
       "    day\n",
       "    <span style=\"font-size: 0.8em; font-weight: bold; line-height: 1; border-radius: 0.35em; vertical-align: middle; margin-left: 0.5rem\">DATE</span>\n",
       "</mark>\n",
       "</div></span>"
      ],
      "text/plain": [
       "<IPython.core.display.HTML object>"
      ]
     },
     "metadata": {},
     "output_type": "display_data"
    }
   ],
   "source": [
    "sent = nlp_ms(clean_data[\"description\"][4113])\n",
    "displacy.render(sent, style=\"ent\", jupyter=True)"
   ]
  },
  {
   "cell_type": "markdown",
   "id": "13d80cae-d1d9-4481-8ba0-bc0df53a6c6a",
   "metadata": {},
   "source": [
    "# Same approach with different data (resume.csv from Kaggle)"
   ]
  },
  {
   "cell_type": "code",
   "execution_count": null,
   "id": "666a85f8-f34f-48a0-bebe-06fc0c7fad13",
   "metadata": {},
   "outputs": [],
   "source": [
    "#resume data from kaggle - for tryout\n",
    "\n",
    "df = pd.read_csv(PATH + \"/skills_matcher/data/Resume/Resume.csv\")\n",
    "df.head()\n"
   ]
  },
  {
   "cell_type": "code",
   "execution_count": null,
   "id": "d540b4fa-a79a-41a8-80b7-ab84dd7dfb69",
   "metadata": {},
   "outputs": [],
   "source": [
    "df = df.reindex(np.random.permutation(df.index))\n",
    "df = df.copy().iloc[\n",
    "    0:200,\n",
    "]\n",
    "df.head()"
   ]
  },
  {
   "cell_type": "code",
   "execution_count": null,
   "id": "854a0142-2ac3-4285-b72f-70c7b0524809",
   "metadata": {},
   "outputs": [],
   "source": [
    "#different cleaning function\n",
    "\n",
    "clean = []\n",
    "for i in range(df.shape[0]):\n",
    "    review = re.sub(\n",
    "        '(@[A-Za-z0-9]+)|([^0-9A-Za-z \\t])|(\\w+:\\/\\/\\S+)|^rt|http.+?\"',\n",
    "        \" \",\n",
    "        df[\"Resume_str\"].iloc[i],\n",
    "    )\n",
    "    review = review.lower()\n",
    "    review = review.split()\n",
    "    lm = WordNetLemmatizer()\n",
    "    review = [\n",
    "        lm.lemmatize(word)\n",
    "        for word in review\n",
    "        if not word in set(stopwords.words(\"english\"))\n",
    "    ]\n",
    "    review = \" \".join(review)\n",
    "    clean.append(review)"
   ]
  },
  {
   "cell_type": "code",
   "execution_count": null,
   "id": "2cf05cbc-77a0-4e0c-922c-7a37d9ca76eb",
   "metadata": {},
   "outputs": [],
   "source": [
    "df[\"Clean_Resume\"] = clean\n",
    "df[\"skills\"] = df[\"Clean_Resume\"].str.lower().apply(get_skills)\n",
    "df[\"skills\"] = df[\"skills\"].apply(unique_skills)\n",
    "df.head()"
   ]
  },
  {
   "cell_type": "code",
   "execution_count": null,
   "id": "bd6d84df-08ab-4b8f-9b73-7b0abbd7685e",
   "metadata": {},
   "outputs": [],
   "source": [
    "df[\"skills\"]"
   ]
  },
  {
   "cell_type": "code",
   "execution_count": null,
   "id": "facbbfe4-6b60-4122-a0d7-13c8abfb7cd4",
   "metadata": {},
   "outputs": [],
   "source": [
    "sent = nlp(df[\"Clean_Resume\"].iloc[10])\n",
    "displacy.render(sent, style=\"ent\", jupyter=True)"
   ]
  },
  {
   "cell_type": "code",
   "execution_count": null,
   "id": "75a39653-40e8-48ba-927e-08cc3eac1fa5",
   "metadata": {},
   "outputs": [],
   "source": [
    "test = df[\"Resume_str\"].iloc[4]\n",
    "print(test)\n",
    "unique_skills(get_skills(test))"
   ]
  },
  {
   "cell_type": "markdown",
   "id": "a721068b-5bfc-420b-9412-2a5518973b94",
   "metadata": {},
   "source": [
    "## adding Job Category as Entity"
   ]
  },
  {
   "cell_type": "code",
   "execution_count": null,
   "id": "d8eed898-f498-4c2a-9d4d-221f0a65174d",
   "metadata": {},
   "outputs": [],
   "source": [
    "df.Category.unique()"
   ]
  },
  {
   "cell_type": "code",
   "execution_count": null,
   "id": "3efa72bd-a894-490f-9c9c-a520ef2bb644",
   "metadata": {},
   "outputs": [],
   "source": [
    "patterns = df.Category.unique()\n",
    "for a in patterns:\n",
    "    ruler.add_patterns([{\"label\": \"Job-Category\", \"pattern\": a}])"
   ]
  },
  {
   "cell_type": "code",
   "execution_count": null,
   "id": "bc5d82cb-e820-4976-8263-508d7fda8845",
   "metadata": {},
   "outputs": [],
   "source": [
    "#options= {\"ents\": \"Job-Category\", \"colors\": \"#ff3232\"},{\"ents\": \"SKILL\", \"colors\": \"#56c426\"}\n",
    "colors = {\n",
    "    \"Job-Category\": \"linear-gradient(90deg, #aa9cfc, #fc9ce7)\",\n",
    "    \"SKILL\": \"linear-gradient(90deg, #9BE15D, #00E3AE)\",\n",
    "    \"ORG\": \"#ffd966\",\n",
    "    \"PERSON\": \"#e06666\",\n",
    "    \"GPE\": \"#9fc5e8\",\n",
    "    \"DATE\": \"#c27ba0\",\n",
    "    \"ORDINAL\": \"#674ea7\",\n",
    "    \"PRODUCT\": \"#f9cb9c\",\n",
    "}\n",
    "options = {\n",
    "    \"ents\": [\n",
    "        \"Job-Category\",\n",
    "        \"SKILL\",\n",
    "        \"ORG\",\n",
    "        \"PERSON\",\n",
    "        \"GPE\",\n",
    "        \"DATE\",\n",
    "        \"ORDINAL\",\n",
    "        \"PRODUCT\",\n",
    "    ],\n",
    "    \"colors\": colors,\n",
    "}\n",
    "sent = nlp_2(df[\"Resume_str\"].iloc[99])\n",
    "displacy.render(sent, style=\"ent\", jupyter=True, options=options)"
   ]
  },
  {
   "cell_type": "code",
   "execution_count": null,
   "id": "6a17b52a-ebf5-4aaa-8ee2-df85290704b8",
   "metadata": {},
   "outputs": [],
   "source": []
  }
 ],
 "metadata": {
  "kernelspec": {
   "display_name": "Python 3 (ipykernel)",
   "language": "python",
   "name": "python3"
  },
  "language_info": {
   "codemirror_mode": {
    "name": "ipython",
    "version": 3
   },
   "file_extension": ".py",
   "mimetype": "text/x-python",
   "name": "python",
   "nbconvert_exporter": "python",
   "pygments_lexer": "ipython3",
   "version": "3.8.12"
  }
 },
 "nbformat": 4,
 "nbformat_minor": 5
}
