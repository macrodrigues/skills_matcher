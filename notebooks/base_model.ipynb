{
 "cells": [
  {
   "cell_type": "code",
   "execution_count": null,
   "id": "9197a167-67e6-4f6e-864d-5d382f2fd313",
   "metadata": {},
   "outputs": [],
   "source": [
    "import pandas as pd\n",
    "import numpy as np\n",
    "import os\n",
    "import matplotlib.pyplot as plt\n",
    "import seaborn as sns\n",
    "import string\n",
    "import nltk"
   ]
  },
  {
   "cell_type": "code",
   "execution_count": null,
   "id": "0e220261-09b9-4e2b-8adf-10c100e1502c",
   "metadata": {},
   "outputs": [],
   "source": [
    "import en_core_web_sm\n",
    "import spacy\n",
    "from spacy.pipeline import EntityRuler\n",
    "from spacy import displacy\n",
    "from spacy.tokens import Span\n",
    "import jsonlines"
   ]
  },
  {
   "cell_type": "code",
   "execution_count": null,
   "id": "9526e5d5-277c-4d51-b1fa-cd6eabb577cc",
   "metadata": {},
   "outputs": [],
   "source": []
  },
  {
   "cell_type": "code",
   "execution_count": null,
   "id": "9799243b-7088-4a28-b03f-8d06e91b120e",
   "metadata": {},
   "outputs": [],
   "source": [
    "df = pd.read_csv('../data/cleaned_data.csv')\n",
    "df = df.drop(['Unnamed: 0'], axis = 1)\n",
    "df = df.dropna()"
   ]
  },
  {
   "cell_type": "code",
   "execution_count": null,
   "id": "79a7558d-2644-48d1-8429-91c2cab9b5ba",
   "metadata": {},
   "outputs": [],
   "source": [
    "df.head()"
   ]
  },
  {
   "cell_type": "code",
   "execution_count": null,
   "id": "9e7fea45-a00b-4a4d-a026-c651bcb7b841",
   "metadata": {},
   "outputs": [],
   "source": [
    "raw_text= df.description"
   ]
  },
  {
   "cell_type": "code",
   "execution_count": null,
   "id": "6ed05f97-8f8f-4b29-9c13-35a5b1a1ba05",
   "metadata": {},
   "outputs": [],
   "source": [
    "raw_names = df.job"
   ]
  },
  {
   "cell_type": "code",
   "execution_count": null,
   "id": "4fd9aa23-8527-4c2c-bc66-a612d9833b0f",
   "metadata": {},
   "outputs": [],
   "source": [
    "PROJECT_DIR = os.path.dirname(os.getcwd()) + '/'\n",
    "\n",
    "skill_pattern_path = PROJECT_DIR + \"data/skill_patterns.jsonl\""
   ]
  },
  {
   "cell_type": "code",
   "execution_count": null,
   "id": "574db39e-91e1-4db5-8822-c93ba62e0f47",
   "metadata": {},
   "outputs": [],
   "source": [
    "#skill list for entity labeling \n",
    "\n",
    "with jsonlines.open(skill_pattern_path) as f:\n",
    "    created_entities = [line['label'].upper() for line in f.iter()]\n",
    "\n",
    "len(created_entities)\n"
   ]
  },
  {
   "cell_type": "code",
   "execution_count": null,
   "id": "5f30bb74-5c0d-4e0a-80b8-b379486de07e",
   "metadata": {},
   "outputs": [],
   "source": [
    "created_entities[1000:1200]"
   ]
  },
  {
   "cell_type": "code",
   "execution_count": null,
   "id": "67ebfa13-86b6-4f03-94a1-b48d5dd75631",
   "metadata": {
    "tags": []
   },
   "outputs": [],
   "source": [
    "#loading pre-trained english model\n",
    "nlp = en_core_web_sm.load()\n",
    "\n",
    "# set pipeline\n",
    "ner = nlp.create_pipe(\"ner\")\n",
    "nlp.pipe_names"
   ]
  },
  {
   "cell_type": "code",
   "execution_count": null,
   "id": "8a2952a7-8b5c-44e4-bf1a-e092dc6a8b29",
   "metadata": {},
   "outputs": [],
   "source": []
  },
  {
   "cell_type": "code",
   "execution_count": null,
   "id": "b34f2883-d34b-4e7d-bf4d-2efb71df26f7",
   "metadata": {},
   "outputs": [],
   "source": []
  },
  {
   "cell_type": "code",
   "execution_count": null,
   "id": "0a3474fa-85bc-4460-9188-07a172f0197a",
   "metadata": {},
   "outputs": [],
   "source": [
    "def create_tokenized_texts_list(job_descriptions):\n",
    "    '''Create tokenized text list from job description data'''\n",
    "    description_tokenized = []\n",
    "    \n",
    "    for description in job_descriptions:\n",
    "        description_tokenized.append(nlp(description))\n",
    "        \n",
    "    return description_tokenized\n",
    "\n",
    "jd_tokenized = create_tokenized_texts_list(raw_text)"
   ]
  },
  {
   "cell_type": "code",
   "execution_count": null,
   "id": "dd63ec17-ea8f-44f6-a8a3-272bf7878760",
   "metadata": {},
   "outputs": [],
   "source": [
    "type(jd_tokenized)"
   ]
  },
  {
   "cell_type": "code",
   "execution_count": null,
   "id": "3621d693-4381-4934-afb2-18725b5c9865",
   "metadata": {},
   "outputs": [],
   "source": [
    "def visualize_entity_ruler(entity_list, doc):\n",
    "    '''Visualize the Skill entities of a job description'''\n",
    "    \n",
    "    options = {\"ents\": entity_list}\n",
    "    displacy.serve(doc, style='ent', options=options)\n",
    "    \n",
    "    \n",
    "for i in range(3757,3777):\n",
    "    visualize_entity_ruler(created_entities, jd_tokenized[i])"
   ]
  },
  {
   "cell_type": "code",
   "execution_count": null,
   "id": "a796016c-bad1-4739-808f-96d46cbfe238",
   "metadata": {},
   "outputs": [],
   "source": [
    "def create_skill_set(doc):\n",
    "    '''Create a set of the extracted skill entities of a JD'''\n",
    "    \n",
    "    return set([ent.label_.upper()[6:] for ent in doc.ents if 'skill' in ent.label_.lower()])\n",
    "\n",
    "vacature_skillset = create_skill_set(jd_tokenized[1])"
   ]
  },
  {
   "cell_type": "code",
   "execution_count": null,
   "id": "fb1ab033-7896-4f15-aa14-d575f6cd9fe8",
   "metadata": {},
   "outputs": [],
   "source": [
    "len(vacature_skillset)"
   ]
  },
  {
   "cell_type": "code",
   "execution_count": null,
   "id": "f7985476-9520-4efd-8740-bfdafafd77fb",
   "metadata": {},
   "outputs": [],
   "source": [
    "def create_skillset_dict(resume_names, resume_texts):\n",
    "    '''Create a dictionary containing a set of the extracted skills. Name is key, matching skillset is value'''\n",
    "    skillsets = [create_skill_set(resume_text) for resume_text in resume_texts]"
   ]
  },
  {
   "cell_type": "code",
   "execution_count": null,
   "id": "c23c9128-dbbf-447e-a437-38b3f8189ea4",
   "metadata": {},
   "outputs": [],
   "source": []
  },
  {
   "cell_type": "code",
   "execution_count": null,
   "id": "a671edf4-7482-46d1-a375-36088fe87555",
   "metadata": {},
   "outputs": [],
   "source": []
  },
  {
   "cell_type": "code",
   "execution_count": null,
   "id": "f4fb2da5-df2e-4215-a5f9-b69cac022ae4",
   "metadata": {},
   "outputs": [],
   "source": []
  },
  {
   "cell_type": "code",
   "execution_count": null,
   "id": "5ef43b79-c1d9-4a26-b5ee-4400b74fb6fc",
   "metadata": {},
   "outputs": [],
   "source": []
  },
  {
   "cell_type": "code",
   "execution_count": null,
   "id": "92b2c9cc-8a7b-42ff-a33e-5b92acad9dda",
   "metadata": {},
   "outputs": [],
   "source": []
  },
  {
   "cell_type": "code",
   "execution_count": null,
   "id": "f1d15fba-e3e6-4b57-a02f-644321bc997a",
   "metadata": {},
   "outputs": [],
   "source": [
    "# Create a span for the new entity\n",
    "fb_ent = Span(doc, 4, 8, label=\"GRADUATION\")\n",
    "orig_ents = list(doc.ents)\n",
    "doc.ents = orig_ents + [fb_ent]\n",
    "ents = [(e.text, e.start, e.end, e.label_) for e in doc.ents]\n",
    "print(ents)\n",
    "displacy.serve(doc, style=\"ent\")"
   ]
  },
  {
   "cell_type": "code",
   "execution_count": null,
   "id": "2cff9bd9-f023-4cb5-a709-102d4d3a7ad2",
   "metadata": {},
   "outputs": [],
   "source": []
  }
 ],
 "metadata": {
  "kernelspec": {
   "display_name": "Python 3 (ipykernel)",
   "language": "python",
   "name": "python3"
  },
  "language_info": {
   "codemirror_mode": {
    "name": "ipython",
    "version": 3
   },
   "file_extension": ".py",
   "mimetype": "text/x-python",
   "name": "python",
   "nbconvert_exporter": "python",
   "pygments_lexer": "ipython3",
   "version": "3.8.12"
  }
 },
 "nbformat": 4,
 "nbformat_minor": 5
}
