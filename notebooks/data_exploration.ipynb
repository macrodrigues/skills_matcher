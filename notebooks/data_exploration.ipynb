{
 "cells": [
  {
   "cell_type": "code",
   "execution_count": 160,
   "id": "71738685-3c01-4016-95ab-d8023b330f53",
   "metadata": {},
   "outputs": [],
   "source": [
    "import pandas as pd\n",
    "import numpy as np\n",
    "\n",
    "df = pd.read_csv('/home/macrodrigues/code/macrodrigues/skills_matcher/data/cleaned_data.csv')\n",
    "df = df.dropna()"
   ]
  },
  {
   "cell_type": "code",
   "execution_count": 161,
   "id": "e5d84bed-ad74-44f2-994c-5c10a6d38dac",
   "metadata": {},
   "outputs": [
    {
     "data": {
      "text/html": [
       "<div>\n",
       "<style scoped>\n",
       "    .dataframe tbody tr th:only-of-type {\n",
       "        vertical-align: middle;\n",
       "    }\n",
       "\n",
       "    .dataframe tbody tr th {\n",
       "        vertical-align: top;\n",
       "    }\n",
       "\n",
       "    .dataframe thead th {\n",
       "        text-align: right;\n",
       "    }\n",
       "</style>\n",
       "<table border=\"1\" class=\"dataframe\">\n",
       "  <thead>\n",
       "    <tr style=\"text-align: right;\">\n",
       "      <th></th>\n",
       "      <th>Unnamed: 0</th>\n",
       "      <th>ISCO</th>\n",
       "      <th>major_job</th>\n",
       "      <th>job</th>\n",
       "      <th>position</th>\n",
       "      <th>location</th>\n",
       "      <th>description</th>\n",
       "    </tr>\n",
       "  </thead>\n",
       "  <tbody>\n",
       "    <tr>\n",
       "      <th>0</th>\n",
       "      <td>0</td>\n",
       "      <td>21</td>\n",
       "      <td>SCIENCE AND ENGINEERING PROFESSIONALS</td>\n",
       "      <td>physicist</td>\n",
       "      <td>Accelerator Physicist id54315</td>\n",
       "      <td>Villigen PSI, Aargau</td>\n",
       "      <td>You have an academic degree in physics or eng...</td>\n",
       "    </tr>\n",
       "    <tr>\n",
       "      <th>1</th>\n",
       "      <td>1</td>\n",
       "      <td>21</td>\n",
       "      <td>SCIENCE AND ENGINEERING PROFESSIONALS</td>\n",
       "      <td>physicist</td>\n",
       "      <td>Applied Physicist (Computing) (EP-LBC-2021-125...</td>\n",
       "      <td>Geneva</td>\n",
       "      <td>Be in charge of the development of applicatio...</td>\n",
       "    </tr>\n",
       "    <tr>\n",
       "      <th>2</th>\n",
       "      <td>2</td>\n",
       "      <td>21</td>\n",
       "      <td>SCIENCE AND ENGINEERING PROFESSIONALS</td>\n",
       "      <td>physicist</td>\n",
       "      <td>Accelerator Physicist (BE-ABP-LNO-2021-122-LD)...</td>\n",
       "      <td>Geneva</td>\n",
       "      <td>Contribute to the maintenance and development...</td>\n",
       "    </tr>\n",
       "    <tr>\n",
       "      <th>3</th>\n",
       "      <td>3</td>\n",
       "      <td>21</td>\n",
       "      <td>SCIENCE AND ENGINEERING PROFESSIONALS</td>\n",
       "      <td>physicist</td>\n",
       "      <td>Medical Devices Physicist</td>\n",
       "      <td>Newton, Cambridgeshire</td>\n",
       "      <td>Agency: Newton Colmore Consulting Reference: ...</td>\n",
       "    </tr>\n",
       "    <tr>\n",
       "      <th>4</th>\n",
       "      <td>4</td>\n",
       "      <td>21</td>\n",
       "      <td>SCIENCE AND ENGINEERING PROFESSIONALS</td>\n",
       "      <td>physicist</td>\n",
       "      <td>Fluidics Physicist</td>\n",
       "      <td>Cambridge</td>\n",
       "      <td>Agency: Newton Colmore Consulting Reference: ...</td>\n",
       "    </tr>\n",
       "  </tbody>\n",
       "</table>\n",
       "</div>"
      ],
      "text/plain": [
       "   Unnamed: 0  ISCO                              major_job        job  \\\n",
       "0           0    21  SCIENCE AND ENGINEERING PROFESSIONALS  physicist   \n",
       "1           1    21  SCIENCE AND ENGINEERING PROFESSIONALS  physicist   \n",
       "2           2    21  SCIENCE AND ENGINEERING PROFESSIONALS  physicist   \n",
       "3           3    21  SCIENCE AND ENGINEERING PROFESSIONALS  physicist   \n",
       "4           4    21  SCIENCE AND ENGINEERING PROFESSIONALS  physicist   \n",
       "\n",
       "                                            position                location  \\\n",
       "0                      Accelerator Physicist id54315    Villigen PSI, Aargau   \n",
       "1  Applied Physicist (Computing) (EP-LBC-2021-125...                  Geneva   \n",
       "2  Accelerator Physicist (BE-ABP-LNO-2021-122-LD)...                  Geneva   \n",
       "3                          Medical Devices Physicist  Newton, Cambridgeshire   \n",
       "4                                 Fluidics Physicist               Cambridge   \n",
       "\n",
       "                                         description  \n",
       "0   You have an academic degree in physics or eng...  \n",
       "1   Be in charge of the development of applicatio...  \n",
       "2   Contribute to the maintenance and development...  \n",
       "3   Agency: Newton Colmore Consulting Reference: ...  \n",
       "4   Agency: Newton Colmore Consulting Reference: ...  "
      ]
     },
     "execution_count": 161,
     "metadata": {},
     "output_type": "execute_result"
    }
   ],
   "source": [
    "df.head()"
   ]
  },
  {
   "cell_type": "code",
   "execution_count": 162,
   "id": "21efdca8-632a-4195-912b-4e5ec83cb316",
   "metadata": {},
   "outputs": [
    {
     "name": "stderr",
     "output_type": "stream",
     "text": [
      "/home/macrodrigues/.pyenv/versions/3.8.12/envs/lewagon/lib/python3.8/site-packages/spacy/displacy/__init__.py:98: UserWarning: [W011] It looks like you're calling displacy.serve from within a Jupyter notebook or a similar environment. This likely means you're already running a local web server, so there's no need to make displaCy start another one. Instead, you should be able to replace displacy.serve with displacy.render to show the visualization.\n",
      "  warnings.warn(Warnings.W011)\n"
     ]
    },
    {
     "data": {
      "text/html": [
       "<span class=\"tex2jax_ignore\"><!DOCTYPE html>\n",
       "<html lang=\"en\">\n",
       "    <head>\n",
       "        <title>displaCy</title>\n",
       "    </head>\n",
       "\n",
       "    <body style=\"font-size: 16px; font-family: -apple-system, BlinkMacSystemFont, 'Segoe UI', Helvetica, Arial, sans-serif, 'Apple Color Emoji', 'Segoe UI Emoji', 'Segoe UI Symbol'; padding: 4rem 2rem; direction: ltr\">\n",
       "<figure style=\"margin-bottom: 6rem\">\n",
       "<div class=\"entities\" style=\"line-height: 2.5; direction: ltr\"> You have an \n",
       "<mark class=\"entity\" style=\"background: #ddd; padding: 0.45em 0.6em; margin: 0 0.25em; line-height: 1; border-radius: 0.35em;\">\n",
       "    academic degree in physics\n",
       "    <span style=\"font-size: 0.8em; font-weight: bold; line-height: 1; border-radius: 0.35em; vertical-align: middle; margin-left: 0.5rem\">GRADUATION</span>\n",
       "</mark>\n",
       " or engineering with profound knowledge of applied accelerator physics You have a demonstrated ability to compute beam optics and other parameters relevant to beam performance You have experience in experimental techniques and data analysis in the context of beam measurements You enjoy working in a diverse team and communicate efficiently in \n",
       "<mark class=\"entity\" style=\"background: #ff8197; padding: 0.45em 0.6em; margin: 0 0.25em; line-height: 1; border-radius: 0.35em;\">\n",
       "    English\n",
       "    <span style=\"font-size: 0.8em; font-weight: bold; line-height: 1; border-radius: 0.35em; vertical-align: middle; margin-left: 0.5rem\">LANGUAGE</span>\n",
       "</mark>\n",
       ". If you do not speak \n",
       "<mark class=\"entity\" style=\"background: #c887fb; padding: 0.45em 0.6em; margin: 0 0.25em; line-height: 1; border-radius: 0.35em;\">\n",
       "    German\n",
       "    <span style=\"font-size: 0.8em; font-weight: bold; line-height: 1; border-radius: 0.35em; vertical-align: middle; margin-left: 0.5rem\">NORP</span>\n",
       "</mark>\n",
       ", you are willing to strive for at least a basic level in that language </div>\n",
       "</figure>\n",
       "</body>\n",
       "</html></span>"
      ],
      "text/plain": [
       "<IPython.core.display.HTML object>"
      ]
     },
     "metadata": {},
     "output_type": "display_data"
    },
    {
     "name": "stdout",
     "output_type": "stream",
     "text": [
      "\n",
      "Using the 'ent' visualizer\n",
      "Serving on http://0.0.0.0:5000 ...\n",
      "\n",
      "Shutting down server on port 5000.\n"
     ]
    }
   ],
   "source": [
    "import spacy\n",
    "from spacy import displacy\n",
    "from spacy.tokens import Span\n",
    "\n",
    "nlp = spacy.load(\"en_core_web_sm\")\n",
    "\n",
    "raw_text= df.description[0]\n",
    "doc = nlp(raw_text)\n",
    "\n",
    "# Create a span for the new entity\n",
    "fb_ent = Span(doc, 4, 8, label=\"GRADUATION\")\n",
    "orig_ents = list(doc.ents)\n",
    "\n",
    "doc.ents = orig_ents + [fb_ent]\n",
    "ents = [(e.text, e.start, e.end, e.label_) for e in doc.ents]\n",
    "#print(ents)\n",
    "displacy.serve(doc, style=\"ent\")"
   ]
  },
  {
   "cell_type": "markdown",
   "id": "789194f8-22e2-4a99-a288-3012f573f4f2",
   "metadata": {},
   "source": [
    "## Labeling"
   ]
  },
  {
   "cell_type": "code",
   "execution_count": 159,
   "id": "0b740705-6927-4afa-9a55-82387c927df7",
   "metadata": {
    "tags": []
   },
   "outputs": [],
   "source": [
    "list_of_graduations = ['post graduate experience',\n",
    "                       'Educational background in Linguistics, Philology',\n",
    "                       \"Master's degree in Chemistry, Industrial Chemistry or Chemical Engineering\",\n",
    "                       'teaching degree',\n",
    "                       'Physiotherapy degree (MSc or BSc)',\n",
    "                       'master degree in business or marketing orientation',\n",
    "                       'relevant discipline Technical/engineering background',\n",
    "                       'High school',\n",
    "                       'ideally with a PhD',\n",
    "                       'Degree in Science or related Quality discipline',\n",
    "                       \"Three to five years’ experience in a healthcare industry\",\n",
    "                       'Mechanical background with industry',\n",
    "                       'Degree in Agriculture',\n",
    "                       'BSc or MSc degree in Engineering or Computer Science',\n",
    "                       'MQF level 6 Degree in Communication Therapy',\n",
    "                       'BSc in Clinical Physiology',\n",
    "                       'University of Applied Science education in a software-related field',\n",
    "                       'Ph.D. in Microbiology, Microbial Genetics, Biochemistry or related field',\n",
    "                       'Bachelor’s Degree or higher',\n",
    "                       'Systems Engineering studies background',\n",
    "                       'Ph.D. in Organic Synthesis is desirable',\n",
    "                       'strong academics in physics or a closely related field',\n",
    "                       \n",
    "                       \n",
    "                       \n",
    "                       \n",
    "                       \n",
    "                       \n",
    "                     \n",
    "                       \n",
    "                      ]\n",
    "\n",
    "list_of_experiences = ['2 years Software development',\n",
    "                       '1 year(s) post graduate experience',\n",
    "                       '1−2 years of experience in content and tech writing',\n",
    "                       '1-2 years of academic or industrial work experience',\n",
    "                       'experience in a client-facing role in a shop',\n",
    "                       'minimum of 12-18 months of ESP experience',\n",
    "                       \"3 to 5 years' experience in the FMCG environment\",\n",
    "                       'experience of installing, repairing or maintaining',\n",
    "                       'working on novel biochemistry',\n",
    "                       'Three to five years’ experience in a healthcare industry',\n",
    "                       '3+ years of proven experience in software and/or hardware testing',\n",
    "                       'industry knowledge will be beneficial but not essential',\n",
    "                       'Extensive experience in the operation of FPGAs and optoelectronics',\n",
    "                       'Experience with Trigger and Data Acquisition systems',\n",
    "                       'At least 3 years of experience with embedded systems'\n",
    "                       '2 years in the field of cybersecurity',\n",
    "                       'Minimum of 2 years, post-graduation experience',\n",
    "                       'At least 3 years of industry experience in mechatronic development',\n",
    "                       'Minimum of 3 years of experience in an industrial or research lab',\n",
    "                       'minimum of 5 years experience in administrative services or education',\n",
    "                       '4-5 years experience of managing large medical/association/academic conferences',\n",
    "                       'from 1.5 of experience in video editing',\n",
    "                       \n",
    "                       \n",
    "                       \n",
    "                       \n",
    "                       \n",
    "                       \n",
    "                      ]"
   ]
  },
  {
   "cell_type": "code",
   "execution_count": null,
   "id": "0ecefa7f-00ef-4042-b8cf-923282155412",
   "metadata": {},
   "outputs": [],
   "source": []
  },
  {
   "cell_type": "markdown",
   "id": "0aecd037-1333-4b13-bec4-e212054a284c",
   "metadata": {},
   "source": [
    "## Build Training Set"
   ]
  },
  {
   "attachments": {
    "9167c6a5-92ef-41ba-99d9-9491a39403f3.png": {
     "image/png": "[encoded data removed]"
    }
   },
   "cell_type": "markdown",
   "id": "6511d6c4-656e-452f-96af-923d0f6569cc",
   "metadata": {},
   "source": [
    "To train a model, you first need training data – examples of text, and the labels you want the model to predict. This could be a part-of-speech tag, a named entity or any other information.\n",
    "\n",
    "![image.png](attachment:9167c6a5-92ef-41ba-99d9-9491a39403f3.png)"
   ]
  },
  {
   "cell_type": "code",
   "execution_count": 1,
   "id": "b907ff43-b073-4978-a5ec-5b5121194d6a",
   "metadata": {
    "tags": []
   },
   "outputs": [
    {
     "name": "stderr",
     "output_type": "stream",
     "text": [
      "2021-12-01 21:52:11.890878: W tensorflow/stream_executor/platform/default/dso_loader.cc:64] Could not load dynamic library 'libcudart.so.11.0'; dlerror: libcudart.so.11.0: cannot open shared object file: No such file or directory\n",
      "2021-12-01 21:52:11.890969: I tensorflow/stream_executor/cuda/cudart_stub.cc:29] Ignore above cudart dlerror if you do not have a GPU set up on your machine.\n"
     ]
    }
   ],
   "source": [
    "import re\n",
    "import pandas as pd\n",
    "import spacy\n",
    "from spacy.util import filter_spans\n",
    "from spacy.tokens import Span\n",
    "from spacy.matcher import Matcher\n",
    "from spacy import displacy\n",
    "from IPython.display import HTML, display\n",
    "\n",
    "df = pd.read_csv('/home/macrodrigues/code/macrodrigues/skills_matcher/data/cleaned_data.csv')\n",
    "df = df.dropna()\n",
    "nlp = spacy.load(\"en_core_web_sm\")\n",
    "# skills = pd.read_csv('/home/macrodrigues/code/macrodrigues/skills_matcher/data/tech_skills.csv')\n",
    "# skills = list(skills['0'].values)"
   ]
  },
  {
   "cell_type": "code",
   "execution_count": 10,
   "id": "1d3ab9ba-95c5-4c57-9d64-6a7472048d6d",
   "metadata": {},
   "outputs": [],
   "source": [
    "def highlight_terms(terms, texts):\n",
    "    for doc in nlp.pipe(texts):\n",
    "        for sentence in [tok.doc for tok in doc if tok.lower_ in terms]:\n",
    "            text = sentence.text.strip()\n",
    "            markup = re.sub(fr'(?i)\\b({\"|\".join(terms)})\\b', r'<strong>\\1</strong>', text)\n",
    "            display(HTML(markup))"
   ]
  },
  {
   "cell_type": "code",
   "execution_count": 12,
   "id": "21e2ddf1-1af3-49a3-8e53-ce804ef419c4",
   "metadata": {},
   "outputs": [
    {
     "data": {
      "text/html": [
       "<strong>You have</strong> an academic degree in physics or engineering with profound <strong>knowledge</strong> of applied accelerator physics <strong>You have</strong> a demonstrated ability to compute beam optics and other parameters relevant to beam performance <strong>You have</strong> <strong>experience</strong> in experimental techniques and data analysis in the context of beam measurements You enjoy working in a diverse team and communicate efficiently in English. If you do not speak German, you are willing to strive for at least a basic level in that language"
      ],
      "text/plain": [
       "<IPython.core.display.HTML object>"
      ]
     },
     "metadata": {},
     "output_type": "display_data"
    },
    {
     "data": {
      "text/html": [
       "<strong>You have</strong> an academic degree in physics or engineering with profound <strong>knowledge</strong> of applied accelerator physics <strong>You have</strong> a demonstrated ability to compute beam optics and other parameters relevant to beam performance <strong>You have</strong> <strong>experience</strong> in experimental techniques and data analysis in the context of beam measurements You enjoy working in a diverse team and communicate efficiently in English. If you do not speak German, you are willing to strive for at least a basic level in that language"
      ],
      "text/plain": [
       "<IPython.core.display.HTML object>"
      ]
     },
     "metadata": {},
     "output_type": "display_data"
    }
   ],
   "source": [
    "highlight_terms(['experience', 'knowledge', 'expertise', 'You have'], df.description.values[0:1])"
   ]
  },
  {
   "cell_type": "code",
   "execution_count": 6,
   "id": "2723471c-89ac-4541-b530-fdbf6143f28e",
   "metadata": {},
   "outputs": [],
   "source": [
    "params = ['experience', 'knowledge', 'expertise', 'You have']\n",
    "\n",
    "\n",
    "def extract_noun_phrase_experience(doc):\n",
    "    for np in doc.noun_chunks:\n",
    "        print(np)\n",
    "        if np[-1].lower_ in params:\n",
    "            if len(np) > 1:\n",
    "                yield str(np[-1].lower_) , np[0].i, np[-1].i\n",
    "                \n",
    "def extract_adp_experience(doc):\n",
    "    for tok in doc:\n",
    "        if tok.lower_ in params:\n",
    "            for child in tok.rights:\n",
    "                if child.dep_ == 'prep':\n",
    "                    for obj in child.children:\n",
    "                        if obj.dep_ == 'pobj':\n",
    "                            yield str(tok.lower_), obj.left_edge.i, obj.i+1\n",
    "                \n",
    "                \n",
    "def show_extraction(examples, *extractors):\n",
    "    seen = set()\n",
    "    for doc in nlp.pipe(examples):\n",
    "        doc.ents = filter_spans([Span(doc, start, end, label) for extractor in extractors for label, start, end in extractor(doc)])\n",
    "        for tok in doc:\n",
    "            if tok.lower_ == 'experience':\n",
    "                sentence = tok.doc\n",
    "                if sentence.text in seen:\n",
    "                    continue\n",
    "                seen.update([sentence.text])\n",
    "                if not sentence.ents:\n",
    "                    doc.ents = list(doc.ents) + [Span(doc, tok.i, tok.i+1, 'MISSING')]\n",
    "                displacy.render(sentence, style='ent', options = {'colors': {'MISSING': 'pink',\n",
    "                                                                            'EXPERIENCE': 'lightgreen'}})\n",
    "                "
   ]
  },
  {
   "cell_type": "code",
   "execution_count": 7,
   "id": "75e2e493-d62f-42b5-bcee-a861b353e45b",
   "metadata": {},
   "outputs": [
    {
     "data": {
      "text/html": [
       "<span class=\"tex2jax_ignore\"><div class=\"entities\" style=\"line-height: 2.5; direction: ltr\"> You have an academic degree in physics or engineering with profound knowledge of applied accelerator physics You have a demonstrated ability to compute beam optics and other parameters relevant to beam performance You have experience in \n",
       "<mark class=\"entity\" style=\"background: lightgreen; padding: 0.45em 0.6em; margin: 0 0.25em; line-height: 1; border-radius: 0.35em;\">\n",
       "    experimental techniques\n",
       "    <span style=\"font-size: 0.8em; font-weight: bold; line-height: 1; border-radius: 0.35em; vertical-align: middle; margin-left: 0.5rem\">EXPERIENCE</span>\n",
       "</mark>\n",
       " and data analysis in \n",
       "<mark class=\"entity\" style=\"background: lightgreen; padding: 0.45em 0.6em; margin: 0 0.25em; line-height: 1; border-radius: 0.35em;\">\n",
       "    the context\n",
       "    <span style=\"font-size: 0.8em; font-weight: bold; line-height: 1; border-radius: 0.35em; vertical-align: middle; margin-left: 0.5rem\">EXPERIENCE</span>\n",
       "</mark>\n",
       " of beam measurements You enjoy working in a diverse team and communicate efficiently in English. If you do not speak German, you are willing to strive for at least a basic level in that language </div></span>"
      ],
      "text/plain": [
       "<IPython.core.display.HTML object>"
      ]
     },
     "metadata": {},
     "output_type": "display_data"
    },
    {
     "data": {
      "text/html": [
       "<span class=\"tex2jax_ignore\"><div class=\"entities\" style=\"line-height: 2.5; direction: ltr\"> Be in charge of the development of application software, in the context of the needs of the LHCb core and distributed computing groups. Be able to act as liaison between the requirements of LHCb data analysts interfacing with LHCb distributed computing infrastructure. Be using, possibly refactoring, testing, diagnosing, optimizing and integrating existing software, and while doing so you are expected to know about software life-cycle tools and procedures. Be in charge of creating new software solutions, or fully replace existing ones. Work within a small team of applied physicists and software developers. , Demonstrated working experience in \n",
       "<mark class=\"entity\" style=\"background: lightgreen; padding: 0.45em 0.6em; margin: 0 0.25em; line-height: 1; border-radius: 0.35em;\">\n",
       "    software development\n",
       "    <span style=\"font-size: 0.8em; font-weight: bold; line-height: 1; border-radius: 0.35em; vertical-align: middle; margin-left: 0.5rem\">EXPERIENCE</span>\n",
       "</mark>\n",
       " using the Python programming language. Extensive hands-on experience of \n",
       "<mark class=\"entity\" style=\"background: lightgreen; padding: 0.45em 0.6em; margin: 0 0.25em; line-height: 1; border-radius: 0.35em;\">\n",
       "    software\n",
       "    <span style=\"font-size: 0.8em; font-weight: bold; line-height: 1; border-radius: 0.35em; vertical-align: middle; margin-left: 0.5rem\">EXPERIENCE</span>\n",
       "</mark>\n",
       " and techniques for High Energy Physics data analysis. Experience with \n",
       "<mark class=\"entity\" style=\"background: lightgreen; padding: 0.45em 0.6em; margin: 0 0.25em; line-height: 1; border-radius: 0.35em;\">\n",
       "    the DIRAC software\n",
       "    <span style=\"font-size: 0.8em; font-weight: bold; line-height: 1; border-radius: 0.35em; vertical-align: middle; margin-left: 0.5rem\">EXPERIENCE</span>\n",
       "</mark>\n",
       " is a plus. , Development of application software: in particular for distributed computing. Knowledge of programming techniques and languages: (mainly Python). Re-use, refactoring, integration and porting of existing software. Knowledge and application of software life-cycle tools and procedures. Testing, diagnosing and optimization of software. , Achieving results: having a structured and organised approach towards work; being able to set priorities and plan tasks with results in mind. Solving problems: being open to original ideas and creative options by which to address issues; continually driving change by seeking new ways to improve outcomes; addressing complex problems by breaking them down into manageable components. Demonstrating flexibility: readily absorbing new techniques and working practices; proposing new or improved ways of working; demonstrating openness to new ideas and situations. Working in teams: cooperating constructively with others in the pursuit of team goals; balancing personal goals with team goals. Learning and sharing knowledge: proposing ways to improve or streamline existing procedures, processes and methodologies; being receptive to others' ideas and building on them. , Ability to draw-up technical specifications and/or scientific reports and to make oral presentations in English. Ability to understand and speak French in professional contexts, or the willingness to acquire it. , Work in Radiation Areas. Interventions in underground installations. Work during nights, Sundays and official holidays, when required by the needs of the Organization. </div></span>"
      ],
      "text/plain": [
       "<IPython.core.display.HTML object>"
      ]
     },
     "metadata": {},
     "output_type": "display_data"
    },
    {
     "data": {
      "text/html": [
       "<span class=\"tex2jax_ignore\"><div class=\"entities\" style=\"line-height: 2.5; direction: ltr\"> Contribute to the maintenance and development of the optics models and repository for the CERN hadron injector rings. Study and optimize operational conditions for the hadron injector rings to improve their performance aided by beam dynamics simulations. Provide optics support to other CERN present and future synchrotrons and colliders including the LHC and its high-luminosity upgrade. , Identify fundamental limitations in the LHC injector rings’ performance and plan medium or long-term improvements. Contribute to the definition of operational conditions in Run 4 and to the optimization of the performance reach, including beam-based optimizations. Design and conduct experiments in the existing CERN synchrotrons to validate the concepts developed. , Demonstrated experience of working in a scientific environment, preferably in the design and/or operation of particle accelerators. Experience of \n",
       "<mark class=\"entity\" style=\"background: lightgreen; padding: 0.45em 0.6em; margin: 0 0.25em; line-height: 1; border-radius: 0.35em;\">\n",
       "    accelerator physics\n",
       "    <span style=\"font-size: 0.8em; font-weight: bold; line-height: 1; border-radius: 0.35em; vertical-align: middle; margin-left: 0.5rem\">EXPERIENCE</span>\n",
       "</mark>\n",
       ", with \n",
       "<mark class=\"entity\" style=\"background: lightgreen; padding: 0.45em 0.6em; margin: 0 0.25em; line-height: 1; border-radius: 0.35em;\">\n",
       "    demonstrated ability\n",
       "    <span style=\"font-size: 0.8em; font-weight: bold; line-height: 1; border-radius: 0.35em; vertical-align: middle; margin-left: 0.5rem\">EXPERIENCE</span>\n",
       "</mark>\n",
       " in the field of optics design. Experience of \n",
       "<mark class=\"entity\" style=\"background: lightgreen; padding: 0.45em 0.6em; margin: 0 0.25em; line-height: 1; border-radius: 0.35em;\">\n",
       "    experimental techniques\n",
       "    <span style=\"font-size: 0.8em; font-weight: bold; line-height: 1; border-radius: 0.35em; vertical-align: middle; margin-left: 0.5rem\">EXPERIENCE</span>\n",
       "</mark>\n",
       " and analysis of data from beam measurements. Experience with \n",
       "<mark class=\"entity\" style=\"background: lightgreen; padding: 0.45em 0.6em; margin: 0 0.25em; line-height: 1; border-radius: 0.35em;\">\n",
       "    development\n",
       "    <span style=\"font-size: 0.8em; font-weight: bold; line-height: 1; border-radius: 0.35em; vertical-align: middle; margin-left: 0.5rem\">EXPERIENCE</span>\n",
       "</mark>\n",
       " of single-particle beam dynamics simulation codes. , Experience with \n",
       "<mark class=\"entity\" style=\"background: lightgreen; padding: 0.45em 0.6em; margin: 0 0.25em; line-height: 1; border-radius: 0.35em;\">\n",
       "    one\n",
       "    <span style=\"font-size: 0.8em; font-weight: bold; line-height: 1; border-radius: 0.35em; vertical-align: middle; margin-left: 0.5rem\">EXPERIENCE</span>\n",
       "</mark>\n",
       " of the following codes: MAD-X (see here ?url=http%3A%2F%2Fmadx.web.cern.ch%2Fmadx%2F&amp;module=jobs&amp;id=54194&quot; target=&quot;_blank&quot; rel=&quot;nofollow&quot;&gt;http://madx.web.cern.ch/madx/), SixTrack (see here ?url=http%3A%2F%2Fsixtrack-ng.web.cern.ch%2Fsixtrack-ng%2F&amp;module=jobs&amp;id=54194&quot; target=&quot;_blank&quot; rel=&quot;nofollow&quot;&gt;http://sixtrack-ng.web.cern.ch/sixtrack-ng/ ). Experience with \n",
       "<mark class=\"entity\" style=\"background: lightgreen; padding: 0.45em 0.6em; margin: 0 0.25em; line-height: 1; border-radius: 0.35em;\">\n",
       "    beam commissioning\n",
       "    <span style=\"font-size: 0.8em; font-weight: bold; line-height: 1; border-radius: 0.35em; vertical-align: middle; margin-left: 0.5rem\">EXPERIENCE</span>\n",
       "</mark>\n",
       " and performance optimization of existing accelerator facilities. , Simulation, design and development of (part of) particle accelerators. Analysis and optimization of accelerator performance. Knowledge and application of single-particle dynamics. Knowledge and application of non-linear beam dynamics. Knowledge and application of optics correction techniques. , Achieving results: Having a structured and organised approach towards work; being able to set priorities and plan tasks with results in mind. Solving problems: Assimilating large quantities of information, identifying key issues and formulating conclusions clearly and concisely. Working in teams: Cooperating constructively with others in the pursuit of team goals; balancing personal goals with team goals. Communicating effectively: Expressing opinions, ideas and suggestions with conviction and in a logical/structured manner; keeping to the point. Demonstrating accountability: Taking responsibility for own actions and decisions. , Work during nights, Sundays and official holidays, when required by the needs of the Organization. Work in radiation-controlled areas when required by the needs of the Organization. </div></span>"
      ],
      "text/plain": [
       "<IPython.core.display.HTML object>"
      ]
     },
     "metadata": {},
     "output_type": "display_data"
    }
   ],
   "source": [
    "show_extraction(df.description.values[0:3], extract_adp_experience)"
   ]
  },
  {
   "cell_type": "code",
   "execution_count": null,
   "id": "1a15b86c-dbe6-4568-90f2-2d8c39b1d472",
   "metadata": {},
   "outputs": [],
   "source": []
  },
  {
   "cell_type": "code",
   "execution_count": null,
   "id": "21aed3d4-bd58-4915-a1e9-75152fad9e4b",
   "metadata": {},
   "outputs": [],
   "source": []
  }
 ],
 "metadata": {
  "kernelspec": {
   "display_name": "Python 3 (ipykernel)",
   "language": "python",
   "name": "python3"
  },
  "language_info": {
   "codemirror_mode": {
    "name": "ipython",
    "version": 3
   },
   "file_extension": ".py",
   "mimetype": "text/x-python",
   "name": "python",
   "nbconvert_exporter": "python",
   "pygments_lexer": "ipython3",
   "version": "3.8.12"
  }
 },
 "nbformat": 4,
 "nbformat_minor": 5
}
