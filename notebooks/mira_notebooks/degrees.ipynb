{
 "cells": [
  {
   "cell_type": "markdown",
   "id": "caa50a8f",
   "metadata": {},
   "source": [
    "# Create Dict with degrees"
   ]
  },
  {
   "cell_type": "code",
   "execution_count": null,
   "id": "2e5568d8",
   "metadata": {},
   "outputs": [],
   "source": [
    "import pandas as pd"
   ]
  },
  {
   "cell_type": "code",
   "execution_count": 30,
   "id": "c8061559",
   "metadata": {},
   "outputs": [
    {
     "data": {
      "text/html": [
       "<div>\n",
       "<style scoped>\n",
       "    .dataframe tbody tr th:only-of-type {\n",
       "        vertical-align: middle;\n",
       "    }\n",
       "\n",
       "    .dataframe tbody tr th {\n",
       "        vertical-align: top;\n",
       "    }\n",
       "\n",
       "    .dataframe thead th {\n",
       "        text-align: right;\n",
       "    }\n",
       "</style>\n",
       "<table border=\"1\" class=\"dataframe\">\n",
       "  <thead>\n",
       "    <tr style=\"text-align: right;\">\n",
       "      <th></th>\n",
       "      <th>program_name</th>\n",
       "      <th>program_type</th>\n",
       "    </tr>\n",
       "  </thead>\n",
       "  <tbody>\n",
       "    <tr>\n",
       "      <th>0</th>\n",
       "      <td>Economics</td>\n",
       "      <td>MSc</td>\n",
       "    </tr>\n",
       "    <tr>\n",
       "      <th>1</th>\n",
       "      <td>Political Science and International Affairs</td>\n",
       "      <td>Master</td>\n",
       "    </tr>\n",
       "    <tr>\n",
       "      <th>2</th>\n",
       "      <td>Business Administration</td>\n",
       "      <td>MBA</td>\n",
       "    </tr>\n",
       "    <tr>\n",
       "      <th>3</th>\n",
       "      <td>Computer and Information Science</td>\n",
       "      <td>MSc</td>\n",
       "    </tr>\n",
       "    <tr>\n",
       "      <th>4</th>\n",
       "      <td>Industrial Engineering and Systems Management</td>\n",
       "      <td>MEng</td>\n",
       "    </tr>\n",
       "    <tr>\n",
       "      <th>...</th>\n",
       "      <td>...</td>\n",
       "      <td>...</td>\n",
       "    </tr>\n",
       "    <tr>\n",
       "      <th>60420</th>\n",
       "      <td>Electrical Systems</td>\n",
       "      <td>MEng</td>\n",
       "    </tr>\n",
       "    <tr>\n",
       "      <th>60421</th>\n",
       "      <td>Industrial Automation</td>\n",
       "      <td>MEng</td>\n",
       "    </tr>\n",
       "    <tr>\n",
       "      <th>60422</th>\n",
       "      <td>Renewable Energy Technologies</td>\n",
       "      <td>Postgraduate Certificate</td>\n",
       "    </tr>\n",
       "    <tr>\n",
       "      <th>60423</th>\n",
       "      <td>Safety</td>\n",
       "      <td>MEng</td>\n",
       "    </tr>\n",
       "    <tr>\n",
       "      <th>60424</th>\n",
       "      <td>Food Technology</td>\n",
       "      <td>MFT</td>\n",
       "    </tr>\n",
       "  </tbody>\n",
       "</table>\n",
       "<p>60425 rows × 2 columns</p>\n",
       "</div>"
      ],
      "text/plain": [
       "                                        program_name              program_type\n",
       "0                                          Economics                       MSc\n",
       "1        Political Science and International Affairs                    Master\n",
       "2                            Business Administration                       MBA\n",
       "3                   Computer and Information Science                       MSc\n",
       "4      Industrial Engineering and Systems Management                      MEng\n",
       "...                                              ...                       ...\n",
       "60420                             Electrical Systems                      MEng\n",
       "60421                          Industrial Automation                      MEng\n",
       "60422                  Renewable Energy Technologies  Postgraduate Certificate\n",
       "60423                                         Safety                      MEng\n",
       "60424                                Food Technology                       MFT\n",
       "\n",
       "[60425 rows x 2 columns]"
      ]
     },
     "execution_count": 30,
     "metadata": {},
     "output_type": "execute_result"
    }
   ],
   "source": [
    "df = pd.read_csv('/Users/MiraMetzger/mastersl.csv')[['program_name','program_type']]\n",
    "df"
   ]
  },
  {
   "cell_type": "code",
   "execution_count": 121,
   "id": "e0203d10",
   "metadata": {},
   "outputs": [
    {
     "data": {
      "text/plain": [
       "['MSc',\n",
       " 'MA',\n",
       " 'Master',\n",
       " 'MBA',\n",
       " 'MEd',\n",
       " 'Postgraduate Certificate',\n",
       " 'LLM',\n",
       " 'MEng',\n",
       " 'Postgraduate Diploma',\n",
       " 'MPhil',\n",
       " 'BA',\n",
       " 'BSc',\n",
       " 'Bachelor',\n",
       " 'PhD']"
      ]
     },
     "execution_count": 121,
     "metadata": {},
     "output_type": "execute_result"
    }
   ],
   "source": [
    "# only take common program_types\n",
    "\n",
    "top_program_type = df['program_type'].value_counts().head(10)\n",
    "types = list(top_program_type.index) + ['BA','BSc','Bachelor','PhD']\n",
    "types"
   ]
  },
  {
   "cell_type": "code",
   "execution_count": 122,
   "id": "01d2e54c",
   "metadata": {},
   "outputs": [
    {
     "data": {
      "text/plain": [
       "Computer Science                     435\n",
       "Master of Business Administration    387\n",
       "Economics                            360\n",
       "History                              359\n",
       "Chemistry                            353\n",
       "Name: program_name, dtype: int64"
      ]
     },
     "execution_count": 122,
     "metadata": {},
     "output_type": "execute_result"
    }
   ],
   "source": [
    "# only take common program_name\n",
    "top_program_name = df['program_name'].value_counts().head(500)\n",
    "top_program_name.head()"
   ]
  },
  {
   "cell_type": "code",
   "execution_count": 126,
   "id": "5402ad15",
   "metadata": {},
   "outputs": [],
   "source": [
    "import itertools\n",
    "\n",
    "list1 = list(itertools.product(types, list(top_program_name.index)))"
   ]
  },
  {
   "cell_type": "code",
   "execution_count": 131,
   "id": "525a1420",
   "metadata": {},
   "outputs": [
    {
     "data": {
      "text/plain": [
       "7000"
      ]
     },
     "execution_count": 131,
     "metadata": {},
     "output_type": "execute_result"
    }
   ],
   "source": [
    "degree = [a + ' in ' + b for a, b in list1]\n",
    "len(degree)"
   ]
  },
  {
   "cell_type": "code",
   "execution_count": 132,
   "id": "6ce3d8bf",
   "metadata": {},
   "outputs": [
    {
     "data": {
      "text/plain": [
       "['MSc in Computer Science',\n",
       " 'MSc in Master of Business Administration',\n",
       " 'MSc in Economics',\n",
       " 'MSc in History',\n",
       " 'MSc in Chemistry']"
      ]
     },
     "execution_count": 132,
     "metadata": {},
     "output_type": "execute_result"
    }
   ],
   "source": [
    "degree[0:5]"
   ]
  },
  {
   "cell_type": "code",
   "execution_count": 163,
   "id": "0b3a734d",
   "metadata": {},
   "outputs": [
    {
     "data": {
      "text/html": [
       "<div>\n",
       "<style scoped>\n",
       "    .dataframe tbody tr th:only-of-type {\n",
       "        vertical-align: middle;\n",
       "    }\n",
       "\n",
       "    .dataframe tbody tr th {\n",
       "        vertical-align: top;\n",
       "    }\n",
       "\n",
       "    .dataframe thead th {\n",
       "        text-align: right;\n",
       "    }\n",
       "</style>\n",
       "<table border=\"1\" class=\"dataframe\">\n",
       "  <thead>\n",
       "    <tr style=\"text-align: right;\">\n",
       "      <th></th>\n",
       "      <th>Label</th>\n",
       "      <th>Skill</th>\n",
       "    </tr>\n",
       "  </thead>\n",
       "  <tbody>\n",
       "    <tr>\n",
       "      <th>0</th>\n",
       "      <td>DEGREE</td>\n",
       "      <td>MSc in Computer Science</td>\n",
       "    </tr>\n",
       "    <tr>\n",
       "      <th>1</th>\n",
       "      <td>DEGREE</td>\n",
       "      <td>MSc in Master of Business Administration</td>\n",
       "    </tr>\n",
       "    <tr>\n",
       "      <th>2</th>\n",
       "      <td>DEGREE</td>\n",
       "      <td>MSc in Economics</td>\n",
       "    </tr>\n",
       "    <tr>\n",
       "      <th>3</th>\n",
       "      <td>DEGREE</td>\n",
       "      <td>MSc in History</td>\n",
       "    </tr>\n",
       "    <tr>\n",
       "      <th>4</th>\n",
       "      <td>DEGREE</td>\n",
       "      <td>MSc in Chemistry</td>\n",
       "    </tr>\n",
       "  </tbody>\n",
       "</table>\n",
       "</div>"
      ],
      "text/plain": [
       "    Label                                     Skill\n",
       "0  DEGREE                   MSc in Computer Science\n",
       "1  DEGREE  MSc in Master of Business Administration\n",
       "2  DEGREE                          MSc in Economics\n",
       "3  DEGREE                            MSc in History\n",
       "4  DEGREE                          MSc in Chemistry"
      ]
     },
     "execution_count": 163,
     "metadata": {},
     "output_type": "execute_result"
    }
   ],
   "source": [
    "skill = ['DEGREE' for row in degree]\n",
    "final = pd.DataFrame({'Label': skill, 'Skill':degree})\n",
    "final.head()"
   ]
  },
  {
   "cell_type": "code",
   "execution_count": 164,
   "id": "e0d1aae2",
   "metadata": {},
   "outputs": [],
   "source": [
    "final.to_csv(\"degrees.csv\", index = False)"
   ]
  },
  {
   "cell_type": "code",
   "execution_count": null,
   "id": "23276c35",
   "metadata": {},
   "outputs": [],
   "source": []
  }
 ],
 "metadata": {
  "kernelspec": {
   "display_name": "Python 3 (ipykernel)",
   "language": "python",
   "name": "python3"
  },
  "language_info": {
   "codemirror_mode": {
    "name": "ipython",
    "version": 3
   },
   "file_extension": ".py",
   "mimetype": "text/x-python",
   "name": "python",
   "nbconvert_exporter": "python",
   "pygments_lexer": "ipython3",
   "version": "3.8.12"
  },
  "toc": {
   "base_numbering": 1,
   "nav_menu": {},
   "number_sections": true,
   "sideBar": true,
   "skip_h1_title": false,
   "title_cell": "Table of Contents",
   "title_sidebar": "Contents",
   "toc_cell": false,
   "toc_position": {},
   "toc_section_display": true,
   "toc_window_display": false
  }
 },
 "nbformat": 4,
 "nbformat_minor": 5
}
