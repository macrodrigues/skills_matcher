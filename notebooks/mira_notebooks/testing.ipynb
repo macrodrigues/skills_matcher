{
 "cells": [
  {
   "cell_type": "markdown",
   "id": "7513e00a",
   "metadata": {},
   "source": [
    "# Testing Skill extraction"
   ]
  },
  {
   "cell_type": "code",
   "execution_count": 2,
   "id": "19e3755e",
   "metadata": {},
   "outputs": [],
   "source": [
    "import pandas as pd"
   ]
  },
  {
   "cell_type": "code",
   "execution_count": 29,
   "id": "475c8835",
   "metadata": {},
   "outputs": [
    {
     "data": {
      "text/plain": [
       "'Be in charge of the development of application software, in the context of the needs of the LHCb core and distributed computing groups. Be able to act as liaison between the requirements of LHCb data analysts interfacing with LHCb distributed computing infrastructure. Be using, possibly refactoring, testing, diagnosing, optimizing and integrating existing software, and while doing so you are expected to know about software life-cycle tools and procedures. Be in charge of creating new software solutions, or fully replace existing ones. Work within a small team of applied physicists and software developers. \\', \\' Demonstrated working experience in software development using the Python programming language. Extensive hands-on experience of software and techniques for High Energy Physics data analysis. Experience with the DIRAC software is a plus. \\', \\' Development of application software: in particular for distributed computing. Knowledge of programming techniques and languages: (mainly Python). Re-use, refactoring, integration and porting of existing software. Knowledge and application of software life-cycle tools and procedures. Testing, diagnosing and optimization of software. \\', \" Achieving results: having a structured and organised approach towards work; being able to set priorities and plan tasks with results in mind. Solving problems: being open to original ideas and creative options by which to address issues; continually driving change by seeking new ways to improve outcomes; addressing complex problems by breaking them down into manageable components. Demonstrating flexibility: readily absorbing new techniques and working practices; proposing new or improved ways of working; demonstrating openness to new ideas and situations. Working in teams: cooperating constructively with others in the pursuit of team goals; balancing personal goals with team goals. Learning and sharing knowledge: proposing ways to improve or streamline existing procedures, processes and methodologies; being receptive to others\\' ideas and building on them. \", \\' Ability to draw-up technical specifications and/or scientific reports and to make oral presentations in English. Ability to understand and speak French in professional contexts, or the willingness to acquire it. \\', \\' Work in Radiation Areas. Interventions in underground installations. Work during nights, Sundays and official holidays, when required by the needs of the Organization. \\']'"
      ]
     },
     "execution_count": 29,
     "metadata": {},
     "output_type": "execute_result"
    }
   ],
   "source": [
    "data_job = pd.read_csv('../../data/raw_data/raw_data_3.csv')#['info']\n",
    "data_job['info'][1][3:]"
   ]
  },
  {
   "cell_type": "code",
   "execution_count": 31,
   "id": "fb12d245",
   "metadata": {},
   "outputs": [],
   "source": [
    "dict_skills = {}\n",
    "dict_skills[data_job['info'][0][3:]] = ['physics', \n",
    "                                        'engineering', \n",
    "                                        'applied accelerator physics', \n",
    "                                        'experimental techniques', \n",
    "                                        'data analysis', \n",
    "                                        'communicate efficiently in English']\n",
    "\n",
    "dict_skills[data_job['info'][1][3:]] = ['Python', \n",
    "                                       ]"
   ]
  },
  {
   "cell_type": "code",
   "execution_count": null,
   "id": "8a486364",
   "metadata": {},
   "outputs": [],
   "source": []
  },
  {
   "cell_type": "code",
   "execution_count": null,
   "id": "d61a0fdf",
   "metadata": {},
   "outputs": [],
   "source": []
  }
 ],
 "metadata": {
  "kernelspec": {
   "display_name": "Python 3 (ipykernel)",
   "language": "python",
   "name": "python3"
  },
  "language_info": {
   "codemirror_mode": {
    "name": "ipython",
    "version": 3
   },
   "file_extension": ".py",
   "mimetype": "text/x-python",
   "name": "python",
   "nbconvert_exporter": "python",
   "pygments_lexer": "ipython3",
   "version": "3.8.12"
  },
  "toc": {
   "base_numbering": 1,
   "nav_menu": {},
   "number_sections": true,
   "sideBar": true,
   "skip_h1_title": false,
   "title_cell": "Table of Contents",
   "title_sidebar": "Contents",
   "toc_cell": false,
   "toc_position": {},
   "toc_section_display": true,
   "toc_window_display": false
  }
 },
 "nbformat": 4,
 "nbformat_minor": 5
}
