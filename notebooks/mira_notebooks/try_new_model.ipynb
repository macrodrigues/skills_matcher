{
 "cells": [
  {
   "cell_type": "code",
   "execution_count": 43,
   "id": "b562e09c",
   "metadata": {},
   "outputs": [],
   "source": [
    "import sys\n",
    "import os\n",
    "import pandas as pd\n",
    "import spacy"
   ]
  },
  {
   "cell_type": "code",
   "execution_count": 12,
   "id": "b4790949",
   "metadata": {},
   "outputs": [
    {
     "name": "stdout",
     "output_type": "stream",
     "text": [
      "The autoreload extension is already loaded. To reload it, use:\n",
      "  %reload_ext autoreload\n"
     ]
    }
   ],
   "source": [
    "%load_ext autoreload\n",
    "%autoreload 2\n",
    "PATH = os.path.dirname(os.path.dirname(os.getcwd()))\n",
    "sys.path.append(PATH)\n",
    "from skills_matcher.scripts.spacy_model import json_to_train_data, split_data, make_spacy_model, load_results"
   ]
  },
  {
   "cell_type": "code",
   "execution_count": 54,
   "id": "f818e296",
   "metadata": {},
   "outputs": [
    {
     "data": {
      "text/plain": [
       "\"[' Ensuring customers are at the heart of everything we do, making sure our expertise and medicines are easily accessed, providing patient services, dispensing, and giving healthcare advice. Leading, motivating, training and developing your colleagues. Keeping the both the customer and the business safe and legal. Building working relationships with Primary Care Networks and GP surgeries Ensuring payment claims are accurate for anything covered by the NHS. Using our modern planning systems to ensure we have the right number of colleagues and pharmacists on duty to meet customer needs ', ' A Pharmacy Degree A passion for leading and empowering a team. Membership of the General Pharmaceutical Council (GPhC) Hepatitis B immunisation (or be prepared to be immunised after starting) Pharmacists working for Tesco will have to complete a DBS check (organised by Tesco) prior to commencement of employment. ', ' Annual payment of your GPhC fee. A structured training plan for Pharmacy Leadership, crafted by industry specialists. Colleague Clubcard (including a 2nd card for a family member) after 3 months service with 10% off most purchases at Tesco. The Tesco Retirement Savings Plan. An annual bonus scheme, a share-save scheme and life assurance cover A secure, clean and safe environment for our colleagues to work. Discounts through the Tesco business, including Tesco Mobile & Tesco Financial products. For those requiring it, expert support and assistance through the application process for the new UK health and social care visa process. ']\""
      ]
     },
     "execution_count": 54,
     "metadata": {},
     "output_type": "execute_result"
    }
   ],
   "source": [
    "df = pd.read_csv(PATH + '/data/cleaned_data.csv')\n",
    "text= df['description'][20]\n",
    "text2 = df['description'][2000]\n",
    "text2"
   ]
  },
  {
   "cell_type": "code",
   "execution_count": 16,
   "id": "73776fab",
   "metadata": {},
   "outputs": [
    {
     "data": {
      "text/html": [
       "<div>\n",
       "<style scoped>\n",
       "    .dataframe tbody tr th:only-of-type {\n",
       "        vertical-align: middle;\n",
       "    }\n",
       "\n",
       "    .dataframe tbody tr th {\n",
       "        vertical-align: top;\n",
       "    }\n",
       "\n",
       "    .dataframe thead th {\n",
       "        text-align: right;\n",
       "    }\n",
       "</style>\n",
       "<table border=\"1\" class=\"dataframe\">\n",
       "  <thead>\n",
       "    <tr style=\"text-align: right;\">\n",
       "      <th></th>\n",
       "      <th>Unnamed: 0</th>\n",
       "      <th>ISCO</th>\n",
       "      <th>major_job</th>\n",
       "      <th>job</th>\n",
       "      <th>position</th>\n",
       "      <th>location</th>\n",
       "      <th>description</th>\n",
       "    </tr>\n",
       "  </thead>\n",
       "  <tbody>\n",
       "    <tr>\n",
       "      <th>0</th>\n",
       "      <td>0</td>\n",
       "      <td>21</td>\n",
       "      <td>SCIENCE AND ENGINEERING PROFESSIONALS</td>\n",
       "      <td>physicist</td>\n",
       "      <td>Accelerator Physicist id54315</td>\n",
       "      <td>Villigen PSI, Aargau</td>\n",
       "      <td>[' You have an academic degree in physics or e...</td>\n",
       "    </tr>\n",
       "    <tr>\n",
       "      <th>1</th>\n",
       "      <td>1</td>\n",
       "      <td>21</td>\n",
       "      <td>SCIENCE AND ENGINEERING PROFESSIONALS</td>\n",
       "      <td>physicist</td>\n",
       "      <td>Applied Physicist (Computing) (EP-LBC-2021-125...</td>\n",
       "      <td>Geneva</td>\n",
       "      <td>[' Be in charge of the development of applicat...</td>\n",
       "    </tr>\n",
       "    <tr>\n",
       "      <th>2</th>\n",
       "      <td>2</td>\n",
       "      <td>21</td>\n",
       "      <td>SCIENCE AND ENGINEERING PROFESSIONALS</td>\n",
       "      <td>physicist</td>\n",
       "      <td>Accelerator Physicist (BE-ABP-LNO-2021-122-LD)...</td>\n",
       "      <td>Geneva</td>\n",
       "      <td>[' Contribute to the maintenance and developme...</td>\n",
       "    </tr>\n",
       "  </tbody>\n",
       "</table>\n",
       "</div>"
      ],
      "text/plain": [
       "   Unnamed: 0  ISCO                              major_job        job  \\\n",
       "0           0    21  SCIENCE AND ENGINEERING PROFESSIONALS  physicist   \n",
       "1           1    21  SCIENCE AND ENGINEERING PROFESSIONALS  physicist   \n",
       "2           2    21  SCIENCE AND ENGINEERING PROFESSIONALS  physicist   \n",
       "\n",
       "                                            position              location  \\\n",
       "0                      Accelerator Physicist id54315  Villigen PSI, Aargau   \n",
       "1  Applied Physicist (Computing) (EP-LBC-2021-125...                Geneva   \n",
       "2  Accelerator Physicist (BE-ABP-LNO-2021-122-LD)...                Geneva   \n",
       "\n",
       "                                         description  \n",
       "0  [' You have an academic degree in physics or e...  \n",
       "1  [' Be in charge of the development of applicat...  \n",
       "2  [' Contribute to the maintenance and developme...  "
      ]
     },
     "execution_count": 16,
     "metadata": {},
     "output_type": "execute_result"
    }
   ],
   "source": [
    "df.head(3)"
   ]
  },
  {
   "cell_type": "code",
   "execution_count": 18,
   "id": "156e8188",
   "metadata": {},
   "outputs": [
    {
     "name": "stderr",
     "output_type": "stream",
     "text": [
      "100%|██████████████████████████████████████████| 58/58 [00:00<00:00, 260.94it/s]\n"
     ]
    },
    {
     "name": "stdout",
     "output_type": "stream",
     "text": [
      "Skipping entity\n",
      "Skipping entity\n",
      "Skipping entity\n",
      "Skipping entity\n",
      "Skipping entity\n",
      "Skipping entity\n",
      "Skipping entity\n"
     ]
    },
    {
     "name": "stderr",
     "output_type": "stream",
     "text": [
      "100%|██████████████████████████████████████████| 15/15 [00:00<00:00, 311.98it/s]"
     ]
    },
    {
     "name": "stdout",
     "output_type": "stream",
     "text": [
      "Skipping entity\n",
      "Skipping entity\n"
     ]
    },
    {
     "name": "stderr",
     "output_type": "stream",
     "text": [
      "\n"
     ]
    }
   ],
   "source": [
    "training_data = json_to_train_data(PATH + '/notebooks/annotation_data.json')\n",
    "X_train, X_val = split_data(training_data, val_split=0.2)\n",
    "spacy_train = make_spacy_model(X_train)\n",
    "spacy_train.to_disk('train.spacy')\n",
    "spacy_val = make_spacy_model(X_val)\n",
    "spacy_val.to_disk('val.spacy')"
   ]
  },
  {
   "cell_type": "code",
   "execution_count": 23,
   "id": "24180763",
   "metadata": {},
   "outputs": [
    {
     "name": "stdout",
     "output_type": "stream",
     "text": [
      "\u001b[38;5;2m✔ Auto-filled config with all values\u001b[0m\n",
      "\u001b[38;5;2m✔ Saved config\u001b[0m\n",
      "config.cfg\n",
      "You can now add your data and train your pipeline:\n",
      "python -m spacy train config.cfg --paths.train ./train.spacy --paths.dev ./dev.spacy\n"
     ]
    }
   ],
   "source": [
    " ! python -m spacy init fill-config base_config.cfg config.cfg"
   ]
  },
  {
   "cell_type": "code",
   "execution_count": 24,
   "id": "6d5183bb",
   "metadata": {},
   "outputs": [
    {
     "name": "stdout",
     "output_type": "stream",
     "text": [
      "\u001b[38;5;2m✔ Created output directory: output\u001b[0m\n",
      "\u001b[38;5;4mℹ Saving to output directory: output\u001b[0m\n",
      "\u001b[38;5;4mℹ Using CPU\u001b[0m\n",
      "\u001b[1m\n",
      "=========================== Initializing pipeline ===========================\u001b[0m\n",
      "[2021-12-03 16:34:21,407] [INFO] Set up nlp object from config\n",
      "[2021-12-03 16:34:21,413] [INFO] Pipeline: ['tok2vec', 'ner']\n",
      "[2021-12-03 16:34:21,416] [INFO] Created vocabulary\n",
      "[2021-12-03 16:34:21,418] [INFO] Finished initializing nlp object\n",
      "[2021-12-03 16:34:22,199] [INFO] Initialized pipeline components: ['tok2vec', 'ner']\n",
      "\u001b[38;5;2m✔ Initialized pipeline\u001b[0m\n",
      "\u001b[1m\n",
      "============================= Training pipeline =============================\u001b[0m\n",
      "\u001b[38;5;4mℹ Pipeline: ['tok2vec', 'ner']\u001b[0m\n",
      "\u001b[38;5;4mℹ Initial learn rate: 0.001\u001b[0m\n",
      "E    #       LOSS TOK2VEC  LOSS NER  ENTS_F  ENTS_P  ENTS_R  SCORE \n",
      "---  ------  ------------  --------  ------  ------  ------  ------\n",
      "  0       0          0.00     66.89    0.00    0.00    0.00    0.00\n",
      "  3     200       9998.70   3642.38   24.21   25.69   22.89    0.24\n",
      "  7     400       5097.39   2184.25   67.14   67.74   66.55    0.67\n",
      " 10     600       1271.83    921.52   85.42   84.25   86.62    0.85\n",
      " 14     800      12278.16    532.72   91.96   91.32   92.61    0.92\n",
      " 18    1000        261.11    259.87   96.84   96.50   97.18    0.97\n",
      " 22    1200        408.72    256.29   97.20   96.53   97.89    0.97\n",
      " 26    1400        194.53    122.57   98.26   96.92   99.65    0.98\n",
      " 30    1600        237.05    141.26   99.12   98.95   99.30    0.99\n",
      " 34    1800        468.61    107.93   98.24   98.24   98.24    0.98\n",
      " 39    2000        769.41    197.74   98.41   98.59   98.24    0.98\n",
      " 44    2200        548.47    160.77   98.95   98.60   99.30    0.99\n",
      " 50    2400        282.67    141.90   99.12   99.64   98.59    0.99\n",
      " 57    2600        310.57    118.51   98.59   98.59   98.59    0.99\n",
      " 65    2800        412.23    129.39   99.12   99.29   98.94    0.99\n",
      " 76    3000        626.93    150.58   98.77   98.94   98.59    0.99\n",
      " 89    3200        293.96    184.92   99.12   99.64   98.59    0.99\n",
      "\u001b[38;5;2m✔ Saved pipeline to output directory\u001b[0m\n",
      "output/model-last\n"
     ]
    }
   ],
   "source": [
    "! python -m spacy train config.cfg --output ./output --paths.train ./train.spacy --paths.dev ./train.spacy"
   ]
  },
  {
   "cell_type": "code",
   "execution_count": 162,
   "id": "21092df6",
   "metadata": {},
   "outputs": [
    {
     "data": {
      "text/html": [
       "<span class=\"tex2jax_ignore\"><div class=\"entities\" style=\"line-height: 2.5; direction: ltr\"></br>Minimum of \n",
       "<mark class=\"entity\" style=\"background: #ddd; padding: 0.45em 0.6em; margin: 0 0.25em; line-height: 1; border-radius: 0.35em;\">\n",
       "    Bachelor’s\n",
       "    <span style=\"font-size: 0.8em; font-weight: bold; line-height: 1; border-radius: 0.35em; vertical-align: middle; margin-left: 0.5rem\">LEVEL</span>\n",
       "</mark>\n",
       " or Master’s Degree in Computer \n",
       "<mark class=\"entity\" style=\"background: #ddd; padding: 0.45em 0.6em; margin: 0 0.25em; line-height: 1; border-radius: 0.35em;\">\n",
       "    Science\n",
       "    <span style=\"font-size: 0.8em; font-weight: bold; line-height: 1; border-radius: 0.35em; vertical-align: middle; margin-left: 0.5rem\">LEVEL</span>\n",
       "</mark>\n",
       ", \n",
       "<mark class=\"entity\" style=\"background: #ddd; padding: 0.45em 0.6em; margin: 0 0.25em; line-height: 1; border-radius: 0.35em;\">\n",
       "    Engineering,\n",
       "    <span style=\"font-size: 0.8em; font-weight: bold; line-height: 1; border-radius: 0.35em; vertical-align: middle; margin-left: 0.5rem\">LEVEL</span>\n",
       "</mark>\n",
       " or similar. </br>Strong interest in data management, processing and reporting, including modern architectures and techniques.</br>Strong coding skills and computer science fundamentals.</br>Knowledge and experience of \n",
       "<mark class=\"entity\" style=\"background: #ddd; padding: 0.45em 0.6em; margin: 0 0.25em; line-height: 1; border-radius: 0.35em;\">\n",
       "    statistical techniques\n",
       "    <span style=\"font-size: 0.8em; font-weight: bold; line-height: 1; border-radius: 0.35em; vertical-align: middle; margin-left: 0.5rem\">KNOWLEDGE</span>\n",
       "</mark>\n",
       " and concepts.</br>Knowledge in \n",
       "<mark class=\"entity\" style=\"background: #ddd; padding: 0.45em 0.6em; margin: 0 0.25em; line-height: 1; border-radius: 0.35em;\">\n",
       "    cloud technology\n",
       "    <span style=\"font-size: 0.8em; font-weight: bold; line-height: 1; border-radius: 0.35em; vertical-align: middle; margin-left: 0.5rem\">KNOWLEDGE</span>\n",
       "</mark>\n",
       " is \n",
       "<mark class=\"entity\" style=\"background: #ddd; padding: 0.45em 0.6em; margin: 0 0.25em; line-height: 1; border-radius: 0.35em;\">\n",
       "    a\n",
       "    <span style=\"font-size: 0.8em; font-weight: bold; line-height: 1; border-radius: 0.35em; vertical-align: middle; margin-left: 0.5rem\">SKILL</span>\n",
       "</mark>\n",
       " plus.</br>Knowledge of Linux, Oracle and Tableau/Power BI to manipulate data.</br>Creative problem solving and critical thinking skills, aiming to improve the existing processes.</br>Good communication skills to liaise with different interface teams.</br>Experience working with databases and solving complex business problems with high-volume data.</br>Flexible to adapt in highly dynamic environments.</div></span>"
      ],
      "text/plain": [
       "<IPython.core.display.HTML object>"
      ]
     },
     "metadata": {},
     "output_type": "display_data"
    }
   ],
   "source": [
    "text= df['description'][1]\n",
    "\n",
    "test = '''\n",
    "Minimum of Bachelor’s or Master’s Degree in Computer Science, Engineering, or similar. \n",
    "Strong interest in data management, processing and reporting, including modern architectures and techniques.\n",
    "Strong coding skills and computer science fundamentals.\n",
    "Knowledge and experience of statistical techniques and concepts.\n",
    "Knowledge in cloud technology is a plus.\n",
    "Knowledge of Linux, Oracle and Tableau/Power BI to manipulate data.\n",
    "Creative problem solving and critical thinking skills, aiming to improve the existing processes.\n",
    "Good communication skills to liaise with different interface teams.\n",
    "Experience working with databases and solving complex business problems with high-volume data.\n",
    "Flexible to adapt in highly dynamic environments.'''\n",
    "\n",
    "entities = load_results(PATH + '/notebooks/output/model-best', test)"
   ]
  },
  {
   "cell_type": "code",
   "execution_count": 116,
   "id": "ec0dd187",
   "metadata": {},
   "outputs": [],
   "source": [
    "# string matching\n",
    "\n",
    "skills = ['Power BI', 'Python']\n",
    "\n",
    "job_descritions = [_ for _ in df['description']]"
   ]
  },
  {
   "cell_type": "code",
   "execution_count": 51,
   "id": "de7d6ae2",
   "metadata": {},
   "outputs": [
    {
     "name": "stdout",
     "output_type": "stream",
     "text": [
      "2-3 weeks at 319 331 MIN_EXP\n",
      "Physics 680 687 KNOWLEDGE\n",
      "Electrical Engineering 689 711 KNOWLEDGE\n",
      "2-3 weeks at 1026 1038 MIN_EXP\n"
     ]
    }
   ],
   "source": [
    "nlp = spacy.load(PATH + '/notebooks/output/model-best')\n",
    "\n",
    "doc = nlp(text)\n",
    "\n",
    "for ent in doc.ents:\n",
    "    print(ent.text, ent.start_char, ent.end_char, ent.label_)"
   ]
  },
  {
   "cell_type": "code",
   "execution_count": 89,
   "id": "b0a71850",
   "metadata": {},
   "outputs": [
    {
     "name": "stdout",
     "output_type": "stream",
     "text": [
      "[ True 20.038563 True\n",
      "' True 19.297134 True\n",
      "Act True 20.415789 True\n"
     ]
    }
   ],
   "source": [
    "for token in doc[:3]:\n",
    "    print(token.text, token.has_vector, token.vector_norm, token.is_oov)"
   ]
  },
  {
   "cell_type": "code",
   "execution_count": 168,
   "id": "ff0137a1",
   "metadata": {},
   "outputs": [
    {
     "name": "stdout",
     "output_type": "stream",
     "text": [
      "Be AUX ROOT Xx be VB\n",
      "in ADP prep xx in IN\n",
      "charge NOUN pobj xxxx charge NN\n"
     ]
    },
    {
     "data": {
      "text/plain": [
       "[Python, Python]"
      ]
     },
     "execution_count": 168,
     "metadata": {},
     "output_type": "execute_result"
    }
   ],
   "source": [
    "nlp_manual = spacy.load('en_core_web_sm')\n",
    "\n",
    "doc_manual = nlp_manual(text)\n",
    "\n",
    "for t in doc_manual[2:5]:\n",
    "    print(t, t.pos_, t.dep_, t.shape_, t.lemma_, t.tag_)\n",
    "    \n",
    "# get POS / Part of Speech\n",
    "\n",
    "def give_skill(text):\n",
    "    doc_manual = nlp_manual(text)\n",
    "    skills = []\n",
    "    for t in doc_manual:\n",
    "        if t.lower_ in ['python', 'r', ]:\n",
    "            if t.pos != 'VERB':\n",
    "                skills.append(t)\n",
    "    return skills\n",
    "\n",
    "give_skill(text)"
   ]
  },
  {
   "cell_type": "code",
   "execution_count": 160,
   "id": "67acd0e9",
   "metadata": {},
   "outputs": [
    {
     "data": {
      "text/plain": [
       "[' You have an academic degree in physics or engineering with profound knowledge of applied accelerator physics You have a demonstrated ability to compute beam optics and other parameters relevant to beam performance You have experience in experimental techniques and data analysis in the context of beam measurements You enjoy working in a diverse team and communicate efficiently in English. If you do not speak German, you are willing to strive for at least a basic level in that language ']"
      ]
     },
     "execution_count": 160,
     "metadata": {},
     "output_type": "execute_result"
    }
   ],
   "source": [
    "doc_manual"
   ]
  },
  {
   "cell_type": "code",
   "execution_count": 131,
   "id": "ccb3e885",
   "metadata": {
    "scrolled": true
   },
   "outputs": [
    {
     "name": "stdout",
     "output_type": "stream",
     "text": [
      "[[, ', Act, as, an, operational, engineer, and, build, a, complete, and, broad, understanding, of, multi, -, beam, mask, writers, ., Operation, ,, calibration, and, optimization, of, the, electron, beam, ., Data, analysis, and, tool, status, evaluation, ., Implementation, and, documentation, of, experiments, at, the, tool, ., Fly, around, the, world, to, customer, factories, for, 2, -, 3, weeks, at, a, time, to, recalibrate, customer, production, tools, ., Be, able, to, work, independently, to, correlate, trends, across, the, fleet, of, deployed, tools, ., Internal, and, external, communication, about, the, progress, of, tool, optimization, ., Conduct, trainings, on, tool, operation, and, calibration, ., On, -, call, service, for, troubleshooting, ., ', ,, ', A, Bachelor\\, 's, Degree, (, or, equivalent, ), in, :, Physics, ,, Electrical, Engineering, ,, Process, Engineering, or, a, related, field, Very, good, spoken, and, written, English, ., Experience, in, using, office, programs, and, Unix, (, Linux, ), Python, and, Jira, experience, is, preferred, ., Deliberate, and, organized, work, style, with, a, \", hands, on, \", mentality, Willingness, to, be, deployed, abroad, for, an, average, of, four, months, per, year, ., (, eg, 2, -, 3, weeks, at, a, time, ), ., ', ,, ', Responsibility, and, the, opportunity, to, perform, independent, tasks, in, a, dynamic, company, ., A, young, and, motivated, intercultural, team, with, short, channels, ., Excellent, professional, and, personal, development, opportunities, in, an, international, company, ., The, possibility, of, a, lucrative, permanent, posting, abroad, for, 2, years, after, training, ., Annual, gross, salary, :, from, EUR, 42.000, ,, open, to, negotiation, depending, on, professional, qualifications, and, experience, ., Overtime, hours, and, on, -, call, remunerated, on, top, (, no, all, -, in, contract, ), ., ', ]]\n"
     ]
    }
   ],
   "source": [
    "# get token from a text\n",
    "print ([token for token in doc])"
   ]
  },
  {
   "cell_type": "code",
   "execution_count": 62,
   "id": "589083cd",
   "metadata": {},
   "outputs": [
    {
     "name": "stdout",
     "output_type": "stream",
     "text": [
      "0.9944898873664768\n"
     ]
    },
    {
     "name": "stderr",
     "output_type": "stream",
     "text": [
      "/var/folders/sy/7155ny0j7zd0yvnmgd8twpxm0000gn/T/ipykernel_36362/3612073840.py:5: UserWarning: [W007] The model you're using has no word vectors loaded, so the result of the Doc.similarity method will be based on the tagger, parser and NER, which may not give useful similarity judgements. This may happen if you're using one of the small models, e.g. `en_core_web_sm`, which don't ship with word vectors and only use context-sensitive tensors. You can always add your own word vectors, or use one of the larger models instead if available.\n",
      "  print(doc1.similarity(doc2))\n"
     ]
    }
   ],
   "source": [
    "doc1 = nlp(text)\n",
    "doc2 = nlp(text2)\n",
    "\n",
    "# Similarity of two documents\n",
    "print(doc1.similarity(doc2))\n"
   ]
  },
  {
   "cell_type": "code",
   "execution_count": 76,
   "id": "7d39273e",
   "metadata": {},
   "outputs": [
    {
     "name": "stdout",
     "output_type": "stream",
     "text": [
      " The similarity between the tokens “Act as an operational“ and \"Data analysis and tool\" is: 0.6857989430427551\n"
     ]
    },
    {
     "name": "stderr",
     "output_type": "stream",
     "text": [
      "/var/folders/sy/7155ny0j7zd0yvnmgd8twpxm0000gn/T/ipykernel_36362/792070772.py:4: UserWarning: [W007] The model you're using has no word vectors loaded, so the result of the Span.similarity method will be based on the tagger, parser and NER, which may not give useful similarity judgements. This may happen if you're using one of the small models, e.g. `en_core_web_sm`, which don't ship with word vectors and only use context-sensitive tensors. You can always add your own word vectors, or use one of the larger models instead if available.\n",
      "  print(f' The similarity between the tokens “{test_token1}“ and \"{test_token2}\" is: {test_token1.similarity(test_token2)}')\n"
     ]
    }
   ],
   "source": [
    "# Similarity of tokens and spans\n",
    "test_token1 = doc1[2:6]\n",
    "test_token2 = doc1[31:35]\n",
    "\n",
    "test_token3 = doc1[2:6]\n",
    "test_token4 = doc1[31:35]\n",
    "\n",
    "print(f' The similarity between the tokens “{test_token1}“ and \"{test_token2}\" is: {test_token1.similarity(test_token2)}')\n",
    "print(f' The similarity between the tokens “{test_token3}“ and \"{test_token4}\" is: {test_token1.similarity(test_token2)}')"
   ]
  },
  {
   "cell_type": "code",
   "execution_count": 82,
   "id": "54dea3c6",
   "metadata": {},
   "outputs": [
    {
     "data": {
      "text/plain": [
       "'[\\' Act as an operational engineer and build a complete and broad understanding of multi-beam mask writers. Operation, calibration and optimization of the electron beam. Data analysis and tool status evaluation. Implementation and documentation of experiments at the tool. Fly around the world to customer factories for 2-3 weeks at a time to recalibrate customer production tools. Be able to work independently to correlate trends across the fleet of deployed tools. Internal and external communication about the progress of tool optimization. Conduct trainings on tool operation and calibration. On-call service for troubleshooting. \\', \\' A Bachelor\\\\\\'s Degree (or equivalent) in: Physics, Electrical Engineering, Process Engineering or a related field Very good spoken and written English. Experience in using office programs and Unix (Linux) Python and Jira experience is preferred. Deliberate and organized work style with a \"hands on\" mentality Willingness to be deployed abroad for an average of four months per year. (eg 2-3 weeks at a time). \\', \\' Responsibility and the opportunity to perform independent tasks in a dynamic company. A young and motivated intercultural team with short channels. Excellent professional and personal development opportunities in an international company. The possibility of a lucrative permanent posting abroad for 2 years after training. Annual gross salary: from EUR 42.000, open to negotiation depending on professional qualifications and experience. Overtime hours and on-call remunerated on top (no all-in contract). \\']'"
      ]
     },
     "execution_count": 82,
     "metadata": {},
     "output_type": "execute_result"
    }
   ],
   "source": [
    "doc1.text"
   ]
  },
  {
   "cell_type": "code",
   "execution_count": null,
   "id": "66c269d2",
   "metadata": {},
   "outputs": [],
   "source": []
  }
 ],
 "metadata": {
  "kernelspec": {
   "display_name": "Python 3 (ipykernel)",
   "language": "python",
   "name": "python3"
  },
  "language_info": {
   "codemirror_mode": {
    "name": "ipython",
    "version": 3
   },
   "file_extension": ".py",
   "mimetype": "text/x-python",
   "name": "python",
   "nbconvert_exporter": "python",
   "pygments_lexer": "ipython3",
   "version": "3.8.12"
  },
  "toc": {
   "base_numbering": 1,
   "nav_menu": {},
   "number_sections": true,
   "sideBar": true,
   "skip_h1_title": false,
   "title_cell": "Table of Contents",
   "title_sidebar": "Contents",
   "toc_cell": false,
   "toc_position": {},
   "toc_section_display": true,
   "toc_window_display": false
  }
 },
 "nbformat": 4,
 "nbformat_minor": 5
}
