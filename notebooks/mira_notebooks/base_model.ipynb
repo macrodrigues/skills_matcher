{
 "cells": [
  {
   "cell_type": "markdown",
   "id": "c6824970",
   "metadata": {},
   "source": [
    "# Base Model"
   ]
  },
  {
   "cell_type": "code",
   "execution_count": 1,
   "id": "2251995f",
   "metadata": {},
   "outputs": [],
   "source": [
    "import pandas as pd\n",
    "import spacy\n",
    "from spacy import displacy"
   ]
  },
  {
   "cell_type": "code",
   "execution_count": 2,
   "id": "98bf124a",
   "metadata": {},
   "outputs": [
    {
     "data": {
      "text/plain": [
       "'[\\' Be in charge of the development of application software, in the context of the needs of the LHCb core and distributed computing groups. Be able to act as liaison between the requirements of LHCb data analysts interfacing with LHCb distributed computing infrastructure. Be using, possibly refactoring, testing, diagnosing, optimizing and integrating existing software, and while doing so you are expected to know about software life-cycle tools and procedures. Be in charge of creating new software solutions, or fully replace existing ones. Work within a small team of applied physicists and software developers. \\', \\' Demonstrated working experience in software development using the Python programming language. Extensive hands-on experience of software and techniques for High Energy Physics data analysis. Experience with the DIRAC software is a plus. \\', \\' Development of application software: in particular for distributed computing. Knowledge of programming techniques and languages: (mainly Python). Re-use, refactoring, integration and porting of existing software. Knowledge and application of software life-cycle tools and procedures. Testing, diagnosing and optimization of software. \\', \" Achieving results: having a structured and organised approach towards work; being able to set priorities and plan tasks with results in mind. Solving problems: being open to original ideas and creative options by which to address issues; continually driving change by seeking new ways to improve outcomes; addressing complex problems by breaking them down into manageable components. Demonstrating flexibility: readily absorbing new techniques and working practices; proposing new or improved ways of working; demonstrating openness to new ideas and situations. Working in teams: cooperating constructively with others in the pursuit of team goals; balancing personal goals with team goals. Learning and sharing knowledge: proposing ways to improve or streamline existing procedures, processes and methodologies; being receptive to others\\' ideas and building on them. \", \\' Ability to draw-up technical specifications and/or scientific reports and to make oral presentations in English. Ability to understand and speak French in professional contexts, or the willingness to acquire it. \\', \\' Work in Radiation Areas. Interventions in underground installations. Work during nights, Sundays and official holidays, when required by the needs of the Organization. \\']'"
      ]
     },
     "execution_count": 2,
     "metadata": {},
     "output_type": "execute_result"
    }
   ],
   "source": [
    "data_job = pd.read_csv('../../data/raw_data/raw_data_3.csv')#['info']\n",
    "test = data_job['info'][1]\n",
    "test"
   ]
  },
  {
   "cell_type": "code",
   "execution_count": 3,
   "id": "1f6a7c80",
   "metadata": {},
   "outputs": [],
   "source": [
    "df_skills = pd.read_csv('../../data/dictionaries/all_skills.csv')"
   ]
  },
  {
   "cell_type": "code",
   "execution_count": 4,
   "id": "21ee8d1c",
   "metadata": {},
   "outputs": [
    {
     "data": {
      "text/html": [
       "<div>\n",
       "<style scoped>\n",
       "    .dataframe tbody tr th:only-of-type {\n",
       "        vertical-align: middle;\n",
       "    }\n",
       "\n",
       "    .dataframe tbody tr th {\n",
       "        vertical-align: top;\n",
       "    }\n",
       "\n",
       "    .dataframe thead th {\n",
       "        text-align: right;\n",
       "    }\n",
       "</style>\n",
       "<table border=\"1\" class=\"dataframe\">\n",
       "  <thead>\n",
       "    <tr style=\"text-align: right;\">\n",
       "      <th></th>\n",
       "      <th>Label</th>\n",
       "      <th>Skill</th>\n",
       "    </tr>\n",
       "  </thead>\n",
       "  <tbody>\n",
       "    <tr>\n",
       "      <th>0</th>\n",
       "      <td>SKILL</td>\n",
       "      <td>Access software</td>\n",
       "    </tr>\n",
       "    <tr>\n",
       "      <th>1</th>\n",
       "      <td>SKILL</td>\n",
       "      <td>Cisco AnyConnect</td>\n",
       "    </tr>\n",
       "    <tr>\n",
       "      <th>2</th>\n",
       "      <td>SKILL</td>\n",
       "      <td>Calendar and scheduling software</td>\n",
       "    </tr>\n",
       "  </tbody>\n",
       "</table>\n",
       "</div>"
      ],
      "text/plain": [
       "   Label                             Skill\n",
       "0  SKILL                   Access software\n",
       "1  SKILL                  Cisco AnyConnect\n",
       "2  SKILL  Calendar and scheduling software"
      ]
     },
     "execution_count": 4,
     "metadata": {},
     "output_type": "execute_result"
    }
   ],
   "source": [
    "df_skills.head(3)"
   ]
  },
  {
   "cell_type": "code",
   "execution_count": 5,
   "id": "4b5068d3",
   "metadata": {},
   "outputs": [
    {
     "data": {
      "text/plain": [
       "3480"
      ]
     },
     "execution_count": 5,
     "metadata": {},
     "output_type": "execute_result"
    }
   ],
   "source": [
    "list_skills = list(df_skills['Skill'].drop_duplicates())\n",
    "len(list_skills)"
   ]
  },
  {
   "cell_type": "code",
   "execution_count": 6,
   "id": "23d74f8c",
   "metadata": {},
   "outputs": [],
   "source": [
    "list1 = []\n",
    "for i in range(0, len(df_skills['Skill'])):\n",
    "    dict1 = {}\n",
    "    dict1['label'] = 'SKILL'\n",
    "    skill = df_skills['Skill'][i]\n",
    "    sub_dict = {}\n",
    "    sub_dict['TEXT'] = skill\n",
    "    dict1['pattern'] = [sub_dict]\n",
    "    list1.append(dict1)"
   ]
  },
  {
   "cell_type": "code",
   "execution_count": 7,
   "id": "43625020",
   "metadata": {},
   "outputs": [
    {
     "data": {
      "text/plain": [
       "['tok2vec',\n",
       " 'tagger',\n",
       " 'parser',\n",
       " 'attribute_ruler',\n",
       " 'lemmatizer',\n",
       " 'ner',\n",
       " 'entity_ruler']"
      ]
     },
     "execution_count": 7,
     "metadata": {},
     "output_type": "execute_result"
    }
   ],
   "source": [
    "nlp = spacy.load(\"en_core_web_sm\")\n",
    "\n",
    "ruler = nlp.add_pipe(\"entity_ruler\")\n",
    "\n",
    "ruler.add_patterns(list1)\n",
    "\n",
    "nlp.pipe_names"
   ]
  },
  {
   "cell_type": "code",
   "execution_count": 8,
   "id": "7a97752c",
   "metadata": {},
   "outputs": [],
   "source": [
    "def get_skills(text):\n",
    "    doc = nlp(text)\n",
    "    myset = []\n",
    "    subset = []\n",
    "    for ent in doc.ents:\n",
    "        if ent.label_ == \"SKILL\":\n",
    "            subset.append(ent.text)\n",
    "    myset.append(subset)\n",
    "    return subset\n",
    "\n",
    "def unique_skills(x):\n",
    "    return list(set(x))"
   ]
  },
  {
   "cell_type": "code",
   "execution_count": 9,
   "id": "fe56b31e",
   "metadata": {},
   "outputs": [
    {
     "data": {
      "text/plain": [
       "5197"
      ]
     },
     "execution_count": 9,
     "metadata": {},
     "output_type": "execute_result"
    }
   ],
   "source": [
    "data_test = data_job.dropna(subset = ['info']).reset_index(drop=True)\n",
    "len(data_test)"
   ]
  },
  {
   "cell_type": "code",
   "execution_count": 11,
   "id": "90d0824d",
   "metadata": {},
   "outputs": [],
   "source": [
    "skills_final = []\n",
    "for value in range(0, len(data_test)):\n",
    "    # random_number = random.randint(0, len(data_test))\n",
    "    test = data_test['info'][value]\n",
    "    result = get_skills(test)\n",
    "    if len(result) >= 2:\n",
    "        skills_final.append(result)"
   ]
  },
  {
   "cell_type": "code",
   "execution_count": 29,
   "id": "4b7a4d24",
   "metadata": {},
   "outputs": [
    {
     "data": {
      "text/html": [
       "<span class=\"tex2jax_ignore\"><div class=\"entities\" style=\"line-height: 2.5; direction: ltr\">Be in charge of the development of application software, in the context of the needs of the LHCb core and distributed computing groups. Be able to act as liaison between the requirements of LHCb data analysts interfacing with LHCb distributed computing infrastructure. Be using, possibly refactoring, testing, diagnosing, optimizing and integrating existing software, and while doing so you are expected to know about software life-cycle tools and procedures. Be in charge of creating new software solutions, or fully replace existing ones. Work within a small team of applied physicists and software developers. ', ' Demonstrated working experience in software development using the \n",
       "<mark class=\"entity\" style=\"background: #aa9cfc; padding: 0.45em 0.6em; margin: 0 0.25em; line-height: 1; border-radius: 0.35em;\">\n",
       "    Python\n",
       "    <span style=\"font-size: 0.8em; font-weight: bold; line-height: 1; border-radius: 0.35em; vertical-align: middle; margin-left: 0.5rem\">PERSON</span>\n",
       "</mark>\n",
       " programming language. Extensive hands-on experience of software and techniques for \n",
       "<mark class=\"entity\" style=\"background: #7aecec; padding: 0.45em 0.6em; margin: 0 0.25em; line-height: 1; border-radius: 0.35em;\">\n",
       "    High Energy Physics\n",
       "    <span style=\"font-size: 0.8em; font-weight: bold; line-height: 1; border-radius: 0.35em; vertical-align: middle; margin-left: 0.5rem\">ORG</span>\n",
       "</mark>\n",
       " data analysis. Experience with the DIRAC software is a plus. ', ' Development of application software: in particular for distributed computing. Knowledge of programming techniques and languages: (mainly \n",
       "<mark class=\"entity\" style=\"background: #ddd; padding: 0.45em 0.6em; margin: 0 0.25em; line-height: 1; border-radius: 0.35em;\">\n",
       "    Python\n",
       "    <span style=\"font-size: 0.8em; font-weight: bold; line-height: 1; border-radius: 0.35em; vertical-align: middle; margin-left: 0.5rem\">SKILL</span>\n",
       "</mark>\n",
       "). Re-use, refactoring, integration and porting of existing software. Knowledge and application of software life-cycle tools and procedures. Testing, diagnosing and optimization of software. ', &quot; Achieving results: having a structured and organised approach towards work; being able to set priorities and plan tasks with results in mind. Solving problems: being open to original ideas and creative options by which to address issues; continually driving change by seeking new ways to improve outcomes; addressing complex problems by breaking them down into manageable components. Demonstrating flexibility: readily absorbing new techniques and working practices; proposing new or improved ways of working; demonstrating openness to new ideas and situations. Working in teams: cooperating constructively with others in the pursuit of team goals; balancing personal goals with team goals. Learning and sharing knowledge: proposing ways to improve or streamline existing procedures, processes and methodologies; being receptive to others' ideas and building on them. &quot;, ' Ability to draw-up technical specifications and/or scientific reports and to make oral presentations in \n",
       "<mark class=\"entity\" style=\"background: #ff8197; padding: 0.45em 0.6em; margin: 0 0.25em; line-height: 1; border-radius: 0.35em;\">\n",
       "    English\n",
       "    <span style=\"font-size: 0.8em; font-weight: bold; line-height: 1; border-radius: 0.35em; vertical-align: middle; margin-left: 0.5rem\">LANGUAGE</span>\n",
       "</mark>\n",
       ". Ability to understand and speak \n",
       "<mark class=\"entity\" style=\"background: #c887fb; padding: 0.45em 0.6em; margin: 0 0.25em; line-height: 1; border-radius: 0.35em;\">\n",
       "    French\n",
       "    <span style=\"font-size: 0.8em; font-weight: bold; line-height: 1; border-radius: 0.35em; vertical-align: middle; margin-left: 0.5rem\">NORP</span>\n",
       "</mark>\n",
       " in professional contexts, or the willingness to acquire it. ', ' Work in Radiation Areas. Interventions in underground installations. Work during \n",
       "<mark class=\"entity\" style=\"background: #bfe1d9; padding: 0.45em 0.6em; margin: 0 0.25em; line-height: 1; border-radius: 0.35em;\">\n",
       "    nights\n",
       "    <span style=\"font-size: 0.8em; font-weight: bold; line-height: 1; border-radius: 0.35em; vertical-align: middle; margin-left: 0.5rem\">TIME</span>\n",
       "</mark>\n",
       ", \n",
       "<mark class=\"entity\" style=\"background: #bfe1d9; padding: 0.45em 0.6em; margin: 0 0.25em; line-height: 1; border-radius: 0.35em;\">\n",
       "    Sundays\n",
       "    <span style=\"font-size: 0.8em; font-weight: bold; line-height: 1; border-radius: 0.35em; vertical-align: middle; margin-left: 0.5rem\">DATE</span>\n",
       "</mark>\n",
       " and official holidays, when required by the needs of the \n",
       "<mark class=\"entity\" style=\"background: #7aecec; padding: 0.45em 0.6em; margin: 0 0.25em; line-height: 1; border-radius: 0.35em;\">\n",
       "    Organization\n",
       "    <span style=\"font-size: 0.8em; font-weight: bold; line-height: 1; border-radius: 0.35em; vertical-align: middle; margin-left: 0.5rem\">ORG</span>\n",
       "</mark>\n",
       ". ']</div></span>"
      ],
      "text/plain": [
       "<IPython.core.display.HTML object>"
      ]
     },
     "metadata": {},
     "output_type": "display_data"
    }
   ],
   "source": [
    "sent = nlp(test)\n",
    "displacy.render(sent, style=\"ent\", jupyter=True)"
   ]
  },
  {
   "cell_type": "code",
   "execution_count": 13,
   "id": "dc57462f",
   "metadata": {},
   "outputs": [],
   "source": [
    "# load csv file\n",
    "df = pd.read_csv('../../../../../test.csv', header = None)\n",
    "\n",
    "# structure as list\n",
    "patterns_raw = df[0].tolist()\n",
    "\n",
    "import ast\n",
    "\n",
    "# from string of dict to dict\n",
    "patterns = []\n",
    "for index, element in enumerate(patterns_raw):\n",
    "    patterns.append(ast.literal_eval(patterns_raw[index]))"
   ]
  },
  {
   "cell_type": "code",
   "execution_count": 14,
   "id": "148363df",
   "metadata": {},
   "outputs": [
    {
     "data": {
      "text/plain": [
       "['tok2vec',\n",
       " 'tagger',\n",
       " 'parser',\n",
       " 'attribute_ruler',\n",
       " 'lemmatizer',\n",
       " 'ner',\n",
       " 'entity_ruler']"
      ]
     },
     "execution_count": 14,
     "metadata": {},
     "output_type": "execute_result"
    }
   ],
   "source": [
    "nlp2 = spacy.load(\"en_core_web_sm\")\n",
    "\n",
    "ruler2 = nlp2.add_pipe(\"entity_ruler\")\n",
    "\n",
    "ruler2.add_patterns(patterns)\n",
    "\n",
    "nlp.pipe_names"
   ]
  },
  {
   "cell_type": "code",
   "execution_count": 15,
   "id": "016d0b0f",
   "metadata": {},
   "outputs": [],
   "source": [
    "def get_skills2(text):\n",
    "    doc = nlp2(text)\n",
    "    myset = []\n",
    "    subset = []\n",
    "    for ent in doc.ents:\n",
    "        if ent.label_ == \"SKILL\":\n",
    "            subset.append(ent.text)\n",
    "    myset.append(subset)\n",
    "    return subset\n",
    "\n",
    "def unique_skills(x):\n",
    "    return list(set(x))"
   ]
  },
  {
   "cell_type": "code",
   "execution_count": 16,
   "id": "0dea56dd",
   "metadata": {},
   "outputs": [],
   "source": [
    "skills_final2 = []\n",
    "for value in range(0, len(data_test)):\n",
    "    # random_number = random.randint(0, len(data_test))\n",
    "    test = data_test['info'][value]\n",
    "    result = get_skills2(test)\n",
    "    if len(result) >= 2:\n",
    "        skills_final2.append(result)"
   ]
  },
  {
   "cell_type": "code",
   "execution_count": 17,
   "id": "25d702c6",
   "metadata": {},
   "outputs": [],
   "source": [
    "# final = pd.DataFrame({'skills': skills_final2})\n",
    "# final.to_csv('../../../../../skills_new_list', index = False)"
   ]
  },
  {
   "cell_type": "code",
   "execution_count": 18,
   "id": "ff7751df",
   "metadata": {},
   "outputs": [],
   "source": [
    "from gensim.models import Word2Vec\n",
    "import pandas as pd"
   ]
  },
  {
   "cell_type": "code",
   "execution_count": 255,
   "id": "2e3df0fa",
   "metadata": {},
   "outputs": [],
   "source": [
    "word2vec = Word2Vec(sentences=skills_final2, min_count=1, window=50)"
   ]
  },
  {
   "cell_type": "code",
   "execution_count": 259,
   "id": "5e9de839",
   "metadata": {
    "scrolled": true
   },
   "outputs": [
    {
     "data": {
      "text/plain": [
       "[('Linux', 0.9997881054878235),\n",
       " ('machine learning', 0.9997880458831787),\n",
       " ('Google', 0.9997772574424744),\n",
       " ('Machine Learning', 0.999769926071167),\n",
       " ('MySQL', 0.9997513890266418),\n",
       " ('deployment', 0.9997447729110718),\n",
       " ('natural language processing', 0.9997286200523376),\n",
       " ('HTML', 0.9997196793556213),\n",
       " ('C', 0.999700129032135),\n",
       " ('databases', 0.9996636509895325)]"
      ]
     },
     "execution_count": 259,
     "metadata": {},
     "output_type": "execute_result"
    }
   ],
   "source": [
    "word2vec.wv.most_similar('Python')"
   ]
  },
  {
   "cell_type": "code",
   "execution_count": 260,
   "id": "fa4aa2c0",
   "metadata": {},
   "outputs": [
    {
     "data": {
      "text/plain": [
       "0.9910859"
      ]
     },
     "execution_count": 260,
     "metadata": {},
     "output_type": "execute_result"
    }
   ],
   "source": [
    "word2vec.wv.similarity('system integration', 'Python')"
   ]
  },
  {
   "cell_type": "code",
   "execution_count": null,
   "id": "01a9f73f",
   "metadata": {},
   "outputs": [],
   "source": []
  }
 ],
 "metadata": {
  "kernelspec": {
   "display_name": "Python 3 (ipykernel)",
   "language": "python",
   "name": "python3"
  },
  "language_info": {
   "codemirror_mode": {
    "name": "ipython",
    "version": 3
   },
   "file_extension": ".py",
   "mimetype": "text/x-python",
   "name": "python",
   "nbconvert_exporter": "python",
   "pygments_lexer": "ipython3",
   "version": "3.8.12"
  },
  "toc": {
   "base_numbering": 1,
   "nav_menu": {},
   "number_sections": true,
   "sideBar": true,
   "skip_h1_title": false,
   "title_cell": "Table of Contents",
   "title_sidebar": "Contents",
   "toc_cell": false,
   "toc_position": {},
   "toc_section_display": true,
   "toc_window_display": false
  }
 },
 "nbformat": 4,
 "nbformat_minor": 5
}
