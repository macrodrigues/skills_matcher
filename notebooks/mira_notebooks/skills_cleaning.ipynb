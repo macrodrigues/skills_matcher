{
 "cells": [
  {
   "cell_type": "code",
   "execution_count": 1,
   "id": "de5c4d40",
   "metadata": {},
   "outputs": [],
   "source": [
    "import sys\n",
    "import os\n",
    "import pandas as pd\n",
    "import spacy\n",
    "import ast\n",
    "\n",
    "%load_ext autoreload\n",
    "%autoreload 2\n",
    "PATH = os.path.dirname(os.path.dirname(os.getcwd()))\n",
    "sys.path.append(PATH)"
   ]
  },
  {
   "cell_type": "code",
   "execution_count": 2,
   "id": "fb9ab8a8",
   "metadata": {
    "scrolled": true
   },
   "outputs": [
    {
     "data": {
      "text/html": [
       "<div>\n",
       "<style scoped>\n",
       "    .dataframe tbody tr th:only-of-type {\n",
       "        vertical-align: middle;\n",
       "    }\n",
       "\n",
       "    .dataframe tbody tr th {\n",
       "        vertical-align: top;\n",
       "    }\n",
       "\n",
       "    .dataframe thead th {\n",
       "        text-align: right;\n",
       "    }\n",
       "</style>\n",
       "<table border=\"1\" class=\"dataframe\">\n",
       "  <thead>\n",
       "    <tr style=\"text-align: right;\">\n",
       "      <th></th>\n",
       "      <th>Unnamed: 0</th>\n",
       "      <th>ISCO</th>\n",
       "      <th>major_job</th>\n",
       "      <th>job</th>\n",
       "      <th>position</th>\n",
       "      <th>location</th>\n",
       "      <th>description</th>\n",
       "      <th>entities_auto_label</th>\n",
       "      <th>entities_manual_label</th>\n",
       "    </tr>\n",
       "  </thead>\n",
       "  <tbody>\n",
       "    <tr>\n",
       "      <th>0</th>\n",
       "      <td>0</td>\n",
       "      <td>21</td>\n",
       "      <td>SCIENCE AND ENGINEERING PROFESSIONALS</td>\n",
       "      <td>physicist</td>\n",
       "      <td>Accelerator Physicist id54315</td>\n",
       "      <td>Villigen PSI, Aargau</td>\n",
       "      <td>[' You have an academic degree in physics or e...</td>\n",
       "      <td>()</td>\n",
       "      <td>[{'entity': physics, 'label': 'KNOWLEDGE'}, {'...</td>\n",
       "    </tr>\n",
       "    <tr>\n",
       "      <th>1</th>\n",
       "      <td>1</td>\n",
       "      <td>21</td>\n",
       "      <td>SCIENCE AND ENGINEERING PROFESSIONALS</td>\n",
       "      <td>physicist</td>\n",
       "      <td>Accelerator Physicist id54315</td>\n",
       "      <td>Villigen PSI, Aargau</td>\n",
       "      <td>[' You have an academic degree in physics or e...</td>\n",
       "      <td>()</td>\n",
       "      <td>[{'entity': RICS, 'label': 'SKILL'}, {'entity'...</td>\n",
       "    </tr>\n",
       "  </tbody>\n",
       "</table>\n",
       "</div>"
      ],
      "text/plain": [
       "   Unnamed: 0  ISCO                              major_job        job  \\\n",
       "0           0    21  SCIENCE AND ENGINEERING PROFESSIONALS  physicist   \n",
       "1           1    21  SCIENCE AND ENGINEERING PROFESSIONALS  physicist   \n",
       "\n",
       "                        position              location  \\\n",
       "0  Accelerator Physicist id54315  Villigen PSI, Aargau   \n",
       "1  Accelerator Physicist id54315  Villigen PSI, Aargau   \n",
       "\n",
       "                                         description entities_auto_label  \\\n",
       "0  [' You have an academic degree in physics or e...                  ()   \n",
       "1  [' You have an academic degree in physics or e...                  ()   \n",
       "\n",
       "                               entities_manual_label  \n",
       "0  [{'entity': physics, 'label': 'KNOWLEDGE'}, {'...  \n",
       "1  [{'entity': RICS, 'label': 'SKILL'}, {'entity'...  "
      ]
     },
     "execution_count": 2,
     "metadata": {},
     "output_type": "execute_result"
    }
   ],
   "source": [
    "data = pd.read_csv(PATH + '/skills_matcher/data/data_final_raw.csv')\n",
    "data.head(2)"
   ]
  },
  {
   "cell_type": "code",
   "execution_count": 64,
   "id": "872e352f",
   "metadata": {},
   "outputs": [],
   "source": [
    "def extract_skills_auto(s):\n",
    "    words_pattern = '[a-z]+'\n",
    "    return re.findall(words_pattern, s, flags=re.IGNORECASE)"
   ]
  },
  {
   "cell_type": "code",
   "execution_count": 79,
   "id": "75b833b3",
   "metadata": {},
   "outputs": [
    {
     "data": {
      "text/plain": [
       "0                     []\n",
       "1                     []\n",
       "2                     []\n",
       "3       [Python, Python]\n",
       "4       [Python, Python]\n",
       "              ...       \n",
       "3502                  []\n",
       "3503                  []\n",
       "3504                  []\n",
       "3505                  []\n",
       "3506                  []\n",
       "Name: entities_auto_label, Length: 3507, dtype: object"
      ]
     },
     "execution_count": 79,
     "metadata": {},
     "output_type": "execute_result"
    }
   ],
   "source": [
    "skills_auto = data['entities_auto_label'].apply(extract_skills_auto)\n",
    "skills_auto"
   ]
  },
  {
   "cell_type": "code",
   "execution_count": 129,
   "id": "090143b5",
   "metadata": {},
   "outputs": [],
   "source": [
    "import re\n",
    "\n",
    "#  new with non word char inside entities\n",
    "def extract_entities_2(s):\n",
    "    pattern = re.compile(\"'entity': [a-zA-Z]+\\W*([a-zA-Z]|\\s)*\")\n",
    "    res = re.finditer(pattern, s)\n",
    "    return [ mo.group().split(\",\")[0].strip().lstrip(\"'entity': \") for mo in res if mo.group() != ',']\n",
    "\n",
    "def extract_lables(s):\n",
    "    pattern = re.compile(\"'label':\\s*'\\w+'\")\n",
    "    res = re.finditer(pattern, s)\n",
    "    return [ mo.group().partition(\"': '\")[2].strip(\"'\") for mo in res]"
   ]
  },
  {
   "cell_type": "code",
   "execution_count": 32,
   "id": "bf8987a8",
   "metadata": {},
   "outputs": [
    {
     "data": {
      "text/plain": [
       "0                               [KNOWLEDGE, SKILL, SKILL]\n",
       "1                                   [SKILL, SKILL, SKILL]\n",
       "2                                      [SKILL, KNOWLEDGE]\n",
       "3       [SKILL, KNOWLEDGE, KNOWLEDGE, KNOWLEDGE, SKILL...\n",
       "4                                                      []\n",
       "                              ...                        \n",
       "3502                                          [KNOWLEDGE]\n",
       "3503                                          [KNOWLEDGE]\n",
       "3504                                          [KNOWLEDGE]\n",
       "3505                                          [KNOWLEDGE]\n",
       "3506                                          [KNOWLEDGE]\n",
       "Name: entities_manual_label, Length: 3507, dtype: object"
      ]
     },
     "execution_count": 32,
     "metadata": {},
     "output_type": "execute_result"
    }
   ],
   "source": [
    "labels = data['entities_manual_label'].apply(extract_lables)\n",
    "labels"
   ]
  },
  {
   "cell_type": "code",
   "execution_count": 33,
   "id": "6a602f54",
   "metadata": {},
   "outputs": [
    {
     "data": {
      "text/plain": [
       "\"[{'entity': driver's license, 'label': 'KNOWLEDGE'}]\""
      ]
     },
     "execution_count": 33,
     "metadata": {},
     "output_type": "execute_result"
    }
   ],
   "source": [
    "data.entities_manual_label[3505]"
   ]
  },
  {
   "cell_type": "code",
   "execution_count": 35,
   "id": "cc77fae3",
   "metadata": {},
   "outputs": [
    {
     "data": {
      "text/plain": [
       "0                              [physics, English, German]\n",
       "1                           [RICS, CABE, driving licence]\n",
       "2                                           [CIS, Fawkes]\n",
       "3       [Python, programming, High Energy Physics data...\n",
       "4                                                      []\n",
       "                              ...                        \n",
       "3502                                    [driving licence]\n",
       "3503                                   [driver's license]\n",
       "3504                                   [driver's license]\n",
       "3505                                   [driver's license]\n",
       "3506                                   [driver's license]\n",
       "Name: entities_manual_label, Length: 3507, dtype: object"
      ]
     },
     "execution_count": 35,
     "metadata": {},
     "output_type": "execute_result"
    }
   ],
   "source": [
    "entities = data['entities_manual_label'].apply(extract_entities_2)\n",
    "entities"
   ]
  },
  {
   "cell_type": "code",
   "execution_count": 28,
   "id": "454a9931",
   "metadata": {},
   "outputs": [
    {
     "data": {
      "text/plain": [
       "[('KNOWLEDGE', 'physics'), ('SKILL', 'English'), ('SKILL', 'German')]"
      ]
     },
     "execution_count": 28,
     "metadata": {},
     "output_type": "execute_result"
    }
   ],
   "source": [
    "list(zip(labels[0], entities[0]))"
   ]
  },
  {
   "cell_type": "code",
   "execution_count": 38,
   "id": "cf46da52",
   "metadata": {},
   "outputs": [
    {
     "name": "stdout",
     "output_type": "stream",
     "text": [
      "['KNOWLEDGE', 'SKILL', 'SKILL']\n",
      "['physics', 'English', 'German']\n"
     ]
    }
   ],
   "source": [
    "print(labels[0])\n",
    "print(entities[0])"
   ]
  },
  {
   "cell_type": "code",
   "execution_count": 118,
   "id": "29b20b75",
   "metadata": {},
   "outputs": [
    {
     "data": {
      "text/plain": [
       "{'Python': 'SKILL',\n",
       " 'programming': 'KNOWLEDGE',\n",
       " 'High Energy Physics data analysis': 'KNOWLEDGE',\n",
       " 'programming techniques': 'KNOWLEDGE',\n",
       " 'English': 'SKILL',\n",
       " 'French': 'SKILL'}"
      ]
     },
     "execution_count": 118,
     "metadata": {},
     "output_type": "execute_result"
    }
   ],
   "source": [
    "final_list = []\n",
    "\n",
    "for num in range(len(data)):\n",
    "    \n",
    "    dict_ = {}\n",
    "    \n",
    "    for index, key in enumerate(entities[num]):\n",
    "        if key not in dict_.keys():\n",
    "            dict_[key] = labels[num][index]\n",
    "\n",
    "    for index, value in enumerate(skills_auto[num]):\n",
    "        if value not in dict_.keys():\n",
    "            dict_[value] = 'SKILL'\n",
    "            \n",
    "    final_list.append(dict_)\n",
    "\n",
    "final_list[3]"
   ]
  },
  {
   "cell_type": "code",
   "execution_count": 159,
   "id": "d596852c",
   "metadata": {},
   "outputs": [],
   "source": [
    "def get_dict(x):\n",
    "    \n",
    "    dict_ = {}\n",
    "    \n",
    "    entities = extract_entities_2(x['entities_manual_label'])\n",
    "    labels = extract_lables(x['entities_manual_label'])\n",
    "    for index, key in enumerate(entities):\n",
    "        if key not in dict_.keys():\n",
    "            dict_[key] = labels[index]\n",
    "\n",
    "    skills_auto =extract_skills_auto(x['entities_auto_label'])\n",
    "    for index, value in enumerate(skills_auto):\n",
    "        if value not in dict_.keys():\n",
    "            dict_[value] = 'SKILL'\n",
    "    \n",
    "    skills_list = []\n",
    "    knowledge_list = []\n",
    "    min_exp_list = []\n",
    "    level_list = []\n",
    "            \n",
    "    for entity, label in dict_.items():\n",
    "        if label == 'SKILL':\n",
    "            skills_list.append(entity)\n",
    "        if label == 'KNOWLEDGE':\n",
    "            knowledge_list.append(entity)\n",
    "        if label == 'MIN_EXP':\n",
    "             min_exp_list.append(entity)\n",
    "        if label == 'LEVEL':\n",
    "            level_list.append(entity)\n",
    "    \n",
    "    x[\"SKILL\"] = skills_list\n",
    "    x[\"KNOWLEDGE\"] = knowledge_list\n",
    "    x[\"MIN_EXP\"] = min_exp_list\n",
    "    x[\"LEVEL\"] = level_list\n",
    "    \n",
    "    return x"
   ]
  },
  {
   "cell_type": "code",
   "execution_count": 161,
   "id": "efc2230d",
   "metadata": {},
   "outputs": [],
   "source": [
    "data_cleaned = data.apply(get_dict, axis=1)"
   ]
  },
  {
   "cell_type": "code",
   "execution_count": 157,
   "id": "e2bb3edc",
   "metadata": {},
   "outputs": [
    {
     "data": {
      "text/html": [
       "<div>\n",
       "<style scoped>\n",
       "    .dataframe tbody tr th:only-of-type {\n",
       "        vertical-align: middle;\n",
       "    }\n",
       "\n",
       "    .dataframe tbody tr th {\n",
       "        vertical-align: top;\n",
       "    }\n",
       "\n",
       "    .dataframe thead th {\n",
       "        text-align: right;\n",
       "    }\n",
       "</style>\n",
       "<table border=\"1\" class=\"dataframe\">\n",
       "  <thead>\n",
       "    <tr style=\"text-align: right;\">\n",
       "      <th></th>\n",
       "      <th>Unnamed: 0</th>\n",
       "      <th>ISCO</th>\n",
       "      <th>major_job</th>\n",
       "      <th>job</th>\n",
       "      <th>position</th>\n",
       "      <th>location</th>\n",
       "      <th>description</th>\n",
       "      <th>entities_auto_label</th>\n",
       "      <th>entities_manual_label</th>\n",
       "      <th>SKILL</th>\n",
       "      <th>KNOWLEDGE</th>\n",
       "      <th>MIN_EXP</th>\n",
       "      <th>LEVEL</th>\n",
       "    </tr>\n",
       "  </thead>\n",
       "  <tbody>\n",
       "    <tr>\n",
       "      <th>0</th>\n",
       "      <td>0</td>\n",
       "      <td>21</td>\n",
       "      <td>SCIENCE AND ENGINEERING PROFESSIONALS</td>\n",
       "      <td>physicist</td>\n",
       "      <td>Accelerator Physicist id54315</td>\n",
       "      <td>Villigen PSI, Aargau</td>\n",
       "      <td>[' You have an academic degree in physics or e...</td>\n",
       "      <td>()</td>\n",
       "      <td>[{'entity': physics, 'label': 'KNOWLEDGE'}, {'...</td>\n",
       "      <td>[English, German]</td>\n",
       "      <td>[physics]</td>\n",
       "      <td>[]</td>\n",
       "      <td>[]</td>\n",
       "    </tr>\n",
       "    <tr>\n",
       "      <th>1</th>\n",
       "      <td>1</td>\n",
       "      <td>21</td>\n",
       "      <td>SCIENCE AND ENGINEERING PROFESSIONALS</td>\n",
       "      <td>physicist</td>\n",
       "      <td>Accelerator Physicist id54315</td>\n",
       "      <td>Villigen PSI, Aargau</td>\n",
       "      <td>[' You have an academic degree in physics or e...</td>\n",
       "      <td>()</td>\n",
       "      <td>[{'entity': RICS, 'label': 'SKILL'}, {'entity'...</td>\n",
       "      <td>[RICS, CABE, driving licence]</td>\n",
       "      <td>[]</td>\n",
       "      <td>[]</td>\n",
       "      <td>[]</td>\n",
       "    </tr>\n",
       "    <tr>\n",
       "      <th>2</th>\n",
       "      <td>2</td>\n",
       "      <td>21</td>\n",
       "      <td>SCIENCE AND ENGINEERING PROFESSIONALS</td>\n",
       "      <td>physicist</td>\n",
       "      <td>Accelerator Physicist id54315</td>\n",
       "      <td>Villigen PSI, Aargau</td>\n",
       "      <td>[' You have an academic degree in physics or e...</td>\n",
       "      <td>()</td>\n",
       "      <td>[{'entity': CIS, 'label': 'SKILL'}, {'entity':...</td>\n",
       "      <td>[CIS]</td>\n",
       "      <td>[Fawkes]</td>\n",
       "      <td>[]</td>\n",
       "      <td>[]</td>\n",
       "    </tr>\n",
       "    <tr>\n",
       "      <th>3</th>\n",
       "      <td>3</td>\n",
       "      <td>21</td>\n",
       "      <td>SCIENCE AND ENGINEERING PROFESSIONALS</td>\n",
       "      <td>physicist</td>\n",
       "      <td>Applied Physicist (Computing) (EP-LBC-2021-125...</td>\n",
       "      <td>Geneva</td>\n",
       "      <td>[' Be in charge of the development of applicat...</td>\n",
       "      <td>(Python, Python)</td>\n",
       "      <td>[{'entity': Python, 'label': 'SKILL'}, {'entit...</td>\n",
       "      <td>[Python, English, French]</td>\n",
       "      <td>[programming, High Energy Physics data analysi...</td>\n",
       "      <td>[]</td>\n",
       "      <td>[]</td>\n",
       "    </tr>\n",
       "    <tr>\n",
       "      <th>4</th>\n",
       "      <td>4</td>\n",
       "      <td>21</td>\n",
       "      <td>SCIENCE AND ENGINEERING PROFESSIONALS</td>\n",
       "      <td>physicist</td>\n",
       "      <td>Applied Physicist (Computing) (EP-LBC-2021-125...</td>\n",
       "      <td>Geneva</td>\n",
       "      <td>[' Be in charge of the development of applicat...</td>\n",
       "      <td>(Python, Python)</td>\n",
       "      <td>[]</td>\n",
       "      <td>[Python]</td>\n",
       "      <td>[]</td>\n",
       "      <td>[]</td>\n",
       "      <td>[]</td>\n",
       "    </tr>\n",
       "  </tbody>\n",
       "</table>\n",
       "</div>"
      ],
      "text/plain": [
       "   Unnamed: 0  ISCO                              major_job        job  \\\n",
       "0           0    21  SCIENCE AND ENGINEERING PROFESSIONALS  physicist   \n",
       "1           1    21  SCIENCE AND ENGINEERING PROFESSIONALS  physicist   \n",
       "2           2    21  SCIENCE AND ENGINEERING PROFESSIONALS  physicist   \n",
       "3           3    21  SCIENCE AND ENGINEERING PROFESSIONALS  physicist   \n",
       "4           4    21  SCIENCE AND ENGINEERING PROFESSIONALS  physicist   \n",
       "\n",
       "                                            position              location  \\\n",
       "0                      Accelerator Physicist id54315  Villigen PSI, Aargau   \n",
       "1                      Accelerator Physicist id54315  Villigen PSI, Aargau   \n",
       "2                      Accelerator Physicist id54315  Villigen PSI, Aargau   \n",
       "3  Applied Physicist (Computing) (EP-LBC-2021-125...                Geneva   \n",
       "4  Applied Physicist (Computing) (EP-LBC-2021-125...                Geneva   \n",
       "\n",
       "                                         description entities_auto_label  \\\n",
       "0  [' You have an academic degree in physics or e...                  ()   \n",
       "1  [' You have an academic degree in physics or e...                  ()   \n",
       "2  [' You have an academic degree in physics or e...                  ()   \n",
       "3  [' Be in charge of the development of applicat...    (Python, Python)   \n",
       "4  [' Be in charge of the development of applicat...    (Python, Python)   \n",
       "\n",
       "                               entities_manual_label  \\\n",
       "0  [{'entity': physics, 'label': 'KNOWLEDGE'}, {'...   \n",
       "1  [{'entity': RICS, 'label': 'SKILL'}, {'entity'...   \n",
       "2  [{'entity': CIS, 'label': 'SKILL'}, {'entity':...   \n",
       "3  [{'entity': Python, 'label': 'SKILL'}, {'entit...   \n",
       "4                                                 []   \n",
       "\n",
       "                           SKILL  \\\n",
       "0              [English, German]   \n",
       "1  [RICS, CABE, driving licence]   \n",
       "2                          [CIS]   \n",
       "3      [Python, English, French]   \n",
       "4                       [Python]   \n",
       "\n",
       "                                           KNOWLEDGE MIN_EXP LEVEL  \n",
       "0                                          [physics]      []    []  \n",
       "1                                                 []      []    []  \n",
       "2                                           [Fawkes]      []    []  \n",
       "3  [programming, High Energy Physics data analysi...      []    []  \n",
       "4                                                 []      []    []  "
      ]
     },
     "execution_count": 157,
     "metadata": {},
     "output_type": "execute_result"
    }
   ],
   "source": [
    "data_cleaned.head()"
   ]
  },
  {
   "cell_type": "code",
   "execution_count": 147,
   "id": "c2981adb",
   "metadata": {},
   "outputs": [
    {
     "data": {
      "text/plain": [
       "['English', 'German']"
      ]
     },
     "execution_count": 147,
     "metadata": {},
     "output_type": "execute_result"
    }
   ],
   "source": [
    "data_cleaned['SKILL'][0]"
   ]
  },
  {
   "cell_type": "code",
   "execution_count": null,
   "id": "95a7dcc1",
   "metadata": {},
   "outputs": [],
   "source": [
    "def print_final_table(index):\n",
    "    list_skills = data_cleaned['SKILL'][index]\n",
    "    list_values = "
   ]
  }
 ],
 "metadata": {
  "kernelspec": {
   "display_name": "Python 3 (ipykernel)",
   "language": "python",
   "name": "python3"
  },
  "language_info": {
   "codemirror_mode": {
    "name": "ipython",
    "version": 3
   },
   "file_extension": ".py",
   "mimetype": "text/x-python",
   "name": "python",
   "nbconvert_exporter": "python",
   "pygments_lexer": "ipython3",
   "version": "3.8.12"
  },
  "toc": {
   "base_numbering": 1,
   "nav_menu": {},
   "number_sections": true,
   "sideBar": true,
   "skip_h1_title": false,
   "title_cell": "Table of Contents",
   "title_sidebar": "Contents",
   "toc_cell": false,
   "toc_position": {},
   "toc_section_display": true,
   "toc_window_display": false
  }
 },
 "nbformat": 4,
 "nbformat_minor": 5
}
