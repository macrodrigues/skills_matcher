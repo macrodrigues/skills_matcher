{
 "cells": [
  {
   "cell_type": "code",
   "execution_count": 1,
   "id": "949f329a",
   "metadata": {},
   "outputs": [],
   "source": [
    "import sys\n",
    "import os\n",
    "import pandas as pd\n",
    "import spacy\n",
    "import ast\n",
    "\n",
    "%load_ext autoreload\n",
    "%autoreload 2\n",
    "PATH = os.path.dirname(os.path.dirname(os.getcwd()))\n",
    "sys.path.append(PATH)"
   ]
  },
  {
   "cell_type": "code",
   "execution_count": 185,
   "id": "3a1ef2fe",
   "metadata": {
    "scrolled": true
   },
   "outputs": [
    {
     "data": {
      "text/html": [
       "<div>\n",
       "<style scoped>\n",
       "    .dataframe tbody tr th:only-of-type {\n",
       "        vertical-align: middle;\n",
       "    }\n",
       "\n",
       "    .dataframe tbody tr th {\n",
       "        vertical-align: top;\n",
       "    }\n",
       "\n",
       "    .dataframe thead th {\n",
       "        text-align: right;\n",
       "    }\n",
       "</style>\n",
       "<table border=\"1\" class=\"dataframe\">\n",
       "  <thead>\n",
       "    <tr style=\"text-align: right;\">\n",
       "      <th></th>\n",
       "      <th>Unnamed: 0</th>\n",
       "      <th>ISCO</th>\n",
       "      <th>major_job</th>\n",
       "      <th>job</th>\n",
       "      <th>position</th>\n",
       "      <th>location</th>\n",
       "      <th>description</th>\n",
       "      <th>entities_auto_label</th>\n",
       "      <th>entities_manual_label</th>\n",
       "    </tr>\n",
       "  </thead>\n",
       "  <tbody>\n",
       "    <tr>\n",
       "      <th>0</th>\n",
       "      <td>0</td>\n",
       "      <td>21</td>\n",
       "      <td>SCIENCE AND ENGINEERING PROFESSIONALS</td>\n",
       "      <td>physicist</td>\n",
       "      <td>Accelerator Physicist id54315</td>\n",
       "      <td>Villigen PSI, Aargau</td>\n",
       "      <td>[' You have an academic degree in physics or e...</td>\n",
       "      <td>()</td>\n",
       "      <td>[{'entity': physics, 'label': 'KNOWLEDGE'}, {'...</td>\n",
       "    </tr>\n",
       "    <tr>\n",
       "      <th>1</th>\n",
       "      <td>1</td>\n",
       "      <td>21</td>\n",
       "      <td>SCIENCE AND ENGINEERING PROFESSIONALS</td>\n",
       "      <td>physicist</td>\n",
       "      <td>Accelerator Physicist id54315</td>\n",
       "      <td>Villigen PSI, Aargau</td>\n",
       "      <td>[' You have an academic degree in physics or e...</td>\n",
       "      <td>()</td>\n",
       "      <td>[{'entity': RICS, 'label': 'SKILL'}, {'entity'...</td>\n",
       "    </tr>\n",
       "  </tbody>\n",
       "</table>\n",
       "</div>"
      ],
      "text/plain": [
       "   Unnamed: 0  ISCO                              major_job        job  \\\n",
       "0           0    21  SCIENCE AND ENGINEERING PROFESSIONALS  physicist   \n",
       "1           1    21  SCIENCE AND ENGINEERING PROFESSIONALS  physicist   \n",
       "\n",
       "                        position              location  \\\n",
       "0  Accelerator Physicist id54315  Villigen PSI, Aargau   \n",
       "1  Accelerator Physicist id54315  Villigen PSI, Aargau   \n",
       "\n",
       "                                         description entities_auto_label  \\\n",
       "0  [' You have an academic degree in physics or e...                  ()   \n",
       "1  [' You have an academic degree in physics or e...                  ()   \n",
       "\n",
       "                               entities_manual_label  \n",
       "0  [{'entity': physics, 'label': 'KNOWLEDGE'}, {'...  \n",
       "1  [{'entity': RICS, 'label': 'SKILL'}, {'entity'...  "
      ]
     },
     "execution_count": 185,
     "metadata": {},
     "output_type": "execute_result"
    }
   ],
   "source": [
    "data = pd.read_csv(PATH + '/skills_matcher/data/data_final_raw.csv')\n",
    "data.head(2)"
   ]
  },
  {
   "cell_type": "code",
   "execution_count": 3,
   "id": "068afcd5",
   "metadata": {},
   "outputs": [],
   "source": [
    "new_data = data.drop_duplicates(subset =\"position\").reset_index()\n",
    "new_data.to_csv(PATH + '/skills_matcher/data/data_final_raw_new.csv')"
   ]
  },
  {
   "cell_type": "code",
   "execution_count": 5,
   "id": "4db7f6dd",
   "metadata": {},
   "outputs": [],
   "source": [
    "def extract_skills_auto(s):\n",
    "    words_pattern = '[a-z]+'\n",
    "    return re.findall(words_pattern, s, flags=re.IGNORECASE)"
   ]
  },
  {
   "cell_type": "code",
   "execution_count": 6,
   "id": "93eaa80d",
   "metadata": {},
   "outputs": [],
   "source": [
    "import re\n",
    "\n",
    "#  new with non word char inside entities\n",
    "def extract_entities_2(s):\n",
    "    pattern = re.compile(\"'entity': [a-zA-Z]+\\W*([a-zA-Z]|\\s)*\")\n",
    "    res = re.finditer(pattern, s)\n",
    "    return [ mo.group().split(\",\")[0].strip().lstrip(\"'entity': \") for mo in res if mo.group() != ',']\n",
    "\n",
    "def extract_lables(s):\n",
    "    pattern = re.compile(\"'label':\\s*'\\w+'\")\n",
    "    res = re.finditer(pattern, s)\n",
    "    return [ mo.group().partition(\"': '\")[2].strip(\"'\") for mo in res]"
   ]
  },
  {
   "cell_type": "code",
   "execution_count": 7,
   "id": "35d60075",
   "metadata": {},
   "outputs": [],
   "source": [
    "def get_dict(x):\n",
    "    \n",
    "    dict_ = {}\n",
    "    \n",
    "    entities = extract_entities_2(x['entities_manual_label'])\n",
    "    labels = extract_lables(x['entities_manual_label'])\n",
    "    for index, key in enumerate(entities):\n",
    "        if key not in dict_.keys():\n",
    "            dict_[key] = labels[index]\n",
    "\n",
    "    skills_auto =extract_skills_auto(x['entities_auto_label'])\n",
    "    for index, value in enumerate(skills_auto):\n",
    "        if value not in dict_.keys():\n",
    "            dict_[value] = 'SKILL'\n",
    "    \n",
    "    skills_list = []\n",
    "    knowledge_list = []\n",
    "    min_exp_list = []\n",
    "    level_list = []\n",
    "            \n",
    "    for entity, label in dict_.items():\n",
    "        if label == 'SKILL':\n",
    "            skills_list.append(entity)\n",
    "        if label == 'KNOWLEDGE':\n",
    "            knowledge_list.append(entity)\n",
    "        if label == 'MIN_EXP':\n",
    "             min_exp_list.append(entity)\n",
    "        if label == 'LEVEL':\n",
    "            level_list.append(entity)\n",
    "    \n",
    "    x[\"SKILL\"] = skills_list\n",
    "    x[\"KNOWLEDGE\"] = knowledge_list\n",
    "    x[\"MIN_EXP\"] = min_exp_list\n",
    "    x[\"LEVEL\"] = level_list\n",
    "    \n",
    "    return x"
   ]
  },
  {
   "cell_type": "code",
   "execution_count": 163,
   "id": "d05741d9",
   "metadata": {},
   "outputs": [],
   "source": [
    "data_cleaned = new_data.apply(get_dict, axis=1)"
   ]
  },
  {
   "cell_type": "code",
   "execution_count": 175,
   "id": "de0716f7",
   "metadata": {},
   "outputs": [],
   "source": [
    "def lowercase(s):\n",
    "    new_list = [skill.lower() for skill in s]\n",
    "    return new_list\n",
    "\n",
    "def remove_punktuation(s):\n",
    "    new_list = [re.sub(r'[^\\w\\s+]', '', skill).replace('\\xa0', '') for skill in s]\n",
    "    return new_list"
   ]
  },
  {
   "cell_type": "code",
   "execution_count": 174,
   "id": "2697b687",
   "metadata": {},
   "outputs": [],
   "source": [
    "data_cleaned['SKILL'] = data_cleaned['SKILL'].apply(lowercase).apply(remove_punktuation)\n",
    "data_cleaned['KNOWLEDGE'] = data_cleaned['KNOWLEDGE'].apply(lowercase).apply(remove_punktuation)\n",
    "data_cleaned['MIN_EXP'] = data_cleaned['MIN_EXP'].apply(lowercase).apply(remove_punktuation)\n",
    "data_cleaned['LEVEL'] = data_cleaned['LEVEL'].apply(lowercase).apply(remove_punktuation)"
   ]
  },
  {
   "cell_type": "code",
   "execution_count": 172,
   "id": "9e7179b0",
   "metadata": {},
   "outputs": [],
   "source": [
    "def print_final_table(position, data):\n",
    "    \n",
    "    index = data_cleaned.index[data_cleaned['position'] == position].to_list()\n",
    "    \n",
    "    list_skills = data_cleaned['SKILL'][index].to_list()[0]\n",
    "    list_knowledge = data_cleaned['KNOWLEDGE'][index].to_list()[0]\n",
    "    list_min_exp = data_cleaned['MIN_EXP'][index].to_list()[0]\n",
    "    list_level = data_cleaned['LEVEL'][index].to_list()[0]\n",
    "    print(list_skills)\n",
    "    \n",
    "    return pd.DataFrame({'skills': pd.Series(list_skills), \n",
    "                         'knowledge': pd.Series(list_knowledge),\n",
    "                         'level': pd.Series(list_knowledge,\n",
    "                         'min_exp': pd.Series(list_knowledge))})"
   ]
  },
  {
   "cell_type": "code",
   "execution_count": 173,
   "id": "229fdbf4",
   "metadata": {},
   "outputs": [
    {
     "name": "stdout",
     "output_type": "stream",
     "text": [
      "['English', 'German']\n"
     ]
    },
    {
     "data": {
      "text/html": [
       "<div>\n",
       "<style scoped>\n",
       "    .dataframe tbody tr th:only-of-type {\n",
       "        vertical-align: middle;\n",
       "    }\n",
       "\n",
       "    .dataframe tbody tr th {\n",
       "        vertical-align: top;\n",
       "    }\n",
       "\n",
       "    .dataframe thead th {\n",
       "        text-align: right;\n",
       "    }\n",
       "</style>\n",
       "<table border=\"1\" class=\"dataframe\">\n",
       "  <thead>\n",
       "    <tr style=\"text-align: right;\">\n",
       "      <th></th>\n",
       "      <th>skills</th>\n",
       "      <th>knowledge</th>\n",
       "    </tr>\n",
       "  </thead>\n",
       "  <tbody>\n",
       "    <tr>\n",
       "      <th>0</th>\n",
       "      <td>English</td>\n",
       "      <td>physics</td>\n",
       "    </tr>\n",
       "    <tr>\n",
       "      <th>1</th>\n",
       "      <td>German</td>\n",
       "      <td>NaN</td>\n",
       "    </tr>\n",
       "  </tbody>\n",
       "</table>\n",
       "</div>"
      ],
      "text/plain": [
       "    skills knowledge\n",
       "0  English   physics\n",
       "1   German       NaN"
      ]
     },
     "execution_count": 173,
     "metadata": {},
     "output_type": "execute_result"
    }
   ],
   "source": [
    "print_final_table('Accelerator Physicist id54315', data_cleaned)"
   ]
  },
  {
   "cell_type": "code",
   "execution_count": 183,
   "id": "85f4dd70",
   "metadata": {},
   "outputs": [],
   "source": [
    "# sums = []\n",
    "# for index, row in enumerate(data_cleaned['SKILL'] + data_cleaned['KNOWLEDGE'] + data_cleaned['MIN_EXP'] + data_cleaned['LEVEL']):\n",
    "#     sums.append(len((data_cleaned['SKILL'] + data_cleaned['KNOWLEDGE'] + data_cleaned['MIN_EXP'] + data_cleaned['LEVEL'][index])))\n",
    "#     \n",
    "# data_cleaned['number_entities'] = sums"
   ]
  },
  {
   "cell_type": "code",
   "execution_count": null,
   "id": "bca35493",
   "metadata": {},
   "outputs": [],
   "source": []
  }
 ],
 "metadata": {
  "kernelspec": {
   "display_name": "Python 3 (ipykernel)",
   "language": "python",
   "name": "python3"
  },
  "language_info": {
   "codemirror_mode": {
    "name": "ipython",
    "version": 3
   },
   "file_extension": ".py",
   "mimetype": "text/x-python",
   "name": "python",
   "nbconvert_exporter": "python",
   "pygments_lexer": "ipython3",
   "version": "3.8.12"
  },
  "toc": {
   "base_numbering": 1,
   "nav_menu": {},
   "number_sections": true,
   "sideBar": true,
   "skip_h1_title": false,
   "title_cell": "Table of Contents",
   "title_sidebar": "Contents",
   "toc_cell": false,
   "toc_position": {},
   "toc_section_display": true,
   "toc_window_display": false
  }
 },
 "nbformat": 4,
 "nbformat_minor": 5
}
